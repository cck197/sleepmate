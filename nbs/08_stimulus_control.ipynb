{
 "cells": [
  {
   "cell_type": "code",
   "execution_count": 1,
   "id": "15f2072b-70e3-48c7-b98f-b63f6fdc6197",
   "metadata": {
    "scrolled": true
   },
   "outputs": [],
   "source": [
    "from sleepmate.agent import *"
   ]
  },
  {
   "cell_type": "code",
   "execution_count": 2,
   "id": "8a7cb41d-4290-4297-bba9-e65597b4e14e",
   "metadata": {},
   "outputs": [],
   "source": [
    "!rm -f /Users/cck197/Downloads/virtual_greg/memory.pkl"
   ]
  },
  {
   "cell_type": "code",
   "execution_count": 3,
   "id": "fd922865-e285-47a0-a84d-237e8d96c4a5",
   "metadata": {},
   "outputs": [
    {
     "name": "stdout",
     "output_type": "stream",
     "text": [
      "X() len(self.tools)=30\n"
     ]
    },
    {
     "data": {
      "text/markdown": [
       "Hello, Chris! It's good to see you. How are you feeling today?"
      ],
      "text/plain": [
       "<IPython.core.display.Markdown object>"
      ]
     },
     "metadata": {},
     "output_type": "display_data"
    }
   ],
   "source": [
    "x = X(goal=\"stimulus_control\", hello=\"hey\")"
   ]
  },
  {
   "cell_type": "code",
   "execution_count": 4,
   "id": "fe51e823-bfad-4f4f-bb65-74d7b8e685d9",
   "metadata": {},
   "outputs": [
    {
     "name": "stdout",
     "output_type": "stream",
     "text": [
      "_to_args_and_kwargs self.name='get_open_question' all_args=['not bad']\n"
     ]
    },
    {
     "data": {
      "text/markdown": [
       "That's good to hear, Chris! Now, let's dive right in, shall we? Other than sleep, what activities do you usually engage in while in bed?"
      ],
      "text/plain": [
       "<IPython.core.display.Markdown object>"
      ]
     },
     "metadata": {},
     "output_type": "display_data"
    }
   ],
   "source": [
    "x(\"not bad\");"
   ]
  },
  {
   "cell_type": "code",
   "execution_count": 5,
   "id": "3776a3c6-c8b6-4c07-bada-b3f5d468ee55",
   "metadata": {},
   "outputs": [
    {
     "data": {
      "text/markdown": [
       "Ah, the classic bed-time literature and a bit of mindfulness, I see. Would you be open to hearing about Stimulus Control Therapy as described by Richard R. Bootzin? It might help improve your sleep quality."
      ],
      "text/plain": [
       "<IPython.core.display.Markdown object>"
      ]
     },
     "metadata": {},
     "output_type": "display_data"
    }
   ],
   "source": [
    "x(\"reading, meditating\");"
   ]
  },
  {
   "cell_type": "code",
   "execution_count": 6,
   "id": "bbedb5e8-4bc0-4254-a9d4-01f7e44915cd",
   "metadata": {},
   "outputs": [
    {
     "data": {
      "text/markdown": [
       "Splendid! Stimulus Control Therapy is a behavioural treatment for insomnia. The idea is to associate the bed and bedroom with sleep and nothing else. Here's a quick summary:\n",
       "\n",
       "1. Only go to bed when you're sleepy.\n",
       "2. Use the bed and bedroom for sleep and sex only, no other activities.\n",
       "3. If you can't sleep, get out of bed.\n",
       "4. Wake up at the same time every day, regardless of how much sleep you got.\n",
       "5. Avoid daytime napping.\n",
       "\n",
       "The rationale behind this therapy is to break the association between being in bed and being awake. By restricting activities in bed, your brain will start associating bed with sleep, making it easier to fall asleep and stay asleep.\n",
       "\n",
       "Would you be willing to give this a try, Chris?"
      ],
      "text/plain": [
       "<IPython.core.display.Markdown object>"
      ]
     },
     "metadata": {},
     "output_type": "display_data"
    }
   ],
   "source": [
    "x(\"sure\");"
   ]
  },
  {
   "cell_type": "code",
   "execution_count": 7,
   "id": "84c90738-a63b-488d-8738-d8eefe310fae",
   "metadata": {},
   "outputs": [
    {
     "data": {
      "text/markdown": [
       "Brilliant! I'm glad you're open to trying this, Chris. Now, to help you implement Stimulus Control Therapy, we can use the SEEDS exercise later. It's a structured approach to help you establish healthy sleep habits. But remember, like a good British cuppa, it takes time to brew. So, patience is key. Are you ready to embark on this journey towards better sleep?"
      ],
      "text/plain": [
       "<IPython.core.display.Markdown object>"
      ]
     },
     "metadata": {},
     "output_type": "display_data"
    }
   ],
   "source": [
    "x(\"ok\");"
   ]
  },
  {
   "cell_type": "code",
   "execution_count": null,
   "id": "fdfdd301-4bb0-4aaf-8caa-deb25727bf98",
   "metadata": {},
   "outputs": [],
   "source": []
  }
 ],
 "metadata": {
  "kernelspec": {
   "display_name": "Python 3 (ipykernel)",
   "language": "python",
   "name": "python3"
  },
  "language_info": {
   "codemirror_mode": {
    "name": "ipython",
    "version": 3
   },
   "file_extension": ".py",
   "mimetype": "text/x-python",
   "name": "python",
   "nbconvert_exporter": "python",
   "pygments_lexer": "ipython3",
   "version": "3.11.5"
  }
 },
 "nbformat": 4,
 "nbformat_minor": 5
}
