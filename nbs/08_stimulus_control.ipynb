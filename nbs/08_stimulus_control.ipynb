{
 "cells": [
  {
   "cell_type": "code",
   "execution_count": 1,
   "id": "15f2072b-70e3-48c7-b98f-b63f6fdc6197",
   "metadata": {
    "scrolled": true
   },
   "outputs": [],
   "source": [
    "from sleepmate.agent import *"
   ]
  },
  {
   "cell_type": "code",
   "execution_count": 2,
   "id": "8a7cb41d-4290-4297-bba9-e65597b4e14e",
   "metadata": {},
   "outputs": [],
   "source": [
    "!rm -f /Users/cck197/Downloads/virtual_greg/memory.pkl"
   ]
  },
  {
   "cell_type": "code",
   "execution_count": 3,
   "id": "fd922865-e285-47a0-a84d-237e8d96c4a5",
   "metadata": {},
   "outputs": [
    {
     "name": "stdout",
     "output_type": "stream",
     "text": [
      "X() len(self.tools)=32\n",
      "_to_args_and_kwargs self.name='get_greeting' all_args=['Chris']\n"
     ]
    },
    {
     "data": {
      "text/markdown": [
       "Hello, Chris! I hope you're doing well. Now, let's dive right in, shall we? Apart from the usual snoozing, what other activities do you engage in while in bed?"
      ],
      "text/plain": [
       "<IPython.core.display.Markdown object>"
      ]
     },
     "metadata": {},
     "output_type": "display_data"
    }
   ],
   "source": [
    "x = X(goal=\"stimulus_control\", hello=\"hey\")"
   ]
  },
  {
   "cell_type": "code",
   "execution_count": 4,
   "id": "fe51e823-bfad-4f4f-bb65-74d7b8e685d9",
   "metadata": {},
   "outputs": [
    {
     "data": {
      "text/markdown": [
       "That's good to hear, Chris. Now, back to my question, apart from sleeping, what other activities do you engage in while in bed?"
      ],
      "text/plain": [
       "<IPython.core.display.Markdown object>"
      ]
     },
     "metadata": {},
     "output_type": "display_data"
    }
   ],
   "source": [
    "x(\"not bad\");"
   ]
  },
  {
   "cell_type": "code",
   "execution_count": 5,
   "id": "3776a3c6-c8b6-4c07-bada-b3f5d468ee55",
   "metadata": {},
   "outputs": [
    {
     "data": {
      "text/markdown": [
       "Ah, a bit of light reading and meditation, quite the intellectual and spiritual pursuits! Now, would you be open to hearing about Stimulus Control Therapy as described by Richard R. Bootzin? It's a method that might help improve your sleep quality."
      ],
      "text/plain": [
       "<IPython.core.display.Markdown object>"
      ]
     },
     "metadata": {},
     "output_type": "display_data"
    }
   ],
   "source": [
    "x(\"reading, meditating\");"
   ]
  },
  {
   "cell_type": "code",
   "execution_count": 6,
   "id": "bbedb5e8-4bc0-4254-a9d4-01f7e44915cd",
   "metadata": {},
   "outputs": [
    {
     "name": "stdout",
     "output_type": "stream",
     "text": [
      "_to_args_and_kwargs self.name='save_stimulus_control_seen' all_args=['Chris']\n",
      "save_stimulus_control_seen entry={'date': datetime.datetime(2023, 10, 21, 8, 53, 43, 924038)}\n"
     ]
    },
    {
     "data": {
      "text/markdown": [
       "Fantastic! Stimulus Control Therapy is based on the principle that we can train our brains to associate certain stimuli with specific responses. In this case, the goal is to associate the bed with sleep and only sleep.\n",
       "\n",
       "Here's how you can implement it:\n",
       "\n",
       "1. Only go to bed when you're sleepy.\n",
       "2. Use the bed only for sleep; that means no reading, meditating, or other activities.\n",
       "3. If you can't fall asleep within 20 minutes, get out of bed and do something relaxing until you feel sleepy again.\n",
       "4. Wake up at the same time every day, regardless of how much sleep you got.\n",
       "5. Avoid daytime napping.\n",
       "\n",
       "The idea is to strengthen the association between bed and sleep and to establish a stable sleep pattern. Would you be willing to give it a try, Chris?"
      ],
      "text/plain": [
       "<IPython.core.display.Markdown object>"
      ]
     },
     "metadata": {},
     "output_type": "display_data"
    }
   ],
   "source": [
    "x(\"sure\");"
   ]
  },
  {
   "cell_type": "code",
   "execution_count": 7,
   "id": "84c90738-a63b-488d-8738-d8eefe310fae",
   "metadata": {},
   "outputs": [
    {
     "name": "stdout",
     "output_type": "stream",
     "text": [
      "_to_args_and_kwargs self.name='save_stimulus_control_seen' all_args=['Chris']\n",
      "save_stimulus_control_seen entry={'date': datetime.datetime(2023, 10, 21, 8, 53, 54, 980770)}\n"
     ]
    },
    {
     "data": {
      "text/markdown": [
       "Brilliant, Chris! I'm glad you're open to trying it. Now, to help you implement this, we'll use the SEEDS exercise later. It's a structured approach to help you establish healthy sleep habits. But for now, let's focus on the Stimulus Control Therapy. Remember, it's all about associating your bed with sleep and nothing else. Happy snoozing!"
      ],
      "text/plain": [
       "<IPython.core.display.Markdown object>"
      ]
     },
     "metadata": {},
     "output_type": "display_data"
    }
   ],
   "source": [
    "x(\"ok\");"
   ]
  },
  {
   "cell_type": "code",
   "execution_count": null,
   "id": "fdfdd301-4bb0-4aaf-8caa-deb25727bf98",
   "metadata": {},
   "outputs": [],
   "source": []
  }
 ],
 "metadata": {
  "kernelspec": {
   "display_name": "Python 3 (ipykernel)",
   "language": "python",
   "name": "python3"
  },
  "language_info": {
   "codemirror_mode": {
    "name": "ipython",
    "version": 3
   },
   "file_extension": ".py",
   "mimetype": "text/x-python",
   "name": "python",
   "nbconvert_exporter": "python",
   "pygments_lexer": "ipython3",
   "version": "3.11.5"
  }
 },
 "nbformat": 4,
 "nbformat_minor": 5
}
