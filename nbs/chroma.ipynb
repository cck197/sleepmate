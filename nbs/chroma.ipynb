{
 "cells": [
  {
   "cell_type": "code",
   "execution_count": 1,
   "id": "ca38c260-1b88-4f7a-8bab-f61af8cb14fc",
   "metadata": {},
   "outputs": [],
   "source": [
    "from langchain.embeddings import OpenAIEmbeddings\n",
    "from langchain.schema import Document\n",
    "from langchain.vectorstores import Chroma"
   ]
  },
  {
   "cell_type": "code",
   "execution_count": 2,
   "id": "b2829d44-b0a2-427c-b66b-d51ccd1283b5",
   "metadata": {},
   "outputs": [],
   "source": [
    "from sleepmate.executor import *"
   ]
  },
  {
   "cell_type": "code",
   "execution_count": 3,
   "id": "28c8725a-a664-4e68-bf0d-9bfe9bd3acca",
   "metadata": {},
   "outputs": [],
   "source": [
    "username = \"test\""
   ]
  },
  {
   "cell_type": "code",
   "execution_count": 4,
   "id": "16c9b44b-d2d9-42fb-93c0-6495a4f553fd",
   "metadata": {},
   "outputs": [],
   "source": [
    "x = X(username=username, hello=None)"
   ]
  },
  {
   "cell_type": "code",
   "execution_count": 5,
   "id": "271d11b0-f096-4c6d-9b23-e2d129d86a91",
   "metadata": {},
   "outputs": [
    {
     "data": {
      "text/plain": [
       "dict_keys(['insomnia_severity_index', 'diary_entry_retrieval', 'diary_entry', 'all_for_now', 'meet', 'stimulus_control', 'stress_audit', 'stop_bang', 'open_focus', 'leaves_on_a_stream', 'valued_living', 'bmi', 'woop', 'seeds_probe', 'seeds_entry', 'knowledge', 'daily_routine', 'health_history'])"
      ]
     },
     "execution_count": 5,
     "metadata": {},
     "output_type": "execute_result"
    }
   ],
   "source": [
    "x.goals[\"GOALS\"].keys()"
   ]
  },
  {
   "cell_type": "code",
   "execution_count": 6,
   "id": "7f3ad82a-6bfc-4189-acd9-b027ddd8703c",
   "metadata": {},
   "outputs": [],
   "source": [
    "docs = [\n",
    "    Document(\n",
    "        page_content=val,\n",
    "        metadata={\"goal\": key},\n",
    "    ) for (key, val) in x.goals[\"GOALS\"].items()]"
   ]
  },
  {
   "cell_type": "code",
   "execution_count": 7,
   "id": "33cebee8-8e7d-4479-9e2c-b543f15da60f",
   "metadata": {},
   "outputs": [],
   "source": [
    "vectorstore = Chroma.from_documents(docs, OpenAIEmbeddings())"
   ]
  },
  {
   "cell_type": "code",
   "execution_count": 8,
   "id": "7da5107c-2200-421d-a184-939c871fd7fa",
   "metadata": {
    "scrolled": true
   },
   "outputs": [
    {
     "data": {
      "text/plain": [
       "[Document(page_content=\"\\n        Your goal is to survey the human for their Insomnia Severity Index (ISI)\\n        using the standard 7-item questionnaire, but don't ask until you've\\n        asked an open question, and the human has confirmed the accuracy of at\\n        least one listening statement. Ask if now would be a good time then the\\n        following questions. Don't ask more than one question at time.\\n        \\n        0. Date of entry (get today's date and make that the default)\\n        1. Difficulty falling asleep.\\n        2. Difficulty staying asleep.\\n        3. Problems waking up too early.\\n        4. How satisfied/dissatisfied are you with your current sleep pattern?\\n        5. How noticeable to others do you think your sleep problem is in terms\\n           of impairing the quality of your life?\\n        6. How worried/distressed are you about your current sleep problem?\\n        7. To what extent do you consider your sleep problem to interfere with\\n        your daily functioning (e.g., daytime fatigue, ability to function at\\n        work/daily chores, concentration, memory, mood, etc.)?\\n        \\n        Be sure to ask the questions with their corresponding labels as shown\\n        below.\\n        \\n        Questions 1-3 are rated on a 5-point scale from 0 to 4:\\n        0: None\\n        1: Mild\\n        2: Moderate\\n        3: Severe\\n        4: Very severe\\n\\n        Question 4 is rated on a 5-point scale from 0 to 4:\\n        0: Very satisfied\\n        1: Satisfied\\n        2: Moderately satisfied\\n        3: Dissatisfied\\n        4: Very dissatisfied\\n\\n        Questions 5-7 are rated on a 5-point scale from 0 to 4:\\n        0: Not at all\\n        1: A little bit\\n        2: Moderately\\n        3: Quite a bit\\n        4: Very much\\n\\n        When you've got the answer to all seven questions, summarise including\\n        the date and ask if they're correct.\\n        \\n        Add them up and report the total, which should be\\n        between 0 and 28. Add the following interpretation:\\n        0-7: No clinically significant insomnia\\n        8-14: Subthreshold insomnia\\n        15-21: Clinical insomnia (moderate severity)\\n        22-28: Clinical insomnia (severe)\\n\\n        Only once the human has confirmed correctness, save the ISI entry to the\\n        database.\\n        \", metadata={'goal': 'insomnia_severity_index'}),\n",
       " Document(page_content='\\n        Your goal is to summarise a sleep diary entry for a given date as a\\n        bullet list. Convert ISO 8601 strings to a human readable format.  After\\n        the list, \\nVery important! Include sleep sleep duration in hours and minutes and efficiency\\nas a percentage.\\n\\nSleep efficiency is the percentage of time spent asleep while in bed. To give\\nthe human a rough sense of how their sleep efficiency compares, tell them\\nanything over 85%% is considered normal.\\n\\n        ', metadata={'goal': 'diary_entry_retrieval'}),\n",
       " Document(page_content='\\n        Your goal is to record a sleep diary entry for a given night. First ask\\n        if now is a good time to record a diary entry. Once they confirm by\\n        saying something like \"k\", \"okay\", \"ok\", \"yes\", \"y\", \"sure\", \"yeah\", \"yep\", \"ready\", Then guide them through\\n        the following questions one at a time.  Don\\'t give all the questions at\\n        once.  Wait for them to answer each question.\\n        \\n        - Date of entry (ask to confirm default of yesterday\\'s date)\\n        - Time you went to bed \\n        - Time you tried to fall asleep\\n        - How long it took you to fall asleep (in minutes)\\n        - How many times you woke up during the night (number)\\n          - If zero then skip the next question, the answer is zero\\n        - Total time you were awake during the night (in minutes)\\n        - Final wake up time\\n        - Time you got out of bed\\n        - Sleep quality, one of the following: \"very good\", \"good\", \"okay\",\\n           \"bad\", \"very bad\"\\n        - Any medications or aids you used to help you sleep\\n        - Any other notes you\\'d like to add\\n        - Summarise the results in a bullet list and ask if they\\'re correct\\n        \\n        Only once the human has confirmed correctness, save the diary entry to\\n        the database.\\n        \\n        Finally, retrieve the entry from the database and\\n        summarise.  \\nVery important! Include sleep sleep duration in hours and minutes and efficiency\\nas a percentage.\\n\\nSleep efficiency is the percentage of time spent asleep while in bed. To give\\nthe human a rough sense of how their sleep efficiency compares, tell them\\nanything over 85%% is considered normal.\\n\\n    ', metadata={'goal': 'diary_entry'}),\n",
       " Document(page_content=\"Say the following delimited by triple backticks (but\\n        don't include the backticks in your output): ```That's all I have for\\n        now. Let me know if you have any questions, I'm happy to help.\\n        Otherwise, I'll reach out to check in with you later.```\", metadata={'goal': 'all_for_now'}),\n",
       " Document(page_content='\\n        Greet the human then ask the following questions:\\n        - What is your name?\\n        - What is your email address? (so that we can be in contact offline)\\n        - Confirm that the name and email address are correct.\\n         \\n        Only once they confirm by saying something like\\n        \"k\", \"okay\", \"ok\", \"yes\", \"y\", \"sure\", \"yeah\", \"yep\", \"ready\", save their details to the database.', metadata={'goal': 'meet'}),\n",
       " Document(page_content=\"\\n        Your goal is to ask the human what they do in bed other than sleep.\\n        \\n        Only if they say they do anything other than sleep, ask them if they're\\n        open to hearing about Stimulus Control Therapy as described by Richard\\n        R. Bootzin.\\n        \\n        Summarise the rationale for the therapy and the instructions for\\n        implementing it. Ask them if they're willing to try it.\\n\\n        Always record a record of them having seen Stimulus Control Therapy in\\n        the database.\\n        \\n        If they agree to try it, explain you'll help them get it done using the\\n        SEEDS exercise later.\\n        \", metadata={'goal': 'stimulus_control'}),\n",
       " Document(page_content='\\n        Your goal is to help the human conduct a stress audit. created by Simon\\n        Marshall, PhD. Summarise the exercise described below.\\n\\n        Coping is the purposeful ability to manage SENSATIONS, PERCEPTIONS,\\n        EMOTIONS, THOUGHTS & ACTIONS in response to your body\\'s hard-wired\\n        neurochemical pathways (the \"stress response\") to DEMANDS placed on it.\\n\\n        Resilience is the ability to cope positively (\"adaptively\") and\\n        consistently, regardless of the severity of the stress response.\\n\\n        The Stress Audit is a tool to help you identify what you are currently\\n        doing when you\\'re feeling stressed. List as many behaviours as you can.\\n        Once you\\'re done we\\'ll categorise them into the following categories:\\n        \\n        - Problem or solution-focused coping (behaviours that reduce the\\n        stressor itself)\\n        - Emotion-focused coping (behaviours that reduce the emotional impact of\\n        the stressor)\\n\\n        We can further categorise these behaviours into the following categories:\\n        - Adaptive (behaviours that are helpful)\\n        - Maladaptive (behaviours that are unhelpful)\\n        \\n        Examples (E=Emotion-focused, P=Problem-focused, A=Adaptive, M=Maladaptive):\\n        - Working longer, working harder (esp. doing more research to feel\\n        prepared) (P, A)\\n        - Diarizing (also for time management) (P, A)\\n        - Drink more coffee (E, M) (P, M)\\n        - Tinkering - getting very detail oriented. (E, M) (P, M)\\n        - Exercising (e.g. Swimming, Biking, Running) (E, A) (P, A)\\n        - Asking for help/seeking assistance (P, A)\\n        - Seeking out information, education (P, A)\\n        - Using logic to avoid over exaggerating stressor (P, A)\\n        - Problem solving and selecting solutions (P, A)\\n        - Prioritizing and Segmenting (P, A)\\n        - Identifying controllable actions (P, A)\\n        - Assertiveness and communication skills (P, A)\\n        - Moaning, complaining, talking out loud. (esp. Brooding - taking on\\n        more but them complaining how unfair it is) (E, M)\\n        - Cleaning, Tidying (E, A)\\n        - Buying things on Amazon, mostly functional/easily justifiable (E, M) (E, A) \\n        - Procrastinating (e.g., false prioritizing) (E, M)\\n        - Listening to rain on Spotify or YouTube (E, A)\\n        - Chimp purging (E, A)\\n        - Watching TV, especially the Olympic Channel (E, M)\\n        - Watching YouTube videos/TikTok (E, M)\\n        - Reading the news (BBC app, NYT) (E, M)\\n        - Drinking alcohol (E, M)\\n        - Eating simple carbohydrates (E, M)\\n        - Socializing with friends (E, A)\\n        - Having sex or masturbating (E, A)\\n        - Taking THC (E, A)\\n        - Playing the piano (E, A)\\n        - Going down Facebook/Twitter/YouTube rabbit holes (E, M)\\n        - Using humor and jokes (E, A)\\n        - Physiologic Sigh Breathing (E, A)\\n        - Progress Muscle Relaxation (E, A)\\n\\n        As you can see from the examples, some behaviours can be both problem\\n        and emotion-focused.\\n\\n        Once you\\'ve written down as many behaviours as you can, categorise them\\n        as either problem or emotion focused, and adaptive or maladaptive. What\\n        most people find is that there\\'s an imbalance in the list, where people\\n        tend to over rely on one of the two categories. Often, women tend more\\n        towards emotion-based coping and men problem-based. Or as women often\\n        say, and men don\\'t understand, \"I don\\'t need you to fix my problems, I\\n        just want you to listen to them.\"\\n\\n        Resilient humans, those who perform well consistently tend to have a\\n        balanced list. They make use of BOTH problem and emotion-focused coping\\n        behaviours. They also tend to have more adaptive behaviours than\\n        maladaptive.\\n\\n        Explain the purpose of the exercise, and walk the human through it, step\\n        by step. Once they are done listing stress-coping behaviours, categorise\\n        and summarise them. Ask if they\\'re correct.\\n\\n        If there\\'s an imbalance in the list, ask if they can think of anything\\n        that might help balance the list. Give examples. \\n        \\n        Only after they\\'ve confirmed, save the Stress Audit to the database.\\n\\n        Explain you can help them try some new stress coping behaviours using\\n        the SEEDS exercise later.\\n        ', metadata={'goal': 'stress_audit'}),\n",
       " Document(page_content='\\n        Your goal is to complete the STOP-Bang Questionnaire.\\n        \\n        Low risk of OSA (Obstructive Sleep Apnoea): 0-2 points\\n        Intermediate risk of OSA: 3-4 points\\n        High risk of OSA: 5-8 points\\n            or Yes to 2 or more of 4 STOP questions + male\\n            or Yes to 2 or more of 4 STOP questions + BMI > 35 kg/m2\\n            or Yes to 2 or more of 4 STOP questions + neck circumference\\n            (17”/43cm in male, 16”/41cm in female)\\n\\n        Steps:\\n        - Ask if now is a good time to complete the STOP-Bang Questionnaire.\\n        - Get the Health History database entry\\n        - Calculate the age in years\\n        - Calculate the BMI\\n        - Summarise the sex, age, height, weight, medical conditions and BMI\\n        - Ask the following questions:\\n            - (S) Do you snore loudly (louder than talking or loud enough to be heard\\n            through closed doors)?\\n            - (T) Do you often feel tired, fatigued, or sleepy during daytime?\\n            - (O) Has anyone observed you stop breathing during your sleep?\\n        - Summarise from the Health History and BMI:\\n            - (P) High blood pressure if hypertension or high blood pressure in\\n            medical_conditions\\n            - (B) BMI > 35 kg/m2\\n            - (A) Calculated age > 50 years (think step by step)\\n        - Ask:\\n            - (N) What is your neck circumference (convert to cm if necessary)?\\n        - Summarise from the Health History:\\n            - (G) Gender male\\n        - Calculate the STOP-Bang score (think step by step)\\n        - Summarise the STOP-Bang entry in order\\n        - Explain the risk\\n        - Important! Save the StopBang entry to the database\\n        ', metadata={'goal': 'stop_bang'}),\n",
       " Document(page_content='Your goal is to help the human perform the \"open focus\" exercise.\\nExplain changing thoughts in a given direction means taking their content\\nseriously. You have to notice them and evaluate them to try to change them,\\nwhich may strengthen their hold over your mind and wake you up.\\nIt is helpful to broaden your focus rather than changing the content of\\n        your thoughts. Explain that the open focus exercise is a way to do this.\\nAsk if now is a good time to perform the exercise. Note the irony of using a\\ndigital device for this purpose, mentioning that this system has built-in\\nobsolescence. Once they confirm by saying something like\\n\"k\", \"okay\", \"ok\", \"yes\", \"y\", \"sure\", \"yeah\", \"yep\", \"ready\", guide them through one step at a time.  Don\\'t give all\\nthe steps at once. Wait for them to complete each step. When the human completed\\nthe exercise, ask how they\\'re feeling. Summarise with the following fields:\\n\\n- name of the exercise\\n- how the human was feeling before and after the exercise\\n\\nFinally, after the summary, save the record of exercise to the database.\\n', metadata={'goal': 'open_focus'}),\n",
       " Document(page_content='Your goal is to help the human perform the \"leaves on a stream\"\\n        exercise.\\nExplain changing thoughts in a given direction means taking their content\\nseriously. You have to notice them and evaluate them to try to change them,\\nwhich may strengthen their hold over your mind and wake you up.\\nDefusion helps us use our minds in a more open, aware, and values-based\\n        way. It helps us turn off our compulsive problem-solving for a while. It\\n        opens the door to our power to change, allowing us to acknowledge our\\n        unhelpful thoughts while charting a course beyond them. Explain that the\\n        leaves on a stream exercise is a way to do this.\\nAsk if now is a good time to perform the exercise. Note the irony of using a\\ndigital device for this purpose, mentioning that this system has built-in\\nobsolescence. Once they confirm by saying something like\\n\"k\", \"okay\", \"ok\", \"yes\", \"y\", \"sure\", \"yeah\", \"yep\", \"ready\", guide them through one step at a time.  Don\\'t give all\\nthe steps at once. Wait for them to complete each step. When the human completed\\nthe exercise, ask how they\\'re feeling. Summarise with the following fields:\\n\\n- name of the exercise\\n- how the human was feeling before and after the exercise\\n\\nFinally, after the summary, save the record of exercise to the database.\\n', metadata={'goal': 'leaves_on_a_stream'}),\n",
       " Document(page_content='\\n        Your goal is to survey the human using the \"Valued Living Questionnaire\\n        (VLQ)\". First ask if now is a good time to do the survey. Then guide them\\n        through the following questions one at a time. Don\\'t give all the questions\\n        at once.  Wait for them to answer each question. Explain that it\\'s is best\\n        to plan not to let anyone see this so you can answer as honestly as\\n        possible, setting aside as best you can social pressures and the wagging\\n        mental fingers of should and have to. This is between you and you.\\n        \\n        1. family relations (other than marriage or parent)\\n        2. marriage/couples/intimate relations\\n        3. being a parent\\n        4. friendships/social relations\\n        5. work\\n        6. education/personal growth and development\\n        7. recreation/leisure\\n        8. spirituality/religion\\n        9. citizenship/community life\\n        10. physical self-care (e.g., exercise, diet, sleep)\\n        11. environmental issues (e.g., pollution, conservation)\\n        12. art, creative expression, aesthetics\\n\\n        For each question, For each domain, ask the human to rate:\\n        a) The importance of that domain to them.\\n        b) How consistently they have lived in accordance with their values in that\\n        domain over the past week.\\n\\n        Summarise the results in a bullet list and ask if they\\'re correct.\\n\\n        Explain there are a number of ways to assess the results. The first is to\\n        look at all domains that have relatively high importance scores (a score of\\n        9 or 10) and also have relatively low consistency scores (6 or less). These\\n        are clear problem areas, and I suggest doing your initial values work with\\n        any one of them. Then you can move on to other areas.\\n\\n        Also calculate the human\\'s overall score. Multiply the two numbers from the\\n        first and second parts for each domain. So if for family, in the first part\\n        you scored it as 10 and in the second part you circled 4, for that domain\\n        you\\'d get 40. Add all of those numbers and then divide them by 12 to get\\n        your composite score. Let the human know that to get a rough sense of how\\n        their score compares to those of the broad public, the average composite\\n        result is 61.\\n\\n        Tell the human that this is a discovery process, not a critique, and after\\n        all, they\\'ve embarked on this journey and they should give themselves some\\n        credit for that.  They\\'re here to embrace change.\\n        \\n        Only after they\\'ve confirmed, save the VLQ diary entry to the database.\\n        ', metadata={'goal': 'valued_living'}),\n",
       " Document(page_content=\"\\n        Your goal is to calculate the human's BMI. Ask the following questions:\\n        - What is your height?\\n        - What is your weight?\\n\\n        Steps:\\n        - Convert the height to metres\\n        - Convert the weight to kilograms\\n        - Calculate the BMI using the formula: weight / (height * height)\\n        - Save the BMI to the database\\n        - Return the BMI to the human (normal BMI is between 20 and 25)\\n        \", metadata={'goal': 'bmi'}),\n",
       " Document(page_content=\"\\n        Your goal is to help the human perform the WOOP exercise by Gabriel\\n        Oettingen. The exercise is described below surrounded by triple\\n        backticks. Walk the human through the exercise step by step.\\n        \\n        ```\\n        WOOP takes only five to ten minutes of uninterrupted time.\\n\\n        Take a quiet moment and make yourself comfortable.\\n\\n        The next minutes just belong to you.\\n\\n        Questions:\\n        - What is the time frame for fulfilling your wish?\\n        - Think about the next [timeframe]. What is your most important wish or\\n        concern in your health life?  Pick a wish that is challenging for you\\n        but that you can fulfill. Note your wish in 3-6 words.\\n        - What would be the best thing, the best outcome about fulfilling your\\n        wish? How would fulfilling your wish make you feel? Note your best\\n        outcome in 3-6 words.\\n        - Now take a moment and imagine the outcome. Imagine things fully.\\n        - Identify your obstacle. What is it within you that holds you back from\\n        fulfilling your wish? What is it in you that stands in the way of you\\n        fulfilling your wish? What is your main inner obstacle?\\n        - Now take a moment and imagine your obstacle. Imagine things fully.\\n        - Make an if-then plan. What can you do to overcome your obstacle? Name\\n        one action you can take or one thought you can think to overcome your\\n        obstacle.\\n        - Note your if-then plan in 3-6 words. When [obstacle], then I will [if\\n        then plan].\\n        - Slowly repeat the if-then plan to yourself. \\n        ```\\n\\n        Summarise the results in a bullet list:\\n        - Your Wish: [wish]\\n        - Your best Outcome: [outcome]\\n        - Your inner Obstacle: [obstacle]\\n        - Your Plan: [if then plan]\\n        \\n        Ask if they're correct.\\n        \", metadata={'goal': 'woop'}),\n",
       " Document(page_content='\\n        Your goal is to ask the human to do the SEEDS exercise created by Simon\\n        Marshall, PhD. Explain briefly what\\'s involved and then ask if they\\'d\\n        like to know more. Once they confirm by saying something like\\n        \"k\", \"okay\", \"ok\", \"yes\", \"y\", \"sure\", \"yeah\", \"yep\", \"ready\", summarise the exercise using the following:\\n        \\n        The pillars of good health are Sleep, Exercise, Eating, Drinking, and\\n        Stress management (SEEDS). Yes, \"SEEDS\" is cheesy as fuck, but the\\n        metaphor of planting small SEEDS (i.e., behaviors that are good for you)\\n        and watering them every day so they can take root (i.e., become habits\\n        that you don\\'t have to constantly think about them) is consistent with\\n        the science of behavior change and habit formation. So, while the\\n        acronym may be the Celine Dion of behavior change, it WORKS. Besides,\\n        what\\'s life without cheese?\\n\\n        For each of these pillars of good health, think of a tiny thing that you\\n        can do to contribute to it. This is not the place for grandiose,\\n        aspirational intentions (e.g., \"run 5km\" or \"eat no added sugar\" if\\n        you\\'ve never come close this in the past), or the fat-chance outcomes\\n        (e.g., \"get sleep 8 hours per night\" when you\\'re currently getting 5\\n        hrs). In SEEDS, we\\'re focusing on tiny little behaviors that contribute\\n        to good outcomes. The behavioral science is that focusing on SMALL\\n        behaviors builds the correct mindset and contributes to knock-on effects\\n        on other changes in that Pillar.  In short, progress begets progress.\\n        So, a good way to think about each SEED is that your reaction to it\\n        should be \"shit, even I could do that,\" not \"urgh, I mean, I\\'ll give it\\n        a go but don\\'t hold your breath.\"\\n\\n        Simon likes to use three SEEDS per pillar, for a total of 15 teeny-weeny\\n        daily habits. If that sounds like A LOT to you, he recommends you\\n        prioritize them.  The top line is what you\\'ll start with. Once you\\'ve\\n        done these consistently, add the second line, and so on. Regardless, try\\n        to first WRITE IN all fifteen in this exercise.\\n\\n        You\\'ll see that this also gives us a way to way to measure progress and\\n        consistency. Later we\\'ll ask what you got done and give you a score\\n        (/15) for how many you managed to do that day. The importance of the\\n        score will become more evident when we progress to Phase 2 of our Celine\\n        Dion exercise, the veritable Kenny G of stress management mojo - a\\n        Traffic Light system to avoid catastrophizing, awfulizing, and\\n        why-can\\'t-I-do this-izing, when life gets in the way (because it will).\\n        We need to give ourselves permission to occasionally suck at adulting.\\n\\n        Before collecting SEEDS from the human, give some examples:\\n        - Be in bed by 9.30 pm.\\n        - Go to bed *only* when sleepy.\\n        - Set an alarm and get up at the same time every day.\\n        - Go for 2 min walk when you feel the need for a nap.\\n        - Turn off my cell phone by 8 pm.\\n        - Walk outside for 10 ten minutes before 9:30 am.\\n        - Do 10 push-ups while the coffee is brewing.\\n        - Eat one meal with chopsticks (to slow down eating).\\n        - Eat 50g of protein with every meal.\\n        - Don\\'t drink out of anything plastic.\\n        - Drink fizzy water from 6-8 pm (for booze cravings).\\n        - Write down three tiny things I\\'ve been grateful for today.\\n        - No caffeine after 12 pm.\\n        - Do the \"leaves on a stream\" or \"open focus\" exercises (for stress).\\n        - ...you get the idea.\\n\\n        Collect the SEEDS from the human one category at a time. \\n\\n        Once you have all the SEEDS defined, STOP! Summarise the results\\n        in a bullet list and ask if they\\'re correct.\\n\\n        Only once the human has confirmed correctness, save the SEEDS to\\n        the database.\\n        \\n        Finally, retrieve the entry from the database and\\n        summarise\\n        ', metadata={'goal': 'seeds_probe'}),\n",
       " Document(page_content=\"\\n        Your goal is to help the human record a SEEDS diary entry.\\n\\n        Steps: \\n        - Ask if now is a good time to record a SEEDS diary entry\\n        - Get their predefined SEEDS from the database and summarise all the\\n        predefined tasks in a bullet list\\n        - Date of entry (ask to confirm default of yesterday's date)\\n        - Ask what they got done today\\n        - Summarise all the tasks in a bullet list and ask if correct\\n        - Save the SEEDS diary entry to the database\\n        - Get N, the total number of tasks completed in the SEEDS diary entry\\n        - Give them a score N out of 15\\n        \", metadata={'goal': 'seeds_entry'}),\n",
       " Document(page_content='\\n        Your goal is to answer any questions the human has about health,\\n        wellness and performance.\\n        ', metadata={'goal': 'knowledge'}),\n",
       " Document(page_content='\\n        Your goal is to help the human identify a daily routine that will help\\n        them sleep better. Ask them if they\\'re open to hearing about a daily\\n        routine. Once they confirm by saying something like\\n        \"k\", \"okay\", \"ok\", \"yes\", \"y\", \"sure\", \"yeah\", \"yep\", \"ready\", record a record of them having seen the\\n        routine then run the get_knowledge_answer tool with the query `daily\\n        routine`. Finish by telling them not to worry about making any changes\\n        yet. We\\'ll get to that later.', metadata={'goal': 'daily_routine'}),\n",
       " Document(page_content=\"\\n        Your goal is to survey the human for their Health History using the 19\\n        point questionnaire below, but don't ask until you've asked an open\\n        question, and the human has confirmed the accuracy of at least one\\n        listening statement. Ask if now would be a good time then the following\\n        questions. Ask one question at a time. There's no need to confirm the\\n        answers until the end.\\n        \\n        0. Date of entry (default to today's date)\\n        3. Sex\\n        4. Date of birth\\n        5. Current Occupation\\n        6. Typical work hours\\n        7. Smoking\\n        8. Alcohol\\n        9. Physical Activity Level\\n        10. What does a typical day of eating look like?\\n        9. Any existing medical conditions (diabetes, hypertension, etc.)\\n        10. List of current medications\\n        11. Family history of insomnia or other sleep disorders\\n        12. History of mental health conditions (depression, anxiety, etc.)\\n        13. Any current psychological treatment\\n        14. Living with (Alone, Family, Friends)\\n        15. Type of residence (House, Apartment, etc.)\\n        16. Noise Level in the living area\\n        17. What does success look like?\\n        18. What have you tried previously that helped?\\n        19. What have you tried previously that didn't help?\\n        20. Anything else you'd like to add?\\n\\n        Once you have ALL the answers to the above, save the Health History to\\n        the database. Retrieve the last Health History entry from the database\\n        and summarise it to the human.\\n        \", metadata={'goal': 'health_history'})]"
      ]
     },
     "execution_count": 8,
     "metadata": {},
     "output_type": "execute_result"
    }
   ],
   "source": [
    "docs"
   ]
  },
  {
   "cell_type": "code",
   "execution_count": 23,
   "id": "075b8740-c930-4626-bcec-69506a572821",
   "metadata": {},
   "outputs": [],
   "source": [
    "results = vectorstore.similarity_search_with_relevance_scores(\"seeds diary entry\")"
   ]
  },
  {
   "cell_type": "code",
   "execution_count": 25,
   "id": "94ea27ff-807e-46a4-90bc-639848074877",
   "metadata": {},
   "outputs": [
    {
     "data": {
      "text/plain": [
       "{'goal': 'seeds_entry'}"
      ]
     },
     "execution_count": 25,
     "metadata": {},
     "output_type": "execute_result"
    }
   ],
   "source": [
    "results[0][0].metadata"
   ]
  },
  {
   "cell_type": "code",
   "execution_count": 26,
   "id": "3a9a6e5b-4781-4694-9cb9-43706521d5b6",
   "metadata": {},
   "outputs": [
    {
     "data": {
      "text/plain": [
       "[({'goal': 'seeds_entry'}, 0.7242924708090752),\n",
       " ({'goal': 'seeds_probe'}, 0.7172934808516591),\n",
       " ({'goal': 'open_focus'}, 0.6394111202784998),\n",
       " ({'goal': 'leaves_on_a_stream'}, 0.6346297710491814)]"
      ]
     },
     "execution_count": 26,
     "metadata": {},
     "output_type": "execute_result"
    }
   ],
   "source": [
    "[(doc.metadata, score) for doc, score in results]"
   ]
  },
  {
   "cell_type": "code",
   "execution_count": 27,
   "id": "c83590d0-b9b7-4a59-8513-53901171eeed",
   "metadata": {},
   "outputs": [],
   "source": [
    "results = vectorstore.similarity_search(\"seeds diary entry\")"
   ]
  },
  {
   "cell_type": "code",
   "execution_count": 28,
   "id": "9a9989c9-0084-48fa-b1b8-c185845ddc01",
   "metadata": {},
   "outputs": [
    {
     "data": {
      "text/plain": [
       "[{'goal': 'seeds_entry'},\n",
       " {'goal': 'seeds_probe'},\n",
       " {'goal': 'open_focus'},\n",
       " {'goal': 'leaves_on_a_stream'}]"
      ]
     },
     "execution_count": 28,
     "metadata": {},
     "output_type": "execute_result"
    }
   ],
   "source": [
    "[doc.metadata for doc in results]"
   ]
  },
  {
   "cell_type": "code",
   "execution_count": null,
   "id": "9b9dedac-0d03-4bbe-813b-603f3226e938",
   "metadata": {},
   "outputs": [],
   "source": []
  }
 ],
 "metadata": {
  "kernelspec": {
   "display_name": "Python 3 (ipykernel)",
   "language": "python",
   "name": "python3"
  },
  "language_info": {
   "codemirror_mode": {
    "name": "ipython",
    "version": 3
   },
   "file_extension": ".py",
   "mimetype": "text/x-python",
   "name": "python",
   "nbconvert_exporter": "python",
   "pygments_lexer": "ipython3",
   "version": "3.11.5"
  }
 },
 "nbformat": 4,
 "nbformat_minor": 5
}
