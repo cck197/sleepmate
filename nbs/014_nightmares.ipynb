{
 "cells": [
  {
   "cell_type": "code",
   "execution_count": 1,
   "id": "9ff4f058-0220-45c3-9e5c-f69176f5c143",
   "metadata": {},
   "outputs": [],
   "source": [
    "from sleepmate.executor import *"
   ]
  },
  {
   "cell_type": "code",
   "execution_count": 2,
   "id": "9d80c2e3-3e16-4e67-b1b8-8ce10e93541a",
   "metadata": {},
   "outputs": [],
   "source": [
    "username = \"test\""
   ]
  },
  {
   "cell_type": "code",
   "execution_count": 3,
   "id": "25cfec8a-a5d4-4ae4-9ecd-2a683c7ecbb8",
   "metadata": {},
   "outputs": [],
   "source": [
    "db_user = get_user_from_username(username)"
   ]
  },
  {
   "cell_type": "code",
   "execution_count": 4,
   "id": "7c4b8c85-b9af-43e9-9982-430b495d65c8",
   "metadata": {},
   "outputs": [],
   "source": [
    "clear_db_for_user(db_user.id)"
   ]
  },
  {
   "cell_type": "code",
   "execution_count": 5,
   "id": "c8dfb11e-36e9-4c9f-bb57-049556c3ae8e",
   "metadata": {},
   "outputs": [],
   "source": [
    "from sleepmate.history import DBHealthHistory\n",
    "from sleepmate.sleep50 import *\n",
    "from sleepmate.nightmare import *\n",
    "from datetime import datetime"
   ]
  },
  {
   "cell_type": "code",
   "execution_count": 6,
   "id": "d8ad2f93-b067-43f7-b9b6-e5e1a6f96e0f",
   "metadata": {},
   "outputs": [],
   "source": [
    "from datetime import datetime\n",
    "\n",
    "# Instantiate the Sleep50Entry_ class with all fields, focusing on nightmare symptoms\n",
    "db_entry = DBSleep50Entry(\n",
    "    user=db_user,\n",
    "    date=datetime.now(),  # Set the current date\n",
    "    sleep_apnea_1=1,\n",
    "    sleep_apnea_2=1,\n",
    "    sleep_apnea_3=1,\n",
    "    sleep_apnea_4=1,\n",
    "    sleep_apnea_5=1,\n",
    "    sleep_apnea_6=1,\n",
    "    sleep_apnea_7=1,\n",
    "    sleep_apnea_8=1,\n",
    "    insomnia_9=1,\n",
    "    insomnia_10=1,\n",
    "    insomnia_11=1,\n",
    "    insomnia_12=1,\n",
    "    insomnia_13=1,\n",
    "    insomnia_14=1,\n",
    "    insomnia_15=1,\n",
    "    insomnia_16=1,\n",
    "    narcolepsy_17=1,\n",
    "    narcolepsy_18=1,\n",
    "    narcolepsy_19=1,\n",
    "    narcolepsy_20=1,\n",
    "    narcolepsy_21=1,\n",
    "    restless_legs_22=1,\n",
    "    restless_legs_23=1,\n",
    "    restless_legs_24=1,\n",
    "    restless_legs_25=1,\n",
    "    circadian_rhythm_26=1,\n",
    "    circadian_rhythm_27=1,\n",
    "    circadian_rhythm_28=1,\n",
    "    sleepwalking_29=1,\n",
    "    sleepwalking_30=1,\n",
    "    sleepwalking_31=1,\n",
    "    nightmares_32=2,  # Have frightening dreams\n",
    "    nightmares_33=2,  # Wake up from these dreams\n",
    "    nightmares_34=2,  # Remember the content of these dreams\n",
    "    nightmares_35=2,  # Can orientate quickly after these dreams\n",
    "    nightmares_36=2,  # Have physical symptoms during or after these dreams\n",
    "    factors_37=1,\n",
    "    factors_38=1,\n",
    "    factors_39=1,\n",
    "    factors_40=1,\n",
    "    factors_41=1,\n",
    "    factors_42=1,\n",
    "    factors_43=1,\n",
    "    impact_44=1,\n",
    "    impact_45=1,\n",
    "    impact_46=1,\n",
    "    impact_47=1,\n",
    "    impact_48=1,\n",
    "    impact_49=1,\n",
    "    impact_50=1,\n",
    "    additional_a=1,\n",
    "    additional_b=1\n",
    ").save()"
   ]
  },
  {
   "cell_type": "markdown",
   "id": "1f7282c8-de9d-4b34-abad-3ee4622642fd",
   "metadata": {},
   "source": [
    "## Check goal function"
   ]
  },
  {
   "cell_type": "code",
   "execution_count": 7,
   "id": "a3033083-d801-40b4-8d30-4eaad7ab5ac4",
   "metadata": {},
   "outputs": [
    {
     "data": {
      "text/plain": [
       "True"
      ]
     },
     "execution_count": 7,
     "metadata": {},
     "output_type": "execute_result"
    }
   ],
   "source": [
    "nightmare(db_user)"
   ]
  },
  {
   "cell_type": "markdown",
   "id": "cacfd05e-4a9b-42a4-8863-5b85665e235f",
   "metadata": {},
   "source": [
    "# Frightening Dreams in SLEEP-50"
   ]
  },
  {
   "cell_type": "code",
   "execution_count": 8,
   "id": "e321ac6f-bc40-4df0-90fb-00057947336a",
   "metadata": {},
   "outputs": [
    {
     "data": {
      "text/markdown": [
       "Hello Christopher, I hope you're finding some moments of rest amidst your busy schedule. Is now a good time to talk about those unpleasant dreams you've been experiencing?"
      ],
      "text/plain": [
       "<IPython.core.display.Markdown object>"
      ]
     },
     "metadata": {},
     "output_type": "display_data"
    }
   ],
   "source": [
    "x = X(username=username, goal=\"nightmare\", fixed_goal=True, hello=\"hey\");"
   ]
  },
  {
   "cell_type": "code",
   "execution_count": 9,
   "id": "a292cb74-f5c3-4c97-a740-58e1d8b6fd4b",
   "metadata": {},
   "outputs": [
    {
     "data": {
      "text/markdown": [
       "Great, thank you for taking the time. Could you tell me how long you've been having these dreams?"
      ],
      "text/plain": [
       "<IPython.core.display.Markdown object>"
      ]
     },
     "metadata": {},
     "output_type": "display_data"
    }
   ],
   "source": [
    "x(\"sure\");"
   ]
  },
  {
   "cell_type": "code",
   "execution_count": 10,
   "id": "44505ca5-9126-48f9-b7fb-c111e2747462",
   "metadata": {},
   "outputs": [
    {
     "data": {
      "text/markdown": [
       "I appreciate you sharing that with me. It's quite a long time to be dealing with such distressing dreams. Initially, nightmares can serve a purpose, helping to relive experiences and remember details that might be meaningful for emotional processing. This can occur spontaneously through dreaming or in collaboration with a therapist during rapid eye movement sleep.\n",
       "\n",
       "However, given that your nightmares have persisted for a couple of years, it's questionable if they are still serving a useful purpose. It's possible that these nightmares have become a learned behavior, much like a broken record that keeps playing the same distressing tune over and over again.\n",
       "\n",
       "For example, someone might repeatedly dream about being chased or losing control in various scenarios. These recurring themes can become entrenched, making the nightmares a habitual response rather than a helpful one.\n",
       "\n",
       "Imagery Rehearsal Therapy (IRT) is a cognitive-behavioral technique that can help change the 'record' by altering the storyline of the nightmare while you're awake, so it's less distressing. This can then translate into a change in your dreams.\n",
       "\n",
       "Would you be interested in trying Imagery Rehearsal Therapy to work on changing the content of your nightmares?"
      ],
      "text/plain": [
       "<IPython.core.display.Markdown object>"
      ]
     },
     "metadata": {},
     "output_type": "display_data"
    }
   ],
   "source": [
    "x(\"a couple of years now\");"
   ]
  },
  {
   "cell_type": "code",
   "execution_count": 11,
   "id": "f04a5623-9fb3-4562-a63e-cbd311f5f653",
   "metadata": {},
   "outputs": [
    {
     "name": "stderr",
     "output_type": "stream",
     "text": [
      "2023-12-04 07:23:10 INFO     sleepmate.nightmare save_nightmare_seen entry={'date': datetime.datetime(2023, 12, 4, 7, 23, 10, 142527)}\n"
     ]
    },
    {
     "data": {
      "text/markdown": [
       "Fantastic, let's give it a go. Imagery Rehearsal Therapy involves a few steps:\n",
       "\n",
       "1. **Recall the Nightmare**: Think of a recent nightmare that you remember well.\n",
       "2. **Write it Down**: Write down the details of the nightmare as you remember them.\n",
       "3. **Change the Ending**: Imagine a new ending for the nightmare while you're awake. It can be anything you choose – the goal is to make it less threatening or upsetting. You're the author here, and you have the creative license to change the narrative in any way you see fit.\n",
       "4. **Visualize the New Dream**: Close your eyes and rehearse the new version of the dream in your mind. Do this for 5-10 minutes.\n",
       "5. **Practice**: Practice this new dream once a day, especially right before going to sleep.\n",
       "\n",
       "The idea is to practice the new dream scenario often enough that it replaces the old nightmare. It's a bit like rewriting a script for a play. The more you rehearse the new script, the more familiar it becomes, and the old one fades away.\n",
       "\n",
       "Would you like to start by choosing a recent nightmare to work on?"
      ],
      "text/plain": [
       "<IPython.core.display.Markdown object>"
      ]
     },
     "metadata": {},
     "output_type": "display_data"
    }
   ],
   "source": [
    "x(\"sure\");"
   ]
  },
  {
   "cell_type": "code",
   "execution_count": 12,
   "id": "357c037c-8a23-4192-a701-46043cd86f92",
   "metadata": {},
   "outputs": [
    {
     "data": {
      "text/markdown": [
       "I'm sorry to hear that; it sounds like a deeply unsettling dream to experience. Let's work on rewriting that narrative.\n",
       "\n",
       "First, write down the details of the dream as you remember them. Include everything up to the point where the anxiety and fear begin to rise.\n",
       "\n",
       "Now, let's create a new ending. How would you like this dream to change so that it feels less threatening? You could introduce a positive twist, such as discovering it was a false alarm, or perhaps the dream shifts to a celebration of good health. Remember, there are no wrong answers here; the new ending should feel reassuring to you.\n",
       "\n",
       "Once you have the new ending in mind, take a moment to close your eyes and vividly imagine the dream with this new, positive outcome. Try to engage all your senses as you visualize this scenario.\n",
       "\n",
       "Practice this visualization for a few minutes each day, especially before bed. Over time, this new narrative can become the new 'record' that plays in your mind, hopefully leading to more peaceful dreams.\n",
       "\n",
       "Would you like to share the new ending you've imagined, or do you prefer to keep it private as you work on it?"
      ],
      "text/plain": [
       "<IPython.core.display.Markdown object>"
      ]
     },
     "metadata": {},
     "output_type": "display_data"
    }
   ],
   "source": [
    "x(\"I woke up from a dream with anxious fears of a friend or myself having cancer\");"
   ]
  },
  {
   "cell_type": "code",
   "execution_count": 13,
   "id": "7ec7d06a-1897-4d25-929a-304810045ef9",
   "metadata": {},
   "outputs": [
    {
     "data": {
      "text/markdown": [
       "That's a very positive and relieving twist to the dream. So, in this new version, the moment of fear is transformed into one of relief and gratitude when it's revealed that the diagnosis was a mistake.\n",
       "\n",
       "Now, take some time to visualize this new scenario. Imagine the scene where the mistake is discovered. Picture the expressions of relief on everyone's faces, the sense of weight being lifted, and the joy that follows. Try to feel the emotions that would come with such good news and let those feelings replace the anxiety from the original dream.\n",
       "\n",
       "Practice this revised dream regularly, especially before going to sleep, to help reinforce this new, positive outcome in your mind.\n",
       "\n",
       "Remember, it's normal for this process to take some time, and the old nightmare may still occur initially. But with consistent practice, your brain can learn this new script, and the distressing dreams should become less frequent.\n",
       "\n",
       "I'll record that we've discussed these nightmare recommendations. And when you're ready to continue on your health journey, just say \"hey\" to let me know."
      ],
      "text/plain": [
       "<IPython.core.display.Markdown object>"
      ]
     },
     "metadata": {},
     "output_type": "display_data"
    }
   ],
   "source": [
    "x(\"maybe the diagnosis was a mistake, and the problem wasn't cancer after all\");"
   ]
  },
  {
   "cell_type": "markdown",
   "id": "f09cefcd-f44f-48e8-98a7-bd32403ac74d",
   "metadata": {},
   "source": [
    "# In sleep diary"
   ]
  },
  {
   "cell_type": "code",
   "execution_count": null,
   "id": "21efa32f-9240-4004-acb1-eaaccda218a3",
   "metadata": {},
   "outputs": [],
   "source": [
    "d = {'user': ObjectId('653838c321f81e21a72df700'),\n",
    " 'date': datetime.datetime(2023, 12, 3, 0, 0),\n",
    " 'in_bed': datetime.datetime(2023, 12, 3, 21, 15),\n",
    " 'tried_to_fall_asleep': datetime.datetime(2023, 12, 3, 21, 15),\n",
    " 'time_to_fall_asleep': 5,\n",
    " 'times_awake': 2,\n",
    " 'time_awake': 10,\n",
    " 'final_wake_up': datetime.datetime(2023, 12, 4, 6, 30),\n",
    " 'out_of_bed': datetime.datetime(2023, 12, 4, 6, 30),\n",
    " 'sleep_quality': 'Okay',\n",
    " 'medications': 'None',\n",
    " 'notes': 'Woke up startled from a bad dream'}\n",
    "db_entry = DBSleepDiaryEntry(**d).save()"
   ]
  },
  {
   "cell_type": "code",
   "execution_count": 7,
   "id": "0a576a92-6011-48b0-9b43-dc212ba3e46b",
   "metadata": {},
   "outputs": [
    {
     "data": {
      "text/markdown": [
       "Hello Christopher, I hope you're feeling alright at this moment. Would now be a good time to record a sleep diary entry for you?"
      ],
      "text/plain": [
       "<IPython.core.display.Markdown object>"
      ]
     },
     "metadata": {},
     "output_type": "display_data"
    }
   ],
   "source": [
    "x = X(username=username, goal=\"diary_entry\", fixed_goal=True, hello=\"hey\");"
   ]
  },
  {
   "cell_type": "code",
   "execution_count": 8,
   "id": "40c550ea-f939-4e1d-a64a-735f4aee0929",
   "metadata": {},
   "outputs": [
    {
     "data": {
      "text/markdown": [
       "Great, let's get started with the entry for December 3, 2023. What time did you go to bed yesterday?"
      ],
      "text/plain": [
       "<IPython.core.display.Markdown object>"
      ]
     },
     "metadata": {},
     "output_type": "display_data"
    }
   ],
   "source": [
    "x(\"sure\");"
   ]
  },
  {
   "cell_type": "code",
   "execution_count": 9,
   "id": "e9288825-cc0b-453d-9925-18b3baccaea3",
   "metadata": {},
   "outputs": [
    {
     "data": {
      "text/markdown": [
       "Thank you. And at what time did you actually try to fall asleep?"
      ],
      "text/plain": [
       "<IPython.core.display.Markdown object>"
      ]
     },
     "metadata": {},
     "output_type": "display_data"
    }
   ],
   "source": [
    "x(\"9:15pm\");"
   ]
  },
  {
   "cell_type": "code",
   "execution_count": 10,
   "id": "f3030eef-dc13-42da-8b4d-384922995ba0",
   "metadata": {},
   "outputs": [
    {
     "data": {
      "text/markdown": [
       "Understood. How long did it take you to fall asleep after that? Could you estimate the number of minutes for me?"
      ],
      "text/plain": [
       "<IPython.core.display.Markdown object>"
      ]
     },
     "metadata": {},
     "output_type": "display_data"
    }
   ],
   "source": [
    "x(\"same\");"
   ]
  },
  {
   "cell_type": "code",
   "execution_count": 11,
   "id": "e508110b-b05e-4365-b428-5c63f695e210",
   "metadata": {},
   "outputs": [
    {
     "data": {
      "text/markdown": [
       "Got it, just 5 minutes. How many times did you wake up during the night?"
      ],
      "text/plain": [
       "<IPython.core.display.Markdown object>"
      ]
     },
     "metadata": {},
     "output_type": "display_data"
    }
   ],
   "source": [
    "x(\"maybe 5\");"
   ]
  },
  {
   "cell_type": "code",
   "execution_count": 12,
   "id": "7b3b1643-2a18-4221-a288-9cedd79c52d5",
   "metadata": {},
   "outputs": [
    {
     "data": {
      "text/markdown": [
       "Alright, you woke up twice. Could you estimate the total time you were awake during these awakenings, in minutes?"
      ],
      "text/plain": [
       "<IPython.core.display.Markdown object>"
      ]
     },
     "metadata": {},
     "output_type": "display_data"
    }
   ],
   "source": [
    "x(\"twice\");"
   ]
  },
  {
   "cell_type": "code",
   "execution_count": 13,
   "id": "373bb491-ad1a-42ed-89b2-3abfc0c5df46",
   "metadata": {},
   "outputs": [
    {
     "data": {
      "text/markdown": [
       "Thank you. Now, what was the final time you woke up this morning?"
      ],
      "text/plain": [
       "<IPython.core.display.Markdown object>"
      ]
     },
     "metadata": {},
     "output_type": "display_data"
    }
   ],
   "source": [
    "x(\"maybe 10 mins\");"
   ]
  },
  {
   "cell_type": "code",
   "execution_count": 14,
   "id": "c3d1f104-cc09-46c0-a085-8947ff7ca971",
   "metadata": {},
   "outputs": [
    {
     "data": {
      "text/markdown": [
       "And when did you get out of bed?"
      ],
      "text/plain": [
       "<IPython.core.display.Markdown object>"
      ]
     },
     "metadata": {},
     "output_type": "display_data"
    }
   ],
   "source": [
    "x(\"6:30am\");"
   ]
  },
  {
   "cell_type": "code",
   "execution_count": 15,
   "id": "d329fa1c-f269-4117-bfb1-82870d3bc22b",
   "metadata": {},
   "outputs": [
    {
     "data": {
      "text/markdown": [
       "Great, you're up and at 'em right away. How would you rate your sleep quality for last night? Would you say it was \"very good\", \"good\", \"okay\", \"bad\", or \"very bad\"?"
      ],
      "text/plain": [
       "<IPython.core.display.Markdown object>"
      ]
     },
     "metadata": {},
     "output_type": "display_data"
    }
   ],
   "source": [
    "x(\"same\");"
   ]
  },
  {
   "cell_type": "code",
   "execution_count": 16,
   "id": "c2bd575c-ba31-475f-b7bf-177b2cf52eed",
   "metadata": {},
   "outputs": [
    {
     "data": {
      "text/markdown": [
       "Okay, noted. Did you use any medications or aids to help you sleep, such as melatonin or a white noise machine?"
      ],
      "text/plain": [
       "<IPython.core.display.Markdown object>"
      ]
     },
     "metadata": {},
     "output_type": "display_data"
    }
   ],
   "source": [
    "x(\"okay\");"
   ]
  },
  {
   "cell_type": "code",
   "execution_count": 17,
   "id": "f84ac5f8-66e6-4946-b9ed-121496171407",
   "metadata": {},
   "outputs": [
    {
     "data": {
      "text/markdown": [
       "Understood, no sleep aids used. Is there anything else you'd like to add to your sleep diary entry for last night? Any notes or observations?"
      ],
      "text/plain": [
       "<IPython.core.display.Markdown object>"
      ]
     },
     "metadata": {},
     "output_type": "display_data"
    }
   ],
   "source": [
    "x(\"nope\");"
   ]
  },
  {
   "cell_type": "code",
   "execution_count": 18,
   "id": "7d6fa4d8-d858-4f11-9a1f-344790ca2cbe",
   "metadata": {},
   "outputs": [
    {
     "data": {
      "text/markdown": [
       "I'm sorry to hear that, bad dreams can be quite unsettling. I'll make a note of that. Now, let's summarize your sleep diary entry:\n",
       "\n",
       "- Date: December 3, 2023\n",
       "- Time you went to bed: 9:15 PM\n",
       "- Time you tried to fall asleep: 9:15 PM\n",
       "- Time it took to fall asleep: 5 minutes\n",
       "- Number of awakenings: 2\n",
       "- Total awake time during the night: 10 minutes\n",
       "- Final wake-up time: 6:30 AM\n",
       "- Time you got out of bed: 6:30 AM\n",
       "- Sleep quality: Okay\n",
       "- Medications or aids used: None\n",
       "- Additional notes: Woke up startled from a bad dream\n",
       "\n",
       "Does this all look correct to you?"
      ],
      "text/plain": [
       "<IPython.core.display.Markdown object>"
      ]
     },
     "metadata": {},
     "output_type": "display_data"
    }
   ],
   "source": [
    "x(\"yeah woke up startled from a bad dream\");"
   ]
  },
  {
   "cell_type": "code",
   "execution_count": 19,
   "id": "0105433f-0384-4795-8e81-7ab34015389e",
   "metadata": {},
   "outputs": [
    {
     "name": "stderr",
     "output_type": "stream",
     "text": [
      "2023-12-04 11:26:07 INFO     sleepmate.diary save_sleep_diary_entry entry=SleepDiaryEntry(date=datetime.datetime(2023, 12, 3, 0, 0), in_bed=datetime.datetime(2023, 12, 4, 21, 15), tried_to_fall_asleep=datetime.datetime(2023, 12, 4, 21, 15), time_to_fall_asleep=5, times_awake=2, time_awake=10, final_wake_up=datetime.datetime(2023, 12, 4, 6, 30), out_of_bed=datetime.datetime(2023, 12, 4, 6, 30), sleep_quality='Okay', medications='None', notes='Woke up startled from a bad dream')\n"
     ]
    },
    {
     "data": {
      "text/markdown": [
       "Your sleep diary entry has been saved successfully. Now, let's calculate your sleep duration and efficiency.\n",
       "\n",
       "You went to bed at 9:15 PM and got up at 6:30 AM. That's a total time in bed of 9 hours and 15 minutes. Subtracting the 5 minutes it took to fall asleep and the 10 minutes of being awake during the night, your total sleep time was approximately 9 hours.\n",
       "\n",
       "To calculate sleep efficiency, we take the total sleep time (9 hours) and divide it by the total time in bed (9 hours and 15 minutes), then multiply by 100 to get a percentage. \n",
       "\n",
       "Sleep efficiency = (9 hours / 9.25 hours) * 100 = approximately 97.3%\n",
       "\n",
       "This means your sleep efficiency was quite high, as anything over 85% is considered normal. Well done!\n",
       "\n",
       "When you're ready to continue on your health journey, just say \"hey\"."
      ],
      "text/plain": [
       "<IPython.core.display.Markdown object>"
      ]
     },
     "metadata": {},
     "output_type": "display_data"
    }
   ],
   "source": [
    "x(\"yep!\");"
   ]
  },
  {
   "cell_type": "code",
   "execution_count": 25,
   "id": "1041c863-df8f-4b8e-9bed-4b57962dfe95",
   "metadata": {},
   "outputs": [
    {
     "data": {
      "text/plain": [
       "True"
      ]
     },
     "execution_count": 25,
     "metadata": {},
     "output_type": "execute_result"
    }
   ],
   "source": [
    "nightmare_daily(x.db_user_id)"
   ]
  },
  {
   "cell_type": "code",
   "execution_count": 27,
   "id": "525b8b37-ba09-4c0c-9cf5-6d65399727f6",
   "metadata": {},
   "outputs": [
    {
     "data": {
      "text/plain": [
       "SON([('_id', ObjectId('656e28d079d713ed7556971b')), ('diary_entry', ObjectId('656e27cf79d713ed75569718')), ('found', True), ('summary', 'It seems like you experienced a frightening dream that caused you to wake up feeling startled.')])"
      ]
     },
     "execution_count": 27,
     "metadata": {},
     "output_type": "execute_result"
    }
   ],
   "source": [
    "DBNightmareSummary.objects(diary_entry=db_entry).first().to_mongo()"
   ]
  },
  {
   "cell_type": "code",
   "execution_count": 28,
   "id": "6bad70d2-6cda-4da1-9f08-2857ecb462ef",
   "metadata": {},
   "outputs": [
    {
     "data": {
      "text/markdown": [
       "Now, about the bad dream you mentioned, have you been experiencing these unpleasant dreams for a while?"
      ],
      "text/plain": [
       "<IPython.core.display.Markdown object>"
      ]
     },
     "metadata": {},
     "output_type": "display_data"
    }
   ],
   "source": [
    "x = X(username=username, goal=\"nightmare_daily\", fixed_goal=True, hello=\"hey\");"
   ]
  },
  {
   "cell_type": "code",
   "execution_count": 29,
   "id": "663bcad4-ed07-4a25-a41e-3c1484fa4b94",
   "metadata": {},
   "outputs": [
    {
     "data": {
      "text/markdown": [
       "I see, that must be quite challenging. Nightmares that persist from childhood into adulthood can sometimes be a way for our minds to process emotions or memories. However, if they've been going on for a long time, it's worth considering whether they're still serving a useful purpose.\n",
       "\n",
       "Persistent nightmares can be like a broken record, replaying the same distressing themes without providing new insight or resolution. It's a bit like my joke-telling ability – it doesn't always improve with repetition!\n",
       "\n",
       "Imagery Rehearsal Therapy (IRT) is a cognitive-behavioral technique that can help change the 'record' of these nightmares. It involves visualizing a new ending to the recurring nightmare while awake, which can then translate into a change in the dream itself.\n",
       "\n",
       "Would you be interested in trying Imagery Rehearsal Therapy to work on altering the content of your nightmares?"
      ],
      "text/plain": [
       "<IPython.core.display.Markdown object>"
      ]
     },
     "metadata": {},
     "output_type": "display_data"
    }
   ],
   "source": [
    "x(\"yeah since I was a kid\");"
   ]
  },
  {
   "cell_type": "code",
   "execution_count": 30,
   "id": "414ea00f-9bd2-4978-a945-3295ed415ae2",
   "metadata": {},
   "outputs": [
    {
     "name": "stderr",
     "output_type": "stream",
     "text": [
      "2023-12-04 11:33:52 INFO     sleepmate.nightmare save_nightmare_seen entry={'date': datetime.datetime(2023, 12, 4, 11, 33, 52, 890444)}\n"
     ]
    },
    {
     "data": {
      "text/markdown": [
       "Excellent, let's give it a go. Here's how Imagery Rehearsal Therapy works:\n",
       "\n",
       "1. Choose one nightmare you want to work on, preferably a recurring one.\n",
       "2. Write down the nightmare in as much detail as you can remember.\n",
       "3. Now, rewrite the nightmare, but change the ending to something positive or neutral. You're the author here, so feel free to get creative!\n",
       "4. Once you have the new version of the nightmare, spend 5-10 minutes each day visualizing this new scenario. Do this while you're in a relaxed state, perhaps during quiet moments of the day or before bed.\n",
       "5. Practice this visualization every day, ideally for a couple of weeks.\n",
       "\n",
       "The goal is to train your brain to follow this new script during your dreams. It's a bit like rehearsing for a play; the more you practice, the better the performance—or in this case, the better the dream.\n",
       "\n",
       "Would you like to start by choosing a nightmare and discussing how you might change the ending?"
      ],
      "text/plain": [
       "<IPython.core.display.Markdown object>"
      ]
     },
     "metadata": {},
     "output_type": "display_data"
    }
   ],
   "source": [
    "x(\"sure\");"
   ]
  },
  {
   "cell_type": "code",
   "execution_count": 31,
   "id": "50dacaf5-b394-4899-ab2c-06d46d04e9fd",
   "metadata": {},
   "outputs": [
    {
     "data": {
      "text/markdown": [
       "It sounds like the theme of unpreparedness is quite central to these nightmares. Let's work on rewriting one of these scenarios with a new, more positive or neutral outcome.\n",
       "\n",
       "For example, you might reimagine the dream where you wake up on the morning of an exam unprepared. In the new version, you could find that when you arrive at the exam, you realize you know more than you thought. The questions are on topics you're familiar with, and you feel a sense of calm confidence as you answer them. Or perhaps the exam gets postponed, giving you extra time to study.\n",
       "\n",
       "For the scenario where you forget to pay a bill, you could visualize discovering that the bill has a grace period, and you're able to pay it without any penalty. Or, you might receive a reminder in the dream that allows you to take care of it in time.\n",
       "\n",
       "Would you like to try rewriting one of these nightmares now, or would you prefer to take some time to think about how you'd like to change it? Remember, the new ending should feel relieving or neutral, something that diffuses the anxiety of the original nightmare."
      ],
      "text/plain": [
       "<IPython.core.display.Markdown object>"
      ]
     },
     "metadata": {},
     "output_type": "display_data"
    }
   ],
   "source": [
    "x(\"\"\"well the original version of this nightmate was waking \n",
    "up on the morning of an exam and realising that I hadn't prepared for it.\n",
    "more recent versions include forgetting to pay a bill or illpreparedness of some kind\"\"\");"
   ]
  },
  {
   "cell_type": "code",
   "execution_count": 32,
   "id": "1ae1b78c-f34e-4965-8259-ac869fbb73b6",
   "metadata": {},
   "outputs": [
    {
     "data": {
      "text/markdown": [
       "Fantastic, it's great to hear that those alternative endings resonate with you. Now, the next step is to take some time each day to visualize the new version of the nightmare. Imagine the scenario unfolding just as you'd like it to, with the positive or neutral outcome you've created.\n",
       "\n",
       "For the exam nightmare, picture yourself walking into the exam room, feeling a surprising sense of preparedness wash over you. As you look at the exam paper, the questions seem oddly familiar, and you find yourself answering them with ease.\n",
       "\n",
       "For the forgotten bill, envision a friendly reminder popping up, or discovering that there's no late fee and you can comfortably pay it without any repercussions.\n",
       "\n",
       "Try to engage all your senses in this visualization and feel the relief and calmness in the new outcome. Practice this revised dream for a few minutes each day, especially before going to sleep.\n",
       "\n",
       "Would you like to start this practice tonight before bed? It's a bit like setting the stage for a pleasant dream theatre production, and you're both the director and the lead actor!"
      ],
      "text/plain": [
       "<IPython.core.display.Markdown object>"
      ]
     },
     "metadata": {},
     "output_type": "display_data"
    }
   ],
   "source": [
    "x(\"oh yeah I like both of those endings\");"
   ]
  },
  {
   "cell_type": "code",
   "execution_count": 33,
   "id": "be978b93-61df-40ae-9362-36a3dfe71156",
   "metadata": {},
   "outputs": [
    {
     "name": "stderr",
     "output_type": "stream",
     "text": [
      "2023-12-04 11:37:54 INFO     sleepmate.nightmare save_nightmare_seen entry={'date': datetime.datetime(2023, 12, 4, 11, 37, 54, 287512)}\n"
     ]
    },
    {
     "data": {
      "text/markdown": [
       "Brilliant! You're all set to start changing the tune of those pesky nightmares. Remember, consistency is key, so try to do the visualization exercise daily. With a bit of practice, you might just find yourself looking forward to the next performance of \"Dreams: The Revised Edition.\"\n",
       "\n",
       "When you're ready to continue on your health journey, just say \"hey\". And if you ever need to tweak the script or discuss how it's going, I'm here to help. Break a leg! (But not literally, of course—that would be a different kind of nightmare.)"
      ],
      "text/plain": [
       "<IPython.core.display.Markdown object>"
      ]
     },
     "metadata": {},
     "output_type": "display_data"
    }
   ],
   "source": [
    "x(\"sure\");"
   ]
  },
  {
   "cell_type": "code",
   "execution_count": null,
   "id": "4330a890-4413-4131-b52d-65c8ad8430af",
   "metadata": {},
   "outputs": [],
   "source": []
  }
 ],
 "metadata": {
  "kernelspec": {
   "display_name": "Python 3 (ipykernel)",
   "language": "python",
   "name": "python3"
  },
  "language_info": {
   "codemirror_mode": {
    "name": "ipython",
    "version": 3
   },
   "file_extension": ".py",
   "mimetype": "text/x-python",
   "name": "python",
   "nbconvert_exporter": "python",
   "pygments_lexer": "ipython3",
   "version": "3.11.5"
  }
 },
 "nbformat": 4,
 "nbformat_minor": 5
}
