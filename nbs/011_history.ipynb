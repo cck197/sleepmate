{
 "cells": [
  {
   "cell_type": "code",
   "execution_count": 1,
   "id": "730462af-c5ba-4d21-a184-e20d55afca38",
   "metadata": {},
   "outputs": [],
   "source": [
    "from sleepmate.executor import *"
   ]
  },
  {
   "cell_type": "code",
   "execution_count": 2,
   "id": "b375ddf2-8b17-4419-b119-123748e90ba9",
   "metadata": {},
   "outputs": [],
   "source": [
    "username = \"test\"\n",
    "#username = \"cck197\""
   ]
  },
  {
   "cell_type": "code",
   "execution_count": 3,
   "id": "af4a8cd8-7bfc-411f-b1a6-3f59e7a966ff",
   "metadata": {},
   "outputs": [],
   "source": [
    "clear_db_for_user(get_user_from_username(username).id)"
   ]
  },
  {
   "cell_type": "markdown",
   "id": "74e738dc-176b-42ca-9b36-1d46413b1554",
   "metadata": {},
   "source": [
    "# Health History"
   ]
  },
  {
   "cell_type": "code",
   "execution_count": 4,
   "id": "cde0b286-bb04-49e1-bdc3-24526911452f",
   "metadata": {},
   "outputs": [
    {
     "data": {
      "text/markdown": [
       "Hello Christopher, I hope you're finding a moment of calm in your day. Before we dive into the health history questionnaire, I'd like to check in with you. How are you feeling right now, in this moment?"
      ],
      "text/plain": [
       "<IPython.core.display.Markdown object>"
      ]
     },
     "metadata": {},
     "output_type": "display_data"
    }
   ],
   "source": [
    "x = X(goal=\"health_history\", username=username, fixed_goal=True, hello=\"hey\")"
   ]
  },
  {
   "cell_type": "code",
   "execution_count": 5,
   "id": "8bba9dc4-819b-44c4-8168-d078e78b1cc4",
   "metadata": {},
   "outputs": [
    {
     "data": {
      "text/markdown": [
       "It sounds like you've had quite a taxing time. If you're up for it, we could go through the health history questionnaire now. Would this be a good time for you?"
      ],
      "text/plain": [
       "<IPython.core.display.Markdown object>"
      ]
     },
     "metadata": {},
     "output_type": "display_data"
    }
   ],
   "source": [
    "x(\"tired\");"
   ]
  },
  {
   "cell_type": "code",
   "execution_count": 7,
   "id": "8692d0d1-73ed-4002-b6b4-836377b108b7",
   "metadata": {},
   "outputs": [
    {
     "name": "stderr",
     "output_type": "stream",
     "text": [
      "2023-10-27 14:58:53 INFO     sleepmate.executor set_chat_model_start: self.last_message=HumanMessage(content='getting through the afternoon meetins is always a drag, and worrying about the next day keeps me awake that night')\n"
     ]
    },
    {
     "data": {
      "text/markdown": [
       "It sounds like you're caught in a bit of a cycle, with the stress of the day's meetings leading into worries about the next day, which then impacts your sleep. That must be quite challenging. Let's start with the health history questionnaire, shall we? \n",
       "\n",
       "Firstly, today's date will be the date of entry. Now, could you please tell me your sex?"
      ],
      "text/plain": [
       "<IPython.core.display.Markdown object>"
      ]
     },
     "metadata": {},
     "output_type": "display_data"
    }
   ],
   "source": [
    "x(\"getting through the afternoon meetins is always a drag, and worrying about the next day keeps me awake that night\");"
   ]
  },
  {
   "cell_type": "code",
   "execution_count": 6,
   "id": "00672d9a-17f6-4b1a-8595-7a455d7a6c69",
   "metadata": {},
   "outputs": [
    {
     "data": {
      "text/markdown": [
       "Great, let's get started. First off, I'll note today's date for our records.\n",
       "\n",
       "1. What is your sex?"
      ],
      "text/plain": [
       "<IPython.core.display.Markdown object>"
      ]
     },
     "metadata": {},
     "output_type": "display_data"
    }
   ],
   "source": [
    "x(\"sure\");"
   ]
  },
  {
   "cell_type": "code",
   "execution_count": 7,
   "id": "961e0fe4-4a1e-400f-ae37-eedf0f13e21a",
   "metadata": {},
   "outputs": [
    {
     "data": {
      "text/markdown": [
       "Thank you.\n",
       "\n",
       "2. Could you please provide your date of birth?"
      ],
      "text/plain": [
       "<IPython.core.display.Markdown object>"
      ]
     },
     "metadata": {},
     "output_type": "display_data"
    }
   ],
   "source": [
    "x(\"male\");"
   ]
  },
  {
   "cell_type": "code",
   "execution_count": 8,
   "id": "fb010a7e-173a-47ec-bd27-93174174d555",
   "metadata": {},
   "outputs": [
    {
     "data": {
      "text/markdown": [
       "Got it, thank you.\n",
       "\n",
       "3. What is your current occupation?"
      ],
      "text/plain": [
       "<IPython.core.display.Markdown object>"
      ]
     },
     "metadata": {},
     "output_type": "display_data"
    }
   ],
   "source": [
    "x(\"Feb 13 1976\");"
   ]
  },
  {
   "cell_type": "code",
   "execution_count": 9,
   "id": "0fa3b0a7-aab8-4b32-8337-f99b69ebd353",
   "metadata": {},
   "outputs": [
    {
     "data": {
      "text/markdown": [
       "Understood, a coder it is.\n",
       "\n",
       "4. What are your typical work hours?"
      ],
      "text/plain": [
       "<IPython.core.display.Markdown object>"
      ]
     },
     "metadata": {},
     "output_type": "display_data"
    }
   ],
   "source": [
    "x(\"coder\");"
   ]
  },
  {
   "cell_type": "code",
   "execution_count": 10,
   "id": "6c078a34-fc53-4144-8b47-592ee099dfb0",
   "metadata": {},
   "outputs": [
    {
     "data": {
      "text/markdown": [
       "That's quite a full day. Thank you for sharing.\n",
       "\n",
       "5. Do you smoke? If yes, how often?"
      ],
      "text/plain": [
       "<IPython.core.display.Markdown object>"
      ]
     },
     "metadata": {},
     "output_type": "display_data"
    }
   ],
   "source": [
    "x(\"7 - 6 with breaks\");"
   ]
  },
  {
   "cell_type": "code",
   "execution_count": 11,
   "id": "c523f319-044b-4a50-a4d3-5f0d7f667af2",
   "metadata": {},
   "outputs": [
    {
     "data": {
      "text/markdown": [
       "That's good to hear.\n",
       "\n",
       "6. How about alcohol? Do you drink, and if so, how frequently?"
      ],
      "text/plain": [
       "<IPython.core.display.Markdown object>"
      ]
     },
     "metadata": {},
     "output_type": "display_data"
    }
   ],
   "source": [
    "x(\"nope\");"
   ]
  },
  {
   "cell_type": "code",
   "execution_count": 12,
   "id": "345919bf-aeb5-477d-9e5b-577b3c2fd20f",
   "metadata": {},
   "outputs": [
    {
     "data": {
      "text/markdown": [
       "Noted, mostly weekend consumption.\n",
       "\n",
       "7. Can you describe your physical activity level? How often and what types of activities do you engage in?"
      ],
      "text/plain": [
       "<IPython.core.display.Markdown object>"
      ]
     },
     "metadata": {},
     "output_type": "display_data"
    }
   ],
   "source": [
    "x(\"some alchohol, mostly at the weekends\");"
   ]
  },
  {
   "cell_type": "code",
   "execution_count": 13,
   "id": "23fa6c80-86c1-4f37-83c4-a3905684c1cd",
   "metadata": {},
   "outputs": [
    {
     "data": {
      "text/markdown": [
       "Sounds like a good mix of activities there.\n",
       "\n",
       "8. What does a typical day of eating look like for you?"
      ],
      "text/plain": [
       "<IPython.core.display.Markdown object>"
      ]
     },
     "metadata": {},
     "output_type": "display_data"
    }
   ],
   "source": [
    "x(\"I'm a cyclist, surfer, lift weights\");"
   ]
  },
  {
   "cell_type": "code",
   "execution_count": 14,
   "id": "dfd939e0-9312-4be6-b34c-bf4074fdc9e5",
   "metadata": {},
   "outputs": [
    {
     "data": {
      "text/markdown": [
       "That's a solid protein-focused diet.\n",
       "\n",
       "9. Do you have any existing medical conditions, such as diabetes, hypertension, etc.?"
      ],
      "text/plain": [
       "<IPython.core.display.Markdown object>"
      ]
     },
     "metadata": {},
     "output_type": "display_data"
    }
   ],
   "source": [
    "x(\"three eggs and sausages for breakfast, salad and protein for lunch, meat and veg for dinner. 1g protein per lb of bodyweight\");"
   ]
  },
  {
   "cell_type": "code",
   "execution_count": 15,
   "id": "94a9ddc2-761f-4173-ab4a-1c54b5ccfd6d",
   "metadata": {},
   "outputs": [
    {
     "data": {
      "text/markdown": [
       "Great, no existing conditions.\n",
       "\n",
       "10. Are you currently taking any medications? If so, please list them."
      ],
      "text/plain": [
       "<IPython.core.display.Markdown object>"
      ]
     },
     "metadata": {},
     "output_type": "display_data"
    }
   ],
   "source": [
    "x(\"none\");"
   ]
  },
  {
   "cell_type": "code",
   "execution_count": 16,
   "id": "eb40f8a2-bfb1-4e6d-a3be-3bc973adeb5c",
   "metadata": {},
   "outputs": [
    {
     "data": {
      "text/markdown": [
       "Alright, no medications.\n",
       "\n",
       "11. Is there a family history of insomnia or other sleep disorders?"
      ],
      "text/plain": [
       "<IPython.core.display.Markdown object>"
      ]
     },
     "metadata": {},
     "output_type": "display_data"
    }
   ],
   "source": [
    "x(\"no\");"
   ]
  },
  {
   "cell_type": "code",
   "execution_count": 17,
   "id": "8b0f04f2-c91d-4ab7-a273-0d9435363811",
   "metadata": {},
   "outputs": [
    {
     "data": {
      "text/markdown": [
       "Okay, no family history of sleep disorders.\n",
       "\n",
       "12. Have you had any history of mental health conditions, such as depression or anxiety?"
      ],
      "text/plain": [
       "<IPython.core.display.Markdown object>"
      ]
     },
     "metadata": {},
     "output_type": "display_data"
    }
   ],
   "source": [
    "x(\"no\");"
   ]
  },
  {
   "cell_type": "code",
   "execution_count": 18,
   "id": "9038ff6f-140d-43b0-bf9d-55ef34b69b42",
   "metadata": {},
   "outputs": [
    {
     "data": {
      "text/markdown": [
       "Good to know.\n",
       "\n",
       "13. Are you currently receiving any psychological treatment?"
      ],
      "text/plain": [
       "<IPython.core.display.Markdown object>"
      ]
     },
     "metadata": {},
     "output_type": "display_data"
    }
   ],
   "source": [
    "x(\"no\");"
   ]
  },
  {
   "cell_type": "code",
   "execution_count": 19,
   "id": "e04ed01d-f8d3-46b2-90c0-f49d422ca70c",
   "metadata": {},
   "outputs": [
    {
     "data": {
      "text/markdown": [
       "Understood.\n",
       "\n",
       "14. Who are you currently living with? Alone, family, friends, etc.?"
      ],
      "text/plain": [
       "<IPython.core.display.Markdown object>"
      ]
     },
     "metadata": {},
     "output_type": "display_data"
    }
   ],
   "source": [
    "x(\"no\");"
   ]
  },
  {
   "cell_type": "code",
   "execution_count": 20,
   "id": "90c61a0e-691c-4465-ab62-a77ae250b673",
   "metadata": {},
   "outputs": [
    {
     "data": {
      "text/markdown": [
       "Quite the adventurous setup!\n",
       "\n",
       "15. What's the noise level like in your living area? Would you say it's quiet, moderate, or noisy?"
      ],
      "text/plain": [
       "<IPython.core.display.Markdown object>"
      ]
     },
     "metadata": {},
     "output_type": "display_data"
    }
   ],
   "source": [
    "x(\"live with family, three kids, in a house but sleep in a VW Eurovan\");"
   ]
  },
  {
   "cell_type": "code",
   "execution_count": 21,
   "id": "9b11c271-f93c-4ec8-ae51-ef7c7ae07429",
   "metadata": {},
   "outputs": [
    {
     "data": {
      "text/markdown": [
       "That sounds peaceful.\n",
       "\n",
       "16. When it comes to sleep, what does success look like for you?"
      ],
      "text/plain": [
       "<IPython.core.display.Markdown object>"
      ]
     },
     "metadata": {},
     "output_type": "display_data"
    }
   ],
   "source": [
    "x(\"it's very rural and quiet\");"
   ]
  },
  {
   "cell_type": "code",
   "execution_count": 22,
   "id": "0db94ee6-837e-4a2e-99a9-85eed68eb36d",
   "metadata": {},
   "outputs": [
    {
     "data": {
      "text/markdown": [
       "The dream scenario, indeed.\n",
       "\n",
       "17. What have you tried previously that helped with your sleep?"
      ],
      "text/plain": [
       "<IPython.core.display.Markdown object>"
      ]
     },
     "metadata": {},
     "output_type": "display_data"
    }
   ],
   "source": [
    "x(\"sleep through the night, wake up feeling refreshed\");"
   ]
  },
  {
   "cell_type": "code",
   "execution_count": 23,
   "id": "77b2d114-00e3-434a-a819-71acc230b760",
   "metadata": {},
   "outputs": [
    {
     "data": {
      "text/markdown": [
       "Exposure to daylight can be quite beneficial, yes.\n",
       "\n",
       "18. Have you tried anything that didn't help or perhaps even made things worse?"
      ],
      "text/plain": [
       "<IPython.core.display.Markdown object>"
      ]
     },
     "metadata": {},
     "output_type": "display_data"
    }
   ],
   "source": [
    "x(\"getting enough daylight\");"
   ]
  },
  {
   "cell_type": "code",
   "execution_count": 24,
   "id": "9de53311-69f1-41f9-8e60-658d8b04137e",
   "metadata": {},
   "outputs": [
    {
     "data": {
      "text/markdown": [
       "Interesting, apigenin didn't do the trick for you.\n",
       "\n",
       "19. Is there anything else you'd like to add to your health history?"
      ],
      "text/plain": [
       "<IPython.core.display.Markdown object>"
      ]
     },
     "metadata": {},
     "output_type": "display_data"
    }
   ],
   "source": [
    "x(\"apigenin\");"
   ]
  },
  {
   "cell_type": "code",
   "execution_count": null,
   "id": "6445f911-b3ce-48f8-bf47-34b17449ff6f",
   "metadata": {},
   "outputs": [],
   "source": [
    "x(\"no that's it\");"
   ]
  },
  {
   "cell_type": "code",
   "execution_count": 26,
   "id": "635b6568-3ea7-4a25-9a6d-02e57fe5274b",
   "metadata": {
    "collapsed": true,
    "jupyter": {
     "outputs_hidden": true
    }
   },
   "outputs": [
    {
     "name": "stderr",
     "output_type": "stream",
     "text": [
      "2023-10-27 14:02:32 INFO     sleepmate.history get_last_health_history entry={'_id': ObjectId('653c251377e563b5d6356a64'), 'user': ObjectId('653838c321f81e21a72df700'), 'date': datetime.datetime(2023, 10, 27, 14, 1, 7, 337000), 'sex': 'N/A', 'date_of_birth': datetime.datetime(2023, 10, 27, 14, 1, 7, 337000), 'occupation': 'N/A', 'work_hours': 'N/A', 'smoking': 'N/A', 'alcohol': 'N/A', 'physical_activity': 'N/A', 'diet': 'N/A', 'medical_conditions': 'none', 'medications': 'no', 'family_history': 'no', 'mental_health': 'no', 'psychological_treatment': 'no', 'living_with': 'live with family, three kids, in a house but sleep in a VW Eurovan', 'residence_type': 'house', 'noise_level': \"it's very rural and quiet\", 'goal': 'sleep through the night, wake up feeling refreshed', 'helpful': 'getting enough daylight', 'unhelpful': 'apigenin', 'notes': \"no that's it\"}\n"
     ]
    },
    {
     "data": {
      "text/markdown": [
       "Here's a summary of your health history, Sleepy:\n",
       "\n",
       "- Date of entry: 27th October 2023\n",
       "- Sex: N/A\n",
       "- Date of birth: 27th October 2023\n",
       "- Occupation: N/A\n",
       "- Work hours: N/A\n",
       "- Smoking: N/A\n",
       "- Alcohol: N/A\n",
       "- Physical activity: N/A\n",
       "- Diet: N/A\n",
       "- Existing medical conditions: None\n",
       "- Current medications: None\n",
       "- Family history of sleep disorders: None\n",
       "- History of mental health conditions: None\n",
       "- Current psychological treatment: None\n",
       "- Living situation: With family, three kids, in a house but sleep in a VW Eurovan\n",
       "- Type of residence: House\n",
       "- Noise level in living area: Very rural and quiet\n",
       "- What success looks like: Sleep through the night, wake up feeling refreshed\n",
       "- What has helped previously: Getting enough daylight\n",
       "- What hasn't helped previously: Apigenin\n",
       "- Additional notes: None\n",
       "\n",
       "Please say 'hey' when you're ready to continue on your health journey."
      ],
      "text/plain": [
       "<IPython.core.display.Markdown object>"
      ]
     },
     "metadata": {},
     "output_type": "display_data"
    }
   ],
   "source": [
    "x(\"summarise my health history\");"
   ]
  },
  {
   "cell_type": "code",
   "execution_count": null,
   "id": "4c73c6b7-3dd3-4bd0-9ca3-177c76ebc698",
   "metadata": {},
   "outputs": [],
   "source": []
  }
 ],
 "metadata": {
  "kernelspec": {
   "display_name": "Python 3 (ipykernel)",
   "language": "python",
   "name": "python3"
  },
  "language_info": {
   "codemirror_mode": {
    "name": "ipython",
    "version": 3
   },
   "file_extension": ".py",
   "mimetype": "text/x-python",
   "name": "python",
   "nbconvert_exporter": "python",
   "pygments_lexer": "ipython3",
   "version": "3.11.5"
  }
 },
 "nbformat": 4,
 "nbformat_minor": 5
}
