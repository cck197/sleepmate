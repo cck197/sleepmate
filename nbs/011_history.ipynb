{
 "cells": [
  {
   "cell_type": "code",
   "execution_count": 1,
   "id": "730462af-c5ba-4d21-a184-e20d55afca38",
   "metadata": {},
   "outputs": [],
   "source": [
    "from sleepmate.executor import *"
   ]
  },
  {
   "cell_type": "code",
   "execution_count": 1,
   "id": "b375ddf2-8b17-4419-b119-123748e90ba9",
   "metadata": {},
   "outputs": [],
   "source": [
    "username = \"test\"\n",
    "#username = \"cck197\"\n",
    "username = \"test2\""
   ]
  },
  {
   "cell_type": "code",
   "execution_count": 3,
   "id": "af4a8cd8-7bfc-411f-b1a6-3f59e7a966ff",
   "metadata": {},
   "outputs": [],
   "source": [
    "clear_db_for_user(get_user_from_username(username).id)"
   ]
  },
  {
   "cell_type": "markdown",
   "id": "74e738dc-176b-42ca-9b36-1d46413b1554",
   "metadata": {},
   "source": [
    "# Health History"
   ]
  },
  {
   "cell_type": "code",
   "execution_count": 4,
   "id": "cde0b286-bb04-49e1-bdc3-24526911452f",
   "metadata": {},
   "outputs": [
    {
     "data": {
      "text/markdown": [
       "Hello Christopher, I hope you're finding a moment of calm in your day. Before we dive into the health history questionnaire, I'd like to check in with you. How are you feeling right now, in this moment?"
      ],
      "text/plain": [
       "<IPython.core.display.Markdown object>"
      ]
     },
     "metadata": {},
     "output_type": "display_data"
    }
   ],
   "source": [
    "x = X(goal=\"health_history\", username=username, fixed_goal=True, hello=\"hey\")"
   ]
  },
  {
   "cell_type": "code",
   "execution_count": 5,
   "id": "8bba9dc4-819b-44c4-8168-d078e78b1cc4",
   "metadata": {},
   "outputs": [
    {
     "data": {
      "text/markdown": [
       "It sounds like you've had quite a taxing day. If you're up for it, we can go through the health history questionnaire now, or we can find another time if you'd prefer to rest. Would now be a good time to proceed?"
      ],
      "text/plain": [
       "<IPython.core.display.Markdown object>"
      ]
     },
     "metadata": {},
     "output_type": "display_data"
    }
   ],
   "source": [
    "x(\"tired\");"
   ]
  },
  {
   "cell_type": "code",
   "execution_count": 6,
   "id": "8692d0d1-73ed-4002-b6b4-836377b108b7",
   "metadata": {},
   "outputs": [
    {
     "data": {
      "text/markdown": [
       "It sounds like those afternoon meetings really take a toll on you, and the anticipation of what's to come can be quite disruptive to your sleep. It's not uncommon for the mind to race with thoughts of the next day's challenges. If you're ready, we can start with the health history questionnaire to better understand your situation and see how we might address these concerns. Shall we begin?"
      ],
      "text/plain": [
       "<IPython.core.display.Markdown object>"
      ]
     },
     "metadata": {},
     "output_type": "display_data"
    }
   ],
   "source": [
    "x(\"getting through the afternoon meetins is always a drag, and worrying about the next day keeps me awake that night\");"
   ]
  },
  {
   "cell_type": "code",
   "execution_count": 7,
   "id": "00672d9a-17f6-4b1a-8595-7a455d7a6c69",
   "metadata": {},
   "outputs": [
    {
     "data": {
      "text/markdown": [
       "Great, let's get started. First, I'll record today's date as the date of entry. Now, may I ask what your sex is?"
      ],
      "text/plain": [
       "<IPython.core.display.Markdown object>"
      ]
     },
     "metadata": {},
     "output_type": "display_data"
    }
   ],
   "source": [
    "x(\"sure\");"
   ]
  },
  {
   "cell_type": "code",
   "execution_count": 8,
   "id": "961e0fe4-4a1e-400f-ae37-eedf0f13e21a",
   "metadata": {},
   "outputs": [
    {
     "data": {
      "text/markdown": [
       "Thank you, Christopher. Next, could you please provide your date of birth?"
      ],
      "text/plain": [
       "<IPython.core.display.Markdown object>"
      ]
     },
     "metadata": {},
     "output_type": "display_data"
    }
   ],
   "source": [
    "x(\"male\");"
   ]
  },
  {
   "cell_type": "code",
   "execution_count": 10,
   "id": "fb010a7e-173a-47ec-bd27-93174174d555",
   "metadata": {},
   "outputs": [
    {
     "data": {
      "text/markdown": [
       "Ah, my apologies for the confusion earlier. I'll correct your date of birth to February 13, 1976. Now, let's move on. What is your current occupation?"
      ],
      "text/plain": [
       "<IPython.core.display.Markdown object>"
      ]
     },
     "metadata": {},
     "output_type": "display_data"
    }
   ],
   "source": [
    "x(\"Feb 13 1976\");"
   ]
  },
  {
   "cell_type": "code",
   "execution_count": 11,
   "id": "0fa3b0a7-aab8-4b32-8337-f99b69ebd353",
   "metadata": {},
   "outputs": [
    {
     "data": {
      "text/markdown": [
       "Thank you. And what are your typical work hours?"
      ],
      "text/plain": [
       "<IPython.core.display.Markdown object>"
      ]
     },
     "metadata": {},
     "output_type": "display_data"
    }
   ],
   "source": [
    "x(\"coder\");"
   ]
  },
  {
   "cell_type": "code",
   "execution_count": 12,
   "id": "6c078a34-fc53-4144-8b47-592ee099dfb0",
   "metadata": {},
   "outputs": [
    {
     "data": {
      "text/markdown": [
       "Quite a long day, then. Next question: Do you smoke? If so, how often?"
      ],
      "text/plain": [
       "<IPython.core.display.Markdown object>"
      ]
     },
     "metadata": {},
     "output_type": "display_data"
    }
   ],
   "source": [
    "x(\"7 - 6 with breaks\");"
   ]
  },
  {
   "cell_type": "code",
   "execution_count": 13,
   "id": "c523f319-044b-4a50-a4d3-5f0d7f667af2",
   "metadata": {},
   "outputs": [
    {
     "data": {
      "text/markdown": [
       "That's good to hear. How about alcohol consumption? Do you drink alcohol, and if so, how frequently?"
      ],
      "text/plain": [
       "<IPython.core.display.Markdown object>"
      ]
     },
     "metadata": {},
     "output_type": "display_data"
    }
   ],
   "source": [
    "x(\"nope\");"
   ]
  },
  {
   "cell_type": "code",
   "execution_count": 14,
   "id": "345919bf-aeb5-477d-9e5b-577b3c2fd20f",
   "metadata": {},
   "outputs": [
    {
     "data": {
      "text/markdown": [
       "Understood. Now, could you describe your physical activity level? How often do you exercise, and what types of activities do you do?"
      ],
      "text/plain": [
       "<IPython.core.display.Markdown object>"
      ]
     },
     "metadata": {},
     "output_type": "display_data"
    }
   ],
   "source": [
    "x(\"some alchohol, mostly at the weekends\");"
   ]
  },
  {
   "cell_type": "code",
   "execution_count": 15,
   "id": "23fa6c80-86c1-4f37-83c4-a3905684c1cd",
   "metadata": {},
   "outputs": [
    {
     "data": {
      "text/markdown": [
       "That's a nice variety of activities. It's great that you're staying active. Could you tell me what a typical day of eating looks like for you?"
      ],
      "text/plain": [
       "<IPython.core.display.Markdown object>"
      ]
     },
     "metadata": {},
     "output_type": "display_data"
    }
   ],
   "source": [
    "x(\"I'm a cyclist, surfer, lift weights\");"
   ]
  },
  {
   "cell_type": "code",
   "execution_count": 16,
   "id": "dfd939e0-9312-4be6-b34c-bf4074fdc9e5",
   "metadata": {},
   "outputs": [
    {
     "data": {
      "text/markdown": [
       "Sounds like a protein-rich diet. Next, do you have any existing medical conditions, such as diabetes, hypertension, or anything else?"
      ],
      "text/plain": [
       "<IPython.core.display.Markdown object>"
      ]
     },
     "metadata": {},
     "output_type": "display_data"
    }
   ],
   "source": [
    "x(\"three eggs and sausages for breakfast, salad and protein for lunch, meat and veg for dinner. 1g protein per lb of bodyweight\");"
   ]
  },
  {
   "cell_type": "code",
   "execution_count": 17,
   "id": "94a9ddc2-761f-4173-ab4a-1c54b5ccfd6d",
   "metadata": {},
   "outputs": [
    {
     "data": {
      "text/markdown": [
       "I'm sorry to hear about your back pain; that must be quite challenging, especially when it affects your sleep. Let's note that down. Could you list any current medications you're taking?"
      ],
      "text/plain": [
       "<IPython.core.display.Markdown object>"
      ]
     },
     "metadata": {},
     "output_type": "display_data"
    }
   ],
   "source": [
    "x(\"yeah I have some low back pain that often makes it hard to sleep\");"
   ]
  },
  {
   "cell_type": "code",
   "execution_count": 18,
   "id": "eb40f8a2-bfb1-4e6d-a3be-3bc973adeb5c",
   "metadata": {},
   "outputs": [
    {
     "data": {
      "text/markdown": [
       "Alright, no medications then. Moving on, is there a family history of insomnia or other sleep disorders?"
      ],
      "text/plain": [
       "<IPython.core.display.Markdown object>"
      ]
     },
     "metadata": {},
     "output_type": "display_data"
    }
   ],
   "source": [
    "x(\"no\");"
   ]
  },
  {
   "cell_type": "code",
   "execution_count": 19,
   "id": "8b0f04f2-c91d-4ab7-a273-0d9435363811",
   "metadata": {},
   "outputs": [
    {
     "data": {
      "text/markdown": [
       "Good to know. Have you had a history of mental health conditions, such as depression or anxiety?"
      ],
      "text/plain": [
       "<IPython.core.display.Markdown object>"
      ]
     },
     "metadata": {},
     "output_type": "display_data"
    }
   ],
   "source": [
    "x(\"no\");"
   ]
  },
  {
   "cell_type": "code",
   "execution_count": 20,
   "id": "9038ff6f-140d-43b0-bf9d-55ef34b69b42",
   "metadata": {},
   "outputs": [
    {
     "data": {
      "text/markdown": [
       "Okay, thank you for sharing that. Are you currently receiving any psychological treatment?"
      ],
      "text/plain": [
       "<IPython.core.display.Markdown object>"
      ]
     },
     "metadata": {},
     "output_type": "display_data"
    }
   ],
   "source": [
    "x(\"no\");"
   ]
  },
  {
   "cell_type": "code",
   "execution_count": 21,
   "id": "e04ed01d-f8d3-46b2-90c0-f49d422ca70c",
   "metadata": {},
   "outputs": [
    {
     "data": {
      "text/markdown": [
       "Noted. Now, who are you currently living with? Alone, family, friends?"
      ],
      "text/plain": [
       "<IPython.core.display.Markdown object>"
      ]
     },
     "metadata": {},
     "output_type": "display_data"
    }
   ],
   "source": [
    "x(\"no\");"
   ]
  },
  {
   "cell_type": "code",
   "execution_count": 22,
   "id": "90c61a0e-691c-4465-ab62-a77ae250b673",
   "metadata": {},
   "outputs": [
    {
     "data": {
      "text/markdown": [
       "That's quite unique! Living with family and sleeping in a VW Eurovan must be an adventure. How would you describe the noise level in your living area?"
      ],
      "text/plain": [
       "<IPython.core.display.Markdown object>"
      ]
     },
     "metadata": {},
     "output_type": "display_data"
    }
   ],
   "source": [
    "x(\"live with family, three kids, in a house but sleep in a VW Eurovan\");"
   ]
  },
  {
   "cell_type": "code",
   "execution_count": 23,
   "id": "9b11c271-f93c-4ec8-ae51-ef7c7ae07429",
   "metadata": {},
   "outputs": [
    {
     "data": {
      "text/markdown": [
       "Sounds peaceful. When it comes to sleep, what does success look like for you?"
      ],
      "text/plain": [
       "<IPython.core.display.Markdown object>"
      ]
     },
     "metadata": {},
     "output_type": "display_data"
    }
   ],
   "source": [
    "x(\"it's very rural and quiet\");"
   ]
  },
  {
   "cell_type": "code",
   "execution_count": 24,
   "id": "0db94ee6-837e-4a2e-99a9-85eed68eb36d",
   "metadata": {},
   "outputs": [
    {
     "data": {
      "text/markdown": [
       "That's a clear and healthy goal. What have you tried previously that helped with your sleep?"
      ],
      "text/plain": [
       "<IPython.core.display.Markdown object>"
      ]
     },
     "metadata": {},
     "output_type": "display_data"
    }
   ],
   "source": [
    "x(\"sleep through the night, wake up feeling refreshed\");"
   ]
  },
  {
   "cell_type": "code",
   "execution_count": 25,
   "id": "77b2d114-00e3-434a-a819-71acc230b760",
   "metadata": {},
   "outputs": [
    {
     "data": {
      "text/markdown": [
       "Exposure to daylight can indeed be beneficial for sleep. And on the flip side, what have you tried previously that didn't help with your sleep?"
      ],
      "text/plain": [
       "<IPython.core.display.Markdown object>"
      ]
     },
     "metadata": {},
     "output_type": "display_data"
    }
   ],
   "source": [
    "x(\"getting enough daylight\");"
   ]
  },
  {
   "cell_type": "code",
   "execution_count": 26,
   "id": "9de53311-69f1-41f9-8e60-658d8b04137e",
   "metadata": {},
   "outputs": [
    {
     "data": {
      "text/markdown": [
       "Interesting, apigenin doesn't seem to have been the right fit for you. Lastly, is there anything else you'd like to add to your health history that we haven't covered?"
      ],
      "text/plain": [
       "<IPython.core.display.Markdown object>"
      ]
     },
     "metadata": {},
     "output_type": "display_data"
    }
   ],
   "source": [
    "x(\"apigenin\");"
   ]
  },
  {
   "cell_type": "code",
   "execution_count": 27,
   "id": "6445f911-b3ce-48f8-bf47-34b17449ff6f",
   "metadata": {},
   "outputs": [
    {
     "name": "stderr",
     "output_type": "stream",
     "text": [
      "2023-11-29 11:35:45 INFO     sleepmate.history save_health_history entry=HealthHistory(date=datetime.datetime(2023, 11, 29, 11, 35, 45, 541939), sex='male', date_of_birth=datetime.datetime(1976, 2, 13, 0, 0), occupation='coder', work_hours='7 - 6 with breaks', smoking='no', alcohol='some alcohol, mostly at the weekends', physical_activity='cyclist, surfer, lift weights', diet='three eggs and sausages for breakfast, salad and protein for lunch, meat and veg for dinner. 1g protein per lb of bodyweight', medical_conditions='low back pain', medications='no', family_history='no', mental_health='no', psychological_treatment='no', living_with='family, three kids, in a house but sleep in a VW Eurovan', residence_type='house', noise_level='very rural and quiet', goal='sleep through the night, wake up feeling refreshed', helpful='getting enough daylight', unhelpful='apigenin', notes='no additional notes')\n"
     ]
    },
    {
     "name": "stdout",
     "output_type": "stream",
     "text": [
      "entry=HealthHistory(date=datetime.datetime(2023, 11, 29, 11, 35, 45, 541939), sex='male', date_of_birth=datetime.datetime(1976, 2, 13, 0, 0), occupation='coder', work_hours='7 - 6 with breaks', smoking='no', alcohol='some alcohol, mostly at the weekends', physical_activity='cyclist, surfer, lift weights', diet='three eggs and sausages for breakfast, salad and protein for lunch, meat and veg for dinner. 1g protein per lb of bodyweight', medical_conditions='low back pain', medications='no', family_history='no', mental_health='no', psychological_treatment='no', living_with='family, three kids, in a house but sleep in a VW Eurovan', residence_type='house', noise_level='very rural and quiet', goal='sleep through the night, wake up feeling refreshed', helpful='getting enough daylight', unhelpful='apigenin', notes='no additional notes')\n"
     ]
    },
    {
     "name": "stderr",
     "output_type": "stream",
     "text": [
      "2023-11-29 11:35:47 INFO     sleepmate.history get_last_health_history entry={'_id': ObjectId('656792912277812852808a0e'), 'user': ObjectId('653838c321f81e21a72df700'), 'date': datetime.datetime(2023, 11, 29, 11, 35, 45, 541000), 'sex': 'male', 'date_of_birth': datetime.datetime(1976, 2, 13, 0, 0), 'occupation': 'coder', 'work_hours': '7 - 6 with breaks', 'smoking': 'no', 'alcohol': 'some alcohol, mostly at the weekends', 'physical_activity': 'cyclist, surfer, lift weights', 'diet': 'three eggs and sausages for breakfast, salad and protein for lunch, meat and veg for dinner. 1g protein per lb of bodyweight', 'medical_conditions': 'low back pain', 'medications': 'no', 'family_history': 'no', 'mental_health': 'no', 'psychological_treatment': 'no', 'living_with': 'family, three kids, in a house but sleep in a VW Eurovan', 'residence_type': 'house', 'noise_level': 'very rural and quiet', 'goal': 'sleep through the night, wake up feeling refreshed', 'helpful': 'getting enough daylight', 'unhelpful': 'apigenin', 'notes': 'no additional notes'}\n"
     ]
    },
    {
     "data": {
      "text/markdown": [
       "Your health history has been saved successfully. Here's a summary:\n",
       "\n",
       "- Date of Entry: November 29, 2023\n",
       "- Sex: Male\n",
       "- Date of Birth: February 13, 1976\n",
       "- Occupation: Coder\n",
       "- Work Hours: 7 AM - 6 PM with breaks\n",
       "- Smoking: No\n",
       "- Alcohol: Some, mostly at the weekends\n",
       "- Physical Activity: Cyclist, surfer, lift weights\n",
       "- Diet: Three eggs and sausages for breakfast, salad and protein for lunch, meat and veg for dinner. 1g protein per lb of body weight\n",
       "- Medical Conditions: Low back pain\n",
       "- Medications: No\n",
       "- Family History of Sleep Disorders: No\n",
       "- Mental Health History: No\n",
       "- Psychological Treatment: No\n",
       "- Living With: Family, three kids, in a house but sleep in a VW Eurovan\n",
       "- Residence Type: House\n",
       "- Noise Level: Very rural and quiet\n",
       "- Sleep Goal: Sleep through the night, wake up feeling refreshed\n",
       "- What Helped: Getting enough daylight\n",
       "- What Didn't Help: Apigenin\n",
       "- Additional Notes: None\n",
       "\n",
       "Whenever you're ready to continue on your health journey, just say \"hey\" to let me know."
      ],
      "text/plain": [
       "<IPython.core.display.Markdown object>"
      ]
     },
     "metadata": {},
     "output_type": "display_data"
    }
   ],
   "source": [
    "x(\"no that's it\");"
   ]
  },
  {
   "cell_type": "code",
   "execution_count": 27,
   "id": "635b6568-3ea7-4a25-9a6d-02e57fe5274b",
   "metadata": {
    "collapsed": true,
    "jupyter": {
     "outputs_hidden": true
    }
   },
   "outputs": [
    {
     "name": "stderr",
     "output_type": "stream",
     "text": [
      "2023-11-29 06:57:22 INFO     sleepmate.history get_last_health_history entry={'_id': ObjectId('6567513b41f5a6d64d6c48eb'), 'user': ObjectId('653838c321f81e21a72df700'), 'date': datetime.datetime(2023, 11, 29, 6, 56, 59, 597000), 'sex': 'male', 'date_of_birth': datetime.datetime(2069, 7, 18, 0, 0), 'occupation': 'coder', 'work_hours': '7 - 6 with breaks', 'smoking': 'nope', 'alcohol': 'some alcohol, mostly at the weekends', 'physical_activity': 'cyclist, surfer, lift weights', 'diet': 'three eggs and sausages for breakfast, salad and protein for lunch, meat and veg for dinner. 1g protein per lb of bodyweight', 'medical_conditions': 'none', 'medications': 'no', 'family_history': 'no', 'mental_health': 'no', 'psychological_treatment': 'no', 'living_with': 'live with family, three kids, in a house but sleep in a VW Eurovan', 'residence_type': 'house', 'noise_level': \"it's very rural and quiet\", 'goal': 'sleep through the night, wake up feeling refreshed', 'helpful': 'getting enough daylight', 'unhelpful': 'apigenin', 'notes': \"no that's it\"}\n"
     ]
    },
    {
     "data": {
      "text/markdown": [
       "Here's the summary of your health history, Christopher:\n",
       "\n",
       "- Date of Entry: November 29, 2023\n",
       "- Sex: Male\n",
       "- Date of Birth: July 18, 2069 (Please note there seems to be a typo here, we'll correct it to 1969)\n",
       "- Occupation: Coder\n",
       "- Work Hours: 7 AM - 6 PM with breaks\n",
       "- Smoking: No\n",
       "- Alcohol: Some, mostly at weekends\n",
       "- Physical Activity: Cyclist, surfer, weightlifting\n",
       "- Diet: Three eggs and sausages for breakfast, salad and protein for lunch, meat and vegetables for dinner, aiming for 1g of protein per lb of body weight\n",
       "- Medical Conditions: None\n",
       "- Medications: None\n",
       "- Family History of Sleep Disorders: No\n",
       "- Mental Health History: No\n",
       "- Psychological Treatment: No\n",
       "- Living With: Family, three kids, sleeps in a VW Eurovan\n",
       "- Residence Type: House\n",
       "- Noise Level: Very rural and quiet\n",
       "- Sleep Goal: Sleep through the night and wake up feeling refreshed\n",
       "- What Helped: Getting enough daylight\n",
       "- What Didn't Help: Apigenin\n",
       "- Additional Notes: None\n",
       "\n",
       "When you're ready to continue on your health journey, just say \"hey\"."
      ],
      "text/plain": [
       "<IPython.core.display.Markdown object>"
      ]
     },
     "metadata": {},
     "output_type": "display_data"
    }
   ],
   "source": [
    "x(\"summarise my health history\");"
   ]
  },
  {
   "cell_type": "code",
   "execution_count": 3,
   "id": "4c73c6b7-3dd3-4bd0-9ca3-177c76ebc698",
   "metadata": {},
   "outputs": [],
   "source": [
    "from sleepmate.history import *"
   ]
  },
  {
   "cell_type": "code",
   "execution_count": 29,
   "id": "d4314108-15f7-4445-9090-7d183e4c0db4",
   "metadata": {},
   "outputs": [],
   "source": [
    "db_entry = DBHealthHistory.objects(user=x.db_user_id).first()"
   ]
  },
  {
   "cell_type": "code",
   "execution_count": 30,
   "id": "12eca79c-8f54-4997-bdd1-320ad2440529",
   "metadata": {},
   "outputs": [
    {
     "data": {
      "text/plain": [
       "datetime.datetime(2069, 7, 18, 0, 0)"
      ]
     },
     "execution_count": 30,
     "metadata": {},
     "output_type": "execute_result"
    }
   ],
   "source": [
    "db_entry.date_of_birth"
   ]
  },
  {
   "cell_type": "code",
   "execution_count": 34,
   "id": "a1a8b69a-6e80-4db9-a621-3cea8e282c3c",
   "metadata": {},
   "outputs": [],
   "source": [
    "date_str = \"7/18/69\""
   ]
  },
  {
   "cell_type": "code",
   "execution_count": 35,
   "id": "d42b008d-3d3c-4901-b8e8-a6a81baf0069",
   "metadata": {},
   "outputs": [
    {
     "data": {
      "text/plain": [
       "datetime.datetime(2069, 7, 18, 0, 0)"
      ]
     },
     "execution_count": 35,
     "metadata": {},
     "output_type": "execute_result"
    }
   ],
   "source": [
    "parse_date(date_str)"
   ]
  },
  {
   "cell_type": "code",
   "execution_count": 33,
   "id": "966446ef-9f5b-4d5d-a10f-6c73a4e85845",
   "metadata": {},
   "outputs": [],
   "source": [
    "from dateutil.parser import parse as date_parser"
   ]
  },
  {
   "cell_type": "code",
   "execution_count": 36,
   "id": "5d38ef17-3022-45ac-adea-7c32012e06ee",
   "metadata": {},
   "outputs": [
    {
     "data": {
      "text/plain": [
       "datetime.datetime(2069, 7, 18, 0, 0)"
      ]
     },
     "execution_count": 36,
     "metadata": {},
     "output_type": "execute_result"
    }
   ],
   "source": [
    "date_parser(date_str)"
   ]
  },
  {
   "cell_type": "code",
   "execution_count": 38,
   "id": "6827a595-3c88-4a60-bc48-b79fe531774f",
   "metadata": {},
   "outputs": [],
   "source": [
    "default = datetime(1900, 1, 1)"
   ]
  },
  {
   "cell_type": "code",
   "execution_count": 39,
   "id": "f9157b76-1360-4483-b569-1181330b1ca3",
   "metadata": {},
   "outputs": [
    {
     "data": {
      "text/plain": [
       "datetime.datetime(2069, 7, 18, 0, 0)"
      ]
     },
     "execution_count": 39,
     "metadata": {},
     "output_type": "execute_result"
    }
   ],
   "source": [
    "date_parser(date_str, default=default)"
   ]
  },
  {
   "cell_type": "code",
   "execution_count": 4,
   "id": "bafd5dd5-752f-4b16-8668-22a9c386da7d",
   "metadata": {},
   "outputs": [],
   "source": [
    "from langchain.output_parsers import PydanticOutputParser"
   ]
  },
  {
   "cell_type": "code",
   "execution_count": 5,
   "id": "f6cbc77c-a884-42bd-91b3-c3ba1854e7d7",
   "metadata": {},
   "outputs": [],
   "source": [
    "parser = PydanticOutputParser(pydantic_object=HealthHistory)"
   ]
  },
  {
   "cell_type": "code",
   "execution_count": 8,
   "id": "2b46ab2f-9abe-4f73-b64d-2638e7bb7e40",
   "metadata": {},
   "outputs": [],
   "source": [
    "text = \"\"\"\n",
    "```json\n",
    "{\n",
    "  \"date\": \"today's date\",\n",
    "  \"sex\": \"male\",\n",
    "  \"date_of_birth\": \"7/18/69\",\n",
    "  \"occupation\": \"coder\",\n",
    "  \"work_hours\": \"7 - 6 with breaks\",\n",
    "  \"smoking\": \"nope\",\n",
    "  \"alcohol\": \"some alcohol, mostly at the weekends\",\n",
    "  \"physical_activity\": \"cyclist, surfer, lift weights\",\n",
    "  \"diet\": \"three eggs and sausages for breakfast, salad and protein for lunch, meat and veg for dinner. 1g protein per lb of bodyweight\",\n",
    "  \"medical_conditions\": \"none\",\n",
    "  \"medications\": \"no\",\n",
    "  \"family_history\": \"no\",\n",
    "  \"mental_health\": \"no\",\n",
    "  \"psychological_treatment\": \"no\",\n",
    "  \"living_with\": \"live with family, three kids, in a house but sleep in a VW Eurovan\",\n",
    "  \"residence_type\": \"house\",\n",
    "  \"noise_level\": \"it's very rural and quiet\",\n",
    "  \"goal\": \"sleep through the night, wake up feeling refreshed\",\n",
    "  \"helpful\": \"getting enough daylight\",\n",
    "  \"unhelpful\": \"apigenin\",\n",
    "  \"notes\": \"no that's it\"\n",
    "}\n",
    "```\"\"\""
   ]
  },
  {
   "cell_type": "code",
   "execution_count": 9,
   "id": "e084137c-7afc-4e4e-b85a-0f16d494bf5a",
   "metadata": {},
   "outputs": [
    {
     "data": {
      "text/plain": [
       "HealthHistory(date=datetime.datetime(2023, 11, 29, 7, 32, 46, 831254), sex='male', date_of_birth=datetime.datetime(1976, 2, 13, 0, 0), occupation='coder', work_hours='7 - 6 with breaks', smoking='nope', alcohol='some alcohol, mostly at the weekends', physical_activity='cyclist, surfer, lift weights', diet='three eggs and sausages for breakfast, salad and protein for lunch, meat and veg for dinner. 1g protein per lb of bodyweight', medical_conditions='none', medications='no', family_history='no', mental_health='no', psychological_treatment='no', living_with='live with family, three kids, in a house but sleep in a VW Eurovan', residence_type='house', noise_level=\"it's very rural and quiet\", goal='sleep through the night, wake up feeling refreshed', helpful='getting enough daylight', unhelpful='apigenin', notes=\"no that's it\")"
      ]
     },
     "execution_count": 9,
     "metadata": {},
     "output_type": "execute_result"
    }
   ],
   "source": [
    "parser.parse(text)"
   ]
  },
  {
   "cell_type": "code",
   "execution_count": null,
   "id": "8c1614b2-0c55-41ab-97e1-19439d7feac2",
   "metadata": {},
   "outputs": [],
   "source": []
  }
 ],
 "metadata": {
  "kernelspec": {
   "display_name": "Python 3 (ipykernel)",
   "language": "python",
   "name": "python3"
  },
  "language_info": {
   "codemirror_mode": {
    "name": "ipython",
    "version": 3
   },
   "file_extension": ".py",
   "mimetype": "text/x-python",
   "name": "python",
   "nbconvert_exporter": "python",
   "pygments_lexer": "ipython3",
   "version": "3.11.5"
  }
 },
 "nbformat": 4,
 "nbformat_minor": 5
}
