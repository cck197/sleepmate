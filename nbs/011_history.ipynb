{
 "cells": [
  {
   "cell_type": "code",
   "execution_count": 1,
   "id": "730462af-c5ba-4d21-a184-e20d55afca38",
   "metadata": {},
   "outputs": [],
   "source": [
    "from sleepmate.agent import *"
   ]
  },
  {
   "cell_type": "code",
   "execution_count": 2,
   "id": "b375ddf2-8b17-4419-b119-123748e90ba9",
   "metadata": {},
   "outputs": [],
   "source": [
    "username = \"test\""
   ]
  },
  {
   "cell_type": "code",
   "execution_count": 3,
   "id": "af4a8cd8-7bfc-411f-b1a6-3f59e7a966ff",
   "metadata": {},
   "outputs": [],
   "source": [
    "clear_db_for_user(get_user_from_username(username).id)"
   ]
  },
  {
   "cell_type": "markdown",
   "id": "74e738dc-176b-42ca-9b36-1d46413b1554",
   "metadata": {},
   "source": [
    "# Health History"
   ]
  },
  {
   "cell_type": "code",
   "execution_count": 4,
   "id": "cde0b286-bb04-49e1-bdc3-24526911452f",
   "metadata": {},
   "outputs": [
    {
     "name": "stderr",
     "output_type": "stream",
     "text": [
      "2023-10-25 12:52:54 INFO     chromadb.telemetry.posthog Anonymized telemetry enabled. See https://docs.trychroma.com/telemetry for more information.\n"
     ]
    },
    {
     "data": {
      "text/markdown": [
       "Ahoy there, Sleepy! I hope you're feeling well today. I'd like to gather some information about your health history. Would now be a good time for that?"
      ],
      "text/plain": [
       "<IPython.core.display.Markdown object>"
      ]
     },
     "metadata": {},
     "output_type": "display_data"
    }
   ],
   "source": [
    "x = X(goal=\"health_history\", username=username, fixed_goal=True)"
   ]
  },
  {
   "cell_type": "code",
   "execution_count": 5,
   "id": "00672d9a-17f6-4b1a-8595-7a455d7a6c69",
   "metadata": {},
   "outputs": [
    {
     "data": {
      "text/markdown": [
       "Brilliant! Let's get started then. \n",
       "\n",
       "First off, today's date will be recorded as the date of entry. \n",
       "\n",
       "Now, could you please tell me your sex?"
      ],
      "text/plain": [
       "<IPython.core.display.Markdown object>"
      ]
     },
     "metadata": {},
     "output_type": "display_data"
    }
   ],
   "source": [
    "x(\"sure\");"
   ]
  },
  {
   "cell_type": "code",
   "execution_count": 6,
   "id": "961e0fe4-4a1e-400f-ae37-eedf0f13e21a",
   "metadata": {},
   "outputs": [
    {
     "data": {
      "text/markdown": [
       "Thank you for sharing, Sleepy. \n",
       "\n",
       "Next, could you please tell me your date of birth?"
      ],
      "text/plain": [
       "<IPython.core.display.Markdown object>"
      ]
     },
     "metadata": {},
     "output_type": "display_data"
    }
   ],
   "source": [
    "x(\"male\");"
   ]
  },
  {
   "cell_type": "code",
   "execution_count": 7,
   "id": "fb010a7e-173a-47ec-bd27-93174174d555",
   "metadata": {},
   "outputs": [
    {
     "data": {
      "text/markdown": [
       "Thank you, Sleepy. \n",
       "\n",
       "Moving on, could you please tell me about your current occupation?"
      ],
      "text/plain": [
       "<IPython.core.display.Markdown object>"
      ]
     },
     "metadata": {},
     "output_type": "display_data"
    }
   ],
   "source": [
    "x(\"Feb 13 1976\");"
   ]
  },
  {
   "cell_type": "code",
   "execution_count": 8,
   "id": "0fa3b0a7-aab8-4b32-8337-f99b69ebd353",
   "metadata": {},
   "outputs": [
    {
     "data": {
      "text/markdown": [
       "Ah, a coder! That's a fascinating field. \n",
       "\n",
       "Could you please tell me about your typical work hours?"
      ],
      "text/plain": [
       "<IPython.core.display.Markdown object>"
      ]
     },
     "metadata": {},
     "output_type": "display_data"
    }
   ],
   "source": [
    "x(\"coder\");"
   ]
  },
  {
   "cell_type": "code",
   "execution_count": 9,
   "id": "6c078a34-fc53-4144-8b47-592ee099dfb0",
   "metadata": {},
   "outputs": [
    {
     "data": {
      "text/markdown": [
       "Thank you for sharing, Sleepy. \n",
       "\n",
       "Now, let's talk about lifestyle. Do you smoke?"
      ],
      "text/plain": [
       "<IPython.core.display.Markdown object>"
      ]
     },
     "metadata": {},
     "output_type": "display_data"
    }
   ],
   "source": [
    "x(\"7 - 6 with breaks\");"
   ]
  },
  {
   "cell_type": "code",
   "execution_count": 10,
   "id": "c523f319-044b-4a50-a4d3-5f0d7f667af2",
   "metadata": {},
   "outputs": [
    {
     "data": {
      "text/markdown": [
       "That's good to hear, Sleepy. \n",
       "\n",
       "What about alcohol? Do you drink?"
      ],
      "text/plain": [
       "<IPython.core.display.Markdown object>"
      ]
     },
     "metadata": {},
     "output_type": "display_data"
    }
   ],
   "source": [
    "x(\"nope\");"
   ]
  },
  {
   "cell_type": "code",
   "execution_count": 11,
   "id": "345919bf-aeb5-477d-9e5b-577b3c2fd20f",
   "metadata": {},
   "outputs": [
    {
     "data": {
      "text/markdown": [
       "Thank you for sharing, Sleepy. \n",
       "\n",
       "Could you please tell me about your level of physical activity?"
      ],
      "text/plain": [
       "<IPython.core.display.Markdown object>"
      ]
     },
     "metadata": {},
     "output_type": "display_data"
    }
   ],
   "source": [
    "x(\"some alchohol, mostly at the weekends\");"
   ]
  },
  {
   "cell_type": "code",
   "execution_count": 12,
   "id": "23fa6c80-86c1-4f37-83c4-a3905684c1cd",
   "metadata": {},
   "outputs": [
    {
     "data": {
      "text/markdown": [
       "Sounds like you're quite active, Sleepy. That's fantastic!\n",
       "\n",
       "Now, could you describe what a typical day of eating looks like for you?"
      ],
      "text/plain": [
       "<IPython.core.display.Markdown object>"
      ]
     },
     "metadata": {},
     "output_type": "display_data"
    }
   ],
   "source": [
    "x(\"I'm a cyclist, surfer, lift weights\");"
   ]
  },
  {
   "cell_type": "code",
   "execution_count": 13,
   "id": "dfd939e0-9312-4be6-b34c-bf4074fdc9e5",
   "metadata": {},
   "outputs": [
    {
     "data": {
      "text/markdown": [
       "Thank you for sharing, Sleepy. \n",
       "\n",
       "Do you have any existing medical conditions, such as diabetes or hypertension?"
      ],
      "text/plain": [
       "<IPython.core.display.Markdown object>"
      ]
     },
     "metadata": {},
     "output_type": "display_data"
    }
   ],
   "source": [
    "x(\"three eggs and sausages for breakfast, salad and protein for lunch, meat and veg for dinner. 1g protein per lb of bodyweight\");"
   ]
  },
  {
   "cell_type": "code",
   "execution_count": 14,
   "id": "94a9ddc2-761f-4173-ab4a-1c54b5ccfd6d",
   "metadata": {},
   "outputs": [
    {
     "data": {
      "text/markdown": [
       "That's good to hear, Sleepy. \n",
       "\n",
       "Are you currently taking any medications?"
      ],
      "text/plain": [
       "<IPython.core.display.Markdown object>"
      ]
     },
     "metadata": {},
     "output_type": "display_data"
    }
   ],
   "source": [
    "x(\"none\");"
   ]
  },
  {
   "cell_type": "code",
   "execution_count": 15,
   "id": "eb40f8a2-bfb1-4e6d-a3be-3bc973adeb5c",
   "metadata": {},
   "outputs": [
    {
     "data": {
      "text/markdown": [
       "Thank you for sharing, Sleepy. \n",
       "\n",
       "Is there a family history of insomnia or other sleep disorders?"
      ],
      "text/plain": [
       "<IPython.core.display.Markdown object>"
      ]
     },
     "metadata": {},
     "output_type": "display_data"
    }
   ],
   "source": [
    "x(\"no\");"
   ]
  },
  {
   "cell_type": "code",
   "execution_count": 16,
   "id": "8b0f04f2-c91d-4ab7-a273-0d9435363811",
   "metadata": {},
   "outputs": [
    {
     "data": {
      "text/markdown": [
       "Thank you for sharing, Sleepy. \n",
       "\n",
       "Have you had a history of mental health conditions, such as depression or anxiety?"
      ],
      "text/plain": [
       "<IPython.core.display.Markdown object>"
      ]
     },
     "metadata": {},
     "output_type": "display_data"
    }
   ],
   "source": [
    "x(\"no\");"
   ]
  },
  {
   "cell_type": "code",
   "execution_count": 17,
   "id": "9038ff6f-140d-43b0-bf9d-55ef34b69b42",
   "metadata": {},
   "outputs": [
    {
     "data": {
      "text/markdown": [
       "That's good to hear, Sleepy. \n",
       "\n",
       "Are you currently undergoing any psychological treatment?"
      ],
      "text/plain": [
       "<IPython.core.display.Markdown object>"
      ]
     },
     "metadata": {},
     "output_type": "display_data"
    }
   ],
   "source": [
    "x(\"no\");"
   ]
  },
  {
   "cell_type": "code",
   "execution_count": 18,
   "id": "e04ed01d-f8d3-46b2-90c0-f49d422ca70c",
   "metadata": {},
   "outputs": [
    {
     "data": {
      "text/markdown": [
       "Thank you for sharing, Sleepy. \n",
       "\n",
       "Who do you live with? Alone, family, friends?"
      ],
      "text/plain": [
       "<IPython.core.display.Markdown object>"
      ]
     },
     "metadata": {},
     "output_type": "display_data"
    }
   ],
   "source": [
    "x(\"no\");"
   ]
  },
  {
   "cell_type": "code",
   "execution_count": 19,
   "id": "90c61a0e-691c-4465-ab62-a77ae250b673",
   "metadata": {},
   "outputs": [
    {
     "data": {
      "text/markdown": [
       "Sounds like a lively household, Sleepy. \n",
       "\n",
       "Could you describe the noise level in your living area?"
      ],
      "text/plain": [
       "<IPython.core.display.Markdown object>"
      ]
     },
     "metadata": {},
     "output_type": "display_data"
    }
   ],
   "source": [
    "x(\"live with family, three kids, in a house but sleep in a VW Eurovan\");"
   ]
  },
  {
   "cell_type": "code",
   "execution_count": 20,
   "id": "9b11c271-f93c-4ec8-ae51-ef7c7ae07429",
   "metadata": {},
   "outputs": [
    {
     "data": {
      "text/markdown": [
       "Sounds peaceful, Sleepy. \n",
       "\n",
       "Now, could you tell me what success looks like to you?"
      ],
      "text/plain": [
       "<IPython.core.display.Markdown object>"
      ]
     },
     "metadata": {},
     "output_type": "display_data"
    }
   ],
   "source": [
    "x(\"it's very rural and quiet\");"
   ]
  },
  {
   "cell_type": "code",
   "execution_count": 21,
   "id": "0db94ee6-837e-4a2e-99a9-85eed68eb36d",
   "metadata": {},
   "outputs": [
    {
     "data": {
      "text/markdown": [
       "That sounds like a wonderful goal, Sleepy. \n",
       "\n",
       "Could you share what you've tried previously that helped you towards this goal?"
      ],
      "text/plain": [
       "<IPython.core.display.Markdown object>"
      ]
     },
     "metadata": {},
     "output_type": "display_data"
    }
   ],
   "source": [
    "x(\"sleep through the night, wake up feeling refreshed\");"
   ]
  },
  {
   "cell_type": "code",
   "execution_count": 22,
   "id": "77b2d114-00e3-434a-a819-71acc230b760",
   "metadata": {},
   "outputs": [
    {
     "data": {
      "text/markdown": [
       "That's a great strategy, Sleepy. \n",
       "\n",
       "On the other hand, have you tried anything previously that didn't quite help?"
      ],
      "text/plain": [
       "<IPython.core.display.Markdown object>"
      ]
     },
     "metadata": {},
     "output_type": "display_data"
    }
   ],
   "source": [
    "x(\"getting enough daylight\");"
   ]
  },
  {
   "cell_type": "code",
   "execution_count": 23,
   "id": "9de53311-69f1-41f9-8e60-658d8b04137e",
   "metadata": {},
   "outputs": [
    {
     "data": {
      "text/markdown": [
       "I see, not everything works for everyone. \n",
       "\n",
       "Is there anything else you'd like to add to your health history, Sleepy?"
      ],
      "text/plain": [
       "<IPython.core.display.Markdown object>"
      ]
     },
     "metadata": {},
     "output_type": "display_data"
    }
   ],
   "source": [
    "x(\"apigenin\");"
   ]
  },
  {
   "cell_type": "code",
   "execution_count": 24,
   "id": "6445f911-b3ce-48f8-bf47-34b17449ff6f",
   "metadata": {},
   "outputs": [
    {
     "name": "stderr",
     "output_type": "stream",
     "text": [
      "2023-10-25 12:54:56 INFO     sleepmate.history save_health_history entry=HealthHistory(date=datetime.datetime(2023, 10, 25, 12, 54, 56, 163417), sex='male', date_of_birth=datetime.datetime(1976, 2, 13, 0, 0), occupation='coder', work_hours='7 - 6 with breaks', smoking='no', alcohol='some alcohol, mostly at the weekends', physical_activity='cyclist, surfer, lift weights', diet='three eggs and sausages for breakfast, salad and protein for lunch, meat and veg for dinner. 1g protein per lb of bodyweight', medical_conditions='none', medications='no', family_history='no', mental_health='no', psychological_treatment='no', living_with='family, three kids, in a house but sleep in a VW Eurovan', residence_type='house', noise_level='very rural and quiet', goal='sleep through the night, wake up feeling refreshed', helpful='getting enough daylight', unhelpful='apigenin', notes='none')\n"
     ]
    },
    {
     "name": "stdout",
     "output_type": "stream",
     "text": [
      "entry=HealthHistory(date=datetime.datetime(2023, 10, 25, 12, 54, 56, 163417), sex='male', date_of_birth=datetime.datetime(1976, 2, 13, 0, 0), occupation='coder', work_hours='7 - 6 with breaks', smoking='no', alcohol='some alcohol, mostly at the weekends', physical_activity='cyclist, surfer, lift weights', diet='three eggs and sausages for breakfast, salad and protein for lunch, meat and veg for dinner. 1g protein per lb of bodyweight', medical_conditions='none', medications='no', family_history='no', mental_health='no', psychological_treatment='no', living_with='family, three kids, in a house but sleep in a VW Eurovan', residence_type='house', noise_level='very rural and quiet', goal='sleep through the night, wake up feeling refreshed', helpful='getting enough daylight', unhelpful='apigenin', notes='none')\n"
     ]
    },
    {
     "name": "stderr",
     "output_type": "stream",
     "text": [
      "2023-10-25 12:54:59 INFO     sleepmate.history get_last_health_history entry={'_id': ObjectId('65397290a2140e6cf2813327'), 'user': ObjectId('653838c321f81e21a72df700'), 'date': datetime.datetime(2023, 10, 25, 12, 54, 56, 163000), 'sex': 'male', 'date_of_birth': datetime.datetime(1976, 2, 13, 0, 0), 'occupation': 'coder', 'work_hours': '7 - 6 with breaks', 'smoking': 'no', 'alcohol': 'some alcohol, mostly at the weekends', 'physical_activity': 'cyclist, surfer, lift weights', 'diet': 'three eggs and sausages for breakfast, salad and protein for lunch, meat and veg for dinner. 1g protein per lb of bodyweight', 'medical_conditions': 'none', 'medications': 'no', 'family_history': 'no', 'mental_health': 'no', 'psychological_treatment': 'no', 'living_with': 'family, three kids, in a house but sleep in a VW Eurovan', 'residence_type': 'house', 'noise_level': 'very rural and quiet', 'goal': 'sleep through the night, wake up feeling refreshed', 'helpful': 'getting enough daylight', 'unhelpful': 'apigenin', 'notes': 'none'}\n"
     ]
    },
    {
     "data": {
      "text/markdown": [
       "Thank you for sharing your health history, Sleepy. Here's a summary:\n",
       "\n",
       "- Date of entry: 25th October 2023\n",
       "- Sex: Male\n",
       "- Date of birth: 13th February 1976\n",
       "- Occupation: Coder\n",
       "- Work hours: 7am - 6pm with breaks\n",
       "- Smoking: No\n",
       "- Alcohol: Some, mostly at weekends\n",
       "- Physical activity: Cyclist, surfer, weightlifter\n",
       "- Diet: Three eggs and sausages for breakfast, salad and protein for lunch, meat and vegetables for dinner. 1g protein per lb of bodyweight.\n",
       "- Medical conditions: None\n",
       "- Medications: None\n",
       "- Family history of sleep disorders: None\n",
       "- Mental health history: None\n",
       "- Psychological treatment: None\n",
       "- Living situation: With family, three kids, in a house but sleep in a VW Eurovan\n",
       "- Residence type: House\n",
       "- Noise level: Very rural and quiet\n",
       "- Goal: Sleep through the night, wake up feeling refreshed\n",
       "- Helpful strategies: Getting enough daylight\n",
       "- Unhelpful strategies: Apigenin\n",
       "\n",
       "When you're ready to continue on your health journey, just say 'ahoy'."
      ],
      "text/plain": [
       "<IPython.core.display.Markdown object>"
      ]
     },
     "metadata": {},
     "output_type": "display_data"
    }
   ],
   "source": [
    "x(\"no that's it\");"
   ]
  },
  {
   "cell_type": "code",
   "execution_count": 25,
   "id": "22aeaa28-e797-4f0d-9016-7e09432f6b52",
   "metadata": {},
   "outputs": [
    {
     "data": {
      "text/markdown": [
       "Ahoy, Sleepy! Ready when you are to continue on your health journey."
      ],
      "text/plain": [
       "<IPython.core.display.Markdown object>"
      ]
     },
     "metadata": {},
     "output_type": "display_data"
    },
    {
     "data": {
      "text/plain": [
       "'Ahoy, Sleepy! Ready when you are to continue on your health journey.'"
      ]
     },
     "execution_count": 25,
     "metadata": {},
     "output_type": "execute_result"
    }
   ],
   "source": [
    "x(\"yep!\");"
   ]
  },
  {
   "cell_type": "code",
   "execution_count": null,
   "id": "635b6568-3ea7-4a25-9a6d-02e57fe5274b",
   "metadata": {},
   "outputs": [
    {
     "name": "stderr",
     "output_type": "stream",
     "text": [
      "2023-10-25 12:55:39 INFO     sleepmate.history get_last_health_history entry={'_id': ObjectId('65397290a2140e6cf2813327'), 'user': ObjectId('653838c321f81e21a72df700'), 'date': datetime.datetime(2023, 10, 25, 12, 54, 56, 163000), 'sex': 'male', 'date_of_birth': datetime.datetime(1976, 2, 13, 0, 0), 'occupation': 'coder', 'work_hours': '7 - 6 with breaks', 'smoking': 'no', 'alcohol': 'some alcohol, mostly at the weekends', 'physical_activity': 'cyclist, surfer, lift weights', 'diet': 'three eggs and sausages for breakfast, salad and protein for lunch, meat and veg for dinner. 1g protein per lb of bodyweight', 'medical_conditions': 'none', 'medications': 'no', 'family_history': 'no', 'mental_health': 'no', 'psychological_treatment': 'no', 'living_with': 'family, three kids, in a house but sleep in a VW Eurovan', 'residence_type': 'house', 'noise_level': 'very rural and quiet', 'goal': 'sleep through the night, wake up feeling refreshed', 'helpful': 'getting enough daylight', 'unhelpful': 'apigenin', 'notes': 'none'}\n"
     ]
    }
   ],
   "source": [
    "x(\"summarise my health history\");"
   ]
  },
  {
   "cell_type": "code",
   "execution_count": null,
   "id": "4c73c6b7-3dd3-4bd0-9ca3-177c76ebc698",
   "metadata": {},
   "outputs": [],
   "source": []
  }
 ],
 "metadata": {
  "kernelspec": {
   "display_name": "Python 3 (ipykernel)",
   "language": "python",
   "name": "python3"
  },
  "language_info": {
   "codemirror_mode": {
    "name": "ipython",
    "version": 3
   },
   "file_extension": ".py",
   "mimetype": "text/x-python",
   "name": "python",
   "nbconvert_exporter": "python",
   "pygments_lexer": "ipython3",
   "version": "3.11.5"
  }
 },
 "nbformat": 4,
 "nbformat_minor": 5
}
