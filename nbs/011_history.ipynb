{
 "cells": [
  {
   "cell_type": "code",
   "execution_count": 1,
   "id": "730462af-c5ba-4d21-a184-e20d55afca38",
   "metadata": {},
   "outputs": [],
   "source": [
    "from sleepmate.agent import *"
   ]
  },
  {
   "cell_type": "code",
   "execution_count": 2,
   "id": "0040419d-b9bc-42d4-b593-b8b47d188abb",
   "metadata": {},
   "outputs": [],
   "source": [
    "!rm -f /Users/cck197/Downloads/virtual_greg/memory.pkl"
   ]
  },
  {
   "cell_type": "markdown",
   "id": "74e738dc-176b-42ca-9b36-1d46413b1554",
   "metadata": {
    "jp-MarkdownHeadingCollapsed": true
   },
   "source": [
    "# Health History"
   ]
  },
  {
   "cell_type": "code",
   "execution_count": 3,
   "id": "cde0b286-bb04-49e1-bdc3-24526911452f",
   "metadata": {},
   "outputs": [
    {
     "name": "stdout",
     "output_type": "stream",
     "text": [
      "get_agent len(tools)=30\n",
      "_to_args_and_kwargs self.name='get_greeting' all_args=['Chris']\n"
     ]
    },
    {
     "data": {
      "text/markdown": [
       "Hello Chris, it's a pleasure to meet you. I hope you're doing well. Let's get started with your health history, shall we? \n",
       "\n",
       "First off, the date of entry will be today's date. Now, could you please tell me your sex?"
      ],
      "text/plain": [
       "<IPython.core.display.Markdown object>"
      ]
     },
     "metadata": {},
     "output_type": "display_data"
    }
   ],
   "source": [
    "x = X(goals[\"health_history\"]);"
   ]
  },
  {
   "cell_type": "code",
   "execution_count": 4,
   "id": "961e0fe4-4a1e-400f-ae37-eedf0f13e21a",
   "metadata": {},
   "outputs": [
    {
     "data": {
      "text/markdown": [
       "Thank you, Chris. Now, could you please share your date of birth?"
      ],
      "text/plain": [
       "<IPython.core.display.Markdown object>"
      ]
     },
     "metadata": {},
     "output_type": "display_data"
    }
   ],
   "source": [
    "x(\"man\");"
   ]
  },
  {
   "cell_type": "code",
   "execution_count": 5,
   "id": "fb010a7e-173a-47ec-bd27-93174174d555",
   "metadata": {},
   "outputs": [
    {
     "data": {
      "text/markdown": [
       "Thank you, Chris. Moving on, could you please tell me about your current occupation?"
      ],
      "text/plain": [
       "<IPython.core.display.Markdown object>"
      ]
     },
     "metadata": {},
     "output_type": "display_data"
    }
   ],
   "source": [
    "x(\"Feb 13 1976\");"
   ]
  },
  {
   "cell_type": "code",
   "execution_count": 6,
   "id": "0fa3b0a7-aab8-4b32-8337-f99b69ebd353",
   "metadata": {},
   "outputs": [
    {
     "data": {
      "text/markdown": [
       "Ah, a coder! I'm sure we could have some interesting conversations about algorithms and loops. Now, could you please tell me about your typical work hours?"
      ],
      "text/plain": [
       "<IPython.core.display.Markdown object>"
      ]
     },
     "metadata": {},
     "output_type": "display_data"
    }
   ],
   "source": [
    "x(\"coder\");"
   ]
  },
  {
   "cell_type": "code",
   "execution_count": 7,
   "id": "6c078a34-fc53-4144-8b47-592ee099dfb0",
   "metadata": {},
   "outputs": [
    {
     "data": {
      "text/markdown": [
       "Thank you for sharing, Chris. That's quite a stretch of time, but I'm glad to hear you're taking breaks. Now, let's talk about lifestyle habits. Do you smoke?"
      ],
      "text/plain": [
       "<IPython.core.display.Markdown object>"
      ]
     },
     "metadata": {},
     "output_type": "display_data"
    }
   ],
   "source": [
    "x(\"7 - 6 with breaks\");"
   ]
  },
  {
   "cell_type": "code",
   "execution_count": 8,
   "id": "c523f319-044b-4a50-a4d3-5f0d7f667af2",
   "metadata": {},
   "outputs": [
    {
     "data": {
      "text/markdown": [
       "That's good to hear, Chris. How about alcohol? Do you consume it? If so, how frequently?"
      ],
      "text/plain": [
       "<IPython.core.display.Markdown object>"
      ]
     },
     "metadata": {},
     "output_type": "display_data"
    }
   ],
   "source": [
    "x(\"nope\");"
   ]
  },
  {
   "cell_type": "code",
   "execution_count": 9,
   "id": "345919bf-aeb5-477d-9e5b-577b3c2fd20f",
   "metadata": {},
   "outputs": [
    {
     "data": {
      "text/markdown": [
       "Thank you for sharing, Chris. It's important to enjoy life's pleasures in moderation. Now, could you please tell me about your level of physical activity?"
      ],
      "text/plain": [
       "<IPython.core.display.Markdown object>"
      ]
     },
     "metadata": {},
     "output_type": "display_data"
    }
   ],
   "source": [
    "x(\"some alchohol, mostly at the weekends\");"
   ]
  },
  {
   "cell_type": "code",
   "execution_count": 10,
   "id": "23fa6c80-86c1-4f37-83c4-a3905684c1cd",
   "metadata": {},
   "outputs": [
    {
     "data": {
      "text/markdown": [
       "Impressive, Chris! You're quite the active individual. Now, could you describe what a typical day of eating looks like for you?"
      ],
      "text/plain": [
       "<IPython.core.display.Markdown object>"
      ]
     },
     "metadata": {},
     "output_type": "display_data"
    }
   ],
   "source": [
    "x(\"I'm a cyclist, surfer, lift weights\");"
   ]
  },
  {
   "cell_type": "code",
   "execution_count": 11,
   "id": "dfd939e0-9312-4be6-b34c-bf4074fdc9e5",
   "metadata": {},
   "outputs": [
    {
     "data": {
      "text/markdown": [
       "Sounds like a balanced diet, Chris. Now, do you have any existing medical conditions such as diabetes, hypertension, etc.?"
      ],
      "text/plain": [
       "<IPython.core.display.Markdown object>"
      ]
     },
     "metadata": {},
     "output_type": "display_data"
    }
   ],
   "source": [
    "x(\"three eggs and sausages for breakfast, salad and protein for lunch, meat and veg for dinner. 1g protein per lb of bodyweight\");"
   ]
  },
  {
   "cell_type": "code",
   "execution_count": 12,
   "id": "94a9ddc2-761f-4173-ab4a-1c54b5ccfd6d",
   "metadata": {},
   "outputs": [
    {
     "data": {
      "text/markdown": [
       "That's good to hear, Chris. Now, are you currently taking any medications?"
      ],
      "text/plain": [
       "<IPython.core.display.Markdown object>"
      ]
     },
     "metadata": {},
     "output_type": "display_data"
    }
   ],
   "source": [
    "x(\"none\");"
   ]
  },
  {
   "cell_type": "code",
   "execution_count": 13,
   "id": "eb40f8a2-bfb1-4e6d-a3be-3bc973adeb5c",
   "metadata": {},
   "outputs": [
    {
     "data": {
      "text/markdown": [
       "Great, Chris. Now, is there a family history of insomnia or other sleep disorders that you're aware of?"
      ],
      "text/plain": [
       "<IPython.core.display.Markdown object>"
      ]
     },
     "metadata": {},
     "output_type": "display_data"
    }
   ],
   "source": [
    "x(\"no\");"
   ]
  },
  {
   "cell_type": "code",
   "execution_count": 14,
   "id": "8b0f04f2-c91d-4ab7-a273-0d9435363811",
   "metadata": {},
   "outputs": [
    {
     "data": {
      "text/markdown": [
       "Thank you for sharing, Chris. Now, have you had any history of mental health conditions such as depression, anxiety, etc.?"
      ],
      "text/plain": [
       "<IPython.core.display.Markdown object>"
      ]
     },
     "metadata": {},
     "output_type": "display_data"
    }
   ],
   "source": [
    "x(\"no\");"
   ]
  },
  {
   "cell_type": "code",
   "execution_count": 15,
   "id": "9038ff6f-140d-43b0-bf9d-55ef34b69b42",
   "metadata": {},
   "outputs": [
    {
     "data": {
      "text/markdown": [
       "That's good to hear, Chris. Are you currently undergoing any psychological treatment?"
      ],
      "text/plain": [
       "<IPython.core.display.Markdown object>"
      ]
     },
     "metadata": {},
     "output_type": "display_data"
    }
   ],
   "source": [
    "x(\"no\");"
   ]
  },
  {
   "cell_type": "code",
   "execution_count": 16,
   "id": "e04ed01d-f8d3-46b2-90c0-f49d422ca70c",
   "metadata": {},
   "outputs": [
    {
     "data": {
      "text/markdown": [
       "Thank you for sharing, Chris. Now, who do you live with? Alone, family, friends?"
      ],
      "text/plain": [
       "<IPython.core.display.Markdown object>"
      ]
     },
     "metadata": {},
     "output_type": "display_data"
    }
   ],
   "source": [
    "x(\"no\");"
   ]
  },
  {
   "cell_type": "code",
   "execution_count": 17,
   "id": "90c61a0e-691c-4465-ab62-a77ae250b673",
   "metadata": {},
   "outputs": [
    {
     "data": {
      "text/markdown": [
       "Sounds like a lively household, Chris! Now, could you describe the noise level in your living area?"
      ],
      "text/plain": [
       "<IPython.core.display.Markdown object>"
      ]
     },
     "metadata": {},
     "output_type": "display_data"
    }
   ],
   "source": [
    "x(\"live with family, three kids, in a house but sleep in a VW Eurovan\");"
   ]
  },
  {
   "cell_type": "code",
   "execution_count": 18,
   "id": "9b11c271-f93c-4ec8-ae51-ef7c7ae07429",
   "metadata": {},
   "outputs": [
    {
     "data": {
      "text/markdown": [
       "Sounds peaceful, Chris. Now, could you tell me what success looks like to you?"
      ],
      "text/plain": [
       "<IPython.core.display.Markdown object>"
      ]
     },
     "metadata": {},
     "output_type": "display_data"
    }
   ],
   "source": [
    "x(\"it's very rural and quiet\");"
   ]
  },
  {
   "cell_type": "code",
   "execution_count": 19,
   "id": "0db94ee6-837e-4a2e-99a9-85eed68eb36d",
   "metadata": {},
   "outputs": [
    {
     "data": {
      "text/markdown": [
       "That's a wonderful goal, Chris. Now, could you tell me about anything you've tried previously that helped you achieve this?"
      ],
      "text/plain": [
       "<IPython.core.display.Markdown object>"
      ]
     },
     "metadata": {},
     "output_type": "display_data"
    }
   ],
   "source": [
    "x(\"sleep through the night, wake up feeling refreshed\");"
   ]
  },
  {
   "cell_type": "code",
   "execution_count": 20,
   "id": "77b2d114-00e3-434a-a819-71acc230b760",
   "metadata": {},
   "outputs": [
    {
     "data": {
      "text/markdown": [
       "That's a great strategy, Chris. Daylight can indeed help regulate our sleep-wake cycle. Now, have you tried anything in the past that didn't help?"
      ],
      "text/plain": [
       "<IPython.core.display.Markdown object>"
      ]
     },
     "metadata": {},
     "output_type": "display_data"
    }
   ],
   "source": [
    "x(\"getting enough daylight\");"
   ]
  },
  {
   "cell_type": "code",
   "execution_count": 21,
   "id": "9de53311-69f1-41f9-8e60-658d8b04137e",
   "metadata": {},
   "outputs": [
    {
     "data": {
      "text/markdown": [
       "Thank you for sharing that, Chris. Lastly, is there anything else you'd like to add to your health history?"
      ],
      "text/plain": [
       "<IPython.core.display.Markdown object>"
      ]
     },
     "metadata": {},
     "output_type": "display_data"
    }
   ],
   "source": [
    "x(\"apigenin\");"
   ]
  },
  {
   "cell_type": "code",
   "execution_count": 22,
   "id": "6445f911-b3ce-48f8-bf47-34b17449ff6f",
   "metadata": {},
   "outputs": [
    {
     "name": "stdout",
     "output_type": "stream",
     "text": [
      "_to_args_and_kwargs self.name='save_health_history' all_args=['[\"today\\'s date\", \"Male\", \"Feb 13 1976\", \"Coder\", \"7 - 6 with breaks\", \"No\", \"Some, mostly at the weekends\", \"Cyclist, surfer, lifts weights\", \"Three eggs and sausages for breakfast, salad and protein for lunch, meat and veg for dinner. 1g protein per lb of bodyweight\", \"None\", \"None\", \"No\", \"No\", \"No\", \"Family, three kids\", \"House, sleeps in a VW Eurovan\", \"Very rural and quiet\", \"Sleep through the night, wake up feeling refreshed\", \"Getting enough daylight\", \"Apigenin\", \"No\"]']\n",
      "save_health_history entry=HealthHistory(date=datetime.datetime(2023, 10, 18, 7, 25, 33, 643077), sex='Male', date_of_birth=datetime.datetime(1976, 2, 13, 0, 0), occupation='Coder', work_hours='7 - 6 with breaks', smoking='No', alcohol='Some, mostly at the weekends', physical_activity='Cyclist, surfer, lifts weights', diet='Three eggs and sausages for breakfast, salad and protein for lunch, meat and veg for dinner. 1g protein per lb of bodyweight', medical_conditions='None', medications='None', family_history='No', mental_health='No', psychological_treatment='No', living_with='Family, three kids', residence_type='House, sleeps in a VW Eurovan', noise_level='Very rural and quiet', goal='Sleep through the night, wake up feeling refreshed', helpful='Getting enough daylight', unhelpful='Apigenin', notes='No')\n"
     ]
    },
    {
     "data": {
      "text/markdown": [
       "Thank you, Chris. Here's a summary of your health history:\n",
       "\n",
       "- Date of entry: Today's date\n",
       "- Sex: Male\n",
       "- Date of birth: Feb 13 1976\n",
       "- Current Occupation: Coder\n",
       "- Typical work hours: 7 - 6 with breaks\n",
       "- Smoking: No\n",
       "- Alcohol: Some, mostly at the weekends\n",
       "- Physical Activity Level: Cyclist, surfer, lifts weights\n",
       "- Typical day of eating: Three eggs and sausages for breakfast, salad and protein for lunch, meat and veg for dinner. 1g protein per lb of bodyweight\n",
       "- Existing medical conditions: None\n",
       "- Current medications: None\n",
       "- Family history of insomnia or other sleep disorders: No\n",
       "- History of mental health conditions: No\n",
       "- Current psychological treatment: No\n",
       "- Living with: Family, three kids\n",
       "- Type of residence: House, sleeps in a VW Eurovan\n",
       "- Noise Level in the living area: Very rural and quiet\n",
       "- What does success look like: Sleep through the night, wake up feeling refreshed\n",
       "- What have you tried previously that helped: Getting enough daylight\n",
       "- What have you tried previously that didn't help: Apigenin\n",
       "\n",
       "Please confirm if all the details are correct."
      ],
      "text/plain": [
       "<IPython.core.display.Markdown object>"
      ]
     },
     "metadata": {},
     "output_type": "display_data"
    }
   ],
   "source": [
    "x(\"no that's it\");"
   ]
  },
  {
   "cell_type": "code",
   "execution_count": 23,
   "id": "22aeaa28-e797-4f0d-9016-7e09432f6b52",
   "metadata": {},
   "outputs": [
    {
     "name": "stdout",
     "output_type": "stream",
     "text": [
      "_to_args_and_kwargs self.name='save_health_history' all_args=['string']\n",
      "save_health_history entry=HealthHistory(date=datetime.datetime(2023, 10, 18, 7, 26, 6, 538315), sex='Male', date_of_birth=datetime.datetime(1976, 2, 13, 0, 0), occupation='Coder', work_hours='7 - 6 with breaks', smoking='No', alcohol='Some, mostly at the weekends', physical_activity='Cyclist, surfer, lifts weights', diet='Three eggs and sausages for breakfast, salad and protein for lunch, meat and veg for dinner. 1g protein per lb of bodyweight', medical_conditions='None', medications='None', family_history='No', mental_health='No', psychological_treatment='No', living_with='Family, three kids', residence_type='House, sleeps in a VW Eurovan', noise_level='Very rural and quiet', goal='Sleep through the night, wake up feeling refreshed', helpful='Getting enough daylight', unhelpful='Apigenin', notes='')\n"
     ]
    },
    {
     "data": {
      "text/markdown": [
       "Fantastic, Chris! Your health history has been saved successfully. Thank you for your time and cooperation. 🚀🚀🚀"
      ],
      "text/plain": [
       "<IPython.core.display.Markdown object>"
      ]
     },
     "metadata": {},
     "output_type": "display_data"
    },
    {
     "data": {
      "text/plain": [
       "'Fantastic, Chris! Your health history has been saved successfully. Thank you for your time and cooperation. 🚀🚀🚀'"
      ]
     },
     "execution_count": 23,
     "metadata": {},
     "output_type": "execute_result"
    }
   ],
   "source": [
    "x(\"yep!\")"
   ]
  },
  {
   "cell_type": "code",
   "execution_count": 24,
   "id": "635b6568-3ea7-4a25-9a6d-02e57fe5274b",
   "metadata": {},
   "outputs": [
    {
     "name": "stdout",
     "output_type": "stream",
     "text": [
      "_to_args_and_kwargs self.name='get_last_health_history' all_args=['chris@nourishbalancethrive.com']\n",
      "get_last_health_history entry={'_id': ObjectId('652feafecaa2804944f10028'), 'user': ObjectId('6526d86e6015be5b3434ac13'), 'date': datetime.datetime(2023, 10, 18, 7, 26, 6, 538000), 'sex': 'Male', 'date_of_birth': datetime.datetime(1976, 2, 13, 0, 0), 'occupation': 'Coder', 'work_hours': '7 - 6 with breaks', 'smoking': 'No', 'alcohol': 'Some, mostly at the weekends', 'physical_activity': 'Cyclist, surfer, lifts weights', 'diet': 'Three eggs and sausages for breakfast, salad and protein for lunch, meat and veg for dinner. 1g protein per lb of bodyweight', 'medical_conditions': 'None', 'medications': 'None', 'family_history': 'No', 'mental_health': 'No', 'psychological_treatment': 'No', 'living_with': 'Family, three kids', 'residence_type': 'House, sleeps in a VW Eurovan', 'noise_level': 'Very rural and quiet', 'goal': 'Sleep through the night, wake up feeling refreshed', 'helpful': 'Getting enough daylight', 'unhelpful': 'Apigenin', 'notes': ''}\n"
     ]
    },
    {
     "data": {
      "text/markdown": [
       "Here's a summary of your health history, Chris:\n",
       "\n",
       "- Date of entry: October 18, 2023\n",
       "- Sex: Male\n",
       "- Date of birth: February 13, 1976\n",
       "- Current Occupation: Coder\n",
       "- Typical work hours: 7 - 6 with breaks\n",
       "- Smoking: No\n",
       "- Alcohol: Some, mostly at the weekends\n",
       "- Physical Activity Level: Cyclist, surfer, lifts weights\n",
       "- Typical day of eating: Three eggs and sausages for breakfast, salad and protein for lunch, meat and veg for dinner. 1g protein per lb of bodyweight\n",
       "- Existing medical conditions: None\n",
       "- Current medications: None\n",
       "- Family history of insomnia or other sleep disorders: No\n",
       "- History of mental health conditions: No\n",
       "- Current psychological treatment: No\n",
       "- Living with: Family, three kids\n",
       "- Type of residence: House, sleeps in a VW Eurovan\n",
       "- Noise Level in the living area: Very rural and quiet\n",
       "- What does success look like: Sleep through the night, wake up feeling refreshed\n",
       "- What have you tried previously that helped: Getting enough daylight\n",
       "- What have you tried previously that didn't help: Apigenin\n",
       "\n",
       "Please let me know if there's anything else you need."
      ],
      "text/plain": [
       "<IPython.core.display.Markdown object>"
      ]
     },
     "metadata": {},
     "output_type": "display_data"
    }
   ],
   "source": [
    "x(\"summarise my health history\");"
   ]
  },
  {
   "cell_type": "code",
   "execution_count": null,
   "id": "4c73c6b7-3dd3-4bd0-9ca3-177c76ebc698",
   "metadata": {},
   "outputs": [],
   "source": []
  }
 ],
 "metadata": {
  "kernelspec": {
   "display_name": "Python 3 (ipykernel)",
   "language": "python",
   "name": "python3"
  },
  "language_info": {
   "codemirror_mode": {
    "name": "ipython",
    "version": 3
   },
   "file_extension": ".py",
   "mimetype": "text/x-python",
   "name": "python",
   "nbconvert_exporter": "python",
   "pygments_lexer": "ipython3",
   "version": "3.11.5"
  }
 },
 "nbformat": 4,
 "nbformat_minor": 5
}
