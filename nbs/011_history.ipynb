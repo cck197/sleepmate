{
 "cells": [
  {
   "cell_type": "code",
   "execution_count": 1,
   "id": "730462af-c5ba-4d21-a184-e20d55afca38",
   "metadata": {},
   "outputs": [],
   "source": [
    "from sleepmate.executor import *"
   ]
  },
  {
   "cell_type": "code",
   "execution_count": 7,
   "id": "b375ddf2-8b17-4419-b119-123748e90ba9",
   "metadata": {},
   "outputs": [],
   "source": [
    "username = \"test\"\n",
    "#username = \"cck197\""
   ]
  },
  {
   "cell_type": "code",
   "execution_count": 8,
   "id": "af4a8cd8-7bfc-411f-b1a6-3f59e7a966ff",
   "metadata": {},
   "outputs": [],
   "source": [
    "clear_db_for_user(get_user_from_username(username).id)"
   ]
  },
  {
   "cell_type": "markdown",
   "id": "74e738dc-176b-42ca-9b36-1d46413b1554",
   "metadata": {},
   "source": [
    "# Health History"
   ]
  },
  {
   "cell_type": "code",
   "execution_count": 5,
   "id": "cde0b286-bb04-49e1-bdc3-24526911452f",
   "metadata": {},
   "outputs": [
    {
     "data": {
      "text/markdown": [
       "Hello Chris! It's a pleasure to connect with you. How are you feeling right now, in this very moment?"
      ],
      "text/plain": [
       "<IPython.core.display.Markdown object>"
      ]
     },
     "metadata": {},
     "output_type": "display_data"
    }
   ],
   "source": [
    "x = X(goal=\"health_history\", username=username, fixed_goal=True, hello=\"hey\")"
   ]
  },
  {
   "cell_type": "code",
   "execution_count": 6,
   "id": "8bba9dc4-819b-44c4-8168-d078e78b1cc4",
   "metadata": {},
   "outputs": [
    {
     "data": {
      "text/markdown": [
       "It sounds like you're feeling quite drained at the moment. It's completely understandable, especially considering the demands of daily life. Would now be a good time to go through a health history questionnaire? It might help us understand your situation better."
      ],
      "text/plain": [
       "<IPython.core.display.Markdown object>"
      ]
     },
     "metadata": {},
     "output_type": "display_data"
    }
   ],
   "source": [
    "x(\"tired\");"
   ]
  },
  {
   "cell_type": "code",
   "execution_count": 7,
   "id": "8692d0d1-73ed-4002-b6b4-836377b108b7",
   "metadata": {},
   "outputs": [
    {
     "name": "stderr",
     "output_type": "stream",
     "text": [
      "2023-10-27 14:58:53 INFO     sleepmate.executor set_chat_model_start: self.last_message=HumanMessage(content='getting through the afternoon meetins is always a drag, and worrying about the next day keeps me awake that night')\n"
     ]
    },
    {
     "data": {
      "text/markdown": [
       "It sounds like you're caught in a bit of a cycle, with the stress of the day's meetings leading into worries about the next day, which then impacts your sleep. That must be quite challenging. Let's start with the health history questionnaire, shall we? \n",
       "\n",
       "Firstly, today's date will be the date of entry. Now, could you please tell me your sex?"
      ],
      "text/plain": [
       "<IPython.core.display.Markdown object>"
      ]
     },
     "metadata": {},
     "output_type": "display_data"
    }
   ],
   "source": [
    "x(\"getting through the afternoon meetins is always a drag, and worrying about the next day keeps me awake that night\");"
   ]
  },
  {
   "cell_type": "code",
   "execution_count": 8,
   "id": "00672d9a-17f6-4b1a-8595-7a455d7a6c69",
   "metadata": {},
   "outputs": [
    {
     "name": "stderr",
     "output_type": "stream",
     "text": [
      "2023-10-27 14:59:06 INFO     sleepmate.executor set_chat_model_start: self.last_message=HumanMessage(content='sure')\n"
     ]
    },
    {
     "data": {
      "text/markdown": [
       "I appreciate your willingness to share, Sleepy. However, I need a bit more specificity. Could you please tell me if you identify as male, female, or prefer not to say?"
      ],
      "text/plain": [
       "<IPython.core.display.Markdown object>"
      ]
     },
     "metadata": {},
     "output_type": "display_data"
    }
   ],
   "source": [
    "x(\"sure\");"
   ]
  },
  {
   "cell_type": "code",
   "execution_count": 9,
   "id": "961e0fe4-4a1e-400f-ae37-eedf0f13e21a",
   "metadata": {},
   "outputs": [
    {
     "name": "stderr",
     "output_type": "stream",
     "text": [
      "2023-10-27 14:59:12 INFO     sleepmate.executor set_chat_model_start: self.last_message=HumanMessage(content='male')\n"
     ]
    },
    {
     "data": {
      "text/markdown": [
       "Thank you for sharing, Sleepy. Now, could you please tell me your date of birth?"
      ],
      "text/plain": [
       "<IPython.core.display.Markdown object>"
      ]
     },
     "metadata": {},
     "output_type": "display_data"
    }
   ],
   "source": [
    "x(\"male\");"
   ]
  },
  {
   "cell_type": "code",
   "execution_count": 10,
   "id": "fb010a7e-173a-47ec-bd27-93174174d555",
   "metadata": {},
   "outputs": [
    {
     "name": "stderr",
     "output_type": "stream",
     "text": [
      "2023-10-27 14:59:16 INFO     sleepmate.executor set_chat_model_start: self.last_message=HumanMessage(content='Feb 13 1976')\n"
     ]
    },
    {
     "data": {
      "text/markdown": [
       "Thank you, Sleepy. Now, could you please tell me about your current occupation?"
      ],
      "text/plain": [
       "<IPython.core.display.Markdown object>"
      ]
     },
     "metadata": {},
     "output_type": "display_data"
    }
   ],
   "source": [
    "x(\"Feb 13 1976\");"
   ]
  },
  {
   "cell_type": "code",
   "execution_count": 11,
   "id": "0fa3b0a7-aab8-4b32-8337-f99b69ebd353",
   "metadata": {},
   "outputs": [
    {
     "name": "stderr",
     "output_type": "stream",
     "text": [
      "2023-10-27 14:59:18 INFO     sleepmate.executor set_chat_model_start: self.last_message=HumanMessage(content='coder')\n"
     ]
    },
    {
     "data": {
      "text/markdown": [
       "Ah, a coder! That's a job that requires a lot of mental energy. Now, could you please tell me about your typical work hours?"
      ],
      "text/plain": [
       "<IPython.core.display.Markdown object>"
      ]
     },
     "metadata": {},
     "output_type": "display_data"
    }
   ],
   "source": [
    "x(\"coder\");"
   ]
  },
  {
   "cell_type": "code",
   "execution_count": 12,
   "id": "6c078a34-fc53-4144-8b47-592ee099dfb0",
   "metadata": {},
   "outputs": [
    {
     "name": "stderr",
     "output_type": "stream",
     "text": [
      "2023-10-27 14:59:23 INFO     sleepmate.executor set_chat_model_start: self.last_message=HumanMessage(content='7 - 6 with breaks')\n"
     ]
    },
    {
     "data": {
      "text/markdown": [
       "That's quite a long day, Sleepy. Now, let's move on to some lifestyle questions. Do you smoke?"
      ],
      "text/plain": [
       "<IPython.core.display.Markdown object>"
      ]
     },
     "metadata": {},
     "output_type": "display_data"
    }
   ],
   "source": [
    "x(\"7 - 6 with breaks\");"
   ]
  },
  {
   "cell_type": "code",
   "execution_count": 13,
   "id": "c523f319-044b-4a50-a4d3-5f0d7f667af2",
   "metadata": {},
   "outputs": [
    {
     "name": "stderr",
     "output_type": "stream",
     "text": [
      "2023-10-27 14:59:27 INFO     sleepmate.executor set_chat_model_start: self.last_message=HumanMessage(content='nope')\n"
     ]
    },
    {
     "data": {
      "text/markdown": [
       "That's good to hear, Sleepy. How about alcohol? Do you drink, and if so, how often?"
      ],
      "text/plain": [
       "<IPython.core.display.Markdown object>"
      ]
     },
     "metadata": {},
     "output_type": "display_data"
    }
   ],
   "source": [
    "x(\"nope\");"
   ]
  },
  {
   "cell_type": "code",
   "execution_count": 14,
   "id": "345919bf-aeb5-477d-9e5b-577b3c2fd20f",
   "metadata": {},
   "outputs": [
    {
     "name": "stderr",
     "output_type": "stream",
     "text": [
      "2023-10-27 14:59:31 INFO     sleepmate.executor set_chat_model_start: self.last_message=HumanMessage(content='some alchohol, mostly at the weekends')\n"
     ]
    },
    {
     "data": {
      "text/markdown": [
       "Thank you for sharing, Sleepy. Now, could you please describe your level of physical activity?"
      ],
      "text/plain": [
       "<IPython.core.display.Markdown object>"
      ]
     },
     "metadata": {},
     "output_type": "display_data"
    }
   ],
   "source": [
    "x(\"some alchohol, mostly at the weekends\");"
   ]
  },
  {
   "cell_type": "code",
   "execution_count": 15,
   "id": "23fa6c80-86c1-4f37-83c4-a3905684c1cd",
   "metadata": {},
   "outputs": [
    {
     "name": "stderr",
     "output_type": "stream",
     "text": [
      "2023-10-27 14:59:33 INFO     sleepmate.executor set_chat_model_start: self.last_message=HumanMessage(content=\"I'm a cyclist, surfer, lift weights\")\n"
     ]
    },
    {
     "data": {
      "text/markdown": [
       "Impressive! You're quite active, Sleepy. Now, could you please describe what a typical day of eating looks like for you?"
      ],
      "text/plain": [
       "<IPython.core.display.Markdown object>"
      ]
     },
     "metadata": {},
     "output_type": "display_data"
    }
   ],
   "source": [
    "x(\"I'm a cyclist, surfer, lift weights\");"
   ]
  },
  {
   "cell_type": "code",
   "execution_count": 16,
   "id": "dfd939e0-9312-4be6-b34c-bf4074fdc9e5",
   "metadata": {},
   "outputs": [
    {
     "name": "stderr",
     "output_type": "stream",
     "text": [
      "2023-10-27 14:59:38 INFO     sleepmate.executor set_chat_model_start: self.last_message=HumanMessage(content='three eggs and sausages for breakfast, salad and protein for lunch, meat and veg for dinner. 1g protein per lb of bodyweight')\n"
     ]
    },
    {
     "data": {
      "text/markdown": [
       "Sounds like you're keeping a balanced diet, Sleepy. Now, do you have any existing medical conditions such as diabetes, hypertension, etc.?"
      ],
      "text/plain": [
       "<IPython.core.display.Markdown object>"
      ]
     },
     "metadata": {},
     "output_type": "display_data"
    }
   ],
   "source": [
    "x(\"three eggs and sausages for breakfast, salad and protein for lunch, meat and veg for dinner. 1g protein per lb of bodyweight\");"
   ]
  },
  {
   "cell_type": "code",
   "execution_count": 17,
   "id": "94a9ddc2-761f-4173-ab4a-1c54b5ccfd6d",
   "metadata": {},
   "outputs": [
    {
     "name": "stderr",
     "output_type": "stream",
     "text": [
      "2023-10-27 14:59:43 INFO     sleepmate.executor set_chat_model_start: self.last_message=HumanMessage(content='none')\n"
     ]
    },
    {
     "data": {
      "text/markdown": [
       "That's good to hear, Sleepy. Now, are you currently taking any medications?"
      ],
      "text/plain": [
       "<IPython.core.display.Markdown object>"
      ]
     },
     "metadata": {},
     "output_type": "display_data"
    }
   ],
   "source": [
    "x(\"none\");"
   ]
  },
  {
   "cell_type": "code",
   "execution_count": 18,
   "id": "eb40f8a2-bfb1-4e6d-a3be-3bc973adeb5c",
   "metadata": {},
   "outputs": [
    {
     "name": "stderr",
     "output_type": "stream",
     "text": [
      "2023-10-27 14:59:46 INFO     sleepmate.executor set_chat_model_start: self.last_message=HumanMessage(content='no')\n"
     ]
    },
    {
     "data": {
      "text/markdown": [
       "Alright, Sleepy. Is there a family history of insomnia or other sleep disorders that you're aware of?"
      ],
      "text/plain": [
       "<IPython.core.display.Markdown object>"
      ]
     },
     "metadata": {},
     "output_type": "display_data"
    }
   ],
   "source": [
    "x(\"no\");"
   ]
  },
  {
   "cell_type": "code",
   "execution_count": 19,
   "id": "8b0f04f2-c91d-4ab7-a273-0d9435363811",
   "metadata": {},
   "outputs": [
    {
     "name": "stderr",
     "output_type": "stream",
     "text": [
      "2023-10-27 14:59:49 INFO     sleepmate.executor set_chat_model_start: self.last_message=HumanMessage(content='no')\n"
     ]
    },
    {
     "data": {
      "text/markdown": [
       "Thank you for sharing, Sleepy. Now, do you have a history of mental health conditions such as depression, anxiety, etc.?"
      ],
      "text/plain": [
       "<IPython.core.display.Markdown object>"
      ]
     },
     "metadata": {},
     "output_type": "display_data"
    }
   ],
   "source": [
    "x(\"no\");"
   ]
  },
  {
   "cell_type": "code",
   "execution_count": 20,
   "id": "9038ff6f-140d-43b0-bf9d-55ef34b69b42",
   "metadata": {},
   "outputs": [
    {
     "name": "stderr",
     "output_type": "stream",
     "text": [
      "2023-10-27 14:59:52 INFO     sleepmate.executor set_chat_model_start: self.last_message=HumanMessage(content='no')\n"
     ]
    },
    {
     "data": {
      "text/markdown": [
       "That's good to hear, Sleepy. Are you currently undergoing any psychological treatment?"
      ],
      "text/plain": [
       "<IPython.core.display.Markdown object>"
      ]
     },
     "metadata": {},
     "output_type": "display_data"
    }
   ],
   "source": [
    "x(\"no\");"
   ]
  },
  {
   "cell_type": "code",
   "execution_count": 21,
   "id": "e04ed01d-f8d3-46b2-90c0-f49d422ca70c",
   "metadata": {},
   "outputs": [
    {
     "name": "stderr",
     "output_type": "stream",
     "text": [
      "2023-10-27 14:59:54 INFO     sleepmate.executor set_chat_model_start: self.last_message=HumanMessage(content='no')\n"
     ]
    },
    {
     "data": {
      "text/markdown": [
       "Alright, Sleepy. Now, who are you currently living with? Alone, family, friends?"
      ],
      "text/plain": [
       "<IPython.core.display.Markdown object>"
      ]
     },
     "metadata": {},
     "output_type": "display_data"
    }
   ],
   "source": [
    "x(\"no\");"
   ]
  },
  {
   "cell_type": "code",
   "execution_count": 22,
   "id": "90c61a0e-691c-4465-ab62-a77ae250b673",
   "metadata": {},
   "outputs": [
    {
     "name": "stderr",
     "output_type": "stream",
     "text": [
      "2023-10-27 14:59:56 INFO     sleepmate.executor set_chat_model_start: self.last_message=HumanMessage(content='live with family, three kids, in a house but sleep in a VW Eurovan')\n"
     ]
    },
    {
     "data": {
      "text/markdown": [
       "Sounds like quite an adventure, Sleepy. Now, could you describe the noise level in your living area?"
      ],
      "text/plain": [
       "<IPython.core.display.Markdown object>"
      ]
     },
     "metadata": {},
     "output_type": "display_data"
    }
   ],
   "source": [
    "x(\"live with family, three kids, in a house but sleep in a VW Eurovan\");"
   ]
  },
  {
   "cell_type": "code",
   "execution_count": 23,
   "id": "9b11c271-f93c-4ec8-ae51-ef7c7ae07429",
   "metadata": {},
   "outputs": [
    {
     "name": "stderr",
     "output_type": "stream",
     "text": [
      "2023-10-27 14:59:59 INFO     sleepmate.executor set_chat_model_start: self.last_message=HumanMessage(content=\"it's very rural and quiet\")\n"
     ]
    },
    {
     "data": {
      "text/markdown": [
       "Sounds peaceful, Sleepy. Now, could you tell me what success looks like to you?"
      ],
      "text/plain": [
       "<IPython.core.display.Markdown object>"
      ]
     },
     "metadata": {},
     "output_type": "display_data"
    }
   ],
   "source": [
    "x(\"it's very rural and quiet\");"
   ]
  },
  {
   "cell_type": "code",
   "execution_count": 24,
   "id": "0db94ee6-837e-4a2e-99a9-85eed68eb36d",
   "metadata": {},
   "outputs": [
    {
     "name": "stderr",
     "output_type": "stream",
     "text": [
      "2023-10-27 15:00:02 INFO     sleepmate.executor set_chat_model_start: self.last_message=HumanMessage(content='sleep through the night, wake up feeling refreshed')\n"
     ]
    },
    {
     "data": {
      "text/markdown": [
       "That's a great goal, Sleepy. Now, could you tell me about anything you've tried previously that helped you towards this goal?"
      ],
      "text/plain": [
       "<IPython.core.display.Markdown object>"
      ]
     },
     "metadata": {},
     "output_type": "display_data"
    }
   ],
   "source": [
    "x(\"sleep through the night, wake up feeling refreshed\");"
   ]
  },
  {
   "cell_type": "code",
   "execution_count": 25,
   "id": "77b2d114-00e3-434a-a819-71acc230b760",
   "metadata": {},
   "outputs": [
    {
     "name": "stderr",
     "output_type": "stream",
     "text": [
      "2023-10-27 15:00:05 INFO     sleepmate.executor set_chat_model_start: self.last_message=HumanMessage(content='getting enough daylight')\n"
     ]
    },
    {
     "data": {
      "text/markdown": [
       "That's a good strategy, Sleepy. Now, could you tell me about anything you've tried previously that didn't help you towards this goal?"
      ],
      "text/plain": [
       "<IPython.core.display.Markdown object>"
      ]
     },
     "metadata": {},
     "output_type": "display_data"
    }
   ],
   "source": [
    "x(\"getting enough daylight\");"
   ]
  },
  {
   "cell_type": "code",
   "execution_count": 26,
   "id": "9de53311-69f1-41f9-8e60-658d8b04137e",
   "metadata": {},
   "outputs": [
    {
     "name": "stderr",
     "output_type": "stream",
     "text": [
      "2023-10-27 15:00:09 INFO     sleepmate.executor set_chat_model_start: self.last_message=HumanMessage(content='apigenin')\n"
     ]
    },
    {
     "data": {
      "text/markdown": [
       "I see, not everything works for everyone. Is there anything else you'd like to add, Sleepy?"
      ],
      "text/plain": [
       "<IPython.core.display.Markdown object>"
      ]
     },
     "metadata": {},
     "output_type": "display_data"
    }
   ],
   "source": [
    "x(\"apigenin\");"
   ]
  },
  {
   "cell_type": "code",
   "execution_count": 27,
   "id": "6445f911-b3ce-48f8-bf47-34b17449ff6f",
   "metadata": {},
   "outputs": [
    {
     "name": "stderr",
     "output_type": "stream",
     "text": [
      "2023-10-27 15:00:12 INFO     sleepmate.executor set_chat_model_start: self.last_message=HumanMessage(content=\"no that's it\")\n",
      "2023-10-27 15:00:44 INFO     sleepmate.history save_health_history entry=HealthHistory(date=datetime.datetime(2023, 10, 27, 15, 0, 44, 3143), sex='male', date_of_birth=datetime.datetime(1976, 2, 13, 0, 0), occupation='coder', work_hours='7 - 6 with breaks', smoking='no', alcohol='some alcohol, mostly at the weekends', physical_activity='cyclist, surfer, lift weights', diet='three eggs and sausages for breakfast, salad and protein for lunch, meat and veg for dinner. 1g protein per lb of bodyweight', medical_conditions='none', medications='no', family_history='no', mental_health='no', psychological_treatment='no', living_with='live with family, three kids, in a house but sleep in a VW Eurovan', residence_type='house', noise_level='very rural and quiet', goal='sleep through the night, wake up feeling refreshed', helpful='getting enough daylight', unhelpful='apigenin', notes=\"no that's it\")\n",
      "2023-10-27 15:00:44 INFO     sleepmate.executor set_chat_model_start: self.last_message=FunctionMessage(content='null', name='save_health_history')\n"
     ]
    },
    {
     "name": "stdout",
     "output_type": "stream",
     "text": [
      "entry=HealthHistory(date=datetime.datetime(2023, 10, 27, 15, 0, 44, 3143), sex='male', date_of_birth=datetime.datetime(1976, 2, 13, 0, 0), occupation='coder', work_hours='7 - 6 with breaks', smoking='no', alcohol='some alcohol, mostly at the weekends', physical_activity='cyclist, surfer, lift weights', diet='three eggs and sausages for breakfast, salad and protein for lunch, meat and veg for dinner. 1g protein per lb of bodyweight', medical_conditions='none', medications='no', family_history='no', mental_health='no', psychological_treatment='no', living_with='live with family, three kids, in a house but sleep in a VW Eurovan', residence_type='house', noise_level='very rural and quiet', goal='sleep through the night, wake up feeling refreshed', helpful='getting enough daylight', unhelpful='apigenin', notes=\"no that's it\")\n"
     ]
    },
    {
     "name": "stderr",
     "output_type": "stream",
     "text": [
      "2023-10-27 15:00:47 INFO     sleepmate.history get_last_health_history entry={'_id': ObjectId('653c330c412afbf636e4ff1a'), 'user': ObjectId('653838c321f81e21a72df700'), 'date': datetime.datetime(2023, 10, 27, 15, 0, 44, 3000), 'sex': 'male', 'date_of_birth': datetime.datetime(1976, 2, 13, 0, 0), 'occupation': 'coder', 'work_hours': '7 - 6 with breaks', 'smoking': 'no', 'alcohol': 'some alcohol, mostly at the weekends', 'physical_activity': 'cyclist, surfer, lift weights', 'diet': 'three eggs and sausages for breakfast, salad and protein for lunch, meat and veg for dinner. 1g protein per lb of bodyweight', 'medical_conditions': 'none', 'medications': 'no', 'family_history': 'no', 'mental_health': 'no', 'psychological_treatment': 'no', 'living_with': 'live with family, three kids, in a house but sleep in a VW Eurovan', 'residence_type': 'house', 'noise_level': 'very rural and quiet', 'goal': 'sleep through the night, wake up feeling refreshed', 'helpful': 'getting enough daylight', 'unhelpful': 'apigenin', 'notes': \"no that's it\"}\n",
      "2023-10-27 15:00:47 INFO     sleepmate.executor set_chat_model_start: self.last_message=FunctionMessage(content='{\"date\": \"2023-10-27T15:00:44.003000\", \"sex\": \"male\", \"date_of_birth\": \"1976-02-13T00:00:00\", \"occupation\": \"coder\", \"work_hours\": \"7 - 6 with breaks\", \"smoking\": \"no\", \"alcohol\": \"some alcohol, mostly at the weekends\", \"physical_activity\": \"cyclist, surfer, lift weights\", \"diet\": \"three eggs and sausages for breakfast, salad and protein for lunch, meat and veg for dinner. 1g protein per lb of bodyweight\", \"medical_conditions\": \"none\", \"medications\": \"no\", \"family_history\": \"no\", \"mental_health\": \"no\", \"psychological_treatment\": \"no\", \"living_with\": \"live with family, three kids, in a house but sleep in a VW Eurovan\", \"residence_type\": \"house\", \"noise_level\": \"very rural and quiet\", \"goal\": \"sleep through the night, wake up feeling refreshed\", \"helpful\": \"getting enough daylight\", \"unhelpful\": \"apigenin\", \"notes\": \"no that\\'s it\"}', name='get_last_health_history')\n"
     ]
    },
    {
     "data": {
      "text/markdown": [
       "Thank you for sharing, Sleepy. Here's a summary of your health history:\n",
       "\n",
       "- Date of entry: 27th October 2023\n",
       "- Sex: Male\n",
       "- Date of birth: 13th February 1976\n",
       "- Occupation: Coder\n",
       "- Work hours: 7 AM - 6 PM with breaks\n",
       "- Smoking: No\n",
       "- Alcohol: Some, mostly at the weekends\n",
       "- Physical activity: Cyclist, surfer, lift weights\n",
       "- Diet: Three eggs and sausages for breakfast, salad and protein for lunch, meat and veg for dinner. 1g protein per lb of bodyweight\n",
       "- Medical conditions: None\n",
       "- Medications: None\n",
       "- Family history of sleep disorders: None\n",
       "- Mental health history: None\n",
       "- Current psychological treatment: None\n",
       "- Living situation: Living with family, three kids, in a house but sleep in a VW Eurovan\n",
       "- Residence type: House\n",
       "- Noise level: Very rural and quiet\n",
       "- Goal: Sleep through the night, wake up feeling refreshed\n",
       "- What has helped: Getting enough daylight\n",
       "- What hasn't helped: Apigenin\n",
       "\n",
       "Please say 'hey' when you're ready to continue on your health journey."
      ],
      "text/plain": [
       "<IPython.core.display.Markdown object>"
      ]
     },
     "metadata": {},
     "output_type": "display_data"
    }
   ],
   "source": [
    "x(\"no that's it\");"
   ]
  },
  {
   "cell_type": "code",
   "execution_count": 26,
   "id": "635b6568-3ea7-4a25-9a6d-02e57fe5274b",
   "metadata": {
    "collapsed": true,
    "jupyter": {
     "outputs_hidden": true
    }
   },
   "outputs": [
    {
     "name": "stderr",
     "output_type": "stream",
     "text": [
      "2023-10-27 14:02:32 INFO     sleepmate.history get_last_health_history entry={'_id': ObjectId('653c251377e563b5d6356a64'), 'user': ObjectId('653838c321f81e21a72df700'), 'date': datetime.datetime(2023, 10, 27, 14, 1, 7, 337000), 'sex': 'N/A', 'date_of_birth': datetime.datetime(2023, 10, 27, 14, 1, 7, 337000), 'occupation': 'N/A', 'work_hours': 'N/A', 'smoking': 'N/A', 'alcohol': 'N/A', 'physical_activity': 'N/A', 'diet': 'N/A', 'medical_conditions': 'none', 'medications': 'no', 'family_history': 'no', 'mental_health': 'no', 'psychological_treatment': 'no', 'living_with': 'live with family, three kids, in a house but sleep in a VW Eurovan', 'residence_type': 'house', 'noise_level': \"it's very rural and quiet\", 'goal': 'sleep through the night, wake up feeling refreshed', 'helpful': 'getting enough daylight', 'unhelpful': 'apigenin', 'notes': \"no that's it\"}\n"
     ]
    },
    {
     "data": {
      "text/markdown": [
       "Here's a summary of your health history, Sleepy:\n",
       "\n",
       "- Date of entry: 27th October 2023\n",
       "- Sex: N/A\n",
       "- Date of birth: 27th October 2023\n",
       "- Occupation: N/A\n",
       "- Work hours: N/A\n",
       "- Smoking: N/A\n",
       "- Alcohol: N/A\n",
       "- Physical activity: N/A\n",
       "- Diet: N/A\n",
       "- Existing medical conditions: None\n",
       "- Current medications: None\n",
       "- Family history of sleep disorders: None\n",
       "- History of mental health conditions: None\n",
       "- Current psychological treatment: None\n",
       "- Living situation: With family, three kids, in a house but sleep in a VW Eurovan\n",
       "- Type of residence: House\n",
       "- Noise level in living area: Very rural and quiet\n",
       "- What success looks like: Sleep through the night, wake up feeling refreshed\n",
       "- What has helped previously: Getting enough daylight\n",
       "- What hasn't helped previously: Apigenin\n",
       "- Additional notes: None\n",
       "\n",
       "Please say 'hey' when you're ready to continue on your health journey."
      ],
      "text/plain": [
       "<IPython.core.display.Markdown object>"
      ]
     },
     "metadata": {},
     "output_type": "display_data"
    }
   ],
   "source": [
    "x(\"summarise my health history\");"
   ]
  },
  {
   "cell_type": "code",
   "execution_count": null,
   "id": "4c73c6b7-3dd3-4bd0-9ca3-177c76ebc698",
   "metadata": {},
   "outputs": [],
   "source": []
  }
 ],
 "metadata": {
  "kernelspec": {
   "display_name": "Python 3 (ipykernel)",
   "language": "python",
   "name": "python3"
  },
  "language_info": {
   "codemirror_mode": {
    "name": "ipython",
    "version": 3
   },
   "file_extension": ".py",
   "mimetype": "text/x-python",
   "name": "python",
   "nbconvert_exporter": "python",
   "pygments_lexer": "ipython3",
   "version": "3.11.5"
  }
 },
 "nbformat": 4,
 "nbformat_minor": 5
}
