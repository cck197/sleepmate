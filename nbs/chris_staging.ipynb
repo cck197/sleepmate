{
 "cells": [
  {
   "cell_type": "code",
   "execution_count": 1,
   "id": "fee70902-195f-4928-b5eb-a1570b8b2658",
   "metadata": {},
   "outputs": [
    {
     "data": {
      "text/plain": [
       "True"
      ]
     },
     "execution_count": 1,
     "metadata": {},
     "output_type": "execute_result"
    }
   ],
   "source": [
    "# Load staging environment\n",
    "from dotenv import load_dotenv\n",
    "load_dotenv(\"../.env-stage\")"
   ]
  },
  {
   "cell_type": "code",
   "execution_count": 2,
   "id": "98d56ca8-9626-4d2c-b09d-721812247fae",
   "metadata": {},
   "outputs": [],
   "source": [
    "from sleepmate.executor import *"
   ]
  },
  {
   "cell_type": "code",
   "execution_count": 3,
   "id": "73276f16-845e-4f5c-bc3a-729eabbde4f7",
   "metadata": {},
   "outputs": [],
   "source": [
    "username=\"chris\""
   ]
  },
  {
   "cell_type": "code",
   "execution_count": 4,
   "id": "b6156bb3-491f-46a6-8431-72b653d26b4e",
   "metadata": {},
   "outputs": [],
   "source": [
    "x = X(username=username, hello=None)"
   ]
  },
  {
   "cell_type": "markdown",
   "id": "1548132e-5584-4f95-9e9f-0731fab5b2f9",
   "metadata": {},
   "source": [
    "# Sleep Diary"
   ]
  },
  {
   "cell_type": "code",
   "execution_count": 5,
   "id": "48d23dae-d8df-4787-b847-8305a28345bf",
   "metadata": {},
   "outputs": [],
   "source": [
    "x.memory.clear()"
   ]
  },
  {
   "cell_type": "code",
   "execution_count": 6,
   "id": "c951b12b-9c3c-434d-98c1-280307982f7e",
   "metadata": {},
   "outputs": [],
   "source": [
    "from sleepmate.diary import *"
   ]
  },
  {
   "cell_type": "code",
   "execution_count": 7,
   "id": "a036425e-a3e3-4750-a2dd-6cb4809f4b13",
   "metadata": {},
   "outputs": [],
   "source": [
    "DBSleepDiaryEntry.objects(user=x.db_user_id).order_by(\"-id\").first().delete()"
   ]
  },
  {
   "cell_type": "code",
   "execution_count": 7,
   "id": "b86585b7-2e29-48b0-ba5a-24361def92b4",
   "metadata": {},
   "outputs": [
    {
     "name": "stderr",
     "output_type": "stream",
     "text": [
      "2023-11-10 10:33:34 INFO     sleepmate.executor 65441d87316d0ff8334f1893 None -> diary_entry\n"
     ]
    },
    {
     "data": {
      "text/markdown": [
       "Hello Christopher, I hope you're feeling chipper at this moment. Is now a good time to record a sleep diary entry for last night?"
      ],
      "text/plain": [
       "<IPython.core.display.Markdown object>"
      ]
     },
     "metadata": {},
     "output_type": "display_data"
    }
   ],
   "source": [
    "x(\"hey\");"
   ]
  },
  {
   "cell_type": "code",
   "execution_count": 8,
   "id": "e178d2c4-f980-4e44-9b6b-6afcd509b76d",
   "metadata": {},
   "outputs": [
    {
     "data": {
      "text/markdown": [
       "Great! Let's start with the date for yesterday. It was November 09, 2023. Now, could you tell me what time you went to bed yesterday?"
      ],
      "text/plain": [
       "<IPython.core.display.Markdown object>"
      ]
     },
     "metadata": {},
     "output_type": "display_data"
    }
   ],
   "source": [
    "x(\"sure\");"
   ]
  },
  {
   "cell_type": "code",
   "execution_count": 9,
   "id": "64db8745-ea9e-48c8-9c91-f214bb83e249",
   "metadata": {},
   "outputs": [
    {
     "data": {
      "text/markdown": [
       "Splendid, it sounds like you had quite the adventurous night in the van! Let's summarize your sleep diary entry for November 09, 2023:\n",
       "\n",
       "- Time you went to bed: 9:15 PM\n",
       "- Time you tried to fall asleep: 9:15 PM\n",
       "- How long it took you to fall asleep: 0 minutes\n",
       "- Number of times you woke up: 1\n",
       "- Total time awake during the night: 20 minutes\n",
       "- Final wake-up time: 5:00 AM\n",
       "- Time you got out of bed: 5:00 AM\n",
       "- Sleep quality: Very good\n",
       "- Medications or aids used: None\n",
       "- Other notes: Slept outside in the van, very cold, but slept in a sleeping bag\n",
       "\n",
       "Before I calculate your sleep duration and efficiency, can you confirm if all the details above are correct?"
      ],
      "text/plain": [
       "<IPython.core.display.Markdown object>"
      ]
     },
     "metadata": {},
     "output_type": "display_data"
    }
   ],
   "source": [
    "x(\"\"\"went to bed at 9:15, went to sleep right away\n",
    "\n",
    "woke once during the night awake for 20 mins\n",
    "\n",
    "final wake time was 5am got up right awat\n",
    "\n",
    "no meds\n",
    "\n",
    "sleep was very good\n",
    "\n",
    "slept outside in the van and it was very cold still slept in sleeping bag\"\"\");"
   ]
  },
  {
   "cell_type": "code",
   "execution_count": 10,
   "id": "2ab62478-079e-47ef-8de0-d8d0bc1615f2",
   "metadata": {},
   "outputs": [
    {
     "name": "stderr",
     "output_type": "stream",
     "text": [
      "2023-11-10 10:34:27 INFO     openai error_code=None error_message='The server had an error processing your request. Sorry about that! You can retry your request, or contact us through our help center at help.openai.com if you keep seeing this error. (Please include the request ID 4b1023216eac4539959c62e1cf19e817 in your email.)' error_param=None error_type=server_error message='OpenAI API error received' stream_error=False\n",
      "2023-11-10 10:34:27 WARNING  langchain.llms.base Retrying langchain.chat_models.openai.ChatOpenAI.completion_with_retry.<locals>._completion_with_retry in 4.0 seconds as it raised APIError: The server had an error processing your request. Sorry about that! You can retry your request, or contact us through our help center at help.openai.com if you keep seeing this error. (Please include the request ID 4b1023216eac4539959c62e1cf19e817 in your email.) {\n",
      "  \"error\": {\n",
      "    \"message\": \"The server had an error processing your request. Sorry about that! You can retry your request, or contact us through our help center at help.openai.com if you keep seeing this error. (Please include the request ID 4b1023216eac4539959c62e1cf19e817 in your email.)\",\n",
      "    \"type\": \"server_error\",\n",
      "    \"param\": null,\n",
      "    \"code\": null\n",
      "  }\n",
      "}\n",
      " 500 {'error': {'message': 'The server had an error processing your request. Sorry about that! You can retry your request, or contact us through our help center at help.openai.com if you keep seeing this error. (Please include the request ID 4b1023216eac4539959c62e1cf19e817 in your email.)', 'type': 'server_error', 'param': None, 'code': None}} {'Date': 'Fri, 10 Nov 2023 18:34:27 GMT', 'Content-Type': 'application/json', 'Content-Length': '366', 'Connection': 'keep-alive', 'access-control-allow-origin': '*', 'openai-model': 'gpt-4-1106-preview', 'openai-organization': 'engi-1', 'openai-processing-ms': '18657', 'openai-version': '2020-10-01', 'strict-transport-security': 'max-age=15724800; includeSubDomains', 'x-ratelimit-limit-requests': '10000', 'x-ratelimit-limit-tokens': '300000', 'x-ratelimit-remaining-requests': '9997', 'x-ratelimit-remaining-tokens': '299120', 'x-ratelimit-reset-requests': '18.127s', 'x-ratelimit-reset-tokens': '176ms', 'x-request-id': '4b1023216eac4539959c62e1cf19e817', 'CF-Cache-Status': 'DYNAMIC', 'Server': 'cloudflare', 'CF-RAY': '8240634c6bdd9e62-SJC', 'alt-svc': 'h3=\":443\"; ma=86400'}.\n",
      "2023-11-10 10:34:50 INFO     sleepmate.diary save_sleep_diary_entry entry=SleepDiaryEntry(date=datetime.datetime(2023, 11, 9, 0, 0), in_bed=datetime.datetime(2023, 11, 10, 21, 15), tried_to_fall_asleep=datetime.datetime(2023, 11, 10, 21, 15), time_to_fall_asleep=0, times_awake=1, time_awake=20, final_wake_up=datetime.datetime(2023, 11, 10, 5, 0), out_of_bed=datetime.datetime(2023, 11, 10, 5, 0), sleep_quality='Very good', medications='None', notes='Slept outside in the van, very cold, but slept in a sleeping bag')\n"
     ]
    },
    {
     "data": {
      "text/markdown": [
       "The sleep diary entry for November 09, 2023, has been saved successfully. Here's a summary of your sleep for that night:\n",
       "\n",
       "- Sleep duration: 7 hours and 25 minutes\n",
       "- Sleep efficiency: 95.7%\n",
       "\n",
       "You're doing splendidly with your sleep efficiency, Christopher! When you're ready to continue on your health journey, just say \"hey\"."
      ],
      "text/plain": [
       "<IPython.core.display.Markdown object>"
      ]
     },
     "metadata": {},
     "output_type": "display_data"
    },
    {
     "name": "stderr",
     "output_type": "stream",
     "text": [
      "2023-11-10 10:34:54 INFO     sleepmate.executor clear_chat_history: diary_entry -> open_focus (65441d87316d0ff8334f1893 cleared)\n"
     ]
    }
   ],
   "source": [
    "x(\"yes to both\");"
   ]
  },
  {
   "cell_type": "code",
   "execution_count": 11,
   "id": "9dcb05b9-ec4a-456b-a110-b16c02843112",
   "metadata": {},
   "outputs": [
    {
     "name": "stderr",
     "output_type": "stream",
     "text": [
      "2023-11-10 09:20:41 INFO     sleepmate.diary save_sleep_diary_entry entry=SleepDiaryEntry(date=datetime.datetime(2023, 11, 9, 9, 20, 41, 857552), in_bed=datetime.datetime(2023, 11, 10, 21, 15), tried_to_fall_asleep=datetime.datetime(2023, 11, 10, 21, 15), time_to_fall_asleep=0, times_awake=1, time_awake=20, final_wake_up=datetime.datetime(2023, 11, 10, 5, 0), out_of_bed=datetime.datetime(2023, 11, 10, 5, 0), sleep_quality='Very good', medications='None', notes='Slept outside in the van, very cold, slept in a sleeping bag')\n"
     ]
    },
    {
     "data": {
      "text/markdown": [
       "The sleep diary entry has been saved to the database. Now, let's calculate your sleep duration and efficiency:\n",
       "\n",
       "- Sleep duration: You went to bed at 9:15 PM and woke up at 5:00 AM. That's 7 hours and 45 minutes in bed. Considering you were awake for 20 minutes during the night, your total sleep time was 7 hours and 25 minutes.\n",
       "- Sleep efficiency: This is calculated by dividing the total sleep time by the time spent in bed and multiplying by 100. So, your sleep efficiency is approximately [(7 hours and 25 minutes) / (7 hours and 45 minutes)] * 100, which is about 95.8%.\n",
       "\n",
       "A sleep efficiency of over 85% is considered normal, so yours is excellent!\n",
       "\n",
       "When you're ready to continue on your health journey, just say \"hey\"."
      ],
      "text/plain": [
       "<IPython.core.display.Markdown object>"
      ]
     },
     "metadata": {},
     "output_type": "display_data"
    },
    {
     "name": "stderr",
     "output_type": "stream",
     "text": [
      "2023-11-10 09:20:48 INFO     sleepmate.executor clear_chat_history: diary_entry -> seeds_entry (65441d87316d0ff8334f1893 cleared)\n"
     ]
    }
   ],
   "source": [
    "x(\"correct\");"
   ]
  },
  {
   "cell_type": "markdown",
   "id": "5d72016d-3d92-4566-822a-30fceb556e54",
   "metadata": {},
   "source": [
    "# SEEDS"
   ]
  },
  {
   "cell_type": "code",
   "execution_count": 5,
   "id": "f5942d34-2d29-4dcc-8b2a-31acd03bb988",
   "metadata": {},
   "outputs": [],
   "source": [
    "x.memory.clear()"
   ]
  },
  {
   "cell_type": "code",
   "execution_count": 5,
   "id": "e1c27fb6-f10d-4c72-a55a-5a63d6fe8722",
   "metadata": {},
   "outputs": [
    {
     "name": "stderr",
     "output_type": "stream",
     "text": [
      "2023-11-10 10:37:30 INFO     sleepmate.executor 65441d87316d0ff8334f1893 None -> seeds_entry\n"
     ]
    },
    {
     "data": {
      "text/markdown": [
       "Hello Christopher! I hope you're feeling chipper today. Is now a good time to record a SEEDS diary entry?"
      ],
      "text/plain": [
       "<IPython.core.display.Markdown object>"
      ]
     },
     "metadata": {},
     "output_type": "display_data"
    }
   ],
   "source": [
    "x(\"hey\");"
   ]
  },
  {
   "cell_type": "code",
   "execution_count": 6,
   "id": "ae2d062c-e9c3-46af-9630-df90bcce91fb",
   "metadata": {},
   "outputs": [
    {
     "data": {
      "text/markdown": [
       "Righto, here's a summary of your predefined SEEDS tasks:\n",
       "\n",
       "- **Sleep**\n",
       "  - Get outside and walk by 9am\n",
       "  - Get in the sauna at 8pm\n",
       "  - No chocolate after 7pm\n",
       "\n",
       "- **Exercise**\n",
       "  - Do two pistol squats on each leg after dinner\n",
       "  - Walk around the block after lunch\n",
       "  - Do one solo drill for upcoming jujitsu class\n",
       "\n",
       "- **Eating**\n",
       "  - No more than 3/4 bar of chocolate per day\n",
       "\n",
       "- **Drinking**\n",
       "  - Drink three glasses of water per day\n",
       "\n",
       "- **Stress**\n",
       "  - Do the open focus exercise\n",
       "  - Write down three things I’m grateful for\n",
       "  - Send one message to a friend\n",
       "\n",
       "Now, what did you manage to get done yesterday, November 9, 2023?"
      ],
      "text/plain": [
       "<IPython.core.display.Markdown object>"
      ]
     },
     "metadata": {},
     "output_type": "display_data"
    }
   ],
   "source": [
    "x(\"sure\");"
   ]
  },
  {
   "cell_type": "code",
   "execution_count": 7,
   "id": "2b157409-d25d-4da5-ac46-f9a0946ffb9b",
   "metadata": {},
   "outputs": [
    {
     "data": {
      "text/markdown": [
       "Splendid effort, Christopher! Here's what I've got for your SEEDS diary entry for November 9, 2023:\n",
       "\n",
       "- **Sleep**\n",
       "  - Got outside and walked by 9am\n",
       "  - No chocolate after 7pm\n",
       "\n",
       "- **Exercise**\n",
       "  - Did two pistol squats on each leg after dinner\n",
       "  - Walked around the block after lunch\n",
       "  - Did one solo drill for upcoming jujitsu class\n",
       "\n",
       "- **Eating**\n",
       "  - No more than 3/4 bar of chocolate per day\n",
       "\n",
       "- **Drinking**\n",
       "  - Drank three glasses of water per day\n",
       "\n",
       "- **Stress**\n",
       "  - Wrote down three things I’m grateful for\n",
       "  - Sent one message to a friend\n",
       "\n",
       "Does that look correct to you?"
      ],
      "text/plain": [
       "<IPython.core.display.Markdown object>"
      ]
     },
     "metadata": {},
     "output_type": "display_data"
    }
   ],
   "source": [
    "x(\"didn't do the sauna or the open focus exercise but other than that I did everything else\");"
   ]
  },
  {
   "cell_type": "code",
   "execution_count": null,
   "id": "5217ad6c-6721-4f3b-9859-0863722f1d5c",
   "metadata": {},
   "outputs": [],
   "source": [
    "x(\"yep, that's right\");"
   ]
  },
  {
   "cell_type": "code",
   "execution_count": 10,
   "id": "f789c9a1-1bc5-4dae-a980-fc762cb23c74",
   "metadata": {},
   "outputs": [
    {
     "data": {
      "text/plain": [
       "seeds_entry"
      ]
     },
     "execution_count": 10,
     "metadata": {},
     "output_type": "execute_result"
    }
   ],
   "source": [
    "x.get_next_goal()"
   ]
  },
  {
   "cell_type": "code",
   "execution_count": 11,
   "id": "d9e0906d-fd6f-4cef-931e-bd8ff45b861a",
   "metadata": {},
   "outputs": [],
   "source": [
    "from sleepmate.seeds import *"
   ]
  },
  {
   "cell_type": "code",
   "execution_count": 12,
   "id": "48b5e031-5019-4473-8838-9c7c950aeec6",
   "metadata": {},
   "outputs": [],
   "source": [
    "get_current_seeds(x.db_user_id).delete()"
   ]
  },
  {
   "cell_type": "code",
   "execution_count": 13,
   "id": "c953b0e2-1d56-4a0a-9313-260ea6fa9c80",
   "metadata": {},
   "outputs": [
    {
     "data": {
      "text/plain": [
       "SeedsDiaryEntry(date=datetime.datetime(2023, 11, 9, 0, 0), sleep_1=1, sleep_2=0, sleep_3=1, exercise_1=1, exercise_2=1, exercise_3=1, eating_1=1, eating_2=0, eating_3=0, drinking_1=1, drinking_2=0, drinking_3=0, stress_1=0, stress_2=1, stress_3=1)"
      ]
     },
     "execution_count": 13,
     "metadata": {},
     "output_type": "execute_result"
    }
   ],
   "source": [
    "entry = get_seeds_from_memory(x); entry"
   ]
  },
  {
   "cell_type": "code",
   "execution_count": null,
   "id": "414a9ecb-6f32-40c9-8506-72ef48e81010",
   "metadata": {},
   "outputs": [],
   "source": [
    "get_parsed_output(\n",
    "        \"summarise the SEEDS diary entry\", x.get_latest_messages, SeedsDiaryEntry\n",
    "    )"
   ]
  }
 ],
 "metadata": {
  "kernelspec": {
   "display_name": "Python 3 (ipykernel)",
   "language": "python",
   "name": "python3"
  },
  "language_info": {
   "codemirror_mode": {
    "name": "ipython",
    "version": 3
   },
   "file_extension": ".py",
   "mimetype": "text/x-python",
   "name": "python",
   "nbconvert_exporter": "python",
   "pygments_lexer": "ipython3",
   "version": "3.11.5"
  }
 },
 "nbformat": 4,
 "nbformat_minor": 5
}
