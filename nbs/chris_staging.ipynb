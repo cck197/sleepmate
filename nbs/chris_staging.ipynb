{
 "cells": [
  {
   "cell_type": "code",
   "execution_count": 1,
   "id": "fee70902-195f-4928-b5eb-a1570b8b2658",
   "metadata": {},
   "outputs": [
    {
     "data": {
      "text/plain": [
       "True"
      ]
     },
     "execution_count": 1,
     "metadata": {},
     "output_type": "execute_result"
    }
   ],
   "source": [
    "# Load staging environment\n",
    "from dotenv import load_dotenv\n",
    "load_dotenv(\"../.env-stage\", override=True)"
   ]
  },
  {
   "cell_type": "code",
   "execution_count": 2,
   "id": "98d56ca8-9626-4d2c-b09d-721812247fae",
   "metadata": {},
   "outputs": [],
   "source": [
    "from sleepmate.executor import *\n",
    "from sleepmate.diary import *\n",
    "from sleepmate.seeds import *\n",
    "from sleepmate.whoop import *\n",
    "from sleepmate.wearable import *\n",
    "from sleepmate.history import *\n",
    "from sleepmate.structured import *\n",
    "from sleepmate.goal import *"
   ]
  },
  {
   "cell_type": "code",
   "execution_count": 3,
   "id": "73276f16-845e-4f5c-bc3a-729eabbde4f7",
   "metadata": {},
   "outputs": [],
   "source": [
    "username=\"chris\"\n",
    "#username=\"Lindsey\"\n",
    "username=\"_jmesy\""
   ]
  },
  {
   "cell_type": "code",
   "execution_count": 4,
   "id": "b6156bb3-491f-46a6-8431-72b653d26b4e",
   "metadata": {},
   "outputs": [],
   "source": [
    "x = X(username=username, hello=None)"
   ]
  },
  {
   "cell_type": "code",
   "execution_count": 12,
   "id": "4b17e7af-5419-4efe-8ba7-725c601a6b89",
   "metadata": {},
   "outputs": [
    {
     "data": {
      "text/plain": [
       "meet"
      ]
     },
     "execution_count": 12,
     "metadata": {},
     "output_type": "execute_result"
    }
   ],
   "source": [
    "x.get_next_goal()"
   ]
  },
  {
   "cell_type": "code",
   "execution_count": 5,
   "id": "016f66ab-29b8-45e3-84db-367f4c18cdbf",
   "metadata": {},
   "outputs": [
    {
     "data": {
      "text/plain": [
       "ObjectId('658076717b41eb883f5ccf1e')"
      ]
     },
     "execution_count": 5,
     "metadata": {},
     "output_type": "execute_result"
    }
   ],
   "source": [
    "x.db_user_id"
   ]
  },
  {
   "cell_type": "code",
   "execution_count": 10,
   "id": "78a64386-2db1-4aa7-9ccb-b54d288400dc",
   "metadata": {},
   "outputs": [
    {
     "data": {
      "text/plain": [
       "<Wearables: Wearables object>"
      ]
     },
     "execution_count": 10,
     "metadata": {},
     "output_type": "execute_result"
    }
   ],
   "source": [
    "DBWearables(user=x.db_user_id, whoop=False, fitbit=False, apple_watch=False, garmin=False, samsung=False, oura=False, xiaomi=False, polar=False, withings=False, amazfit=False, other='').save()"
   ]
  },
  {
   "cell_type": "code",
   "execution_count": 11,
   "id": "0309c8a5-25f5-47c1-903a-769cfbe4be65",
   "metadata": {},
   "outputs": [
    {
     "data": {
      "text/plain": [
       "'{\"whoop\": false, \"fitbit\": false, \"apple_watch\": false, \"garmin\": false, \"samsung\": false, \"oura\": false, \"xiaomi\": false, \"polar\": false, \"withings\": false, \"amazfit\": false, \"other\": \"\"}'"
      ]
     },
     "execution_count": 11,
     "metadata": {},
     "output_type": "execute_result"
    }
   ],
   "source": [
    "get_wearables(x, \"\")"
   ]
  },
  {
   "cell_type": "code",
   "execution_count": 8,
   "id": "1d56f7dc-8e83-4530-b4ed-42a109c24aaa",
   "metadata": {},
   "outputs": [
    {
     "data": {
      "text/plain": [
       "[HumanMessage(content='Hi'),\n",
       " AIMessage(content=\"Hello _jmesy! Quick question for you: Do you have any of the following wearable devices that you'd like to integrate for a more tailored health experience?\\n\\n- WHOOP Strap\\n- Fitbit Devices (e.g., Fitbit Charge, Fitbit Versa, Fitbit Sense)\\n- Apple Watch\\n- Garmin Wearables (e.g., Garmin Vivosmart, Garmin Fenix)\\n- Samsung Galaxy Watch\\n- Oura Ring\\n- Xiaomi Mi Band\\n- Polar Watches (e.g., Polar Vantage, Polar Ignite)\\n- Withings Sleep Tracking Mat\\n- Amazfit Smartwatches\\n- Other (please specify)\\n- None of the above (skip)\\n\\nLet me know which one(s) you have, and we'll take it from there!\"),\n",
       " HumanMessage(content='No, but should I get one?'),\n",
       " AIMessage(content='It sounds like you\\'re considering the potential benefits of a wearable device. They can be quite handy for tracking various health metrics like activity levels, sleep patterns, and heart rate, which can provide valuable insights into your overall well-being. If you\\'re interested in getting a more objective look at your health data, a wearable could be a good investment. \\n\\nIf you decide to get one in the future, just give me a shout, and we can integrate it into your health journey. In the meantime, is there anything else you\\'d like to focus on? Just say \"hey\" when you\\'re ready to continue!'),\n",
       " HumanMessage(content='Which would you recommend?'),\n",
       " AIMessage(content='Ah, the age-old question of which gadget to grace one\\'s wrist with! The choice of wearable really depends on what you\\'re looking to monitor and your personal preferences. Here\\'s a quick rundown:\\n\\n- **WHOOP Strap**: Great for detailed sleep tracking and recovery insights, especially if you\\'re an athlete or serious about fitness.\\n- **Fitbit Devices**: User-friendly, with a focus on daily activity, exercise, and sleep. A good all-rounder.\\n- **Apple Watch**: Ideal for iPhone users, offering a wide range of health features along with seamless integration with iOS.\\n- **Garmin Wearables**: Favoured by runners and outdoor enthusiasts for their GPS and sport-specific features.\\n- **Samsung Galaxy Watch**: A solid choice for Android users, with a good balance of health tracking and smartwatch features.\\n- **Oura Ring**: Discreet and focused on sleep and recovery metrics.\\n- **Xiaomi Mi Band**: Budget-friendly, covering the basics of activity and sleep tracking.\\n- **Polar Watches**: Excellent for heart rate monitoring and training guidance.\\n- **Withings Sleep Tracking Mat**: Specializes in sleep without needing to wear anything on your wrist.\\n- **Amazfit Smartwatches**: Affordable with a good battery life and basic health tracking features.\\n\\nUltimately, it\\'s about what fits your lifestyle and what data you find most useful. If you\\'re a tech aficionado, you might lean towards the latest model with all the bells and whistles. If you\\'re more of a \\'just the facts\\' type, a simpler device might do the trick. \\n\\nOnce you\\'ve made your choice, remember to pop back and we\\'ll get it all synced up. Until then, keep on keeping on, and don\\'t forget to say \"hey\" when you\\'re ready to dive back into your health journey!'),\n",
       " HumanMessage(content='Hey'),\n",
       " AIMessage(content=\"Brilliant! You're back in the game, _jmesy. Let's march on with your health journey. What's the next step you'd like to take? If you're ready to leap into action or if there's a particular area you'd like to focus on, just let me know!\"),\n",
       " HumanMessage(content='Just anything related to helping me improve my sleep'),\n",
       " AIMessage(content=\"Improving sleep, is it? A noble quest indeed! Here's a plan of action we can take to help you catch those elusive Z's:\\n\\n1. **Sleep Hygiene**: We'll review your bedtime routine and environment to ensure they're conducive to sleep. Think cool, dark, and quiet.\\n2. **Relaxation Techniques**: I can guide you through some relaxation exercises or mindfulness practices to help you wind down before bed.\\n3. **Sleep Schedule**: Consistency is key. We'll work on setting a regular sleep schedule to regulate your body's internal clock.\\n4. **Diet and Exercise**: What you eat and how you move can have a big impact on your sleep. We'll look at optimizing both for better slumber.\\n5. **Stress Management**: If stress is keeping you awake, we'll explore strategies to manage it more effectively.\\n6. **Sleep Diary**: Keeping track of your sleep patterns can help identify areas for improvement and track progress over time.\\n\\nHow does that sound for starters? If you're ready to begin, we can start by assessing your current sleep habits and hygiene. Shall we?\"),\n",
       " HumanMessage(content='Ok'),\n",
       " AIMessage(content=\"Oops! It seems I may have gotten a bit ahead of myself there. Let's rewind a tad. You mentioned a sleep diary, which is a fantastic tool to understand your sleep patterns better. The Consensus Sleep Diary, in particular, is a comprehensive tool used to record various aspects of sleep over a period of time, typically two weeks. It includes details such as:\\n\\n- Time you went to bed and woke up\\n- Time it took to fall asleep\\n- Number of awakenings in the night\\n- Total sleep time\\n- Quality of sleep\\n- Medications and their effects\\n- Daytime activities affecting sleep, like exercise and caffeine intake\\n\\nBy keeping a sleep diary, you can uncover patterns or behaviors that might be helping or hindering your sleep. It's like being your own sleep detective, minus the trench coat and magnifying glass. Once you've got a bit of data, we can use it to make informed changes to your sleep habits.\\n\\nSo, if you're keen to start your own sleep investigation, let me know, and we can begin with the first entry tonight. What do you say? Shall we give it a go?\")]"
      ]
     },
     "execution_count": 8,
     "metadata": {},
     "output_type": "execute_result"
    }
   ],
   "source": [
    "x.memory.chat_memory.messages"
   ]
  },
  {
   "cell_type": "code",
   "execution_count": 13,
   "id": "9fc503f2-529a-40d2-b1b6-013e4a28432c",
   "metadata": {},
   "outputs": [],
   "source": [
    "x.memory.clear()"
   ]
  },
  {
   "cell_type": "code",
   "execution_count": 7,
   "id": "1c4220fb-c23e-4e48-b4b6-bb15553024e3",
   "metadata": {},
   "outputs": [
    {
     "name": "stderr",
     "output_type": "stream",
     "text": [
      "2023-12-05 08:30:34 INFO     sleepmate.executor 65441d87316d0ff8334f1893 None -> wearable_probe\n"
     ]
    },
    {
     "data": {
      "text/markdown": [
       "Hello Christopher, I hope you're finding a moment of calm in your day today. How are you feeling right now, in this moment?\n",
       "\n",
       "I'm curious if you've considered integrating any wearable devices to help us gather some objective data. Here's a list of devices that could be quite handy:\n",
       "\n",
       "- WHOOP Strap\n",
       "- Fitbit Devices (e.g., Fitbit Charge, Fitbit Versa, Fitbit Sense)\n",
       "- Apple Watch\n",
       "- Garmin Wearables (e.g., Garmin Vivosmart, Garmin Fenix)\n",
       "- Samsung Galaxy Watch\n",
       "- Oura Ring\n",
       "- Xiaomi Mi Band\n",
       "- Polar Watches (e.g., Polar Vantage, Polar Ignite)\n",
       "- Withings Sleep Tracking Mat\n",
       "- Amazfit Smartwatches\n",
       "- Other (please specify)\n",
       "- None of the above (skip)\n",
       "\n",
       "Do you have any of these devices, or perhaps another one you're using?"
      ],
      "text/plain": [
       "<IPython.core.display.Markdown object>"
      ]
     },
     "metadata": {},
     "output_type": "display_data"
    }
   ],
   "source": [
    "x(\"hey\");"
   ]
  },
  {
   "cell_type": "code",
   "execution_count": 8,
   "id": "ef2026ef-871d-4e30-a681-0ae18dbd1571",
   "metadata": {},
   "outputs": [
    {
     "name": "stderr",
     "output_type": "stream",
     "text": [
      "2023-12-05 08:31:17 INFO     sleepmate.wearable save_wearables entry=Wearables(whoop=False, fitbit=False, apple_watch=False, garmin=False, samsung=False, oura=False, xiaomi=False, polar=False, withings=False, amazfit=False, other='')\n"
     ]
    },
    {
     "data": {
      "text/markdown": [
       "Alright, no worries. Whenever you're ready to continue on your health journey, just say \"hey\" and we'll carry on. Take care, Christopher."
      ],
      "text/plain": [
       "<IPython.core.display.Markdown object>"
      ]
     },
     "metadata": {},
     "output_type": "display_data"
    },
    {
     "name": "stderr",
     "output_type": "stream",
     "text": [
      "2023-12-05 08:31:22 INFO     sleepmate.executor clear_chat_history: wearable_probe -> diary_entry (65441d87316d0ff8334f1893 cleared)\n"
     ]
    }
   ],
   "source": [
    "x(\"none\");"
   ]
  },
  {
   "cell_type": "code",
   "execution_count": 9,
   "id": "fbe50756-593b-4939-a118-86b764755436",
   "metadata": {},
   "outputs": [
    {
     "data": {
      "text/plain": [
       "1"
      ]
     },
     "execution_count": 9,
     "metadata": {},
     "output_type": "execute_result"
    }
   ],
   "source": [
    "DBWearables.objects(user=x.db_user_id).count()"
   ]
  },
  {
   "cell_type": "code",
   "execution_count": 5,
   "id": "d55dfb39-a256-450d-ac5a-2c943af4d3d7",
   "metadata": {},
   "outputs": [
    {
     "data": {
      "text/plain": [
       "1"
      ]
     },
     "execution_count": 5,
     "metadata": {},
     "output_type": "execute_result"
    }
   ],
   "source": [
    "DBGoalRefusal.objects(user=x.db_user_id).delete()"
   ]
  },
  {
   "cell_type": "code",
   "execution_count": 10,
   "id": "9c69b6ee-d710-436a-b851-c22f1eed35de",
   "metadata": {},
   "outputs": [
    {
     "name": "stderr",
     "output_type": "stream",
     "text": [
      "2023-12-05 08:37:56 INFO     sleepmate.executor 65441d87316d0ff8334f1893 wearable_probe -> diary_entry\n",
      "2023-12-05 08:37:56 WARNING  urllib3.connectionpool Retrying (Retry(total=2, connect=None, read=None, redirect=None, status=None)) after connection broken by 'NewConnectionError('<urllib3.connection.HTTPSConnection object at 0x14d1d8290>: Failed to establish a new connection: [Errno 8] nodename nor servname provided, or not known')': /runs\n"
     ]
    },
    {
     "data": {
      "text/markdown": [
       "Hello Christopher, I hope you're feeling alright at this moment. Is now a good time to record a sleep diary entry for last night?"
      ],
      "text/plain": [
       "<IPython.core.display.Markdown object>"
      ]
     },
     "metadata": {},
     "output_type": "display_data"
    }
   ],
   "source": [
    "x(\"hey\");"
   ]
  },
  {
   "cell_type": "code",
   "execution_count": 11,
   "id": "3c11afe1-8c22-4517-a66e-2db256448ed7",
   "metadata": {},
   "outputs": [
    {
     "data": {
      "text/markdown": [
       "Thank you for sharing that, Christopher. Let's get the details down:\n",
       "\n",
       "- Date for yesterday's sleep diary entry: December 4, 2023\n",
       "- Time you went to bed: 9:15 PM\n",
       "- Time you tried to fall asleep: 9:15 PM\n",
       "- How long it took you to fall asleep: 0 minutes (fell asleep right away)\n",
       "- Number of times you woke up during the night: 1\n",
       "- Total time you were awake during the night: 20 minutes\n",
       "- Final wake up time: 6:45 AM\n",
       "- Time you got out of bed: 6:45 AM\n",
       "- Sleep quality: Good\n",
       "- Medications or aids used to help you sleep: None\n",
       "- Any other notes: Had some bad dreams\n",
       "\n",
       "Before I save this entry to the database, could you please confirm if all the details are correct?"
      ],
      "text/plain": [
       "<IPython.core.display.Markdown object>"
      ]
     },
     "metadata": {},
     "output_type": "display_data"
    }
   ],
   "source": [
    "x(\"\"\"sure. went to bed at 9:15, went to sleep right away, \n",
    "woke up once awake for 20 mins, final wake up 6:45 got up right away\n",
    "no meds, sleep was good, had some bad dreams\"\"\");"
   ]
  },
  {
   "cell_type": "code",
   "execution_count": 12,
   "id": "185e8720-e028-42af-874c-3ccd950146b3",
   "metadata": {},
   "outputs": [
    {
     "name": "stderr",
     "output_type": "stream",
     "text": [
      "2023-12-05 08:40:41 INFO     sleepmate.diary save_sleep_diary_entry entry=SleepDiaryEntry(date=datetime.datetime(2023, 12, 4, 0, 0), in_bed=datetime.datetime(2023, 12, 5, 21, 15), tried_to_fall_asleep=datetime.datetime(2023, 12, 5, 21, 15), time_to_fall_asleep=0, times_awake=1, time_awake=20, final_wake_up=datetime.datetime(2023, 12, 5, 6, 45), out_of_bed=datetime.datetime(2023, 12, 5, 6, 45), sleep_quality='Good', medications='None', notes='Had some bad dreams')\n"
     ]
    },
    {
     "data": {
      "text/markdown": [
       "The sleep diary entry for December 4, 2023, has been saved successfully. Now, let's calculate your sleep duration and efficiency:\n",
       "\n",
       "- Sleep duration: You went to bed at 9:15 PM and woke up at 6:45 AM. That's 9 hours and 30 minutes in bed. Considering you were awake for 20 minutes, your total sleep time was 9 hours and 10 minutes.\n",
       "- Sleep efficiency: You were in bed for 570 minutes (9 hours and 30 minutes) and slept for 550 minutes (9 hours and 10 minutes). So, your sleep efficiency is approximately 96.5%, which is above the 85% threshold considered normal.\n",
       "\n",
       "It seems like you had a pretty efficient sleep last night, despite the bad dreams. When you're ready to continue on your health journey, just say \"hey\"."
      ],
      "text/plain": [
       "<IPython.core.display.Markdown object>"
      ]
     },
     "metadata": {},
     "output_type": "display_data"
    },
    {
     "name": "stderr",
     "output_type": "stream",
     "text": [
      "2023-12-05 08:41:01 INFO     sleepmate.executor clear_chat_history: diary_entry -> nightmare_daily (65441d87316d0ff8334f1893 cleared)\n"
     ]
    }
   ],
   "source": [
    "x(\"yep, that's right\");"
   ]
  },
  {
   "cell_type": "code",
   "execution_count": 13,
   "id": "ddd21c27-01a0-46e3-89fc-281699555d0d",
   "metadata": {},
   "outputs": [
    {
     "name": "stderr",
     "output_type": "stream",
     "text": [
      "2023-12-05 08:42:05 INFO     sleepmate.executor 65441d87316d0ff8334f1893 diary_entry -> nightmare_daily\n"
     ]
    },
    {
     "data": {
      "text/markdown": [
       "Hello Christopher, I hope you're finding some moments of rest amidst everything. Is now a good time to talk about the unpleasant dreams you've been experiencing?"
      ],
      "text/plain": [
       "<IPython.core.display.Markdown object>"
      ]
     },
     "metadata": {},
     "output_type": "display_data"
    }
   ],
   "source": [
    "x(\"hey\");"
   ]
  },
  {
   "cell_type": "code",
   "execution_count": 15,
   "id": "eb72c0e7-045a-48c5-8c24-ad47aefff10b",
   "metadata": {},
   "outputs": [],
   "source": [
    "DBSleepDiaryEntry.objects(user=x.db_user_id).order_by(\"-id\").first().delete()"
   ]
  },
  {
   "cell_type": "code",
   "execution_count": 16,
   "id": "e9c684ce-1699-4f81-9a4c-88f45f97dfa3",
   "metadata": {},
   "outputs": [],
   "source": [
    "x.memory.clear()"
   ]
  },
  {
   "cell_type": "code",
   "execution_count": null,
   "id": "b463eaa9-f36b-4229-9ded-a7445634fb6d",
   "metadata": {},
   "outputs": [],
   "source": []
  },
  {
   "cell_type": "code",
   "execution_count": 5,
   "id": "b5a01627-a71a-4617-bdb4-0e4c74711ee3",
   "metadata": {},
   "outputs": [
    {
     "name": "stderr",
     "output_type": "stream",
     "text": [
      "2023-12-01 10:23:33 INFO     sleepmate.executor 65441d87316d0ff8334f1893 None -> whoop_sleep\n"
     ]
    },
    {
     "data": {
      "text/markdown": [
       "Ah, back for more adventures in wellness, are we? Let's dive right in. Is now a good time to review your WHOOP sleep data?"
      ],
      "text/plain": [
       "<IPython.core.display.Markdown object>"
      ]
     },
     "metadata": {},
     "output_type": "display_data"
    }
   ],
   "source": [
    "x(\"hey\");"
   ]
  },
  {
   "cell_type": "code",
   "execution_count": 6,
   "id": "93cddf7a-d19a-40d1-9a5a-22101840d521",
   "metadata": {},
   "outputs": [
    {
     "name": "stderr",
     "output_type": "stream",
     "text": [
      "2023-12-01 10:26:25 INFO     sleepmate.wearable remove_wearable x.db_user_id=ObjectId('65441d87316d0ff8334f1893') utterance='chris@nourishbalancethrive.com'\n"
     ]
    },
    {
     "data": {
      "text/markdown": [
       "Not to worry, Christopher. I've made a note that you no longer have a WHOOP strap. If there's anything else you'd like to discuss or review regarding your health journey, feel free to let me know. If not, just say \"hey\" whenever you're ready to pick things up again."
      ],
      "text/plain": [
       "<IPython.core.display.Markdown object>"
      ]
     },
     "metadata": {},
     "output_type": "display_data"
    },
    {
     "name": "stderr",
     "output_type": "stream",
     "text": [
      "2023-12-01 10:26:31 INFO     sleepmate.executor clear_chat_history: whoop_sleep -> wearable_probe (65441d87316d0ff8334f1893 cleared)\n"
     ]
    }
   ],
   "source": [
    "x(\"actually I don't have a WHOOP strap any more\");"
   ]
  },
  {
   "cell_type": "code",
   "execution_count": 7,
   "id": "d6e7abbb-e5dd-43da-bbc9-30ec0653bac3",
   "metadata": {},
   "outputs": [
    {
     "name": "stderr",
     "output_type": "stream",
     "text": [
      "2023-12-01 10:28:56 INFO     sleepmate.executor 65441d87316d0ff8334f1893 whoop_sleep -> wearable_probe\n"
     ]
    },
    {
     "data": {
      "text/markdown": [
       "Hello Christopher, I hope you're finding a moment of calm in your day. If you're up for it, I'd like to chat about wearable tech. Do you have any of these devices that you'd like to integrate for a more objective look at your health data?\n",
       "\n",
       "- WHOOP Strap\n",
       "- Fitbit Devices (e.g., Fitbit Charge, Fitbit Versa, Fitbit Sense)\n",
       "- Apple Watch\n",
       "- Garmin Wearables (e.g., Garmin Vivosmart, Garmin Fenix)\n",
       "- Samsung Galaxy Watch\n",
       "- Oura Ring\n",
       "- Xiaomi Mi Band\n",
       "- Polar Watches (e.g., Polar Vantage, Polar Ignite)\n",
       "- Withings Sleep Tracking Mat\n",
       "- Amazfit Smartwatches\n",
       "- Other (specify)\n",
       "\n",
       "Just let me know which one(s) you have, and we'll take it from there. And by the way, how are you feeling right now, in this moment?"
      ],
      "text/plain": [
       "<IPython.core.display.Markdown object>"
      ]
     },
     "metadata": {},
     "output_type": "display_data"
    }
   ],
   "source": [
    "x(\"hey\");"
   ]
  },
  {
   "cell_type": "code",
   "execution_count": 8,
   "id": "61dacc17-b269-4516-a35c-6034fcdb1c8d",
   "metadata": {},
   "outputs": [
    {
     "data": {
      "text/markdown": [
       "It sounds like integrating wearable devices isn't something you're interested in at the moment, and that's perfectly okay. We can always explore this option later if you change your mind. ###"
      ],
      "text/plain": [
       "<IPython.core.display.Markdown object>"
      ]
     },
     "metadata": {},
     "output_type": "display_data"
    },
    {
     "name": "stderr",
     "output_type": "stream",
     "text": [
      "2023-12-01 10:29:32 INFO     sleepmate.executor clear_chat_history: wearable_probe -> diary_entry (65441d87316d0ff8334f1893 cleared)\n"
     ]
    }
   ],
   "source": [
    "x(\"nope\");"
   ]
  },
  {
   "cell_type": "code",
   "execution_count": null,
   "id": "4caa5812-8b90-437f-84c9-a5ef977c03d3",
   "metadata": {},
   "outputs": [],
   "source": []
  },
  {
   "cell_type": "code",
   "execution_count": 5,
   "id": "0f5c75c9-88b4-43c4-99f9-a168d2dcfe65",
   "metadata": {},
   "outputs": [],
   "source": [
    "db_entry = DBHealthHistory.objects(user=x.db_user_id).first()"
   ]
  },
  {
   "cell_type": "code",
   "execution_count": 6,
   "id": "6c342ace-5957-42f0-8fe7-611aeff9eab5",
   "metadata": {},
   "outputs": [
    {
     "data": {
      "text/plain": [
       "SummaryResult(found=True, summary='It seems like your back pain may be influenced by your physical activities, medical conditions, or possibly your sleep disturbances. Addressing these areas could potentially alleviate your discomfort.')"
      ]
     },
     "execution_count": 6,
     "metadata": {},
     "output_type": "execute_result"
    }
   ],
   "source": [
    "get_document_summary(\"back pain\", db_entry)"
   ]
  },
  {
   "cell_type": "code",
   "execution_count": null,
   "id": "b3d5d97a-0e40-49f5-95ec-86087139515b",
   "metadata": {},
   "outputs": [],
   "source": []
  },
  {
   "cell_type": "code",
   "execution_count": 21,
   "id": "be867f40-be2d-47dc-8065-da7ba8d39fe1",
   "metadata": {},
   "outputs": [
    {
     "data": {
      "text/plain": [
       "1"
      ]
     },
     "execution_count": 21,
     "metadata": {},
     "output_type": "execute_result"
    }
   ],
   "source": [
    "DBWearables.objects(user=x.db_user_id).delete()"
   ]
  },
  {
   "cell_type": "code",
   "execution_count": 20,
   "id": "cad20bb1-bdec-4ec8-a453-e637552c8795",
   "metadata": {},
   "outputs": [],
   "source": [
    "clear_whoop_data(x.db_user_id)"
   ]
  },
  {
   "cell_type": "code",
   "execution_count": 8,
   "id": "9fedc503-b704-4da2-b03e-2c0df9e30729",
   "metadata": {},
   "outputs": [],
   "source": [
    "x.memory.clear()"
   ]
  },
  {
   "cell_type": "code",
   "execution_count": 5,
   "id": "4c21d66f-a4ef-44b0-8ea7-35c03005e940",
   "metadata": {},
   "outputs": [
    {
     "data": {
      "text/plain": [
       "diary_entry"
      ]
     },
     "execution_count": 5,
     "metadata": {},
     "output_type": "execute_result"
    }
   ],
   "source": [
    "x.get_next_goal()"
   ]
  },
  {
   "cell_type": "code",
   "execution_count": 6,
   "id": "1b34ba41-787a-40ed-8018-e81807e55db4",
   "metadata": {},
   "outputs": [
    {
     "name": "stderr",
     "output_type": "stream",
     "text": [
      "2023-11-26 07:23:53 INFO     sleepmate.executor 65497ddc25bab5cf587cf129 None -> sleep50\n"
     ]
    },
    {
     "data": {
      "text/markdown": [
       "Hey Lindsey, it seems we might have skipped the last two questions of the SLEEP-50 questionnaire. When you're ready, could you please provide your sleep rating from 1 (very bad) to 10 (very good), and let me know how many hours you sleep on average, including the typical times you fall asleep and wake up?"
      ],
      "text/plain": [
       "<IPython.core.display.Markdown object>"
      ]
     },
     "metadata": {},
     "output_type": "display_data"
    }
   ],
   "source": [
    "x(\"hey\");"
   ]
  },
  {
   "cell_type": "code",
   "execution_count": 15,
   "id": "71f4f353-f39e-43ea-a042-654e47957b02",
   "metadata": {},
   "outputs": [
    {
     "data": {
      "text/plain": [
       "[HumanMessage(content='1. 2\\n2. 2\\n3. 2\\n4. 1\\n5. 1\\n6. 4\\n7. 2'),\n",
       " AIMessage(content='Thank you for your input. Now, for the final section.\\n\\nStep 10 of 10: Additional Questions\\n\\n1. I rate my sleep as _____ (1 = very bad, 10 = very good)\\n2. I sleep _____ hours, mostly from _____ to _____.\\n\\nPlease fill in the blanks for these last two questions based on your recent experiences.'),\n",
       " HumanMessage(content='hey'),\n",
       " AIMessage(content=\"It seems we might have hit a bit of a snag. If you're feeling a bit weary, we can always pick this up another time. Just to clarify, for the final two questions of the SLEEP-50 questionnaire:\\n\\n1. How would you rate your sleep on a scale from 1 (very bad) to 10 (very good)?\\n2. How many hours do you typically sleep, and what are your usual bedtime and wake-up time?\\n\\nWhen you're ready, feel free to provide your answers, and we'll wrap this up.\"),\n",
       " HumanMessage(content='(post deleted by author)'),\n",
       " AIMessage(content=\"It looks like you might have changed your mind about something. No worries at all. Whenever you're ready, just let me know your ratings for the final two questions, and we'll complete the SLEEP-50 questionnaire together. If you need a moment or wish to continue another time, that's perfectly fine too.\"),\n",
       " HumanMessage(content='hey'),\n",
       " AIMessage(content=\"Hello again, Lindsey! It seems we may have had a little mix-up. If you're ready, could you please provide your ratings for the final two questions of the SLEEP-50 questionnaire?\\n\\n1. How would you rate your sleep on a scale from 1 (very bad) to 10 (very good)?\\n2. How many hours do you typically sleep, and what are your usual bedtime and wake-up time?\\n\\nWhen you're ready, just let me know your answers, and we'll complete the SLEEP-50 entry.\"),\n",
       " HumanMessage(content='(post deleted by author)'),\n",
       " AIMessage(content=\"No problem at all. If you need to take a break or if there's anything else on your mind, just let me know. We can always continue when you're ready.\")]"
      ]
     },
     "execution_count": 15,
     "metadata": {},
     "output_type": "execute_result"
    }
   ],
   "source": [
    "x.memory.chat_memory.messages[-10:]"
   ]
  },
  {
   "cell_type": "code",
   "execution_count": 16,
   "id": "577033b2-0713-4c49-b541-7c1b1ebb6bb6",
   "metadata": {},
   "outputs": [
    {
     "name": "stderr",
     "output_type": "stream",
     "text": [
      "2023-11-26 07:51:26 INFO     sleepmate.executor clear_chat_history_tail: deleting ids_to_delete=[ObjectId('656364918a712ce77c3fa578'), ObjectId('656364918a712ce77c3fa577')]\n"
     ]
    }
   ],
   "source": [
    "x.clear_chat_history_tail(N=2)"
   ]
  },
  {
   "cell_type": "code",
   "execution_count": null,
   "id": "25a12742-2db5-4da1-96ea-480318869a9e",
   "metadata": {},
   "outputs": [],
   "source": []
  },
  {
   "cell_type": "code",
   "execution_count": null,
   "id": "f66d4165-bdfb-474e-8510-72b195f68b17",
   "metadata": {},
   "outputs": [],
   "source": []
  },
  {
   "cell_type": "code",
   "execution_count": null,
   "id": "eecf0803-7f0a-40e9-9bf1-b68b3eaa6bb9",
   "metadata": {},
   "outputs": [],
   "source": []
  },
  {
   "cell_type": "code",
   "execution_count": 12,
   "id": "7a2209d6-229d-431d-8da4-cb2af0ae5255",
   "metadata": {},
   "outputs": [
    {
     "name": "stderr",
     "output_type": "stream",
     "text": [
      "2023-11-15 05:28:00 INFO     sleepmate.wearable save_wearables entry=Wearables(whoop=True, fitbit=False, apple_watch=False, garmin=False, samsung=False, oura=False, xiaomi=False, polar=False, withings=False, amazfit=False, other='')\n"
     ]
    },
    {
     "data": {
      "text/markdown": [
       "Brilliant, your WHOOP Strap is now on the list to be integrated. When you're ready to continue on your health journey, just say \"hey\" and we'll crack on!"
      ],
      "text/plain": [
       "<IPython.core.display.Markdown object>"
      ]
     },
     "metadata": {},
     "output_type": "display_data"
    },
    {
     "name": "stderr",
     "output_type": "stream",
     "text": [
      "2023-11-15 05:28:03 INFO     sleepmate.executor clear_chat_history: wearable_probe -> whoop_import (65441d87316d0ff8334f1893 cleared)\n"
     ]
    }
   ],
   "source": [
    "x(\"yeah whoop\");"
   ]
  },
  {
   "cell_type": "code",
   "execution_count": 13,
   "id": "2c83dfdf-3c6b-4215-94f1-12e896f37010",
   "metadata": {},
   "outputs": [
    {
     "name": "stderr",
     "output_type": "stream",
     "text": [
      "2023-11-15 05:28:06 INFO     sleepmate.executor 65441d87316d0ff8334f1893 wearable_probe -> whoop_import\n"
     ]
    },
    {
     "data": {
      "text/markdown": [
       "Hello Christopher! I hope you're feeling chipper at this moment. Is now a good time for us to proceed with a bit of data import wizardry?"
      ],
      "text/plain": [
       "<IPython.core.display.Markdown object>"
      ]
     },
     "metadata": {},
     "output_type": "display_data"
    }
   ],
   "source": [
    "x(\"hey\");"
   ]
  },
  {
   "cell_type": "code",
   "execution_count": 14,
   "id": "d47672aa-e339-4654-a1e0-73a9eb8c8485",
   "metadata": {},
   "outputs": [
    {
     "data": {
      "text/markdown": [
       "Brilliant! Please click on [this link](https://api.prod.whoop.com/oauth/oauth2/auth?response_type=code&client_id=33a54d79-6da4-48ec-a981-ff256e8357f1&redirect_uri=https%3A%2F%2Fsleepmate-whoop-stage.onrender.com%2Fwhoop_login&scope=offline+read%3Arecovery+read%3Acycles+read%3Aworkout+read%3Asleep+read%3Aprofile+read%3Abody_measurement&state=EvFxaAJ1bOqm10pPaDrhPurK0QfIyB) to log in to WHOOP. Once you've logged in, just close the browser tab and pop back here. I'll be waiting with a cuppa and a biscuit!"
      ],
      "text/plain": [
       "<IPython.core.display.Markdown object>"
      ]
     },
     "metadata": {},
     "output_type": "display_data"
    }
   ],
   "source": [
    "x(\"sure\");"
   ]
  },
  {
   "cell_type": "code",
   "execution_count": 15,
   "id": "5afbf4d4-5fe3-42c1-9eae-88a5d1f08612",
   "metadata": {},
   "outputs": [
    {
     "data": {
      "text/plain": [
       "SON([('_id', ObjectId('6554c7701398f5df26494205')), ('user', ObjectId('65441d87316d0ff8334f1893')), ('state', 'EvFxaAJ1bOqm10pPaDrhPurK0QfIyB'), ('access_token', 'g7Ys2Fg87OBgsIy5pLCLrOCg4TkZEouS8ZUp9Dw_BVs.NW65-tiZzkIqjAWsI9aWpOQj9mcgU3SiZeha0V4mdes'), ('expires_in', 3600), ('refresh_token', 'RUTFiSndwb24aHspvbWfw6tCBZyxsK1eFkj4_0Iud0M.-hueVu8NWNpSWW8hg-PIQmp5WC0TLgfqSNljLDYuFwY'), ('scope', 'offline read:recovery read:cycles read:workout read:sleep read:profile read:body_measurement'), ('token_type', 'bearer'), ('expires_at', 1700060922)])"
      ]
     },
     "execution_count": 15,
     "metadata": {},
     "output_type": "execute_result"
    }
   ],
   "source": [
    "DBWhoopToken.objects.first().to_mongo()"
   ]
  },
  {
   "cell_type": "code",
   "execution_count": 16,
   "id": "29617cdf-2ce6-4758-a301-9ad142e849a3",
   "metadata": {},
   "outputs": [
    {
     "name": "stderr",
     "output_type": "stream",
     "text": [
      "2023-11-15 06:10:20 INFO     sleepmate.whoop import_whoop_user_data: db_user.to_mongo()=SON([('_id', ObjectId('65441d87316d0ff8334f1893')), ('name', 'Christopher Kelly'), ('email', 'chris@nourishbalancethrive.com'), ('username', 'chris')])\n",
      "2023-11-15 06:10:20 INFO     sleepmate.whoop import_whoop_user_data: db_entry.to_mongo()=SON([('user', ObjectId('65441d87316d0ff8334f1893')), ('date', datetime.datetime(2023, 11, 15, 6, 10, 20, 695481)), ('height', 1.7526), ('weight', 68.0388)])\n"
     ]
    },
    {
     "data": {
      "text/markdown": [
       "The import was successful! It's like magic, but without the rabbit or the hat. When you're ready to continue on your health journey, just say \"hey\" and we'll crack on!"
      ],
      "text/plain": [
       "<IPython.core.display.Markdown object>"
      ]
     },
     "metadata": {},
     "output_type": "display_data"
    },
    {
     "name": "stderr",
     "output_type": "stream",
     "text": [
      "2023-11-15 06:10:25 INFO     sleepmate.executor clear_chat_history: whoop_import -> whoop_sleep (65441d87316d0ff8334f1893 cleared)\n"
     ]
    }
   ],
   "source": [
    "x(\"hey\");"
   ]
  },
  {
   "cell_type": "code",
   "execution_count": 17,
   "id": "b34a29bb-9d2d-49fb-98d7-f16cfe4df420",
   "metadata": {},
   "outputs": [
    {
     "name": "stderr",
     "output_type": "stream",
     "text": [
      "2023-11-15 06:10:33 INFO     sleepmate.executor 65441d87316d0ff8334f1893 whoop_import -> whoop_sleep\n"
     ]
    },
    {
     "data": {
      "text/markdown": [
       "Hello Christopher! I hope you're feeling chipper at this moment. Is now a good time to review your WHOOP sleep data?"
      ],
      "text/plain": [
       "<IPython.core.display.Markdown object>"
      ]
     },
     "metadata": {},
     "output_type": "display_data"
    }
   ],
   "source": [
    "x(\"hey\");"
   ]
  },
  {
   "cell_type": "code",
   "execution_count": 9,
   "id": "9e88fd3b-7a8d-4888-8a26-2ea85b13a0af",
   "metadata": {},
   "outputs": [],
   "source": [
    "db_entry = DBWhoopUser.objects(user=x.db_user_id).first()"
   ]
  },
  {
   "cell_type": "code",
   "execution_count": 15,
   "id": "cfc64da6-e277-49f5-8ce1-564975f66cd5",
   "metadata": {},
   "outputs": [],
   "source": [
    "import json"
   ]
  },
  {
   "cell_type": "code",
   "execution_count": 18,
   "id": "41f0bf80-87bb-4997-8254-7d800ff5483f",
   "metadata": {},
   "outputs": [
    {
     "data": {
      "text/plain": [
       "[(ObjectId('655655ba3969d52ed72efca4'), '2023-11-16T04:52:57.174000+00:00'),\n",
       " (ObjectId('6554d46387a73becda688deb'), '2023-11-11T05:11:32.230000+00:00'),\n",
       " (ObjectId('6554d46387a73becda688dea'), '2023-11-12T05:06:45.774000+00:00'),\n",
       " (ObjectId('6554d46387a73becda688de9'), '2023-11-13T05:20:44.078000+00:00'),\n",
       " (ObjectId('6554d46387a73becda688de8'), '2023-11-14T05:43:20.512000+00:00'),\n",
       " (ObjectId('6554d46387a73becda688de7'), '2023-11-15T05:25:56.435000+00:00')]"
      ]
     },
     "execution_count": 18,
     "metadata": {},
     "output_type": "execute_result"
    }
   ],
   "source": [
    "[(s.id, json.loads(s.json_dumps)[\"start\"]) for s in DBWhoopSleep.objects(whoop_user_id=db_entry.whoop_user_id).order_by(\"-id\")]"
   ]
  },
  {
   "cell_type": "code",
   "execution_count": 8,
   "id": "2db763f5-6e05-4ab6-aa99-fcce3a8f0e93",
   "metadata": {},
   "outputs": [
    {
     "name": "stderr",
     "output_type": "stream",
     "text": [
      "2023-11-16 10:03:25 INFO     sleepmate.whoop import_whoop_sleep_data: len(db_entries)=0\n",
      "2023-11-16 10:03:26 INFO     sleepmate.whoop get_whoop_sleep_data: db_entry.to_mongo()=SON([('_id', ObjectId('655655ba3969d52ed72efca4')), ('whoop_id', 835437777), ('whoop_user_id', 13013465), ('json_dumps', '{\"id\": 835437777, \"user_id\": 13013465, \"created_at\": \"2023-11-16T14:28:44.940000+00:00\", \"updated_at\": \"2023-11-16T14:28:49.716000+00:00\", \"start\": \"2023-11-16T04:52:57.174000+00:00\", \"end\": \"2023-11-16T14:16:17.754000+00:00\", \"timezone_offset\": \"-08:00\", \"nap\": false, \"score_state\": \"SCORED\", \"score\": {\"stage_summary\": {\"total_in_bed_time_milli\": 33684263, \"total_awake_time_milli\": 6315793, \"total_no_data_time_milli\": 0, \"total_light_sleep_time_milli\": 11073303, \"total_slow_wave_sleep_time_milli\": 10209045, \"total_rem_sleep_time_milli\": 6086122, \"sleep_cycle_count\": 6, \"disturbance_count\": 17}, \"sleep_needed\": {\"baseline_milli\": 26863833, \"need_from_sleep_debt_milli\": 4433665, \"need_from_recent_strain_milli\": 268567, \"need_from_recent_nap_milli\": 0}, \"respiratory_rate\": 12.348633, \"sleep_performance_percentage\": 87.0, \"sleep_consistency_percentage\": 78.0, \"sleep_efficiency_percentage\": 82.0934}}')])\n"
     ]
    },
    {
     "data": {
      "text/markdown": [
       "Here's a summary of your latest WHOOP sleep data:\n",
       "\n",
       "- Date: November 16, 2023\n",
       "- Time in bed: 9 hours, 24 minutes, and 20 seconds\n",
       "- Time awake: 1 hour, 45 minutes, and 15 seconds\n",
       "- Light sleep: 3 hours, 4 minutes, and 33 seconds\n",
       "- Slow-wave sleep: 2 hours, 50 minutes, and 9 seconds\n",
       "- REM sleep: 1 hour, 41 minutes, and 6 seconds\n",
       "- Sleep cycle count: 6\n",
       "- Disturbance count: 17\n",
       "- Respiratory rate: 12.35 breaths per minute\n",
       "- Sleep performance: 87%\n",
       "- Sleep consistency: 78%\n",
       "- Sleep efficiency: 82.09%\n",
       "\n",
       "Would you like to add any other notes to this entry before I save it to the database?"
      ],
      "text/plain": [
       "<IPython.core.display.Markdown object>"
      ]
     },
     "metadata": {},
     "output_type": "display_data"
    }
   ],
   "source": [
    "x(\"sure\");"
   ]
  },
  {
   "cell_type": "code",
   "execution_count": 19,
   "id": "1ec03e73-978c-45f0-b7e9-fdb0fb13634e",
   "metadata": {},
   "outputs": [
    {
     "name": "stderr",
     "output_type": "stream",
     "text": [
      "2023-11-15 06:11:43 INFO     sleepmate.whoop save_whoop_sleep_diary_entry entry=WhoopSleepDiaryEntry(date=datetime.datetime(2023, 11, 15, 0, 0), notes=\"slept in van, sleep wasn't that great\")\n"
     ]
    },
    {
     "data": {
      "text/markdown": [
       "Your WHOOP sleep diary entry has been saved with the note about sleeping in the van. Whenever you're ready to continue on your health journey, just say \"hey\"!"
      ],
      "text/plain": [
       "<IPython.core.display.Markdown object>"
      ]
     },
     "metadata": {},
     "output_type": "display_data"
    },
    {
     "name": "stderr",
     "output_type": "stream",
     "text": [
      "2023-11-15 06:11:47 INFO     sleepmate.executor clear_chat_history: whoop_sleep -> seeds_entry (65441d87316d0ff8334f1893 cleared)\n"
     ]
    }
   ],
   "source": [
    "x(\"slept in van, sleep wasn't that great, snot came back a bit\");"
   ]
  },
  {
   "cell_type": "markdown",
   "id": "1548132e-5584-4f95-9e9f-0731fab5b2f9",
   "metadata": {},
   "source": [
    "# Sleep Diary"
   ]
  },
  {
   "cell_type": "code",
   "execution_count": 5,
   "id": "48d23dae-d8df-4787-b847-8305a28345bf",
   "metadata": {},
   "outputs": [],
   "source": [
    "x.memory.clear()"
   ]
  },
  {
   "cell_type": "code",
   "execution_count": 6,
   "id": "c951b12b-9c3c-434d-98c1-280307982f7e",
   "metadata": {},
   "outputs": [],
   "source": [
    "from sleepmate.diary import *"
   ]
  },
  {
   "cell_type": "code",
   "execution_count": 13,
   "id": "a036425e-a3e3-4750-a2dd-6cb4809f4b13",
   "metadata": {},
   "outputs": [
    {
     "data": {
      "text/plain": [
       "SON([('_id', ObjectId('654fc62e33378f36afccc24a')), ('user', ObjectId('65441d87316d0ff8334f1893')), ('date', datetime.datetime(2023, 11, 10, 0, 0)), ('in_bed', datetime.datetime(2023, 11, 10, 21, 15)), ('tried_to_fall_asleep', datetime.datetime(2023, 11, 10, 21, 15)), ('time_to_fall_asleep', 0), ('times_awake', 1), ('time_awake', 30), ('final_wake_up', datetime.datetime(2023, 11, 11, 6, 30)), ('out_of_bed', datetime.datetime(2023, 11, 11, 6, 30)), ('sleep_quality', 'Bad'), ('medications', 'None'), ('notes', 'Feeling unwell due to a cold')])"
      ]
     },
     "execution_count": 13,
     "metadata": {},
     "output_type": "execute_result"
    }
   ],
   "source": [
    "DBSleepDiaryEntry.objects(user=x.db_user_id).order_by(\"-id\").first().to_mongo()#.delete()"
   ]
  },
  {
   "cell_type": "code",
   "execution_count": 14,
   "id": "b86585b7-2e29-48b0-ba5a-24361def92b4",
   "metadata": {},
   "outputs": [
    {
     "name": "stderr",
     "output_type": "stream",
     "text": [
      "2023-11-12 05:16:33 INFO     sleepmate.executor 65441d87316d0ff8334f1893 seeds_entry -> diary_entry\n"
     ]
    },
    {
     "data": {
      "text/markdown": [
       "Hello Christopher, I hope you're feeling chipper at this moment. Is now a good time to record a sleep diary entry for last night?"
      ],
      "text/plain": [
       "<IPython.core.display.Markdown object>"
      ]
     },
     "metadata": {},
     "output_type": "display_data"
    }
   ],
   "source": [
    "x(\"hey\");"
   ]
  },
  {
   "cell_type": "code",
   "execution_count": 15,
   "id": "e178d2c4-f980-4e44-9b6b-6afcd509b76d",
   "metadata": {},
   "outputs": [
    {
     "data": {
      "text/markdown": [
       "Splendid! Let's start with the date for yesterday, which was November 11, 2023. What time did you go to bed yesterday?"
      ],
      "text/plain": [
       "<IPython.core.display.Markdown object>"
      ]
     },
     "metadata": {},
     "output_type": "display_data"
    }
   ],
   "source": [
    "x(\"sure\");"
   ]
  },
  {
   "cell_type": "code",
   "execution_count": 16,
   "id": "64db8745-ea9e-48c8-9c91-f214bb83e249",
   "metadata": {},
   "outputs": [
    {
     "data": {
      "text/markdown": [
       "Thank you for the details. Let's summarize:\n",
       "\n",
       "- Date: November 11, 2023\n",
       "- Time you went to bed: 9:15 PM\n",
       "- Time you tried to fall asleep: 9:15 PM\n",
       "- How long it took you to fall asleep: 0 minutes\n",
       "- Number of awakenings: 0\n",
       "- Total awake time during the night: 0 minutes\n",
       "- Final wake-up time: 4:30 AM\n",
       "- Time you got out of bed: 4:45 AM\n",
       "- Sleep quality: Good\n",
       "- Medications or aids used: None\n",
       "- Other notes: Slept outside in the van, still feeling sick\n",
       "\n",
       "Before I calculate your sleep duration and efficiency, can you confirm if all the above details are correct?"
      ],
      "text/plain": [
       "<IPython.core.display.Markdown object>"
      ]
     },
     "metadata": {},
     "output_type": "display_data"
    }
   ],
   "source": [
    "x(\"\"\"went to bed at 9:15, went to sleep right away\n",
    "\n",
    "didn't wake during the night \n",
    "\n",
    "final wake time was 4:30am got up at 4:45 \n",
    "\n",
    "no meds\n",
    "\n",
    "sleep was good\n",
    "\n",
    "slept outside in the van and still feeling sick\"\"\");"
   ]
  },
  {
   "cell_type": "code",
   "execution_count": 17,
   "id": "2ab62478-079e-47ef-8de0-d8d0bc1615f2",
   "metadata": {},
   "outputs": [
    {
     "name": "stderr",
     "output_type": "stream",
     "text": [
      "2023-11-12 05:18:26 INFO     sleepmate.diary save_sleep_diary_entry entry=SleepDiaryEntry(date=datetime.datetime(2023, 11, 11, 0, 0), in_bed=datetime.datetime(2023, 11, 12, 21, 15), tried_to_fall_asleep=datetime.datetime(2023, 11, 12, 21, 15), time_to_fall_asleep=0, times_awake=0, time_awake=0, final_wake_up=datetime.datetime(2023, 11, 12, 4, 30), out_of_bed=datetime.datetime(2023, 11, 12, 4, 45), sleep_quality='Good', medications='None', notes='Slept outside in the van, still feeling sick')\n"
     ]
    },
    {
     "data": {
      "text/markdown": [
       "The sleep diary entry has been saved successfully. Here's a summary of your sleep for November 11, 2023:\n",
       "\n",
       "- Sleep Duration: 7 hours and 15 minutes\n",
       "- Sleep Efficiency: 100%\n",
       "\n",
       "Remember, a good night's sleep is like a good British comedy—both leave you feeling refreshed and in high spirits! When you're ready to continue on your health journey, just say \"hey\"."
      ],
      "text/plain": [
       "<IPython.core.display.Markdown object>"
      ]
     },
     "metadata": {},
     "output_type": "display_data"
    },
    {
     "name": "stderr",
     "output_type": "stream",
     "text": [
      "2023-11-12 05:18:30 INFO     sleepmate.executor clear_chat_history: diary_entry -> seeds_entry (65441d87316d0ff8334f1893 cleared)\n"
     ]
    }
   ],
   "source": [
    "x(\"yes\");"
   ]
  },
  {
   "cell_type": "markdown",
   "id": "5d72016d-3d92-4566-822a-30fceb556e54",
   "metadata": {},
   "source": [
    "# SEEDS"
   ]
  },
  {
   "cell_type": "code",
   "execution_count": 5,
   "id": "f5942d34-2d29-4dcc-8b2a-31acd03bb988",
   "metadata": {},
   "outputs": [],
   "source": [
    "x.memory.clear()"
   ]
  },
  {
   "cell_type": "code",
   "execution_count": 18,
   "id": "e1c27fb6-f10d-4c72-a55a-5a63d6fe8722",
   "metadata": {},
   "outputs": [
    {
     "name": "stderr",
     "output_type": "stream",
     "text": [
      "2023-11-12 05:19:02 INFO     sleepmate.executor 65441d87316d0ff8334f1893 diary_entry -> seeds_entry\n"
     ]
    },
    {
     "data": {
      "text/markdown": [
       "Hello Christopher! I hope you're feeling chipper today. Is now a good time to record a SEEDS diary entry?"
      ],
      "text/plain": [
       "<IPython.core.display.Markdown object>"
      ]
     },
     "metadata": {},
     "output_type": "display_data"
    }
   ],
   "source": [
    "x(\"hey\");"
   ]
  },
  {
   "cell_type": "code",
   "execution_count": 19,
   "id": "ae2d062c-e9c3-46af-9630-df90bcce91fb",
   "metadata": {},
   "outputs": [
    {
     "data": {
      "text/markdown": [
       "Brilliant, let's get cracking. Here are the predefined SEEDS tasks for you to reflect on:\n",
       "\n",
       "- **Sleep**\n",
       "  - Get outside and walk by 9am\n",
       "  - Get in the sauna at 8pm\n",
       "  - No chocolate after 7pm\n",
       "\n",
       "- **Exercise**\n",
       "  - Do two pistol squats on each leg after dinner\n",
       "  - Walk around the block after lunch\n",
       "  - Do one solo drill for upcoming jujitsu class\n",
       "\n",
       "- **Eating**\n",
       "  - No more than 3/4 bar of chocolate per day\n",
       "\n",
       "- **Drinking**\n",
       "  - Drink three glasses of water per day\n",
       "\n",
       "- **Stress**\n",
       "  - Do the open focus exercise\n",
       "  - Write down three things I’m grateful for\n",
       "  - Send one message to a friend\n",
       "\n",
       "Now, what did you manage to get done yesterday, November 11, 2023?"
      ],
      "text/plain": [
       "<IPython.core.display.Markdown object>"
      ]
     },
     "metadata": {},
     "output_type": "display_data"
    }
   ],
   "source": [
    "x(\"sure\");"
   ]
  },
  {
   "cell_type": "code",
   "execution_count": 20,
   "id": "2b157409-d25d-4da5-ac46-f9a0946ffb9b",
   "metadata": {},
   "outputs": [
    {
     "data": {
      "text/markdown": [
       "Righto, let's take stock of what you did accomplish on November 11, 2023:\n",
       "\n",
       "- **Sleep**\n",
       "  - Got outside and walked by 9am\n",
       "  - Got in the sauna at 8pm\n",
       "  - No chocolate after 7pm\n",
       "\n",
       "- **Exercise**\n",
       "  - Walked around the block after lunch\n",
       "\n",
       "- **Eating**\n",
       "  - No more than 3/4 bar of chocolate per day\n",
       "\n",
       "- **Drinking**\n",
       "  - Drank three glasses of water per day\n",
       "\n",
       "- **Stress**\n",
       "  - Wrote down three things I’m grateful for\n",
       "  - Sent one message to a friend\n",
       "\n",
       "Does that look like a fair summary of your day? If so, I'll go ahead and save this SEEDS diary entry to the database."
      ],
      "text/plain": [
       "<IPython.core.display.Markdown object>"
      ]
     },
     "metadata": {},
     "output_type": "display_data"
    }
   ],
   "source": [
    "x(\"didn't do the pistol squats, drill, open focus exercise\");"
   ]
  },
  {
   "cell_type": "code",
   "execution_count": 21,
   "id": "5217ad6c-6721-4f3b-9859-0863722f1d5c",
   "metadata": {},
   "outputs": [
    {
     "name": "stderr",
     "output_type": "stream",
     "text": [
      "2023-11-12 05:21:30 INFO     sleepmate.seeds save_seeds_diary_entry entry=SeedsDiaryEntry(date=datetime.datetime(2023, 11, 11, 0, 0), sleep_1=1, sleep_2=1, sleep_3=1, exercise_1=0, exercise_2=1, exercise_3=0, eating_1=1, eating_2=0, eating_3=0, drinking_1=1, drinking_2=0, drinking_3=0, stress_1=0, stress_2=1, stress_3=1)\n"
     ]
    },
    {
     "data": {
      "text/markdown": [
       "Your score for the day is 8 out of 15. Not too shabby, Christopher! Every step is a step forward, even if it's just a tiny one. When you're ready to continue on your health journey, just say \"hey\"."
      ],
      "text/plain": [
       "<IPython.core.display.Markdown object>"
      ]
     },
     "metadata": {},
     "output_type": "display_data"
    },
    {
     "name": "stderr",
     "output_type": "stream",
     "text": [
      "2023-11-12 05:21:34 INFO     sleepmate.executor clear_chat_history: seeds_entry -> open_focus (65441d87316d0ff8334f1893 cleared)\n"
     ]
    }
   ],
   "source": [
    "x(\"yep, that's right\");"
   ]
  },
  {
   "cell_type": "code",
   "execution_count": 10,
   "id": "f789c9a1-1bc5-4dae-a980-fc762cb23c74",
   "metadata": {},
   "outputs": [
    {
     "data": {
      "text/plain": [
       "seeds_entry"
      ]
     },
     "execution_count": 10,
     "metadata": {},
     "output_type": "execute_result"
    }
   ],
   "source": [
    "x.get_next_goal()"
   ]
  },
  {
   "cell_type": "code",
   "execution_count": 11,
   "id": "d9e0906d-fd6f-4cef-931e-bd8ff45b861a",
   "metadata": {},
   "outputs": [],
   "source": [
    "from sleepmate.seeds import *"
   ]
  },
  {
   "cell_type": "code",
   "execution_count": 12,
   "id": "48b5e031-5019-4473-8838-9c7c950aeec6",
   "metadata": {},
   "outputs": [],
   "source": [
    "get_current_seeds(x.db_user_id).delete()"
   ]
  },
  {
   "cell_type": "code",
   "execution_count": 13,
   "id": "c953b0e2-1d56-4a0a-9313-260ea6fa9c80",
   "metadata": {},
   "outputs": [
    {
     "data": {
      "text/plain": [
       "SeedsDiaryEntry(date=datetime.datetime(2023, 11, 9, 0, 0), sleep_1=1, sleep_2=0, sleep_3=1, exercise_1=1, exercise_2=1, exercise_3=1, eating_1=1, eating_2=0, eating_3=0, drinking_1=1, drinking_2=0, drinking_3=0, stress_1=0, stress_2=1, stress_3=1)"
      ]
     },
     "execution_count": 13,
     "metadata": {},
     "output_type": "execute_result"
    }
   ],
   "source": [
    "entry = get_seeds_from_memory(x); entry"
   ]
  },
  {
   "cell_type": "code",
   "execution_count": null,
   "id": "414a9ecb-6f32-40c9-8506-72ef48e81010",
   "metadata": {},
   "outputs": [],
   "source": [
    "get_parsed_output(\n",
    "        \"summarise the SEEDS diary entry\", x.get_latest_messages, SeedsDiaryEntry\n",
    "    )"
   ]
  }
 ],
 "metadata": {
  "kernelspec": {
   "display_name": "Python 3 (ipykernel)",
   "language": "python",
   "name": "python3"
  },
  "language_info": {
   "codemirror_mode": {
    "name": "ipython",
    "version": 3
   },
   "file_extension": ".py",
   "mimetype": "text/x-python",
   "name": "python",
   "nbconvert_exporter": "python",
   "pygments_lexer": "ipython3",
   "version": "3.11.5"
  }
 },
 "nbformat": 4,
 "nbformat_minor": 5
}
