{
 "cells": [
  {
   "cell_type": "code",
   "execution_count": 1,
   "id": "fee70902-195f-4928-b5eb-a1570b8b2658",
   "metadata": {},
   "outputs": [
    {
     "data": {
      "text/plain": [
       "True"
      ]
     },
     "execution_count": 1,
     "metadata": {},
     "output_type": "execute_result"
    }
   ],
   "source": [
    "# Load staging environment\n",
    "from dotenv import load_dotenv\n",
    "load_dotenv(\"../.env-stage\", override=True)"
   ]
  },
  {
   "cell_type": "code",
   "execution_count": 2,
   "id": "98d56ca8-9626-4d2c-b09d-721812247fae",
   "metadata": {},
   "outputs": [],
   "source": [
    "from sleepmate.executor import *\n",
    "from sleepmate.diary import *\n",
    "from sleepmate.seeds import *\n",
    "from sleepmate.whoop import *\n",
    "from sleepmate.wearable import *"
   ]
  },
  {
   "cell_type": "code",
   "execution_count": 5,
   "id": "73276f16-845e-4f5c-bc3a-729eabbde4f7",
   "metadata": {},
   "outputs": [],
   "source": [
    "username=\"chris\""
   ]
  },
  {
   "cell_type": "code",
   "execution_count": 6,
   "id": "b6156bb3-491f-46a6-8431-72b653d26b4e",
   "metadata": {},
   "outputs": [],
   "source": [
    "x = X(username=username, hello=None)"
   ]
  },
  {
   "cell_type": "code",
   "execution_count": 21,
   "id": "be867f40-be2d-47dc-8065-da7ba8d39fe1",
   "metadata": {},
   "outputs": [
    {
     "data": {
      "text/plain": [
       "1"
      ]
     },
     "execution_count": 21,
     "metadata": {},
     "output_type": "execute_result"
    }
   ],
   "source": [
    "DBWearables.objects(user=x.db_user_id).delete()"
   ]
  },
  {
   "cell_type": "code",
   "execution_count": 20,
   "id": "cad20bb1-bdec-4ec8-a453-e637552c8795",
   "metadata": {},
   "outputs": [],
   "source": [
    "clear_whoop_data(x.db_user_id)"
   ]
  },
  {
   "cell_type": "code",
   "execution_count": 9,
   "id": "9fedc503-b704-4da2-b03e-2c0df9e30729",
   "metadata": {},
   "outputs": [],
   "source": [
    "x.memory.clear()"
   ]
  },
  {
   "cell_type": "code",
   "execution_count": 22,
   "id": "4c21d66f-a4ef-44b0-8ea7-35c03005e940",
   "metadata": {},
   "outputs": [
    {
     "data": {
      "text/plain": [
       "wearable_probe"
      ]
     },
     "execution_count": 22,
     "metadata": {},
     "output_type": "execute_result"
    }
   ],
   "source": [
    "x.get_next_goal()"
   ]
  },
  {
   "cell_type": "code",
   "execution_count": 11,
   "id": "1b34ba41-787a-40ed-8018-e81807e55db4",
   "metadata": {},
   "outputs": [
    {
     "name": "stderr",
     "output_type": "stream",
     "text": [
      "2023-11-15 05:26:00 INFO     sleepmate.executor 65441d87316d0ff8334f1893 None -> wearable_probe\n"
     ]
    },
    {
     "data": {
      "text/markdown": [
       "Hello Christopher, I hope you're feeling chipper today! I'm curious, do you happen to have any of these wearable devices that you'd like to integrate for a more objective look at your health data?\n",
       "\n",
       "- WHOOP Strap\n",
       "- Fitbit Devices (e.g., Fitbit Charge, Fitbit Versa, Fitbit Sense)\n",
       "- Apple Watch\n",
       "- Garmin Wearables (e.g., Garmin Vivosmart, Garmin Fenix)\n",
       "- Samsung Galaxy Watch\n",
       "- Oura Ring\n",
       "- Xiaomi Mi Band\n",
       "- Polar Watches (e.g., Polar Vantage, Polar Ignite)\n",
       "- Withings Sleep Tracking Mat\n",
       "- Amazfit Smartwatches\n",
       "- Other (please specify)\n",
       "\n",
       "If you have any of these, just let me know which ones, and we'll get them connected. How are you feeling right now, in this moment?"
      ],
      "text/plain": [
       "<IPython.core.display.Markdown object>"
      ]
     },
     "metadata": {},
     "output_type": "display_data"
    }
   ],
   "source": [
    "x(\"hey\");"
   ]
  },
  {
   "cell_type": "code",
   "execution_count": 12,
   "id": "7a2209d6-229d-431d-8da4-cb2af0ae5255",
   "metadata": {},
   "outputs": [
    {
     "name": "stderr",
     "output_type": "stream",
     "text": [
      "2023-11-15 05:28:00 INFO     sleepmate.wearable save_wearables entry=Wearables(whoop=True, fitbit=False, apple_watch=False, garmin=False, samsung=False, oura=False, xiaomi=False, polar=False, withings=False, amazfit=False, other='')\n"
     ]
    },
    {
     "data": {
      "text/markdown": [
       "Brilliant, your WHOOP Strap is now on the list to be integrated. When you're ready to continue on your health journey, just say \"hey\" and we'll crack on!"
      ],
      "text/plain": [
       "<IPython.core.display.Markdown object>"
      ]
     },
     "metadata": {},
     "output_type": "display_data"
    },
    {
     "name": "stderr",
     "output_type": "stream",
     "text": [
      "2023-11-15 05:28:03 INFO     sleepmate.executor clear_chat_history: wearable_probe -> whoop_import (65441d87316d0ff8334f1893 cleared)\n"
     ]
    }
   ],
   "source": [
    "x(\"yeah whoop\");"
   ]
  },
  {
   "cell_type": "code",
   "execution_count": 13,
   "id": "2c83dfdf-3c6b-4215-94f1-12e896f37010",
   "metadata": {},
   "outputs": [
    {
     "name": "stderr",
     "output_type": "stream",
     "text": [
      "2023-11-15 05:28:06 INFO     sleepmate.executor 65441d87316d0ff8334f1893 wearable_probe -> whoop_import\n"
     ]
    },
    {
     "data": {
      "text/markdown": [
       "Hello Christopher! I hope you're feeling chipper at this moment. Is now a good time for us to proceed with a bit of data import wizardry?"
      ],
      "text/plain": [
       "<IPython.core.display.Markdown object>"
      ]
     },
     "metadata": {},
     "output_type": "display_data"
    }
   ],
   "source": [
    "x(\"hey\");"
   ]
  },
  {
   "cell_type": "code",
   "execution_count": 14,
   "id": "d47672aa-e339-4654-a1e0-73a9eb8c8485",
   "metadata": {},
   "outputs": [
    {
     "data": {
      "text/markdown": [
       "Brilliant! Please click on [this link](https://api.prod.whoop.com/oauth/oauth2/auth?response_type=code&client_id=33a54d79-6da4-48ec-a981-ff256e8357f1&redirect_uri=https%3A%2F%2Fsleepmate-whoop-stage.onrender.com%2Fwhoop_login&scope=offline+read%3Arecovery+read%3Acycles+read%3Aworkout+read%3Asleep+read%3Aprofile+read%3Abody_measurement&state=EvFxaAJ1bOqm10pPaDrhPurK0QfIyB) to log in to WHOOP. Once you've logged in, just close the browser tab and pop back here. I'll be waiting with a cuppa and a biscuit!"
      ],
      "text/plain": [
       "<IPython.core.display.Markdown object>"
      ]
     },
     "metadata": {},
     "output_type": "display_data"
    }
   ],
   "source": [
    "x(\"sure\");"
   ]
  },
  {
   "cell_type": "code",
   "execution_count": 15,
   "id": "5afbf4d4-5fe3-42c1-9eae-88a5d1f08612",
   "metadata": {},
   "outputs": [
    {
     "data": {
      "text/plain": [
       "SON([('_id', ObjectId('6554c7701398f5df26494205')), ('user', ObjectId('65441d87316d0ff8334f1893')), ('state', 'EvFxaAJ1bOqm10pPaDrhPurK0QfIyB'), ('access_token', 'g7Ys2Fg87OBgsIy5pLCLrOCg4TkZEouS8ZUp9Dw_BVs.NW65-tiZzkIqjAWsI9aWpOQj9mcgU3SiZeha0V4mdes'), ('expires_in', 3600), ('refresh_token', 'RUTFiSndwb24aHspvbWfw6tCBZyxsK1eFkj4_0Iud0M.-hueVu8NWNpSWW8hg-PIQmp5WC0TLgfqSNljLDYuFwY'), ('scope', 'offline read:recovery read:cycles read:workout read:sleep read:profile read:body_measurement'), ('token_type', 'bearer'), ('expires_at', 1700060922)])"
      ]
     },
     "execution_count": 15,
     "metadata": {},
     "output_type": "execute_result"
    }
   ],
   "source": [
    "DBWhoopToken.objects.first().to_mongo()"
   ]
  },
  {
   "cell_type": "code",
   "execution_count": 16,
   "id": "29617cdf-2ce6-4758-a301-9ad142e849a3",
   "metadata": {},
   "outputs": [
    {
     "name": "stderr",
     "output_type": "stream",
     "text": [
      "2023-11-15 06:10:20 INFO     sleepmate.whoop import_whoop_user_data: db_user.to_mongo()=SON([('_id', ObjectId('65441d87316d0ff8334f1893')), ('name', 'Christopher Kelly'), ('email', 'chris@nourishbalancethrive.com'), ('username', 'chris')])\n",
      "2023-11-15 06:10:20 INFO     sleepmate.whoop import_whoop_user_data: db_entry.to_mongo()=SON([('user', ObjectId('65441d87316d0ff8334f1893')), ('date', datetime.datetime(2023, 11, 15, 6, 10, 20, 695481)), ('height', 1.7526), ('weight', 68.0388)])\n"
     ]
    },
    {
     "data": {
      "text/markdown": [
       "The import was successful! It's like magic, but without the rabbit or the hat. When you're ready to continue on your health journey, just say \"hey\" and we'll crack on!"
      ],
      "text/plain": [
       "<IPython.core.display.Markdown object>"
      ]
     },
     "metadata": {},
     "output_type": "display_data"
    },
    {
     "name": "stderr",
     "output_type": "stream",
     "text": [
      "2023-11-15 06:10:25 INFO     sleepmate.executor clear_chat_history: whoop_import -> whoop_sleep (65441d87316d0ff8334f1893 cleared)\n"
     ]
    }
   ],
   "source": [
    "x(\"hey\");"
   ]
  },
  {
   "cell_type": "code",
   "execution_count": 17,
   "id": "b34a29bb-9d2d-49fb-98d7-f16cfe4df420",
   "metadata": {},
   "outputs": [
    {
     "name": "stderr",
     "output_type": "stream",
     "text": [
      "2023-11-15 06:10:33 INFO     sleepmate.executor 65441d87316d0ff8334f1893 whoop_import -> whoop_sleep\n"
     ]
    },
    {
     "data": {
      "text/markdown": [
       "Hello Christopher! I hope you're feeling chipper at this moment. Is now a good time to review your WHOOP sleep data?"
      ],
      "text/plain": [
       "<IPython.core.display.Markdown object>"
      ]
     },
     "metadata": {},
     "output_type": "display_data"
    }
   ],
   "source": [
    "x(\"hey\");"
   ]
  },
  {
   "cell_type": "code",
   "execution_count": 18,
   "id": "2db763f5-6e05-4ab6-aa99-fcce3a8f0e93",
   "metadata": {},
   "outputs": [
    {
     "name": "stderr",
     "output_type": "stream",
     "text": [
      "2023-11-15 06:10:52 INFO     sleepmate.whoop import_whoop_sleep_data: len(db_entries)=5\n",
      "2023-11-15 06:10:55 INFO     sleepmate.whoop get_whoop_sleep_data: db_entry.to_mongo()=SON([('_id', ObjectId('6554d16c1398f5df2649420f')), ('whoop_id', 834327192), ('whoop_user_id', 13013465), ('json_dumps', '{\"id\": 834327192, \"user_id\": 13013465, \"created_at\": \"2023-11-15T12:38:58.206000+00:00\", \"updated_at\": \"2023-11-15T12:39:03.288000+00:00\", \"start\": \"2023-11-15T05:25:56.435000+00:00\", \"end\": \"2023-11-15T12:26:59.663000+00:00\", \"timezone_offset\": \"-08:00\", \"nap\": false, \"score_state\": \"SCORED\", \"score\": {\"stage_summary\": {\"total_in_bed_time_milli\": 25002702, \"total_awake_time_milli\": 3316478, \"total_no_data_time_milli\": 0, \"total_light_sleep_time_milli\": 11678990, \"total_slow_wave_sleep_time_milli\": 5565979, \"total_rem_sleep_time_milli\": 4441255, \"sleep_cycle_count\": 4, \"disturbance_count\": 7}, \"sleep_needed\": {\"baseline_milli\": 26863881, \"need_from_sleep_debt_milli\": 3105693, \"need_from_recent_strain_milli\": 583979, \"need_from_recent_nap_milli\": 0}, \"respiratory_rate\": 11.8359375, \"sleep_performance_percentage\": 71.0, \"sleep_consistency_percentage\": 86.0, \"sleep_efficiency_percentage\": 88.678894}}')])\n"
     ]
    },
    {
     "data": {
      "text/markdown": [
       "Here's a summary of your latest WHOOP sleep data:\n",
       "\n",
       "- Date: 2023-11-15\n",
       "- Sleep Efficiency: 88.68%\n",
       "- Total Time in Bed: 6 hours, 56 minutes, and 40 seconds\n",
       "- Total Awake Time: 55 minutes and 16 seconds\n",
       "- Total Light Sleep Time: 3 hours, 14 minutes, and 39 seconds\n",
       "- Total Slow Wave Sleep Time: 1 hour, 32 minutes, and 36 seconds\n",
       "- Total REM Sleep Time: 1 hour, 14 minutes, and 1 second\n",
       "- Sleep Cycle Count: 4\n",
       "- Disturbance Count: 7\n",
       "- Respiratory Rate: 11.84 breaths per minute\n",
       "- Sleep Performance: 71%\n",
       "- Sleep Consistency: 86%\n",
       "\n",
       "Would you like to add any other notes to this entry before I save it to the database?"
      ],
      "text/plain": [
       "<IPython.core.display.Markdown object>"
      ]
     },
     "metadata": {},
     "output_type": "display_data"
    }
   ],
   "source": [
    "x(\"sure\");"
   ]
  },
  {
   "cell_type": "code",
   "execution_count": 19,
   "id": "1ec03e73-978c-45f0-b7e9-fdb0fb13634e",
   "metadata": {},
   "outputs": [
    {
     "name": "stderr",
     "output_type": "stream",
     "text": [
      "2023-11-15 06:11:43 INFO     sleepmate.whoop save_whoop_sleep_diary_entry entry=WhoopSleepDiaryEntry(date=datetime.datetime(2023, 11, 15, 0, 0), notes=\"slept in van, sleep wasn't that great\")\n"
     ]
    },
    {
     "data": {
      "text/markdown": [
       "Your WHOOP sleep diary entry has been saved with the note about sleeping in the van. Whenever you're ready to continue on your health journey, just say \"hey\"!"
      ],
      "text/plain": [
       "<IPython.core.display.Markdown object>"
      ]
     },
     "metadata": {},
     "output_type": "display_data"
    },
    {
     "name": "stderr",
     "output_type": "stream",
     "text": [
      "2023-11-15 06:11:47 INFO     sleepmate.executor clear_chat_history: whoop_sleep -> seeds_entry (65441d87316d0ff8334f1893 cleared)\n"
     ]
    }
   ],
   "source": [
    "x(\"slept in van, sleep wasn't that great\");"
   ]
  },
  {
   "cell_type": "markdown",
   "id": "1548132e-5584-4f95-9e9f-0731fab5b2f9",
   "metadata": {},
   "source": [
    "# Sleep Diary"
   ]
  },
  {
   "cell_type": "code",
   "execution_count": 5,
   "id": "48d23dae-d8df-4787-b847-8305a28345bf",
   "metadata": {},
   "outputs": [],
   "source": [
    "x.memory.clear()"
   ]
  },
  {
   "cell_type": "code",
   "execution_count": 6,
   "id": "c951b12b-9c3c-434d-98c1-280307982f7e",
   "metadata": {},
   "outputs": [],
   "source": [
    "from sleepmate.diary import *"
   ]
  },
  {
   "cell_type": "code",
   "execution_count": 13,
   "id": "a036425e-a3e3-4750-a2dd-6cb4809f4b13",
   "metadata": {},
   "outputs": [
    {
     "data": {
      "text/plain": [
       "SON([('_id', ObjectId('654fc62e33378f36afccc24a')), ('user', ObjectId('65441d87316d0ff8334f1893')), ('date', datetime.datetime(2023, 11, 10, 0, 0)), ('in_bed', datetime.datetime(2023, 11, 10, 21, 15)), ('tried_to_fall_asleep', datetime.datetime(2023, 11, 10, 21, 15)), ('time_to_fall_asleep', 0), ('times_awake', 1), ('time_awake', 30), ('final_wake_up', datetime.datetime(2023, 11, 11, 6, 30)), ('out_of_bed', datetime.datetime(2023, 11, 11, 6, 30)), ('sleep_quality', 'Bad'), ('medications', 'None'), ('notes', 'Feeling unwell due to a cold')])"
      ]
     },
     "execution_count": 13,
     "metadata": {},
     "output_type": "execute_result"
    }
   ],
   "source": [
    "DBSleepDiaryEntry.objects(user=x.db_user_id).order_by(\"-id\").first().to_mongo()#.delete()"
   ]
  },
  {
   "cell_type": "code",
   "execution_count": 14,
   "id": "b86585b7-2e29-48b0-ba5a-24361def92b4",
   "metadata": {},
   "outputs": [
    {
     "name": "stderr",
     "output_type": "stream",
     "text": [
      "2023-11-12 05:16:33 INFO     sleepmate.executor 65441d87316d0ff8334f1893 seeds_entry -> diary_entry\n"
     ]
    },
    {
     "data": {
      "text/markdown": [
       "Hello Christopher, I hope you're feeling chipper at this moment. Is now a good time to record a sleep diary entry for last night?"
      ],
      "text/plain": [
       "<IPython.core.display.Markdown object>"
      ]
     },
     "metadata": {},
     "output_type": "display_data"
    }
   ],
   "source": [
    "x(\"hey\");"
   ]
  },
  {
   "cell_type": "code",
   "execution_count": 15,
   "id": "e178d2c4-f980-4e44-9b6b-6afcd509b76d",
   "metadata": {},
   "outputs": [
    {
     "data": {
      "text/markdown": [
       "Splendid! Let's start with the date for yesterday, which was November 11, 2023. What time did you go to bed yesterday?"
      ],
      "text/plain": [
       "<IPython.core.display.Markdown object>"
      ]
     },
     "metadata": {},
     "output_type": "display_data"
    }
   ],
   "source": [
    "x(\"sure\");"
   ]
  },
  {
   "cell_type": "code",
   "execution_count": 16,
   "id": "64db8745-ea9e-48c8-9c91-f214bb83e249",
   "metadata": {},
   "outputs": [
    {
     "data": {
      "text/markdown": [
       "Thank you for the details. Let's summarize:\n",
       "\n",
       "- Date: November 11, 2023\n",
       "- Time you went to bed: 9:15 PM\n",
       "- Time you tried to fall asleep: 9:15 PM\n",
       "- How long it took you to fall asleep: 0 minutes\n",
       "- Number of awakenings: 0\n",
       "- Total awake time during the night: 0 minutes\n",
       "- Final wake-up time: 4:30 AM\n",
       "- Time you got out of bed: 4:45 AM\n",
       "- Sleep quality: Good\n",
       "- Medications or aids used: None\n",
       "- Other notes: Slept outside in the van, still feeling sick\n",
       "\n",
       "Before I calculate your sleep duration and efficiency, can you confirm if all the above details are correct?"
      ],
      "text/plain": [
       "<IPython.core.display.Markdown object>"
      ]
     },
     "metadata": {},
     "output_type": "display_data"
    }
   ],
   "source": [
    "x(\"\"\"went to bed at 9:15, went to sleep right away\n",
    "\n",
    "didn't wake during the night \n",
    "\n",
    "final wake time was 4:30am got up at 4:45 \n",
    "\n",
    "no meds\n",
    "\n",
    "sleep was good\n",
    "\n",
    "slept outside in the van and still feeling sick\"\"\");"
   ]
  },
  {
   "cell_type": "code",
   "execution_count": 17,
   "id": "2ab62478-079e-47ef-8de0-d8d0bc1615f2",
   "metadata": {},
   "outputs": [
    {
     "name": "stderr",
     "output_type": "stream",
     "text": [
      "2023-11-12 05:18:26 INFO     sleepmate.diary save_sleep_diary_entry entry=SleepDiaryEntry(date=datetime.datetime(2023, 11, 11, 0, 0), in_bed=datetime.datetime(2023, 11, 12, 21, 15), tried_to_fall_asleep=datetime.datetime(2023, 11, 12, 21, 15), time_to_fall_asleep=0, times_awake=0, time_awake=0, final_wake_up=datetime.datetime(2023, 11, 12, 4, 30), out_of_bed=datetime.datetime(2023, 11, 12, 4, 45), sleep_quality='Good', medications='None', notes='Slept outside in the van, still feeling sick')\n"
     ]
    },
    {
     "data": {
      "text/markdown": [
       "The sleep diary entry has been saved successfully. Here's a summary of your sleep for November 11, 2023:\n",
       "\n",
       "- Sleep Duration: 7 hours and 15 minutes\n",
       "- Sleep Efficiency: 100%\n",
       "\n",
       "Remember, a good night's sleep is like a good British comedy—both leave you feeling refreshed and in high spirits! When you're ready to continue on your health journey, just say \"hey\"."
      ],
      "text/plain": [
       "<IPython.core.display.Markdown object>"
      ]
     },
     "metadata": {},
     "output_type": "display_data"
    },
    {
     "name": "stderr",
     "output_type": "stream",
     "text": [
      "2023-11-12 05:18:30 INFO     sleepmate.executor clear_chat_history: diary_entry -> seeds_entry (65441d87316d0ff8334f1893 cleared)\n"
     ]
    }
   ],
   "source": [
    "x(\"yes\");"
   ]
  },
  {
   "cell_type": "markdown",
   "id": "5d72016d-3d92-4566-822a-30fceb556e54",
   "metadata": {},
   "source": [
    "# SEEDS"
   ]
  },
  {
   "cell_type": "code",
   "execution_count": 5,
   "id": "f5942d34-2d29-4dcc-8b2a-31acd03bb988",
   "metadata": {},
   "outputs": [],
   "source": [
    "x.memory.clear()"
   ]
  },
  {
   "cell_type": "code",
   "execution_count": 18,
   "id": "e1c27fb6-f10d-4c72-a55a-5a63d6fe8722",
   "metadata": {},
   "outputs": [
    {
     "name": "stderr",
     "output_type": "stream",
     "text": [
      "2023-11-12 05:19:02 INFO     sleepmate.executor 65441d87316d0ff8334f1893 diary_entry -> seeds_entry\n"
     ]
    },
    {
     "data": {
      "text/markdown": [
       "Hello Christopher! I hope you're feeling chipper today. Is now a good time to record a SEEDS diary entry?"
      ],
      "text/plain": [
       "<IPython.core.display.Markdown object>"
      ]
     },
     "metadata": {},
     "output_type": "display_data"
    }
   ],
   "source": [
    "x(\"hey\");"
   ]
  },
  {
   "cell_type": "code",
   "execution_count": 19,
   "id": "ae2d062c-e9c3-46af-9630-df90bcce91fb",
   "metadata": {},
   "outputs": [
    {
     "data": {
      "text/markdown": [
       "Brilliant, let's get cracking. Here are the predefined SEEDS tasks for you to reflect on:\n",
       "\n",
       "- **Sleep**\n",
       "  - Get outside and walk by 9am\n",
       "  - Get in the sauna at 8pm\n",
       "  - No chocolate after 7pm\n",
       "\n",
       "- **Exercise**\n",
       "  - Do two pistol squats on each leg after dinner\n",
       "  - Walk around the block after lunch\n",
       "  - Do one solo drill for upcoming jujitsu class\n",
       "\n",
       "- **Eating**\n",
       "  - No more than 3/4 bar of chocolate per day\n",
       "\n",
       "- **Drinking**\n",
       "  - Drink three glasses of water per day\n",
       "\n",
       "- **Stress**\n",
       "  - Do the open focus exercise\n",
       "  - Write down three things I’m grateful for\n",
       "  - Send one message to a friend\n",
       "\n",
       "Now, what did you manage to get done yesterday, November 11, 2023?"
      ],
      "text/plain": [
       "<IPython.core.display.Markdown object>"
      ]
     },
     "metadata": {},
     "output_type": "display_data"
    }
   ],
   "source": [
    "x(\"sure\");"
   ]
  },
  {
   "cell_type": "code",
   "execution_count": 20,
   "id": "2b157409-d25d-4da5-ac46-f9a0946ffb9b",
   "metadata": {},
   "outputs": [
    {
     "data": {
      "text/markdown": [
       "Righto, let's take stock of what you did accomplish on November 11, 2023:\n",
       "\n",
       "- **Sleep**\n",
       "  - Got outside and walked by 9am\n",
       "  - Got in the sauna at 8pm\n",
       "  - No chocolate after 7pm\n",
       "\n",
       "- **Exercise**\n",
       "  - Walked around the block after lunch\n",
       "\n",
       "- **Eating**\n",
       "  - No more than 3/4 bar of chocolate per day\n",
       "\n",
       "- **Drinking**\n",
       "  - Drank three glasses of water per day\n",
       "\n",
       "- **Stress**\n",
       "  - Wrote down three things I’m grateful for\n",
       "  - Sent one message to a friend\n",
       "\n",
       "Does that look like a fair summary of your day? If so, I'll go ahead and save this SEEDS diary entry to the database."
      ],
      "text/plain": [
       "<IPython.core.display.Markdown object>"
      ]
     },
     "metadata": {},
     "output_type": "display_data"
    }
   ],
   "source": [
    "x(\"didn't do the pistol squats, drill, open focus exercise\");"
   ]
  },
  {
   "cell_type": "code",
   "execution_count": 21,
   "id": "5217ad6c-6721-4f3b-9859-0863722f1d5c",
   "metadata": {},
   "outputs": [
    {
     "name": "stderr",
     "output_type": "stream",
     "text": [
      "2023-11-12 05:21:30 INFO     sleepmate.seeds save_seeds_diary_entry entry=SeedsDiaryEntry(date=datetime.datetime(2023, 11, 11, 0, 0), sleep_1=1, sleep_2=1, sleep_3=1, exercise_1=0, exercise_2=1, exercise_3=0, eating_1=1, eating_2=0, eating_3=0, drinking_1=1, drinking_2=0, drinking_3=0, stress_1=0, stress_2=1, stress_3=1)\n"
     ]
    },
    {
     "data": {
      "text/markdown": [
       "Your score for the day is 8 out of 15. Not too shabby, Christopher! Every step is a step forward, even if it's just a tiny one. When you're ready to continue on your health journey, just say \"hey\"."
      ],
      "text/plain": [
       "<IPython.core.display.Markdown object>"
      ]
     },
     "metadata": {},
     "output_type": "display_data"
    },
    {
     "name": "stderr",
     "output_type": "stream",
     "text": [
      "2023-11-12 05:21:34 INFO     sleepmate.executor clear_chat_history: seeds_entry -> open_focus (65441d87316d0ff8334f1893 cleared)\n"
     ]
    }
   ],
   "source": [
    "x(\"yep, that's right\");"
   ]
  },
  {
   "cell_type": "code",
   "execution_count": 10,
   "id": "f789c9a1-1bc5-4dae-a980-fc762cb23c74",
   "metadata": {},
   "outputs": [
    {
     "data": {
      "text/plain": [
       "seeds_entry"
      ]
     },
     "execution_count": 10,
     "metadata": {},
     "output_type": "execute_result"
    }
   ],
   "source": [
    "x.get_next_goal()"
   ]
  },
  {
   "cell_type": "code",
   "execution_count": 11,
   "id": "d9e0906d-fd6f-4cef-931e-bd8ff45b861a",
   "metadata": {},
   "outputs": [],
   "source": [
    "from sleepmate.seeds import *"
   ]
  },
  {
   "cell_type": "code",
   "execution_count": 12,
   "id": "48b5e031-5019-4473-8838-9c7c950aeec6",
   "metadata": {},
   "outputs": [],
   "source": [
    "get_current_seeds(x.db_user_id).delete()"
   ]
  },
  {
   "cell_type": "code",
   "execution_count": 13,
   "id": "c953b0e2-1d56-4a0a-9313-260ea6fa9c80",
   "metadata": {},
   "outputs": [
    {
     "data": {
      "text/plain": [
       "SeedsDiaryEntry(date=datetime.datetime(2023, 11, 9, 0, 0), sleep_1=1, sleep_2=0, sleep_3=1, exercise_1=1, exercise_2=1, exercise_3=1, eating_1=1, eating_2=0, eating_3=0, drinking_1=1, drinking_2=0, drinking_3=0, stress_1=0, stress_2=1, stress_3=1)"
      ]
     },
     "execution_count": 13,
     "metadata": {},
     "output_type": "execute_result"
    }
   ],
   "source": [
    "entry = get_seeds_from_memory(x); entry"
   ]
  },
  {
   "cell_type": "code",
   "execution_count": null,
   "id": "414a9ecb-6f32-40c9-8506-72ef48e81010",
   "metadata": {},
   "outputs": [],
   "source": [
    "get_parsed_output(\n",
    "        \"summarise the SEEDS diary entry\", x.get_latest_messages, SeedsDiaryEntry\n",
    "    )"
   ]
  }
 ],
 "metadata": {
  "kernelspec": {
   "display_name": "Python 3 (ipykernel)",
   "language": "python",
   "name": "python3"
  },
  "language_info": {
   "codemirror_mode": {
    "name": "ipython",
    "version": 3
   },
   "file_extension": ".py",
   "mimetype": "text/x-python",
   "name": "python",
   "nbconvert_exporter": "python",
   "pygments_lexer": "ipython3",
   "version": "3.11.5"
  }
 },
 "nbformat": 4,
 "nbformat_minor": 5
}
