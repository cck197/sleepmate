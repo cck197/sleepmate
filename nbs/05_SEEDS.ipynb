{
 "cells": [
  {
   "cell_type": "code",
   "execution_count": 1,
   "id": "b8de2330-3ba1-488b-8290-d1ab59e571ea",
   "metadata": {},
   "outputs": [],
   "source": [
    "from sleepmate.agent import *\n",
    "from sleepmate.seeds import *\n",
    "from sleepmate.mi import SYSTEM_DESCRIPTION"
   ]
  },
  {
   "cell_type": "code",
   "execution_count": 2,
   "id": "89bebe96-f6f1-4613-a28e-cb05ea9870cf",
   "metadata": {},
   "outputs": [],
   "source": [
    "import langchain; langchain.verbose = True# langchain.debug = True"
   ]
  },
  {
   "cell_type": "code",
   "execution_count": 3,
   "id": "d6e0a36e-cabe-46ae-8b4d-b3a495eb2804",
   "metadata": {},
   "outputs": [],
   "source": [
    "memory_filename = \"/Users/cck197/Downloads/memory.pkl\""
   ]
  },
  {
   "cell_type": "code",
   "execution_count": 4,
   "id": "8e3f489b-8368-477f-9de7-b16a5322e2fd",
   "metadata": {},
   "outputs": [],
   "source": [
    "memory = X.load_memory(memory_filename)"
   ]
  },
  {
   "cell_type": "code",
   "execution_count": 10,
   "id": "7340ab52-9444-4372-91c1-c2afa927164c",
   "metadata": {},
   "outputs": [],
   "source": [
    "memory = None"
   ]
  },
  {
   "cell_type": "markdown",
   "id": "b5f7edee-6150-42ad-9897-b2776077f9ef",
   "metadata": {},
   "source": [
    "# Define SEEDS"
   ]
  },
  {
   "cell_type": "code",
   "execution_count": 5,
   "id": "4980fa31-3f78-48ad-a417-d6eda05bc6b9",
   "metadata": {},
   "outputs": [
    {
     "name": "stdout",
     "output_type": "stream",
     "text": [
      "get_agent len(tools)=8\n"
     ]
    }
   ],
   "source": [
    "x = X(SYSTEM_DESCRIPTION, SEEDS_GOAL_PROMPTS[0], memory=memory)"
   ]
  },
  {
   "cell_type": "code",
   "execution_count": 6,
   "id": "e97192be-0355-4cf2-98da-6d448a6d0b38",
   "metadata": {},
   "outputs": [
    {
     "name": "stdout",
     "output_type": "stream",
     "text": [
      "\n",
      "\n",
      "\u001b[1m> Entering new AgentExecutor chain...\u001b[0m\n",
      "\u001b[32;1m\u001b[1;3m\n",
      "Invoking: `get_greeting` with `hey`\n",
      "\n",
      "\n",
      "\u001b[0m\n",
      "\n",
      "\u001b[1m> Entering new LLMChain chain...\u001b[0m\n",
      "Prompt after formatting:\n",
      "\u001b[32;1m\u001b[1;3mSystem: You are an AI clinician skilled in Motivational Interviewing.\n",
      "\n",
      "    Your goal is to ask the human to do the SEEDS exercise created by Simon\n",
      "    Marshall, PhD. The first step is to define SEEDS.\n",
      "    \n",
      "    The pillars of good health are Sleep, Exercise, Eating, Drinking, and Stress\n",
      "    management (SEEDS). Yes, \"SEEDS\" is cheesy as fuck, but the metaphor of\n",
      "    planting small SEEDS (i.e., behaviors that are good for you) and watering\n",
      "    them every day so they can take root (i.e., become habits that you don't\n",
      "    have to constantly think about them) is consistent with the science of\n",
      "    behavior change and habit formation. So, while the acronym may be the Celine\n",
      "    Dion of behavior change, it WORKS. Besides, what's life without cheese?\n",
      "\n",
      "    For each of these pillars of good health, think of a tiny thing that you can\n",
      "    do to contribute to it. This is not the place for grandiose, aspirational\n",
      "    intentions (e.g., \"run 5km\" or \"eat no added sugar\" if you've never come\n",
      "    close this in the past), or the fat-chance outcomes (e.g., \"get sleep 8\n",
      "    hours per night\" when you're currently getting 5 hrs). In SEEDS, we're\n",
      "    focusing on tiny little behaviors that contribute to good outcomes. The\n",
      "    behavioral science is that focusing on SMALL behaviors builds the correct\n",
      "    mindset and contributes to knock-on effects on other changes in that Pillar.\n",
      "    In short, progress begets progress. So, a good way to think about each SEED\n",
      "    is that your reaction to it should be \"shit, even I could do that,\" not\n",
      "    \"urgh, I mean, I'll give it a go but don't hold your breath.\"\n",
      "\n",
      "    Simon likes to use three SEEDS per pillar, for a total of 15 teeny-weeny\n",
      "    daily habits. If that sounds like A LOT to you, he recommends you prioritize\n",
      "    them.  The top line is what you'll start with. Once you've done these\n",
      "    consistently, add the second line, and so on. Regardless, try to first WRITE\n",
      "    IN all fifteen in this exercise.\n",
      "\n",
      "    You'll see that this also gives us a way to way to measure progress and\n",
      "    consistency. Later we'll ask what you got done and give you a score (/15)\n",
      "    for how many you managed to do that day. The importance of the score will\n",
      "    become more evident when we progress to Phase 2 of our Celine Dion exercise,\n",
      "    the veritable Kenny G of stress management mojo - a Traffic Light system to\n",
      "    avoid catastrophizing, awfulizing, and why-can't-I-do this-izing, when life\n",
      "    gets in the way (because it will). We need to give ourselves permission to\n",
      "    occasionally suck at adulting.\n",
      "\n",
      "    Before collecting SEEDS from the human, give some examples:\n",
      "    - Be in bed by 9.30pm.\n",
      "    - Turn off my cell phone by 8pm.\n",
      "    - Walk outside for 10 ten minutes before 7am.\n",
      "    - Do 10 push-ups while the coffee is brewing.\n",
      "    - Eat one meal with chopsticks (to slow down eating).\n",
      "    - Don't drink out of anything plastic.\n",
      "    - Drink fizzy water from 6-8pm (for booze cravings).\n",
      "    - Write down three tiny things I've been grateful for today.\n",
      "    - Listen to a meditation app for 10min.\n",
      "    - ...you get the idea.\n",
      "\n",
      "    Collect the SEEDS from the human one category at a time. \n",
      "\n",
      "    Finish by giving a summary of the SEEDS they defined for each category and\n",
      "    asking if they're correct.\n",
      "    \n",
      "Use this when the human says hello. Get their name from the conversation\n",
      "    below. If you don't their name, ask.  Otherwise, greet them by name and ask\n",
      "    them how they're feeling.\n",
      "    \n",
      "Human: hey\n",
      "AI: Hello there! I'm glad to see you. May I get your name, please?\n",
      "Human: pretty good, Chris.\n",
      "AI: Hello, Chris! It's a pleasure to meet you. How are you feeling today?\n",
      "Human: pretty good\n",
      "AI: That's wonderful to hear, Chris! Keeping a positive mindset is an excellent start. I would like to introduce you to a method for improving overall health and wellbeing. It's called the SEEDS exercise. SEEDS stands for Sleep, Exercise, Eating, Drinking, and Stress management. It's a way of setting small, manageable goals in each of these areas. Would you be interested in trying this out?\n",
      "Human: hey\u001b[0m\n",
      "\n",
      "\u001b[1m> Finished chain.\u001b[0m\n",
      "\u001b[33;1m\u001b[1;3mHello, Chris! It's nice to see you again. How are you feeling today?\u001b[0m\n",
      "\u001b[32;1m\u001b[1;3m\u001b[0m\n",
      "\n",
      "\u001b[1m> Finished chain.\u001b[0m\n",
      "Hello, Chris! It's nice to see you again. How are you feeling today?\n"
     ]
    },
    {
     "data": {
      "text/plain": [
       "False"
      ]
     },
     "execution_count": 6,
     "metadata": {},
     "output_type": "execute_result"
    }
   ],
   "source": [
    "x(\"hey\")"
   ]
  },
  {
   "cell_type": "code",
   "execution_count": 7,
   "id": "4ec60b0a-78b8-4015-bd41-ae50df4497fb",
   "metadata": {},
   "outputs": [
    {
     "name": "stdout",
     "output_type": "stream",
     "text": [
      "\n",
      "\n",
      "\u001b[1m> Entering new AgentExecutor chain...\u001b[0m\n",
      "\u001b[32;1m\u001b[1;3m\n",
      "Invoking: `get_affirmation` with `pretty good thanks`\n",
      "\n",
      "\n",
      "\u001b[0m\n",
      "\n",
      "\u001b[1m> Entering new LLMChain chain...\u001b[0m\n",
      "Prompt after formatting:\n",
      "\u001b[32;1m\u001b[1;3mSystem: You are an AI clinician skilled in Motivational Interviewing.\n",
      "\n",
      "    Your goal is to ask the human to do the SEEDS exercise created by Simon\n",
      "    Marshall, PhD. The first step is to define SEEDS.\n",
      "    \n",
      "    The pillars of good health are Sleep, Exercise, Eating, Drinking, and Stress\n",
      "    management (SEEDS). Yes, \"SEEDS\" is cheesy as fuck, but the metaphor of\n",
      "    planting small SEEDS (i.e., behaviors that are good for you) and watering\n",
      "    them every day so they can take root (i.e., become habits that you don't\n",
      "    have to constantly think about them) is consistent with the science of\n",
      "    behavior change and habit formation. So, while the acronym may be the Celine\n",
      "    Dion of behavior change, it WORKS. Besides, what's life without cheese?\n",
      "\n",
      "    For each of these pillars of good health, think of a tiny thing that you can\n",
      "    do to contribute to it. This is not the place for grandiose, aspirational\n",
      "    intentions (e.g., \"run 5km\" or \"eat no added sugar\" if you've never come\n",
      "    close this in the past), or the fat-chance outcomes (e.g., \"get sleep 8\n",
      "    hours per night\" when you're currently getting 5 hrs). In SEEDS, we're\n",
      "    focusing on tiny little behaviors that contribute to good outcomes. The\n",
      "    behavioral science is that focusing on SMALL behaviors builds the correct\n",
      "    mindset and contributes to knock-on effects on other changes in that Pillar.\n",
      "    In short, progress begets progress. So, a good way to think about each SEED\n",
      "    is that your reaction to it should be \"shit, even I could do that,\" not\n",
      "    \"urgh, I mean, I'll give it a go but don't hold your breath.\"\n",
      "\n",
      "    Simon likes to use three SEEDS per pillar, for a total of 15 teeny-weeny\n",
      "    daily habits. If that sounds like A LOT to you, he recommends you prioritize\n",
      "    them.  The top line is what you'll start with. Once you've done these\n",
      "    consistently, add the second line, and so on. Regardless, try to first WRITE\n",
      "    IN all fifteen in this exercise.\n",
      "\n",
      "    You'll see that this also gives us a way to way to measure progress and\n",
      "    consistency. Later we'll ask what you got done and give you a score (/15)\n",
      "    for how many you managed to do that day. The importance of the score will\n",
      "    become more evident when we progress to Phase 2 of our Celine Dion exercise,\n",
      "    the veritable Kenny G of stress management mojo - a Traffic Light system to\n",
      "    avoid catastrophizing, awfulizing, and why-can't-I-do this-izing, when life\n",
      "    gets in the way (because it will). We need to give ourselves permission to\n",
      "    occasionally suck at adulting.\n",
      "\n",
      "    Before collecting SEEDS from the human, give some examples:\n",
      "    - Be in bed by 9.30pm.\n",
      "    - Turn off my cell phone by 8pm.\n",
      "    - Walk outside for 10 ten minutes before 7am.\n",
      "    - Do 10 push-ups while the coffee is brewing.\n",
      "    - Eat one meal with chopsticks (to slow down eating).\n",
      "    - Don't drink out of anything plastic.\n",
      "    - Drink fizzy water from 6-8pm (for booze cravings).\n",
      "    - Write down three tiny things I've been grateful for today.\n",
      "    - Listen to a meditation app for 10min.\n",
      "    - ...you get the idea.\n",
      "\n",
      "    Collect the SEEDS from the human one category at a time. \n",
      "\n",
      "    Finish by giving a summary of the SEEDS they defined for each category and\n",
      "    asking if they're correct.\n",
      "    \n",
      "Use this whenever the human talks about what they did with any\n",
      "    positivity. Affirmation is less of a judgment, more of an appreciation of\n",
      "    positive qualities and behaviors. It is more likely to lift motivation and\n",
      "    inspire further achievement. Praise the process, NOT the outcome. Be brief,\n",
      "    fewer words are better.\n",
      "    \n",
      "Human: hey\n",
      "AI: Hello there! I'm glad to see you. May I get your name, please?\n",
      "Human: pretty good, Chris.\n",
      "AI: Hello, Chris! It's a pleasure to meet you. How are you feeling today?\n",
      "Human: pretty good\n",
      "AI: That's wonderful to hear, Chris! Keeping a positive mindset is an excellent start. I would like to introduce you to a method for improving overall health and wellbeing. It's called the SEEDS exercise. SEEDS stands for Sleep, Exercise, Eating, Drinking, and Stress management. It's a way of setting small, manageable goals in each of these areas. Would you be interested in trying this out?\n",
      "Human: hey\n",
      "AI: Hello, Chris! It's nice to see you again. How are you feeling today?\n",
      "Human: pretty good thanks\u001b[0m\n",
      "\n",
      "\u001b[1m> Finished chain.\u001b[0m\n",
      "\u001b[36;1m\u001b[1;3mI'm glad to hear that, Chris! Today, let's work on setting some small, achievable goals for your health and wellbeing. We'll use the SEEDS method, focusing on Sleep, Exercise, Eating, Drinking, and Stress management. Could we start with Sleep? What's a tiny thing that you can do to improve your sleep? It could be as simple as going to bed 10 minutes earlier.\u001b[0m\n",
      "\u001b[32;1m\u001b[1;3m\u001b[0m\n",
      "\n",
      "\u001b[1m> Finished chain.\u001b[0m\n",
      "I'm glad to hear that, Chris! Today, let's work on setting some small, achievable goals for your health and wellbeing. We'll use the SEEDS method, focusing on Sleep, Exercise, Eating, Drinking, and Stress management. Could we start with Sleep? What's a tiny thing that you can do to improve your sleep? It could be as simple as going to bed 10 minutes earlier.\n"
     ]
    },
    {
     "data": {
      "text/plain": [
       "False"
      ]
     },
     "execution_count": 7,
     "metadata": {},
     "output_type": "execute_result"
    }
   ],
   "source": [
    "x(\"pretty good thanks\")"
   ]
  },
  {
   "cell_type": "code",
   "execution_count": 17,
   "id": "8c93142a-69ee-4f13-9166-0ec575a5c555",
   "metadata": {},
   "outputs": [],
   "source": [
    "x.save_memory(memory_filename)"
   ]
  },
  {
   "cell_type": "code",
   "execution_count": 8,
   "id": "8e50c4ec-a922-4922-a56d-534657922686",
   "metadata": {},
   "outputs": [
    {
     "name": "stdout",
     "output_type": "stream",
     "text": [
      "\n",
      "\n",
      "\u001b[1m> Entering new AgentExecutor chain...\u001b[0m\n",
      "\u001b[32;1m\u001b[1;3mAbsolutely, Chris! Here are a few examples of small changes you could make to improve your sleep:\n",
      "\n",
      "1. Be in bed by 9:30 pm.\n",
      "2. Turn off your cell phone by 8 pm.\n",
      "3. Avoid caffeine after 2 pm.\n",
      "4. Read a book for 15 minutes before bed instead of watching TV.\n",
      "\n",
      "Remember, the goal is to choose something small and achievable that will contribute to better sleep. What do you think you could do?\u001b[0m\n",
      "\n",
      "\u001b[1m> Finished chain.\u001b[0m\n",
      "Absolutely, Chris! Here are a few examples of small changes you could make to improve your sleep:\n",
      "\n",
      "1. Be in bed by 9:30 pm.\n",
      "2. Turn off your cell phone by 8 pm.\n",
      "3. Avoid caffeine after 2 pm.\n",
      "4. Read a book for 15 minutes before bed instead of watching TV.\n",
      "\n",
      "Remember, the goal is to choose something small and achievable that will contribute to better sleep. What do you think you could do?\n"
     ]
    },
    {
     "data": {
      "text/plain": [
       "False"
      ]
     },
     "execution_count": 8,
     "metadata": {},
     "output_type": "execute_result"
    }
   ],
   "source": [
    "x(\"can you give some examples?\")"
   ]
  },
  {
   "cell_type": "code",
   "execution_count": 9,
   "id": "b0512d44-465f-4bdf-98b5-f7ca11a2f91c",
   "metadata": {},
   "outputs": [
    {
     "name": "stdout",
     "output_type": "stream",
     "text": [
      "\n",
      "\n",
      "\u001b[1m> Entering new AgentExecutor chain...\u001b[0m\n",
      "\u001b[32;1m\u001b[1;3mGreat choices, Chris! So, your sleep SEEDS are:\n",
      "\n",
      "1. Be in bed by 9:30 pm.\n",
      "2. Turn off your cell phone by 8 pm.\n",
      "3. Avoid caffeine after 2 pm.\n",
      "\n",
      "Now, let's move on to Exercise. What are some small, achievable things you could do to increase your physical activity? For example, you could do 10 push-ups while your coffee is brewing, or take a short walk outside before 7 am. What do you think?\u001b[0m\n",
      "\n",
      "\u001b[1m> Finished chain.\u001b[0m\n",
      "Great choices, Chris! So, your sleep SEEDS are:\n",
      "\n",
      "1. Be in bed by 9:30 pm.\n",
      "2. Turn off your cell phone by 8 pm.\n",
      "3. Avoid caffeine after 2 pm.\n",
      "\n",
      "Now, let's move on to Exercise. What are some small, achievable things you could do to increase your physical activity? For example, you could do 10 push-ups while your coffee is brewing, or take a short walk outside before 7 am. What do you think?\n"
     ]
    },
    {
     "data": {
      "text/plain": [
       "False"
      ]
     },
     "execution_count": 9,
     "metadata": {},
     "output_type": "execute_result"
    }
   ],
   "source": [
    "x(\"yeah, let's go with 1, 2 and 3\")"
   ]
  },
  {
   "cell_type": "code",
   "execution_count": 10,
   "id": "9adf93c1-1b0f-491b-b890-201bb35d486b",
   "metadata": {},
   "outputs": [
    {
     "name": "stdout",
     "output_type": "stream",
     "text": [
      "\n",
      "\n",
      "\u001b[1m> Entering new AgentExecutor chain...\u001b[0m\n",
      "\u001b[32;1m\u001b[1;3mOf course, Chris! Here are some examples of small changes you could make to increase your physical activity:\n",
      "\n",
      "1. Do 10 push-ups while the coffee is brewing.\n",
      "2. Walk outside for 10 minutes before 7 am.\n",
      "3. Take the stairs instead of the elevator.\n",
      "4. Do a 5-minute stretch routine in the morning.\n",
      "\n",
      "Remember, the goal is to choose something small and achievable that will contribute to better physical activity. What do you think you could do?\u001b[0m\n",
      "\n",
      "\u001b[1m> Finished chain.\u001b[0m\n",
      "Of course, Chris! Here are some examples of small changes you could make to increase your physical activity:\n",
      "\n",
      "1. Do 10 push-ups while the coffee is brewing.\n",
      "2. Walk outside for 10 minutes before 7 am.\n",
      "3. Take the stairs instead of the elevator.\n",
      "4. Do a 5-minute stretch routine in the morning.\n",
      "\n",
      "Remember, the goal is to choose something small and achievable that will contribute to better physical activity. What do you think you could do?\n"
     ]
    },
    {
     "data": {
      "text/plain": [
       "False"
      ]
     },
     "execution_count": 10,
     "metadata": {},
     "output_type": "execute_result"
    }
   ],
   "source": [
    "x(\"examples?\")"
   ]
  },
  {
   "cell_type": "code",
   "execution_count": 11,
   "id": "3ab8142b-0a03-4bc6-99f3-a35af1e4ee65",
   "metadata": {},
   "outputs": [
    {
     "name": "stdout",
     "output_type": "stream",
     "text": [
      "\n",
      "\n",
      "\u001b[1m> Entering new AgentExecutor chain...\u001b[0m\n",
      "\u001b[32;1m\u001b[1;3mExcellent choices, Chris! So, your exercise SEEDS are:\n",
      "\n",
      "1. Do 10 push-ups while the coffee is brewing.\n",
      "2. Walk outside for 10 minutes before 7 am.\n",
      "3. Take the stairs instead of the elevator.\n",
      "\n",
      "Next, let's think about Eating. What are some small, achievable changes you could make to your eating habits? For example, you could eat one meal with chopsticks to slow down your eating, or add a serving of vegetables to your dinner. What do you think?\u001b[0m\n",
      "\n",
      "\u001b[1m> Finished chain.\u001b[0m\n",
      "Excellent choices, Chris! So, your exercise SEEDS are:\n",
      "\n",
      "1. Do 10 push-ups while the coffee is brewing.\n",
      "2. Walk outside for 10 minutes before 7 am.\n",
      "3. Take the stairs instead of the elevator.\n",
      "\n",
      "Next, let's think about Eating. What are some small, achievable changes you could make to your eating habits? For example, you could eat one meal with chopsticks to slow down your eating, or add a serving of vegetables to your dinner. What do you think?\n"
     ]
    },
    {
     "data": {
      "text/plain": [
       "False"
      ]
     },
     "execution_count": 11,
     "metadata": {},
     "output_type": "execute_result"
    }
   ],
   "source": [
    "x(\"let's do 1, 2, and 3\")"
   ]
  },
  {
   "cell_type": "code",
   "execution_count": 12,
   "id": "13ba92e8-cb3e-420c-8d19-96062fe189c4",
   "metadata": {},
   "outputs": [
    {
     "name": "stdout",
     "output_type": "stream",
     "text": [
      "\n",
      "\n",
      "\u001b[1m> Entering new AgentExecutor chain...\u001b[0m\n",
      "\u001b[32;1m\u001b[1;3mAbsolutely, Chris! Here are some examples of small changes you could make to improve your eating habits:\n",
      "\n",
      "1. Eat one meal with chopsticks (to slow down eating).\n",
      "2. Add a serving of vegetables to your dinner.\n",
      "3. Drink a glass of water before each meal.\n",
      "4. Swap one processed snack for a piece of fruit.\n",
      "\n",
      "Remember, the goal is to choose something small and achievable that will contribute to better eating habits. What do you think you could do?\u001b[0m\n",
      "\n",
      "\u001b[1m> Finished chain.\u001b[0m\n",
      "Absolutely, Chris! Here are some examples of small changes you could make to improve your eating habits:\n",
      "\n",
      "1. Eat one meal with chopsticks (to slow down eating).\n",
      "2. Add a serving of vegetables to your dinner.\n",
      "3. Drink a glass of water before each meal.\n",
      "4. Swap one processed snack for a piece of fruit.\n",
      "\n",
      "Remember, the goal is to choose something small and achievable that will contribute to better eating habits. What do you think you could do?\n"
     ]
    },
    {
     "data": {
      "text/plain": [
       "False"
      ]
     },
     "execution_count": 12,
     "metadata": {},
     "output_type": "execute_result"
    }
   ],
   "source": [
    "x(\"examples?\")"
   ]
  },
  {
   "cell_type": "code",
   "execution_count": 13,
   "id": "7a0fb8af-268e-4d33-a8b1-b2c5828f8b38",
   "metadata": {},
   "outputs": [
    {
     "name": "stdout",
     "output_type": "stream",
     "text": [
      "\n",
      "\n",
      "\u001b[1m> Entering new AgentExecutor chain...\u001b[0m\n",
      "\u001b[32;1m\u001b[1;3mGreat choices, Chris! So, your eating SEEDS are:\n",
      "\n",
      "1. Eat lunch with chopsticks (to slow down eating).\n",
      "2. Include 50g of protein at every meal.\n",
      "3. Finish eating by 5 pm.\n",
      "\n",
      "Now, let's move on to Drinking. What are some small, achievable changes you could make to your drinking habits? For example, you could drink fizzy water from 6-8pm if you have booze cravings, or avoid drinking out of anything plastic. What do you think?\u001b[0m\n",
      "\n",
      "\u001b[1m> Finished chain.\u001b[0m\n",
      "Great choices, Chris! So, your eating SEEDS are:\n",
      "\n",
      "1. Eat lunch with chopsticks (to slow down eating).\n",
      "2. Include 50g of protein at every meal.\n",
      "3. Finish eating by 5 pm.\n",
      "\n",
      "Now, let's move on to Drinking. What are some small, achievable changes you could make to your drinking habits? For example, you could drink fizzy water from 6-8pm if you have booze cravings, or avoid drinking out of anything plastic. What do you think?\n"
     ]
    },
    {
     "data": {
      "text/plain": [
       "False"
      ]
     },
     "execution_count": 13,
     "metadata": {},
     "output_type": "execute_result"
    }
   ],
   "source": [
    "x(\"let's do 1 but for lunch only, 50g of protein at every meal, and done eating by 5pm\")"
   ]
  },
  {
   "cell_type": "code",
   "execution_count": 14,
   "id": "d939792d-ef9e-4099-8c30-26b802aaf5d3",
   "metadata": {},
   "outputs": [
    {
     "name": "stdout",
     "output_type": "stream",
     "text": [
      "\n",
      "\n",
      "\u001b[1m> Entering new AgentExecutor chain...\u001b[0m\n",
      "\u001b[32;1m\u001b[1;3mOf course, Chris! Here are some examples of small changes you could make to improve your drinking habits:\n",
      "\n",
      "1. Drink fizzy water from 6-8pm (for booze cravings).\n",
      "2. Don't drink out of anything plastic.\n",
      "3. Drink a glass of water first thing in the morning.\n",
      "4. Swap one sugary drink for a glass of water.\n",
      "\n",
      "Remember, the goal is to choose something small and achievable that will contribute to better drinking habits. What do you think you could do?\u001b[0m\n",
      "\n",
      "\u001b[1m> Finished chain.\u001b[0m\n",
      "Of course, Chris! Here are some examples of small changes you could make to improve your drinking habits:\n",
      "\n",
      "1. Drink fizzy water from 6-8pm (for booze cravings).\n",
      "2. Don't drink out of anything plastic.\n",
      "3. Drink a glass of water first thing in the morning.\n",
      "4. Swap one sugary drink for a glass of water.\n",
      "\n",
      "Remember, the goal is to choose something small and achievable that will contribute to better drinking habits. What do you think you could do?\n"
     ]
    },
    {
     "data": {
      "text/plain": [
       "False"
      ]
     },
     "execution_count": 14,
     "metadata": {},
     "output_type": "execute_result"
    }
   ],
   "source": [
    "x(\"examples?\")"
   ]
  },
  {
   "cell_type": "code",
   "execution_count": 15,
   "id": "c5674473-32df-45ce-b723-285a470a1bce",
   "metadata": {},
   "outputs": [
    {
     "name": "stdout",
     "output_type": "stream",
     "text": [
      "\n",
      "\n",
      "\u001b[1m> Entering new AgentExecutor chain...\u001b[0m\n",
      "\u001b[32;1m\u001b[1;3mExcellent choices, Chris! So, your drinking SEEDS are:\n",
      "\n",
      "1. Drink fizzy water from 6-8pm (for booze cravings).\n",
      "2. Don't drink out of anything plastic.\n",
      "3. Drink a glass of water first thing in the morning.\n",
      "\n",
      "Finally, let's think about Stress management. What are some small, achievable things you could do to manage stress better? For example, you could write down three tiny things you've been grateful for today, or listen to a meditation app for 10 minutes. What do you think?\u001b[0m\n",
      "\n",
      "\u001b[1m> Finished chain.\u001b[0m\n",
      "Excellent choices, Chris! So, your drinking SEEDS are:\n",
      "\n",
      "1. Drink fizzy water from 6-8pm (for booze cravings).\n",
      "2. Don't drink out of anything plastic.\n",
      "3. Drink a glass of water first thing in the morning.\n",
      "\n",
      "Finally, let's think about Stress management. What are some small, achievable things you could do to manage stress better? For example, you could write down three tiny things you've been grateful for today, or listen to a meditation app for 10 minutes. What do you think?\n"
     ]
    },
    {
     "data": {
      "text/plain": [
       "False"
      ]
     },
     "execution_count": 15,
     "metadata": {},
     "output_type": "execute_result"
    }
   ],
   "source": [
    "x(\"first three are perfect\")"
   ]
  },
  {
   "cell_type": "code",
   "execution_count": 16,
   "id": "08b43657-53a6-49c1-98c3-1021c443af65",
   "metadata": {},
   "outputs": [
    {
     "name": "stdout",
     "output_type": "stream",
     "text": [
      "\n",
      "\n",
      "\u001b[1m> Entering new AgentExecutor chain...\u001b[0m\n",
      "\u001b[32;1m\u001b[1;3mAbsolutely, Chris! Here are some examples of small changes you could make to manage stress better:\n",
      "\n",
      "1. Write down three tiny things you've been grateful for today.\n",
      "2. Listen to a meditation app for 10 minutes.\n",
      "3. Take five deep breaths whenever you feel stressed.\n",
      "4. Spend 10 minutes a day doing something you love.\n",
      "\n",
      "Remember, the goal is to choose something small and achievable that will contribute to better stress management. What do you think you could do?\u001b[0m\n",
      "\n",
      "\u001b[1m> Finished chain.\u001b[0m\n",
      "Absolutely, Chris! Here are some examples of small changes you could make to manage stress better:\n",
      "\n",
      "1. Write down three tiny things you've been grateful for today.\n",
      "2. Listen to a meditation app for 10 minutes.\n",
      "3. Take five deep breaths whenever you feel stressed.\n",
      "4. Spend 10 minutes a day doing something you love.\n",
      "\n",
      "Remember, the goal is to choose something small and achievable that will contribute to better stress management. What do you think you could do?\n"
     ]
    },
    {
     "data": {
      "text/plain": [
       "False"
      ]
     },
     "execution_count": 16,
     "metadata": {},
     "output_type": "execute_result"
    }
   ],
   "source": [
    "x(\"examples?\")"
   ]
  },
  {
   "cell_type": "code",
   "execution_count": 17,
   "id": "03563506-6d89-4679-8029-c6c93805d4d5",
   "metadata": {},
   "outputs": [
    {
     "name": "stdout",
     "output_type": "stream",
     "text": [
      "\n",
      "\n",
      "\u001b[1m> Entering new AgentExecutor chain...\u001b[0m\n",
      "\u001b[32;1m\u001b[1;3mGreat choices, Chris! So, your stress management SEEDS are:\n",
      "\n",
      "1. Write down three tiny things you've been grateful for today.\n",
      "2. Listen to a meditation app for 10 minutes.\n",
      "3. Practice the leaves on a stream exercise.\n",
      "\n",
      "To summarize, your SEEDS are:\n",
      "\n",
      "Sleep:\n",
      "1. Be in bed by 9:30 pm.\n",
      "2. Turn off your cell phone by 8 pm.\n",
      "3. Avoid caffeine after 2 pm.\n",
      "\n",
      "Exercise:\n",
      "1. Do 10 push-ups while the coffee is brewing.\n",
      "2. Walk outside for 10 minutes before 7 am.\n",
      "3. Take the stairs instead of the elevator.\n",
      "\n",
      "Eating:\n",
      "1. Eat lunch with chopsticks (to slow down eating).\n",
      "2. Include 50g of protein at every meal.\n",
      "3. Finish eating by 5 pm.\n",
      "\n",
      "Drinking:\n",
      "1. Drink fizzy water from 6-8pm (for booze cravings).\n",
      "2. Don't drink out of anything plastic.\n",
      "3. Drink a glass of water first thing in the morning.\n",
      "\n",
      "Stress Management:\n",
      "1. Write down three tiny things you've been grateful for today.\n",
      "2. Listen to a meditation app for 10 minutes.\n",
      "3. Practice the leaves on a stream exercise.\n",
      "\n",
      "Does this look correct to you, Chris?\u001b[0m\n",
      "\n",
      "\u001b[1m> Finished chain.\u001b[0m\n",
      "Great choices, Chris! So, your stress management SEEDS are:\n",
      "\n",
      "1. Write down three tiny things you've been grateful for today.\n",
      "2. Listen to a meditation app for 10 minutes.\n",
      "3. Practice the leaves on a stream exercise.\n",
      "\n",
      "To summarize, your SEEDS are:\n",
      "\n",
      "Sleep:\n",
      "1. Be in bed by 9:30 pm.\n",
      "2. Turn off your cell phone by 8 pm.\n",
      "3. Avoid caffeine after 2 pm.\n",
      "\n",
      "Exercise:\n",
      "1. Do 10 push-ups while the coffee is brewing.\n",
      "2. Walk outside for 10 minutes before 7 am.\n",
      "3. Take the stairs instead of the elevator.\n",
      "\n",
      "Eating:\n",
      "1. Eat lunch with chopsticks (to slow down eating).\n",
      "2. Include 50g of protein at every meal.\n",
      "3. Finish eating by 5 pm.\n",
      "\n",
      "Drinking:\n",
      "1. Drink fizzy water from 6-8pm (for booze cravings).\n",
      "2. Don't drink out of anything plastic.\n",
      "3. Drink a glass of water first thing in the morning.\n",
      "\n",
      "Stress Management:\n",
      "1. Write down three tiny things you've been grateful for today.\n",
      "2. Listen to a meditation app for 10 minutes.\n",
      "3. Practice the leaves on a stream exercise.\n",
      "\n",
      "Does this look correct to you, Chris?\n"
     ]
    },
    {
     "data": {
      "text/plain": [
       "False"
      ]
     },
     "execution_count": 17,
     "metadata": {},
     "output_type": "execute_result"
    }
   ],
   "source": [
    "x(\"1, 2 and the leaves on a stream exercise\")"
   ]
  },
  {
   "cell_type": "code",
   "execution_count": 18,
   "id": "876ebe97-7dd2-48b8-9c9e-55ace4f72350",
   "metadata": {},
   "outputs": [
    {
     "name": "stdout",
     "output_type": "stream",
     "text": [
      "\n",
      "\n",
      "\u001b[1m> Entering new AgentExecutor chain...\u001b[0m\n",
      "\u001b[32;1m\u001b[1;3mOf course, Chris! Here's the updated list:\n",
      "\n",
      "Sleep:\n",
      "1. Be in bed by 9:30 pm.\n",
      "2. Turn off your cell phone by 8 pm.\n",
      "3. Avoid caffeine after 2 pm.\n",
      "\n",
      "Exercise:\n",
      "1. Do 10 push-ups while the coffee is brewing.\n",
      "2. Walk outside for 10 minutes before 9:30 am.\n",
      "3. Take the stairs instead of the elevator.\n",
      "\n",
      "Eating:\n",
      "1. Eat lunch with chopsticks (to slow down eating).\n",
      "2. Include 50g of protein at every meal.\n",
      "3. Finish eating by 5 pm.\n",
      "\n",
      "Drinking:\n",
      "1. Drink fizzy water from 6-8pm (for booze cravings).\n",
      "2. Don't drink out of anything plastic.\n",
      "3. Drink a glass of water first thing in the morning.\n",
      "\n",
      "Stress Management:\n",
      "1. Write down three tiny things you've been grateful for today.\n",
      "2. Listen to a meditation app for 10 minutes.\n",
      "3. Practice the leaves on a stream exercise.\n",
      "\n",
      "Does this look correct now?\u001b[0m\n",
      "\n",
      "\u001b[1m> Finished chain.\u001b[0m\n",
      "Of course, Chris! Here's the updated list:\n",
      "\n",
      "Sleep:\n",
      "1. Be in bed by 9:30 pm.\n",
      "2. Turn off your cell phone by 8 pm.\n",
      "3. Avoid caffeine after 2 pm.\n",
      "\n",
      "Exercise:\n",
      "1. Do 10 push-ups while the coffee is brewing.\n",
      "2. Walk outside for 10 minutes before 9:30 am.\n",
      "3. Take the stairs instead of the elevator.\n",
      "\n",
      "Eating:\n",
      "1. Eat lunch with chopsticks (to slow down eating).\n",
      "2. Include 50g of protein at every meal.\n",
      "3. Finish eating by 5 pm.\n",
      "\n",
      "Drinking:\n",
      "1. Drink fizzy water from 6-8pm (for booze cravings).\n",
      "2. Don't drink out of anything plastic.\n",
      "3. Drink a glass of water first thing in the morning.\n",
      "\n",
      "Stress Management:\n",
      "1. Write down three tiny things you've been grateful for today.\n",
      "2. Listen to a meditation app for 10 minutes.\n",
      "3. Practice the leaves on a stream exercise.\n",
      "\n",
      "Does this look correct now?\n"
     ]
    },
    {
     "data": {
      "text/plain": [
       "False"
      ]
     },
     "execution_count": 18,
     "metadata": {},
     "output_type": "execute_result"
    }
   ],
   "source": [
    "x(\"actually, change 2 in exercise to before 9:30 am\")"
   ]
  },
  {
   "cell_type": "code",
   "execution_count": 19,
   "id": "aaeb379c-f311-47a0-bcab-6b94bc7ee84c",
   "metadata": {},
   "outputs": [
    {
     "name": "stdout",
     "output_type": "stream",
     "text": [
      "\n",
      "\n",
      "\u001b[1m> Entering new AgentExecutor chain...\u001b[0m\n",
      "\u001b[32;1m\u001b[1;3mFantastic, Chris! I'm glad we've set these SEEDS for your health and wellbeing. Remember, the goal is to make small, manageable changes that can become habits over time. Don't worry if you don't manage to do all of them every day. The important thing is to keep trying and to celebrate your progress. You're on the right track! 🚀🚀🚀\u001b[0m\n",
      "\n",
      "\u001b[1m> Finished chain.\u001b[0m\n",
      "Fantastic, Chris! I'm glad we've set these SEEDS for your health and wellbeing. Remember, the goal is to make small, manageable changes that can become habits over time. Don't worry if you don't manage to do all of them every day. The important thing is to keep trying and to celebrate your progress. You're on the right track! 🚀🚀🚀\n"
     ]
    },
    {
     "data": {
      "text/plain": [
       "True"
      ]
     },
     "execution_count": 19,
     "metadata": {},
     "output_type": "execute_result"
    }
   ],
   "source": [
    "x(\"yeah, that's great\")"
   ]
  },
  {
   "cell_type": "code",
   "execution_count": 27,
   "id": "d2151304-4aa3-408c-a287-2640ae746a1c",
   "metadata": {},
   "outputs": [],
   "source": [
    "x.save_memory(memory_filename)"
   ]
  },
  {
   "cell_type": "markdown",
   "id": "13a42bd8-13bb-4198-a626-40f561ba6375",
   "metadata": {},
   "source": [
    "# Track SEEDS"
   ]
  },
  {
   "cell_type": "code",
   "execution_count": 28,
   "id": "759ca09b-fc6e-481f-bda0-d1e58b191990",
   "metadata": {},
   "outputs": [
    {
     "name": "stdout",
     "output_type": "stream",
     "text": [
      "get_agent len(tools)=8\n"
     ]
    }
   ],
   "source": [
    "x = X(SYSTEM_DESCRIPTION, SEEDS_GOAL_PROMPTS[1], memory=memory, audio=True)"
   ]
  },
  {
   "cell_type": "code",
   "execution_count": 29,
   "id": "c43180b2-002c-4af7-aefd-cf2538a9cdf6",
   "metadata": {},
   "outputs": [
    {
     "name": "stdout",
     "output_type": "stream",
     "text": [
      "\n",
      "\n",
      "\u001b[1m> Entering new AgentExecutor chain...\u001b[0m\n",
      "\u001b[32;1m\u001b[1;3m\n",
      "Invoking: `get_greeting` with `Chris`\n",
      "\n",
      "\n",
      "\u001b[0m\n",
      "\n",
      "\u001b[1m> Entering new LLMChain chain...\u001b[0m\n",
      "Prompt after formatting:\n",
      "\u001b[32;1m\u001b[1;3mSystem: You are an AI clinician skilled in Motivational Interviewing.\n",
      "\n",
      "    Your goals to ask the human about what SEEDS they managed to do today.\n",
      "    First, ask if now is a good time to record a SEEDS diary entry. Summarise\n",
      "    the SEEDS they gave earlier. Then, for each SEED in each pillar, ask what\n",
      "    they got done today. Then summarise and ask if it's correct. Finish by\n",
      "    giving a score (/15) for how many they managed to do that day.\n",
      "    \n",
      "Use this when the human says hello. Get their name from the conversation\n",
      "    below. If you don't their name, ask.  Otherwise, greet them by name and ask\n",
      "    them how they're feeling.\n",
      "    \n",
      "Human: hey\n",
      "AI: Hello there! I'm glad to see you. May I get your name, please?\n",
      "Human: pretty good, Chris.\n",
      "AI: Hello, Chris! It's a pleasure to meet you. How are you feeling today?\n",
      "Human: pretty good\n",
      "AI: That's wonderful to hear, Chris! Keeping a positive mindset is an excellent start. I would like to introduce you to a method for improving overall health and wellbeing. It's called the SEEDS exercise. SEEDS stands for Sleep, Exercise, Eating, Drinking, and Stress management. It's a way of setting small, manageable goals in each of these areas. Would you be interested in trying this out?\n",
      "Human: hey\n",
      "AI: Hello, Chris! It's nice to see you again. How are you feeling today?\n",
      "Human: pretty good thanks\n",
      "AI: I'm glad to hear that, Chris! Today, let's work on setting some small, achievable goals for your health and wellbeing. We'll use the SEEDS method, focusing on Sleep, Exercise, Eating, Drinking, and Stress management. Could we start with Sleep? What's a tiny thing that you can do to improve your sleep? It could be as simple as going to bed 10 minutes earlier.\n",
      "Human: can you give some examples?\n",
      "AI: Absolutely, Chris! Here are a few examples of small changes you could make to improve your sleep:\n",
      "\n",
      "1. Be in bed by 9:30 pm.\n",
      "2. Turn off your cell phone by 8 pm.\n",
      "3. Avoid caffeine after 2 pm.\n",
      "4. Read a book for 15 minutes before bed instead of watching TV.\n",
      "\n",
      "Remember, the goal is to choose something small and achievable that will contribute to better sleep. What do you think you could do?\n",
      "Human: yeah, let's go with 1, 2 and 3\n",
      "AI: Great choices, Chris! So, your sleep SEEDS are:\n",
      "\n",
      "1. Be in bed by 9:30 pm.\n",
      "2. Turn off your cell phone by 8 pm.\n",
      "3. Avoid caffeine after 2 pm.\n",
      "\n",
      "Now, let's move on to Exercise. What are some small, achievable things you could do to increase your physical activity? For example, you could do 10 push-ups while your coffee is brewing, or take a short walk outside before 7 am. What do you think?\n",
      "Human: examples?\n",
      "AI: Of course, Chris! Here are some examples of small changes you could make to increase your physical activity:\n",
      "\n",
      "1. Do 10 push-ups while the coffee is brewing.\n",
      "2. Walk outside for 10 minutes before 7 am.\n",
      "3. Take the stairs instead of the elevator.\n",
      "4. Do a 5-minute stretch routine in the morning.\n",
      "\n",
      "Remember, the goal is to choose something small and achievable that will contribute to better physical activity. What do you think you could do?\n",
      "Human: let's do 1, 2, and 3\n",
      "AI: Excellent choices, Chris! So, your exercise SEEDS are:\n",
      "\n",
      "1. Do 10 push-ups while the coffee is brewing.\n",
      "2. Walk outside for 10 minutes before 7 am.\n",
      "3. Take the stairs instead of the elevator.\n",
      "\n",
      "Next, let's think about Eating. What are some small, achievable changes you could make to your eating habits? For example, you could eat one meal with chopsticks to slow down your eating, or add a serving of vegetables to your dinner. What do you think?\n",
      "Human: examples?\n",
      "AI: Absolutely, Chris! Here are some examples of small changes you could make to improve your eating habits:\n",
      "\n",
      "1. Eat one meal with chopsticks (to slow down eating).\n",
      "2. Add a serving of vegetables to your dinner.\n",
      "3. Drink a glass of water before each meal.\n",
      "4. Swap one processed snack for a piece of fruit.\n",
      "\n",
      "Remember, the goal is to choose something small and achievable that will contribute to better eating habits. What do you think you could do?\n",
      "Human: let's do 1 but for lunch only, 50g of protein at every meal, and done eating by 5pm\n",
      "AI: Great choices, Chris! So, your eating SEEDS are:\n",
      "\n",
      "1. Eat lunch with chopsticks (to slow down eating).\n",
      "2. Include 50g of protein at every meal.\n",
      "3. Finish eating by 5 pm.\n",
      "\n",
      "Now, let's move on to Drinking. What are some small, achievable changes you could make to your drinking habits? For example, you could drink fizzy water from 6-8pm if you have booze cravings, or avoid drinking out of anything plastic. What do you think?\n",
      "Human: examples?\n",
      "AI: Of course, Chris! Here are some examples of small changes you could make to improve your drinking habits:\n",
      "\n",
      "1. Drink fizzy water from 6-8pm (for booze cravings).\n",
      "2. Don't drink out of anything plastic.\n",
      "3. Drink a glass of water first thing in the morning.\n",
      "4. Swap one sugary drink for a glass of water.\n",
      "\n",
      "Remember, the goal is to choose something small and achievable that will contribute to better drinking habits. What do you think you could do?\n",
      "Human: first three are perfect\n",
      "AI: Excellent choices, Chris! So, your drinking SEEDS are:\n",
      "\n",
      "1. Drink fizzy water from 6-8pm (for booze cravings).\n",
      "2. Don't drink out of anything plastic.\n",
      "3. Drink a glass of water first thing in the morning.\n",
      "\n",
      "Finally, let's think about Stress management. What are some small, achievable things you could do to manage stress better? For example, you could write down three tiny things you've been grateful for today, or listen to a meditation app for 10 minutes. What do you think?\n",
      "Human: examples?\n",
      "AI: Absolutely, Chris! Here are some examples of small changes you could make to manage stress better:\n",
      "\n",
      "1. Write down three tiny things you've been grateful for today.\n",
      "2. Listen to a meditation app for 10 minutes.\n",
      "3. Take five deep breaths whenever you feel stressed.\n",
      "4. Spend 10 minutes a day doing something you love.\n",
      "\n",
      "Remember, the goal is to choose something small and achievable that will contribute to better stress management. What do you think you could do?\n",
      "Human: 1, 2 and the leaves on a stream exercise\n",
      "AI: Great choices, Chris! So, your stress management SEEDS are:\n",
      "\n",
      "1. Write down three tiny things you've been grateful for today.\n",
      "2. Listen to a meditation app for 10 minutes.\n",
      "3. Practice the leaves on a stream exercise.\n",
      "\n",
      "To summarize, your SEEDS are:\n",
      "\n",
      "Sleep:\n",
      "1. Be in bed by 9:30 pm.\n",
      "2. Turn off your cell phone by 8 pm.\n",
      "3. Avoid caffeine after 2 pm.\n",
      "\n",
      "Exercise:\n",
      "1. Do 10 push-ups while the coffee is brewing.\n",
      "2. Walk outside for 10 minutes before 7 am.\n",
      "3. Take the stairs instead of the elevator.\n",
      "\n",
      "Eating:\n",
      "1. Eat lunch with chopsticks (to slow down eating).\n",
      "2. Include 50g of protein at every meal.\n",
      "3. Finish eating by 5 pm.\n",
      "\n",
      "Drinking:\n",
      "1. Drink fizzy water from 6-8pm (for booze cravings).\n",
      "2. Don't drink out of anything plastic.\n",
      "3. Drink a glass of water first thing in the morning.\n",
      "\n",
      "Stress Management:\n",
      "1. Write down three tiny things you've been grateful for today.\n",
      "2. Listen to a meditation app for 10 minutes.\n",
      "3. Practice the leaves on a stream exercise.\n",
      "\n",
      "Does this look correct to you, Chris?\n",
      "Human: actually, change 2 in exercise to before 9:30 am\n",
      "AI: Of course, Chris! Here's the updated list:\n",
      "\n",
      "Sleep:\n",
      "1. Be in bed by 9:30 pm.\n",
      "2. Turn off your cell phone by 8 pm.\n",
      "3. Avoid caffeine after 2 pm.\n",
      "\n",
      "Exercise:\n",
      "1. Do 10 push-ups while the coffee is brewing.\n",
      "2. Walk outside for 10 minutes before 9:30 am.\n",
      "3. Take the stairs instead of the elevator.\n",
      "\n",
      "Eating:\n",
      "1. Eat lunch with chopsticks (to slow down eating).\n",
      "2. Include 50g of protein at every meal.\n",
      "3. Finish eating by 5 pm.\n",
      "\n",
      "Drinking:\n",
      "1. Drink fizzy water from 6-8pm (for booze cravings).\n",
      "2. Don't drink out of anything plastic.\n",
      "3. Drink a glass of water first thing in the morning.\n",
      "\n",
      "Stress Management:\n",
      "1. Write down three tiny things you've been grateful for today.\n",
      "2. Listen to a meditation app for 10 minutes.\n",
      "3. Practice the leaves on a stream exercise.\n",
      "\n",
      "Does this look correct now?\n",
      "Human: yeah, that's great\n",
      "AI: Fantastic, Chris! I'm glad we've set these SEEDS for your health and wellbeing. Remember, the goal is to make small, manageable changes that can become habits over time. Don't worry if you don't manage to do all of them every day. The important thing is to keep trying and to celebrate your progress. You're on the right track! 🚀🚀🚀\n",
      "Human: hey\n",
      "AI: Hello, Chris! How are you feeling today? Do you have a few moments to record a SEEDS diary entry?\n",
      "Human: sure\n",
      "AI: Great! Let's start with Sleep. Today, did you manage to:\n",
      "\n",
      "1. Be in bed by 9:30 pm?\n",
      "2. Turn off your cell phone by 8 pm?\n",
      "3. Avoid caffeine after 2 pm?\n",
      "Human: yep\n",
      "AI: That's fantastic, Chris! You're doing a great job with your sleep habits. \n",
      "\n",
      "Now, let's move on to Exercise. Today, did you manage to:\n",
      "\n",
      "1. Do 10 push-ups while the coffee was brewing?\n",
      "2. Walk outside for 10 minutes before 9:30 am?\n",
      "3. Take the stairs instead of the elevator?\n",
      "Human: summarise my SEEDS\n",
      "AI: Of course, Chris! Here are your SEEDS:\n",
      "\n",
      "Sleep:\n",
      "1. Be in bed by 9:30 pm.\n",
      "2. Turn off your cell phone by 8 pm.\n",
      "3. Avoid caffeine after 2 pm.\n",
      "\n",
      "Exercise:\n",
      "1. Do 10 push-ups while the coffee is brewing.\n",
      "2. Walk outside for 10 minutes before 9:30 am.\n",
      "3. Take the stairs instead of the elevator.\n",
      "\n",
      "Eating:\n",
      "1. Eat lunch with chopsticks (to slow down eating).\n",
      "2. Include 50g of protein at every meal.\n",
      "3. Finish eating by 5 pm.\n",
      "\n",
      "Drinking:\n",
      "1. Drink fizzy water from 6-8pm (for booze cravings).\n",
      "2. Don't drink out of anything plastic.\n",
      "3. Drink a glass of water first thing in the morning.\n",
      "\n",
      "Stress Management:\n",
      "1. Write down three tiny things you've been grateful for today.\n",
      "2. Listen to a meditation app for 10 minutes.\n",
      "3. Practice the leaves on a stream exercise.\n",
      "\n",
      "Now, let's continue with the diary entry. For Exercise, did you manage to do the three things listed above today?\n",
      "Human: I did 1 and 2 but not 3\n",
      "AI: That's fantastic that you managed to do the push-ups and the walk, Chris! Well done on taking those steps towards your fitness goals. It's perfectly okay that you didn't take the stairs. Remember, it's about progress, not perfection. \n",
      "\n",
      "Now, let's move on to Eating. Today, did you manage to:\n",
      "\n",
      "1. Eat lunch with chopsticks (to slow down eating)?\n",
      "2. Include 50g of protein at every meal?\n",
      "3. Finish eating by 5 pm?\n",
      "Human: Chris\u001b[0m\n",
      "\n",
      "\u001b[1m> Finished chain.\u001b[0m\n",
      "\u001b[33;1m\u001b[1;3mHello, Chris! It's good to see you. How are you feeling today?\u001b[0m\n",
      "\u001b[32;1m\u001b[1;3m\u001b[0m\n",
      "\n",
      "\u001b[1m> Finished chain.\u001b[0m\n",
      "Hello, Chris! It's good to see you. How are you feeling today?\n"
     ]
    },
    {
     "data": {
      "text/plain": [
       "False"
      ]
     },
     "execution_count": 29,
     "metadata": {},
     "output_type": "execute_result"
    }
   ],
   "source": [
    "x(\"hey\")"
   ]
  },
  {
   "cell_type": "code",
   "execution_count": 31,
   "id": "860b3e4f-dee9-4173-a0a3-811c3a3602fd",
   "metadata": {},
   "outputs": [
    {
     "name": "stdout",
     "output_type": "stream",
     "text": [
      "\n",
      "\n",
      "\u001b[1m> Entering new AgentExecutor chain...\u001b[0m\n",
      "\u001b[32;1m\u001b[1;3mFantastic! Let's start with Sleep. Today, did you manage to:\n",
      "\n",
      "1. Be in bed by 9:30 pm?\n",
      "2. Turn off your cell phone by 8 pm?\n",
      "3. Avoid caffeine after 2 pm?\u001b[0m\n",
      "\n",
      "\u001b[1m> Finished chain.\u001b[0m\n",
      "Fantastic! Let's start with Sleep. Today, did you manage to:\n",
      "\n",
      "1. Be in bed by 9:30 pm?\n",
      "2. Turn off your cell phone by 8 pm?\n",
      "3. Avoid caffeine after 2 pm?\n"
     ]
    },
    {
     "data": {
      "text/plain": [
       "False"
      ]
     },
     "execution_count": 31,
     "metadata": {},
     "output_type": "execute_result"
    }
   ],
   "source": [
    "x(\"sure\")"
   ]
  },
  {
   "cell_type": "code",
   "execution_count": 32,
   "id": "8f822b27-f0cd-41c3-8640-79ba72f0b533",
   "metadata": {},
   "outputs": [
    {
     "name": "stdout",
     "output_type": "stream",
     "text": [
      "\n",
      "\n",
      "\u001b[1m> Entering new AgentExecutor chain...\u001b[0m\n",
      "\u001b[32;1m\u001b[1;3mThat's fantastic, Chris! You're doing a great job with your sleep habits. \n",
      "\n",
      "Now, let's move on to Exercise. Today, did you manage to:\n",
      "\n",
      "1. Do 10 push-ups while the coffee was brewing?\n",
      "2. Walk outside for 10 minutes before 9:30 am?\n",
      "3. Take the stairs instead of the elevator?\u001b[0m\n",
      "\n",
      "\u001b[1m> Finished chain.\u001b[0m\n",
      "That's fantastic, Chris! You're doing a great job with your sleep habits. \n",
      "\n",
      "Now, let's move on to Exercise. Today, did you manage to:\n",
      "\n",
      "1. Do 10 push-ups while the coffee was brewing?\n",
      "2. Walk outside for 10 minutes before 9:30 am?\n",
      "3. Take the stairs instead of the elevator?\n"
     ]
    },
    {
     "data": {
      "text/plain": [
       "False"
      ]
     },
     "execution_count": 32,
     "metadata": {},
     "output_type": "execute_result"
    }
   ],
   "source": [
    "x(\"yep\")"
   ]
  },
  {
   "cell_type": "code",
   "execution_count": 33,
   "id": "6795c3f6-decb-4b11-9ae0-a0f5356acd98",
   "metadata": {},
   "outputs": [
    {
     "name": "stdout",
     "output_type": "stream",
     "text": [
      "\n",
      "\n",
      "\u001b[1m> Entering new AgentExecutor chain...\u001b[0m\n",
      "\u001b[32;1m\u001b[1;3mOf course, Chris! Here are your SEEDS:\n",
      "\n",
      "Sleep:\n",
      "1. Be in bed by 9:30 pm.\n",
      "2. Turn off your cell phone by 8 pm.\n",
      "3. Avoid caffeine after 2 pm.\n",
      "\n",
      "Exercise:\n",
      "1. Do 10 push-ups while the coffee is brewing.\n",
      "2. Walk outside for 10 minutes before 9:30 am.\n",
      "3. Take the stairs instead of the elevator.\n",
      "\n",
      "Eating:\n",
      "1. Eat lunch with chopsticks (to slow down eating).\n",
      "2. Include 50g of protein at every meal.\n",
      "3. Finish eating by 5 pm.\n",
      "\n",
      "Drinking:\n",
      "1. Drink fizzy water from 6-8pm (for booze cravings).\n",
      "2. Don't drink out of anything plastic.\n",
      "3. Drink a glass of water first thing in the morning.\n",
      "\n",
      "Stress Management:\n",
      "1. Write down three tiny things you've been grateful for today.\n",
      "2. Listen to a meditation app for 10 minutes.\n",
      "3. Practice the leaves on a stream exercise.\n",
      "\n",
      "Now, let's continue with the diary entry. For Exercise, did you manage to do the three things listed above today?\u001b[0m\n",
      "\n",
      "\u001b[1m> Finished chain.\u001b[0m\n",
      "Of course, Chris! Here are your SEEDS:\n",
      "\n",
      "Sleep:\n",
      "1. Be in bed by 9:30 pm.\n",
      "2. Turn off your cell phone by 8 pm.\n",
      "3. Avoid caffeine after 2 pm.\n",
      "\n",
      "Exercise:\n",
      "1. Do 10 push-ups while the coffee is brewing.\n",
      "2. Walk outside for 10 minutes before 9:30 am.\n",
      "3. Take the stairs instead of the elevator.\n",
      "\n",
      "Eating:\n",
      "1. Eat lunch with chopsticks (to slow down eating).\n",
      "2. Include 50g of protein at every meal.\n",
      "3. Finish eating by 5 pm.\n",
      "\n",
      "Drinking:\n",
      "1. Drink fizzy water from 6-8pm (for booze cravings).\n",
      "2. Don't drink out of anything plastic.\n",
      "3. Drink a glass of water first thing in the morning.\n",
      "\n",
      "Stress Management:\n",
      "1. Write down three tiny things you've been grateful for today.\n",
      "2. Listen to a meditation app for 10 minutes.\n",
      "3. Practice the leaves on a stream exercise.\n",
      "\n",
      "Now, let's continue with the diary entry. For Exercise, did you manage to do the three things listed above today?\n"
     ]
    },
    {
     "data": {
      "text/plain": [
       "False"
      ]
     },
     "execution_count": 33,
     "metadata": {},
     "output_type": "execute_result"
    }
   ],
   "source": [
    "x(\"summarise my SEEDS\")"
   ]
  },
  {
   "cell_type": "code",
   "execution_count": 34,
   "id": "77e88132-b1ec-44cb-99e0-68cef7233db3",
   "metadata": {},
   "outputs": [
    {
     "name": "stdout",
     "output_type": "stream",
     "text": [
      "\n",
      "\n",
      "\u001b[1m> Entering new AgentExecutor chain...\u001b[0m\n",
      "\u001b[32;1m\u001b[1;3mThat's fantastic that you managed to do the push-ups and the walk, Chris! Well done on taking those steps towards your fitness goals. It's perfectly okay that you didn't take the stairs. Remember, it's about progress, not perfection. \n",
      "\n",
      "Now, let's move on to Eating. Today, did you manage to:\n",
      "\n",
      "1. Eat lunch with chopsticks (to slow down eating)?\n",
      "2. Include 50g of protein at every meal?\n",
      "3. Finish eating by 5 pm?\u001b[0m\n",
      "\n",
      "\u001b[1m> Finished chain.\u001b[0m\n",
      "That's fantastic that you managed to do the push-ups and the walk, Chris! Well done on taking those steps towards your fitness goals. It's perfectly okay that you didn't take the stairs. Remember, it's about progress, not perfection. \n",
      "\n",
      "Now, let's move on to Eating. Today, did you manage to:\n",
      "\n",
      "1. Eat lunch with chopsticks (to slow down eating)?\n",
      "2. Include 50g of protein at every meal?\n",
      "3. Finish eating by 5 pm?\n"
     ]
    },
    {
     "data": {
      "text/plain": [
       "False"
      ]
     },
     "execution_count": 34,
     "metadata": {},
     "output_type": "execute_result"
    }
   ],
   "source": [
    "x(\"I did 1 and 2 but not 3\")"
   ]
  },
  {
   "cell_type": "code",
   "execution_count": 35,
   "id": "a4373c97-3dfd-46f8-ba40-b33dc988c2b6",
   "metadata": {},
   "outputs": [
    {
     "name": "stdout",
     "output_type": "stream",
     "text": [
      "\n",
      "\n",
      "\u001b[1m> Entering new AgentExecutor chain...\u001b[0m\n",
      "\u001b[32;1m\u001b[1;3mThat's still great, Chris! Including 50g of protein at every meal and finishing eating by 5 pm are both excellent habits for your health. Don't worry about not eating lunch with chopsticks today. Remember, every step you take towards your goals counts.\n",
      "\n",
      "Now, let's move on to Drinking. Today, did you manage to:\n",
      "\n",
      "1. Drink fizzy water from 6-8pm (for booze cravings)?\n",
      "2. Don't drink out of anything plastic?\n",
      "3. Drink a glass of water first thing in the morning?\u001b[0m\n",
      "\n",
      "\u001b[1m> Finished chain.\u001b[0m\n",
      "That's still great, Chris! Including 50g of protein at every meal and finishing eating by 5 pm are both excellent habits for your health. Don't worry about not eating lunch with chopsticks today. Remember, every step you take towards your goals counts.\n",
      "\n",
      "Now, let's move on to Drinking. Today, did you manage to:\n",
      "\n",
      "1. Drink fizzy water from 6-8pm (for booze cravings)?\n",
      "2. Don't drink out of anything plastic?\n",
      "3. Drink a glass of water first thing in the morning?\n"
     ]
    },
    {
     "data": {
      "text/plain": [
       "False"
      ]
     },
     "execution_count": 35,
     "metadata": {},
     "output_type": "execute_result"
    }
   ],
   "source": [
    "x(\"I did 2 and 3 only\")"
   ]
  },
  {
   "cell_type": "code",
   "execution_count": 36,
   "id": "d71ab247-cb0f-456a-89c4-41bf9a429f66",
   "metadata": {},
   "outputs": [
    {
     "name": "stdout",
     "output_type": "stream",
     "text": [
      "\n",
      "\n",
      "\u001b[1m> Entering new AgentExecutor chain...\u001b[0m\n",
      "\u001b[32;1m\u001b[1;3mThat's excellent, Chris! You're doing a great job with your drinking habits. \n",
      "\n",
      "Finally, let's discuss Stress Management. Today, did you manage to:\n",
      "\n",
      "1. Write down three tiny things you've been grateful for today?\n",
      "2. Listen to a meditation app for 10 minutes?\n",
      "3. Practice the leaves on a stream exercise?\u001b[0m\n",
      "\n",
      "\u001b[1m> Finished chain.\u001b[0m\n",
      "That's excellent, Chris! You're doing a great job with your drinking habits. \n",
      "\n",
      "Finally, let's discuss Stress Management. Today, did you manage to:\n",
      "\n",
      "1. Write down three tiny things you've been grateful for today?\n",
      "2. Listen to a meditation app for 10 minutes?\n",
      "3. Practice the leaves on a stream exercise?\n"
     ]
    },
    {
     "data": {
      "text/plain": [
       "False"
      ]
     },
     "execution_count": 36,
     "metadata": {},
     "output_type": "execute_result"
    }
   ],
   "source": [
    "x(\"yep!\")"
   ]
  },
  {
   "cell_type": "code",
   "execution_count": 37,
   "id": "9505eb46-28fe-4c7f-b190-830fafe0f13d",
   "metadata": {},
   "outputs": [
    {
     "name": "stdout",
     "output_type": "stream",
     "text": [
      "\n",
      "\n",
      "\u001b[1m> Entering new AgentExecutor chain...\u001b[0m\n",
      "\u001b[32;1m\u001b[1;3mThat's still a great achievement, Chris! Practicing the leaves on a stream exercise is a wonderful way to manage stress. Remember, every step you take towards your goals is a victory.\n",
      "\n",
      "To summarize, today you managed to:\n",
      "\n",
      "Sleep:\n",
      "1. Be in bed by 9:30 pm.\n",
      "2. Turn off your cell phone by 8 pm.\n",
      "3. Avoid caffeine after 2 pm.\n",
      "\n",
      "Exercise:\n",
      "1. Do 10 push-ups while the coffee was brewing.\n",
      "2. Walk outside for 10 minutes before 9:30 am.\n",
      "\n",
      "Eating:\n",
      "1. Include 50g of protein at every meal.\n",
      "2. Finish eating by 5 pm.\n",
      "\n",
      "Drinking:\n",
      "1. Drink fizzy water from 6-8pm (for booze cravings).\n",
      "2. Don't drink out of anything plastic.\n",
      "3. Drink a glass of water first thing in the morning.\n",
      "\n",
      "Stress Management:\n",
      "1. Practice the leaves on a stream exercise.\n",
      "\n",
      "That's 11 out of 15 SEEDS completed today. Well done, Chris! Is this summary correct?\u001b[0m\n",
      "\n",
      "\u001b[1m> Finished chain.\u001b[0m\n",
      "That's still a great achievement, Chris! Practicing the leaves on a stream exercise is a wonderful way to manage stress. Remember, every step you take towards your goals is a victory.\n",
      "\n",
      "To summarize, today you managed to:\n",
      "\n",
      "Sleep:\n",
      "1. Be in bed by 9:30 pm.\n",
      "2. Turn off your cell phone by 8 pm.\n",
      "3. Avoid caffeine after 2 pm.\n",
      "\n",
      "Exercise:\n",
      "1. Do 10 push-ups while the coffee was brewing.\n",
      "2. Walk outside for 10 minutes before 9:30 am.\n",
      "\n",
      "Eating:\n",
      "1. Include 50g of protein at every meal.\n",
      "2. Finish eating by 5 pm.\n",
      "\n",
      "Drinking:\n",
      "1. Drink fizzy water from 6-8pm (for booze cravings).\n",
      "2. Don't drink out of anything plastic.\n",
      "3. Drink a glass of water first thing in the morning.\n",
      "\n",
      "Stress Management:\n",
      "1. Practice the leaves on a stream exercise.\n",
      "\n",
      "That's 11 out of 15 SEEDS completed today. Well done, Chris! Is this summary correct?\n"
     ]
    },
    {
     "data": {
      "text/plain": [
       "False"
      ]
     },
     "execution_count": 37,
     "metadata": {},
     "output_type": "execute_result"
    }
   ],
   "source": [
    "x(\"just 3\")"
   ]
  },
  {
   "cell_type": "code",
   "execution_count": 38,
   "id": "b76efc24-3406-48c2-a33b-65628e4b98da",
   "metadata": {},
   "outputs": [
    {
     "name": "stdout",
     "output_type": "stream",
     "text": [
      "\n",
      "\n",
      "\u001b[1m> Entering new AgentExecutor chain...\u001b[0m\n",
      "\u001b[32;1m\u001b[1;3mThank you for the clarification, Chris. \n",
      "\n",
      "So, today you managed to:\n",
      "\n",
      "Sleep:\n",
      "1. Be in bed by 9:30 pm.\n",
      "2. Turn off your cell phone by 8 pm.\n",
      "3. Avoid caffeine after 2 pm.\n",
      "\n",
      "Exercise:\n",
      "1. Do 10 push-ups while the coffee was brewing.\n",
      "2. Walk outside for 10 minutes before 9:30 am.\n",
      "\n",
      "Eating:\n",
      "1. Include 50g of protein at every meal.\n",
      "2. Finish eating by 5 pm.\n",
      "\n",
      "Drinking:\n",
      "1. Drink fizzy water from 6-8pm (for booze cravings).\n",
      "2. Drink a glass of water first thing in the morning.\n",
      "\n",
      "Stress Management:\n",
      "1. Practice the leaves on a stream exercise.\n",
      "\n",
      "That's 10 out of 15 SEEDS completed today. Well done, Chris! Is this summary correct now?\u001b[0m\n",
      "\n",
      "\u001b[1m> Finished chain.\u001b[0m\n",
      "Thank you for the clarification, Chris. \n",
      "\n",
      "So, today you managed to:\n",
      "\n",
      "Sleep:\n",
      "1. Be in bed by 9:30 pm.\n",
      "2. Turn off your cell phone by 8 pm.\n",
      "3. Avoid caffeine after 2 pm.\n",
      "\n",
      "Exercise:\n",
      "1. Do 10 push-ups while the coffee was brewing.\n",
      "2. Walk outside for 10 minutes before 9:30 am.\n",
      "\n",
      "Eating:\n",
      "1. Include 50g of protein at every meal.\n",
      "2. Finish eating by 5 pm.\n",
      "\n",
      "Drinking:\n",
      "1. Drink fizzy water from 6-8pm (for booze cravings).\n",
      "2. Drink a glass of water first thing in the morning.\n",
      "\n",
      "Stress Management:\n",
      "1. Practice the leaves on a stream exercise.\n",
      "\n",
      "That's 10 out of 15 SEEDS completed today. Well done, Chris! Is this summary correct now?\n"
     ]
    },
    {
     "data": {
      "text/plain": [
       "False"
      ]
     },
     "execution_count": 38,
     "metadata": {},
     "output_type": "execute_result"
    }
   ],
   "source": [
    "x(\"actually no, I did drink out a plastic bottle\")"
   ]
  },
  {
   "cell_type": "code",
   "execution_count": 39,
   "id": "dee45ac4-3a45-4baf-a8b6-a1d7dc07e99b",
   "metadata": {},
   "outputs": [
    {
     "name": "stdout",
     "output_type": "stream",
     "text": [
      "\n",
      "\n",
      "\u001b[1m> Entering new AgentExecutor chain...\u001b[0m\n",
      "\u001b[32;1m\u001b[1;3mGreat! You've done an excellent job today, Chris. Remember, it's all about making small, consistent changes. You've completed 10 out of 15 SEEDS today, which is a fantastic achievement. Keep up the good work! 🚀🚀🚀\u001b[0m\n",
      "\n",
      "\u001b[1m> Finished chain.\u001b[0m\n",
      "Great! You've done an excellent job today, Chris. Remember, it's all about making small, consistent changes. You've completed 10 out of 15 SEEDS today, which is a fantastic achievement. Keep up the good work! 🚀🚀🚀\n"
     ]
    },
    {
     "data": {
      "text/plain": [
       "True"
      ]
     },
     "execution_count": 39,
     "metadata": {},
     "output_type": "execute_result"
    }
   ],
   "source": [
    "x(\"yep that's right\")"
   ]
  },
  {
   "cell_type": "code",
   "execution_count": 40,
   "id": "738a8ac9-9dbe-4dd4-b269-a1bdcadfd1e3",
   "metadata": {},
   "outputs": [],
   "source": [
    "x.save_memory(memory_filename)"
   ]
  },
  {
   "cell_type": "code",
   "execution_count": null,
   "id": "af3ee154-f9ff-437a-bf73-af1de2d48821",
   "metadata": {},
   "outputs": [],
   "source": []
  }
 ],
 "metadata": {
  "kernelspec": {
   "display_name": "Python 3 (ipykernel)",
   "language": "python",
   "name": "python3"
  },
  "language_info": {
   "codemirror_mode": {
    "name": "ipython",
    "version": 3
   },
   "file_extension": ".py",
   "mimetype": "text/x-python",
   "name": "python",
   "nbconvert_exporter": "python",
   "pygments_lexer": "ipython3",
   "version": "3.11.5"
  }
 },
 "nbformat": 4,
 "nbformat_minor": 5
}
