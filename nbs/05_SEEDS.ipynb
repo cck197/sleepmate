{
 "cells": [
  {
   "cell_type": "code",
   "execution_count": 1,
   "id": "b8de2330-3ba1-488b-8290-d1ab59e571ea",
   "metadata": {},
   "outputs": [],
   "source": [
    "from sleepmate.agent import *"
   ]
  },
  {
   "cell_type": "code",
   "execution_count": 2,
   "id": "f7ab4a31-2d40-4d1e-9176-eb2f87473bc0",
   "metadata": {},
   "outputs": [],
   "source": [
    "!rm -f /Users/cck197/Downloads/virtual_greg/memory.pkl"
   ]
  },
  {
   "cell_type": "markdown",
   "id": "b5f7edee-6150-42ad-9897-b2776077f9ef",
   "metadata": {},
   "source": [
    "# Define SEEDS"
   ]
  },
  {
   "cell_type": "code",
   "execution_count": 3,
   "id": "4980fa31-3f78-48ad-a417-d6eda05bc6b9",
   "metadata": {},
   "outputs": [
    {
     "name": "stdout",
     "output_type": "stream",
     "text": [
      "get_agent len(tools)=22\n"
     ]
    },
    {
     "data": {
      "text/markdown": [
       "Hello, Chris! It's great to have you here. How are you feeling today?"
      ],
      "text/plain": [
       "<IPython.core.display.Markdown object>"
      ]
     },
     "metadata": {},
     "output_type": "display_data"
    }
   ],
   "source": [
    "x = X(goals[\"seeds_probe\"]);"
   ]
  },
  {
   "cell_type": "code",
   "execution_count": 4,
   "id": "ca802a1a-eb75-4449-b02c-995d74b37d1e",
   "metadata": {},
   "outputs": [
    {
     "name": "stdout",
     "output_type": "stream",
     "text": [
      "get_seeds entry={'_id': ObjectId('652ad74ddf36ed139525fbe3'), 'user': ObjectId('6526d86e6015be5b3434ac13'), 'sleep_1': 'Be in bed by 9.30 pm', 'sleep_2': 'Turn off my cell phone by 8 pm', 'sleep_3': 'No caffeine after 12 pm', 'exercise_1': 'Walk outside for 10 minutes before 9:30 am', 'exercise_2': 'Do 10 push-ups while the coffee is brewing', 'exercise_3': 'Take the stairs instead of the elevator at work', 'eating_1': 'Eat 50g of protein with every meal', 'eating_2': 'Eat one meal with chopsticks (to slow down eating)', 'eating_3': 'Include a serving of vegetables in each meal', 'drinking_1': 'Drink at least 8 glasses of water a day', 'drinking_2': \"Don't drink out of anything plastic\", 'drinking_3': 'Drink fizzy water from 6-8 pm (for booze cravings)', 'stress_1': \"Write down three tiny things I've been grateful for today\", 'stress_2': \"Do the 'leaves on a stream' or 'open focus' exercises\", 'stress_3': 'Take 5 minutes each day to meditate or practice deep breathing'}\n"
     ]
    },
    {
     "data": {
      "text/markdown": [
       "Here are your current SEEDS:\n",
       "\n",
       "**Sleep:**\n",
       "1. Be in bed by 9.30 pm\n",
       "2. Turn off my cell phone by 8 pm\n",
       "3. No caffeine after 12 pm\n",
       "\n",
       "**Exercise:**\n",
       "1. Walk outside for 10 minutes before 9:30 am\n",
       "2. Do 10 push-ups while the coffee is brewing\n",
       "3. Take the stairs instead of the elevator at work\n",
       "\n",
       "**Eating:**\n",
       "1. Eat 50g of protein with every meal\n",
       "2. Eat one meal with chopsticks (to slow down eating)\n",
       "3. Include a serving of vegetables in each meal\n",
       "\n",
       "**Drinking:**\n",
       "1. Drink at least 8 glasses of water a day\n",
       "2. Don't drink out of anything plastic\n",
       "3. Drink fizzy water from 6-8 pm (for booze cravings)\n",
       "\n",
       "**Stress Management:**\n",
       "1. Write down three tiny things I've been grateful for today\n",
       "2. Do the 'leaves on a stream' or 'open focus' exercises\n",
       "3. Take 5 minutes each day to meditate or practice deep breathing\n",
       "\n",
       "Are these correct?"
      ],
      "text/plain": [
       "<IPython.core.display.Markdown object>"
      ]
     },
     "metadata": {},
     "output_type": "display_data"
    }
   ],
   "source": [
    "x(\"can you summarise my SEEDS?\");"
   ]
  },
  {
   "cell_type": "code",
   "execution_count": 4,
   "id": "8e50c4ec-a922-4922-a56d-534657922686",
   "metadata": {},
   "outputs": [
    {
     "data": {
      "text/markdown": [
       "Absolutely, here are some examples for each category:\n",
       "\n",
       "Sleep:\n",
       "1. Be in bed by 9.30 pm.\n",
       "2. Turn off my cell phone by 8 pm.\n",
       "3. No caffeine after 12 pm.\n",
       "\n",
       "Exercise:\n",
       "1. Walk outside for 10 minutes before 9:30 am.\n",
       "2. Do 10 push-ups while the coffee is brewing.\n",
       "3. Take the stairs instead of the elevator at work.\n",
       "\n",
       "Eating:\n",
       "1. Eat 50g of protein with every meal.\n",
       "2. Eat one meal with chopsticks (to slow down eating).\n",
       "3. Include a serving of vegetables in each meal.\n",
       "\n",
       "Drinking:\n",
       "1. Drink at least 8 glasses of water a day.\n",
       "2. Don't drink out of anything plastic.\n",
       "3. Drink fizzy water from 6-8 pm (for booze cravings).\n",
       "\n",
       "Stress Management:\n",
       "1. Write down three tiny things I've been grateful for today.\n",
       "2. Do the \"leaves on a stream\" or \"open focus\" exercises.\n",
       "3. Take 5 minutes each day to meditate or practice deep breathing.\n",
       "\n",
       "Now, let's start with the first category, Sleep. Can you tell me a small behavior you could adopt to contribute to better sleep?"
      ],
      "text/plain": [
       "<IPython.core.display.Markdown object>"
      ]
     },
     "metadata": {},
     "output_type": "display_data"
    }
   ],
   "source": [
    "x(\"can you give some examples, three for each category?\");"
   ]
  },
  {
   "cell_type": "code",
   "execution_count": 5,
   "id": "15494965-2aaa-4040-a402-e162ca32350e",
   "metadata": {},
   "outputs": [
    {
     "name": "stdout",
     "output_type": "stream",
     "text": [
      "save_seed_pod entry=SeedPod(sleep_1='Be in bed by 9.30 pm', sleep_2='Turn off my cell phone by 8 pm', sleep_3='No caffeine after 12 pm', exercise_1='Walk outside for 10 minutes before 9:30 am', exercise_2='Do 10 push-ups while the coffee is brewing', exercise_3='Take the stairs instead of the elevator at work', eating_1='Eat 50g of protein with every meal', eating_2='Eat one meal with chopsticks (to slow down eating)', eating_3='Include a serving of vegetables in each meal', drinking_1='Drink at least 8 glasses of water a day', drinking_2=\"Don't drink out of anything plastic\", drinking_3='Drink fizzy water from 6-8 pm (for booze cravings)', stress_1=\"Write down three tiny things I've been grateful for today\", stress_2=\"Do the 'leaves on a stream' or 'open focus' exercises\", stress_3='Take 5 minutes each day to meditate or practice deep breathing')\n"
     ]
    },
    {
     "data": {
      "text/markdown": [
       "Great, Chris! I've saved your SEEDS as follows:\n",
       "\n",
       "Sleep:\n",
       "1. Be in bed by 9.30 pm.\n",
       "2. Turn off my cell phone by 8 pm.\n",
       "3. No caffeine after 12 pm.\n",
       "\n",
       "Exercise:\n",
       "1. Walk outside for 10 minutes before 9:30 am.\n",
       "2. Do 10 push-ups while the coffee is brewing.\n",
       "3. Take the stairs instead of the elevator at work.\n",
       "\n",
       "Eating:\n",
       "1. Eat 50g of protein with every meal.\n",
       "2. Eat one meal with chopsticks (to slow down eating).\n",
       "3. Include a serving of vegetables in each meal.\n",
       "\n",
       "Drinking:\n",
       "1. Drink at least 8 glasses of water a day.\n",
       "2. Don't drink out of anything plastic.\n",
       "3. Drink fizzy water from 6-8 pm (for booze cravings).\n",
       "\n",
       "Stress Management:\n",
       "1. Write down three tiny things I've been grateful for today.\n",
       "2. Do the \"leaves on a stream\" or \"open focus\" exercises.\n",
       "3. Take 5 minutes each day to meditate or practice deep breathing.\n",
       "\n",
       "Please confirm if these are correct."
      ],
      "text/plain": [
       "<IPython.core.display.Markdown object>"
      ]
     },
     "metadata": {},
     "output_type": "display_data"
    }
   ],
   "source": [
    "x(\"that's great, let's go with all those exactly as you gave them\");"
   ]
  },
  {
   "cell_type": "code",
   "execution_count": 6,
   "id": "1f9de177-8bcd-42fe-bc3c-749a7c2bc829",
   "metadata": {},
   "outputs": [
    {
     "name": "stdout",
     "output_type": "stream",
     "text": [
      "save_seed_pod entry=SeedPod(sleep_1='Be in bed by 9.30 pm', sleep_2='Turn off my cell phone by 8 pm', sleep_3='No caffeine after 12 pm', exercise_1='Walk outside for 10 minutes before 9:30 am', exercise_2='Do 10 push-ups while the coffee is brewing', exercise_3='Take the stairs instead of the elevator at work', eating_1='Eat 50g of protein with every meal', eating_2='Eat one meal with chopsticks (to slow down eating)', eating_3='Include a serving of vegetables in each meal', drinking_1='Drink at least 8 glasses of water a day', drinking_2=\"Don't drink out of anything plastic\", drinking_3='Drink fizzy water from 6-8 pm (for booze cravings)', stress_1=\"Write down three tiny things I've been grateful for today\", stress_2=\"Do the 'leaves on a stream' or 'open focus' exercises\", stress_3='Take 5 minutes each day to meditate or practice deep breathing')\n"
     ]
    },
    {
     "data": {
      "text/markdown": [
       "Great, Chris! I've saved your SEEDS. Remember, the goal is to make these small behaviors a part of your daily routine. Over time, they can contribute significantly to your overall health and well-being. 🚀🚀🚀"
      ],
      "text/plain": [
       "<IPython.core.display.Markdown object>"
      ]
     },
     "metadata": {},
     "output_type": "display_data"
    }
   ],
   "source": [
    "x(\"yep!\");"
   ]
  },
  {
   "cell_type": "code",
   "execution_count": null,
   "id": "4eb7032c-4059-4cdc-8bcb-bd4880d06bc1",
   "metadata": {},
   "outputs": [],
   "source": []
  },
  {
   "cell_type": "markdown",
   "id": "13a42bd8-13bb-4198-a626-40f561ba6375",
   "metadata": {},
   "source": [
    "# Track SEEDS"
   ]
  },
  {
   "cell_type": "code",
   "execution_count": 2,
   "id": "759ca09b-fc6e-481f-bda0-d1e58b191990",
   "metadata": {},
   "outputs": [
    {
     "name": "stdout",
     "output_type": "stream",
     "text": [
      "get_agent len(tools)=10\n",
      "load_memory filename='/Users/cck197/Downloads/virtual_greg/memory.pkl'\n"
     ]
    },
    {
     "data": {
      "text/markdown": [
       "Hello Chris! How are you feeling today?"
      ],
      "text/plain": [
       "<IPython.core.display.Markdown object>"
      ]
     },
     "metadata": {},
     "output_type": "display_data"
    }
   ],
   "source": [
    "x = X(goals[\"seeds_entry\"]);#, audio=True)"
   ]
  },
  {
   "cell_type": "code",
   "execution_count": 3,
   "id": "4b02ff26-5548-435b-9f18-733cc2bc16e9",
   "metadata": {},
   "outputs": [
    {
     "data": {
      "text/markdown": [
       "I'm glad to hear you're doing okay, Chris. If you're up for it, I'd like to guide you through an exercise called \"open focus\". It's a way to broaden your focus and can be quite relaxing. Would now be a good time for that?"
      ],
      "text/plain": [
       "<IPython.core.display.Markdown object>"
      ]
     },
     "metadata": {},
     "output_type": "display_data"
    }
   ],
   "source": [
    "x(\"not bad\");"
   ]
  },
  {
   "cell_type": "code",
   "execution_count": 4,
   "id": "c868aad4-f8c6-4a19-b225-78b117d1495d",
   "metadata": {},
   "outputs": [
    {
     "data": {
      "text/markdown": [
       "Sure thing, Chris. Let's record a SEEDS diary entry. \n",
       "\n",
       "First, let's confirm the date for this entry. Is it for today?"
      ],
      "text/plain": [
       "<IPython.core.display.Markdown object>"
      ]
     },
     "metadata": {},
     "output_type": "display_data"
    }
   ],
   "source": [
    "x(\"nah, let's do a SEEDS entry\");"
   ]
  },
  {
   "cell_type": "code",
   "execution_count": 5,
   "id": "c9b9deea-53c1-4faf-a7eb-590e5136b34b",
   "metadata": {},
   "outputs": [
    {
     "data": {
      "text/markdown": [
       "That's fantastic, Chris! You managed to accomplish all your SEEDS for today. \n",
       "\n",
       "To summarize:\n",
       "\n",
       "**Sleep:**\n",
       "1. You were in bed by 9.30 pm.\n",
       "2. You turned off your cell phone by 8 pm.\n",
       "3. You had no caffeine after 12 pm.\n",
       "\n",
       "**Exercise:**\n",
       "1. You walked outside for 10 ten minutes before 9:30 am.\n",
       "2. You did 10 push-ups while the coffee was brewing.\n",
       "3. You took the stairs instead of the elevator.\n",
       "\n",
       "**Eating:**\n",
       "1. You ate one meal with chopsticks (to slow down eating).\n",
       "2. You ate 50g of protein with every meal.\n",
       "3. You included a serving of vegetables in each meal.\n",
       "\n",
       "**Drinking:**\n",
       "1. You didn't drink out of anything plastic.\n",
       "2. You drank fizzy water from 6-8 pm (for booze cravings).\n",
       "3. You drank a glass of water before each meal.\n",
       "\n",
       "**Stress management:**\n",
       "1. You wrote down three tiny things you've been grateful for today.\n",
       "2. You did the \"leaves on a stream\" or \"open focus\" exercises.\n",
       "3. You spent 10 minutes each day in quiet reflection or meditation.\n",
       "\n",
       "Is this correct?"
      ],
      "text/plain": [
       "<IPython.core.display.Markdown object>"
      ]
     },
     "metadata": {},
     "output_type": "display_data"
    }
   ],
   "source": [
    "x(\"yes, that's right. I got everything done in all the categories\");"
   ]
  },
  {
   "cell_type": "code",
   "execution_count": 6,
   "id": "08b9f713-09eb-4b7d-b30e-576b67b65d4e",
   "metadata": {},
   "outputs": [
    {
     "data": {
      "text/markdown": [
       "That's excellent, Chris! You've done a fantastic job today. \n",
       "\n",
       "You've managed to accomplish all 15 SEEDS for the day, which is an outstanding achievement. Keep up the great work and continue to make these positive choices for your health and well-being. \n",
       "\n",
       "Remember, the goal is consistency over time, so don't worry if you have days where you don't manage to do all of them. Every little bit helps, and you're doing great. 🚀🚀🚀"
      ],
      "text/plain": [
       "<IPython.core.display.Markdown object>"
      ]
     },
     "metadata": {},
     "output_type": "display_data"
    }
   ],
   "source": [
    "x(\"yep\");"
   ]
  },
  {
   "cell_type": "code",
   "execution_count": null,
   "id": "af3ee154-f9ff-437a-bf73-af1de2d48821",
   "metadata": {},
   "outputs": [],
   "source": []
  }
 ],
 "metadata": {
  "kernelspec": {
   "display_name": "Python 3 (ipykernel)",
   "language": "python",
   "name": "python3"
  },
  "language_info": {
   "codemirror_mode": {
    "name": "ipython",
    "version": 3
   },
   "file_extension": ".py",
   "mimetype": "text/x-python",
   "name": "python",
   "nbconvert_exporter": "python",
   "pygments_lexer": "ipython3",
   "version": "3.11.5"
  }
 },
 "nbformat": 4,
 "nbformat_minor": 5
}
