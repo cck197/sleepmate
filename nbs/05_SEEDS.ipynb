{
 "cells": [
  {
   "cell_type": "code",
   "execution_count": 1,
   "id": "b8de2330-3ba1-488b-8290-d1ab59e571ea",
   "metadata": {},
   "outputs": [],
   "source": [
    "from sleepmate.agent import *"
   ]
  },
  {
   "cell_type": "markdown",
   "id": "b5f7edee-6150-42ad-9897-b2776077f9ef",
   "metadata": {
    "jp-MarkdownHeadingCollapsed": true
   },
   "source": [
    "# Define SEEDS"
   ]
  },
  {
   "cell_type": "code",
   "execution_count": 5,
   "id": "00c2eac6-f34d-40cc-82f7-1a94a422538f",
   "metadata": {},
   "outputs": [],
   "source": [
    "!rm -f /Users/cck197/Downloads/virtual_greg/memory.pkl"
   ]
  },
  {
   "cell_type": "code",
   "execution_count": 2,
   "id": "4980fa31-3f78-48ad-a417-d6eda05bc6b9",
   "metadata": {},
   "outputs": [
    {
     "name": "stdout",
     "output_type": "stream",
     "text": [
      "get_agent len(tools)=10\n",
      "load_memory filename='/Users/cck197/Downloads/virtual_greg/memory.pkl'\n"
     ]
    },
    {
     "data": {
      "text/markdown": [
       "Hello Chris! How are you feeling today?"
      ],
      "text/plain": [
       "<IPython.core.display.Markdown object>"
      ]
     },
     "metadata": {},
     "output_type": "display_data"
    }
   ],
   "source": [
    "x = X(goals[\"seeds_probe\"])"
   ]
  },
  {
   "cell_type": "code",
   "execution_count": 3,
   "id": "4ec60b0a-78b8-4015-bd41-ae50df4497fb",
   "metadata": {},
   "outputs": [
    {
     "data": {
      "text/markdown": [
       "That's wonderful to hear, Chris! I'm glad you're feeling pretty good today. Is there something specific you'd like to talk about or any way I can assist you?"
      ],
      "text/plain": [
       "<IPython.core.display.Markdown object>"
      ]
     },
     "metadata": {},
     "output_type": "display_data"
    },
    {
     "data": {
      "text/plain": [
       "\"That's wonderful to hear, Chris! I'm glad you're feeling pretty good today. Is there something specific you'd like to talk about or any way I can assist you?\""
      ]
     },
     "execution_count": 3,
     "metadata": {},
     "output_type": "execute_result"
    }
   ],
   "source": [
    "x(\"pretty good\")"
   ]
  },
  {
   "cell_type": "code",
   "execution_count": 4,
   "id": "b423cacd-7af8-41e2-9e7b-2530b168f01e",
   "metadata": {},
   "outputs": [
    {
     "data": {
      "text/markdown": [
       "Great! Now that we've discussed your sleep, let's move on to another important aspect of health: daily habits. I'd like to introduce you to the SEEDS exercise created by Simon Marshall, PhD. It's a simple and effective way to improve your overall health. Would you like to learn more about it?"
      ],
      "text/plain": [
       "<IPython.core.display.Markdown object>"
      ]
     },
     "metadata": {},
     "output_type": "display_data"
    },
    {
     "data": {
      "text/plain": [
       "\"Great! Now that we've discussed your sleep, let's move on to another important aspect of health: daily habits. I'd like to introduce you to the SEEDS exercise created by Simon Marshall, PhD. It's a simple and effective way to improve your overall health. Would you like to learn more about it?\""
      ]
     },
     "execution_count": 4,
     "metadata": {},
     "output_type": "execute_result"
    }
   ],
   "source": [
    "x(\"sure, what's next?\")"
   ]
  },
  {
   "cell_type": "code",
   "execution_count": 5,
   "id": "8e50c4ec-a922-4922-a56d-534657922686",
   "metadata": {},
   "outputs": [
    {
     "data": {
      "text/markdown": [
       "Absolutely, Chris! Here are some examples of SEEDS (Sleep, Exercise, Eating, Drinking, and Stress management) that you could consider:\n",
       "\n",
       "Sleep:\n",
       "- Be in bed by 9.30 pm.\n",
       "- Turn off my cell phone by 8 pm.\n",
       "\n",
       "Exercise:\n",
       "- Walk outside for 10 ten minutes before 9:30 am.\n",
       "- Do 10 push-ups while the coffee is brewing.\n",
       "\n",
       "Eating:\n",
       "- Eat one meal with chopsticks (to slow down eating).\n",
       "- Eat 50g of protein with every meal.\n",
       "\n",
       "Drinking:\n",
       "- Don't drink out of anything plastic.\n",
       "- Drink fizzy water from 6-8 pm (for booze cravings).\n",
       "\n",
       "Stress management:\n",
       "- Write down three tiny things I've been grateful for today.\n",
       "- No caffeine after 12 pm.\n",
       "- Do the \"leaves on a stream\" or \"open focus\" exercises.\n",
       "\n",
       "Remember, the goal is to choose small, achievable behaviors that contribute to each pillar of good health. Does this make sense? Would you like to give it a try?"
      ],
      "text/plain": [
       "<IPython.core.display.Markdown object>"
      ]
     },
     "metadata": {},
     "output_type": "display_data"
    },
    {
     "data": {
      "text/plain": [
       "'Absolutely, Chris! Here are some examples of SEEDS (Sleep, Exercise, Eating, Drinking, and Stress management) that you could consider:\\n\\nSleep:\\n- Be in bed by 9.30 pm.\\n- Turn off my cell phone by 8 pm.\\n\\nExercise:\\n- Walk outside for 10 ten minutes before 9:30 am.\\n- Do 10 push-ups while the coffee is brewing.\\n\\nEating:\\n- Eat one meal with chopsticks (to slow down eating).\\n- Eat 50g of protein with every meal.\\n\\nDrinking:\\n- Don\\'t drink out of anything plastic.\\n- Drink fizzy water from 6-8 pm (for booze cravings).\\n\\nStress management:\\n- Write down three tiny things I\\'ve been grateful for today.\\n- No caffeine after 12 pm.\\n- Do the \"leaves on a stream\" or \"open focus\" exercises.\\n\\nRemember, the goal is to choose small, achievable behaviors that contribute to each pillar of good health. Does this make sense? Would you like to give it a try?'"
      ]
     },
     "execution_count": 5,
     "metadata": {},
     "output_type": "execute_result"
    }
   ],
   "source": [
    "x(\"can you give some examples?\")"
   ]
  },
  {
   "cell_type": "code",
   "execution_count": 6,
   "id": "15494965-2aaa-4040-a402-e162ca32350e",
   "metadata": {},
   "outputs": [
    {
     "data": {
      "text/markdown": [
       "Fantastic, Chris! So, to confirm, these are the SEEDS you've chosen:\n",
       "\n",
       "Sleep:\n",
       "- Be in bed by 9.30 pm.\n",
       "- Turn off my cell phone by 8 pm.\n",
       "\n",
       "Exercise:\n",
       "- Walk outside for 10 ten minutes before 9:30 am.\n",
       "- Do 10 push-ups while the coffee is brewing.\n",
       "\n",
       "Eating:\n",
       "- Eat one meal with chopsticks (to slow down eating).\n",
       "- Eat 50g of protein with every meal.\n",
       "\n",
       "Drinking:\n",
       "- Don't drink out of anything plastic.\n",
       "- Drink fizzy water from 6-8 pm (for booze cravings).\n",
       "\n",
       "Stress management:\n",
       "- Write down three tiny things I've been grateful for today.\n",
       "- No caffeine after 12 pm.\n",
       "- Do the \"leaves on a stream\" or \"open focus\" exercises.\n",
       "\n",
       "Is this correct?"
      ],
      "text/plain": [
       "<IPython.core.display.Markdown object>"
      ]
     },
     "metadata": {},
     "output_type": "display_data"
    },
    {
     "data": {
      "text/plain": [
       "'Fantastic, Chris! So, to confirm, these are the SEEDS you\\'ve chosen:\\n\\nSleep:\\n- Be in bed by 9.30 pm.\\n- Turn off my cell phone by 8 pm.\\n\\nExercise:\\n- Walk outside for 10 ten minutes before 9:30 am.\\n- Do 10 push-ups while the coffee is brewing.\\n\\nEating:\\n- Eat one meal with chopsticks (to slow down eating).\\n- Eat 50g of protein with every meal.\\n\\nDrinking:\\n- Don\\'t drink out of anything plastic.\\n- Drink fizzy water from 6-8 pm (for booze cravings).\\n\\nStress management:\\n- Write down three tiny things I\\'ve been grateful for today.\\n- No caffeine after 12 pm.\\n- Do the \"leaves on a stream\" or \"open focus\" exercises.\\n\\nIs this correct?'"
      ]
     },
     "execution_count": 6,
     "metadata": {},
     "output_type": "execute_result"
    }
   ],
   "source": [
    "x(\"that's great, let's go with those\")"
   ]
  },
  {
   "cell_type": "code",
   "execution_count": 7,
   "id": "1f9de177-8bcd-42fe-bc3c-749a7c2bc829",
   "metadata": {},
   "outputs": [
    {
     "data": {
      "text/markdown": [
       "Great! I'm glad we've set these SEEDS for you, Chris. Remember, the goal is to make these small behaviors a part of your daily routine. Over time, they can contribute significantly to your overall health. Keep me updated on your progress, and don't hesitate to reach out if you have any questions or need support. 🚀🚀🚀"
      ],
      "text/plain": [
       "<IPython.core.display.Markdown object>"
      ]
     },
     "metadata": {},
     "output_type": "display_data"
    },
    {
     "data": {
      "text/plain": [
       "\"Great! I'm glad we've set these SEEDS for you, Chris. Remember, the goal is to make these small behaviors a part of your daily routine. Over time, they can contribute significantly to your overall health. Keep me updated on your progress, and don't hesitate to reach out if you have any questions or need support. 🚀🚀🚀\""
      ]
     },
     "execution_count": 7,
     "metadata": {},
     "output_type": "execute_result"
    }
   ],
   "source": [
    "x(\"yep!\")"
   ]
  },
  {
   "cell_type": "code",
   "execution_count": 7,
   "id": "3fa059f0-4ab9-49b3-b976-242e47027a67",
   "metadata": {},
   "outputs": [
    {
     "name": "stdout",
     "output_type": "stream",
     "text": [
      "\n",
      "\n",
      "\u001b[1m> Entering new AgentExecutor chain...\u001b[0m\n",
      "\u001b[32;1m\u001b[1;3mOf course, Chris! Here are some examples of small habits related to Sleep:\n",
      "\n",
      "1. Be in bed by 9:30 pm.\n",
      "2. Turn off your cell phone by 8 pm.\n",
      "3. Avoid caffeine after 2 pm.\n",
      "4. Read a book for 15 minutes before bed.\n",
      "5. Keep your bedroom cool and dark.\n",
      "\n",
      "Remember, these are just examples. The goal is to choose a small, achievable behavior that suits your lifestyle and can help improve your sleep. What do you think you could do?\u001b[0m\n",
      "\n",
      "\u001b[1m> Finished chain.\u001b[0m\n",
      "Of course, Chris! Here are some examples of small habits related to Sleep:\n",
      "\n",
      "1. Be in bed by 9:30 pm.\n",
      "2. Turn off your cell phone by 8 pm.\n",
      "3. Avoid caffeine after 2 pm.\n",
      "4. Read a book for 15 minutes before bed.\n",
      "5. Keep your bedroom cool and dark.\n",
      "\n",
      "Remember, these are just examples. The goal is to choose a small, achievable behavior that suits your lifestyle and can help improve your sleep. What do you think you could do?\n"
     ]
    },
    {
     "data": {
      "text/plain": [
       "False"
      ]
     },
     "execution_count": 7,
     "metadata": {},
     "output_type": "execute_result"
    }
   ],
   "source": [
    "x(\"can you give some sleep examples?\")"
   ]
  },
  {
   "cell_type": "code",
   "execution_count": 8,
   "id": "b0512d44-465f-4bdf-98b5-f7ca11a2f91c",
   "metadata": {},
   "outputs": [
    {
     "name": "stdout",
     "output_type": "stream",
     "text": [
      "\n",
      "\n",
      "\u001b[1m> Entering new AgentExecutor chain...\u001b[0m\n",
      "\u001b[32;1m\u001b[1;3mGreat choices, Chris! So, for Sleep, your SEEDS are:\n",
      "\n",
      "1. Be in bed by 9:30 pm.\n",
      "2. Turn off your cell phone by 8 pm.\n",
      "3. Avoid caffeine after 2 pm.\n",
      "\n",
      "Now, let's move on to the next pillar - Exercise. Can you think of a small, achievable behavior related to exercise that you could implement? For example, you could aim to walk outside for 10 minutes before 9:30 am, or do 10 push-ups while the coffee is brewing. What do you think?\u001b[0m\n",
      "\n",
      "\u001b[1m> Finished chain.\u001b[0m\n",
      "Great choices, Chris! So, for Sleep, your SEEDS are:\n",
      "\n",
      "1. Be in bed by 9:30 pm.\n",
      "2. Turn off your cell phone by 8 pm.\n",
      "3. Avoid caffeine after 2 pm.\n",
      "\n",
      "Now, let's move on to the next pillar - Exercise. Can you think of a small, achievable behavior related to exercise that you could implement? For example, you could aim to walk outside for 10 minutes before 9:30 am, or do 10 push-ups while the coffee is brewing. What do you think?\n"
     ]
    },
    {
     "data": {
      "text/plain": [
       "False"
      ]
     },
     "execution_count": 8,
     "metadata": {},
     "output_type": "execute_result"
    }
   ],
   "source": [
    "x(\"yeah, let's go with 1, 2 and 3\")"
   ]
  },
  {
   "cell_type": "code",
   "execution_count": 9,
   "id": "9adf93c1-1b0f-491b-b890-201bb35d486b",
   "metadata": {},
   "outputs": [
    {
     "name": "stdout",
     "output_type": "stream",
     "text": [
      "\n",
      "\n",
      "\u001b[1m> Entering new AgentExecutor chain...\u001b[0m\n",
      "\u001b[32;1m\u001b[1;3mSure, Chris! Here are some examples of small habits related to Exercise:\n",
      "\n",
      "1. Walk outside for 10 minutes before 9:30 am.\n",
      "2. Do 10 push-ups while the coffee is brewing.\n",
      "3. Take the stairs instead of the elevator.\n",
      "4. Park your car further away to get in some extra steps.\n",
      "5. Do a quick 5-minute stretch routine in the morning.\n",
      "\n",
      "Remember, the goal is to choose a small, achievable behavior that suits your lifestyle and can help improve your exercise routine. What do you think you could do?\u001b[0m\n",
      "\n",
      "\u001b[1m> Finished chain.\u001b[0m\n",
      "Sure, Chris! Here are some examples of small habits related to Exercise:\n",
      "\n",
      "1. Walk outside for 10 minutes before 9:30 am.\n",
      "2. Do 10 push-ups while the coffee is brewing.\n",
      "3. Take the stairs instead of the elevator.\n",
      "4. Park your car further away to get in some extra steps.\n",
      "5. Do a quick 5-minute stretch routine in the morning.\n",
      "\n",
      "Remember, the goal is to choose a small, achievable behavior that suits your lifestyle and can help improve your exercise routine. What do you think you could do?\n"
     ]
    },
    {
     "data": {
      "text/plain": [
       "False"
      ]
     },
     "execution_count": 9,
     "metadata": {},
     "output_type": "execute_result"
    }
   ],
   "source": [
    "x(\"examples?\")"
   ]
  },
  {
   "cell_type": "code",
   "execution_count": 10,
   "id": "3ab8142b-0a03-4bc6-99f3-a35af1e4ee65",
   "metadata": {},
   "outputs": [
    {
     "name": "stdout",
     "output_type": "stream",
     "text": [
      "\n",
      "\n",
      "\u001b[1m> Entering new AgentExecutor chain...\u001b[0m\n",
      "\u001b[32;1m\u001b[1;3mExcellent choices, Chris! So, for Exercise, your SEEDS are:\n",
      "\n",
      "1. Walk outside for 10 minutes before 9:30 am.\n",
      "2. Do 10 push-ups while the coffee is brewing.\n",
      "3. Take the stairs instead of the elevator.\n",
      "\n",
      "Now, let's move on to the next pillar - Eating. Can you think of a small, achievable behavior related to eating that you could implement? For example, you could aim to eat one meal with chopsticks to slow down eating, or eat 50g of protein with every meal. What do you think?\u001b[0m\n",
      "\n",
      "\u001b[1m> Finished chain.\u001b[0m\n",
      "Excellent choices, Chris! So, for Exercise, your SEEDS are:\n",
      "\n",
      "1. Walk outside for 10 minutes before 9:30 am.\n",
      "2. Do 10 push-ups while the coffee is brewing.\n",
      "3. Take the stairs instead of the elevator.\n",
      "\n",
      "Now, let's move on to the next pillar - Eating. Can you think of a small, achievable behavior related to eating that you could implement? For example, you could aim to eat one meal with chopsticks to slow down eating, or eat 50g of protein with every meal. What do you think?\n"
     ]
    },
    {
     "data": {
      "text/plain": [
       "False"
      ]
     },
     "execution_count": 10,
     "metadata": {},
     "output_type": "execute_result"
    }
   ],
   "source": [
    "x(\"let's do 1, 2, and 3\")"
   ]
  },
  {
   "cell_type": "code",
   "execution_count": 11,
   "id": "13ba92e8-cb3e-420c-8d19-96062fe189c4",
   "metadata": {},
   "outputs": [
    {
     "name": "stdout",
     "output_type": "stream",
     "text": [
      "\n",
      "\n",
      "\u001b[1m> Entering new AgentExecutor chain...\u001b[0m\n",
      "\u001b[32;1m\u001b[1;3mAbsolutely, Chris! Here are some examples of small habits related to Eating:\n",
      "\n",
      "1. Eat one meal with chopsticks (to slow down eating).\n",
      "2. Eat 50g of protein with every meal.\n",
      "3. Include a serving of vegetables in each meal.\n",
      "4. Drink a glass of water before each meal.\n",
      "5. Swap one processed snack for a piece of fruit each day.\n",
      "\n",
      "Remember, the goal is to choose a small, achievable behavior that suits your lifestyle and can help improve your eating habits. What do you think you could do?\u001b[0m\n",
      "\n",
      "\u001b[1m> Finished chain.\u001b[0m\n",
      "Absolutely, Chris! Here are some examples of small habits related to Eating:\n",
      "\n",
      "1. Eat one meal with chopsticks (to slow down eating).\n",
      "2. Eat 50g of protein with every meal.\n",
      "3. Include a serving of vegetables in each meal.\n",
      "4. Drink a glass of water before each meal.\n",
      "5. Swap one processed snack for a piece of fruit each day.\n",
      "\n",
      "Remember, the goal is to choose a small, achievable behavior that suits your lifestyle and can help improve your eating habits. What do you think you could do?\n"
     ]
    },
    {
     "data": {
      "text/plain": [
       "False"
      ]
     },
     "execution_count": 11,
     "metadata": {},
     "output_type": "execute_result"
    }
   ],
   "source": [
    "x(\"examples?\")"
   ]
  },
  {
   "cell_type": "code",
   "execution_count": 12,
   "id": "7a0fb8af-268e-4d33-a8b1-b2c5828f8b38",
   "metadata": {},
   "outputs": [
    {
     "name": "stdout",
     "output_type": "stream",
     "text": [
      "\n",
      "\n",
      "\u001b[1m> Entering new AgentExecutor chain...\u001b[0m\n",
      "\u001b[32;1m\u001b[1;3mGreat choices, Chris! So, for Eating, your SEEDS are:\n",
      "\n",
      "1. Eat lunch with chopsticks (to slow down eating).\n",
      "2. Eat 50g of protein with every meal.\n",
      "3. Finish eating for the day by 5 pm.\n",
      "\n",
      "Now, let's move on to the next pillar - Drinking. Can you think of a small, achievable behavior related to drinking that you could implement? For example, you could aim to not drink out of anything plastic, or drink fizzy water from 6-8pm for booze cravings. What do you think?\u001b[0m\n",
      "\n",
      "\u001b[1m> Finished chain.\u001b[0m\n",
      "Great choices, Chris! So, for Eating, your SEEDS are:\n",
      "\n",
      "1. Eat lunch with chopsticks (to slow down eating).\n",
      "2. Eat 50g of protein with every meal.\n",
      "3. Finish eating for the day by 5 pm.\n",
      "\n",
      "Now, let's move on to the next pillar - Drinking. Can you think of a small, achievable behavior related to drinking that you could implement? For example, you could aim to not drink out of anything plastic, or drink fizzy water from 6-8pm for booze cravings. What do you think?\n"
     ]
    },
    {
     "data": {
      "text/plain": [
       "False"
      ]
     },
     "execution_count": 12,
     "metadata": {},
     "output_type": "execute_result"
    }
   ],
   "source": [
    "x(\"let's do 1 but for lunch only, 2, and done eating by 5pm\")"
   ]
  },
  {
   "cell_type": "code",
   "execution_count": 13,
   "id": "d939792d-ef9e-4099-8c30-26b802aaf5d3",
   "metadata": {},
   "outputs": [
    {
     "name": "stdout",
     "output_type": "stream",
     "text": [
      "\n",
      "\n",
      "\u001b[1m> Entering new AgentExecutor chain...\u001b[0m\n",
      "\u001b[32;1m\u001b[1;3mSure, Chris! Here are some examples of small habits related to Drinking:\n",
      "\n",
      "1. Don't drink out of anything plastic.\n",
      "2. Drink fizzy water from 6-8pm (for booze cravings).\n",
      "3. Drink at least 8 glasses of water a day.\n",
      "4. Swap one sugary drink for a glass of water each day.\n",
      "5. Have a cup of herbal tea instead of a second coffee.\n",
      "\n",
      "Remember, the goal is to choose a small, achievable behavior that suits your lifestyle and can help improve your drinking habits. What do you think you could do?\u001b[0m\n",
      "\n",
      "\u001b[1m> Finished chain.\u001b[0m\n",
      "Sure, Chris! Here are some examples of small habits related to Drinking:\n",
      "\n",
      "1. Don't drink out of anything plastic.\n",
      "2. Drink fizzy water from 6-8pm (for booze cravings).\n",
      "3. Drink at least 8 glasses of water a day.\n",
      "4. Swap one sugary drink for a glass of water each day.\n",
      "5. Have a cup of herbal tea instead of a second coffee.\n",
      "\n",
      "Remember, the goal is to choose a small, achievable behavior that suits your lifestyle and can help improve your drinking habits. What do you think you could do?\n"
     ]
    },
    {
     "data": {
      "text/plain": [
       "False"
      ]
     },
     "execution_count": 13,
     "metadata": {},
     "output_type": "execute_result"
    }
   ],
   "source": [
    "x(\"examples?\")"
   ]
  },
  {
   "cell_type": "code",
   "execution_count": 14,
   "id": "c5674473-32df-45ce-b723-285a470a1bce",
   "metadata": {},
   "outputs": [
    {
     "name": "stdout",
     "output_type": "stream",
     "text": [
      "\n",
      "\n",
      "\u001b[1m> Entering new AgentExecutor chain...\u001b[0m\n",
      "\u001b[32;1m\u001b[1;3mExcellent choices, Chris! So, for Drinking, your SEEDS are:\n",
      "\n",
      "1. Don't drink out of anything plastic.\n",
      "2. Drink fizzy water from 6-8pm (for booze cravings).\n",
      "3. Drink at least 8 glasses of water a day.\n",
      "\n",
      "Finally, let's move on to the last pillar - Stress management. Can you think of a small, achievable behavior related to stress management that you could implement? For example, you could aim to write down three tiny things you've been grateful for today, or do the \"leaves on a stream\" or \"open focus\" exercises. What do you think?\u001b[0m\n",
      "\n",
      "\u001b[1m> Finished chain.\u001b[0m\n",
      "Excellent choices, Chris! So, for Drinking, your SEEDS are:\n",
      "\n",
      "1. Don't drink out of anything plastic.\n",
      "2. Drink fizzy water from 6-8pm (for booze cravings).\n",
      "3. Drink at least 8 glasses of water a day.\n",
      "\n",
      "Finally, let's move on to the last pillar - Stress management. Can you think of a small, achievable behavior related to stress management that you could implement? For example, you could aim to write down three tiny things you've been grateful for today, or do the \"leaves on a stream\" or \"open focus\" exercises. What do you think?\n"
     ]
    },
    {
     "data": {
      "text/plain": [
       "False"
      ]
     },
     "execution_count": 14,
     "metadata": {},
     "output_type": "execute_result"
    }
   ],
   "source": [
    "x(\"first three are perfect\")"
   ]
  },
  {
   "cell_type": "code",
   "execution_count": 15,
   "id": "08b43657-53a6-49c1-98c3-1021c443af65",
   "metadata": {},
   "outputs": [
    {
     "name": "stdout",
     "output_type": "stream",
     "text": [
      "\n",
      "\n",
      "\u001b[1m> Entering new AgentExecutor chain...\u001b[0m\n",
      "\u001b[32;1m\u001b[1;3mAbsolutely, Chris! Here are some examples of small habits related to Stress management:\n",
      "\n",
      "1. Write down three tiny things you've been grateful for today.\n",
      "2. Do the \"leaves on a stream\" or \"open focus\" exercises.\n",
      "3. Spend 5 minutes meditating each morning.\n",
      "4. Take a 10-minute walk outside during your lunch break.\n",
      "5. Practice deep breathing exercises for 5 minutes before bed.\n",
      "\n",
      "Remember, the goal is to choose a small, achievable behavior that suits your lifestyle and can help manage your stress levels. What do you think you could do?\u001b[0m\n",
      "\n",
      "\u001b[1m> Finished chain.\u001b[0m\n",
      "Absolutely, Chris! Here are some examples of small habits related to Stress management:\n",
      "\n",
      "1. Write down three tiny things you've been grateful for today.\n",
      "2. Do the \"leaves on a stream\" or \"open focus\" exercises.\n",
      "3. Spend 5 minutes meditating each morning.\n",
      "4. Take a 10-minute walk outside during your lunch break.\n",
      "5. Practice deep breathing exercises for 5 minutes before bed.\n",
      "\n",
      "Remember, the goal is to choose a small, achievable behavior that suits your lifestyle and can help manage your stress levels. What do you think you could do?\n"
     ]
    },
    {
     "data": {
      "text/plain": [
       "False"
      ]
     },
     "execution_count": 15,
     "metadata": {},
     "output_type": "execute_result"
    }
   ],
   "source": [
    "x(\"examples?\")"
   ]
  },
  {
   "cell_type": "code",
   "execution_count": 16,
   "id": "03563506-6d89-4679-8029-c6c93805d4d5",
   "metadata": {},
   "outputs": [
    {
     "name": "stdout",
     "output_type": "stream",
     "text": [
      "\n",
      "\n",
      "\u001b[1m> Entering new AgentExecutor chain...\u001b[0m\n",
      "\u001b[32;1m\u001b[1;3mGreat choices, Chris! So, for Stress management, your SEEDS are:\n",
      "\n",
      "1. Write down three tiny things you've been grateful for today.\n",
      "2. Do the \"leaves on a stream\" or \"open focus\" exercises.\n",
      "3. Take a 10-minute walk outside during your lunch break.\n",
      "\n",
      "To summarize, here are your SEEDS for each category:\n",
      "\n",
      "**Sleep**:\n",
      "1. Be in bed by 9:30 pm.\n",
      "2. Turn off your cell phone by 8 pm.\n",
      "3. Avoid caffeine after 2 pm.\n",
      "\n",
      "**Exercise**:\n",
      "1. Walk outside for 10 minutes before 9:30 am.\n",
      "2. Do 10 push-ups while the coffee is brewing.\n",
      "3. Take the stairs instead of the elevator.\n",
      "\n",
      "**Eating**:\n",
      "1. Eat lunch with chopsticks (to slow down eating).\n",
      "2. Eat 50g of protein with every meal.\n",
      "3. Finish eating for the day by 5 pm.\n",
      "\n",
      "**Drinking**:\n",
      "1. Don't drink out of anything plastic.\n",
      "2. Drink fizzy water from 6-8pm (for booze cravings).\n",
      "3. Drink at least 8 glasses of water a day.\n",
      "\n",
      "**Stress management**:\n",
      "1. Write down three tiny things you've been grateful for today.\n",
      "2. Do the \"leaves on a stream\" or \"open focus\" exercises.\n",
      "3. Take a 10-minute walk outside during your lunch break.\n",
      "\n",
      "Are these correct, Chris?\u001b[0m\n",
      "\n",
      "\u001b[1m> Finished chain.\u001b[0m\n",
      "Great choices, Chris! So, for Stress management, your SEEDS are:\n",
      "\n",
      "1. Write down three tiny things you've been grateful for today.\n",
      "2. Do the \"leaves on a stream\" or \"open focus\" exercises.\n",
      "3. Take a 10-minute walk outside during your lunch break.\n",
      "\n",
      "To summarize, here are your SEEDS for each category:\n",
      "\n",
      "**Sleep**:\n",
      "1. Be in bed by 9:30 pm.\n",
      "2. Turn off your cell phone by 8 pm.\n",
      "3. Avoid caffeine after 2 pm.\n",
      "\n",
      "**Exercise**:\n",
      "1. Walk outside for 10 minutes before 9:30 am.\n",
      "2. Do 10 push-ups while the coffee is brewing.\n",
      "3. Take the stairs instead of the elevator.\n",
      "\n",
      "**Eating**:\n",
      "1. Eat lunch with chopsticks (to slow down eating).\n",
      "2. Eat 50g of protein with every meal.\n",
      "3. Finish eating for the day by 5 pm.\n",
      "\n",
      "**Drinking**:\n",
      "1. Don't drink out of anything plastic.\n",
      "2. Drink fizzy water from 6-8pm (for booze cravings).\n",
      "3. Drink at least 8 glasses of water a day.\n",
      "\n",
      "**Stress management**:\n",
      "1. Write down three tiny things you've been grateful for today.\n",
      "2. Do the \"leaves on a stream\" or \"open focus\" exercises.\n",
      "3. Take a 10-minute walk outside during your lunch break.\n",
      "\n",
      "Are these correct, Chris?\n"
     ]
    },
    {
     "data": {
      "text/plain": [
       "False"
      ]
     },
     "execution_count": 16,
     "metadata": {},
     "output_type": "execute_result"
    }
   ],
   "source": [
    "x(\"1, 2 and 4\")"
   ]
  },
  {
   "cell_type": "code",
   "execution_count": 18,
   "id": "876ebe97-7dd2-48b8-9c9e-55ace4f72350",
   "metadata": {
    "collapsed": true,
    "jupyter": {
     "outputs_hidden": true
    }
   },
   "outputs": [
    {
     "name": "stdout",
     "output_type": "stream",
     "text": [
      "\n",
      "\n",
      "\u001b[1m> Entering new AgentExecutor chain...\u001b[0m\n",
      "\u001b[32;1m\u001b[1;3mOf course, Chris! Here's the updated list:\n",
      "\n",
      "Sleep:\n",
      "1. Be in bed by 9:30 pm.\n",
      "2. Turn off your cell phone by 8 pm.\n",
      "3. Avoid caffeine after 2 pm.\n",
      "\n",
      "Exercise:\n",
      "1. Do 10 push-ups while the coffee is brewing.\n",
      "2. Walk outside for 10 minutes before 9:30 am.\n",
      "3. Take the stairs instead of the elevator.\n",
      "\n",
      "Eating:\n",
      "1. Eat lunch with chopsticks (to slow down eating).\n",
      "2. Include 50g of protein at every meal.\n",
      "3. Finish eating by 5 pm.\n",
      "\n",
      "Drinking:\n",
      "1. Drink fizzy water from 6-8pm (for booze cravings).\n",
      "2. Don't drink out of anything plastic.\n",
      "3. Drink a glass of water first thing in the morning.\n",
      "\n",
      "Stress Management:\n",
      "1. Write down three tiny things you've been grateful for today.\n",
      "2. Listen to a meditation app for 10 minutes.\n",
      "3. Practice the leaves on a stream exercise.\n",
      "\n",
      "Does this look correct now?\u001b[0m\n",
      "\n",
      "\u001b[1m> Finished chain.\u001b[0m\n",
      "Of course, Chris! Here's the updated list:\n",
      "\n",
      "Sleep:\n",
      "1. Be in bed by 9:30 pm.\n",
      "2. Turn off your cell phone by 8 pm.\n",
      "3. Avoid caffeine after 2 pm.\n",
      "\n",
      "Exercise:\n",
      "1. Do 10 push-ups while the coffee is brewing.\n",
      "2. Walk outside for 10 minutes before 9:30 am.\n",
      "3. Take the stairs instead of the elevator.\n",
      "\n",
      "Eating:\n",
      "1. Eat lunch with chopsticks (to slow down eating).\n",
      "2. Include 50g of protein at every meal.\n",
      "3. Finish eating by 5 pm.\n",
      "\n",
      "Drinking:\n",
      "1. Drink fizzy water from 6-8pm (for booze cravings).\n",
      "2. Don't drink out of anything plastic.\n",
      "3. Drink a glass of water first thing in the morning.\n",
      "\n",
      "Stress Management:\n",
      "1. Write down three tiny things you've been grateful for today.\n",
      "2. Listen to a meditation app for 10 minutes.\n",
      "3. Practice the leaves on a stream exercise.\n",
      "\n",
      "Does this look correct now?\n"
     ]
    },
    {
     "data": {
      "text/plain": [
       "False"
      ]
     },
     "execution_count": 18,
     "metadata": {},
     "output_type": "execute_result"
    }
   ],
   "source": [
    "x(\"actually, change 2 in exercise to before 9:30 am\")"
   ]
  },
  {
   "cell_type": "code",
   "execution_count": 17,
   "id": "aaeb379c-f311-47a0-bcab-6b94bc7ee84c",
   "metadata": {},
   "outputs": [
    {
     "name": "stdout",
     "output_type": "stream",
     "text": [
      "\n",
      "\n",
      "\u001b[1m> Entering new AgentExecutor chain...\u001b[0m\n",
      "\u001b[32;1m\u001b[1;3mFantastic, Chris! I'm glad you're happy with your SEEDS. Remember, the goal is to make these small behaviors a part of your daily routine. Over time, they can contribute significantly to your overall health and well-being. Keep track of your progress and feel free to adjust as needed. You're on your way to cultivating some great habits! 🚀🚀🚀\u001b[0m\n",
      "\n",
      "\u001b[1m> Finished chain.\u001b[0m\n",
      "Fantastic, Chris! I'm glad you're happy with your SEEDS. Remember, the goal is to make these small behaviors a part of your daily routine. Over time, they can contribute significantly to your overall health and well-being. Keep track of your progress and feel free to adjust as needed. You're on your way to cultivating some great habits! 🚀🚀🚀\n"
     ]
    },
    {
     "data": {
      "text/plain": [
       "True"
      ]
     },
     "execution_count": 17,
     "metadata": {},
     "output_type": "execute_result"
    }
   ],
   "source": [
    "x(\"yeah, that's great\")"
   ]
  },
  {
   "cell_type": "markdown",
   "id": "13a42bd8-13bb-4198-a626-40f561ba6375",
   "metadata": {},
   "source": [
    "# Track SEEDS"
   ]
  },
  {
   "cell_type": "code",
   "execution_count": 9,
   "id": "759ca09b-fc6e-481f-bda0-d1e58b191990",
   "metadata": {},
   "outputs": [
    {
     "name": "stdout",
     "output_type": "stream",
     "text": [
      "get_agent len(tools)=10\n",
      "load_memory filename='/Users/cck197/Downloads/virtual_greg/memory.pkl'\n"
     ]
    },
    {
     "data": {
      "text/markdown": [
       "Hello again, Chris! How are you feeling today?"
      ],
      "text/plain": [
       "<IPython.core.display.Markdown object>"
      ]
     },
     "metadata": {},
     "output_type": "display_data"
    }
   ],
   "source": [
    "x = X(goals[\"seeds_entry\"])#, audio=True)"
   ]
  },
  {
   "cell_type": "code",
   "execution_count": 10,
   "id": "4b02ff26-5548-435b-9f18-733cc2bc16e9",
   "metadata": {},
   "outputs": [
    {
     "data": {
      "text/markdown": [
       "That's good to hear, Chris. Is now a good time for you to record a SEEDS diary entry?"
      ],
      "text/plain": [
       "<IPython.core.display.Markdown object>"
      ]
     },
     "metadata": {},
     "output_type": "display_data"
    },
    {
     "data": {
      "text/plain": [
       "\"That's good to hear, Chris. Is now a good time for you to record a SEEDS diary entry?\""
      ]
     },
     "execution_count": 10,
     "metadata": {},
     "output_type": "execute_result"
    }
   ],
   "source": [
    "x(\"not bad\")"
   ]
  },
  {
   "cell_type": "code",
   "execution_count": 11,
   "id": "c868aad4-f8c6-4a19-b225-78b117d1495d",
   "metadata": {},
   "outputs": [
    {
     "data": {
      "text/markdown": [
       "Great! Let's start with the Sleep pillar. Did you manage to be in bed by 9.30 pm and turn off your cell phone by 8 pm?"
      ],
      "text/plain": [
       "<IPython.core.display.Markdown object>"
      ]
     },
     "metadata": {},
     "output_type": "display_data"
    },
    {
     "data": {
      "text/plain": [
       "\"Great! Let's start with the Sleep pillar. Did you manage to be in bed by 9.30 pm and turn off your cell phone by 8 pm?\""
      ]
     },
     "execution_count": 11,
     "metadata": {},
     "output_type": "execute_result"
    }
   ],
   "source": [
    "x(\"fine\")"
   ]
  },
  {
   "cell_type": "code",
   "execution_count": 12,
   "id": "c9b9deea-53c1-4faf-a7eb-590e5136b34b",
   "metadata": {},
   "outputs": [
    {
     "data": {
      "text/markdown": [
       "That's fantastic, Chris! So, to confirm, you managed to:\n",
       "\n",
       "Sleep:\n",
       "- Be in bed by 9.30 pm.\n",
       "- Turn off your cell phone by 8 pm.\n",
       "\n",
       "Exercise:\n",
       "- Walk outside for 10 ten minutes before 9:30 am.\n",
       "- Do 10 push-ups while the coffee is brewing.\n",
       "\n",
       "Eating:\n",
       "- Eat one meal with chopsticks (to slow down eating).\n",
       "- Eat 50g of protein with every meal.\n",
       "\n",
       "Drinking:\n",
       "- Don't drink out of anything plastic.\n",
       "- Drink fizzy water from 6-8 pm (for booze cravings).\n",
       "\n",
       "Stress management:\n",
       "- Write down three tiny things you've been grateful for today.\n",
       "- No caffeine after 12 pm.\n",
       "- Do the \"leaves on a stream\" or \"open focus\" exercises.\n",
       "\n",
       "Is this correct?"
      ],
      "text/plain": [
       "<IPython.core.display.Markdown object>"
      ]
     },
     "metadata": {},
     "output_type": "display_data"
    },
    {
     "data": {
      "text/plain": [
       "'That\\'s fantastic, Chris! So, to confirm, you managed to:\\n\\nSleep:\\n- Be in bed by 9.30 pm.\\n- Turn off your cell phone by 8 pm.\\n\\nExercise:\\n- Walk outside for 10 ten minutes before 9:30 am.\\n- Do 10 push-ups while the coffee is brewing.\\n\\nEating:\\n- Eat one meal with chopsticks (to slow down eating).\\n- Eat 50g of protein with every meal.\\n\\nDrinking:\\n- Don\\'t drink out of anything plastic.\\n- Drink fizzy water from 6-8 pm (for booze cravings).\\n\\nStress management:\\n- Write down three tiny things you\\'ve been grateful for today.\\n- No caffeine after 12 pm.\\n- Do the \"leaves on a stream\" or \"open focus\" exercises.\\n\\nIs this correct?'"
      ]
     },
     "execution_count": 12,
     "metadata": {},
     "output_type": "execute_result"
    }
   ],
   "source": [
    "x(\"actually I got everything done in all the categories\")"
   ]
  },
  {
   "cell_type": "code",
   "execution_count": 13,
   "id": "08b9f713-09eb-4b7d-b30e-576b67b65d4e",
   "metadata": {},
   "outputs": [
    {
     "data": {
      "text/markdown": [
       "That's excellent, Chris! You've managed to complete all your SEEDS for the day. That's a perfect score of 15/15. Keep up the great work! Remember, these small daily habits can make a big difference in your overall health and well-being. 🚀🚀🚀"
      ],
      "text/plain": [
       "<IPython.core.display.Markdown object>"
      ]
     },
     "metadata": {},
     "output_type": "display_data"
    },
    {
     "data": {
      "text/plain": [
       "\"That's excellent, Chris! You've managed to complete all your SEEDS for the day. That's a perfect score of 15/15. Keep up the great work! Remember, these small daily habits can make a big difference in your overall health and well-being. 🚀🚀🚀\""
      ]
     },
     "execution_count": 13,
     "metadata": {},
     "output_type": "execute_result"
    }
   ],
   "source": [
    "x(\"yep\")"
   ]
  },
  {
   "cell_type": "code",
   "execution_count": 31,
   "id": "860b3e4f-dee9-4173-a0a3-811c3a3602fd",
   "metadata": {},
   "outputs": [
    {
     "name": "stdout",
     "output_type": "stream",
     "text": [
      "\n",
      "\n",
      "\u001b[1m> Entering new AgentExecutor chain...\u001b[0m\n",
      "\u001b[32;1m\u001b[1;3mFantastic! Let's start with Sleep. Today, did you manage to:\n",
      "\n",
      "1. Be in bed by 9:30 pm?\n",
      "2. Turn off your cell phone by 8 pm?\n",
      "3. Avoid caffeine after 2 pm?\u001b[0m\n",
      "\n",
      "\u001b[1m> Finished chain.\u001b[0m\n",
      "Fantastic! Let's start with Sleep. Today, did you manage to:\n",
      "\n",
      "1. Be in bed by 9:30 pm?\n",
      "2. Turn off your cell phone by 8 pm?\n",
      "3. Avoid caffeine after 2 pm?\n"
     ]
    },
    {
     "data": {
      "text/plain": [
       "False"
      ]
     },
     "execution_count": 31,
     "metadata": {},
     "output_type": "execute_result"
    }
   ],
   "source": [
    "x(\"sure\")"
   ]
  },
  {
   "cell_type": "code",
   "execution_count": 32,
   "id": "8f822b27-f0cd-41c3-8640-79ba72f0b533",
   "metadata": {},
   "outputs": [
    {
     "name": "stdout",
     "output_type": "stream",
     "text": [
      "\n",
      "\n",
      "\u001b[1m> Entering new AgentExecutor chain...\u001b[0m\n",
      "\u001b[32;1m\u001b[1;3mThat's fantastic, Chris! You're doing a great job with your sleep habits. \n",
      "\n",
      "Now, let's move on to Exercise. Today, did you manage to:\n",
      "\n",
      "1. Do 10 push-ups while the coffee was brewing?\n",
      "2. Walk outside for 10 minutes before 9:30 am?\n",
      "3. Take the stairs instead of the elevator?\u001b[0m\n",
      "\n",
      "\u001b[1m> Finished chain.\u001b[0m\n",
      "That's fantastic, Chris! You're doing a great job with your sleep habits. \n",
      "\n",
      "Now, let's move on to Exercise. Today, did you manage to:\n",
      "\n",
      "1. Do 10 push-ups while the coffee was brewing?\n",
      "2. Walk outside for 10 minutes before 9:30 am?\n",
      "3. Take the stairs instead of the elevator?\n"
     ]
    },
    {
     "data": {
      "text/plain": [
       "False"
      ]
     },
     "execution_count": 32,
     "metadata": {},
     "output_type": "execute_result"
    }
   ],
   "source": [
    "x(\"yep\")"
   ]
  },
  {
   "cell_type": "code",
   "execution_count": 33,
   "id": "6795c3f6-decb-4b11-9ae0-a0f5356acd98",
   "metadata": {},
   "outputs": [
    {
     "name": "stdout",
     "output_type": "stream",
     "text": [
      "\n",
      "\n",
      "\u001b[1m> Entering new AgentExecutor chain...\u001b[0m\n",
      "\u001b[32;1m\u001b[1;3mOf course, Chris! Here are your SEEDS:\n",
      "\n",
      "Sleep:\n",
      "1. Be in bed by 9:30 pm.\n",
      "2. Turn off your cell phone by 8 pm.\n",
      "3. Avoid caffeine after 2 pm.\n",
      "\n",
      "Exercise:\n",
      "1. Do 10 push-ups while the coffee is brewing.\n",
      "2. Walk outside for 10 minutes before 9:30 am.\n",
      "3. Take the stairs instead of the elevator.\n",
      "\n",
      "Eating:\n",
      "1. Eat lunch with chopsticks (to slow down eating).\n",
      "2. Include 50g of protein at every meal.\n",
      "3. Finish eating by 5 pm.\n",
      "\n",
      "Drinking:\n",
      "1. Drink fizzy water from 6-8pm (for booze cravings).\n",
      "2. Don't drink out of anything plastic.\n",
      "3. Drink a glass of water first thing in the morning.\n",
      "\n",
      "Stress Management:\n",
      "1. Write down three tiny things you've been grateful for today.\n",
      "2. Listen to a meditation app for 10 minutes.\n",
      "3. Practice the leaves on a stream exercise.\n",
      "\n",
      "Now, let's continue with the diary entry. For Exercise, did you manage to do the three things listed above today?\u001b[0m\n",
      "\n",
      "\u001b[1m> Finished chain.\u001b[0m\n",
      "Of course, Chris! Here are your SEEDS:\n",
      "\n",
      "Sleep:\n",
      "1. Be in bed by 9:30 pm.\n",
      "2. Turn off your cell phone by 8 pm.\n",
      "3. Avoid caffeine after 2 pm.\n",
      "\n",
      "Exercise:\n",
      "1. Do 10 push-ups while the coffee is brewing.\n",
      "2. Walk outside for 10 minutes before 9:30 am.\n",
      "3. Take the stairs instead of the elevator.\n",
      "\n",
      "Eating:\n",
      "1. Eat lunch with chopsticks (to slow down eating).\n",
      "2. Include 50g of protein at every meal.\n",
      "3. Finish eating by 5 pm.\n",
      "\n",
      "Drinking:\n",
      "1. Drink fizzy water from 6-8pm (for booze cravings).\n",
      "2. Don't drink out of anything plastic.\n",
      "3. Drink a glass of water first thing in the morning.\n",
      "\n",
      "Stress Management:\n",
      "1. Write down three tiny things you've been grateful for today.\n",
      "2. Listen to a meditation app for 10 minutes.\n",
      "3. Practice the leaves on a stream exercise.\n",
      "\n",
      "Now, let's continue with the diary entry. For Exercise, did you manage to do the three things listed above today?\n"
     ]
    },
    {
     "data": {
      "text/plain": [
       "False"
      ]
     },
     "execution_count": 33,
     "metadata": {},
     "output_type": "execute_result"
    }
   ],
   "source": [
    "x(\"summarise my SEEDS\")"
   ]
  },
  {
   "cell_type": "code",
   "execution_count": 34,
   "id": "77e88132-b1ec-44cb-99e0-68cef7233db3",
   "metadata": {},
   "outputs": [
    {
     "name": "stdout",
     "output_type": "stream",
     "text": [
      "\n",
      "\n",
      "\u001b[1m> Entering new AgentExecutor chain...\u001b[0m\n",
      "\u001b[32;1m\u001b[1;3mThat's fantastic that you managed to do the push-ups and the walk, Chris! Well done on taking those steps towards your fitness goals. It's perfectly okay that you didn't take the stairs. Remember, it's about progress, not perfection. \n",
      "\n",
      "Now, let's move on to Eating. Today, did you manage to:\n",
      "\n",
      "1. Eat lunch with chopsticks (to slow down eating)?\n",
      "2. Include 50g of protein at every meal?\n",
      "3. Finish eating by 5 pm?\u001b[0m\n",
      "\n",
      "\u001b[1m> Finished chain.\u001b[0m\n",
      "That's fantastic that you managed to do the push-ups and the walk, Chris! Well done on taking those steps towards your fitness goals. It's perfectly okay that you didn't take the stairs. Remember, it's about progress, not perfection. \n",
      "\n",
      "Now, let's move on to Eating. Today, did you manage to:\n",
      "\n",
      "1. Eat lunch with chopsticks (to slow down eating)?\n",
      "2. Include 50g of protein at every meal?\n",
      "3. Finish eating by 5 pm?\n"
     ]
    },
    {
     "data": {
      "text/plain": [
       "False"
      ]
     },
     "execution_count": 34,
     "metadata": {},
     "output_type": "execute_result"
    }
   ],
   "source": [
    "x(\"I did 1 and 2 but not 3\")"
   ]
  },
  {
   "cell_type": "code",
   "execution_count": 35,
   "id": "a4373c97-3dfd-46f8-ba40-b33dc988c2b6",
   "metadata": {},
   "outputs": [
    {
     "name": "stdout",
     "output_type": "stream",
     "text": [
      "\n",
      "\n",
      "\u001b[1m> Entering new AgentExecutor chain...\u001b[0m\n",
      "\u001b[32;1m\u001b[1;3mThat's still great, Chris! Including 50g of protein at every meal and finishing eating by 5 pm are both excellent habits for your health. Don't worry about not eating lunch with chopsticks today. Remember, every step you take towards your goals counts.\n",
      "\n",
      "Now, let's move on to Drinking. Today, did you manage to:\n",
      "\n",
      "1. Drink fizzy water from 6-8pm (for booze cravings)?\n",
      "2. Don't drink out of anything plastic?\n",
      "3. Drink a glass of water first thing in the morning?\u001b[0m\n",
      "\n",
      "\u001b[1m> Finished chain.\u001b[0m\n",
      "That's still great, Chris! Including 50g of protein at every meal and finishing eating by 5 pm are both excellent habits for your health. Don't worry about not eating lunch with chopsticks today. Remember, every step you take towards your goals counts.\n",
      "\n",
      "Now, let's move on to Drinking. Today, did you manage to:\n",
      "\n",
      "1. Drink fizzy water from 6-8pm (for booze cravings)?\n",
      "2. Don't drink out of anything plastic?\n",
      "3. Drink a glass of water first thing in the morning?\n"
     ]
    },
    {
     "data": {
      "text/plain": [
       "False"
      ]
     },
     "execution_count": 35,
     "metadata": {},
     "output_type": "execute_result"
    }
   ],
   "source": [
    "x(\"I did 2 and 3 only\")"
   ]
  },
  {
   "cell_type": "code",
   "execution_count": 36,
   "id": "d71ab247-cb0f-456a-89c4-41bf9a429f66",
   "metadata": {},
   "outputs": [
    {
     "name": "stdout",
     "output_type": "stream",
     "text": [
      "\n",
      "\n",
      "\u001b[1m> Entering new AgentExecutor chain...\u001b[0m\n",
      "\u001b[32;1m\u001b[1;3mThat's excellent, Chris! You're doing a great job with your drinking habits. \n",
      "\n",
      "Finally, let's discuss Stress Management. Today, did you manage to:\n",
      "\n",
      "1. Write down three tiny things you've been grateful for today?\n",
      "2. Listen to a meditation app for 10 minutes?\n",
      "3. Practice the leaves on a stream exercise?\u001b[0m\n",
      "\n",
      "\u001b[1m> Finished chain.\u001b[0m\n",
      "That's excellent, Chris! You're doing a great job with your drinking habits. \n",
      "\n",
      "Finally, let's discuss Stress Management. Today, did you manage to:\n",
      "\n",
      "1. Write down three tiny things you've been grateful for today?\n",
      "2. Listen to a meditation app for 10 minutes?\n",
      "3. Practice the leaves on a stream exercise?\n"
     ]
    },
    {
     "data": {
      "text/plain": [
       "False"
      ]
     },
     "execution_count": 36,
     "metadata": {},
     "output_type": "execute_result"
    }
   ],
   "source": [
    "x(\"yep!\")"
   ]
  },
  {
   "cell_type": "code",
   "execution_count": 37,
   "id": "9505eb46-28fe-4c7f-b190-830fafe0f13d",
   "metadata": {},
   "outputs": [
    {
     "name": "stdout",
     "output_type": "stream",
     "text": [
      "\n",
      "\n",
      "\u001b[1m> Entering new AgentExecutor chain...\u001b[0m\n",
      "\u001b[32;1m\u001b[1;3mThat's still a great achievement, Chris! Practicing the leaves on a stream exercise is a wonderful way to manage stress. Remember, every step you take towards your goals is a victory.\n",
      "\n",
      "To summarize, today you managed to:\n",
      "\n",
      "Sleep:\n",
      "1. Be in bed by 9:30 pm.\n",
      "2. Turn off your cell phone by 8 pm.\n",
      "3. Avoid caffeine after 2 pm.\n",
      "\n",
      "Exercise:\n",
      "1. Do 10 push-ups while the coffee was brewing.\n",
      "2. Walk outside for 10 minutes before 9:30 am.\n",
      "\n",
      "Eating:\n",
      "1. Include 50g of protein at every meal.\n",
      "2. Finish eating by 5 pm.\n",
      "\n",
      "Drinking:\n",
      "1. Drink fizzy water from 6-8pm (for booze cravings).\n",
      "2. Don't drink out of anything plastic.\n",
      "3. Drink a glass of water first thing in the morning.\n",
      "\n",
      "Stress Management:\n",
      "1. Practice the leaves on a stream exercise.\n",
      "\n",
      "That's 11 out of 15 SEEDS completed today. Well done, Chris! Is this summary correct?\u001b[0m\n",
      "\n",
      "\u001b[1m> Finished chain.\u001b[0m\n",
      "That's still a great achievement, Chris! Practicing the leaves on a stream exercise is a wonderful way to manage stress. Remember, every step you take towards your goals is a victory.\n",
      "\n",
      "To summarize, today you managed to:\n",
      "\n",
      "Sleep:\n",
      "1. Be in bed by 9:30 pm.\n",
      "2. Turn off your cell phone by 8 pm.\n",
      "3. Avoid caffeine after 2 pm.\n",
      "\n",
      "Exercise:\n",
      "1. Do 10 push-ups while the coffee was brewing.\n",
      "2. Walk outside for 10 minutes before 9:30 am.\n",
      "\n",
      "Eating:\n",
      "1. Include 50g of protein at every meal.\n",
      "2. Finish eating by 5 pm.\n",
      "\n",
      "Drinking:\n",
      "1. Drink fizzy water from 6-8pm (for booze cravings).\n",
      "2. Don't drink out of anything plastic.\n",
      "3. Drink a glass of water first thing in the morning.\n",
      "\n",
      "Stress Management:\n",
      "1. Practice the leaves on a stream exercise.\n",
      "\n",
      "That's 11 out of 15 SEEDS completed today. Well done, Chris! Is this summary correct?\n"
     ]
    },
    {
     "data": {
      "text/plain": [
       "False"
      ]
     },
     "execution_count": 37,
     "metadata": {},
     "output_type": "execute_result"
    }
   ],
   "source": [
    "x(\"just 3\")"
   ]
  },
  {
   "cell_type": "code",
   "execution_count": 38,
   "id": "b76efc24-3406-48c2-a33b-65628e4b98da",
   "metadata": {},
   "outputs": [
    {
     "name": "stdout",
     "output_type": "stream",
     "text": [
      "\n",
      "\n",
      "\u001b[1m> Entering new AgentExecutor chain...\u001b[0m\n",
      "\u001b[32;1m\u001b[1;3mThank you for the clarification, Chris. \n",
      "\n",
      "So, today you managed to:\n",
      "\n",
      "Sleep:\n",
      "1. Be in bed by 9:30 pm.\n",
      "2. Turn off your cell phone by 8 pm.\n",
      "3. Avoid caffeine after 2 pm.\n",
      "\n",
      "Exercise:\n",
      "1. Do 10 push-ups while the coffee was brewing.\n",
      "2. Walk outside for 10 minutes before 9:30 am.\n",
      "\n",
      "Eating:\n",
      "1. Include 50g of protein at every meal.\n",
      "2. Finish eating by 5 pm.\n",
      "\n",
      "Drinking:\n",
      "1. Drink fizzy water from 6-8pm (for booze cravings).\n",
      "2. Drink a glass of water first thing in the morning.\n",
      "\n",
      "Stress Management:\n",
      "1. Practice the leaves on a stream exercise.\n",
      "\n",
      "That's 10 out of 15 SEEDS completed today. Well done, Chris! Is this summary correct now?\u001b[0m\n",
      "\n",
      "\u001b[1m> Finished chain.\u001b[0m\n",
      "Thank you for the clarification, Chris. \n",
      "\n",
      "So, today you managed to:\n",
      "\n",
      "Sleep:\n",
      "1. Be in bed by 9:30 pm.\n",
      "2. Turn off your cell phone by 8 pm.\n",
      "3. Avoid caffeine after 2 pm.\n",
      "\n",
      "Exercise:\n",
      "1. Do 10 push-ups while the coffee was brewing.\n",
      "2. Walk outside for 10 minutes before 9:30 am.\n",
      "\n",
      "Eating:\n",
      "1. Include 50g of protein at every meal.\n",
      "2. Finish eating by 5 pm.\n",
      "\n",
      "Drinking:\n",
      "1. Drink fizzy water from 6-8pm (for booze cravings).\n",
      "2. Drink a glass of water first thing in the morning.\n",
      "\n",
      "Stress Management:\n",
      "1. Practice the leaves on a stream exercise.\n",
      "\n",
      "That's 10 out of 15 SEEDS completed today. Well done, Chris! Is this summary correct now?\n"
     ]
    },
    {
     "data": {
      "text/plain": [
       "False"
      ]
     },
     "execution_count": 38,
     "metadata": {},
     "output_type": "execute_result"
    }
   ],
   "source": [
    "x(\"actually no, I did drink out a plastic bottle\")"
   ]
  },
  {
   "cell_type": "code",
   "execution_count": 39,
   "id": "dee45ac4-3a45-4baf-a8b6-a1d7dc07e99b",
   "metadata": {},
   "outputs": [
    {
     "name": "stdout",
     "output_type": "stream",
     "text": [
      "\n",
      "\n",
      "\u001b[1m> Entering new AgentExecutor chain...\u001b[0m\n",
      "\u001b[32;1m\u001b[1;3mGreat! You've done an excellent job today, Chris. Remember, it's all about making small, consistent changes. You've completed 10 out of 15 SEEDS today, which is a fantastic achievement. Keep up the good work! 🚀🚀🚀\u001b[0m\n",
      "\n",
      "\u001b[1m> Finished chain.\u001b[0m\n",
      "Great! You've done an excellent job today, Chris. Remember, it's all about making small, consistent changes. You've completed 10 out of 15 SEEDS today, which is a fantastic achievement. Keep up the good work! 🚀🚀🚀\n"
     ]
    },
    {
     "data": {
      "text/plain": [
       "True"
      ]
     },
     "execution_count": 39,
     "metadata": {},
     "output_type": "execute_result"
    }
   ],
   "source": [
    "x(\"yep that's right\")"
   ]
  },
  {
   "cell_type": "code",
   "execution_count": 40,
   "id": "738a8ac9-9dbe-4dd4-b269-a1bdcadfd1e3",
   "metadata": {},
   "outputs": [],
   "source": [
    "x.save_memory(memory_filename)"
   ]
  },
  {
   "cell_type": "code",
   "execution_count": null,
   "id": "af3ee154-f9ff-437a-bf73-af1de2d48821",
   "metadata": {},
   "outputs": [],
   "source": []
  }
 ],
 "metadata": {
  "kernelspec": {
   "display_name": "Python 3 (ipykernel)",
   "language": "python",
   "name": "python3"
  },
  "language_info": {
   "codemirror_mode": {
    "name": "ipython",
    "version": 3
   },
   "file_extension": ".py",
   "mimetype": "text/x-python",
   "name": "python",
   "nbconvert_exporter": "python",
   "pygments_lexer": "ipython3",
   "version": "3.11.5"
  }
 },
 "nbformat": 4,
 "nbformat_minor": 5
}
