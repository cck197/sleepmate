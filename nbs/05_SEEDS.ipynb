{
 "cells": [
  {
   "cell_type": "code",
   "execution_count": 1,
   "id": "b8de2330-3ba1-488b-8290-d1ab59e571ea",
   "metadata": {},
   "outputs": [],
   "source": [
    "from sleepmate.agent import *\n",
    "from sleepmate.seeds import *\n",
    "from sleepmate.mi import SYSTEM_DESCRIPTION"
   ]
  },
  {
   "cell_type": "code",
   "execution_count": 2,
   "id": "89bebe96-f6f1-4613-a28e-cb05ea9870cf",
   "metadata": {},
   "outputs": [],
   "source": [
    "import langchain; langchain.verbose = True# langchain.debug = True"
   ]
  },
  {
   "cell_type": "code",
   "execution_count": 3,
   "id": "d6e0a36e-cabe-46ae-8b4d-b3a495eb2804",
   "metadata": {},
   "outputs": [],
   "source": [
    "memory_filename = \"/Users/cck197/Downloads/memory.pkl\"\n",
    "memory = X.load_memory(memory_filename)"
   ]
  },
  {
   "cell_type": "markdown",
   "id": "b5f7edee-6150-42ad-9897-b2776077f9ef",
   "metadata": {},
   "source": [
    "# Define SEEDS"
   ]
  },
  {
   "cell_type": "code",
   "execution_count": 4,
   "id": "4980fa31-3f78-48ad-a417-d6eda05bc6b9",
   "metadata": {},
   "outputs": [
    {
     "name": "stdout",
     "output_type": "stream",
     "text": [
      "get_agent len(tools)=7\n"
     ]
    }
   ],
   "source": [
    "x = X(SYSTEM_DESCRIPTION, SEEDS_GOAL_PROMPTS[0], memory=memory)"
   ]
  },
  {
   "cell_type": "code",
   "execution_count": 5,
   "id": "e97192be-0355-4cf2-98da-6d448a6d0b38",
   "metadata": {},
   "outputs": [
    {
     "name": "stdout",
     "output_type": "stream",
     "text": [
      "\n",
      "\n",
      "\u001b[1m> Entering new AgentExecutor chain...\u001b[0m\n",
      "\u001b[32;1m\u001b[1;3mHello! How are you feeling today? May I know your name?\u001b[0m\n",
      "\n",
      "\u001b[1m> Finished chain.\u001b[0m\n",
      "Hello! How are you feeling today? May I know your name?\n"
     ]
    },
    {
     "data": {
      "text/plain": [
       "False"
      ]
     },
     "execution_count": 5,
     "metadata": {},
     "output_type": "execute_result"
    }
   ],
   "source": [
    "x(\"hey\")"
   ]
  },
  {
   "cell_type": "code",
   "execution_count": 6,
   "id": "4ec60b0a-78b8-4015-bd41-ae50df4497fb",
   "metadata": {},
   "outputs": [
    {
     "name": "stdout",
     "output_type": "stream",
     "text": [
      "\n",
      "\n",
      "\u001b[1m> Entering new AgentExecutor chain...\u001b[0m\n",
      "\u001b[32;1m\u001b[1;3mNice to meet you, Chris. I'm glad to hear that you're feeling good. Today, I'd like to introduce you to an exercise called SEEDS, created by Simon Marshall, PhD. It's a simple yet effective way to improve your overall health. Would you be interested in learning more about it?\u001b[0m\n",
      "\n",
      "\u001b[1m> Finished chain.\u001b[0m\n",
      "Nice to meet you, Chris. I'm glad to hear that you're feeling good. Today, I'd like to introduce you to an exercise called SEEDS, created by Simon Marshall, PhD. It's a simple yet effective way to improve your overall health. Would you be interested in learning more about it?\n"
     ]
    },
    {
     "data": {
      "text/plain": [
       "False"
      ]
     },
     "execution_count": 6,
     "metadata": {},
     "output_type": "execute_result"
    }
   ],
   "source": [
    "x(\"pretty good, Chris.\")"
   ]
  },
  {
   "cell_type": "code",
   "execution_count": 7,
   "id": "e0081a53-0e98-4008-bf76-6bdb44fba99e",
   "metadata": {},
   "outputs": [
    {
     "name": "stdout",
     "output_type": "stream",
     "text": [
      "\n",
      "\n",
      "\u001b[1m> Entering new AgentExecutor chain...\u001b[0m\n",
      "\u001b[32;1m\u001b[1;3mGreat! SEEDS stands for Sleep, Exercise, Eating, Drinking, and Stress management. These are the pillars of good health. The idea is to plant small SEEDS (i.e., behaviors that are good for you) and water them every day so they can take root (i.e., become habits that you don't have to constantly think about). \n",
      "\n",
      "For each of these pillars, we'll think of a tiny thing that you can do to contribute to it. The focus is on small, achievable behaviors, not grandiose, aspirational intentions. The goal is to build the correct mindset and contribute to knock-on effects on other changes in that Pillar. \n",
      "\n",
      "Let's start with Sleep. Can you think of a small, achievable behavior that could improve your sleep? For example, \"Be in bed by 9.30pm\" or \"Turn off my cell phone by 8pm\".\u001b[0m\n",
      "\n",
      "\u001b[1m> Finished chain.\u001b[0m\n",
      "Great! SEEDS stands for Sleep, Exercise, Eating, Drinking, and Stress management. These are the pillars of good health. The idea is to plant small SEEDS (i.e., behaviors that are good for you) and water them every day so they can take root (i.e., become habits that you don't have to constantly think about). \n",
      "\n",
      "For each of these pillars, we'll think of a tiny thing that you can do to contribute to it. The focus is on small, achievable behaviors, not grandiose, aspirational intentions. The goal is to build the correct mindset and contribute to knock-on effects on other changes in that Pillar. \n",
      "\n",
      "Let's start with Sleep. Can you think of a small, achievable behavior that could improve your sleep? For example, \"Be in bed by 9.30pm\" or \"Turn off my cell phone by 8pm\".\n"
     ]
    },
    {
     "data": {
      "text/plain": [
       "False"
      ]
     },
     "execution_count": 7,
     "metadata": {},
     "output_type": "execute_result"
    }
   ],
   "source": [
    "x(\"yep\")"
   ]
  },
  {
   "cell_type": "code",
   "execution_count": 8,
   "id": "8e50c4ec-a922-4922-a56d-534657922686",
   "metadata": {},
   "outputs": [
    {
     "name": "stdout",
     "output_type": "stream",
     "text": [
      "\n",
      "\n",
      "\u001b[1m> Entering new AgentExecutor chain...\u001b[0m\n",
      "\u001b[32;1m\u001b[1;3mAbsolutely, Chris. Here are some examples of small, achievable behaviors for each pillar:\n",
      "\n",
      "1. Sleep: \n",
      "   - Be in bed by 9.30pm.\n",
      "   - Turn off my cell phone by 8pm.\n",
      "\n",
      "2. Exercise: \n",
      "   - Walk outside for 10 minutes before 7am.\n",
      "   - Do 10 push-ups while the coffee is brewing.\n",
      "\n",
      "3. Eating: \n",
      "   - Eat one meal with chopsticks (to slow down eating).\n",
      "   - Include a vegetable in every meal.\n",
      "\n",
      "4. Drinking: \n",
      "   - Don't drink out of anything plastic.\n",
      "   - Drink fizzy water from 6-8pm (for booze cravings).\n",
      "\n",
      "5. Stress management: \n",
      "   - Write down three tiny things I've been grateful for today.\n",
      "   - Listen to a meditation app for 10 minutes.\n",
      "\n",
      "Remember, these are just examples. The goal is to come up with behaviors that are achievable for you. Let's start with Sleep. Can you think of a small, achievable behavior that could improve your sleep?\u001b[0m\n",
      "\n",
      "\u001b[1m> Finished chain.\u001b[0m\n",
      "Absolutely, Chris. Here are some examples of small, achievable behaviors for each pillar:\n",
      "\n",
      "1. Sleep: \n",
      "   - Be in bed by 9.30pm.\n",
      "   - Turn off my cell phone by 8pm.\n",
      "\n",
      "2. Exercise: \n",
      "   - Walk outside for 10 minutes before 7am.\n",
      "   - Do 10 push-ups while the coffee is brewing.\n",
      "\n",
      "3. Eating: \n",
      "   - Eat one meal with chopsticks (to slow down eating).\n",
      "   - Include a vegetable in every meal.\n",
      "\n",
      "4. Drinking: \n",
      "   - Don't drink out of anything plastic.\n",
      "   - Drink fizzy water from 6-8pm (for booze cravings).\n",
      "\n",
      "5. Stress management: \n",
      "   - Write down three tiny things I've been grateful for today.\n",
      "   - Listen to a meditation app for 10 minutes.\n",
      "\n",
      "Remember, these are just examples. The goal is to come up with behaviors that are achievable for you. Let's start with Sleep. Can you think of a small, achievable behavior that could improve your sleep?\n"
     ]
    },
    {
     "data": {
      "text/plain": [
       "False"
      ]
     },
     "execution_count": 8,
     "metadata": {},
     "output_type": "execute_result"
    }
   ],
   "source": [
    "x(\"can you give some examples?\")"
   ]
  },
  {
   "cell_type": "code",
   "execution_count": 9,
   "id": "b0512d44-465f-4bdf-98b5-f7ca11a2f91c",
   "metadata": {},
   "outputs": [
    {
     "name": "stdout",
     "output_type": "stream",
     "text": [
      "\n",
      "\n",
      "\u001b[1m> Entering new AgentExecutor chain...\u001b[0m\n",
      "\u001b[32;1m\u001b[1;3mGreat, Chris! So, for Sleep, we have:\n",
      "\n",
      "1. Be in bed by 9.30pm.\n",
      "2. Turn off my cell phone by 8pm.\n",
      "\n",
      "Now, let's move on to Exercise. Can you think of a small, achievable behavior that could improve your exercise routine? For example, \"Walk outside for 10 minutes before 7am\" or \"Do 10 push-ups while the coffee is brewing\".\u001b[0m\n",
      "\n",
      "\u001b[1m> Finished chain.\u001b[0m\n",
      "Great, Chris! So, for Sleep, we have:\n",
      "\n",
      "1. Be in bed by 9.30pm.\n",
      "2. Turn off my cell phone by 8pm.\n",
      "\n",
      "Now, let's move on to Exercise. Can you think of a small, achievable behavior that could improve your exercise routine? For example, \"Walk outside for 10 minutes before 7am\" or \"Do 10 push-ups while the coffee is brewing\".\n"
     ]
    },
    {
     "data": {
      "text/plain": [
       "False"
      ]
     },
     "execution_count": 9,
     "metadata": {},
     "output_type": "execute_result"
    }
   ],
   "source": [
    "x(\"yeah, let's go with those\")"
   ]
  },
  {
   "cell_type": "code",
   "execution_count": 10,
   "id": "9adf93c1-1b0f-491b-b890-201bb35d486b",
   "metadata": {},
   "outputs": [
    {
     "name": "stdout",
     "output_type": "stream",
     "text": [
      "\n",
      "\n",
      "\u001b[1m> Entering new AgentExecutor chain...\u001b[0m\n",
      "\u001b[32;1m\u001b[1;3mSure, here are some examples for Exercise:\n",
      "\n",
      "1. Walk outside for 10 minutes before 7am.\n",
      "2. Do 10 push-ups while the coffee is brewing.\n",
      "3. Take the stairs instead of the elevator.\n",
      "\n",
      "Remember, these are just examples. The goal is to come up with behaviors that are achievable for you. Can you think of a small, achievable behavior that could improve your exercise routine?\u001b[0m\n",
      "\n",
      "\u001b[1m> Finished chain.\u001b[0m\n",
      "Sure, here are some examples for Exercise:\n",
      "\n",
      "1. Walk outside for 10 minutes before 7am.\n",
      "2. Do 10 push-ups while the coffee is brewing.\n",
      "3. Take the stairs instead of the elevator.\n",
      "\n",
      "Remember, these are just examples. The goal is to come up with behaviors that are achievable for you. Can you think of a small, achievable behavior that could improve your exercise routine?\n"
     ]
    },
    {
     "data": {
      "text/plain": [
       "False"
      ]
     },
     "execution_count": 10,
     "metadata": {},
     "output_type": "execute_result"
    }
   ],
   "source": [
    "x(\"examples?\")"
   ]
  },
  {
   "cell_type": "code",
   "execution_count": 11,
   "id": "3ab8142b-0a03-4bc6-99f3-a35af1e4ee65",
   "metadata": {},
   "outputs": [
    {
     "name": "stdout",
     "output_type": "stream",
     "text": [
      "\n",
      "\n",
      "\u001b[1m> Entering new AgentExecutor chain...\u001b[0m\n",
      "\u001b[32;1m\u001b[1;3mFantastic, Chris! So, for Exercise, we have:\n",
      "\n",
      "1. Walk outside for 10 minutes before 7am.\n",
      "2. Do 10 push-ups while the coffee is brewing.\n",
      "\n",
      "Next, let's think about Eating. Can you think of a small, achievable behavior that could improve your eating habits? For example, \"Eat one meal with chopsticks (to slow down eating)\" or \"Include a vegetable in every meal\".\u001b[0m\n",
      "\n",
      "\u001b[1m> Finished chain.\u001b[0m\n",
      "Fantastic, Chris! So, for Exercise, we have:\n",
      "\n",
      "1. Walk outside for 10 minutes before 7am.\n",
      "2. Do 10 push-ups while the coffee is brewing.\n",
      "\n",
      "Next, let's think about Eating. Can you think of a small, achievable behavior that could improve your eating habits? For example, \"Eat one meal with chopsticks (to slow down eating)\" or \"Include a vegetable in every meal\".\n"
     ]
    },
    {
     "data": {
      "text/plain": [
       "False"
      ]
     },
     "execution_count": 11,
     "metadata": {},
     "output_type": "execute_result"
    }
   ],
   "source": [
    "x(\"sounds good!\")"
   ]
  },
  {
   "cell_type": "code",
   "execution_count": null,
   "id": "13ba92e8-cb3e-420c-8d19-96062fe189c4",
   "metadata": {},
   "outputs": [],
   "source": [
    "x(\"examples?\")"
   ]
  },
  {
   "cell_type": "code",
   "execution_count": null,
   "id": "7a0fb8af-268e-4d33-a8b1-b2c5828f8b38",
   "metadata": {},
   "outputs": [],
   "source": [
    "x(\"sounds good!\")"
   ]
  },
  {
   "cell_type": "code",
   "execution_count": null,
   "id": "d939792d-ef9e-4099-8c30-26b802aaf5d3",
   "metadata": {},
   "outputs": [],
   "source": [
    "x(\"examples?\")"
   ]
  },
  {
   "cell_type": "code",
   "execution_count": null,
   "id": "c5674473-32df-45ce-b723-285a470a1bce",
   "metadata": {},
   "outputs": [],
   "source": [
    "x(\"sounds good!\")"
   ]
  },
  {
   "cell_type": "code",
   "execution_count": null,
   "id": "08b43657-53a6-49c1-98c3-1021c443af65",
   "metadata": {},
   "outputs": [],
   "source": [
    "x(\"examples?\")"
   ]
  },
  {
   "cell_type": "code",
   "execution_count": null,
   "id": "03563506-6d89-4679-8029-c6c93805d4d5",
   "metadata": {},
   "outputs": [],
   "source": [
    "x(\"those are good\")"
   ]
  },
  {
   "cell_type": "code",
   "execution_count": null,
   "id": "aaeb379c-f311-47a0-bcab-6b94bc7ee84c",
   "metadata": {},
   "outputs": [],
   "source": [
    "x(\"yeah, that's great\")"
   ]
  },
  {
   "cell_type": "code",
   "execution_count": null,
   "id": "d2151304-4aa3-408c-a287-2640ae746a1c",
   "metadata": {},
   "outputs": [],
   "source": [
    "x.save_memory(memory_filename)"
   ]
  },
  {
   "cell_type": "markdown",
   "id": "13a42bd8-13bb-4198-a626-40f561ba6375",
   "metadata": {},
   "source": [
    "# Track SEEDS"
   ]
  },
  {
   "cell_type": "code",
   "execution_count": 19,
   "id": "759ca09b-fc6e-481f-bda0-d1e58b191990",
   "metadata": {},
   "outputs": [
    {
     "name": "stdout",
     "output_type": "stream",
     "text": [
      "get_agent len(tools)=7\n"
     ]
    }
   ],
   "source": [
    "x = X(SYSTEM_DESCRIPTION, SEEDS_GOAL_PROMPTS[1], memory=x.agent_executor.memory)"
   ]
  },
  {
   "cell_type": "code",
   "execution_count": 20,
   "id": "c43180b2-002c-4af7-aefd-cf2538a9cdf6",
   "metadata": {},
   "outputs": [
    {
     "name": "stdout",
     "output_type": "stream",
     "text": [
      "\n",
      "\n",
      "\u001b[1m> Entering new AgentExecutor chain...\u001b[0m\n",
      "\u001b[32;1m\u001b[1;3mHello! How are you feeling today? May I know your name?\u001b[0m\n",
      "\n",
      "\u001b[1m> Finished chain.\u001b[0m\n",
      "Hello! How are you feeling today? May I know your name?\n"
     ]
    },
    {
     "data": {
      "text/plain": [
       "False"
      ]
     },
     "execution_count": 20,
     "metadata": {},
     "output_type": "execute_result"
    }
   ],
   "source": [
    "x(\"hey\")"
   ]
  },
  {
   "cell_type": "code",
   "execution_count": 21,
   "id": "d55c53cc-f948-4280-bea6-f992513a5cd0",
   "metadata": {},
   "outputs": [
    {
     "name": "stdout",
     "output_type": "stream",
     "text": [
      "\n",
      "\n",
      "\u001b[1m> Entering new AgentExecutor chain...\u001b[0m\n",
      "\u001b[32;1m\u001b[1;3mHello, Chris! I'm glad to have you here. Is now a good time for you to record a SEEDS diary entry?\u001b[0m\n",
      "\n",
      "\u001b[1m> Finished chain.\u001b[0m\n",
      "Hello, Chris! I'm glad to have you here. Is now a good time for you to record a SEEDS diary entry?\n"
     ]
    },
    {
     "data": {
      "text/plain": [
       "False"
      ]
     },
     "execution_count": 21,
     "metadata": {},
     "output_type": "execute_result"
    }
   ],
   "source": [
    "x(\"Chris\")"
   ]
  },
  {
   "cell_type": "code",
   "execution_count": 22,
   "id": "a6e8fd80-6d36-40b4-a9e8-f4083b91015b",
   "metadata": {},
   "outputs": [
    {
     "name": "stdout",
     "output_type": "stream",
     "text": [
      "\n",
      "\n",
      "\u001b[1m> Entering new AgentExecutor chain...\u001b[0m\n",
      "\u001b[32;1m\u001b[1;3mGreat! Let's start with the first pillar, Sleep. What did you manage to do today for your sleep?\u001b[0m\n",
      "\n",
      "\u001b[1m> Finished chain.\u001b[0m\n",
      "Great! Let's start with the first pillar, Sleep. What did you manage to do today for your sleep?\n"
     ]
    },
    {
     "data": {
      "text/plain": [
       "False"
      ]
     },
     "execution_count": 22,
     "metadata": {},
     "output_type": "execute_result"
    }
   ],
   "source": [
    "x(\"sure\")"
   ]
  },
  {
   "cell_type": "code",
   "execution_count": 23,
   "id": "c9cf555b-3477-4a8a-9ffa-8b292b01bd6e",
   "metadata": {},
   "outputs": [
    {
     "name": "stdout",
     "output_type": "stream",
     "text": [
      "\n",
      "\n",
      "\u001b[1m> Entering new AgentExecutor chain...\u001b[0m\n",
      "\u001b[32;1m\u001b[1;3m\n",
      "Invoking: `get_sleep_diary_description` with `sleep`\n",
      "\n",
      "\n",
      "\u001b[0m\n",
      "\n",
      "\u001b[1m> Entering new LLMChain chain...\u001b[0m\n",
      "Prompt after formatting:\n",
      "\u001b[32;1m\u001b[1;3mSystem: You are an AI clinician skilled in Motivational Interviewing.\n",
      "\n",
      "    Your goals to ask the human about what SEEDS they managed to do today.\n",
      "    First, ask if now is a good time to record a SEEDS diary entry. Then, for\n",
      "    each SEED in each pillar, ask what they got done today. Then summarise and\n",
      "    ask if it's correct. Finish by giving a score (/15) for how many they\n",
      "    managed to do that day.\n",
      "    \n",
      "Use this when the human asks what a sleep diary is. Summarise the\n",
      "    numbered list of questions only:\n",
      "    Your goal is to record a sleep diary entry for a given night. First ask if\n",
      "    now is a good time to record a diary entry. Then guide them through the\n",
      "    following questions one at a time. Don't give all the questions at once.\n",
      "    Wait for them to answer each question.\n",
      "\n",
      "    1. Date of the night you're recording\n",
      "    2. Sleep quality, one of the following: \"very good\", \"good\", \"okay\", \"bad\",\n",
      "    \"very bad\"\n",
      "    3. Time you went to bed\n",
      "    4. Time you tried to fall asleep\n",
      "    5. How long it took you to fall asleep\n",
      "    6. How many times you woke up during the night\n",
      "    7. Total time you were awake during the night\n",
      "    8. Final wake up time\n",
      "    9. Time you got out of bed\n",
      "\n",
      "    End with a summary of the data you've collected and asking if it's correct.\n",
      "    Include sleep efficiency as a percentage. Sleep efficiency is the percentage\n",
      "    of time spent asleep while in bed.\n",
      "\n",
      "    To give the human a rough sense of how their sleep efficiency compares, tell\n",
      "    them anything over 85%% is considered normal.\n",
      "    End by asking if they'd like the AI to help them keep a sleep diary.\n",
      "Human: hey\n",
      "AI: Hello! How are you feeling today? May I know your name?\n",
      "Human: pretty good, Chris.\n",
      "AI: Nice to meet you, Chris! I'm glad to hear you're feeling good. I'd like to introduce you to an exercise called SEEDS, created by Simon Marshall, PhD. It's a simple yet effective way to improve your overall health. \n",
      "\n",
      "SEEDS stands for Sleep, Exercise, Eating, Drinking, and Stress management. The idea is to plant small SEEDS, or behaviors, that contribute to these pillars of good health and nurture them until they become habits. \n",
      "\n",
      "The key is to focus on small, achievable behaviors rather than grand aspirations. For example, instead of setting a goal to run 5km if you've never done it before, you might start with a 10-minute walk outside before 7am. \n",
      "\n",
      "Simon recommends defining three SEEDS per pillar, totaling 15 daily habits. If that sounds overwhelming, you can prioritize and start with the most important ones. \n",
      "\n",
      "Here are some examples:\n",
      "- Be in bed by 9.30pm.\n",
      "- Turn off my cell phone by 8pm.\n",
      "- Walk outside for 10 ten minutes before 7am.\n",
      "- Do 10 push-ups while the coffee is brewing.\n",
      "- Eat one meal with chopsticks (to slow down eating).\n",
      "- Don't drink out of anything plastic.\n",
      "- Drink fizzy water from 6-8pm (for booze cravings).\n",
      "- Write down three tiny things I've been grateful for today.\n",
      "- Listen to a meditation app for 10min.\n",
      "\n",
      "Let's start with the first pillar, Sleep. Can you think of three small behaviors that could improve your sleep?\n",
      "Human: hell yes!\n",
      "AI: Great enthusiasm, Chris! Let's start. Can you share three small behaviors that you believe will enhance your sleep quality?\n",
      "Human: yep\n",
      "AI: Fantastic! Please go ahead and share those with me.\n",
      "Human: can you give some examples?\n",
      "AI: Of course, Chris! Here are some examples of small behaviors that can improve your sleep:\n",
      "\n",
      "1. Set a consistent bedtime, like being in bed by 10pm.\n",
      "2. Create a relaxing bedtime routine, such as reading a book for 15 minutes before sleep.\n",
      "3. Limit screen time an hour before bed, like turning off your cell phone by 9pm.\n",
      "\n",
      "Remember, these are just examples. The goal is to choose behaviors that you feel are achievable and beneficial for you. Now, can you share your three behaviors for better sleep?\n",
      "Human: yeah, let's go with those\n",
      "AI: Great choices, Chris! So, for Sleep, your SEEDS are:\n",
      "\n",
      "1. Be in bed by 10pm.\n",
      "2. Read a book for 15 minutes before sleep.\n",
      "3. Turn off your cell phone by 9pm.\n",
      "\n",
      "Now, let's move on to the next pillar, Exercise. Can you think of three small behaviors that could improve your exercise routine?\n",
      "Human: examples?\n",
      "AI: Absolutely, Chris! Here are some examples for the Exercise pillar:\n",
      "\n",
      "1. Do 10 push-ups while the coffee is brewing.\n",
      "2. Take a 10-minute walk outside before 7am.\n",
      "3. Stretch for 5 minutes after waking up.\n",
      "\n",
      "Remember, these are just examples. The goal is to choose behaviors that you feel are achievable and beneficial for you. Now, can you share your three behaviors for better exercise?\n",
      "Human: sounds good!\n",
      "AI: Excellent, Chris! So, for Exercise, your SEEDS are:\n",
      "\n",
      "1. Do 10 push-ups while the coffee is brewing.\n",
      "2. Take a 10-minute walk outside before 7am.\n",
      "3. Stretch for 5 minutes after waking up.\n",
      "\n",
      "Next, let's consider the Eating pillar. Can you think of three small behaviors that could improve your eating habits?\n",
      "Human: examples?\n",
      "AI: Sure thing, Chris! Here are some examples for the Eating pillar:\n",
      "\n",
      "1. Eat one meal with chopsticks (to slow down eating).\n",
      "2. Include a serving of vegetables in at least one meal per day.\n",
      "3. Drink a glass of water before each meal.\n",
      "\n",
      "Remember, these are just examples. The goal is to choose behaviors that you feel are achievable and beneficial for you. Now, can you share your three behaviors for better eating habits?\n",
      "Human: sounds good!\n",
      "AI: Great, Chris! So, for Eating, your SEEDS are:\n",
      "\n",
      "1. Eat one meal with chopsticks (to slow down eating).\n",
      "2. Include a serving of vegetables in at least one meal per day.\n",
      "3. Drink a glass of water before each meal.\n",
      "\n",
      "Now, let's move on to the Drinking pillar. Can you think of three small behaviors that could improve your drinking habits?\n",
      "Human: examples?\n",
      "AI: Absolutely, Chris! Here are some examples for the Drinking pillar:\n",
      "\n",
      "1. Don't drink out of anything plastic.\n",
      "2. Drink fizzy water from 6-8pm (for booze cravings).\n",
      "3. Drink at least 8 glasses of water throughout the day.\n",
      "\n",
      "Remember, these are just examples. The goal is to choose behaviors that you feel are achievable and beneficial for you. Now, can you share your three behaviors for better drinking habits?\n",
      "Human: sounds good!\n",
      "AI: Excellent, Chris! So, for Drinking, your SEEDS are:\n",
      "\n",
      "1. Don't drink out of anything plastic.\n",
      "2. Drink fizzy water from 6-8pm (for booze cravings).\n",
      "3. Drink at least 8 glasses of water throughout the day.\n",
      "\n",
      "Finally, let's consider the Stress Management pillar. Can you think of three small behaviors that could help you manage stress better?\n",
      "Human: examples?\n",
      "AI: Of course, Chris! Here are some examples for the Stress Management pillar:\n",
      "\n",
      "1. Write down three tiny things you've been grateful for today.\n",
      "2. Listen to a meditation app for 10 minutes.\n",
      "3. Take five minutes to breathe deeply and relax when you feel stressed.\n",
      "\n",
      "Remember, these are just examples. The goal is to choose behaviors that you feel are achievable and beneficial for you. Now, can you share your three behaviors for better stress management?\n",
      "Human: those are good\n",
      "AI: Fantastic, Chris! So, for Stress Management, your SEEDS are:\n",
      "\n",
      "1. Write down three tiny things you've been grateful for today.\n",
      "2. Listen to a meditation app for 10 minutes.\n",
      "3. Take five minutes to breathe deeply and relax when you feel stressed.\n",
      "\n",
      "To summarize, here are your SEEDS:\n",
      "\n",
      "Sleep:\n",
      "1. Be in bed by 10pm.\n",
      "2. Read a book for 15 minutes before sleep.\n",
      "3. Turn off your cell phone by 9pm.\n",
      "\n",
      "Exercise:\n",
      "1. Do 10 push-ups while the coffee is brewing.\n",
      "2. Take a 10-minute walk outside before 7am.\n",
      "3. Stretch for 5 minutes after waking up.\n",
      "\n",
      "Eating:\n",
      "1. Eat one meal with chopsticks (to slow down eating).\n",
      "2. Include a serving of vegetables in at least one meal per day.\n",
      "3. Drink a glass of water before each meal.\n",
      "\n",
      "Drinking:\n",
      "1. Don't drink out of anything plastic.\n",
      "2. Drink fizzy water from 6-8pm (for booze cravings).\n",
      "3. Drink at least 8 glasses of water throughout the day.\n",
      "\n",
      "Stress Management:\n",
      "1. Write down three tiny things you've been grateful for today.\n",
      "2. Listen to a meditation app for 10 minutes.\n",
      "3. Take five minutes to breathe deeply and relax when you feel stressed.\n",
      "\n",
      "Does this summary accurately reflect the SEEDS you've chosen for each category?\n",
      "Human: yeah, that's great\n",
      "AI: Fantastic, Chris! I'm glad you're happy with your SEEDS. Remember, the goal is to nurture these small behaviors until they become habits. Take it one day at a time and remember, progress begets progress. You've got this! 🚀🚀🚀\n",
      "Human: hey\n",
      "AI: Hello! How are you feeling today? May I know your name?\n",
      "Human: Chris\n",
      "AI: Hello, Chris! I'm glad to have you here. Is now a good time for you to record a SEEDS diary entry?\n",
      "Human: sure\n",
      "AI: Great! Let's start with the first pillar, Sleep. What did you manage to do today for your sleep?\n",
      "Human: sleep\u001b[0m\n",
      "\n",
      "\u001b[1m> Finished chain.\u001b[0m\n",
      "\u001b[36;1m\u001b[1;3mThat's a start, Chris! Could you please be more specific? For example, did you manage to get to bed by 10pm, read a book for 15 minutes before sleep, or turn off your cell phone by 9pm?\u001b[0m\n",
      "\u001b[32;1m\u001b[1;3m\u001b[0m\n",
      "\n",
      "\u001b[1m> Finished chain.\u001b[0m\n",
      "That's a start, Chris! Could you please be more specific? For example, did you manage to get to bed by 10pm, read a book for 15 minutes before sleep, or turn off your cell phone by 9pm?\n"
     ]
    },
    {
     "data": {
      "text/plain": [
       "False"
      ]
     },
     "execution_count": 23,
     "metadata": {},
     "output_type": "execute_result"
    }
   ],
   "source": [
    "x(\"remind me, what was I supposed to do?\")"
   ]
  },
  {
   "cell_type": "code",
   "execution_count": 24,
   "id": "6795c3f6-decb-4b11-9ae0-a0f5356acd98",
   "metadata": {},
   "outputs": [
    {
     "name": "stdout",
     "output_type": "stream",
     "text": [
      "\n",
      "\n",
      "\u001b[1m> Entering new AgentExecutor chain...\u001b[0m\n",
      "\u001b[32;1m\u001b[1;3mOf course, Chris. Here are your SEEDS:\n",
      "\n",
      "Sleep:\n",
      "1. Be in bed by 10pm.\n",
      "2. Read a book for 15 minutes before sleep.\n",
      "3. Turn off your cell phone by 9pm.\n",
      "\n",
      "Exercise:\n",
      "1. Do 10 push-ups while the coffee is brewing.\n",
      "2. Take a 10-minute walk outside before 7am.\n",
      "3. Stretch for 5 minutes after waking up.\n",
      "\n",
      "Eating:\n",
      "1. Eat one meal with chopsticks (to slow down eating).\n",
      "2. Include a serving of vegetables in at least one meal per day.\n",
      "3. Drink a glass of water before each meal.\n",
      "\n",
      "Drinking:\n",
      "1. Don't drink out of anything plastic.\n",
      "2. Drink fizzy water from 6-8pm (for booze cravings).\n",
      "3. Drink at least 8 glasses of water throughout the day.\n",
      "\n",
      "Stress Management:\n",
      "1. Write down three tiny things you've been grateful for today.\n",
      "2. Listen to a meditation app for 10 minutes.\n",
      "3. Take five minutes to breathe deeply and relax when you feel stressed.\n",
      "\n",
      "Now, let's go back to the first pillar, Sleep. What did you manage to do today for your sleep?\u001b[0m\n",
      "\n",
      "\u001b[1m> Finished chain.\u001b[0m\n",
      "Of course, Chris. Here are your SEEDS:\n",
      "\n",
      "Sleep:\n",
      "1. Be in bed by 10pm.\n",
      "2. Read a book for 15 minutes before sleep.\n",
      "3. Turn off your cell phone by 9pm.\n",
      "\n",
      "Exercise:\n",
      "1. Do 10 push-ups while the coffee is brewing.\n",
      "2. Take a 10-minute walk outside before 7am.\n",
      "3. Stretch for 5 minutes after waking up.\n",
      "\n",
      "Eating:\n",
      "1. Eat one meal with chopsticks (to slow down eating).\n",
      "2. Include a serving of vegetables in at least one meal per day.\n",
      "3. Drink a glass of water before each meal.\n",
      "\n",
      "Drinking:\n",
      "1. Don't drink out of anything plastic.\n",
      "2. Drink fizzy water from 6-8pm (for booze cravings).\n",
      "3. Drink at least 8 glasses of water throughout the day.\n",
      "\n",
      "Stress Management:\n",
      "1. Write down three tiny things you've been grateful for today.\n",
      "2. Listen to a meditation app for 10 minutes.\n",
      "3. Take five minutes to breathe deeply and relax when you feel stressed.\n",
      "\n",
      "Now, let's go back to the first pillar, Sleep. What did you manage to do today for your sleep?\n"
     ]
    },
    {
     "data": {
      "text/plain": [
       "False"
      ]
     },
     "execution_count": 24,
     "metadata": {},
     "output_type": "execute_result"
    }
   ],
   "source": [
    "x(\"summarise my SEEDS\")"
   ]
  },
  {
   "cell_type": "code",
   "execution_count": null,
   "id": "2ea08dca-a88c-4c8a-a1d5-508a61ece8a9",
   "metadata": {},
   "outputs": [],
   "source": [
    "import pickle\n",
    "\n",
    "x.agent_executor.memory"
   ]
  }
 ],
 "metadata": {
  "kernelspec": {
   "display_name": "Python 3 (ipykernel)",
   "language": "python",
   "name": "python3"
  },
  "language_info": {
   "codemirror_mode": {
    "name": "ipython",
    "version": 3
   },
   "file_extension": ".py",
   "mimetype": "text/x-python",
   "name": "python",
   "nbconvert_exporter": "python",
   "pygments_lexer": "ipython3",
   "version": "3.11.5"
  }
 },
 "nbformat": 4,
 "nbformat_minor": 5
}
