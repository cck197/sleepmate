{
 "cells": [
  {
   "cell_type": "code",
   "execution_count": 1,
   "id": "b8de2330-3ba1-488b-8290-d1ab59e571ea",
   "metadata": {},
   "outputs": [],
   "source": [
    "from sleepmate.agent import *"
   ]
  },
  {
   "cell_type": "code",
   "execution_count": 2,
   "id": "f7ab4a31-2d40-4d1e-9176-eb2f87473bc0",
   "metadata": {},
   "outputs": [],
   "source": [
    "!rm -f /Users/cck197/Downloads/virtual_greg/memory.pkl"
   ]
  },
  {
   "cell_type": "markdown",
   "id": "b5f7edee-6150-42ad-9897-b2776077f9ef",
   "metadata": {},
   "source": [
    "# Define SEEDS"
   ]
  },
  {
   "cell_type": "code",
   "execution_count": 2,
   "id": "4980fa31-3f78-48ad-a417-d6eda05bc6b9",
   "metadata": {},
   "outputs": [
    {
     "name": "stdout",
     "output_type": "stream",
     "text": [
      "get_agent len(tools)=28\n",
      "load_memory filename='/Users/cck197/Downloads/virtual_greg/memory.pkl'\n",
      "_to_args_and_kwargs self.name='get_greeting' all_args=['hey']\n"
     ]
    },
    {
     "data": {
      "text/markdown": [
       "Hello Chris! How are you feeling today?"
      ],
      "text/plain": [
       "<IPython.core.display.Markdown object>"
      ]
     },
     "metadata": {},
     "output_type": "display_data"
    }
   ],
   "source": [
    "x = X(goals[\"seeds_probe\"]);#, hello=False);"
   ]
  },
  {
   "cell_type": "code",
   "execution_count": 3,
   "id": "ca802a1a-eb75-4449-b02c-995d74b37d1e",
   "metadata": {},
   "outputs": [
    {
     "name": "stdout",
     "output_type": "stream",
     "text": [
      "_to_args_and_kwargs self.name='get_seed_pod' all_args=['chris@nourishbalancethrive.com']\n",
      "get_seed_pod entry=<SeedPod: SeedPod object>\n"
     ]
    },
    {
     "data": {
      "text/markdown": [
       "Here are your current SEEDS:\n",
       "\n",
       "**Sleep:**\n",
       "1. Be in bed by 9:30 pm\n",
       "2. Turn off my cell phone by 8 pm\n",
       "3. No caffeine after 12 pm\n",
       "\n",
       "**Exercise:**\n",
       "1. Walk outside for 10 minutes before 9:30 am\n",
       "2. Do 10 push-ups while the coffee is brewing\n",
       "3. Take the stairs instead of the elevator\n",
       "\n",
       "**Eating:**\n",
       "1. Eat one meal with chopsticks (to slow down eating)\n",
       "2. Eat 50g of protein with every meal\n",
       "3. Include a serving of vegetables in each meal\n",
       "\n",
       "**Drinking:**\n",
       "1. Don't drink out of anything plastic\n",
       "2. Drink fizzy water from 6-8 pm (for booze cravings)\n",
       "3. Drink at least 2 liters of water daily\n",
       "\n",
       "**Stress Management:**\n",
       "1. Write down three tiny things I've been grateful for today\n",
       "2. Do the 'leaves on a stream' or 'open focus' exercises\n",
       "3. Take 5 minutes each day to meditate or practice deep breathing\n",
       "\n",
       "Is this correct?"
      ],
      "text/plain": [
       "<IPython.core.display.Markdown object>"
      ]
     },
     "metadata": {},
     "output_type": "display_data"
    }
   ],
   "source": [
    "x(\"can you summarise my SEEDS?\");"
   ]
  },
  {
   "cell_type": "code",
   "execution_count": 4,
   "id": "8e50c4ec-a922-4922-a56d-534657922686",
   "metadata": {},
   "outputs": [
    {
     "data": {
      "text/markdown": [
       "Sure, here are some new examples for each category:\n",
       "\n",
       "**Sleep:**\n",
       "1. Read a book for 15 minutes before bed.\n",
       "2. Keep the bedroom dark and quiet.\n",
       "3. Avoid screens for an hour before bedtime.\n",
       "\n",
       "**Exercise:**\n",
       "1. Take a 15-minute walk after dinner.\n",
       "2. Do a short yoga routine in the morning.\n",
       "3. Try a new sport or physical activity once a week.\n",
       "\n",
       "**Eating:**\n",
       "1. Include a fruit or vegetable with every meal.\n",
       "2. Try a new healthy recipe once a week.\n",
       "3. Limit processed foods and opt for whole foods.\n",
       "\n",
       "**Drinking:**\n",
       "1. Replace one soda with a glass of water each day.\n",
       "2. Try a new herbal tea instead of coffee.\n",
       "3. Limit alcohol to one drink per day.\n",
       "\n",
       "**Stress Management:**\n",
       "1. Practice mindfulness or meditation for 10 minutes each day.\n",
       "2. Write in a journal for 15 minutes each day.\n",
       "3. Take a few minutes each day to do something you enjoy.\n",
       "\n",
       "Now, could you please define your new SEEDS for each category?"
      ],
      "text/plain": [
       "<IPython.core.display.Markdown object>"
      ]
     },
     "metadata": {},
     "output_type": "display_data"
    }
   ],
   "source": [
    "x(\"can you give some new examples, three for each category?\");"
   ]
  },
  {
   "cell_type": "code",
   "execution_count": 5,
   "id": "15494965-2aaa-4040-a402-e162ca32350e",
   "metadata": {},
   "outputs": [
    {
     "name": "stdout",
     "output_type": "stream",
     "text": [
      "_to_args_and_kwargs self.name='save_seed_pod' all_args=['[[\"Read a book for 15 minutes before bed.\", \"Keep the bedroom dark and quiet.\", \"Avoid screens for an hour before bedtime.\"], [\"Take a 15-minute walk after dinner.\", \"Do a short yoga routine in the morning.\", \"Try a new sport or physical activity once a week.\"], [\"Include a fruit or vegetable with every meal.\", \"Try a new healthy recipe once a week.\", \"Limit processed foods and opt for whole foods.\"], [\"Replace one soda with a glass of water each day.\", \"Try a new herbal tea instead of coffee.\", \"Limit alcohol to one drink per day.\"], [\"Practice mindfulness or meditation for 10 minutes each day.\", \"Write in a journal for 15 minutes each day.\", \"Take a few minutes each day to do something you enjoy.\"]]']\n",
      "save_seed_pod entry=SeedPod(sleep_1='Read a book for 15 minutes before bed.', sleep_2='Keep the bedroom dark and quiet.', sleep_3='Avoid screens for an hour before bedtime.', exercise_1='Take a 15-minute walk after dinner.', exercise_2='Do a short yoga routine in the morning.', exercise_3='Try a new sport or physical activity once a week.', eating_1='Include a fruit or vegetable with every meal.', eating_2='Try a new healthy recipe once a week.', eating_3='Limit processed foods and opt for whole foods.', drinking_1='Replace one soda with a glass of water each day.', drinking_2='Try a new herbal tea instead of coffee.', drinking_3='Limit alcohol to one drink per day.', stress_1='Practice mindfulness or meditation for 10 minutes each day.', stress_2='Write in a journal for 15 minutes each day.', stress_3='Take a few minutes each day to do something you enjoy.')\n"
     ]
    },
    {
     "data": {
      "text/markdown": [
       "Great, I've saved your new SEEDS. Here they are for your reference:\n",
       "\n",
       "**Sleep:**\n",
       "1. Read a book for 15 minutes before bed.\n",
       "2. Keep the bedroom dark and quiet.\n",
       "3. Avoid screens for an hour before bedtime.\n",
       "\n",
       "**Exercise:**\n",
       "1. Take a 15-minute walk after dinner.\n",
       "2. Do a short yoga routine in the morning.\n",
       "3. Try a new sport or physical activity once a week.\n",
       "\n",
       "**Eating:**\n",
       "1. Include a fruit or vegetable with every meal.\n",
       "2. Try a new healthy recipe once a week.\n",
       "3. Limit processed foods and opt for whole foods.\n",
       "\n",
       "**Drinking:**\n",
       "1. Replace one soda with a glass of water each day.\n",
       "2. Try a new herbal tea instead of coffee.\n",
       "3. Limit alcohol to one drink per day.\n",
       "\n",
       "**Stress Management:**\n",
       "1. Practice mindfulness or meditation for 10 minutes each day.\n",
       "2. Write in a journal for 15 minutes each day.\n",
       "3. Take a few minutes each day to do something you enjoy.\n",
       "\n",
       "Remember, the goal is to make these small behaviors a part of your daily routine. 🚀🚀🚀"
      ],
      "text/plain": [
       "<IPython.core.display.Markdown object>"
      ]
     },
     "metadata": {},
     "output_type": "display_data"
    }
   ],
   "source": [
    "x(\"that's great, let's go with all those exactly as you gave them\");"
   ]
  },
  {
   "cell_type": "code",
   "execution_count": 7,
   "id": "1f9de177-8bcd-42fe-bc3c-749a7c2bc829",
   "metadata": {},
   "outputs": [
    {
     "name": "stdout",
     "output_type": "stream",
     "text": [
      "_to_args_and_kwargs self.name='save_seed_pod' all_args=['[[\"Be in bed by 9:30 pm\", \"Turn off my cell phone by 8 pm\", \"No caffeine after 12 pm\"], [\"Walk outside for 10 minutes before 9:30 am\", \"Do 10 push-ups while the coffee is brewing\", \"Take the stairs instead of the elevator\"], [\"Eat one meal with chopsticks (to slow down eating)\", \"Eat 50g of protein with every meal\", \"Include a serving of vegetables in each meal\"], [\"Don\\'t drink out of anything plastic\", \"Drink fizzy water from 6-8 pm (for booze cravings)\", \"Drink at least 2 liters of water daily\"], [\"Write down three tiny things I\\'ve been grateful for today\", \"Do the \\'leaves on a stream\\' or \\'open focus\\' exercises\", \"Take 5 minutes each day to meditate or practice deep breathing\"]]']\n",
      "save_seed_pod entry=SeedPod(sleep_1='Be in bed by 9:30 pm', sleep_2='Turn off my cell phone by 8 pm', sleep_3='No caffeine after 12 pm', exercise_1='Walk outside for 10 minutes before 9:30 am', exercise_2='Do 10 push-ups while the coffee is brewing', exercise_3='Take the stairs instead of the elevator', eating_1='Eat one meal with chopsticks (to slow down eating)', eating_2='Eat 50g of protein with every meal', eating_3='Include a serving of vegetables in each meal', drinking_1=\"Don't drink out of anything plastic\", drinking_2='Drink fizzy water from 6-8 pm (for booze cravings)', drinking_3='Drink at least 2 liters of water daily', stress_1=\"Write down three tiny things I've been grateful for today\", stress_2=\"Do the 'leaves on a stream' or 'open focus' exercises\", stress_3='Take 5 minutes each day to meditate or practice deep breathing')\n"
     ]
    },
    {
     "data": {
      "text/markdown": [
       "Great, Chris! Your SEEDS have been saved successfully. Remember, the goal is to make these small behaviors a part of your daily routine. Over time, they can contribute significantly to your overall health and well-being. 🚀🚀🚀"
      ],
      "text/plain": [
       "<IPython.core.display.Markdown object>"
      ]
     },
     "metadata": {},
     "output_type": "display_data"
    }
   ],
   "source": [
    "x(\"yep!\");"
   ]
  },
  {
   "cell_type": "code",
   "execution_count": null,
   "id": "4eb7032c-4059-4cdc-8bcb-bd4880d06bc1",
   "metadata": {},
   "outputs": [],
   "source": []
  },
  {
   "cell_type": "markdown",
   "id": "13a42bd8-13bb-4198-a626-40f561ba6375",
   "metadata": {},
   "source": [
    "# Track SEEDS"
   ]
  },
  {
   "cell_type": "code",
   "execution_count": 3,
   "id": "759ca09b-fc6e-481f-bda0-d1e58b191990",
   "metadata": {},
   "outputs": [
    {
     "name": "stdout",
     "output_type": "stream",
     "text": [
      "get_agent len(tools)=28\n",
      "_to_args_and_kwargs self.name='get_greeting' all_args=['Chris']\n"
     ]
    },
    {
     "data": {
      "text/markdown": [
       "Hello Chris, how lovely to see you again. I hope you're feeling chipper today! Now, is this a good time for us to jot down a SEEDS diary entry?"
      ],
      "text/plain": [
       "<IPython.core.display.Markdown object>"
      ]
     },
     "metadata": {},
     "output_type": "display_data"
    }
   ],
   "source": [
    "x = X(goals[\"seeds_entry\"]);#, audio=True)"
   ]
  },
  {
   "cell_type": "code",
   "execution_count": 4,
   "id": "8799ec58-c089-47e7-b0d3-1ecb7b9ea2d6",
   "metadata": {},
   "outputs": [
    {
     "name": "stdout",
     "output_type": "stream",
     "text": [
      "_to_args_and_kwargs self.name='get_listening_statement' all_args=[\"I'm really tired and I've got loads of meetings today\"]\n"
     ]
    },
    {
     "data": {
      "text/markdown": [
       "I'm hearing that you're feeling pretty knackered and your schedule is packed out with meetings. That sounds quite overwhelming. It's completely understandable that you're feeling this way given the circumstances."
      ],
      "text/plain": [
       "<IPython.core.display.Markdown object>"
      ]
     },
     "metadata": {},
     "output_type": "display_data"
    }
   ],
   "source": [
    "x(\"actually I'm really tired and I've got loads of meetings today\");"
   ]
  },
  {
   "cell_type": "code",
   "execution_count": 5,
   "id": "ba353f49-35b0-4853-839d-8d8e3ccb4a1e",
   "metadata": {},
   "outputs": [
    {
     "name": "stdout",
     "output_type": "stream",
     "text": [
      "_to_args_and_kwargs self.name='get_open_question' all_args=[\"that's right\"]\n"
     ]
    },
    {
     "data": {
      "text/markdown": [
       "Well, you know what they say, \"Meetings: the practical alternative to work.\" Now, despite the fatigue and packed schedule, I'm curious, were you able to fit any of your SEEDS habits into the day? It could be something as simple as a deep breath in between meetings."
      ],
      "text/plain": [
       "<IPython.core.display.Markdown object>"
      ]
     },
     "metadata": {},
     "output_type": "display_data"
    }
   ],
   "source": [
    "x(\"that's right\");"
   ]
  },
  {
   "cell_type": "code",
   "execution_count": 3,
   "id": "4b02ff26-5548-435b-9f18-733cc2bc16e9",
   "metadata": {},
   "outputs": [
    {
     "data": {
      "text/markdown": [
       "I'm glad to hear that, Chris. Is now a good time to record a SEEDS diary entry?"
      ],
      "text/plain": [
       "<IPython.core.display.Markdown object>"
      ]
     },
     "metadata": {},
     "output_type": "display_data"
    }
   ],
   "source": [
    "x(\"not bad\");"
   ]
  },
  {
   "cell_type": "code",
   "execution_count": 3,
   "id": "c868aad4-f8c6-4a19-b225-78b117d1495d",
   "metadata": {},
   "outputs": [
    {
     "data": {
      "text/markdown": [
       "Great, let's record your SEEDS diary entry for today. \n",
       "\n",
       "For **Sleep**:\n",
       "1. Did you read a book for 15 minutes before bed?\n",
       "2. Did you keep the bedroom dark and quiet?\n",
       "3. Did you avoid screens for an hour before bedtime?\n",
       "\n",
       "For **Exercise**:\n",
       "1. Did you take a 15-minute walk after dinner?\n",
       "2. Did you do a short yoga routine in the morning?\n",
       "3. Did you try a new sport or physical activity once a week?\n",
       "\n",
       "For **Eating**:\n",
       "1. Did you include a fruit or vegetable with every meal?\n",
       "2. Did you try a new healthy recipe once a week?\n",
       "3. Did you limit processed foods and opt for whole foods?\n",
       "\n",
       "For **Drinking**:\n",
       "1. Did you replace one soda with a glass of water today?\n",
       "2. Did you try a new herbal tea instead of coffee?\n",
       "3. Did you limit alcohol to one drink today?\n",
       "\n",
       "For **Stress Management**:\n",
       "1. Did you practice mindfulness or meditation for 10 minutes today?\n",
       "2. Did you write in a journal for 15 minutes today?\n",
       "3. Did you take a few minutes today to do something you enjoy?"
      ],
      "text/plain": [
       "<IPython.core.display.Markdown object>"
      ]
     },
     "metadata": {},
     "output_type": "display_data"
    }
   ],
   "source": [
    "x(\"let's do a SEEDS entry\");"
   ]
  },
  {
   "cell_type": "code",
   "execution_count": 4,
   "id": "c2f50352-17c7-4dca-a315-096e83fbebc6",
   "metadata": {},
   "outputs": [
    {
     "data": {
      "text/markdown": [
       "Great, let's record your SEEDS diary entry for today, October 16, 2023.\n",
       "\n",
       "For **Sleep**:\n",
       "1. Did you read a book for 15 minutes before bed?\n",
       "2. Did you keep the bedroom dark and quiet?\n",
       "3. Did you avoid screens for an hour before bedtime?\n",
       "\n",
       "For **Exercise**:\n",
       "1. Did you take a 15-minute walk after dinner?\n",
       "2. Did you do a short yoga routine in the morning?\n",
       "3. Did you try a new sport or physical activity this week?\n",
       "\n",
       "For **Eating**:\n",
       "1. Did you include a fruit or vegetable with every meal?\n",
       "2. Did you try a new healthy recipe this week?\n",
       "3. Did you limit processed foods and opt for whole foods?\n",
       "\n",
       "For **Drinking**:\n",
       "1. Did you replace one soda with a glass of water today?\n",
       "2. Did you try a new herbal tea instead of coffee?\n",
       "3. Did you limit alcohol to one drink today?\n",
       "\n",
       "For **Stress Management**:\n",
       "1. Did you practice mindfulness or meditation for 10 minutes today?\n",
       "2. Did you write in a journal for 15 minutes today?\n",
       "3. Did you take a few minutes today to do something you enjoy?"
      ],
      "text/plain": [
       "<IPython.core.display.Markdown object>"
      ]
     },
     "metadata": {},
     "output_type": "display_data"
    }
   ],
   "source": [
    "x(\"sure\");"
   ]
  },
  {
   "cell_type": "code",
   "execution_count": 4,
   "id": "c9b9deea-53c1-4faf-a7eb-590e5136b34b",
   "metadata": {},
   "outputs": [
    {
     "data": {
      "text/markdown": [
       "Fantastic, Chris! You've managed to complete all your SEEDS for today. That's a perfect score of 15/15. Keep up the great work! 🚀🚀🚀"
      ],
      "text/plain": [
       "<IPython.core.display.Markdown object>"
      ]
     },
     "metadata": {},
     "output_type": "display_data"
    }
   ],
   "source": [
    "x(\"yes, that's right. I got all 15 tasks done\");"
   ]
  },
  {
   "cell_type": "code",
   "execution_count": 6,
   "id": "08b9f713-09eb-4b7d-b30e-576b67b65d4e",
   "metadata": {},
   "outputs": [
    {
     "name": "stdout",
     "output_type": "stream",
     "text": [
      "save_seeds entry=SeedsDiaryEntry(date=datetime.datetime(2023, 10, 15, 0, 0), sleep_1=1, sleep_2=1, sleep_3=1, exercise_1=1, exercise_2=1, exercise_3=1, eating_1=1, eating_2=1, eating_3=1, drinking_1=1, drinking_2=1, drinking_3=1, stress_1=1, stress_2=1, stress_3=1)\n"
     ]
    },
    {
     "data": {
      "text/markdown": [
       "Great! Your SEEDS diary entry for today, October 15, 2023, has been saved. You've done an excellent job today, achieving a perfect score of 15/15. Keep up the good work, Chris! 🚀🚀🚀"
      ],
      "text/plain": [
       "<IPython.core.display.Markdown object>"
      ]
     },
     "metadata": {},
     "output_type": "display_data"
    }
   ],
   "source": [
    "x(\"yep\");"
   ]
  },
  {
   "cell_type": "code",
   "execution_count": 5,
   "id": "af3ee154-f9ff-437a-bf73-af1de2d48821",
   "metadata": {},
   "outputs": [
    {
     "data": {
      "text/markdown": [
       "Here's your SEEDS diary entry for today, October 16, 2023:\n",
       "\n",
       "**Sleep:**\n",
       "1. Read a book for 15 minutes before bed: Done\n",
       "2. Keep the bedroom dark and quiet: Done\n",
       "3. Avoid screens for an hour before bedtime: Done\n",
       "\n",
       "**Exercise:**\n",
       "1. Take a 15-minute walk after dinner: Done\n",
       "2. Do a short yoga routine in the morning: Done\n",
       "3. Try a new sport or physical activity once a week: Done\n",
       "\n",
       "**Eating:**\n",
       "1. Include a fruit or vegetable with every meal: Done\n",
       "2. Try a new healthy recipe once a week: Done\n",
       "3. Limit processed foods and opt for whole foods: Done\n",
       "\n",
       "**Drinking:**\n",
       "1. Replace one soda with a glass of water today: Done\n",
       "2. Try a new herbal tea instead of coffee: Done\n",
       "3. Limit alcohol to one drink today: Done\n",
       "\n",
       "**Stress Management:**\n",
       "1. Practice mindfulness or meditation for 10 minutes today: Done\n",
       "2. Write in a journal for 15 minutes today: Done\n",
       "3. Take a few minutes today to do something you enjoy: Done\n",
       "\n",
       "You've done a great job today, Chris! Keep up the good work. 🚀🚀🚀"
      ],
      "text/plain": [
       "<IPython.core.display.Markdown object>"
      ]
     },
     "metadata": {},
     "output_type": "display_data"
    }
   ],
   "source": [
    "x(\"summarise my seeds diary entry for today\");"
   ]
  },
  {
   "cell_type": "code",
   "execution_count": null,
   "id": "7bb2681a-3edc-4791-8f51-dd88ba130701",
   "metadata": {},
   "outputs": [],
   "source": []
  }
 ],
 "metadata": {
  "kernelspec": {
   "display_name": "Python 3 (ipykernel)",
   "language": "python",
   "name": "python3"
  },
  "language_info": {
   "codemirror_mode": {
    "name": "ipython",
    "version": 3
   },
   "file_extension": ".py",
   "mimetype": "text/x-python",
   "name": "python",
   "nbconvert_exporter": "python",
   "pygments_lexer": "ipython3",
   "version": "3.11.5"
  }
 },
 "nbformat": 4,
 "nbformat_minor": 5
}
