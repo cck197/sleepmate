{
 "cells": [
  {
   "cell_type": "code",
   "execution_count": 2,
   "id": "9d0123da-2dc7-4adf-a570-63b0f1f12e38",
   "metadata": {},
   "outputs": [
    {
     "data": {
      "text/plain": [
       "True"
      ]
     },
     "execution_count": 2,
     "metadata": {},
     "output_type": "execute_result"
    }
   ],
   "source": [
    "from dotenv import load_dotenv\n",
    "load_dotenv(\"../.env\", override=True)"
   ]
  },
  {
   "cell_type": "code",
   "execution_count": 9,
   "id": "ecd48954-ab5f-42d3-a9ed-99a0ce8ecf07",
   "metadata": {},
   "outputs": [],
   "source": [
    "from sleepmate.executor import *"
   ]
  },
  {
   "cell_type": "code",
   "execution_count": 8,
   "id": "38d59ca3-87ce-4c4d-9570-1a6348fc0828",
   "metadata": {},
   "outputs": [],
   "source": [
    "username = \"whatsapp:+14157069979\""
   ]
  },
  {
   "cell_type": "code",
   "execution_count": 10,
   "id": "654b5094-4a57-4e75-b1c5-4c72df1c38f8",
   "metadata": {},
   "outputs": [
    {
     "name": "stdout",
     "output_type": "stream",
     "text": [
      "get_user_from_username creating username='whatsapp:+14157069979'\n"
     ]
    }
   ],
   "source": [
    "x = X(username=username, hello=None)"
   ]
  },
  {
   "cell_type": "code",
   "execution_count": 3,
   "id": "a236d48a-1717-4e4f-9f82-d1577ce02287",
   "metadata": {},
   "outputs": [],
   "source": [
    "import os"
   ]
  },
  {
   "cell_type": "code",
   "execution_count": 4,
   "id": "dddfd472-a621-43f0-a8d1-f3202c30de00",
   "metadata": {},
   "outputs": [],
   "source": [
    "# Your Account SID and Auth Token from console.twilio.com\n",
    "account_sid = os.environ[\"TWILIO_ACCOUNT_SID\"]\n",
    "auth_token  = os.environ[\"TWILIO_AUTH_TOKEN\"]"
   ]
  },
  {
   "cell_type": "code",
   "execution_count": 5,
   "id": "38c7640d-4b66-4865-b066-765fbd9782a5",
   "metadata": {},
   "outputs": [],
   "source": [
    "from twilio.rest import Client"
   ]
  },
  {
   "cell_type": "code",
   "execution_count": 6,
   "id": "42a7eb8c-baeb-42e5-9562-978584bea9f1",
   "metadata": {},
   "outputs": [],
   "source": [
    "client = Client(account_sid, auth_token)"
   ]
  },
  {
   "cell_type": "code",
   "execution_count": 7,
   "id": "2d32240b-8b7c-4fe9-ac3b-4bb62256db7e",
   "metadata": {},
   "outputs": [
    {
     "name": "stdout",
     "output_type": "stream",
     "text": [
      "SMe177b73d793f025060bc3b252a2651e7\n"
     ]
    }
   ],
   "source": [
    "message = client.messages.create(\n",
    "  from_='whatsapp:+14155238886',\n",
    "  body='Your appointment is coming up on July 21 at 3PM',\n",
    "  to='whatsapp:+14157069979'\n",
    ")\n",
    "\n",
    "print(message.sid)"
   ]
  }
 ],
 "metadata": {
  "kernelspec": {
   "display_name": "Python 3 (ipykernel)",
   "language": "python",
   "name": "python3"
  },
  "language_info": {
   "codemirror_mode": {
    "name": "ipython",
    "version": 3
   },
   "file_extension": ".py",
   "mimetype": "text/x-python",
   "name": "python",
   "nbconvert_exporter": "python",
   "pygments_lexer": "ipython3",
   "version": "3.11.5"
  }
 },
 "nbformat": 4,
 "nbformat_minor": 5
}
