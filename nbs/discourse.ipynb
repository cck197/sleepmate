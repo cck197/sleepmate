{
 "cells": [
  {
   "cell_type": "code",
   "execution_count": 1,
   "id": "8c55998a-d81d-4bdf-936a-1570001a00cf",
   "metadata": {},
   "outputs": [],
   "source": [
    "data={'post': {'id': 23607, 'name': 'Christopher Kelly', 'username': 'chris', 'avatar_template': '/user_avatar/forum.nourishbalancethrive.com/chris/{size}/577_2.png', 'created_at': '2023-11-02T13:22:16.275Z', 'cooked': '<p>Nah. You can’t know the dose by looking at blood levels of creatinine. All we know is that when creatinine is very low, it tends to be because the client has low muscle mass. And when it’s elevated, it’s because they’re supplementing creatine. At least amongst the NBT clients.</p>', 'post_number': 97, 'post_type': 1, 'updated_at': '2023-11-02T13:22:16.275Z', 'reply_count': 0, 'reply_to_post_number': 92, 'quote_count': 0, 'incoming_link_count': 0, 'reads': 0, 'score': 0, 'topic_id': 3606, 'topic_slug': 'meet-virtual-huberman-ask-it-anything-about-what-you-heard-on-the-huberman-lab-podcast', 'topic_title': 'Meet Virtual Huberman! Ask it anything about what you heard on the Huberman Lab podcast', 'category_id': 8, 'display_username': 'Christopher Kelly', 'primary_group_name': None, 'flair_name': None, 'flair_group_id': None, 'version': 1, 'user_title': '', 'reply_to_user': {'username': 'gregoryjohnwhite', 'name': 'Greg White', 'avatar_template': '/user_avatar/forum.nourishbalancethrive.com/gregoryjohnwhite/{size}/2426_2.png'}, 'bookmarked': False, 'raw': \"Nah. You can't know the dose by looking at blood levels of creatinine. All we know is that when creatinine is very low, it tends to be because the client has low muscle mass. And when it's elevated, it's because they're supplementing creatine. At least amongst the NBT clients.\", 'moderator': True, 'admin': False, 'staff': True, 'user_id': 2, 'hidden': False, 'trust_level': 2, 'deleted_at': None, 'user_deleted': False, 'edit_reason': None, 'wiki': False, 'reviewable_id': None, 'reviewable_score_count': 0, 'reviewable_score_pending_count': 0, 'topic_posts_count': 96, 'topic_filtered_posts_count': 96, 'topic_archetype': 'regular', 'category_slug': 'health-topics'}}"
   ]
  },
  {
   "cell_type": "code",
   "execution_count": 7,
   "id": "ad764357-48b1-4e4d-9a62-e4051cd7c975",
   "metadata": {},
   "outputs": [
    {
     "data": {
      "text/plain": [
       "'Christopher Kelly'"
      ]
     },
     "execution_count": 7,
     "metadata": {},
     "output_type": "execute_result"
    }
   ],
   "source": [
    "data[\"post\"][\"name\"]"
   ]
  },
  {
   "cell_type": "code",
   "execution_count": 14,
   "id": "8f8c7d10-e60c-4d88-a167-aab6b56e4e77",
   "metadata": {},
   "outputs": [],
   "source": [
    "data={'post': {'id': 23650, 'name': 'Christopher Kelly', 'username': 'chris', 'avatar_template': '/user_avatar/forum.nourishbalancethrive.com/chris/{size}/577_2.png', 'created_at': '2023-11-03T13:04:41.272Z', 'cooked': '<p>sure</p>', 'post_number': 192, 'post_type': 1, 'updated_at': '2023-11-03T13:04:41.272Z', 'reply_count': 0, 'reply_to_post_number': 191, 'quote_count': 0, 'incoming_link_count': 0, 'reads': 0, 'score': 0, 'topic_id': 3584, 'topic_slug': 'test-topic', 'topic_title': 'Test Topic', 'category_id': 39, 'display_username': 'Christopher Kelly', 'primary_group_name': None, 'flair_name': None, 'flair_group_id': None, 'version': 1, 'user_title': '', 'reply_to_user': {'username': 'sleepmate', 'name': 'SleepMate', 'avatar_template': '/user_avatar/forum.nourishbalancethrive.com/sleepmate/{size}/2814_2.png'}, 'bookmarked': False, 'raw': 'sure', 'moderator': True, 'admin': False, 'staff': True, 'user_id': 2, 'hidden': False, 'trust_level': 2, 'deleted_at': None, 'user_deleted': False, 'edit_reason': None, 'wiki': False, 'reviewable_id': None, 'reviewable_score_count': 0, 'reviewable_score_pending_count': 0, 'topic_posts_count': 173, 'topic_filtered_posts_count': 173, 'topic_archetype': 'regular', 'category_slug': 'test'}}"
   ]
  },
  {
   "cell_type": "code",
   "execution_count": 15,
   "id": "f87b3664-c874-4a3b-91be-33e0c008227e",
   "metadata": {},
   "outputs": [
    {
     "data": {
      "text/plain": [
       "{'post': {'id': 23650,\n",
       "  'name': 'Christopher Kelly',\n",
       "  'username': 'chris',\n",
       "  'avatar_template': '/user_avatar/forum.nourishbalancethrive.com/chris/{size}/577_2.png',\n",
       "  'created_at': '2023-11-03T13:04:41.272Z',\n",
       "  'cooked': '<p>sure</p>',\n",
       "  'post_number': 192,\n",
       "  'post_type': 1,\n",
       "  'updated_at': '2023-11-03T13:04:41.272Z',\n",
       "  'reply_count': 0,\n",
       "  'reply_to_post_number': 191,\n",
       "  'quote_count': 0,\n",
       "  'incoming_link_count': 0,\n",
       "  'reads': 0,\n",
       "  'score': 0,\n",
       "  'topic_id': 3584,\n",
       "  'topic_slug': 'test-topic',\n",
       "  'topic_title': 'Test Topic',\n",
       "  'category_id': 39,\n",
       "  'display_username': 'Christopher Kelly',\n",
       "  'primary_group_name': None,\n",
       "  'flair_name': None,\n",
       "  'flair_group_id': None,\n",
       "  'version': 1,\n",
       "  'user_title': '',\n",
       "  'reply_to_user': {'username': 'sleepmate',\n",
       "   'name': 'SleepMate',\n",
       "   'avatar_template': '/user_avatar/forum.nourishbalancethrive.com/sleepmate/{size}/2814_2.png'},\n",
       "  'bookmarked': False,\n",
       "  'raw': 'sure',\n",
       "  'moderator': True,\n",
       "  'admin': False,\n",
       "  'staff': True,\n",
       "  'user_id': 2,\n",
       "  'hidden': False,\n",
       "  'trust_level': 2,\n",
       "  'deleted_at': None,\n",
       "  'user_deleted': False,\n",
       "  'edit_reason': None,\n",
       "  'wiki': False,\n",
       "  'reviewable_id': None,\n",
       "  'reviewable_score_count': 0,\n",
       "  'reviewable_score_pending_count': 0,\n",
       "  'topic_posts_count': 173,\n",
       "  'topic_filtered_posts_count': 173,\n",
       "  'topic_archetype': 'regular',\n",
       "  'category_slug': 'test'}}"
      ]
     },
     "execution_count": 15,
     "metadata": {},
     "output_type": "execute_result"
    }
   ],
   "source": [
    "data"
   ]
  },
  {
   "cell_type": "code",
   "execution_count": 16,
   "id": "91708416-16f0-4f55-a808-2cbf50db2656",
   "metadata": {},
   "outputs": [],
   "source": [
    "post = data.get(\"post\", {})"
   ]
  },
  {
   "cell_type": "code",
   "execution_count": 17,
   "id": "0cef975e-33ce-4860-acea-f7578cbbb659",
   "metadata": {},
   "outputs": [
    {
     "data": {
      "text/plain": [
       "'sleepmate'"
      ]
     },
     "execution_count": 17,
     "metadata": {},
     "output_type": "execute_result"
    }
   ],
   "source": [
    "post.get(\"reply_to_user\", {}).get(\"username\")"
   ]
  },
  {
   "cell_type": "code",
   "execution_count": null,
   "id": "0d1e856a-ff25-412b-9a91-e24d7a012b00",
   "metadata": {},
   "outputs": [],
   "source": []
  }
 ],
 "metadata": {
  "kernelspec": {
   "display_name": "Python 3 (ipykernel)",
   "language": "python",
   "name": "python3"
  },
  "language_info": {
   "codemirror_mode": {
    "name": "ipython",
    "version": 3
   },
   "file_extension": ".py",
   "mimetype": "text/x-python",
   "name": "python",
   "nbconvert_exporter": "python",
   "pygments_lexer": "ipython3",
   "version": "3.11.5"
  }
 },
 "nbformat": 4,
 "nbformat_minor": 5
}
