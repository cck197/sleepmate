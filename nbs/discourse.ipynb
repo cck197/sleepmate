{
 "cells": [
  {
   "cell_type": "code",
   "execution_count": 1,
   "id": "8c55998a-d81d-4bdf-936a-1570001a00cf",
   "metadata": {},
   "outputs": [],
   "source": [
    "data={'post': {'id': 23607, 'name': 'Christopher Kelly', 'username': 'chris', 'avatar_template': '/user_avatar/forum.nourishbalancethrive.com/chris/{size}/577_2.png', 'created_at': '2023-11-02T13:22:16.275Z', 'cooked': '<p>Nah. You can’t know the dose by looking at blood levels of creatinine. All we know is that when creatinine is very low, it tends to be because the client has low muscle mass. And when it’s elevated, it’s because they’re supplementing creatine. At least amongst the NBT clients.</p>', 'post_number': 97, 'post_type': 1, 'updated_at': '2023-11-02T13:22:16.275Z', 'reply_count': 0, 'reply_to_post_number': 92, 'quote_count': 0, 'incoming_link_count': 0, 'reads': 0, 'score': 0, 'topic_id': 3606, 'topic_slug': 'meet-virtual-huberman-ask-it-anything-about-what-you-heard-on-the-huberman-lab-podcast', 'topic_title': 'Meet Virtual Huberman! Ask it anything about what you heard on the Huberman Lab podcast', 'category_id': 8, 'display_username': 'Christopher Kelly', 'primary_group_name': None, 'flair_name': None, 'flair_group_id': None, 'version': 1, 'user_title': '', 'reply_to_user': {'username': 'gregoryjohnwhite', 'name': 'Greg White', 'avatar_template': '/user_avatar/forum.nourishbalancethrive.com/gregoryjohnwhite/{size}/2426_2.png'}, 'bookmarked': False, 'raw': \"Nah. You can't know the dose by looking at blood levels of creatinine. All we know is that when creatinine is very low, it tends to be because the client has low muscle mass. And when it's elevated, it's because they're supplementing creatine. At least amongst the NBT clients.\", 'moderator': True, 'admin': False, 'staff': True, 'user_id': 2, 'hidden': False, 'trust_level': 2, 'deleted_at': None, 'user_deleted': False, 'edit_reason': None, 'wiki': False, 'reviewable_id': None, 'reviewable_score_count': 0, 'reviewable_score_pending_count': 0, 'topic_posts_count': 96, 'topic_filtered_posts_count': 96, 'topic_archetype': 'regular', 'category_slug': 'health-topics'}}"
   ]
  },
  {
   "cell_type": "code",
   "execution_count": 7,
   "id": "ad764357-48b1-4e4d-9a62-e4051cd7c975",
   "metadata": {},
   "outputs": [
    {
     "data": {
      "text/plain": [
       "'Christopher Kelly'"
      ]
     },
     "execution_count": 7,
     "metadata": {},
     "output_type": "execute_result"
    }
   ],
   "source": [
    "data[\"post\"][\"name\"]"
   ]
  },
  {
   "cell_type": "code",
   "execution_count": null,
   "id": "63a1998d-b7ab-4409-ab42-0b52b3e90314",
   "metadata": {},
   "outputs": [],
   "source": []
  }
 ],
 "metadata": {
  "kernelspec": {
   "display_name": "Python 3 (ipykernel)",
   "language": "python",
   "name": "python3"
  },
  "language_info": {
   "codemirror_mode": {
    "name": "ipython",
    "version": 3
   },
   "file_extension": ".py",
   "mimetype": "text/x-python",
   "name": "python",
   "nbconvert_exporter": "python",
   "pygments_lexer": "ipython3",
   "version": "3.11.5"
  }
 },
 "nbformat": 4,
 "nbformat_minor": 5
}
