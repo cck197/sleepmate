{
 "cells": [
  {
   "cell_type": "code",
   "execution_count": 1,
   "id": "b00ed3dd-5dd0-4aeb-ae11-a37eea67612e",
   "metadata": {},
   "outputs": [],
   "source": [
    "from sleepmate.agent import *"
   ]
  },
  {
   "cell_type": "markdown",
   "id": "ff7b44f5-85bd-411a-8e2a-cf18366f0653",
   "metadata": {
    "jp-MarkdownHeadingCollapsed": true
   },
   "source": [
    "# Open Focus"
   ]
  },
  {
   "cell_type": "code",
   "execution_count": 2,
   "id": "6b8660cd-f5e7-46d0-ae5d-187f063e0a16",
   "metadata": {},
   "outputs": [
    {
     "name": "stdout",
     "output_type": "stream",
     "text": [
      "get_agent len(tools)=10\n",
      "load_memory filename='/Users/cck197/Downloads/virtual_greg/memory.pkl'\n"
     ]
    },
    {
     "data": {
      "text/markdown": [
       "Hello Chris! How are you feeling today?"
      ],
      "text/plain": [
       "<IPython.core.display.Markdown object>"
      ]
     },
     "metadata": {},
     "output_type": "display_data"
    }
   ],
   "source": [
    "x = X(goals[\"open_focus\"]);"
   ]
  },
  {
   "cell_type": "code",
   "execution_count": 3,
   "id": "ee083bef-14f4-45f2-b796-baabce10581d",
   "metadata": {},
   "outputs": [
    {
     "data": {
      "text/markdown": [
       "I'm glad to hear you're doing okay, Chris. If you're up for it, I'd like to guide you through an exercise called \"open focus\". It's a way to broaden your focus and can be quite relaxing. Would now be a good time for that?"
      ],
      "text/plain": [
       "<IPython.core.display.Markdown object>"
      ]
     },
     "metadata": {},
     "output_type": "display_data"
    }
   ],
   "source": [
    "x(\"not bad\");"
   ]
  },
  {
   "cell_type": "code",
   "execution_count": 4,
   "id": "3ae96269-16ab-46ad-9558-0bb2fb1a0f00",
   "metadata": {},
   "outputs": [
    {
     "data": {
      "text/markdown": [
       "Great, let's get started. \n",
       "\n",
       "First, find a comfortable position where you can relax. This could be sitting, lying down, or even standing if you prefer. \n",
       "\n",
       "Once you're comfortable, I want you to start by focusing on your breath. Notice the sensation of the air entering and leaving your body. Don't try to change your breathing, just observe it. \n",
       "\n",
       "Can you do that for me, Chris?"
      ],
      "text/plain": [
       "<IPython.core.display.Markdown object>"
      ]
     },
     "metadata": {},
     "output_type": "display_data"
    }
   ],
   "source": [
    "x(\"ok\");"
   ]
  },
  {
   "cell_type": "code",
   "execution_count": 5,
   "id": "9c83b54a-da6b-4ca7-9034-ae21bfbd86f1",
   "metadata": {},
   "outputs": [
    {
     "data": {
      "text/markdown": [
       "I'm glad you're following along, Chris. However, it's important to take this exercise one step at a time. This allows you to fully immerse yourself in each step and get the most out of the exercise. \n",
       "\n",
       "Now that you're focusing on your breath, I want you to start to broaden your focus. Begin to notice the sensation of your body against the chair or floor. Feel the weight of your body and the points of contact. \n",
       "\n",
       "Can you do that for me?"
      ],
      "text/plain": [
       "<IPython.core.display.Markdown object>"
      ]
     },
     "metadata": {},
     "output_type": "display_data"
    }
   ],
   "source": [
    "x(\"yep, give me all the steps\");"
   ]
  },
  {
   "cell_type": "code",
   "execution_count": 6,
   "id": "05ea96fe-157f-4047-ac8a-13b97c14c158",
   "metadata": {},
   "outputs": [
    {
     "data": {
      "text/markdown": [
       "Great job, Chris. Now, let's broaden your focus even more. \n",
       "\n",
       "Start to become aware of the room around you. Notice any sounds, smells, or sensations. Try to hold all of these perceptions in your awareness at once. \n",
       "\n",
       "Can you do that for me?"
      ],
      "text/plain": [
       "<IPython.core.display.Markdown object>"
      ]
     },
     "metadata": {},
     "output_type": "display_data"
    }
   ],
   "source": [
    "x(\"ok\");"
   ]
  },
  {
   "cell_type": "code",
   "execution_count": 7,
   "id": "81fea084-daad-4274-abb5-50d6ba03cafb",
   "metadata": {
    "scrolled": true
   },
   "outputs": [
    {
     "data": {
      "text/markdown": [
       "Well done, Chris. Now, let's take it a step further. \n",
       "\n",
       "Try to expand your awareness beyond the room. Imagine the building you're in, the street outside, the city around you. Try to hold all of this in your awareness. \n",
       "\n",
       "Can you do that for me?"
      ],
      "text/plain": [
       "<IPython.core.display.Markdown object>"
      ]
     },
     "metadata": {},
     "output_type": "display_data"
    }
   ],
   "source": [
    "x(\"ok\");"
   ]
  },
  {
   "cell_type": "code",
   "execution_count": 8,
   "id": "66b856ae-25ff-4cf7-8802-d82048aad850",
   "metadata": {},
   "outputs": [
    {
     "data": {
      "text/markdown": [
       "Excellent, Chris. Now, for the final step. \n",
       "\n",
       "I want you to imagine expanding your awareness even further, beyond the city, beyond the country, until you're holding the entire planet in your awareness. \n",
       "\n",
       "Take a few moments to sit with this expanded sense of awareness. \n",
       "\n",
       "Can you do that for me?"
      ],
      "text/plain": [
       "<IPython.core.display.Markdown object>"
      ]
     },
     "metadata": {},
     "output_type": "display_data"
    }
   ],
   "source": [
    "x(\"ok\");"
   ]
  },
  {
   "cell_type": "code",
   "execution_count": 9,
   "id": "568e4339-cc7d-454c-bfe6-189f31294476",
   "metadata": {},
   "outputs": [
    {
     "data": {
      "text/markdown": [
       "Fantastic, Chris. You've done really well with this exercise. \n",
       "\n",
       "Remember, the goal of open focus is not to change your thoughts, but to change the way you relate to them. By broadening your focus, you can create a sense of space around your thoughts, which can make them feel less intense and overwhelming. \n",
       "\n",
       "I hope you found this exercise helpful. Feel free to practice it whenever you need a moment of calm. 🚀🚀🚀"
      ],
      "text/plain": [
       "<IPython.core.display.Markdown object>"
      ]
     },
     "metadata": {},
     "output_type": "display_data"
    }
   ],
   "source": [
    "x(\"ok\");"
   ]
  },
  {
   "cell_type": "markdown",
   "id": "8299ea39-7347-4a7c-bb7b-67ccb98715c1",
   "metadata": {},
   "source": [
    "# Leaves on a Stream"
   ]
  },
  {
   "cell_type": "code",
   "execution_count": 10,
   "id": "da55b7d1-3305-4361-8acb-e8f4d158fed7",
   "metadata": {},
   "outputs": [
    {
     "name": "stdout",
     "output_type": "stream",
     "text": [
      "get_agent len(tools)=10\n",
      "load_memory filename='/Users/cck197/Downloads/virtual_greg/memory.pkl'\n"
     ]
    },
    {
     "data": {
      "text/markdown": [
       "Hello Chris! How are you feeling today?"
      ],
      "text/plain": [
       "<IPython.core.display.Markdown object>"
      ]
     },
     "metadata": {},
     "output_type": "display_data"
    }
   ],
   "source": [
    "x = X(goals[\"leaves_on_a_stream\"]);"
   ]
  },
  {
   "cell_type": "code",
   "execution_count": 11,
   "id": "3284d36d-af14-479e-b4de-3f371c4632e6",
   "metadata": {},
   "outputs": [
    {
     "data": {
      "text/markdown": [
       "I'm glad to hear you're doing okay, Chris. If you're up for it, I'd like to guide you through an exercise called \"leaves on a stream\". It's a way to help you manage your thoughts and can be quite relaxing. Would now be a good time for that?"
      ],
      "text/plain": [
       "<IPython.core.display.Markdown object>"
      ]
     },
     "metadata": {},
     "output_type": "display_data"
    }
   ],
   "source": [
    "x(\"not bad\");"
   ]
  },
  {
   "cell_type": "code",
   "execution_count": 12,
   "id": "5f9acfe1-26fc-4a91-8d76-2f1266f61e0e",
   "metadata": {},
   "outputs": [
    {
     "data": {
      "text/markdown": [
       "Great, let's get started. \n",
       "\n",
       "First, I'd like you to find a comfortable position where you can relax. This could be sitting, lying down, or even standing if you prefer. \n",
       "\n",
       "Once you're comfortable, I want you to close your eyes and imagine that you're sitting by a gently flowing stream with leaves floating along the surface of the water. \n",
       "\n",
       "Can you do that for me, Chris?"
      ],
      "text/plain": [
       "<IPython.core.display.Markdown object>"
      ]
     },
     "metadata": {},
     "output_type": "display_data"
    }
   ],
   "source": [
    "x(\"sure, let's do it!\");"
   ]
  },
  {
   "cell_type": "code",
   "execution_count": 13,
   "id": "7d287a20-1868-40b4-9055-4ba0a581d518",
   "metadata": {},
   "outputs": [
    {
     "data": {
      "text/markdown": [
       "Great, Chris. Now, as you sit by this stream, I want you to take each thought that enters your mind and place it on a leaf. \n",
       "\n",
       "Just let it float by. It doesn't matter what the thought is, whether it's positive or negative. Simply acknowledge it, place it on a leaf, and let it float away. \n",
       "\n",
       "Can you do that for me?"
      ],
      "text/plain": [
       "<IPython.core.display.Markdown object>"
      ]
     },
     "metadata": {},
     "output_type": "display_data"
    }
   ],
   "source": [
    "x(\"ok\");"
   ]
  },
  {
   "cell_type": "code",
   "execution_count": 14,
   "id": "a7eaa6be-2a2c-4fc5-981f-b93530f0b7bd",
   "metadata": {},
   "outputs": [
    {
     "data": {
      "text/markdown": [
       "Well done, Chris. \n",
       "\n",
       "Remember, if your thoughts distract you and you lose sight of the visualization, that's okay. Just gently bring your focus back to the stream and start again. \n",
       "\n",
       "Now, continue to sit by the stream, placing each thought on a leaf and letting it float by. \n",
       "\n",
       "Can you do that for me?"
      ],
      "text/plain": [
       "<IPython.core.display.Markdown object>"
      ]
     },
     "metadata": {},
     "output_type": "display_data"
    }
   ],
   "source": [
    "x(\"ok\");"
   ]
  },
  {
   "cell_type": "code",
   "execution_count": 15,
   "id": "169a704c-a7d1-4231-9f99-f739b66fda3b",
   "metadata": {},
   "outputs": [
    {
     "data": {
      "text/markdown": [
       "Excellent, Chris. \n",
       "\n",
       "You're doing really well. This exercise is all about observing your thoughts without getting caught up in them. \n",
       "\n",
       "Now, I want you to continue with this exercise for a few more minutes. Remember, there's no right or wrong way to do this. It's all about noticing each thought and letting it go. \n",
       "\n",
       "Can you do that for me?"
      ],
      "text/plain": [
       "<IPython.core.display.Markdown object>"
      ]
     },
     "metadata": {},
     "output_type": "display_data"
    }
   ],
   "source": [
    "x(\"ok\");"
   ]
  },
  {
   "cell_type": "code",
   "execution_count": 16,
   "id": "d8b494fb-32db-47e0-a9b5-6423df0d2a0a",
   "metadata": {},
   "outputs": [
    {
     "data": {
      "text/markdown": [
       "Fantastic, Chris. \n",
       "\n",
       "You've done really well with this exercise. The \"leaves on a stream\" exercise is a form of mindfulness practice that can help you to defuse from your thoughts and see them as what they are - just thoughts, nothing more, nothing less. \n",
       "\n",
       "I hope you found this exercise helpful. Feel free to practice it whenever you need a moment of calm. 🚀🚀🚀"
      ],
      "text/plain": [
       "<IPython.core.display.Markdown object>"
      ]
     },
     "metadata": {},
     "output_type": "display_data"
    }
   ],
   "source": [
    "x(\"ok\");"
   ]
  },
  {
   "cell_type": "markdown",
   "id": "ac8d4c6a-01cd-4a32-b4f8-13efb288c409",
   "metadata": {
    "jp-MarkdownHeadingCollapsed": true
   },
   "source": [
    "# Valued Living Questionnaire (VLQ)"
   ]
  },
  {
   "cell_type": "code",
   "execution_count": 2,
   "id": "5da63f8e-a533-4a84-a846-8e52f0eca12c",
   "metadata": {},
   "outputs": [
    {
     "name": "stdout",
     "output_type": "stream",
     "text": [
      "get_agent len(tools)=10\n",
      "load_memory filename='/Users/cck197/Downloads/virtual_greg/memory.pkl'\n"
     ]
    },
    {
     "data": {
      "text/markdown": [
       "Hello again, Chris! How can I assist you today?"
      ],
      "text/plain": [
       "<IPython.core.display.Markdown object>"
      ]
     },
     "metadata": {},
     "output_type": "display_data"
    }
   ],
   "source": [
    "x = X(goals[\"valued_living\"])"
   ]
  },
  {
   "cell_type": "code",
   "execution_count": 3,
   "id": "8328cbaf-5253-4846-ab55-80b05c8ebc95",
   "metadata": {},
   "outputs": [
    {
     "data": {
      "text/markdown": [
       "I'm glad you're eager to continue making progress, Chris! Now that we've established good habits with the SEEDS exercise, let's move on to another important aspect of well-being: your values and how you're living in accordance with them. \n",
       "\n",
       "I'd like to guide you through the Valued Living Questionnaire (VLQ). This questionnaire will help you reflect on different areas of your life and how much they matter to you. It will also help you think about whether your actions align with what's important to you. \n",
       "\n",
       "Is now a good time to do the survey?"
      ],
      "text/plain": [
       "<IPython.core.display.Markdown object>"
      ]
     },
     "metadata": {},
     "output_type": "display_data"
    },
    {
     "data": {
      "text/plain": [
       "\"I'm glad you're eager to continue making progress, Chris! Now that we've established good habits with the SEEDS exercise, let's move on to another important aspect of well-being: your values and how you're living in accordance with them. \\n\\nI'd like to guide you through the Valued Living Questionnaire (VLQ). This questionnaire will help you reflect on different areas of your life and how much they matter to you. It will also help you think about whether your actions align with what's important to you. \\n\\nIs now a good time to do the survey?\""
      ]
     },
     "execution_count": 3,
     "metadata": {},
     "output_type": "execute_result"
    }
   ],
   "source": [
    "x(\"what should I do next?\")"
   ]
  },
  {
   "cell_type": "code",
   "execution_count": 4,
   "id": "126a5fad-c7e6-4917-81e9-a67f72485bef",
   "metadata": {},
   "outputs": [
    {
     "data": {
      "text/markdown": [
       "Great! Let's start with the first domain: Family relations (other than marriage or parent). \n",
       "\n",
       "a) On a scale of 1 to 10, with 1 being not at all important and 10 being extremely important, how important is this domain to you?\n",
       "b) Over the past week, how consistently have you lived in accordance with your values in this domain? Again, rate this on a scale of 1 to 10, with 1 being not at all consistent and 10 being completely consistent."
      ],
      "text/plain": [
       "<IPython.core.display.Markdown object>"
      ]
     },
     "metadata": {},
     "output_type": "display_data"
    },
    {
     "data": {
      "text/plain": [
       "\"Great! Let's start with the first domain: Family relations (other than marriage or parent). \\n\\na) On a scale of 1 to 10, with 1 being not at all important and 10 being extremely important, how important is this domain to you?\\nb) Over the past week, how consistently have you lived in accordance with your values in this domain? Again, rate this on a scale of 1 to 10, with 1 being not at all consistent and 10 being completely consistent.\""
      ]
     },
     "execution_count": 4,
     "metadata": {},
     "output_type": "execute_result"
    }
   ],
   "source": [
    "x(\"sure\")"
   ]
  },
  {
   "cell_type": "code",
   "execution_count": 5,
   "id": "ca0b3a7b-9376-4375-acb3-797ee2bcedc9",
   "metadata": {},
   "outputs": [
    {
     "data": {
      "text/markdown": [
       "Thank you, Chris.\n",
       "\n",
       "Now let's move on to the second domain: Marriage/couples/intimate relations.\n",
       "\n",
       "a) How important is this domain to you on a scale of 1 to 10?\n",
       "b) Over the past week, how consistently have you lived in accordance with your values in this domain? Please rate this on a scale of 1 to 10."
      ],
      "text/plain": [
       "<IPython.core.display.Markdown object>"
      ]
     },
     "metadata": {},
     "output_type": "display_data"
    },
    {
     "data": {
      "text/plain": [
       "\"Thank you, Chris.\\n\\nNow let's move on to the second domain: Marriage/couples/intimate relations.\\n\\na) How important is this domain to you on a scale of 1 to 10?\\nb) Over the past week, how consistently have you lived in accordance with your values in this domain? Please rate this on a scale of 1 to 10.\""
      ]
     },
     "execution_count": 5,
     "metadata": {},
     "output_type": "execute_result"
    }
   ],
   "source": [
    "x(\"5, 5\")"
   ]
  },
  {
   "cell_type": "code",
   "execution_count": 11,
   "id": "314f9219-560c-437e-86bd-055b1f2fb540",
   "metadata": {},
   "outputs": [
    {
     "name": "stdout",
     "output_type": "stream",
     "text": [
      "\n",
      "\n",
      "\u001b[1m> Entering new AgentExecutor chain...\u001b[0m\n",
      "\u001b[32;1m\u001b[1;3mOf course, Chris. Here are your responses so far:\n",
      "\n",
      "1. Family relations (other than marriage or parent): \n",
      "   - Importance: 5\n",
      "   - Consistency: 5\n",
      "\n",
      "We're about to move on to the second domain, which is Marriage/couples/intimate relations. \n",
      "\n",
      "Does this look correct to you?\u001b[0m\n",
      "\n",
      "\u001b[1m> Finished chain.\u001b[0m\n",
      "Of course, Chris. Here are your responses so far:\n",
      "\n",
      "1. Family relations (other than marriage or parent): \n",
      "   - Importance: 5\n",
      "   - Consistency: 5\n",
      "\n",
      "We're about to move on to the second domain, which is Marriage/couples/intimate relations. \n",
      "\n",
      "Does this look correct to you?\n"
     ]
    },
    {
     "data": {
      "text/plain": [
       "False"
      ]
     },
     "execution_count": 11,
     "metadata": {},
     "output_type": "execute_result"
    }
   ],
   "source": [
    "x(\"summarise my answers so far\")"
   ]
  },
  {
   "cell_type": "code",
   "execution_count": 6,
   "id": "ed0a185b-6f69-474e-9428-cc16aa38e529",
   "metadata": {},
   "outputs": [
    {
     "data": {
      "text/markdown": [
       "Thank you, Chris.\n",
       "\n",
       "Now let's move on to the third domain: Being a parent.\n",
       "\n",
       "a) How important is this domain to you on a scale of 1 to 10?\n",
       "b) Over the past week, how consistently have you lived in accordance with your values in this domain? Please rate this on a scale of 1 to 10."
      ],
      "text/plain": [
       "<IPython.core.display.Markdown object>"
      ]
     },
     "metadata": {},
     "output_type": "display_data"
    },
    {
     "data": {
      "text/plain": [
       "\"Thank you, Chris.\\n\\nNow let's move on to the third domain: Being a parent.\\n\\na) How important is this domain to you on a scale of 1 to 10?\\nb) Over the past week, how consistently have you lived in accordance with your values in this domain? Please rate this on a scale of 1 to 10.\""
      ]
     },
     "execution_count": 6,
     "metadata": {},
     "output_type": "execute_result"
    }
   ],
   "source": [
    "x(\"10, 9\")"
   ]
  },
  {
   "cell_type": "code",
   "execution_count": 7,
   "id": "30353ec4-1cd2-4c05-858b-27f5a65a1252",
   "metadata": {},
   "outputs": [
    {
     "data": {
      "text/markdown": [
       "Thank you, Chris.\n",
       "\n",
       "Now let's move on to the fourth domain: Friendships/social relations.\n",
       "\n",
       "a) How important is this domain to you on a scale of 1 to 10?\n",
       "b) Over the past week, how consistently have you lived in accordance with your values in this domain? Please rate this on a scale of 1 to 10."
      ],
      "text/plain": [
       "<IPython.core.display.Markdown object>"
      ]
     },
     "metadata": {},
     "output_type": "display_data"
    },
    {
     "data": {
      "text/plain": [
       "\"Thank you, Chris.\\n\\nNow let's move on to the fourth domain: Friendships/social relations.\\n\\na) How important is this domain to you on a scale of 1 to 10?\\nb) Over the past week, how consistently have you lived in accordance with your values in this domain? Please rate this on a scale of 1 to 10.\""
      ]
     },
     "execution_count": 7,
     "metadata": {},
     "output_type": "execute_result"
    }
   ],
   "source": [
    "x(\"10, 8\")"
   ]
  },
  {
   "cell_type": "code",
   "execution_count": 8,
   "id": "9afbae3a-a18a-4173-b56d-c215a75bf7db",
   "metadata": {},
   "outputs": [
    {
     "data": {
      "text/markdown": [
       "Thank you, Chris.\n",
       "\n",
       "Now let's move on to the fifth domain: Work.\n",
       "\n",
       "a) How important is this domain to you on a scale of 1 to 10?\n",
       "b) Over the past week, how consistently have you lived in accordance with your values in this domain? Please rate this on a scale of 1 to 10."
      ],
      "text/plain": [
       "<IPython.core.display.Markdown object>"
      ]
     },
     "metadata": {},
     "output_type": "display_data"
    },
    {
     "data": {
      "text/plain": [
       "\"Thank you, Chris.\\n\\nNow let's move on to the fifth domain: Work.\\n\\na) How important is this domain to you on a scale of 1 to 10?\\nb) Over the past week, how consistently have you lived in accordance with your values in this domain? Please rate this on a scale of 1 to 10.\""
      ]
     },
     "execution_count": 8,
     "metadata": {},
     "output_type": "execute_result"
    }
   ],
   "source": [
    "x(\"10, 10\")"
   ]
  },
  {
   "cell_type": "code",
   "execution_count": 9,
   "id": "f21d280f-165c-4e86-bc76-94d126d221e8",
   "metadata": {},
   "outputs": [
    {
     "data": {
      "text/markdown": [
       "Thank you, Chris.\n",
       "\n",
       "Now let's move on to the sixth domain: Education/personal growth and development.\n",
       "\n",
       "a) How important is this domain to you on a scale of 1 to 10?\n",
       "b) Over the past week, how consistently have you lived in accordance with your values in this domain? Please rate this on a scale of 1 to 10."
      ],
      "text/plain": [
       "<IPython.core.display.Markdown object>"
      ]
     },
     "metadata": {},
     "output_type": "display_data"
    },
    {
     "data": {
      "text/plain": [
       "\"Thank you, Chris.\\n\\nNow let's move on to the sixth domain: Education/personal growth and development.\\n\\na) How important is this domain to you on a scale of 1 to 10?\\nb) Over the past week, how consistently have you lived in accordance with your values in this domain? Please rate this on a scale of 1 to 10.\""
      ]
     },
     "execution_count": 9,
     "metadata": {},
     "output_type": "execute_result"
    }
   ],
   "source": [
    "x(\"10 for both\")"
   ]
  },
  {
   "cell_type": "code",
   "execution_count": 10,
   "id": "ac16febd-51c3-4620-a129-4b366ebf140f",
   "metadata": {},
   "outputs": [
    {
     "data": {
      "text/markdown": [
       "Thank you, Chris.\n",
       "\n",
       "Now let's move on to the seventh domain: Recreation/leisure.\n",
       "\n",
       "a) How important is this domain to you on a scale of 1 to 10?\n",
       "b) Over the past week, how consistently have you lived in accordance with your values in this domain? Please rate this on a scale of 1 to 10."
      ],
      "text/plain": [
       "<IPython.core.display.Markdown object>"
      ]
     },
     "metadata": {},
     "output_type": "display_data"
    },
    {
     "data": {
      "text/plain": [
       "\"Thank you, Chris.\\n\\nNow let's move on to the seventh domain: Recreation/leisure.\\n\\na) How important is this domain to you on a scale of 1 to 10?\\nb) Over the past week, how consistently have you lived in accordance with your values in this domain? Please rate this on a scale of 1 to 10.\""
      ]
     },
     "execution_count": 10,
     "metadata": {},
     "output_type": "execute_result"
    }
   ],
   "source": [
    "x(\"6, 10\")"
   ]
  },
  {
   "cell_type": "code",
   "execution_count": 11,
   "id": "af5dc741-a380-495c-81ea-8e3aceb8e467",
   "metadata": {},
   "outputs": [
    {
     "data": {
      "text/markdown": [
       "Thank you, Chris.\n",
       "\n",
       "Now let's move on to the eighth domain: Spirituality/religion.\n",
       "\n",
       "a) How important is this domain to you on a scale of 1 to 10?\n",
       "b) Over the past week, how consistently have you lived in accordance with your values in this domain? Please rate this on a scale of 1 to 10."
      ],
      "text/plain": [
       "<IPython.core.display.Markdown object>"
      ]
     },
     "metadata": {},
     "output_type": "display_data"
    },
    {
     "data": {
      "text/plain": [
       "\"Thank you, Chris.\\n\\nNow let's move on to the eighth domain: Spirituality/religion.\\n\\na) How important is this domain to you on a scale of 1 to 10?\\nb) Over the past week, how consistently have you lived in accordance with your values in this domain? Please rate this on a scale of 1 to 10.\""
      ]
     },
     "execution_count": 11,
     "metadata": {},
     "output_type": "execute_result"
    }
   ],
   "source": [
    "x(\"10 and 10\")"
   ]
  },
  {
   "cell_type": "code",
   "execution_count": 12,
   "id": "bea35fe5-47ae-457e-951a-53929f8c1c0d",
   "metadata": {},
   "outputs": [
    {
     "data": {
      "text/markdown": [
       "Thank you, Chris.\n",
       "\n",
       "Now let's move on to the ninth domain: Citizenship/community life.\n",
       "\n",
       "a) How important is this domain to you on a scale of 1 to 10?\n",
       "b) Over the past week, how consistently have you lived in accordance with your values in this domain? Please rate this on a scale of 1 to 10."
      ],
      "text/plain": [
       "<IPython.core.display.Markdown object>"
      ]
     },
     "metadata": {},
     "output_type": "display_data"
    },
    {
     "data": {
      "text/plain": [
       "\"Thank you, Chris.\\n\\nNow let's move on to the ninth domain: Citizenship/community life.\\n\\na) How important is this domain to you on a scale of 1 to 10?\\nb) Over the past week, how consistently have you lived in accordance with your values in this domain? Please rate this on a scale of 1 to 10.\""
      ]
     },
     "execution_count": 12,
     "metadata": {},
     "output_type": "execute_result"
    }
   ],
   "source": [
    "x(\"10 and 10\")"
   ]
  },
  {
   "cell_type": "code",
   "execution_count": 13,
   "id": "c3bd7b53-7af4-41d3-97e4-0aa4117c72c7",
   "metadata": {},
   "outputs": [
    {
     "data": {
      "text/markdown": [
       "Thank you, Chris.\n",
       "\n",
       "Now let's move on to the tenth domain: Physical self-care (e.g., exercise, diet, sleep).\n",
       "\n",
       "a) How important is this domain to you on a scale of 1 to 10?\n",
       "b) Over the past week, how consistently have you lived in accordance with your values in this domain? Please rate this on a scale of 1 to 10."
      ],
      "text/plain": [
       "<IPython.core.display.Markdown object>"
      ]
     },
     "metadata": {},
     "output_type": "display_data"
    },
    {
     "data": {
      "text/plain": [
       "\"Thank you, Chris.\\n\\nNow let's move on to the tenth domain: Physical self-care (e.g., exercise, diet, sleep).\\n\\na) How important is this domain to you on a scale of 1 to 10?\\nb) Over the past week, how consistently have you lived in accordance with your values in this domain? Please rate this on a scale of 1 to 10.\""
      ]
     },
     "execution_count": 13,
     "metadata": {},
     "output_type": "execute_result"
    }
   ],
   "source": [
    "x(\"0, 0\")"
   ]
  },
  {
   "cell_type": "code",
   "execution_count": 14,
   "id": "17247b8d-15ca-41aa-b2f7-70443cfbe35c",
   "metadata": {},
   "outputs": [
    {
     "data": {
      "text/markdown": [
       "Thank you, Chris.\n",
       "\n",
       "Now let's move on to the eleventh domain: Environmental issues (e.g., pollution, conservation).\n",
       "\n",
       "a) How important is this domain to you on a scale of 1 to 10?\n",
       "b) Over the past week, how consistently have you lived in accordance with your values in this domain? Please rate this on a scale of 1 to 10."
      ],
      "text/plain": [
       "<IPython.core.display.Markdown object>"
      ]
     },
     "metadata": {},
     "output_type": "display_data"
    },
    {
     "data": {
      "text/plain": [
       "\"Thank you, Chris.\\n\\nNow let's move on to the eleventh domain: Environmental issues (e.g., pollution, conservation).\\n\\na) How important is this domain to you on a scale of 1 to 10?\\nb) Over the past week, how consistently have you lived in accordance with your values in this domain? Please rate this on a scale of 1 to 10.\""
      ]
     },
     "execution_count": 14,
     "metadata": {},
     "output_type": "execute_result"
    }
   ],
   "source": [
    "x(\"10, 2\")"
   ]
  },
  {
   "cell_type": "code",
   "execution_count": 15,
   "id": "1d6a110b-e01f-431c-bd7a-47b452e9de11",
   "metadata": {},
   "outputs": [
    {
     "data": {
      "text/markdown": [
       "Thank you, Chris.\n",
       "\n",
       "Finally, let's move on to the twelfth domain: Art, creative expression, aesthetics.\n",
       "\n",
       "a) How important is this domain to you on a scale of 1 to 10?\n",
       "b) Over the past week, how consistently have you lived in accordance with your values in this domain? Please rate this on a scale of 1 to 10."
      ],
      "text/plain": [
       "<IPython.core.display.Markdown object>"
      ]
     },
     "metadata": {},
     "output_type": "display_data"
    },
    {
     "data": {
      "text/plain": [
       "\"Thank you, Chris.\\n\\nFinally, let's move on to the twelfth domain: Art, creative expression, aesthetics.\\n\\na) How important is this domain to you on a scale of 1 to 10?\\nb) Over the past week, how consistently have you lived in accordance with your values in this domain? Please rate this on a scale of 1 to 10.\""
      ]
     },
     "execution_count": 15,
     "metadata": {},
     "output_type": "execute_result"
    }
   ],
   "source": [
    "x(\"10 for both\")"
   ]
  },
  {
   "cell_type": "code",
   "execution_count": 16,
   "id": "1b26e0b4-46bb-45d2-b095-53f37a24d9e9",
   "metadata": {},
   "outputs": [
    {
     "data": {
      "text/markdown": [
       "Thank you for your responses, Chris. Here's a summary:\n",
       "\n",
       "1. Family relations: Importance 5, Consistency 5\n",
       "2. Marriage/couples/intimate relations: Importance 10, Consistency 9\n",
       "3. Being a parent: Importance 10, Consistency 8\n",
       "4. Friendships/social relations: Importance 10, Consistency 10\n",
       "5. Work: Importance 10, Consistency 10\n",
       "6. Education/personal growth and development: Importance 6, Consistency 10\n",
       "7. Recreation/leisure: Importance 10, Consistency 10\n",
       "8. Spirituality/religion: Importance 10, Consistency 10\n",
       "9. Citizenship/community life: Importance 0, Consistency 0\n",
       "10. Physical self-care: Importance 10, Consistency 2\n",
       "11. Environmental issues: Importance 10, Consistency 10\n",
       "12. Art, creative expression, aesthetics: Importance 1, Consistency 0\n",
       "\n",
       "To calculate your overall score, we multiply the two numbers from the first and second parts for each domain. For example, for family, in the first part you scored it as 5 and in the second part you circled 5, for that domain you'd get 25. We do this for all domains, add all of those numbers and then divide them by 12 to get your composite score. \n",
       "\n",
       "Let's calculate your score."
      ],
      "text/plain": [
       "<IPython.core.display.Markdown object>"
      ]
     },
     "metadata": {},
     "output_type": "display_data"
    },
    {
     "data": {
      "text/plain": [
       "\"Thank you for your responses, Chris. Here's a summary:\\n\\n1. Family relations: Importance 5, Consistency 5\\n2. Marriage/couples/intimate relations: Importance 10, Consistency 9\\n3. Being a parent: Importance 10, Consistency 8\\n4. Friendships/social relations: Importance 10, Consistency 10\\n5. Work: Importance 10, Consistency 10\\n6. Education/personal growth and development: Importance 6, Consistency 10\\n7. Recreation/leisure: Importance 10, Consistency 10\\n8. Spirituality/religion: Importance 10, Consistency 10\\n9. Citizenship/community life: Importance 0, Consistency 0\\n10. Physical self-care: Importance 10, Consistency 2\\n11. Environmental issues: Importance 10, Consistency 10\\n12. Art, creative expression, aesthetics: Importance 1, Consistency 0\\n\\nTo calculate your overall score, we multiply the two numbers from the first and second parts for each domain. For example, for family, in the first part you scored it as 5 and in the second part you circled 5, for that domain you'd get 25. We do this for all domains, add all of those numbers and then divide them by 12 to get your composite score. \\n\\nLet's calculate your score.\""
      ]
     },
     "execution_count": 16,
     "metadata": {},
     "output_type": "execute_result"
    }
   ],
   "source": [
    "x(\"1, 0\")"
   ]
  },
  {
   "cell_type": "code",
   "execution_count": 17,
   "id": "12c95aed-ca62-4edc-9e4f-0b844b6620db",
   "metadata": {},
   "outputs": [
    {
     "data": {
      "text/markdown": [
       "Great! Let's calculate your composite score:\n",
       "\n",
       "1. Family relations: 5 * 5 = 25\n",
       "2. Marriage/couples/intimate relations: 10 * 9 = 90\n",
       "3. Being a parent: 10 * 8 = 80\n",
       "4. Friendships/social relations: 10 * 10 = 100\n",
       "5. Work: 10 * 10 = 100\n",
       "6. Education/personal growth and development: 6 * 10 = 60\n",
       "7. Recreation/leisure: 10 * 10 = 100\n",
       "8. Spirituality/religion: 10 * 10 = 100\n",
       "9. Citizenship/community life: 0 * 0 = 0\n",
       "10. Physical self-care: 10 * 2 = 20\n",
       "11. Environmental issues: 10 * 10 = 100\n",
       "12. Art, creative expression, aesthetics: 1 * 0 = 0\n",
       "\n",
       "Adding these up, we get a total of 775. Dividing by 12, your composite score is approximately 64.6. \n",
       "\n",
       "To get a rough sense of how your score compares to those of the broad public, the average composite result is 61. So, you're slightly above average, which is great!\n",
       "\n",
       "Remember, this is a discovery process, not a critique. You've embarked on this journey and you should give yourself some credit for that. You're here to embrace change. 🚀🚀🚀"
      ],
      "text/plain": [
       "<IPython.core.display.Markdown object>"
      ]
     },
     "metadata": {},
     "output_type": "display_data"
    },
    {
     "data": {
      "text/plain": [
       "\"Great! Let's calculate your composite score:\\n\\n1. Family relations: 5 * 5 = 25\\n2. Marriage/couples/intimate relations: 10 * 9 = 90\\n3. Being a parent: 10 * 8 = 80\\n4. Friendships/social relations: 10 * 10 = 100\\n5. Work: 10 * 10 = 100\\n6. Education/personal growth and development: 6 * 10 = 60\\n7. Recreation/leisure: 10 * 10 = 100\\n8. Spirituality/religion: 10 * 10 = 100\\n9. Citizenship/community life: 0 * 0 = 0\\n10. Physical self-care: 10 * 2 = 20\\n11. Environmental issues: 10 * 10 = 100\\n12. Art, creative expression, aesthetics: 1 * 0 = 0\\n\\nAdding these up, we get a total of 775. Dividing by 12, your composite score is approximately 64.6. \\n\\nTo get a rough sense of how your score compares to those of the broad public, the average composite result is 61. So, you're slightly above average, which is great!\\n\\nRemember, this is a discovery process, not a critique. You've embarked on this journey and you should give yourself some credit for that. You're here to embrace change. 🚀🚀🚀\""
      ]
     },
     "execution_count": 17,
     "metadata": {},
     "output_type": "execute_result"
    }
   ],
   "source": [
    "x(\"yes\")"
   ]
  },
  {
   "cell_type": "code",
   "execution_count": null,
   "id": "066df205-eb73-454e-b07b-494242ccac68",
   "metadata": {},
   "outputs": [],
   "source": []
  }
 ],
 "metadata": {
  "kernelspec": {
   "display_name": "Python 3 (ipykernel)",
   "language": "python",
   "name": "python3"
  },
  "language_info": {
   "codemirror_mode": {
    "name": "ipython",
    "version": 3
   },
   "file_extension": ".py",
   "mimetype": "text/x-python",
   "name": "python",
   "nbconvert_exporter": "python",
   "pygments_lexer": "ipython3",
   "version": "3.11.5"
  }
 },
 "nbformat": 4,
 "nbformat_minor": 5
}
