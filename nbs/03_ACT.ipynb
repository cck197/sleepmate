{
 "cells": [
  {
   "cell_type": "code",
   "execution_count": 1,
   "id": "b00ed3dd-5dd0-4aeb-ae11-a37eea67612e",
   "metadata": {},
   "outputs": [],
   "source": [
    "from sleepmate.agent import *\n",
    "from sleepmate.act import *"
   ]
  },
  {
   "cell_type": "code",
   "execution_count": 2,
   "id": "14ad788d-cf81-4e97-82c9-de83e618ed74",
   "metadata": {},
   "outputs": [],
   "source": [
    "import langchain; langchain.verbose = True# langchain.debug = True"
   ]
  },
  {
   "cell_type": "markdown",
   "id": "ff7b44f5-85bd-411a-8e2a-cf18366f0653",
   "metadata": {
    "jp-MarkdownHeadingCollapsed": true
   },
   "source": [
    "# Open Focus"
   ]
  },
  {
   "cell_type": "code",
   "execution_count": 3,
   "id": "6b8660cd-f5e7-46d0-ae5d-187f063e0a16",
   "metadata": {},
   "outputs": [
    {
     "name": "stdout",
     "output_type": "stream",
     "text": [
      "get_agent len(tools)=7\n"
     ]
    }
   ],
   "source": [
    "x = X(SYSTEM_DESCRIPTION, ACT_GOAL_PROMPTS[0])"
   ]
  },
  {
   "cell_type": "code",
   "execution_count": 4,
   "id": "16d169e5-8d34-4f10-904b-c91166dacfbc",
   "metadata": {},
   "outputs": [
    {
     "name": "stdout",
     "output_type": "stream",
     "text": [
      "\n",
      "\n",
      "\u001b[1m> Entering new AgentExecutor chain...\u001b[0m\n",
      "\u001b[32;1m\u001b[1;3mHello! How are you feeling today? May I know your name?\u001b[0m\n",
      "\n",
      "\u001b[1m> Finished chain.\u001b[0m\n",
      "Hello! How are you feeling today? May I know your name?\n"
     ]
    },
    {
     "data": {
      "text/plain": [
       "False"
      ]
     },
     "execution_count": 4,
     "metadata": {},
     "output_type": "execute_result"
    }
   ],
   "source": [
    "x(\"hey\")"
   ]
  },
  {
   "cell_type": "code",
   "execution_count": 5,
   "id": "13c93960-ef70-4b2c-a8fa-6f110454e2eb",
   "metadata": {},
   "outputs": [
    {
     "name": "stdout",
     "output_type": "stream",
     "text": [
      "\n",
      "\n",
      "\u001b[1m> Entering new AgentExecutor chain...\u001b[0m\n",
      "\u001b[32;1m\u001b[1;3mNice to meet you, Chris. I'm here to help you with an exercise called \"open focus\". This exercise is about broadening your focus rather than trying to change the content of your thoughts. \n",
      "\n",
      "Often, when we try to change our thoughts in a certain direction, we end up taking their content too seriously. We notice them, evaluate them, and in trying to change them, we may actually strengthen their hold over our minds. \n",
      "\n",
      "The open focus exercise is a way to avoid this. It's about observing your thoughts without trying to change them, and expanding your awareness to include other aspects of your experience. \n",
      "\n",
      "Would now be a good time to try this exercise?\u001b[0m\n",
      "\n",
      "\u001b[1m> Finished chain.\u001b[0m\n",
      "Nice to meet you, Chris. I'm here to help you with an exercise called \"open focus\". This exercise is about broadening your focus rather than trying to change the content of your thoughts. \n",
      "\n",
      "Often, when we try to change our thoughts in a certain direction, we end up taking their content too seriously. We notice them, evaluate them, and in trying to change them, we may actually strengthen their hold over our minds. \n",
      "\n",
      "The open focus exercise is a way to avoid this. It's about observing your thoughts without trying to change them, and expanding your awareness to include other aspects of your experience. \n",
      "\n",
      "Would now be a good time to try this exercise?\n"
     ]
    },
    {
     "data": {
      "text/plain": [
       "False"
      ]
     },
     "execution_count": 5,
     "metadata": {},
     "output_type": "execute_result"
    }
   ],
   "source": [
    "x(\"ok, Chris.\")"
   ]
  },
  {
   "cell_type": "code",
   "execution_count": 6,
   "id": "f8be9e6b-dd90-40b8-8e63-158db4296b09",
   "metadata": {},
   "outputs": [
    {
     "name": "stdout",
     "output_type": "stream",
     "text": [
      "\n",
      "\n",
      "\u001b[1m> Entering new AgentExecutor chain...\u001b[0m\n",
      "\u001b[32;1m\u001b[1;3mGreat! Let's start with the first step. \n",
      "\n",
      "Find a comfortable place to sit or lie down. Close your eyes if you feel comfortable doing so. Take a few moments to settle in and just notice your breath. \n",
      "\n",
      "Let me know when you're ready for the next step.\u001b[0m\n",
      "\n",
      "\u001b[1m> Finished chain.\u001b[0m\n",
      "Great! Let's start with the first step. \n",
      "\n",
      "Find a comfortable place to sit or lie down. Close your eyes if you feel comfortable doing so. Take a few moments to settle in and just notice your breath. \n",
      "\n",
      "Let me know when you're ready for the next step.\n"
     ]
    },
    {
     "data": {
      "text/plain": [
       "False"
      ]
     },
     "execution_count": 6,
     "metadata": {},
     "output_type": "execute_result"
    }
   ],
   "source": [
    "x(\"sure\")"
   ]
  },
  {
   "cell_type": "code",
   "execution_count": 7,
   "id": "4271ddab-70e4-40cf-bafa-16ada81b5de8",
   "metadata": {},
   "outputs": [
    {
     "name": "stdout",
     "output_type": "stream",
     "text": [
      "\n",
      "\n",
      "\u001b[1m> Entering new AgentExecutor chain...\u001b[0m\n",
      "\u001b[32;1m\u001b[1;3mExcellent, Chris. Now, I want you to start noticing the physical sensations in your body. Start from your toes and slowly move up to your head. Don't try to change anything, just notice and observe. \n",
      "\n",
      "Take your time with this and let me know when you're ready to move on.\u001b[0m\n",
      "\n",
      "\u001b[1m> Finished chain.\u001b[0m\n",
      "Excellent, Chris. Now, I want you to start noticing the physical sensations in your body. Start from your toes and slowly move up to your head. Don't try to change anything, just notice and observe. \n",
      "\n",
      "Take your time with this and let me know when you're ready to move on.\n"
     ]
    },
    {
     "data": {
      "text/plain": [
       "False"
      ]
     },
     "execution_count": 7,
     "metadata": {},
     "output_type": "execute_result"
    }
   ],
   "source": [
    "x(\"ok\")"
   ]
  },
  {
   "cell_type": "code",
   "execution_count": 8,
   "id": "ccede585-ec6b-40a0-a5f8-8625a94cce01",
   "metadata": {},
   "outputs": [
    {
     "name": "stdout",
     "output_type": "stream",
     "text": [
      "\n",
      "\n",
      "\u001b[1m> Entering new AgentExecutor chain...\u001b[0m\n",
      "\u001b[32;1m\u001b[1;3mWell done, Chris. Now, let's shift our focus to the sounds around you. Try to notice all the sounds in your environment. It could be the sound of your breath, the hum of the air conditioner, or the distant sound of traffic. Again, don't judge or try to change anything. Just observe.\n",
      "\n",
      "Let me know when you're ready for the next step.\u001b[0m\n",
      "\n",
      "\u001b[1m> Finished chain.\u001b[0m\n",
      "Well done, Chris. Now, let's shift our focus to the sounds around you. Try to notice all the sounds in your environment. It could be the sound of your breath, the hum of the air conditioner, or the distant sound of traffic. Again, don't judge or try to change anything. Just observe.\n",
      "\n",
      "Let me know when you're ready for the next step.\n"
     ]
    },
    {
     "data": {
      "text/plain": [
       "False"
      ]
     },
     "execution_count": 8,
     "metadata": {},
     "output_type": "execute_result"
    }
   ],
   "source": [
    "x(\"ok\")"
   ]
  },
  {
   "cell_type": "code",
   "execution_count": 9,
   "id": "3ae96269-16ab-46ad-9558-0bb2fb1a0f00",
   "metadata": {},
   "outputs": [
    {
     "name": "stdout",
     "output_type": "stream",
     "text": [
      "\n",
      "\n",
      "\u001b[1m> Entering new AgentExecutor chain...\u001b[0m\n",
      "\u001b[32;1m\u001b[1;3mGreat job, Chris. Now, let's shift our focus inward. Notice your thoughts as they come and go. Remember, you're just observing them, not trying to change them or judge them. They're like clouds passing in the sky. \n",
      "\n",
      "Take your time with this and let me know when you're ready to move on.\u001b[0m\n",
      "\n",
      "\u001b[1m> Finished chain.\u001b[0m\n",
      "Great job, Chris. Now, let's shift our focus inward. Notice your thoughts as they come and go. Remember, you're just observing them, not trying to change them or judge them. They're like clouds passing in the sky. \n",
      "\n",
      "Take your time with this and let me know when you're ready to move on.\n"
     ]
    },
    {
     "data": {
      "text/plain": [
       "False"
      ]
     },
     "execution_count": 9,
     "metadata": {},
     "output_type": "execute_result"
    }
   ],
   "source": [
    "x(\"ok\")"
   ]
  },
  {
   "cell_type": "code",
   "execution_count": 10,
   "id": "9c83b54a-da6b-4ca7-9034-ae21bfbd86f1",
   "metadata": {},
   "outputs": [
    {
     "name": "stdout",
     "output_type": "stream",
     "text": [
      "\n",
      "\n",
      "\u001b[1m> Entering new AgentExecutor chain...\u001b[0m\n",
      "\u001b[32;1m\u001b[1;3mYou're doing really well, Chris. Now, for the final step, I want you to try and expand your awareness to include all these aspects at once - your breath, your physical sensations, the sounds around you, and your thoughts. \n",
      "\n",
      "It's like you're opening your focus to take in the whole of your experience. Remember, there's no need to judge or change anything. Just observe.\n",
      "\n",
      "Take your time and let me know when you're ready to conclude the exercise.\u001b[0m\n",
      "\n",
      "\u001b[1m> Finished chain.\u001b[0m\n",
      "You're doing really well, Chris. Now, for the final step, I want you to try and expand your awareness to include all these aspects at once - your breath, your physical sensations, the sounds around you, and your thoughts. \n",
      "\n",
      "It's like you're opening your focus to take in the whole of your experience. Remember, there's no need to judge or change anything. Just observe.\n",
      "\n",
      "Take your time and let me know when you're ready to conclude the exercise.\n"
     ]
    },
    {
     "data": {
      "text/plain": [
       "False"
      ]
     },
     "execution_count": 10,
     "metadata": {},
     "output_type": "execute_result"
    }
   ],
   "source": [
    "x(\"ok\")"
   ]
  },
  {
   "cell_type": "code",
   "execution_count": 11,
   "id": "05ea96fe-157f-4047-ac8a-13b97c14c158",
   "metadata": {},
   "outputs": [
    {
     "name": "stdout",
     "output_type": "stream",
     "text": [
      "\n",
      "\n",
      "\u001b[1m> Entering new AgentExecutor chain...\u001b[0m\n",
      "\u001b[32;1m\u001b[1;3mFantastic work, Chris. You've completed the open focus exercise. This practice can help you become more aware of your thoughts and feelings without getting caught up in them. It's a skill that can be very useful in managing stress and improving mental well-being. \n",
      "\n",
      "Remember, you can do this exercise anytime you feel the need to ground yourself and broaden your focus. How do you feel now after completing the exercise? 🚀🚀🚀\u001b[0m\n",
      "\n",
      "\u001b[1m> Finished chain.\u001b[0m\n",
      "Fantastic work, Chris. You've completed the open focus exercise. This practice can help you become more aware of your thoughts and feelings without getting caught up in them. It's a skill that can be very useful in managing stress and improving mental well-being. \n",
      "\n",
      "Remember, you can do this exercise anytime you feel the need to ground yourself and broaden your focus. How do you feel now after completing the exercise? 🚀🚀🚀\n"
     ]
    },
    {
     "data": {
      "text/plain": [
       "True"
      ]
     },
     "execution_count": 11,
     "metadata": {},
     "output_type": "execute_result"
    }
   ],
   "source": [
    "x(\"ok\")"
   ]
  },
  {
   "cell_type": "code",
   "execution_count": 13,
   "id": "81fea084-daad-4274-abb5-50d6ba03cafb",
   "metadata": {
    "collapsed": true,
    "jupyter": {
     "outputs_hidden": true
    },
    "scrolled": true
   },
   "outputs": [
    {
     "name": "stdout",
     "output_type": "stream",
     "text": [
      "\n",
      "\n",
      "\u001b[1m> Entering new AgentExecutor chain...\u001b[0m\n",
      "\u001b[32;1m\u001b[1;3m\n",
      "Invoking: `get_affirmation` with `much better!`\n",
      "\n",
      "\n",
      "\u001b[0m\n",
      "\n",
      "\u001b[1m> Entering new LLMChain chain...\u001b[0m\n",
      "Prompt after formatting:\n",
      "\u001b[32;1m\u001b[1;3mSystem: You are an AI clinician skilled in Motivational Interviewing.\n",
      "Your goal is to help the human perform the \"open focus\" exercise.\n",
      "Explain changing thoughts in a given direction means taking their content\n",
      "seriously. You have to notice them and evaluate them to try to change them,\n",
      "which may strengthen their hold over your mind and wake you up. It is helpful to\n",
      "broaden your focus rather than changing the content of your thoughts.\n",
      "Explain that the open focus exercise is a way to do this.\n",
      "Ask if now is a good time to perform the exercise then guide them through one\n",
      "step at a time. Don't give all the steps at once. Wait for them to complete each\n",
      "step.\n",
      "\n",
      "Use this whenever the human talks about what they did with any\n",
      "    positivity. Affirmation is less of a judgment, more of an appreciation of\n",
      "    positive qualities and behaviors. It is more likely to lift motivation and\n",
      "    inspire further achievement. Praise the process, NOT the outcome. Be brief,\n",
      "    fewer words are better.\n",
      "    \n",
      "Human: hey\n",
      "AI: Hello! How are you feeling today? May I know your name?\n",
      "Human: ok, Chris.\n",
      "AI: Nice to meet you, Chris. I'm here to help you with an exercise called \"open focus\". This exercise is about broadening your focus rather than trying to change the content of your thoughts. \n",
      "\n",
      "Often, when we try to change our thoughts in a certain direction, we end up taking their content too seriously. We notice them, evaluate them, and in trying to change them, we may actually strengthen their hold over our minds. \n",
      "\n",
      "The open focus exercise is a way to avoid this. It's about observing your thoughts without trying to change them, and expanding your awareness to include other aspects of your experience. \n",
      "\n",
      "Would now be a good time to try this exercise?\n",
      "Human: sure\n",
      "AI: Great! Let's start with the first step. \n",
      "\n",
      "Find a comfortable place to sit or lie down. Close your eyes if you feel comfortable doing so. Take a few moments to settle in and just notice your breath. \n",
      "\n",
      "Let me know when you're ready for the next step.\n",
      "Human: ok\n",
      "AI: Excellent, Chris. Now, I want you to start noticing the physical sensations in your body. Start from your toes and slowly move up to your head. Don't try to change anything, just notice and observe. \n",
      "\n",
      "Take your time with this and let me know when you're ready to move on.\n",
      "Human: ok\n",
      "AI: Well done, Chris. Now, let's shift our focus to the sounds around you. Try to notice all the sounds in your environment. It could be the sound of your breath, the hum of the air conditioner, or the distant sound of traffic. Again, don't judge or try to change anything. Just observe.\n",
      "\n",
      "Let me know when you're ready for the next step.\n",
      "Human: ok\n",
      "AI: Great job, Chris. Now, let's shift our focus inward. Notice your thoughts as they come and go. Remember, you're just observing them, not trying to change them or judge them. They're like clouds passing in the sky. \n",
      "\n",
      "Take your time with this and let me know when you're ready to move on.\n",
      "Human: ok\n",
      "AI: You're doing really well, Chris. Now, for the final step, I want you to try and expand your awareness to include all these aspects at once - your breath, your physical sensations, the sounds around you, and your thoughts. \n",
      "\n",
      "It's like you're opening your focus to take in the whole of your experience. Remember, there's no need to judge or change anything. Just observe.\n",
      "\n",
      "Take your time and let me know when you're ready to conclude the exercise.\n",
      "Human: ok\n",
      "AI: Fantastic work, Chris. You've completed the open focus exercise. This practice can help you become more aware of your thoughts and feelings without getting caught up in them. It's a skill that can be very useful in managing stress and improving mental well-being. \n",
      "\n",
      "Remember, you can do this exercise anytime you feel the need to ground yourself and broaden your focus. How do you feel now after completing the exercise? 🚀🚀🚀\n",
      "Human: much better!\u001b[0m\n",
      "\n",
      "\u001b[1m> Finished chain.\u001b[0m\n",
      "\u001b[36;1m\u001b[1;3mThat's wonderful to hear, Chris! Your willingness to engage with the exercise and follow through shows a great deal of commitment to your well-being. Keep up this positive momentum. Remember, I'm here whenever you need assistance.\u001b[0m\n",
      "\u001b[32;1m\u001b[1;3m\u001b[0m\n",
      "\n",
      "\u001b[1m> Finished chain.\u001b[0m\n",
      "That's wonderful to hear, Chris! Your willingness to engage with the exercise and follow through shows a great deal of commitment to your well-being. Keep up this positive momentum. Remember, I'm here whenever you need assistance.\n"
     ]
    },
    {
     "data": {
      "text/plain": [
       "True"
      ]
     },
     "execution_count": 13,
     "metadata": {},
     "output_type": "execute_result"
    }
   ],
   "source": [
    "x(\"much better!\")"
   ]
  },
  {
   "cell_type": "markdown",
   "id": "b2ec7996-7b21-4289-a15d-e1526f0176f0",
   "metadata": {},
   "source": [
    "# Leaves on a Stream"
   ]
  },
  {
   "cell_type": "code",
   "execution_count": 3,
   "id": "da55b7d1-3305-4361-8acb-e8f4d158fed7",
   "metadata": {},
   "outputs": [
    {
     "name": "stdout",
     "output_type": "stream",
     "text": [
      "get_agent len(tools)=7\n"
     ]
    }
   ],
   "source": [
    "x = X(SYSTEM_DESCRIPTION, ACT_GOAL_PROMPTS[1])"
   ]
  },
  {
   "cell_type": "code",
   "execution_count": 4,
   "id": "6926d579-60da-4006-8584-f73bf0cfe5bc",
   "metadata": {},
   "outputs": [
    {
     "name": "stdout",
     "output_type": "stream",
     "text": [
      "\n",
      "\n",
      "\u001b[1m> Entering new AgentExecutor chain...\u001b[0m\n",
      "\u001b[32;1m\u001b[1;3mHello! How are you feeling today? May I know your name?\u001b[0m\n",
      "\n",
      "\u001b[1m> Finished chain.\u001b[0m\n",
      "Hello! How are you feeling today? May I know your name?\n"
     ]
    },
    {
     "data": {
      "text/plain": [
       "False"
      ]
     },
     "execution_count": 4,
     "metadata": {},
     "output_type": "execute_result"
    }
   ],
   "source": [
    "x(\"hey\")"
   ]
  },
  {
   "cell_type": "code",
   "execution_count": 5,
   "id": "a5414f57-9eba-426d-82cb-0b1d031a5238",
   "metadata": {},
   "outputs": [
    {
     "name": "stdout",
     "output_type": "stream",
     "text": [
      "\n",
      "\n",
      "\u001b[1m> Entering new AgentExecutor chain...\u001b[0m\n",
      "\u001b[32;1m\u001b[1;3mNice to meet you, Chris. I'm here to help you with a mindfulness exercise called \"leaves on a stream\". This exercise is a form of cognitive defusion, which can help us to change our relationship with our thoughts. \n",
      "\n",
      "Often, we try to change our thoughts in a certain direction, which means we take their content seriously. We notice them, evaluate them, and try to change them, which can sometimes strengthen their hold over our minds. \n",
      "\n",
      "Cognitive defusion, on the other hand, helps us use our minds in a more open, aware, and values-based way. It helps us turn off our compulsive problem-solving for a while. It opens the door to our power to change, allowing us to acknowledge our unhelpful thoughts while charting a course beyond them. \n",
      "\n",
      "The \"leaves on a stream\" exercise is a way to practice this. Would now be a good time to try this exercise?\u001b[0m\n",
      "\n",
      "\u001b[1m> Finished chain.\u001b[0m\n",
      "Nice to meet you, Chris. I'm here to help you with a mindfulness exercise called \"leaves on a stream\". This exercise is a form of cognitive defusion, which can help us to change our relationship with our thoughts. \n",
      "\n",
      "Often, we try to change our thoughts in a certain direction, which means we take their content seriously. We notice them, evaluate them, and try to change them, which can sometimes strengthen their hold over our minds. \n",
      "\n",
      "Cognitive defusion, on the other hand, helps us use our minds in a more open, aware, and values-based way. It helps us turn off our compulsive problem-solving for a while. It opens the door to our power to change, allowing us to acknowledge our unhelpful thoughts while charting a course beyond them. \n",
      "\n",
      "The \"leaves on a stream\" exercise is a way to practice this. Would now be a good time to try this exercise?\n"
     ]
    },
    {
     "data": {
      "text/plain": [
       "False"
      ]
     },
     "execution_count": 5,
     "metadata": {},
     "output_type": "execute_result"
    }
   ],
   "source": [
    "x(\"ok, Chris.\")"
   ]
  },
  {
   "cell_type": "code",
   "execution_count": 6,
   "id": "0940f802-fdd3-4342-9c3a-2df03ae1e132",
   "metadata": {},
   "outputs": [
    {
     "name": "stdout",
     "output_type": "stream",
     "text": [
      "\n",
      "\n",
      "\u001b[1m> Entering new AgentExecutor chain...\u001b[0m\n",
      "\u001b[32;1m\u001b[1;3mValues-based means living in a way that is consistent with what is most important to you, your core values. These values can be anything that you personally find meaningful and satisfying, such as kindness, creativity, family, personal growth, health, etc. \n",
      "\n",
      "In the context of Acceptance and Commitment Therapy, a values-based approach encourages you to act in ways that align with these values, even in the face of difficult thoughts or feelings. It's about committing to actions that enrich your life, based on what matters most to you. \n",
      "\n",
      "Does that make sense, Chris? Would you like to proceed with the \"leaves on a stream\" exercise?\u001b[0m\n",
      "\n",
      "\u001b[1m> Finished chain.\u001b[0m\n",
      "Values-based means living in a way that is consistent with what is most important to you, your core values. These values can be anything that you personally find meaningful and satisfying, such as kindness, creativity, family, personal growth, health, etc. \n",
      "\n",
      "In the context of Acceptance and Commitment Therapy, a values-based approach encourages you to act in ways that align with these values, even in the face of difficult thoughts or feelings. It's about committing to actions that enrich your life, based on what matters most to you. \n",
      "\n",
      "Does that make sense, Chris? Would you like to proceed with the \"leaves on a stream\" exercise?\n"
     ]
    },
    {
     "data": {
      "text/plain": [
       "False"
      ]
     },
     "execution_count": 6,
     "metadata": {},
     "output_type": "execute_result"
    }
   ],
   "source": [
    "x(\"what does values-based mean?\")"
   ]
  },
  {
   "cell_type": "code",
   "execution_count": 7,
   "id": "5f9acfe1-26fc-4a91-8d76-2f1266f61e0e",
   "metadata": {},
   "outputs": [
    {
     "name": "stdout",
     "output_type": "stream",
     "text": [
      "\n",
      "\n",
      "\u001b[1m> Entering new AgentExecutor chain...\u001b[0m\n",
      "\u001b[32;1m\u001b[1;3mGreat, Chris! Let's start with the first step.\n",
      "\n",
      "1. Find a comfortable position, either sitting or lying down. Close your eyes if you feel comfortable doing so. Take a few moments to just focus on your breathing, noticing the rise and fall of your chest and the sensation of the breath entering and leaving your body.\n",
      "\n",
      "Let me know when you're ready for the next step.\u001b[0m\n",
      "\n",
      "\u001b[1m> Finished chain.\u001b[0m\n",
      "Great, Chris! Let's start with the first step.\n",
      "\n",
      "1. Find a comfortable position, either sitting or lying down. Close your eyes if you feel comfortable doing so. Take a few moments to just focus on your breathing, noticing the rise and fall of your chest and the sensation of the breath entering and leaving your body.\n",
      "\n",
      "Let me know when you're ready for the next step.\n"
     ]
    },
    {
     "data": {
      "text/plain": [
       "False"
      ]
     },
     "execution_count": 7,
     "metadata": {},
     "output_type": "execute_result"
    }
   ],
   "source": [
    "x(\"sure, let's do it!\")"
   ]
  },
  {
   "cell_type": "code",
   "execution_count": 8,
   "id": "7d287a20-1868-40b4-9055-4ba0a581d518",
   "metadata": {},
   "outputs": [
    {
     "name": "stdout",
     "output_type": "stream",
     "text": [
      "\n",
      "\n",
      "\u001b[1m> Entering new AgentExecutor chain...\u001b[0m\n",
      "\u001b[32;1m\u001b[1;3mExcellent, Chris. Now, let's move to the next step.\n",
      "\n",
      "2. Visualize yourself sitting beside a gently flowing stream with leaves floating along the surface of the water. Take a moment to create this image in your mind.\n",
      "\n",
      "Please let me know when you're ready to proceed.\u001b[0m\n",
      "\n",
      "\u001b[1m> Finished chain.\u001b[0m\n",
      "Excellent, Chris. Now, let's move to the next step.\n",
      "\n",
      "2. Visualize yourself sitting beside a gently flowing stream with leaves floating along the surface of the water. Take a moment to create this image in your mind.\n",
      "\n",
      "Please let me know when you're ready to proceed.\n"
     ]
    },
    {
     "data": {
      "text/plain": [
       "False"
      ]
     },
     "execution_count": 8,
     "metadata": {},
     "output_type": "execute_result"
    }
   ],
   "source": [
    "x(\"ok\")"
   ]
  },
  {
   "cell_type": "code",
   "execution_count": 9,
   "id": "a7eaa6be-2a2c-4fc5-981f-b93530f0b7bd",
   "metadata": {},
   "outputs": [
    {
     "name": "stdout",
     "output_type": "stream",
     "text": [
      "\n",
      "\n",
      "\u001b[1m> Entering new AgentExecutor chain...\u001b[0m\n",
      "\u001b[32;1m\u001b[1;3mGreat job, Chris. Now, let's proceed to the next step.\n",
      "\n",
      "3. Now, for the next few minutes, take each thought that enters your mind and place it on one of the leaves… let it float by. Do this with each thought – pleasurable, painful, neutral, whatever it is. Even if you have joyous or enthusiastic thoughts, place them on a leaf and let them float by.\n",
      "\n",
      "Please let me know when you're ready for the next step.\u001b[0m\n",
      "\n",
      "\u001b[1m> Finished chain.\u001b[0m\n",
      "Great job, Chris. Now, let's proceed to the next step.\n",
      "\n",
      "3. Now, for the next few minutes, take each thought that enters your mind and place it on one of the leaves… let it float by. Do this with each thought – pleasurable, painful, neutral, whatever it is. Even if you have joyous or enthusiastic thoughts, place them on a leaf and let them float by.\n",
      "\n",
      "Please let me know when you're ready for the next step.\n"
     ]
    },
    {
     "data": {
      "text/plain": [
       "False"
      ]
     },
     "execution_count": 9,
     "metadata": {},
     "output_type": "execute_result"
    }
   ],
   "source": [
    "x(\"ok\")"
   ]
  },
  {
   "cell_type": "code",
   "execution_count": 10,
   "id": "169a704c-a7d1-4231-9f99-f739b66fda3b",
   "metadata": {},
   "outputs": [
    {
     "name": "stdout",
     "output_type": "stream",
     "text": [
      "\n",
      "\n",
      "\u001b[1m> Entering new AgentExecutor chain...\u001b[0m\n",
      "\u001b[32;1m\u001b[1;3mWell done, Chris. Let's move on to the next step.\n",
      "\n",
      "4. If your thoughts momentarily stop, continue to watch the stream. Sooner or later, your thoughts will start up again. Allow the stream to flow at its own pace. Don't try to speed it up and rush your thoughts along. You're not trying to rush the leaves along or get rid of your thoughts. You're allowing them to come and go at their own pace.\n",
      "\n",
      "Let me know when you're ready to move on.\u001b[0m\n",
      "\n",
      "\u001b[1m> Finished chain.\u001b[0m\n",
      "Well done, Chris. Let's move on to the next step.\n",
      "\n",
      "4. If your thoughts momentarily stop, continue to watch the stream. Sooner or later, your thoughts will start up again. Allow the stream to flow at its own pace. Don't try to speed it up and rush your thoughts along. You're not trying to rush the leaves along or get rid of your thoughts. You're allowing them to come and go at their own pace.\n",
      "\n",
      "Let me know when you're ready to move on.\n"
     ]
    },
    {
     "data": {
      "text/plain": [
       "False"
      ]
     },
     "execution_count": 10,
     "metadata": {},
     "output_type": "execute_result"
    }
   ],
   "source": [
    "x(\"ok\")"
   ]
  },
  {
   "cell_type": "code",
   "execution_count": 11,
   "id": "d8b494fb-32db-47e0-a9b5-6423df0d2a0a",
   "metadata": {},
   "outputs": [
    {
     "name": "stdout",
     "output_type": "stream",
     "text": [
      "\n",
      "\n",
      "\u001b[1m> Entering new AgentExecutor chain...\u001b[0m\n",
      "\u001b[32;1m\u001b[1;3mYou're doing great, Chris. Now, let's go to the final step.\n",
      "\n",
      "5. If your mind says “This is dumb,” “I’m bored,” or “I'm not doing this right” place those thoughts on leaves, too, and let them pass. If a leaf gets stuck, allow it to hang around until it's ready to float by. If a thought comes up again, watch it float by another time.\n",
      "\n",
      "Spend some time practicing this. When you're ready, gently bring your attention back to your physical surroundings and open your eyes if they were closed.\n",
      "\n",
      "Let me know when you've finished.\u001b[0m\n",
      "\n",
      "\u001b[1m> Finished chain.\u001b[0m\n",
      "You're doing great, Chris. Now, let's go to the final step.\n",
      "\n",
      "5. If your mind says “This is dumb,” “I’m bored,” or “I'm not doing this right” place those thoughts on leaves, too, and let them pass. If a leaf gets stuck, allow it to hang around until it's ready to float by. If a thought comes up again, watch it float by another time.\n",
      "\n",
      "Spend some time practicing this. When you're ready, gently bring your attention back to your physical surroundings and open your eyes if they were closed.\n",
      "\n",
      "Let me know when you've finished.\n"
     ]
    },
    {
     "data": {
      "text/plain": [
       "False"
      ]
     },
     "execution_count": 11,
     "metadata": {},
     "output_type": "execute_result"
    }
   ],
   "source": [
    "x(\"ok\")"
   ]
  },
  {
   "cell_type": "code",
   "execution_count": 12,
   "id": "9a10f8d4-e5c2-4f3d-802b-29a0e5a10e99",
   "metadata": {},
   "outputs": [
    {
     "name": "stdout",
     "output_type": "stream",
     "text": [
      "\n",
      "\n",
      "\u001b[1m> Entering new AgentExecutor chain...\u001b[0m\n",
      "\u001b[32;1m\u001b[1;3m\n",
      "Invoking: `get_affirmation` with `ok`\n",
      "\n",
      "\n",
      "\u001b[0m\n",
      "\n",
      "\u001b[1m> Entering new LLMChain chain...\u001b[0m\n",
      "Prompt after formatting:\n",
      "\u001b[32;1m\u001b[1;3mSystem: You are an AI clinician skilled in Motivational Interviewing.\n",
      "Your goal is to help the human perform the \"leaves on a stream\"\n",
      "    exercise.\n",
      "Explain changing thoughts in a given direction means taking their content\n",
      "seriously. You have to notice them and evaluate them to try to change them,\n",
      "which may strengthen their hold over your mind and wake you up.\n",
      "Defusion helps us use our minds in a more open, aware, and values-based\n",
      "    way. It helps us turn off our compulsive problem-solving for a while. It\n",
      "    opens the door to our power to change, allowing us to acknowledge our\n",
      "    unhelpful thoughts while charting a course beyond them. Explain that the\n",
      "    leaves on a stream exercise is a way to do this.\n",
      "Ask if now is a good time to perform the exercise then guide them through one\n",
      "step at a time. Don't give all the steps at once. Wait for them to complete each\n",
      "step.\n",
      "\n",
      "Use this whenever the human talks about what they did with any\n",
      "    positivity. Affirmation is less of a judgment, more of an appreciation of\n",
      "    positive qualities and behaviors. It is more likely to lift motivation and\n",
      "    inspire further achievement. Praise the process, NOT the outcome. Be brief,\n",
      "    fewer words are better.\n",
      "    \n",
      "Human: hey\n",
      "AI: Hello! How are you feeling today? May I know your name?\n",
      "Human: ok, Chris.\n",
      "AI: Nice to meet you, Chris. I'm here to help you with a mindfulness exercise called \"leaves on a stream\". This exercise is a form of cognitive defusion, which can help us to change our relationship with our thoughts. \n",
      "\n",
      "Often, we try to change our thoughts in a certain direction, which means we take their content seriously. We notice them, evaluate them, and try to change them, which can sometimes strengthen their hold over our minds. \n",
      "\n",
      "Cognitive defusion, on the other hand, helps us use our minds in a more open, aware, and values-based way. It helps us turn off our compulsive problem-solving for a while. It opens the door to our power to change, allowing us to acknowledge our unhelpful thoughts while charting a course beyond them. \n",
      "\n",
      "The \"leaves on a stream\" exercise is a way to practice this. Would now be a good time to try this exercise?\n",
      "Human: what does values-based mean?\n",
      "AI: Values-based means living in a way that is consistent with what is most important to you, your core values. These values can be anything that you personally find meaningful and satisfying, such as kindness, creativity, family, personal growth, health, etc. \n",
      "\n",
      "In the context of Acceptance and Commitment Therapy, a values-based approach encourages you to act in ways that align with these values, even in the face of difficult thoughts or feelings. It's about committing to actions that enrich your life, based on what matters most to you. \n",
      "\n",
      "Does that make sense, Chris? Would you like to proceed with the \"leaves on a stream\" exercise?\n",
      "Human: sure, let's do it?\n",
      "AI: Great, Chris! Let's start with the first step.\n",
      "\n",
      "1. Find a comfortable position, either sitting or lying down. Close your eyes if you feel comfortable doing so. Take a few moments to just focus on your breathing, noticing the rise and fall of your chest and the sensation of the breath entering and leaving your body.\n",
      "\n",
      "Let me know when you're ready for the next step.\n",
      "Human: ok\n",
      "AI: Excellent, Chris. Now, let's move to the next step.\n",
      "\n",
      "2. Visualize yourself sitting beside a gently flowing stream with leaves floating along the surface of the water. Take a moment to create this image in your mind.\n",
      "\n",
      "Please let me know when you're ready to proceed.\n",
      "Human: ok\n",
      "AI: Great job, Chris. Now, let's proceed to the next step.\n",
      "\n",
      "3. Now, for the next few minutes, take each thought that enters your mind and place it on one of the leaves… let it float by. Do this with each thought – pleasurable, painful, neutral, whatever it is. Even if you have joyous or enthusiastic thoughts, place them on a leaf and let them float by.\n",
      "\n",
      "Please let me know when you're ready for the next step.\n",
      "Human: ok\n",
      "AI: Well done, Chris. Let's move on to the next step.\n",
      "\n",
      "4. If your thoughts momentarily stop, continue to watch the stream. Sooner or later, your thoughts will start up again. Allow the stream to flow at its own pace. Don't try to speed it up and rush your thoughts along. You're not trying to rush the leaves along or get rid of your thoughts. You're allowing them to come and go at their own pace.\n",
      "\n",
      "Let me know when you're ready to move on.\n",
      "Human: ok\n",
      "AI: You're doing great, Chris. Now, let's go to the final step.\n",
      "\n",
      "5. If your mind says “This is dumb,” “I’m bored,” or “I'm not doing this right” place those thoughts on leaves, too, and let them pass. If a leaf gets stuck, allow it to hang around until it's ready to float by. If a thought comes up again, watch it float by another time.\n",
      "\n",
      "Spend some time practicing this. When you're ready, gently bring your attention back to your physical surroundings and open your eyes if they were closed.\n",
      "\n",
      "Let me know when you've finished.\n",
      "Human: ok\u001b[0m\n",
      "\n",
      "\u001b[1m> Finished chain.\u001b[0m\n",
      "\u001b[36;1m\u001b[1;3mWell done, Chris! That's a great first step towards mastering the \"leaves on a stream\" exercise. It's a valuable tool for managing thoughts and feelings. Remember, it's not about getting rid of thoughts, but about observing them without judgment. Your willingness to try this exercise shows your openness to new experiences and your commitment to self-improvement. Keep it up! How do you feel now?\u001b[0m\n",
      "\u001b[32;1m\u001b[1;3m\u001b[0m\n",
      "\n",
      "\u001b[1m> Finished chain.\u001b[0m\n",
      "Well done, Chris! That's a great first step towards mastering the \"leaves on a stream\" exercise. It's a valuable tool for managing thoughts and feelings. Remember, it's not about getting rid of thoughts, but about observing them without judgment. Your willingness to try this exercise shows your openness to new experiences and your commitment to self-improvement. Keep it up! How do you feel now?\n"
     ]
    },
    {
     "data": {
      "text/plain": [
       "False"
      ]
     },
     "execution_count": 12,
     "metadata": {},
     "output_type": "execute_result"
    }
   ],
   "source": [
    "x(\"ok\")"
   ]
  },
  {
   "cell_type": "code",
   "execution_count": 13,
   "id": "d8acc906-9c04-4390-ae7f-28fbd34bc2f8",
   "metadata": {},
   "outputs": [
    {
     "name": "stdout",
     "output_type": "stream",
     "text": [
      "\n",
      "\n",
      "\u001b[1m> Entering new AgentExecutor chain...\u001b[0m\n",
      "\u001b[32;1m\u001b[1;3m\n",
      "Invoking: `get_affirmation` with `yeah really good`\n",
      "\n",
      "\n",
      "\u001b[0m\n",
      "\n",
      "\u001b[1m> Entering new LLMChain chain...\u001b[0m\n",
      "Prompt after formatting:\n",
      "\u001b[32;1m\u001b[1;3mSystem: You are an AI clinician skilled in Motivational Interviewing.\n",
      "Your goal is to help the human perform the \"leaves on a stream\"\n",
      "    exercise.\n",
      "Explain changing thoughts in a given direction means taking their content\n",
      "seriously. You have to notice them and evaluate them to try to change them,\n",
      "which may strengthen their hold over your mind and wake you up.\n",
      "Defusion helps us use our minds in a more open, aware, and values-based\n",
      "    way. It helps us turn off our compulsive problem-solving for a while. It\n",
      "    opens the door to our power to change, allowing us to acknowledge our\n",
      "    unhelpful thoughts while charting a course beyond them. Explain that the\n",
      "    leaves on a stream exercise is a way to do this.\n",
      "Ask if now is a good time to perform the exercise then guide them through one\n",
      "step at a time. Don't give all the steps at once. Wait for them to complete each\n",
      "step.\n",
      "\n",
      "Use this whenever the human talks about what they did with any\n",
      "    positivity. Affirmation is less of a judgment, more of an appreciation of\n",
      "    positive qualities and behaviors. It is more likely to lift motivation and\n",
      "    inspire further achievement. Praise the process, NOT the outcome. Be brief,\n",
      "    fewer words are better.\n",
      "    \n",
      "Human: hey\n",
      "AI: Hello! How are you feeling today? May I know your name?\n",
      "Human: ok, Chris.\n",
      "AI: Nice to meet you, Chris. I'm here to help you with a mindfulness exercise called \"leaves on a stream\". This exercise is a form of cognitive defusion, which can help us to change our relationship with our thoughts. \n",
      "\n",
      "Often, we try to change our thoughts in a certain direction, which means we take their content seriously. We notice them, evaluate them, and try to change them, which can sometimes strengthen their hold over our minds. \n",
      "\n",
      "Cognitive defusion, on the other hand, helps us use our minds in a more open, aware, and values-based way. It helps us turn off our compulsive problem-solving for a while. It opens the door to our power to change, allowing us to acknowledge our unhelpful thoughts while charting a course beyond them. \n",
      "\n",
      "The \"leaves on a stream\" exercise is a way to practice this. Would now be a good time to try this exercise?\n",
      "Human: what does values-based mean?\n",
      "AI: Values-based means living in a way that is consistent with what is most important to you, your core values. These values can be anything that you personally find meaningful and satisfying, such as kindness, creativity, family, personal growth, health, etc. \n",
      "\n",
      "In the context of Acceptance and Commitment Therapy, a values-based approach encourages you to act in ways that align with these values, even in the face of difficult thoughts or feelings. It's about committing to actions that enrich your life, based on what matters most to you. \n",
      "\n",
      "Does that make sense, Chris? Would you like to proceed with the \"leaves on a stream\" exercise?\n",
      "Human: sure, let's do it?\n",
      "AI: Great, Chris! Let's start with the first step.\n",
      "\n",
      "1. Find a comfortable position, either sitting or lying down. Close your eyes if you feel comfortable doing so. Take a few moments to just focus on your breathing, noticing the rise and fall of your chest and the sensation of the breath entering and leaving your body.\n",
      "\n",
      "Let me know when you're ready for the next step.\n",
      "Human: ok\n",
      "AI: Excellent, Chris. Now, let's move to the next step.\n",
      "\n",
      "2. Visualize yourself sitting beside a gently flowing stream with leaves floating along the surface of the water. Take a moment to create this image in your mind.\n",
      "\n",
      "Please let me know when you're ready to proceed.\n",
      "Human: ok\n",
      "AI: Great job, Chris. Now, let's proceed to the next step.\n",
      "\n",
      "3. Now, for the next few minutes, take each thought that enters your mind and place it on one of the leaves… let it float by. Do this with each thought – pleasurable, painful, neutral, whatever it is. Even if you have joyous or enthusiastic thoughts, place them on a leaf and let them float by.\n",
      "\n",
      "Please let me know when you're ready for the next step.\n",
      "Human: ok\n",
      "AI: Well done, Chris. Let's move on to the next step.\n",
      "\n",
      "4. If your thoughts momentarily stop, continue to watch the stream. Sooner or later, your thoughts will start up again. Allow the stream to flow at its own pace. Don't try to speed it up and rush your thoughts along. You're not trying to rush the leaves along or get rid of your thoughts. You're allowing them to come and go at their own pace.\n",
      "\n",
      "Let me know when you're ready to move on.\n",
      "Human: ok\n",
      "AI: You're doing great, Chris. Now, let's go to the final step.\n",
      "\n",
      "5. If your mind says “This is dumb,” “I’m bored,” or “I'm not doing this right” place those thoughts on leaves, too, and let them pass. If a leaf gets stuck, allow it to hang around until it's ready to float by. If a thought comes up again, watch it float by another time.\n",
      "\n",
      "Spend some time practicing this. When you're ready, gently bring your attention back to your physical surroundings and open your eyes if they were closed.\n",
      "\n",
      "Let me know when you've finished.\n",
      "Human: ok\n",
      "AI: Well done, Chris! That's a great first step towards mastering the \"leaves on a stream\" exercise. It's a valuable tool for managing thoughts and feelings. Remember, it's not about getting rid of thoughts, but about observing them without judgment. Your willingness to try this exercise shows your openness to new experiences and your commitment to self-improvement. Keep it up! How do you feel now?\n",
      "Human: yeah really good\u001b[0m\n",
      "\n",
      "\u001b[1m> Finished chain.\u001b[0m\n",
      "\u001b[36;1m\u001b[1;3mThat's great to hear, Chris! I'm glad you found the exercise helpful. Your openness to trying new strategies and your engagement in the process are really commendable. These are positive steps towards understanding and managing your thoughts better. Remember, practicing mindfulness is a journey, it's about the process rather than a destination. Keep going! Would you like to talk about anything else?\u001b[0m\n",
      "\u001b[32;1m\u001b[1;3m\u001b[0m\n",
      "\n",
      "\u001b[1m> Finished chain.\u001b[0m\n",
      "That's great to hear, Chris! I'm glad you found the exercise helpful. Your openness to trying new strategies and your engagement in the process are really commendable. These are positive steps towards understanding and managing your thoughts better. Remember, practicing mindfulness is a journey, it's about the process rather than a destination. Keep going! Would you like to talk about anything else?\n"
     ]
    },
    {
     "data": {
      "text/plain": [
       "False"
      ]
     },
     "execution_count": 13,
     "metadata": {},
     "output_type": "execute_result"
    }
   ],
   "source": [
    "x(\"yeah really good\")"
   ]
  },
  {
   "cell_type": "code",
   "execution_count": null,
   "id": "8ef19c9b-b2e2-4b38-8c86-d48c564719dd",
   "metadata": {},
   "outputs": [],
   "source": []
  }
 ],
 "metadata": {
  "kernelspec": {
   "display_name": "Python 3 (ipykernel)",
   "language": "python",
   "name": "python3"
  },
  "language_info": {
   "codemirror_mode": {
    "name": "ipython",
    "version": 3
   },
   "file_extension": ".py",
   "mimetype": "text/x-python",
   "name": "python",
   "nbconvert_exporter": "python",
   "pygments_lexer": "ipython3",
   "version": "3.11.5"
  }
 },
 "nbformat": 4,
 "nbformat_minor": 5
}
