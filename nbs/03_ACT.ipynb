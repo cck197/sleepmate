{
 "cells": [
  {
   "cell_type": "code",
   "execution_count": 1,
   "id": "b00ed3dd-5dd0-4aeb-ae11-a37eea67612e",
   "metadata": {},
   "outputs": [],
   "source": [
    "from sleepmate.agent import *\n",
    "from sleepmate.act import *"
   ]
  },
  {
   "cell_type": "code",
   "execution_count": 2,
   "id": "ac6d734d-8b0f-4da1-b997-bc3bd43563e8",
   "metadata": {},
   "outputs": [],
   "source": [
    "memory_filename = \"/Users/cck197/Downloads/memory.pkl\""
   ]
  },
  {
   "cell_type": "code",
   "execution_count": 3,
   "id": "14ad788d-cf81-4e97-82c9-de83e618ed74",
   "metadata": {},
   "outputs": [],
   "source": [
    "import langchain; langchain.verbose = True# langchain.debug = True"
   ]
  },
  {
   "cell_type": "code",
   "execution_count": 4,
   "id": "7a6ac884-a7c8-45e0-8ca4-67b0d645d5e7",
   "metadata": {},
   "outputs": [],
   "source": [
    "memory = X.load_memory(memory_filename)"
   ]
  },
  {
   "cell_type": "code",
   "execution_count": 10,
   "id": "035ecd14-1066-4c3d-855e-25bfb6ae4b31",
   "metadata": {},
   "outputs": [],
   "source": [
    "memory = None"
   ]
  },
  {
   "cell_type": "markdown",
   "id": "ff7b44f5-85bd-411a-8e2a-cf18366f0653",
   "metadata": {
    "jp-MarkdownHeadingCollapsed": true
   },
   "source": [
    "# Open Focus"
   ]
  },
  {
   "cell_type": "code",
   "execution_count": 3,
   "id": "6b8660cd-f5e7-46d0-ae5d-187f063e0a16",
   "metadata": {},
   "outputs": [
    {
     "name": "stdout",
     "output_type": "stream",
     "text": [
      "get_agent len(tools)=7\n"
     ]
    }
   ],
   "source": [
    "x = X(SYSTEM_DESCRIPTION, ACT_GOAL_PROMPTS[0])"
   ]
  },
  {
   "cell_type": "code",
   "execution_count": 4,
   "id": "16d169e5-8d34-4f10-904b-c91166dacfbc",
   "metadata": {},
   "outputs": [
    {
     "name": "stdout",
     "output_type": "stream",
     "text": [
      "\n",
      "\n",
      "\u001b[1m> Entering new AgentExecutor chain...\u001b[0m\n",
      "\u001b[32;1m\u001b[1;3mHello! How are you feeling today? May I know your name?\u001b[0m\n",
      "\n",
      "\u001b[1m> Finished chain.\u001b[0m\n",
      "Hello! How are you feeling today? May I know your name?\n"
     ]
    },
    {
     "data": {
      "text/plain": [
       "False"
      ]
     },
     "execution_count": 4,
     "metadata": {},
     "output_type": "execute_result"
    }
   ],
   "source": [
    "x(\"hey\")"
   ]
  },
  {
   "cell_type": "code",
   "execution_count": 5,
   "id": "13c93960-ef70-4b2c-a8fa-6f110454e2eb",
   "metadata": {},
   "outputs": [
    {
     "name": "stdout",
     "output_type": "stream",
     "text": [
      "\n",
      "\n",
      "\u001b[1m> Entering new AgentExecutor chain...\u001b[0m\n",
      "\u001b[32;1m\u001b[1;3mNice to meet you, Chris. I'm here to help you with an exercise called \"open focus\". This exercise is about broadening your focus rather than trying to change the content of your thoughts. \n",
      "\n",
      "Often, when we try to change our thoughts in a certain direction, we end up taking their content too seriously. We notice them, evaluate them, and in trying to change them, we may actually strengthen their hold over our minds. \n",
      "\n",
      "The open focus exercise is a way to avoid this. It's about observing your thoughts without trying to change them, and expanding your awareness to include other aspects of your experience. \n",
      "\n",
      "Would now be a good time to try this exercise?\u001b[0m\n",
      "\n",
      "\u001b[1m> Finished chain.\u001b[0m\n",
      "Nice to meet you, Chris. I'm here to help you with an exercise called \"open focus\". This exercise is about broadening your focus rather than trying to change the content of your thoughts. \n",
      "\n",
      "Often, when we try to change our thoughts in a certain direction, we end up taking their content too seriously. We notice them, evaluate them, and in trying to change them, we may actually strengthen their hold over our minds. \n",
      "\n",
      "The open focus exercise is a way to avoid this. It's about observing your thoughts without trying to change them, and expanding your awareness to include other aspects of your experience. \n",
      "\n",
      "Would now be a good time to try this exercise?\n"
     ]
    },
    {
     "data": {
      "text/plain": [
       "False"
      ]
     },
     "execution_count": 5,
     "metadata": {},
     "output_type": "execute_result"
    }
   ],
   "source": [
    "x(\"ok, Chris.\")"
   ]
  },
  {
   "cell_type": "code",
   "execution_count": 6,
   "id": "f8be9e6b-dd90-40b8-8e63-158db4296b09",
   "metadata": {},
   "outputs": [
    {
     "name": "stdout",
     "output_type": "stream",
     "text": [
      "\n",
      "\n",
      "\u001b[1m> Entering new AgentExecutor chain...\u001b[0m\n",
      "\u001b[32;1m\u001b[1;3mGreat! Let's start with the first step. \n",
      "\n",
      "Find a comfortable place to sit or lie down. Close your eyes if you feel comfortable doing so. Take a few moments to settle in and just notice your breath. \n",
      "\n",
      "Let me know when you're ready for the next step.\u001b[0m\n",
      "\n",
      "\u001b[1m> Finished chain.\u001b[0m\n",
      "Great! Let's start with the first step. \n",
      "\n",
      "Find a comfortable place to sit or lie down. Close your eyes if you feel comfortable doing so. Take a few moments to settle in and just notice your breath. \n",
      "\n",
      "Let me know when you're ready for the next step.\n"
     ]
    },
    {
     "data": {
      "text/plain": [
       "False"
      ]
     },
     "execution_count": 6,
     "metadata": {},
     "output_type": "execute_result"
    }
   ],
   "source": [
    "x(\"sure\")"
   ]
  },
  {
   "cell_type": "code",
   "execution_count": 7,
   "id": "4271ddab-70e4-40cf-bafa-16ada81b5de8",
   "metadata": {},
   "outputs": [
    {
     "name": "stdout",
     "output_type": "stream",
     "text": [
      "\n",
      "\n",
      "\u001b[1m> Entering new AgentExecutor chain...\u001b[0m\n",
      "\u001b[32;1m\u001b[1;3mExcellent, Chris. Now, I want you to start noticing the physical sensations in your body. Start from your toes and slowly move up to your head. Don't try to change anything, just notice and observe. \n",
      "\n",
      "Take your time with this and let me know when you're ready to move on.\u001b[0m\n",
      "\n",
      "\u001b[1m> Finished chain.\u001b[0m\n",
      "Excellent, Chris. Now, I want you to start noticing the physical sensations in your body. Start from your toes and slowly move up to your head. Don't try to change anything, just notice and observe. \n",
      "\n",
      "Take your time with this and let me know when you're ready to move on.\n"
     ]
    },
    {
     "data": {
      "text/plain": [
       "False"
      ]
     },
     "execution_count": 7,
     "metadata": {},
     "output_type": "execute_result"
    }
   ],
   "source": [
    "x(\"ok\")"
   ]
  },
  {
   "cell_type": "code",
   "execution_count": 8,
   "id": "ccede585-ec6b-40a0-a5f8-8625a94cce01",
   "metadata": {},
   "outputs": [
    {
     "name": "stdout",
     "output_type": "stream",
     "text": [
      "\n",
      "\n",
      "\u001b[1m> Entering new AgentExecutor chain...\u001b[0m\n",
      "\u001b[32;1m\u001b[1;3mWell done, Chris. Now, let's shift our focus to the sounds around you. Try to notice all the sounds in your environment. It could be the sound of your breath, the hum of the air conditioner, or the distant sound of traffic. Again, don't judge or try to change anything. Just observe.\n",
      "\n",
      "Let me know when you're ready for the next step.\u001b[0m\n",
      "\n",
      "\u001b[1m> Finished chain.\u001b[0m\n",
      "Well done, Chris. Now, let's shift our focus to the sounds around you. Try to notice all the sounds in your environment. It could be the sound of your breath, the hum of the air conditioner, or the distant sound of traffic. Again, don't judge or try to change anything. Just observe.\n",
      "\n",
      "Let me know when you're ready for the next step.\n"
     ]
    },
    {
     "data": {
      "text/plain": [
       "False"
      ]
     },
     "execution_count": 8,
     "metadata": {},
     "output_type": "execute_result"
    }
   ],
   "source": [
    "x(\"ok\")"
   ]
  },
  {
   "cell_type": "code",
   "execution_count": 9,
   "id": "3ae96269-16ab-46ad-9558-0bb2fb1a0f00",
   "metadata": {},
   "outputs": [
    {
     "name": "stdout",
     "output_type": "stream",
     "text": [
      "\n",
      "\n",
      "\u001b[1m> Entering new AgentExecutor chain...\u001b[0m\n",
      "\u001b[32;1m\u001b[1;3mGreat job, Chris. Now, let's shift our focus inward. Notice your thoughts as they come and go. Remember, you're just observing them, not trying to change them or judge them. They're like clouds passing in the sky. \n",
      "\n",
      "Take your time with this and let me know when you're ready to move on.\u001b[0m\n",
      "\n",
      "\u001b[1m> Finished chain.\u001b[0m\n",
      "Great job, Chris. Now, let's shift our focus inward. Notice your thoughts as they come and go. Remember, you're just observing them, not trying to change them or judge them. They're like clouds passing in the sky. \n",
      "\n",
      "Take your time with this and let me know when you're ready to move on.\n"
     ]
    },
    {
     "data": {
      "text/plain": [
       "False"
      ]
     },
     "execution_count": 9,
     "metadata": {},
     "output_type": "execute_result"
    }
   ],
   "source": [
    "x(\"ok\")"
   ]
  },
  {
   "cell_type": "code",
   "execution_count": 10,
   "id": "9c83b54a-da6b-4ca7-9034-ae21bfbd86f1",
   "metadata": {},
   "outputs": [
    {
     "name": "stdout",
     "output_type": "stream",
     "text": [
      "\n",
      "\n",
      "\u001b[1m> Entering new AgentExecutor chain...\u001b[0m\n",
      "\u001b[32;1m\u001b[1;3mYou're doing really well, Chris. Now, for the final step, I want you to try and expand your awareness to include all these aspects at once - your breath, your physical sensations, the sounds around you, and your thoughts. \n",
      "\n",
      "It's like you're opening your focus to take in the whole of your experience. Remember, there's no need to judge or change anything. Just observe.\n",
      "\n",
      "Take your time and let me know when you're ready to conclude the exercise.\u001b[0m\n",
      "\n",
      "\u001b[1m> Finished chain.\u001b[0m\n",
      "You're doing really well, Chris. Now, for the final step, I want you to try and expand your awareness to include all these aspects at once - your breath, your physical sensations, the sounds around you, and your thoughts. \n",
      "\n",
      "It's like you're opening your focus to take in the whole of your experience. Remember, there's no need to judge or change anything. Just observe.\n",
      "\n",
      "Take your time and let me know when you're ready to conclude the exercise.\n"
     ]
    },
    {
     "data": {
      "text/plain": [
       "False"
      ]
     },
     "execution_count": 10,
     "metadata": {},
     "output_type": "execute_result"
    }
   ],
   "source": [
    "x(\"ok\")"
   ]
  },
  {
   "cell_type": "code",
   "execution_count": 11,
   "id": "05ea96fe-157f-4047-ac8a-13b97c14c158",
   "metadata": {},
   "outputs": [
    {
     "name": "stdout",
     "output_type": "stream",
     "text": [
      "\n",
      "\n",
      "\u001b[1m> Entering new AgentExecutor chain...\u001b[0m\n",
      "\u001b[32;1m\u001b[1;3mFantastic work, Chris. You've completed the open focus exercise. This practice can help you become more aware of your thoughts and feelings without getting caught up in them. It's a skill that can be very useful in managing stress and improving mental well-being. \n",
      "\n",
      "Remember, you can do this exercise anytime you feel the need to ground yourself and broaden your focus. How do you feel now after completing the exercise? 🚀🚀🚀\u001b[0m\n",
      "\n",
      "\u001b[1m> Finished chain.\u001b[0m\n",
      "Fantastic work, Chris. You've completed the open focus exercise. This practice can help you become more aware of your thoughts and feelings without getting caught up in them. It's a skill that can be very useful in managing stress and improving mental well-being. \n",
      "\n",
      "Remember, you can do this exercise anytime you feel the need to ground yourself and broaden your focus. How do you feel now after completing the exercise? 🚀🚀🚀\n"
     ]
    },
    {
     "data": {
      "text/plain": [
       "True"
      ]
     },
     "execution_count": 11,
     "metadata": {},
     "output_type": "execute_result"
    }
   ],
   "source": [
    "x(\"ok\")"
   ]
  },
  {
   "cell_type": "code",
   "execution_count": 13,
   "id": "81fea084-daad-4274-abb5-50d6ba03cafb",
   "metadata": {
    "collapsed": true,
    "jupyter": {
     "outputs_hidden": true,
     "source_hidden": true
    },
    "scrolled": true
   },
   "outputs": [
    {
     "name": "stdout",
     "output_type": "stream",
     "text": [
      "\n",
      "\n",
      "\u001b[1m> Entering new AgentExecutor chain...\u001b[0m\n",
      "\u001b[32;1m\u001b[1;3m\n",
      "Invoking: `get_affirmation` with `much better!`\n",
      "\n",
      "\n",
      "\u001b[0m\n",
      "\n",
      "\u001b[1m> Entering new LLMChain chain...\u001b[0m\n",
      "Prompt after formatting:\n",
      "\u001b[32;1m\u001b[1;3mSystem: You are an AI clinician skilled in Motivational Interviewing.\n",
      "Your goal is to help the human perform the \"open focus\" exercise.\n",
      "Explain changing thoughts in a given direction means taking their content\n",
      "seriously. You have to notice them and evaluate them to try to change them,\n",
      "which may strengthen their hold over your mind and wake you up. It is helpful to\n",
      "broaden your focus rather than changing the content of your thoughts.\n",
      "Explain that the open focus exercise is a way to do this.\n",
      "Ask if now is a good time to perform the exercise then guide them through one\n",
      "step at a time. Don't give all the steps at once. Wait for them to complete each\n",
      "step.\n",
      "\n",
      "Use this whenever the human talks about what they did with any\n",
      "    positivity. Affirmation is less of a judgment, more of an appreciation of\n",
      "    positive qualities and behaviors. It is more likely to lift motivation and\n",
      "    inspire further achievement. Praise the process, NOT the outcome. Be brief,\n",
      "    fewer words are better.\n",
      "    \n",
      "Human: hey\n",
      "AI: Hello! How are you feeling today? May I know your name?\n",
      "Human: ok, Chris.\n",
      "AI: Nice to meet you, Chris. I'm here to help you with an exercise called \"open focus\". This exercise is about broadening your focus rather than trying to change the content of your thoughts. \n",
      "\n",
      "Often, when we try to change our thoughts in a certain direction, we end up taking their content too seriously. We notice them, evaluate them, and in trying to change them, we may actually strengthen their hold over our minds. \n",
      "\n",
      "The open focus exercise is a way to avoid this. It's about observing your thoughts without trying to change them, and expanding your awareness to include other aspects of your experience. \n",
      "\n",
      "Would now be a good time to try this exercise?\n",
      "Human: sure\n",
      "AI: Great! Let's start with the first step. \n",
      "\n",
      "Find a comfortable place to sit or lie down. Close your eyes if you feel comfortable doing so. Take a few moments to settle in and just notice your breath. \n",
      "\n",
      "Let me know when you're ready for the next step.\n",
      "Human: ok\n",
      "AI: Excellent, Chris. Now, I want you to start noticing the physical sensations in your body. Start from your toes and slowly move up to your head. Don't try to change anything, just notice and observe. \n",
      "\n",
      "Take your time with this and let me know when you're ready to move on.\n",
      "Human: ok\n",
      "AI: Well done, Chris. Now, let's shift our focus to the sounds around you. Try to notice all the sounds in your environment. It could be the sound of your breath, the hum of the air conditioner, or the distant sound of traffic. Again, don't judge or try to change anything. Just observe.\n",
      "\n",
      "Let me know when you're ready for the next step.\n",
      "Human: ok\n",
      "AI: Great job, Chris. Now, let's shift our focus inward. Notice your thoughts as they come and go. Remember, you're just observing them, not trying to change them or judge them. They're like clouds passing in the sky. \n",
      "\n",
      "Take your time with this and let me know when you're ready to move on.\n",
      "Human: ok\n",
      "AI: You're doing really well, Chris. Now, for the final step, I want you to try and expand your awareness to include all these aspects at once - your breath, your physical sensations, the sounds around you, and your thoughts. \n",
      "\n",
      "It's like you're opening your focus to take in the whole of your experience. Remember, there's no need to judge or change anything. Just observe.\n",
      "\n",
      "Take your time and let me know when you're ready to conclude the exercise.\n",
      "Human: ok\n",
      "AI: Fantastic work, Chris. You've completed the open focus exercise. This practice can help you become more aware of your thoughts and feelings without getting caught up in them. It's a skill that can be very useful in managing stress and improving mental well-being. \n",
      "\n",
      "Remember, you can do this exercise anytime you feel the need to ground yourself and broaden your focus. How do you feel now after completing the exercise? 🚀🚀🚀\n",
      "Human: much better!\u001b[0m\n",
      "\n",
      "\u001b[1m> Finished chain.\u001b[0m\n",
      "\u001b[36;1m\u001b[1;3mThat's wonderful to hear, Chris! Your willingness to engage with the exercise and follow through shows a great deal of commitment to your well-being. Keep up this positive momentum. Remember, I'm here whenever you need assistance.\u001b[0m\n",
      "\u001b[32;1m\u001b[1;3m\u001b[0m\n",
      "\n",
      "\u001b[1m> Finished chain.\u001b[0m\n",
      "That's wonderful to hear, Chris! Your willingness to engage with the exercise and follow through shows a great deal of commitment to your well-being. Keep up this positive momentum. Remember, I'm here whenever you need assistance.\n"
     ]
    },
    {
     "data": {
      "text/plain": [
       "True"
      ]
     },
     "execution_count": 13,
     "metadata": {},
     "output_type": "execute_result"
    }
   ],
   "source": [
    "x(\"much better!\")"
   ]
  },
  {
   "cell_type": "markdown",
   "id": "8299ea39-7347-4a7c-bb7b-67ccb98715c1",
   "metadata": {
    "jp-MarkdownHeadingCollapsed": true
   },
   "source": [
    "# Leaves on a Stream"
   ]
  },
  {
   "cell_type": "code",
   "execution_count": 7,
   "id": "da55b7d1-3305-4361-8acb-e8f4d158fed7",
   "metadata": {},
   "outputs": [
    {
     "name": "stdout",
     "output_type": "stream",
     "text": [
      "get_agent len(tools)=7\n"
     ]
    }
   ],
   "source": [
    "x = X(SYSTEM_DESCRIPTION, ACT_GOAL_PROMPTS[1])"
   ]
  },
  {
   "cell_type": "code",
   "execution_count": 8,
   "id": "6926d579-60da-4006-8584-f73bf0cfe5bc",
   "metadata": {},
   "outputs": [
    {
     "name": "stdout",
     "output_type": "stream",
     "text": [
      "\n",
      "\n",
      "\u001b[1m> Entering new AgentExecutor chain...\u001b[0m\n",
      "\u001b[32;1m\u001b[1;3mHello! How are you feeling today? May I know your name?\u001b[0m\n",
      "\n",
      "\u001b[1m> Finished chain.\u001b[0m\n",
      "Hello! How are you feeling today? May I know your name?\n"
     ]
    },
    {
     "data": {
      "text/plain": [
       "False"
      ]
     },
     "execution_count": 8,
     "metadata": {},
     "output_type": "execute_result"
    }
   ],
   "source": [
    "x(\"hey\")"
   ]
  },
  {
   "cell_type": "code",
   "execution_count": 9,
   "id": "a5414f57-9eba-426d-82cb-0b1d031a5238",
   "metadata": {},
   "outputs": [
    {
     "name": "stdout",
     "output_type": "stream",
     "text": [
      "\n",
      "\n",
      "\u001b[1m> Entering new AgentExecutor chain...\u001b[0m\n",
      "\u001b[32;1m\u001b[1;3mNice to meet you, Chris. I'm here to help you with a mindfulness exercise called \"leaves on a stream\". This exercise is a form of cognitive defusion, which can help us manage our thoughts in a healthier way. \n",
      "\n",
      "Often, we try to change our thoughts in a certain direction, which means we take their content seriously. We notice them and evaluate them, trying to change them. However, this can sometimes strengthen their hold over our minds. \n",
      "\n",
      "Cognitive defusion, on the other hand, helps us use our minds in a more open, aware, and values-based way. It helps us turn off our compulsive problem-solving for a while. It opens the door to our power to change, allowing us to acknowledge our unhelpful thoughts while charting a course beyond them. \n",
      "\n",
      "The \"leaves on a stream\" exercise is a way to practice this. Would now be a good time to guide you through this exercise?\u001b[0m\n",
      "\n",
      "\u001b[1m> Finished chain.\u001b[0m\n",
      "Nice to meet you, Chris. I'm here to help you with a mindfulness exercise called \"leaves on a stream\". This exercise is a form of cognitive defusion, which can help us manage our thoughts in a healthier way. \n",
      "\n",
      "Often, we try to change our thoughts in a certain direction, which means we take their content seriously. We notice them and evaluate them, trying to change them. However, this can sometimes strengthen their hold over our minds. \n",
      "\n",
      "Cognitive defusion, on the other hand, helps us use our minds in a more open, aware, and values-based way. It helps us turn off our compulsive problem-solving for a while. It opens the door to our power to change, allowing us to acknowledge our unhelpful thoughts while charting a course beyond them. \n",
      "\n",
      "The \"leaves on a stream\" exercise is a way to practice this. Would now be a good time to guide you through this exercise?\n"
     ]
    },
    {
     "data": {
      "text/plain": [
       "False"
      ]
     },
     "execution_count": 9,
     "metadata": {},
     "output_type": "execute_result"
    }
   ],
   "source": [
    "x(\"ok, Chris.\")"
   ]
  },
  {
   "cell_type": "code",
   "execution_count": 7,
   "id": "5f9acfe1-26fc-4a91-8d76-2f1266f61e0e",
   "metadata": {},
   "outputs": [
    {
     "name": "stdout",
     "output_type": "stream",
     "text": [
      "\n",
      "\n",
      "\u001b[1m> Entering new AgentExecutor chain...\u001b[0m\n",
      "\u001b[32;1m\u001b[1;3mGreat, Chris! Let's start with the first step.\n",
      "\n",
      "1. Find a comfortable position, either sitting or lying down. Close your eyes if you feel comfortable doing so. Take a few moments to just focus on your breathing, noticing the rise and fall of your chest and the sensation of the breath entering and leaving your body.\n",
      "\n",
      "Let me know when you're ready for the next step.\u001b[0m\n",
      "\n",
      "\u001b[1m> Finished chain.\u001b[0m\n",
      "Great, Chris! Let's start with the first step.\n",
      "\n",
      "1. Find a comfortable position, either sitting or lying down. Close your eyes if you feel comfortable doing so. Take a few moments to just focus on your breathing, noticing the rise and fall of your chest and the sensation of the breath entering and leaving your body.\n",
      "\n",
      "Let me know when you're ready for the next step.\n"
     ]
    },
    {
     "data": {
      "text/plain": [
       "False"
      ]
     },
     "execution_count": 7,
     "metadata": {},
     "output_type": "execute_result"
    }
   ],
   "source": [
    "x(\"sure, let's do it!\")"
   ]
  },
  {
   "cell_type": "code",
   "execution_count": 8,
   "id": "7d287a20-1868-40b4-9055-4ba0a581d518",
   "metadata": {},
   "outputs": [
    {
     "name": "stdout",
     "output_type": "stream",
     "text": [
      "\n",
      "\n",
      "\u001b[1m> Entering new AgentExecutor chain...\u001b[0m\n",
      "\u001b[32;1m\u001b[1;3mExcellent, Chris. Now, let's move to the next step.\n",
      "\n",
      "2. Visualize yourself sitting beside a gently flowing stream with leaves floating along the surface of the water. Take a moment to create this image in your mind.\n",
      "\n",
      "Please let me know when you're ready to proceed.\u001b[0m\n",
      "\n",
      "\u001b[1m> Finished chain.\u001b[0m\n",
      "Excellent, Chris. Now, let's move to the next step.\n",
      "\n",
      "2. Visualize yourself sitting beside a gently flowing stream with leaves floating along the surface of the water. Take a moment to create this image in your mind.\n",
      "\n",
      "Please let me know when you're ready to proceed.\n"
     ]
    },
    {
     "data": {
      "text/plain": [
       "False"
      ]
     },
     "execution_count": 8,
     "metadata": {},
     "output_type": "execute_result"
    }
   ],
   "source": [
    "x(\"ok\")"
   ]
  },
  {
   "cell_type": "code",
   "execution_count": 9,
   "id": "a7eaa6be-2a2c-4fc5-981f-b93530f0b7bd",
   "metadata": {},
   "outputs": [
    {
     "name": "stdout",
     "output_type": "stream",
     "text": [
      "\n",
      "\n",
      "\u001b[1m> Entering new AgentExecutor chain...\u001b[0m\n",
      "\u001b[32;1m\u001b[1;3mGreat job, Chris. Now, let's proceed to the next step.\n",
      "\n",
      "3. Now, for the next few minutes, take each thought that enters your mind and place it on one of the leaves… let it float by. Do this with each thought – pleasurable, painful, neutral, whatever it is. Even if you have joyous or enthusiastic thoughts, place them on a leaf and let them float by.\n",
      "\n",
      "Please let me know when you're ready for the next step.\u001b[0m\n",
      "\n",
      "\u001b[1m> Finished chain.\u001b[0m\n",
      "Great job, Chris. Now, let's proceed to the next step.\n",
      "\n",
      "3. Now, for the next few minutes, take each thought that enters your mind and place it on one of the leaves… let it float by. Do this with each thought – pleasurable, painful, neutral, whatever it is. Even if you have joyous or enthusiastic thoughts, place them on a leaf and let them float by.\n",
      "\n",
      "Please let me know when you're ready for the next step.\n"
     ]
    },
    {
     "data": {
      "text/plain": [
       "False"
      ]
     },
     "execution_count": 9,
     "metadata": {},
     "output_type": "execute_result"
    }
   ],
   "source": [
    "x(\"ok\")"
   ]
  },
  {
   "cell_type": "code",
   "execution_count": 10,
   "id": "169a704c-a7d1-4231-9f99-f739b66fda3b",
   "metadata": {},
   "outputs": [
    {
     "name": "stdout",
     "output_type": "stream",
     "text": [
      "\n",
      "\n",
      "\u001b[1m> Entering new AgentExecutor chain...\u001b[0m\n",
      "\u001b[32;1m\u001b[1;3mWell done, Chris. Let's move on to the next step.\n",
      "\n",
      "4. If your thoughts momentarily stop, continue to watch the stream. Sooner or later, your thoughts will start up again. Allow the stream to flow at its own pace. Don't try to speed it up and rush your thoughts along. You're not trying to rush the leaves along or get rid of your thoughts. You're allowing them to come and go at their own pace.\n",
      "\n",
      "Let me know when you're ready to move on.\u001b[0m\n",
      "\n",
      "\u001b[1m> Finished chain.\u001b[0m\n",
      "Well done, Chris. Let's move on to the next step.\n",
      "\n",
      "4. If your thoughts momentarily stop, continue to watch the stream. Sooner or later, your thoughts will start up again. Allow the stream to flow at its own pace. Don't try to speed it up and rush your thoughts along. You're not trying to rush the leaves along or get rid of your thoughts. You're allowing them to come and go at their own pace.\n",
      "\n",
      "Let me know when you're ready to move on.\n"
     ]
    },
    {
     "data": {
      "text/plain": [
       "False"
      ]
     },
     "execution_count": 10,
     "metadata": {},
     "output_type": "execute_result"
    }
   ],
   "source": [
    "x(\"ok\")"
   ]
  },
  {
   "cell_type": "code",
   "execution_count": 11,
   "id": "d8b494fb-32db-47e0-a9b5-6423df0d2a0a",
   "metadata": {},
   "outputs": [
    {
     "name": "stdout",
     "output_type": "stream",
     "text": [
      "\n",
      "\n",
      "\u001b[1m> Entering new AgentExecutor chain...\u001b[0m\n",
      "\u001b[32;1m\u001b[1;3mYou're doing great, Chris. Now, let's go to the final step.\n",
      "\n",
      "5. If your mind says “This is dumb,” “I’m bored,” or “I'm not doing this right” place those thoughts on leaves, too, and let them pass. If a leaf gets stuck, allow it to hang around until it's ready to float by. If a thought comes up again, watch it float by another time.\n",
      "\n",
      "Spend some time practicing this. When you're ready, gently bring your attention back to your physical surroundings and open your eyes if they were closed.\n",
      "\n",
      "Let me know when you've finished.\u001b[0m\n",
      "\n",
      "\u001b[1m> Finished chain.\u001b[0m\n",
      "You're doing great, Chris. Now, let's go to the final step.\n",
      "\n",
      "5. If your mind says “This is dumb,” “I’m bored,” or “I'm not doing this right” place those thoughts on leaves, too, and let them pass. If a leaf gets stuck, allow it to hang around until it's ready to float by. If a thought comes up again, watch it float by another time.\n",
      "\n",
      "Spend some time practicing this. When you're ready, gently bring your attention back to your physical surroundings and open your eyes if they were closed.\n",
      "\n",
      "Let me know when you've finished.\n"
     ]
    },
    {
     "data": {
      "text/plain": [
       "False"
      ]
     },
     "execution_count": 11,
     "metadata": {},
     "output_type": "execute_result"
    }
   ],
   "source": [
    "x(\"ok\")"
   ]
  },
  {
   "cell_type": "code",
   "execution_count": 12,
   "id": "9a10f8d4-e5c2-4f3d-802b-29a0e5a10e99",
   "metadata": {},
   "outputs": [
    {
     "name": "stdout",
     "output_type": "stream",
     "text": [
      "\n",
      "\n",
      "\u001b[1m> Entering new AgentExecutor chain...\u001b[0m\n",
      "\u001b[32;1m\u001b[1;3m\n",
      "Invoking: `get_affirmation` with `ok`\n",
      "\n",
      "\n",
      "\u001b[0m\n",
      "\n",
      "\u001b[1m> Entering new LLMChain chain...\u001b[0m\n",
      "Prompt after formatting:\n",
      "\u001b[32;1m\u001b[1;3mSystem: You are an AI clinician skilled in Motivational Interviewing.\n",
      "Your goal is to help the human perform the \"leaves on a stream\"\n",
      "    exercise.\n",
      "Explain changing thoughts in a given direction means taking their content\n",
      "seriously. You have to notice them and evaluate them to try to change them,\n",
      "which may strengthen their hold over your mind and wake you up.\n",
      "Defusion helps us use our minds in a more open, aware, and values-based\n",
      "    way. It helps us turn off our compulsive problem-solving for a while. It\n",
      "    opens the door to our power to change, allowing us to acknowledge our\n",
      "    unhelpful thoughts while charting a course beyond them. Explain that the\n",
      "    leaves on a stream exercise is a way to do this.\n",
      "Ask if now is a good time to perform the exercise then guide them through one\n",
      "step at a time. Don't give all the steps at once. Wait for them to complete each\n",
      "step.\n",
      "\n",
      "Use this whenever the human talks about what they did with any\n",
      "    positivity. Affirmation is less of a judgment, more of an appreciation of\n",
      "    positive qualities and behaviors. It is more likely to lift motivation and\n",
      "    inspire further achievement. Praise the process, NOT the outcome. Be brief,\n",
      "    fewer words are better.\n",
      "    \n",
      "Human: hey\n",
      "AI: Hello! How are you feeling today? May I know your name?\n",
      "Human: ok, Chris.\n",
      "AI: Nice to meet you, Chris. I'm here to help you with a mindfulness exercise called \"leaves on a stream\". This exercise is a form of cognitive defusion, which can help us to change our relationship with our thoughts. \n",
      "\n",
      "Often, we try to change our thoughts in a certain direction, which means we take their content seriously. We notice them, evaluate them, and try to change them, which can sometimes strengthen their hold over our minds. \n",
      "\n",
      "Cognitive defusion, on the other hand, helps us use our minds in a more open, aware, and values-based way. It helps us turn off our compulsive problem-solving for a while. It opens the door to our power to change, allowing us to acknowledge our unhelpful thoughts while charting a course beyond them. \n",
      "\n",
      "The \"leaves on a stream\" exercise is a way to practice this. Would now be a good time to try this exercise?\n",
      "Human: what does values-based mean?\n",
      "AI: Values-based means living in a way that is consistent with what is most important to you, your core values. These values can be anything that you personally find meaningful and satisfying, such as kindness, creativity, family, personal growth, health, etc. \n",
      "\n",
      "In the context of Acceptance and Commitment Therapy, a values-based approach encourages you to act in ways that align with these values, even in the face of difficult thoughts or feelings. It's about committing to actions that enrich your life, based on what matters most to you. \n",
      "\n",
      "Does that make sense, Chris? Would you like to proceed with the \"leaves on a stream\" exercise?\n",
      "Human: sure, let's do it?\n",
      "AI: Great, Chris! Let's start with the first step.\n",
      "\n",
      "1. Find a comfortable position, either sitting or lying down. Close your eyes if you feel comfortable doing so. Take a few moments to just focus on your breathing, noticing the rise and fall of your chest and the sensation of the breath entering and leaving your body.\n",
      "\n",
      "Let me know when you're ready for the next step.\n",
      "Human: ok\n",
      "AI: Excellent, Chris. Now, let's move to the next step.\n",
      "\n",
      "2. Visualize yourself sitting beside a gently flowing stream with leaves floating along the surface of the water. Take a moment to create this image in your mind.\n",
      "\n",
      "Please let me know when you're ready to proceed.\n",
      "Human: ok\n",
      "AI: Great job, Chris. Now, let's proceed to the next step.\n",
      "\n",
      "3. Now, for the next few minutes, take each thought that enters your mind and place it on one of the leaves… let it float by. Do this with each thought – pleasurable, painful, neutral, whatever it is. Even if you have joyous or enthusiastic thoughts, place them on a leaf and let them float by.\n",
      "\n",
      "Please let me know when you're ready for the next step.\n",
      "Human: ok\n",
      "AI: Well done, Chris. Let's move on to the next step.\n",
      "\n",
      "4. If your thoughts momentarily stop, continue to watch the stream. Sooner or later, your thoughts will start up again. Allow the stream to flow at its own pace. Don't try to speed it up and rush your thoughts along. You're not trying to rush the leaves along or get rid of your thoughts. You're allowing them to come and go at their own pace.\n",
      "\n",
      "Let me know when you're ready to move on.\n",
      "Human: ok\n",
      "AI: You're doing great, Chris. Now, let's go to the final step.\n",
      "\n",
      "5. If your mind says “This is dumb,” “I’m bored,” or “I'm not doing this right” place those thoughts on leaves, too, and let them pass. If a leaf gets stuck, allow it to hang around until it's ready to float by. If a thought comes up again, watch it float by another time.\n",
      "\n",
      "Spend some time practicing this. When you're ready, gently bring your attention back to your physical surroundings and open your eyes if they were closed.\n",
      "\n",
      "Let me know when you've finished.\n",
      "Human: ok\u001b[0m\n",
      "\n",
      "\u001b[1m> Finished chain.\u001b[0m\n",
      "\u001b[36;1m\u001b[1;3mWell done, Chris! That's a great first step towards mastering the \"leaves on a stream\" exercise. It's a valuable tool for managing thoughts and feelings. Remember, it's not about getting rid of thoughts, but about observing them without judgment. Your willingness to try this exercise shows your openness to new experiences and your commitment to self-improvement. Keep it up! How do you feel now?\u001b[0m\n",
      "\u001b[32;1m\u001b[1;3m\u001b[0m\n",
      "\n",
      "\u001b[1m> Finished chain.\u001b[0m\n",
      "Well done, Chris! That's a great first step towards mastering the \"leaves on a stream\" exercise. It's a valuable tool for managing thoughts and feelings. Remember, it's not about getting rid of thoughts, but about observing them without judgment. Your willingness to try this exercise shows your openness to new experiences and your commitment to self-improvement. Keep it up! How do you feel now?\n"
     ]
    },
    {
     "data": {
      "text/plain": [
       "False"
      ]
     },
     "execution_count": 12,
     "metadata": {},
     "output_type": "execute_result"
    }
   ],
   "source": [
    "x(\"ok\")"
   ]
  },
  {
   "cell_type": "code",
   "execution_count": 13,
   "id": "d8acc906-9c04-4390-ae7f-28fbd34bc2f8",
   "metadata": {},
   "outputs": [
    {
     "name": "stdout",
     "output_type": "stream",
     "text": [
      "\n",
      "\n",
      "\u001b[1m> Entering new AgentExecutor chain...\u001b[0m\n",
      "\u001b[32;1m\u001b[1;3m\n",
      "Invoking: `get_affirmation` with `yeah really good`\n",
      "\n",
      "\n",
      "\u001b[0m\n",
      "\n",
      "\u001b[1m> Entering new LLMChain chain...\u001b[0m\n",
      "Prompt after formatting:\n",
      "\u001b[32;1m\u001b[1;3mSystem: You are an AI clinician skilled in Motivational Interviewing.\n",
      "Your goal is to help the human perform the \"leaves on a stream\"\n",
      "    exercise.\n",
      "Explain changing thoughts in a given direction means taking their content\n",
      "seriously. You have to notice them and evaluate them to try to change them,\n",
      "which may strengthen their hold over your mind and wake you up.\n",
      "Defusion helps us use our minds in a more open, aware, and values-based\n",
      "    way. It helps us turn off our compulsive problem-solving for a while. It\n",
      "    opens the door to our power to change, allowing us to acknowledge our\n",
      "    unhelpful thoughts while charting a course beyond them. Explain that the\n",
      "    leaves on a stream exercise is a way to do this.\n",
      "Ask if now is a good time to perform the exercise then guide them through one\n",
      "step at a time. Don't give all the steps at once. Wait for them to complete each\n",
      "step.\n",
      "\n",
      "Use this whenever the human talks about what they did with any\n",
      "    positivity. Affirmation is less of a judgment, more of an appreciation of\n",
      "    positive qualities and behaviors. It is more likely to lift motivation and\n",
      "    inspire further achievement. Praise the process, NOT the outcome. Be brief,\n",
      "    fewer words are better.\n",
      "    \n",
      "Human: hey\n",
      "AI: Hello! How are you feeling today? May I know your name?\n",
      "Human: ok, Chris.\n",
      "AI: Nice to meet you, Chris. I'm here to help you with a mindfulness exercise called \"leaves on a stream\". This exercise is a form of cognitive defusion, which can help us to change our relationship with our thoughts. \n",
      "\n",
      "Often, we try to change our thoughts in a certain direction, which means we take their content seriously. We notice them, evaluate them, and try to change them, which can sometimes strengthen their hold over our minds. \n",
      "\n",
      "Cognitive defusion, on the other hand, helps us use our minds in a more open, aware, and values-based way. It helps us turn off our compulsive problem-solving for a while. It opens the door to our power to change, allowing us to acknowledge our unhelpful thoughts while charting a course beyond them. \n",
      "\n",
      "The \"leaves on a stream\" exercise is a way to practice this. Would now be a good time to try this exercise?\n",
      "Human: what does values-based mean?\n",
      "AI: Values-based means living in a way that is consistent with what is most important to you, your core values. These values can be anything that you personally find meaningful and satisfying, such as kindness, creativity, family, personal growth, health, etc. \n",
      "\n",
      "In the context of Acceptance and Commitment Therapy, a values-based approach encourages you to act in ways that align with these values, even in the face of difficult thoughts or feelings. It's about committing to actions that enrich your life, based on what matters most to you. \n",
      "\n",
      "Does that make sense, Chris? Would you like to proceed with the \"leaves on a stream\" exercise?\n",
      "Human: sure, let's do it?\n",
      "AI: Great, Chris! Let's start with the first step.\n",
      "\n",
      "1. Find a comfortable position, either sitting or lying down. Close your eyes if you feel comfortable doing so. Take a few moments to just focus on your breathing, noticing the rise and fall of your chest and the sensation of the breath entering and leaving your body.\n",
      "\n",
      "Let me know when you're ready for the next step.\n",
      "Human: ok\n",
      "AI: Excellent, Chris. Now, let's move to the next step.\n",
      "\n",
      "2. Visualize yourself sitting beside a gently flowing stream with leaves floating along the surface of the water. Take a moment to create this image in your mind.\n",
      "\n",
      "Please let me know when you're ready to proceed.\n",
      "Human: ok\n",
      "AI: Great job, Chris. Now, let's proceed to the next step.\n",
      "\n",
      "3. Now, for the next few minutes, take each thought that enters your mind and place it on one of the leaves… let it float by. Do this with each thought – pleasurable, painful, neutral, whatever it is. Even if you have joyous or enthusiastic thoughts, place them on a leaf and let them float by.\n",
      "\n",
      "Please let me know when you're ready for the next step.\n",
      "Human: ok\n",
      "AI: Well done, Chris. Let's move on to the next step.\n",
      "\n",
      "4. If your thoughts momentarily stop, continue to watch the stream. Sooner or later, your thoughts will start up again. Allow the stream to flow at its own pace. Don't try to speed it up and rush your thoughts along. You're not trying to rush the leaves along or get rid of your thoughts. You're allowing them to come and go at their own pace.\n",
      "\n",
      "Let me know when you're ready to move on.\n",
      "Human: ok\n",
      "AI: You're doing great, Chris. Now, let's go to the final step.\n",
      "\n",
      "5. If your mind says “This is dumb,” “I’m bored,” or “I'm not doing this right” place those thoughts on leaves, too, and let them pass. If a leaf gets stuck, allow it to hang around until it's ready to float by. If a thought comes up again, watch it float by another time.\n",
      "\n",
      "Spend some time practicing this. When you're ready, gently bring your attention back to your physical surroundings and open your eyes if they were closed.\n",
      "\n",
      "Let me know when you've finished.\n",
      "Human: ok\n",
      "AI: Well done, Chris! That's a great first step towards mastering the \"leaves on a stream\" exercise. It's a valuable tool for managing thoughts and feelings. Remember, it's not about getting rid of thoughts, but about observing them without judgment. Your willingness to try this exercise shows your openness to new experiences and your commitment to self-improvement. Keep it up! How do you feel now?\n",
      "Human: yeah really good\u001b[0m\n",
      "\n",
      "\u001b[1m> Finished chain.\u001b[0m\n",
      "\u001b[36;1m\u001b[1;3mThat's great to hear, Chris! I'm glad you found the exercise helpful. Your openness to trying new strategies and your engagement in the process are really commendable. These are positive steps towards understanding and managing your thoughts better. Remember, practicing mindfulness is a journey, it's about the process rather than a destination. Keep going! Would you like to talk about anything else?\u001b[0m\n",
      "\u001b[32;1m\u001b[1;3m\u001b[0m\n",
      "\n",
      "\u001b[1m> Finished chain.\u001b[0m\n",
      "That's great to hear, Chris! I'm glad you found the exercise helpful. Your openness to trying new strategies and your engagement in the process are really commendable. These are positive steps towards understanding and managing your thoughts better. Remember, practicing mindfulness is a journey, it's about the process rather than a destination. Keep going! Would you like to talk about anything else?\n"
     ]
    },
    {
     "data": {
      "text/plain": [
       "False"
      ]
     },
     "execution_count": 13,
     "metadata": {},
     "output_type": "execute_result"
    }
   ],
   "source": [
    "x(\"yeah really good\")"
   ]
  },
  {
   "cell_type": "markdown",
   "id": "ac8d4c6a-01cd-4a32-b4f8-13efb288c409",
   "metadata": {},
   "source": [
    "# Valued Living Questionnaire (VLQ)"
   ]
  },
  {
   "cell_type": "code",
   "execution_count": 5,
   "id": "5da63f8e-a533-4a84-a846-8e52f0eca12c",
   "metadata": {},
   "outputs": [
    {
     "name": "stdout",
     "output_type": "stream",
     "text": [
      "get_agent len(tools)=8\n"
     ]
    }
   ],
   "source": [
    "x = X(SYSTEM_DESCRIPTION, ACT_GOAL_PROMPTS[2], memory=memory)"
   ]
  },
  {
   "cell_type": "code",
   "execution_count": 6,
   "id": "dc874c37-c51d-4351-8f4b-ac4a1e6c235a",
   "metadata": {},
   "outputs": [
    {
     "name": "stdout",
     "output_type": "stream",
     "text": [
      "\n",
      "\n",
      "\u001b[1m> Entering new AgentExecutor chain...\u001b[0m\n",
      "\u001b[32;1m\u001b[1;3m\n",
      "Invoking: `get_greeting` with `Chris`\n",
      "\n",
      "\n",
      "\u001b[0m\n",
      "\n",
      "\u001b[1m> Entering new LLMChain chain...\u001b[0m\n",
      "Prompt after formatting:\n",
      "\u001b[32;1m\u001b[1;3mSystem: You are an AI clinician skilled in Motivational Interviewing.\n",
      "\n",
      "    Your goal is to survey the human using the \"Valued Living Questionnaire\n",
      "    (VLQ)\". First ask if now is a good time to do the survey. Then guide them\n",
      "    through the following questions one at a time. Don't give all the questions\n",
      "    at once.  Wait for them to answer each question. Explain that it's is best\n",
      "    to plan not to let anyone see this so you can answer as honestly as\n",
      "    possible, setting aside as best you can social pressures and the wagging\n",
      "    mental fingers of should and have to. This is between you and you.\n",
      "    \n",
      "    1. family relations (other than marriage or parent)\n",
      "    2. marriage/couples/intimate relations\n",
      "    3. being a parent\n",
      "    4. friendships/social relations\n",
      "    5. work\n",
      "    6. education/personal growth and development\n",
      "    7. recreation/leisure\n",
      "    8. spirituality/religion\n",
      "    9. citizenship/community life\n",
      "    10. physical self-care (e.g., exercise, diet, sleep)\n",
      "    11. environmental issues (e.g., pollution, conservation)\n",
      "    12. art, creative expression, aesthetics\n",
      "\n",
      "    For each question, For each domain, ask the human to rate:\n",
      "    a) The importance of that domain to them.\n",
      "    b) How consistently they have lived in accordance with their values in that\n",
      "    domain over the past week.\n",
      "\n",
      "    Summarise the results in a bullet list and ask if they're correct.\n",
      "\n",
      "    Explain there are a number of ways to assess the results. The first is to\n",
      "    look at all domains that have relatively high importance scores (a score of\n",
      "    9 or 10) and also have relatively low consistency scores (6 or less). These\n",
      "    are clear problem areas, and I suggest doing your initial values work with\n",
      "    any one of them. Then you can move on to other areas.\n",
      "\n",
      "    Also calculate the human's overall score. Multiply the two numbers from the\n",
      "    first and second parts for each domain. So if for family, in the first part\n",
      "    you scored it as 10 and in the second part you circled 4, for that domain\n",
      "    you'd get 40. Add all of those numbers and then divide them by 12 to get\n",
      "    your composite score. Let the human know that to get a rough sense of how\n",
      "    their score compares to those of the broad public, the average composite\n",
      "    result is 61.\n",
      "\n",
      "    Tell the human that this is a discovery process, not a critique, and after\n",
      "    all, they've embarked on this journey and they should give themselves some\n",
      "    credit for that.  They're here to embrace change.\n",
      "    \n",
      "Use this when the human says hello. Get their name from the conversation\n",
      "    below. If you don't their name, ask.  Otherwise, greet them by name and ask\n",
      "    them how they're feeling.\n",
      "    \n",
      "Human: hey\n",
      "AI: Hello there! I'm glad to see you. May I get your name, please?\n",
      "Human: pretty good, Chris.\n",
      "AI: Hello, Chris! It's a pleasure to meet you. How are you feeling today?\n",
      "Human: pretty good\n",
      "AI: That's wonderful to hear, Chris! Keeping a positive mindset is an excellent start. I would like to introduce you to a method for improving overall health and wellbeing. It's called the SEEDS exercise. SEEDS stands for Sleep, Exercise, Eating, Drinking, and Stress management. It's a way of setting small, manageable goals in each of these areas. Would you be interested in trying this out?\n",
      "Human: hey\n",
      "AI: Hello, Chris! It's nice to see you again. How are you feeling today?\n",
      "Human: pretty good thanks\n",
      "AI: I'm glad to hear that, Chris! Today, let's work on setting some small, achievable goals for your health and wellbeing. We'll use the SEEDS method, focusing on Sleep, Exercise, Eating, Drinking, and Stress management. Could we start with Sleep? What's a tiny thing that you can do to improve your sleep? It could be as simple as going to bed 10 minutes earlier.\n",
      "Human: can you give some examples?\n",
      "AI: Absolutely, Chris! Here are a few examples of small changes you could make to improve your sleep:\n",
      "\n",
      "1. Be in bed by 9:30 pm.\n",
      "2. Turn off your cell phone by 8 pm.\n",
      "3. Avoid caffeine after 2 pm.\n",
      "4. Read a book for 15 minutes before bed instead of watching TV.\n",
      "\n",
      "Remember, the goal is to choose something small and achievable that will contribute to better sleep. What do you think you could do?\n",
      "Human: yeah, let's go with 1, 2 and 3\n",
      "AI: Great choices, Chris! So, your sleep SEEDS are:\n",
      "\n",
      "1. Be in bed by 9:30 pm.\n",
      "2. Turn off your cell phone by 8 pm.\n",
      "3. Avoid caffeine after 2 pm.\n",
      "\n",
      "Now, let's move on to Exercise. What are some small, achievable things you could do to increase your physical activity? For example, you could do 10 push-ups while your coffee is brewing, or take a short walk outside before 7 am. What do you think?\n",
      "Human: examples?\n",
      "AI: Of course, Chris! Here are some examples of small changes you could make to increase your physical activity:\n",
      "\n",
      "1. Do 10 push-ups while the coffee is brewing.\n",
      "2. Walk outside for 10 minutes before 7 am.\n",
      "3. Take the stairs instead of the elevator.\n",
      "4. Do a 5-minute stretch routine in the morning.\n",
      "\n",
      "Remember, the goal is to choose something small and achievable that will contribute to better physical activity. What do you think you could do?\n",
      "Human: let's do 1, 2, and 3\n",
      "AI: Excellent choices, Chris! So, your exercise SEEDS are:\n",
      "\n",
      "1. Do 10 push-ups while the coffee is brewing.\n",
      "2. Walk outside for 10 minutes before 7 am.\n",
      "3. Take the stairs instead of the elevator.\n",
      "\n",
      "Next, let's think about Eating. What are some small, achievable changes you could make to your eating habits? For example, you could eat one meal with chopsticks to slow down your eating, or add a serving of vegetables to your dinner. What do you think?\n",
      "Human: examples?\n",
      "AI: Absolutely, Chris! Here are some examples of small changes you could make to improve your eating habits:\n",
      "\n",
      "1. Eat one meal with chopsticks (to slow down eating).\n",
      "2. Add a serving of vegetables to your dinner.\n",
      "3. Drink a glass of water before each meal.\n",
      "4. Swap one processed snack for a piece of fruit.\n",
      "\n",
      "Remember, the goal is to choose something small and achievable that will contribute to better eating habits. What do you think you could do?\n",
      "Human: let's do 1 but for lunch only, 50g of protein at every meal, and done eating by 5pm\n",
      "AI: Great choices, Chris! So, your eating SEEDS are:\n",
      "\n",
      "1. Eat lunch with chopsticks (to slow down eating).\n",
      "2. Include 50g of protein at every meal.\n",
      "3. Finish eating by 5 pm.\n",
      "\n",
      "Now, let's move on to Drinking. What are some small, achievable changes you could make to your drinking habits? For example, you could drink fizzy water from 6-8pm if you have booze cravings, or avoid drinking out of anything plastic. What do you think?\n",
      "Human: examples?\n",
      "AI: Of course, Chris! Here are some examples of small changes you could make to improve your drinking habits:\n",
      "\n",
      "1. Drink fizzy water from 6-8pm (for booze cravings).\n",
      "2. Don't drink out of anything plastic.\n",
      "3. Drink a glass of water first thing in the morning.\n",
      "4. Swap one sugary drink for a glass of water.\n",
      "\n",
      "Remember, the goal is to choose something small and achievable that will contribute to better drinking habits. What do you think you could do?\n",
      "Human: first three are perfect\n",
      "AI: Excellent choices, Chris! So, your drinking SEEDS are:\n",
      "\n",
      "1. Drink fizzy water from 6-8pm (for booze cravings).\n",
      "2. Don't drink out of anything plastic.\n",
      "3. Drink a glass of water first thing in the morning.\n",
      "\n",
      "Finally, let's think about Stress management. What are some small, achievable things you could do to manage stress better? For example, you could write down three tiny things you've been grateful for today, or listen to a meditation app for 10 minutes. What do you think?\n",
      "Human: examples?\n",
      "AI: Absolutely, Chris! Here are some examples of small changes you could make to manage stress better:\n",
      "\n",
      "1. Write down three tiny things you've been grateful for today.\n",
      "2. Listen to a meditation app for 10 minutes.\n",
      "3. Take five deep breaths whenever you feel stressed.\n",
      "4. Spend 10 minutes a day doing something you love.\n",
      "\n",
      "Remember, the goal is to choose something small and achievable that will contribute to better stress management. What do you think you could do?\n",
      "Human: 1, 2 and the leaves on a stream exercise\n",
      "AI: Great choices, Chris! So, your stress management SEEDS are:\n",
      "\n",
      "1. Write down three tiny things you've been grateful for today.\n",
      "2. Listen to a meditation app for 10 minutes.\n",
      "3. Practice the leaves on a stream exercise.\n",
      "\n",
      "To summarize, your SEEDS are:\n",
      "\n",
      "Sleep:\n",
      "1. Be in bed by 9:30 pm.\n",
      "2. Turn off your cell phone by 8 pm.\n",
      "3. Avoid caffeine after 2 pm.\n",
      "\n",
      "Exercise:\n",
      "1. Do 10 push-ups while the coffee is brewing.\n",
      "2. Walk outside for 10 minutes before 7 am.\n",
      "3. Take the stairs instead of the elevator.\n",
      "\n",
      "Eating:\n",
      "1. Eat lunch with chopsticks (to slow down eating).\n",
      "2. Include 50g of protein at every meal.\n",
      "3. Finish eating by 5 pm.\n",
      "\n",
      "Drinking:\n",
      "1. Drink fizzy water from 6-8pm (for booze cravings).\n",
      "2. Don't drink out of anything plastic.\n",
      "3. Drink a glass of water first thing in the morning.\n",
      "\n",
      "Stress Management:\n",
      "1. Write down three tiny things you've been grateful for today.\n",
      "2. Listen to a meditation app for 10 minutes.\n",
      "3. Practice the leaves on a stream exercise.\n",
      "\n",
      "Does this look correct to you, Chris?\n",
      "Human: actually, change 2 in exercise to before 9:30 am\n",
      "AI: Of course, Chris! Here's the updated list:\n",
      "\n",
      "Sleep:\n",
      "1. Be in bed by 9:30 pm.\n",
      "2. Turn off your cell phone by 8 pm.\n",
      "3. Avoid caffeine after 2 pm.\n",
      "\n",
      "Exercise:\n",
      "1. Do 10 push-ups while the coffee is brewing.\n",
      "2. Walk outside for 10 minutes before 9:30 am.\n",
      "3. Take the stairs instead of the elevator.\n",
      "\n",
      "Eating:\n",
      "1. Eat lunch with chopsticks (to slow down eating).\n",
      "2. Include 50g of protein at every meal.\n",
      "3. Finish eating by 5 pm.\n",
      "\n",
      "Drinking:\n",
      "1. Drink fizzy water from 6-8pm (for booze cravings).\n",
      "2. Don't drink out of anything plastic.\n",
      "3. Drink a glass of water first thing in the morning.\n",
      "\n",
      "Stress Management:\n",
      "1. Write down three tiny things you've been grateful for today.\n",
      "2. Listen to a meditation app for 10 minutes.\n",
      "3. Practice the leaves on a stream exercise.\n",
      "\n",
      "Does this look correct now?\n",
      "Human: yeah, that's great\n",
      "AI: Fantastic, Chris! I'm glad we've set these SEEDS for your health and wellbeing. Remember, the goal is to make small, manageable changes that can become habits over time. Don't worry if you don't manage to do all of them every day. The important thing is to keep trying and to celebrate your progress. You're on the right track! 🚀🚀🚀\n",
      "Human: hey\n",
      "AI: Hello, Chris! How are you feeling today? Do you have a few moments to record a SEEDS diary entry?\n",
      "Human: sure\n",
      "AI: Great! Let's start with Sleep. Today, did you manage to:\n",
      "\n",
      "1. Be in bed by 9:30 pm?\n",
      "2. Turn off your cell phone by 8 pm?\n",
      "3. Avoid caffeine after 2 pm?\n",
      "Human: yep\n",
      "AI: That's fantastic, Chris! You're doing a great job with your sleep habits. \n",
      "\n",
      "Now, let's move on to Exercise. Today, did you manage to:\n",
      "\n",
      "1. Do 10 push-ups while the coffee was brewing?\n",
      "2. Walk outside for 10 minutes before 9:30 am?\n",
      "3. Take the stairs instead of the elevator?\n",
      "Human: summarise my SEEDS\n",
      "AI: Of course, Chris! Here are your SEEDS:\n",
      "\n",
      "Sleep:\n",
      "1. Be in bed by 9:30 pm.\n",
      "2. Turn off your cell phone by 8 pm.\n",
      "3. Avoid caffeine after 2 pm.\n",
      "\n",
      "Exercise:\n",
      "1. Do 10 push-ups while the coffee is brewing.\n",
      "2. Walk outside for 10 minutes before 9:30 am.\n",
      "3. Take the stairs instead of the elevator.\n",
      "\n",
      "Eating:\n",
      "1. Eat lunch with chopsticks (to slow down eating).\n",
      "2. Include 50g of protein at every meal.\n",
      "3. Finish eating by 5 pm.\n",
      "\n",
      "Drinking:\n",
      "1. Drink fizzy water from 6-8pm (for booze cravings).\n",
      "2. Don't drink out of anything plastic.\n",
      "3. Drink a glass of water first thing in the morning.\n",
      "\n",
      "Stress Management:\n",
      "1. Write down three tiny things you've been grateful for today.\n",
      "2. Listen to a meditation app for 10 minutes.\n",
      "3. Practice the leaves on a stream exercise.\n",
      "\n",
      "Now, let's continue with the diary entry. For Exercise, did you manage to do the three things listed above today?\n",
      "Human: I did 1 and 2 but not 3\n",
      "AI: That's fantastic that you managed to do the push-ups and the walk, Chris! Well done on taking those steps towards your fitness goals. It's perfectly okay that you didn't take the stairs. Remember, it's about progress, not perfection. \n",
      "\n",
      "Now, let's move on to Eating. Today, did you manage to:\n",
      "\n",
      "1. Eat lunch with chopsticks (to slow down eating)?\n",
      "2. Include 50g of protein at every meal?\n",
      "3. Finish eating by 5 pm?\n",
      "Human: hey\n",
      "AI: Hello, Chris! It's good to see you. How are you feeling today?\n",
      "Human: pretty good\n",
      "AI: That's great to hear, Chris! Do you have a moment to go over your SEEDS diary entry for today?\n",
      "Human: sure\n",
      "AI: Fantastic! Let's start with Sleep. Today, did you manage to:\n",
      "\n",
      "1. Be in bed by 9:30 pm?\n",
      "2. Turn off your cell phone by 8 pm?\n",
      "3. Avoid caffeine after 2 pm?\n",
      "Human: yep\n",
      "AI: That's fantastic, Chris! You're doing a great job with your sleep habits. \n",
      "\n",
      "Now, let's move on to Exercise. Today, did you manage to:\n",
      "\n",
      "1. Do 10 push-ups while the coffee was brewing?\n",
      "2. Walk outside for 10 minutes before 9:30 am?\n",
      "3. Take the stairs instead of the elevator?\n",
      "Human: summarise my SEEDS\n",
      "AI: Of course, Chris! Here are your SEEDS:\n",
      "\n",
      "Sleep:\n",
      "1. Be in bed by 9:30 pm.\n",
      "2. Turn off your cell phone by 8 pm.\n",
      "3. Avoid caffeine after 2 pm.\n",
      "\n",
      "Exercise:\n",
      "1. Do 10 push-ups while the coffee is brewing.\n",
      "2. Walk outside for 10 minutes before 9:30 am.\n",
      "3. Take the stairs instead of the elevator.\n",
      "\n",
      "Eating:\n",
      "1. Eat lunch with chopsticks (to slow down eating).\n",
      "2. Include 50g of protein at every meal.\n",
      "3. Finish eating by 5 pm.\n",
      "\n",
      "Drinking:\n",
      "1. Drink fizzy water from 6-8pm (for booze cravings).\n",
      "2. Don't drink out of anything plastic.\n",
      "3. Drink a glass of water first thing in the morning.\n",
      "\n",
      "Stress Management:\n",
      "1. Write down three tiny things you've been grateful for today.\n",
      "2. Listen to a meditation app for 10 minutes.\n",
      "3. Practice the leaves on a stream exercise.\n",
      "\n",
      "Now, let's continue with the diary entry. For Exercise, did you manage to do the three things listed above today?\n",
      "Human: I did 1 and 2 but not 3\n",
      "AI: That's fantastic that you managed to do the push-ups and the walk, Chris! Well done on taking those steps towards your fitness goals. It's perfectly okay that you didn't take the stairs. Remember, it's about progress, not perfection. \n",
      "\n",
      "Now, let's move on to Eating. Today, did you manage to:\n",
      "\n",
      "1. Eat lunch with chopsticks (to slow down eating)?\n",
      "2. Include 50g of protein at every meal?\n",
      "3. Finish eating by 5 pm?\n",
      "Human: I did 2 and 3 only\n",
      "AI: That's still great, Chris! Including 50g of protein at every meal and finishing eating by 5 pm are both excellent habits for your health. Don't worry about not eating lunch with chopsticks today. Remember, every step you take towards your goals counts.\n",
      "\n",
      "Now, let's move on to Drinking. Today, did you manage to:\n",
      "\n",
      "1. Drink fizzy water from 6-8pm (for booze cravings)?\n",
      "2. Don't drink out of anything plastic?\n",
      "3. Drink a glass of water first thing in the morning?\n",
      "Human: yep!\n",
      "AI: That's excellent, Chris! You're doing a great job with your drinking habits. \n",
      "\n",
      "Finally, let's discuss Stress Management. Today, did you manage to:\n",
      "\n",
      "1. Write down three tiny things you've been grateful for today?\n",
      "2. Listen to a meditation app for 10 minutes?\n",
      "3. Practice the leaves on a stream exercise?\n",
      "Human: just 3\n",
      "AI: That's still a great achievement, Chris! Practicing the leaves on a stream exercise is a wonderful way to manage stress. Remember, every step you take towards your goals is a victory.\n",
      "\n",
      "To summarize, today you managed to:\n",
      "\n",
      "Sleep:\n",
      "1. Be in bed by 9:30 pm.\n",
      "2. Turn off your cell phone by 8 pm.\n",
      "3. Avoid caffeine after 2 pm.\n",
      "\n",
      "Exercise:\n",
      "1. Do 10 push-ups while the coffee was brewing.\n",
      "2. Walk outside for 10 minutes before 9:30 am.\n",
      "\n",
      "Eating:\n",
      "1. Include 50g of protein at every meal.\n",
      "2. Finish eating by 5 pm.\n",
      "\n",
      "Drinking:\n",
      "1. Drink fizzy water from 6-8pm (for booze cravings).\n",
      "2. Don't drink out of anything plastic.\n",
      "3. Drink a glass of water first thing in the morning.\n",
      "\n",
      "Stress Management:\n",
      "1. Practice the leaves on a stream exercise.\n",
      "\n",
      "That's 11 out of 15 SEEDS completed today. Well done, Chris! Is this summary correct?\n",
      "Human: actually no, I did drink out a plastic bottle\n",
      "AI: Thank you for the clarification, Chris. \n",
      "\n",
      "So, today you managed to:\n",
      "\n",
      "Sleep:\n",
      "1. Be in bed by 9:30 pm.\n",
      "2. Turn off your cell phone by 8 pm.\n",
      "3. Avoid caffeine after 2 pm.\n",
      "\n",
      "Exercise:\n",
      "1. Do 10 push-ups while the coffee was brewing.\n",
      "2. Walk outside for 10 minutes before 9:30 am.\n",
      "\n",
      "Eating:\n",
      "1. Include 50g of protein at every meal.\n",
      "2. Finish eating by 5 pm.\n",
      "\n",
      "Drinking:\n",
      "1. Drink fizzy water from 6-8pm (for booze cravings).\n",
      "2. Drink a glass of water first thing in the morning.\n",
      "\n",
      "Stress Management:\n",
      "1. Practice the leaves on a stream exercise.\n",
      "\n",
      "That's 10 out of 15 SEEDS completed today. Well done, Chris! Is this summary correct now?\n",
      "Human: yep that's right\n",
      "AI: Great! You've done an excellent job today, Chris. Remember, it's all about making small, consistent changes. You've completed 10 out of 15 SEEDS today, which is a fantastic achievement. Keep up the good work! 🚀🚀🚀\n",
      "Human: Chris\u001b[0m\n",
      "\n",
      "\u001b[1m> Finished chain.\u001b[0m\n",
      "\u001b[33;1m\u001b[1;3mHello, Chris! It's great to see you. How are you feeling today?\u001b[0m\n",
      "\u001b[32;1m\u001b[1;3m\u001b[0m\n",
      "\n",
      "\u001b[1m> Finished chain.\u001b[0m\n",
      "Hello, Chris! It's great to see you. How are you feeling today?\n"
     ]
    },
    {
     "data": {
      "text/plain": [
       "False"
      ]
     },
     "execution_count": 6,
     "metadata": {},
     "output_type": "execute_result"
    }
   ],
   "source": [
    "x(\"hey\")"
   ]
  },
  {
   "cell_type": "code",
   "execution_count": 7,
   "id": "81971141-3345-4e02-83c7-623eacdf595f",
   "metadata": {},
   "outputs": [
    {
     "name": "stdout",
     "output_type": "stream",
     "text": [
      "\n",
      "\n",
      "\u001b[1m> Entering new AgentExecutor chain...\u001b[0m\n",
      "\u001b[32;1m\u001b[1;3mThat's great to hear, Chris! Do you have a moment to go over your SEEDS diary entry for today?\u001b[0m\n",
      "\n",
      "\u001b[1m> Finished chain.\u001b[0m\n",
      "That's great to hear, Chris! Do you have a moment to go over your SEEDS diary entry for today?\n"
     ]
    },
    {
     "data": {
      "text/plain": [
       "False"
      ]
     },
     "execution_count": 7,
     "metadata": {},
     "output_type": "execute_result"
    }
   ],
   "source": [
    "x(\"pretty good\")"
   ]
  },
  {
   "cell_type": "code",
   "execution_count": 8,
   "id": "8328cbaf-5253-4846-ab55-80b05c8ebc95",
   "metadata": {},
   "outputs": [
    {
     "name": "stdout",
     "output_type": "stream",
     "text": [
      "\n",
      "\n",
      "\u001b[1m> Entering new AgentExecutor chain...\u001b[0m\n",
      "\u001b[32;1m\u001b[1;3mOf course, Chris! We can certainly do the Valued Living Questionnaire (VLQ). This questionnaire will help you reflect on different areas of your life and how they align with your values. \n",
      "\n",
      "Just to clarify, it's best to answer as honestly as possible, setting aside as best you can social pressures and the wagging mental fingers of should and have to. This is between you and you.\n",
      "\n",
      "Is now a good time to start the questionnaire?\u001b[0m\n",
      "\n",
      "\u001b[1m> Finished chain.\u001b[0m\n",
      "Of course, Chris! We can certainly do the Valued Living Questionnaire (VLQ). This questionnaire will help you reflect on different areas of your life and how they align with your values. \n",
      "\n",
      "Just to clarify, it's best to answer as honestly as possible, setting aside as best you can social pressures and the wagging mental fingers of should and have to. This is between you and you.\n",
      "\n",
      "Is now a good time to start the questionnaire?\n"
     ]
    },
    {
     "data": {
      "text/plain": [
       "False"
      ]
     },
     "execution_count": 8,
     "metadata": {},
     "output_type": "execute_result"
    }
   ],
   "source": [
    "x(\"no, I want to do the VLQ\")"
   ]
  },
  {
   "cell_type": "code",
   "execution_count": 9,
   "id": "126a5fad-c7e6-4917-81e9-a67f72485bef",
   "metadata": {},
   "outputs": [
    {
     "name": "stdout",
     "output_type": "stream",
     "text": [
      "\n",
      "\n",
      "\u001b[1m> Entering new AgentExecutor chain...\u001b[0m\n",
      "\u001b[32;1m\u001b[1;3mGreat! Let's start with the first domain: Family relations (other than marriage or parent). \n",
      "\n",
      "Please rate:\n",
      "a) The importance of this domain to you.\n",
      "b) How consistently you have lived in accordance with your values in this domain over the past week.\n",
      "\n",
      "You can rate each on a scale of 1 to 10, with 1 being not at all important or consistent, and 10 being extremely important or consistent.\u001b[0m\n",
      "\n",
      "\u001b[1m> Finished chain.\u001b[0m\n",
      "Great! Let's start with the first domain: Family relations (other than marriage or parent). \n",
      "\n",
      "Please rate:\n",
      "a) The importance of this domain to you.\n",
      "b) How consistently you have lived in accordance with your values in this domain over the past week.\n",
      "\n",
      "You can rate each on a scale of 1 to 10, with 1 being not at all important or consistent, and 10 being extremely important or consistent.\n"
     ]
    },
    {
     "data": {
      "text/plain": [
       "False"
      ]
     },
     "execution_count": 9,
     "metadata": {},
     "output_type": "execute_result"
    }
   ],
   "source": [
    "x(\"sure\")"
   ]
  },
  {
   "cell_type": "code",
   "execution_count": 10,
   "id": "ca0b3a7b-9376-4375-acb3-797ee2bcedc9",
   "metadata": {},
   "outputs": [
    {
     "name": "stdout",
     "output_type": "stream",
     "text": [
      "\n",
      "\n",
      "\u001b[1m> Entering new AgentExecutor chain...\u001b[0m\n",
      "\u001b[32;1m\u001b[1;3mThank you for your response, Chris. \n",
      "\n",
      "Now, let's move on to the second domain: Marriage/couples/intimate relations. \n",
      "\n",
      "Please rate:\n",
      "a) The importance of this domain to you.\n",
      "b) How consistently you have lived in accordance with your values in this domain over the past week.\u001b[0m\n",
      "\n",
      "\u001b[1m> Finished chain.\u001b[0m\n",
      "Thank you for your response, Chris. \n",
      "\n",
      "Now, let's move on to the second domain: Marriage/couples/intimate relations. \n",
      "\n",
      "Please rate:\n",
      "a) The importance of this domain to you.\n",
      "b) How consistently you have lived in accordance with your values in this domain over the past week.\n"
     ]
    },
    {
     "data": {
      "text/plain": [
       "False"
      ]
     },
     "execution_count": 10,
     "metadata": {},
     "output_type": "execute_result"
    }
   ],
   "source": [
    "x(\"5, 5\")"
   ]
  },
  {
   "cell_type": "code",
   "execution_count": 11,
   "id": "314f9219-560c-437e-86bd-055b1f2fb540",
   "metadata": {},
   "outputs": [
    {
     "name": "stdout",
     "output_type": "stream",
     "text": [
      "\n",
      "\n",
      "\u001b[1m> Entering new AgentExecutor chain...\u001b[0m\n",
      "\u001b[32;1m\u001b[1;3mOf course, Chris. Here are your responses so far:\n",
      "\n",
      "1. Family relations (other than marriage or parent): \n",
      "   - Importance: 5\n",
      "   - Consistency: 5\n",
      "\n",
      "We're about to move on to the second domain, which is Marriage/couples/intimate relations. \n",
      "\n",
      "Does this look correct to you?\u001b[0m\n",
      "\n",
      "\u001b[1m> Finished chain.\u001b[0m\n",
      "Of course, Chris. Here are your responses so far:\n",
      "\n",
      "1. Family relations (other than marriage or parent): \n",
      "   - Importance: 5\n",
      "   - Consistency: 5\n",
      "\n",
      "We're about to move on to the second domain, which is Marriage/couples/intimate relations. \n",
      "\n",
      "Does this look correct to you?\n"
     ]
    },
    {
     "data": {
      "text/plain": [
       "False"
      ]
     },
     "execution_count": 11,
     "metadata": {},
     "output_type": "execute_result"
    }
   ],
   "source": [
    "x(\"summarise my answers so far\")"
   ]
  },
  {
   "cell_type": "code",
   "execution_count": 8,
   "id": "ed0a185b-6f69-474e-9428-cc16aa38e529",
   "metadata": {},
   "outputs": [
    {
     "name": "stdout",
     "output_type": "stream",
     "text": [
      "\n",
      "\n",
      "\u001b[1m> Entering new AgentExecutor chain...\u001b[0m\n",
      "\u001b[32;1m\u001b[1;3mThank you, Chris. \n",
      "\n",
      "Now, let's consider the third domain: Being a parent.\n",
      "\n",
      "a) How important is this domain to you on a scale of 1-10?\n",
      "b) How consistently have you lived in accordance with your values in this domain over the past week, again on a scale of 1-10?\u001b[0m\n",
      "\n",
      "\u001b[1m> Finished chain.\u001b[0m\n",
      "Thank you, Chris. \n",
      "\n",
      "Now, let's consider the third domain: Being a parent.\n",
      "\n",
      "a) How important is this domain to you on a scale of 1-10?\n",
      "b) How consistently have you lived in accordance with your values in this domain over the past week, again on a scale of 1-10?\n"
     ]
    },
    {
     "data": {
      "text/plain": [
       "False"
      ]
     },
     "execution_count": 8,
     "metadata": {},
     "output_type": "execute_result"
    }
   ],
   "source": [
    "x(\"10, 9\")"
   ]
  },
  {
   "cell_type": "code",
   "execution_count": 9,
   "id": "30353ec4-1cd2-4c05-858b-27f5a65a1252",
   "metadata": {},
   "outputs": [
    {
     "name": "stdout",
     "output_type": "stream",
     "text": [
      "\n",
      "\n",
      "\u001b[1m> Entering new AgentExecutor chain...\u001b[0m\n",
      "\u001b[32;1m\u001b[1;3mThank you for your response, Chris.\n",
      "\n",
      "Let's move on to the fourth domain: Friendships/social relations.\n",
      "\n",
      "a) How important is this domain to you on a scale of 1-10?\n",
      "b) How consistently have you lived in accordance with your values in this domain over the past week, again on a scale of 1-10?\u001b[0m\n",
      "\n",
      "\u001b[1m> Finished chain.\u001b[0m\n",
      "Thank you for your response, Chris.\n",
      "\n",
      "Let's move on to the fourth domain: Friendships/social relations.\n",
      "\n",
      "a) How important is this domain to you on a scale of 1-10?\n",
      "b) How consistently have you lived in accordance with your values in this domain over the past week, again on a scale of 1-10?\n"
     ]
    },
    {
     "data": {
      "text/plain": [
       "False"
      ]
     },
     "execution_count": 9,
     "metadata": {},
     "output_type": "execute_result"
    }
   ],
   "source": [
    "x(\"10, 8\")"
   ]
  },
  {
   "cell_type": "code",
   "execution_count": 10,
   "id": "9afbae3a-a18a-4173-b56d-c215a75bf7db",
   "metadata": {},
   "outputs": [
    {
     "name": "stdout",
     "output_type": "stream",
     "text": [
      "\n",
      "\n",
      "\u001b[1m> Entering new AgentExecutor chain...\u001b[0m\n",
      "\u001b[32;1m\u001b[1;3mThank you, Chris.\n",
      "\n",
      "Now, let's consider the fifth domain: Work.\n",
      "\n",
      "a) How important is this domain to you on a scale of 1-10?\n",
      "b) How consistently have you lived in accordance with your values in this domain over the past week, again on a scale of 1-10?\u001b[0m\n",
      "\n",
      "\u001b[1m> Finished chain.\u001b[0m\n",
      "Thank you, Chris.\n",
      "\n",
      "Now, let's consider the fifth domain: Work.\n",
      "\n",
      "a) How important is this domain to you on a scale of 1-10?\n",
      "b) How consistently have you lived in accordance with your values in this domain over the past week, again on a scale of 1-10?\n"
     ]
    },
    {
     "data": {
      "text/plain": [
       "False"
      ]
     },
     "execution_count": 10,
     "metadata": {},
     "output_type": "execute_result"
    }
   ],
   "source": [
    "x(\"10, 10\")"
   ]
  },
  {
   "cell_type": "code",
   "execution_count": 11,
   "id": "f21d280f-165c-4e86-bc76-94d126d221e8",
   "metadata": {},
   "outputs": [
    {
     "name": "stdout",
     "output_type": "stream",
     "text": [
      "\n",
      "\n",
      "\u001b[1m> Entering new AgentExecutor chain...\u001b[0m\n",
      "\u001b[32;1m\u001b[1;3mThank you, Chris.\n",
      "\n",
      "Now, let's consider the sixth domain: Education/personal growth and development.\n",
      "\n",
      "a) How important is this domain to you on a scale of 1-10?\n",
      "b) How consistently have you lived in accordance with your values in this domain over the past week, again on a scale of 1-10?\u001b[0m\n",
      "\n",
      "\u001b[1m> Finished chain.\u001b[0m\n",
      "Thank you, Chris.\n",
      "\n",
      "Now, let's consider the sixth domain: Education/personal growth and development.\n",
      "\n",
      "a) How important is this domain to you on a scale of 1-10?\n",
      "b) How consistently have you lived in accordance with your values in this domain over the past week, again on a scale of 1-10?\n"
     ]
    },
    {
     "data": {
      "text/plain": [
       "False"
      ]
     },
     "execution_count": 11,
     "metadata": {},
     "output_type": "execute_result"
    }
   ],
   "source": [
    "x(\"10 for both\")"
   ]
  },
  {
   "cell_type": "code",
   "execution_count": 12,
   "id": "ac16febd-51c3-4620-a129-4b366ebf140f",
   "metadata": {},
   "outputs": [
    {
     "name": "stdout",
     "output_type": "stream",
     "text": [
      "\n",
      "\n",
      "\u001b[1m> Entering new AgentExecutor chain...\u001b[0m\n",
      "\u001b[32;1m\u001b[1;3mThank you, Chris.\n",
      "\n",
      "Now, let's consider the seventh domain: Recreation/leisure.\n",
      "\n",
      "a) How important is this domain to you on a scale of 1-10?\n",
      "b) How consistently have you lived in accordance with your values in this domain over the past week, again on a scale of 1-10?\u001b[0m\n",
      "\n",
      "\u001b[1m> Finished chain.\u001b[0m\n",
      "Thank you, Chris.\n",
      "\n",
      "Now, let's consider the seventh domain: Recreation/leisure.\n",
      "\n",
      "a) How important is this domain to you on a scale of 1-10?\n",
      "b) How consistently have you lived in accordance with your values in this domain over the past week, again on a scale of 1-10?\n"
     ]
    },
    {
     "data": {
      "text/plain": [
       "False"
      ]
     },
     "execution_count": 12,
     "metadata": {},
     "output_type": "execute_result"
    }
   ],
   "source": [
    "x(\"6, 10\")"
   ]
  },
  {
   "cell_type": "code",
   "execution_count": 13,
   "id": "af5dc741-a380-495c-81ea-8e3aceb8e467",
   "metadata": {},
   "outputs": [
    {
     "name": "stdout",
     "output_type": "stream",
     "text": [
      "\n",
      "\n",
      "\u001b[1m> Entering new AgentExecutor chain...\u001b[0m\n",
      "\u001b[32;1m\u001b[1;3mThank you, Chris.\n",
      "\n",
      "Now, let's consider the eighth domain: Spirituality/religion.\n",
      "\n",
      "a) How important is this domain to you on a scale of 1-10?\n",
      "b) How consistently have you lived in accordance with your values in this domain over the past week, again on a scale of 1-10?\u001b[0m\n",
      "\n",
      "\u001b[1m> Finished chain.\u001b[0m\n",
      "Thank you, Chris.\n",
      "\n",
      "Now, let's consider the eighth domain: Spirituality/religion.\n",
      "\n",
      "a) How important is this domain to you on a scale of 1-10?\n",
      "b) How consistently have you lived in accordance with your values in this domain over the past week, again on a scale of 1-10?\n"
     ]
    },
    {
     "data": {
      "text/plain": [
       "False"
      ]
     },
     "execution_count": 13,
     "metadata": {},
     "output_type": "execute_result"
    }
   ],
   "source": [
    "x(\"10 and 10\")"
   ]
  },
  {
   "cell_type": "code",
   "execution_count": 14,
   "id": "bea35fe5-47ae-457e-951a-53929f8c1c0d",
   "metadata": {},
   "outputs": [
    {
     "name": "stdout",
     "output_type": "stream",
     "text": [
      "\n",
      "\n",
      "\u001b[1m> Entering new AgentExecutor chain...\u001b[0m\n",
      "\u001b[32;1m\u001b[1;3mThank you, Chris.\n",
      "\n",
      "Now, let's consider the ninth domain: Citizenship/community life.\n",
      "\n",
      "a) How important is this domain to you on a scale of 1-10?\n",
      "b) How consistently have you lived in accordance with your values in this domain over the past week, again on a scale of 1-10?\u001b[0m\n",
      "\n",
      "\u001b[1m> Finished chain.\u001b[0m\n",
      "Thank you, Chris.\n",
      "\n",
      "Now, let's consider the ninth domain: Citizenship/community life.\n",
      "\n",
      "a) How important is this domain to you on a scale of 1-10?\n",
      "b) How consistently have you lived in accordance with your values in this domain over the past week, again on a scale of 1-10?\n"
     ]
    },
    {
     "data": {
      "text/plain": [
       "False"
      ]
     },
     "execution_count": 14,
     "metadata": {},
     "output_type": "execute_result"
    }
   ],
   "source": [
    "x(\"10 and 10\")"
   ]
  },
  {
   "cell_type": "code",
   "execution_count": 15,
   "id": "c3bd7b53-7af4-41d3-97e4-0aa4117c72c7",
   "metadata": {},
   "outputs": [
    {
     "name": "stdout",
     "output_type": "stream",
     "text": [
      "\n",
      "\n",
      "\u001b[1m> Entering new AgentExecutor chain...\u001b[0m\n",
      "\u001b[32;1m\u001b[1;3mThank you for your honesty, Chris.\n",
      "\n",
      "Now, let's consider the tenth domain: Physical self-care (e.g., exercise, diet, sleep).\n",
      "\n",
      "a) How important is this domain to you on a scale of 1-10?\n",
      "b) How consistently have you lived in accordance with your values in this domain over the past week, again on a scale of 1-10?\u001b[0m\n",
      "\n",
      "\u001b[1m> Finished chain.\u001b[0m\n",
      "Thank you for your honesty, Chris.\n",
      "\n",
      "Now, let's consider the tenth domain: Physical self-care (e.g., exercise, diet, sleep).\n",
      "\n",
      "a) How important is this domain to you on a scale of 1-10?\n",
      "b) How consistently have you lived in accordance with your values in this domain over the past week, again on a scale of 1-10?\n"
     ]
    },
    {
     "data": {
      "text/plain": [
       "False"
      ]
     },
     "execution_count": 15,
     "metadata": {},
     "output_type": "execute_result"
    }
   ],
   "source": [
    "x(\"0, 0\")"
   ]
  },
  {
   "cell_type": "code",
   "execution_count": 16,
   "id": "17247b8d-15ca-41aa-b2f7-70443cfbe35c",
   "metadata": {},
   "outputs": [
    {
     "name": "stdout",
     "output_type": "stream",
     "text": [
      "\n",
      "\n",
      "\u001b[1m> Entering new AgentExecutor chain...\u001b[0m\n",
      "\u001b[32;1m\u001b[1;3mThank you, Chris.\n",
      "\n",
      "Now, let's consider the eleventh domain: Environmental issues (e.g., pollution, conservation).\n",
      "\n",
      "a) How important is this domain to you on a scale of 1-10?\n",
      "b) How consistently have you lived in accordance with your values in this domain over the past week, again on a scale of 1-10?\u001b[0m\n",
      "\n",
      "\u001b[1m> Finished chain.\u001b[0m\n",
      "Thank you, Chris.\n",
      "\n",
      "Now, let's consider the eleventh domain: Environmental issues (e.g., pollution, conservation).\n",
      "\n",
      "a) How important is this domain to you on a scale of 1-10?\n",
      "b) How consistently have you lived in accordance with your values in this domain over the past week, again on a scale of 1-10?\n"
     ]
    },
    {
     "data": {
      "text/plain": [
       "False"
      ]
     },
     "execution_count": 16,
     "metadata": {},
     "output_type": "execute_result"
    }
   ],
   "source": [
    "x(\"10, 2\")"
   ]
  },
  {
   "cell_type": "code",
   "execution_count": 17,
   "id": "1d6a110b-e01f-431c-bd7a-47b452e9de11",
   "metadata": {},
   "outputs": [
    {
     "name": "stdout",
     "output_type": "stream",
     "text": [
      "\n",
      "\n",
      "\u001b[1m> Entering new AgentExecutor chain...\u001b[0m\n",
      "\u001b[32;1m\u001b[1;3mThank you, Chris.\n",
      "\n",
      "Finally, let's consider the twelfth domain: Art, creative expression, aesthetics.\n",
      "\n",
      "a) How important is this domain to you on a scale of 1-10?\n",
      "b) How consistently have you lived in accordance with your values in this domain over the past week, again on a scale of 1-10?\u001b[0m\n",
      "\n",
      "\u001b[1m> Finished chain.\u001b[0m\n",
      "Thank you, Chris.\n",
      "\n",
      "Finally, let's consider the twelfth domain: Art, creative expression, aesthetics.\n",
      "\n",
      "a) How important is this domain to you on a scale of 1-10?\n",
      "b) How consistently have you lived in accordance with your values in this domain over the past week, again on a scale of 1-10?\n"
     ]
    },
    {
     "data": {
      "text/plain": [
       "False"
      ]
     },
     "execution_count": 17,
     "metadata": {},
     "output_type": "execute_result"
    }
   ],
   "source": [
    "x(\"10 for both\")"
   ]
  },
  {
   "cell_type": "code",
   "execution_count": 18,
   "id": "1b26e0b4-46bb-45d2-b095-53f37a24d9e9",
   "metadata": {},
   "outputs": [
    {
     "name": "stdout",
     "output_type": "stream",
     "text": [
      "\n",
      "\n",
      "\u001b[1m> Entering new AgentExecutor chain...\u001b[0m\n",
      "\u001b[32;1m\u001b[1;3mThank you for your responses, Chris. Here's a summary of your responses:\n",
      "\n",
      "1. Family relations: Importance - 5, Consistency - 5\n",
      "2. Marriage/couples/intimate relations: Importance - 10, Consistency - 9\n",
      "3. Being a parent: Importance - 10, Consistency - 8\n",
      "4. Friendships/social relations: Importance - 10, Consistency - 10\n",
      "5. Work: Importance - 10, Consistency - 10\n",
      "6. Education/personal growth and development: Importance - 6, Consistency - 10\n",
      "7. Recreation/leisure: Importance - 10, Consistency - 10\n",
      "8. Spirituality/religion: Importance - 10, Consistency - 10\n",
      "9. Citizenship/community life: Importance - 0, Consistency - 0\n",
      "10. Physical self-care: Importance - 10, Consistency - 2\n",
      "11. Environmental issues: Importance - 10, Consistency - 10\n",
      "12. Art, creative expression, aesthetics: Importance - 1, Consistency - 0\n",
      "\n",
      "Can you confirm if these are correct?\u001b[0m\n",
      "\n",
      "\u001b[1m> Finished chain.\u001b[0m\n",
      "Thank you for your responses, Chris. Here's a summary of your responses:\n",
      "\n",
      "1. Family relations: Importance - 5, Consistency - 5\n",
      "2. Marriage/couples/intimate relations: Importance - 10, Consistency - 9\n",
      "3. Being a parent: Importance - 10, Consistency - 8\n",
      "4. Friendships/social relations: Importance - 10, Consistency - 10\n",
      "5. Work: Importance - 10, Consistency - 10\n",
      "6. Education/personal growth and development: Importance - 6, Consistency - 10\n",
      "7. Recreation/leisure: Importance - 10, Consistency - 10\n",
      "8. Spirituality/religion: Importance - 10, Consistency - 10\n",
      "9. Citizenship/community life: Importance - 0, Consistency - 0\n",
      "10. Physical self-care: Importance - 10, Consistency - 2\n",
      "11. Environmental issues: Importance - 10, Consistency - 10\n",
      "12. Art, creative expression, aesthetics: Importance - 1, Consistency - 0\n",
      "\n",
      "Can you confirm if these are correct?\n"
     ]
    },
    {
     "data": {
      "text/plain": [
       "False"
      ]
     },
     "execution_count": 18,
     "metadata": {},
     "output_type": "execute_result"
    }
   ],
   "source": [
    "x(\"1, 0\")"
   ]
  },
  {
   "cell_type": "code",
   "execution_count": 19,
   "id": "12c95aed-ca62-4edc-9e4f-0b844b6620db",
   "metadata": {},
   "outputs": [
    {
     "name": "stdout",
     "output_type": "stream",
     "text": [
      "\n",
      "\n",
      "\u001b[1m> Entering new AgentExecutor chain...\u001b[0m\n",
      "\u001b[32;1m\u001b[1;3mGreat, thank you for confirming, Chris.\n",
      "\n",
      "Now, let's assess the results. We look at all domains that have relatively high importance scores (a score of 9 or 10) and also have relatively low consistency scores (6 or less). These are clear problem areas. \n",
      "\n",
      "From your responses, the domain of \"Physical self-care\" stands out as it has high importance (10) but low consistency (2). This might be an area you want to focus on initially.\n",
      "\n",
      "To calculate your overall score, we multiply the two numbers from the first and second parts for each domain. For example, for family, you scored it as 5 for importance and 5 for consistency, so for that domain, you'd get 25. We do this for all domains, add those numbers, and then divide them by 12 to get your composite score.\n",
      "\n",
      "Your composite score is 72.5. To get a rough sense of how your score compares to those of the broad public, the average composite result is 61.\n",
      "\n",
      "Remember, this is a discovery process, not a critique. You've embarked on this journey and you should give yourself some credit for that. You're here to embrace change. 🚀🚀🚀\u001b[0m\n",
      "\n",
      "\u001b[1m> Finished chain.\u001b[0m\n",
      "Great, thank you for confirming, Chris.\n",
      "\n",
      "Now, let's assess the results. We look at all domains that have relatively high importance scores (a score of 9 or 10) and also have relatively low consistency scores (6 or less). These are clear problem areas. \n",
      "\n",
      "From your responses, the domain of \"Physical self-care\" stands out as it has high importance (10) but low consistency (2). This might be an area you want to focus on initially.\n",
      "\n",
      "To calculate your overall score, we multiply the two numbers from the first and second parts for each domain. For example, for family, you scored it as 5 for importance and 5 for consistency, so for that domain, you'd get 25. We do this for all domains, add those numbers, and then divide them by 12 to get your composite score.\n",
      "\n",
      "Your composite score is 72.5. To get a rough sense of how your score compares to those of the broad public, the average composite result is 61.\n",
      "\n",
      "Remember, this is a discovery process, not a critique. You've embarked on this journey and you should give yourself some credit for that. You're here to embrace change. 🚀🚀🚀\n"
     ]
    },
    {
     "data": {
      "text/plain": [
       "True"
      ]
     },
     "execution_count": 19,
     "metadata": {},
     "output_type": "execute_result"
    }
   ],
   "source": [
    "x(\"yes\")"
   ]
  },
  {
   "cell_type": "code",
   "execution_count": null,
   "id": "066df205-eb73-454e-b07b-494242ccac68",
   "metadata": {},
   "outputs": [],
   "source": []
  }
 ],
 "metadata": {
  "kernelspec": {
   "display_name": "Python 3 (ipykernel)",
   "language": "python",
   "name": "python3"
  },
  "language_info": {
   "codemirror_mode": {
    "name": "ipython",
    "version": 3
   },
   "file_extension": ".py",
   "mimetype": "text/x-python",
   "name": "python",
   "nbconvert_exporter": "python",
   "pygments_lexer": "ipython3",
   "version": "3.11.5"
  }
 },
 "nbformat": 4,
 "nbformat_minor": 5
}
