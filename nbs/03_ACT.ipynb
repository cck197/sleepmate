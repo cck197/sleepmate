{
 "cells": [
  {
   "cell_type": "code",
   "execution_count": 1,
   "id": "233a5ee3-dc98-48a1-94ba-a70f73ddab20",
   "metadata": {},
   "outputs": [
    {
     "name": "stdout",
     "output_type": "stream",
     "text": [
      "Automatic pdb calling has been turned ON\n"
     ]
    }
   ],
   "source": [
    "%pdb"
   ]
  },
  {
   "cell_type": "code",
   "execution_count": 2,
   "id": "b00ed3dd-5dd0-4aeb-ae11-a37eea67612e",
   "metadata": {},
   "outputs": [],
   "source": [
    "from sleepmate.agent import *"
   ]
  },
  {
   "cell_type": "code",
   "execution_count": 3,
   "id": "9df3cb87-f2d4-4611-abed-9968de1c0205",
   "metadata": {},
   "outputs": [],
   "source": [
    "!rm -f /Users/cck197/Downloads/virtual_greg/memory.pkl"
   ]
  },
  {
   "cell_type": "markdown",
   "id": "ff7b44f5-85bd-411a-8e2a-cf18366f0653",
   "metadata": {},
   "source": [
    "# Open Focus"
   ]
  },
  {
   "cell_type": "code",
   "execution_count": 3,
   "id": "6b8660cd-f5e7-46d0-ae5d-187f063e0a16",
   "metadata": {},
   "outputs": [
    {
     "name": "stdout",
     "output_type": "stream",
     "text": [
      "get_agent len(tools)=28\n",
      "load_memory filename='/Users/cck197/Downloads/virtual_greg/memory.pkl'\n"
     ]
    },
    {
     "data": {
      "text/markdown": [
       "Hello Chris, I hope you're doing well. Is now a good time to record a sleep diary entry?"
      ],
      "text/plain": [
       "<IPython.core.display.Markdown object>"
      ]
     },
     "metadata": {},
     "output_type": "display_data"
    }
   ],
   "source": [
    "x = X(goals[\"open_focus\"]);"
   ]
  },
  {
   "cell_type": "code",
   "execution_count": 4,
   "id": "b375c78b-1484-4b61-ad7c-6dc52aa7b8dc",
   "metadata": {},
   "outputs": [
    {
     "data": {
      "text/markdown": [
       "Great! The Open Focus exercise is a powerful technique to help you broaden your focus and relax your mind. It's a way to shift your attention from the content of your thoughts to the space between them. \n",
       "\n",
       "Before we start, I want to make sure you're in a comfortable position. You can be sitting or lying down, just make sure you're comfortable. Are you ready to start?"
      ],
      "text/plain": [
       "<IPython.core.display.Markdown object>"
      ]
     },
     "metadata": {},
     "output_type": "display_data"
    }
   ],
   "source": [
    "x(\"open focus exercise\");"
   ]
  },
  {
   "cell_type": "code",
   "execution_count": 5,
   "id": "3ae96269-16ab-46ad-9558-0bb2fb1a0f00",
   "metadata": {},
   "outputs": [
    {
     "data": {
      "text/markdown": [
       "Great! Let's start.\n",
       "\n",
       "Step 1: Close your eyes and take a few deep breaths. As you exhale, try to release any tension you might be feeling. \n",
       "\n",
       "Let me know when you're ready for the next step."
      ],
      "text/plain": [
       "<IPython.core.display.Markdown object>"
      ]
     },
     "metadata": {},
     "output_type": "display_data"
    }
   ],
   "source": [
    "x(\"ok\");"
   ]
  },
  {
   "cell_type": "code",
   "execution_count": 6,
   "id": "05ea96fe-157f-4047-ac8a-13b97c14c158",
   "metadata": {},
   "outputs": [
    {
     "data": {
      "text/markdown": [
       "Step 2: Now, I want you to imagine the space between your eyes. Don't try to change anything, just become aware of the space that exists there. \n",
       "\n",
       "Let me know when you're ready to move on."
      ],
      "text/plain": [
       "<IPython.core.display.Markdown object>"
      ]
     },
     "metadata": {},
     "output_type": "display_data"
    }
   ],
   "source": [
    "x(\"ok\");"
   ]
  },
  {
   "cell_type": "code",
   "execution_count": 7,
   "id": "81fea084-daad-4274-abb5-50d6ba03cafb",
   "metadata": {
    "scrolled": true
   },
   "outputs": [
    {
     "data": {
      "text/markdown": [
       "Step 3: Now, shift your attention to the space between your ears. Again, don't try to change anything, just become aware of the space that exists there.\n",
       "\n",
       "Let me know when you're ready for the next step."
      ],
      "text/plain": [
       "<IPython.core.display.Markdown object>"
      ]
     },
     "metadata": {},
     "output_type": "display_data"
    }
   ],
   "source": [
    "x(\"ok\");"
   ]
  },
  {
   "cell_type": "code",
   "execution_count": 8,
   "id": "66b856ae-25ff-4cf7-8802-d82048aad850",
   "metadata": {},
   "outputs": [
    {
     "data": {
      "text/markdown": [
       "Step 4: Now, I want you to imagine the space that exists between the front and back of your head. Just become aware of that space.\n",
       "\n",
       "Let me know when you're ready to move on."
      ],
      "text/plain": [
       "<IPython.core.display.Markdown object>"
      ]
     },
     "metadata": {},
     "output_type": "display_data"
    }
   ],
   "source": [
    "x(\"ok\");"
   ]
  },
  {
   "cell_type": "code",
   "execution_count": 9,
   "id": "7e6cb159-ff04-405c-8c6d-78c9f89a17a7",
   "metadata": {},
   "outputs": [
    {
     "data": {
      "text/markdown": [
       "Step 5: Finally, I want you to imagine the space that exists inside your head. Try to perceive the space as a whole, including the space between your eyes, ears, and the front and back of your head.\n",
       "\n",
       "Take a few moments to just sit with this awareness. Let me know when you're ready to finish the exercise."
      ],
      "text/plain": [
       "<IPython.core.display.Markdown object>"
      ]
     },
     "metadata": {},
     "output_type": "display_data"
    }
   ],
   "source": [
    "x(\"ok\");"
   ]
  },
  {
   "cell_type": "code",
   "execution_count": 10,
   "id": "54183f97-92d6-4ef9-88a5-78c1c7359f3c",
   "metadata": {},
   "outputs": [
    {
     "data": {
      "text/markdown": [
       "Great job, Chris! You've completed the Open Focus exercise. This exercise is designed to help you broaden your focus and relax your mind. \n",
       "\n",
       "How are you feeling now compared to before the exercise?"
      ],
      "text/plain": [
       "<IPython.core.display.Markdown object>"
      ]
     },
     "metadata": {},
     "output_type": "display_data"
    }
   ],
   "source": [
    "x(\"ok\");"
   ]
  },
  {
   "cell_type": "code",
   "execution_count": 11,
   "id": "68fed1ad-e203-41c3-928a-d85752084fa4",
   "metadata": {},
   "outputs": [
    {
     "name": "stdout",
     "output_type": "stream",
     "text": [
      "_to_args_and_kwargs self.name='save_exercise_entry' all_args=['Open Focus Exercise']\n",
      "save_exercise_entry entry=ExerciseEntry(date=datetime.datetime(2023, 10, 16, 12, 26, 56, 423185), name='Open Focus exercise', notes='The user completed the Open Focus exercise, which involved focusing on the space between various parts of the head. The user reported feeling relaxed after the exercise.')\n"
     ]
    },
    {
     "data": {
      "text/markdown": [
       "I'm glad to hear that you're feeling better, Chris! Here's the summary of the exercise:\n",
       "\n",
       "- Name of the exercise: Open Focus Exercise\n",
       "- How you were feeling before the exercise: Not specified\n",
       "- How you're feeling after the exercise: Better\n",
       "\n",
       "Would you like to save this record of the exercise to the database?"
      ],
      "text/plain": [
       "<IPython.core.display.Markdown object>"
      ]
     },
     "metadata": {},
     "output_type": "display_data"
    }
   ],
   "source": [
    "x(\"better!\");"
   ]
  },
  {
   "cell_type": "code",
   "execution_count": 12,
   "id": "2ffb845c-fab8-4e01-bdf3-5260a779629d",
   "metadata": {},
   "outputs": [
    {
     "name": "stdout",
     "output_type": "stream",
     "text": [
      "_to_args_and_kwargs self.name='save_exercise_entry' all_args=['Open Focus Exercise']\n",
      "save_exercise_entry entry=ExerciseEntry(date=datetime.datetime(2023, 10, 16, 12, 27, 16, 363596), name='Open Focus Exercise', notes='Before the exercise, feelings were not specified. After the exercise, Chris reported feeling better.')\n"
     ]
    },
    {
     "data": {
      "text/markdown": [
       "Your Open Focus exercise entry has been saved successfully. Remember, you can perform this exercise anytime you feel the need to relax your mind and broaden your focus. \n",
       "\n",
       "🚀🚀🚀"
      ],
      "text/plain": [
       "<IPython.core.display.Markdown object>"
      ]
     },
     "metadata": {},
     "output_type": "display_data"
    }
   ],
   "source": [
    "x(\"ok\");"
   ]
  },
  {
   "cell_type": "code",
   "execution_count": 13,
   "id": "590802da-f6e0-4519-9b44-1c23d18a8284",
   "metadata": {},
   "outputs": [
    {
     "name": "stdout",
     "output_type": "stream",
     "text": [
      "_to_args_and_kwargs self.name='get_last_exercise_entry' all_args=['string']\n",
      "get_last_exercise_entry entry={'_id': ObjectId('652d8e80a7f32464429afbca'), 'user': ObjectId('6526d86e6015be5b3434ac13'), 'date': datetime.datetime(2023, 10, 16, 12, 26, 56, 423000), 'name': 'Open Focus exercise', 'notes': 'The user completed the Open Focus exercise, which involved focusing on the space between various parts of the head. The user reported feeling relaxed after the exercise.'}\n"
     ]
    },
    {
     "data": {
      "text/markdown": [
       "Here's the summary of your most recent exercise:\n",
       "\n",
       "- Name of the exercise: Open Focus Exercise\n",
       "- Date and time: October 16, 2023, 12:26 PM\n",
       "- Notes: You completed the Open Focus exercise, which involved focusing on the space between various parts of the head. You reported feeling relaxed after the exercise.\n",
       "\n",
       "Would you like to do another exercise or is there something else you'd like to discuss?"
      ],
      "text/plain": [
       "<IPython.core.display.Markdown object>"
      ]
     },
     "metadata": {},
     "output_type": "display_data"
    }
   ],
   "source": [
    "x(\"summarise my exercise from just now\");"
   ]
  },
  {
   "cell_type": "markdown",
   "id": "8299ea39-7347-4a7c-bb7b-67ccb98715c1",
   "metadata": {},
   "source": [
    "# Leaves on a Stream"
   ]
  },
  {
   "cell_type": "code",
   "execution_count": 14,
   "id": "d83f44f3-17ea-4738-a005-0bd6657ef7bf",
   "metadata": {},
   "outputs": [
    {
     "data": {
      "text/markdown": [
       "Great! The \"Leaves on a Stream\" exercise is a mindfulness technique that can help you deal with intrusive thoughts. It involves visualizing each thought as a leaf floating down a stream.\n",
       "\n",
       "Before we start, I want to make sure you're in a comfortable position. You can be sitting or lying down, just make sure you're comfortable. Are you ready to start?"
      ],
      "text/plain": [
       "<IPython.core.display.Markdown object>"
      ]
     },
     "metadata": {},
     "output_type": "display_data"
    }
   ],
   "source": [
    "x(\"leaves on a stream\");"
   ]
  },
  {
   "cell_type": "code",
   "execution_count": 3,
   "id": "da55b7d1-3305-4361-8acb-e8f4d158fed7",
   "metadata": {},
   "outputs": [
    {
     "name": "stdout",
     "output_type": "stream",
     "text": [
      "get_agent len(tools)=20\n"
     ]
    },
    {
     "data": {
      "text/markdown": [
       "Hello Chris, it's nice to meet you. I hope you're doing well. May I ask how you're feeling today?"
      ],
      "text/plain": [
       "<IPython.core.display.Markdown object>"
      ]
     },
     "metadata": {},
     "output_type": "display_data"
    }
   ],
   "source": [
    "x = X(goals[\"leaves_on_a_stream\"]);"
   ]
  },
  {
   "cell_type": "code",
   "execution_count": 4,
   "id": "3284d36d-af14-479e-b4de-3f371c4632e6",
   "metadata": {},
   "outputs": [
    {
     "data": {
      "text/markdown": [
       "That's good to hear, Chris. I'd like to introduce you to a mindfulness exercise called \"Leaves on a Stream\". This exercise can help us to change our thoughts in a given direction. It's important to understand that changing thoughts means taking their content seriously. We have to notice them and evaluate them to try to change them, which may strengthen their hold over our mind and wake us up.\n",
       "\n",
       "The concept of defusion helps us use our minds in a more open, aware, and values-based way. It helps us turn off our compulsive problem-solving for a while. It opens the door to our power to change, allowing us to acknowledge our unhelpful thoughts while charting a course beyond them. The \"Leaves on a Stream\" exercise is a way to do this.\n",
       "\n",
       "Would now be a good time to perform the exercise?"
      ],
      "text/plain": [
       "<IPython.core.display.Markdown object>"
      ]
     },
     "metadata": {},
     "output_type": "display_data"
    }
   ],
   "source": [
    "x(\"not bad\");"
   ]
  },
  {
   "cell_type": "code",
   "execution_count": 15,
   "id": "5f9acfe1-26fc-4a91-8d76-2f1266f61e0e",
   "metadata": {},
   "outputs": [
    {
     "data": {
      "text/markdown": [
       "Great! Let's start.\n",
       "\n",
       "Step 1: Close your eyes and take a few deep breaths. As you exhale, try to release any tension you might be feeling. \n",
       "\n",
       "Let me know when you're ready for the next step."
      ],
      "text/plain": [
       "<IPython.core.display.Markdown object>"
      ]
     },
     "metadata": {},
     "output_type": "display_data"
    }
   ],
   "source": [
    "x(\"sure, let's do it!\");"
   ]
  },
  {
   "cell_type": "code",
   "execution_count": 16,
   "id": "7d287a20-1868-40b4-9055-4ba0a581d518",
   "metadata": {},
   "outputs": [
    {
     "data": {
      "text/markdown": [
       "Step 2: Now, I want you to imagine you're sitting beside a gently flowing stream with leaves floating along the surface of the water.\n",
       "\n",
       "Let me know when you're ready to move on."
      ],
      "text/plain": [
       "<IPython.core.display.Markdown object>"
      ]
     },
     "metadata": {},
     "output_type": "display_data"
    }
   ],
   "source": [
    "x(\"ok\");"
   ]
  },
  {
   "cell_type": "code",
   "execution_count": 17,
   "id": "a7eaa6be-2a2c-4fc5-981f-b93530f0b7bd",
   "metadata": {},
   "outputs": [
    {
     "data": {
      "text/markdown": [
       "Step 3: Now, for each thought that comes into your mind, I want you to imagine placing it on a leaf and letting it float by. \n",
       "\n",
       "Let me know when you're ready for the next step."
      ],
      "text/plain": [
       "<IPython.core.display.Markdown object>"
      ]
     },
     "metadata": {},
     "output_type": "display_data"
    }
   ],
   "source": [
    "x(\"ok\");"
   ]
  },
  {
   "cell_type": "code",
   "execution_count": 18,
   "id": "169a704c-a7d1-4231-9f99-f739b66fda3b",
   "metadata": {},
   "outputs": [
    {
     "data": {
      "text/markdown": [
       "Step 4: If your thoughts stop, continue to watch the stream. Sooner or later, your thoughts will start to flow again. \n",
       "\n",
       "Let me know when you're ready to finish the exercise."
      ],
      "text/plain": [
       "<IPython.core.display.Markdown object>"
      ]
     },
     "metadata": {},
     "output_type": "display_data"
    }
   ],
   "source": [
    "x(\"ok\");"
   ]
  },
  {
   "cell_type": "code",
   "execution_count": 19,
   "id": "d8b494fb-32db-47e0-a9b5-6423df0d2a0a",
   "metadata": {},
   "outputs": [
    {
     "data": {
      "text/markdown": [
       "Great job, Chris! You've completed the \"Leaves on a Stream\" exercise. This exercise is designed to help you deal with intrusive thoughts by visualizing them as leaves floating down a stream.\n",
       "\n",
       "How are you feeling now compared to before the exercise?"
      ],
      "text/plain": [
       "<IPython.core.display.Markdown object>"
      ]
     },
     "metadata": {},
     "output_type": "display_data"
    }
   ],
   "source": [
    "x(\"ok\");"
   ]
  },
  {
   "cell_type": "code",
   "execution_count": 20,
   "id": "68180629-c0ea-4458-a900-7b3ea040e8a0",
   "metadata": {},
   "outputs": [
    {
     "data": {
      "text/markdown": [
       "I'm glad to hear that you're feeling okay, Chris! Here's the summary of the exercise:\n",
       "\n",
       "- Name of the exercise: Leaves on a Stream\n",
       "- How you were feeling before the exercise: Not specified\n",
       "- How you're feeling after the exercise: Okay\n",
       "\n",
       "Would you like to save this record of the exercise to the database?"
      ],
      "text/plain": [
       "<IPython.core.display.Markdown object>"
      ]
     },
     "metadata": {},
     "output_type": "display_data"
    }
   ],
   "source": [
    "x(\"ok\");"
   ]
  },
  {
   "cell_type": "code",
   "execution_count": 21,
   "id": "9f631121-5349-44e3-821c-11379c7d595a",
   "metadata": {},
   "outputs": [
    {
     "data": {
      "text/markdown": [
       "That's great to hear, Chris! I'm glad the exercise helped. Here's the updated summary:\n",
       "\n",
       "- Name of the exercise: Leaves on a Stream\n",
       "- How you were feeling before the exercise: Not specified\n",
       "- How you're feeling after the exercise: Much better\n",
       "\n",
       "Would you like to save this updated record of the exercise to the database?"
      ],
      "text/plain": [
       "<IPython.core.display.Markdown object>"
      ]
     },
     "metadata": {},
     "output_type": "display_data"
    }
   ],
   "source": [
    "x(\"actually I'm feeling much better than when I started\");"
   ]
  },
  {
   "cell_type": "code",
   "execution_count": 22,
   "id": "8ed1652e-def6-40f9-8d9a-621ca1914588",
   "metadata": {},
   "outputs": [
    {
     "name": "stdout",
     "output_type": "stream",
     "text": [
      "_to_args_and_kwargs self.name='save_exercise_entry' all_args=['Leaves on a Stream, Not specified, Much better']\n",
      "save_exercise_entry entry=ExerciseEntry(date=datetime.datetime(2023, 10, 16, 12, 29, 8, 554135), name='Leaves on a Stream', notes='Feeling before the exercise: Not specified. Feeling after the exercise: Much better')\n"
     ]
    },
    {
     "data": {
      "text/markdown": [
       "Your \"Leaves on a Stream\" exercise entry has been saved successfully. Remember, you can perform this exercise anytime you feel the need to deal with intrusive thoughts. \n",
       "\n",
       "🚀🚀🚀"
      ],
      "text/plain": [
       "<IPython.core.display.Markdown object>"
      ]
     },
     "metadata": {},
     "output_type": "display_data"
    }
   ],
   "source": [
    "x(\"ok\");"
   ]
  },
  {
   "cell_type": "markdown",
   "id": "ac8d4c6a-01cd-4a32-b4f8-13efb288c409",
   "metadata": {},
   "source": [
    "# Valued Living Questionnaire (VLQ)"
   ]
  },
  {
   "cell_type": "code",
   "execution_count": 23,
   "id": "5da63f8e-a533-4a84-a846-8e52f0eca12c",
   "metadata": {},
   "outputs": [
    {
     "name": "stdout",
     "output_type": "stream",
     "text": [
      "get_agent len(tools)=28\n",
      "load_memory filename='/Users/cck197/Downloads/virtual_greg/memory.pkl'\n"
     ]
    },
    {
     "data": {
      "text/markdown": [
       "Hello Chris, I hope you're doing well. Is now a good time to record a sleep diary entry?"
      ],
      "text/plain": [
       "<IPython.core.display.Markdown object>"
      ]
     },
     "metadata": {},
     "output_type": "display_data"
    }
   ],
   "source": [
    "x = X(goals[\"valued_living\"])"
   ]
  },
  {
   "cell_type": "code",
   "execution_count": 24,
   "id": "126a5fad-c7e6-4917-81e9-a67f72485bef",
   "metadata": {},
   "outputs": [
    {
     "name": "stdout",
     "output_type": "stream",
     "text": [
      "_to_args_and_kwargs self.name='get_vlq_entry' all_args=['Chris']\n",
      "get_vlq_entry entry=None\n"
     ]
    },
    {
     "data": {
      "text/markdown": [
       "Great! Let's start the Valued Living Questionnaire (VLQ). \n",
       "\n",
       "For each domain, I'll ask you to rate:\n",
       "a) The importance of that domain to you.\n",
       "b) How consistently you have lived in accordance with your values in that domain over the past week.\n",
       "\n",
       "Let's start with the first domain.\n",
       "\n",
       "1. Family relations (other than marriage or parent)\n",
       "a) On a scale of 1 to 10, how important is this domain to you?\n",
       "b) On a scale of 1 to 10, how consistently have you lived in accordance with your values in this domain over the past week?"
      ],
      "text/plain": [
       "<IPython.core.display.Markdown object>"
      ]
     },
     "metadata": {},
     "output_type": "display_data"
    }
   ],
   "source": [
    "x(\"no, let's do the VLQ\");"
   ]
  },
  {
   "cell_type": "code",
   "execution_count": 25,
   "id": "ca0b3a7b-9376-4375-acb3-797ee2bcedc9",
   "metadata": {},
   "outputs": [
    {
     "data": {
      "text/markdown": [
       "Thank you for your responses. Here's the summary of your Valued Living Questionnaire (VLQ):\n",
       "\n",
       "1. Family relations (other than marriage or parent): Importance - 10, Consistency - 10\n",
       "2. Marriage/couples/intimate relations: Importance - 10, Consistency - 10\n",
       "3. Being a parent: Importance - 10, Consistency - 10\n",
       "4. Friendships/social relations: Importance - 10, Consistency - 10\n",
       "5. Work: Importance - 10, Consistency - 10\n",
       "6. Education/personal growth and development: Importance - 10, Consistency - 10\n",
       "7. Recreation/leisure: Importance - 10, Consistency - 10\n",
       "8. Spirituality/religion: Importance - 10, Consistency - 10\n",
       "9. Citizenship/community life: Importance - 10, Consistency - 10\n",
       "10. Physical self-care (e.g., exercise, diet, sleep): Importance - 10, Consistency - 10\n",
       "11. Environmental issues (e.g., pollution, conservation): Importance - 10, Consistency - 10\n",
       "12. Art, creative expression, aesthetics: Importance - 10, Consistency - 10\n",
       "\n",
       "Your overall score is 120, which is significantly higher than the average composite result of 61. This suggests that you highly value all these domains and are living in accordance with your values in these areas.\n",
       "\n",
       "Can you please confirm if all the details are correct?"
      ],
      "text/plain": [
       "<IPython.core.display.Markdown object>"
      ]
     },
     "metadata": {},
     "output_type": "display_data"
    }
   ],
   "source": [
    "x(\"the answers to all the questions in all the categories are: 10 and 10\");"
   ]
  },
  {
   "cell_type": "code",
   "execution_count": 26,
   "id": "119de9d8-9887-4e3f-b7ee-ecd9e44283bf",
   "metadata": {},
   "outputs": [
    {
     "name": "stdout",
     "output_type": "stream",
     "text": [
      "_to_args_and_kwargs self.name='save_vlq_entry' all_args=['string']\n",
      "save_vlq_entry entry=VLQEntry(date=datetime.datetime(2023, 10, 16, 12, 30, 44, 650166), family_relations=(10, 10), marriage=(10, 10), parenting=(10, 10), friendships=(10, 10), work=(10, 10), education=(10, 10), recreation=(10, 10), spirituality=(10, 10), citizenship=(10, 10), physical_self_care=(10, 10), environmental_issues=(10, 10), art=(10, 10))\n"
     ]
    },
    {
     "data": {
      "text/markdown": [
       "Your Valued Living Questionnaire (VLQ) has been saved successfully. Here's the summary:\n",
       "\n",
       "1. Family relations (other than marriage or parent): Importance - 10, Consistency - 10\n",
       "2. Marriage/couples/intimate relations: Importance - 10, Consistency - 10\n",
       "3. Being a parent: Importance - 10, Consistency - 10\n",
       "4. Friendships/social relations: Importance - 10, Consistency - 10\n",
       "5. Work: Importance - 10, Consistency - 10\n",
       "6. Education/personal growth and development: Importance - 10, Consistency - 10\n",
       "7. Recreation/leisure: Importance - 10, Consistency - 10\n",
       "8. Spirituality/religion: Importance - 10, Consistency - 10\n",
       "9. Citizenship/community life: Importance - 10, Consistency - 10\n",
       "10. Physical self-care (e.g., exercise, diet, sleep): Importance - 10, Consistency - 10\n",
       "11. Environmental issues (e.g., pollution, conservation): Importance - 10, Consistency - 10\n",
       "12. Art, creative expression, aesthetics: Importance - 10, Consistency - 10\n",
       "\n",
       "Your overall score is 120, which is significantly higher than the average composite result of 61. This suggests that you highly value all these domains and are living in accordance with your values in these areas.\n",
       "\n",
       "🚀🚀🚀"
      ],
      "text/plain": [
       "<IPython.core.display.Markdown object>"
      ]
     },
     "metadata": {},
     "output_type": "display_data"
    }
   ],
   "source": [
    "x(\"yep! that's right\");"
   ]
  },
  {
   "cell_type": "code",
   "execution_count": 30,
   "id": "066df205-eb73-454e-b07b-494242ccac68",
   "metadata": {},
   "outputs": [
    {
     "data": {
      "text/markdown": [
       "Here's the summary of your Valued Living Questionnaire (VLQ) for today:\n",
       "\n",
       "1. Family relations (other than marriage or parent): Importance - "
      ],
      "text/plain": [
       "<IPython.core.display.Markdown object>"
      ]
     },
     "metadata": {},
     "output_type": "display_data"
    }
   ],
   "source": [
    "x(\"summarise my VLQ entry from today\");"
   ]
  },
  {
   "cell_type": "code",
   "execution_count": null,
   "id": "a8907a2c-94de-49dd-9245-d797803240ee",
   "metadata": {},
   "outputs": [],
   "source": []
  }
 ],
 "metadata": {
  "kernelspec": {
   "display_name": "Python 3 (ipykernel)",
   "language": "python",
   "name": "python3"
  },
  "language_info": {
   "codemirror_mode": {
    "name": "ipython",
    "version": 3
   },
   "file_extension": ".py",
   "mimetype": "text/x-python",
   "name": "python",
   "nbconvert_exporter": "python",
   "pygments_lexer": "ipython3",
   "version": "3.11.5"
  }
 },
 "nbformat": 4,
 "nbformat_minor": 5
}
