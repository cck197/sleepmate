{
 "cells": [
  {
   "cell_type": "code",
   "execution_count": 1,
   "id": "233a5ee3-dc98-48a1-94ba-a70f73ddab20",
   "metadata": {},
   "outputs": [
    {
     "name": "stdout",
     "output_type": "stream",
     "text": [
      "Automatic pdb calling has been turned ON\n"
     ]
    }
   ],
   "source": [
    "%pdb"
   ]
  },
  {
   "cell_type": "code",
   "execution_count": 2,
   "id": "b00ed3dd-5dd0-4aeb-ae11-a37eea67612e",
   "metadata": {},
   "outputs": [],
   "source": [
    "from sleepmate.agent import *"
   ]
  },
  {
   "cell_type": "code",
   "execution_count": 3,
   "id": "9df3cb87-f2d4-4611-abed-9968de1c0205",
   "metadata": {},
   "outputs": [],
   "source": [
    "!rm -f /Users/cck197/Downloads/virtual_greg/memory.pkl"
   ]
  },
  {
   "cell_type": "markdown",
   "id": "ff7b44f5-85bd-411a-8e2a-cf18366f0653",
   "metadata": {
    "jp-MarkdownHeadingCollapsed": true
   },
   "source": [
    "# Open Focus"
   ]
  },
  {
   "cell_type": "code",
   "execution_count": 14,
   "id": "b375c78b-1484-4b61-ad7c-6dc52aa7b8dc",
   "metadata": {},
   "outputs": [
    {
     "data": {
      "text/markdown": [
       "Sure, Chris. The Open Focus exercise is a mindfulness technique that can help us to become more aware of our thoughts and feelings, and to develop a more open and accepting attitude towards them. \n",
       "\n",
       "Just like the \"Leaves on a Stream\" exercise, the Open Focus exercise can help us to change our thoughts in a given direction. It's important to understand that changing thoughts means taking their content seriously. We have to notice them and evaluate them to try to change them, which may strengthen their hold over our mind and wake us up.\n",
       "\n",
       "Would now be a good time to perform the Open Focus exercise?"
      ],
      "text/plain": [
       "<IPython.core.display.Markdown object>"
      ]
     },
     "metadata": {},
     "output_type": "display_data"
    }
   ],
   "source": [
    "x(\"open focus exercise\");"
   ]
  },
  {
   "cell_type": "code",
   "execution_count": 3,
   "id": "6b8660cd-f5e7-46d0-ae5d-187f063e0a16",
   "metadata": {},
   "outputs": [
    {
     "name": "stdout",
     "output_type": "stream",
     "text": [
      "get_agent len(tools)=20\n"
     ]
    },
    {
     "data": {
      "text/markdown": [
       "Hello, Chris! It's good to see you again. I hope you're doing well. How are you feeling today?"
      ],
      "text/plain": [
       "<IPython.core.display.Markdown object>"
      ]
     },
     "metadata": {},
     "output_type": "display_data"
    }
   ],
   "source": [
    "x = X(goals[\"open_focus\"]);"
   ]
  },
  {
   "cell_type": "code",
   "execution_count": 4,
   "id": "ee083bef-14f4-45f2-b796-baabce10581d",
   "metadata": {},
   "outputs": [
    {
     "data": {
      "text/markdown": [
       "I'm glad to hear that, Chris. In our previous conversations, you've shown a lot of interest in managing your thoughts and emotions. I'd like to suggest an exercise called \"Open Focus\". It doesn't aim to change the content of your thoughts, but rather shift the focus. Changing thoughts in a given direction often means taking their content seriously. We have to notice them, evaluate them, and try to change them, which can actually strengthen their hold over our minds and potentially increase our stress.\n",
       "\n",
       "The Open Focus exercise is quite different. It works by broadening your focus, helping you to become less entangled in your thoughts and more aware of the present moment. \n",
       "\n",
       "Would now be a good time to try this exercise?"
      ],
      "text/plain": [
       "<IPython.core.display.Markdown object>"
      ]
     },
     "metadata": {},
     "output_type": "display_data"
    }
   ],
   "source": [
    "x(\"not bad\");"
   ]
  },
  {
   "cell_type": "code",
   "execution_count": 15,
   "id": "3ae96269-16ab-46ad-9558-0bb2fb1a0f00",
   "metadata": {},
   "outputs": [
    {
     "data": {
      "text/markdown": [
       "Great! Let's start with the first step. \n",
       "\n",
       "1. Find a comfortable position, either sitting or lying down, and close your eyes. Take a few moments to get settled. \n",
       "\n",
       "Let me know when you're ready for the next step."
      ],
      "text/plain": [
       "<IPython.core.display.Markdown object>"
      ]
     },
     "metadata": {},
     "output_type": "display_data"
    }
   ],
   "source": [
    "x(\"ok\");"
   ]
  },
  {
   "cell_type": "code",
   "execution_count": 16,
   "id": "05ea96fe-157f-4047-ac8a-13b97c14c158",
   "metadata": {},
   "outputs": [
    {
     "data": {
      "text/markdown": [
       "Perfect. Now, let's move to the next step.\n",
       "\n",
       "2. Take a few deep breaths. As you exhale, imagine any tension in your body or mind being released and flowing out of you.\n",
       "\n",
       "Let me know when you're ready to proceed."
      ],
      "text/plain": [
       "<IPython.core.display.Markdown object>"
      ]
     },
     "metadata": {},
     "output_type": "display_data"
    }
   ],
   "source": [
    "x(\"ok\");"
   ]
  },
  {
   "cell_type": "code",
   "execution_count": 17,
   "id": "81fea084-daad-4274-abb5-50d6ba03cafb",
   "metadata": {
    "scrolled": true
   },
   "outputs": [
    {
     "data": {
      "text/markdown": [
       "Great job, Chris. Now, let's move on to the next step.\n",
       "\n",
       "3. Now, try to imagine the space between your eyes. Don't strain or focus too hard, just let your attention rest on the space between your eyes.\n",
       "\n",
       "Take your time and let me know when you're ready for the next step."
      ],
      "text/plain": [
       "<IPython.core.display.Markdown object>"
      ]
     },
     "metadata": {},
     "output_type": "display_data"
    }
   ],
   "source": [
    "x(\"ok\");"
   ]
  },
  {
   "cell_type": "code",
   "execution_count": 18,
   "id": "66b856ae-25ff-4cf7-8802-d82048aad850",
   "metadata": {},
   "outputs": [
    {
     "data": {
      "text/markdown": [
       "Well done, Chris. Now, let's proceed to the next step.\n",
       "\n",
       "4. Gradually, begin to expand your focus to include the space inside your head. Again, don't strain or focus too hard, just let your attention rest on the space inside your head.\n",
       "\n",
       "Let me know when you're ready to move on."
      ],
      "text/plain": [
       "<IPython.core.display.Markdown object>"
      ]
     },
     "metadata": {},
     "output_type": "display_data"
    }
   ],
   "source": [
    "x(\"ok\");"
   ]
  },
  {
   "cell_type": "code",
   "execution_count": 19,
   "id": "7e6cb159-ff04-405c-8c6d-78c9f89a17a7",
   "metadata": {},
   "outputs": [
    {
     "data": {
      "text/markdown": [
       "You're doing great, Chris. Now, let's move on to the next step.\n",
       "\n",
       "5. Continue to expand your focus to include the space inside your body, then the space around your body, and finally the space in the room you're in.\n",
       "\n",
       "Please let me know when you're ready for the next step."
      ],
      "text/plain": [
       "<IPython.core.display.Markdown object>"
      ]
     },
     "metadata": {},
     "output_type": "display_data"
    }
   ],
   "source": [
    "x(\"ok\");"
   ]
  },
  {
   "cell_type": "code",
   "execution_count": 20,
   "id": "54183f97-92d6-4ef9-88a5-78c1c7359f3c",
   "metadata": {},
   "outputs": [
    {
     "data": {
      "text/markdown": [
       "Excellent, Chris. Now, let's move on to the final step.\n",
       "\n",
       "6. Finally, try to imagine the space that extends in all directions, infinitely. Allow your attention to rest in this open space.\n",
       "\n",
       "Take your time with this step. When you're ready, gently bring your attention back to your surroundings and open your eyes.\n",
       "\n",
       "Let me know when you're done."
      ],
      "text/plain": [
       "<IPython.core.display.Markdown object>"
      ]
     },
     "metadata": {},
     "output_type": "display_data"
    }
   ],
   "source": [
    "x(\"ok\");"
   ]
  },
  {
   "cell_type": "code",
   "execution_count": 21,
   "id": "0644b7c8-070e-4f9c-8af2-e8d96dd370bb",
   "metadata": {},
   "outputs": [
    {
     "data": {
      "text/markdown": [
       "Well done, Chris. You've completed the Open Focus exercise. How are you feeling now?"
      ],
      "text/plain": [
       "<IPython.core.display.Markdown object>"
      ]
     },
     "metadata": {},
     "output_type": "display_data"
    }
   ],
   "source": [
    "x(\"ok\");"
   ]
  },
  {
   "cell_type": "code",
   "execution_count": 22,
   "id": "68fed1ad-e203-41c3-928a-d85752084fa4",
   "metadata": {},
   "outputs": [
    {
     "data": {
      "text/markdown": [
       "That's wonderful to hear, Chris. The Open Focus exercise can be a powerful tool to help us become more aware of our thoughts and not get swept away by them. \n",
       "\n",
       "To summarize, we performed the Open Focus exercise. Before starting, you were feeling \"really good\", and now you're feeling \"better\". \n",
       "\n",
       "This is a significant accomplishment. I appreciate your openness and willingness to try this exercise. \n",
       "\n",
       "Would you like to save the record of this exercise to the database?"
      ],
      "text/plain": [
       "<IPython.core.display.Markdown object>"
      ]
     },
     "metadata": {},
     "output_type": "display_data"
    }
   ],
   "source": [
    "x(\"better!\");"
   ]
  },
  {
   "cell_type": "code",
   "execution_count": 23,
   "id": "2ffb845c-fab8-4e01-bdf3-5260a779629d",
   "metadata": {},
   "outputs": [
    {
     "name": "stdout",
     "output_type": "stream",
     "text": [
      "save_exercise_entry entry=ExerciseEntry(date=datetime.datetime(2023, 10, 13, 11, 28, 20, 597732), name='Open Focus exercise', notes=\"Before starting, the user was feeling 'really good', and after the exercise, the user reported feeling 'better'.\")\n"
     ]
    },
    {
     "data": {
      "text/markdown": [
       "Great, I've saved the record of this exercise. Remember, you can always return to this exercise whenever you need to. It's a tool that's always available to you. 🚀🚀🚀"
      ],
      "text/plain": [
       "<IPython.core.display.Markdown object>"
      ]
     },
     "metadata": {},
     "output_type": "display_data"
    }
   ],
   "source": [
    "x(\"ok\");"
   ]
  },
  {
   "cell_type": "code",
   "execution_count": 12,
   "id": "590802da-f6e0-4519-9b44-1c23d18a8284",
   "metadata": {},
   "outputs": [
    {
     "name": "stdout",
     "output_type": "stream",
     "text": [
      "get_last_exercise_entry entry={'_id': ObjectId('6529887c88d24d32b9ab362e'), 'user': ObjectId('6526d86e6015be5b3434ac13'), 'date': datetime.datetime(2023, 10, 13, 11, 12, 12, 461000), 'name': 'Open Focus', 'notes': 'Before the exercise, Chris was feeling not bad. After the exercise, he reported feeling okay.'}\n"
     ]
    },
    {
     "data": {
      "text/markdown": [
       "Sure, here's a summary of your most recent exercise:\n",
       "\n",
       "- Date: October 13, 2023\n",
       "- Name of the exercise: Open Focus\n",
       "- Notes: Before the exercise, you were feeling not bad. After the exercise, you reported feeling okay.\n",
       "\n",
       "Would you like to do anything else?"
      ],
      "text/plain": [
       "<IPython.core.display.Markdown object>"
      ]
     },
     "metadata": {},
     "output_type": "display_data"
    }
   ],
   "source": [
    "x(\"summarise my exercise from just now\");"
   ]
  },
  {
   "cell_type": "markdown",
   "id": "8299ea39-7347-4a7c-bb7b-67ccb98715c1",
   "metadata": {
    "jp-MarkdownHeadingCollapsed": true
   },
   "source": [
    "# Leaves on a Stream"
   ]
  },
  {
   "cell_type": "code",
   "execution_count": 13,
   "id": "d83f44f3-17ea-4738-a005-0bd6657ef7bf",
   "metadata": {},
   "outputs": [
    {
     "data": {
      "text/markdown": [
       "The \"Leaves on a Stream\" exercise is a mindfulness technique that can help you manage your thoughts and feelings. It involves visualizing your thoughts as leaves floating down a stream, allowing you to observe them without getting caught up in them. \n",
       "\n",
       "Would you like to try this exercise now?"
      ],
      "text/plain": [
       "<IPython.core.display.Markdown object>"
      ]
     },
     "metadata": {},
     "output_type": "display_data"
    }
   ],
   "source": [
    "x(\"leaves on a stream\");"
   ]
  },
  {
   "cell_type": "code",
   "execution_count": 3,
   "id": "da55b7d1-3305-4361-8acb-e8f4d158fed7",
   "metadata": {},
   "outputs": [
    {
     "name": "stdout",
     "output_type": "stream",
     "text": [
      "get_agent len(tools)=20\n"
     ]
    },
    {
     "data": {
      "text/markdown": [
       "Hello Chris, it's nice to meet you. I hope you're doing well. May I ask how you're feeling today?"
      ],
      "text/plain": [
       "<IPython.core.display.Markdown object>"
      ]
     },
     "metadata": {},
     "output_type": "display_data"
    }
   ],
   "source": [
    "x = X(goals[\"leaves_on_a_stream\"]);"
   ]
  },
  {
   "cell_type": "code",
   "execution_count": 4,
   "id": "3284d36d-af14-479e-b4de-3f371c4632e6",
   "metadata": {},
   "outputs": [
    {
     "data": {
      "text/markdown": [
       "That's good to hear, Chris. I'd like to introduce you to a mindfulness exercise called \"Leaves on a Stream\". This exercise can help us to change our thoughts in a given direction. It's important to understand that changing thoughts means taking their content seriously. We have to notice them and evaluate them to try to change them, which may strengthen their hold over our mind and wake us up.\n",
       "\n",
       "The concept of defusion helps us use our minds in a more open, aware, and values-based way. It helps us turn off our compulsive problem-solving for a while. It opens the door to our power to change, allowing us to acknowledge our unhelpful thoughts while charting a course beyond them. The \"Leaves on a Stream\" exercise is a way to do this.\n",
       "\n",
       "Would now be a good time to perform the exercise?"
      ],
      "text/plain": [
       "<IPython.core.display.Markdown object>"
      ]
     },
     "metadata": {},
     "output_type": "display_data"
    }
   ],
   "source": [
    "x(\"not bad\");"
   ]
  },
  {
   "cell_type": "code",
   "execution_count": 5,
   "id": "5f9acfe1-26fc-4a91-8d76-2f1266f61e0e",
   "metadata": {},
   "outputs": [
    {
     "data": {
      "text/markdown": [
       "Great! Let's start with the first step. \n",
       "\n",
       "1. Find a comfortable position, either sitting or lying down, and close your eyes. Take a few moments to get settled. \n",
       "\n",
       "Let me know when you're ready for the next step."
      ],
      "text/plain": [
       "<IPython.core.display.Markdown object>"
      ]
     },
     "metadata": {},
     "output_type": "display_data"
    }
   ],
   "source": [
    "x(\"sure, let's do it!\");"
   ]
  },
  {
   "cell_type": "code",
   "execution_count": 6,
   "id": "7d287a20-1868-40b4-9055-4ba0a581d518",
   "metadata": {},
   "outputs": [
    {
     "data": {
      "text/markdown": [
       "Perfect. Now, let's move to the next step.\n",
       "\n",
       "2. Take a few deep breaths. As you exhale, imagine any tension in your body or mind being released and flowing out of you.\n",
       "\n",
       "Let me know when you're ready to proceed."
      ],
      "text/plain": [
       "<IPython.core.display.Markdown object>"
      ]
     },
     "metadata": {},
     "output_type": "display_data"
    }
   ],
   "source": [
    "x(\"ok\");"
   ]
  },
  {
   "cell_type": "code",
   "execution_count": 7,
   "id": "a7eaa6be-2a2c-4fc5-981f-b93530f0b7bd",
   "metadata": {},
   "outputs": [
    {
     "data": {
      "text/markdown": [
       "Great job, Chris. Now, let's move on to the next step.\n",
       "\n",
       "3. Picture yourself sitting beside a gently flowing stream with leaves floating along the surface of the water. \n",
       "\n",
       "Take your time and let me know when you're ready for the next step."
      ],
      "text/plain": [
       "<IPython.core.display.Markdown object>"
      ]
     },
     "metadata": {},
     "output_type": "display_data"
    }
   ],
   "source": [
    "x(\"ok\");"
   ]
  },
  {
   "cell_type": "code",
   "execution_count": 8,
   "id": "169a704c-a7d1-4231-9f99-f739b66fda3b",
   "metadata": {},
   "outputs": [
    {
     "data": {
      "text/markdown": [
       "Well done, Chris. Now, let's proceed to the next step.\n",
       "\n",
       "4. For the next few minutes, take each thought that enters your mind and place it on a leaf… let it float by. Do this with each thought – pleasurable, painful, or neutral. Even if you have joyous or enthusiastic thoughts, place them on a leaf and let them float by.\n",
       "\n",
       "Let me know when you're ready to move on."
      ],
      "text/plain": [
       "<IPython.core.display.Markdown object>"
      ]
     },
     "metadata": {},
     "output_type": "display_data"
    }
   ],
   "source": [
    "x(\"ok\");"
   ]
  },
  {
   "cell_type": "code",
   "execution_count": 9,
   "id": "d8b494fb-32db-47e0-a9b5-6423df0d2a0a",
   "metadata": {},
   "outputs": [
    {
     "data": {
      "text/markdown": [
       "You're doing great, Chris. Now, let's move on to the next step.\n",
       "\n",
       "5. If your thoughts momentarily stop, continue to watch the stream. Sooner or later, your thoughts will start up again. \n",
       "\n",
       "Please let me know when you're ready for the next step."
      ],
      "text/plain": [
       "<IPython.core.display.Markdown object>"
      ]
     },
     "metadata": {},
     "output_type": "display_data"
    }
   ],
   "source": [
    "x(\"ok\");"
   ]
  },
  {
   "cell_type": "code",
   "execution_count": 10,
   "id": "68180629-c0ea-4458-a900-7b3ea040e8a0",
   "metadata": {},
   "outputs": [
    {
     "data": {
      "text/markdown": [
       "Excellent, Chris. Now, let's move on to the final step.\n",
       "\n",
       "6. If you get lost in your thoughts and lose sight of the stream or the leaves, simply return your focus back to watching. \n",
       "\n",
       "Take your time with this step. When you're ready, gently bring your attention back to your surroundings and open your eyes.\n",
       "\n",
       "Let me know when you're done."
      ],
      "text/plain": [
       "<IPython.core.display.Markdown object>"
      ]
     },
     "metadata": {},
     "output_type": "display_data"
    }
   ],
   "source": [
    "x(\"ok\");"
   ]
  },
  {
   "cell_type": "code",
   "execution_count": 11,
   "id": "e52448bc-d1f0-41f6-bc3e-f27c167e7f14",
   "metadata": {},
   "outputs": [
    {
     "data": {
      "text/markdown": [
       "Well done, Chris. You've completed the \"Leaves on a Stream\" exercise. How are you feeling now?"
      ],
      "text/plain": [
       "<IPython.core.display.Markdown object>"
      ]
     },
     "metadata": {},
     "output_type": "display_data"
    }
   ],
   "source": [
    "x(\"ok\");"
   ]
  },
  {
   "cell_type": "code",
   "execution_count": 12,
   "id": "9f631121-5349-44e3-821c-11379c7d595a",
   "metadata": {},
   "outputs": [
    {
     "data": {
      "text/markdown": [
       "I'm so glad to hear that you're feeling good, Chris. This exercise can be a powerful tool to help us become more aware of our thoughts and not get swept away by them. \n",
       "\n",
       "To summarize, we performed the \"Leaves on a Stream\" exercise. Before starting, you were feeling \"not bad\", and now you're feeling \"really good\". \n",
       "\n",
       "This is a significant accomplishment. I appreciate your openness and willingness to try this exercise. \n",
       "\n",
       "Would you like to save the record of this exercise to the database?"
      ],
      "text/plain": [
       "<IPython.core.display.Markdown object>"
      ]
     },
     "metadata": {},
     "output_type": "display_data"
    }
   ],
   "source": [
    "x(\"really good!\");"
   ]
  },
  {
   "cell_type": "code",
   "execution_count": 13,
   "id": "8ed1652e-def6-40f9-8d9a-621ca1914588",
   "metadata": {},
   "outputs": [
    {
     "name": "stdout",
     "output_type": "stream",
     "text": [
      "save_exercise_entry entry=ExerciseEntry(date=datetime.datetime(2023, 10, 13, 11, 20, 56, 892503), name='Leaves on a Stream', notes=\"Before starting, Chris was feeling 'not bad', and after the exercise, he was feeling 'really good'.\")\n"
     ]
    },
    {
     "data": {
      "text/markdown": [
       "Great, I've saved the record of this exercise. Remember, you can always return to this exercise whenever you need to. It's a tool that's always available to you. 🚀🚀🚀"
      ],
      "text/plain": [
       "<IPython.core.display.Markdown object>"
      ]
     },
     "metadata": {},
     "output_type": "display_data"
    }
   ],
   "source": [
    "x(\"ok\");"
   ]
  },
  {
   "cell_type": "markdown",
   "id": "ac8d4c6a-01cd-4a32-b4f8-13efb288c409",
   "metadata": {},
   "source": [
    "# Valued Living Questionnaire (VLQ)"
   ]
  },
  {
   "cell_type": "code",
   "execution_count": 4,
   "id": "5da63f8e-a533-4a84-a846-8e52f0eca12c",
   "metadata": {},
   "outputs": [
    {
     "name": "stdout",
     "output_type": "stream",
     "text": [
      "get_agent len(tools)=26\n"
     ]
    },
    {
     "data": {
      "text/markdown": [
       "Hello Chris, I hope you're doing well. Is now a good time for us to do the Valued Living Questionnaire (VLQ)? It's a survey that will help us understand what's important to you and how consistently you are living according to your values in various areas of life."
      ],
      "text/plain": [
       "<IPython.core.display.Markdown object>"
      ]
     },
     "metadata": {},
     "output_type": "display_data"
    }
   ],
   "source": [
    "x = X(goals[\"valued_living\"])"
   ]
  },
  {
   "cell_type": "code",
   "execution_count": 5,
   "id": "126a5fad-c7e6-4917-81e9-a67f72485bef",
   "metadata": {},
   "outputs": [
    {
     "data": {
      "text/markdown": [
       "Great! Let's start. Remember, this is a personal exercise and your answers should be as honest as possible. This is between you and you.\n",
       "\n",
       "Let's start with the first domain: Family relations (other than marriage or parent).\n",
       "\n",
       "a) On a scale of 1-10, how important is this domain to you?\n",
       "b) On a scale of 1-10, how consistently have you lived in accordance with your values in this domain over the past week?"
      ],
      "text/plain": [
       "<IPython.core.display.Markdown object>"
      ]
     },
     "metadata": {},
     "output_type": "display_data"
    }
   ],
   "source": [
    "x(\"sure\");"
   ]
  },
  {
   "cell_type": "code",
   "execution_count": 6,
   "id": "ca0b3a7b-9376-4375-acb3-797ee2bcedc9",
   "metadata": {},
   "outputs": [
    {
     "data": {
      "text/markdown": [
       "Thank you for your responses. Here's a summary:\n",
       "\n",
       "1. Family relations (other than marriage or parent): Importance - 10, Consistency - 10\n",
       "2. Marriage/couples/intimate relations: Importance - 10, Consistency - 10\n",
       "3. Being a parent: Importance - 10, Consistency - 10\n",
       "4. Friendships/social relations: Importance - 10, Consistency - 10\n",
       "5. Work: Importance - 10, Consistency - 10\n",
       "6. Education/personal growth and development: Importance - 10, Consistency - 10\n",
       "7. Recreation/leisure: Importance - 10, Consistency - 10\n",
       "8. Spirituality/religion: Importance - 10, Consistency - 10\n",
       "9. Citizenship/community life: Importance - 10, Consistency - 10\n",
       "10. Physical self-care (e.g., exercise, diet, sleep): Importance - 10, Consistency - 10\n",
       "11. Environmental issues (e.g., pollution, conservation): Importance - 10, Consistency - 10\n",
       "12. Art, creative expression, aesthetics: Importance - 10, Consistency - 10\n",
       "\n",
       "Can you confirm if these are correct?"
      ],
      "text/plain": [
       "<IPython.core.display.Markdown object>"
      ]
     },
     "metadata": {},
     "output_type": "display_data"
    }
   ],
   "source": [
    "x(\"the answers to all the questions in all the categories are: 10 and 10\");"
   ]
  },
  {
   "cell_type": "code",
   "execution_count": 7,
   "id": "119de9d8-9887-4e3f-b7ee-ecd9e44283bf",
   "metadata": {},
   "outputs": [
    {
     "name": "stdout",
     "output_type": "stream",
     "text": [
      "save_vlq_entry entry=VLQEntry(date=datetime.datetime(2023, 10, 16, 5, 7, 39, 686022), family_relations=(10, 10), marriage=(10, 10), parenting=(10, 10), friendships=(10, 10), work=(10, 10), education=(10, 10), recreation=(10, 10), spirituality=(10, 10), citizenship=(10, 10), physical_self_care=(10, 10), environmental_issues=(10, 10), art=(10, 10))\n"
     ]
    },
    {
     "data": {
      "text/markdown": [
       "Your Valued Living Questionnaire (VLQ) entry has been saved successfully. Thank you for taking the time to complete this. Remember, this is a tool for self-discovery and growth. Keep up the great work! 🚀🚀🚀"
      ],
      "text/plain": [
       "<IPython.core.display.Markdown object>"
      ]
     },
     "metadata": {},
     "output_type": "display_data"
    }
   ],
   "source": [
    "x(\"yep! that's right\");"
   ]
  },
  {
   "cell_type": "code",
   "execution_count": 8,
   "id": "066df205-eb73-454e-b07b-494242ccac68",
   "metadata": {},
   "outputs": [
    {
     "name": "stdout",
     "output_type": "stream",
     "text": [
      "get_vlq_entry entry=<VLQEntry: VLQEntry object>\n"
     ]
    },
    {
     "data": {
      "text/markdown": [
       "Here's a summary of your last Valued Living Questionnaire (VLQ) entry dated 16th October 2023:\n",
       "\n",
       "- Family relations: Importance 10, Consistency 10\n",
       "- Marriage/couples/intimate relations: Importance 10, Consistency 10\n",
       "- Being a parent: Importance 10, Consistency 10\n",
       "- Friendships/social relations: Importance 10, Consistency 10\n",
       "- Work: Importance 10, Consistency 10\n",
       "- Education/personal growth and development: Importance 10, Consistency 10\n",
       "- Recreation/leisure: Importance 10, Consistency 10\n",
       "- Spirituality/religion: Importance 10, Consistency 10\n",
       "- Citizenship/community life: Importance 10, Consistency 10\n",
       "- Physical self-care (e.g., exercise, diet, sleep): Importance 10, Consistency 10\n",
       "- Environmental issues (e.g., pollution, conservation): Importance 10, Consistency 10\n",
       "- Art, creative expression, aesthetics: Importance 10, Consistency 10\n",
       "\n",
       "Your overall score was 100, indicating that you were living very consistently with your values across all domains. 🚀🚀🚀"
      ],
      "text/plain": [
       "<IPython.core.display.Markdown object>"
      ]
     },
     "metadata": {},
     "output_type": "display_data"
    }
   ],
   "source": [
    "x(\"summarise my last VLQ entry\");"
   ]
  },
  {
   "cell_type": "code",
   "execution_count": null,
   "id": "a8907a2c-94de-49dd-9245-d797803240ee",
   "metadata": {},
   "outputs": [],
   "source": []
  }
 ],
 "metadata": {
  "kernelspec": {
   "display_name": "Python 3 (ipykernel)",
   "language": "python",
   "name": "python3"
  },
  "language_info": {
   "codemirror_mode": {
    "name": "ipython",
    "version": 3
   },
   "file_extension": ".py",
   "mimetype": "text/x-python",
   "name": "python",
   "nbconvert_exporter": "python",
   "pygments_lexer": "ipython3",
   "version": "3.11.5"
  }
 },
 "nbformat": 4,
 "nbformat_minor": 5
}
