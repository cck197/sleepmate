{
 "cells": [
  {
   "cell_type": "code",
   "execution_count": 1,
   "id": "a10ecc00-b791-48fb-8c05-793d544c87c7",
   "metadata": {},
   "outputs": [],
   "source": [
    "from sleepmate.audio import play"
   ]
  },
  {
   "cell_type": "code",
   "execution_count": 2,
   "id": "52b17186-20f8-4323-b345-e5530820a0b5",
   "metadata": {},
   "outputs": [],
   "source": [
    "utterance = \"Hello! How are you feeling today? May I know your name?\""
   ]
  },
  {
   "cell_type": "code",
   "execution_count": 17,
   "id": "1c904f00-8d75-4aab-afbd-5765dddcbe0c",
   "metadata": {},
   "outputs": [],
   "source": [
    "utterance = \"\"\"Values-based means living in a way that is consistent with what is most important to you, your core values. These values can be anything that you personally find meaningful and satisfying, such as kindness, creativity, family, personal growth, health, etc. \n",
    "\n",
    "In the context of Acceptance and Commitment Therapy, a values-based approach encourages you to act in ways that align with these values, even in the face of difficult thoughts or feelings. It's about committing to actions that enrich your life, based on what matters most to you. \n",
    "\n",
    "Does that make sense, Chris? Would you like to proceed with the \"leaves on a stream\" exercise?\"\"\""
   ]
  },
  {
   "cell_type": "code",
   "execution_count": 3,
   "id": "81a517c2-d6f0-4c9b-8ef4-2032c7a3667b",
   "metadata": {},
   "outputs": [],
   "source": [
    "play(utterance)"
   ]
  },
  {
   "cell_type": "code",
   "execution_count": null,
   "id": "a7b8d5f4-1c8a-4d80-90ad-cca05f252ec4",
   "metadata": {},
   "outputs": [],
   "source": []
  }
 ],
 "metadata": {
  "kernelspec": {
   "display_name": "Python 3 (ipykernel)",
   "language": "python",
   "name": "python3"
  },
  "language_info": {
   "codemirror_mode": {
    "name": "ipython",
    "version": 3
   },
   "file_extension": ".py",
   "mimetype": "text/x-python",
   "name": "python",
   "nbconvert_exporter": "python",
   "pygments_lexer": "ipython3",
   "version": "3.11.5"
  }
 },
 "nbformat": 4,
 "nbformat_minor": 5
}
