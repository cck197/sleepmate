{
 "cells": [
  {
   "cell_type": "code",
   "execution_count": 1,
   "id": "0abfb67a-a144-4268-9421-249f1452e22a",
   "metadata": {},
   "outputs": [
    {
     "name": "stdout",
     "output_type": "stream",
     "text": [
      "Automatic pdb calling has been turned ON\n"
     ]
    }
   ],
   "source": [
    "%pdb"
   ]
  },
  {
   "cell_type": "code",
   "execution_count": 1,
   "id": "973cc251-4550-41c1-9409-2e7e1dcb6c15",
   "metadata": {},
   "outputs": [],
   "source": [
    "from sleepmate.agent import *"
   ]
  },
  {
   "cell_type": "code",
   "execution_count": 3,
   "id": "7bc7eabc-1415-445d-bd08-c2c0841e1160",
   "metadata": {},
   "outputs": [],
   "source": [
    "!rm -f /Users/cck197/Downloads/virtual_greg/memory.pkl"
   ]
  },
  {
   "cell_type": "code",
   "execution_count": 2,
   "id": "93f4d2ce-5d0a-4d4b-ac34-08b4ea74ee3c",
   "metadata": {},
   "outputs": [],
   "source": [
    "from sleepmate.helpful_scripts import *"
   ]
  },
  {
   "cell_type": "code",
   "execution_count": 7,
   "id": "525273e3-999e-42a7-ac45-ead2db7fc754",
   "metadata": {},
   "outputs": [],
   "source": [
    "from sleepmate.diary import *\n",
    "from sleepmate.goal import *"
   ]
  },
  {
   "cell_type": "code",
   "execution_count": null,
   "id": "df116127-a72d-4838-a58e-fd8a64645b35",
   "metadata": {},
   "outputs": [],
   "source": []
  },
  {
   "cell_type": "code",
   "execution_count": 9,
   "id": "ce68854e-646b-40cd-af78-a62bd2fd8c17",
   "metadata": {},
   "outputs": [
    {
     "data": {
      "text/plain": [
       "True"
      ]
     },
     "execution_count": 9,
     "metadata": {},
     "output_type": "execute_result"
    }
   ],
   "source": [
    "diary_probe()"
   ]
  },
  {
   "cell_type": "code",
   "execution_count": 6,
   "id": "1560100b-6207-4a1a-bbc9-fc136e5b8e5a",
   "metadata": {},
   "outputs": [],
   "source": [
    "(start, end) = (parse_date(\"2023-10-01\"), datetime.now())"
   ]
  },
  {
   "cell_type": "code",
   "execution_count": 7,
   "id": "ea500c83-18c1-4818-8391-0d191a26d05b",
   "metadata": {},
   "outputs": [
    {
     "data": {
      "text/plain": [
       "(datetime.datetime(2023, 10, 1, 0, 0),\n",
       " datetime.datetime(2023, 10, 19, 18, 5, 12, 539620))"
      ]
     },
     "execution_count": 7,
     "metadata": {},
     "output_type": "execute_result"
    }
   ],
   "source": [
    "start, end"
   ]
  },
  {
   "cell_type": "code",
   "execution_count": 14,
   "id": "a62c70e4-d0a5-4372-ae73-18484bc871ee",
   "metadata": {},
   "outputs": [
    {
     "data": {
      "text/plain": [
       "<GoalRefusal: GoalRefusal object>"
      ]
     },
     "execution_count": 14,
     "metadata": {},
     "output_type": "execute_result"
    }
   ],
   "source": [
    "goal_refused(\"diary_probe\", start, end)"
   ]
  },
  {
   "cell_type": "code",
   "execution_count": 10,
   "id": "adbbef32-dbfa-4822-af5c-f9e956f94fc6",
   "metadata": {},
   "outputs": [
    {
     "data": {
      "text/plain": [
       "True"
      ]
     },
     "execution_count": 10,
     "metadata": {},
     "output_type": "execute_result"
    }
   ],
   "source": [
    "diary_entry()"
   ]
  },
  {
   "cell_type": "code",
   "execution_count": 9,
   "id": "1fcdf6ac-dea6-4752-9ffe-ae4324ed03ca",
   "metadata": {},
   "outputs": [
    {
     "data": {
      "text/plain": [
       "False"
      ]
     },
     "execution_count": 9,
     "metadata": {},
     "output_type": "execute_result"
    }
   ],
   "source": [
    "def_no_sleep_diary()"
   ]
  },
  {
   "cell_type": "code",
   "execution_count": 8,
   "id": "98883357-493b-4ebb-ae24-aea4e17df761",
   "metadata": {},
   "outputs": [
    {
     "data": {
      "text/plain": [
       "2"
      ]
     },
     "execution_count": 8,
     "metadata": {},
     "output_type": "execute_result"
    }
   ],
   "source": [
    "DBGoalRefusal.objects.delete()"
   ]
  },
  {
   "cell_type": "code",
   "execution_count": 13,
   "id": "bd9e376e-a0f6-445b-9af8-16aa8383c199",
   "metadata": {},
   "outputs": [
    {
     "data": {
      "text/plain": [
       "['diary_probe', 'daily_routine']"
      ]
     },
     "execution_count": 13,
     "metadata": {},
     "output_type": "execute_result"
    }
   ],
   "source": [
    "[o.goal for o in DBGoalRefusal.objects()]"
   ]
  },
  {
   "cell_type": "code",
   "execution_count": null,
   "id": "675d2a05-3e41-4b98-9d92-2a8deeccfbad",
   "metadata": {},
   "outputs": [],
   "source": [
    "DBSleepDiaryEntry.objects(user=get_current_user()).count()"
   ]
  },
  {
   "cell_type": "code",
   "execution_count": 11,
   "id": "6e5f1ede-0264-4f9c-8840-c44ba668dec4",
   "metadata": {},
   "outputs": [],
   "source": [
    "from sleepmate.goal import DBGoalRefusal"
   ]
  },
  {
   "cell_type": "code",
   "execution_count": 3,
   "id": "ea3661a3-913a-478a-bd96-da5895f0e094",
   "metadata": {},
   "outputs": [],
   "source": [
    "imported = import_attrs([\"GOALS\", \"GOAL_HANDLERS\"])"
   ]
  },
  {
   "cell_type": "code",
   "execution_count": 3,
   "id": "186809ec-99cf-481d-9a5d-d5bd92781a81",
   "metadata": {},
   "outputs": [],
   "source": [
    "imported = import_attrs([\"TOOLS\"])"
   ]
  },
  {
   "cell_type": "code",
   "execution_count": 33,
   "id": "f31ba2d1-f33e-4aa0-8047-e2cd0c4a74da",
   "metadata": {},
   "outputs": [
    {
     "name": "stdout",
     "output_type": "stream",
     "text": [
      "X.load_memory filename='/Users/cck197/Downloads/virtual_greg/memory.pkl'\n"
     ]
    }
   ],
   "source": [
    "memory = X.load_memory()"
   ]
  },
  {
   "cell_type": "code",
   "execution_count": 34,
   "id": "b52bc390-90e2-443d-855b-cf629632bf55",
   "metadata": {},
   "outputs": [
    {
     "data": {
      "text/plain": [
       "[AIMessage(content=\"what's your name?\"),\n",
       " HumanMessage(content='Chris'),\n",
       " AIMessage(content=\"what's your email?\"),\n",
       " HumanMessage(content='chris@nourishbalancethrive.com'),\n",
       " HumanMessage(content='hey'),\n",
       " AIMessage(content=\"Hello, Chris! I hope you're doing well. Is now a good time to record a sleep diary entry?\"),\n",
       " HumanMessage(content='sure'),\n",
       " AIMessage(content=\"Fantastic! Let's start with the date of the entry. By default, we'll use yesterday's date. Is that okay, or would you like to specify a different date?\"),\n",
       " HumanMessage(content='yesterday is fine'),\n",
       " AIMessage(content=\"Great, we'll use yesterday's date. Now, could you please tell me what time you went to bed?\"),\n",
       " HumanMessage(content='21:15'),\n",
       " AIMessage(content='Thank you, Chris. And at what time did you try to fall asleep?'),\n",
       " HumanMessage(content='21:15'),\n",
       " AIMessage(content=\"Alright, you tried to fall asleep at the same time you went to bed. That's quite efficient! Now, how long did it take you to fall asleep, in minutes?\"),\n",
       " HumanMessage(content='5'),\n",
       " AIMessage(content=\"That's quite quick! Now, how many times did you wake up during the night?\"),\n",
       " HumanMessage(content='1'),\n",
       " AIMessage(content='I see, you woke up once during the night. Could you tell me how long you were awake for during that time, in minutes?'),\n",
       " HumanMessage(content='30'),\n",
       " AIMessage(content='Thank you for that information. Now, could you tell me what time you finally woke up?'),\n",
       " HumanMessage(content='6:30'),\n",
       " AIMessage(content='Thank you, Chris. And at what time did you get out of bed?'),\n",
       " HumanMessage(content='6:45'),\n",
       " AIMessage(content='Thank you for sharing that. Now, how would you rate your sleep quality? The options are \"very good\", \"good\", \"okay\", \"bad\", \"very bad\".'),\n",
       " HumanMessage(content='good'),\n",
       " AIMessage(content=\"I'm glad to hear that you had a good sleep. Did you use any medications or aids to help you sleep?\"),\n",
       " HumanMessage(content='no'),\n",
       " AIMessage(content=\"Alright, no sleep aids or medications. Lastly, are there any other notes or observations you'd like to add about your sleep?\"),\n",
       " HumanMessage(content='slept in the van'),\n",
       " AIMessage(content=\"Great, I've recorded your sleep diary entry. Here's a summary:\\n\\n- Date: Yesterday\\n- Time you went to bed: 21:15\\n- Time you tried to fall asleep: 21:15\\n- Time it took you to fall asleep: 5 minutes\\n- Number of times you woke up during the night: 1\\n- Total time you were awake during the night: 30 minutes\\n- Final wake up time: 6:30\\n- Time you got out of bed: 6:45\\n- Sleep quality: Good\\n- Sleep aids: None\\n- Notes: Slept in the van\\n\\nDoes everything look correct?\"),\n",
       " HumanMessage(content='yep!'),\n",
       " AIMessage(content=\"Thank you, Chris. Your sleep diary entry for yesterday has been saved. Here's a summary:\\n\\n- Date: 19th October 2023\\n- Time you went to bed: 21:15\\n- Time you tried to fall asleep: 21:15\\n- Time it took you to fall asleep: 5 minutes\\n- Number of times you woke up during the night: 1\\n- Total time you were awake during the night: 30 minutes\\n- Final wake up time: 6:30\\n- Time you got out of bed: 6:45\\n- Sleep quality: Good\\n- Sleep aids: None\\n- Notes: Slept in the van\\n- Sleep duration: 8 hours and 40 minutes\\n- Sleep efficiency: 91.23% (anything over 85% is considered normal)\\n\\nI must say, despite sleeping in the van, you've managed quite a good night's sleep!\"),\n",
       " HumanMessage(content='hey'),\n",
       " AIMessage(content=\"Hello again, Chris! I hope you're feeling refreshed. Would you be open to hearing about a daily routine that could potentially help improve your sleep even further?\")]"
      ]
     },
     "execution_count": 34,
     "metadata": {},
     "output_type": "execute_result"
    }
   ],
   "source": [
    "memory.chat_memory.messages#[:-6]"
   ]
  },
  {
   "cell_type": "code",
   "execution_count": 35,
   "id": "ee68e492-3b94-477e-87c2-71f3d3c7c8a9",
   "metadata": {},
   "outputs": [],
   "source": [
    "memory.chat_memory.messages = memory.chat_memory.messages[:-2]"
   ]
  },
  {
   "cell_type": "code",
   "execution_count": 36,
   "id": "46ccc264-0709-4999-8b64-2e487241c463",
   "metadata": {},
   "outputs": [],
   "source": [
    "X.save_memory(memory)"
   ]
  },
  {
   "cell_type": "code",
   "execution_count": null,
   "id": "663b2761-c7e2-4b78-8f2e-e3220f70b640",
   "metadata": {},
   "outputs": [],
   "source": []
  }
 ],
 "metadata": {
  "kernelspec": {
   "display_name": "Python 3 (ipykernel)",
   "language": "python",
   "name": "python3"
  },
  "language_info": {
   "codemirror_mode": {
    "name": "ipython",
    "version": 3
   },
   "file_extension": ".py",
   "mimetype": "text/x-python",
   "name": "python",
   "nbconvert_exporter": "python",
   "pygments_lexer": "ipython3",
   "version": "3.11.5"
  }
 },
 "nbformat": 4,
 "nbformat_minor": 5
}
