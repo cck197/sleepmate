{
 "cells": [
  {
   "cell_type": "code",
   "execution_count": 1,
   "id": "0abfb67a-a144-4268-9421-249f1452e22a",
   "metadata": {},
   "outputs": [
    {
     "name": "stdout",
     "output_type": "stream",
     "text": [
      "Automatic pdb calling has been turned ON\n"
     ]
    }
   ],
   "source": [
    "%pdb"
   ]
  },
  {
   "cell_type": "code",
   "execution_count": 2,
   "id": "973cc251-4550-41c1-9409-2e7e1dcb6c15",
   "metadata": {},
   "outputs": [],
   "source": [
    "from sleepmate.agent import *"
   ]
  },
  {
   "cell_type": "code",
   "execution_count": null,
   "id": "7bc7eabc-1415-445d-bd08-c2c0841e1160",
   "metadata": {},
   "outputs": [],
   "source": [
    "!rm -f /Users/cck197/Downloads/virtual_greg/memory.pkl"
   ]
  },
  {
   "cell_type": "code",
   "execution_count": 2,
   "id": "93f4d2ce-5d0a-4d4b-ac34-08b4ea74ee3c",
   "metadata": {},
   "outputs": [],
   "source": [
    "from sleepmate.helpful_scripts import *"
   ]
  },
  {
   "cell_type": "code",
   "execution_count": 3,
   "id": "ea3661a3-913a-478a-bd96-da5895f0e094",
   "metadata": {},
   "outputs": [],
   "source": [
    "imported = import_attrs([\"GOALS\", \"GOAL_HANDLERS\"])"
   ]
  },
  {
   "cell_type": "code",
   "execution_count": 3,
   "id": "186809ec-99cf-481d-9a5d-d5bd92781a81",
   "metadata": {},
   "outputs": [],
   "source": [
    "imported = import_attrs([\"TOOLS\"])"
   ]
  },
  {
   "cell_type": "code",
   "execution_count": 4,
   "id": "e8ec7d83-e875-48be-91dc-61a9452e0204",
   "metadata": {},
   "outputs": [
    {
     "data": {
      "text/plain": [
       "[<function sleepmate.isi.get_last_isi_entry(memory: langchain.memory.readonly.ReadOnlySharedMemory, goal: str, utterance: str)>,\n",
       " <function sleepmate.isi.get_date_isi_diary_entry(memory: langchain.memory.readonly.ReadOnlySharedMemory, goal: str, utterance: str)>,\n",
       " <function sleepmate.isi.get_isi_dates(memory: langchain.memory.readonly.ReadOnlySharedMemory, goal: str, utterance: str)>,\n",
       " <function sleepmate.isi.save_isi_entry(memory: langchain.memory.readonly.ReadOnlySharedMemory, goal: str, utterance: str)>,\n",
       " <function sleepmate.diary.get_sleep_diary_description(memory: langchain.memory.readonly.ReadOnlySharedMemory, goal: str, utterance: str) -> str>,\n",
       " <function sleepmate.diary.get_last_sleep_diary_entry(memory: langchain.memory.readonly.ReadOnlySharedMemory, goal: str, utterance: str)>,\n",
       " <function sleepmate.diary.get_date_sleep_diary_entry(memory: langchain.memory.readonly.ReadOnlySharedMemory, goal: str, utterance: str)>,\n",
       " <function sleepmate.diary.get_sleep_diary_dates(memory: langchain.memory.readonly.ReadOnlySharedMemory, goal: str, utterance: str)>,\n",
       " <function sleepmate.diary.save_sleep_diary_entry(memory: langchain.memory.readonly.ReadOnlySharedMemory, goal: str, text: str)>,\n",
       " <function sleepmate.stress.get_stress_audit(memory: langchain.memory.readonly.ReadOnlySharedMemory, goal: str, utterance: str)>,\n",
       " <function sleepmate.stress.save_stress_audit(memory: langchain.memory.readonly.ReadOnlySharedMemory, goal: str, text: str)>,\n",
       " <function sleepmate.act.get_date_exercise_entry(memory: langchain.memory.readonly.ReadOnlySharedMemory, goal: str, utterance: str)>,\n",
       " <function sleepmate.act.get_last_exercise_entry(memory: langchain.memory.readonly.ReadOnlySharedMemory, goal: str, utterance: str)>,\n",
       " <function sleepmate.act.save_exercise_entry(memory: langchain.memory.readonly.ReadOnlySharedMemory, goal: str, utterance: str)>,\n",
       " <function sleepmate.act.get_exercise_dates(memory: langchain.memory.readonly.ReadOnlySharedMemory, goal: str, utterance: str)>,\n",
       " <function sleepmate.act.get_vlq_entry(memory: langchain.memory.readonly.ReadOnlySharedMemory, goal: str, utterance: str)>,\n",
       " <function sleepmate.act.save_vlq_entry(memory: langchain.memory.readonly.ReadOnlySharedMemory, goal: str, text: str)>,\n",
       " <function sleepmate.mi.get_listening_statement(memory: langchain.memory.readonly.ReadOnlySharedMemory, goal: str, utterance: str) -> str>,\n",
       " <function sleepmate.mi.get_open_question(memory: langchain.memory.readonly.ReadOnlySharedMemory, goal: str, utterance: str) -> str>,\n",
       " <function sleepmate.mi.get_affirmation(memory: langchain.memory.readonly.ReadOnlySharedMemory, goal: str, utterance: str) -> str>,\n",
       " <function sleepmate.mi.get_greeting(memory: langchain.memory.readonly.ReadOnlySharedMemory, goal: str, utterance: str) -> str>,\n",
       " <function sleepmate.seeds.get_seed_pod(memory: langchain.memory.readonly.ReadOnlySharedMemory, goal: str, utterance: str)>,\n",
       " <function sleepmate.seeds.save_seed_pod(memory: langchain.memory.readonly.ReadOnlySharedMemory, goal: str, text: str)>,\n",
       " <function sleepmate.seeds.get_seeds_diary_entry(memory: langchain.memory.readonly.ReadOnlySharedMemory, goal: str, utterance: str)>,\n",
       " <function sleepmate.seeds.save_seeds_diary_entry(memory: langchain.memory.readonly.ReadOnlySharedMemory, goal: str, text: str)>,\n",
       " <function sleepmate.knowledge.get_knowledge_answer(memory: langchain.memory.readonly.ReadOnlySharedMemory, goal: str, utterance: str) -> str>,\n",
       " <function sleepmate.history.get_last_health_history(memory: langchain.memory.readonly.ReadOnlySharedMemory, goal: str, utterance: str)>,\n",
       " <function sleepmate.history.save_health_history(memory: langchain.memory.readonly.ReadOnlySharedMemory, goal: str, utterance: str)>]"
      ]
     },
     "execution_count": 4,
     "metadata": {},
     "output_type": "execute_result"
    }
   ],
   "source": [
    "imported[\"TOOLS\"]"
   ]
  },
  {
   "cell_type": "code",
   "execution_count": 5,
   "id": "f58de965-23cc-43e1-a7ba-68876e67d0dd",
   "metadata": {},
   "outputs": [
    {
     "ename": "ValueError",
     "evalue": "dictionary update sequence element #0 has length 1; 2 is required",
     "output_type": "error",
     "traceback": [
      "\u001b[0;31m---------------------------------------------------------------------------\u001b[0m",
      "\u001b[0;31mValueError\u001b[0m                                Traceback (most recent call last)",
      "Cell \u001b[0;32mIn[5], line 1\u001b[0m\n\u001b[0;32m----> 1\u001b[0m \u001b[43mflatten_list_of_dicts\u001b[49m\u001b[43m(\u001b[49m\u001b[43mimported\u001b[49m\u001b[43m)\u001b[49m\n",
      "File \u001b[0;32m~/Documents/sleepmate/sleepmate/helpful_scripts.py:62\u001b[0m, in \u001b[0;36mflatten_list_of_dicts\u001b[0;34m(dicts_list)\u001b[0m\n\u001b[1;32m     60\u001b[0m result \u001b[38;5;241m=\u001b[39m {}\n\u001b[1;32m     61\u001b[0m \u001b[38;5;28;01mfor\u001b[39;00m d \u001b[38;5;129;01min\u001b[39;00m dicts_list:\n\u001b[0;32m---> 62\u001b[0m     \u001b[43mresult\u001b[49m\u001b[38;5;241;43m.\u001b[39;49m\u001b[43mupdate\u001b[49m\u001b[43m(\u001b[49m\u001b[43md\u001b[49m\u001b[43m)\u001b[49m\n\u001b[1;32m     63\u001b[0m \u001b[38;5;28;01mreturn\u001b[39;00m result\n",
      "\u001b[0;31mValueError\u001b[0m: dictionary update sequence element #0 has length 1; 2 is required"
     ]
    },
    {
     "name": "stdout",
     "output_type": "stream",
     "text": [
      "> \u001b[0;32m/Users/cck197/Documents/sleepmate/sleepmate/helpful_scripts.py\u001b[0m(62)\u001b[0;36mflatten_list_of_dicts\u001b[0;34m()\u001b[0m\n",
      "\u001b[0;32m     60 \u001b[0;31m    \u001b[0mresult\u001b[0m \u001b[0;34m=\u001b[0m \u001b[0;34m{\u001b[0m\u001b[0;34m}\u001b[0m\u001b[0;34m\u001b[0m\u001b[0;34m\u001b[0m\u001b[0m\n",
      "\u001b[0m\u001b[0;32m     61 \u001b[0;31m    \u001b[0;32mfor\u001b[0m \u001b[0md\u001b[0m \u001b[0;32min\u001b[0m \u001b[0mdicts_list\u001b[0m\u001b[0;34m:\u001b[0m\u001b[0;34m\u001b[0m\u001b[0;34m\u001b[0m\u001b[0m\n",
      "\u001b[0m\u001b[0;32m---> 62 \u001b[0;31m        \u001b[0mresult\u001b[0m\u001b[0;34m.\u001b[0m\u001b[0mupdate\u001b[0m\u001b[0;34m(\u001b[0m\u001b[0md\u001b[0m\u001b[0;34m)\u001b[0m\u001b[0;34m\u001b[0m\u001b[0;34m\u001b[0m\u001b[0m\n",
      "\u001b[0m\u001b[0;32m     63 \u001b[0;31m    \u001b[0;32mreturn\u001b[0m \u001b[0mresult\u001b[0m\u001b[0;34m\u001b[0m\u001b[0;34m\u001b[0m\u001b[0m\n",
      "\u001b[0m\u001b[0;32m     64 \u001b[0;31m\u001b[0;34m\u001b[0m\u001b[0m\n",
      "\u001b[0m\n"
     ]
    },
    {
     "name": "stdin",
     "output_type": "stream",
     "text": [
      "ipdb>  exit\n"
     ]
    }
   ],
   "source": [
    "flatten_list_of_dicts(imported)"
   ]
  },
  {
   "cell_type": "code",
   "execution_count": 5,
   "id": "bb67a1fb-01cb-48be-8e6a-3aa83fd142fd",
   "metadata": {},
   "outputs": [],
   "source": [
    "imported_ = flatten_dict(imported)"
   ]
  },
  {
   "cell_type": "code",
   "execution_count": 6,
   "id": "5cdb7065-e075-4661-b9f7-56487ff369e5",
   "metadata": {},
   "outputs": [
    {
     "data": {
      "text/plain": [
       "dict_keys(['GOALS', 'GOAL_HANDLERS'])"
      ]
     },
     "execution_count": 6,
     "metadata": {},
     "output_type": "execute_result"
    }
   ],
   "source": [
    "imported_.keys()"
   ]
  },
  {
   "cell_type": "code",
   "execution_count": 7,
   "id": "d14a35aa-a2f5-4c28-8e95-88f37456e8fa",
   "metadata": {},
   "outputs": [
    {
     "data": {
      "text/plain": [
       "{'insomnia_severity_index': <function sleepmate.isi.insomnia_severity_index()>,\n",
       " 'diary_probe': <function sleepmate.diary.diary_probe()>,\n",
       " 'health_history': <function sleepmate.history.health_history()>}"
      ]
     },
     "execution_count": 7,
     "metadata": {},
     "output_type": "execute_result"
    }
   ],
   "source": [
    "imported_[\"GOAL_HANDLERS\"]"
   ]
  },
  {
   "cell_type": "code",
   "execution_count": 8,
   "id": "a330d21c-e6b3-47ca-a233-84de6c52cac8",
   "metadata": {},
   "outputs": [
    {
     "data": {
      "text/plain": [
       "{'GOALS': {'insomnia_severity_index': \"\\n        Your goal is to survey the human for their Insomnia Severity Index (ISI)\\n        using the standard 7-item questionnaire, but don't ask until you've\\n        asked an open question, and the human has confirmed the accuracy of at\\n        least one listening statement. Ask if now would be a good time then the\\n        following questions. Don't ask more than one question at time.\\n        \\n        0. Date of entry (get today's date and make that the default)\\n        1. Difficulty falling asleep.\\n        2. Difficulty staying asleep.\\n        3. Problems waking up too early.\\n        4. How satisfied/dissatisfied are you with your current sleep pattern?\\n        5. How noticeable to others do you think your sleep problem is in terms\\n           of impairing the quality of your life?\\n        6. How worried/distressed are you about your current sleep problem?\\n        7. To what extent do you consider your sleep problem to interfere with\\n        your daily functioning (e.g., daytime fatigue, ability to function at\\n        work/daily chores, concentration, memory, mood, etc.)?\\n        \\n        Be sure to ask the questions with their corresponding labels as shown\\n        below.\\n        \\n        Questions 1-3 are rated on a 5-point scale from 0 to 4:\\n        0: None\\n        1: Mild\\n        2: Moderate\\n        3: Severe\\n        4: Very severe\\n\\n        Question 4 is rated on a 5-point scale from 0 to 4:\\n        0: Very satisfied\\n        1: Satisfied\\n        2: Moderately satisfied\\n        3: Dissatisfied\\n        4: Very dissatisfied\\n\\n        Questions 5-7 are rated on a 5-point scale from 0 to 4:\\n        0: Not at all\\n        1: A little bit\\n        2: Moderately\\n        3: Quite a bit\\n        4: Very much\\n\\n        When you've got the answer to all seven questions, summarise including\\n        the date and ask if they're correct.\\n        \\n        Add them up and report the total, which should be\\n        between 0 and 28. Add the following interpretation:\\n        0-7: No clinically significant insomnia\\n        8-14: Subthreshold insomnia\\n        15-21: Clinical insomnia (moderate severity)\\n        22-28: Clinical insomnia (severe)\\n        \",\n",
       "  'diary_probe': \"\\n        Your goal is find out if the human has ever kept a sleep diary. If they\\n        haven't kept a sleep diary, ask if they'd like the AI to help them keep\\n        one. If they have, ask if they'd like to share it with the AI.\\n        \",\n",
       "  'diary_entry_retrieval': '\\n        Your goal is to summarise a sleep diary entry for a given date as a\\n        bullet list. Convert ISO 8601 strings to a human readable format.  After\\n        the list, \\nInclude sleep sleep duration in hours and minutes and efficiency as a\\npercentage.\\n\\nSleep efficiency is the percentage of time spent asleep while in bed. To give\\nthe human a rough sense of how their sleep efficiency compares, tell them\\nanything over 85%% is considered normal.\\n\\n        ',\n",
       "  'diary_entry': '\\n        Your goal is to record a sleep diary entry for a given night. First ask\\n        if now is a good time to record a diary entry.  Then guide them through\\n        the following questions one at a time.  Don\\'t give all the questions at\\n        once.  Wait for them to answer each question.\\n        \\n        - Date of entry (default to yesterday\\'s date)\\n        - Time you went to bed \\n        - Time you tried to fall asleep\\n        - How long it took you to fall asleep (in minutes)\\n        - How many times you woke up during the night (number)\\n          - If zero then skip the next question, the answer is zero\\n        - Total time you were awake during the night (in minutes)\\n        - Final wake up time\\n        - Time you got out of bed\\n        - Sleep quality, one of the following: \"very good\", \"good\", \"okay\",\\n           \"bad\", \"very bad\"\\n        - Any medications or aids you used to help you sleep\\n        - Any other notes you\\'d like to add\\n        \\n        Once you have all the answers to the above, STOP! Summarise the results\\n        in a bullet list and ask if they\\'re correct.\\n\\n        Important: don\\'t save the entry until the human has confirmed! Then save\\n        the diary entry to the database.\\n        \\n        Finally, retrieve the entry from the database and\\n        summarise.  \\nInclude sleep sleep duration in hours and minutes and efficiency as a\\npercentage.\\n\\nSleep efficiency is the percentage of time spent asleep while in bed. To give\\nthe human a rough sense of how their sleep efficiency compares, tell them\\nanything over 85%% is considered normal.\\n\\n    ',\n",
       "  'stress_audit': '\\n        Your goals is to help the human conduct a stress audit. created by Simon\\n        Marshall, PhD. Summarise the exercise using the text below surrounded by\\n        triple backticks.\\n        ```\\n        Coping is the purposeful ability to manage SENSATIONS, PERCEPTIONS,\\n        EMOTIONS, THOUGHTS & ACTIONS in response to your body\\'s hard-wired\\n        neurochemical pathways (the \"stress response\") to DEMANDS placed on it.\\n\\n        Resilience is the ability to cope positively (\"adaptively\") and\\n        consistently, regardless of the severity of the stress response.\\n\\n        The Stress Audit is a tool to help you identify what you are currently\\n        doing when you\\'re feeling stressed. List as many behaviours as you can.\\n        Once you\\'re done we\\'ll categorise them into the following categories:\\n        \\n        - Problem or solution-focused coping (behaviours that reduce the\\n        stressor itself)\\n        - Emotion-focused coping (behaviours that reduce the emotional impact of\\n        the stressor)\\n\\n        We can further categorise these behaviours into the following categories:\\n        - Adaptive (behaviours that are helpful)\\n        - Maladaptive (behaviours that are unhelpful)\\n        \\n        Examples (E=Emotion-focused, P=Problem-focused, A=Adaptive, M=Maladaptive):\\n        - Working longer, working harder (esp. doing more research to feel\\n        prepared) (P, A)\\n        - Diarizing (also for time management) (P, A)\\n        - Drink more coffee (E, M) (P, M)\\n        - Tinkering - getting very detail oriented. (E, M) (P, M)\\n        - Exercising (e.g. Swimming, Biking, Running) (E, A) (P, A)\\n        - Asking for help/seeking assistance (P, A)\\n        - Seeking out information, education (P, A)\\n        - Using logic to avoid over exaggerating stressor (P, A)\\n        - Problem solving and selecting solutions (P, A)\\n        - Prioritizing and Segmenting (P, A)\\n        - Identifying controllable actions (P, A)\\n        - Assertiveness and communication skills (P, A)\\n        - Moaning, complaining, talking out loud. (esp. Brooding - taking on\\n        more but them complaining how unfair it is) (E, M)\\n        - Cleaning, Tidying (E, A)\\n        - Buying things on Amazon, mostly functional/easily justifiable (E, M) (E, A) \\n        - Procrastinating (e.g., false prioritizing) (E, M)\\n        - Listening to rain on Spotify or YouTube (E, A)\\n        - Chimp purging (E, A)\\n        - Watching TV, especially the Olympic Channel (E, M)\\n        - Watching YouTube videos/TikTok (E, M)\\n        - Reading the news (BBC app, NYT) (E, M)\\n        - Drinking alcohol (E, M)\\n        - Eating simple carbohydrates (E, M)\\n        - Socializing with friends (E, A)\\n        - Having sex or masturbating (E, A)\\n        - Taking THC (E, A)\\n        - Playing the piano (E, A)\\n        - Going down Facebook/Twitter/YouTube rabbit holes (E, M)\\n        - Using humor and jokes (E, A)\\n        - Physiologic Sigh Breathing (E, A)\\n        - Progress Muscle Relaxation (E, A)\\n\\n        As you can see from the examples, some behaviours can be both problem\\n        and emotion-focused.\\n\\n        Once you\\'ve written down as many behaviours as you can, categorise them\\n        as either problem or emotion focused, and adaptive or maladaptive. What\\n        most people find is that there\\'s an imbalance in the list, where people\\n        tend to over rely on one of the two categories. Often, women tend more\\n        towards emotion-based coping and men problem-based. Or as women often\\n        say, and men don\\'t understand, \"I don\\'t need you to fix my problems, I\\n        just want you to listen to them.\"\\n\\n        Resilient humans, those who perform well consistently tend to have a\\n        balanced list. They make use of BOTH problem and emotion-focused coping\\n        behaviours. They also tend to have more adaptive behaviours than\\n        maladaptive.\\n        ```\\n\\n        Explain the purpose of the exercise, and walk the human through it, step\\n        by step. Once they are done listing stress-coping behaviours, categorise\\n        and summarise them. Ask if they\\'re correct.\\n\\n        If there\\'s an imbalance in the list, ask if they can think of anything\\n        that might help balance the list. Give examples. \\n        \\n        Only after they\\'ve confirmed, save the Stress Audit to the database.\\n        ',\n",
       "  'open_focus': 'Your goal is to help the human perform the \"open focus\" exercise.\\nExplain changing thoughts in a given direction means taking their content\\nseriously. You have to notice them and evaluate them to try to change them,\\nwhich may strengthen their hold over your mind and wake you up.\\nIt is helpful to broaden your focus rather than changing the content of\\n        your thoughts. Explain that the open focus exercise is a way to do this.\\nAsk if now is a good time to perform the exercise then guide them through one\\nstep at a time. Don\\'t give all the steps at once. Wait for them to complete each\\nstep. When the human completed the exercise, ask how they\\'re feeling. Summarise\\nwith the following fields:\\n\\n- name of the exercise\\n- how the human was feeling before and after the exercise.\\n\\nFinally, after the summary ask the human if they\\'d like to save the record of\\nexercise to the database. Only after they\\'ve confirmed, save the entry. \\n',\n",
       "  'leaves_on_a_stream': 'Your goal is to help the human perform the \"leaves on a stream\"\\n        exercise.\\nExplain changing thoughts in a given direction means taking their content\\nseriously. You have to notice them and evaluate them to try to change them,\\nwhich may strengthen their hold over your mind and wake you up.\\nDefusion helps us use our minds in a more open, aware, and values-based\\n        way. It helps us turn off our compulsive problem-solving for a while. It\\n        opens the door to our power to change, allowing us to acknowledge our\\n        unhelpful thoughts while charting a course beyond them. Explain that the\\n        leaves on a stream exercise is a way to do this.\\nAsk if now is a good time to perform the exercise then guide them through one\\nstep at a time. Don\\'t give all the steps at once. Wait for them to complete each\\nstep. When the human completed the exercise, ask how they\\'re feeling. Summarise\\nwith the following fields:\\n\\n- name of the exercise\\n- how the human was feeling before and after the exercise.\\n\\nFinally, after the summary ask the human if they\\'d like to save the record of\\nexercise to the database. Only after they\\'ve confirmed, save the entry. \\n',\n",
       "  'valued_living': '\\n        Your goal is to survey the human using the \"Valued Living Questionnaire\\n        (VLQ)\". First ask if now is a good time to do the survey. Then guide them\\n        through the following questions one at a time. Don\\'t give all the questions\\n        at once.  Wait for them to answer each question. Explain that it\\'s is best\\n        to plan not to let anyone see this so you can answer as honestly as\\n        possible, setting aside as best you can social pressures and the wagging\\n        mental fingers of should and have to. This is between you and you.\\n        \\n        1. family relations (other than marriage or parent)\\n        2. marriage/couples/intimate relations\\n        3. being a parent\\n        4. friendships/social relations\\n        5. work\\n        6. education/personal growth and development\\n        7. recreation/leisure\\n        8. spirituality/religion\\n        9. citizenship/community life\\n        10. physical self-care (e.g., exercise, diet, sleep)\\n        11. environmental issues (e.g., pollution, conservation)\\n        12. art, creative expression, aesthetics\\n\\n        For each question, For each domain, ask the human to rate:\\n        a) The importance of that domain to them.\\n        b) How consistently they have lived in accordance with their values in that\\n        domain over the past week.\\n\\n        Summarise the results in a bullet list and ask if they\\'re correct.\\n\\n        Explain there are a number of ways to assess the results. The first is to\\n        look at all domains that have relatively high importance scores (a score of\\n        9 or 10) and also have relatively low consistency scores (6 or less). These\\n        are clear problem areas, and I suggest doing your initial values work with\\n        any one of them. Then you can move on to other areas.\\n\\n        Also calculate the human\\'s overall score. Multiply the two numbers from the\\n        first and second parts for each domain. So if for family, in the first part\\n        you scored it as 10 and in the second part you circled 4, for that domain\\n        you\\'d get 40. Add all of those numbers and then divide them by 12 to get\\n        your composite score. Let the human know that to get a rough sense of how\\n        their score compares to those of the broad public, the average composite\\n        result is 61.\\n\\n        Tell the human that this is a discovery process, not a critique, and after\\n        all, they\\'ve embarked on this journey and they should give themselves some\\n        credit for that.  They\\'re here to embrace change.\\n        \\n        Only after they\\'ve confirmed, save the VLQ diary entry to the database.\\n        ',\n",
       "  'test': \"Your goal is to find out the human's favourite colour.\",\n",
       "  'woop': \"\\n        Your goal is to help the human perform the WOOP exercise by Gabriel\\n        Oettingen. The exercise is described below surrounded by triple\\n        backticks. Walk the human through the exercise step by step.\\n        \\n        ```\\n        WOOP takes only five to ten minutes of uninterrupted time.\\n\\n        Take a quiet moment and make yourself comfortable.\\n\\n        The next minutes just belong to you.\\n\\n        Questions:\\n        - What is the time frame for fulfilling your wish?\\n        - Think about the next [timeframe]. What is your most important wish or\\n        concern in your health life?  Pick a wish that is challenging for you\\n        but that you can fulfill. Note your wish in 3-6 words.\\n        - What would be the best thing, the best outcome about fulfilling your\\n        wish? How would fulfilling your wish make you feel? Note your best\\n        outcome in 3-6 words.\\n        - Now take a moment and imagine the outcome. Imagine things fully.\\n        - Identify your obstacle. What is it within you that holds you back from\\n        fulfilling your wish? What is it in you that stands in the way of you\\n        fulfilling your wish? What is your main inner obstacle?\\n        - Now take a moment and imagine your obstacle. Imagine things fully.\\n        - Make an if-then plan. What can you do to overcome your obstacle? Name\\n        one action you can take or one thought you can think to overcome your\\n        obstacle.\\n        - Note your if-then plan in 3-6 words. When [obstacle], then I will [if\\n        then plan].\\n        - Slowly repeat the if-then plan to yourself. \\n        ```\\n\\n        Summarise the results in a bullet list:\\n        - Your Wish: [wish]\\n        - Your best Outcome: [outcome]\\n        - Your inner Obstacle: [obstacle]\\n        - Your Plan: [if then plan]\\n        \\n        Ask if they're correct.\\n        \",\n",
       "  'seeds_probe': '\\n        Your goal is to ask the human to do the SEEDS exercise created by Simon\\n        Marshall, PhD. Summarise the exercise using the text below surrounded by\\n        triple backticks.\\n\\n        ```   \\n        The pillars of good health are Sleep, Exercise, Eating, Drinking, and\\n        Stress management (SEEDS). Yes, \"SEEDS\" is cheesy as fuck, but the\\n        metaphor of planting small SEEDS (i.e., behaviors that are good for you)\\n        and watering them every day so they can take root (i.e., become habits\\n        that you don\\'t have to constantly think about them) is consistent with\\n        the science of behavior change and habit formation. So, while the\\n        acronym may be the Celine Dion of behavior change, it WORKS. Besides,\\n        what\\'s life without cheese?\\n\\n        For each of these pillars of good health, think of a tiny thing that you\\n        can do to contribute to it. This is not the place for grandiose,\\n        aspirational intentions (e.g., \"run 5km\" or \"eat no added sugar\" if\\n        you\\'ve never come close this in the past), or the fat-chance outcomes\\n        (e.g., \"get sleep 8 hours per night\" when you\\'re currently getting 5\\n        hrs). In SEEDS, we\\'re focusing on tiny little behaviors that contribute\\n        to good outcomes. The behavioral science is that focusing on SMALL\\n        behaviors builds the correct mindset and contributes to knock-on effects\\n        on other changes in that Pillar.  In short, progress begets progress.\\n        So, a good way to think about each SEED is that your reaction to it\\n        should be \"shit, even I could do that,\" not \"urgh, I mean, I\\'ll give it\\n        a go but don\\'t hold your breath.\"\\n\\n        Simon likes to use three SEEDS per pillar, for a total of 15 teeny-weeny\\n        daily habits. If that sounds like A LOT to you, he recommends you\\n        prioritize them.  The top line is what you\\'ll start with. Once you\\'ve\\n        done these consistently, add the second line, and so on. Regardless, try\\n        to first WRITE IN all fifteen in this exercise.\\n\\n        You\\'ll see that this also gives us a way to way to measure progress and\\n        consistency. Later we\\'ll ask what you got done and give you a score\\n        (/15) for how many you managed to do that day. The importance of the\\n        score will become more evident when we progress to Phase 2 of our Celine\\n        Dion exercise, the veritable Kenny G of stress management mojo - a\\n        Traffic Light system to avoid catastrophizing, awfulizing, and\\n        why-can\\'t-I-do this-izing, when life gets in the way (because it will).\\n        We need to give ourselves permission to occasionally suck at adulting.\\n        ```\\n\\n        Before collecting SEEDS from the human, give some examples:\\n        - Be in bed by 9.30 pm.\\n        - Turn off my cell phone by 8 pm.\\n        - Walk outside for 10 ten minutes before 9:30 am.\\n        - Do 10 push-ups while the coffee is brewing.\\n        - Eat one meal with chopsticks (to slow down eating).\\n        - Eat 50g of protein with every meal.\\n        - Don\\'t drink out of anything plastic.\\n        - Drink fizzy water from 6-8 pm (for booze cravings).\\n        - Write down three tiny things I\\'ve been grateful for today.\\n        - No caffeine after 12 pm.\\n        - Do the \"leaves on a stream\" or \"open focus\" exercises (for stress).\\n        - ...you get the idea.\\n\\n        Collect the SEEDS from the human one category at a time. \\n\\n        Finish by giving a summary of the SEEDS they defined for each category\\n        and asking if they\\'re correct. Only after they\\'ve confirmed, save the\\n        SEEDS to the database.\\n        ',\n",
       "  'seeds_entry': \"\\n        Your goals to ask the human about what SEEDS they managed to do today.\\n        First, ask if now is a good time to record a SEEDS diary entry.\\n        Summarise the SEEDS they gave earlier. Ask what date the entry is for,\\n        get today's date and suggest that as a default. Then, for each SEED in\\n        each pillar, ask what they got done today. Then summarise and ask if\\n        it's correct. Give them a score (/15) for how many they managed to do\\n        that day.\\n\\n        Only after they've confirmed, save the SEEDS diary entry to the database.\\n        \",\n",
       "  'knowledge': '\\n        Your goal is to answer any questions the human has about health,\\n        wellness and performance.\\n        ',\n",
       "  'daily_routine': \"\\n        Your goal is to help the human identify a daily routine that will help\\n        them sleep better. Ask them if they're open to hearing about a daily\\n        routine. If they say yes, then run the get_knowledge_answer tool with\\n        the query `daily routine`.\\n        \",\n",
       "  'health_history': \"\\n        Your goal is to survey the human for their Health History using the 19\\n        point questionnaire below, but don't ask until you've asked an open\\n        question, and the human has confirmed the accuracy of at least one\\n        listening statement. Ask if now would be a good time then the following\\n        questions. Don't ask more than one question at time.\\n        \\n        0. Date of entry (default to today's date)\\n        3. Sex\\n        4. Date of birth\\n        5. Current Occupation\\n        6. Typical work hours\\n        7. Smoking\\n        8. Alcohol\\n        9. Physical Activity Level\\n        10. What does a typical day of eating look like?\\n        9. Any existing medical conditions (diabetes, hypertension, etc.)\\n        10. List of current medications\\n        11. Family history of insomnia or other sleep disorders\\n        12. History of mental health conditions (depression, anxiety, etc.)\\n        13. Any current psychological treatment\\n        14. Living with (Alone, Family, Friends)\\n        15. Type of residence (House, Apartment, etc.)\\n        16. Noise Level in the living area\\n        17. What does success look like?\\n        18. What have you tried previously that helped?\\n        19. What have you tried previously that didn't help?\\n        20. Anything else you'd like to add?\\n\\n        Once you have all the answers to the above, STOP! Summarise the results\\n        in a bullet list and ask if they're correct.\\n\\n        Important: don't save the entry until the human has confirmed! Then save\\n        the Health History to the database.\\n        \"},\n",
       " 'GOAL_HANDLERS': {'insomnia_severity_index': <function sleepmate.isi.insomnia_severity_index()>,\n",
       "  'diary_probe': <function sleepmate.diary.diary_probe()>,\n",
       "  'health_history': <function sleepmate.history.health_history()>}}"
      ]
     },
     "execution_count": 8,
     "metadata": {},
     "output_type": "execute_result"
    }
   ],
   "source": [
    "imported_"
   ]
  },
  {
   "cell_type": "code",
   "execution_count": null,
   "id": "f31ba2d1-f33e-4aa0-8047-e2cd0c4a74da",
   "metadata": {},
   "outputs": [],
   "source": []
  }
 ],
 "metadata": {
  "kernelspec": {
   "display_name": "Python 3 (ipykernel)",
   "language": "python",
   "name": "python3"
  },
  "language_info": {
   "codemirror_mode": {
    "name": "ipython",
    "version": 3
   },
   "file_extension": ".py",
   "mimetype": "text/x-python",
   "name": "python",
   "nbconvert_exporter": "python",
   "pygments_lexer": "ipython3",
   "version": "3.11.5"
  }
 },
 "nbformat": 4,
 "nbformat_minor": 5
}
