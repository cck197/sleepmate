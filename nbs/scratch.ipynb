{
 "cells": [
  {
   "cell_type": "code",
   "execution_count": 1,
   "id": "0abfb67a-a144-4268-9421-249f1452e22a",
   "metadata": {},
   "outputs": [
    {
     "name": "stdout",
     "output_type": "stream",
     "text": [
      "Automatic pdb calling has been turned ON\n"
     ]
    }
   ],
   "source": [
    "%pdb"
   ]
  },
  {
   "cell_type": "code",
   "execution_count": 2,
   "id": "973cc251-4550-41c1-9409-2e7e1dcb6c15",
   "metadata": {},
   "outputs": [],
   "source": [
    "from sleepmate.agent import *"
   ]
  },
  {
   "cell_type": "code",
   "execution_count": 3,
   "id": "7bc7eabc-1415-445d-bd08-c2c0841e1160",
   "metadata": {},
   "outputs": [],
   "source": [
    "!rm -f /Users/cck197/Downloads/virtual_greg/memory.pkl"
   ]
  },
  {
   "cell_type": "code",
   "execution_count": 3,
   "id": "525273e3-999e-42a7-ac45-ead2db7fc754",
   "metadata": {},
   "outputs": [],
   "source": [
    "from sleepmate.helpful_scripts import *\n",
    "from sleepmate.diary import *\n",
    "from sleepmate.goal import *\n",
    "from sleepmate.seeds import *\n",
    "from sleepmate.structured import *\n",
    "from sleepmate.history import *"
   ]
  },
  {
   "cell_type": "code",
   "execution_count": 4,
   "id": "87aefd77-f357-4d59-826a-27be0b9b00ea",
   "metadata": {},
   "outputs": [
    {
     "name": "stdout",
     "output_type": "stream",
     "text": [
      "X.load_memory filename='/Users/cck197/Downloads/virtual_greg/memory.pkl'\n"
     ]
    }
   ],
   "source": [
    "memory = X.load_memory()"
   ]
  },
  {
   "cell_type": "code",
   "execution_count": 7,
   "id": "dbd7ba09-00f5-4f91-bbb4-b25ede0509cc",
   "metadata": {},
   "outputs": [
    {
     "data": {
      "text/plain": [
       "True"
      ]
     },
     "execution_count": 7,
     "metadata": {},
     "output_type": "execute_result"
    }
   ],
   "source": [
    "memory.return_messages"
   ]
  },
  {
   "cell_type": "code",
   "execution_count": 5,
   "id": "df116127-a72d-4838-a58e-fd8a64645b35",
   "metadata": {},
   "outputs": [
    {
     "data": {
      "text/plain": [
       "HealthHistory(date=datetime.datetime(2023, 10, 21, 11, 12, 24, 643083), sex='man', date_of_birth=datetime.datetime(1976, 2, 13, 0, 0), occupation='coder', work_hours='7 - 6 with breaks', smoking='no', alcohol='some alcohol, mostly at the weekends', physical_activity='cyclist, surfer, lift weights', diet='three eggs and sausages for breakfast, salad and protein for lunch, meat and veg for dinner. 1g protein per lb of bodyweight', medical_conditions='none', medications='no', family_history='no', mental_health='no', psychological_treatment='no', living_with='live with family, three kids, in a house but sleep in a VW Eurovan', residence_type='house', noise_level='very rural and quiet', goal='sleep through the night, wake up feeling refreshed', helpful='getting enough daylight', unhelpful='apigenin', notes='N/A')"
      ]
     },
     "execution_count": 5,
     "metadata": {},
     "output_type": "execute_result"
    }
   ],
   "source": [
    "get_health_history_from_memory(memory)"
   ]
  },
  {
   "cell_type": "code",
   "execution_count": 8,
   "id": "98883357-493b-4ebb-ae24-aea4e17df761",
   "metadata": {},
   "outputs": [
    {
     "data": {
      "text/plain": [
       "2"
      ]
     },
     "execution_count": 8,
     "metadata": {},
     "output_type": "execute_result"
    }
   ],
   "source": [
    "DBGoalRefusal.objects.delete()"
   ]
  },
  {
   "cell_type": "code",
   "execution_count": 13,
   "id": "bd9e376e-a0f6-445b-9af8-16aa8383c199",
   "metadata": {},
   "outputs": [
    {
     "data": {
      "text/plain": [
       "['diary_probe', 'daily_routine']"
      ]
     },
     "execution_count": 13,
     "metadata": {},
     "output_type": "execute_result"
    }
   ],
   "source": [
    "[o.goal for o in DBGoalRefusal.objects()]"
   ]
  },
  {
   "cell_type": "code",
   "execution_count": null,
   "id": "675d2a05-3e41-4b98-9d92-2a8deeccfbad",
   "metadata": {},
   "outputs": [],
   "source": [
    "DBSleepDiaryEntry.objects(user=get_current_user()).count()"
   ]
  },
  {
   "cell_type": "code",
   "execution_count": 11,
   "id": "6e5f1ede-0264-4f9c-8840-c44ba668dec4",
   "metadata": {},
   "outputs": [],
   "source": [
    "from sleepmate.goal import DBGoalRefusal"
   ]
  },
  {
   "cell_type": "code",
   "execution_count": 3,
   "id": "ea3661a3-913a-478a-bd96-da5895f0e094",
   "metadata": {},
   "outputs": [],
   "source": [
    "imported = import_attrs([\"GOALS\", \"GOAL_HANDLERS\"])"
   ]
  },
  {
   "cell_type": "code",
   "execution_count": 3,
   "id": "186809ec-99cf-481d-9a5d-d5bd92781a81",
   "metadata": {},
   "outputs": [],
   "source": [
    "imported = import_attrs([\"TOOLS\"])"
   ]
  },
  {
   "cell_type": "code",
   "execution_count": 8,
   "id": "b52bc390-90e2-443d-855b-cf629632bf55",
   "metadata": {
    "scrolled": true
   },
   "outputs": [
    {
     "data": {
      "text/plain": [
       "[(0, AIMessage(content=\"what's your name?\")),\n",
       " (1, HumanMessage(content='Chris')),\n",
       " (2, AIMessage(content=\"what's your email?\")),\n",
       " (3, HumanMessage(content='chris@nourishbalancethrive.com')),\n",
       " (4, HumanMessage(content='hey')),\n",
       " (5,\n",
       "  AIMessage(content=\"Hello Chris, it's a pleasure to meet you. I hope you're doing well. Would now be a good time to go through a health history questionnaire? It's a bit like a check-up, but without the cold stethoscope.\")),\n",
       " (6, HumanMessage(content='not bad, a bit tired')),\n",
       " (7,\n",
       "  AIMessage(content=\"It sounds like you're feeling a bit worn out, which is completely understandable in our busy lives. Let's proceed with the health history questionnaire, shall we? It might even be a nice distraction. Let's start with an easy one: what is your sex?\")),\n",
       " (8, HumanMessage(content='sure')),\n",
       " (9, AIMessage(content='Great! So, what is your sex?')),\n",
       " (10, HumanMessage(content='man')),\n",
       " (11,\n",
       "  AIMessage(content=\"Thank you, Chris. Now, could you please share your date of birth? Don't worry, I promise not to send any surprise birthday parties your way.\")),\n",
       " (12, HumanMessage(content='Feb 13 1976')),\n",
       " (13,\n",
       "  AIMessage(content=\"Thank you, Chris. You're still a spring chicken! Now, could you please tell me about your current occupation?\")),\n",
       " (14, HumanMessage(content='coder')),\n",
       " (15,\n",
       "  AIMessage(content=\"Ah, a coder! That's a job that requires a lot of mental gymnastics. Now, could you please tell me about your typical work hours?\")),\n",
       " (16, HumanMessage(content='7 - 6 with breaks')),\n",
       " (17,\n",
       "  AIMessage(content=\"Thank you, Chris. That's quite a long day, but I'm glad to hear you're taking breaks. Now, let's move onto lifestyle questions. Do you smoke?\")),\n",
       " (18, HumanMessage(content='nope')),\n",
       " (19,\n",
       "  AIMessage(content=\"That's great to hear, Chris. How about alcohol? Do you drink?\")),\n",
       " (20, HumanMessage(content='some alchohol, mostly at the weekends')),\n",
       " (21,\n",
       "  AIMessage(content=\"Thank you for sharing, Chris. It's important to enjoy the things we love in moderation. Now, could you please describe your level of physical activity?\")),\n",
       " (22, HumanMessage(content=\"I'm a cyclist, surfer, lift weights\")),\n",
       " (23,\n",
       "  AIMessage(content=\"Impressive, Chris! You're quite the active individual. Now, could you describe what a typical day of eating looks like for you?\")),\n",
       " (24,\n",
       "  HumanMessage(content='three eggs and sausages for breakfast, salad and protein for lunch, meat and veg for dinner. 1g protein per lb of bodyweight')),\n",
       " (25,\n",
       "  AIMessage(content='Sounds like a balanced diet, Chris. Now, do you have any existing medical conditions such as diabetes, hypertension, etc.?')),\n",
       " (26, HumanMessage(content='none')),\n",
       " (27,\n",
       "  AIMessage(content=\"That's good to hear, Chris. Now, are you currently taking any medications?\")),\n",
       " (28, HumanMessage(content='no')),\n",
       " (29,\n",
       "  AIMessage(content='Great, Chris. Now, is there a family history of insomnia or other sleep disorders?')),\n",
       " (30, HumanMessage(content='no')),\n",
       " (31,\n",
       "  AIMessage(content=\"That's good to hear, Chris. Now, do you have a history of mental health conditions such as depression, anxiety, etc.?\")),\n",
       " (32, HumanMessage(content='no')),\n",
       " (33,\n",
       "  AIMessage(content=\"That's good to hear, Chris. Are you currently undergoing any psychological treatment?\")),\n",
       " (34, HumanMessage(content='no')),\n",
       " (35,\n",
       "  AIMessage(content='Thank you for sharing, Chris. Now, who are you currently living with? Alone, family, friends?')),\n",
       " (36,\n",
       "  HumanMessage(content='live with family, three kids, in a house but sleep in a VW Eurovan')),\n",
       " (37,\n",
       "  AIMessage(content='Sounds like a lively household, Chris! Now, could you describe the noise level in your living area?')),\n",
       " (38, HumanMessage(content=\"it's very rural and quiet\")),\n",
       " (39,\n",
       "  AIMessage(content='That sounds peaceful, Chris. Now, could you tell me what success looks like to you?')),\n",
       " (40,\n",
       "  HumanMessage(content='sleep through the night, wake up feeling refreshed')),\n",
       " (41,\n",
       "  AIMessage(content='That sounds like a wonderful goal, Chris. Now, what have you tried previously that helped you towards this goal?')),\n",
       " (42, HumanMessage(content='getting enough daylight')),\n",
       " (43,\n",
       "  AIMessage(content=\"That's a great strategy, Chris. Daylight can indeed help regulate our sleep patterns. Now, what have you tried previously that didn't help?\")),\n",
       " (44, HumanMessage(content='apigenin')),\n",
       " (45,\n",
       "  AIMessage(content=\"Thank you for sharing that, Chris. It's always helpful to know what hasn't worked in the past. Is there anything else you'd like to add?\"))]"
      ]
     },
     "execution_count": 8,
     "metadata": {},
     "output_type": "execute_result"
    }
   ],
   "source": [
    "list(enumerate(memory.chat_memory.messages))"
   ]
  },
  {
   "cell_type": "code",
   "execution_count": 7,
   "id": "f31ba2d1-f33e-4aa0-8047-e2cd0c4a74da",
   "metadata": {},
   "outputs": [
    {
     "name": "stdout",
     "output_type": "stream",
     "text": [
      "X.load_memory filename='/Users/cck197/Downloads/virtual_greg/memory.pkl'\n"
     ]
    }
   ],
   "source": [
    "memory = X.load_memory()"
   ]
  },
  {
   "cell_type": "code",
   "execution_count": 5,
   "id": "b54232f1-9751-4250-a7cf-e4c4e4daf857",
   "metadata": {},
   "outputs": [],
   "source": [
    "memory.chat_memory.add_user_message(\"yes, that's right. I got all 15 tasks done\");"
   ]
  },
  {
   "cell_type": "code",
   "execution_count": 20,
   "id": "ee68e492-3b94-477e-87c2-71f3d3c7c8a9",
   "metadata": {},
   "outputs": [],
   "source": [
    "memory.chat_memory.messages = memory.chat_memory.messages[:-4]"
   ]
  },
  {
   "cell_type": "code",
   "execution_count": 21,
   "id": "46ccc264-0709-4999-8b64-2e487241c463",
   "metadata": {},
   "outputs": [],
   "source": [
    "X.save_memory(memory)"
   ]
  },
  {
   "cell_type": "code",
   "execution_count": 7,
   "id": "663b2761-c7e2-4b78-8f2e-e3220f70b640",
   "metadata": {},
   "outputs": [
    {
     "data": {
      "text/plain": [
       "<function sleepmate.seeds.save_seeds_diary_entry(memory: langchain.memory.readonly.ReadOnlySharedMemory, goal: str, text: str)>"
      ]
     },
     "execution_count": 7,
     "metadata": {},
     "output_type": "execute_result"
    }
   ],
   "source": [
    "save_seeds_diary_entry("
   ]
  },
  {
   "cell_type": "code",
   "execution_count": null,
   "id": "d37ee8d9-3de7-4d73-9797-1125f28dc41b",
   "metadata": {},
   "outputs": [],
   "source": []
  }
 ],
 "metadata": {
  "kernelspec": {
   "display_name": "Python 3 (ipykernel)",
   "language": "python",
   "name": "python3"
  },
  "language_info": {
   "codemirror_mode": {
    "name": "ipython",
    "version": 3
   },
   "file_extension": ".py",
   "mimetype": "text/x-python",
   "name": "python",
   "nbconvert_exporter": "python",
   "pygments_lexer": "ipython3",
   "version": "3.11.5"
  }
 },
 "nbformat": 4,
 "nbformat_minor": 5
}
