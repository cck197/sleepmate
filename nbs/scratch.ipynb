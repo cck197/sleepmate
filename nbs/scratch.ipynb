{
 "cells": [
  {
   "cell_type": "code",
   "execution_count": 1,
   "id": "0abfb67a-a144-4268-9421-249f1452e22a",
   "metadata": {},
   "outputs": [
    {
     "name": "stdout",
     "output_type": "stream",
     "text": [
      "Automatic pdb calling has been turned ON\n"
     ]
    }
   ],
   "source": [
    "%pdb"
   ]
  },
  {
   "cell_type": "code",
   "execution_count": 1,
   "id": "973cc251-4550-41c1-9409-2e7e1dcb6c15",
   "metadata": {},
   "outputs": [],
   "source": [
    "from sleepmate.agent import *"
   ]
  },
  {
   "cell_type": "code",
   "execution_count": 3,
   "id": "7bc7eabc-1415-445d-bd08-c2c0841e1160",
   "metadata": {},
   "outputs": [],
   "source": [
    "!rm -f /Users/cck197/Downloads/virtual_greg/memory.pkl"
   ]
  },
  {
   "cell_type": "code",
   "execution_count": 2,
   "id": "93f4d2ce-5d0a-4d4b-ac34-08b4ea74ee3c",
   "metadata": {},
   "outputs": [],
   "source": [
    "from sleepmate.helpful_scripts import *"
   ]
  },
  {
   "cell_type": "code",
   "execution_count": 2,
   "id": "525273e3-999e-42a7-ac45-ead2db7fc754",
   "metadata": {},
   "outputs": [],
   "source": [
    "from sleepmate.diary import *\n",
    "from sleepmate.goal import *\n",
    "from sleepmate.seeds import *"
   ]
  },
  {
   "cell_type": "code",
   "execution_count": null,
   "id": "df116127-a72d-4838-a58e-fd8a64645b35",
   "metadata": {},
   "outputs": [],
   "source": []
  },
  {
   "cell_type": "code",
   "execution_count": 9,
   "id": "ce68854e-646b-40cd-af78-a62bd2fd8c17",
   "metadata": {},
   "outputs": [
    {
     "data": {
      "text/plain": [
       "True"
      ]
     },
     "execution_count": 9,
     "metadata": {},
     "output_type": "execute_result"
    }
   ],
   "source": [
    "diary_probe()"
   ]
  },
  {
   "cell_type": "code",
   "execution_count": 6,
   "id": "1560100b-6207-4a1a-bbc9-fc136e5b8e5a",
   "metadata": {},
   "outputs": [],
   "source": [
    "(start, end) = (parse_date(\"2023-10-01\"), datetime.now())"
   ]
  },
  {
   "cell_type": "code",
   "execution_count": 7,
   "id": "ea500c83-18c1-4818-8391-0d191a26d05b",
   "metadata": {},
   "outputs": [
    {
     "data": {
      "text/plain": [
       "(datetime.datetime(2023, 10, 1, 0, 0),\n",
       " datetime.datetime(2023, 10, 19, 18, 5, 12, 539620))"
      ]
     },
     "execution_count": 7,
     "metadata": {},
     "output_type": "execute_result"
    }
   ],
   "source": [
    "start, end"
   ]
  },
  {
   "cell_type": "code",
   "execution_count": 14,
   "id": "a62c70e4-d0a5-4372-ae73-18484bc871ee",
   "metadata": {},
   "outputs": [
    {
     "data": {
      "text/plain": [
       "<GoalRefusal: GoalRefusal object>"
      ]
     },
     "execution_count": 14,
     "metadata": {},
     "output_type": "execute_result"
    }
   ],
   "source": [
    "goal_refused(\"diary_probe\", start, end)"
   ]
  },
  {
   "cell_type": "code",
   "execution_count": 10,
   "id": "adbbef32-dbfa-4822-af5c-f9e956f94fc6",
   "metadata": {},
   "outputs": [
    {
     "data": {
      "text/plain": [
       "True"
      ]
     },
     "execution_count": 10,
     "metadata": {},
     "output_type": "execute_result"
    }
   ],
   "source": [
    "diary_entry()"
   ]
  },
  {
   "cell_type": "code",
   "execution_count": 9,
   "id": "1fcdf6ac-dea6-4752-9ffe-ae4324ed03ca",
   "metadata": {},
   "outputs": [
    {
     "data": {
      "text/plain": [
       "False"
      ]
     },
     "execution_count": 9,
     "metadata": {},
     "output_type": "execute_result"
    }
   ],
   "source": [
    "def_no_sleep_diary()"
   ]
  },
  {
   "cell_type": "code",
   "execution_count": 8,
   "id": "98883357-493b-4ebb-ae24-aea4e17df761",
   "metadata": {},
   "outputs": [
    {
     "data": {
      "text/plain": [
       "2"
      ]
     },
     "execution_count": 8,
     "metadata": {},
     "output_type": "execute_result"
    }
   ],
   "source": [
    "DBGoalRefusal.objects.delete()"
   ]
  },
  {
   "cell_type": "code",
   "execution_count": 13,
   "id": "bd9e376e-a0f6-445b-9af8-16aa8383c199",
   "metadata": {},
   "outputs": [
    {
     "data": {
      "text/plain": [
       "['diary_probe', 'daily_routine']"
      ]
     },
     "execution_count": 13,
     "metadata": {},
     "output_type": "execute_result"
    }
   ],
   "source": [
    "[o.goal for o in DBGoalRefusal.objects()]"
   ]
  },
  {
   "cell_type": "code",
   "execution_count": null,
   "id": "675d2a05-3e41-4b98-9d92-2a8deeccfbad",
   "metadata": {},
   "outputs": [],
   "source": [
    "DBSleepDiaryEntry.objects(user=get_current_user()).count()"
   ]
  },
  {
   "cell_type": "code",
   "execution_count": 11,
   "id": "6e5f1ede-0264-4f9c-8840-c44ba668dec4",
   "metadata": {},
   "outputs": [],
   "source": [
    "from sleepmate.goal import DBGoalRefusal"
   ]
  },
  {
   "cell_type": "code",
   "execution_count": 3,
   "id": "ea3661a3-913a-478a-bd96-da5895f0e094",
   "metadata": {},
   "outputs": [],
   "source": [
    "imported = import_attrs([\"GOALS\", \"GOAL_HANDLERS\"])"
   ]
  },
  {
   "cell_type": "code",
   "execution_count": 3,
   "id": "186809ec-99cf-481d-9a5d-d5bd92781a81",
   "metadata": {},
   "outputs": [],
   "source": [
    "imported = import_attrs([\"TOOLS\"])"
   ]
  },
  {
   "cell_type": "code",
   "execution_count": 19,
   "id": "b52bc390-90e2-443d-855b-cf629632bf55",
   "metadata": {
    "scrolled": true
   },
   "outputs": [
    {
     "data": {
      "text/plain": [
       "[(0, AIMessage(content=\"what's your name?\")),\n",
       " (1, HumanMessage(content='Chris')),\n",
       " (2, AIMessage(content=\"what's your email?\")),\n",
       " (3, HumanMessage(content='chris@nourishbalancethrive.com')),\n",
       " (4, HumanMessage(content='next')),\n",
       " (5,\n",
       "  AIMessage(content=\"Hello Chris! I hope you're doing well. Today, I'd like to introduce you to the SEEDS exercise, a simple yet effective method to improve your overall health. It's a bit like planting a garden, but instead of flowers or vegetables, we're cultivating good habits. \\n\\nSEEDS stands for Sleep, Exercise, Eating, Drinking, and Stress management. The idea is to identify small, manageable actions that contribute to each of these areas. We're not aiming for grand gestures here, but rather tiny behaviours that can become habits over time. \\n\\nWould you like to know more about this exercise?\")),\n",
       " (6, HumanMessage(content='sure')),\n",
       " (7,\n",
       "  AIMessage(content='Fantastic! Let\\'s dive in. \\n\\nThe SEEDS exercise is all about focusing on small, achievable behaviours that contribute to good health. The idea is to plant these \"SEEDS\" and water them every day so they can take root and become habits. \\n\\nHere\\'s a brief rundown:\\n\\n1. **Sleep**: Think of small actions that can improve your sleep. For example, being in bed by 9.30 pm or turning off your cell phone by 8 pm.\\n\\n2. **Exercise**: Identify tiny steps that can increase your physical activity. This could be something like walking outside for 10 minutes before 9:30 am or doing 10 push-ups while the coffee is brewing.\\n\\n3. **Eating**: Consider small changes to your diet that can make a big difference. This might be eating one meal with chopsticks to slow down your eating or ensuring you eat 50g of protein with every meal.\\n\\n4. **Drinking**: Look for little ways to improve your hydration or reduce unhealthy drinking habits. For instance, you could decide not to drink out of anything plastic or to drink fizzy water from 6-8 pm if you have booze cravings.\\n\\n5. **Stress management**: Identify simple strategies to manage stress. This could be writing down three tiny things you\\'re grateful for each day or doing stress-reducing exercises like \"leaves on a stream\" or \"open focus\".\\n\\nThe goal is to come up with three SEEDS per pillar, for a total of 15 daily habits. If that sounds like a lot, don\\'t worry! You can start with the top line and add more as you become comfortable with them.\\n\\nDoes this make sense so far?')),\n",
       " (8, HumanMessage(content='yeah!')),\n",
       " (9,\n",
       "  AIMessage(content='Brilliant! Let\\'s start planting these SEEDS, shall we? We\\'ll go pillar by pillar. \\n\\nFirst up, **Sleep**. Can you think of three small, achievable actions that could improve your sleep? Remember, these should be things that make you think \"I can definitely do that!\" rather than \"Well, I\\'ll give it a shot...\".')),\n",
       " (10,\n",
       "  HumanMessage(content='can you give some new examples, three for each category?')),\n",
       " (11,\n",
       "  AIMessage(content=\"Absolutely, Chris! Here are some fresh examples for each category:\\n\\n**Sleep**\\n1. Read a book for 15 minutes before bed.\\n2. Keep the bedroom temperature cool.\\n3. Use a sleep mask to block out light.\\n\\n**Exercise**\\n1. Take the stairs instead of the elevator.\\n2. Stretch for 5 minutes in the morning.\\n3. Park further away from the entrance when going to stores.\\n\\n**Eating**\\n1. Add a serving of vegetables to each meal.\\n2. Swap one processed snack for a piece of fruit.\\n3. Try a new healthy recipe each week.\\n\\n**Drinking**\\n1. Start the day with a glass of water.\\n2. Swap one soda for a herbal tea.\\n3. Drink a glass of water before each meal.\\n\\n**Stress Management**\\n1. Meditate for 5 minutes in the morning.\\n2. Write in a journal for 10 minutes before bed.\\n3. Take a 5-minute break every hour during work to do deep breathing exercises.\\n\\nNow, let's start with the Sleep category. Can you think of three small, achievable actions that could improve your sleep?\")),\n",
       " (12,\n",
       "  HumanMessage(content=\"that's great, let's go with all those exactly as you gave them\")),\n",
       " (13,\n",
       "  AIMessage(content=\"Fantastic, Chris! Your SEEDS are now planted. Here's a quick summary:\\n\\n**Sleep**\\n1. Read a book for 15 minutes before bed.\\n2. Keep the bedroom temperature cool.\\n3. Use a sleep mask to block out light.\\n\\n**Exercise**\\n1. Take the stairs instead of the elevator.\\n2. Stretch for 5 minutes in the morning.\\n3. Park further away from the entrance when going to stores.\\n\\n**Eating**\\n1. Add a serving of vegetables to each meal.\\n2. Swap one processed snack for a piece of fruit.\\n3. Try a new healthy recipe each week.\\n\\n**Drinking**\\n1. Start the day with a glass of water.\\n2. Swap one soda for a herbal tea.\\n3. Drink a glass of water before each meal.\\n\\n**Stress Management**\\n1. Meditate for 5 minutes in the morning.\\n2. Write in a journal for 10 minutes before bed.\\n3. Take a 5-minute break every hour during work to do deep breathing exercises.\\n\\nCan you confirm if these are correct?\")),\n",
       " (14, HumanMessage(content='yep!'))]"
      ]
     },
     "execution_count": 19,
     "metadata": {},
     "output_type": "execute_result"
    }
   ],
   "source": [
    "list(enumerate(memory.chat_memory.messages[:-4]))"
   ]
  },
  {
   "cell_type": "code",
   "execution_count": 18,
   "id": "f31ba2d1-f33e-4aa0-8047-e2cd0c4a74da",
   "metadata": {},
   "outputs": [
    {
     "name": "stdout",
     "output_type": "stream",
     "text": [
      "X.load_memory filename='/Users/cck197/Downloads/virtual_greg/memory.pkl'\n"
     ]
    }
   ],
   "source": [
    "memory = X.load_memory()"
   ]
  },
  {
   "cell_type": "code",
   "execution_count": 5,
   "id": "b54232f1-9751-4250-a7cf-e4c4e4daf857",
   "metadata": {},
   "outputs": [],
   "source": [
    "memory.chat_memory.add_user_message(\"yes, that's right. I got all 15 tasks done\");"
   ]
  },
  {
   "cell_type": "code",
   "execution_count": 20,
   "id": "ee68e492-3b94-477e-87c2-71f3d3c7c8a9",
   "metadata": {},
   "outputs": [],
   "source": [
    "memory.chat_memory.messages = memory.chat_memory.messages[:-4]"
   ]
  },
  {
   "cell_type": "code",
   "execution_count": 21,
   "id": "46ccc264-0709-4999-8b64-2e487241c463",
   "metadata": {},
   "outputs": [],
   "source": [
    "X.save_memory(memory)"
   ]
  },
  {
   "cell_type": "code",
   "execution_count": 7,
   "id": "663b2761-c7e2-4b78-8f2e-e3220f70b640",
   "metadata": {},
   "outputs": [
    {
     "data": {
      "text/plain": [
       "<function sleepmate.seeds.save_seeds_diary_entry(memory: langchain.memory.readonly.ReadOnlySharedMemory, goal: str, text: str)>"
      ]
     },
     "execution_count": 7,
     "metadata": {},
     "output_type": "execute_result"
    }
   ],
   "source": [
    "save_seeds_diary_entry("
   ]
  },
  {
   "cell_type": "code",
   "execution_count": null,
   "id": "d37ee8d9-3de7-4d73-9797-1125f28dc41b",
   "metadata": {},
   "outputs": [],
   "source": []
  }
 ],
 "metadata": {
  "kernelspec": {
   "display_name": "Python 3 (ipykernel)",
   "language": "python",
   "name": "python3"
  },
  "language_info": {
   "codemirror_mode": {
    "name": "ipython",
    "version": 3
   },
   "file_extension": ".py",
   "mimetype": "text/x-python",
   "name": "python",
   "nbconvert_exporter": "python",
   "pygments_lexer": "ipython3",
   "version": "3.11.5"
  }
 },
 "nbformat": 4,
 "nbformat_minor": 5
}
