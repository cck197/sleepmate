{
 "cells": [
  {
   "cell_type": "code",
   "execution_count": 1,
   "id": "973cc251-4550-41c1-9409-2e7e1dcb6c15",
   "metadata": {},
   "outputs": [],
   "source": [
    "from sleepmate.agent import *\n",
    "from sleepmate.mi import *\n",
    "from sleepmate.meta import *\n",
    "goals = get_goals()"
   ]
  },
  {
   "cell_type": "code",
   "execution_count": 2,
   "id": "7bc7eabc-1415-445d-bd08-c2c0841e1160",
   "metadata": {},
   "outputs": [],
   "source": [
    "!rm -f /Users/cck197/Downloads/virtual_greg/memory.pkl"
   ]
  },
  {
   "cell_type": "markdown",
   "id": "0a58d026-57b7-4543-ba54-718488d8503f",
   "metadata": {},
   "source": [
    "# Testing Switching Goals"
   ]
  },
  {
   "cell_type": "code",
   "execution_count": 3,
   "id": "e2bba9b4-1505-4db2-a468-dabd06480ce7",
   "metadata": {},
   "outputs": [
    {
     "name": "stdout",
     "output_type": "stream",
     "text": [
      "get_agent len(tools)=8\n"
     ]
    }
   ],
   "source": [
    "x = X(SYSTEM_DESCRIPTION)"
   ]
  },
  {
   "cell_type": "code",
   "execution_count": 12,
   "id": "0572dbc5-9c40-4e94-838a-24d31a93d707",
   "metadata": {},
   "outputs": [],
   "source": [
    "x_ = MetaX(x.agent_executor.memory)"
   ]
  },
  {
   "cell_type": "code",
   "execution_count": 15,
   "id": "bd3ceae0-cb60-4a67-8acd-f4decedb7cdd",
   "metadata": {
    "scrolled": true
   },
   "outputs": [
    {
     "name": "stdout",
     "output_type": "stream",
     "text": [
      "\n",
      "\n",
      "\u001b[1m> Entering new AgentExecutor chain...\u001b[0m\n",
      "\n",
      "\n",
      "\u001b[1m> Entering new LLMChain chain...\u001b[0m\n",
      "Prompt after formatting:\n",
      "\u001b[32;1m\u001b[1;3m\n",
      "    Answer the following questions as best you can. You have access to the following tools:\n",
      "\n",
      "    - insomnia_severity_index: Use this when the conversation history is empty or human has yet to agree\n",
      "    to the Insomnia Severity Index survey.\n",
      "    - open_focus: Use this when the human has completed the Valued Living Questionnaire.\n",
      "    - leaves_on_a_stream: Use this when the human has completed the Open Focus exercise.\n",
      "    - valued_living: Use this when the human has recorded a SEEDS diary entry.\n",
      "    - diary_probe: Use this when the human has completed the Insomnia Severity Index, but has yet to agree to doing a sleep diary.\n",
      "    - diary_entry: Use this after the human has agreed to do a sleep diary.\n",
      "    - daily_routine: Use this after the human has completed at least one sleep diary entry.\n",
      "    - seeds_probe: Use this to set up a SEEDS diary after the human was shown a daily routine.\n",
      "    - seeds_entry: Use this to record a SEEDS diary entry after the human has defined their SEEDS.\n",
      "\n",
      "    The order of the tools is unimportant! Consider each tool carefully.\n",
      "\n",
      "    Use the following format:\n",
      "\n",
      "    Question: the input question you must answer\n",
      "    Thought: you should always think about what to do\n",
      "    Action: the action to take, should be one of [insomnia_severity_index, open_focus, leaves_on_a_stream, valued_living, diary_probe, diary_entry, daily_routine, seeds_probe, seeds_entry]\n",
      "    Action Input: the input to the action\n",
      "    Observation: the result of the action\n",
      "    ... (this Thought/Action/Action Input/Observation can repeat N times)\n",
      "    Thought: I now know the final answer\n",
      "    Final Answer: the final answer to the original input question\n",
      "\n",
      "    Begin!\n",
      "\n",
      "    Previous conversation history:\n",
      "    Human: hey\n",
      "AI: Hello! May I know your name, please?\n",
      "Human: Chris\n",
      "AI: Nice to meet you, Chris! How are you feeling today?\n",
      "Human: alright, a bit tired\n",
      "AI: I hear you, Chris. It's completely understandable to feel tired, especially given the demands and stresses of daily life. Would now be a good time to ask a few questions about your sleep patterns?\n",
      "Human: sure\n",
      "AI: I understand that you're feeling tired, Chris. This could be related to various factors, including your sleep quality. Would you feel comfortable discussing it further right now?\n",
      "Human: yes\n",
      "AI: Great, Chris. Let's start with the first question. On a scale from 0 to 4, with 0 being none and 4 being very severe, how would you rate your difficulty falling asleep?\n",
      "\n",
      "    New question: what's the next action?\n",
      "    \u001b[0m\n",
      "\n",
      "\u001b[1m> Finished chain.\u001b[0m\n",
      "\u001b[32;1m\u001b[1;3mThought: The human has agreed to discuss their sleep patterns, so it's time to use the Insomnia Severity Index survey.\n",
      "Action: insomnia_severity_index\n",
      "Action Input: {\"name\": \"Chris\", \"difficulty_falling_asleep\": \"unknown\"}\u001b[0m\n",
      "\n",
      "Observation:\u001b[36;1m\u001b[1;3minsomnia_severity_index\u001b[0m\n",
      "\u001b[32;1m\u001b[1;3m\u001b[0m\n",
      "\n",
      "\u001b[1m> Finished chain.\u001b[0m\n"
     ]
    },
    {
     "data": {
      "text/plain": [
       "'insomnia_severity_index'"
      ]
     },
     "execution_count": 15,
     "metadata": {},
     "output_type": "execute_result"
    }
   ],
   "source": [
    "goal = x_(); goal"
   ]
  },
  {
   "cell_type": "code",
   "execution_count": 6,
   "id": "4c97d1e9-fac6-4b46-8001-35ce8aaf268d",
   "metadata": {},
   "outputs": [
    {
     "name": "stdout",
     "output_type": "stream",
     "text": [
      "get_agent len(tools)=8\n"
     ]
    }
   ],
   "source": [
    "x = X(SYSTEM_DESCRIPTION, goals[goal])"
   ]
  },
  {
   "cell_type": "code",
   "execution_count": null,
   "id": "67946360-eeba-420d-bd49-a120644d940e",
   "metadata": {},
   "outputs": [
    {
     "name": "stdout",
     "output_type": "stream",
     "text": [
      "\n",
      "\n",
      "\u001b[1m> Entering new AgentExecutor chain...\u001b[0m\n"
     ]
    }
   ],
   "source": [
    "x(\"2\")"
   ]
  },
  {
   "cell_type": "markdown",
   "id": "c9851eec-229b-47ab-b1d1-e5492bf6ee75",
   "metadata": {},
   "source": [
    "# Goal Prediction"
   ]
  },
  {
   "cell_type": "markdown",
   "id": "4fa7326f-51ee-4d01-92d7-78c8aad744f4",
   "metadata": {
    "jp-MarkdownHeadingCollapsed": true
   },
   "source": [
    "## Using an LLM directly"
   ]
  },
  {
   "cell_type": "code",
   "execution_count": 18,
   "id": "776c4e2c-5a06-470f-a8e7-f6bebe528392",
   "metadata": {},
   "outputs": [],
   "source": [
    "from langchain.chat_models import ChatOpenAI\n",
    "from langchain.prompts import (\n",
    "    ChatPromptTemplate,\n",
    "    HumanMessagePromptTemplate,\n",
    "    MessagesPlaceholder,\n",
    "    SystemMessagePromptTemplate,\n",
    ")\n",
    "from langchain.chains import LLMChain\n",
    "from langchain.memory import ReadOnlySharedMemory"
   ]
  },
  {
   "cell_type": "code",
   "execution_count": null,
   "id": "ef4c73a9-4e95-4821-86f4-bcdb7357d497",
   "metadata": {},
   "outputs": [],
   "source": [
    "2. diary_probe Agreeing to a sleep diary is the next thing: diary_probe.\n",
    "3. diary_entry If they agreed to the sleep diary, the next priorty is to record a diary entry.\n",
    "4. open_focus After that, they should move on to the \"open focus\" exercise."
   ]
  },
  {
   "cell_type": "code",
   "execution_count": 50,
   "id": "48013808-1dd7-42b2-be66-2bbb0d726311",
   "metadata": {},
   "outputs": [],
   "source": [
    "template = \"\"\"\n",
    "You are an AI clinician helping a human with insomnia. Given the conversation below, your job is to decide what do next.\n",
    "1. insomnia_severity_index Performing the ISI comes first. If there's no mention of the ISI, it should happen next.\n",
    "If the human hasn't done this exercise, they must do it first.\n",
    "2. diary_probe If there's no mention of agreeing to do a sleep diary, it should come next.\n",
    "\n",
    "Output the appropriate label only.\n",
    "\"\"\""
   ]
  },
  {
   "cell_type": "code",
   "execution_count": 51,
   "id": "008bec3e-6f93-4c55-9db4-17cf6f8ea4fd",
   "metadata": {},
   "outputs": [],
   "source": [
    "prompt = ChatPromptTemplate(\n",
    "        messages=[\n",
    "            SystemMessagePromptTemplate.from_template(template),\n",
    "            # The `variable_name` here is what must align with memory\n",
    "            MessagesPlaceholder(variable_name=\"chat_history\"),\n",
    "            HumanMessagePromptTemplate.from_template(\"{input}\"),\n",
    "        ]\n",
    "    )"
   ]
  },
  {
   "cell_type": "code",
   "execution_count": 53,
   "id": "f9628e93-6495-4fcb-b42e-48648b7d54c5",
   "metadata": {
    "scrolled": true
   },
   "outputs": [],
   "source": [
    "llm = ChatOpenAI(model_name=\"gpt-4\")\n",
    "chain = LLMChain(llm=llm, prompt=prompt, memory=ReadOnlySharedMemory(memory=x.agent_executor.memory))"
   ]
  },
  {
   "cell_type": "code",
   "execution_count": 54,
   "id": "08e5eab3-66dc-4f7c-ba59-ef79c12b5753",
   "metadata": {
    "scrolled": true
   },
   "outputs": [
    {
     "name": "stdout",
     "output_type": "stream",
     "text": [
      "\n",
      "\n",
      "\u001b[1m> Entering new LLMChain chain...\u001b[0m\n",
      "Prompt after formatting:\n",
      "\u001b[32;1m\u001b[1;3mSystem: \n",
      "You are an AI clinician helping a human with insomnia. Given the conversation below, your job is to decide what do next.\n",
      "1. insomnia_severity_index Performing the ISI comes first. If there's no mention of the ISI, it should happen next.\n",
      "If the human hasn't done this exercise, they must do it first.\n",
      "2. diary_probe If there's no mention of agreeing to do a sleep diary, it should come next.\n",
      "\n",
      "Output the appropriate label only.\n",
      "\n",
      "Human: yep\n",
      "AI: Great! Is now a good time for you to record a sleep diary entry?\n",
      "Human: next action:\u001b[0m\n",
      "\n",
      "\u001b[1m> Finished chain.\u001b[0m\n"
     ]
    },
    {
     "data": {
      "text/plain": [
       "'diary_probe'"
      ]
     },
     "execution_count": 54,
     "metadata": {},
     "output_type": "execute_result"
    }
   ],
   "source": [
    "chain.run(\"next action:\")"
   ]
  },
  {
   "cell_type": "markdown",
   "id": "49c2ffb1-6cb5-483a-b8dd-24bf9f17cafb",
   "metadata": {
    "jp-MarkdownHeadingCollapsed": true
   },
   "source": [
    "## Using an agent"
   ]
  },
  {
   "cell_type": "code",
   "execution_count": 56,
   "id": "2c6610fe-2503-4e91-828c-e743c7cddb16",
   "metadata": {},
   "outputs": [],
   "source": [
    "def get_isi(\n",
    "    memory: ReadOnlySharedMemory, goal: str, utterance: str, model_name=model_name\n",
    ") -> str:\n",
    "    \"\"\"Use this unless the human has yet to agree to the Insomnia Severity Index.\n",
    "    \"\"\"\n",
    "    return \"insomnia_severity_index\""
   ]
  },
  {
   "cell_type": "code",
   "execution_count": 59,
   "id": "e4354c96-63c2-4e21-9f66-fead0620b2f7",
   "metadata": {},
   "outputs": [
    {
     "name": "stdout",
     "output_type": "stream",
     "text": [
      "get_agent len(tools)=1\n",
      "load_memory filename='/Users/cck197/Downloads/virtual_greg/memory.pkl'\n"
     ]
    }
   ],
   "source": [
    "x2 = X(SYSTEM_DESCRIPTION, \"Your goal is to decide what action to perform next. Output the label only.\", [get_isi])"
   ]
  },
  {
   "cell_type": "code",
   "execution_count": 60,
   "id": "4660a156-0dbe-4443-948e-a738a022cfc0",
   "metadata": {},
   "outputs": [
    {
     "name": "stdout",
     "output_type": "stream",
     "text": [
      "\n",
      "\n",
      "\u001b[1m> Entering new AgentExecutor chain...\u001b[0m\n",
      "\u001b[32;1m\u001b[1;3mfunctions.get_isi\u001b[0m\n",
      "\n",
      "\u001b[1m> Finished chain.\u001b[0m\n",
      "functions.get_isi\n"
     ]
    },
    {
     "data": {
      "text/plain": [
       "False"
      ]
     },
     "execution_count": 60,
     "metadata": {},
     "output_type": "execute_result"
    }
   ],
   "source": [
    "x2(\"next action:\")"
   ]
  },
  {
   "cell_type": "markdown",
   "id": "40e94c74-bc12-4cbb-965b-e0f5c52bd4b5",
   "metadata": {
    "jp-MarkdownHeadingCollapsed": true
   },
   "source": [
    "## Custom Agent"
   ]
  },
  {
   "cell_type": "code",
   "execution_count": 4,
   "id": "8de580f8-a00a-4c9a-9823-4fc0501fbd07",
   "metadata": {},
   "outputs": [],
   "source": [
    "from langchain.agents import Tool, AgentExecutor, LLMSingleActionAgent, AgentOutputParser\n",
    "from langchain.prompts import StringPromptTemplate\n",
    "from langchain.llms import OpenAI\n",
    "from langchain.chat_models import ChatOpenAI\n",
    "from langchain.utilities import GoogleSearchAPIWrapper\n",
    "from langchain.chains import LLMChain\n",
    "from typing import List, Union\n",
    "from langchain.schema import AgentAction, AgentFinish, OutputParserException\n",
    "from langchain.agents import tool\n",
    "from langchain.memory import ReadOnlySharedMemory\n",
    "import re"
   ]
  },
  {
   "cell_type": "code",
   "execution_count": 5,
   "id": "00a79239-4a7f-403c-b993-12fe5fc00231",
   "metadata": {},
   "outputs": [
    {
     "data": {
      "text/plain": [
       "dict_keys(['insomnia_severity_index', 'diary_probe', 'diary_entry', 'open_focus', 'leaves_on_a_stream', 'valued_living', 'test', 'seeds_probe', 'seeds_entry', 'knowledge', 'daily_routine'])"
      ]
     },
     "execution_count": 5,
     "metadata": {},
     "output_type": "execute_result"
    }
   ],
   "source": [
    "goals.keys()"
   ]
  },
  {
   "cell_type": "code",
   "execution_count": 20,
   "id": "98136394-e4c9-4790-9f52-e0452f0d2f9e",
   "metadata": {},
   "outputs": [],
   "source": [
    "def insomnia_severity_index(word: str) -> str:\n",
    "    \"\"\"Use this when the human has yet to agree to the Insomnia Severity Index survey.\"\"\"\n",
    "    return \"insomnia_severity_index\"\n",
    "\n",
    "def open_focus(word: str) -> str:\n",
    "    \"\"\"Use this when the human has completed the Valued Living Questionnaire.\"\"\"\n",
    "    return \"open_focus\"\n",
    "\n",
    "def leaves_on_a_stream(word: str) -> str:\n",
    "    \"\"\"Use this when the human has completed the Open Focus exercise.\"\"\"\n",
    "    return \"leaves_on_a_stream\"\n",
    "\n",
    "def valued_living(word: str) -> str:\n",
    "    \"\"\"Use this when the human has recorded a SEEDS diary entry.\"\"\"\n",
    "    return \"valued_living\"\n",
    "\n",
    "def diary_probe(word: str) -> str:\n",
    "    \"\"\"Use this when the human has completed the Insomnia Severity Index, but has yet to agree to doing a sleep diary.\"\"\"\n",
    "    return \"diary_probe\"\n",
    "\n",
    "def diary_entry(word: str) -> str:\n",
    "    \"\"\"Use this after the human has agreed to do a sleep diary.\"\"\"\n",
    "    return \"diary_entry\"\n",
    "\n",
    "def daily_routine(word: str) -> str:\n",
    "    \"\"\"Use this after the human has completed at least one sleep diary entry.\"\"\"\n",
    "    return \"daily_routine\"\n",
    "\n",
    "def seeds_probe(word: str) -> str:\n",
    "    \"\"\"Use this to set up a SEEDS diary after the human was shown a daily routine.\"\"\"\n",
    "    return \"seeds_probe\"\n",
    "\n",
    "def seeds_entry(word: str) -> str:\n",
    "    \"\"\"Use this to record a SEEDS diary entry after the human has defined their SEEDS.\"\"\"\n",
    "    return \"seeds_entry\"\n",
    "\n",
    "tools = [Tool(name=t.__name__, func=t, description=t.__doc__, return_direct=True) for t in [\n",
    "    insomnia_severity_index, open_focus, leaves_on_a_stream, valued_living, \n",
    "    diary_probe, diary_entry, daily_routine, seeds_probe, seeds_entry,]]"
   ]
  },
  {
   "cell_type": "code",
   "execution_count": 21,
   "id": "4f78aa35-10c8-4d86-857f-6703748fc541",
   "metadata": {},
   "outputs": [],
   "source": [
    "import random\n",
    "random.shuffle(tools)"
   ]
  },
  {
   "cell_type": "code",
   "execution_count": 119,
   "id": "ea688148-2331-4a47-b3f7-06cd7c11ceac",
   "metadata": {
    "jupyter": {
     "source_hidden": true
    }
   },
   "outputs": [],
   "source": [
    "# Define which tools the agent can use to answer user queries\n",
    "#search = GoogleSearchAPIWrapper()\n",
    "tools = [\n",
    "    #Tool(\n",
    "    #    name=\"Search\",\n",
    "    #    func=search.run,\n",
    "    #    description=\"Useful for when you need to answer questions about current events\",\n",
    "    #),\n",
    "    Tool(\n",
    "        name=\"get_isi\",\n",
    "        func=get_isi,\n",
    "        description=get_isi.__doc__,\n",
    "        return_direct=True\n",
    "    ),\n",
    "    Tool(\n",
    "        name=\"get_open_focus\",\n",
    "        func=get_open_focus,\n",
    "        description=get_isi.__doc__,\n",
    "        return_direct=True\n",
    "    ),\n",
    "]"
   ]
  },
  {
   "cell_type": "code",
   "execution_count": 18,
   "id": "e66ab5b2-4fc6-4c32-93ba-9af0e6fc18d4",
   "metadata": {
    "jupyter": {
     "source_hidden": true
    }
   },
   "outputs": [],
   "source": [
    "# Set up the base template\n",
    "template = \"\"\"Answer the following questions as best you can, but speaking as a pirate might speak. You have access to the following tools:\n",
    "\n",
    "{tools}\n",
    "\n",
    "Use the following format:\n",
    "\n",
    "Question: the input question you must answer\n",
    "Thought: you should always think about what to do\n",
    "Action: the action to take, should be one of [{tool_names}]\n",
    "Action Input: the input to the action\n",
    "Observation: the result of the action\n",
    "... (this Thought/Action/Action Input/Observation can repeat N times)\n",
    "Thought: I now know the final answer\n",
    "Final Answer: the final answer to the original input question\n",
    "\n",
    "Begin! Remember to speak as a pirate when giving your final answer. Use lots of \"Arg\"s\n",
    "\n",
    "Question: {input}\n",
    "{agent_scratchpad}\"\"\""
   ]
  },
  {
   "cell_type": "code",
   "execution_count": 19,
   "id": "afd47073-006d-4f61-bbd4-bcf57ef38c44",
   "metadata": {
    "jupyter": {
     "source_hidden": true
    }
   },
   "outputs": [],
   "source": [
    "# Set up the base template\n",
    "template_with_history = \"\"\"Answer the following questions as best you can, but speaking as a pirate might speak. You have access to the following tools:\n",
    "\n",
    "{tools}\n",
    "\n",
    "Use the following format:\n",
    "\n",
    "Question: the input question you must answer\n",
    "Thought: you should always think about what to do\n",
    "Action: the action to take, should be one of [{tool_names}]\n",
    "Action Input: the input to the action\n",
    "Observation: the result of the action\n",
    "... (this Thought/Action/Action Input/Observation can repeat N times)\n",
    "Thought: I now know the final answer\n",
    "Final Answer: the final answer to the original input question\n",
    "\n",
    "Begin! Remember to speak as a pirate when giving your final answer. Use lots of \"Arg\"s\n",
    "\n",
    "Previous conversation history:\n",
    "{history}\n",
    "\n",
    "New question: {input}\n",
    "{agent_scratchpad}\"\"\""
   ]
  },
  {
   "cell_type": "code",
   "execution_count": 22,
   "id": "80bfbd74-7833-4071-ac84-0447f3ea6fbb",
   "metadata": {},
   "outputs": [],
   "source": [
    "# Set up the base template\n",
    "template_with_history = \"\"\"Answer the following questions as best you can. You have access to the following tools:\n",
    "\n",
    "{tools}\n",
    "\n",
    "The order of the tools is unimportant! Consider each tool carefully.\n",
    "\n",
    "Use the following format:\n",
    "\n",
    "Question: the input question you must answer\n",
    "Thought: you should always think about what to do\n",
    "Action: the action to take, should be one of [{tool_names}]\n",
    "Action Input: the input to the action\n",
    "Observation: the result of the action\n",
    "... (this Thought/Action/Action Input/Observation can repeat N times)\n",
    "Thought: I now know the final answer\n",
    "Final Answer: the final answer to the original input question\n",
    "\n",
    "Begin!\n",
    "\n",
    "Previous conversation history:\n",
    "{chat_history}\n",
    "\n",
    "New question: {input}\n",
    "{agent_scratchpad}\"\"\""
   ]
  },
  {
   "cell_type": "code",
   "execution_count": 11,
   "id": "7201aedc-0d46-4984-bea9-bed306fc9f70",
   "metadata": {},
   "outputs": [],
   "source": [
    "# Set up a prompt template\n",
    "class CustomPromptTemplate(StringPromptTemplate):\n",
    "    # The template to use\n",
    "    template: str\n",
    "    # The list of tools available\n",
    "    tools: List[Tool]\n",
    "\n",
    "    def format(self, **kwargs) -> str:\n",
    "        # Get the intermediate steps (AgentAction, Observation tuples)\n",
    "        # Format them in a particular way\n",
    "        intermediate_steps = kwargs.pop(\"intermediate_steps\")\n",
    "        thoughts = \"\"\n",
    "        for action, observation in intermediate_steps:\n",
    "            thoughts += action.log\n",
    "            thoughts += f\"\\nObservation: {observation}\\nThought: \"\n",
    "        # Set the agent_scratchpad variable to that value\n",
    "        kwargs[\"agent_scratchpad\"] = thoughts\n",
    "        # Create a tools variable from the list of tools provided\n",
    "        kwargs[\"tools\"] = \"\\n\".join([f\"{tool.name}: {tool.description}\" for tool in self.tools])\n",
    "        # Create a list of tool names for the tools provided\n",
    "        kwargs[\"tool_names\"] = \", \".join([tool.name for tool in self.tools])\n",
    "        return self.template.format(**kwargs)"
   ]
  },
  {
   "cell_type": "code",
   "execution_count": 10,
   "id": "0ab3664b-6b8f-4bc8-9c08-32e78d8f7470",
   "metadata": {
    "collapsed": true,
    "jupyter": {
     "outputs_hidden": true,
     "source_hidden": true
    },
    "scrolled": true
   },
   "outputs": [
    {
     "ename": "NameError",
     "evalue": "name 'CustomPromptTemplate' is not defined",
     "output_type": "error",
     "traceback": [
      "\u001b[0;31m---------------------------------------------------------------------------\u001b[0m",
      "\u001b[0;31mNameError\u001b[0m                                 Traceback (most recent call last)",
      "Cell \u001b[0;32mIn[10], line 1\u001b[0m\n\u001b[0;32m----> 1\u001b[0m prompt \u001b[38;5;241m=\u001b[39m \u001b[43mCustomPromptTemplate\u001b[49m(\n\u001b[1;32m      2\u001b[0m     template\u001b[38;5;241m=\u001b[39mtemplate,\n\u001b[1;32m      3\u001b[0m     tools\u001b[38;5;241m=\u001b[39mtools,\n\u001b[1;32m      4\u001b[0m     \u001b[38;5;66;03m# This omits the `agent_scratchpad`, `tools`, and `tool_names` variables because those are generated dynamically\u001b[39;00m\n\u001b[1;32m      5\u001b[0m     \u001b[38;5;66;03m# This includes the `intermediate_steps` variable because that is needed\u001b[39;00m\n\u001b[1;32m      6\u001b[0m     input_variables\u001b[38;5;241m=\u001b[39m[\u001b[38;5;124m\"\u001b[39m\u001b[38;5;124minput\u001b[39m\u001b[38;5;124m\"\u001b[39m, \u001b[38;5;124m\"\u001b[39m\u001b[38;5;124mintermediate_steps\u001b[39m\u001b[38;5;124m\"\u001b[39m]\n\u001b[1;32m      7\u001b[0m )\n",
      "\u001b[0;31mNameError\u001b[0m: name 'CustomPromptTemplate' is not defined"
     ]
    }
   ],
   "source": [
    "prompt = CustomPromptTemplate(\n",
    "    template=template,\n",
    "    tools=tools,\n",
    "    # This omits the `agent_scratchpad`, `tools`, and `tool_names` variables because those are generated dynamically\n",
    "    # This includes the `intermediate_steps` variable because that is needed\n",
    "    input_variables=[\"input\", \"intermediate_steps\"]\n",
    ")"
   ]
  },
  {
   "cell_type": "code",
   "execution_count": 23,
   "id": "98176323-6891-49b8-9d3b-72bb84c20abe",
   "metadata": {},
   "outputs": [],
   "source": [
    "prompt_with_history = CustomPromptTemplate(\n",
    "    template=template_with_history,\n",
    "    tools=tools,\n",
    "    # This omits the `agent_scratchpad`, `tools`, and `tool_names` variables because those are generated dynamically\n",
    "    # This includes the `intermediate_steps` variable because that is needed\n",
    "    input_variables=[\"input\", \"intermediate_steps\", \"chat_history\"]\n",
    ")"
   ]
  },
  {
   "cell_type": "code",
   "execution_count": 14,
   "id": "1b0e5dc2-c3dc-4e7e-afec-73f6f8456b75",
   "metadata": {},
   "outputs": [],
   "source": [
    "class CustomOutputParser(AgentOutputParser):\n",
    "\n",
    "    def parse(self, llm_output: str) -> Union[AgentAction, AgentFinish]:\n",
    "        # Check if agent should finish\n",
    "        if \"Final Answer:\" in llm_output:\n",
    "            return AgentFinish(\n",
    "                # Return values is generally always a dictionary with a single `output` key\n",
    "                # It is not recommended to try anything else at the moment :)\n",
    "                return_values={\"output\": llm_output.split(\"Final Answer:\")[-1].strip()},\n",
    "                log=llm_output,\n",
    "            )\n",
    "        # Parse out the action and action input\n",
    "        regex = r\"Action\\s*\\d*\\s*:(.*?)\\nAction\\s*\\d*\\s*Input\\s*\\d*\\s*:[\\s]*(.*)\"\n",
    "        match = re.search(regex, llm_output, re.DOTALL)\n",
    "        if not match:\n",
    "            raise OutputParserException(f\"Could not parse LLM output: `{llm_output}`\")\n",
    "        action = match.group(1).strip()\n",
    "        action_input = match.group(2)\n",
    "        # Return the action and action input\n",
    "        return AgentAction(tool=action, tool_input=action_input.strip(\" \").strip('\"'), log=llm_output)"
   ]
  },
  {
   "cell_type": "code",
   "execution_count": 24,
   "id": "2761abab-33af-4bd5-aa47-eb5791faf076",
   "metadata": {},
   "outputs": [],
   "source": [
    "output_parser = CustomOutputParser()"
   ]
  },
  {
   "cell_type": "code",
   "execution_count": 175,
   "id": "320e6754-715d-4311-a2f2-7862f00d92ae",
   "metadata": {
    "jupyter": {
     "source_hidden": true
    }
   },
   "outputs": [],
   "source": [
    "llm = OpenAI(temperature=0)"
   ]
  },
  {
   "cell_type": "code",
   "execution_count": 14,
   "id": "c86f0063-4ce9-47dc-bb05-1d0e09ee2cf5",
   "metadata": {
    "jupyter": {
     "source_hidden": true
    }
   },
   "outputs": [],
   "source": [
    "# LLM chain consisting of the LLM and a prompt\n",
    "llm_chain = LLMChain(llm=llm, prompt=prompt)"
   ]
  },
  {
   "cell_type": "code",
   "execution_count": 25,
   "id": "64dcfcef-28f0-49fc-85b1-a1a28bdc901e",
   "metadata": {},
   "outputs": [],
   "source": [
    "llm_chain = LLMChain(llm=ChatOpenAI(temperature=0, model_name=\"gpt-4-0613\"), prompt=prompt_with_history)"
   ]
  },
  {
   "cell_type": "code",
   "execution_count": 26,
   "id": "803c755f-43c6-4ac6-bba5-d147ee528a6d",
   "metadata": {},
   "outputs": [],
   "source": [
    "tool_names = [tool.name for tool in tools]\n",
    "agent = LLMSingleActionAgent(\n",
    "    llm_chain=llm_chain,\n",
    "    output_parser=output_parser,\n",
    "    stop=[\"\\nObservation:\"],\n",
    "    allowed_tools=tool_names\n",
    ")"
   ]
  },
  {
   "cell_type": "code",
   "execution_count": 42,
   "id": "081b6f0b-e808-44b3-97c0-dcbf02e00b28",
   "metadata": {
    "jupyter": {
     "source_hidden": true
    }
   },
   "outputs": [],
   "source": [
    "from langchain.memory import ConversationBufferWindowMemory"
   ]
  },
  {
   "cell_type": "code",
   "execution_count": 43,
   "id": "99e92c72-848b-4be9-93f4-c2d611441aa4",
   "metadata": {
    "jupyter": {
     "source_hidden": true
    }
   },
   "outputs": [],
   "source": [
    "memory=ConversationBufferWindowMemory(k=2)"
   ]
  },
  {
   "cell_type": "code",
   "execution_count": 102,
   "id": "b0f66a99-ed44-403f-9e1c-db942aa6c33d",
   "metadata": {
    "jupyter": {
     "source_hidden": true
    }
   },
   "outputs": [],
   "source": [
    "agent_executor = AgentExecutor.from_agent_and_tools(agent=agent, tools=tools, verbose=True)"
   ]
  },
  {
   "cell_type": "code",
   "execution_count": 27,
   "id": "82026243-0e86-482a-96ad-8cb799d327a5",
   "metadata": {},
   "outputs": [],
   "source": [
    "agent_executor = AgentExecutor.from_agent_and_tools(agent=agent, tools=tools, verbose=True, \n",
    "                                                    memory=ReadOnlySharedMemory(memory=x.agent_executor.memory))"
   ]
  },
  {
   "cell_type": "code",
   "execution_count": 26,
   "id": "594a7ace-0985-40f1-9c9c-10a78dccb6b5",
   "metadata": {
    "collapsed": true,
    "jupyter": {
     "outputs_hidden": true,
     "source_hidden": true
    }
   },
   "outputs": [
    {
     "name": "stdout",
     "output_type": "stream",
     "text": [
      "\n",
      "\n",
      "\u001b[1m> Entering new AgentExecutor chain...\u001b[0m\n",
      "\n",
      "\n",
      "\u001b[1m> Entering new LLMChain chain...\u001b[0m\n",
      "Prompt after formatting:\n",
      "\u001b[32;1m\u001b[1;3mAnswer the following questions as best you can, but speaking as a pirate might speak. You have access to the following tools:\n",
      "\n",
      "Search: Useful for when you need to answer questions about current events\n",
      "\n",
      "Use the following format:\n",
      "\n",
      "Question: the input question you must answer\n",
      "Thought: you should always think about what to do\n",
      "Action: the action to take, should be one of [Search]\n",
      "Action Input: the input to the action\n",
      "Observation: the result of the action\n",
      "... (this Thought/Action/Action Input/Observation can repeat N times)\n",
      "Thought: I now know the final answer\n",
      "Final Answer: the final answer to the original input question\n",
      "\n",
      "Begin! Remember to speak as a pirate when giving your final answer. Use lots of \"Arg\"s\n",
      "\n",
      "Previous conversation history:\n",
      "\n",
      "\n",
      "New question: How many people live in canada as of 2023?\n",
      "\u001b[0m\n",
      "\n",
      "\u001b[1m> Finished chain.\u001b[0m\n",
      "\u001b[32;1m\u001b[1;3mThought: I need to find out the population of Canada in 2023\n",
      "Action: Search\n",
      "Action Input: Population of Canada in 2023\u001b[0m\n",
      "\n",
      "Observation:\u001b[36;1m\u001b[1;3mThe current population of Canada is 38,870,167 as of Monday, October 9, 2023, based on Worldometer elaboration of the latest United Nations data 1. · Canada 2023 ... Mar 22, 2023 ... Canada's population was estimated at 39,566,248 on January 1, 2023, after a record population growth of 1,050,110 people from January 1, 2022, ... Jun 19, 2023 ... As of June 16, 2023, there are now 40 million Canadians! This is a historic milestone for Canada and certainly cause for celebration. It is also ... Jun 28, 2023 ... Statistics Canada recently announced that Canada's population passed the 40 million mark on June 16, 2023, according to Canada's population ... Index to the latest information from the Census of Population. This survey conducted by Statistics Canada provides a statistical portrait of Canada and its ... Jul 20, 2023 ... During the 1960's, aerial surveys identified the Ungava Peninsula in northern Québec as the primary nesting area for Atlantic flyway Canada ... Canada ranks 37th by population among countries of the world, comprising about 0.5% of the world's total, with almost 40.0 million Canadians as of 2023. Jul 1, 2023 ... The U.S. Census Bureau's International Database estimates the July 1, 2023, population of Canada at 38.5M (4.2 people per sq. km) and the ... 40,097,761 (2023 Q3 est.) Growth rate, 0.85% (2022 est.) Birth rate, 10.17 births/1,000 population (2022 est.) Death ... ... Population in Canada. Clin Infect Dis. 2023 Feb 8;76(3):e702-e709. ... Canada. 2 McGill University Health Center-Research Institute, Centre for Outcomes ...\u001b[0m\n",
      "\n",
      "\n",
      "\u001b[1m> Entering new LLMChain chain...\u001b[0m\n",
      "Prompt after formatting:\n",
      "\u001b[32;1m\u001b[1;3mAnswer the following questions as best you can, but speaking as a pirate might speak. You have access to the following tools:\n",
      "\n",
      "Search: Useful for when you need to answer questions about current events\n",
      "\n",
      "Use the following format:\n",
      "\n",
      "Question: the input question you must answer\n",
      "Thought: you should always think about what to do\n",
      "Action: the action to take, should be one of [Search]\n",
      "Action Input: the input to the action\n",
      "Observation: the result of the action\n",
      "... (this Thought/Action/Action Input/Observation can repeat N times)\n",
      "Thought: I now know the final answer\n",
      "Final Answer: the final answer to the original input question\n",
      "\n",
      "Begin! Remember to speak as a pirate when giving your final answer. Use lots of \"Arg\"s\n",
      "\n",
      "Previous conversation history:\n",
      "\n",
      "\n",
      "New question: How many people live in canada as of 2023?\n",
      "Thought: I need to find out the population of Canada in 2023\n",
      "Action: Search\n",
      "Action Input: Population of Canada in 2023\n",
      "Observation: The current population of Canada is 38,870,167 as of Monday, October 9, 2023, based on Worldometer elaboration of the latest United Nations data 1. · Canada 2023 ... Mar 22, 2023 ... Canada's population was estimated at 39,566,248 on January 1, 2023, after a record population growth of 1,050,110 people from January 1, 2022, ... Jun 19, 2023 ... As of June 16, 2023, there are now 40 million Canadians! This is a historic milestone for Canada and certainly cause for celebration. It is also ... Jun 28, 2023 ... Statistics Canada recently announced that Canada's population passed the 40 million mark on June 16, 2023, according to Canada's population ... Index to the latest information from the Census of Population. This survey conducted by Statistics Canada provides a statistical portrait of Canada and its ... Jul 20, 2023 ... During the 1960's, aerial surveys identified the Ungava Peninsula in northern Québec as the primary nesting area for Atlantic flyway Canada ... Canada ranks 37th by population among countries of the world, comprising about 0.5% of the world's total, with almost 40.0 million Canadians as of 2023. Jul 1, 2023 ... The U.S. Census Bureau's International Database estimates the July 1, 2023, population of Canada at 38.5M (4.2 people per sq. km) and the ... 40,097,761 (2023 Q3 est.) Growth rate, 0.85% (2022 est.) Birth rate, 10.17 births/1,000 population (2022 est.) Death ... ... Population in Canada. Clin Infect Dis. 2023 Feb 8;76(3):e702-e709. ... Canada. 2 McGill University Health Center-Research Institute, Centre for Outcomes ...\n",
      "Thought: \u001b[0m\n",
      "\n",
      "\u001b[1m> Finished chain.\u001b[0m\n",
      "\u001b[32;1m\u001b[1;3m I now know the final answer\n",
      "Final Answer: Arrr, Canada be havin' 40 million people in 2023!\u001b[0m\n",
      "\n",
      "\u001b[1m> Finished chain.\u001b[0m\n"
     ]
    },
    {
     "data": {
      "text/plain": [
       "\"Arrr, Canada be havin' 40 million people in 2023!\""
      ]
     },
     "execution_count": 26,
     "metadata": {},
     "output_type": "execute_result"
    }
   ],
   "source": [
    "agent_executor.run(\"How many people live in canada as of 2023?\")"
   ]
  },
  {
   "cell_type": "code",
   "execution_count": 28,
   "id": "1d655ac1-2686-4cfe-a205-df15bf320075",
   "metadata": {},
   "outputs": [
    {
     "name": "stdout",
     "output_type": "stream",
     "text": [
      "\n",
      "\n",
      "\u001b[1m> Entering new AgentExecutor chain...\u001b[0m\n",
      "\n",
      "\n",
      "\u001b[1m> Entering new LLMChain chain...\u001b[0m\n",
      "Prompt after formatting:\n",
      "\u001b[32;1m\u001b[1;3mAnswer the following questions as best you can. You have access to the following tools:\n",
      "\n",
      "diary_entry: Use this after the human has agreed to do a sleep diary.\n",
      "leaves_on_a_stream: Use this when the human has completed the Open Focus exercise.\n",
      "seeds_entry: Use this to record a SEEDS diary entry after the human has defined their SEEDS.\n",
      "insomnia_severity_index: Use this when the human has yet to agree to the Insomnia Severity Index survey.\n",
      "valued_living: Use this when the human has recorded a SEEDS diary entry.\n",
      "daily_routine: Use this after the human has completed at least one sleep diary entry.\n",
      "open_focus: Use this when the human has completed the Valued Living Questionnaire.\n",
      "diary_probe: Use this when the human has completed the Insomnia Severity Index, but has yet to agree to doing a sleep diary.\n",
      "seeds_probe: Use this to set up a SEEDS diary after the human was shown a daily routine.\n",
      "\n",
      "The order of the tools is unimportant! Consider each tool carefully.\n",
      "\n",
      "Use the following format:\n",
      "\n",
      "Question: the input question you must answer\n",
      "Thought: you should always think about what to do\n",
      "Action: the action to take, should be one of [diary_entry, leaves_on_a_stream, seeds_entry, insomnia_severity_index, valued_living, daily_routine, open_focus, diary_probe, seeds_probe]\n",
      "Action Input: the input to the action\n",
      "Observation: the result of the action\n",
      "... (this Thought/Action/Action Input/Observation can repeat N times)\n",
      "Thought: I now know the final answer\n",
      "Final Answer: the final answer to the original input question\n",
      "\n",
      "Begin!\n",
      "\n",
      "Previous conversation history:\n",
      "[HumanMessage(content='yep'), AIMessage(content='Great! Is now a good time for you to record a sleep diary entry?'), HumanMessage(content='next action:'), AIMessage(content=\"Sure, let's proceed with the next action. Would you like to discuss your sleep patterns or do you have any specific concerns about your sleep that you would like to address?\"), HumanMessage(content='next action:'), AIMessage(content='functions.get_isi'), HumanMessage(content='hi'), AIMessage(content='Hello! May I have your name, please?'), HumanMessage(content='Chris'), AIMessage(content='Hello, Chris! How are you feeling today? Are you ready to proceed with the Insomnia Severity Index questionnaire?'), HumanMessage(content='good, sure'), AIMessage(content=\"Great, Chris! Let's start with the first question.\\n\\n1. On a scale from 0 to 4, how would you rate your difficulty in falling asleep? Here's what each number represents:\\n\\n0: None\\n1: Mild\\n2: Moderate\\n3: Severe\\n4: Very severe\"), HumanMessage(content='2'), AIMessage(content=\"Thank you for your response, Chris. \\n\\nNow, let's move on to the second question.\\n\\n2. On a scale from 0 to 4, how would you rate your difficulty in staying asleep? Here's what each number represents:\\n\\n0: None\\n1: Mild\\n2: Moderate\\n3: Severe\\n4: Very severe\"), HumanMessage(content='2'), AIMessage(content=\"Thank you, Chris. \\n\\nLet's proceed to the third question.\\n\\n3. On a scale from 0 to 4, how would you rate your problems with waking up too early? Here's what each number represents:\\n\\n0: None\\n1: Mild\\n2: Moderate\\n3: Severe\\n4: Very severe\"), HumanMessage(content='2'), AIMessage(content=\"Thank you for your response, Chris.\\n\\nNow, let's move on to the fourth question.\\n\\n4. On a scale from 0 to 4, how satisfied or dissatisfied are you with your current sleep pattern? Here's what each number represents:\\n\\n0: Very satisfied\\n1: Satisfied\\n2: Moderately satisfied\\n3: Dissatisfied\\n4: Very dissatisfied\"), HumanMessage(content='2'), AIMessage(content=\"Thank you, Chris.\\n\\nLet's proceed to the fifth question.\\n\\n5. On a scale from 0 to 4, how noticeable to others do you think your sleep problem is in terms of impairing the quality of your life? Here's what each number represents:\\n\\n0: Not at all\\n1: A little bit\\n2: Moderately\\n3: Quite a bit\\n4: Very much\"), HumanMessage(content='2'), AIMessage(content=\"Thank you for your response, Chris.\\n\\nNow, let's move on to the sixth question.\\n\\n6. On a scale from 0 to 4, how worried or distressed are you about your current sleep problem? Here's what each number represents:\\n\\n0: Not at all\\n1: A little bit\\n2: Moderately\\n3: Quite a bit\\n4: Very much\"), HumanMessage(content='2'), AIMessage(content=\"Thank you, Chris.\\n\\nFinally, let's move on to the seventh question.\\n\\n7. To what extent do you consider your sleep problem to interfere with your daily functioning (e.g., daytime fatigue, ability to function at work/daily chores, concentration, memory, mood, etc.)? Please rate on a scale from 0 to 4, where:\\n\\n0: Not at all\\n1: A little bit\\n2: Moderately\\n3: Quite a bit\\n4: Very much\"), HumanMessage(content='2'), AIMessage(content=\"Thank you for your responses, Chris. \\n\\nHere's a summary of your responses:\\n\\n1. Difficulty falling asleep: 2 (Moderate)\\n2. Difficulty staying asleep: 2 (Moderate)\\n3. Problems waking up too early: 2 (Moderate)\\n4. Satisfaction with current sleep pattern: 2 (Moderately satisfied)\\n5. Noticeability of sleep problem: 2 (Moderately)\\n6. Distress about sleep problem: 2 (Moderately)\\n7. Interference of sleep problem with daily functioning: 2 (Moderately)\\n\\nIs this summary correct?\"), HumanMessage(content='yep'), AIMessage(content=\"Great, thank you for confirming, Chris. \\n\\nAdding up your scores, your total Insomnia Severity Index (ISI) score is 14. \\n\\nThis score falls within the range of 8-14, which is classified as 'Subthreshold Insomnia'. This means that while you may be experiencing some symptoms of insomnia, they are not severe or frequent enough to be classified as clinical insomnia. \\n\\nHowever, if you're finding these symptoms bothersome or they're affecting your quality of life, it may be beneficial to discuss them with a healthcare provider. They can provide further evaluation and discuss potential treatment options with you. \\n\\nPlease remember that this tool is not a substitute for professional medical advice.\"), HumanMessage(content='hi'), AIMessage(content=\"Hello again, Chris. I'm glad to hear that you're ready to continue. I am curious about your sleep habits. Have you ever kept a sleep diary before?\"), HumanMessage(content='no'), AIMessage(content='I see. Keeping a sleep diary can be a helpful tool in understanding your sleep patterns and identifying areas that may need improvement. Would you like me to assist you in starting and maintaining a sleep diary?'), HumanMessage(content='sure'), AIMessage(content=\"Great! I'm glad to hear that you're open to trying a sleep diary. It can be a very useful tool in understanding your sleep patterns and identifying areas for improvement. I'll be here to help you along the way. 🚀🚀🚀\"), HumanMessage(content='hey'), AIMessage(content='Good to see you, Chris! How are you feeling today? Are you ready to start recording your sleep diary entry?'), HumanMessage(content='sure'), AIMessage(content=\"Fantastic, Chris! Let's start with the first question. \\n\\nCould you please tell me the date of the night you're recording?\"), HumanMessage(content='Oct 8'), AIMessage(content='Thank you, Chris. Now, how would you rate your sleep quality for the night of October 8th? Would you say it was \"very good\", \"good\", \"okay\", \"bad\", or \"very bad\"?'), HumanMessage(content='very good'), AIMessage(content=\"That's great to hear, Chris! \\n\\nNow, could you please tell me what time you went to bed on the night of October 8th?\"), HumanMessage(content='9 pm'), AIMessage(content='Thank you, Chris. \\n\\nAnd at what time did you try to fall asleep?'), HumanMessage(content='9 pm'), AIMessage(content='Thank you for that information, Chris. \\n\\nCould you please tell me how long it took you to fall asleep after you tried to fall asleep at 9 pm?'), HumanMessage(content='5 mins'), AIMessage(content=\"That's quite quick, Chris. \\n\\nCould you please tell me how many times you woke up during the night?\"), HumanMessage(content='none'), AIMessage(content=\"That's great, Chris. \\n\\nCould you please tell me the total time you were awake during the night, if at all?\"), HumanMessage(content='none'), AIMessage(content=\"That's excellent, Chris. \\n\\nCould you please tell me what time you woke up in the morning?\"), HumanMessage(content='7 am'), AIMessage(content='Thank you, Chris. \\n\\nAnd what time did you get out of bed?'), HumanMessage(content='7 am'), AIMessage(content='Thank you, Chris. \\n\\nDid you use any medications or aids to help you sleep on the night of October 8th?'), HumanMessage(content='nope'), AIMessage(content=\"Thank you for sharing that, Chris. \\n\\nFinally, are there any other notes or observations about your sleep on the night of October 8th that you'd like to add?\"), HumanMessage(content='nope'), AIMessage(content=\"Alright, Chris. Here's a summary of your sleep diary entry for the night of October 8th:\\n\\n1. Sleep quality: Very good\\n2. Bedtime: 9 pm\\n3. Time you tried to fall asleep: 9 pm\\n4. Time it took to fall asleep: 5 minutes\\n5. Number of awakenings: None\\n6. Total awake time during the night: None\\n7. Final wake up time: 7 am\\n8. Time you got out of bed: 7 am\\n9. Sleep aids used: None\\n10. Additional notes: None\\n\\nThis gives us a total sleep time of approximately 10 hours. Given that you were in bed for 10 hours and 5 minutes, your sleep efficiency for the night was about 99.2%. Anything over 85% is considered normal, so this is a fantastic result!\\n\\nDoes this summary accurately reflect your sleep on the night of October 8th?\"), HumanMessage(content='yep'), AIMessage(content=\"Great! I'm glad to hear that the summary is accurate. Remember, keeping a regular sleep diary can help you understand your sleep patterns and make improvements where necessary. Don't hesitate to reach out if you have any questions or need further assistance. Sleep well, Chris! 🚀🚀🚀\"), HumanMessage(content='hi'), AIMessage(content=\"Hello again, Chris! How are you feeling today? I'd like to introduce you to an exercise called SEEDS. It's a way to help us focus on the small but significant behaviours that contribute to good health. Are you ready to learn more about it?\"), HumanMessage(content='sure'), AIMessage(content=\"Great! The SEEDS exercise is based on the five pillars of good health: Sleep, Exercise, Eating, Drinking, and Stress management. The idea is to identify small, achievable behaviors that contribute to each of these pillars. \\n\\nFor example, for Sleep, you might decide to be in bed by 9.30 pm. For Exercise, you could choose to walk outside for 10 minutes before 9:30 am. For Eating, you might decide to eat one meal with chopsticks to slow down your eating. For Drinking, you could choose to drink fizzy water from 6-8 pm if you have cravings for alcohol. And for Stress management, you might decide to write down three tiny things you've been grateful for each day.\\n\\nThe goal is to come up with three small behaviors for each pillar, for a total of 15. If that sounds like a lot, you can prioritize them and start with the most important ones. \\n\\nDoes that make sense so far?\"), HumanMessage(content='sure'), AIMessage(content=\"Fantastic, Chris! Let's start with the first pillar: Sleep. Can you think of three small, achievable behaviors that could contribute to improving your sleep? Remember, these should be things that you feel confident you can do consistently.\"), HumanMessage(content='pick three for me'), AIMessage(content='Of course, Chris. Here are three suggestions for the Sleep pillar:\\n\\n1. Be in bed by 10 pm.\\n2. Turn off electronic devices at least 30 minutes before bedtime.\\n3. Establish a relaxing pre-sleep routine, such as reading a book or taking a warm bath.\\n\\nHow do these sound to you?'), HumanMessage(content='sure'), AIMessage(content=\"Great! Now let's move on to the second pillar: Exercise. Can you think of three small, achievable behaviors that could contribute to your physical activity? If you'd like, I can suggest some for you.\"), HumanMessage(content='pick three for me'), AIMessage(content='Absolutely, Chris. Here are three suggestions for the Exercise pillar:\\n\\n1. Take a 10-minute walk outside each morning.\\n2. Do 10 push-ups or any other exercise you prefer during a break in your day.\\n3. Stretch for 5 minutes before going to bed.\\n\\nDo these suggestions work for you?'), HumanMessage(content='sure'), AIMessage(content=\"Excellent, Chris! Now, let's move on to the third pillar: Eating. Can you think of three small, achievable behaviors that could contribute to healthier eating habits? If you need suggestions, I'm here to help.\"), HumanMessage(content='pick three for me'), AIMessage(content='Sure thing, Chris. Here are three suggestions for the Eating pillar:\\n\\n1. Include a serving of vegetables in at least one meal each day.\\n2. Drink a glass of water before each meal.\\n3. Try to eat without distractions (like watching TV or working) to help focus on your meal.\\n\\nDo these suggestions sound doable to you?'), HumanMessage(content='sure'), AIMessage(content=\"Great, Chris! Now let's move on to the fourth pillar: Drinking. Can you think of three small, achievable behaviors that could contribute to healthier drinking habits? If you'd like, I can suggest some for you.\"), HumanMessage(content='pick three for me'), AIMessage(content='Absolutely, Chris. Here are three suggestions for the Drinking pillar:\\n\\n1. Drink at least 8 glasses of water throughout the day.\\n2. Limit caffeine intake to before 12 pm.\\n3. Substitute one sugary drink with a glass of water each day.\\n\\nDo these suggestions work for you?'), HumanMessage(content='sure'), AIMessage(content=\"Fantastic, Chris! Finally, let's move on to the fifth pillar: Stress management. Can you think of three small, achievable behaviors that could contribute to better stress management? If you need suggestions, I'm here to help.\"), HumanMessage(content='pick three for me'), AIMessage(content=\"Of course, Chris. Here are three suggestions for the Stress Management pillar:\\n\\n1. Spend 5 minutes each day practicing deep breathing or meditation.\\n2. Write down three things you're grateful for at the end of each day.\\n3. Take a few minutes each day to do something you enjoy, like reading a book or listening to your favorite music.\\n\\nDo these suggestions sound manageable to you?\"), HumanMessage(content='sure'), AIMessage(content=\"Great, Chris! Here's a summary of the SEEDS you've defined for each category:\\n\\nSleep:\\n1. Be in bed by 10 pm.\\n2. Turn off electronic devices at least 30 minutes before bedtime.\\n3. Establish a relaxing pre-sleep routine, such as reading a book or taking a warm bath.\\n\\nExercise:\\n1. Take a 10-minute walk outside each morning.\\n2. Do 10 push-ups or any other exercise you prefer during a break in your day.\\n3. Stretch for 5 minutes before going to bed.\\n\\nEating:\\n1. Include a serving of vegetables in at least one meal each day.\\n2. Drink a glass of water before each meal.\\n3. Try to eat without distractions (like watching TV or working) to help focus on your meal.\\n\\nDrinking:\\n1. Drink at least 8 glasses of water throughout the day.\\n2. Limit caffeine intake to before 12 pm.\\n3. Substitute one sugary drink with a glass of water each day.\\n\\nStress Management:\\n1. Spend 5 minutes each day practicing deep breathing or meditation.\\n2. Write down three things you're grateful for at the end of each day.\\n3. Take a few minutes each day to do something you enjoy, like reading a book or listening to your favorite music.\\n\\nDoes this summary accurately reflect the SEEDS you've chosen?\"), HumanMessage(content='sure'), AIMessage(content=\"Fantastic, Chris! I'm glad to hear that the summary is accurate. Remember, the goal of the SEEDS exercise is to focus on small, achievable behaviors that contribute to good health. Try to incorporate these behaviors into your daily routine and observe any changes in your overall well-being. Don't hesitate to reach out if you have any questions or need further assistance. Keep up the good work! 🚀🚀🚀\"), HumanMessage(content='hey'), AIMessage(content=\"Hello again, Chris! How are you feeling today? I'd like to check in on your progress with the SEEDS exercise. Is now a good time for you to record a SEEDS diary entry?\"), HumanMessage(content='sure'), AIMessage(content=\"Great, Chris! Let's start with the first pillar: Sleep. \\n\\nYou had chosen the following SEEDS for Sleep:\\n1. Be in bed by 10 pm.\\n2. Turn off electronic devices at least 30 minutes before bedtime.\\n3. Establish a relaxing pre-sleep routine, such as reading a book or taking a warm bath.\\n\\nCould you please tell me which of these you managed to do today?\"), HumanMessage(content='yeah I got everything done in all the categories'), AIMessage(content=\"That's fantastic, Chris! \\n\\nSo, to confirm, you managed to do all the SEEDS in each pillar today. That includes:\\n\\nSleep:\\n1. Being in bed by 10 pm.\\n2. Turning off electronic devices at least 30 minutes before bedtime.\\n3. Establishing a relaxing pre-sleep routine, such as reading a book or taking a warm bath.\\n\\nExercise:\\n1. Taking a 10-minute walk outside each morning.\\n2. Doing 10 push-ups or any other exercise you prefer during a break in your day.\\n3. Stretching for 5 minutes before going to bed.\\n\\nEating:\\n1. Including a serving of vegetables in at least one meal each day.\\n2. Drinking a glass of water before each meal.\\n3. Eating without distractions (like watching TV or working) to help focus on your meal.\\n\\nDrinking:\\n1. Drinking at least 8 glasses of water throughout the day.\\n2. Limiting caffeine intake to before 12 pm.\\n3. Substituting one sugary drink with a glass of water each day.\\n\\nStress Management:\\n1. Spending 5 minutes each day practicing deep breathing or meditation.\\n2. Writing down three things you're grateful for at the end of each day.\\n3. Taking a few minutes each day to do something you enjoy, like reading a book or listening to your favorite music.\\n\\nIs this correct?\"), HumanMessage(content='yep!'), AIMessage(content=\"That's excellent, Chris! You've managed to do all 15 SEEDS today. That's a perfect score! Keep up the great work. Remember, these small, consistent behaviors can have a big impact on your overall health and well-being. Don't hesitate to reach out if you have any questions or need further assistance. Keep going! 🚀🚀🚀\"), HumanMessage(content='when is it appropriate to use a waking lamp?'), AIMessage(content=\"Sorry I'm not sure.\"), HumanMessage(content='when is it appropriate to use a light box?'), AIMessage(content='A light box or a SAD (Seasonal Affective Disorder) light can be used when one lives at a high latitude where during the long winter nights, the sun is only out for a couple of hours each day. The light box should emit light at an intensity of at least two thousand lux and should contain plenty of short wavelength light. When using the light box, one should be within one meter of it and it should be used for at least thirty minutes each day, possibly up to sixty minutes as needed. The use of the light box can be timed appropriately if one is trying to shift their clock earlier or later. For instance, it can be used in the morning if one is trying to shift their sleep schedule earlier or in the evening if they are trying to shift it later. For those with seasonal affective disorder, it is generally recommended to use the light box within a couple of hours of waking in the morning.'), HumanMessage(content='hey'), AIMessage(content='Hello, Chris! How are you feeling today? Would you be open to discussing a daily routine that might help improve your sleep?'), HumanMessage(content='sure'), AIMessage(content='The daily routine suggested in the text seems to be a balanced mix of physical activity, adequate rest, healthy eating, and maintaining a consistent sleep schedule. Here\\'s a breakdown:\\n\\n1. Adequate Rest: The routine emphasizes the importance of taking rest days in between strenuous physical activities. For example, following the \"biblical training week\" concept, one should have a day of rest within the week.\\n\\n2. Physical Activity: Exercise is encouraged, particularly in the late afternoon around 5 or 6 PM. This coincides with the end of the working day and is when the body is said to be primed for strenuous exercise. It\\'s also suggested to engage in frequent low-intensity activity throughout the day to support overall health and function.\\n\\n3. Healthy Eating: The routine suggests following a time-restricted eating pattern, where you consume calories within a 12-hour window or less each day. Ideally, this window should end at least two hours before bed. The focus of nutrition should be on foods that have a high satiety per calorie, such as fruits, vegetables, fungi like mushrooms, lean meats, and fish.\\n\\n4. Consistent Sleep Schedule: The routine highlights the importance of matching your time in bed to your actual sleep capacity. If you have a history of insufficient sleep, it\\'s recommended to extend your time in bed, perhaps by setting the alarm clock as late as possible, reducing caffeine intake, and minimizing exposure to bright overhead lighting before bed.\\n\\n5. Stress Management: The routine emphasizes the use of problem-focused and emotion-focused coping strategies to deal with stress. An example given is \"scheduled worry time\" where you dedicate a specific period in the day to worry, thus compartmentalizing it from the rest of your day.\\n\\n6. Exposure to Natural Light: The routine advises spending at least an hour outdoors in daylight each day and minimizing exposure to bright overhead lights in the hours before bed.\\n\\n7. Avoidance of Snacking: The routine suggests that avoiding snacks can be beneficial for many people, as most snacking is mindless, and we often choose low-quality foods when we snack.\\n\\nRemember, this is just a suggested routine and might not work for everyone. Always consult with a healthcare provider before making significant changes to your daily routine.'), HumanMessage(content='hey'), AIMessage(content=\"Hello, Chris! How are you doing today? I'm here to assist you with your sleep routine. Would you like to discuss how your current routine is working or explore possible changes to help you sleep better?\"), HumanMessage(content='sure'), AIMessage(content=\"Based on my knowledge and understanding of the biological clock and its impact on our daily activities, here's a suggested daily routine:\\n\\n1. **Morning Routine:**\\n   - Wake up at a fixed time each day to regulate your body's clock. This should ideally happen naturally if you're maintaining a healthy sleep pattern. \\n   - Spend at least an hour outdoors in daylight each day to reset your body's clock. This is particularly important if you're trying to shift your clock earlier.\\n   - Start your day with a healthy breakfast within a scheduled eating window, aiming to consume anything that contains calories within a period of twelve hours or less each day.\\n\\n2. **Afternoon Routine:**\\n   - Engage in physical activity during the late biological afternoon, around five or six PM for most people, as your body is primed for strenuous exercise during this time. \\n   - Remember to move frequently throughout the day as even brief bouts of low-intensity activity can support many aspects of your health and function.\\n\\n3. **Evening Routine:**\\n   - Aim to have your eating window end at least two hours before bed. This will help control your blood sugar levels and improve many aspects of your health.\\n   - Minimize exposure to bright overhead lights in the three hours before bed to give your body's clock strong time cues.\\n   - Go to bed when you're actually sleepy. The time should be quite regular if you're following the other tips.\\n\\n4. **Night Routine:**\\n   - Sleep in near or total darkness. If you've got light coming in from outdoors, you can accomplish that by wearing an eye mask.\\n   - Aim for a high sleep efficiency, spending as much time asleep as you need.\\n\\nRemember, these are general suggestions based on understanding of the biological clock and may not suit everyone's individual needs and lifestyle. It's always best to listen to your body and adjust your routine accordingly.\")]\n",
      "\n",
      "New question: what's the next action?\n",
      "\u001b[0m\n",
      "\n",
      "\u001b[1m> Finished chain.\u001b[0m\n",
      "\u001b[32;1m\u001b[1;3mThought: The user has completed the Insomnia Severity Index, agreed to do a sleep diary, and defined their SEEDS. The next step could be to introduce the Open Focus exercise.\n",
      "Action: open_focus\n",
      "Action Input: {}\u001b[0m\n",
      "\n",
      "Observation:\u001b[36;1m\u001b[1;3mopen_focus\u001b[0m\n",
      "\u001b[32;1m\u001b[1;3m\u001b[0m\n",
      "\n",
      "\u001b[1m> Finished chain.\u001b[0m\n"
     ]
    },
    {
     "data": {
      "text/plain": [
       "'open_focus'"
      ]
     },
     "execution_count": 28,
     "metadata": {},
     "output_type": "execute_result"
    }
   ],
   "source": [
    "agent_executor.run(\"what's the next action?\")"
   ]
  },
  {
   "cell_type": "code",
   "execution_count": null,
   "id": "92116a74-7139-4291-965b-99e40146f1e7",
   "metadata": {},
   "outputs": [],
   "source": []
  }
 ],
 "metadata": {
  "kernelspec": {
   "display_name": "Python 3 (ipykernel)",
   "language": "python",
   "name": "python3"
  },
  "language_info": {
   "codemirror_mode": {
    "name": "ipython",
    "version": 3
   },
   "file_extension": ".py",
   "mimetype": "text/x-python",
   "name": "python",
   "nbconvert_exporter": "python",
   "pygments_lexer": "ipython3",
   "version": "3.11.5"
  }
 },
 "nbformat": 4,
 "nbformat_minor": 5
}
