{
 "cells": [
  {
   "cell_type": "code",
   "execution_count": 1,
   "id": "0abfb67a-a144-4268-9421-249f1452e22a",
   "metadata": {},
   "outputs": [
    {
     "name": "stdout",
     "output_type": "stream",
     "text": [
      "Automatic pdb calling has been turned ON\n"
     ]
    }
   ],
   "source": [
    "%pdb"
   ]
  },
  {
   "cell_type": "code",
   "execution_count": 1,
   "id": "973cc251-4550-41c1-9409-2e7e1dcb6c15",
   "metadata": {},
   "outputs": [],
   "source": [
    "from sleepmate.agent import *"
   ]
  },
  {
   "cell_type": "code",
   "execution_count": 2,
   "id": "525273e3-999e-42a7-ac45-ead2db7fc754",
   "metadata": {},
   "outputs": [],
   "source": [
    "from sleepmate.helpful_scripts import *\n",
    "from sleepmate.diary import *\n",
    "from sleepmate.goal import *\n",
    "from sleepmate.seeds import *\n",
    "from sleepmate.structured import *\n",
    "from sleepmate.history import *"
   ]
  },
  {
   "cell_type": "code",
   "execution_count": 3,
   "id": "30160d82-b578-4a96-90c9-9d0ae9a844f3",
   "metadata": {},
   "outputs": [
    {
     "name": "stdout",
     "output_type": "stream",
     "text": [
      "X() len(self.tools)=32\n",
      "X.say None -> valued_living\n"
     ]
    },
    {
     "data": {
      "text/markdown": [
       "Hello Chris, splendid to have you here! Is now a good time to go through the Valued Living Questionnaire (VLQ)? It's a bit of a journey, but I promise it's worth it."
      ],
      "text/plain": [
       "<IPython.core.display.Markdown object>"
      ]
     },
     "metadata": {},
     "output_type": "display_data"
    }
   ],
   "source": [
    "x = X()"
   ]
  },
  {
   "cell_type": "code",
   "execution_count": 4,
   "id": "4884bffe-90bb-4122-a225-cb2d770748f0",
   "metadata": {},
   "outputs": [
    {
     "data": {
      "text/markdown": [
       "Fantastic! Let's dive in. Remember, this is a safe space. Your answers are for your eyes only, so feel free to be as honest as possible. No need to worry about social pressures or the wagging mental fingers of should and have to. This is between you and you.\n",
       "\n",
       "Let's start with the first domain: Family relations (other than marriage or parent). \n",
       "\n",
       "a) On a scale of 1-10, how important is this domain to you?\n",
       "b) Again, on a scale of 1-10, how consistently have you lived in accordance with your values in this domain over the past week?"
      ],
      "text/plain": [
       "<IPython.core.display.Markdown object>"
      ]
     },
     "metadata": {},
     "output_type": "display_data"
    }
   ],
   "source": [
    "x(\"sure\");"
   ]
  },
  {
   "cell_type": "code",
   "execution_count": 6,
   "id": "6f27fb96-b87b-4e18-8f0e-9530863bae90",
   "metadata": {},
   "outputs": [],
   "source": [
    "x.memory.clear()"
   ]
  },
  {
   "cell_type": "code",
   "execution_count": 41,
   "id": "164acd6a-505b-4dfc-bbf3-962ce2f8ce59",
   "metadata": {},
   "outputs": [],
   "source": [
    "# Provide the connection string to connect to the MongoDB database\n",
    "connection_string = \"mongodb://localhost:27017/\"\n",
    "chat_memory = MongoDBChatMessageHistory(connection_string, \"test-session\", database_name=\"sleepmate\")"
   ]
  },
  {
   "cell_type": "code",
   "execution_count": 42,
   "id": "3527da0d-f1af-4d8d-994c-23590649f5a0",
   "metadata": {},
   "outputs": [],
   "source": [
    "memory = ConversationBufferWindowMemory(k=1, chat_memory=chat_memory)"
   ]
  },
  {
   "cell_type": "code",
   "execution_count": 43,
   "id": "b6aa5991-d5b7-4863-94ef-b41a35394a95",
   "metadata": {},
   "outputs": [],
   "source": [
    "memory.save_context({\"input\": \"hi\"}, {\"output\": \"whats up\"})\n",
    "memory.save_context({\"input\": \"not much you\"}, {\"output\": \"not much\"})"
   ]
  },
  {
   "cell_type": "code",
   "execution_count": 40,
   "id": "d5b633c0-661c-4b9c-8923-9790de1a675b",
   "metadata": {},
   "outputs": [
    {
     "data": {
      "text/plain": [
       "<langchain.memory.chat_message_histories.mongodb.MongoDBChatMessageHistory at 0x13faf4050>"
      ]
     },
     "execution_count": 40,
     "metadata": {},
     "output_type": "execute_result"
    }
   ],
   "source": [
    "memory.chat_memory"
   ]
  },
  {
   "cell_type": "code",
   "execution_count": 16,
   "id": "60202e30-d3b1-4809-a031-569d010d0923",
   "metadata": {},
   "outputs": [
    {
     "data": {
      "text/plain": [
       "{'history': 'Human: not much you\\nAI: not much'}"
      ]
     },
     "execution_count": 16,
     "metadata": {},
     "output_type": "execute_result"
    }
   ],
   "source": [
    "memory.load_memory_variables({})"
   ]
  },
  {
   "cell_type": "code",
   "execution_count": 17,
   "id": "8d848c7b-f0bf-4f13-b771-41d5d65f1c09",
   "metadata": {},
   "outputs": [
    {
     "ename": "AttributeError",
     "evalue": "'MyCustomMemory' object has no attribute 'collection'",
     "output_type": "error",
     "traceback": [
      "\u001b[0;31m---------------------------------------------------------------------------\u001b[0m",
      "\u001b[0;31mAttributeError\u001b[0m                            Traceback (most recent call last)",
      "Cell \u001b[0;32mIn[17], line 1\u001b[0m\n\u001b[0;32m----> 1\u001b[0m \u001b[43mmemory\u001b[49m\u001b[38;5;241;43m.\u001b[39;49m\u001b[43mmessages\u001b[49m\n",
      "File \u001b[0;32m~/Library/Caches/pypoetry/virtualenvs/sleepmate-kok1GflL-py3.11/lib/python3.11/site-packages/langchain/memory/chat_message_histories/mongodb.py:56\u001b[0m, in \u001b[0;36mMongoDBChatMessageHistory.messages\u001b[0;34m(self)\u001b[0m\n\u001b[1;32m     53\u001b[0m \u001b[38;5;28;01mfrom\u001b[39;00m \u001b[38;5;21;01mpymongo\u001b[39;00m \u001b[38;5;28;01mimport\u001b[39;00m errors\n\u001b[1;32m     55\u001b[0m \u001b[38;5;28;01mtry\u001b[39;00m:\n\u001b[0;32m---> 56\u001b[0m     cursor \u001b[38;5;241m=\u001b[39m \u001b[38;5;28;43mself\u001b[39;49m\u001b[38;5;241;43m.\u001b[39;49m\u001b[43mcollection\u001b[49m\u001b[38;5;241m.\u001b[39mfind({\u001b[38;5;124m\"\u001b[39m\u001b[38;5;124mSessionId\u001b[39m\u001b[38;5;124m\"\u001b[39m: \u001b[38;5;28mself\u001b[39m\u001b[38;5;241m.\u001b[39msession_id})\n\u001b[1;32m     57\u001b[0m \u001b[38;5;28;01mexcept\u001b[39;00m errors\u001b[38;5;241m.\u001b[39mOperationFailure \u001b[38;5;28;01mas\u001b[39;00m error:\n\u001b[1;32m     58\u001b[0m     logger\u001b[38;5;241m.\u001b[39merror(error)\n",
      "\u001b[0;31mAttributeError\u001b[0m: 'MyCustomMemory' object has no attribute 'collection'"
     ]
    },
    {
     "name": "stdout",
     "output_type": "stream",
     "text": [
      "> \u001b[0;32m/Users/cck197/Library/Caches/pypoetry/virtualenvs/sleepmate-kok1GflL-py3.11/lib/python3.11/site-packages/langchain/memory/chat_message_histories/mongodb.py\u001b[0m(56)\u001b[0;36mmessages\u001b[0;34m()\u001b[0m\n",
      "\u001b[0;32m     54 \u001b[0;31m\u001b[0;34m\u001b[0m\u001b[0m\n",
      "\u001b[0m\u001b[0;32m     55 \u001b[0;31m        \u001b[0;32mtry\u001b[0m\u001b[0;34m:\u001b[0m\u001b[0;34m\u001b[0m\u001b[0;34m\u001b[0m\u001b[0m\n",
      "\u001b[0m\u001b[0;32m---> 56 \u001b[0;31m            \u001b[0mcursor\u001b[0m \u001b[0;34m=\u001b[0m \u001b[0mself\u001b[0m\u001b[0;34m.\u001b[0m\u001b[0mcollection\u001b[0m\u001b[0;34m.\u001b[0m\u001b[0mfind\u001b[0m\u001b[0;34m(\u001b[0m\u001b[0;34m{\u001b[0m\u001b[0;34m\"SessionId\"\u001b[0m\u001b[0;34m:\u001b[0m \u001b[0mself\u001b[0m\u001b[0;34m.\u001b[0m\u001b[0msession_id\u001b[0m\u001b[0;34m}\u001b[0m\u001b[0;34m)\u001b[0m\u001b[0;34m\u001b[0m\u001b[0;34m\u001b[0m\u001b[0m\n",
      "\u001b[0m\u001b[0;32m     57 \u001b[0;31m        \u001b[0;32mexcept\u001b[0m \u001b[0merrors\u001b[0m\u001b[0;34m.\u001b[0m\u001b[0mOperationFailure\u001b[0m \u001b[0;32mas\u001b[0m \u001b[0merror\u001b[0m\u001b[0;34m:\u001b[0m\u001b[0;34m\u001b[0m\u001b[0;34m\u001b[0m\u001b[0m\n",
      "\u001b[0m\u001b[0;32m     58 \u001b[0;31m            \u001b[0mlogger\u001b[0m\u001b[0;34m.\u001b[0m\u001b[0merror\u001b[0m\u001b[0;34m(\u001b[0m\u001b[0merror\u001b[0m\u001b[0;34m)\u001b[0m\u001b[0;34m\u001b[0m\u001b[0;34m\u001b[0m\u001b[0m\n",
      "\u001b[0m\n"
     ]
    },
    {
     "name": "stdin",
     "output_type": "stream",
     "text": [
      "ipdb>  exit\n"
     ]
    }
   ],
   "source": [
    "memory.messages"
   ]
  },
  {
   "cell_type": "code",
   "execution_count": null,
   "id": "e2b9b1ea-a16e-428f-abbe-89003185f112",
   "metadata": {},
   "outputs": [],
   "source": []
  },
  {
   "cell_type": "code",
   "execution_count": null,
   "id": "e9980274-d43f-445b-b2cd-d71e70a7766f",
   "metadata": {},
   "outputs": [],
   "source": []
  },
  {
   "cell_type": "code",
   "execution_count": 7,
   "id": "87aefd77-f357-4d59-826a-27be0b9b00ea",
   "metadata": {},
   "outputs": [
    {
     "name": "stdout",
     "output_type": "stream",
     "text": [
      "X.load_memory filename='/Users/cck197/Downloads/virtual_greg/memory.pkl'\n"
     ]
    }
   ],
   "source": [
    "memory = X.load_memory()"
   ]
  },
  {
   "cell_type": "code",
   "execution_count": 7,
   "id": "dbd7ba09-00f5-4f91-bbb4-b25ede0509cc",
   "metadata": {},
   "outputs": [
    {
     "data": {
      "text/plain": [
       "True"
      ]
     },
     "execution_count": 7,
     "metadata": {},
     "output_type": "execute_result"
    }
   ],
   "source": [
    "memory.return_messages"
   ]
  },
  {
   "cell_type": "code",
   "execution_count": 5,
   "id": "df116127-a72d-4838-a58e-fd8a64645b35",
   "metadata": {},
   "outputs": [
    {
     "data": {
      "text/plain": [
       "HealthHistory(date=datetime.datetime(2023, 10, 21, 11, 12, 24, 643083), sex='man', date_of_birth=datetime.datetime(1976, 2, 13, 0, 0), occupation='coder', work_hours='7 - 6 with breaks', smoking='no', alcohol='some alcohol, mostly at the weekends', physical_activity='cyclist, surfer, lift weights', diet='three eggs and sausages for breakfast, salad and protein for lunch, meat and veg for dinner. 1g protein per lb of bodyweight', medical_conditions='none', medications='no', family_history='no', mental_health='no', psychological_treatment='no', living_with='live with family, three kids, in a house but sleep in a VW Eurovan', residence_type='house', noise_level='very rural and quiet', goal='sleep through the night, wake up feeling refreshed', helpful='getting enough daylight', unhelpful='apigenin', notes='N/A')"
      ]
     },
     "execution_count": 5,
     "metadata": {},
     "output_type": "execute_result"
    }
   ],
   "source": [
    "get_health_history_from_memory(memory)"
   ]
  },
  {
   "cell_type": "code",
   "execution_count": 8,
   "id": "98883357-493b-4ebb-ae24-aea4e17df761",
   "metadata": {},
   "outputs": [
    {
     "data": {
      "text/plain": [
       "2"
      ]
     },
     "execution_count": 8,
     "metadata": {},
     "output_type": "execute_result"
    }
   ],
   "source": [
    "DBGoalRefusal.objects.delete()"
   ]
  },
  {
   "cell_type": "code",
   "execution_count": 13,
   "id": "bd9e376e-a0f6-445b-9af8-16aa8383c199",
   "metadata": {},
   "outputs": [
    {
     "data": {
      "text/plain": [
       "['diary_probe', 'daily_routine']"
      ]
     },
     "execution_count": 13,
     "metadata": {},
     "output_type": "execute_result"
    }
   ],
   "source": [
    "[o.goal for o in DBGoalRefusal.objects()]"
   ]
  },
  {
   "cell_type": "code",
   "execution_count": null,
   "id": "675d2a05-3e41-4b98-9d92-2a8deeccfbad",
   "metadata": {},
   "outputs": [],
   "source": [
    "DBSleepDiaryEntry.objects(user=get_current_user()).count()"
   ]
  },
  {
   "cell_type": "code",
   "execution_count": 11,
   "id": "6e5f1ede-0264-4f9c-8840-c44ba668dec4",
   "metadata": {},
   "outputs": [],
   "source": [
    "from sleepmate.goal import DBGoalRefusal"
   ]
  },
  {
   "cell_type": "code",
   "execution_count": 3,
   "id": "ea3661a3-913a-478a-bd96-da5895f0e094",
   "metadata": {},
   "outputs": [],
   "source": [
    "imported = import_attrs([\"GOALS\", \"GOAL_HANDLERS\"])"
   ]
  },
  {
   "cell_type": "code",
   "execution_count": 3,
   "id": "186809ec-99cf-481d-9a5d-d5bd92781a81",
   "metadata": {},
   "outputs": [],
   "source": [
    "imported = import_attrs([\"TOOLS\"])"
   ]
  },
  {
   "cell_type": "code",
   "execution_count": 8,
   "id": "b52bc390-90e2-443d-855b-cf629632bf55",
   "metadata": {
    "scrolled": true
   },
   "outputs": [
    {
     "data": {
      "text/plain": [
       "[(0, AIMessage(content=\"what's your name?\")),\n",
       " (1, HumanMessage(content='Chris')),\n",
       " (2, AIMessage(content=\"what's your email?\")),\n",
       " (3, HumanMessage(content='chris@nourishbalancethrive.com')),\n",
       " (4, HumanMessage(content='hey')),\n",
       " (5,\n",
       "  AIMessage(content=\"Hello Chris! It's a pleasure to meet you. I hope you're doing well. Would now be a good time to go through a health history questionnaire? It's a bit like a check-up, but without the cold stethoscope.\")),\n",
       " (6, HumanMessage(content='not bad, a bit tired')),\n",
       " (7,\n",
       "  AIMessage(content=\"It sounds like you're feeling a bit worn out, which is completely understandable in our fast-paced world. Let's proceed with the health history questionnaire, shall we? It might even be a nice distraction. Let's start with an easy one: What is your sex?\")),\n",
       " (8, HumanMessage(content='sure')),\n",
       " (9, AIMessage(content='Great! So, what is your sex?')),\n",
       " (10, HumanMessage(content='man')),\n",
       " (11,\n",
       "  AIMessage(content=\"Thank you, Chris. Now, could you please share your date of birth? Don't worry, I won't use it to send you a belated birthday card.\")),\n",
       " (12, HumanMessage(content='Feb 13 1976')),\n",
       " (13,\n",
       "  AIMessage(content=\"Thank you, Chris. You're still a spring chicken! Now, could you please tell me about your current occupation?\")),\n",
       " (14, HumanMessage(content='coder')),\n",
       " (15,\n",
       "  AIMessage(content=\"Ah, a coder! That's a job that requires a lot of mental gymnastics. Now, could you tell me about your typical work hours?\")),\n",
       " (16, HumanMessage(content='7 - 6 with breaks')),\n",
       " (17,\n",
       "  AIMessage(content=\"Thank you, Chris. That's quite a long day, but I'm glad to hear you're taking breaks. Now, let's move onto lifestyle questions. Do you smoke?\")),\n",
       " (18, HumanMessage(content='nope')),\n",
       " (19,\n",
       "  AIMessage(content=\"That's great to hear, Chris! Now, how about alcohol? Do you drink, and if so, how often?\")),\n",
       " (20, HumanMessage(content='some alchohol, mostly at the weekends')),\n",
       " (21,\n",
       "  AIMessage(content=\"Thank you for sharing, Chris. It's important to enjoy life's pleasures in moderation. Now, could you tell me about your level of physical activity?\")),\n",
       " (22, HumanMessage(content=\"I'm a cyclist, surfer, lift weights\")),\n",
       " (23,\n",
       "  AIMessage(content=\"Impressive, Chris! You're quite the active individual. Now, could you describe what a typical day of eating looks like for you?\")),\n",
       " (24,\n",
       "  HumanMessage(content='three eggs and sausages for breakfast, salad and protein for lunch, meat and veg for dinner. 1g protein per lb of bodyweight')),\n",
       " (25,\n",
       "  AIMessage(content='Thank you, Chris. It sounds like you have a balanced diet. Now, do you have any existing medical conditions such as diabetes, hypertension, etc.?')),\n",
       " (26, HumanMessage(content='none')),\n",
       " (27,\n",
       "  AIMessage(content=\"That's good to hear, Chris. Now, are you currently taking any medications?\")),\n",
       " (28, HumanMessage(content='no')),\n",
       " (29,\n",
       "  AIMessage(content='Great, Chris. Now, is there a family history of insomnia or other sleep disorders?')),\n",
       " (30, HumanMessage(content='no')),\n",
       " (31,\n",
       "  AIMessage(content=\"That's good to hear, Chris. Now, do you have a history of mental health conditions such as depression, anxiety, etc.?\")),\n",
       " (32, HumanMessage(content='no')),\n",
       " (33,\n",
       "  AIMessage(content=\"That's good to hear, Chris. Are you currently undergoing any psychological treatment?\")),\n",
       " (34, HumanMessage(content='no')),\n",
       " (35,\n",
       "  AIMessage(content='Thank you for sharing, Chris. Now, who are you currently living with? Alone, family, friends?')),\n",
       " (36,\n",
       "  HumanMessage(content='live with family, three kids, in a house but sleep in a VW Eurovan')),\n",
       " (37,\n",
       "  AIMessage(content='Sounds like quite the adventure, Chris! Now, could you tell me about the noise level in your living area? Is it generally quiet, moderate, or noisy?')),\n",
       " (38, HumanMessage(content=\"it's very rural and quiet\")),\n",
       " (39,\n",
       "  AIMessage(content='That sounds peaceful, Chris. Now, could you tell me what success looks like to you?')),\n",
       " (40,\n",
       "  HumanMessage(content='sleep through the night, wake up feeling refreshed')),\n",
       " (41,\n",
       "  AIMessage(content=\"That's a wonderful goal, Chris. Now, could you tell me about anything you've tried previously that helped you achieve this?\")),\n",
       " (42, HumanMessage(content='getting enough daylight')),\n",
       " (43,\n",
       "  AIMessage(content=\"That's a great strategy, Chris. Daylight can indeed help regulate our sleep-wake cycle. Now, could you tell me about anything you've tried previously that didn't help?\")),\n",
       " (44, HumanMessage(content='apigenin')),\n",
       " (45,\n",
       "  AIMessage(content=\"Thank you for sharing that, Chris. It's helpful to know what hasn't worked for you in the past. Is there anything else you'd like to add?\")),\n",
       " (46, HumanMessage(content=\"no that's it\")),\n",
       " (47,\n",
       "  AIMessage(content=\"Thank you, Chris. Here's a summary of your health history:\\n\\n- Name: Chris\\n- Sex: Male\\n- Date of Birth: February 13, 1976\\n- Occupation: Coder\\n- Work Hours: 7 AM - 6 PM with breaks\\n- Smoking: No\\n- Alcohol: Some, mostly on weekends\\n- Physical Activity: Cyclist, surfer, weightlifter\\n- Typical Diet: Balanced, with a focus on protein\\n- Existing Medical Conditions: None\\n- Current Medications: None\\n- Family History of Sleep Disorders: None\\n- History of Mental Health Conditions: None\\n- Current Psychological Treatment: None\\n- Living Situation: With family in a house, sleeps in a VW Eurovan\\n- Noise Level in Living Area: Quiet\\n- Definition of Success: Sleeping through the night, waking up feeling refreshed\\n- Previous Successful Strategies: Getting enough daylight\\n- Previous Unsuccessful Strategies: Apigenin\\n\\nPlease confirm if this information is correct.\")),\n",
       " (48, HumanMessage(content='correct')),\n",
       " (49,\n",
       "  AIMessage(content=\"Thank you, Chris. Your health history has been saved. Now, would it be a good time to go through the Insomnia Severity Index questionnaire? It's a bit like a sleep diary, but without the dream interpretations.\")),\n",
       " (50, HumanMessage(content='sure')),\n",
       " (51,\n",
       "  AIMessage(content=\"Fantastic! Today's date is October 21, 2023. Let's start with the first question. On a scale from 0 to 4, how would you rate your difficulty falling asleep? Here's the scale for your reference:\\n\\n0: None\\n1: Mild\\n2: Moderate\\n3: Severe\\n4: Very severe\")),\n",
       " (52, HumanMessage(content='1')),\n",
       " (53,\n",
       "  AIMessage(content='Thank you, Chris. Now, on the same scale, how would you rate your difficulty staying asleep?\\n\\n0: None\\n1: Mild\\n2: Moderate\\n3: Severe\\n4: Very severe')),\n",
       " (54, HumanMessage(content='3')),\n",
       " (55,\n",
       "  AIMessage(content='Thank you, Chris. Now, on the same scale, how would you rate your problems with waking up too early?\\n\\n0: None\\n1: Mild\\n2: Moderate\\n3: Severe\\n4: Very severe')),\n",
       " (56, HumanMessage(content='all the remaining answers are 1')),\n",
       " (57,\n",
       "  AIMessage(content='Thank you, Chris. So, to confirm, your answers are:\\n\\n1. Difficulty falling asleep: 1 (Mild)\\n2. Difficulty staying asleep: 3 (Severe)\\n3. Problems waking up too early: 1 (Mild)\\n4. Satisfaction with current sleep pattern: 1 (Satisfied)\\n5. Noticeability of sleep problem: 1 (A little bit)\\n6. Worried/distressed about sleep problem: 1 (A little bit)\\n7. Interference of sleep problem with daily functioning: 1 (A little bit)\\n\\nIs that correct?')),\n",
       " (58, HumanMessage(content=\"yeah, that's right\")),\n",
       " (59,\n",
       "  AIMessage(content=\"Thank you, Chris. Your responses have been saved. The total score for your Insomnia Severity Index is 9, which falls into the category of 'Subthreshold insomnia'. \\n\\nRemember, it's not about chasing perfect scores, but about understanding and improving your sleep health. Let me know when you're ready to continue on your health journey.\")),\n",
       " (60, HumanMessage(content='ok')),\n",
       " (61,\n",
       "  AIMessage(content=\"Great! Now, would it be a good time to record a sleep diary entry? It's a bit like a dream journal, but with less Freud and more facts.\")),\n",
       " (62, HumanMessage(content='sure')),\n",
       " (63,\n",
       "  AIMessage(content=\"Fantastic! Let's start with the date of the entry. By default, we'll use yesterday's date. Is that okay, or would you like to specify a different date?\")),\n",
       " (64, HumanMessage(content='yesterday is fine')),\n",
       " (65,\n",
       "  AIMessage(content='Great! So, the date of the entry is October 20, 2023. Now, could you please tell me what time you went to bed?')),\n",
       " (66, HumanMessage(content='21:15')),\n",
       " (67,\n",
       "  AIMessage(content='Thank you, Chris. And what time did you try to fall asleep?')),\n",
       " (68, HumanMessage(content='21:15')),\n",
       " (69,\n",
       "  AIMessage(content='Thank you, Chris. Now, how long did it take you to fall asleep? Please provide the duration in minutes.')),\n",
       " (70, HumanMessage(content='5')),\n",
       " (71,\n",
       "  AIMessage(content=\"That's quite quick, Chris! Now, how many times did you wake up during the night?\")),\n",
       " (72, HumanMessage(content='1')),\n",
       " (73,\n",
       "  AIMessage(content='Thank you, Chris. And how long were you awake during the night? Please provide the duration in minutes.')),\n",
       " (74, HumanMessage(content='30')),\n",
       " (75,\n",
       "  AIMessage(content='Thank you, Chris. Now, could you please tell me what time you woke up in the morning?')),\n",
       " (76, HumanMessage(content='6:30')),\n",
       " (77,\n",
       "  AIMessage(content='Thank you, Chris. And what time did you get out of bed?')),\n",
       " (78, HumanMessage(content='6:45')),\n",
       " (79,\n",
       "  AIMessage(content='Thank you, Chris. Now, how would you rate your sleep quality? The options are \"very good\", \"good\", \"okay\", \"bad\", \"very bad\".')),\n",
       " (80, HumanMessage(content='good')),\n",
       " (81,\n",
       "  AIMessage(content='Thank you, Chris. Did you use any medications or aids to help you sleep?')),\n",
       " (82, HumanMessage(content='no')),\n",
       " (83,\n",
       "  AIMessage(content=\"Thank you, Chris. Finally, are there any other notes you'd like to add about your sleep? For example, any dreams, disturbances, or thoughts you had?\")),\n",
       " (84, HumanMessage(content='slept in the van')),\n",
       " (85,\n",
       "  AIMessage(content=\"Thank you, Chris. Here's a summary of your sleep diary entry for October 20, 2023:\\n\\n- Time you went to bed: 21:15\\n- Time you tried to fall asleep: 21:15\\n- How long it took you to fall asleep: 5 minutes\\n- How many times you woke up during the night: 1\\n- Total time you were awake during the night: 30 minutes\\n- Final wake up time: 6:30\\n- Time you got out of bed: 6:45\\n- Sleep quality: Good\\n- Medications or aids used: None\\n- Other notes: Slept in the van\\n\\nPlease confirm if this information is correct.\")),\n",
       " (86, HumanMessage(content='yep!')),\n",
       " (87,\n",
       "  AIMessage(content=\"Thank you, Chris. Your sleep diary entry for October 20, 2023, has been saved. \\n\\nHere's a summary:\\n\\n- Time you went to bed: 21:15\\n- Time you tried to fall asleep: 21:15\\n- How long it took you to fall asleep: 5 minutes\\n- How many times you woke up during the night: 1\\n- Total time you were awake during the night: 30 minutes\\n- Final wake up time: 6:30\\n- Time you got out of bed: 6:45\\n- Sleep quality: Good\\n- Medications or aids used: None\\n- Other notes: Slept in the van\\n\\nYour total sleep duration was 8 hours and 40 minutes, and your sleep efficiency was 96.67%, which is considered normal (anything over 85% is considered normal).\\n\\nLet me know when you're ready to continue on your health journey.\")),\n",
       " (88, HumanMessage(content='sure')),\n",
       " (89,\n",
       "  AIMessage(content='Great! Now, would you be open to hearing about a daily routine that could help improve your sleep?')),\n",
       " (90, HumanMessage(content='sure')),\n",
       " (91,\n",
       "  AIMessage(content='Based on the knowledge provided, a daily routine could look something like this:\\n\\n1. Wake up at a consistent time each day to help regulate your body\\'s internal clock. Spend at least an hour outdoors in daylight each day to reset your biological clock. \\n\\n2. Engage in physical activity throughout the day, with more strenuous exercise ideally taking place in the late afternoon, around 5 or 6 PM. \\n\\n3. Aim to eat within a window of 8 to 10 hours, ending at least two hours before bed. This practice, known as time-restricted eating, can help regulate your body\\'s peripheral clocks. \\n\\n4. Focus your nutrition on foods that have a high satiety per calorie, such as fruits, vegetables, lean meats, and fish. Try to avoid mindless snacking, as it often leads to consumption of low-quality foods.\\n\\n5. Minimize your exposure to bright overhead lights in the three hours before bed, and sleep in near or total darkness to give your body\\'s central clock strong time cues. \\n\\n6. If you\\'re struggling with sleep, consider implementing bedtime restriction therapy, which involves only allowing yourself the amount of time in bed that you\\'re actually asleep on a regular basis. \\n\\n7. Finally, take a day of rest each week, as part of a \"biblical training week.\" This can help prevent overexertion and promote overall well-being. \\n\\nRemember, this routine is based on general advice and may not be suitable for everyone. Always consult with a healthcare professional before making significant changes to your daily routine.')),\n",
       " (92, HumanMessage(content='ok')),\n",
       " (93,\n",
       "  AIMessage(content=\"Thank you, Chris. Your daily routine has been saved. Now, let's move on to the next part of our journey. \\n\\nI'm curious, aside from sleeping, what activities do you usually do in bed? For example, some people read, watch TV, or use their phones.\")),\n",
       " (94, HumanMessage(content='yeah, I read in bed, sometimes watch TV')),\n",
       " (95,\n",
       "  AIMessage(content=\"Ah, a bit of a bibliophile and a telly enthusiast, are we? That's quite common, Chris. Now, would you be open to hearing about a technique called Stimulus Control Therapy, developed by Richard R. Bootzin? It's a bit like training a dog, but you're the dog. And the trainer. And there's no actual dog.\")),\n",
       " (96, HumanMessage(content='sure')),\n",
       " (97,\n",
       "  AIMessage(content=\"Splendid! Stimulus Control Therapy is based on the principle of associating certain stimuli with specific responses. In this case, it's about associating the bed with sleep. Here's the gist of it:\\n\\n1. Only go to bed when you're sleepy. Not just tired, but sleepy.\\n2. Use the bed only for sleep and... ahem... marital relations. No reading, watching TV, or scrolling through your phone.\\n3. If you can't fall asleep within 15-20 minutes, get out of bed and do something relaxing in another room. Only return to bed when you're sleepy.\\n4. Wake up at the same time every morning, regardless of how much sleep you got. No lie-ins allowed, I'm afraid.\\n5. No daytime napping. It's tough, I know, but it's for the greater good.\\n\\nThe idea is to strengthen the association between bed and sleep, and to establish a consistent sleep-wake schedule. Would you be willing to give it a try?\")),\n",
       " (98, HumanMessage(content='yeah ok')),\n",
       " (99,\n",
       "  AIMessage(content=\"Thank you, Chris. Your willingness to try Stimulus Control Therapy has been noted. Remember, it's not about perfection, but about progress. \\n\\nLet me know when you're ready to continue on your health journey.\")),\n",
       " (100, HumanMessage(content='sure')),\n",
       " (101,\n",
       "  AIMessage(content=\"Great! Now, let's move on to the next part of our journey. \\n\\nI'd like to introduce you to the concept of a Stress Audit. It's a tool to help you identify what you're currently doing when you're feeling stressed. The goal is to list as many behaviours as you can. Once you're done, we'll categorise them into two categories: problem or solution-focused coping (behaviours that reduce the stressor itself) and emotion-focused coping (behaviours that reduce the emotional impact of the stressor). \\n\\nWe can further categorise these behaviours into adaptive (helpful) and maladaptive (unhelpful). \\n\\nFor example, working longer hours could be categorised as problem-focused and adaptive, while drinking more coffee could be categorised as emotion-focused and maladaptive. \\n\\nOnce you've written down as many behaviours as you can, we'll categorise them and see if there's an imbalance. The goal is to have a balanced list, making use of both problem and emotion-focused coping behaviours, and more adaptive behaviours than maladaptive. \\n\\nAre you ready to start listing your stress-coping behaviours?\")),\n",
       " (102, HumanMessage(content='can you give me some examples?')),\n",
       " (103,\n",
       "  AIMessage(content=\"Absolutely, Chris! Here are some examples of stress-coping behaviours:\\n\\n1. Working longer, working harder (Problem-focused, Adaptive)\\n2. Diarising for time management (Problem-focused, Adaptive)\\n3. Drinking more coffee (Emotion-focused, Maladaptive)\\n4. Tinkering - getting very detail oriented (Emotion-focused, Maladaptive)\\n5. Exercising (Problem-focused, Adaptive)\\n6. Asking for help/seeking assistance (Problem-focused, Adaptive)\\n7. Using logic to avoid over exaggerating stressor (Problem-focused, Adaptive)\\n8. Moaning, complaining, talking out loud (Emotion-focused, Maladaptive)\\n9. Cleaning, Tidying (Emotion-focused, Adaptive)\\n10. Procrastinating (Emotion-focused, Maladaptive)\\n11. Listening to rain on Spotify or YouTube (Emotion-focused, Adaptive)\\n12. Watching TV (Emotion-focused, Maladaptive)\\n13. Drinking alcohol (Emotion-focused, Maladaptive)\\n14. Socializing with friends (Emotion-focused, Adaptive)\\n15. Using humor and jokes (Emotion-focused, Adaptive)\\n\\nRemember, some behaviours can be both problem and emotion-focused. The key is to identify what you do when you're stressed, and then we can categorise them. Ready to give it a go?\")),\n",
       " (104, HumanMessage(content='yes, those are exactly what I do')),\n",
       " (105,\n",
       "  AIMessage(content=\"Thank you, Chris. So, to confirm, when you're feeling stressed, you tend to:\\n\\n1. Work longer and harder (Problem-focused, Adaptive)\\n2. Diarise for time management (Problem-focused, Adaptive)\\n3. Drink more coffee (Emotion-focused, Maladaptive)\\n4. Tinker and get very detail-oriented (Emotion-focused, Maladaptive)\\n5. Exercise (Problem-focused, Adaptive)\\n6. Ask for help or seek assistance (Problem-focused, Adaptive)\\n7. Use logic to avoid over exaggerating the stressor (Problem-focused, Adaptive)\\n8. Moan, complain, or talk out loud (Emotion-focused, Maladaptive)\\n9. Clean or tidy up (Emotion-focused, Adaptive)\\n10. Procrastinate (Emotion-focused, Maladaptive)\\n11. Listen to rain on Spotify or YouTube (Emotion-focused, Adaptive)\\n12. Watch TV (Emotion-focused, Maladaptive)\\n13. Drink alcohol (Emotion-focused, Maladaptive)\\n14. Socialise with friends (Emotion-focused, Adaptive)\\n15. Use humour and jokes (Emotion-focused, Adaptive)\\n\\nIs that correct?\")),\n",
       " (106, HumanMessage(content='yes')),\n",
       " (107,\n",
       "  AIMessage(content=\"Thank you, Chris. Your Stress Audit has been saved. \\n\\nLooking at your list, it seems like you have a good mix of problem-focused and emotion-focused coping behaviours. However, there might be a bit of an imbalance towards maladaptive behaviours, especially in the emotion-focused category. \\n\\nCan you think of any adaptive behaviours that might help balance the list? For example, instead of drinking more coffee when you're stressed, you could try taking a short walk or practicing deep breathing exercises.\")),\n",
       " (108, HumanMessage(content='could you make some suggestions?')),\n",
       " (109,\n",
       "  AIMessage(content=\"Absolutely, Chris! Here are some adaptive behaviours you might consider:\\n\\n1. **Mindfulness Meditation**: This can help you stay focused on the present moment and reduce the impact of stressors.\\n2. **Deep Breathing Exercises**: These can help calm your nervous system and reduce feelings of stress.\\n3. **Physical Activity**: Regular exercise can help reduce stress levels and improve your mood.\\n4. **Healthy Eating**: A balanced diet can help keep your energy levels stable and reduce feelings of stress.\\n5. **Socializing**: Spending time with friends and family can provide a great source of support and distraction from stressors.\\n6. **Hobbies**: Engaging in activities you enjoy can help distract from stress and provide a sense of accomplishment.\\n7. **Sleep Hygiene**: Prioritizing good sleep can help ensure you're well-rested and better able to cope with stress.\\n8. **Time Management**: Planning your time effectively can help reduce feelings of overwhelm and stress.\\n\\nRemember, it's about finding what works best for you. Everyone is different, and what works for one person might not work for another. It's all about trial and error.\")),\n",
       " (110, HumanMessage(content='yes!')),\n",
       " (111,\n",
       "  AIMessage(content=\"Fantastic, Chris! I'm glad you found the suggestions helpful. Remember, the goal is to try and balance your stress-coping behaviours. It's not about eliminating all maladaptive behaviours, but rather about finding healthier alternatives when you can. \\n\\nLet me know when you're ready to continue on your health journey.\")),\n",
       " (112, HumanMessage(content='sure')),\n",
       " (113,\n",
       "  AIMessage(content='Great! Now, let\\'s move on to the next part of our journey. \\n\\nI\\'d like to introduce you to the SEEDS exercise created by Simon Marshall, PhD. It\\'s a bit like gardening, but instead of plants, we\\'re cultivating good health habits. \\n\\nThe pillars of good health are Sleep, Exercise, Eating, Drinking, and Stress management (SEEDS). Yes, \"SEEDS\" is as cheesy as a fondue party, but the metaphor of planting small SEEDS (i.e., behaviours that are good for you) and watering them every day so they can take root (i.e., become habits that you don\\'t have to constantly think about) is consistent with the science of behaviour change and habit formation. \\n\\nSo, while the acronym may be the Celine Dion of behaviour change, it WORKS. Besides, what\\'s life without a bit of cheese?\\n\\nWould you like to know more about this?')),\n",
       " (114, HumanMessage(content='yeah!')),\n",
       " (115,\n",
       "  AIMessage(content='Brilliant! So, the SEEDS exercise is all about identifying tiny behaviours that contribute to each pillar of good health. This isn\\'t the place for grand, aspirational intentions, but rather for small, achievable actions. \\n\\nFor example, instead of saying \"run 5km\" or \"eat no added sugar\", we\\'re looking for things like \"be in bed by 9.30 pm\", \"go for a 2 min walk when you feel the need for a nap\", or \"eat one meal with chopsticks to slow down eating\". \\n\\nThe idea is to focus on small behaviours that contribute to good outcomes. The behavioural science is that focusing on SMALL behaviours builds the correct mindset and contributes to knock-on effects on other changes in that Pillar. In short, progress begets progress.\\n\\nSimon likes to use three SEEDS per pillar, for a total of 15 teeny-weeny daily habits. If that sounds like A LOT to you, he recommends you prioritise them. The top line is what you\\'ll start with. Once you\\'ve done these consistently, add the second line, and so on. \\n\\nAre you ready to start defining your SEEDS? We\\'ll go one category at a time. Let\\'s start with Sleep. Can you think of three small behaviours that could contribute to better sleep?')),\n",
       " (116,\n",
       "  HumanMessage(content='can you give some new examples, three for each category?')),\n",
       " (117,\n",
       "  AIMessage(content=\"Absolutely, Chris! Here are some examples for each category:\\n\\n**Sleep:**\\n1. Set a consistent bedtime and wake-up time.\\n2. Create a relaxing bedtime routine (e.g., reading, listening to calming music).\\n3. Make your bedroom a sleep-friendly environment (e.g., dark, quiet, cool).\\n\\n**Exercise:**\\n1. Take a 10-minute walk after lunch.\\n2. Do a short stretching routine in the morning.\\n3. Take the stairs instead of the elevator.\\n\\n**Eating:**\\n1. Include a serving of vegetables with each meal.\\n2. Swap a processed snack for a piece of fruit.\\n3. Drink a glass of water before each meal.\\n\\n**Drinking:**\\n1. Limit caffeine intake to before noon.\\n2. Swap one sugary drink for a glass of water.\\n3. Have a herbal tea in the evening instead of an alcoholic drink.\\n\\n**Stress Management:**\\n1. Practice 5 minutes of mindfulness meditation each day.\\n2. Write down three things you're grateful for each day.\\n3. Take a few minutes each day to do something you enjoy.\\n\\nRemember, these are just examples. The key is to choose behaviours that feel achievable for you. Ready to give it a go?\")),\n",
       " (118,\n",
       "  HumanMessage(content=\"that's great, let's go with all those exactly as you gave them\")),\n",
       " (119,\n",
       "  AIMessage(content=\"Thank you, Chris. Your SEEDS have been saved. Here's a summary:\\n\\n**Sleep:**\\n1. Set a consistent bedtime and wake-up time.\\n2. Create a relaxing bedtime routine (e.g., reading, listening to calming music).\\n3. Make your bedroom a sleep-friendly environment (e.g., dark, quiet, cool).\\n\\n**Exercise:**\\n1. Take a 10-minute walk after lunch.\\n2. Do a short stretching routine in the morning.\\n3. Take the stairs instead of the elevator.\\n\\n**Eating:**\\n1. Include a serving of vegetables with each meal.\\n2. Swap a processed snack for a piece of fruit.\\n3. Drink a glass of water before each meal.\\n\\n**Drinking:**\\n1. Limit caffeine intake to before noon.\\n2. Swap one sugary drink for a glass of water.\\n3. Have a herbal tea in the evening instead of an alcoholic drink.\\n\\n**Stress Management:**\\n1. Practice 5 minutes of mindfulness meditation each day.\\n2. Write down three things you're grateful for each day.\\n3. Take a few minutes each day to do something you enjoy.\\n\\nLet me know when you're ready to continue on your health journey.\")),\n",
       " (120, HumanMessage(content='sure')),\n",
       " (121,\n",
       "  AIMessage(content=\"Great! Now, would it be a good time to record a SEEDS diary entry? It's a bit like a garden journal, but instead of tracking plant growth, we're tracking the growth of your healthy habits.\")),\n",
       " (122, HumanMessage(content='yes! I got all 15 tasks done')),\n",
       " (123,\n",
       "  AIMessage(content=\"Fantastic! So, for the SEEDS diary entry on October 21, 2023, you've managed to complete all 15 tasks. That's quite an achievement, Chris! \\n\\nLet's quickly review:\\n\\n**Sleep:**\\n1. Set a consistent bedtime and wake-up time.\\n2. Created a relaxing bedtime routine.\\n3. Made your bedroom a sleep-friendly environment.\\n\\n**Exercise:**\\n1. Took a 10-minute walk after lunch.\\n2. Did a short stretching routine in the morning.\\n3. Took the stairs instead of the elevator.\\n\\n**Eating:**\\n1. Included a serving of vegetables with each meal.\\n2. Swapped a processed snack for a piece of fruit.\\n3. Drank a glass of water before each meal.\\n\\n**Drinking:**\\n1. Limited caffeine intake to before noon.\\n2. Swapped one sugary drink for a glass of water.\\n3. Had a herbal tea in the evening instead of an alcoholic drink.\\n\\n**Stress Management:**\\n1. Practiced 5 minutes of mindfulness meditation.\\n2. Wrote down three things you're grateful for.\\n3. Took a few minutes to do something you enjoy.\\n\\nIs this correct?\")),\n",
       " (124, HumanMessage(content=\"that's right\")),\n",
       " (125,\n",
       "  AIMessage(content=\"Thank you, Chris. Your SEEDS diary entry for October 21, 2023, has been saved. \\n\\nHere's a summary:\\n\\n**Sleep:**\\n1. Set a consistent bedtime and wake-up time.\\n2. Created a relaxing bedtime routine.\\n3. Made your bedroom a sleep-friendly environment.\\n\\n**Exercise:**\\n1. Took a 10-minute walk after lunch.\\n2. Did a short stretching routine in the morning.\\n3. Took the stairs instead of the elevator.\\n\\n**Eating:**\\n1. Included a serving of vegetables with each meal.\\n2. Swapped a processed snack for a piece of fruit.\\n3. Drank a glass of water before each meal.\\n\\n**Drinking:**\\n1. Limited caffeine intake to before noon.\\n2. Swapped one sugary drink for a glass of water.\\n3. Had a herbal tea in the evening instead of an alcoholic drink.\\n\\n**Stress Management:**\\n1. Practiced 5 minutes of mindfulness meditation.\\n2. Wrote down three things you're grateful for.\\n3. Took a few minutes to do something you enjoy.\\n\\nYou've managed to complete all 15 tasks today, which is quite an achievement! Keep up the good work.\\n\\nLet me know when you're ready to continue on your health journey.\")),\n",
       " (126, HumanMessage(content=\"let's go!\")),\n",
       " (127,\n",
       "  AIMessage(content=\"Fantastic, Chris! Let's move on to the next part of our journey. \\n\\nI'd like to introduce you to the Values and Life Priorities (VLQ) exercise. It's a bit like a compass, but instead of pointing north, it points towards what's most important to you in life. \\n\\nThe VLQ is a tool to help you identify and clarify your values and life priorities. It's not about setting goals, but rather about defining the direction you want your life to take. \\n\\nThe first step is to identify your values across different life domains, such as family, career, health, and personal growth. Once you've identified your values, the next step is to rate their importance and the extent to which your actions are aligned with them. \\n\\nAre you ready to start identifying your values?\")),\n",
       " (128, HumanMessage(content='sure')),\n",
       " (129,\n",
       "  AIMessage(content=\"Great! Let's start with the first life domain: Family. \\n\\nFamily values might include things like love, support, togetherness, or tradition. \\n\\nWhat are some values that you hold in relation to your family?\")),\n",
       " (130,\n",
       "  HumanMessage(content='the answers to all the questions in all the categories are: 10 and 10')),\n",
       " (131,\n",
       "  AIMessage(content='Thank you, Chris. So, to confirm, for all the life domains (Family, Career, Health, Personal Growth, etc.), you rate the importance of your values as 10 (extremely important) and your actions as being completely aligned with these values (also a 10). \\n\\nIs that correct?')),\n",
       " (132, HumanMessage(content=\"yep! that's right\")),\n",
       " (133,\n",
       "  AIMessage(content=\"Thank you, Chris. Your Values and Life Priorities (VLQ) entry has been saved. \\n\\nHere's a summary:\\n\\nFor all the life domains (Family, Career, Health, Personal Growth, etc.), you rate the importance of your values as 10 (extremely important) and your actions as being completely aligned with these values (also a 10). \\n\\nThis suggests that you have a strong sense of what's important to you in life and that your actions are in line with these values. That's a great place to be!\\n\\nLet me know when you're ready to continue on your health journey.\")),\n",
       " (134, HumanMessage(content=\"ok, let's do it\")),\n",
       " (135,\n",
       "  AIMessage(content=\"Great! Now, let's move on to the next part of our journey. \\n\\nI'd like to introduce you to the concept of a Health History. It's a bit like a medical record, but instead of focusing on illness, we're focusing on health. \\n\\nThe Health History is a tool to help you identify patterns and trends in your health over time. It includes things like sleep patterns, exercise habits, eating habits, and stress levels. \\n\\nThe first step is to identify any significant health events in your past, such as illnesses, injuries, or lifestyle changes. Once you've identified these events, the next step is to rate their impact on your health on a scale from -10 (extremely negative) to +10 (extremely positive). \\n\\nAre you ready to start identifying significant health events in your past?\")),\n",
       " (136, HumanMessage(content='hey')),\n",
       " (137,\n",
       "  AIMessage(content='Hello, Chris! Let\\'s dive right in, shall we? I\\'d like to guide you through an exercise called \"open focus\". It\\'s a bit like a magic trick, but instead of pulling a rabbit out of a hat, we\\'re going to try and change the way you focus your attention. \\n\\nYou see, when we try to change our thoughts, we\\'re taking their content seriously. We have to notice them, evaluate them, and then try to change them. This can actually strengthen their hold over our minds and wake us up. \\n\\nInstead, it can be helpful to broaden our focus, rather than trying to change the content of our thoughts. The open focus exercise is a way to do this. \\n\\nAre you ready to give it a go?')),\n",
       " (138, HumanMessage(content='sure')),\n",
       " (139,\n",
       "  AIMessage(content=\"Fantastic! Let's start with a simple step. \\n\\nI'd like you to take a moment to notice your surroundings. Don't try to change anything, just notice. What can you see? What can you hear? What can you feel? \\n\\nTake a few moments to do this and let me know when you're ready to move on to the next step.\")),\n",
       " (140, HumanMessage(content='ok')),\n",
       " (141,\n",
       "  AIMessage(content=\"Great! Now, let's shift our focus inward. \\n\\nI'd like you to notice your own body. Can you feel your feet on the floor? Can you feel your clothes against your skin? Can you feel the air entering and leaving your body as you breathe?\\n\\nAgain, don't try to change anything. Just notice. Let me know when you're ready to move on to the next step.\")),\n",
       " (142, HumanMessage(content='ok')),\n",
       " (143,\n",
       "  AIMessage(content=\"Well done, Chris. Now, let's shift our focus even further inward. \\n\\nI'd like you to notice your thoughts. What are you thinking right now? Remember, don't try to change your thoughts. Just notice them. \\n\\nAre they fast or slow? Are they words or images? Are they in colour or black and white? \\n\\nTake a few moments to do this and let me know when you're ready to move on to the next step.\")),\n",
       " (144, HumanMessage(content='ok')),\n",
       " (145,\n",
       "  AIMessage(content=\"Excellent, Chris. Now, for the final step, I'd like you to try and hold all these things in your awareness at once. \\n\\nYour surroundings, your body, your thoughts. Can you hold them all in your open focus? \\n\\nRemember, there's no right or wrong here. It's just an exercise in broadening our focus. \\n\\nTake a few moments to do this and let me know when you're ready to finish the exercise.\")),\n",
       " (146, HumanMessage(content='ok')),\n",
       " (147,\n",
       "  AIMessage(content=\"Well done, Chris! You've just completed the open focus exercise. \\n\\nBefore we move on, I'd like to ask: How are you feeling now compared to before the exercise?\")),\n",
       " (148, HumanMessage(content='oh, much better')),\n",
       " (149,\n",
       "  AIMessage(content=\"That's wonderful to hear, Chris! Here's a quick summary:\\n\\n- Name of the exercise: Open Focus Exercise\\n- How you were feeling before the exercise: Not specified\\n- How you're feeling after the exercise: Much better\\n\\nWould you like to save this record of the exercise to the database?\")),\n",
       " (150, HumanMessage(content='sure')),\n",
       " (151,\n",
       "  AIMessage(content=\"Thank you, Chris. Your Open Focus Exercise entry has been saved. \\n\\nLet me know when you're ready to continue on your health journey.\")),\n",
       " (152, HumanMessage(content='ok')),\n",
       " (153,\n",
       "  AIMessage(content=\"Great! Now, let's move on to the next part of our journey. \\n\\nI'd like to introduce you to the concept of a Stress Audit. It's a tool to help you identify what you're currently doing when you're feeling stressed. The goal is to list as many behaviours as you can. Once you're done, we'll categorise them into two categories: problem or solution-focused coping (behaviours that reduce the stressor itself) and emotion-focused coping (behaviours that reduce the emotional impact of the stressor). \\n\\nWe can further categorise these behaviours into adaptive (helpful) and maladaptive (unhelpful). \\n\\nFor example, working longer hours could be categorised as problem-focused and adaptive, while drinking more coffee could be categorised as emotion-focused and maladaptive. \\n\\nOnce you've written down as many behaviours as you can, we'll categorise them and see if there's an imbalance. The goal is to have a balanced list, making use of both problem and emotion-focused coping behaviours, and more adaptive behaviours than maladaptive. \\n\\nAre you ready to start listing your stress-coping behaviours?\")),\n",
       " (154, HumanMessage(content='hey')),\n",
       " (155,\n",
       "  AIMessage(content='Hello, Chris! Let\\'s dive right in, shall we? I\\'d like to guide you through an exercise called \"open focus\". It\\'s a bit like a magic trick, but instead of pulling a rabbit out of a hat, we\\'re going to try and change the way you focus your attention. \\n\\nYou see, when we try to change our thoughts, we\\'re taking their content seriously. We have to notice them, evaluate them, and then try to change them. This can actually strengthen their hold over our minds and wake us up. \\n\\nInstead, it can be helpful to broaden our focus, rather than trying to change the content of our thoughts. The open focus exercise is a way to do this. \\n\\nAre you ready to give it a go?')),\n",
       " (156, HumanMessage(content='sure')),\n",
       " (157,\n",
       "  AIMessage(content=\"Fantastic! Let's start with a simple step. \\n\\nI'd like you to take a moment to notice your surroundings. Don't try to change anything, just notice. What can you see? What can you hear? What can you feel? \\n\\nTake a few moments to do this and let me know when you're ready to move on to the next step.\")),\n",
       " (158, HumanMessage(content='ok')),\n",
       " (159,\n",
       "  AIMessage(content=\"Great! Now, let's shift our focus inward. \\n\\nI'd like you to notice your own body. Can you feel your feet on the floor? Can you feel your clothes against your skin? Can you feel the air entering and leaving your body as you breathe?\\n\\nAgain, don't try to change anything. Just notice. Let me know when you're ready to move on to the next step.\")),\n",
       " (160, HumanMessage(content='ok')),\n",
       " (161,\n",
       "  AIMessage(content=\"Well done, Chris. Now, let's shift our focus even further inward. \\n\\nI'd like you to notice your thoughts. What are you thinking right now? Remember, don't try to change your thoughts. Just notice them. \\n\\nAre they fast or slow? Are they words or images? Are they in colour or black and white? \\n\\nTake a few moments to do this and let me know when you're ready to move on to the next step.\")),\n",
       " (162, HumanMessage(content='ok')),\n",
       " (163,\n",
       "  AIMessage(content=\"Excellent, Chris. Now, for the final step, I'd like you to try and hold all these things in your awareness at once. \\n\\nYour surroundings, your body, your thoughts. Can you hold them all in your open focus? \\n\\nRemember, there's no right or wrong here. It's just an exercise in broadening our focus. \\n\\nTake a few moments to do this and let me know when you're ready to finish the exercise.\")),\n",
       " (164, HumanMessage(content='ok')),\n",
       " (165,\n",
       "  AIMessage(content=\"Well done, Chris! You've just completed the open focus exercise. \\n\\nBefore we move on, I'd like to ask: How are you feeling now compared to before the exercise?\")),\n",
       " (166, HumanMessage(content='oh, much better')),\n",
       " (167,\n",
       "  AIMessage(content=\"That's wonderful to hear, Chris! Here's a quick summary:\\n\\n- Name of the exercise: Open Focus Exercise\\n- How you were feeling before the exercise: Not specified\\n- How you're feeling after the exercise: Much better\\n\\nWould you like to save this record of the exercise to the database?\")),\n",
       " (168, HumanMessage(content='sure')),\n",
       " (169,\n",
       "  AIMessage(content=\"Thank you, Chris. Your Open Focus Exercise entry has been saved. \\n\\nLet me know when you're ready to continue on your health journey.\")),\n",
       " (170, HumanMessage(content='hey')),\n",
       " (171,\n",
       "  AIMessage(content='Hello, Chris! Let\\'s dive right in, shall we? I\\'d like to guide you through an exercise called \"open focus\". It\\'s a bit like a magic trick, but instead of pulling a rabbit out of a hat, we\\'re going to try and change the way you focus your attention. \\n\\nYou see, when we try to change our thoughts, we\\'re taking their content seriously. We have to notice them, evaluate them, and then try to change them. This can actually strengthen their hold over our minds and wake us up. \\n\\nInstead, it can be helpful to broaden our focus, rather than trying to change the content of our thoughts. The open focus exercise is a way to do this. \\n\\nAre you ready to give it a go?')),\n",
       " (172, HumanMessage(content='hey')),\n",
       " (173,\n",
       "  AIMessage(content='Hello, Chris! Let\\'s dive right in, shall we? I\\'d like to guide you through an exercise called \"open focus\". It\\'s a bit like a magic trick, but instead of pulling a rabbit out of a hat, we\\'re going to try and change the way you focus your attention. \\n\\nYou see, when we try to change our thoughts, we\\'re taking their content seriously. We have to notice them, evaluate them, and then try to change them. This can actually strengthen their hold over our minds and wake us up. \\n\\nInstead, it can be helpful to broaden our focus, rather than trying to change the content of our thoughts. The open focus exercise is a way to do this. \\n\\nAre you ready to give it a go?')),\n",
       " (174, HumanMessage(content='hey')),\n",
       " (175,\n",
       "  AIMessage(content='Hello, Chris! Let\\'s dive right in, shall we? I\\'d like to guide you through an exercise called \"open focus\". It\\'s a bit like a magic trick, but instead of pulling a rabbit out of a hat, we\\'re going to try and change the way you focus your attention. \\n\\nYou see, when we try to change our thoughts, we\\'re taking their content seriously. We have to notice them, evaluate them, and then try to change them. This can actually strengthen their hold over our minds and wake us up. \\n\\nInstead, it can be helpful to broaden our focus, rather than trying to change the content of our thoughts. The open focus exercise is a way to do this. \\n\\nAre you ready to give it a go?')),\n",
       " (176, HumanMessage(content='sure')),\n",
       " (177,\n",
       "  AIMessage(content=\"Fantastic! Let's start with a simple step. \\n\\nI'd like you to take a moment to notice your surroundings. Don't try to change anything, just notice. What can you see? What can you hear? What can you feel? \\n\\nTake a few moments to do this and let me know when you're ready to move on to the next step.\")),\n",
       " (178, HumanMessage(content='ok')),\n",
       " (179,\n",
       "  AIMessage(content=\"Great! Now, let's shift our focus inward. \\n\\nI'd like you to notice your own body. Can you feel your feet on the floor? Can you feel your clothes against your skin? Can you feel the air entering and leaving your body as you breathe?\\n\\nAgain, don't try to change anything. Just notice. Let me know when you're ready to move on to the next step.\")),\n",
       " (180, HumanMessage(content='ok')),\n",
       " (181,\n",
       "  AIMessage(content=\"Well done, Chris. Now, let's shift our focus even further inward. \\n\\nI'd like you to notice your thoughts. What are you thinking right now? Remember, don't try to change your thoughts. Just notice them. \\n\\nAre they fast or slow? Are they words or images? Are they in colour or black and white? \\n\\nTake a few moments to do this and let me know when you're ready to move on to the next step.\")),\n",
       " (182, HumanMessage(content='ok')),\n",
       " (183,\n",
       "  AIMessage(content=\"Excellent, Chris. Now, for the final step, I'd like you to try and hold all these things in your awareness at once. \\n\\nYour surroundings, your body, your thoughts. Can you hold them all in your open focus? \\n\\nRemember, there's no right or wrong here. It's just an exercise in broadening our focus. \\n\\nTake a few moments to do this and let me know when you're ready to finish the exercise.\")),\n",
       " (184, HumanMessage(content='ok')),\n",
       " (185,\n",
       "  AIMessage(content=\"Well done, Chris! You've just completed the open focus exercise. \\n\\nBefore we move on, I'd like to ask: How are you feeling now compared to before the exercise?\")),\n",
       " (186, HumanMessage(content='a little better')),\n",
       " (187,\n",
       "  AIMessage(content=\"That's great to hear, Chris! Here's a quick summary:\\n\\n- Name of the exercise: Open Focus Exercise\\n- How you were feeling before the exercise: Not specified\\n- How you're feeling after the exercise: A little better\\n\\nWould you like to save this record of the exercise to the database?\")),\n",
       " (188, HumanMessage(content='sure')),\n",
       " (189,\n",
       "  AIMessage(content=\"Thank you, Chris. Your Open Focus Exercise entry has been saved. \\n\\nLet me know when you're ready to continue on your health journey.\")),\n",
       " (190, HumanMessage(content='sure')),\n",
       " (191,\n",
       "  AIMessage(content=\"Fantastic! Now, let's move on to the next part of our journey. \\n\\nI'd like to introduce you to the concept of a Health History. It's a bit like a medical record, but instead of focusing on illness, we're focusing on health. \\n\\nThe Health History is a tool to help you identify patterns and trends in your health over time. It includes things like sleep patterns, exercise habits, eating habits, and stress levels. \\n\\nThe first step is to identify any significant health events in your past, such as illnesses, injuries, or lifestyle changes. Once you've identified these events, the next step is to rate their impact on your health on a scale from -10 (extremely negative) to +10 (extremely positive). \\n\\nAre you ready to start identifying significant health events in your past?\")),\n",
       " (192, HumanMessage(content='leaves_on_a_stream')),\n",
       " (193,\n",
       "  AIMessage(content='Ah, the \"Leaves on a Stream\" exercise! A classic cognitive defusion technique. It\\'s a wonderful way to help us step back from our thoughts and observe them without getting caught up in them. \\n\\nThe idea is to imagine yourself sitting by a gently flowing stream with leaves floating along the surface. You place each thought that comes into your mind on one of these leaves and let it float by. \\n\\nThis exercise can help us to see our thoughts as just thoughts, allowing them to come and go without struggling with them. \\n\\nIs now a good time to perform the \"Leaves on a Stream\" exercise?')),\n",
       " (194, HumanMessage(content='sure')),\n",
       " (195,\n",
       "  AIMessage(content=\"Brilliant! Let's begin. \\n\\nFirst, I'd like you to find a comfortable position. You can be sitting or lying down, whatever feels best for you. Close your eyes and take a few deep breaths. \\n\\nNow, imagine yourself sitting or lying next to a gently flowing stream with leaves floating along the surface. \\n\\nWhen you're ready, let me know and we'll move on to the next step.\")),\n",
       " (196, HumanMessage(content='ok')),\n",
       " (197,\n",
       "  AIMessage(content=\"Great! Now, for the next step. \\n\\nI'd like you to notice each thought that pops into your mind. If you're having a thought, try to place it on a leaf and let it float by. \\n\\nDon't try to change the thoughts, or get rid of them. Just notice each one, place it on a leaf, and let it float away. \\n\\nTake a few moments to do this and let me know when you're ready to move on to the next step.\")),\n",
       " (198, HumanMessage(content='ok')),\n",
       " (199,\n",
       "  AIMessage(content=\"Well done, Chris. Now, if you notice a thought that's difficult or unhelpful, place it on a leaf, too. \\n\\nIt might be a thought about something you need to do, or a worry, or a regret. Whatever it is, place it on a leaf and let it float away. \\n\\nRemember, we're not trying to get rid of the thoughts or change them. Just noticing them, and letting them float by. \\n\\nTake a few moments to do this and let me know when you're ready to finish the exercise.\")),\n",
       " (200, HumanMessage(content='ok')),\n",
       " (201,\n",
       "  AIMessage(content='Well done, Chris! You\\'ve just completed the \"Leaves on a Stream\" exercise. \\n\\nBefore we move on, I\\'d like to ask: How are you feeling now compared to before the exercise?')),\n",
       " (202, HumanMessage(content='a little better')),\n",
       " (203,\n",
       "  AIMessage(content=\"That's great to hear, Chris! Here's a quick summary:\\n\\n- Name of the exercise: Leaves on a Stream\\n- How you were feeling before the exercise: Not specified\\n- How you're feeling after the exercise: A little better\\n\\nWould you like to save this record of the exercise to the database?\")),\n",
       " (204, HumanMessage(content='sure')),\n",
       " (205,\n",
       "  AIMessage(content='Thank you, Chris. Your \"Leaves on a Stream\" exercise entry has been saved. \\n\\nLet me know when you\\'re ready to continue on your health journey.')),\n",
       " (206, HumanMessage(content='sure')),\n",
       " (207,\n",
       "  AIMessage(content=\"Fantastic! Now, let's move on to the next part of our journey. \\n\\nI'd like to introduce you to the concept of a Health History. It's a bit like a medical record, but instead of focusing on illness, we're focusing on health. \\n\\nThe Health History is a tool to help you identify patterns and trends in your health over time. It includes things like sleep patterns, exercise habits, eating habits, and stress levels. \\n\\nThe first step is to identify any significant health events in your past, such as illnesses, injuries, or lifestyle changes. Once you've identified these events, the next step is to rate their impact on your health on a scale from -10 (extremely negative) to +10 (extremely positive). \\n\\nAre you ready to start identifying significant health events in your past?\"))]"
      ]
     },
     "execution_count": 8,
     "metadata": {},
     "output_type": "execute_result"
    }
   ],
   "source": [
    "list(enumerate(memory.chat_memory.messages))"
   ]
  },
  {
   "cell_type": "code",
   "execution_count": 7,
   "id": "f31ba2d1-f33e-4aa0-8047-e2cd0c4a74da",
   "metadata": {},
   "outputs": [
    {
     "name": "stdout",
     "output_type": "stream",
     "text": [
      "X.load_memory filename='/Users/cck197/Downloads/virtual_greg/memory.pkl'\n"
     ]
    }
   ],
   "source": [
    "memory = X.load_memory()"
   ]
  },
  {
   "cell_type": "code",
   "execution_count": 5,
   "id": "b54232f1-9751-4250-a7cf-e4c4e4daf857",
   "metadata": {},
   "outputs": [],
   "source": [
    "memory.chat_memory.add_user_message(\"yes, that's right. I got all 15 tasks done\");"
   ]
  },
  {
   "cell_type": "code",
   "execution_count": 20,
   "id": "ee68e492-3b94-477e-87c2-71f3d3c7c8a9",
   "metadata": {},
   "outputs": [],
   "source": [
    "memory.chat_memory.messages = memory.chat_memory.messages[:-4]"
   ]
  },
  {
   "cell_type": "code",
   "execution_count": 21,
   "id": "46ccc264-0709-4999-8b64-2e487241c463",
   "metadata": {},
   "outputs": [],
   "source": [
    "X.save_memory(memory)"
   ]
  },
  {
   "cell_type": "code",
   "execution_count": 7,
   "id": "663b2761-c7e2-4b78-8f2e-e3220f70b640",
   "metadata": {},
   "outputs": [
    {
     "data": {
      "text/plain": [
       "<function sleepmate.seeds.save_seeds_diary_entry(memory: langchain.memory.readonly.ReadOnlySharedMemory, goal: str, text: str)>"
      ]
     },
     "execution_count": 7,
     "metadata": {},
     "output_type": "execute_result"
    }
   ],
   "source": [
    "save_seeds_diary_entry("
   ]
  },
  {
   "cell_type": "code",
   "execution_count": null,
   "id": "d37ee8d9-3de7-4d73-9797-1125f28dc41b",
   "metadata": {},
   "outputs": [],
   "source": []
  }
 ],
 "metadata": {
  "kernelspec": {
   "display_name": "Python 3 (ipykernel)",
   "language": "python",
   "name": "python3"
  },
  "language_info": {
   "codemirror_mode": {
    "name": "ipython",
    "version": 3
   },
   "file_extension": ".py",
   "mimetype": "text/x-python",
   "name": "python",
   "nbconvert_exporter": "python",
   "pygments_lexer": "ipython3",
   "version": "3.11.5"
  }
 },
 "nbformat": 4,
 "nbformat_minor": 5
}
