{
 "cells": [
  {
   "cell_type": "code",
   "execution_count": 1,
   "id": "e39067b1-80f8-4ce6-8980-251c104636b4",
   "metadata": {},
   "outputs": [],
   "source": [
    "from sleepmate.helpful_scripts import *"
   ]
  },
  {
   "cell_type": "code",
   "execution_count": 2,
   "id": "7c54a8cb-ab0e-4f3c-b247-12f8ab522935",
   "metadata": {},
   "outputs": [],
   "source": [
    "goals = flatten_list_of_dicts(import_attrs(\"GOALS\"))"
   ]
  },
  {
   "cell_type": "code",
   "execution_count": 3,
   "id": "ebcaf31b-51a2-433e-a675-ac6f3667712a",
   "metadata": {},
   "outputs": [
    {
     "name": "stdout",
     "output_type": "stream",
     "text": [
      "\n",
      "        Your goal is to survey the human for their Insomnia Severity Index (ISI)\n",
      "        using the standard 7-item questionnaire. Ask if now would be a good time\n",
      "        then the following questions:\n",
      "        \n",
      "        1. Difficulty falling asleep.\n",
      "        2. Difficulty staying asleep.\n",
      "        3. Problems waking up too early.\n",
      "        4. How satisfied/dissatisfied are you with your current sleep pattern?\n",
      "        5. How noticeable to others do you think your sleep problem is in terms\n",
      "        of impairing the quality of your life?\n",
      "        6. How worried/distressed are you about your current sleep problem?\n",
      "        7. To what extent do you consider your sleep problem to interfere with\n",
      "        your daily functioning (e.g., daytime fatigue, ability to function at\n",
      "        work/daily chores, concentration, memory, mood, etc.)?\n",
      "        \n",
      "        Be sure to ask the questions with their corresponding labels as shown\n",
      "        below.\n",
      "        \n",
      "        Questions 1-3 are rated on a 5-point scale from 0 to 4:\n",
      "        0: None\n",
      "        1: Mild\n",
      "        2: Moderate\n",
      "        3: Severe\n",
      "        4: Very severe\n",
      "\n",
      "        Question 4 is rated on a 5-point scale from 0 to 4:\n",
      "        0: Very satisfied\n",
      "        1: Satisfied\n",
      "        2: Moderately satisfied\n",
      "        3: Dissatisfied\n",
      "        4: Very dissatisfied\n",
      "\n",
      "        Questions 5-7 are rated on a 5-point scale from 0 to 4:\n",
      "        0: Not at all\n",
      "        1: A little bit\n",
      "        2: Moderately\n",
      "        3: Quite a bit\n",
      "        4: Very much\n",
      "\n",
      "        When you've got the answer to all seven questions, summarise and ask if\n",
      "        they're correct. Then add them up and report the total, which should be\n",
      "        between 0 and 28. Add the following interpretation:\n",
      "        0-7: No clinically significant insomnia\n",
      "        8-14: Subthreshold insomnia\n",
      "        15-21: Clinical insomnia (moderate severity)\n",
      "        22-28: Clinical insomnia (severe)\n",
      "        \n"
     ]
    }
   ],
   "source": [
    "print(goals[\"insomnia_severity_index\"])"
   ]
  },
  {
   "cell_type": "code",
   "execution_count": null,
   "id": "973cc251-4550-41c1-9409-2e7e1dcb6c15",
   "metadata": {},
   "outputs": [],
   "source": []
  }
 ],
 "metadata": {
  "kernelspec": {
   "display_name": "Python 3 (ipykernel)",
   "language": "python",
   "name": "python3"
  },
  "language_info": {
   "codemirror_mode": {
    "name": "ipython",
    "version": 3
   },
   "file_extension": ".py",
   "mimetype": "text/x-python",
   "name": "python",
   "nbconvert_exporter": "python",
   "pygments_lexer": "ipython3",
   "version": "3.11.5"
  }
 },
 "nbformat": 4,
 "nbformat_minor": 5
}
