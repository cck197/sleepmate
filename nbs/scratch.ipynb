{
 "cells": [
  {
   "cell_type": "code",
   "execution_count": 1,
   "id": "973cc251-4550-41c1-9409-2e7e1dcb6c15",
   "metadata": {},
   "outputs": [],
   "source": [
    "from sleepmate.agent import *\n",
    "from sleepmate.mi import *\n",
    "from sleepmate.meta import *"
   ]
  },
  {
   "cell_type": "code",
   "execution_count": 2,
   "id": "7bc7eabc-1415-445d-bd08-c2c0841e1160",
   "metadata": {},
   "outputs": [],
   "source": [
    "!rm -f /Users/cck197/Downloads/virtual_greg/memory.pkl"
   ]
  },
  {
   "cell_type": "code",
   "execution_count": 19,
   "id": "2f9d66a3-4f3d-4ae6-b3c4-80bda85b9469",
   "metadata": {},
   "outputs": [
    {
     "name": "stdout",
     "output_type": "stream",
     "text": [
      "load_memory filename='/Users/cck197/Downloads/virtual_greg/memory.pkl'\n"
     ]
    }
   ],
   "source": [
    "x_ = MetaX(X.load_memory())"
   ]
  },
  {
   "cell_type": "code",
   "execution_count": 20,
   "id": "47fb00e1-91c8-49c4-ae2b-6d4acede2308",
   "metadata": {},
   "outputs": [
    {
     "name": "stdout",
     "output_type": "stream",
     "text": [
      "\n",
      "\n",
      "\u001b[1m> Entering new AgentExecutor chain...\u001b[0m\n",
      "\u001b[32;1m\u001b[1;3mThought: The user has completed the Insomnia Severity Index, recorded a sleep diary entry, and recorded a SEEDS diary entry. The next step would be to introduce the Valued Living Questionnaire.\n",
      "Action: valued_living\n",
      "Action Input: {}\u001b[0m\n",
      "\n",
      "Observation:\u001b[33;1m\u001b[1;3mvalued_living\u001b[0m\n",
      "\u001b[32;1m\u001b[1;3m\u001b[0m\n",
      "\n",
      "\u001b[1m> Finished chain.\u001b[0m\n"
     ]
    },
    {
     "data": {
      "text/plain": [
       "'valued_living'"
      ]
     },
     "execution_count": 20,
     "metadata": {},
     "output_type": "execute_result"
    }
   ],
   "source": [
    "goal = x_(); goal"
   ]
  },
  {
   "cell_type": "code",
   "execution_count": 21,
   "id": "52f33c83-ea42-40a5-9fb6-4ac4f53bd865",
   "metadata": {},
   "outputs": [
    {
     "name": "stdout",
     "output_type": "stream",
     "text": [
      "get_agent len(tools)=9\n",
      "load_memory filename='/Users/cck197/Downloads/virtual_greg/memory.pkl'\n"
     ]
    },
    {
     "data": {
      "text/markdown": [
       "Hello again, Chris! How can I assist you today?"
      ],
      "text/plain": [
       "<IPython.core.display.Markdown object>"
      ]
     },
     "metadata": {},
     "output_type": "display_data"
    }
   ],
   "source": [
    "x = X(SYSTEM_DESCRIPTION, goals[goal])"
   ]
  },
  {
   "cell_type": "code",
   "execution_count": 22,
   "id": "de076c96-9dae-4f04-a091-abf1f334b36a",
   "metadata": {},
   "outputs": [
    {
     "data": {
      "text/markdown": [
       "I'm sorry for any confusion, but as an AI, I don't have the ability to store or retrieve personal data unless it's shared with me in the course of our conversation. I'm designed to respect user privacy and confidentiality. However, I can help guide you on how to keep track of your sleep diary. You can note down important aspects like the time you go to bed, how long it takes you to fall asleep, any instances of waking up during the night, and how you feel upon waking up. This can be very helpful in understanding and improving your sleep patterns."
      ],
      "text/plain": [
       "<IPython.core.display.Markdown object>"
      ]
     },
     "metadata": {},
     "output_type": "display_data"
    },
    {
     "data": {
      "text/plain": [
       "\"I'm sorry for any confusion, but as an AI, I don't have the ability to store or retrieve personal data unless it's shared with me in the course of our conversation. I'm designed to respect user privacy and confidentiality. However, I can help guide you on how to keep track of your sleep diary. You can note down important aspects like the time you go to bed, how long it takes you to fall asleep, any instances of waking up during the night, and how you feel upon waking up. This can be very helpful in understanding and improving your sleep patterns.\""
      ]
     },
     "execution_count": 22,
     "metadata": {},
     "output_type": "execute_result"
    }
   ],
   "source": [
    "x(\"show my sleep diary entry\")"
   ]
  },
  {
   "cell_type": "code",
   "execution_count": 14,
   "id": "4ac52b8d-3c86-4398-9675-03a754a47f3c",
   "metadata": {},
   "outputs": [
    {
     "data": {
      "text/markdown": [
       "Sure, Chris! Is now a good time for you to record a SEEDS diary entry?"
      ],
      "text/plain": [
       "<IPython.core.display.Markdown object>"
      ]
     },
     "metadata": {},
     "output_type": "display_data"
    },
    {
     "data": {
      "text/plain": [
       "'Sure, Chris! Is now a good time for you to record a SEEDS diary entry?'"
      ]
     },
     "execution_count": 14,
     "metadata": {},
     "output_type": "execute_result"
    }
   ],
   "source": [
    "x(\"seeds\")"
   ]
  },
  {
   "cell_type": "code",
   "execution_count": 15,
   "id": "b43f9035-f2f1-40b0-bf93-e1e7abe89442",
   "metadata": {},
   "outputs": [
    {
     "data": {
      "text/markdown": [
       "Great! Let's start with the first pillar, Sleep. \n",
       "\n",
       "1. **Sleep**: Did you manage to be in bed by 9:30 pm, turn off your cell phone by 8 pm, and avoid caffeine after 12 pm?"
      ],
      "text/plain": [
       "<IPython.core.display.Markdown object>"
      ]
     },
     "metadata": {},
     "output_type": "display_data"
    },
    {
     "data": {
      "text/plain": [
       "\"Great! Let's start with the first pillar, Sleep. \\n\\n1. **Sleep**: Did you manage to be in bed by 9:30 pm, turn off your cell phone by 8 pm, and avoid caffeine after 12 pm?\""
      ]
     },
     "execution_count": 15,
     "metadata": {},
     "output_type": "execute_result"
    }
   ],
   "source": [
    "x(\"yep!\")"
   ]
  },
  {
   "cell_type": "code",
   "execution_count": 16,
   "id": "c888aa97-0cb4-47f0-a756-9cbe5135d736",
   "metadata": {},
   "outputs": [
    {
     "data": {
      "text/markdown": [
       "That's fantastic, Chris! You managed to complete all the tasks in each category. Here's a summary:\n",
       "\n",
       "1. **Sleep**: You were in bed by 9:30 pm, turned off your cell phone by 8 pm, and avoided caffeine after 12 pm.\n",
       "2. **Exercise**: You walked outside for 10 minutes before 9:30 am, did 10 push-ups while the coffee was brewing, and took the stairs instead of the elevator at work.\n",
       "3. **Eating**: You ate one meal with chopsticks to slow down eating, ate 50g of protein with every meal, and included at least one serving of vegetables in each meal.\n",
       "4. **Drinking**: You drank at least 8 glasses of water, didn't drink out of anything plastic, and drank fizzy water from 6-8 pm.\n",
       "5. **Stress management**: You wrote down three tiny things you've been grateful for, did the \"leaves on a stream\" or \"open focus\" exercises, and spent 10 minutes each day in quiet reflection or meditation.\n",
       "\n",
       "Does this summary accurately reflect your SEEDS for the day?"
      ],
      "text/plain": [
       "<IPython.core.display.Markdown object>"
      ]
     },
     "metadata": {},
     "output_type": "display_data"
    },
    {
     "data": {
      "text/plain": [
       "'That\\'s fantastic, Chris! You managed to complete all the tasks in each category. Here\\'s a summary:\\n\\n1. **Sleep**: You were in bed by 9:30 pm, turned off your cell phone by 8 pm, and avoided caffeine after 12 pm.\\n2. **Exercise**: You walked outside for 10 minutes before 9:30 am, did 10 push-ups while the coffee was brewing, and took the stairs instead of the elevator at work.\\n3. **Eating**: You ate one meal with chopsticks to slow down eating, ate 50g of protein with every meal, and included at least one serving of vegetables in each meal.\\n4. **Drinking**: You drank at least 8 glasses of water, didn\\'t drink out of anything plastic, and drank fizzy water from 6-8 pm.\\n5. **Stress management**: You wrote down three tiny things you\\'ve been grateful for, did the \"leaves on a stream\" or \"open focus\" exercises, and spent 10 minutes each day in quiet reflection or meditation.\\n\\nDoes this summary accurately reflect your SEEDS for the day?'"
      ]
     },
     "execution_count": 16,
     "metadata": {},
     "output_type": "execute_result"
    }
   ],
   "source": [
    "x(\"yep I got everything done in all categories\")"
   ]
  },
  {
   "cell_type": "code",
   "execution_count": 17,
   "id": "bd301739-2e57-4edc-8df5-aee7a1b8f488",
   "metadata": {},
   "outputs": [
    {
     "data": {
      "text/markdown": [
       "That's excellent, Chris! You've done a fantastic job following your SEEDS routine. You've managed to complete all the tasks in each category, which is a great achievement. Your score for today is 15/15. Keep up the good work! 🚀🚀🚀"
      ],
      "text/plain": [
       "<IPython.core.display.Markdown object>"
      ]
     },
     "metadata": {},
     "output_type": "display_data"
    },
    {
     "data": {
      "text/plain": [
       "\"That's excellent, Chris! You've done a fantastic job following your SEEDS routine. You've managed to complete all the tasks in each category, which is a great achievement. Your score for today is 15/15. Keep up the good work! 🚀🚀🚀\""
      ]
     },
     "execution_count": 17,
     "metadata": {},
     "output_type": "execute_result"
    }
   ],
   "source": [
    "x(\"yep!\")"
   ]
  },
  {
   "cell_type": "code",
   "execution_count": 18,
   "id": "59e06a39-6d2a-4e5a-9fe5-7b65b93dd6da",
   "metadata": {},
   "outputs": [
    {
     "data": {
      "text/plain": [
       "True"
      ]
     },
     "execution_count": 18,
     "metadata": {},
     "output_type": "execute_result"
    }
   ],
   "source": [
    "x.goal_accomplished"
   ]
  },
  {
   "cell_type": "code",
   "execution_count": null,
   "id": "ce72f47b-d73f-44f9-8ea8-3a0114dd9580",
   "metadata": {},
   "outputs": [],
   "source": []
  }
 ],
 "metadata": {
  "kernelspec": {
   "display_name": "Python 3 (ipykernel)",
   "language": "python",
   "name": "python3"
  },
  "language_info": {
   "codemirror_mode": {
    "name": "ipython",
    "version": 3
   },
   "file_extension": ".py",
   "mimetype": "text/x-python",
   "name": "python",
   "nbconvert_exporter": "python",
   "pygments_lexer": "ipython3",
   "version": "3.11.5"
  }
 },
 "nbformat": 4,
 "nbformat_minor": 5
}
