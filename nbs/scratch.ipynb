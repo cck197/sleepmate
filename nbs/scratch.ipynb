{
 "cells": [
  {
   "cell_type": "code",
   "execution_count": 10,
   "id": "0412c0d9-75c9-4aea-989d-40b0b5325ef5",
   "metadata": {},
   "outputs": [],
   "source": [
    "# Load staging environment\n",
    "#from dotenv import load_dotenv\n",
    "#load_dotenv(\"../.env-stage\")"
   ]
  },
  {
   "cell_type": "code",
   "execution_count": 1,
   "id": "525273e3-999e-42a7-ac45-ead2db7fc754",
   "metadata": {},
   "outputs": [],
   "source": [
    "from sleepmate.executor import *\n",
    "from sleepmate.act import *\n",
    "from sleepmate.helpful_scripts import *\n",
    "from sleepmate.diary import *\n",
    "from sleepmate.goal import *\n",
    "from sleepmate.seeds import *\n",
    "from sleepmate.structured import *\n",
    "from sleepmate.history import *\n",
    "from sleepmate.config import *\n",
    "from sleepmate.history import *\n",
    "from sleepmate.knowledge import *\n",
    "from sleepmate.user import *\n",
    "from sleepmate.meet import *\n",
    "from sleepmate.db import *\n",
    "from sleepmate.bmi import *\n",
    "from sleepmate.stopbang import *\n",
    "from sleepmate.mi import *\n",
    "from sleepmate.nudge import *"
   ]
  },
  {
   "cell_type": "code",
   "execution_count": 2,
   "id": "2839e660-287e-454a-8e60-60333d0a8202",
   "metadata": {},
   "outputs": [],
   "source": [
    "username=\"ivy0484\"\n",
    "username=\"cck197\"\n",
    "username=\"chris\"\n",
    "#username=\"juliekelly#6180\""
   ]
  },
  {
   "cell_type": "code",
   "execution_count": 4,
   "id": "949aa278-8f3e-4a4d-95b4-58f535d86243",
   "metadata": {},
   "outputs": [],
   "source": [
    "x = X(username=username, hello=None)"
   ]
  },
  {
   "cell_type": "code",
   "execution_count": 5,
   "id": "aef9dd60-ca5e-4eb9-a011-8b2bdfcce68b",
   "metadata": {},
   "outputs": [
    {
     "data": {
      "text/plain": [
       "sleep50"
      ]
     },
     "execution_count": 5,
     "metadata": {},
     "output_type": "execute_result"
    }
   ],
   "source": [
    "x.get_next_goal()"
   ]
  },
  {
   "cell_type": "code",
   "execution_count": 8,
   "id": "24fbab33-f703-4eb5-938d-117908a519ed",
   "metadata": {},
   "outputs": [
    {
     "data": {
      "text/markdown": [
       "N3 sleep, also known as deep sleep or slow-wave sleep (SWS), is the third stage of non-rapid eye movement (NREM) sleep and is characterized by the following:\n",
       "\n",
       "- It features the slowest brain waves during the sleep cycle, known as delta waves.\n",
       "- It is considered the most restorative phase of sleep, during which the body repairs and regrows tissues, builds bone and muscle, and strengthens the immune system.\n",
       "- N3 sleep is associated with memory consolidation, particularly the conversion of short-term memories into long-term storage.\n",
       "- It typically makes up 20-25% of a normal adult's sleep cycle and is more prevalent in the first half of the night.\n",
       "- The proportion of N3 sleep can be increased with certain interventions, such as auditory stimulation with non-phase-locked pink noise.\n",
       "\n",
       "N3 sleep is crucial for physical and cognitive health, and disruptions in this stage of sleep can have negative impacts on overall well-being."
      ],
      "text/plain": [
       "<IPython.core.display.Markdown object>"
      ]
     },
     "metadata": {},
     "output_type": "display_data"
    }
   ],
   "source": [
    "x(\"what is N3 sleep?\");"
   ]
  },
  {
   "cell_type": "code",
   "execution_count": 9,
   "id": "c158c580-5f1c-47c3-8f87-8f6efc9f7d4b",
   "metadata": {},
   "outputs": [
    {
     "data": {
      "text/markdown": [
       "Your mattress can significantly affect N3 sleep, or deep sleep, in several ways:\n",
       "\n",
       "1. **Comfort**: A comfortable mattress that provides the right balance of support and softness can help reduce physical discomfort and pain, which might otherwise interrupt deep sleep cycles.\n",
       "\n",
       "2. **Support**: Proper support from a mattress helps maintain spinal alignment, which can prevent tossing and turning that might disrupt the progression into deeper stages of sleep.\n",
       "\n",
       "3. **Temperature Regulation**: Mattresses that retain too much heat can cause you to become too warm, leading to sleep disturbances. Conversely, a mattress that aids in temperature regulation can promote uninterrupted N3 sleep.\n",
       "\n",
       "4. **Pressure Relief**: A mattress that relieves pressure points by distributing your body weight evenly can reduce the likelihood of waking up during the night, thus allowing for longer periods of deep sleep.\n",
       "\n",
       "5. **Motion Isolation**: If you share your bed, a mattress with good motion isolation can minimize the impact of your partner's movements, helping you maintain deep sleep.\n",
       "\n",
       "6. **Material**: The materials used in a mattress, such as memory foam, latex, or innerspring, can affect breathability, comfort, and support, all of which contribute to the quality of N3 sleep.\n",
       "\n",
       "7. **Age of Mattress**: Over time, mattresses can lose their supportive qualities and become less comfortable, which can hinder your ability to achieve deep sleep.\n",
       "\n",
       "Ensuring that your mattress is conducive to good sleep hygiene can help you maximize the amount of restorative N3 sleep you get each night."
      ],
      "text/plain": [
       "<IPython.core.display.Markdown object>"
      ]
     },
     "metadata": {},
     "output_type": "display_data"
    }
   ],
   "source": [
    "x(\"how does my mattress affect it?\");"
   ]
  },
  {
   "cell_type": "code",
   "execution_count": 17,
   "id": "d48c327a-894f-4cd5-8c9c-c9bfb68f947e",
   "metadata": {},
   "outputs": [
    {
     "name": "stderr",
     "output_type": "stream",
     "text": [
      "2023-11-07 07:36:37 INFO     sleepmate.executor 65441d87316d0ff8334f1893 seeds_entry -> all_for_now\n",
      "2023-11-07 07:36:39 INFO     sleepmate.seeds get_seeds_diary_entry db_entry=<SeedsDiaryEntry: SeedsDiaryEntry object>\n"
     ]
    },
    {
     "data": {
      "text/markdown": [
       "Here's a summary of your last SEEDS diary entry from November 6, 2023:\n",
       "\n",
       "- **Sleep**\n",
       "  - Get outside and walk by 9am: Completed\n",
       "  - Get in the sauna at 8pm: Completed\n",
       "  - No chocolate after 7pm: Completed\n",
       "\n",
       "- **Exercise**\n",
       "  - Do two pistol squats on each leg after dinner: Not completed\n",
       "  - Walk around the block after lunch: Completed\n",
       "  - Do one solo drill for upcoming jujitsu class: Completed\n",
       "\n",
       "- **Eating**\n",
       "  - No more than 3/4 bar of chocolate per day: Completed\n",
       "\n",
       "- **Drinking**\n",
       "  - Drink three glasses of water per day: Completed\n",
       "\n",
       "- **Stress**\n",
       "  - Do the open focus exercise: Not completed\n",
       "  - Write down three things I’m grateful for: Completed\n",
       "  - Send one message to a friend: Completed\n",
       "\n",
       "It looks like you've had quite a productive day! If you're ready to continue on your health journey, just say hey."
      ],
      "text/plain": [
       "<IPython.core.display.Markdown object>"
      ]
     },
     "metadata": {},
     "output_type": "display_data"
    }
   ],
   "source": [
    "x(\"summarise my last seeds diary entry\");"
   ]
  },
  {
   "cell_type": "code",
   "execution_count": 10,
   "id": "a70fa4fa-e6a2-4d1e-bcc1-5125361fd5f4",
   "metadata": {},
   "outputs": [],
   "source": [
    "db_entry = get_current_seeds(x.db_user_id)"
   ]
  },
  {
   "cell_type": "code",
   "execution_count": 14,
   "id": "a261e02a-3459-4955-a24f-f362f3547c08",
   "metadata": {},
   "outputs": [
    {
     "data": {
      "text/plain": [
       "datetime.datetime"
      ]
     },
     "execution_count": 14,
     "metadata": {},
     "output_type": "execute_result"
    }
   ],
   "source": [
    "datetime"
   ]
  },
  {
   "cell_type": "code",
   "execution_count": 15,
   "id": "cca86a50-9686-42d1-b192-05020626698e",
   "metadata": {},
   "outputs": [],
   "source": [
    "db_entry.date = datetime(2023, 11, 6, 0, 0)"
   ]
  },
  {
   "cell_type": "code",
   "execution_count": 16,
   "id": "56928f06-7ca7-4068-aee7-193f943e71b3",
   "metadata": {},
   "outputs": [
    {
     "data": {
      "text/plain": [
       "<SeedsDiaryEntry: SeedsDiaryEntry object>"
      ]
     },
     "execution_count": 16,
     "metadata": {},
     "output_type": "execute_result"
    }
   ],
   "source": [
    "db_entry.save()"
   ]
  },
  {
   "cell_type": "code",
   "execution_count": 13,
   "id": "de51cd71-56ac-4436-8586-b40e419618bc",
   "metadata": {},
   "outputs": [
    {
     "data": {
      "text/markdown": [
       "Yesterday's date was November 6, 2023. Shall we use this date for your SEEDS diary entry, or would you like to record for a different date?"
      ],
      "text/plain": [
       "<IPython.core.display.Markdown object>"
      ]
     },
     "metadata": {},
     "output_type": "display_data"
    }
   ],
   "source": [
    "x(\"what's yesterday's date?\");"
   ]
  },
  {
   "cell_type": "code",
   "execution_count": 5,
   "id": "7c9f29a7-d26c-4b30-8b1e-359fb8b72124",
   "metadata": {},
   "outputs": [
    {
     "name": "stderr",
     "output_type": "stream",
     "text": [
      "2023-11-04 06:12:02 INFO     sleepmate.executor 65441d87316d0ff8334f1893 None -> leaves_on_a_stream\n",
      "2023-11-04 06:12:10 INFO     sleepmate.act save_exercise_entry entry=ExerciseEntry(date=datetime.datetime(2023, 11, 4, 6, 12, 10, 590083), name='Leaves on a Stream', notes='Before the exercise, the user seemed open and ready to engage. After the exercise, the user reported feeling really good, with a sense of calm and a smile brought on by thoughts of people in their life.')\n"
     ]
    },
    {
     "data": {
      "text/markdown": [
       "Brilliant! Your exercise entry has been saved successfully. Remember, you can always revisit these exercises whenever you need. \n",
       "\n",
       "When you're ready to continue on your health journey, just say \"hey\"."
      ],
      "text/plain": [
       "<IPython.core.display.Markdown object>"
      ]
     },
     "metadata": {},
     "output_type": "display_data"
    },
    {
     "name": "stderr",
     "output_type": "stream",
     "text": [
      "2023-11-04 06:12:14 INFO     sleepmate.executor clear_chat_history: leaves_on_a_stream -> valued_living (65441d87316d0ff8334f1893 cleared)\n"
     ]
    }
   ],
   "source": [
    "x(\"save my exercise entry\");"
   ]
  },
  {
   "cell_type": "code",
   "execution_count": 8,
   "id": "9bfc9a92-b310-43e6-843d-7aba24eadd50",
   "metadata": {},
   "outputs": [],
   "source": [
    "entry = get_stop_bang_from_memory(x)"
   ]
  },
  {
   "cell_type": "code",
   "execution_count": 9,
   "id": "178776a5-343d-431b-ae4d-34b2f4f75a0e",
   "metadata": {},
   "outputs": [
    {
     "data": {
      "text/plain": [
       "StopBang(date=datetime.datetime(2023, 11, 3, 7, 47, 8, 1702), snoring=False, tired=True, observed=False, pressure=False, neck=39.0, score=2)"
      ]
     },
     "execution_count": 9,
     "metadata": {},
     "output_type": "execute_result"
    }
   ],
   "source": [
    "entry"
   ]
  },
  {
   "cell_type": "code",
   "execution_count": 11,
   "id": "311d09a2-b30d-4e5b-b2db-3768a1963155",
   "metadata": {},
   "outputs": [
    {
     "data": {
      "text/plain": [
       "<StopBang: StopBang object>"
      ]
     },
     "execution_count": 11,
     "metadata": {},
     "output_type": "execute_result"
    }
   ],
   "source": [
    "save_stop_bang_to_db(x.db_user_id, entry)"
   ]
  },
  {
   "cell_type": "code",
   "execution_count": null,
   "id": "bca1d09c-bca0-42a6-a4e4-0b682f80b735",
   "metadata": {},
   "outputs": [],
   "source": []
  },
  {
   "cell_type": "code",
   "execution_count": null,
   "id": "c67c68c8-5600-46f5-be87-87ef775baaa0",
   "metadata": {},
   "outputs": [],
   "source": []
  },
  {
   "cell_type": "code",
   "execution_count": 5,
   "id": "20a3b5ad-c87a-4ed5-8937-fa7d4b1e6667",
   "metadata": {
    "collapsed": true,
    "jupyter": {
     "outputs_hidden": true
    }
   },
   "outputs": [
    {
     "ename": "InvalidQueryError",
     "evalue": "Cannot resolve field \"user\"",
     "output_type": "error",
     "traceback": [
      "\u001b[0;31m---------------------------------------------------------------------------\u001b[0m",
      "\u001b[0;31mLookUpError\u001b[0m                               Traceback (most recent call last)",
      "File \u001b[0;32m~/Library/Caches/pypoetry/virtualenvs/sleepmate-kok1GflL-py3.11/lib/python3.11/site-packages/mongoengine/queryset/transform.py:95\u001b[0m, in \u001b[0;36mquery\u001b[0;34m(_doc_cls, **kwargs)\u001b[0m\n\u001b[1;32m     94\u001b[0m \u001b[38;5;28;01mtry\u001b[39;00m:\n\u001b[0;32m---> 95\u001b[0m     fields \u001b[38;5;241m=\u001b[39m \u001b[43m_doc_cls\u001b[49m\u001b[38;5;241;43m.\u001b[39;49m\u001b[43m_lookup_field\u001b[49m\u001b[43m(\u001b[49m\u001b[43mparts\u001b[49m\u001b[43m)\u001b[49m\n\u001b[1;32m     96\u001b[0m \u001b[38;5;28;01mexcept\u001b[39;00m \u001b[38;5;167;01mException\u001b[39;00m \u001b[38;5;28;01mas\u001b[39;00m e:\n",
      "File \u001b[0;32m~/Library/Caches/pypoetry/virtualenvs/sleepmate-kok1GflL-py3.11/lib/python3.11/site-packages/mongoengine/base/document.py:1133\u001b[0m, in \u001b[0;36mBaseDocument._lookup_field\u001b[0;34m(cls, parts)\u001b[0m\n\u001b[1;32m   1132\u001b[0m     \u001b[38;5;28;01melse\u001b[39;00m:\n\u001b[0;32m-> 1133\u001b[0m         \u001b[38;5;28;01mraise\u001b[39;00m LookUpError(\u001b[38;5;124m'\u001b[39m\u001b[38;5;124mCannot resolve field \u001b[39m\u001b[38;5;124m\"\u001b[39m\u001b[38;5;132;01m%s\u001b[39;00m\u001b[38;5;124m\"\u001b[39m\u001b[38;5;124m'\u001b[39m \u001b[38;5;241m%\u001b[39m field_name)\n\u001b[1;32m   1134\u001b[0m \u001b[38;5;28;01melse\u001b[39;00m:\n",
      "\u001b[0;31mLookUpError\u001b[0m: Cannot resolve field \"user\"",
      "\nDuring handling of the above exception, another exception occurred:\n",
      "\u001b[0;31mInvalidQueryError\u001b[0m                         Traceback (most recent call last)",
      "Cell \u001b[0;32mIn[5], line 1\u001b[0m\n\u001b[0;32m----> 1\u001b[0m entry \u001b[38;5;241m=\u001b[39m \u001b[43mDBSeedsDiaryEntry\u001b[49m\u001b[38;5;241;43m.\u001b[39;49m\u001b[43mobjects\u001b[49m\u001b[43m(\u001b[49m\u001b[43muser\u001b[49m\u001b[38;5;241;43m=\u001b[39;49m\u001b[43mx\u001b[49m\u001b[38;5;241;43m.\u001b[39;49m\u001b[43mdb_user_id\u001b[49m\u001b[43m)\u001b[49m\u001b[38;5;241;43m.\u001b[39;49m\u001b[43morder_by\u001b[49m\u001b[43m(\u001b[49m\u001b[38;5;124;43m\"\u001b[39;49m\u001b[38;5;124;43m-id\u001b[39;49m\u001b[38;5;124;43m\"\u001b[39;49m\u001b[43m)\u001b[49m\u001b[38;5;241;43m.\u001b[39;49m\u001b[43mfirst\u001b[49m\u001b[43m(\u001b[49m\u001b[43m)\u001b[49m\n",
      "File \u001b[0;32m~/Library/Caches/pypoetry/virtualenvs/sleepmate-kok1GflL-py3.11/lib/python3.11/site-packages/mongoengine/queryset/base.py:296\u001b[0m, in \u001b[0;36mBaseQuerySet.first\u001b[0;34m(self)\u001b[0m\n\u001b[1;32m    293\u001b[0m     \u001b[38;5;28;01mreturn\u001b[39;00m \u001b[38;5;28;01mNone\u001b[39;00m\n\u001b[1;32m    295\u001b[0m \u001b[38;5;28;01mtry\u001b[39;00m:\n\u001b[0;32m--> 296\u001b[0m     result \u001b[38;5;241m=\u001b[39m \u001b[43mqueryset\u001b[49m\u001b[43m[\u001b[49m\u001b[38;5;241;43m0\u001b[39;49m\u001b[43m]\u001b[49m\n\u001b[1;32m    297\u001b[0m \u001b[38;5;28;01mexcept\u001b[39;00m \u001b[38;5;167;01mIndexError\u001b[39;00m:\n\u001b[1;32m    298\u001b[0m     result \u001b[38;5;241m=\u001b[39m \u001b[38;5;28;01mNone\u001b[39;00m\n",
      "File \u001b[0;32m~/Library/Caches/pypoetry/virtualenvs/sleepmate-kok1GflL-py3.11/lib/python3.11/site-packages/mongoengine/queryset/base.py:203\u001b[0m, in \u001b[0;36mBaseQuerySet.__getitem__\u001b[0;34m(self, key)\u001b[0m\n\u001b[1;32m    199\u001b[0m     \u001b[38;5;28;01mif\u001b[39;00m queryset\u001b[38;5;241m.\u001b[39m_as_pymongo:\n\u001b[1;32m    200\u001b[0m         \u001b[38;5;28;01mreturn\u001b[39;00m queryset\u001b[38;5;241m.\u001b[39m_cursor[key]\n\u001b[1;32m    202\u001b[0m     \u001b[38;5;28;01mreturn\u001b[39;00m queryset\u001b[38;5;241m.\u001b[39m_document\u001b[38;5;241m.\u001b[39m_from_son(\n\u001b[0;32m--> 203\u001b[0m         \u001b[43mqueryset\u001b[49m\u001b[38;5;241;43m.\u001b[39;49m\u001b[43m_cursor\u001b[49m[key],\n\u001b[1;32m    204\u001b[0m         _auto_dereference\u001b[38;5;241m=\u001b[39m\u001b[38;5;28mself\u001b[39m\u001b[38;5;241m.\u001b[39m_auto_dereference,\n\u001b[1;32m    205\u001b[0m     )\n\u001b[1;32m    207\u001b[0m \u001b[38;5;28;01mraise\u001b[39;00m \u001b[38;5;167;01mTypeError\u001b[39;00m(\u001b[38;5;124m\"\u001b[39m\u001b[38;5;124mProvide a slice or an integer index\u001b[39m\u001b[38;5;124m\"\u001b[39m)\n",
      "File \u001b[0;32m~/Library/Caches/pypoetry/virtualenvs/sleepmate-kok1GflL-py3.11/lib/python3.11/site-packages/mongoengine/queryset/base.py:1681\u001b[0m, in \u001b[0;36mBaseQuerySet._cursor\u001b[0;34m(self)\u001b[0m\n\u001b[1;32m   1677\u001b[0m     \u001b[38;5;28mself\u001b[39m\u001b[38;5;241m.\u001b[39m_cursor_obj \u001b[38;5;241m=\u001b[39m \u001b[38;5;28mself\u001b[39m\u001b[38;5;241m.\u001b[39m_collection\u001b[38;5;241m.\u001b[39mwith_options(\n\u001b[1;32m   1678\u001b[0m         read_preference\u001b[38;5;241m=\u001b[39m\u001b[38;5;28mself\u001b[39m\u001b[38;5;241m.\u001b[39m_read_preference, read_concern\u001b[38;5;241m=\u001b[39m\u001b[38;5;28mself\u001b[39m\u001b[38;5;241m.\u001b[39m_read_concern\n\u001b[1;32m   1679\u001b[0m     )\u001b[38;5;241m.\u001b[39mfind(\u001b[38;5;28mself\u001b[39m\u001b[38;5;241m.\u001b[39m_query, \u001b[38;5;241m*\u001b[39m\u001b[38;5;241m*\u001b[39m\u001b[38;5;28mself\u001b[39m\u001b[38;5;241m.\u001b[39m_cursor_args)\n\u001b[1;32m   1680\u001b[0m \u001b[38;5;28;01melse\u001b[39;00m:\n\u001b[0;32m-> 1681\u001b[0m     \u001b[38;5;28mself\u001b[39m\u001b[38;5;241m.\u001b[39m_cursor_obj \u001b[38;5;241m=\u001b[39m \u001b[38;5;28mself\u001b[39m\u001b[38;5;241m.\u001b[39m_collection\u001b[38;5;241m.\u001b[39mfind(\u001b[38;5;28;43mself\u001b[39;49m\u001b[38;5;241;43m.\u001b[39;49m\u001b[43m_query\u001b[49m, \u001b[38;5;241m*\u001b[39m\u001b[38;5;241m*\u001b[39m\u001b[38;5;28mself\u001b[39m\u001b[38;5;241m.\u001b[39m_cursor_args)\n\u001b[1;32m   1683\u001b[0m \u001b[38;5;66;03m# Apply \"where\" clauses to cursor\u001b[39;00m\n\u001b[1;32m   1684\u001b[0m \u001b[38;5;28;01mif\u001b[39;00m \u001b[38;5;28mself\u001b[39m\u001b[38;5;241m.\u001b[39m_where_clause:\n",
      "File \u001b[0;32m~/Library/Caches/pypoetry/virtualenvs/sleepmate-kok1GflL-py3.11/lib/python3.11/site-packages/mongoengine/queryset/base.py:1730\u001b[0m, in \u001b[0;36mBaseQuerySet._query\u001b[0;34m(self)\u001b[0m\n\u001b[1;32m   1727\u001b[0m \u001b[38;5;129m@property\u001b[39m\n\u001b[1;32m   1728\u001b[0m \u001b[38;5;28;01mdef\u001b[39;00m \u001b[38;5;21m_query\u001b[39m(\u001b[38;5;28mself\u001b[39m):\n\u001b[1;32m   1729\u001b[0m     \u001b[38;5;28;01mif\u001b[39;00m \u001b[38;5;28mself\u001b[39m\u001b[38;5;241m.\u001b[39m_mongo_query \u001b[38;5;129;01mis\u001b[39;00m \u001b[38;5;28;01mNone\u001b[39;00m:\n\u001b[0;32m-> 1730\u001b[0m         \u001b[38;5;28mself\u001b[39m\u001b[38;5;241m.\u001b[39m_mongo_query \u001b[38;5;241m=\u001b[39m \u001b[38;5;28;43mself\u001b[39;49m\u001b[38;5;241;43m.\u001b[39;49m\u001b[43m_query_obj\u001b[49m\u001b[38;5;241;43m.\u001b[39;49m\u001b[43mto_query\u001b[49m\u001b[43m(\u001b[49m\u001b[38;5;28;43mself\u001b[39;49m\u001b[38;5;241;43m.\u001b[39;49m\u001b[43m_document\u001b[49m\u001b[43m)\u001b[49m\n\u001b[1;32m   1731\u001b[0m         \u001b[38;5;28;01mif\u001b[39;00m \u001b[38;5;28mself\u001b[39m\u001b[38;5;241m.\u001b[39m_cls_query:\n\u001b[1;32m   1732\u001b[0m             \u001b[38;5;28;01mif\u001b[39;00m \u001b[38;5;124m\"\u001b[39m\u001b[38;5;124m_cls\u001b[39m\u001b[38;5;124m\"\u001b[39m \u001b[38;5;129;01min\u001b[39;00m \u001b[38;5;28mself\u001b[39m\u001b[38;5;241m.\u001b[39m_mongo_query:\n",
      "File \u001b[0;32m~/Library/Caches/pypoetry/virtualenvs/sleepmate-kok1GflL-py3.11/lib/python3.11/site-packages/mongoengine/queryset/visitor.py:91\u001b[0m, in \u001b[0;36mQNode.to_query\u001b[0;34m(self, document)\u001b[0m\n\u001b[1;32m     89\u001b[0m \u001b[38;5;28;01mdef\u001b[39;00m \u001b[38;5;21mto_query\u001b[39m(\u001b[38;5;28mself\u001b[39m, document):\n\u001b[1;32m     90\u001b[0m     query \u001b[38;5;241m=\u001b[39m \u001b[38;5;28mself\u001b[39m\u001b[38;5;241m.\u001b[39maccept(SimplificationVisitor())\n\u001b[0;32m---> 91\u001b[0m     query \u001b[38;5;241m=\u001b[39m \u001b[43mquery\u001b[49m\u001b[38;5;241;43m.\u001b[39;49m\u001b[43maccept\u001b[49m\u001b[43m(\u001b[49m\u001b[43mQueryCompilerVisitor\u001b[49m\u001b[43m(\u001b[49m\u001b[43mdocument\u001b[49m\u001b[43m)\u001b[49m\u001b[43m)\u001b[49m\n\u001b[1;32m     92\u001b[0m     \u001b[38;5;28;01mreturn\u001b[39;00m query\n",
      "File \u001b[0;32m~/Library/Caches/pypoetry/virtualenvs/sleepmate-kok1GflL-py3.11/lib/python3.11/site-packages/mongoengine/queryset/visitor.py:184\u001b[0m, in \u001b[0;36mQ.accept\u001b[0;34m(self, visitor)\u001b[0m\n\u001b[1;32m    183\u001b[0m \u001b[38;5;28;01mdef\u001b[39;00m \u001b[38;5;21maccept\u001b[39m(\u001b[38;5;28mself\u001b[39m, visitor):\n\u001b[0;32m--> 184\u001b[0m     \u001b[38;5;28;01mreturn\u001b[39;00m \u001b[43mvisitor\u001b[49m\u001b[38;5;241;43m.\u001b[39;49m\u001b[43mvisit_query\u001b[49m\u001b[43m(\u001b[49m\u001b[38;5;28;43mself\u001b[39;49m\u001b[43m)\u001b[49m\n",
      "File \u001b[0;32m~/Library/Caches/pypoetry/virtualenvs/sleepmate-kok1GflL-py3.11/lib/python3.11/site-packages/mongoengine/queryset/visitor.py:80\u001b[0m, in \u001b[0;36mQueryCompilerVisitor.visit_query\u001b[0;34m(self, query)\u001b[0m\n\u001b[1;32m     79\u001b[0m \u001b[38;5;28;01mdef\u001b[39;00m \u001b[38;5;21mvisit_query\u001b[39m(\u001b[38;5;28mself\u001b[39m, query):\n\u001b[0;32m---> 80\u001b[0m     \u001b[38;5;28;01mreturn\u001b[39;00m \u001b[43mtransform\u001b[49m\u001b[38;5;241;43m.\u001b[39;49m\u001b[43mquery\u001b[49m\u001b[43m(\u001b[49m\u001b[38;5;28;43mself\u001b[39;49m\u001b[38;5;241;43m.\u001b[39;49m\u001b[43mdocument\u001b[49m\u001b[43m,\u001b[49m\u001b[43m \u001b[49m\u001b[38;5;241;43m*\u001b[39;49m\u001b[38;5;241;43m*\u001b[39;49m\u001b[43mquery\u001b[49m\u001b[38;5;241;43m.\u001b[39;49m\u001b[43mquery\u001b[49m\u001b[43m)\u001b[49m\n",
      "File \u001b[0;32m~/Library/Caches/pypoetry/virtualenvs/sleepmate-kok1GflL-py3.11/lib/python3.11/site-packages/mongoengine/queryset/transform.py:97\u001b[0m, in \u001b[0;36mquery\u001b[0;34m(_doc_cls, **kwargs)\u001b[0m\n\u001b[1;32m     95\u001b[0m     fields \u001b[38;5;241m=\u001b[39m _doc_cls\u001b[38;5;241m.\u001b[39m_lookup_field(parts)\n\u001b[1;32m     96\u001b[0m \u001b[38;5;28;01mexcept\u001b[39;00m \u001b[38;5;167;01mException\u001b[39;00m \u001b[38;5;28;01mas\u001b[39;00m e:\n\u001b[0;32m---> 97\u001b[0m     \u001b[38;5;28;01mraise\u001b[39;00m InvalidQueryError(e)\n\u001b[1;32m     98\u001b[0m parts \u001b[38;5;241m=\u001b[39m []\n\u001b[1;32m    100\u001b[0m CachedReferenceField \u001b[38;5;241m=\u001b[39m _import_class(\u001b[38;5;124m\"\u001b[39m\u001b[38;5;124mCachedReferenceField\u001b[39m\u001b[38;5;124m\"\u001b[39m)\n",
      "\u001b[0;31mInvalidQueryError\u001b[0m: Cannot resolve field \"user\""
     ]
    }
   ],
   "source": [
    "entry = DBHealthHistory.objects(user=x.db_user_id).order_by(\"-id\").first()"
   ]
  },
  {
   "cell_type": "code",
   "execution_count": 5,
   "id": "72b1fe59-a373-4abe-9df2-355fae0b8298",
   "metadata": {},
   "outputs": [],
   "source": [
    "entry = DBHealthHistory.objects(user=x.db_user_id).order_by(\"-id\").first()"
   ]
  },
  {
   "cell_type": "code",
   "execution_count": 9,
   "id": "ff778da7-215e-413e-a91f-2810c33c2994",
   "metadata": {},
   "outputs": [],
   "source": [
    "x.memory.clear()"
   ]
  },
  {
   "cell_type": "code",
   "execution_count": 5,
   "id": "9ba5b988-a188-4ccb-a5d6-86cd1f720bb9",
   "metadata": {},
   "outputs": [],
   "source": [
    "DBSleepDiaryEntry.objects(user=x.db_user_id).order_by(\"-id\").first().delete()"
   ]
  },
  {
   "cell_type": "code",
   "execution_count": 4,
   "id": "0d6f0c8e-2eeb-4c90-8321-49207317d81c",
   "metadata": {},
   "outputs": [
    {
     "data": {
      "text/plain": [
       "SON([('_id', ObjectId('65438ee386c813a6866ee4f0')), ('user', ObjectId('653857366f561d27ec50ea2a')), ('date', datetime.datetime(2023, 11, 1, 4, 58, 27, 414000)), ('in_bed', datetime.datetime(2023, 11, 1, 21, 15)), ('tried_to_fall_asleep', datetime.datetime(2023, 11, 1, 21, 15)), ('time_to_fall_asleep', 5), ('times_awake', 0), ('time_awake', 0), ('final_wake_up', datetime.datetime(2023, 11, 2, 4, 30)), ('out_of_bed', datetime.datetime(2023, 11, 2, 4, 30)), ('sleep_quality', 'Very good'), ('medications', 'None'), ('notes', 'Slept in van')])"
      ]
     },
     "execution_count": 4,
     "metadata": {},
     "output_type": "execute_result"
    }
   ],
   "source": [
    "DBSleepDiaryEntry.objects(user=x.db_user_id).order_by(\"-id\").first().to_mongo()"
   ]
  },
  {
   "cell_type": "code",
   "execution_count": 5,
   "id": "1e46c26e-a28f-4849-a90a-7fb263abb6f1",
   "metadata": {},
   "outputs": [
    {
     "data": {
      "text/plain": [
       "0"
      ]
     },
     "execution_count": 5,
     "metadata": {},
     "output_type": "execute_result"
    }
   ],
   "source": [
    "DBStopBang.objects(user=x.db_user_id).count()"
   ]
  },
  {
   "cell_type": "code",
   "execution_count": 11,
   "id": "23de81e7-ddf9-4010-94c1-dcfd3e43540b",
   "metadata": {},
   "outputs": [
    {
     "data": {
      "text/plain": [
       "1"
      ]
     },
     "execution_count": 11,
     "metadata": {},
     "output_type": "execute_result"
    }
   ],
   "source": [
    "DBBMI.objects(user=x.db_user_id).count()#first().to_mongo()"
   ]
  },
  {
   "cell_type": "code",
   "execution_count": 9,
   "id": "a9f4d579-3d7a-4ac3-a8bc-5af1f36d675f",
   "metadata": {},
   "outputs": [
    {
     "name": "stderr",
     "output_type": "stream",
     "text": [
      "2023-11-03 06:38:22 INFO     sleepmate.executor clear_chat_history_tail: deleting ids_to_delete=[ObjectId('6544f7bd99677383bc9f95d5'), ObjectId('6544f7bd99677383bc9f95d4')]\n"
     ]
    }
   ],
   "source": [
    "x.clear_chat_history_tail()"
   ]
  },
  {
   "cell_type": "code",
   "execution_count": 5,
   "id": "0f836538-0613-43dd-8983-28a25ccbfa76",
   "metadata": {},
   "outputs": [
    {
     "data": {
      "text/plain": [
       "[]"
      ]
     },
     "execution_count": 5,
     "metadata": {},
     "output_type": "execute_result"
    }
   ],
   "source": [
    "list(reversed(list(enumerate(x.memory.chat_memory.messages))))"
   ]
  },
  {
   "cell_type": "code",
   "execution_count": 11,
   "id": "bc31eacc-6c89-45e4-a623-24ae8744fd00",
   "metadata": {},
   "outputs": [
    {
     "data": {
      "text/plain": [
       "SleepDiaryEntry(date=datetime.datetime(2023, 10, 24, 16, 43, 19, 580966), in_bed=datetime.datetime(2023, 10, 10, 0, 0), tried_to_fall_asleep=datetime.datetime(2023, 10, 30, 0, 0), time_to_fall_asleep=39, times_awake=14, time_awake=12, final_wake_up=datetime.datetime(2023, 10, 4, 0, 0), out_of_bed=datetime.datetime(2023, 10, 12, 0, 0), sleep_quality='Okay', medications='Benadryl', notes='No')"
      ]
     },
     "execution_count": 11,
     "metadata": {},
     "output_type": "execute_result"
    }
   ],
   "source": [
    "entry = get_sleep_diary_entry_from_memory(x.ro_memory); entry"
   ]
  },
  {
   "cell_type": "code",
   "execution_count": 13,
   "id": "e34b3a6a-7ab1-4281-9f54-88f4deffb433",
   "metadata": {},
   "outputs": [
    {
     "data": {
      "text/plain": [
       "<SleepDiaryEntry: SleepDiaryEntry object>"
      ]
     },
     "execution_count": 13,
     "metadata": {},
     "output_type": "execute_result"
    }
   ],
   "source": [
    "save_sleep_diary_entry_to_db(db_user.id, entry)"
   ]
  },
  {
   "cell_type": "code",
   "execution_count": 10,
   "id": "d87d6930-c791-4ec8-8073-586e0eee9b9d",
   "metadata": {
    "collapsed": true,
    "jupyter": {
     "outputs_hidden": true
    }
   },
   "outputs": [
    {
     "data": {
      "text/plain": [
       "[(101,\n",
       "  AIMessage(content=\"I'm sorry, Ivy0484, but it seems there was a hiccup while saving your sleep diary entry. Let's try that again, shall we? \\n\\nCould you please tell me the date of the entry? The default is yesterday's date.\")),\n",
       " (100, HumanMessage(content='Summarize my sleep diary for last night')),\n",
       " (99,\n",
       "  AIMessage(content=\"I'm sorry, Ivy0484, but it seems there was a hiccup while saving your sleep diary entry. Let's try that again, shall we? \\n\\nCould you please tell me the date of the entry? The default is yesterday's date.\")),\n",
       " (98, HumanMessage(content='No')),\n",
       " (97,\n",
       "  AIMessage(content=\"Thank you, Ivy0484. \\n\\nFinally, are there any other notes you'd like to add about your sleep last night?\")),\n",
       " (96, HumanMessage(content='Benadryl')),\n",
       " (95,\n",
       "  AIMessage(content='Could you please specify what medications or aids you used to help you sleep?')),\n",
       " (94, HumanMessage(content='Yes')),\n",
       " (93,\n",
       "  AIMessage(content='Thank you, Ivy0484. \\n\\nDid you use any medications or aids to help you sleep?')),\n",
       " (92, HumanMessage(content='Okay')),\n",
       " (91,\n",
       "  AIMessage(content='Thank you, Ivy0484. \\n\\nNext, how would you rate your sleep quality? Please choose from the following: \"very good\", \"good\", \"okay\", \"bad\", \"very bad\".')),\n",
       " (90, HumanMessage(content='12')),\n",
       " (89,\n",
       "  AIMessage(content='Thank you, Ivy0484. \\n\\nNow, could you tell me what time you got out of bed?')),\n",
       " (88, HumanMessage(content='4')),\n",
       " (87,\n",
       "  AIMessage(content='Thank you, Ivy0484. \\n\\nNext, could you tell me what time you finally woke up?')),\n",
       " (86, HumanMessage(content='12')),\n",
       " (85,\n",
       "  AIMessage(content=\"Oh, that's quite a few awakenings. \\n\\nCould you please tell me the total time you were awake during the night? Please provide the duration in minutes.\")),\n",
       " (84, HumanMessage(content='14')),\n",
       " (83,\n",
       "  AIMessage(content='Thank you, Ivy0484. \\n\\nNext, how many times did you wake up during the night?')),\n",
       " (82, HumanMessage(content='39')),\n",
       " (81,\n",
       "  AIMessage(content='Thank you, Ivy0484. \\n\\nNow, could you tell me how long it took you to fall asleep? Please provide the duration in minutes.')),\n",
       " (80, HumanMessage(content='10 30')),\n",
       " (79,\n",
       "  AIMessage(content='Thank you, Ivy0484. \\n\\nNext, could you tell me what time you tried to fall asleep?')),\n",
       " (78, HumanMessage(content='10')),\n",
       " (77,\n",
       "  AIMessage(content=\"Great, we'll use yesterday's date. \\n\\nNow, could you please tell me what time you went to bed?\")),\n",
       " (76, HumanMessage(content=\"Yesterday's fine\")),\n",
       " (75,\n",
       "  AIMessage(content=\"Fantastic! Let's get started. \\n\\nFirstly, what was the date of the entry? If you don't specify, I'll default to yesterday's date.\")),\n",
       " (74, HumanMessage(content='Yes')),\n",
       " (73,\n",
       "  AIMessage(content=\"Ahoy Ivy0484! I'm glad to see you're ready to continue. Now, would this be a good time to record a sleep diary entry? It's a great tool to understand your sleep patterns better.\")),\n",
       " (72, HumanMessage(content='Ahoy')),\n",
       " (71,\n",
       "  AIMessage(content='Thank you for confirming, Ivy0484. Your Insomnia Severity Index (ISI) entry has been saved successfully. \\n\\nRemember, it\\'s okay to have a few rough nights. The important thing is to keep a positive attitude and continue working on improving your sleep habits. \\n\\nPlease say \"ahoy\" when you\\'re ready to continue on your health journey.')),\n",
       " (70, HumanMessage(content='Y')),\n",
       " (69,\n",
       "  AIMessage(content=\"Thank you for your responses, Ivy0484. \\n\\nHere's a summary of your Insomnia Severity Index (ISI) responses:\\n\\n- Date: 25th October, 2023\\n- Difficulty falling asleep: 3 (Severe)\\n- Difficulty staying asleep: 2 (Moderate)\\n- Problems waking up too early: 3 (Severe)\\n- Satisfaction with current sleep pattern: 3 (Dissatisfied)\\n- Noticeability of sleep problem: 4 (Very much)\\n- Worries or distress about sleep problem: 2 (Moderately)\\n- Interference with daily functioning: 4 (Very much)\\n\\nThe total score is 21, which indicates clinical insomnia of moderate severity. \\n\\nPlease confirm if this summary is accurate.\")),\n",
       " (68, HumanMessage(content='4')),\n",
       " (67,\n",
       "  AIMessage(content='Thank you for your response, Ivy0484. \\n\\nFinally, for the seventh question. To what extent do you consider your sleep problem to interfere with your daily functioning (e.g., daytime fatigue, ability to function at work/daily chores, concentration, memory, mood, etc.)? Please rate it on a scale from 0 to 4, where 0 is not at all interfering and 4 is very much interfering.')),\n",
       " (66, HumanMessage(content='2')),\n",
       " (65,\n",
       "  AIMessage(content='Thank you for your response, Ivy0484. \\n\\nNow, for the sixth question. How worried or distressed are you about your current sleep problem? Please rate it on a scale from 0 to 4, where 0 is not at all worried or distressed and 4 is very much worried or distressed.')),\n",
       " (64, HumanMessage(content='Four')),\n",
       " (63,\n",
       "  AIMessage(content='Thank you for your response, Ivy0484. \\n\\nNow, for the fifth question. How noticeable to others do you think your sleep problem is in terms of impairing the quality of your life? Please rate it on a scale from 0 to 4, where 0 is not at all noticeable and 4 is very much noticeable.')),\n",
       " (62, HumanMessage(content='3')),\n",
       " (61,\n",
       "  AIMessage(content='Thank you for your response, Ivy0484. \\n\\nNow, for the fourth question. How satisfied or dissatisfied are you with your current sleep pattern? Please rate it on a scale from 0 to 4, where 0 is very satisfied and 4 is very dissatisfied.')),\n",
       " (60, HumanMessage(content='3')),\n",
       " (59,\n",
       "  AIMessage(content='Thank you for your response, Ivy0484. \\n\\nNow, onto the third question. Over the past two weeks, how severe have your problems waking up too early been? Please rate it on a scale from 0 to 4, where 0 is no problem and 4 is a very severe problem.')),\n",
       " (58, HumanMessage(content='2')),\n",
       " (57,\n",
       "  AIMessage(content=\"Thank you for your response, Ivy0484. \\n\\nNow, let's move on to the second question. Over the past two weeks, how severe has your difficulty staying asleep been? Please rate it on a scale from 0 to 4, where 0 is no difficulty and 4 is very severe difficulty.\")),\n",
       " (56, HumanMessage(content='3')),\n",
       " (55,\n",
       "  AIMessage(content=\"Great! Let's start with the first question. Today's date is the 25th of October, 2023.\\n\\n1. Over the past two weeks, how severe has your difficulty falling asleep been? Please rate it on a scale from 0 to 4, where 0 is no difficulty and 4 is very severe difficulty.\")),\n",
       " (54, HumanMessage(content='Yes')),\n",
       " (53,\n",
       "  AIMessage(content=\"Ahoy there, Ivy0484! I'm glad to see you're ready to continue. Now, would this be a good time to go through the Insomnia Severity Index questionnaire? It's a standard 7-item questionnaire that helps us understand your sleep patterns better.\")),\n",
       " (52, HumanMessage(content='Ahoy')),\n",
       " (51,\n",
       "  AIMessage(content='Thank you for your patience, Ivy0484. Here\\'s a summary of your health history:\\n\\n- Sex: Female\\n- Date of Birth: 12th October 2013\\n- Occupation: Student\\n- Work Hours: Homeschooled, wakes up around 6:00 or 7:00, goes to bed at 9:00\\n- Smoking: No\\n- Alcohol: No\\n- Physical Activity: Stays outside for multiple hours a day\\n- Diet: Gluten-free diet, had a gluten-free taco with guacamole, scrambled eggs, and breakfast sausage for breakfast\\n- Medical Conditions: None\\n- Medications: None\\n- Family History: No family history of insomnia or other sleep disorders\\n- Mental Health: No diagnosed mental health conditions\\n- Psychological Treatment: No\\n- Living With: Family\\n- Residence Type: House\\n- Noise Level: 0\\n- Goal: Wants to sleep through the night and wake up feeling refreshed\\n- Helpful Strategies: Drinking less coffee\\n- Unhelpful Strategies: Reading a book in bed and looking at phone in bed\\n- Additional Notes: None\\n\\nPlease say \"ahoy\" when you\\'re ready to continue on your health journey.')),\n",
       " (50, HumanMessage(content='No')),\n",
       " (49,\n",
       "  AIMessage(content=\"Thank you for sharing, Ivy0484. \\n\\nIs there anything else you'd like to add to your health history?\")),\n",
       " (48,\n",
       "  HumanMessage(content='Reading a book in bed and looking at my phone in bed')),\n",
       " (47,\n",
       "  AIMessage(content=\"That's a good step, Ivy0484. \\n\\nNow, could you tell me about anything you've tried previously that didn't help?\")),\n",
       " (46, HumanMessage(content='Drinking less coffee')),\n",
       " (45,\n",
       "  AIMessage(content=\"That's a wonderful goal, Ivy0484. \\n\\nCould you share what you've tried previously that helped you towards this goal?\")),\n",
       " (44,\n",
       "  HumanMessage(content='I want to sleep through the night and wake up feeling refreshed')),\n",
       " (43,\n",
       "  AIMessage(content='Apologies for the ambiguity, Ivy0484. In this context, success refers to your personal health goals. What would you consider as a successful outcome in your health journey?')),\n",
       " (42, HumanMessage(content='Success with what')),\n",
       " (41,\n",
       "  AIMessage(content='Thank you for sharing, Ivy0484. \\n\\nNow, could you tell me what success looks like to you?')),\n",
       " (40, HumanMessage(content='0')),\n",
       " (39,\n",
       "  AIMessage(content='Thank you for sharing, Ivy0484. \\n\\nHow would you describe the noise level in your living area?')),\n",
       " (38, HumanMessage(content='A house')),\n",
       " (37,\n",
       "  AIMessage(content='Thank you for sharing, Ivy0484. \\n\\nWhat type of residence do you live in? (House, Apartment, etc.)')),\n",
       " (36, HumanMessage(content='Family')),\n",
       " (35,\n",
       "  AIMessage(content='Thank you for sharing, Ivy0484. \\n\\nWho do you live with? (Alone, Family, Friends)')),\n",
       " (34, HumanMessage(content='No')),\n",
       " (33,\n",
       "  AIMessage(content=\"That's good to hear, Ivy0484. \\n\\nAre you currently receiving any psychological treatment?\")),\n",
       " (32, HumanMessage(content='No')),\n",
       " (31,\n",
       "  AIMessage(content=\"That's good to hear, Ivy0484. \\n\\nHave you ever been diagnosed with any mental health conditions, such as depression or anxiety?\")),\n",
       " (30, HumanMessage(content='No')),\n",
       " (29,\n",
       "  AIMessage(content='Thank you for sharing, Ivy0484. \\n\\nDo you have a family history of insomnia or other sleep disorders?')),\n",
       " (28, HumanMessage(content='No')),\n",
       " (27,\n",
       "  AIMessage(content=\"That's good to hear, Ivy0484. \\n\\nAre you currently taking any medications?\")),\n",
       " (26, HumanMessage(content='No')),\n",
       " (25,\n",
       "  AIMessage(content='That sounds like a delicious and nutritious breakfast, Ivy0484. \\n\\nNow, do you have any existing medical conditions, such as diabetes or hypertension?')),\n",
       " (24,\n",
       "  HumanMessage(content=\"I'm gluten free so we have some eating restrictions but this morning I had a gluten-free Taco for breakfast that had guacamole scrambled eggs and breakfast sausage in it\")),\n",
       " (23,\n",
       "  AIMessage(content=\"That's fantastic, Ivy0484. Staying active is very important for overall health. \\n\\nCould you describe what a typical day of eating looks like for you? For example, what do you usually have for breakfast, lunch, and dinner?\")),\n",
       " (22, HumanMessage(content='Stay outside for multiple hours a day')),\n",
       " (21,\n",
       "  AIMessage(content='Excellent, Ivy0484. \\n\\nNow, could you tell me about your physical activity level? For example, how often do you play outside or do any sports?')),\n",
       " (20, HumanMessage(content='No')),\n",
       " (19,\n",
       "  AIMessage(content=\"I'm glad to hear that, Ivy0484. \\n\\nNext, how about alcohol? (Again, I'm obliged to ask, even though you're a kid!)\")),\n",
       " (18, HumanMessage(content='Absolutely not')),\n",
       " (17,\n",
       "  AIMessage(content=\"Thank you for sharing, Ivy0484. It sounds like you have a consistent routine, which is great. \\n\\nNow, let's move on to some lifestyle questions. Do you smoke? (I'm obliged to ask, even though you're a kid!)\")),\n",
       " (16,\n",
       "  HumanMessage(content=\"I'm homeschooled but I can tell you about the other things well I generally wake up around 6:00 or 7:00 and I always go to bed at nine sometimes a little bit later\")),\n",
       " (15,\n",
       "  AIMessage(content='Ah, a full-time adventurer, then! \\n\\nCould you tell me about your typical daily routine? For example, when do you usually wake up, go to school, play, and go to bed?')),\n",
       " (14, HumanMessage(content=\"I'm a kid\")),\n",
       " (13,\n",
       "  AIMessage(content='Thank you, Ivy0484. \\n\\nNow, could you please tell me about your current occupation?')),\n",
       " (12, HumanMessage(content='October 12th 2013')),\n",
       " (11,\n",
       "  AIMessage(content='Thank you for sharing, Ivy0484. \\n\\nNext, could you please tell me your date of birth?')),\n",
       " (10, HumanMessage(content='Grl')),\n",
       " (9,\n",
       "  AIMessage(content=\"Fantastic! Let's get started then. \\n\\nFirstly, the date of entry will be today's date. \\n\\nNow, could you please tell me your sex?\")),\n",
       " (8, HumanMessage(content='Yes')),\n",
       " (7,\n",
       "  AIMessage(content='Great, thank you for confirming, Ivy0484. Now, would this be a good time to go through a health history questionnaire? It will help me understand your lifestyle and health habits better.')),\n",
       " (6, HumanMessage(content='Yes')),\n",
       " (5,\n",
       "  AIMessage(content='Thank you, Ivy0484. I have saved your email address as alex47bike@gmail.com. Can you please confirm if this is correct?')),\n",
       " (4, HumanMessage(content='alex47bike@gmail.com')),\n",
       " (3,\n",
       "  AIMessage(content=\"That's good to hear, Ivy0484. Now, I noticed that we don't have your email address on file. Could you please provide it? This is so we can stay in touch offline.\")),\n",
       " (2, HumanMessage(content='Ok')),\n",
       " (1,\n",
       "  AIMessage(content='Hello Ivy0484! How are you feeling right now, in this moment?')),\n",
       " (0, HumanMessage(content='Hi'))]"
      ]
     },
     "execution_count": 10,
     "metadata": {},
     "output_type": "execute_result"
    }
   ],
   "source": [
    "list(reversed(list(enumerate(x.memory.chat_memory.messages))))"
   ]
  },
  {
   "cell_type": "code",
   "execution_count": 3,
   "id": "c5092e04-56c7-41ec-85b5-7a8c53878388",
   "metadata": {},
   "outputs": [
    {
     "data": {
      "text/plain": [
       "HealthHistory(date=datetime.datetime(2023, 10, 25, 0, 0), sex='Male', date_of_birth=datetime.datetime(1976, 2, 13, 0, 0), occupation='Coder', work_hours='7am - 6pm with breaks', smoking='No', alcohol='Some, mostly at weekends', physical_activity='Cyclist, surfer, weightlifter', diet='Three eggs and sausages for breakfast, salad and protein for lunch, meat and vegetables for dinner. 1g protein per lb of bodyweight.', medical_conditions='None', medications='None', family_history='None', mental_health='None', psychological_treatment='None', living_with='With family, three kids, in a house but sleep in a VW Eurovan', residence_type='House', noise_level='Very rural and quiet', goal='Sleep through the night, wake up feeling refreshed', helpful='Getting enough daylight', unhelpful='Apigenin', notes='')"
      ]
     },
     "execution_count": 3,
     "metadata": {},
     "output_type": "execute_result"
    }
   ],
   "source": [
    "get_health_history_from_memory(x.ro_memory)"
   ]
  },
  {
   "cell_type": "code",
   "execution_count": 4,
   "id": "ca4d0d5f-470f-4fa2-a1bd-9d155add54d0",
   "metadata": {},
   "outputs": [],
   "source": [
    "ivy_id = \"653984fa8ce7346842a9f32e\"\n",
    "db_user = get_user_by_id(ivy_id)"
   ]
  },
  {
   "cell_type": "code",
   "execution_count": 14,
   "id": "252947d8-3375-4690-8c66-784c90870491",
   "metadata": {},
   "outputs": [],
   "source": [
    "db_user = get_user_from_username(\"test\")"
   ]
  },
  {
   "cell_type": "code",
   "execution_count": 15,
   "id": "49d8ae8b-c30b-4479-9c4c-dfcd93ed16c0",
   "metadata": {},
   "outputs": [
    {
     "data": {
      "text/plain": [
       "SON([('_id', ObjectId('653838c321f81e21a72df700')), ('name', 'Sleepy'), ('email', 'cck197@cck197.net'), ('username', 'test')])"
      ]
     },
     "execution_count": 15,
     "metadata": {},
     "output_type": "execute_result"
    }
   ],
   "source": [
    "db_user.to_mongo()"
   ]
  },
  {
   "cell_type": "code",
   "execution_count": 18,
   "id": "6eb6c189-d1f3-4f0f-be8b-4452b5806983",
   "metadata": {},
   "outputs": [
    {
     "data": {
      "text/plain": [
       "[]"
      ]
     },
     "execution_count": 18,
     "metadata": {},
     "output_type": "execute_result"
    }
   ],
   "source": [
    "DBGoalRefusal.objects(user=db_user)"
   ]
  },
  {
   "cell_type": "code",
   "execution_count": 19,
   "id": "5c6c38a3-28da-4207-ae66-0404250872e9",
   "metadata": {},
   "outputs": [
    {
     "data": {
      "text/plain": [
       "True"
      ]
     },
     "execution_count": 19,
     "metadata": {},
     "output_type": "execute_result"
    }
   ],
   "source": [
    "diary_entry(db_user.id)"
   ]
  },
  {
   "cell_type": "code",
   "execution_count": 3,
   "id": "7919122d-c2c9-4fac-abb1-a9a1da00f941",
   "metadata": {},
   "outputs": [
    {
     "data": {
      "text/plain": [
       "['stress_audit',\n",
       " 'goal_refusal',\n",
       " 'stimulus_control_seen',\n",
       " 'v_l_q_entry',\n",
       " 'exercise_entry',\n",
       " 'seed_pod',\n",
       " 'message_store',\n",
       " 'user',\n",
       " 'daily_routine_seen',\n",
       " 'sleep_diary_entry',\n",
       " 'i_s_i_entry',\n",
       " 'health_history']"
      ]
     },
     "execution_count": 3,
     "metadata": {},
     "output_type": "execute_result"
    }
   ],
   "source": [
    "get_collection_names()"
   ]
  },
  {
   "cell_type": "code",
   "execution_count": 4,
   "id": "2045486e-68d5-489b-9aef-554de0beb53e",
   "metadata": {},
   "outputs": [],
   "source": [
    "clear_db_for_user(get_user_from_username(\"cck197\").id)"
   ]
  },
  {
   "cell_type": "code",
   "execution_count": 4,
   "id": "5ebbf456-9338-4cc3-8fd5-83f43a1b28f4",
   "metadata": {},
   "outputs": [],
   "source": [
    "db_user = get_user_from_username(\"test\")"
   ]
  },
  {
   "cell_type": "code",
   "execution_count": 5,
   "id": "5c47229b-aa5c-4b91-80c7-b198f2dbfe4d",
   "metadata": {},
   "outputs": [
    {
     "data": {
      "text/plain": [
       "SON([('_id', ObjectId('653838c321f81e21a72df700')), ('name', 'Sleepy'), ('email', 'cck197@cck197.net'), ('username', 'test')])"
      ]
     },
     "execution_count": 5,
     "metadata": {},
     "output_type": "execute_result"
    }
   ],
   "source": [
    "db_user.to_mongo()"
   ]
  },
  {
   "cell_type": "code",
   "execution_count": 6,
   "id": "92954d76-ac4e-4a52-a1e3-90ed558c0627",
   "metadata": {},
   "outputs": [],
   "source": [
    "clear_db_for_user(db_user.id)"
   ]
  },
  {
   "cell_type": "code",
   "execution_count": 16,
   "id": "10da60f2-3f46-4bc1-939c-2f81417038d4",
   "metadata": {},
   "outputs": [],
   "source": [
    "x.delete_chat_history(1)"
   ]
  },
  {
   "cell_type": "code",
   "execution_count": 8,
   "id": "9974b5cd-43ab-4753-8a32-882bc7005bc2",
   "metadata": {},
   "outputs": [
    {
     "data": {
      "text/plain": [
       "[]"
      ]
     },
     "execution_count": 8,
     "metadata": {},
     "output_type": "execute_result"
    }
   ],
   "source": [
    "list(reversed(list(enumerate(x.memory.chat_memory.messages))))"
   ]
  },
  {
   "cell_type": "code",
   "execution_count": 6,
   "id": "d1eb815c-9af7-4492-be3c-bc384f1be710",
   "metadata": {},
   "outputs": [],
   "source": [
    "x.delete_chat_history(N=4)"
   ]
  },
  {
   "cell_type": "code",
   "execution_count": 5,
   "id": "22560fcb-0f59-4832-8dcd-08717b0a9833",
   "metadata": {},
   "outputs": [],
   "source": [
    "memory = x.ro_memory"
   ]
  },
  {
   "cell_type": "code",
   "execution_count": null,
   "id": "3082311f-4516-470c-b622-43c84cd5cae7",
   "metadata": {},
   "outputs": [],
   "source": [
    "from "
   ]
  },
  {
   "cell_type": "code",
   "execution_count": 8,
   "id": "1cf0d526-64fa-4855-974e-0af048a25fd2",
   "metadata": {},
   "outputs": [],
   "source": [
    "entry = get_user_from_memory(memory)"
   ]
  },
  {
   "cell_type": "code",
   "execution_count": 9,
   "id": "b28fb679-8252-4e3e-a321-fe28d9d17969",
   "metadata": {},
   "outputs": [
    {
     "data": {
      "text/plain": [
       "User(name='Sleepy', email='cck197@cck197.net', username='Sleepy')"
      ]
     },
     "execution_count": 9,
     "metadata": {},
     "output_type": "execute_result"
    }
   ],
   "source": [
    "entry"
   ]
  },
  {
   "cell_type": "code",
   "execution_count": 13,
   "id": "66328c5c-70bc-4b17-beb4-0d6ac476dbe7",
   "metadata": {},
   "outputs": [],
   "source": [
    "db_entry = DBGoalRefusal(goal=\"xx\", date=datetime.now(), user=str(db_user.id))"
   ]
  },
  {
   "cell_type": "code",
   "execution_count": 14,
   "id": "0f2dbfff-04cd-477c-85e4-4dcc764878db",
   "metadata": {},
   "outputs": [
    {
     "data": {
      "text/plain": [
       "<GoalRefusal: GoalRefusal object>"
      ]
     },
     "execution_count": 14,
     "metadata": {},
     "output_type": "execute_result"
    }
   ],
   "source": [
    "db_entry.save()"
   ]
  },
  {
   "cell_type": "code",
   "execution_count": 15,
   "id": "42ac4591-8487-408f-934e-9a54f5acff74",
   "metadata": {},
   "outputs": [
    {
     "data": {
      "text/plain": [
       "SON([('_id', ObjectId('6538086a0cae42947a90e440')), ('user', ObjectId('653808210cae42947a90e43e')), ('date', datetime.datetime(2023, 10, 24, 11, 9, 45, 982010)), ('goal', 'xx')])"
      ]
     },
     "execution_count": 15,
     "metadata": {},
     "output_type": "execute_result"
    }
   ],
   "source": [
    "db_entry.to_mongo()"
   ]
  },
  {
   "cell_type": "code",
   "execution_count": 2,
   "id": "db21c2bd-bb00-4025-82d0-7406acf6fb1e",
   "metadata": {},
   "outputs": [],
   "source": [
    "db_user = get_user_from_email(\"chris@nourishbalancethrive.com\")"
   ]
  },
  {
   "cell_type": "code",
   "execution_count": 4,
   "id": "adfca7ad-7707-415a-8482-c37033dfa224",
   "metadata": {},
   "outputs": [],
   "source": [
    "db_user.username = \"cck197\""
   ]
  },
  {
   "cell_type": "code",
   "execution_count": 5,
   "id": "7b5f6837-fd3b-40c3-864a-251e66342842",
   "metadata": {},
   "outputs": [
    {
     "data": {
      "text/plain": [
       "<User: User object>"
      ]
     },
     "execution_count": 5,
     "metadata": {},
     "output_type": "execute_result"
    }
   ],
   "source": [
    "db_user.save()"
   ]
  },
  {
   "cell_type": "code",
   "execution_count": 7,
   "id": "3b18c774-be8e-4ac8-971e-37b7f6359a17",
   "metadata": {},
   "outputs": [
    {
     "name": "stdout",
     "output_type": "stream",
     "text": [
      "get_user_from_username creating username='cck197'\n"
     ]
    }
   ],
   "source": [
    "db_user = get_user_from_username(\"cck197\")"
   ]
  },
  {
   "cell_type": "code",
   "execution_count": 9,
   "id": "84c572be-84eb-433c-bdc7-67448a2b294f",
   "metadata": {},
   "outputs": [
    {
     "data": {
      "text/plain": [
       "bson.objectid.ObjectId"
      ]
     },
     "execution_count": 9,
     "metadata": {},
     "output_type": "execute_result"
    }
   ],
   "source": [
    "type(db_user.id)"
   ]
  },
  {
   "cell_type": "code",
   "execution_count": 8,
   "id": "36805f7e-dc3d-4ae9-b3b5-8532819ae0f0",
   "metadata": {},
   "outputs": [],
   "source": [
    "x.db_user.delete()"
   ]
  },
  {
   "cell_type": "code",
   "execution_count": 3,
   "id": "67d5380c-28a1-43b3-b3c5-1023047cc4f8",
   "metadata": {},
   "outputs": [
    {
     "data": {
      "text/plain": [
       "SON([('_id', ObjectId('6526d86e6015be5b3434ac13')), ('name', 'Chris'), ('email', 'chris@nourishbalancethrive.com')])"
      ]
     },
     "execution_count": 3,
     "metadata": {},
     "output_type": "execute_result"
    }
   ],
   "source": [
    "db_user.to_mongo()"
   ]
  },
  {
   "cell_type": "code",
   "execution_count": 9,
   "id": "802df77b-f792-4b01-ad04-0b452d9ba15a",
   "metadata": {},
   "outputs": [
    {
     "data": {
      "text/plain": [
       "SON([('_id', ObjectId('6526d86e6015be5b3434ac13')), ('name', 'Chris'), ('email', 'chris@nourishbalancethrive.com')])"
      ]
     },
     "execution_count": 9,
     "metadata": {},
     "output_type": "execute_result"
    }
   ],
   "source": [
    "get_current_user().to_mongo()"
   ]
  },
  {
   "cell_type": "code",
   "execution_count": 11,
   "id": "c4c24066-47bc-4fde-8fa9-232746e42685",
   "metadata": {},
   "outputs": [
    {
     "data": {
      "text/plain": [
       "SON([('_id', ObjectId('6537c5f8b0a6bcb7637d7e28')), ('name', 'X')])"
      ]
     },
     "execution_count": 11,
     "metadata": {},
     "output_type": "execute_result"
    }
   ],
   "source": [
    "DBUser.objects.order_by(\"-id\").first().to_mongo()"
   ]
  },
  {
   "cell_type": "code",
   "execution_count": 2,
   "id": "5faadc80-8c7a-43f1-9b76-38b2fc978c70",
   "metadata": {
    "scrolled": true
   },
   "outputs": [
    {
     "name": "stdout",
     "output_type": "stream",
     "text": [
      "X() len(self.tools)=34\n",
      "X.say None -> health_history\n",
      "_to_args_and_kwargs self.name='get_greeting' all_args=['hello']\n"
     ]
    },
    {
     "data": {
      "text/markdown": [
       "Hello there! I'm afraid I didn't catch your name. Could you please share it with me?"
      ],
      "text/plain": [
       "<IPython.core.display.Markdown object>"
      ]
     },
     "metadata": {},
     "output_type": "display_data"
    }
   ],
   "source": [
    "x = X(hello=\"hello\")"
   ]
  },
  {
   "cell_type": "code",
   "execution_count": 5,
   "id": "fbdaae43-ee00-439b-9696-66afb572e380",
   "metadata": {},
   "outputs": [
    {
     "data": {
      "text/markdown": [
       "Ah, splendid! Nice to meet you, X. How are you feeling today?"
      ],
      "text/plain": [
       "<IPython.core.display.Markdown object>"
      ]
     },
     "metadata": {},
     "output_type": "display_data"
    }
   ],
   "source": [
    "x(\"X\");"
   ]
  },
  {
   "cell_type": "code",
   "execution_count": 6,
   "id": "9202ab27-6214-485f-84ac-80608e3e9570",
   "metadata": {},
   "outputs": [
    {
     "name": "stdout",
     "output_type": "stream",
     "text": [
      "_to_args_and_kwargs self.name='get_open_question' all_args=['not bad']\n"
     ]
    },
    {
     "data": {
      "text/markdown": [
       "I'm glad to hear you're not feeling too shabby, X. It's important to keep our spirits up, isn't it? Now, would this be a good time to go through a health history questionnaire? It's a bit like a crossword puzzle, but with less confusion and more facts about you."
      ],
      "text/plain": [
       "<IPython.core.display.Markdown object>"
      ]
     },
     "metadata": {},
     "output_type": "display_data"
    }
   ],
   "source": [
    "x(\"not bad\");"
   ]
  },
  {
   "cell_type": "code",
   "execution_count": 4,
   "id": "a1659280-f700-4aa7-8a96-3fd8cc5752bf",
   "metadata": {},
   "outputs": [
    {
     "data": {
      "text/plain": [
       "SON([('_id', ObjectId('6537c5f8b0a6bcb7637d7e28')), ('name', 'X')])"
      ]
     },
     "execution_count": 4,
     "metadata": {},
     "output_type": "execute_result"
    }
   ],
   "source": [
    "x.db_user.to_mongo()"
   ]
  },
  {
   "cell_type": "code",
   "execution_count": 6,
   "id": "aedd2a50-58cd-42b6-9005-076081786f1c",
   "metadata": {},
   "outputs": [
    {
     "name": "stdout",
     "output_type": "stream",
     "text": [
      "X.say all_for_now -> diary_entry\n",
      "_to_args_and_kwargs self.name='get_greeting' all_args=['hey']\n"
     ]
    },
    {
     "data": {
      "text/markdown": [
       "Hello again, Chris! How are you feeling today? And, by the way, could I get your email address for our records? It will help us to connect offline if needed."
      ],
      "text/plain": [
       "<IPython.core.display.Markdown object>"
      ]
     },
     "metadata": {},
     "output_type": "display_data"
    }
   ],
   "source": [
    "x(\"hey\");"
   ]
  },
  {
   "cell_type": "code",
   "execution_count": 3,
   "id": "2f25077f-8ca8-4d91-8c41-bc43ecb07142",
   "metadata": {},
   "outputs": [],
   "source": [
    "x.delete_chat_history(N=2)"
   ]
  },
  {
   "cell_type": "code",
   "execution_count": 3,
   "id": "7338be59-334b-4891-b5c6-2467c0754d1c",
   "metadata": {},
   "outputs": [
    {
     "name": "stdout",
     "output_type": "stream",
     "text": [
      "X() len(self.tools)=33\n"
     ]
    }
   ],
   "source": [
    "x = X(hello=None)#, fixed_goal=True)"
   ]
  },
  {
   "cell_type": "code",
   "execution_count": 2,
   "id": "9bd5c081-b4bf-4f9d-8186-f38ef5021f69",
   "metadata": {},
   "outputs": [
    {
     "name": "stdout",
     "output_type": "stream",
     "text": [
      "X() len(self.tools)=33\n",
      "X.say None -> seeds_entry\n"
     ]
    },
    {
     "data": {
      "text/markdown": [
       "Splendid! Is now a good time to record a SEEDS diary entry?"
      ],
      "text/plain": [
       "<IPython.core.display.Markdown object>"
      ]
     },
     "metadata": {},
     "output_type": "display_data"
    }
   ],
   "source": [
    "x = X();"
   ]
  },
  {
   "cell_type": "code",
   "execution_count": 3,
   "id": "70a88247-131c-4c00-b5de-85eb27f4a7ea",
   "metadata": {},
   "outputs": [
    {
     "name": "stdout",
     "output_type": "stream",
     "text": [
      "_to_args_and_kwargs self.name='get_knowledge_answer' all_args=['how does alcohol affect sleep?']\n"
     ]
    },
    {
     "data": {
      "text/markdown": [
       "Alcohol can significantly disrupt sleep and the body's biological clock. It can affect various levels of the body's system, including the central clock and the muscle clock. The timing and dosage of alcohol consumption are crucial factors in its impact on sleep. Generally, consuming alcohol earlier in the day is better for sleep quality. \n",
       "\n",
       "However, the quantity of alcohol consumed also plays a significant role. Consuming less alcohol is better for sleep. For instance, it's recommended to consume no more than four units of alcohol in a day. A unit of alcohol is equivalent to the amount of alcohol in ten milliliters or eight grams of pure ethanol. \n",
       "\n",
       "To minimize the impact of alcohol on sleep, it's recommended to allow at least one hour before bed per unit consumed plus one additional hour. For example, if you consume two units of alcohol (equivalent to a pint of beer), you should finish drinking at least three hours before bed. This recommendation is based on the rate at which your body can detoxify alcohol. \n",
       "\n",
       "It's also important to note that alcohol can disrupt the biological clock at many different levels, which can lead to sleep disruptions and other health issues. Therefore, it's crucial to moderate alcohol consumption to maintain good sleep health."
      ],
      "text/plain": [
       "<IPython.core.display.Markdown object>"
      ]
     },
     "metadata": {},
     "output_type": "display_data"
    }
   ],
   "source": [
    "x(\"not now. how does alchohol affect sleep?\");"
   ]
  },
  {
   "cell_type": "code",
   "execution_count": 4,
   "id": "41a7e5dd-d1bc-491f-a152-b091bd00300b",
   "metadata": {},
   "outputs": [
    {
     "data": {
      "text/markdown": [
       "I'm glad you found the information helpful, Chris! Remember, moderation is key when it comes to alcohol consumption. If you have any more questions or if there's anything else you'd like to discuss, feel free to let me know. When you're ready to continue on your health journey, just give me a shout."
      ],
      "text/plain": [
       "<IPython.core.display.Markdown object>"
      ]
     },
     "metadata": {},
     "output_type": "display_data"
    }
   ],
   "source": [
    "x(\"ok great\");"
   ]
  },
  {
   "cell_type": "code",
   "execution_count": 5,
   "id": "33b4c5c5-d3a0-4430-ade7-61375bf0f553",
   "metadata": {},
   "outputs": [
    {
     "data": {
      "text/markdown": [
       "Splendid! Is now a good time to record a SEEDS diary entry?"
      ],
      "text/plain": [
       "<IPython.core.display.Markdown object>"
      ]
     },
     "metadata": {},
     "output_type": "display_data"
    }
   ],
   "source": [
    "x(\"ok, ready\");"
   ]
  },
  {
   "cell_type": "code",
   "execution_count": 6,
   "id": "42430444-5cf0-46eb-a327-0d53711476a2",
   "metadata": {},
   "outputs": [
    {
     "name": "stdout",
     "output_type": "stream",
     "text": [
      "_to_args_and_kwargs self.name='get_knowledge_answer' all_args=['cold water exposure to feel more alert in the morning']\n"
     ]
    },
    {
     "data": {
      "text/markdown": [
       "Exposure to cold water in the morning can indeed make you feel more alert. This is due to the body's physiological response to sudden cold exposure, which includes a surge in heart rate, increased blood circulation, and a rush of adrenaline, all of which can result in a state of heightened alertness and energy. \n",
       "\n",
       "However, it's important to note that this practice may not be suitable for everyone. For individuals with certain health conditions, such as cardiovascular issues, the sudden shock of cold water could potentially pose risks. \n",
       "\n",
       "Here are some ways to safely incorporate cold water exposure into your morning routine:\n",
       "\n",
       "1. Cold Showers: Start with a warm shower and gradually decrease the temperature. Over time, you can start with cooler water as your tolerance builds.\n",
       "\n",
       "2. Face Dousing: If a full-body cold shower seems too daunting, you can start by splashing your face with cold water. This can still provide a refreshing jolt to wake you up.\n",
       "\n",
       "3. Cold Water Immersion: For a more intense experience, consider a cold bath or even a dip in an outdoor body of water. This should be done with caution, and it's important to listen to your body's signals.\n",
       "\n",
       "Remember, the goal is to feel invigorated and alert, not to induce unnecessary stress or discomfort. It's always important to listen to your body and adjust your routine accordingly."
      ],
      "text/plain": [
       "<IPython.core.display.Markdown object>"
      ]
     },
     "metadata": {},
     "output_type": "display_data"
    }
   ],
   "source": [
    "x(\"actually no. what about cold water exposure to feel more alert in the am\");"
   ]
  },
  {
   "cell_type": "code",
   "execution_count": 7,
   "id": "15845f48-af3e-4130-8929-8dc3303aaa15",
   "metadata": {},
   "outputs": [
    {
     "data": {
      "text/markdown": [
       "I'm glad you found the information helpful, Chris! Remember, moderation is key when it comes to alcohol consumption. If you have any more questions or if there's anything else you'd like to discuss, feel free to let me know. When you're ready to continue on your health journey, just give me a shout."
      ],
      "text/plain": [
       "<IPython.core.display.Markdown object>"
      ]
     },
     "metadata": {},
     "output_type": "display_data"
    }
   ],
   "source": [
    "x(\"ok, great\");"
   ]
  },
  {
   "cell_type": "code",
   "execution_count": 8,
   "id": "27e6db37-87f3-4427-8d3d-35d2ad23d17c",
   "metadata": {},
   "outputs": [
    {
     "data": {
      "text/markdown": [
       "Great! Let's start with the date of the entry. By default, we'll use today's date, which is the 23rd of October, 2023. Is that correct?"
      ],
      "text/plain": [
       "<IPython.core.display.Markdown object>"
      ]
     },
     "metadata": {},
     "output_type": "display_data"
    }
   ],
   "source": [
    "x(\"sure, let's go\");"
   ]
  },
  {
   "cell_type": "code",
   "execution_count": 9,
   "id": "018db522-9cb1-46b2-ae96-23598288b251",
   "metadata": {},
   "outputs": [
    {
     "data": {
      "text/markdown": [
       "We're about to record a SEEDS diary entry. SEEDS stands for Sleep, Exercise, Eat, Drink, and Smile. These are the five pillars of health that we focus on. For each pillar, there are three tasks that you can do each day. We're going to go through each task and see which ones you managed to do today. Does that sound good?"
      ],
      "text/plain": [
       "<IPython.core.display.Markdown object>"
      ]
     },
     "metadata": {},
     "output_type": "display_data"
    }
   ],
   "source": [
    "x(\"sorry, what's this?\");"
   ]
  },
  {
   "cell_type": "code",
   "execution_count": 10,
   "id": "806bd7a4-b9d8-42b5-a665-d97c593d87f0",
   "metadata": {
    "scrolled": true
   },
   "outputs": [
    {
     "data": {
      "text/markdown": [
       "Absolutely! The \"Smile\" pillar is all about doing things that bring you joy and happiness. It's a reminder to take time each day to do something you love, whether that's reading a book, spending time with loved ones, or even just taking a moment to appreciate a beautiful sunset. After all, mental well-being is just as important as physical health. So, did you manage to do something today that made you smile?"
      ],
      "text/plain": [
       "<IPython.core.display.Markdown object>"
      ]
     },
     "metadata": {},
     "output_type": "display_data"
    }
   ],
   "source": [
    "x(\"Smile? really? are you sure\");"
   ]
  },
  {
   "cell_type": "code",
   "execution_count": 11,
   "id": "d6af1d1d-dcdc-4f32-8a38-c6f7f9bb5abf",
   "metadata": {},
   "outputs": [
    {
     "data": {
      "text/markdown": [
       "Ah, my apologies for the confusion. You're absolutely right. The \"S\" in SEEDS does indeed stand for Stress, not Smile. It's about managing and reducing stress in your life. This can be achieved through various means such as meditation, deep breathing exercises, yoga, or any other activity that helps you relax and unwind. \n",
       "\n",
       "So, let's correct that and proceed. Did you manage to do something today to manage your stress levels?"
      ],
      "text/plain": [
       "<IPython.core.display.Markdown object>"
      ]
     },
     "metadata": {},
     "output_type": "display_data"
    }
   ],
   "source": [
    "x(\"pretty sure SEEDS is sleep, eating, exercise, drink and STRESS\");"
   ]
  },
  {
   "cell_type": "code",
   "execution_count": 12,
   "id": "605d980d-18ee-4d45-aae6-2e86030edf65",
   "metadata": {},
   "outputs": [
    {
     "name": "stdout",
     "output_type": "stream",
     "text": [
      "_to_args_and_kwargs self.name='get_seed_pod' all_args=['string']\n",
      "get_seed_pod entry=<SeedPod: SeedPod object>\n"
     ]
    },
    {
     "data": {
      "text/markdown": [
       "Here are the SEEDS tasks you've set:\n",
       "\n",
       "**Sleep**:\n",
       "1. Set a regular bedtime and wake-up time.\n",
       "2. Create a relaxing bedtime routine, such as reading a book or taking a warm bath.\n",
       "3. Make your sleep environment as comfortable as possible, e.g., use blackout curtains, earplugs, or a white noise machine.\n",
       "\n",
       "**Exercise**:\n",
       "1. Take a short walk during your lunch break.\n",
       "2. Do a few stretches when you wake up in the morning.\n",
       "3. Park further away from the entrance when going to the store to get a few extra steps in.\n",
       "\n",
       "**Eating**:\n",
       "1. Add an extra serving of vegetables to your dinner.\n",
       "2. Swap a processed snack for a piece of fruit.\n",
       "3. Drink a glass of water before each meal.\n",
       "\n",
       "**Drinking**:\n",
       "1. Replace one sugary drink per day with a glass of water.\n",
       "2. Try herbal tea instead of coffee in the afternoon.\n",
       "3. Drink a glass of water first thing in the morning.\n",
       "\n",
       "**Stress**:\n",
       "1. Spend 5 minutes each day practicing deep breathing.\n",
       "2. Write in a gratitude journal each night before bed.\n",
       "3. Take a 5-minute break every hour during work to stretch or walk around.\n",
       "\n",
       "Now, let's go through each task and see which ones you managed to do today."
      ],
      "text/plain": [
       "<IPython.core.display.Markdown object>"
      ]
     },
     "metadata": {},
     "output_type": "display_data"
    }
   ],
   "source": [
    "x(\"remind me, what were my SEEDS?\");"
   ]
  },
  {
   "cell_type": "code",
   "execution_count": 19,
   "id": "1f8f3ade-b883-47c3-9fbd-39a3bc96fe89",
   "metadata": {},
   "outputs": [],
   "source": [
    "x.memory.clear()"
   ]
  },
  {
   "cell_type": "code",
   "execution_count": 20,
   "id": "82f54460-9785-4e9e-b99a-5baa02bd0a72",
   "metadata": {},
   "outputs": [],
   "source": [
    "clear_db()"
   ]
  },
  {
   "cell_type": "code",
   "execution_count": null,
   "id": "da5864df-8db6-4b88-80a4-2f3260b0b29a",
   "metadata": {},
   "outputs": [],
   "source": []
  },
  {
   "cell_type": "code",
   "execution_count": 15,
   "id": "26121afc-07ea-4e80-a89f-132e4d986230",
   "metadata": {},
   "outputs": [],
   "source": [
    "from sleepmate.config import *"
   ]
  },
  {
   "cell_type": "code",
   "execution_count": null,
   "id": "7ff85fde-0d59-4a09-a56c-89f7b3b75d0d",
   "metadata": {},
   "outputs": [],
   "source": [
    "SLEEPM"
   ]
  },
  {
   "cell_type": "code",
   "execution_count": 42,
   "id": "4e69b891-e601-4fde-9b40-1de7d86b73f7",
   "metadata": {},
   "outputs": [
    {
     "data": {
      "text/plain": [
       "[(0, HumanMessage(content='what should I eat')),\n",
       " (1,\n",
       "  AIMessage(content='Based on the information provided, your diet should primarily consist of high-quality proteins, fiber, and minerals, while minimizing refined and concentrated carbs and fats. Here are some guidelines for what you should eat:\\n\\n1. **Protein Sources**: Your diet should include a few staple protein sources that you are familiar with. These could be pastured eggs, wild-caught salmon, and grass-fed beef. Other good options include ruminants (beef, lamb, bison), poultry, fish, seafood, eggs, wild game, pork, legumes, and fermented dairy (plain Greek yogurt and cottage cheese). Always opt for animals that are eating what they are supposed to be eating. For example, choose grass-fed meats, free-range organic chicken, and pastured pork when possible. \\n\\n2. **Carbohydrates**: If you are eating carbohydrates, make sure you have some low energy density high satiety choices available, like apples, carrots, berries, and potatoes. \\n\\n3. **Emergency Protein Sources**: Keep emergency protein sources nearby. Hard-boiled eggs and individually packaged grass-fed beef sticks (without sugar) are good options. \\n\\n4. **Convenient Options**: For times when you are starving but have no time at all, consider some whey powder and a shaker bottle. \\n\\n5. **Species-Appropriate Diet**: Humans are hunter-gatherers, and we do have a species-appropriate diet. Start with a basic Paleo-ish template as a starting point. \\n\\n6. **P:E Ratio**: The P:E Diet is all about food choice. You are specifically choosing one food, over other possible food options, because it is going to provide you with a higher level of nutrient satiety—allowing you to eat less energy overall. \\n\\n7. **Seafood**: Shrimp is another delicious seafood with an amazing protein to energy ratio and plenty of nutrients, including iodine and omega-three fats. \\n\\nRemember, the key is to set yourself up for success by having these foods available as often as possible. This will make you far less likely to fall off the wagon and end up in the drive-through of your favorite fast food place.')),\n",
       " (2, AIMessage(content=\"what's your name?\")),\n",
       " (3, HumanMessage(content='Chris')),\n",
       " (4, AIMessage(content=\"what's your email?\")),\n",
       " (5, HumanMessage(content='chris@nourishbalancethrive.com')),\n",
       " (6, HumanMessage(content='all_for_now')),\n",
       " (7,\n",
       "  AIMessage(content=\"Let me know if you have any question, I'm happy to help. Otherwise, I'll reach out to check in with you tomorrow. When you're ready to continue on your health journey, just give me a shout.\")),\n",
       " (8, HumanMessage(content='diary_entry')),\n",
       " (9,\n",
       "  AIMessage(content='Splendid! Is now a good time to record a sleep diary entry?')),\n",
       " (10, HumanMessage(content='diary_entry')),\n",
       " (11,\n",
       "  AIMessage(content='Splendid! Is now a good time to record a sleep diary entry?')),\n",
       " (12, HumanMessage(content='sure')),\n",
       " (13,\n",
       "  AIMessage(content=\"Great! Let's start with the date of the entry. By default, we'll use yesterday's date. Is that correct?\")),\n",
       " (14, HumanMessage(content='yesterday is fine')),\n",
       " (15,\n",
       "  AIMessage(content='Perfect! Now, could you please tell me what time you went to bed yesterday?')),\n",
       " (16, HumanMessage(content='21:15')),\n",
       " (17,\n",
       "  AIMessage(content='Thank you. And what time did you actually try to fall asleep?')),\n",
       " (18, HumanMessage(content='21:15')),\n",
       " (19,\n",
       "  AIMessage(content='Alright. How long did it take you to fall asleep, in minutes?')),\n",
       " (20, HumanMessage(content='5')),\n",
       " (21,\n",
       "  AIMessage(content=\"That's quite quick! Now, how many times did you wake up during the night?\")),\n",
       " (22, HumanMessage(content='1')),\n",
       " (23,\n",
       "  AIMessage(content='I see. And how long were you awake during the night, in minutes?')),\n",
       " (24, HumanMessage(content='30')),\n",
       " (25,\n",
       "  AIMessage(content='Thank you for that information. Now, what time did you finally wake up?')),\n",
       " (26, HumanMessage(content='6:30')),\n",
       " (27, AIMessage(content='And what time did you get out of bed?')),\n",
       " (28, HumanMessage(content='6:45')),\n",
       " (29,\n",
       "  AIMessage(content='Thank you. How would you rate your sleep quality? The options are \"very good\", \"good\", \"okay\", \"bad\", \"very bad\".')),\n",
       " (30, HumanMessage(content='good')),\n",
       " (31,\n",
       "  AIMessage(content='Great to hear! Did you use any medications or aids to help you sleep?')),\n",
       " (32, HumanMessage(content='no')),\n",
       " (33,\n",
       "  AIMessage(content=\"Alright. Lastly, are there any other notes or observations you'd like to add about your sleep last night?\")),\n",
       " (34, HumanMessage(content='slept in the van')),\n",
       " (35,\n",
       "  AIMessage(content=\"Thank you for the information. Here's a summary of your sleep diary entry:\\n\\n- Date: Yesterday\\n- Time you went to bed: 21:15\\n- Time you tried to fall asleep: 21:15\\n- Time it took you to fall asleep: 5 minutes\\n- Number of times you woke up during the night: 1\\n- Total time you were awake during the night: 30 minutes\\n- Final wake up time: 6:30\\n- Time you got out of bed: 6:45\\n- Sleep quality: Good\\n- Sleep aids used: None\\n- Other notes: Slept in the van\\n\\nCan you confirm if all these details are correct?\")),\n",
       " (36, HumanMessage(content='yep!')),\n",
       " (37,\n",
       "  AIMessage(content=\"Fantastic! Your sleep diary entry has been saved successfully. You've done a great job keeping track of your sleep patterns. Remember, every little bit of information helps us understand your sleep better. \\n\\nYour sleep score for the day is 12/15. Well done! \\n\\nWhen you're ready to continue on your health journey, just let me know.\")),\n",
       " (38, HumanMessage(content='sure')),\n",
       " (39,\n",
       "  AIMessage(content=\"Great! Let's start with the date of the entry. By default, we'll use today's date, which is the 23rd of October, 2023. Is that correct?\")),\n",
       " (40, HumanMessage(content='yes! I got all 15 tasks done')),\n",
       " (41,\n",
       "  AIMessage(content=\"Fantastic! So, the SEEDS diary entry for today, the 23rd of October, 2023, will show that you've completed all 15 tasks. Let's go through them one by one to make sure we've got everything right.\\n\\n1. **Sleep**: Did you manage to get 7-9 hours of sleep?\\n2. **Exercise**: Did you engage in at least 30 minutes of physical activity?\\n3. **Eat**: Did you eat a balanced diet, focusing on whole foods and avoiding processed ones?\\n4. **Drink**: Did you stay hydrated and limit your intake of alcohol and caffeine?\\n5. **Smile**: Did you do something that made you happy or brought you joy?\\n\\nFor the **Engage** pillar:\\n\\n6. **Socialise**: Did you spend quality time with friends or family, either in person or virtually?\\n7. **Help**: Did you do something kind for someone else, no matter how small?\\n8. **Learn**: Did you learn something new or engage in a mentally stimulating activity?\\n9. **Relax**: Did you take some time for yourself to relax and unwind?\\n10. **Mindfulness**: Did you practice mindfulness or some form of meditation?\\n\\nAnd finally, for the **Sustain** pillar:\\n\\n11. **Nature**: Did you spend some time outdoors, connecting with nature?\\n12. **Unplug**: Did you take a break from digital devices for a while?\\n13. **Plan**: Did you set goals or plan for the future?\\n14. **Adapt**: Did you adapt to a change or overcome a challenge?\\n15. **Dream**: Did you take a step towards achieving a long-term dream or goal?\\n\\nPlease confirm if all these details are correct.\")),\n",
       " (42, HumanMessage(content=\"that's right\")),\n",
       " (43,\n",
       "  AIMessage(content=\"Brilliant! Your SEEDS diary entry for the 23rd of October, 2023, has been saved successfully. You've done an excellent job today, achieving a perfect score of 15/15. Keep up the good work!\\n\\nWhen you're ready to continue on your health journey, just let me know.\")),\n",
       " (44, HumanMessage(content='what should I eat?')),\n",
       " (45,\n",
       "  AIMessage(content=\"Based on the information provided, your diet should primarily consist of high-quality proteins, fiber, and minerals, while minimizing refined and concentrated carbs and fats. Here's a basic template for your diet:\\n\\n1. **Protein Sources**: Pastured eggs, wild-caught salmon, and grass-fed beef are excellent choices. Other options include ground beef, Greek yogurt, canned sardines, canned salmon, and chicken breasts. Always have these on hand and know how to prepare them. For emergency protein sources, consider hard-boiled eggs and individually packaged grass-fed beef sticks (without sugar).\\n\\n2. **Carbohydrates**: If you're consuming carbohydrates, opt for low energy density, high satiety choices like apples, carrots, berries, and potatoes. \\n\\n3. **Convenience Foods**: For times when you're short on time, consider having some whey powder and a shaker bottle on hand.\\n\\nIn terms of specific food options, the best choices include:\\n\\n1. **Ruminants**: Beef, lamb, bison\\n2. **Poultry**\\n3. **Fish and Seafood**: Opt for wild-caught when possible. Shrimp is a great choice, with a high protein to energy ratio and plenty of nutrients like iodine and omega-three fats.\\n4. **Eggs**: Opt for pasture-raised, organic eggs when possible.\\n5. **Wild Game**\\n6. **Pork**\\n7. **Legumes**\\n8. **Fermented Dairy**: Plain Greek yogurt and cottage cheese\\n\\nAlways choose animals that are eating what they are supposed to be eating. For example, opt for grass-fed meats, free-range organic chicken, and pastured pork when possible. Always buy the highest quality that you can afford.\\n\\nRemember, the key is to make small and sustainable substitutions to improve your diet quality gradually. Prioritize foods with a higher protein to energy (P:E) ratio, like eggs over bacon, and bacon over toast. This approach will lead you to naturally eat less energy.\")),\n",
       " (46, HumanMessage(content='hey')),\n",
       " (47, AIMessage(content='Hello, Chris! How are you feeling today?')),\n",
       " (48, HumanMessage(content='not bad, what should I eat?')),\n",
       " (49,\n",
       "  AIMessage(content=\"Based on the information provided, your diet should primarily consist of high-quality proteins, fiber, and minerals, while minimizing refined and concentrated carbs and fats. Here's a basic template for your diet:\\n\\n1. **Protein Sources**: Pastured eggs, wild-caught salmon, and grass-fed beef are excellent choices. Other options include ground beef, Greek yogurt, canned sardines, canned salmon, and chicken breasts. Always have these on hand and know how to prepare them. For emergency protein sources, consider hard-boiled eggs and individually packaged grass-fed beef sticks (without sugar).\\n\\n2. **Carbohydrates**: If you're consuming carbohydrates, opt for low energy density, high satiety choices like apples, carrots, berries, and potatoes. \\n\\n3. **Convenience Foods**: For times when you're short on time, consider having some whey powder and a shaker bottle on hand.\\n\\nIn terms of specific food options, the best choices include:\\n\\n1. **Ruminants**: Beef, lamb, bison\\n2. **Poultry**\\n3. **Fish and Seafood**: Opt for wild-caught when possible. Shrimp is a great choice, with a high protein to energy ratio and plenty of nutrients like iodine and omega-three fats.\\n4. **Eggs**: Opt for pasture-raised, organic eggs when possible.\\n5. **Wild Game**\\n6. **Pork**\\n7. **Legumes**\\n8. **Fermented Dairy**: Plain Greek yogurt and cottage cheese\\n\\nAlways choose animals that are eating what they are supposed to be eating. For example, opt for grass-fed meats, free-range organic chicken, and pastured pork when possible. Always buy the highest quality that you can afford.\\n\\nRemember, the key is to make small and sustainable substitutions to improve your diet quality gradually. Prioritize foods with a higher protein to energy (P:E) ratio, like eggs over bacon, and bacon over toast. This approach will lead you to naturally eat less energy.\")),\n",
       " (50, HumanMessage(content='what about alcohol?')),\n",
       " (51, AIMessage(content=\"Sorry I'm not sure.\")),\n",
       " (52, HumanMessage(content='what about drinking alcohol?')),\n",
       " (53, AIMessage(content=\"Sorry I'm not sure.\")),\n",
       " (54, HumanMessage(content='what about drinking alcohol?')),\n",
       " (55,\n",
       "  AIMessage(content=\"Alcohol is a psychoactive substance that is widely consumed across the globe. It is a central nervous system depressant that can have both short-term and long-term effects on various aspects of health. \\n\\nIn the short term, alcohol can affect mood, cognition, and motor skills. It can lead to feelings of euphoria, relaxation, and lowered inhibitions, but it can also impair judgment, coordination, and reaction time. Consuming large amounts of alcohol in a short period can lead to alcohol poisoning, a serious condition that requires immediate medical attention.\\n\\nIn the long term, regular heavy drinking can lead to a range of health problems. These include liver disease, cardiovascular disease, neurological damage, and an increased risk of certain types of cancer. Alcohol can also contribute to mental health problems, such as depression and anxiety, and can lead to alcohol dependence or addiction.\\n\\nAlcohol can also disrupt the biological clock at many different levels, including the central clock in the brain and the muscle clock. Like caffeine, the dose and timing of alcohol consumption matter. In general, earlier consumption is better, and less is better. \\n\\nOne unit of alcohol is the amount in 10 milliliters or 8 grams of pure ethanol. To get an idea of the unit quantities of common drinks, resources such as the unit calculator at drinkaware.co.uk and alcoholchange.org.uk can be used. \\n\\nIt's recommended to allow at least one hour before bed per unit consumed plus one hour. For example, a pint of beer is typically about two units, so it would be recommended to finish drinking it at least three hours before bed. This is due to the rate at which the body can detoxify alcohol. \\n\\nHowever, it's important to note that these are general guidelines and individual responses to alcohol can vary. It's always important to drink responsibly and be aware of the potential risks associated with alcohol consumption.\"))]"
      ]
     },
     "execution_count": 42,
     "metadata": {},
     "output_type": "execute_result"
    }
   ],
   "source": [
    "list(enumerate(self.messages))"
   ]
  },
  {
   "cell_type": "code",
   "execution_count": 10,
   "id": "eb094c16-22aa-45e0-baea-2b446283c0a6",
   "metadata": {},
   "outputs": [],
   "source": [
    "DBSeedsDiaryEntry.objects().order_by('-id').first().delete()"
   ]
  },
  {
   "cell_type": "code",
   "execution_count": 11,
   "id": "c860c692-b59f-4067-ad3e-7592b68793e9",
   "metadata": {},
   "outputs": [],
   "source": [
    "x.memory.clear()"
   ]
  },
  {
   "cell_type": "code",
   "execution_count": 12,
   "id": "431f65f3-9dfa-4381-9623-3f061897722b",
   "metadata": {},
   "outputs": [
    {
     "name": "stdout",
     "output_type": "stream",
     "text": [
      "X.say seeds_entry -> all_for_now\n",
      "_to_args_and_kwargs self.name='get_knowledge_answer' all_args=['what should I eat']\n"
     ]
    },
    {
     "data": {
      "text/markdown": [
       "Based on the information provided, your diet should primarily consist of high-quality proteins, fiber, and minerals, while minimizing refined and concentrated carbs and fats. Here are some guidelines for what you should eat:\n",
       "\n",
       "1. **Protein Sources**: Your diet should include a few staple protein sources that you are familiar with. These could be pastured eggs, wild-caught salmon, and grass-fed beef. Other good options include ruminants (beef, lamb, bison), poultry, fish, seafood, eggs, wild game, pork, legumes, and fermented dairy (plain Greek yogurt and cottage cheese). Always opt for animals that are eating what they are supposed to be eating. For example, choose grass-fed meats, free-range organic chicken, and pastured pork when possible. \n",
       "\n",
       "2. **Carbohydrates**: If you are eating carbohydrates, make sure you have some low energy density high satiety choices available, like apples, carrots, berries, and potatoes. \n",
       "\n",
       "3. **Emergency Protein Sources**: Keep emergency protein sources nearby. Hard-boiled eggs and individually packaged grass-fed beef sticks (without sugar) are good options. \n",
       "\n",
       "4. **Convenient Options**: For times when you are starving but have no time at all, consider some whey powder and a shaker bottle. \n",
       "\n",
       "5. **Species-Appropriate Diet**: Humans are hunter-gatherers, and we do have a species-appropriate diet. Start with a basic Paleo-ish template as a starting point. \n",
       "\n",
       "6. **P:E Ratio**: The P:E Diet is all about food choice. You are specifically choosing one food, over other possible food options, because it is going to provide you with a higher level of nutrient satiety—allowing you to eat less energy overall. \n",
       "\n",
       "7. **Seafood**: Shrimp is another delicious seafood with an amazing protein to energy ratio and plenty of nutrients, including iodine and omega-three fats. \n",
       "\n",
       "Remember, the key is to set yourself up for success by having these foods available as often as possible. This will make you far less likely to fall off the wagon and end up in the drive-through of your favorite fast food place."
      ],
      "text/plain": [
       "<IPython.core.display.Markdown object>"
      ]
     },
     "metadata": {},
     "output_type": "display_data"
    }
   ],
   "source": [
    "x(\"what should I eat\");"
   ]
  },
  {
   "cell_type": "code",
   "execution_count": 3,
   "id": "f0c23b86-65e3-484c-bf3c-bc058b7cbb9a",
   "metadata": {},
   "outputs": [],
   "source": [
    "clear_db([\"daily_routine_seen\"])"
   ]
  },
  {
   "cell_type": "code",
   "execution_count": 8,
   "id": "02fb5c66-0fd4-48ca-b655-bbfa69898f5c",
   "metadata": {},
   "outputs": [],
   "source": [
    "clear_db()"
   ]
  },
  {
   "cell_type": "code",
   "execution_count": 3,
   "id": "30160d82-b578-4a96-90c9-9d0ae9a844f3",
   "metadata": {},
   "outputs": [
    {
     "name": "stdout",
     "output_type": "stream",
     "text": [
      "X() len(self.tools)=32\n"
     ]
    }
   ],
   "source": [
    "x = X(hello=None)"
   ]
  },
  {
   "cell_type": "code",
   "execution_count": 5,
   "id": "04ba2f95-26f9-48c8-8acc-6301525c0c64",
   "metadata": {},
   "outputs": [
    {
     "data": {
      "text/plain": [
       "\u001b[0;31mSignature:\u001b[0m \u001b[0mx\u001b[0m\u001b[0;34m.\u001b[0m\u001b[0mmemory\u001b[0m\u001b[0;34m.\u001b[0m\u001b[0msave_context\u001b[0m\u001b[0;34m(\u001b[0m\u001b[0minputs\u001b[0m\u001b[0;34m:\u001b[0m \u001b[0mDict\u001b[0m\u001b[0;34m[\u001b[0m\u001b[0mstr\u001b[0m\u001b[0;34m,\u001b[0m \u001b[0mAny\u001b[0m\u001b[0;34m]\u001b[0m\u001b[0;34m,\u001b[0m \u001b[0moutputs\u001b[0m\u001b[0;34m:\u001b[0m \u001b[0mDict\u001b[0m\u001b[0;34m[\u001b[0m\u001b[0mstr\u001b[0m\u001b[0;34m,\u001b[0m \u001b[0mstr\u001b[0m\u001b[0;34m]\u001b[0m\u001b[0;34m)\u001b[0m \u001b[0;34m->\u001b[0m \u001b[0;32mNone\u001b[0m\u001b[0;34m\u001b[0m\u001b[0;34m\u001b[0m\u001b[0m\n",
       "\u001b[0;31mSource:\u001b[0m   \n",
       "    \u001b[0;32mdef\u001b[0m \u001b[0msave_context\u001b[0m\u001b[0;34m(\u001b[0m\u001b[0mself\u001b[0m\u001b[0;34m,\u001b[0m \u001b[0minputs\u001b[0m\u001b[0;34m:\u001b[0m \u001b[0mDict\u001b[0m\u001b[0;34m[\u001b[0m\u001b[0mstr\u001b[0m\u001b[0;34m,\u001b[0m \u001b[0mAny\u001b[0m\u001b[0;34m]\u001b[0m\u001b[0;34m,\u001b[0m \u001b[0moutputs\u001b[0m\u001b[0;34m:\u001b[0m \u001b[0mDict\u001b[0m\u001b[0;34m[\u001b[0m\u001b[0mstr\u001b[0m\u001b[0;34m,\u001b[0m \u001b[0mstr\u001b[0m\u001b[0;34m]\u001b[0m\u001b[0;34m)\u001b[0m \u001b[0;34m->\u001b[0m \u001b[0;32mNone\u001b[0m\u001b[0;34m:\u001b[0m\u001b[0;34m\u001b[0m\n",
       "\u001b[0;34m\u001b[0m        \u001b[0;34m\"\"\"Save context from this conversation to buffer.\"\"\"\u001b[0m\u001b[0;34m\u001b[0m\n",
       "\u001b[0;34m\u001b[0m        \u001b[0minput_str\u001b[0m\u001b[0;34m,\u001b[0m \u001b[0moutput_str\u001b[0m \u001b[0;34m=\u001b[0m \u001b[0mself\u001b[0m\u001b[0;34m.\u001b[0m\u001b[0m_get_input_output\u001b[0m\u001b[0;34m(\u001b[0m\u001b[0minputs\u001b[0m\u001b[0;34m,\u001b[0m \u001b[0moutputs\u001b[0m\u001b[0;34m)\u001b[0m\u001b[0;34m\u001b[0m\n",
       "\u001b[0;34m\u001b[0m        \u001b[0mself\u001b[0m\u001b[0;34m.\u001b[0m\u001b[0mchat_memory\u001b[0m\u001b[0;34m.\u001b[0m\u001b[0madd_user_message\u001b[0m\u001b[0;34m(\u001b[0m\u001b[0minput_str\u001b[0m\u001b[0;34m)\u001b[0m\u001b[0;34m\u001b[0m\n",
       "\u001b[0;34m\u001b[0m        \u001b[0mself\u001b[0m\u001b[0;34m.\u001b[0m\u001b[0mchat_memory\u001b[0m\u001b[0;34m.\u001b[0m\u001b[0madd_ai_message\u001b[0m\u001b[0;34m(\u001b[0m\u001b[0moutput_str\u001b[0m\u001b[0;34m)\u001b[0m\u001b[0;34m\u001b[0m\u001b[0;34m\u001b[0m\u001b[0m\n",
       "\u001b[0;31mFile:\u001b[0m      ~/Library/Caches/pypoetry/virtualenvs/sleepmate-kok1GflL-py3.11/lib/python3.11/site-packages/langchain/memory/chat_memory.py\n",
       "\u001b[0;31mType:\u001b[0m      method"
      ]
     },
     "metadata": {},
     "output_type": "display_data"
    }
   ],
   "source": [
    "x.memory.save_context??"
   ]
  },
  {
   "cell_type": "code",
   "execution_count": 3,
   "id": "c5890a7e-8808-49ae-abd0-0f6ea258710d",
   "metadata": {},
   "outputs": [
    {
     "data": {
      "text/plain": [
       "False"
      ]
     },
     "execution_count": 3,
     "metadata": {},
     "output_type": "execute_result"
    }
   ],
   "source": [
    "diary_entry()"
   ]
  },
  {
   "cell_type": "code",
   "execution_count": 3,
   "id": "ea29173a-b506-4802-a03f-6299801b46f9",
   "metadata": {},
   "outputs": [],
   "source": [
    "from datetime import datetime, time, date\n",
    "midnight = datetime.combine(date.today(), time())"
   ]
  },
  {
   "cell_type": "code",
   "execution_count": 4,
   "id": "53c3caed-dbc3-486d-80fd-7cbab66af54c",
   "metadata": {},
   "outputs": [
    {
     "data": {
      "text/plain": [
       "datetime.datetime(2023, 10, 22, 0, 0)"
      ]
     },
     "execution_count": 4,
     "metadata": {},
     "output_type": "execute_result"
    }
   ],
   "source": [
    "midnight"
   ]
  },
  {
   "cell_type": "code",
   "execution_count": 5,
   "id": "c9742367-931c-4f53-bf5a-8a42bc305af9",
   "metadata": {},
   "outputs": [
    {
     "data": {
      "text/plain": [
       "HealthHistory(date=datetime.datetime(2023, 10, 22, 7, 33, 37, 359605), sex='man', date_of_birth=datetime.datetime(1976, 2, 13, 0, 0), occupation='coder', work_hours='7 - 6 with breaks', smoking='nope', alcohol='some alchohol, mostly at the weekends', physical_activity=\"I'm a cyclist, surfer, lift weights\", diet='three eggs and sausages for breakfast, salad and protein for lunch, meat and veg for dinner. 1g protein per lb of bodyweight', medical_conditions='none', medications='no', family_history='no', mental_health='no', psychological_treatment='no', living_with='live with family, three kids, in a house but sleep in a VW Eurovan', residence_type='house', noise_level=\"it's very rural and quiet\", goal='sleep through the night, wake up feeling refreshed', helpful='getting enough daylight', unhelpful='apigenin', notes='N/A')"
      ]
     },
     "execution_count": 5,
     "metadata": {},
     "output_type": "execute_result"
    }
   ],
   "source": [
    "get_health_history_from_memory(x.ro_memory)"
   ]
  },
  {
   "cell_type": "code",
   "execution_count": 6,
   "id": "5f796f63-41a8-4120-98bf-da8becadefcb",
   "metadata": {},
   "outputs": [
    {
     "data": {
      "text/plain": [
       "True"
      ]
     },
     "execution_count": 6,
     "metadata": {},
     "output_type": "execute_result"
    }
   ],
   "source": [
    "x.ro_memory.memory.return_messages"
   ]
  },
  {
   "cell_type": "code",
   "execution_count": 7,
   "id": "529ddd0d-6149-4e8f-9b32-8c3e060253f3",
   "metadata": {},
   "outputs": [],
   "source": [
    "x.memory.return_messages = False"
   ]
  },
  {
   "cell_type": "code",
   "execution_count": 8,
   "id": "2315f018-d5b4-4441-b5bd-ec643c0544a6",
   "metadata": {},
   "outputs": [
    {
     "data": {
      "text/plain": [
       "\"AI: what's your name?\\nHuman: Chris\\nAI: what's your email?\\nHuman: chris@nourishbalancethrive.com\\nHuman: hey\\nAI: Hello Chris, it's a pleasure to meet you. I hope you're doing well. Would now be a good time to go through a health history questionnaire? It's a bit like a check-up, but without the cold stethoscope.\\nHuman: not bad, a bit tired\\nAI: It sounds like you're feeling a bit worn out, which is completely understandable in our fast-paced world. Let's proceed with the health history questionnaire, shall we? It might even be a nice distraction. Let's start with an easy one: what is your sex?\\nHuman: man\\nAI: Thank you, Chris. Now, could you please share your date of birth? Don't worry, I won't be sending any surprise birthday parties your way.\\nHuman: Feb 13 1976\\nAI: Thank you, Chris. You're still a spring chicken! Now, could you please tell me about your current occupation?\\nHuman: coder\\nAI: Ah, a coder! That's a job that requires a lot of mental gymnastics. Now, could you please tell me about your typical work hours?\\nHuman: 7 - 6 with breaks\\nAI: Thank you, Chris. That's quite a long day, but I'm glad to hear you're taking breaks. Now, let's move on to some lifestyle questions. Do you smoke?\\nHuman: nope\\nAI: That's great to hear, Chris. Now, how about alcohol? Do you drink, and if so, how often?\\nHuman: some alchohol, mostly at the weekends\\nAI: Thank you for sharing, Chris. It's important to enjoy life's pleasures in moderation. Now, could you please tell me about your level of physical activity?\\nHuman: I'm a cyclist, surfer, lift weights\\nAI: Impressive, Chris! You're quite the active individual. Now, could you describe what a typical day of eating looks like for you?\\nHuman: three eggs and sausages for breakfast, salad and protein for lunch, meat and veg for dinner. 1g protein per lb of bodyweight\\nAI: Sounds like a well-rounded diet, Chris. Now, do you have any existing medical conditions such as diabetes, hypertension, etc.?\\nHuman: none\\nAI: That's good to hear, Chris. Now, are you currently taking any medications?\\nHuman: no\\nAI: Great, Chris. Now, is there a family history of insomnia or other sleep disorders?\\nHuman: no\\nAI: That's good to hear, Chris. Now, do you have a history of mental health conditions such as depression, anxiety, etc.?\\nHuman: no\\nAI: That's good to hear, Chris. Are you currently undergoing any psychological treatment?\\nHuman: no\\nAI: Thank you for sharing, Chris. Now, who are you currently living with? Alone, family, friends?\\nHuman: live with family, three kids, in a house but sleep in a VW Eurovan\\nAI: Sounds like quite the adventure, Chris! Now, could you describe the noise level in your living area?\\nHuman: it's very rural and quiet\\nAI: That sounds peaceful, Chris. Now, could you tell me what success looks like to you?\\nHuman: sleep through the night, wake up feeling refreshed\\nAI: That's a wonderful goal, Chris. Now, could you tell me about anything you've tried previously that helped you achieve this?\\nHuman: getting enough daylight\\nAI: That's a great strategy, Chris. Daylight can indeed help regulate our sleep-wake cycle. Now, could you tell me about anything you've tried previously that didn't help?\\nHuman: apigenin\\nAI: I see, not all remedies work for everyone. Lastly, is there anything else you'd like to add to your health history?\""
      ]
     },
     "execution_count": 8,
     "metadata": {},
     "output_type": "execute_result"
    }
   ],
   "source": [
    "x.memory.buffer"
   ]
  },
  {
   "cell_type": "code",
   "execution_count": 4,
   "id": "4884bffe-90bb-4122-a225-cb2d770748f0",
   "metadata": {},
   "outputs": [
    {
     "data": {
      "text/markdown": [
       "Fantastic! Let's dive in. Remember, this is a safe space. Your answers are for your eyes only, so feel free to be as honest as possible. No need to worry about social pressures or the wagging mental fingers of should and have to. This is between you and you.\n",
       "\n",
       "Let's start with the first domain: Family relations (other than marriage or parent). \n",
       "\n",
       "a) On a scale of 1-10, how important is this domain to you?\n",
       "b) Again, on a scale of 1-10, how consistently have you lived in accordance with your values in this domain over the past week?"
      ],
      "text/plain": [
       "<IPython.core.display.Markdown object>"
      ]
     },
     "metadata": {},
     "output_type": "display_data"
    }
   ],
   "source": [
    "x(\"sure\");"
   ]
  },
  {
   "cell_type": "code",
   "execution_count": 6,
   "id": "6f27fb96-b87b-4e18-8f0e-9530863bae90",
   "metadata": {},
   "outputs": [],
   "source": [
    "x.memory.clear()"
   ]
  },
  {
   "cell_type": "code",
   "execution_count": 41,
   "id": "164acd6a-505b-4dfc-bbf3-962ce2f8ce59",
   "metadata": {},
   "outputs": [],
   "source": [
    "# Provide the connection string to connect to the MongoDB database\n",
    "connection_string = \"mongodb://localhost:27017/\"\n",
    "chat_memory = MongoDBChatMessageHistory(connection_string, \"test-session\", database_name=\"sleepmate\")"
   ]
  },
  {
   "cell_type": "code",
   "execution_count": 42,
   "id": "3527da0d-f1af-4d8d-994c-23590649f5a0",
   "metadata": {},
   "outputs": [],
   "source": [
    "memory = ConversationBufferWindowMemory(k=1, chat_memory=chat_memory)"
   ]
  },
  {
   "cell_type": "code",
   "execution_count": 43,
   "id": "b6aa5991-d5b7-4863-94ef-b41a35394a95",
   "metadata": {},
   "outputs": [],
   "source": [
    "memory.save_context({\"input\": \"hi\"}, {\"output\": \"whats up\"})\n",
    "memory.save_context({\"input\": \"not much you\"}, {\"output\": \"not much\"})"
   ]
  },
  {
   "cell_type": "code",
   "execution_count": 40,
   "id": "d5b633c0-661c-4b9c-8923-9790de1a675b",
   "metadata": {},
   "outputs": [
    {
     "data": {
      "text/plain": [
       "<langchain.memory.chat_message_histories.mongodb.MongoDBChatMessageHistory at 0x13faf4050>"
      ]
     },
     "execution_count": 40,
     "metadata": {},
     "output_type": "execute_result"
    }
   ],
   "source": [
    "memory.chat_memory"
   ]
  },
  {
   "cell_type": "code",
   "execution_count": 16,
   "id": "60202e30-d3b1-4809-a031-569d010d0923",
   "metadata": {},
   "outputs": [
    {
     "data": {
      "text/plain": [
       "{'history': 'Human: not much you\\nAI: not much'}"
      ]
     },
     "execution_count": 16,
     "metadata": {},
     "output_type": "execute_result"
    }
   ],
   "source": [
    "memory.load_memory_variables({})"
   ]
  },
  {
   "cell_type": "code",
   "execution_count": 17,
   "id": "8d848c7b-f0bf-4f13-b771-41d5d65f1c09",
   "metadata": {},
   "outputs": [
    {
     "ename": "AttributeError",
     "evalue": "'MyCustomMemory' object has no attribute 'collection'",
     "output_type": "error",
     "traceback": [
      "\u001b[0;31m---------------------------------------------------------------------------\u001b[0m",
      "\u001b[0;31mAttributeError\u001b[0m                            Traceback (most recent call last)",
      "Cell \u001b[0;32mIn[17], line 1\u001b[0m\n\u001b[0;32m----> 1\u001b[0m \u001b[43mmemory\u001b[49m\u001b[38;5;241;43m.\u001b[39;49m\u001b[43mmessages\u001b[49m\n",
      "File \u001b[0;32m~/Library/Caches/pypoetry/virtualenvs/sleepmate-kok1GflL-py3.11/lib/python3.11/site-packages/langchain/memory/chat_message_histories/mongodb.py:56\u001b[0m, in \u001b[0;36mMongoDBChatMessageHistory.messages\u001b[0;34m(self)\u001b[0m\n\u001b[1;32m     53\u001b[0m \u001b[38;5;28;01mfrom\u001b[39;00m \u001b[38;5;21;01mpymongo\u001b[39;00m \u001b[38;5;28;01mimport\u001b[39;00m errors\n\u001b[1;32m     55\u001b[0m \u001b[38;5;28;01mtry\u001b[39;00m:\n\u001b[0;32m---> 56\u001b[0m     cursor \u001b[38;5;241m=\u001b[39m \u001b[38;5;28;43mself\u001b[39;49m\u001b[38;5;241;43m.\u001b[39;49m\u001b[43mcollection\u001b[49m\u001b[38;5;241m.\u001b[39mfind({\u001b[38;5;124m\"\u001b[39m\u001b[38;5;124mSessionId\u001b[39m\u001b[38;5;124m\"\u001b[39m: \u001b[38;5;28mself\u001b[39m\u001b[38;5;241m.\u001b[39msession_id})\n\u001b[1;32m     57\u001b[0m \u001b[38;5;28;01mexcept\u001b[39;00m errors\u001b[38;5;241m.\u001b[39mOperationFailure \u001b[38;5;28;01mas\u001b[39;00m error:\n\u001b[1;32m     58\u001b[0m     logger\u001b[38;5;241m.\u001b[39merror(error)\n",
      "\u001b[0;31mAttributeError\u001b[0m: 'MyCustomMemory' object has no attribute 'collection'"
     ]
    },
    {
     "name": "stdout",
     "output_type": "stream",
     "text": [
      "> \u001b[0;32m/Users/cck197/Library/Caches/pypoetry/virtualenvs/sleepmate-kok1GflL-py3.11/lib/python3.11/site-packages/langchain/memory/chat_message_histories/mongodb.py\u001b[0m(56)\u001b[0;36mmessages\u001b[0;34m()\u001b[0m\n",
      "\u001b[0;32m     54 \u001b[0;31m\u001b[0;34m\u001b[0m\u001b[0m\n",
      "\u001b[0m\u001b[0;32m     55 \u001b[0;31m        \u001b[0;32mtry\u001b[0m\u001b[0;34m:\u001b[0m\u001b[0;34m\u001b[0m\u001b[0;34m\u001b[0m\u001b[0m\n",
      "\u001b[0m\u001b[0;32m---> 56 \u001b[0;31m            \u001b[0mcursor\u001b[0m \u001b[0;34m=\u001b[0m \u001b[0mself\u001b[0m\u001b[0;34m.\u001b[0m\u001b[0mcollection\u001b[0m\u001b[0;34m.\u001b[0m\u001b[0mfind\u001b[0m\u001b[0;34m(\u001b[0m\u001b[0;34m{\u001b[0m\u001b[0;34m\"SessionId\"\u001b[0m\u001b[0;34m:\u001b[0m \u001b[0mself\u001b[0m\u001b[0;34m.\u001b[0m\u001b[0msession_id\u001b[0m\u001b[0;34m}\u001b[0m\u001b[0;34m)\u001b[0m\u001b[0;34m\u001b[0m\u001b[0;34m\u001b[0m\u001b[0m\n",
      "\u001b[0m\u001b[0;32m     57 \u001b[0;31m        \u001b[0;32mexcept\u001b[0m \u001b[0merrors\u001b[0m\u001b[0;34m.\u001b[0m\u001b[0mOperationFailure\u001b[0m \u001b[0;32mas\u001b[0m \u001b[0merror\u001b[0m\u001b[0;34m:\u001b[0m\u001b[0;34m\u001b[0m\u001b[0;34m\u001b[0m\u001b[0m\n",
      "\u001b[0m\u001b[0;32m     58 \u001b[0;31m            \u001b[0mlogger\u001b[0m\u001b[0;34m.\u001b[0m\u001b[0merror\u001b[0m\u001b[0;34m(\u001b[0m\u001b[0merror\u001b[0m\u001b[0;34m)\u001b[0m\u001b[0;34m\u001b[0m\u001b[0;34m\u001b[0m\u001b[0m\n",
      "\u001b[0m\n"
     ]
    },
    {
     "name": "stdin",
     "output_type": "stream",
     "text": [
      "ipdb>  exit\n"
     ]
    }
   ],
   "source": [
    "memory.messages"
   ]
  },
  {
   "cell_type": "code",
   "execution_count": null,
   "id": "e2b9b1ea-a16e-428f-abbe-89003185f112",
   "metadata": {},
   "outputs": [],
   "source": []
  },
  {
   "cell_type": "code",
   "execution_count": null,
   "id": "e9980274-d43f-445b-b2cd-d71e70a7766f",
   "metadata": {},
   "outputs": [],
   "source": []
  },
  {
   "cell_type": "code",
   "execution_count": 7,
   "id": "87aefd77-f357-4d59-826a-27be0b9b00ea",
   "metadata": {},
   "outputs": [
    {
     "name": "stdout",
     "output_type": "stream",
     "text": [
      "X.load_memory filename='/Users/cck197/Downloads/virtual_greg/memory.pkl'\n"
     ]
    }
   ],
   "source": [
    "memory = X.load_memory()"
   ]
  },
  {
   "cell_type": "code",
   "execution_count": 7,
   "id": "dbd7ba09-00f5-4f91-bbb4-b25ede0509cc",
   "metadata": {},
   "outputs": [
    {
     "data": {
      "text/plain": [
       "True"
      ]
     },
     "execution_count": 7,
     "metadata": {},
     "output_type": "execute_result"
    }
   ],
   "source": [
    "memory.return_messages"
   ]
  },
  {
   "cell_type": "code",
   "execution_count": 5,
   "id": "df116127-a72d-4838-a58e-fd8a64645b35",
   "metadata": {},
   "outputs": [
    {
     "data": {
      "text/plain": [
       "HealthHistory(date=datetime.datetime(2023, 10, 21, 11, 12, 24, 643083), sex='man', date_of_birth=datetime.datetime(1976, 2, 13, 0, 0), occupation='coder', work_hours='7 - 6 with breaks', smoking='no', alcohol='some alcohol, mostly at the weekends', physical_activity='cyclist, surfer, lift weights', diet='three eggs and sausages for breakfast, salad and protein for lunch, meat and veg for dinner. 1g protein per lb of bodyweight', medical_conditions='none', medications='no', family_history='no', mental_health='no', psychological_treatment='no', living_with='live with family, three kids, in a house but sleep in a VW Eurovan', residence_type='house', noise_level='very rural and quiet', goal='sleep through the night, wake up feeling refreshed', helpful='getting enough daylight', unhelpful='apigenin', notes='N/A')"
      ]
     },
     "execution_count": 5,
     "metadata": {},
     "output_type": "execute_result"
    }
   ],
   "source": [
    "get_health_history_from_memory(memory)"
   ]
  },
  {
   "cell_type": "code",
   "execution_count": 8,
   "id": "98883357-493b-4ebb-ae24-aea4e17df761",
   "metadata": {},
   "outputs": [
    {
     "data": {
      "text/plain": [
       "2"
      ]
     },
     "execution_count": 8,
     "metadata": {},
     "output_type": "execute_result"
    }
   ],
   "source": [
    "DBGoalRefusal.objects.delete()"
   ]
  },
  {
   "cell_type": "code",
   "execution_count": 13,
   "id": "bd9e376e-a0f6-445b-9af8-16aa8383c199",
   "metadata": {},
   "outputs": [
    {
     "data": {
      "text/plain": [
       "['diary_probe', 'daily_routine']"
      ]
     },
     "execution_count": 13,
     "metadata": {},
     "output_type": "execute_result"
    }
   ],
   "source": [
    "[o.goal for o in DBGoalRefusal.objects()]"
   ]
  },
  {
   "cell_type": "code",
   "execution_count": null,
   "id": "675d2a05-3e41-4b98-9d92-2a8deeccfbad",
   "metadata": {},
   "outputs": [],
   "source": [
    "DBSleepDiaryEntry.objects(user=get_current_user()).count()"
   ]
  },
  {
   "cell_type": "code",
   "execution_count": 11,
   "id": "6e5f1ede-0264-4f9c-8840-c44ba668dec4",
   "metadata": {},
   "outputs": [],
   "source": [
    "from sleepmate.goal import DBGoalRefusal"
   ]
  },
  {
   "cell_type": "code",
   "execution_count": 3,
   "id": "ea3661a3-913a-478a-bd96-da5895f0e094",
   "metadata": {},
   "outputs": [],
   "source": [
    "imported = import_attrs([\"GOALS\", \"GOAL_HANDLERS\"])"
   ]
  },
  {
   "cell_type": "code",
   "execution_count": 3,
   "id": "186809ec-99cf-481d-9a5d-d5bd92781a81",
   "metadata": {},
   "outputs": [],
   "source": [
    "imported = import_attrs([\"TOOLS\"])"
   ]
  },
  {
   "cell_type": "code",
   "execution_count": 8,
   "id": "b52bc390-90e2-443d-855b-cf629632bf55",
   "metadata": {
    "scrolled": true
   },
   "outputs": [
    {
     "data": {
      "text/plain": [
       "[(0, AIMessage(content=\"what's your name?\")),\n",
       " (1, HumanMessage(content='Chris')),\n",
       " (2, AIMessage(content=\"what's your email?\")),\n",
       " (3, HumanMessage(content='chris@nourishbalancethrive.com')),\n",
       " (4, HumanMessage(content='hey')),\n",
       " (5,\n",
       "  AIMessage(content=\"Hello Chris! It's a pleasure to meet you. I hope you're doing well. Would now be a good time to go through a health history questionnaire? It's a bit like a check-up, but without the cold stethoscope.\")),\n",
       " (6, HumanMessage(content='not bad, a bit tired')),\n",
       " (7,\n",
       "  AIMessage(content=\"It sounds like you're feeling a bit worn out, which is completely understandable in our fast-paced world. Let's proceed with the health history questionnaire, shall we? It might even be a nice distraction. Let's start with an easy one: What is your sex?\")),\n",
       " (8, HumanMessage(content='sure')),\n",
       " (9, AIMessage(content='Great! So, what is your sex?')),\n",
       " (10, HumanMessage(content='man')),\n",
       " (11,\n",
       "  AIMessage(content=\"Thank you, Chris. Now, could you please share your date of birth? Don't worry, I won't use it to send you a belated birthday card.\")),\n",
       " (12, HumanMessage(content='Feb 13 1976')),\n",
       " (13,\n",
       "  AIMessage(content=\"Thank you, Chris. You're still a spring chicken! Now, could you please tell me about your current occupation?\")),\n",
       " (14, HumanMessage(content='coder')),\n",
       " (15,\n",
       "  AIMessage(content=\"Ah, a coder! That's a job that requires a lot of mental gymnastics. Now, could you tell me about your typical work hours?\")),\n",
       " (16, HumanMessage(content='7 - 6 with breaks')),\n",
       " (17,\n",
       "  AIMessage(content=\"Thank you, Chris. That's quite a long day, but I'm glad to hear you're taking breaks. Now, let's move onto lifestyle questions. Do you smoke?\")),\n",
       " (18, HumanMessage(content='nope')),\n",
       " (19,\n",
       "  AIMessage(content=\"That's great to hear, Chris! Now, how about alcohol? Do you drink, and if so, how often?\")),\n",
       " (20, HumanMessage(content='some alchohol, mostly at the weekends')),\n",
       " (21,\n",
       "  AIMessage(content=\"Thank you for sharing, Chris. It's important to enjoy life's pleasures in moderation. Now, could you tell me about your level of physical activity?\")),\n",
       " (22, HumanMessage(content=\"I'm a cyclist, surfer, lift weights\")),\n",
       " (23,\n",
       "  AIMessage(content=\"Impressive, Chris! You're quite the active individual. Now, could you describe what a typical day of eating looks like for you?\")),\n",
       " (24,\n",
       "  HumanMessage(content='three eggs and sausages for breakfast, salad and protein for lunch, meat and veg for dinner. 1g protein per lb of bodyweight')),\n",
       " (25,\n",
       "  AIMessage(content='Thank you, Chris. It sounds like you have a balanced diet. Now, do you have any existing medical conditions such as diabetes, hypertension, etc.?')),\n",
       " (26, HumanMessage(content='none')),\n",
       " (27,\n",
       "  AIMessage(content=\"That's good to hear, Chris. Now, are you currently taking any medications?\")),\n",
       " (28, HumanMessage(content='no')),\n",
       " (29,\n",
       "  AIMessage(content='Great, Chris. Now, is there a family history of insomnia or other sleep disorders?')),\n",
       " (30, HumanMessage(content='no')),\n",
       " (31,\n",
       "  AIMessage(content=\"That's good to hear, Chris. Now, do you have a history of mental health conditions such as depression, anxiety, etc.?\")),\n",
       " (32, HumanMessage(content='no')),\n",
       " (33,\n",
       "  AIMessage(content=\"That's good to hear, Chris. Are you currently undergoing any psychological treatment?\")),\n",
       " (34, HumanMessage(content='no')),\n",
       " (35,\n",
       "  AIMessage(content='Thank you for sharing, Chris. Now, who are you currently living with? Alone, family, friends?')),\n",
       " (36,\n",
       "  HumanMessage(content='live with family, three kids, in a house but sleep in a VW Eurovan')),\n",
       " (37,\n",
       "  AIMessage(content='Sounds like quite the adventure, Chris! Now, could you tell me about the noise level in your living area? Is it generally quiet, moderate, or noisy?')),\n",
       " (38, HumanMessage(content=\"it's very rural and quiet\")),\n",
       " (39,\n",
       "  AIMessage(content='That sounds peaceful, Chris. Now, could you tell me what success looks like to you?')),\n",
       " (40,\n",
       "  HumanMessage(content='sleep through the night, wake up feeling refreshed')),\n",
       " (41,\n",
       "  AIMessage(content=\"That's a wonderful goal, Chris. Now, could you tell me about anything you've tried previously that helped you achieve this?\")),\n",
       " (42, HumanMessage(content='getting enough daylight')),\n",
       " (43,\n",
       "  AIMessage(content=\"That's a great strategy, Chris. Daylight can indeed help regulate our sleep-wake cycle. Now, could you tell me about anything you've tried previously that didn't help?\")),\n",
       " (44, HumanMessage(content='apigenin')),\n",
       " (45,\n",
       "  AIMessage(content=\"Thank you for sharing that, Chris. It's helpful to know what hasn't worked for you in the past. Is there anything else you'd like to add?\")),\n",
       " (46, HumanMessage(content=\"no that's it\")),\n",
       " (47,\n",
       "  AIMessage(content=\"Thank you, Chris. Here's a summary of your health history:\\n\\n- Name: Chris\\n- Sex: Male\\n- Date of Birth: February 13, 1976\\n- Occupation: Coder\\n- Work Hours: 7 AM - 6 PM with breaks\\n- Smoking: No\\n- Alcohol: Some, mostly on weekends\\n- Physical Activity: Cyclist, surfer, weightlifter\\n- Typical Diet: Balanced, with a focus on protein\\n- Existing Medical Conditions: None\\n- Current Medications: None\\n- Family History of Sleep Disorders: None\\n- History of Mental Health Conditions: None\\n- Current Psychological Treatment: None\\n- Living Situation: With family in a house, sleeps in a VW Eurovan\\n- Noise Level in Living Area: Quiet\\n- Definition of Success: Sleeping through the night, waking up feeling refreshed\\n- Previous Successful Strategies: Getting enough daylight\\n- Previous Unsuccessful Strategies: Apigenin\\n\\nPlease confirm if this information is correct.\")),\n",
       " (48, HumanMessage(content='correct')),\n",
       " (49,\n",
       "  AIMessage(content=\"Thank you, Chris. Your health history has been saved. Now, would it be a good time to go through the Insomnia Severity Index questionnaire? It's a bit like a sleep diary, but without the dream interpretations.\")),\n",
       " (50, HumanMessage(content='sure')),\n",
       " (51,\n",
       "  AIMessage(content=\"Fantastic! Today's date is October 21, 2023. Let's start with the first question. On a scale from 0 to 4, how would you rate your difficulty falling asleep? Here's the scale for your reference:\\n\\n0: None\\n1: Mild\\n2: Moderate\\n3: Severe\\n4: Very severe\")),\n",
       " (52, HumanMessage(content='1')),\n",
       " (53,\n",
       "  AIMessage(content='Thank you, Chris. Now, on the same scale, how would you rate your difficulty staying asleep?\\n\\n0: None\\n1: Mild\\n2: Moderate\\n3: Severe\\n4: Very severe')),\n",
       " (54, HumanMessage(content='3')),\n",
       " (55,\n",
       "  AIMessage(content='Thank you, Chris. Now, on the same scale, how would you rate your problems with waking up too early?\\n\\n0: None\\n1: Mild\\n2: Moderate\\n3: Severe\\n4: Very severe')),\n",
       " (56, HumanMessage(content='all the remaining answers are 1')),\n",
       " (57,\n",
       "  AIMessage(content='Thank you, Chris. So, to confirm, your answers are:\\n\\n1. Difficulty falling asleep: 1 (Mild)\\n2. Difficulty staying asleep: 3 (Severe)\\n3. Problems waking up too early: 1 (Mild)\\n4. Satisfaction with current sleep pattern: 1 (Satisfied)\\n5. Noticeability of sleep problem: 1 (A little bit)\\n6. Worried/distressed about sleep problem: 1 (A little bit)\\n7. Interference of sleep problem with daily functioning: 1 (A little bit)\\n\\nIs that correct?')),\n",
       " (58, HumanMessage(content=\"yeah, that's right\")),\n",
       " (59,\n",
       "  AIMessage(content=\"Thank you, Chris. Your responses have been saved. The total score for your Insomnia Severity Index is 9, which falls into the category of 'Subthreshold insomnia'. \\n\\nRemember, it's not about chasing perfect scores, but about understanding and improving your sleep health. Let me know when you're ready to continue on your health journey.\")),\n",
       " (60, HumanMessage(content='ok')),\n",
       " (61,\n",
       "  AIMessage(content=\"Great! Now, would it be a good time to record a sleep diary entry? It's a bit like a dream journal, but with less Freud and more facts.\")),\n",
       " (62, HumanMessage(content='sure')),\n",
       " (63,\n",
       "  AIMessage(content=\"Fantastic! Let's start with the date of the entry. By default, we'll use yesterday's date. Is that okay, or would you like to specify a different date?\")),\n",
       " (64, HumanMessage(content='yesterday is fine')),\n",
       " (65,\n",
       "  AIMessage(content='Great! So, the date of the entry is October 20, 2023. Now, could you please tell me what time you went to bed?')),\n",
       " (66, HumanMessage(content='21:15')),\n",
       " (67,\n",
       "  AIMessage(content='Thank you, Chris. And what time did you try to fall asleep?')),\n",
       " (68, HumanMessage(content='21:15')),\n",
       " (69,\n",
       "  AIMessage(content='Thank you, Chris. Now, how long did it take you to fall asleep? Please provide the duration in minutes.')),\n",
       " (70, HumanMessage(content='5')),\n",
       " (71,\n",
       "  AIMessage(content=\"That's quite quick, Chris! Now, how many times did you wake up during the night?\")),\n",
       " (72, HumanMessage(content='1')),\n",
       " (73,\n",
       "  AIMessage(content='Thank you, Chris. And how long were you awake during the night? Please provide the duration in minutes.')),\n",
       " (74, HumanMessage(content='30')),\n",
       " (75,\n",
       "  AIMessage(content='Thank you, Chris. Now, could you please tell me what time you woke up in the morning?')),\n",
       " (76, HumanMessage(content='6:30')),\n",
       " (77,\n",
       "  AIMessage(content='Thank you, Chris. And what time did you get out of bed?')),\n",
       " (78, HumanMessage(content='6:45')),\n",
       " (79,\n",
       "  AIMessage(content='Thank you, Chris. Now, how would you rate your sleep quality? The options are \"very good\", \"good\", \"okay\", \"bad\", \"very bad\".')),\n",
       " (80, HumanMessage(content='good')),\n",
       " (81,\n",
       "  AIMessage(content='Thank you, Chris. Did you use any medications or aids to help you sleep?')),\n",
       " (82, HumanMessage(content='no')),\n",
       " (83,\n",
       "  AIMessage(content=\"Thank you, Chris. Finally, are there any other notes you'd like to add about your sleep? For example, any dreams, disturbances, or thoughts you had?\")),\n",
       " (84, HumanMessage(content='slept in the van')),\n",
       " (85,\n",
       "  AIMessage(content=\"Thank you, Chris. Here's a summary of your sleep diary entry for October 20, 2023:\\n\\n- Time you went to bed: 21:15\\n- Time you tried to fall asleep: 21:15\\n- How long it took you to fall asleep: 5 minutes\\n- How many times you woke up during the night: 1\\n- Total time you were awake during the night: 30 minutes\\n- Final wake up time: 6:30\\n- Time you got out of bed: 6:45\\n- Sleep quality: Good\\n- Medications or aids used: None\\n- Other notes: Slept in the van\\n\\nPlease confirm if this information is correct.\")),\n",
       " (86, HumanMessage(content='yep!')),\n",
       " (87,\n",
       "  AIMessage(content=\"Thank you, Chris. Your sleep diary entry for October 20, 2023, has been saved. \\n\\nHere's a summary:\\n\\n- Time you went to bed: 21:15\\n- Time you tried to fall asleep: 21:15\\n- How long it took you to fall asleep: 5 minutes\\n- How many times you woke up during the night: 1\\n- Total time you were awake during the night: 30 minutes\\n- Final wake up time: 6:30\\n- Time you got out of bed: 6:45\\n- Sleep quality: Good\\n- Medications or aids used: None\\n- Other notes: Slept in the van\\n\\nYour total sleep duration was 8 hours and 40 minutes, and your sleep efficiency was 96.67%, which is considered normal (anything over 85% is considered normal).\\n\\nLet me know when you're ready to continue on your health journey.\")),\n",
       " (88, HumanMessage(content='sure')),\n",
       " (89,\n",
       "  AIMessage(content='Great! Now, would you be open to hearing about a daily routine that could help improve your sleep?')),\n",
       " (90, HumanMessage(content='sure')),\n",
       " (91,\n",
       "  AIMessage(content='Based on the knowledge provided, a daily routine could look something like this:\\n\\n1. Wake up at a consistent time each day to help regulate your body\\'s internal clock. Spend at least an hour outdoors in daylight each day to reset your biological clock. \\n\\n2. Engage in physical activity throughout the day, with more strenuous exercise ideally taking place in the late afternoon, around 5 or 6 PM. \\n\\n3. Aim to eat within a window of 8 to 10 hours, ending at least two hours before bed. This practice, known as time-restricted eating, can help regulate your body\\'s peripheral clocks. \\n\\n4. Focus your nutrition on foods that have a high satiety per calorie, such as fruits, vegetables, lean meats, and fish. Try to avoid mindless snacking, as it often leads to consumption of low-quality foods.\\n\\n5. Minimize your exposure to bright overhead lights in the three hours before bed, and sleep in near or total darkness to give your body\\'s central clock strong time cues. \\n\\n6. If you\\'re struggling with sleep, consider implementing bedtime restriction therapy, which involves only allowing yourself the amount of time in bed that you\\'re actually asleep on a regular basis. \\n\\n7. Finally, take a day of rest each week, as part of a \"biblical training week.\" This can help prevent overexertion and promote overall well-being. \\n\\nRemember, this routine is based on general advice and may not be suitable for everyone. Always consult with a healthcare professional before making significant changes to your daily routine.')),\n",
       " (92, HumanMessage(content='ok')),\n",
       " (93,\n",
       "  AIMessage(content=\"Thank you, Chris. Your daily routine has been saved. Now, let's move on to the next part of our journey. \\n\\nI'm curious, aside from sleeping, what activities do you usually do in bed? For example, some people read, watch TV, or use their phones.\")),\n",
       " (94, HumanMessage(content='yeah, I read in bed, sometimes watch TV')),\n",
       " (95,\n",
       "  AIMessage(content=\"Ah, a bit of a bibliophile and a telly enthusiast, are we? That's quite common, Chris. Now, would you be open to hearing about a technique called Stimulus Control Therapy, developed by Richard R. Bootzin? It's a bit like training a dog, but you're the dog. And the trainer. And there's no actual dog.\")),\n",
       " (96, HumanMessage(content='sure')),\n",
       " (97,\n",
       "  AIMessage(content=\"Splendid! Stimulus Control Therapy is based on the principle of associating certain stimuli with specific responses. In this case, it's about associating the bed with sleep. Here's the gist of it:\\n\\n1. Only go to bed when you're sleepy. Not just tired, but sleepy.\\n2. Use the bed only for sleep and... ahem... marital relations. No reading, watching TV, or scrolling through your phone.\\n3. If you can't fall asleep within 15-20 minutes, get out of bed and do something relaxing in another room. Only return to bed when you're sleepy.\\n4. Wake up at the same time every morning, regardless of how much sleep you got. No lie-ins allowed, I'm afraid.\\n5. No daytime napping. It's tough, I know, but it's for the greater good.\\n\\nThe idea is to strengthen the association between bed and sleep, and to establish a consistent sleep-wake schedule. Would you be willing to give it a try?\")),\n",
       " (98, HumanMessage(content='yeah ok')),\n",
       " (99,\n",
       "  AIMessage(content=\"Thank you, Chris. Your willingness to try Stimulus Control Therapy has been noted. Remember, it's not about perfection, but about progress. \\n\\nLet me know when you're ready to continue on your health journey.\")),\n",
       " (100, HumanMessage(content='sure')),\n",
       " (101,\n",
       "  AIMessage(content=\"Great! Now, let's move on to the next part of our journey. \\n\\nI'd like to introduce you to the concept of a Stress Audit. It's a tool to help you identify what you're currently doing when you're feeling stressed. The goal is to list as many behaviours as you can. Once you're done, we'll categorise them into two categories: problem or solution-focused coping (behaviours that reduce the stressor itself) and emotion-focused coping (behaviours that reduce the emotional impact of the stressor). \\n\\nWe can further categorise these behaviours into adaptive (helpful) and maladaptive (unhelpful). \\n\\nFor example, working longer hours could be categorised as problem-focused and adaptive, while drinking more coffee could be categorised as emotion-focused and maladaptive. \\n\\nOnce you've written down as many behaviours as you can, we'll categorise them and see if there's an imbalance. The goal is to have a balanced list, making use of both problem and emotion-focused coping behaviours, and more adaptive behaviours than maladaptive. \\n\\nAre you ready to start listing your stress-coping behaviours?\")),\n",
       " (102, HumanMessage(content='can you give me some examples?')),\n",
       " (103,\n",
       "  AIMessage(content=\"Absolutely, Chris! Here are some examples of stress-coping behaviours:\\n\\n1. Working longer, working harder (Problem-focused, Adaptive)\\n2. Diarising for time management (Problem-focused, Adaptive)\\n3. Drinking more coffee (Emotion-focused, Maladaptive)\\n4. Tinkering - getting very detail oriented (Emotion-focused, Maladaptive)\\n5. Exercising (Problem-focused, Adaptive)\\n6. Asking for help/seeking assistance (Problem-focused, Adaptive)\\n7. Using logic to avoid over exaggerating stressor (Problem-focused, Adaptive)\\n8. Moaning, complaining, talking out loud (Emotion-focused, Maladaptive)\\n9. Cleaning, Tidying (Emotion-focused, Adaptive)\\n10. Procrastinating (Emotion-focused, Maladaptive)\\n11. Listening to rain on Spotify or YouTube (Emotion-focused, Adaptive)\\n12. Watching TV (Emotion-focused, Maladaptive)\\n13. Drinking alcohol (Emotion-focused, Maladaptive)\\n14. Socializing with friends (Emotion-focused, Adaptive)\\n15. Using humor and jokes (Emotion-focused, Adaptive)\\n\\nRemember, some behaviours can be both problem and emotion-focused. The key is to identify what you do when you're stressed, and then we can categorise them. Ready to give it a go?\")),\n",
       " (104, HumanMessage(content='yes, those are exactly what I do')),\n",
       " (105,\n",
       "  AIMessage(content=\"Thank you, Chris. So, to confirm, when you're feeling stressed, you tend to:\\n\\n1. Work longer and harder (Problem-focused, Adaptive)\\n2. Diarise for time management (Problem-focused, Adaptive)\\n3. Drink more coffee (Emotion-focused, Maladaptive)\\n4. Tinker and get very detail-oriented (Emotion-focused, Maladaptive)\\n5. Exercise (Problem-focused, Adaptive)\\n6. Ask for help or seek assistance (Problem-focused, Adaptive)\\n7. Use logic to avoid over exaggerating the stressor (Problem-focused, Adaptive)\\n8. Moan, complain, or talk out loud (Emotion-focused, Maladaptive)\\n9. Clean or tidy up (Emotion-focused, Adaptive)\\n10. Procrastinate (Emotion-focused, Maladaptive)\\n11. Listen to rain on Spotify or YouTube (Emotion-focused, Adaptive)\\n12. Watch TV (Emotion-focused, Maladaptive)\\n13. Drink alcohol (Emotion-focused, Maladaptive)\\n14. Socialise with friends (Emotion-focused, Adaptive)\\n15. Use humour and jokes (Emotion-focused, Adaptive)\\n\\nIs that correct?\")),\n",
       " (106, HumanMessage(content='yes')),\n",
       " (107,\n",
       "  AIMessage(content=\"Thank you, Chris. Your Stress Audit has been saved. \\n\\nLooking at your list, it seems like you have a good mix of problem-focused and emotion-focused coping behaviours. However, there might be a bit of an imbalance towards maladaptive behaviours, especially in the emotion-focused category. \\n\\nCan you think of any adaptive behaviours that might help balance the list? For example, instead of drinking more coffee when you're stressed, you could try taking a short walk or practicing deep breathing exercises.\")),\n",
       " (108, HumanMessage(content='could you make some suggestions?')),\n",
       " (109,\n",
       "  AIMessage(content=\"Absolutely, Chris! Here are some adaptive behaviours you might consider:\\n\\n1. **Mindfulness Meditation**: This can help you stay focused on the present moment and reduce the impact of stressors.\\n2. **Deep Breathing Exercises**: These can help calm your nervous system and reduce feelings of stress.\\n3. **Physical Activity**: Regular exercise can help reduce stress levels and improve your mood.\\n4. **Healthy Eating**: A balanced diet can help keep your energy levels stable and reduce feelings of stress.\\n5. **Socializing**: Spending time with friends and family can provide a great source of support and distraction from stressors.\\n6. **Hobbies**: Engaging in activities you enjoy can help distract from stress and provide a sense of accomplishment.\\n7. **Sleep Hygiene**: Prioritizing good sleep can help ensure you're well-rested and better able to cope with stress.\\n8. **Time Management**: Planning your time effectively can help reduce feelings of overwhelm and stress.\\n\\nRemember, it's about finding what works best for you. Everyone is different, and what works for one person might not work for another. It's all about trial and error.\")),\n",
       " (110, HumanMessage(content='yes!')),\n",
       " (111,\n",
       "  AIMessage(content=\"Fantastic, Chris! I'm glad you found the suggestions helpful. Remember, the goal is to try and balance your stress-coping behaviours. It's not about eliminating all maladaptive behaviours, but rather about finding healthier alternatives when you can. \\n\\nLet me know when you're ready to continue on your health journey.\")),\n",
       " (112, HumanMessage(content='sure')),\n",
       " (113,\n",
       "  AIMessage(content='Great! Now, let\\'s move on to the next part of our journey. \\n\\nI\\'d like to introduce you to the SEEDS exercise created by Simon Marshall, PhD. It\\'s a bit like gardening, but instead of plants, we\\'re cultivating good health habits. \\n\\nThe pillars of good health are Sleep, Exercise, Eating, Drinking, and Stress management (SEEDS). Yes, \"SEEDS\" is as cheesy as a fondue party, but the metaphor of planting small SEEDS (i.e., behaviours that are good for you) and watering them every day so they can take root (i.e., become habits that you don\\'t have to constantly think about) is consistent with the science of behaviour change and habit formation. \\n\\nSo, while the acronym may be the Celine Dion of behaviour change, it WORKS. Besides, what\\'s life without a bit of cheese?\\n\\nWould you like to know more about this?')),\n",
       " (114, HumanMessage(content='yeah!')),\n",
       " (115,\n",
       "  AIMessage(content='Brilliant! So, the SEEDS exercise is all about identifying tiny behaviours that contribute to each pillar of good health. This isn\\'t the place for grand, aspirational intentions, but rather for small, achievable actions. \\n\\nFor example, instead of saying \"run 5km\" or \"eat no added sugar\", we\\'re looking for things like \"be in bed by 9.30 pm\", \"go for a 2 min walk when you feel the need for a nap\", or \"eat one meal with chopsticks to slow down eating\". \\n\\nThe idea is to focus on small behaviours that contribute to good outcomes. The behavioural science is that focusing on SMALL behaviours builds the correct mindset and contributes to knock-on effects on other changes in that Pillar. In short, progress begets progress.\\n\\nSimon likes to use three SEEDS per pillar, for a total of 15 teeny-weeny daily habits. If that sounds like A LOT to you, he recommends you prioritise them. The top line is what you\\'ll start with. Once you\\'ve done these consistently, add the second line, and so on. \\n\\nAre you ready to start defining your SEEDS? We\\'ll go one category at a time. Let\\'s start with Sleep. Can you think of three small behaviours that could contribute to better sleep?')),\n",
       " (116,\n",
       "  HumanMessage(content='can you give some new examples, three for each category?')),\n",
       " (117,\n",
       "  AIMessage(content=\"Absolutely, Chris! Here are some examples for each category:\\n\\n**Sleep:**\\n1. Set a consistent bedtime and wake-up time.\\n2. Create a relaxing bedtime routine (e.g., reading, listening to calming music).\\n3. Make your bedroom a sleep-friendly environment (e.g., dark, quiet, cool).\\n\\n**Exercise:**\\n1. Take a 10-minute walk after lunch.\\n2. Do a short stretching routine in the morning.\\n3. Take the stairs instead of the elevator.\\n\\n**Eating:**\\n1. Include a serving of vegetables with each meal.\\n2. Swap a processed snack for a piece of fruit.\\n3. Drink a glass of water before each meal.\\n\\n**Drinking:**\\n1. Limit caffeine intake to before noon.\\n2. Swap one sugary drink for a glass of water.\\n3. Have a herbal tea in the evening instead of an alcoholic drink.\\n\\n**Stress Management:**\\n1. Practice 5 minutes of mindfulness meditation each day.\\n2. Write down three things you're grateful for each day.\\n3. Take a few minutes each day to do something you enjoy.\\n\\nRemember, these are just examples. The key is to choose behaviours that feel achievable for you. Ready to give it a go?\")),\n",
       " (118,\n",
       "  HumanMessage(content=\"that's great, let's go with all those exactly as you gave them\")),\n",
       " (119,\n",
       "  AIMessage(content=\"Thank you, Chris. Your SEEDS have been saved. Here's a summary:\\n\\n**Sleep:**\\n1. Set a consistent bedtime and wake-up time.\\n2. Create a relaxing bedtime routine (e.g., reading, listening to calming music).\\n3. Make your bedroom a sleep-friendly environment (e.g., dark, quiet, cool).\\n\\n**Exercise:**\\n1. Take a 10-minute walk after lunch.\\n2. Do a short stretching routine in the morning.\\n3. Take the stairs instead of the elevator.\\n\\n**Eating:**\\n1. Include a serving of vegetables with each meal.\\n2. Swap a processed snack for a piece of fruit.\\n3. Drink a glass of water before each meal.\\n\\n**Drinking:**\\n1. Limit caffeine intake to before noon.\\n2. Swap one sugary drink for a glass of water.\\n3. Have a herbal tea in the evening instead of an alcoholic drink.\\n\\n**Stress Management:**\\n1. Practice 5 minutes of mindfulness meditation each day.\\n2. Write down three things you're grateful for each day.\\n3. Take a few minutes each day to do something you enjoy.\\n\\nLet me know when you're ready to continue on your health journey.\")),\n",
       " (120, HumanMessage(content='sure')),\n",
       " (121,\n",
       "  AIMessage(content=\"Great! Now, would it be a good time to record a SEEDS diary entry? It's a bit like a garden journal, but instead of tracking plant growth, we're tracking the growth of your healthy habits.\")),\n",
       " (122, HumanMessage(content='yes! I got all 15 tasks done')),\n",
       " (123,\n",
       "  AIMessage(content=\"Fantastic! So, for the SEEDS diary entry on October 21, 2023, you've managed to complete all 15 tasks. That's quite an achievement, Chris! \\n\\nLet's quickly review:\\n\\n**Sleep:**\\n1. Set a consistent bedtime and wake-up time.\\n2. Created a relaxing bedtime routine.\\n3. Made your bedroom a sleep-friendly environment.\\n\\n**Exercise:**\\n1. Took a 10-minute walk after lunch.\\n2. Did a short stretching routine in the morning.\\n3. Took the stairs instead of the elevator.\\n\\n**Eating:**\\n1. Included a serving of vegetables with each meal.\\n2. Swapped a processed snack for a piece of fruit.\\n3. Drank a glass of water before each meal.\\n\\n**Drinking:**\\n1. Limited caffeine intake to before noon.\\n2. Swapped one sugary drink for a glass of water.\\n3. Had a herbal tea in the evening instead of an alcoholic drink.\\n\\n**Stress Management:**\\n1. Practiced 5 minutes of mindfulness meditation.\\n2. Wrote down three things you're grateful for.\\n3. Took a few minutes to do something you enjoy.\\n\\nIs this correct?\")),\n",
       " (124, HumanMessage(content=\"that's right\")),\n",
       " (125,\n",
       "  AIMessage(content=\"Thank you, Chris. Your SEEDS diary entry for October 21, 2023, has been saved. \\n\\nHere's a summary:\\n\\n**Sleep:**\\n1. Set a consistent bedtime and wake-up time.\\n2. Created a relaxing bedtime routine.\\n3. Made your bedroom a sleep-friendly environment.\\n\\n**Exercise:**\\n1. Took a 10-minute walk after lunch.\\n2. Did a short stretching routine in the morning.\\n3. Took the stairs instead of the elevator.\\n\\n**Eating:**\\n1. Included a serving of vegetables with each meal.\\n2. Swapped a processed snack for a piece of fruit.\\n3. Drank a glass of water before each meal.\\n\\n**Drinking:**\\n1. Limited caffeine intake to before noon.\\n2. Swapped one sugary drink for a glass of water.\\n3. Had a herbal tea in the evening instead of an alcoholic drink.\\n\\n**Stress Management:**\\n1. Practiced 5 minutes of mindfulness meditation.\\n2. Wrote down three things you're grateful for.\\n3. Took a few minutes to do something you enjoy.\\n\\nYou've managed to complete all 15 tasks today, which is quite an achievement! Keep up the good work.\\n\\nLet me know when you're ready to continue on your health journey.\")),\n",
       " (126, HumanMessage(content=\"let's go!\")),\n",
       " (127,\n",
       "  AIMessage(content=\"Fantastic, Chris! Let's move on to the next part of our journey. \\n\\nI'd like to introduce you to the Values and Life Priorities (VLQ) exercise. It's a bit like a compass, but instead of pointing north, it points towards what's most important to you in life. \\n\\nThe VLQ is a tool to help you identify and clarify your values and life priorities. It's not about setting goals, but rather about defining the direction you want your life to take. \\n\\nThe first step is to identify your values across different life domains, such as family, career, health, and personal growth. Once you've identified your values, the next step is to rate their importance and the extent to which your actions are aligned with them. \\n\\nAre you ready to start identifying your values?\")),\n",
       " (128, HumanMessage(content='sure')),\n",
       " (129,\n",
       "  AIMessage(content=\"Great! Let's start with the first life domain: Family. \\n\\nFamily values might include things like love, support, togetherness, or tradition. \\n\\nWhat are some values that you hold in relation to your family?\")),\n",
       " (130,\n",
       "  HumanMessage(content='the answers to all the questions in all the categories are: 10 and 10')),\n",
       " (131,\n",
       "  AIMessage(content='Thank you, Chris. So, to confirm, for all the life domains (Family, Career, Health, Personal Growth, etc.), you rate the importance of your values as 10 (extremely important) and your actions as being completely aligned with these values (also a 10). \\n\\nIs that correct?')),\n",
       " (132, HumanMessage(content=\"yep! that's right\")),\n",
       " (133,\n",
       "  AIMessage(content=\"Thank you, Chris. Your Values and Life Priorities (VLQ) entry has been saved. \\n\\nHere's a summary:\\n\\nFor all the life domains (Family, Career, Health, Personal Growth, etc.), you rate the importance of your values as 10 (extremely important) and your actions as being completely aligned with these values (also a 10). \\n\\nThis suggests that you have a strong sense of what's important to you in life and that your actions are in line with these values. That's a great place to be!\\n\\nLet me know when you're ready to continue on your health journey.\")),\n",
       " (134, HumanMessage(content=\"ok, let's do it\")),\n",
       " (135,\n",
       "  AIMessage(content=\"Great! Now, let's move on to the next part of our journey. \\n\\nI'd like to introduce you to the concept of a Health History. It's a bit like a medical record, but instead of focusing on illness, we're focusing on health. \\n\\nThe Health History is a tool to help you identify patterns and trends in your health over time. It includes things like sleep patterns, exercise habits, eating habits, and stress levels. \\n\\nThe first step is to identify any significant health events in your past, such as illnesses, injuries, or lifestyle changes. Once you've identified these events, the next step is to rate their impact on your health on a scale from -10 (extremely negative) to +10 (extremely positive). \\n\\nAre you ready to start identifying significant health events in your past?\")),\n",
       " (136, HumanMessage(content='hey')),\n",
       " (137,\n",
       "  AIMessage(content='Hello, Chris! Let\\'s dive right in, shall we? I\\'d like to guide you through an exercise called \"open focus\". It\\'s a bit like a magic trick, but instead of pulling a rabbit out of a hat, we\\'re going to try and change the way you focus your attention. \\n\\nYou see, when we try to change our thoughts, we\\'re taking their content seriously. We have to notice them, evaluate them, and then try to change them. This can actually strengthen their hold over our minds and wake us up. \\n\\nInstead, it can be helpful to broaden our focus, rather than trying to change the content of our thoughts. The open focus exercise is a way to do this. \\n\\nAre you ready to give it a go?')),\n",
       " (138, HumanMessage(content='sure')),\n",
       " (139,\n",
       "  AIMessage(content=\"Fantastic! Let's start with a simple step. \\n\\nI'd like you to take a moment to notice your surroundings. Don't try to change anything, just notice. What can you see? What can you hear? What can you feel? \\n\\nTake a few moments to do this and let me know when you're ready to move on to the next step.\")),\n",
       " (140, HumanMessage(content='ok')),\n",
       " (141,\n",
       "  AIMessage(content=\"Great! Now, let's shift our focus inward. \\n\\nI'd like you to notice your own body. Can you feel your feet on the floor? Can you feel your clothes against your skin? Can you feel the air entering and leaving your body as you breathe?\\n\\nAgain, don't try to change anything. Just notice. Let me know when you're ready to move on to the next step.\")),\n",
       " (142, HumanMessage(content='ok')),\n",
       " (143,\n",
       "  AIMessage(content=\"Well done, Chris. Now, let's shift our focus even further inward. \\n\\nI'd like you to notice your thoughts. What are you thinking right now? Remember, don't try to change your thoughts. Just notice them. \\n\\nAre they fast or slow? Are they words or images? Are they in colour or black and white? \\n\\nTake a few moments to do this and let me know when you're ready to move on to the next step.\")),\n",
       " (144, HumanMessage(content='ok')),\n",
       " (145,\n",
       "  AIMessage(content=\"Excellent, Chris. Now, for the final step, I'd like you to try and hold all these things in your awareness at once. \\n\\nYour surroundings, your body, your thoughts. Can you hold them all in your open focus? \\n\\nRemember, there's no right or wrong here. It's just an exercise in broadening our focus. \\n\\nTake a few moments to do this and let me know when you're ready to finish the exercise.\")),\n",
       " (146, HumanMessage(content='ok')),\n",
       " (147,\n",
       "  AIMessage(content=\"Well done, Chris! You've just completed the open focus exercise. \\n\\nBefore we move on, I'd like to ask: How are you feeling now compared to before the exercise?\")),\n",
       " (148, HumanMessage(content='oh, much better')),\n",
       " (149,\n",
       "  AIMessage(content=\"That's wonderful to hear, Chris! Here's a quick summary:\\n\\n- Name of the exercise: Open Focus Exercise\\n- How you were feeling before the exercise: Not specified\\n- How you're feeling after the exercise: Much better\\n\\nWould you like to save this record of the exercise to the database?\")),\n",
       " (150, HumanMessage(content='sure')),\n",
       " (151,\n",
       "  AIMessage(content=\"Thank you, Chris. Your Open Focus Exercise entry has been saved. \\n\\nLet me know when you're ready to continue on your health journey.\")),\n",
       " (152, HumanMessage(content='ok')),\n",
       " (153,\n",
       "  AIMessage(content=\"Great! Now, let's move on to the next part of our journey. \\n\\nI'd like to introduce you to the concept of a Stress Audit. It's a tool to help you identify what you're currently doing when you're feeling stressed. The goal is to list as many behaviours as you can. Once you're done, we'll categorise them into two categories: problem or solution-focused coping (behaviours that reduce the stressor itself) and emotion-focused coping (behaviours that reduce the emotional impact of the stressor). \\n\\nWe can further categorise these behaviours into adaptive (helpful) and maladaptive (unhelpful). \\n\\nFor example, working longer hours could be categorised as problem-focused and adaptive, while drinking more coffee could be categorised as emotion-focused and maladaptive. \\n\\nOnce you've written down as many behaviours as you can, we'll categorise them and see if there's an imbalance. The goal is to have a balanced list, making use of both problem and emotion-focused coping behaviours, and more adaptive behaviours than maladaptive. \\n\\nAre you ready to start listing your stress-coping behaviours?\")),\n",
       " (154, HumanMessage(content='hey')),\n",
       " (155,\n",
       "  AIMessage(content='Hello, Chris! Let\\'s dive right in, shall we? I\\'d like to guide you through an exercise called \"open focus\". It\\'s a bit like a magic trick, but instead of pulling a rabbit out of a hat, we\\'re going to try and change the way you focus your attention. \\n\\nYou see, when we try to change our thoughts, we\\'re taking their content seriously. We have to notice them, evaluate them, and then try to change them. This can actually strengthen their hold over our minds and wake us up. \\n\\nInstead, it can be helpful to broaden our focus, rather than trying to change the content of our thoughts. The open focus exercise is a way to do this. \\n\\nAre you ready to give it a go?')),\n",
       " (156, HumanMessage(content='sure')),\n",
       " (157,\n",
       "  AIMessage(content=\"Fantastic! Let's start with a simple step. \\n\\nI'd like you to take a moment to notice your surroundings. Don't try to change anything, just notice. What can you see? What can you hear? What can you feel? \\n\\nTake a few moments to do this and let me know when you're ready to move on to the next step.\")),\n",
       " (158, HumanMessage(content='ok')),\n",
       " (159,\n",
       "  AIMessage(content=\"Great! Now, let's shift our focus inward. \\n\\nI'd like you to notice your own body. Can you feel your feet on the floor? Can you feel your clothes against your skin? Can you feel the air entering and leaving your body as you breathe?\\n\\nAgain, don't try to change anything. Just notice. Let me know when you're ready to move on to the next step.\")),\n",
       " (160, HumanMessage(content='ok')),\n",
       " (161,\n",
       "  AIMessage(content=\"Well done, Chris. Now, let's shift our focus even further inward. \\n\\nI'd like you to notice your thoughts. What are you thinking right now? Remember, don't try to change your thoughts. Just notice them. \\n\\nAre they fast or slow? Are they words or images? Are they in colour or black and white? \\n\\nTake a few moments to do this and let me know when you're ready to move on to the next step.\")),\n",
       " (162, HumanMessage(content='ok')),\n",
       " (163,\n",
       "  AIMessage(content=\"Excellent, Chris. Now, for the final step, I'd like you to try and hold all these things in your awareness at once. \\n\\nYour surroundings, your body, your thoughts. Can you hold them all in your open focus? \\n\\nRemember, there's no right or wrong here. It's just an exercise in broadening our focus. \\n\\nTake a few moments to do this and let me know when you're ready to finish the exercise.\")),\n",
       " (164, HumanMessage(content='ok')),\n",
       " (165,\n",
       "  AIMessage(content=\"Well done, Chris! You've just completed the open focus exercise. \\n\\nBefore we move on, I'd like to ask: How are you feeling now compared to before the exercise?\")),\n",
       " (166, HumanMessage(content='oh, much better')),\n",
       " (167,\n",
       "  AIMessage(content=\"That's wonderful to hear, Chris! Here's a quick summary:\\n\\n- Name of the exercise: Open Focus Exercise\\n- How you were feeling before the exercise: Not specified\\n- How you're feeling after the exercise: Much better\\n\\nWould you like to save this record of the exercise to the database?\")),\n",
       " (168, HumanMessage(content='sure')),\n",
       " (169,\n",
       "  AIMessage(content=\"Thank you, Chris. Your Open Focus Exercise entry has been saved. \\n\\nLet me know when you're ready to continue on your health journey.\")),\n",
       " (170, HumanMessage(content='hey')),\n",
       " (171,\n",
       "  AIMessage(content='Hello, Chris! Let\\'s dive right in, shall we? I\\'d like to guide you through an exercise called \"open focus\". It\\'s a bit like a magic trick, but instead of pulling a rabbit out of a hat, we\\'re going to try and change the way you focus your attention. \\n\\nYou see, when we try to change our thoughts, we\\'re taking their content seriously. We have to notice them, evaluate them, and then try to change them. This can actually strengthen their hold over our minds and wake us up. \\n\\nInstead, it can be helpful to broaden our focus, rather than trying to change the content of our thoughts. The open focus exercise is a way to do this. \\n\\nAre you ready to give it a go?')),\n",
       " (172, HumanMessage(content='hey')),\n",
       " (173,\n",
       "  AIMessage(content='Hello, Chris! Let\\'s dive right in, shall we? I\\'d like to guide you through an exercise called \"open focus\". It\\'s a bit like a magic trick, but instead of pulling a rabbit out of a hat, we\\'re going to try and change the way you focus your attention. \\n\\nYou see, when we try to change our thoughts, we\\'re taking their content seriously. We have to notice them, evaluate them, and then try to change them. This can actually strengthen their hold over our minds and wake us up. \\n\\nInstead, it can be helpful to broaden our focus, rather than trying to change the content of our thoughts. The open focus exercise is a way to do this. \\n\\nAre you ready to give it a go?')),\n",
       " (174, HumanMessage(content='hey')),\n",
       " (175,\n",
       "  AIMessage(content='Hello, Chris! Let\\'s dive right in, shall we? I\\'d like to guide you through an exercise called \"open focus\". It\\'s a bit like a magic trick, but instead of pulling a rabbit out of a hat, we\\'re going to try and change the way you focus your attention. \\n\\nYou see, when we try to change our thoughts, we\\'re taking their content seriously. We have to notice them, evaluate them, and then try to change them. This can actually strengthen their hold over our minds and wake us up. \\n\\nInstead, it can be helpful to broaden our focus, rather than trying to change the content of our thoughts. The open focus exercise is a way to do this. \\n\\nAre you ready to give it a go?')),\n",
       " (176, HumanMessage(content='sure')),\n",
       " (177,\n",
       "  AIMessage(content=\"Fantastic! Let's start with a simple step. \\n\\nI'd like you to take a moment to notice your surroundings. Don't try to change anything, just notice. What can you see? What can you hear? What can you feel? \\n\\nTake a few moments to do this and let me know when you're ready to move on to the next step.\")),\n",
       " (178, HumanMessage(content='ok')),\n",
       " (179,\n",
       "  AIMessage(content=\"Great! Now, let's shift our focus inward. \\n\\nI'd like you to notice your own body. Can you feel your feet on the floor? Can you feel your clothes against your skin? Can you feel the air entering and leaving your body as you breathe?\\n\\nAgain, don't try to change anything. Just notice. Let me know when you're ready to move on to the next step.\")),\n",
       " (180, HumanMessage(content='ok')),\n",
       " (181,\n",
       "  AIMessage(content=\"Well done, Chris. Now, let's shift our focus even further inward. \\n\\nI'd like you to notice your thoughts. What are you thinking right now? Remember, don't try to change your thoughts. Just notice them. \\n\\nAre they fast or slow? Are they words or images? Are they in colour or black and white? \\n\\nTake a few moments to do this and let me know when you're ready to move on to the next step.\")),\n",
       " (182, HumanMessage(content='ok')),\n",
       " (183,\n",
       "  AIMessage(content=\"Excellent, Chris. Now, for the final step, I'd like you to try and hold all these things in your awareness at once. \\n\\nYour surroundings, your body, your thoughts. Can you hold them all in your open focus? \\n\\nRemember, there's no right or wrong here. It's just an exercise in broadening our focus. \\n\\nTake a few moments to do this and let me know when you're ready to finish the exercise.\")),\n",
       " (184, HumanMessage(content='ok')),\n",
       " (185,\n",
       "  AIMessage(content=\"Well done, Chris! You've just completed the open focus exercise. \\n\\nBefore we move on, I'd like to ask: How are you feeling now compared to before the exercise?\")),\n",
       " (186, HumanMessage(content='a little better')),\n",
       " (187,\n",
       "  AIMessage(content=\"That's great to hear, Chris! Here's a quick summary:\\n\\n- Name of the exercise: Open Focus Exercise\\n- How you were feeling before the exercise: Not specified\\n- How you're feeling after the exercise: A little better\\n\\nWould you like to save this record of the exercise to the database?\")),\n",
       " (188, HumanMessage(content='sure')),\n",
       " (189,\n",
       "  AIMessage(content=\"Thank you, Chris. Your Open Focus Exercise entry has been saved. \\n\\nLet me know when you're ready to continue on your health journey.\")),\n",
       " (190, HumanMessage(content='sure')),\n",
       " (191,\n",
       "  AIMessage(content=\"Fantastic! Now, let's move on to the next part of our journey. \\n\\nI'd like to introduce you to the concept of a Health History. It's a bit like a medical record, but instead of focusing on illness, we're focusing on health. \\n\\nThe Health History is a tool to help you identify patterns and trends in your health over time. It includes things like sleep patterns, exercise habits, eating habits, and stress levels. \\n\\nThe first step is to identify any significant health events in your past, such as illnesses, injuries, or lifestyle changes. Once you've identified these events, the next step is to rate their impact on your health on a scale from -10 (extremely negative) to +10 (extremely positive). \\n\\nAre you ready to start identifying significant health events in your past?\")),\n",
       " (192, HumanMessage(content='leaves_on_a_stream')),\n",
       " (193,\n",
       "  AIMessage(content='Ah, the \"Leaves on a Stream\" exercise! A classic cognitive defusion technique. It\\'s a wonderful way to help us step back from our thoughts and observe them without getting caught up in them. \\n\\nThe idea is to imagine yourself sitting by a gently flowing stream with leaves floating along the surface. You place each thought that comes into your mind on one of these leaves and let it float by. \\n\\nThis exercise can help us to see our thoughts as just thoughts, allowing them to come and go without struggling with them. \\n\\nIs now a good time to perform the \"Leaves on a Stream\" exercise?')),\n",
       " (194, HumanMessage(content='sure')),\n",
       " (195,\n",
       "  AIMessage(content=\"Brilliant! Let's begin. \\n\\nFirst, I'd like you to find a comfortable position. You can be sitting or lying down, whatever feels best for you. Close your eyes and take a few deep breaths. \\n\\nNow, imagine yourself sitting or lying next to a gently flowing stream with leaves floating along the surface. \\n\\nWhen you're ready, let me know and we'll move on to the next step.\")),\n",
       " (196, HumanMessage(content='ok')),\n",
       " (197,\n",
       "  AIMessage(content=\"Great! Now, for the next step. \\n\\nI'd like you to notice each thought that pops into your mind. If you're having a thought, try to place it on a leaf and let it float by. \\n\\nDon't try to change the thoughts, or get rid of them. Just notice each one, place it on a leaf, and let it float away. \\n\\nTake a few moments to do this and let me know when you're ready to move on to the next step.\")),\n",
       " (198, HumanMessage(content='ok')),\n",
       " (199,\n",
       "  AIMessage(content=\"Well done, Chris. Now, if you notice a thought that's difficult or unhelpful, place it on a leaf, too. \\n\\nIt might be a thought about something you need to do, or a worry, or a regret. Whatever it is, place it on a leaf and let it float away. \\n\\nRemember, we're not trying to get rid of the thoughts or change them. Just noticing them, and letting them float by. \\n\\nTake a few moments to do this and let me know when you're ready to finish the exercise.\")),\n",
       " (200, HumanMessage(content='ok')),\n",
       " (201,\n",
       "  AIMessage(content='Well done, Chris! You\\'ve just completed the \"Leaves on a Stream\" exercise. \\n\\nBefore we move on, I\\'d like to ask: How are you feeling now compared to before the exercise?')),\n",
       " (202, HumanMessage(content='a little better')),\n",
       " (203,\n",
       "  AIMessage(content=\"That's great to hear, Chris! Here's a quick summary:\\n\\n- Name of the exercise: Leaves on a Stream\\n- How you were feeling before the exercise: Not specified\\n- How you're feeling after the exercise: A little better\\n\\nWould you like to save this record of the exercise to the database?\")),\n",
       " (204, HumanMessage(content='sure')),\n",
       " (205,\n",
       "  AIMessage(content='Thank you, Chris. Your \"Leaves on a Stream\" exercise entry has been saved. \\n\\nLet me know when you\\'re ready to continue on your health journey.')),\n",
       " (206, HumanMessage(content='sure')),\n",
       " (207,\n",
       "  AIMessage(content=\"Fantastic! Now, let's move on to the next part of our journey. \\n\\nI'd like to introduce you to the concept of a Health History. It's a bit like a medical record, but instead of focusing on illness, we're focusing on health. \\n\\nThe Health History is a tool to help you identify patterns and trends in your health over time. It includes things like sleep patterns, exercise habits, eating habits, and stress levels. \\n\\nThe first step is to identify any significant health events in your past, such as illnesses, injuries, or lifestyle changes. Once you've identified these events, the next step is to rate their impact on your health on a scale from -10 (extremely negative) to +10 (extremely positive). \\n\\nAre you ready to start identifying significant health events in your past?\"))]"
      ]
     },
     "execution_count": 8,
     "metadata": {},
     "output_type": "execute_result"
    }
   ],
   "source": [
    "list(enumerate(memory.chat_memory.messages))"
   ]
  },
  {
   "cell_type": "code",
   "execution_count": 7,
   "id": "f31ba2d1-f33e-4aa0-8047-e2cd0c4a74da",
   "metadata": {},
   "outputs": [
    {
     "name": "stdout",
     "output_type": "stream",
     "text": [
      "X.load_memory filename='/Users/cck197/Downloads/virtual_greg/memory.pkl'\n"
     ]
    }
   ],
   "source": [
    "memory = X.load_memory()"
   ]
  },
  {
   "cell_type": "code",
   "execution_count": 5,
   "id": "b54232f1-9751-4250-a7cf-e4c4e4daf857",
   "metadata": {},
   "outputs": [],
   "source": [
    "memory.chat_memory.add_user_message(\"yes, that's right. I got all 15 tasks done\");"
   ]
  },
  {
   "cell_type": "code",
   "execution_count": 20,
   "id": "ee68e492-3b94-477e-87c2-71f3d3c7c8a9",
   "metadata": {},
   "outputs": [],
   "source": [
    "memory.chat_memory.messages = memory.chat_memory.messages[:-4]"
   ]
  },
  {
   "cell_type": "code",
   "execution_count": 21,
   "id": "46ccc264-0709-4999-8b64-2e487241c463",
   "metadata": {},
   "outputs": [],
   "source": [
    "X.save_memory(memory)"
   ]
  },
  {
   "cell_type": "code",
   "execution_count": 7,
   "id": "663b2761-c7e2-4b78-8f2e-e3220f70b640",
   "metadata": {},
   "outputs": [
    {
     "data": {
      "text/plain": [
       "<function sleepmate.seeds.save_seeds_diary_entry(memory: langchain.memory.readonly.ReadOnlySharedMemory, goal: str, text: str)>"
      ]
     },
     "execution_count": 7,
     "metadata": {},
     "output_type": "execute_result"
    }
   ],
   "source": [
    "save_seeds_diary_entry("
   ]
  },
  {
   "cell_type": "code",
   "execution_count": null,
   "id": "d37ee8d9-3de7-4d73-9797-1125f28dc41b",
   "metadata": {},
   "outputs": [],
   "source": []
  },
  {
   "cell_type": "code",
   "execution_count": 5,
   "id": "197236d6-14ed-41f1-8054-93fd57892a7d",
   "metadata": {},
   "outputs": [
    {
     "data": {
      "text/plain": [
       "['gpt-4-1106-preview',\n",
       " 'gpt-4',\n",
       " 'gpt-4-vision-preview',\n",
       " 'gpt-4-0613',\n",
       " 'gpt-4-0314']"
      ]
     },
     "execution_count": 5,
     "metadata": {},
     "output_type": "execute_result"
    }
   ],
   "source": [
    "import openai\n",
    "models = openai.Model.list()\n",
    "[m[\"id\"] for m in models[\"data\"] if \"gpt-4\" in m[\"id\"]]"
   ]
  }
 ],
 "metadata": {
  "kernelspec": {
   "display_name": "Python 3 (ipykernel)",
   "language": "python",
   "name": "python3"
  },
  "language_info": {
   "codemirror_mode": {
    "name": "ipython",
    "version": 3
   },
   "file_extension": ".py",
   "mimetype": "text/x-python",
   "name": "python",
   "nbconvert_exporter": "python",
   "pygments_lexer": "ipython3",
   "version": "3.11.5"
  }
 },
 "nbformat": 4,
 "nbformat_minor": 5
}
