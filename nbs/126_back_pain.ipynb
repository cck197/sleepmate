{
 "cells": [
  {
   "cell_type": "code",
   "execution_count": 1,
   "id": "0cb56f44-9837-4f37-999e-41240ff64f47",
   "metadata": {},
   "outputs": [],
   "source": [
    "from sleepmate.executor import *"
   ]
  },
  {
   "cell_type": "code",
   "execution_count": 2,
   "id": "a286d974-30f3-4de2-ae9c-c1885eb2d3fe",
   "metadata": {},
   "outputs": [],
   "source": [
    "from sleepmate.history import *\n",
    "from sleepmate.structured import *\n",
    "from sleepmate.pain import *"
   ]
  },
  {
   "cell_type": "code",
   "execution_count": 3,
   "id": "d933dc27-5844-4111-b9b6-b78048e03aa7",
   "metadata": {},
   "outputs": [],
   "source": [
    "username = \"test\""
   ]
  },
  {
   "cell_type": "markdown",
   "id": "bbaaaa79-b23b-448d-9656-13724d60cf99",
   "metadata": {},
   "source": [
    "# Back pain"
   ]
  },
  {
   "cell_type": "code",
   "execution_count": 4,
   "id": "21603d12-b492-424d-bb71-04395d6d6ba4",
   "metadata": {},
   "outputs": [],
   "source": [
    "db_user = get_user_from_username(username)"
   ]
  },
  {
   "cell_type": "code",
   "execution_count": 5,
   "id": "4455bc47-cc91-4dfe-8f5d-0fc97ebe3ad8",
   "metadata": {},
   "outputs": [
    {
     "data": {
      "text/plain": [
       "True"
      ]
     },
     "execution_count": 5,
     "metadata": {},
     "output_type": "execute_result"
    }
   ],
   "source": [
    "back_pain(db_user.id)"
   ]
  },
  {
   "cell_type": "code",
   "execution_count": 5,
   "id": "4222a49b-db9a-4180-84ec-2fe17b12d82c",
   "metadata": {},
   "outputs": [],
   "source": [
    "db_entry = DBHealthHistory.objects(user=db_user).first()"
   ]
  },
  {
   "cell_type": "code",
   "execution_count": 9,
   "id": "c3cd566e-7f66-40f6-905b-021c88373d22",
   "metadata": {},
   "outputs": [
    {
     "data": {
      "text/markdown": [
       "Hello Christopher, I hope you're managing alright today. Is now a good time to talk about your back pain?"
      ],
      "text/plain": [
       "<IPython.core.display.Markdown object>"
      ]
     },
     "metadata": {},
     "output_type": "display_data"
    }
   ],
   "source": [
    "x = X(goal=\"back_pain\", username=username, fixed_goal=True, hello=\"hey\")"
   ]
  },
  {
   "cell_type": "code",
   "execution_count": 8,
   "id": "36e8acba-2509-44eb-9747-739b392182f4",
   "metadata": {},
   "outputs": [],
   "source": [
    "x.memory.clear()"
   ]
  },
  {
   "cell_type": "code",
   "execution_count": 10,
   "id": "9f40f51c-34cc-4090-b363-b2422ffc8ffe",
   "metadata": {},
   "outputs": [
    {
     "data": {
      "text/markdown": [
       "Back pain is a common issue that can arise from various causes, including muscle strains, ligament sprains, disc herniations, arthritis, and other spinal conditions. To avoid and treat low back pain, it is essential to practice good spine hygiene, which involves:\n",
       "\n",
       "- **Postures**: Adopting and maintaining postures that do not exacerbate the pain.\n",
       "- **Motions**: Moving in ways that avoid irritating the back.\n",
       "- **Loads**: Handling loads correctly to prevent injury.\n",
       "\n",
       "Here are some strategies to manage low back pain:\n",
       "\n",
       "1. **Personalization of Physical Activity**:\n",
       "   - Tailor your exercise routine to your specific needs.\n",
       "   - Use different types of braces if necessary, such as abdominal or thoracic braces, to support the spine during activities that involve lifting or carrying heavy objects.\n",
       "\n",
       "2. **Incorporate the 'Big Three' Exercises**:\n",
       "   - **Curl-up**: Strengthens the anterior core.\n",
       "   - **Side plank**: Targets the lateral core.\n",
       "   - **Bird dog**: Focuses on the posterior core.\n",
       "\n",
       "3. **Proximal Stiffness for Distal Mobility**:\n",
       "   - Build a stable torso to support athletic movements.\n",
       "   - Engage in strength and power training, ensuring full range of motion and possibly including stretching or loaded stretching exercises.\n",
       "\n",
       "4. **Adequate Rest Between Demanding Activities**:\n",
       "   - Follow a training schedule that includes rest days to allow for recovery.\n",
       "\n",
       "5. **Consider Sleep Ergonomics**:\n",
       "   - Use a medium-firm mattress that supports the spine.\n",
       "   - Choose pillows that minimize neck pain and are appropriate for your sleep posture.\n",
       "\n",
       "6. **Lifestyle Adjustments**:\n",
       "   - Engage in regular low-impact activities like walking and carrying objects in different ways.\n",
       "   - Avoid prolonged sitting or standing in one position.\n",
       "   - Practice good lifting techniques.\n",
       "\n",
       "7. **Non-Surgical Interventions**:\n",
       "   - Physical therapy to improve strength and flexibility.\n",
       "   - Pain management techniques such as heat or cold therapy, massage, or acupuncture.\n",
       "\n",
       "8. **Surgical Options**:\n",
       "   - In severe cases where conservative treatments have failed, surgery may be indicated. It is crucial to consult with a reputable surgeon and get multiple opinions before proceeding.\n",
       "\n",
       "Remember, it is essential to consult with a healthcare professional to diagnose the cause of back pain and to develop an appropriate treatment plan."
      ],
      "text/plain": [
       "<IPython.core.display.Markdown object>"
      ]
     },
     "metadata": {},
     "output_type": "display_data"
    }
   ],
   "source": [
    "x(\"sure\");"
   ]
  },
  {
   "cell_type": "code",
   "execution_count": 11,
   "id": "61ef15f2-706c-4a73-b92f-308375f20610",
   "metadata": {},
   "outputs": [
    {
     "data": {
      "text/markdown": [
       "The bird dog is an exercise that targets the core, lower back, and gluteal muscles, and it also helps improve balance and stability. Here's how to perform the bird dog exercise:\n",
       "\n",
       "1. Start on all fours:\n",
       "   - Position yourself on a mat or comfortable surface on your hands and knees.\n",
       "   - Align your wrists directly under your shoulders and your knees under your hips.\n",
       "   - Keep your spine in a neutral position, without arching or sagging, and gaze down or slightly forward to maintain a straight neck.\n",
       "\n",
       "2. Engage your core:\n",
       "   - Tighten your abdominal muscles to stabilize your spine and pelvis.\n",
       "\n",
       "3. Extend opposite arm and leg:\n",
       "   - Slowly lift and extend one arm straight ahead, while simultaneously lifting and extending the opposite leg straight behind you.\n",
       "   - Keep both your extended arm and leg parallel to the floor, and be careful not to let your hips twist or sag.\n",
       "   - Hold the extended position for a few seconds, focusing on balance and maintaining a tight core.\n",
       "\n",
       "4. Return to starting position:\n",
       "   - Slowly lower your arm and leg back to the starting position on all fours without letting them touch the ground.\n",
       "\n",
       "5. Repeat on the other side:\n",
       "   - Perform the same movement with the opposite arm and leg.\n",
       "   - Continue to alternate sides for the desired number of repetitions.\n",
       "\n",
       "6. Maintain proper form:\n",
       "   - Throughout the exercise, keep your movements controlled and deliberate.\n",
       "   - Avoid any jerky motions or losing your balance.\n",
       "   - Breathe steadily, exhaling as you extend the arm and leg, and inhaling as you return to the starting position.\n",
       "\n",
       "Typically, the bird dog exercise is performed for multiple repetitions, with a common recommendation being 8-12 reps per side. It can be included as part of a core workout or integrated into a full-body routine. Remember to focus on quality of movement rather than speed or quantity of repetitions to maximize the benefits of the exercise."
      ],
      "text/plain": [
       "<IPython.core.display.Markdown object>"
      ]
     },
     "metadata": {},
     "output_type": "display_data"
    }
   ],
   "source": [
    "x(\"how do you do a bird dog?\");"
   ]
  },
  {
   "cell_type": "code",
   "execution_count": 12,
   "id": "16d0e54d-d36d-4972-b1f0-652509066a1f",
   "metadata": {},
   "outputs": [
    {
     "name": "stderr",
     "output_type": "stream",
     "text": [
      "2023-11-29 14:56:32 INFO     sleepmate.pain save_back_pain_seen entry={'date': datetime.datetime(2023, 11, 29, 14, 56, 32, 611981)}\n"
     ]
    },
    {
     "data": {
      "text/markdown": [
       "Great, I've recorded that you've seen the back pain recommendations. Whenever you're ready to continue on your health journey, just say hey. Take care and be gentle with your back!"
      ],
      "text/plain": [
       "<IPython.core.display.Markdown object>"
      ]
     },
     "metadata": {},
     "output_type": "display_data"
    }
   ],
   "source": [
    "x(\"ok\");"
   ]
  },
  {
   "cell_type": "code",
   "execution_count": 9,
   "id": "1c72fa53-a09f-49f7-b94d-7ea602e1bf0e",
   "metadata": {},
   "outputs": [
    {
     "name": "stderr",
     "output_type": "stream",
     "text": [
      "2023-11-29 14:52:04 INFO     sleepmate.pain save_back_pain_seen entry={'date': datetime.datetime(2023, 11, 29, 14, 52, 4, 418140)}\n"
     ]
    },
    {
     "data": {
      "text/markdown": [
       "Great, your record has been updated. Whenever you're ready to continue on your health journey, just say \"hey\" and we'll proceed. Take care and be kind to your back!"
      ],
      "text/plain": [
       "<IPython.core.display.Markdown object>"
      ]
     },
     "metadata": {},
     "output_type": "display_data"
    }
   ],
   "source": [
    "x(\"no, that's all\");"
   ]
  },
  {
   "cell_type": "code",
   "execution_count": 8,
   "id": "c1908081-6024-4f9e-b7e7-e2ab0651285a",
   "metadata": {},
   "outputs": [],
   "source": [
    "db_entry = DBHealthHistory.objects(user=db_user.id).first()"
   ]
  },
  {
   "cell_type": "code",
   "execution_count": 10,
   "id": "2a9ecb12-fd74-49fc-bb35-4c5c4bef47d3",
   "metadata": {},
   "outputs": [
    {
     "data": {
      "text/plain": [
       "SON([('_id', ObjectId('656792912277812852808a0e')), ('user', ObjectId('653838c321f81e21a72df700')), ('date', datetime.datetime(2023, 11, 29, 11, 35, 45, 541000)), ('sex', 'male'), ('date_of_birth', datetime.datetime(1976, 2, 13, 0, 0)), ('occupation', 'coder'), ('work_hours', '7 - 6 with breaks'), ('smoking', 'no'), ('alcohol', 'some alcohol, mostly at the weekends'), ('physical_activity', 'cyclist, surfer, lift weights'), ('diet', 'three eggs and sausages for breakfast, salad and protein for lunch, meat and veg for dinner. 1g protein per lb of bodyweight'), ('medical_conditions', 'low back pain'), ('medications', 'no'), ('family_history', 'no'), ('mental_health', 'no'), ('psychological_treatment', 'no'), ('living_with', 'family, three kids, in a house but sleep in a VW Eurovan'), ('residence_type', 'house'), ('noise_level', 'very rural and quiet'), ('goal', 'sleep through the night, wake up feeling refreshed'), ('helpful', 'getting enough daylight'), ('unhelpful', 'apigenin'), ('notes', 'no additional notes')])"
      ]
     },
     "execution_count": 10,
     "metadata": {},
     "output_type": "execute_result"
    }
   ],
   "source": [
    "db_entry.to_mongo()"
   ]
  },
  {
   "cell_type": "code",
   "execution_count": 11,
   "id": "96aabbdb-ec17-4a2c-8d55-b80e3e7f50c5",
   "metadata": {},
   "outputs": [
    {
     "data": {
      "text/plain": [
       "SummaryResult(found=True, summary='It seems like your active lifestyle as a cyclist, surfer, and weightlifter, combined with a demanding job as a coder, could be contributing to your low back pain. Despite a healthy diet and no smoking, the long work hours and physical activities might be factors. Ensuring proper posture, ergonomic work setup, and adequate rest could help manage your back pain.')"
      ]
     },
     "execution_count": 11,
     "metadata": {},
     "output_type": "execute_result"
    }
   ],
   "source": [
    "summary = get_document_summary(\"back pain\", db_entry); summary"
   ]
  },
  {
   "cell_type": "code",
   "execution_count": 9,
   "id": "eaf7228d-8495-47b3-876b-087971ededca",
   "metadata": {},
   "outputs": [],
   "source": [
    "db_entry.medical_conditions = \"low back pain\""
   ]
  },
  {
   "cell_type": "code",
   "execution_count": 13,
   "id": "aefe7ae3-fb66-435c-ac1b-a9dc03380190",
   "metadata": {},
   "outputs": [],
   "source": [
    "db_entry.medical_conditions = \"nope\""
   ]
  },
  {
   "cell_type": "code",
   "execution_count": 10,
   "id": "d0d8040e-1939-4964-bb4b-4802b47b13af",
   "metadata": {},
   "outputs": [
    {
     "data": {
      "text/plain": [
       "<HealthHistory: HealthHistory object>"
      ]
     },
     "execution_count": 10,
     "metadata": {},
     "output_type": "execute_result"
    }
   ],
   "source": [
    "db_entry.save()"
   ]
  },
  {
   "cell_type": "code",
   "execution_count": 11,
   "id": "4471d36f-4b25-4d7c-9428-e2946256c825",
   "metadata": {},
   "outputs": [
    {
     "data": {
      "text/plain": [
       "0"
      ]
     },
     "execution_count": 11,
     "metadata": {},
     "output_type": "execute_result"
    }
   ],
   "source": [
    "DBBackPainSeen.objects(user=db_user).delete()"
   ]
  },
  {
   "cell_type": "code",
   "execution_count": 12,
   "id": "854f7a82-4714-4d03-ba43-1ea63038cdfa",
   "metadata": {},
   "outputs": [
    {
     "data": {
      "text/plain": [
       "1"
      ]
     },
     "execution_count": 12,
     "metadata": {},
     "output_type": "execute_result"
    }
   ],
   "source": [
    "DBBackPainSummary.objects(history=db_entry).delete()"
   ]
  },
  {
   "cell_type": "code",
   "execution_count": null,
   "id": "49375fa5-d104-4ea5-86df-018d2691fd8f",
   "metadata": {},
   "outputs": [],
   "source": []
  }
 ],
 "metadata": {
  "kernelspec": {
   "display_name": "Python 3 (ipykernel)",
   "language": "python",
   "name": "python3"
  },
  "language_info": {
   "codemirror_mode": {
    "name": "ipython",
    "version": 3
   },
   "file_extension": ".py",
   "mimetype": "text/x-python",
   "name": "python",
   "nbconvert_exporter": "python",
   "pygments_lexer": "ipython3",
   "version": "3.11.5"
  }
 },
 "nbformat": 4,
 "nbformat_minor": 5
}
