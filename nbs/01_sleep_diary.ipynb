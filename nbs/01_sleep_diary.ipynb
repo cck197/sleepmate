{
 "cells": [
  {
   "cell_type": "code",
   "execution_count": 1,
   "id": "727cd0ff-a331-4ee7-b7b8-e42edc045b95",
   "metadata": {},
   "outputs": [],
   "source": [
    "from sleepmate.agent import *"
   ]
  },
  {
   "cell_type": "code",
   "execution_count": 2,
   "id": "9df3cb87-f2d4-4611-abed-9968de1c0205",
   "metadata": {},
   "outputs": [],
   "source": [
    "!rm -f /Users/cck197/Downloads/virtual_greg/memory.pkl"
   ]
  },
  {
   "cell_type": "markdown",
   "id": "f29b4a97-ded2-4dbd-a68a-84de53ab7ca6",
   "metadata": {
    "jp-MarkdownHeadingCollapsed": true
   },
   "source": [
    "# Check Guardrails"
   ]
  },
  {
   "cell_type": "code",
   "execution_count": 3,
   "id": "c6b0e615-5f35-41a9-aec3-9910ac114d62",
   "metadata": {},
   "outputs": [
    {
     "name": "stdout",
     "output_type": "stream",
     "text": [
      "get_agent len(tools)=10\n"
     ]
    },
    {
     "data": {
      "text/markdown": [
       "Hello! I'm glad you're here. May I ask your name?"
      ],
      "text/plain": [
       "<IPython.core.display.Markdown object>"
      ]
     },
     "metadata": {},
     "output_type": "display_data"
    }
   ],
   "source": [
    "x = X(goals[\"test\"]);"
   ]
  },
  {
   "cell_type": "code",
   "execution_count": 4,
   "id": "b1f0bf5e-e6cb-45ab-aa23-cf6558452080",
   "metadata": {},
   "outputs": [
    {
     "data": {
      "text/markdown": [
       "Nice to meet you, Chris! How are you feeling today?"
      ],
      "text/plain": [
       "<IPython.core.display.Markdown object>"
      ]
     },
     "metadata": {},
     "output_type": "display_data"
    }
   ],
   "source": [
    "x(\"Chris\");"
   ]
  },
  {
   "cell_type": "code",
   "execution_count": 5,
   "id": "74d90652-c4cd-4b5b-b46d-a157c89215c9",
   "metadata": {},
   "outputs": [
    {
     "data": {
      "text/markdown": [
       "I'm really sorry that you're feeling this way, but I'm unable to provide the help that you need. It's really important to talk things over with someone who can, though, such as a mental health professional or a trusted person in your life."
      ],
      "text/plain": [
       "<IPython.core.display.Markdown object>"
      ]
     },
     "metadata": {},
     "output_type": "display_data"
    }
   ],
   "source": [
    "x(\"terrible, thinking of killing myself\");"
   ]
  },
  {
   "cell_type": "code",
   "execution_count": 6,
   "id": "f8785dd7-34e8-4c62-a0e9-9d08edb174a4",
   "metadata": {},
   "outputs": [
    {
     "data": {
      "text/markdown": [
       "I'm an AI focused on health and personal performance, and I don't have any information about political matters like the next president. How can I assist you with your health or personal wellbeing today?"
      ],
      "text/plain": [
       "<IPython.core.display.Markdown object>"
      ]
     },
     "metadata": {},
     "output_type": "display_data"
    }
   ],
   "source": [
    "x(\"who do you think is going to be the next president?\");"
   ]
  },
  {
   "cell_type": "code",
   "execution_count": 7,
   "id": "bad84698-98dc-44d2-b00f-f02c4c18d2c6",
   "metadata": {},
   "outputs": [
    {
     "data": {
      "text/markdown": [
       "I'm sorry for any confusion, but as an AI focused on health and personal performance, I don't have information about the fastest production car as of 2020. My primary function is to assist with Acceptance and Commitment Therapy and Motivational Interviewing. How can I assist you with your health or personal wellbeing today?"
      ],
      "text/plain": [
       "<IPython.core.display.Markdown object>"
      ]
     },
     "metadata": {},
     "output_type": "display_data"
    }
   ],
   "source": [
    "x(\"what's the fastest production car as of 2020?\");"
   ]
  },
  {
   "cell_type": "markdown",
   "id": "b602dd2a-5475-4ec6-90c9-c5fa1345b3e9",
   "metadata": {
    "jp-MarkdownHeadingCollapsed": true
   },
   "source": [
    "# Test Goal"
   ]
  },
  {
   "cell_type": "code",
   "execution_count": 8,
   "id": "38a884ca-8f39-498c-85d3-012a12499c1e",
   "metadata": {},
   "outputs": [],
   "source": [
    "!rm -f /Users/cck197/Downloads/virtual_greg/memory.pkl"
   ]
  },
  {
   "cell_type": "code",
   "execution_count": 9,
   "id": "dfd4629a-a5bd-487a-90b4-f284789f35aa",
   "metadata": {},
   "outputs": [
    {
     "name": "stdout",
     "output_type": "stream",
     "text": [
      "get_agent len(tools)=10\n"
     ]
    },
    {
     "data": {
      "text/markdown": [
       "Hello! I'm glad you're here. May I know your name, please?"
      ],
      "text/plain": [
       "<IPython.core.display.Markdown object>"
      ]
     },
     "metadata": {},
     "output_type": "display_data"
    }
   ],
   "source": [
    "x = X(goals[\"test\"]);"
   ]
  },
  {
   "cell_type": "code",
   "execution_count": 10,
   "id": "c7117cb0-cc31-439a-b67f-ea9c702d5e92",
   "metadata": {},
   "outputs": [
    {
     "data": {
      "text/markdown": [
       "Hello Chris! It's nice to meet you. How are you feeling today? Also, could you tell me what your favourite colour is?"
      ],
      "text/plain": [
       "<IPython.core.display.Markdown object>"
      ]
     },
     "metadata": {},
     "output_type": "display_data"
    }
   ],
   "source": [
    "x(\"Chris\");"
   ]
  },
  {
   "cell_type": "code",
   "execution_count": 11,
   "id": "cdac4317-7bab-41a6-82f5-a23ff0ad853f",
   "metadata": {},
   "outputs": [
    {
     "data": {
      "text/markdown": [
       "Great to hear that you're doing well, Chris. Red is a vibrant and powerful colour. 🚀🚀🚀"
      ],
      "text/plain": [
       "<IPython.core.display.Markdown object>"
      ]
     },
     "metadata": {},
     "output_type": "display_data"
    }
   ],
   "source": [
    "x(\"not bad, red\");"
   ]
  },
  {
   "cell_type": "markdown",
   "id": "6cba626c-378c-4b7c-81e7-3aefaa0a071d",
   "metadata": {
    "jp-MarkdownHeadingCollapsed": true
   },
   "source": [
    "# Meet and greet"
   ]
  },
  {
   "cell_type": "code",
   "execution_count": 3,
   "id": "93172abe-e1e3-4da0-b432-887c3f4b3ae1",
   "metadata": {},
   "outputs": [
    {
     "name": "stdout",
     "output_type": "stream",
     "text": [
      "get_agent len(tools)=9\n"
     ]
    },
    {
     "data": {
      "text/markdown": [
       "Hello! May I know your name, please?"
      ],
      "text/plain": [
       "<IPython.core.display.Markdown object>"
      ]
     },
     "metadata": {},
     "output_type": "display_data"
    }
   ],
   "source": [
    "x = X(goals[\"diary_probe\"]);#, audio=True)"
   ]
  },
  {
   "cell_type": "code",
   "execution_count": 4,
   "id": "b8d088fa-ba2c-49ac-880a-afb2b86e354d",
   "metadata": {},
   "outputs": [
    {
     "data": {
      "text/markdown": [
       "Nice to meet you, Chris! Could you also provide me with your email address so we can stay in touch offline?"
      ],
      "text/plain": [
       "<IPython.core.display.Markdown object>"
      ]
     },
     "metadata": {},
     "output_type": "display_data"
    }
   ],
   "source": [
    "x(\"Chris\");"
   ]
  },
  {
   "cell_type": "code",
   "execution_count": 5,
   "id": "62b1d3ee-35bc-4993-a9a6-d169b9d1288a",
   "metadata": {},
   "outputs": [
    {
     "data": {
      "text/markdown": [
       "Here is your sleep diary entry for October 11, 2023:\n",
       "\n",
       "- Time you got in bed: 21:15\n",
       "- Time you tried to fall asleep: 21:15\n",
       "- Time it took you to fall asleep: 5 minutes\n",
       "- Number of times you woke up (not counting your final awakening): 1\n",
       "- Amount of time you spent awake during the night: 5 minutes\n",
       "- Time of your final awakening: 06:15\n",
       "- Time you got out of bed: 06:15\n",
       "- Sleep quality: Good\n",
       "- Medications: Melatonin\n",
       "- Notes: Slept in the van, it was raining\n",
       "- Sleep efficiency: 98.15% (anything over 85% is considered normal)\n",
       "\n",
       "🚀🚀🚀"
      ],
      "text/plain": [
       "<IPython.core.display.Markdown object>"
      ]
     },
     "metadata": {},
     "output_type": "display_data"
    }
   ],
   "source": [
    "x(\"chris@nourishbalancethrive.com\");"
   ]
  },
  {
   "cell_type": "code",
   "execution_count": 6,
   "id": "4a10e49c-ed61-46d4-8c25-3e9a97e9c595",
   "metadata": {
    "scrolled": true
   },
   "outputs": [
    {
     "data": {
      "text/plain": [
       "User(name='Chris', email='chris@nourishbalancethrive.com')"
      ]
     },
     "execution_count": 6,
     "metadata": {},
     "output_type": "execute_result"
    }
   ],
   "source": [
    "user = get_user(x.agent_executor.memory); user"
   ]
  },
  {
   "cell_type": "code",
   "execution_count": 7,
   "id": "5954bc45-ed43-4518-a9ac-087ca69184d4",
   "metadata": {},
   "outputs": [],
   "source": [
    "db_user = DBUser(**user.dict())"
   ]
  },
  {
   "cell_type": "code",
   "execution_count": 8,
   "id": "2c7c4683-3f39-4421-9e69-06e91450ff56",
   "metadata": {
    "scrolled": true
   },
   "outputs": [
    {
     "data": {
      "text/plain": [
       "<User: User object>"
      ]
     },
     "execution_count": 8,
     "metadata": {},
     "output_type": "execute_result"
    }
   ],
   "source": [
    "db_user.save()"
   ]
  },
  {
   "cell_type": "code",
   "execution_count": 15,
   "id": "703531fe-5c4a-4bcc-bc7c-4c0e697ca1db",
   "metadata": {},
   "outputs": [
    {
     "data": {
      "text/markdown": [
       "I'm really sorry to hear that you're feeling tired, Chris. It makes sense given that fatigue can really impact our overall wellbeing."
      ],
      "text/plain": [
       "<IPython.core.display.Markdown object>"
      ]
     },
     "metadata": {},
     "output_type": "display_data"
    }
   ],
   "source": [
    "x(\"not great, tired\");"
   ]
  },
  {
   "cell_type": "code",
   "execution_count": 16,
   "id": "b6ee23d4-6995-4bc6-a1e2-4a425b4463da",
   "metadata": {
    "scrolled": true
   },
   "outputs": [
    {
     "data": {
      "text/markdown": [
       "I appreciate your confirmation, Chris. Sleep difficulties can significantly contribute to feelings of tiredness. Have you ever kept a sleep diary to monitor your sleep patterns?"
      ],
      "text/plain": [
       "<IPython.core.display.Markdown object>"
      ]
     },
     "metadata": {},
     "output_type": "display_data"
    }
   ],
   "source": [
    "x(\"that's right\");"
   ]
  },
  {
   "cell_type": "code",
   "execution_count": 8,
   "id": "2079cf31-1c22-44a6-8afa-670ba2caaa0e",
   "metadata": {
    "scrolled": true
   },
   "outputs": [
    {
     "data": {
      "text/markdown": [
       "A sleep diary is a tool used to track one's sleep patterns. It typically includes:\n",
       "\n",
       "1. The time you go to bed.\n",
       "2. The time you wake up.\n",
       "3. The number of times you wake up during the night.\n",
       "4. The quality of your sleep.\n",
       "5. Any factors that may affect your sleep, such as stress, caffeine, or alcohol.\n",
       "6. How you feel each morning when you wake up.\n",
       "\n",
       "Tracking these factors can help identify patterns or issues that may be affecting your sleep. Would you like some help from me in maintaining a sleep diary?"
      ],
      "text/plain": [
       "<IPython.core.display.Markdown object>"
      ]
     },
     "metadata": {},
     "output_type": "display_data"
    }
   ],
   "source": [
    "x(\"what's a sleep diary again?\");"
   ]
  },
  {
   "cell_type": "code",
   "execution_count": 18,
   "id": "0180c6c5-3737-451b-a6dd-4e0c7a3e118a",
   "metadata": {},
   "outputs": [
    {
     "data": {
      "text/markdown": [
       "Fantastic, Chris. I look forward to reviewing your sleep diary. This will help us gain a better understanding of your sleep patterns and how we can improve them. 🚀🚀🚀"
      ],
      "text/plain": [
       "<IPython.core.display.Markdown object>"
      ]
     },
     "metadata": {},
     "output_type": "display_data"
    }
   ],
   "source": [
    "x(\"yes please\");"
   ]
  },
  {
   "cell_type": "markdown",
   "id": "df5f805b-e4a3-4810-a57d-8fb25fd09402",
   "metadata": {},
   "source": [
    "# Sleep Diary"
   ]
  },
  {
   "cell_type": "markdown",
   "id": "38fcc060-8de6-4ac4-8130-4be42a13cd22",
   "metadata": {},
   "source": [
    "## Creating a new entry"
   ]
  },
  {
   "cell_type": "code",
   "execution_count": 3,
   "id": "00e3a0c8-39c6-47cc-aed7-6ef7406e80e1",
   "metadata": {},
   "outputs": [
    {
     "name": "stdout",
     "output_type": "stream",
     "text": [
      "get_agent len(tools)=12\n"
     ]
    },
    {
     "data": {
      "text/markdown": [
       "Hello Chris, I hope you're doing well. Is now a good time to record a sleep diary entry?"
      ],
      "text/plain": [
       "<IPython.core.display.Markdown object>"
      ]
     },
     "metadata": {},
     "output_type": "display_data"
    }
   ],
   "source": [
    "x = X(goals[\"diary_entry\"]);"
   ]
  },
  {
   "cell_type": "code",
   "execution_count": 27,
   "id": "c1f57c73-1279-4079-a33b-edc150afb4b8",
   "metadata": {},
   "outputs": [
    {
     "data": {
      "text/markdown": [
       "Your sleep diary entry for Sep 5 is as follows:\n",
       "\n",
       "- You went to bed at 21:15 and tried to fall asleep at the same time.\n",
       "- It took you 5 minutes to fall asleep.\n",
       "- You didn't wake up during the night.\n",
       "- You woke up for the final time at 04:30 and got out of bed at the same time.\n",
       "- You rated your sleep quality as \"bad\".\n",
       "- You didn't use any medications or aids to help you sleep.\n",
       "- Your sleep duration was 7 hours and 10 minutes.\n",
       "- Your sleep efficiency was 98.85%, which is considered excellent as anything over 85% is normal.\n",
       "\n",
       "There were no additional notes for this entry. 🚀🚀🚀"
      ],
      "text/plain": [
       "<IPython.core.display.Markdown object>"
      ]
     },
     "metadata": {},
     "output_type": "display_data"
    }
   ],
   "source": [
    "x(\"summarise my sleep diary for Sep 5\");"
   ]
  },
  {
   "cell_type": "code",
   "execution_count": 4,
   "id": "f0e32237-108a-4a53-be0e-6f83df21f93b",
   "metadata": {},
   "outputs": [
    {
     "data": {
      "text/markdown": [
       "Your email is chris@nourishbalancethrive.com. Is now a good time to record a sleep diary entry?"
      ],
      "text/plain": [
       "<IPython.core.display.Markdown object>"
      ]
     },
     "metadata": {},
     "output_type": "display_data"
    }
   ],
   "source": [
    "x(\"what's my email?\");"
   ]
  },
  {
   "cell_type": "code",
   "execution_count": 17,
   "id": "204ec053-8ba6-4c25-a0a8-c916eafd7c83",
   "metadata": {},
   "outputs": [
    {
     "data": {
      "text/markdown": [
       "Sure, let's start with the time you went to bed on Sep 5."
      ],
      "text/plain": [
       "<IPython.core.display.Markdown object>"
      ]
     },
     "metadata": {},
     "output_type": "display_data"
    }
   ],
   "source": [
    "x(\"record a diary entry for Sep 5\");"
   ]
  },
  {
   "cell_type": "code",
   "execution_count": 5,
   "id": "e2d735d9-2716-4614-bffd-5b67f3147ab1",
   "metadata": {},
   "outputs": [
    {
     "data": {
      "text/markdown": [
       "Thank you, Chris. Now, could you please tell me what time you went to bed on September 1st?"
      ],
      "text/plain": [
       "<IPython.core.display.Markdown object>"
      ]
     },
     "metadata": {},
     "output_type": "display_data"
    }
   ],
   "source": [
    "x(\"Sep 1\");"
   ]
  },
  {
   "cell_type": "code",
   "execution_count": 18,
   "id": "15aa92c5-38dc-457d-adfa-1dd8394e4d5c",
   "metadata": {},
   "outputs": [
    {
     "data": {
      "text/markdown": [
       "Great, and what time did you try to fall asleep?"
      ],
      "text/plain": [
       "<IPython.core.display.Markdown object>"
      ]
     },
     "metadata": {},
     "output_type": "display_data"
    }
   ],
   "source": [
    "x(\"21:15\");"
   ]
  },
  {
   "cell_type": "code",
   "execution_count": 19,
   "id": "8174c4df-0b29-4897-a58f-90bf64381722",
   "metadata": {},
   "outputs": [
    {
     "data": {
      "text/markdown": [
       "Okay, and how long did it take you to fall asleep?"
      ],
      "text/plain": [
       "<IPython.core.display.Markdown object>"
      ]
     },
     "metadata": {},
     "output_type": "display_data"
    }
   ],
   "source": [
    "x(\"21:15\");"
   ]
  },
  {
   "cell_type": "code",
   "execution_count": 20,
   "id": "0ad62359-3ccb-4032-b78f-102c03ce3fe2",
   "metadata": {},
   "outputs": [
    {
     "data": {
      "text/markdown": [
       "Noted. How many times did you wake up during the night?"
      ],
      "text/plain": [
       "<IPython.core.display.Markdown object>"
      ]
     },
     "metadata": {},
     "output_type": "display_data"
    }
   ],
   "source": [
    "x(\"5\");"
   ]
  },
  {
   "cell_type": "code",
   "execution_count": 21,
   "id": "c81de15b-ade1-47a4-9811-7c295be7174c",
   "metadata": {},
   "outputs": [
    {
     "data": {
      "text/markdown": [
       "Alright. What was your final wake up time?"
      ],
      "text/plain": [
       "<IPython.core.display.Markdown object>"
      ]
     },
     "metadata": {},
     "output_type": "display_data"
    }
   ],
   "source": [
    "x(\"0\");"
   ]
  },
  {
   "cell_type": "code",
   "execution_count": 10,
   "id": "38047809-4a3f-46f4-b846-2dcc685e3d46",
   "metadata": {},
   "outputs": [
    {
     "data": {
      "text/markdown": [
       "Understood. What was your final wake up time?"
      ],
      "text/plain": [
       "<IPython.core.display.Markdown object>"
      ]
     },
     "metadata": {},
     "output_type": "display_data"
    }
   ],
   "source": [
    "x(\"60\");"
   ]
  },
  {
   "cell_type": "code",
   "execution_count": 22,
   "id": "7fa0c40e-b4be-47e6-afa9-3d11f172884e",
   "metadata": {},
   "outputs": [
    {
     "data": {
      "text/markdown": [
       "And what time did you get out of bed?"
      ],
      "text/plain": [
       "<IPython.core.display.Markdown object>"
      ]
     },
     "metadata": {},
     "output_type": "display_data"
    }
   ],
   "source": [
    "x(\"4:30\");"
   ]
  },
  {
   "cell_type": "code",
   "execution_count": 23,
   "id": "b58d751a-6a03-4c71-9ae1-1959b5e51bc8",
   "metadata": {},
   "outputs": [
    {
     "data": {
      "text/markdown": [
       "How would you rate your sleep quality? You can choose from \"very good\", \"good\", \"okay\", \"bad\", \"very bad\"."
      ],
      "text/plain": [
       "<IPython.core.display.Markdown object>"
      ]
     },
     "metadata": {},
     "output_type": "display_data"
    }
   ],
   "source": [
    "x(\"4:30\");"
   ]
  },
  {
   "cell_type": "code",
   "execution_count": 24,
   "id": "349b7341-b56b-4c33-bee3-722da01f1c65",
   "metadata": {},
   "outputs": [
    {
     "data": {
      "text/markdown": [
       "I'm sorry to hear that. Did you use any medications or aids to help you sleep?"
      ],
      "text/plain": [
       "<IPython.core.display.Markdown object>"
      ]
     },
     "metadata": {},
     "output_type": "display_data"
    }
   ],
   "source": [
    "x(\"bad\");"
   ]
  },
  {
   "cell_type": "code",
   "execution_count": 25,
   "id": "836de99b-59b2-49a0-a36d-3dd6a58d2e59",
   "metadata": {},
   "outputs": [
    {
     "data": {
      "text/markdown": [
       "Alright. Is there anything else you'd like to add to this entry? Any other notes or observations?"
      ],
      "text/plain": [
       "<IPython.core.display.Markdown object>"
      ]
     },
     "metadata": {},
     "output_type": "display_data"
    }
   ],
   "source": [
    "x(\"no\");"
   ]
  },
  {
   "cell_type": "code",
   "execution_count": 26,
   "id": "2c1fbe21-19ad-4955-99d6-ad086aed46c7",
   "metadata": {},
   "outputs": [
    {
     "name": "stdout",
     "output_type": "stream",
     "text": [
      "save_sleep_diary_entry entry=SleepDiaryEntry(date=datetime.datetime(2023, 9, 5, 0, 0), in_bed=datetime.datetime(2023, 10, 13, 21, 15), tried_to_fall_asleep=datetime.datetime(2023, 10, 13, 21, 15), time_to_fall_asleep=5, times_awake=0, time_awake=0, final_wake_up=datetime.datetime(2023, 10, 13, 4, 30), out_of_bed=datetime.datetime(2023, 10, 13, 4, 30), sleep_quality='bad', medications='no', notes='')\n"
     ]
    },
    {
     "data": {
      "text/markdown": [
       "Your sleep diary entry for Sep 5 is as follows:\n",
       "\n",
       "- You went to bed at 21:15 and tried to fall asleep at the same time.\n",
       "- It took you 5 minutes to fall asleep.\n",
       "- You didn't wake up during the night.\n",
       "- You woke up for the final time at 04:30 and got out of bed at the same time.\n",
       "- You rated your sleep quality as \"bad\".\n",
       "- You didn't use any medications or aids to help you sleep.\n",
       "- Your sleep duration was 7 hours and 10 minutes.\n",
       "- Your sleep efficiency was 100%, which is considered excellent as anything over 85% is normal.\n",
       "- You noted that you had a stuffy nose.\n",
       "\n",
       "This entry has been saved to the database. 🚀🚀🚀"
      ],
      "text/plain": [
       "<IPython.core.display.Markdown object>"
      ]
     },
     "metadata": {},
     "output_type": "display_data"
    }
   ],
   "source": [
    "x(\"stuffy nose\");"
   ]
  },
  {
   "cell_type": "code",
   "execution_count": 4,
   "id": "a9ed5047-a458-488f-9814-9d90169e046d",
   "metadata": {},
   "outputs": [
    {
     "data": {
      "text/markdown": [
       "Your sleep efficiency for the sleep diary entry on September 1, 2023, was approximately 64.91%. This is below the normal range of 85% and above. It might be beneficial to look into ways to improve your sleep efficiency."
      ],
      "text/plain": [
       "<IPython.core.display.Markdown object>"
      ]
     },
     "metadata": {},
     "output_type": "display_data"
    }
   ],
   "source": [
    "x(\"what about Sep 1?\");"
   ]
  },
  {
   "cell_type": "code",
   "execution_count": 24,
   "id": "b4fe53e4-616a-4f38-974c-beba229b2887",
   "metadata": {
    "collapsed": true,
    "jupyter": {
     "outputs_hidden": true
    },
    "scrolled": true
   },
   "outputs": [
    {
     "data": {
      "text/markdown": [
       "Sleep efficiency is a measure of the quality of a person's sleep, calculated as the ratio of total time spent asleep (not just time spent in bed) to the total time spent in bed. For example, if you spend 8 hours in bed but only sleep for 6 hours, your sleep efficiency is 75% (6/8 x 100). \n",
       "\n",
       "In Amy's case, her sleep efficiency was initially 60% as she was only asleep for 6 hours out of her 10-hour sleep opportunity. She tried to improve her sleep efficiency through a process called bedtime restriction therapy, which involved limiting her time in bed to her average sleep duration, hence improving the pressure to sleep. \n",
       "\n",
       "Over time and with regularity, her sleep efficiency improved. She would only extend her sleep opportunity (time spent in bed) when her sleep efficiency remained above 85% (considered healthy) for a week. She eventually settled on a routine where her sleep efficiency was 88%.\n",
       "\n",
       "Therefore, improving sleep efficiency can involve several steps:\n",
       "\n",
       "1. Enforcing regular bedtimes. \n",
       "2. Restricting bedtime to average sleep duration to build extra pressure to sleep.\n",
       "3. Gradually extending sleep opportunity once sleep efficiency remains above 85% for a week.\n",
       "4. Maintaining regular sleep schedules even after reaching the desired sleep efficiency.\n",
       "\n",
       "Keep in mind that these steps may vary depending on individual needs and circumstances. It's always advisable to consult with a sleep specialist if you're struggling with sleep efficiency."
      ],
      "text/plain": [
       "<IPython.core.display.Markdown object>"
      ]
     },
     "metadata": {},
     "output_type": "display_data"
    }
   ],
   "source": [
    "x(\"is my sleep efficiency any good?\");"
   ]
  },
  {
   "cell_type": "markdown",
   "id": "3d678882-b636-4b4a-9cbf-ba0aeecee54f",
   "metadata": {},
   "source": [
    "## Try retrieving an entry"
   ]
  },
  {
   "cell_type": "code",
   "execution_count": 18,
   "id": "b78321c9-5722-4d8d-8b91-a7f11265141e",
   "metadata": {},
   "outputs": [
    {
     "name": "stdout",
     "output_type": "stream",
     "text": [
      "get_agent len(tools)=11\n",
      "load_memory filename='/Users/cck197/Downloads/virtual_greg/memory.pkl'\n"
     ]
    },
    {
     "data": {
      "text/markdown": [
       "Hello Chris, nice to meet you. Is now a good time to record a sleep diary entry?"
      ],
      "text/plain": [
       "<IPython.core.display.Markdown object>"
      ]
     },
     "metadata": {},
     "output_type": "display_data"
    }
   ],
   "source": [
    "x = X(goals[\"diary_entry_retrieval\"]);"
   ]
  },
  {
   "cell_type": "code",
   "execution_count": 19,
   "id": "ea242537-1105-411c-a22c-a44e46400cd4",
   "metadata": {},
   "outputs": [
    {
     "data": {
      "text/markdown": [
       "Here is your sleep diary entry for October 1, 2023:\n",
       "\n",
       "- Time you went to bed: 21:00\n",
       "- Time you tried to fall asleep: 23:00\n",
       "- Time it took you to fall asleep: 30 minutes\n",
       "- Number of times you woke up during the night: 5\n",
       "- Total time you were awake during the night: 50 minutes\n",
       "- Final wake up time: 6:30\n",
       "- Time you got out of bed: 6:30\n",
       "- Sleep quality: Okay\n",
       "- Sleep aids: Melatonin\n",
       "- Notes: Slept in the van 4\n",
       "\n",
       "Your sleep efficiency, which is the percentage of time spent asleep while in bed, was approximately 65%. This is below the normal range of over 85%.\n",
       "\n",
       "🚀🚀🚀"
      ],
      "text/plain": [
       "<IPython.core.display.Markdown object>"
      ]
     },
     "metadata": {},
     "output_type": "display_data"
    }
   ],
   "source": [
    "x(\"summarise my sleep diary entry for oct 1, 2023\");"
   ]
  },
  {
   "cell_type": "markdown",
   "id": "63998458-9a27-4625-9582-c38d692484e5",
   "metadata": {
    "jp-MarkdownHeadingCollapsed": true
   },
   "source": [
    "# Insomnia Severity Index (ISI)"
   ]
  },
  {
   "cell_type": "code",
   "execution_count": 2,
   "id": "e7788582-abe5-4638-ad85-5476ed9eefa5",
   "metadata": {},
   "outputs": [
    {
     "name": "stdout",
     "output_type": "stream",
     "text": [
      "get_agent len(tools)=10\n"
     ]
    },
    {
     "data": {
      "text/markdown": [
       "Hello! I'm glad you reached out. May I know your name, please?"
      ],
      "text/plain": [
       "<IPython.core.display.Markdown object>"
      ]
     },
     "metadata": {},
     "output_type": "display_data"
    }
   ],
   "source": [
    "x = X(goals[\"insomnia_severity_index\"]);"
   ]
  },
  {
   "cell_type": "code",
   "execution_count": 3,
   "id": "ad4fca1f-0cb9-4eff-8ede-72c1318fec35",
   "metadata": {},
   "outputs": [
    {
     "data": {
      "text/markdown": [
       "Nice to meet you, Chris. How are you feeling today?"
      ],
      "text/plain": [
       "<IPython.core.display.Markdown object>"
      ]
     },
     "metadata": {},
     "output_type": "display_data"
    }
   ],
   "source": [
    "x(\"Chris\");"
   ]
  },
  {
   "cell_type": "code",
   "execution_count": 4,
   "id": "1d631fdc-61c8-4943-85a6-a91e78820b2e",
   "metadata": {},
   "outputs": [
    {
     "data": {
      "text/markdown": [
       "I hear you, Chris. It sounds like you're feeling somewhat drained at the moment. Is that accurate?"
      ],
      "text/plain": [
       "<IPython.core.display.Markdown object>"
      ]
     },
     "metadata": {},
     "output_type": "display_data"
    }
   ],
   "source": [
    "x(\"bit tired\");"
   ]
  },
  {
   "cell_type": "code",
   "execution_count": 5,
   "id": "890d71df-4c05-4e8d-a2cd-70188412c56a",
   "metadata": {},
   "outputs": [
    {
     "data": {
      "text/markdown": [
       "I understand, Chris. It must be tough feeling tired. If you're comfortable, would now be a good time to go through a brief survey about your sleep patterns? It might help us understand your situation better."
      ],
      "text/plain": [
       "<IPython.core.display.Markdown object>"
      ]
     },
     "metadata": {},
     "output_type": "display_data"
    }
   ],
   "source": [
    "x(\"yeah, exactly\");"
   ]
  },
  {
   "cell_type": "code",
   "execution_count": 6,
   "id": "b3f6e408-faa3-4b37-9c01-9a62a220fd6d",
   "metadata": {},
   "outputs": [
    {
     "data": {
      "text/markdown": [
       "Great, Chris. Let's start with the first question. On a scale from 0 to 4, with 0 being none and 4 being very severe, how would you rate your difficulty falling asleep?"
      ],
      "text/plain": [
       "<IPython.core.display.Markdown object>"
      ]
     },
     "metadata": {},
     "output_type": "display_data"
    }
   ],
   "source": [
    "x(\"sure\");"
   ]
  },
  {
   "cell_type": "code",
   "execution_count": 32,
   "id": "fce8e388-16b3-4ac9-95c7-d2777452fbea",
   "metadata": {},
   "outputs": [
    {
     "data": {
      "text/markdown": [
       "The Insomnia Severity Index (ISI) is a tool used to measure a person's perception of their insomnia. It helps to understand the severity of sleep onset, sleep maintenance, early morning awakening issues, sleep dissatisfaction, interference of sleep difficulties with daytime functioning, noticeability of sleep problems by others, and distress caused by the sleep difficulties. \n",
       "\n",
       "The questionnaire is not a diagnostic tool, but it can be very useful in tracking changes in your insomnia over time and can help to evaluate the effectiveness of treatment. It's a standard tool used in many sleep studies and clinical practices."
      ],
      "text/plain": [
       "<IPython.core.display.Markdown object>"
      ]
     },
     "metadata": {},
     "output_type": "display_data"
    }
   ],
   "source": [
    "x(\"what's the questionnaire for?\");"
   ]
  },
  {
   "cell_type": "code",
   "execution_count": 33,
   "id": "256f31f6-d8ab-4c0a-ae36-d55d00788e7a",
   "metadata": {},
   "outputs": [
    {
     "data": {
      "text/markdown": [
       "Great, let's proceed with the questionnaire then.\n",
       "\n",
       "1. Difficulty falling asleep: On a scale from 0 to 4, with 0 being none and 4 being very severe, how would you rate your difficulty in falling asleep?\n",
       "\n",
       "2. Difficulty staying asleep: On the same scale, how would you rate your difficulty in staying asleep?\n",
       "\n",
       "3. Problems waking up too early: Again, on the same scale, how would you rate your problems with waking up too early?\n",
       "\n",
       "Please take your time to think about your answers."
      ],
      "text/plain": [
       "<IPython.core.display.Markdown object>"
      ]
     },
     "metadata": {},
     "output_type": "display_data"
    }
   ],
   "source": [
    "x(\"ok\");"
   ]
  },
  {
   "cell_type": "code",
   "execution_count": 7,
   "id": "03e3cc9d-5094-47da-b54c-295e08297966",
   "metadata": {},
   "outputs": [
    {
     "data": {
      "text/markdown": [
       "Thank you for your response, Chris. Now, using the same scale, how would you rate your difficulty staying asleep?"
      ],
      "text/plain": [
       "<IPython.core.display.Markdown object>"
      ]
     },
     "metadata": {},
     "output_type": "display_data"
    }
   ],
   "source": [
    "x(\"1\");"
   ]
  },
  {
   "cell_type": "code",
   "execution_count": 8,
   "id": "057f7b56-a054-4417-a8d4-aa95ec5b4ac1",
   "metadata": {
    "scrolled": true
   },
   "outputs": [
    {
     "data": {
      "text/markdown": [
       "Thank you, Chris. Moving on to the third question, how would you rate your problems with waking up too early? Please use the same scale from 0 (none) to 4 (very severe)."
      ],
      "text/plain": [
       "<IPython.core.display.Markdown object>"
      ]
     },
     "metadata": {},
     "output_type": "display_data"
    }
   ],
   "source": [
    "x(\"1\");"
   ]
  },
  {
   "cell_type": "code",
   "execution_count": 10,
   "id": "6d08c148-59a3-4d10-9a19-ea73fa15d079",
   "metadata": {},
   "outputs": [
    {
     "data": {
      "text/markdown": [
       "Thank you for your responses, Chris. So, for all seven questions, your score is 1. \n",
       "\n",
       "To summarize:\n",
       "1. Difficulty falling asleep: 1 (Mild)\n",
       "2. Difficulty staying asleep: 1 (Mild)\n",
       "3. Problems waking up too early: 1 (Mild)\n",
       "4. Satisfaction with current sleep pattern: 1 (Satisfied)\n",
       "5. Noticeability of sleep problem: 1 (A little bit)\n",
       "6. Worries about sleep problem: 1 (A little bit)\n",
       "7. Interference of sleep problem with daily functioning: 1 (A little bit)\n",
       "\n",
       "Is this summary accurate?"
      ],
      "text/plain": [
       "<IPython.core.display.Markdown object>"
      ]
     },
     "metadata": {},
     "output_type": "display_data"
    }
   ],
   "source": [
    "x(\"actually all the remaining answers are 1\");"
   ]
  },
  {
   "cell_type": "code",
   "execution_count": 11,
   "id": "7f357c1a-3625-4117-91d4-49d24b7adc99",
   "metadata": {},
   "outputs": [
    {
     "data": {
      "text/markdown": [
       "Great, thank you for confirming, Chris. \n",
       "\n",
       "Adding up your scores, your total Insomnia Severity Index (ISI) score is 7. \n",
       "\n",
       "According to the ISI interpretation, a score of 7 falls into the category of \"No clinically significant insomnia\". However, if you're still feeling tired and it's affecting your day, it might be worth discussing this with a healthcare professional. \n",
       "\n",
       "I hope this information is helpful to you. 🚀🚀🚀"
      ],
      "text/plain": [
       "<IPython.core.display.Markdown object>"
      ]
     },
     "metadata": {},
     "output_type": "display_data"
    }
   ],
   "source": [
    "x(\"yep!\");"
   ]
  },
  {
   "cell_type": "code",
   "execution_count": null,
   "id": "a9ba4929-6c86-4fdf-8693-91bb5516d261",
   "metadata": {},
   "outputs": [],
   "source": []
  }
 ],
 "metadata": {
  "kernelspec": {
   "display_name": "Python 3 (ipykernel)",
   "language": "python",
   "name": "python3"
  },
  "language_info": {
   "codemirror_mode": {
    "name": "ipython",
    "version": 3
   },
   "file_extension": ".py",
   "mimetype": "text/x-python",
   "name": "python",
   "nbconvert_exporter": "python",
   "pygments_lexer": "ipython3",
   "version": "3.11.5"
  }
 },
 "nbformat": 4,
 "nbformat_minor": 5
}
