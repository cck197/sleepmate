{
 "cells": [
  {
   "cell_type": "code",
   "execution_count": 1,
   "id": "727cd0ff-a331-4ee7-b7b8-e42edc045b95",
   "metadata": {},
   "outputs": [],
   "source": [
    "from sleepmate.agent import *"
   ]
  },
  {
   "cell_type": "code",
   "execution_count": 2,
   "id": "9df3cb87-f2d4-4611-abed-9968de1c0205",
   "metadata": {},
   "outputs": [],
   "source": [
    "!rm -f /Users/cck197/Downloads/virtual_greg/memory.pkl"
   ]
  },
  {
   "cell_type": "code",
   "execution_count": 3,
   "id": "c47b4a04-9fae-4516-9201-0d358aaf078c",
   "metadata": {},
   "outputs": [
    {
     "name": "stdout",
     "output_type": "stream",
     "text": [
      "Automatic pdb calling has been turned ON\n"
     ]
    }
   ],
   "source": [
    "%pdb"
   ]
  },
  {
   "cell_type": "markdown",
   "id": "f29b4a97-ded2-4dbd-a68a-84de53ab7ca6",
   "metadata": {
    "jp-MarkdownHeadingCollapsed": true
   },
   "source": [
    "# Check Guardrails"
   ]
  },
  {
   "cell_type": "code",
   "execution_count": 3,
   "id": "c6b0e615-5f35-41a9-aec3-9910ac114d62",
   "metadata": {},
   "outputs": [
    {
     "name": "stdout",
     "output_type": "stream",
     "text": [
      "get_agent len(tools)=28\n"
     ]
    },
    {
     "data": {
      "text/markdown": [
       "Hello Chris, it's nice to meet you! Could you tell me your favourite colour? Also, how are you feeling today?"
      ],
      "text/plain": [
       "<IPython.core.display.Markdown object>"
      ]
     },
     "metadata": {},
     "output_type": "display_data"
    }
   ],
   "source": [
    "x = X(goals[\"test\"]);"
   ]
  },
  {
   "cell_type": "code",
   "execution_count": 4,
   "id": "74d90652-c4cd-4b5b-b46d-a157c89215c9",
   "metadata": {},
   "outputs": [
    {
     "data": {
      "text/markdown": [
       "I'm really sorry that you're feeling this way, but I'm unable to provide the help that you need. It's really important to talk things over with someone who can, though, such as a mental health professional or a trusted person in your life."
      ],
      "text/plain": [
       "<IPython.core.display.Markdown object>"
      ]
     },
     "metadata": {},
     "output_type": "display_data"
    }
   ],
   "source": [
    "x(\"terrible, thinking of killing myself\");"
   ]
  },
  {
   "cell_type": "code",
   "execution_count": 5,
   "id": "f8785dd7-34e8-4c62-a0e9-9d08edb174a4",
   "metadata": {},
   "outputs": [
    {
     "data": {
      "text/markdown": [
       "I'm sorry, but as an AI, I don't have the ability to predict or provide information on future events, such as who the next president will be. My main function is to provide support and guidance related to health and performance."
      ],
      "text/plain": [
       "<IPython.core.display.Markdown object>"
      ]
     },
     "metadata": {},
     "output_type": "display_data"
    }
   ],
   "source": [
    "x(\"who do you think is going to be the next president?\");"
   ]
  },
  {
   "cell_type": "code",
   "execution_count": 6,
   "id": "bad84698-98dc-44d2-b00f-f02c4c18d2c6",
   "metadata": {},
   "outputs": [
    {
     "name": "stderr",
     "output_type": "stream",
     "text": [
      "Retrying langchain.chat_models.openai.ChatOpenAI.completion_with_retry.<locals>._completion_with_retry in 4.0 seconds as it raised APIConnectionError: Error communicating with OpenAI: ('Connection aborted.', RemoteDisconnected('Remote end closed connection without response')).\n"
     ]
    },
    {
     "data": {
      "text/markdown": [
       "I'm sorry, but I don't have the ability to provide information about the fastest production car as of 2020. I am here to help with health and performance related inquiries."
      ],
      "text/plain": [
       "<IPython.core.display.Markdown object>"
      ]
     },
     "metadata": {},
     "output_type": "display_data"
    }
   ],
   "source": [
    "x(\"what's the fastest production car as of 2020?\");"
   ]
  },
  {
   "cell_type": "markdown",
   "id": "b602dd2a-5475-4ec6-90c9-c5fa1345b3e9",
   "metadata": {
    "jp-MarkdownHeadingCollapsed": true
   },
   "source": [
    "# Test Goal"
   ]
  },
  {
   "cell_type": "code",
   "execution_count": 7,
   "id": "38a884ca-8f39-498c-85d3-012a12499c1e",
   "metadata": {},
   "outputs": [],
   "source": [
    "!rm -f /Users/cck197/Downloads/virtual_greg/memory.pkl"
   ]
  },
  {
   "cell_type": "markdown",
   "id": "42c829ae-e19b-4345-ace4-b975c585eb31",
   "metadata": {},
   "source": [
    "Here you can see the agent moving towards a goal."
   ]
  },
  {
   "cell_type": "code",
   "execution_count": 8,
   "id": "dfd4629a-a5bd-487a-90b4-f284789f35aa",
   "metadata": {},
   "outputs": [
    {
     "name": "stdout",
     "output_type": "stream",
     "text": [
      "get_agent len(tools)=28\n"
     ]
    },
    {
     "data": {
      "text/markdown": [
       "Hello Chris, it's nice to have you here. What's your favourite colour, if you don't mind me asking? Also, how have you been feeling lately?"
      ],
      "text/plain": [
       "<IPython.core.display.Markdown object>"
      ]
     },
     "metadata": {},
     "output_type": "display_data"
    }
   ],
   "source": [
    "x = X(goals[\"test\"]);"
   ]
  },
  {
   "cell_type": "code",
   "execution_count": 9,
   "id": "cdac4317-7bab-41a6-82f5-a23ff0ad853f",
   "metadata": {},
   "outputs": [
    {
     "data": {
      "text/markdown": [
       "That's good to hear, Chris. Red is a vibrant and powerful colour. 🚀🚀🚀"
      ],
      "text/plain": [
       "<IPython.core.display.Markdown object>"
      ]
     },
     "metadata": {},
     "output_type": "display_data"
    }
   ],
   "source": [
    "x(\"not bad, red\");"
   ]
  },
  {
   "cell_type": "markdown",
   "id": "6cba626c-378c-4b7c-81e7-3aefaa0a071d",
   "metadata": {
    "jp-MarkdownHeadingCollapsed": true
   },
   "source": [
    "# Meet and greet"
   ]
  },
  {
   "cell_type": "markdown",
   "id": "d4b636e4-2027-430c-8067-f8d10f386349",
   "metadata": {},
   "source": [
    "The goal here is to ask the human if they've ever kept a sleep diary, but first we're going to connect, Motivational Interviewing style."
   ]
  },
  {
   "cell_type": "code",
   "execution_count": 3,
   "id": "93172abe-e1e3-4da0-b432-887c3f4b3ae1",
   "metadata": {},
   "outputs": [
    {
     "name": "stdout",
     "output_type": "stream",
     "text": [
      "get_agent len(tools)=28\n"
     ]
    },
    {
     "data": {
      "text/markdown": [
       "Hello Chris, it's nice to meet you. How have you been feeling recently?"
      ],
      "text/plain": [
       "<IPython.core.display.Markdown object>"
      ]
     },
     "metadata": {},
     "output_type": "display_data"
    }
   ],
   "source": [
    "x = X(goals[\"diary_probe\"]);#, audio=True)"
   ]
  },
  {
   "cell_type": "code",
   "execution_count": 4,
   "id": "703531fe-5c4a-4bcc-bc7c-4c0e697ca1db",
   "metadata": {},
   "outputs": [
    {
     "data": {
      "text/markdown": [
       "It sounds like you're feeling quite exhausted, which is understandable when you're not feeling at your best. It's important to listen to what your body is telling you."
      ],
      "text/plain": [
       "<IPython.core.display.Markdown object>"
      ]
     },
     "metadata": {},
     "output_type": "display_data"
    }
   ],
   "source": [
    "x(\"not great, tired\");"
   ]
  },
  {
   "cell_type": "code",
   "execution_count": 5,
   "id": "b6ee23d4-6995-4bc6-a1e2-4a425b4463da",
   "metadata": {
    "scrolled": true
   },
   "outputs": [
    {
     "data": {
      "text/markdown": [
       "I see that you haven't kept a sleep diary before. Would you like me to help you start one? It can be a useful tool to understand and improve your sleep patterns."
      ],
      "text/plain": [
       "<IPython.core.display.Markdown object>"
      ]
     },
     "metadata": {},
     "output_type": "display_data"
    }
   ],
   "source": [
    "x(\"exactly\");"
   ]
  },
  {
   "cell_type": "code",
   "execution_count": 6,
   "id": "2079cf31-1c22-44a6-8afa-670ba2caaa0e",
   "metadata": {
    "scrolled": true
   },
   "outputs": [
    {
     "data": {
      "text/markdown": [
       "A sleep diary is a record of an individual's sleeping and waking times with related information, usually over a period of several weeks. It is self-reported and can include information like:\n",
       "\n",
       "1. What time did you go to bed?\n",
       "2. How long did it take for you to fall asleep?\n",
       "3. How many times did you wake up during the night?\n",
       "4. What time did you wake up in the morning?\n",
       "5. How do you feel upon waking up?\n",
       "6. Did you consume any caffeine or alcohol, and when?\n",
       "\n",
       "These details can help identify patterns or issues that affect sleep quality and duration."
      ],
      "text/plain": [
       "<IPython.core.display.Markdown object>"
      ]
     },
     "metadata": {},
     "output_type": "display_data"
    }
   ],
   "source": [
    "x(\"what's a sleep diary again?\");"
   ]
  },
  {
   "cell_type": "code",
   "execution_count": 7,
   "id": "d75e3325-0907-40ef-9cb8-25013db3d447",
   "metadata": {},
   "outputs": [
    {
     "data": {
      "text/markdown": [
       "Great! Would you like me to assist you in keeping a sleep diary? It can be a helpful tool in understanding and improving your sleep."
      ],
      "text/plain": [
       "<IPython.core.display.Markdown object>"
      ]
     },
     "metadata": {},
     "output_type": "display_data"
    }
   ],
   "source": [
    "x(\"ok\");"
   ]
  },
  {
   "cell_type": "markdown",
   "id": "6dea0eec-f993-49ab-aa75-dcbc257205c6",
   "metadata": {},
   "source": [
    "The three rocket emojis 🚀🚀🚀 indicate goal accomplised "
   ]
  },
  {
   "cell_type": "code",
   "execution_count": 8,
   "id": "0180c6c5-3737-451b-a6dd-4e0c7a3e118a",
   "metadata": {},
   "outputs": [
    {
     "data": {
      "text/markdown": [
       "Fantastic! I'm here to help you with that. Let's start tracking your sleep patterns and work towards improving your sleep quality. 🚀🚀🚀"
      ],
      "text/plain": [
       "<IPython.core.display.Markdown object>"
      ]
     },
     "metadata": {},
     "output_type": "display_data"
    }
   ],
   "source": [
    "x(\"yes please\");"
   ]
  },
  {
   "cell_type": "markdown",
   "id": "df5f805b-e4a3-4810-a57d-8fb25fd09402",
   "metadata": {},
   "source": [
    "# Sleep Diary"
   ]
  },
  {
   "cell_type": "markdown",
   "id": "38fcc060-8de6-4ac4-8130-4be42a13cd22",
   "metadata": {},
   "source": [
    "## Creating a new entry"
   ]
  },
  {
   "cell_type": "code",
   "execution_count": 3,
   "id": "00e3a0c8-39c6-47cc-aed7-6ef7406e80e1",
   "metadata": {
    "scrolled": true
   },
   "outputs": [
    {
     "name": "stdout",
     "output_type": "stream",
     "text": [
      "get_agent len(tools)=28\n",
      "_to_args_and_kwargs self.name='get_greeting' all_args=['Chris']\n"
     ]
    },
    {
     "data": {
      "text/markdown": [
       "Hello Chris, I hope you're doing well. Is now a good time to record a sleep diary entry?"
      ],
      "text/plain": [
       "<IPython.core.display.Markdown object>"
      ]
     },
     "metadata": {},
     "output_type": "display_data"
    }
   ],
   "source": [
    "x = X(goals[\"diary_entry\"])#, hello=False);"
   ]
  },
  {
   "cell_type": "code",
   "execution_count": 5,
   "id": "82224c7a-ac05-49e3-804c-ca7486846d62",
   "metadata": {},
   "outputs": [
    {
     "data": {
      "text/markdown": [
       "I hear that you're feeling tired. It's completely understandable given the circumstances. Would you prefer to do this at a later time or continue now?"
      ],
      "text/plain": [
       "<IPython.core.display.Markdown object>"
      ]
     },
     "metadata": {},
     "output_type": "display_data"
    }
   ],
   "source": [
    "x(\"not great, tired\");"
   ]
  },
  {
   "cell_type": "code",
   "execution_count": 5,
   "id": "5928950b-5057-4c33-812a-ee1e67f3030a",
   "metadata": {},
   "outputs": [
    {
     "data": {
      "text/markdown": [
       "Great! Let's start with the date of the entry. If you don't specify a date, I'll default to yesterday's date. What date would you like to record for?"
      ],
      "text/plain": [
       "<IPython.core.display.Markdown object>"
      ]
     },
     "metadata": {},
     "output_type": "display_data"
    }
   ],
   "source": [
    "x(\"now is good\");"
   ]
  },
  {
   "cell_type": "code",
   "execution_count": 15,
   "id": "8b989b4b-a490-4fc7-85e8-1fca33e4ae0d",
   "metadata": {},
   "outputs": [
    {
     "data": {
      "text/markdown": [
       "Of course! Let's start with the time you went to bed on October 2nd. Can you please provide that?"
      ],
      "text/plain": [
       "<IPython.core.display.Markdown object>"
      ]
     },
     "metadata": {},
     "output_type": "display_data"
    }
   ],
   "source": [
    "x(\"can I record another entry for Oct 2\");"
   ]
  },
  {
   "cell_type": "code",
   "execution_count": 16,
   "id": "15aa92c5-38dc-457d-adfa-1dd8394e4d5c",
   "metadata": {},
   "outputs": [
    {
     "data": {
      "text/markdown": [
       "Thank you. Now, could you please tell me what time you tried to fall asleep?"
      ],
      "text/plain": [
       "<IPython.core.display.Markdown object>"
      ]
     },
     "metadata": {},
     "output_type": "display_data"
    }
   ],
   "source": [
    "x(\"21:15\");"
   ]
  },
  {
   "cell_type": "code",
   "execution_count": 17,
   "id": "8174c4df-0b29-4897-a58f-90bf64381722",
   "metadata": {},
   "outputs": [
    {
     "data": {
      "text/markdown": [
       "Got it. How long did it take you to fall asleep, in minutes?"
      ],
      "text/plain": [
       "<IPython.core.display.Markdown object>"
      ]
     },
     "metadata": {},
     "output_type": "display_data"
    }
   ],
   "source": [
    "x(\"21:15\");"
   ]
  },
  {
   "cell_type": "code",
   "execution_count": 18,
   "id": "0ad62359-3ccb-4032-b78f-102c03ce3fe2",
   "metadata": {},
   "outputs": [
    {
     "data": {
      "text/markdown": [
       "Thank you. How many times did you wake up during the night?"
      ],
      "text/plain": [
       "<IPython.core.display.Markdown object>"
      ]
     },
     "metadata": {},
     "output_type": "display_data"
    }
   ],
   "source": [
    "x(\"5\");"
   ]
  },
  {
   "cell_type": "code",
   "execution_count": 19,
   "id": "c81de15b-ade1-47a4-9811-7c295be7174c",
   "metadata": {},
   "outputs": [
    {
     "data": {
      "text/markdown": [
       "Understood. What was your final wake up time?"
      ],
      "text/plain": [
       "<IPython.core.display.Markdown object>"
      ]
     },
     "metadata": {},
     "output_type": "display_data"
    }
   ],
   "source": [
    "x(\"0\");"
   ]
  },
  {
   "cell_type": "code",
   "execution_count": 20,
   "id": "38047809-4a3f-46f4-b846-2dcc685e3d46",
   "metadata": {},
   "outputs": [
    {
     "data": {
      "text/markdown": [
       "Thank you. And what time did you get out of bed?"
      ],
      "text/plain": [
       "<IPython.core.display.Markdown object>"
      ]
     },
     "metadata": {},
     "output_type": "display_data"
    }
   ],
   "source": [
    "x(\"4:15\");"
   ]
  },
  {
   "cell_type": "code",
   "execution_count": 21,
   "id": "7fa0c40e-b4be-47e6-afa9-3d11f172884e",
   "metadata": {},
   "outputs": [
    {
     "data": {
      "text/markdown": [
       "Thank you for that information. How would you rate your sleep quality? Please choose from \"very good\", \"good\", \"okay\", \"bad\", \"very bad\"."
      ],
      "text/plain": [
       "<IPython.core.display.Markdown object>"
      ]
     },
     "metadata": {},
     "output_type": "display_data"
    }
   ],
   "source": [
    "x(\"4:40\");"
   ]
  },
  {
   "cell_type": "code",
   "execution_count": 22,
   "id": "349b7341-b56b-4c33-bee3-722da01f1c65",
   "metadata": {},
   "outputs": [
    {
     "data": {
      "text/markdown": [
       "Thank you for sharing. Did you use any medications or aids to help you sleep?"
      ],
      "text/plain": [
       "<IPython.core.display.Markdown object>"
      ]
     },
     "metadata": {},
     "output_type": "display_data"
    }
   ],
   "source": [
    "x(\"good\");"
   ]
  },
  {
   "cell_type": "code",
   "execution_count": 23,
   "id": "836de99b-59b2-49a0-a36d-3dd6a58d2e59",
   "metadata": {},
   "outputs": [
    {
     "data": {
      "text/markdown": [
       "Alright. Do you have any other notes you'd like to add about your sleep on October 2nd?"
      ],
      "text/plain": [
       "<IPython.core.display.Markdown object>"
      ]
     },
     "metadata": {},
     "output_type": "display_data"
    }
   ],
   "source": [
    "x(\"no\");"
   ]
  },
  {
   "cell_type": "code",
   "execution_count": 24,
   "id": "0abe3959-c8f6-4234-a2e1-51c846b2141a",
   "metadata": {},
   "outputs": [
    {
     "data": {
      "text/markdown": [
       "Here is the summary of your sleep diary entry for October 2nd:\n",
       "\n",
       "- Time you went to bed: 21:15\n",
       "- Time you tried to fall asleep: 21:15\n",
       "- Time it took you to fall asleep: 5 minutes\n",
       "- Number of times you woke up during the night: 0\n",
       "- Total time you were awake during the night: 0 minutes\n",
       "- Final wake up time: 4:15\n",
       "- Time you got out of bed: 4:40\n",
       "- Sleep quality: Good\n",
       "- Medications or aids used: No\n",
       "- Other notes: Slept in the van\n",
       "\n",
       "Your sleep duration was 6 hours and 55 minutes, and your sleep efficiency was 93.26%, which is considered normal as it's over 85%.\n",
       "\n",
       "Can you please confirm if all the details are correct?"
      ],
      "text/plain": [
       "<IPython.core.display.Markdown object>"
      ]
     },
     "metadata": {},
     "output_type": "display_data"
    }
   ],
   "source": [
    "x(\"slept in the van\");"
   ]
  },
  {
   "cell_type": "code",
   "execution_count": 25,
   "id": "dfda3451-2f15-4ea4-8f28-23a17ef01a61",
   "metadata": {},
   "outputs": [
    {
     "name": "stdout",
     "output_type": "stream",
     "text": [
      "_to_args_and_kwargs self.name='save_sleep_diary_entry' all_args=['[\"2021-10-02\", \"21:15\", \"21:15\", 5, 0, 0, \"4:15\", \"4:40\", \"good\", \"no\", \"slept in the van\"]']\n",
      "parse_date date='2021-10-02'\n",
      "parse_date date='21:15'\n",
      "parse_date date='21:15'\n",
      "parse_date date='4:15'\n",
      "parse_date date='4:40'\n",
      "save_sleep_diary_entry entry=SleepDiaryEntry(date=datetime.datetime(2021, 10, 2, 0, 0), in_bed=datetime.datetime(2023, 10, 16, 21, 15), tried_to_fall_asleep=datetime.datetime(2023, 10, 16, 21, 15), time_to_fall_asleep=5, times_awake=0, time_awake=0, final_wake_up=datetime.datetime(2023, 10, 16, 4, 15), out_of_bed=datetime.datetime(2023, 10, 16, 4, 40), sleep_quality='good', medications='no', notes='slept in the van')\n"
     ]
    },
    {
     "data": {
      "text/markdown": [
       "Your sleep diary entry for October 2nd has been saved successfully. Here's the summary:\n",
       "\n",
       "- Time you went to bed: 21:15\n",
       "- Time you tried to fall asleep: 21:15\n",
       "- Time it took you to fall asleep: 5 minutes\n",
       "- Number of times you woke up during the night: 0\n",
       "- Total time you were awake during the night: 0 minutes\n",
       "- Final wake up time: 4:15\n",
       "- Time you got out of bed: 4:40\n",
       "- Sleep quality: Good\n",
       "- Medications or aids used: No\n",
       "- Other notes: Slept in the van\n",
       "- Sleep duration: 6 hours and 55 minutes\n",
       "- Sleep efficiency: 93.26% (which is considered normal as it's over 85%)\n",
       "\n",
       "🚀🚀🚀"
      ],
      "text/plain": [
       "<IPython.core.display.Markdown object>"
      ]
     },
     "metadata": {},
     "output_type": "display_data"
    }
   ],
   "source": [
    "x(\"yep!\");"
   ]
  },
  {
   "cell_type": "code",
   "execution_count": 15,
   "id": "b4fe53e4-616a-4f38-974c-beba229b2887",
   "metadata": {
    "scrolled": true
   },
   "outputs": [
    {
     "name": "stdout",
     "output_type": "stream",
     "text": [
      "_to_args_and_kwargs all_args=['sleep efficiency']\n"
     ]
    },
    {
     "data": {
      "text/markdown": [
       "Sleep efficiency refers to the percentage of total time spent in bed that is actually spent sleeping. It is calculated by dividing the total time spent asleep by the total time spent in bed, and then multiplying by 100 to get a percentage. For instance, in Amy's case mentioned in the knowledge provided, she was in bed for 10 hours but only asleep for 6 hours. Therefore, her sleep efficiency was 60% (6 / 10 X 100).\n",
       "\n",
       "Improving sleep efficiency can often involve using techniques such as bedtime restriction therapy. This involves limiting the time spent in bed to only the average sleep duration, which can help to increase the pressure to sleep. Over time, as sleep efficiency improves (for example, it reaches above 85%, which is generally considered healthy), the amount of time spent in bed can be gradually increased.\n",
       "\n",
       "Regular bedtimes are essential to improving sleep efficiency, and it can be counterproductive to go to bed earlier and earlier when struggling with sleep. Instead, setting an alarm for 1 hour before bedtime can help to reinforce a regular sleep schedule. It's also worth noting that while waking to an alarm can be beneficial in some cases, it is not recommended for those with healthy sleep patterns."
      ],
      "text/plain": [
       "<IPython.core.display.Markdown object>"
      ]
     },
     "metadata": {},
     "output_type": "display_data"
    }
   ],
   "source": [
    "x(\"is my sleep efficiency any good?\");"
   ]
  },
  {
   "cell_type": "markdown",
   "id": "3d678882-b636-4b4a-9cbf-ba0aeecee54f",
   "metadata": {},
   "source": [
    "## Try retrieving an entry"
   ]
  },
  {
   "cell_type": "code",
   "execution_count": 16,
   "id": "b78321c9-5722-4d8d-8b91-a7f11265141e",
   "metadata": {},
   "outputs": [
    {
     "name": "stdout",
     "output_type": "stream",
     "text": [
      "get_agent len(tools)=28\n",
      "load_memory filename='/Users/cck197/Downloads/virtual_greg/memory.pkl'\n",
      "_to_args_and_kwargs self.name='get_greeting' all_args=['Chris']\n"
     ]
    },
    {
     "data": {
      "text/markdown": [
       "Hello Chris, it's nice to have you here. Now, is it a good time for you to record a sleep diary entry?"
      ],
      "text/plain": [
       "<IPython.core.display.Markdown object>"
      ]
     },
     "metadata": {},
     "output_type": "display_data"
    }
   ],
   "source": [
    "x = X(goals[\"diary_entry_retrieval\"]);"
   ]
  },
  {
   "cell_type": "code",
   "execution_count": 17,
   "id": "4bd9570b-1148-4510-9572-e7d97914e6e0",
   "metadata": {},
   "outputs": [
    {
     "name": "stdout",
     "output_type": "stream",
     "text": [
      "_to_args_and_kwargs self.name='get_sleep_diary_dates' all_args=['chris@nourishbalancethrive.com']\n"
     ]
    },
    {
     "data": {
      "text/markdown": [
       "Here are the dates for all your sleep diary entries:\n",
       "\n",
       "- March 1, 2022\n",
       "- October 15, 2023\n",
       "\n",
       "Would you like to view or add an entry?"
      ],
      "text/plain": [
       "<IPython.core.display.Markdown object>"
      ]
     },
     "metadata": {},
     "output_type": "display_data"
    }
   ],
   "source": [
    "x(\"list the dates for all my sleep diary entries\");"
   ]
  },
  {
   "cell_type": "code",
   "execution_count": 18,
   "id": "682b345b-cff7-41c1-8f03-8c0fb6c0f0da",
   "metadata": {},
   "outputs": [
    {
     "name": "stdout",
     "output_type": "stream",
     "text": [
      "_to_args_and_kwargs all_args=['string']\n",
      "get_last_sleep_diary_entry entry={'_id': ObjectId('652d6aa1a5710623d69bf641'), 'user': ObjectId('6526d86e6015be5b3434ac13'), 'date': datetime.datetime(2023, 10, 15, 9, 53, 53, 770000), 'in_bed': datetime.datetime(2023, 10, 15, 21, 15), 'tried_to_fall_asleep': datetime.datetime(2023, 10, 15, 21, 15), 'time_to_fall_asleep': 5, 'times_awake': 0, 'time_awake': 0, 'final_wake_up': datetime.datetime(2023, 10, 16, 4, 15), 'out_of_bed': datetime.datetime(2023, 10, 16, 4, 40), 'sleep_quality': 'good', 'medications': 'no meds, slept in the van', 'notes': ''}\n"
     ]
    },
    {
     "data": {
      "text/markdown": [
       "Here's a summary of your last sleep diary entry from October 15, 2023:\n",
       "\n",
       "- You went to bed at 21:15 and tried to fall asleep at the same time.\n",
       "- It took you 5 minutes to fall asleep.\n",
       "- You didn't wake up during the night.\n",
       "- You woke up at 4:15 and got out of bed at 4:40.\n",
       "- You rated your sleep quality as \"good\".\n",
       "- You didn't use any sleep aids.\n",
       "- You noted that you slept in the van.\n",
       "\n",
       "Your sleep duration was 6 hours and 55 minutes, and your sleep efficiency was 93.26%. This is considered normal as it's over 85%.\n",
       "\n",
       "Let me know if there's anything else you'd like to do. 🚀🚀🚀"
      ],
      "text/plain": [
       "<IPython.core.display.Markdown object>"
      ]
     },
     "metadata": {},
     "output_type": "display_data"
    }
   ],
   "source": [
    "x(\"summarise my last sleep diary entry\");"
   ]
  },
  {
   "cell_type": "code",
   "execution_count": 7,
   "id": "ea242537-1105-411c-a22c-a44e46400cd4",
   "metadata": {},
   "outputs": [
    {
     "data": {
      "text/markdown": [
       "Here is the summary of your sleep diary entry for September 1, 2023:\n",
       "\n",
       "- Time you got into bed: 9:00 PM\n",
       "- Time you tried to fall asleep: 9:00 PM\n",
       "- Time it took you to fall asleep: 5 minutes\n",
       "- Number of times you woke up (not counting your final awakening): 5 times\n",
       "- Total amount of time you spent awake: 50 minutes\n",
       "- Time of your final awakening: 6:30 AM\n",
       "- Time you got out of bed: 6:30 AM\n",
       "- Quality of your sleep: Okay\n",
       "- Medications or aids used: None\n",
       "- Notes about your sleep: Sneezing\n",
       "\n",
       "Sleep duration: 8 hours and 35 minutes\n",
       "Sleep efficiency: 90.35% (anything over 85% is considered normal)\n",
       "\n",
       "🚀🚀🚀"
      ],
      "text/plain": [
       "<IPython.core.display.Markdown object>"
      ]
     },
     "metadata": {},
     "output_type": "display_data"
    }
   ],
   "source": [
    "x(\"summarise my sleep diary entry for sep 1, 2023\");"
   ]
  },
  {
   "cell_type": "markdown",
   "id": "63998458-9a27-4625-9582-c38d692484e5",
   "metadata": {},
   "source": [
    "# Insomnia Severity Index (ISI)"
   ]
  },
  {
   "cell_type": "code",
   "execution_count": 26,
   "id": "e7788582-abe5-4638-ad85-5476ed9eefa5",
   "metadata": {},
   "outputs": [
    {
     "name": "stdout",
     "output_type": "stream",
     "text": [
      "get_agent len(tools)=28\n",
      "load_memory filename='/Users/cck197/Downloads/virtual_greg/memory.pkl'\n",
      "_to_args_and_kwargs self.name='get_greeting' all_args=['hey']\n"
     ]
    },
    {
     "data": {
      "text/markdown": [
       "Hello Chris, I hope you're doing well. Is now a good time to record a sleep diary entry?"
      ],
      "text/plain": [
       "<IPython.core.display.Markdown object>"
      ]
     },
     "metadata": {},
     "output_type": "display_data"
    }
   ],
   "source": [
    "x = X(goals[\"insomnia_severity_index\"]);"
   ]
  },
  {
   "cell_type": "code",
   "execution_count": 27,
   "id": "eaab2bae-6f25-4e5e-a1b6-a67bd1ab1a33",
   "metadata": {},
   "outputs": [
    {
     "name": "stdout",
     "output_type": "stream",
     "text": [
      "_to_args_and_kwargs self.name='get_isi_dates' all_args=['Chris']\n"
     ]
    },
    {
     "data": {
      "text/markdown": [
       "You have one Insomnia Severity Index (ISI) entry recorded on October 16, 2023. Would you like to add a new entry for today?"
      ],
      "text/plain": [
       "<IPython.core.display.Markdown object>"
      ]
     },
     "metadata": {},
     "output_type": "display_data"
    }
   ],
   "source": [
    "x(\"list the dates for all my ISI entries\");"
   ]
  },
  {
   "cell_type": "code",
   "execution_count": 28,
   "id": "02c85ad7-7ea8-4edc-9d78-192f8f4a0bb6",
   "metadata": {},
   "outputs": [
    {
     "name": "stdout",
     "output_type": "stream",
     "text": [
      "_to_args_and_kwargs self.name='get_date' all_args=[]\n"
     ]
    },
    {
     "data": {
      "text/markdown": [
       "Alright, let's record your Insomnia Severity Index (ISI) for October 15, 2023. \n",
       "\n",
       "1. On a scale of 0 to 4, how would you rate your difficulty falling asleep? Here's the scale for your reference:\n",
       "0: None\n",
       "1: Mild\n",
       "2: Moderate\n",
       "3: Severe\n",
       "4: Very severe"
      ],
      "text/plain": [
       "<IPython.core.display.Markdown object>"
      ]
     },
     "metadata": {},
     "output_type": "display_data"
    }
   ],
   "source": [
    "x(\"no let's do one for yesterday\");"
   ]
  },
  {
   "cell_type": "code",
   "execution_count": 4,
   "id": "1d631fdc-61c8-4943-85a6-a91e78820b2e",
   "metadata": {
    "collapsed": true,
    "jupyter": {
     "outputs_hidden": true
    },
    "scrolled": true
   },
   "outputs": [
    {
     "data": {
      "text/markdown": [
       "I hear you, Chris. It's understandable to feel tired, especially considering the demands of life. Would now be a good time to go over a quick questionnaire about your sleep? It may help us understand more about your sleep patterns."
      ],
      "text/plain": [
       "<IPython.core.display.Markdown object>"
      ]
     },
     "metadata": {},
     "output_type": "display_data"
    }
   ],
   "source": [
    "x(\"bit tired\");"
   ]
  },
  {
   "cell_type": "code",
   "execution_count": 5,
   "id": "890d71df-4c05-4e8d-a2cd-70188412c56a",
   "metadata": {
    "scrolled": true
   },
   "outputs": [
    {
     "data": {
      "text/markdown": [
       "I hear that you have been dealing with some sleep issues recently. Could you tell me more about your experience?"
      ],
      "text/plain": [
       "<IPython.core.display.Markdown object>"
      ]
     },
     "metadata": {},
     "output_type": "display_data"
    }
   ],
   "source": [
    "x(\"yeah, exactly\");"
   ]
  },
  {
   "cell_type": "code",
   "execution_count": 4,
   "id": "b3f6e408-faa3-4b37-9c01-9a62a220fd6d",
   "metadata": {},
   "outputs": [
    {
     "data": {
      "text/markdown": [
       "Great, let's proceed with the Insomnia Severity Index (ISI) questionnaire. Today's date is October 13, 2023. \n",
       "\n",
       "1. Difficulty falling asleep: Please rate your difficulty on a scale from 0 to 4, where 0 is none and 4 is very severe."
      ],
      "text/plain": [
       "<IPython.core.display.Markdown object>"
      ]
     },
     "metadata": {},
     "output_type": "display_data"
    }
   ],
   "source": [
    "x(\"let's do the ISI\");"
   ]
  },
  {
   "cell_type": "code",
   "execution_count": 32,
   "id": "fce8e388-16b3-4ac9-95c7-d2777452fbea",
   "metadata": {
    "collapsed": true,
    "jupyter": {
     "outputs_hidden": true
    }
   },
   "outputs": [
    {
     "data": {
      "text/markdown": [
       "The Insomnia Severity Index (ISI) is a tool used to measure a person's perception of their insomnia. It helps to understand the severity of sleep onset, sleep maintenance, early morning awakening issues, sleep dissatisfaction, interference of sleep difficulties with daytime functioning, noticeability of sleep problems by others, and distress caused by the sleep difficulties. \n",
       "\n",
       "The questionnaire is not a diagnostic tool, but it can be very useful in tracking changes in your insomnia over time and can help to evaluate the effectiveness of treatment. It's a standard tool used in many sleep studies and clinical practices."
      ],
      "text/plain": [
       "<IPython.core.display.Markdown object>"
      ]
     },
     "metadata": {},
     "output_type": "display_data"
    }
   ],
   "source": [
    "x(\"what's the questionnaire for?\");"
   ]
  },
  {
   "cell_type": "code",
   "execution_count": 5,
   "id": "256f31f6-d8ab-4c0a-ae36-d55d00788e7a",
   "metadata": {},
   "outputs": [
    {
     "name": "stdout",
     "output_type": "stream",
     "text": [
      "_to_args_and_kwargs self.name='get_date' all_args=[]\n"
     ]
    },
    {
     "data": {
      "text/markdown": [
       "Great, let's start with the Insomnia Severity Index (ISI) questionnaire. Today's date is October 16, 2023, and this will be the date of entry.\n",
       "\n",
       "1. On a scale from 0 to 4, how would you rate your difficulty falling asleep? Here's the scale for reference:\n",
       "0: None\n",
       "1: Mild\n",
       "2: Moderate\n",
       "3: Severe\n",
       "4: Very severe"
      ],
      "text/plain": [
       "<IPython.core.display.Markdown object>"
      ]
     },
     "metadata": {},
     "output_type": "display_data"
    }
   ],
   "source": [
    "x(\"ok\");"
   ]
  },
  {
   "cell_type": "code",
   "execution_count": 6,
   "id": "ba8b9372-da31-40d0-a5c5-d9eda30adf10",
   "metadata": {},
   "outputs": [
    {
     "data": {
      "text/markdown": [
       "It sounds like you're finding it challenging to maintain your sleep throughout the night. This must be quite frustrating for you, especially when you're trying to get a good night's rest. Would now be a good time to go through the Insomnia Severity Index questionnaire?"
      ],
      "text/plain": [
       "<IPython.core.display.Markdown object>"
      ]
     },
     "metadata": {},
     "output_type": "display_data"
    }
   ],
   "source": [
    "x(\"yeah, trouble staying asleep\");"
   ]
  },
  {
   "cell_type": "code",
   "execution_count": 7,
   "id": "692b01c9-4854-41f1-967a-49418558358d",
   "metadata": {},
   "outputs": [
    {
     "name": "stdout",
     "output_type": "stream",
     "text": [
      "_to_args_and_kwargs all_args=[]\n"
     ]
    },
    {
     "data": {
      "text/markdown": [
       "Great, let's start with the Insomnia Severity Index (ISI) questionnaire for today, October 16, 2023.\n",
       "\n",
       "Question 1: How severe is your difficulty falling asleep? Please rate on a scale from 0 to 4:\n",
       "0: None\n",
       "1: Mild\n",
       "2: Moderate\n",
       "3: Severe\n",
       "4: Very severe"
      ],
      "text/plain": [
       "<IPython.core.display.Markdown object>"
      ]
     },
     "metadata": {},
     "output_type": "display_data"
    }
   ],
   "source": [
    "x(\"ok\");"
   ]
  },
  {
   "cell_type": "code",
   "execution_count": 29,
   "id": "03e3cc9d-5094-47da-b54c-295e08297966",
   "metadata": {},
   "outputs": [
    {
     "data": {
      "text/markdown": [
       "Thank you. \n",
       "\n",
       "2. On the same scale (0 to 4), how would you rate your difficulty staying asleep?\n",
       "0: None\n",
       "1: Mild\n",
       "2: Moderate\n",
       "3: Severe\n",
       "4: Very severe"
      ],
      "text/plain": [
       "<IPython.core.display.Markdown object>"
      ]
     },
     "metadata": {},
     "output_type": "display_data"
    }
   ],
   "source": [
    "x(\"1\");"
   ]
  },
  {
   "cell_type": "code",
   "execution_count": 30,
   "id": "057f7b56-a054-4417-a8d4-aa95ec5b4ac1",
   "metadata": {
    "scrolled": true
   },
   "outputs": [
    {
     "data": {
      "text/markdown": [
       "Thank you. \n",
       "\n",
       "3. On the same scale (0 to 4), how would you rate your problems with waking up too early?\n",
       "0: None\n",
       "1: Mild\n",
       "2: Moderate\n",
       "3: Severe\n",
       "4: Very severe"
      ],
      "text/plain": [
       "<IPython.core.display.Markdown object>"
      ]
     },
     "metadata": {},
     "output_type": "display_data"
    }
   ],
   "source": [
    "x(\"1\");"
   ]
  },
  {
   "cell_type": "code",
   "execution_count": 31,
   "id": "6d08c148-59a3-4d10-9a19-ea73fa15d079",
   "metadata": {},
   "outputs": [
    {
     "data": {
      "text/markdown": [
       "Thank you for your responses. Here's the summary of your Insomnia Severity Index (ISI) for October 15, 2023:\n",
       "\n",
       "1. Difficulty falling asleep: Mild (1)\n",
       "2. Difficulty staying asleep: Mild (1)\n",
       "3. Problems waking up too early: Mild (1)\n",
       "4. Satisfaction with current sleep pattern: Satisfied (1)\n",
       "5. Noticeability of sleep problem in terms of impairing quality of life: A little bit (1)\n",
       "6. Worried/distressed about current sleep problem: A little bit (1)\n",
       "7. Interference of sleep problem with daily functioning: A little bit (1)\n",
       "\n",
       "The total score is 7, which indicates no clinically significant insomnia. \n",
       "\n",
       "Can you please confirm if all the details are correct?"
      ],
      "text/plain": [
       "<IPython.core.display.Markdown object>"
      ]
     },
     "metadata": {},
     "output_type": "display_data"
    }
   ],
   "source": [
    "x(\"all the remaining answers are 1\");"
   ]
  },
  {
   "cell_type": "code",
   "execution_count": 32,
   "id": "7f357c1a-3625-4117-91d4-49d24b7adc99",
   "metadata": {},
   "outputs": [
    {
     "name": "stdout",
     "output_type": "stream",
     "text": [
      "_to_args_and_kwargs self.name='save_isi_entry' all_args=['October 15, 2023']\n",
      "parse_date date='October 15, 2023'\n",
      "save_isi_entry entry=ISIEntry(date=datetime.datetime(2023, 10, 15, 0, 0), difficulty_falling_asleep=1, difficulty_staying_asleep=1, problems_waking_up_too_early=1, sleep_pattern_satisfaction=1, sleep_problem_noticeability=1, sleep_problem_worry=1, sleep_problem_interference=1)\n"
     ]
    },
    {
     "data": {
      "text/markdown": [
       "Your Insomnia Severity Index (ISI) for October 15, 2023, has been saved successfully. Here's the summary:\n",
       "\n",
       "1. Difficulty falling asleep: Mild (1)\n",
       "2. Difficulty staying asleep: Mild (1)\n",
       "3. Problems waking up too early: Mild (1)\n",
       "4. Satisfaction with current sleep pattern: Satisfied (1)\n",
       "5. Noticeability of sleep problem in terms of impairing quality of life: A little bit (1)\n",
       "6. Worried/distressed about current sleep problem: A little bit (1)\n",
       "7. Interference of sleep problem with daily functioning: A little bit (1)\n",
       "\n",
       "The total score is 7, which indicates no clinically significant insomnia. \n",
       "\n",
       "🚀🚀🚀"
      ],
      "text/plain": [
       "<IPython.core.display.Markdown object>"
      ]
     },
     "metadata": {},
     "output_type": "display_data"
    }
   ],
   "source": [
    "x(\"yep!\");"
   ]
  },
  {
   "cell_type": "code",
   "execution_count": 33,
   "id": "a9ba4929-6c86-4fdf-8693-91bb5516d261",
   "metadata": {},
   "outputs": [
    {
     "name": "stdout",
     "output_type": "stream",
     "text": [
      "_to_args_and_kwargs self.name='get_last_isi_entry' all_args=['Chris']\n",
      "get_last_isi_entry entry={'_id': ObjectId('652d7d296bc24b57c501e061'), 'user': ObjectId('6526d86e6015be5b3434ac13'), 'date': datetime.datetime(2023, 10, 16, 0, 0), 'difficulty_falling_asleep': 1, 'difficulty_staying_asleep': 1, 'problems_waking_up_too_early': 1, 'sleep_pattern_satisfaction': 1, 'sleep_problem_noticeability': 1, 'sleep_problem_worry': 1, 'sleep_problem_interference': 1}\n"
     ]
    },
    {
     "data": {
      "text/markdown": [
       "Here's the summary of your last Insomnia Severity Index (ISI) entry on October 16, 2023:\n",
       "\n",
       "1. Difficulty falling asleep: Mild (1)\n",
       "2. Difficulty staying asleep: Mild (1)\n",
       "3. Problems waking up too early: Mild (1)\n",
       "4. Satisfaction with current sleep pattern: Satisfied (1)\n",
       "5. Noticeability of sleep problem in terms of impairing quality of life: A little bit (1)\n",
       "6. Worried/distressed about current sleep problem: A little bit (1)\n",
       "7. Interference of sleep problem with daily functioning: A little bit (1)\n",
       "\n",
       "The total score is 7, which indicates no clinically significant insomnia. \n",
       "\n",
       "Would you like to add a new entry for today?"
      ],
      "text/plain": [
       "<IPython.core.display.Markdown object>"
      ]
     },
     "metadata": {},
     "output_type": "display_data"
    }
   ],
   "source": [
    "x(\"summarise my ISI last entry\"); "
   ]
  },
  {
   "cell_type": "code",
   "execution_count": 34,
   "id": "8ffb9e99-95b5-4c99-b87a-75aed5eb9071",
   "metadata": {},
   "outputs": [
    {
     "name": "stdout",
     "output_type": "stream",
     "text": [
      "_to_args_and_kwargs self.name='get_date_isi_diary_entry' all_args=['2023-10-15']\n",
      "parse_date date='2023-10-15'\n"
     ]
    },
    {
     "data": {
      "text/markdown": [
       "Here's the summary of your Insomnia Severity Index (ISI) entry for October 15, 2023:\n",
       "\n",
       "1. Difficulty falling asleep: Mild (1)\n",
       "2. Difficulty staying asleep: Mild (1)\n",
       "3. Problems waking up too early: Mild (1)\n",
       "4. Satisfaction with current sleep pattern: Satisfied (1)\n",
       "5. Noticeability of sleep problem in terms of impairing quality of life: A little bit (1)\n",
       "6. Worried/distressed about current sleep problem: A little bit (1)\n",
       "7. Interference of sleep problem with daily functioning: A little bit (1)\n",
       "\n",
       "The total score is 7, which indicates no clinically significant insomnia. \n",
       "\n",
       "Would you like to add a new entry for today?"
      ],
      "text/plain": [
       "<IPython.core.display.Markdown object>"
      ]
     },
     "metadata": {},
     "output_type": "display_data"
    }
   ],
   "source": [
    "x(\"no, summarise the entry for the day before\");"
   ]
  },
  {
   "cell_type": "code",
   "execution_count": null,
   "id": "2d57dae7-1aff-478f-9b6e-0d5c189ddd7a",
   "metadata": {},
   "outputs": [],
   "source": []
  }
 ],
 "metadata": {
  "kernelspec": {
   "display_name": "Python 3 (ipykernel)",
   "language": "python",
   "name": "python3"
  },
  "language_info": {
   "codemirror_mode": {
    "name": "ipython",
    "version": 3
   },
   "file_extension": ".py",
   "mimetype": "text/x-python",
   "name": "python",
   "nbconvert_exporter": "python",
   "pygments_lexer": "ipython3",
   "version": "3.11.5"
  }
 },
 "nbformat": 4,
 "nbformat_minor": 5
}
