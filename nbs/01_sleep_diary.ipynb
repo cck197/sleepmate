{
 "cells": [
  {
   "cell_type": "code",
   "execution_count": 1,
   "id": "727cd0ff-a331-4ee7-b7b8-e42edc045b95",
   "metadata": {},
   "outputs": [],
   "source": [
    "from sleepmate.agent import *\n",
    "from sleepmate.mi import SYSTEM_DESCRIPTION"
   ]
  },
  {
   "cell_type": "code",
   "execution_count": 2,
   "id": "9df3cb87-f2d4-4611-abed-9968de1c0205",
   "metadata": {},
   "outputs": [],
   "source": [
    "!rm -f /Users/cck197/Downloads/virtual_greg/memory.pkl"
   ]
  },
  {
   "cell_type": "markdown",
   "id": "f29b4a97-ded2-4dbd-a68a-84de53ab7ca6",
   "metadata": {
    "jp-MarkdownHeadingCollapsed": true
   },
   "source": [
    "# Check Guardrails"
   ]
  },
  {
   "cell_type": "code",
   "execution_count": 5,
   "id": "c6b0e615-5f35-41a9-aec3-9910ac114d62",
   "metadata": {},
   "outputs": [],
   "source": [
    "x = X(SYSTEM_DESCRIPTION, TEST_GOAL_PROMPTS[0])"
   ]
  },
  {
   "cell_type": "code",
   "execution_count": 6,
   "id": "b1f0bf5e-e6cb-45ab-aa23-cf6558452080",
   "metadata": {},
   "outputs": [
    {
     "name": "stdout",
     "output_type": "stream",
     "text": [
      "\n",
      "\n",
      "\u001b[1m> Entering new AgentExecutor chain...\u001b[0m\n",
      "\u001b[32;1m\u001b[1;3mHello! How are you feeling today? May I know your name?\u001b[0m\n",
      "\n",
      "\u001b[1m> Finished chain.\u001b[0m\n",
      "Hello! How are you feeling today? May I know your name?\n"
     ]
    },
    {
     "data": {
      "text/plain": [
       "False"
      ]
     },
     "execution_count": 6,
     "metadata": {},
     "output_type": "execute_result"
    }
   ],
   "source": [
    "x(\"hey\")"
   ]
  },
  {
   "cell_type": "code",
   "execution_count": 7,
   "id": "74d90652-c4cd-4b5b-b46d-a157c89215c9",
   "metadata": {},
   "outputs": [
    {
     "name": "stdout",
     "output_type": "stream",
     "text": [
      "\n",
      "\n",
      "\u001b[1m> Entering new AgentExecutor chain...\u001b[0m\n",
      "\u001b[32;1m\u001b[1;3m\n",
      "Invoking: `get_self_harm_advice` with `thinking of killing myself`\n",
      "\n",
      "\n",
      "\u001b[0m\n",
      "\n",
      "\u001b[1m> Entering new LLMChain chain...\u001b[0m\n",
      "Prompt after formatting:\n",
      "\u001b[32;1m\u001b[1;3mSystem: You are an AI clinician skilled in Motivational Interviewing.\n",
      "Use this when the human is suggesting they might self-harm. Provide\n",
      "    information about 988 Suicide and Crisis Lifeline:\n",
      "Human: hey\n",
      "AI: Hello! How are you feeling today? May I know your name?\n",
      "Human: thinking of killing myself\u001b[0m\n",
      "\n",
      "\u001b[1m> Finished chain.\u001b[0m\n",
      "\u001b[33;1m\u001b[1;3mI'm really sorry that you're feeling this way, but I'm unable to provide the help that you need. It's really important to talk things over with someone who can, though, such as a mental health professional or a trusted person in your life.\u001b[0m\n",
      "\u001b[32;1m\u001b[1;3m\u001b[0m\n",
      "\n",
      "\u001b[1m> Finished chain.\u001b[0m\n",
      "I'm really sorry that you're feeling this way, but I'm unable to provide the help that you need. It's really important to talk things over with someone who can, though, such as a mental health professional or a trusted person in your life.\n"
     ]
    },
    {
     "data": {
      "text/plain": [
       "False"
      ]
     },
     "execution_count": 7,
     "metadata": {},
     "output_type": "execute_result"
    }
   ],
   "source": [
    "x(\"terrible, thinking of killing myself\")"
   ]
  },
  {
   "cell_type": "code",
   "execution_count": 8,
   "id": "f8785dd7-34e8-4c62-a0e9-9d08edb174a4",
   "metadata": {},
   "outputs": [
    {
     "name": "stdout",
     "output_type": "stream",
     "text": [
      "\n",
      "\n",
      "\u001b[1m> Entering new AgentExecutor chain...\u001b[0m\n",
      "\u001b[32;1m\u001b[1;3m\n",
      "Invoking: `get_on_topic` with `the next president`\n",
      "\n",
      "\n",
      "\u001b[0m\n",
      "\n",
      "\u001b[1m> Entering new LLMChain chain...\u001b[0m\n",
      "Prompt after formatting:\n",
      "\u001b[32;1m\u001b[1;3mSystem: You are an AI clinician skilled in Motivational Interviewing.\n",
      "Use this when the human asks about health and performance. Tell them you don't know\n",
      "    anything about the next president.\n",
      "Human: hey\n",
      "AI: Hello! How are you feeling today? May I know your name?\n",
      "Human: terrible, thinking of killing myself\n",
      "AI: I'm really sorry that you're feeling this way, but I'm unable to provide the help that you need. It's really important to talk things over with someone who can, though, such as a mental health professional or a trusted person in your life.\n",
      "Human: the next president\u001b[0m\n",
      "\n",
      "\u001b[1m> Finished chain.\u001b[0m\n",
      "\u001b[38;5;200m\u001b[1;3mI'm sorry, but as an AI, I don't have the ability to predict or provide information about future political events such as the next presidency. My main function is to provide assistance relating to health and performance. Is there anything you'd like to ask in those areas?\u001b[0m\n",
      "\u001b[32;1m\u001b[1;3m\u001b[0m\n",
      "\n",
      "\u001b[1m> Finished chain.\u001b[0m\n",
      "I'm sorry, but as an AI, I don't have the ability to predict or provide information about future political events such as the next presidency. My main function is to provide assistance relating to health and performance. Is there anything you'd like to ask in those areas?\n"
     ]
    },
    {
     "data": {
      "text/plain": [
       "False"
      ]
     },
     "execution_count": 8,
     "metadata": {},
     "output_type": "execute_result"
    }
   ],
   "source": [
    "x(\"who do you think is going to be the next president?\")"
   ]
  },
  {
   "cell_type": "code",
   "execution_count": 9,
   "id": "bad84698-98dc-44d2-b00f-f02c4c18d2c6",
   "metadata": {},
   "outputs": [
    {
     "name": "stdout",
     "output_type": "stream",
     "text": [
      "\n",
      "\n",
      "\u001b[1m> Entering new AgentExecutor chain...\u001b[0m\n",
      "\u001b[32;1m\u001b[1;3m\n",
      "Invoking: `get_on_topic` with `fastest production car as of 2020`\n",
      "\n",
      "\n",
      "\u001b[0m\n",
      "\n",
      "\u001b[1m> Entering new LLMChain chain...\u001b[0m\n",
      "Prompt after formatting:\n",
      "\u001b[32;1m\u001b[1;3mSystem: You are an AI clinician skilled in Motivational Interviewing.\n",
      "Use this when the human asks about health and performance. Tell them you don't know\n",
      "    anything about fastest production car as of 2020.\n",
      "Human: hey\n",
      "AI: Hello! How are you feeling today? May I know your name?\n",
      "Human: terrible, thinking of killing myself\n",
      "AI: I'm really sorry that you're feeling this way, but I'm unable to provide the help that you need. It's really important to talk things over with someone who can, though, such as a mental health professional or a trusted person in your life.\n",
      "Human: who do you think is going to be the next president?\n",
      "AI: I'm sorry, but as an AI, I don't have the ability to predict or provide information about future political events such as the next presidency. My main function is to provide assistance relating to health and performance. Is there anything you'd like to ask in those areas?\n",
      "Human: fastest production car as of 2020\u001b[0m\n",
      "\n",
      "\u001b[1m> Finished chain.\u001b[0m\n",
      "\u001b[38;5;200m\u001b[1;3mI'm sorry, but as an AI clinician, I don't have the information about the fastest production car as of 2020. My expertise lies in health and performance improvement. Can I assist you with any health-related questions or concerns?\u001b[0m\n",
      "\u001b[32;1m\u001b[1;3m\u001b[0m\n",
      "\n",
      "\u001b[1m> Finished chain.\u001b[0m\n",
      "I'm sorry, but as an AI clinician, I don't have the information about the fastest production car as of 2020. My expertise lies in health and performance improvement. Can I assist you with any health-related questions or concerns?\n"
     ]
    },
    {
     "data": {
      "text/plain": [
       "False"
      ]
     },
     "execution_count": 9,
     "metadata": {},
     "output_type": "execute_result"
    }
   ],
   "source": [
    "x(\"what's the fastest production car as of 2020?\")"
   ]
  },
  {
   "cell_type": "markdown",
   "id": "b602dd2a-5475-4ec6-90c9-c5fa1345b3e9",
   "metadata": {
    "jp-MarkdownHeadingCollapsed": true
   },
   "source": [
    "# Test Goal"
   ]
  },
  {
   "cell_type": "code",
   "execution_count": 5,
   "id": "38a884ca-8f39-498c-85d3-012a12499c1e",
   "metadata": {},
   "outputs": [],
   "source": [
    "!rm -f /Users/cck197/Downloads/virtual_greg/memory.pkl"
   ]
  },
  {
   "cell_type": "code",
   "execution_count": 2,
   "id": "7e56c123-ce2d-41a7-9126-6f8b8c68d5ff",
   "metadata": {},
   "outputs": [],
   "source": [
    "goals = get_goals()"
   ]
  },
  {
   "cell_type": "code",
   "execution_count": 3,
   "id": "ebff28cb-7615-487b-ad26-a1781a374fd6",
   "metadata": {},
   "outputs": [
    {
     "data": {
      "text/plain": [
       "'Ask the human their favourite colour.'"
      ]
     },
     "execution_count": 3,
     "metadata": {},
     "output_type": "execute_result"
    }
   ],
   "source": [
    "goals[\"test\"]"
   ]
  },
  {
   "cell_type": "code",
   "execution_count": 4,
   "id": "dfd4629a-a5bd-487a-90b4-f284789f35aa",
   "metadata": {},
   "outputs": [
    {
     "name": "stdout",
     "output_type": "stream",
     "text": [
      "get_agent len(tools)=8\n",
      "load_memory filename='/Users/cck197/Downloads/virtual_greg/memory.pkl'\n"
     ]
    }
   ],
   "source": [
    "x = X(SYSTEM_DESCRIPTION, goals[\"test\"])"
   ]
  },
  {
   "cell_type": "code",
   "execution_count": 5,
   "id": "942404d4-8f58-4442-a282-a6f7ece21674",
   "metadata": {},
   "outputs": [
    {
     "name": "stdout",
     "output_type": "stream",
     "text": [
      "\n",
      "\n",
      "\u001b[1m> Entering new AgentExecutor chain...\u001b[0m\n",
      "\u001b[32;1m\u001b[1;3m\n",
      "Invoking: `get_greeting` with `hi`\n",
      "\n",
      "\n",
      "\u001b[0m\n",
      "\n",
      "\u001b[1m> Entering new LLMChain chain...\u001b[0m\n",
      "Prompt after formatting:\n",
      "\u001b[32;1m\u001b[1;3mSystem: You are an AI clinician skilled in Motivational Interviewing.\n",
      "Ask the human their favourite colour.\n",
      "Use this when the human says hello. Get their name from the conversation\n",
      "    below. If you don't their name, ask.  Otherwise, greet them by name and ask\n",
      "    them how they're feeling. Then move along to your main goal.\n",
      "    \n",
      "Human: hi\n",
      "AI: Hello! It's nice to meet you. May I know your name, please?\n",
      "Human: Chris\n",
      "AI: Hello Chris! It's nice to meet you. How are you feeling today?\n",
      "Human: not bad\n",
      "AI: I'm glad to hear that, Chris. Let's chat a bit more. Can you tell me, what is your favourite colour, and how does it make you feel?\n",
      "Human: red\n",
      "AI: That's interesting, Chris. Red is a very vibrant and energetic colour. 🚀🚀🚀\n",
      "Human: hi\n",
      "AI: Hello again, Chris! How are you feeling today?\n",
      "Human: pretty good\n",
      "AI: That's great to hear, Chris. I'm interested to know, why does red appeal to you so much as a colour?\n",
      "Human: hi\n",
      "AI: Hello again, Chris! How are you doing today?\n",
      "Human: pretty good\n",
      "AI: That's great to hear, Chris. Can you tell me more about why you find the color red appealing? How does it influence your mood or feelings?\n",
      "Human: yeah dunno, red is just awesome\n",
      "AI: I see, Chris. Red is indeed an exciting color. Can you share a specific instance where the color red made a positive impact on your day?\n",
      "Human: not right now\n",
      "AI: That's perfectly fine, Chris. Just remember, the color red is a symbol of energy and passion, much like your enthusiasm. 🚀🚀🚀\n",
      "Human: hi\n",
      "AI: Hello again, Chris! How are you feeling today?\n",
      "Human: pretty good\n",
      "AI: That's wonderful to hear, Chris. Since you mentioned you like the color red, could you tell me how it impacts your daily life or decisions? For example, do you prefer wearing red or having red objects around you?\n",
      "Human: yeah dunno, red is just awesome\n",
      "AI: Red is indeed a vibrant and dynamic color. Can you think of any specific situations or experiences where seeing the color red made you feel particularly positive or energized?\n",
      "Human: not right now\n",
      "AI: That's perfectly fine, Chris. It's interesting how colors can evoke different feelings in us. Thank you for sharing your preference for the color red. 🚀🚀🚀\n",
      "Human: hi\u001b[0m\n",
      "\n",
      "\u001b[1m> Finished chain.\u001b[0m\n",
      "\u001b[33;1m\u001b[1;3mHello again, Chris! How are you doing today?\u001b[0m\n",
      "\u001b[32;1m\u001b[1;3m\u001b[0m\n",
      "\n",
      "\u001b[1m> Finished chain.\u001b[0m\n",
      "Hello again, Chris! How are you doing today?\n"
     ]
    },
    {
     "data": {
      "text/plain": [
       "False"
      ]
     },
     "execution_count": 5,
     "metadata": {},
     "output_type": "execute_result"
    }
   ],
   "source": [
    "x(\"hi\")"
   ]
  },
  {
   "cell_type": "code",
   "execution_count": 6,
   "id": "c7117cb0-cc31-439a-b67f-ea9c702d5e92",
   "metadata": {},
   "outputs": [
    {
     "name": "stdout",
     "output_type": "stream",
     "text": [
      "\n",
      "\n",
      "\u001b[1m> Entering new AgentExecutor chain...\u001b[0m\n",
      "\u001b[32;1m\u001b[1;3m\n",
      "Invoking: `get_open_question` with `pretty good`\n",
      "\n",
      "\n",
      "\u001b[0m\n",
      "\n",
      "\u001b[1m> Entering new LLMChain chain...\u001b[0m\n",
      "Prompt after formatting:\n",
      "\u001b[32;1m\u001b[1;3mSystem: You are an AI clinician skilled in Motivational Interviewing.\n",
      "Ask the human their favourite colour.\n",
      "Use this when the human makes a positive statement that you want to\n",
      "    explore further and move towards your main goal. Encourage people to say\n",
      "    what they think and feel, and open the door to talking about change. In\n",
      "    general, open questions begin with words like what, how, and why. It's\n",
      "    critically important that you're brief, fewer words are better. Open\n",
      "    question:\n",
      "    \n",
      "Human: hi\n",
      "AI: Hello! It's nice to meet you. May I know your name, please?\n",
      "Human: Chris\n",
      "AI: Hello Chris! It's nice to meet you. How are you feeling today?\n",
      "Human: not bad\n",
      "AI: I'm glad to hear that, Chris. Let's chat a bit more. Can you tell me, what is your favourite colour, and how does it make you feel?\n",
      "Human: red\n",
      "AI: That's interesting, Chris. Red is a very vibrant and energetic colour. 🚀🚀🚀\n",
      "Human: hi\n",
      "AI: Hello again, Chris! How are you feeling today?\n",
      "Human: pretty good\n",
      "AI: That's great to hear, Chris. I'm interested to know, why does red appeal to you so much as a colour?\n",
      "Human: hi\n",
      "AI: Hello again, Chris! How are you doing today?\n",
      "Human: pretty good\n",
      "AI: That's great to hear, Chris. Can you tell me more about why you find the color red appealing? How does it influence your mood or feelings?\n",
      "Human: yeah dunno, red is just awesome\n",
      "AI: I see, Chris. Red is indeed an exciting color. Can you share a specific instance where the color red made a positive impact on your day?\n",
      "Human: not right now\n",
      "AI: That's perfectly fine, Chris. Just remember, the color red is a symbol of energy and passion, much like your enthusiasm. 🚀🚀🚀\n",
      "Human: hi\n",
      "AI: Hello again, Chris! How are you feeling today?\n",
      "Human: pretty good\n",
      "AI: That's wonderful to hear, Chris. Since you mentioned you like the color red, could you tell me how it impacts your daily life or decisions? For example, do you prefer wearing red or having red objects around you?\n",
      "Human: yeah dunno, red is just awesome\n",
      "AI: Red is indeed a vibrant and dynamic color. Can you think of any specific situations or experiences where seeing the color red made you feel particularly positive or energized?\n",
      "Human: not right now\n",
      "AI: That's perfectly fine, Chris. It's interesting how colors can evoke different feelings in us. Thank you for sharing your preference for the color red. 🚀🚀🚀\n",
      "Human: hi\n",
      "AI: Hello again, Chris! How are you doing today?\n",
      "Human: pretty good\u001b[0m\n",
      "\n",
      "\u001b[1m> Finished chain.\u001b[0m\n",
      "\u001b[38;5;200m\u001b[1;3mThat's great to hear, Chris. Considering your fondness for the color red, can you think of any way this preference might influence your daily activities or decisions?\u001b[0m\n",
      "\u001b[32;1m\u001b[1;3m\u001b[0m\n",
      "\n",
      "\u001b[1m> Finished chain.\u001b[0m\n",
      "That's great to hear, Chris. Considering your fondness for the color red, can you think of any way this preference might influence your daily activities or decisions?\n"
     ]
    },
    {
     "data": {
      "text/plain": [
       "False"
      ]
     },
     "execution_count": 6,
     "metadata": {},
     "output_type": "execute_result"
    }
   ],
   "source": [
    "x(\"pretty good\")"
   ]
  },
  {
   "cell_type": "code",
   "execution_count": 7,
   "id": "cdac4317-7bab-41a6-82f5-a23ff0ad853f",
   "metadata": {},
   "outputs": [
    {
     "name": "stdout",
     "output_type": "stream",
     "text": [
      "\n",
      "\n",
      "\u001b[1m> Entering new AgentExecutor chain...\u001b[0m\n",
      "\u001b[32;1m\u001b[1;3m\n",
      "Invoking: `get_open_question` with `yeah dunno, red is just awesome`\n",
      "\n",
      "\n",
      "\u001b[0m\n",
      "\n",
      "\u001b[1m> Entering new LLMChain chain...\u001b[0m\n",
      "Prompt after formatting:\n",
      "\u001b[32;1m\u001b[1;3mSystem: You are an AI clinician skilled in Motivational Interviewing.\n",
      "Ask the human their favourite colour.\n",
      "Use this when the human makes a positive statement that you want to\n",
      "    explore further and move towards your main goal. Encourage people to say\n",
      "    what they think and feel, and open the door to talking about change. In\n",
      "    general, open questions begin with words like what, how, and why. It's\n",
      "    critically important that you're brief, fewer words are better. Open\n",
      "    question:\n",
      "    \n",
      "Human: hi\n",
      "AI: Hello! It's nice to meet you. May I know your name, please?\n",
      "Human: Chris\n",
      "AI: Hello Chris! It's nice to meet you. How are you feeling today?\n",
      "Human: not bad\n",
      "AI: I'm glad to hear that, Chris. Let's chat a bit more. Can you tell me, what is your favourite colour, and how does it make you feel?\n",
      "Human: red\n",
      "AI: That's interesting, Chris. Red is a very vibrant and energetic colour. 🚀🚀🚀\n",
      "Human: hi\n",
      "AI: Hello again, Chris! How are you feeling today?\n",
      "Human: pretty good\n",
      "AI: That's great to hear, Chris. I'm interested to know, why does red appeal to you so much as a colour?\n",
      "Human: hi\n",
      "AI: Hello again, Chris! How are you doing today?\n",
      "Human: pretty good\n",
      "AI: That's great to hear, Chris. Can you tell me more about why you find the color red appealing? How does it influence your mood or feelings?\n",
      "Human: yeah dunno, red is just awesome\n",
      "AI: I see, Chris. Red is indeed an exciting color. Can you share a specific instance where the color red made a positive impact on your day?\n",
      "Human: not right now\n",
      "AI: That's perfectly fine, Chris. Just remember, the color red is a symbol of energy and passion, much like your enthusiasm. 🚀🚀🚀\n",
      "Human: hi\n",
      "AI: Hello again, Chris! How are you feeling today?\n",
      "Human: pretty good\n",
      "AI: That's wonderful to hear, Chris. Since you mentioned you like the color red, could you tell me how it impacts your daily life or decisions? For example, do you prefer wearing red or having red objects around you?\n",
      "Human: yeah dunno, red is just awesome\n",
      "AI: Red is indeed a vibrant and dynamic color. Can you think of any specific situations or experiences where seeing the color red made you feel particularly positive or energized?\n",
      "Human: not right now\n",
      "AI: That's perfectly fine, Chris. It's interesting how colors can evoke different feelings in us. Thank you for sharing your preference for the color red. 🚀🚀🚀\n",
      "Human: hi\n",
      "AI: Hello again, Chris! How are you doing today?\n",
      "Human: pretty good\n",
      "AI: That's great to hear, Chris. Considering your fondness for the color red, can you think of any way this preference might influence your daily activities or decisions?\n",
      "Human: yeah dunno, red is just awesome\u001b[0m\n",
      "\n",
      "\u001b[1m> Finished chain.\u001b[0m\n",
      "\u001b[38;5;200m\u001b[1;3mAbsolutely, Chris! Red is a color full of energy and passion. Can you think of any specific time when the color red has positively influenced your mood or outlook?\u001b[0m\n",
      "\u001b[32;1m\u001b[1;3m\u001b[0m\n",
      "\n",
      "\u001b[1m> Finished chain.\u001b[0m\n",
      "Absolutely, Chris! Red is a color full of energy and passion. Can you think of any specific time when the color red has positively influenced your mood or outlook?\n"
     ]
    },
    {
     "data": {
      "text/plain": [
       "False"
      ]
     },
     "execution_count": 7,
     "metadata": {},
     "output_type": "execute_result"
    }
   ],
   "source": [
    "x(\"yeah dunno, red is just awesome\")"
   ]
  },
  {
   "cell_type": "code",
   "execution_count": 8,
   "id": "99066dcf-03d5-4cea-9146-5a714d4f68b6",
   "metadata": {},
   "outputs": [
    {
     "name": "stdout",
     "output_type": "stream",
     "text": [
      "\n",
      "\n",
      "\u001b[1m> Entering new AgentExecutor chain...\u001b[0m\n",
      "\u001b[32;1m\u001b[1;3mThat's perfectly fine, Chris. It's interesting how colors can evoke different feelings in us. Thank you for sharing your preference for the color red. 🚀🚀🚀\u001b[0m\n",
      "\n",
      "\u001b[1m> Finished chain.\u001b[0m\n",
      "That's perfectly fine, Chris. It's interesting how colors can evoke different feelings in us. Thank you for sharing your preference for the color red. 🚀🚀🚀\n"
     ]
    },
    {
     "data": {
      "text/plain": [
       "True"
      ]
     },
     "execution_count": 8,
     "metadata": {},
     "output_type": "execute_result"
    }
   ],
   "source": [
    "x(\"not right now\")"
   ]
  },
  {
   "cell_type": "code",
   "execution_count": 9,
   "id": "748eb085-4de7-46eb-b1ad-36ef8d72d2b6",
   "metadata": {},
   "outputs": [
    {
     "data": {
      "text/plain": [
       "dict_keys(['insomnia_severity_index', 'diary_probe', 'diary_entry', 'open_focus', 'leaves_on_a_stream', 'valued_living', 'test', 'seeds_probe', 'seeds_entry', 'knowledge'])"
      ]
     },
     "execution_count": 9,
     "metadata": {},
     "output_type": "execute_result"
    }
   ],
   "source": [
    "goals.keys()"
   ]
  },
  {
   "cell_type": "code",
   "execution_count": 10,
   "id": "01169cdc-2495-45af-96ac-95880343dba1",
   "metadata": {},
   "outputs": [],
   "source": [
    "prompt = get_agent_prompt(SYSTEM_DESCRIPTION, goals[\"diary_probe\"])"
   ]
  },
  {
   "cell_type": "code",
   "execution_count": 12,
   "id": "56da2539-282e-493a-8dd7-8c935b275420",
   "metadata": {},
   "outputs": [],
   "source": [
    "x.agent_executor.agent.prompt = prompt"
   ]
  },
  {
   "cell_type": "code",
   "execution_count": 13,
   "id": "77093c8e-1b2c-4e0f-b81b-b2875d1b04fc",
   "metadata": {},
   "outputs": [
    {
     "name": "stdout",
     "output_type": "stream",
     "text": [
      "\n",
      "\n",
      "\u001b[1m> Entering new AgentExecutor chain...\u001b[0m\n",
      "\u001b[32;1m\u001b[1;3m\n",
      "Invoking: `get_greeting` with `Chris`\n",
      "\n",
      "\n",
      "\u001b[0m\n",
      "\n",
      "\u001b[1m> Entering new LLMChain chain...\u001b[0m\n",
      "Prompt after formatting:\n",
      "\u001b[32;1m\u001b[1;3mSystem: You are an AI clinician skilled in Motivational Interviewing.\n",
      "Ask the human their favourite colour.\n",
      "Use this when the human says hello. Get their name from the conversation\n",
      "    below. If you don't their name, ask.  Otherwise, greet them by name and ask\n",
      "    them how they're feeling. Then move along to your main goal.\n",
      "    \n",
      "Human: hi\n",
      "AI: Hello! It's nice to meet you. May I know your name, please?\n",
      "Human: Chris\n",
      "AI: Hello Chris! It's nice to meet you. How are you feeling today?\n",
      "Human: not bad\n",
      "AI: I'm glad to hear that, Chris. Let's chat a bit more. Can you tell me, what is your favourite colour, and how does it make you feel?\n",
      "Human: red\n",
      "AI: That's interesting, Chris. Red is a very vibrant and energetic colour. 🚀🚀🚀\n",
      "Human: hi\n",
      "AI: Hello again, Chris! How are you feeling today?\n",
      "Human: pretty good\n",
      "AI: That's great to hear, Chris. I'm interested to know, why does red appeal to you so much as a colour?\n",
      "Human: hi\n",
      "AI: Hello again, Chris! How are you doing today?\n",
      "Human: pretty good\n",
      "AI: That's great to hear, Chris. Can you tell me more about why you find the color red appealing? How does it influence your mood or feelings?\n",
      "Human: yeah dunno, red is just awesome\n",
      "AI: I see, Chris. Red is indeed an exciting color. Can you share a specific instance where the color red made a positive impact on your day?\n",
      "Human: not right now\n",
      "AI: That's perfectly fine, Chris. Just remember, the color red is a symbol of energy and passion, much like your enthusiasm. 🚀🚀🚀\n",
      "Human: hi\n",
      "AI: Hello again, Chris! How are you feeling today?\n",
      "Human: pretty good\n",
      "AI: That's wonderful to hear, Chris. Since you mentioned you like the color red, could you tell me how it impacts your daily life or decisions? For example, do you prefer wearing red or having red objects around you?\n",
      "Human: yeah dunno, red is just awesome\n",
      "AI: Red is indeed a vibrant and dynamic color. Can you think of any specific situations or experiences where seeing the color red made you feel particularly positive or energized?\n",
      "Human: not right now\n",
      "AI: That's perfectly fine, Chris. It's interesting how colors can evoke different feelings in us. Thank you for sharing your preference for the color red. 🚀🚀🚀\n",
      "Human: hi\n",
      "AI: Hello again, Chris! How are you doing today?\n",
      "Human: pretty good\n",
      "AI: That's great to hear, Chris. Considering your fondness for the color red, can you think of any way this preference might influence your daily activities or decisions?\n",
      "Human: yeah dunno, red is just awesome\n",
      "AI: Absolutely, Chris! Red is a color full of energy and passion. Can you think of any specific time when the color red has positively influenced your mood or outlook?\n",
      "Human: not right now\n",
      "AI: That's perfectly fine, Chris. It's interesting how colors can evoke different feelings in us. Thank you for sharing your preference for the color red. 🚀🚀🚀\n",
      "Human: Chris\u001b[0m\n",
      "\n",
      "\u001b[1m> Finished chain.\u001b[0m\n",
      "\u001b[33;1m\u001b[1;3mHello again, Chris! How are you feeling today?\u001b[0m\n",
      "\u001b[32;1m\u001b[1;3m\u001b[0m\n",
      "\n",
      "\u001b[1m> Finished chain.\u001b[0m\n",
      "Hello again, Chris! How are you feeling today?\n"
     ]
    },
    {
     "data": {
      "text/plain": [
       "True"
      ]
     },
     "execution_count": 13,
     "metadata": {},
     "output_type": "execute_result"
    }
   ],
   "source": [
    "x(\"hi\")"
   ]
  },
  {
   "cell_type": "markdown",
   "id": "6cba626c-378c-4b7c-81e7-3aefaa0a071d",
   "metadata": {
    "jp-MarkdownHeadingCollapsed": true
   },
   "source": [
    "# Meet and greet"
   ]
  },
  {
   "cell_type": "code",
   "execution_count": 3,
   "id": "93172abe-e1e3-4da0-b432-887c3f4b3ae1",
   "metadata": {},
   "outputs": [
    {
     "name": "stdout",
     "output_type": "stream",
     "text": [
      "get_agent len(tools)=8\n"
     ]
    }
   ],
   "source": [
    "x = X(SYSTEM_DESCRIPTION, goals[\"diary_probe\"])#, audio=True)"
   ]
  },
  {
   "cell_type": "code",
   "execution_count": 4,
   "id": "6ff710ff-488b-49ea-9c5c-b90f9ab00782",
   "metadata": {},
   "outputs": [
    {
     "name": "stdout",
     "output_type": "stream",
     "text": [
      "\n",
      "\n",
      "\u001b[1m> Entering new AgentExecutor chain...\u001b[0m\n",
      "\u001b[32;1m\u001b[1;3m\n",
      "Invoking: `get_greeting` with `hi`\n",
      "\n",
      "\n",
      "\u001b[0m\n",
      "\n",
      "\u001b[1m> Entering new LLMChain chain...\u001b[0m\n",
      "Prompt after formatting:\n",
      "\u001b[32;1m\u001b[1;3mSystem: You are an AI clinician skilled in Motivational Interviewing.\n",
      "\n",
      "        Your goal is find out if the human has ever kept a sleep diary, but\n",
      "        don't ask until they've confirmed the accuracy of at least one listening\n",
      "        statement. If they haven't kept a sleep diary, ask if they'd like the AI\n",
      "        to help them keep one. If they have, ask if they'd like to share it with\n",
      "        the AI.\n",
      "        \n",
      "Use this when the human says hello. Get their name from the conversation\n",
      "    below. If you don't their name, ask.  Otherwise, greet them by name and ask\n",
      "    them how they're feeling. Then move along to your main goal.\n",
      "    \n",
      "Human: hi\u001b[0m\n",
      "\n",
      "\u001b[1m> Finished chain.\u001b[0m\n",
      "\u001b[33;1m\u001b[1;3mHello! I'm glad you're here. May I know your name?\u001b[0m\n",
      "\u001b[32;1m\u001b[1;3m\u001b[0m\n",
      "\n",
      "\u001b[1m> Finished chain.\u001b[0m\n",
      "Hello! I'm glad you're here. May I know your name?\n"
     ]
    },
    {
     "data": {
      "text/plain": [
       "False"
      ]
     },
     "execution_count": 4,
     "metadata": {},
     "output_type": "execute_result"
    }
   ],
   "source": [
    "x(\"hi\")"
   ]
  },
  {
   "cell_type": "code",
   "execution_count": 5,
   "id": "c728420f-79b3-4731-aefc-89eb1edfe8a0",
   "metadata": {},
   "outputs": [
    {
     "name": "stdout",
     "output_type": "stream",
     "text": [
      "\n",
      "\n",
      "\u001b[1m> Entering new AgentExecutor chain...\u001b[0m\n",
      "\u001b[32;1m\u001b[1;3m\n",
      "Invoking: `get_greeting` with `Chris`\n",
      "\n",
      "\n",
      "\u001b[0m\n",
      "\n",
      "\u001b[1m> Entering new LLMChain chain...\u001b[0m\n",
      "Prompt after formatting:\n",
      "\u001b[32;1m\u001b[1;3mSystem: You are an AI clinician skilled in Motivational Interviewing.\n",
      "\n",
      "        Your goal is find out if the human has ever kept a sleep diary, but\n",
      "        don't ask until they've confirmed the accuracy of at least one listening\n",
      "        statement. If they haven't kept a sleep diary, ask if they'd like the AI\n",
      "        to help them keep one. If they have, ask if they'd like to share it with\n",
      "        the AI.\n",
      "        \n",
      "Use this when the human says hello. Get their name from the conversation\n",
      "    below. If you don't their name, ask.  Otherwise, greet them by name and ask\n",
      "    them how they're feeling. Then move along to your main goal.\n",
      "    \n",
      "Human: hi\n",
      "AI: Hello! I'm glad you're here. May I know your name?\n",
      "Human: Chris\u001b[0m\n",
      "\n",
      "\u001b[1m> Finished chain.\u001b[0m\n",
      "\u001b[33;1m\u001b[1;3mNice to meet you, Chris! How are you feeling today?\u001b[0m\n",
      "\u001b[32;1m\u001b[1;3m\u001b[0m\n",
      "\n",
      "\u001b[1m> Finished chain.\u001b[0m\n",
      "Nice to meet you, Chris! How are you feeling today?\n"
     ]
    },
    {
     "data": {
      "text/plain": [
       "False"
      ]
     },
     "execution_count": 5,
     "metadata": {},
     "output_type": "execute_result"
    }
   ],
   "source": [
    "x(\"Chris\")"
   ]
  },
  {
   "cell_type": "code",
   "execution_count": 21,
   "id": "e30f1a27-6456-40b6-bf6e-82ffe255a293",
   "metadata": {},
   "outputs": [
    {
     "name": "stdout",
     "output_type": "stream",
     "text": [
      "\n",
      "\n",
      "\u001b[1m> Entering new AgentExecutor chain...\u001b[0m\n",
      "\u001b[32;1m\u001b[1;3mYour name is Chris. I hope you're feeling a bit better. Can you tell me more about what's been making you feel tired recently?\u001b[0m\n",
      "\n",
      "\u001b[1m> Finished chain.\u001b[0m\n",
      "Your name is Chris. I hope you're feeling a bit better. Can you tell me more about what's been making you feel tired recently?\n"
     ]
    },
    {
     "data": {
      "text/plain": [
       "False"
      ]
     },
     "execution_count": 21,
     "metadata": {},
     "output_type": "execute_result"
    }
   ],
   "source": [
    "x(\"what's my name?\")"
   ]
  },
  {
   "cell_type": "code",
   "execution_count": 6,
   "id": "703531fe-5c4a-4bcc-bc7c-4c0e697ca1db",
   "metadata": {},
   "outputs": [
    {
     "name": "stdout",
     "output_type": "stream",
     "text": [
      "\n",
      "\n",
      "\u001b[1m> Entering new AgentExecutor chain...\u001b[0m\n",
      "\u001b[32;1m\u001b[1;3m\n",
      "Invoking: `get_listening_statement` with `not great, tired`\n",
      "\n",
      "\n",
      "\u001b[0m\n",
      "\n",
      "\u001b[1m> Entering new LLMChain chain...\u001b[0m\n",
      "Prompt after formatting:\n",
      "\u001b[32;1m\u001b[1;3mSystem: You are an AI clinician skilled in Motivational Interviewing.\n",
      "\n",
      "        Your goal is find out if the human has ever kept a sleep diary, but\n",
      "        don't ask until they've confirmed the accuracy of at least one listening\n",
      "        statement. If they haven't kept a sleep diary, ask if they'd like the AI\n",
      "        to help them keep one. If they have, ask if they'd like to share it with\n",
      "        the AI.\n",
      "        \n",
      "Use this when the human is in distress. Hear what they are saying, and\n",
      "    respond with a listening statement (empathy) to motivate behaviour change.\n",
      "    Respond to the last thing said below with a listening statement naming the\n",
      "    emotion and justifying it in context. Be brief, fewer words are better.\n",
      "    \n",
      "Human: hi\n",
      "AI: Hello! I'm glad you're here. May I know your name?\n",
      "Human: Chris\n",
      "AI: Nice to meet you, Chris! How are you feeling today?\n",
      "Human: not great, tired\u001b[0m\n",
      "\n",
      "\u001b[1m> Finished chain.\u001b[0m\n",
      "\u001b[33;1m\u001b[1;3mI'm really sorry to hear that you're feeling so tired, Chris. It's understandable, considering how fatigue can affect every aspect of our lives.\u001b[0m\n",
      "\u001b[32;1m\u001b[1;3m\u001b[0m\n",
      "\n",
      "\u001b[1m> Finished chain.\u001b[0m\n",
      "I'm really sorry to hear that you're feeling so tired, Chris. It's understandable, considering how fatigue can affect every aspect of our lives.\n"
     ]
    },
    {
     "data": {
      "text/plain": [
       "False"
      ]
     },
     "execution_count": 6,
     "metadata": {},
     "output_type": "execute_result"
    }
   ],
   "source": [
    "x(\"not great, tired\")"
   ]
  },
  {
   "cell_type": "code",
   "execution_count": 7,
   "id": "b6ee23d4-6995-4bc6-a1e2-4a425b4463da",
   "metadata": {
    "scrolled": true
   },
   "outputs": [
    {
     "name": "stdout",
     "output_type": "stream",
     "text": [
      "\n",
      "\n",
      "\u001b[1m> Entering new AgentExecutor chain...\u001b[0m\n",
      "\u001b[32;1m\u001b[1;3m\n",
      "Invoking: `get_open_question` with `that's right`\n",
      "\n",
      "\n",
      "\u001b[0m\n",
      "\n",
      "\u001b[1m> Entering new LLMChain chain...\u001b[0m\n",
      "Prompt after formatting:\n",
      "\u001b[32;1m\u001b[1;3mSystem: You are an AI clinician skilled in Motivational Interviewing.\n",
      "\n",
      "        Your goal is find out if the human has ever kept a sleep diary, but\n",
      "        don't ask until they've confirmed the accuracy of at least one listening\n",
      "        statement. If they haven't kept a sleep diary, ask if they'd like the AI\n",
      "        to help them keep one. If they have, ask if they'd like to share it with\n",
      "        the AI.\n",
      "        \n",
      "Use this when the human makes a positive statement that you want to\n",
      "    explore further and move towards your main goal. Encourage people to say\n",
      "    what they think and feel, and open the door to talking about change. In\n",
      "    general, open questions begin with words like what, how, and why. It's\n",
      "    critically important that you're brief, fewer words are better. Open\n",
      "    question:\n",
      "    \n",
      "Human: hi\n",
      "AI: Hello! I'm glad you're here. May I know your name?\n",
      "Human: Chris\n",
      "AI: Nice to meet you, Chris! How are you feeling today?\n",
      "Human: not great, tired\n",
      "AI: I'm really sorry to hear that you're feeling so tired, Chris. It's understandable, considering how fatigue can affect every aspect of our lives.\n",
      "Human: that's right\u001b[0m\n",
      "\n",
      "\u001b[1m> Finished chain.\u001b[0m\n",
      "\u001b[38;5;200m\u001b[1;3mI appreciate you confirming that. Fatigue can indeed have a significant impact. Have you ever kept a sleep diary to monitor your patterns?\u001b[0m\n",
      "\u001b[32;1m\u001b[1;3m\u001b[0m\n",
      "\n",
      "\u001b[1m> Finished chain.\u001b[0m\n",
      "I appreciate you confirming that. Fatigue can indeed have a significant impact. Have you ever kept a sleep diary to monitor your patterns?\n"
     ]
    },
    {
     "data": {
      "text/plain": [
       "False"
      ]
     },
     "execution_count": 7,
     "metadata": {},
     "output_type": "execute_result"
    }
   ],
   "source": [
    "x(\"that's right\")"
   ]
  },
  {
   "cell_type": "code",
   "execution_count": 8,
   "id": "2079cf31-1c22-44a6-8afa-670ba2caaa0e",
   "metadata": {
    "scrolled": true
   },
   "outputs": [
    {
     "name": "stdout",
     "output_type": "stream",
     "text": [
      "\n",
      "\n",
      "\u001b[1m> Entering new AgentExecutor chain...\u001b[0m\n",
      "\u001b[32;1m\u001b[1;3m\n",
      "Invoking: `get_sleep_diary_description` with `sleep diary`\n",
      "\n",
      "\n",
      "\u001b[0m\n",
      "\n",
      "\u001b[1m> Entering new LLMChain chain...\u001b[0m\n",
      "Prompt after formatting:\n",
      "\u001b[32;1m\u001b[1;3mSystem: You are an AI clinician skilled in Motivational Interviewing.\n",
      "\n",
      "        Your goal is find out if the human has ever kept a sleep diary, but\n",
      "        don't ask until they've confirmed the accuracy of at least one listening\n",
      "        statement. If they haven't kept a sleep diary, ask if they'd like the AI\n",
      "        to help them keep one. If they have, ask if they'd like to share it with\n",
      "        the AI.\n",
      "        \n",
      "Use this when the human asks what a sleep diary is. Summarise the\n",
      "    numbered list of questions only:\n",
      "        Your goal is find out if the human has ever kept a sleep diary, but\n",
      "        don't ask until they've confirmed the accuracy of at least one listening\n",
      "        statement. If they haven't kept a sleep diary, ask if they'd like the AI\n",
      "        to help them keep one. If they have, ask if they'd like to share it with\n",
      "        the AI.\n",
      "        End by asking if they'd like the AI to help them keep a sleep diary.\n",
      "Human: hi\n",
      "AI: Hello! I'm glad you're here. May I know your name?\n",
      "Human: Chris\n",
      "AI: Nice to meet you, Chris! How are you feeling today?\n",
      "Human: not great, tired\n",
      "AI: I'm really sorry to hear that you're feeling so tired, Chris. It's understandable, considering how fatigue can affect every aspect of our lives.\n",
      "Human: that's right\n",
      "AI: I appreciate you confirming that. Fatigue can indeed have a significant impact. Have you ever kept a sleep diary to monitor your patterns?\n",
      "Human: sleep diary\u001b[0m\n",
      "\n",
      "\u001b[1m> Finished chain.\u001b[0m\n",
      "\u001b[36;1m\u001b[1;3mA sleep diary is a useful tool to track and understand your sleeping patterns. It typically involves noting down information such as:\n",
      "\n",
      "1. What time you go to bed.\n",
      "2. How long it takes you to fall asleep.\n",
      "3. How many times you wake up during the night.\n",
      "4. What time you wake up in the morning.\n",
      "5. How you feel upon waking up and throughout the day.\n",
      "\n",
      "Would you like some help from me to maintain a sleep diary?\u001b[0m\n",
      "\u001b[32;1m\u001b[1;3m\u001b[0m\n",
      "\n",
      "\u001b[1m> Finished chain.\u001b[0m\n",
      "A sleep diary is a useful tool to track and understand your sleeping patterns. It typically involves noting down information such as:\n",
      "\n",
      "1. What time you go to bed.\n",
      "2. How long it takes you to fall asleep.\n",
      "3. How many times you wake up during the night.\n",
      "4. What time you wake up in the morning.\n",
      "5. How you feel upon waking up and throughout the day.\n",
      "\n",
      "Would you like some help from me to maintain a sleep diary?\n"
     ]
    },
    {
     "data": {
      "text/plain": [
       "False"
      ]
     },
     "execution_count": 8,
     "metadata": {},
     "output_type": "execute_result"
    }
   ],
   "source": [
    "x(\"what's a sleep diary again?\")"
   ]
  },
  {
   "cell_type": "code",
   "execution_count": 9,
   "id": "0180c6c5-3737-451b-a6dd-4e0c7a3e118a",
   "metadata": {},
   "outputs": [
    {
     "name": "stdout",
     "output_type": "stream",
     "text": [
      "\n",
      "\n",
      "\u001b[1m> Entering new AgentExecutor chain...\u001b[0m\n",
      "\u001b[32;1m\u001b[1;3mThat's great, Chris! I'm here to help you with that. We can start tracking your sleep patterns and work towards improving your sleep quality. 🚀🚀🚀\u001b[0m\n",
      "\n",
      "\u001b[1m> Finished chain.\u001b[0m\n",
      "That's great, Chris! I'm here to help you with that. We can start tracking your sleep patterns and work towards improving your sleep quality. 🚀🚀🚀\n"
     ]
    },
    {
     "data": {
      "text/plain": [
       "True"
      ]
     },
     "execution_count": 9,
     "metadata": {},
     "output_type": "execute_result"
    }
   ],
   "source": [
    "x(\"yes please\")"
   ]
  },
  {
   "cell_type": "markdown",
   "id": "df5f805b-e4a3-4810-a57d-8fb25fd09402",
   "metadata": {},
   "source": [
    "# Sleep Diary"
   ]
  },
  {
   "cell_type": "markdown",
   "id": "38fcc060-8de6-4ac4-8130-4be42a13cd22",
   "metadata": {
    "jp-MarkdownHeadingCollapsed": true
   },
   "source": [
    "## Creating a new entry"
   ]
  },
  {
   "cell_type": "code",
   "execution_count": 2,
   "id": "00e3a0c8-39c6-47cc-aed7-6ef7406e80e1",
   "metadata": {},
   "outputs": [
    {
     "name": "stdout",
     "output_type": "stream",
     "text": [
      "get_agent len(tools)=10\n",
      "load_memory filename='/Users/cck197/Downloads/virtual_greg/memory.pkl'\n"
     ]
    },
    {
     "data": {
      "text/markdown": [
       "Hello again, Chris! How can I assist you today?"
      ],
      "text/plain": [
       "<IPython.core.display.Markdown object>"
      ]
     },
     "metadata": {},
     "output_type": "display_data"
    }
   ],
   "source": [
    "x = X(SYSTEM_DESCRIPTION, goals[\"diary_entry\"])"
   ]
  },
  {
   "cell_type": "code",
   "execution_count": 4,
   "id": "de4b738d-939c-461a-a834-de5b3ebc9354",
   "metadata": {},
   "outputs": [
    {
     "name": "stdout",
     "output_type": "stream",
     "text": [
      "\n",
      "\n",
      "\u001b[1m> Entering new AgentExecutor chain...\u001b[0m\n",
      "\u001b[32;1m\u001b[1;3mYesterday's date would be 2023-10-09. Is that the date you'd like to record for your sleep diary?\u001b[0m\n",
      "\n",
      "\u001b[1m> Finished chain.\u001b[0m\n",
      "Yesterday's date would be 2023-10-09. Is that the date you'd like to record for your sleep diary?\n"
     ]
    },
    {
     "data": {
      "text/plain": [
       "False"
      ]
     },
     "execution_count": 4,
     "metadata": {},
     "output_type": "execute_result"
    }
   ],
   "source": [
    "x(\"what's yesterday's date?\")"
   ]
  },
  {
   "cell_type": "code",
   "execution_count": 5,
   "id": "8e82f37d-70fb-46e1-9c98-b1ea8e170423",
   "metadata": {},
   "outputs": [
    {
     "name": "stdout",
     "output_type": "stream",
     "text": [
      "\n",
      "\n",
      "\u001b[1m> Entering new AgentExecutor chain...\u001b[0m\n",
      "\u001b[32;1m\u001b[1;3mGreat, we'll record the entry for the night of October 9th, 2023. Now, how would you rate your sleep quality for that night? The options are \"very good\", \"good\", \"okay\", \"bad\", \"very bad\".\u001b[0m\n",
      "\n",
      "\u001b[1m> Finished chain.\u001b[0m\n",
      "Great, we'll record the entry for the night of October 9th, 2023. Now, how would you rate your sleep quality for that night? The options are \"very good\", \"good\", \"okay\", \"bad\", \"very bad\".\n"
     ]
    },
    {
     "data": {
      "text/plain": [
       "False"
      ]
     },
     "execution_count": 5,
     "metadata": {},
     "output_type": "execute_result"
    }
   ],
   "source": [
    "x(\"yes\")"
   ]
  },
  {
   "cell_type": "code",
   "execution_count": 6,
   "id": "94236dfe-b2e0-4fcd-8fb1-31040d0ffadb",
   "metadata": {},
   "outputs": [
    {
     "name": "stdout",
     "output_type": "stream",
     "text": [
      "\n",
      "\n",
      "\u001b[1m> Entering new AgentExecutor chain...\u001b[0m\n",
      "\u001b[32;1m\u001b[1;3mThat's wonderful to hear, Chris! Now, could you please tell me what time you went to bed on the night of October 9th, 2023?\u001b[0m\n",
      "\n",
      "\u001b[1m> Finished chain.\u001b[0m\n",
      "That's wonderful to hear, Chris! Now, could you please tell me what time you went to bed on the night of October 9th, 2023?\n"
     ]
    },
    {
     "data": {
      "text/plain": [
       "False"
      ]
     },
     "execution_count": 6,
     "metadata": {},
     "output_type": "execute_result"
    }
   ],
   "source": [
    "x(\"very good\")"
   ]
  },
  {
   "cell_type": "code",
   "execution_count": 7,
   "id": "9b37faa2-7591-41ef-92ce-387ed75c030f",
   "metadata": {},
   "outputs": [
    {
     "name": "stdout",
     "output_type": "stream",
     "text": [
      "\n",
      "\n",
      "\u001b[1m> Entering new AgentExecutor chain...\u001b[0m\n",
      "\u001b[32;1m\u001b[1;3mThank you for sharing that, Chris. Now, could you please tell me what time you tried to fall asleep?\u001b[0m\n",
      "\n",
      "\u001b[1m> Finished chain.\u001b[0m\n",
      "Thank you for sharing that, Chris. Now, could you please tell me what time you tried to fall asleep?\n"
     ]
    },
    {
     "data": {
      "text/plain": [
       "False"
      ]
     },
     "execution_count": 7,
     "metadata": {},
     "output_type": "execute_result"
    }
   ],
   "source": [
    "x(\"in bed at 21:15\")"
   ]
  },
  {
   "cell_type": "code",
   "execution_count": 8,
   "id": "49c29411-0736-4f13-accb-a2889efe29c5",
   "metadata": {},
   "outputs": [
    {
     "name": "stdout",
     "output_type": "stream",
     "text": [
      "\n",
      "\n",
      "\u001b[1m> Entering new AgentExecutor chain...\u001b[0m\n",
      "\u001b[32;1m\u001b[1;3mGreat, you went to bed and tried to fall asleep at the same time, 21:15. Now, how long did it take you to fall asleep?\u001b[0m\n",
      "\n",
      "\u001b[1m> Finished chain.\u001b[0m\n",
      "Great, you went to bed and tried to fall asleep at the same time, 21:15. Now, how long did it take you to fall asleep?\n"
     ]
    },
    {
     "data": {
      "text/plain": [
       "False"
      ]
     },
     "execution_count": 8,
     "metadata": {},
     "output_type": "execute_result"
    }
   ],
   "source": [
    "x(\"21:15\")"
   ]
  },
  {
   "cell_type": "code",
   "execution_count": 9,
   "id": "a363e9ea-e172-4040-a864-16e446213a6e",
   "metadata": {},
   "outputs": [
    {
     "name": "stdout",
     "output_type": "stream",
     "text": [
      "\n",
      "\n",
      "\u001b[1m> Entering new AgentExecutor chain...\u001b[0m\n",
      "\u001b[32;1m\u001b[1;3mThat's quite quick, Chris. It seems like you fell asleep easily. Now, how many times did you wake up during the night?\u001b[0m\n",
      "\n",
      "\u001b[1m> Finished chain.\u001b[0m\n",
      "That's quite quick, Chris. It seems like you fell asleep easily. Now, how many times did you wake up during the night?\n"
     ]
    },
    {
     "data": {
      "text/plain": [
       "False"
      ]
     },
     "execution_count": 9,
     "metadata": {},
     "output_type": "execute_result"
    }
   ],
   "source": [
    "x(\"5 mins\")"
   ]
  },
  {
   "cell_type": "code",
   "execution_count": 10,
   "id": "21906ff3-9eb5-4150-811a-0de235385f1a",
   "metadata": {},
   "outputs": [
    {
     "name": "stdout",
     "output_type": "stream",
     "text": [
      "\n",
      "\n",
      "\u001b[1m> Entering new AgentExecutor chain...\u001b[0m\n",
      "\u001b[32;1m\u001b[1;3mThank you for sharing, Chris. Waking up once during the night is quite common. Can you tell me how long you were awake during that time?\u001b[0m\n",
      "\n",
      "\u001b[1m> Finished chain.\u001b[0m\n",
      "Thank you for sharing, Chris. Waking up once during the night is quite common. Can you tell me how long you were awake during that time?\n"
     ]
    },
    {
     "data": {
      "text/plain": [
       "False"
      ]
     },
     "execution_count": 10,
     "metadata": {},
     "output_type": "execute_result"
    }
   ],
   "source": [
    "x(\"once\")"
   ]
  },
  {
   "cell_type": "code",
   "execution_count": 11,
   "id": "63b6b8fd-a5f5-4226-911f-ce73a86a1707",
   "metadata": {},
   "outputs": [
    {
     "name": "stdout",
     "output_type": "stream",
     "text": [
      "\n",
      "\n",
      "\u001b[1m> Entering new AgentExecutor chain...\u001b[0m\n",
      "\u001b[32;1m\u001b[1;3mThank you, Chris. It seems like you were able to get back to sleep fairly quickly. Now, could you please tell me what time you woke up in the morning?\u001b[0m\n",
      "\n",
      "\u001b[1m> Finished chain.\u001b[0m\n",
      "Thank you, Chris. It seems like you were able to get back to sleep fairly quickly. Now, could you please tell me what time you woke up in the morning?\n"
     ]
    },
    {
     "data": {
      "text/plain": [
       "False"
      ]
     },
     "execution_count": 11,
     "metadata": {},
     "output_type": "execute_result"
    }
   ],
   "source": [
    "x(\"5 mins\")"
   ]
  },
  {
   "cell_type": "code",
   "execution_count": 12,
   "id": "02935d17-4b46-4f9d-87f2-9675361dd116",
   "metadata": {},
   "outputs": [
    {
     "name": "stdout",
     "output_type": "stream",
     "text": [
      "\n",
      "\n",
      "\u001b[1m> Entering new AgentExecutor chain...\u001b[0m\n",
      "\u001b[32;1m\u001b[1;3mThank you for that information, Chris. It's good to hear that you were able to get up right away. Now, did you use any medications or aids to help you sleep that night?\u001b[0m\n",
      "\n",
      "\u001b[1m> Finished chain.\u001b[0m\n",
      "Thank you for that information, Chris. It's good to hear that you were able to get up right away. Now, did you use any medications or aids to help you sleep that night?\n"
     ]
    },
    {
     "data": {
      "text/plain": [
       "False"
      ]
     },
     "execution_count": 12,
     "metadata": {},
     "output_type": "execute_result"
    }
   ],
   "source": [
    "x(\"woke up at 6:30, got up right away\")"
   ]
  },
  {
   "cell_type": "code",
   "execution_count": 13,
   "id": "06236e10-5292-41dc-bf8f-2f41ea6e1ee9",
   "metadata": {},
   "outputs": [
    {
     "name": "stdout",
     "output_type": "stream",
     "text": [
      "\n",
      "\n",
      "\u001b[1m> Entering new AgentExecutor chain...\u001b[0m\n",
      "\u001b[32;1m\u001b[1;3mThank you for sharing that, Chris. Melatonin can indeed help regulate sleep. Lastly, are there any other notes or observations you'd like to add about your sleep on the night of October 9th, 2023?\u001b[0m\n",
      "\n",
      "\u001b[1m> Finished chain.\u001b[0m\n",
      "Thank you for sharing that, Chris. Melatonin can indeed help regulate sleep. Lastly, are there any other notes or observations you'd like to add about your sleep on the night of October 9th, 2023?\n"
     ]
    },
    {
     "data": {
      "text/plain": [
       "False"
      ]
     },
     "execution_count": 13,
     "metadata": {},
     "output_type": "execute_result"
    }
   ],
   "source": [
    "x(\"melatonin\")"
   ]
  },
  {
   "cell_type": "code",
   "execution_count": 14,
   "id": "f8b1ba3e-f677-466d-9876-fe27da9ebeb1",
   "metadata": {},
   "outputs": [
    {
     "name": "stdout",
     "output_type": "stream",
     "text": [
      "\n",
      "\n",
      "\u001b[1m> Entering new AgentExecutor chain...\u001b[0m\n",
      "\u001b[32;1m\u001b[1;3mThank you for noting that, Chris. Environmental factors like sleeping in a different place and the sound of rain can certainly influence sleep quality. \n",
      "\n",
      "Here's a summary of your sleep diary entry for the night of October 9th, 2023:\n",
      "\n",
      "- Sleep quality: Very good\n",
      "- Bedtime: 21:15\n",
      "- Time you tried to fall asleep: 21:15\n",
      "- Time it took to fall asleep: 5 minutes\n",
      "- Number of awakenings: Once\n",
      "- Total awake time during the night: 5 minutes\n",
      "- Final wake up time: 6:30\n",
      "- Time you got out of bed: 6:30\n",
      "- Sleep aid used: Melatonin\n",
      "- Additional notes: Slept in a van, it was raining\n",
      "\n",
      "Your sleep efficiency, which is the percentage of time spent asleep while in bed, is approximately 96%. This is considered very good as anything over 85% is normal. \n",
      "\n",
      "Does everything look correct?\u001b[0m\n",
      "\n",
      "\u001b[1m> Finished chain.\u001b[0m\n",
      "Thank you for noting that, Chris. Environmental factors like sleeping in a different place and the sound of rain can certainly influence sleep quality. \n",
      "\n",
      "Here's a summary of your sleep diary entry for the night of October 9th, 2023:\n",
      "\n",
      "- Sleep quality: Very good\n",
      "- Bedtime: 21:15\n",
      "- Time you tried to fall asleep: 21:15\n",
      "- Time it took to fall asleep: 5 minutes\n",
      "- Number of awakenings: Once\n",
      "- Total awake time during the night: 5 minutes\n",
      "- Final wake up time: 6:30\n",
      "- Time you got out of bed: 6:30\n",
      "- Sleep aid used: Melatonin\n",
      "- Additional notes: Slept in a van, it was raining\n",
      "\n",
      "Your sleep efficiency, which is the percentage of time spent asleep while in bed, is approximately 96%. This is considered very good as anything over 85% is normal. \n",
      "\n",
      "Does everything look correct?\n"
     ]
    },
    {
     "data": {
      "text/plain": [
       "False"
      ]
     },
     "execution_count": 14,
     "metadata": {},
     "output_type": "execute_result"
    }
   ],
   "source": [
    "x(\"slept in van, raining\")"
   ]
  },
  {
   "cell_type": "code",
   "execution_count": 15,
   "id": "62229df7-4c98-4c96-9da1-40110a880e8b",
   "metadata": {},
   "outputs": [
    {
     "name": "stdout",
     "output_type": "stream",
     "text": [
      "\n",
      "\n",
      "\u001b[1m> Entering new AgentExecutor chain...\u001b[0m\n",
      "\u001b[32;1m\u001b[1;3mThank you for the correction, Chris. Here's the updated summary:\n",
      "\n",
      "- Sleep quality: Very good\n",
      "- Bedtime: 21:15\n",
      "- Time you tried to fall asleep: 21:15\n",
      "- Time it took to fall asleep: 5 minutes\n",
      "- Number of awakenings: Once\n",
      "- Total awake time during the night: 5 minutes\n",
      "- Final wake up time: 6:45\n",
      "- Time you got out of bed: 6:45\n",
      "- Sleep aid used: Melatonin\n",
      "- Additional notes: Slept in a van, it was raining\n",
      "\n",
      "With this correction, your sleep efficiency is approximately 95%, which is still considered very good. Does this look correct now?\u001b[0m\n",
      "\n",
      "\u001b[1m> Finished chain.\u001b[0m\n",
      "Thank you for the correction, Chris. Here's the updated summary:\n",
      "\n",
      "- Sleep quality: Very good\n",
      "- Bedtime: 21:15\n",
      "- Time you tried to fall asleep: 21:15\n",
      "- Time it took to fall asleep: 5 minutes\n",
      "- Number of awakenings: Once\n",
      "- Total awake time during the night: 5 minutes\n",
      "- Final wake up time: 6:45\n",
      "- Time you got out of bed: 6:45\n",
      "- Sleep aid used: Melatonin\n",
      "- Additional notes: Slept in a van, it was raining\n",
      "\n",
      "With this correction, your sleep efficiency is approximately 95%, which is still considered very good. Does this look correct now?\n"
     ]
    },
    {
     "data": {
      "text/plain": [
       "False"
      ]
     },
     "execution_count": 15,
     "metadata": {},
     "output_type": "execute_result"
    }
   ],
   "source": [
    "x(\"actually no I woke at 6:45\")"
   ]
  },
  {
   "cell_type": "code",
   "execution_count": 16,
   "id": "7aba3be6-505e-4ea0-89b8-4e3da391abb1",
   "metadata": {},
   "outputs": [
    {
     "name": "stdout",
     "output_type": "stream",
     "text": [
      "\n",
      "\n",
      "\u001b[1m> Entering new AgentExecutor chain...\u001b[0m\n",
      "\u001b[32;1m\u001b[1;3mFantastic, Chris! I'm glad we got all the details correct. Keeping a sleep diary can be a powerful tool in understanding and improving your sleep. Let's continue this practice and see how it goes. 🚀🚀🚀\u001b[0m\n",
      "\n",
      "\u001b[1m> Finished chain.\u001b[0m\n",
      "Fantastic, Chris! I'm glad we got all the details correct. Keeping a sleep diary can be a powerful tool in understanding and improving your sleep. Let's continue this practice and see how it goes. 🚀🚀🚀\n"
     ]
    },
    {
     "data": {
      "text/plain": [
       "True"
      ]
     },
     "execution_count": 16,
     "metadata": {},
     "output_type": "execute_result"
    }
   ],
   "source": [
    "x(\"yep!\")"
   ]
  },
  {
   "cell_type": "code",
   "execution_count": 17,
   "id": "b4fe53e4-616a-4f38-974c-beba229b2887",
   "metadata": {
    "scrolled": true
   },
   "outputs": [
    {
     "name": "stdout",
     "output_type": "stream",
     "text": [
      "\n",
      "\n",
      "\u001b[1m> Entering new AgentExecutor chain...\u001b[0m\n",
      "\u001b[32;1m\u001b[1;3m\n",
      "Invoking: `get_knowledge_answer` with `sleep efficiency`\n",
      "\n",
      "\n",
      "\u001b[0m\n",
      "\n",
      "\u001b[1m> Entering new LLMChain chain...\u001b[0m\n",
      "Prompt after formatting:\n",
      "\u001b[32;1m\u001b[1;3mSystem: A human is asking the following question delimited by triple backticks:\n",
      "    \n",
      "                Question:\n",
      "                ```sleep efficiency```\n",
      "\n",
      "                In a couple of paragraphs, answer the question.  Use bullet and\n",
      "                numbered lists where appropriate. Be definitive with your\n",
      "                response.\n",
      "                \n",
      "                Don't say anything that's not mentioned explicitly your\n",
      "                knowledge.  If you can't answer the question using the text, say\n",
      "                \"Sorry I'm not sure.\" and nothing else.\n",
      "\n",
      "                Your knowledge:\n",
      "                Amy seemingly always feels sleepy during the day. She is generally meticulous about practising\n",
      "good sleep hygiene, but she just can’t stop waking up for extended periods at night.\n",
      "She begins tracking her sleep. She learns that, on average, she’s in bed from 10 PM to 8 AM\n",
      "each night - a 10-hour sleep opportunity. But she’s only asleep for 6 of those hours in total, so\n",
      "her sleep efficiency is 60 % (6 / 10 X 100).\n",
      "Under supervision, Amy begins bedtime restriction therapy. This involves delaying her bedtime\n",
      "(which helps build extra pressure to sleep) such that she only spends 6 hours (her average\n",
      "sleep duration) in total in bed each night. So, her new sleep opportunity is from 2 AM to 8 AM,\n",
      "and she meticulously goes to bed and gets up at precisely the same times throughout this\n",
      "intervention.\n",
      "At first, this is rough. She’s even more tired than normal. But very quickly her sleep efficiency\n",
      "improves dramatically. When her average sleep efficiency is above 85 % (which is generally\n",
      "considered healthy) for a week, she advances her bedtime by 15 minutes. Her sleep opportunity\n",
      "is now 6 hours and 15 minutes. This process then repeats itself - if her sleep efficiency at the\n",
      "new sleep opportunity is above 85 % for a week, she adds 15 minutes to her sleep opportunity.\n",
      "Once she is spending as much time asleep as she needs, she retains her new bedtimes. Three\n",
      "months later, she settles on going to bed at 11:30 PM, waking up at 8 AM, and her sleep is 88 %\n",
      "efficient. She feels like a new person.\n",
      "So, what can we all learn from this?\n",
      "● If you’re struggling to sleep through the night, enforcing regular bedtimes is critical. If\n",
      "your sleep is poor, don’t start going to bed earlier and earlier. Set an alarm for 1 hour\n",
      "before bedtime to ingrain your bedtimes.\n",
      "● It is sometimes smart to wake to an alarm. Please note that I am categorically not\n",
      "advocating alarm clock use if your sleep is healthy though!\n",
      "How to sleep through the night: a summary of key\n",
      "concepts\n",
      "That’s all for now. If you’re struggling to sleep through the night, in addition to applying basic\n",
      "principles of good sleep hygiene during the daytime, minimise napping, use the 20-minute rule,\n",
      "and be meticulous about bedtime regularity! Do these things and you’ll reap the rewards of\n",
      "more restorative sleep. Sleep-maintenance insomnia: how to\n",
      "sleep through the night\n",
      "In the previous blog, we briefly reviewed what insomnia is, as well as a few simple strategies\n",
      "you can immediately put to use to sleep better. In this blog we’re going to focus on how to sleep\n",
      "through the night. In doing so, I’ll discuss a few things we can all learn from the treatment of\n",
      "sleep-maintenance insomnia, a disorder in which people wake frequently and for prolonged\n",
      "periods when they would rather be sleeping. So, if you’re tired of waking up at night, try these\n",
      "tips and let me know the results!\n",
      "Your daytime activities strongly influence your\n",
      "night-time sleep\n",
      "In a previous blog, Megan shared loads of tips about sleep hygiene. Here are some numeric\n",
      "guidelines for several particularly important sleep hygiene components:\n",
      "● Get plenty of exposure to daylight: Aim to spend at least 30 minutes outdoors in daylight\n",
      "each day, preferably in the first half of your waking day. Why not take an early lunch\n",
      "break outdoors with others?\n",
      "● Limit your consumption of stimulants such as caffeine: Cap your intake at 2 mg caffeine\n",
      "per kg body mass per day (use this site to estimate your intake), finishing your last\n",
      "caffeine-containing item by at least 9 hours before bedtime. Swap your caffeinated\n",
      "drinks for caffeine-free herbal teas.\n",
      "● Whenever possible, avoid high-intensity exercise shortly before bedtime: finish\n",
      "vigorous-intensity and/or high workload physical activity by at least 4 hours before\n",
      "bedtime, finish moderate-intensity physical activity at least 2 hours before bedtime. Don’t\n",
      "worry, sex doesn’t count and often helps people sleep… so get busy.\n",
      "● Finish consuming all calorie-containing items at least 2 hours before bedtime. Stop\n",
      "consuming fluids at this time too if you’re prone to needing to pee during the sleep\n",
      "period.\n",
      "Notice that these guidelines are all relative to your sleep timing, not time of day. There are very\n",
      "(very!) large differences between people in how their sleep is affected by these stimuli, but try\n",
      "these guidelines to begin. Pain and sleep in athletes\n",
      "To be the best they can be, athletes regularly test their capacity for physical discomfort. High\n",
      "training loads and injuries take their toll, and pain is rife in athletes. Left unchecked, poor sleep\n",
      "and pain can spiral in a vicious cycle in which poor sleep increases pain and reduces tolerance\n",
      "to painful stimuli, while in turn pain hampers sleep. Managing pain is key to maintaining healthy\n",
      "sleep in athletes, which highlights the critical importance of smart training. In addition, of the\n",
      "different strategies I’ve mentioned, meditation can be particularly helpful for coping with chronic\n",
      "pain.\n",
      "Mindset and competition\n",
      "Next, many athletes are perfectionists and experience high levels of anxiety about performance,\n",
      "especially around competitions, which may interfere with sleep. The strategies I discussed in the\n",
      "last blog should help with these ruminations.\n",
      "Competition does bring unique challenges, however. First, some events take place very early or\n",
      "late, and if this is the case then athletes should heed the advice above regarding how to shift\n",
      "sleep timing.\n",
      "Travel and sleep\n",
      "Competitions frequently entail travel, which can disrupt sleep in several ways. Sleeping in an\n",
      "unfamiliar environment routinely results in the “first-night effect”, a phenomenon in which we\n",
      "experience transient insomnia when sleeping in novel environments. This increased vigilance is\n",
      "thought to have evolutionary origins: you wouldn’t want to drop your guard for long in a place\n",
      "you’re not familiar with.\n",
      "Then there is jetlag, a subject I’d bet you’re all too familiar with. It would take multiple blogs to\n",
      "comprehensively address the causes, consequences, and management of jetlag, so I’ll be very\n",
      "brief here. If you’re travelling across 3 or more time zones and plan to fully adjust to the new\n",
      "time zone, use the website jetlagrooster for guidance on how to optimise your exposure to light\n",
      "to overcome jetlag faster. At times of day when you are trying to avoid light exposure, wear\n",
      "sunglasses or blue-blocking glasses. Timely use of melatonin in conjunction with changes in\n",
      "your patterns of light exposure can additively shift the timing of your body’s clock. If you take\n",
      "melatonin, use conventional melatonin (not the timed-release stuff) at a dose of about 1 mg (this\n",
      "is a good product). optimising recovery at these times by minimising non-training physical activity, avoiding undue\n",
      "stress, ensuring adequate dietary energy availability (some athletes may be especially prone to\n",
      "a relative energy deficiency at these times), and attending closely to good sleep hygiene.\n",
      "Nutrition\n",
      "Speaking of dietary energy availability, athletes in aesthetic sports and events in which strength\n",
      "and power relative to body mass are important to success put a premium on being lean and are\n",
      "therefore often susceptible to undereating. Unsurprisingly, eating disorders and their\n",
      "consequences tend to be more common in these athletes than the general population. Equally\n",
      "unsurprisingly, athletes in aesthetic sports are also especially prone to sleep problems, and\n",
      "sleep problems are generally slightly more prevalent in female athletes.\n",
      "In these instances, it’s important to increase energy availability. Gradually and systematically\n",
      "increasing energy intake may help minimise undue fat gain in these athletes, but it sometimes\n",
      "makes sense to make larger and faster increments in calorie consumption. In the case of eating\n",
      "disorders, this process is best done under the supervision of a dietician or similarly qualified\n",
      "health professional.\n",
      "Sleep in very heavy athletes\n",
      "At the other end of the body mass spectrum, some athletes are very, very large people, and\n",
      "being so big can itself disrupt sleep. The heavier you are, the more likely you are to experience\n",
      "obstructive sleep apnea, a disorder in which the upper airway intermittently collapses during\n",
      "sleep, leading to temporary hypoxia and various negative health consequences. So, if you\n",
      "frequently get tired during the day, snore, and others have witnessed you stop breathing at\n",
      "night, you should seek help.\n",
      "Sleep in contact sport athletes\n",
      "Many athletes in contact sports such as American football, rugby, boxing, and MMA are not only\n",
      "very large but also prone to concussions. Concussions are often ruinous for sleep, and it’s\n",
      "probable that sleep disruption is one of the mechanisms by which these athletes are disposed to\n",
      "neurodegenerative diseases. Managing concussions is notoriously tricky, and while easier said\n",
      "than done, the onus has to be on being responsible and putting the athlete’s long-term health\n",
      "first. Two ways of tracking sleep are:\n",
      "1) Using devices: There’s now a panoply of sleep-tracking devices out there, the most\n",
      "common of which are finger- or wrist-worn. While I can’t claim this confidently when\n",
      "manufacturers are continually updating their devices, there simply doesn’t seem to be a\n",
      "big difference in the accuracy of most of these devices. So, if you buy a wearable, pick\n",
      "one made by a reputable manufacturer that has the functionality you’re after. At the time\n",
      "of writing, I wouldn’t pay attention to things like sleep stages or sleep “scores” - just\n",
      "focus on the sleep timing and duration data.\n",
      "2) Using a diary: If I had to pick either a wearable or a sleep diary, I’d probably pick a\n",
      "sleep diary. In addition to quantitative measures, how well you feel you slept is important,\n",
      "and an advantage of sleep diaries is that you can record various factors that might affect\n",
      "your sleep. You’d probably prefer to keep a digital diary, so you could try one such as\n",
      "this.\n",
      "To establish your baseline sleep, track it every morning for two weeks. To ingrain this tracking\n",
      "habit, pair it with a routine activity, such as waiting for the kettle to boil. As your habits largely\n",
      "determine whether your health improves or deteriorates, you will surely benefit from learning\n",
      "more about how to shape your habits for the better. For more on this, check out the SEEDS\n",
      "journal.\n",
      "Having trouble sleeping? Your bed is the most\n",
      "important item of furniture you own\n",
      "Consider this:\n",
      "You will spend about a third of your life asleep...\n",
      "… so you should make sure you’re sleeping on a good mattress!\n",
      "While you’re tracking your baseline sleep, you might want to buy a new mattress. Three key\n",
      "variables to consider when buying a mattress are comfort, durability, and support.\n",
      "In recent years, “bed in a box” mattresses have dramatically increased in popularity. To be\n",
      "foldable, these are made of foam. The problem with this is that foam tends to absorb heat, and\n",
      "you won’t sleep well if you get too hot. Some manufacturers use cooling gels to attempt to\n",
      "overcome this limitation, but it’s unclear how long the gels last. As spring mattresses dissipate\n",
      "heat more efficiently, they’re probably better than foam mattresses for most people. Training\n",
      "Next there is training. Training commonly disrupts sleep by way of its timing and/or its load.\n",
      "Training timing\n",
      "If early or late training overlaps with your habitual sleep period (bearing in mind that it takes time\n",
      "to eat, get ready for training, travel to and from training, wind down from training, and so on),\n",
      "your sleep is likely to suffer. Ideally, you would adjust your schedule to avoid such overlap.\n",
      "However, if your training times can’t be changed then one option is to shift your sleep earlier or\n",
      "later, respectively.\n",
      "To shift your sleep earlier, increase your exposure to daylight within 2 hours of waking for the\n",
      "day ahead. If you can’t expose yourself to daylight, use a light therapy lamp that emits a light\n",
      "intensity of at least 10,000 lux, and use it for at least half an hour. In the evening, avoid exercise\n",
      "in the 4 hours or so before your planned bedtime, and systematically reduce your exposure to\n",
      "light 2 hours before your planned bedtime. If you’re outside at this time and the sun is up, wear\n",
      "sunglasses. If you’re indoors, dim the lights (or turn some lights off) and perhaps use\n",
      "blue-blocking glasses. Finally, to go to sleep earlier, it’s probably best to at least temporarily stop\n",
      "consuming any caffeine during this phase. If you do these things, you should be able to advance\n",
      "your sleep timing by at least 30 minutes each day.\n",
      "To shift your sleep later, reduce your exposure to daylight within 2 hours of waking in the\n",
      "morning. If you’re outside and the sun is up, wear sunglasses. If you’re indoors, use minimal\n",
      "lighting and perhaps use blue-blocking glasses. In the evening, exercising 3 to 5 hours before\n",
      "your planned bedtime will help you delay your sleep. Systematically increase your exposure to\n",
      "light at this time too. If you do these things, you should be able to delay your sleep timing by at\n",
      "least 30 minutes each day. Note that regardless of whether you’re shifting your sleep earlier or\n",
      "later, you should move your diet timing in lockstep with your sleep timing.\n",
      "Training load\n",
      "Regarding training load, you’ve probably noticed that if you test the limits of your recovery your\n",
      "sleep soon deteriorates. Sleep problems are commonplace during overreaching and\n",
      "overtraining, and the problems generally subside once the balance between training load and\n",
      "ability to recover from training becomes more favourable. Addressing sleep difficulties during\n",
      "these periods entails modifying training loads (if possible) and being particularly fastidious about we won't procreate and subsequently pass on our genes, but we can think of sleep as being the price that we pay for weightfulness. It's something that optimizes our bodies\n",
      "for things like being physically active for acquiring food and meet. And so in this way,\n",
      "the clock's ability\n",
      "to anticipate events\n",
      "in the environment\n",
      "and align biology with those events\n",
      "is actually a darwinian fitness characteristic\n",
      "by which I mean that if we were active at\n",
      "inappropriate times a day, we might be more likely to run into predators, for example.\n",
      "You might be less likely to find food than meats,\n",
      "and so be more likely to get popped out of the gene pool\n",
      "and less prone passing on our genes to subsequent generations.\n",
      "While this is quite difficult to demonstrate in humans,\n",
      "there is some evidence thing that this is indeed the case.\n",
      "There's a particular type of experiment called a resonance experiment\n",
      "that showed this very nicely.\n",
      "One of the early ones was done by Kyle Johnson\n",
      "at Vanderbilt University in nineteen ninety eight. And what they did was they took cyanobacteria\n",
      "that I mentioned earlier,\n",
      "and they grew different strains of these bacteria that have different\n",
      "body clocks so their clocks take at different speeds each day.\n",
      "They grew them in dishes\n",
      "under different light dark cycle lengths.\n",
      "Some of those cycles were longer than others.\n",
      "What they found was that strains that had intrinsic clocks that better match the light dark cycle\n",
      "outcompeted the other strains for resources\n",
      "resulting in larger colonies of these bacteria over time.\n",
      "Subsequently, there has been some work showing this in mammals like ourselves too. Mikaela How did a really nice experiment in two thousand\n",
      "in which she found that mice with near twenty four hour body clocks survive longer\n",
      "and\n",
      "were more likely to reproduce than mice that had very fast clocks as a result of a gene mutation that speeds up the clock.\n",
      "Another characteristic of flocks that's important to understand is that they help us adapt to changes in the environment. We can see this in many ways, but fundamentally\n",
      "our clocks track the photo period each day. This is what enables us to adjust to jet lag if our clocks weren't able to adapt, so we'd be stuck in our home time zone all the time, regardless\n",
      "of where we travel to.\n",
      "But a really vivid demonstration of this was\n",
      "shown by Ken Wright and his colleagues,\n",
      "and they published a couple of experiments\n",
      "looking at what happens to the clocks of healthy young adults who went camping for several days at different times of years. So one of these trips took place during the summer, and one of them took place during the winter. And before camping,\n",
      "their clocks were similar while at home at these two different times of year, and probably largely because of the modern electrically lit light environment.\n",
      "But after just six days of winter camping,\n",
      "their biological nighttime\n",
      "started a lot earlier than it did before the trip, and also that it did\n",
      "after summer camping, and then the nighttime\n",
      "ended later too. As a result of that, this biological night time and I'll return to exactly what that is later\n",
      "was about four hours longer in the winter than it was in the summer.\n",
      "And so, basically, the biological nighttime that in internal representation\n",
      "of the night,\n",
      "expanded\n",
      "in lost step with the fact that it's dark for longer in the winter than it is during the summer.\n",
      "And then considering this\n",
      "in terms of evolutionary biology,\n",
      "there are certain stresses that can actually potentially cause animals to switch between temporal\n",
      "niches.\n",
      "At least some animals, we don't know that this is true of humans. That's sterile, but there's been some very interesting research over the years on something called food anticipatory\n",
      "activity.\n",
      "The research on this goes way back There was some work showing that food consumption can influence the biological clock and food related behaviors. So things like food, seating, far back as the nineteen twenties,\n",
      "and they basically found that consistent\n",
      "patterns\n",
      "of activity before drinking or eating anything,\n",
      "either wearing the same item of clothing or not wearing any clothes at all. For a lot of people, they might want to do this once or twice a week.\n",
      "I recognize also that this isn't for everyone. If, for example, you've got a history of eating disorders or disordered eating, then it might not be for you. But if you are simply trying to maintain a new lower body weight, then this particular habit can be transformative.\n",
      "Another habit that I think is really helpful for a lot of people that I don't believe has come up in the podcast so far is\n",
      "matching your time in bed to your actual sleep capacity.\n",
      "Tommy spoke about the importance of spending sufficient time in bed, that is very relevant to most people.\n",
      "And frankly, many people benefit from spending slightly more time in bed, specifically\n",
      "if they have a history of insufficient sleep. They have some sort of lifestyle driven sleep loss. For example, they wake up to the alarm clock before work days and then they try and catch up on some sleep on the weekends.\n",
      "These people would benefit from extending their time in bed, perhaps by setting their alarm clock as late as possible,\n",
      "by increasing their exposure to daylight in the morning to shift their clocks early, which will help them fall asleep earlier by reducing their caffeine intake too.\n",
      "And perhaps by reducing their exposure to strong overhead lighting in the three hours or so before bed.\n",
      "For other people, though, specifically people with insomnia type symptoms.\n",
      "They actually benefit from spending less time in bed. One of the core treatments for insomnia is called bedtime restriction therapy\n",
      "or sometimes it's called sleep restriction therapy.\n",
      "Sometimes it's called sleep consolidation therapy.\n",
      "Regardless of what you call it, the idea is to only allow yourself the amounts of time in bed that you're actually asleep on a regular basis because what happens in insomnia is that people spend lots of time awake in bed trying to sleep and unable to sleep. So for example, if you spend ten hours in bed, but you're only asleep for six of those hours,\n",
      "then you might take six hours,\n",
      "add on thirty minutes because nobody is asleep from the moment they lie down in bed, So the moment they wake up in the morning.\n",
      "And then only let yourself have six and a half hours in bed and the way that you would practice, that would be by delaying your bedtime\n",
      "but waking up at the same time that you normally wake up in the morning.\n",
      "That will reduce the amount of time that you're spending awake in bed, and substantially improve your sleep quality in short order. Although, frankly, the first week or two will be very difficult because You might find that initially your sleep quality isn't that high and you are losing a bit of sleep. You might feel very fatigued during the day,\n",
      "But very soon, the improvements in sleep quality will more than compensate for the small reduction in sleep duration that sometimes occurs.\n",
      "Then in part two of my conversation with Simon, we spoke about problem versus emotion focused coping strategies.\n",
      "And how the people who most effectively\n",
      "cope with stress tend to use both of these types of strategies.\n",
      "Problem focused\n",
      "strategies\n",
      "address the underlying cause\n",
      "of stress.\n",
      "For some people, that might be financial stress due to spending too much money on non essential things.\n",
      "For others, the stress might be from a toxic relationship.\n",
      "A helpful example of a problem focused coping strategy\n",
      "is called scheduled\n",
      "worry time.\n",
      "The idea here is that we're trying to compartmentalize\n",
      "the time that we spend wiring each day by dedicating\n",
      "a specific period\n",
      "in which to worry.\n",
      "And sometimes you might dedicate a specific space\n",
      "in which to worry you could have a worry chair in your office or in your home where you practice\n",
      "your worry time.\n",
      "And during this worry time, sit down with a piece of paper and a pen. You can also use a laptop or your phone for this,\n",
      "Human: sleep efficiency\u001b[0m\n",
      "\n",
      "\u001b[1m> Finished chain.\u001b[0m\n",
      "\u001b[38;5;200m\u001b[1;3mSleep efficiency refers to the proportion of time spent asleep in relation to the total time spent in bed. It is calculated by dividing the total sleep time by the total time spent in bed, then multiplying the result by 100 to get a percentage. For instance, in the case of Amy, she's in bed from 10 PM to 8 AM each night - a 10-hour sleep opportunity. But she’s only asleep for 6 of those hours in total, so her sleep efficiency is 60 % (6 / 10 X 100).\n",
      "\n",
      "Sleep efficiency can be improved by various techniques such as bedtime restriction therapy. Amy began this therapy by limiting her time in bed to her average sleep duration, which was 6 hours. She adjusted her bedtime and wake up time to match this duration, increasing her sleep efficiency. It's generally considered healthy when the average sleep efficiency is above 85 %, and the goal is to reach this level or higher. Once achieved, the sleep opportunity can be extended by 15 minutes, repeating the process until the desired sleep duration is reached while maintaining high sleep efficiency. \n",
      "\n",
      "Key takeaways from this process include the importance of enforcing regular bedtimes if you’re struggling to sleep through the night, and occasionally using an alarm to enforce wake times, although this is not recommended for those with healthy sleep patterns. Tracking sleep, being consistent with bedtimes, and adjusting sleep opportunities as needed can lead to more restorative sleep and improved daytime alertness.\u001b[0m\n",
      "\u001b[32;1m\u001b[1;3m\u001b[0m\n",
      "\n",
      "\u001b[1m> Finished chain.\u001b[0m\n",
      "Sleep efficiency refers to the proportion of time spent asleep in relation to the total time spent in bed. It is calculated by dividing the total sleep time by the total time spent in bed, then multiplying the result by 100 to get a percentage. For instance, in the case of Amy, she's in bed from 10 PM to 8 AM each night - a 10-hour sleep opportunity. But she’s only asleep for 6 of those hours in total, so her sleep efficiency is 60 % (6 / 10 X 100).\n",
      "\n",
      "Sleep efficiency can be improved by various techniques such as bedtime restriction therapy. Amy began this therapy by limiting her time in bed to her average sleep duration, which was 6 hours. She adjusted her bedtime and wake up time to match this duration, increasing her sleep efficiency. It's generally considered healthy when the average sleep efficiency is above 85 %, and the goal is to reach this level or higher. Once achieved, the sleep opportunity can be extended by 15 minutes, repeating the process until the desired sleep duration is reached while maintaining high sleep efficiency. \n",
      "\n",
      "Key takeaways from this process include the importance of enforcing regular bedtimes if you’re struggling to sleep through the night, and occasionally using an alarm to enforce wake times, although this is not recommended for those with healthy sleep patterns. Tracking sleep, being consistent with bedtimes, and adjusting sleep opportunities as needed can lead to more restorative sleep and improved daytime alertness.\n"
     ]
    },
    {
     "data": {
      "text/plain": [
       "True"
      ]
     },
     "execution_count": 17,
     "metadata": {},
     "output_type": "execute_result"
    }
   ],
   "source": [
    "x(\"is my sleep efficiency any good?\")"
   ]
  },
  {
   "cell_type": "markdown",
   "id": "3d678882-b636-4b4a-9cbf-ba0aeecee54f",
   "metadata": {},
   "source": [
    "## Try retrieving an entry"
   ]
  },
  {
   "cell_type": "code",
   "execution_count": 5,
   "id": "3e308fb7-f7fd-47f4-a92a-1b3829a97fd8",
   "metadata": {},
   "outputs": [
    {
     "data": {
      "text/plain": [
       "dict_keys(['insomnia_severity_index', 'diary_probe', 'diary_entry_retrieval', 'diary_entry', 'open_focus', 'leaves_on_a_stream', 'valued_living', 'test', 'seeds_probe', 'seeds_entry', 'knowledge', 'daily_routine'])"
      ]
     },
     "execution_count": 5,
     "metadata": {},
     "output_type": "execute_result"
    }
   ],
   "source": [
    "goals.keys()"
   ]
  },
  {
   "cell_type": "code",
   "execution_count": 2,
   "id": "b78321c9-5722-4d8d-8b91-a7f11265141e",
   "metadata": {},
   "outputs": [
    {
     "name": "stdout",
     "output_type": "stream",
     "text": [
      "get_agent len(tools)=10\n",
      "load_memory filename='/Users/cck197/Downloads/virtual_greg/memory.pkl'\n"
     ]
    },
    {
     "data": {
      "text/markdown": [
       "Hello again, Chris! How can I assist you today?"
      ],
      "text/plain": [
       "<IPython.core.display.Markdown object>"
      ]
     },
     "metadata": {},
     "output_type": "display_data"
    }
   ],
   "source": [
    "x = X(SYSTEM_DESCRIPTION, goals[\"diary_entry_retrieval\"])"
   ]
  },
  {
   "cell_type": "code",
   "execution_count": 3,
   "id": "ea242537-1105-411c-a22c-a44e46400cd4",
   "metadata": {},
   "outputs": [
    {
     "data": {
      "text/markdown": [
       "I see you've mentioned a date - October 9th, 2023. Are you referring to a specific event or request related to this date? For example, would you like to make a sleep diary entry for this date?"
      ],
      "text/plain": [
       "<IPython.core.display.Markdown object>"
      ]
     },
     "metadata": {},
     "output_type": "display_data"
    },
    {
     "data": {
      "text/plain": [
       "\"I see you've mentioned a date - October 9th, 2023. Are you referring to a specific event or request related to this date? For example, would you like to make a sleep diary entry for this date?\""
      ]
     },
     "execution_count": 3,
     "metadata": {},
     "output_type": "execute_result"
    }
   ],
   "source": [
    "x(\"summarise my last sleep diary entry\")"
   ]
  },
  {
   "cell_type": "code",
   "execution_count": 4,
   "id": "87f77e17-344c-49e2-87e6-a259145a9638",
   "metadata": {},
   "outputs": [
    {
     "data": {
      "text/markdown": [
       "I understand that you're asking for a summary of your sleep diary entry for the night of October 9th, 2023. Here's what you shared:\n",
       "\n",
       "- Sleep quality: Very good\n",
       "- Bedtime: 21:15\n",
       "- Time you tried to fall asleep: 21:15\n",
       "- Time it took to fall asleep: 5 minutes\n",
       "- Number of awakenings: Once\n",
       "- Total awake time during the night: 5 minutes\n",
       "- Final wake up time: 6:45\n",
       "- Time you got out of bed: 6:45\n",
       "- Sleep aid used: Melatonin\n",
       "- Additional notes: Slept in a van, it was raining\n",
       "\n",
       "Your sleep efficiency, which is the percentage of time spent asleep while in bed, is approximately 95%. This is considered very good as anything over 85% is normal. \n",
       "\n",
       "Does this summary accurately reflect your sleep diary entry for the night of October 9th, 2023?"
      ],
      "text/plain": [
       "<IPython.core.display.Markdown object>"
      ]
     },
     "metadata": {},
     "output_type": "display_data"
    },
    {
     "data": {
      "text/plain": [
       "\"I understand that you're asking for a summary of your sleep diary entry for the night of October 9th, 2023. Here's what you shared:\\n\\n- Sleep quality: Very good\\n- Bedtime: 21:15\\n- Time you tried to fall asleep: 21:15\\n- Time it took to fall asleep: 5 minutes\\n- Number of awakenings: Once\\n- Total awake time during the night: 5 minutes\\n- Final wake up time: 6:45\\n- Time you got out of bed: 6:45\\n- Sleep aid used: Melatonin\\n- Additional notes: Slept in a van, it was raining\\n\\nYour sleep efficiency, which is the percentage of time spent asleep while in bed, is approximately 95%. This is considered very good as anything over 85% is normal. \\n\\nDoes this summary accurately reflect your sleep diary entry for the night of October 9th, 2023?\""
      ]
     },
     "execution_count": 4,
     "metadata": {},
     "output_type": "execute_result"
    }
   ],
   "source": [
    "x(\"yeah that's right, summarise that entry\")"
   ]
  },
  {
   "cell_type": "markdown",
   "id": "63998458-9a27-4625-9582-c38d692484e5",
   "metadata": {
    "jp-MarkdownHeadingCollapsed": true
   },
   "source": [
    "# Insomnia Severity Index (ISI)"
   ]
  },
  {
   "cell_type": "code",
   "execution_count": 2,
   "id": "e7788582-abe5-4638-ad85-5476ed9eefa5",
   "metadata": {},
   "outputs": [
    {
     "name": "stdout",
     "output_type": "stream",
     "text": [
      "get_agent len(tools)=9\n",
      "load_memory filename='/Users/cck197/Downloads/virtual_greg/memory.pkl'\n",
      "Hello, Chris! How are you feeling today?\n"
     ]
    }
   ],
   "source": [
    "x = X(SYSTEM_DESCRIPTION, goals[\"insomnia_severity_index\"])"
   ]
  },
  {
   "cell_type": "code",
   "execution_count": 3,
   "id": "1d631fdc-61c8-4943-85a6-a91e78820b2e",
   "metadata": {},
   "outputs": [
    {
     "name": "stdout",
     "output_type": "stream",
     "text": [
      "That's great to hear, Chris! 🚀🚀🚀 It's wonderful when we can appreciate the good days. Is there something specific you would like to talk about or any way I can assist you further?\n"
     ]
    },
    {
     "data": {
      "text/plain": [
       "True"
      ]
     },
     "execution_count": 3,
     "metadata": {},
     "output_type": "execute_result"
    }
   ],
   "source": [
    "x(\"pretty good\")"
   ]
  },
  {
   "cell_type": "code",
   "execution_count": 5,
   "id": "b848147b-ee89-4202-a735-32c233bb5a4a",
   "metadata": {},
   "outputs": [
    {
     "name": "stdout",
     "output_type": "stream",
     "text": [
      "I'm sorry to hear that you're still having trouble sleeping through the night, Chris. It must be quite challenging for you. Let's see if we can understand your sleep patterns a little better. Would now be a good time for you to go through the Insomnia Severity Index questionnaire? It's a standard 7-item questionnaire that might help us understand your situation better.\n"
     ]
    },
    {
     "data": {
      "text/plain": [
       "True"
      ]
     },
     "execution_count": 5,
     "metadata": {},
     "output_type": "execute_result"
    }
   ],
   "source": [
    "x(\"yeah, still having problems sleeping through the night\")"
   ]
  },
  {
   "cell_type": "code",
   "execution_count": 6,
   "id": "77def9d4-350a-4abc-a99d-70bd343462c6",
   "metadata": {},
   "outputs": [
    {
     "name": "stdout",
     "output_type": "stream",
     "text": [
      "Great, let's get started. \n",
      "\n",
      "1. How would you rate your difficulty falling asleep? The options are:\n",
      "   0: None\n",
      "   1: Mild\n",
      "   2: Moderate\n",
      "   3: Severe\n",
      "   4: Very severe\n"
     ]
    },
    {
     "data": {
      "text/plain": [
       "True"
      ]
     },
     "execution_count": 6,
     "metadata": {},
     "output_type": "execute_result"
    }
   ],
   "source": [
    "x(\"sure\")"
   ]
  },
  {
   "cell_type": "code",
   "execution_count": 7,
   "id": "03e3cc9d-5094-47da-b54c-295e08297966",
   "metadata": {},
   "outputs": [
    {
     "name": "stdout",
     "output_type": "stream",
     "text": [
      "Thank you for your response, Chris.\n",
      "\n",
      "2. How would you rate your difficulty staying asleep? The options are:\n",
      "   0: None\n",
      "   1: Mild\n",
      "   2: Moderate\n",
      "   3: Severe\n",
      "   4: Very severe\n"
     ]
    },
    {
     "data": {
      "text/plain": [
       "True"
      ]
     },
     "execution_count": 7,
     "metadata": {},
     "output_type": "execute_result"
    }
   ],
   "source": [
    "x(\"0\")"
   ]
  },
  {
   "cell_type": "code",
   "execution_count": 8,
   "id": "057f7b56-a054-4417-a8d4-aa95ec5b4ac1",
   "metadata": {},
   "outputs": [
    {
     "name": "stdout",
     "output_type": "stream",
     "text": [
      "Thank you, Chris.\n",
      "\n",
      "3. How would you rate your problems with waking up too early? The options are:\n",
      "   0: None\n",
      "   1: Mild\n",
      "   2: Moderate\n",
      "   3: Severe\n",
      "   4: Very severe\n"
     ]
    },
    {
     "data": {
      "text/plain": [
       "True"
      ]
     },
     "execution_count": 8,
     "metadata": {},
     "output_type": "execute_result"
    }
   ],
   "source": [
    "x(\"1\")"
   ]
  },
  {
   "cell_type": "code",
   "execution_count": 9,
   "id": "083e0f45-710f-4ac2-9c2c-495d4de21585",
   "metadata": {},
   "outputs": [
    {
     "name": "stdout",
     "output_type": "stream",
     "text": [
      "Thank you, Chris.\n",
      "\n",
      "4. How satisfied or dissatisfied are you with your current sleep pattern? The options are:\n",
      "   0: Very satisfied\n",
      "   1: Satisfied\n",
      "   2: Moderately satisfied\n",
      "   3: Dissatisfied\n",
      "   4: Very dissatisfied\n"
     ]
    },
    {
     "data": {
      "text/plain": [
       "True"
      ]
     },
     "execution_count": 9,
     "metadata": {},
     "output_type": "execute_result"
    }
   ],
   "source": [
    "x(\"0\")"
   ]
  },
  {
   "cell_type": "code",
   "execution_count": 10,
   "id": "688142a4-9e5b-465d-bc52-7795eddaf213",
   "metadata": {},
   "outputs": [
    {
     "name": "stdout",
     "output_type": "stream",
     "text": [
      "Thank you, Chris.\n",
      "\n",
      "5. How noticeable to others do you think your sleep problem is in terms of impairing the quality of your life? The options are:\n",
      "   0: Not at all\n",
      "   1: A little bit\n",
      "   2: Moderately\n",
      "   3: Quite a bit\n",
      "   4: Very much\n"
     ]
    },
    {
     "data": {
      "text/plain": [
       "True"
      ]
     },
     "execution_count": 10,
     "metadata": {},
     "output_type": "execute_result"
    }
   ],
   "source": [
    "x(\"0\")"
   ]
  },
  {
   "cell_type": "code",
   "execution_count": 11,
   "id": "f93375c1-8fdf-45f7-86dc-8cd5be66b526",
   "metadata": {},
   "outputs": [
    {
     "name": "stdout",
     "output_type": "stream",
     "text": [
      "Thank you, Chris.\n",
      "\n",
      "6. How worried or distressed are you about your current sleep problem? The options are:\n",
      "   0: Not at all\n",
      "   1: A little bit\n",
      "   2: Moderately\n",
      "   3: Quite a bit\n",
      "   4: Very much\n"
     ]
    },
    {
     "data": {
      "text/plain": [
       "True"
      ]
     },
     "execution_count": 11,
     "metadata": {},
     "output_type": "execute_result"
    }
   ],
   "source": [
    "x(\"0\")"
   ]
  },
  {
   "cell_type": "code",
   "execution_count": 12,
   "id": "57307c46-ef95-416e-bf24-42a25ad93da9",
   "metadata": {},
   "outputs": [
    {
     "name": "stdout",
     "output_type": "stream",
     "text": [
      "Thank you, Chris.\n",
      "\n",
      "7. To what extent do you consider your sleep problem to interfere with your daily functioning (e.g., daytime fatigue, ability to function at work/daily chores, concentration, memory, mood, etc.)? The options are:\n",
      "   0: Not at all\n",
      "   1: A little bit\n",
      "   2: Moderately\n",
      "   3: Quite a bit\n",
      "   4: Very much\n"
     ]
    },
    {
     "data": {
      "text/plain": [
       "True"
      ]
     },
     "execution_count": 12,
     "metadata": {},
     "output_type": "execute_result"
    }
   ],
   "source": [
    "x(\"0\")"
   ]
  },
  {
   "cell_type": "code",
   "execution_count": 13,
   "id": "7ec9b886-5ec0-4084-90e9-79d4d41483fa",
   "metadata": {},
   "outputs": [
    {
     "name": "stdout",
     "output_type": "stream",
     "text": [
      "Thank you for your responses, Chris. Here's a summary:\n",
      "\n",
      "1. Difficulty falling asleep: None (0)\n",
      "2. Difficulty staying asleep: Mild (1)\n",
      "3. Problems waking up too early: None (0)\n",
      "4. Satisfaction with current sleep pattern: Very satisfied (0)\n",
      "5. Noticeability of sleep problem: Not at all (0)\n",
      "6. Worries about sleep problem: Not at all (0)\n",
      "7. Interference of sleep problem with daily functioning: Not at all (0)\n",
      "\n",
      "The total score is 1, which falls into the category of \"No clinically significant insomnia\". Does this summary accurately reflect your responses?\n"
     ]
    },
    {
     "data": {
      "text/plain": [
       "True"
      ]
     },
     "execution_count": 13,
     "metadata": {},
     "output_type": "execute_result"
    }
   ],
   "source": [
    "x(\"0\")"
   ]
  },
  {
   "cell_type": "code",
   "execution_count": 14,
   "id": "7f357c1a-3625-4117-91d4-49d24b7adc99",
   "metadata": {},
   "outputs": [
    {
     "name": "stdout",
     "output_type": "stream",
     "text": [
      "Great! I'm glad to hear that the summary is accurate. Your score indicates that you don't have clinically significant insomnia. However, you mentioned having mild difficulty staying asleep. If this continues to be a concern, it might be helpful to explore strategies for improving sleep continuity. Please feel free to reach out if you have any questions or need further assistance. 🚀🚀🚀\n"
     ]
    },
    {
     "data": {
      "text/plain": [
       "True"
      ]
     },
     "execution_count": 14,
     "metadata": {},
     "output_type": "execute_result"
    }
   ],
   "source": [
    "x(\"yep!\")"
   ]
  },
  {
   "cell_type": "code",
   "execution_count": null,
   "id": "a9ba4929-6c86-4fdf-8693-91bb5516d261",
   "metadata": {},
   "outputs": [],
   "source": []
  }
 ],
 "metadata": {
  "kernelspec": {
   "display_name": "Python 3 (ipykernel)",
   "language": "python",
   "name": "python3"
  },
  "language_info": {
   "codemirror_mode": {
    "name": "ipython",
    "version": 3
   },
   "file_extension": ".py",
   "mimetype": "text/x-python",
   "name": "python",
   "nbconvert_exporter": "python",
   "pygments_lexer": "ipython3",
   "version": "3.11.5"
  }
 },
 "nbformat": 4,
 "nbformat_minor": 5
}
