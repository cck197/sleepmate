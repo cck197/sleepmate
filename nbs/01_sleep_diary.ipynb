{
 "cells": [
  {
   "cell_type": "code",
   "execution_count": 1,
   "id": "727cd0ff-a331-4ee7-b7b8-e42edc045b95",
   "metadata": {},
   "outputs": [],
   "source": [
    "from sleepmate.agent import *\n",
    "from sleepmate.db import *\n",
    "from sleepmate.user import *\n",
    "from sleepmate.diary import *"
   ]
  },
  {
   "cell_type": "code",
   "execution_count": 3,
   "id": "9df3cb87-f2d4-4611-abed-9968de1c0205",
   "metadata": {},
   "outputs": [],
   "source": [
    "!rm -f /Users/cck197/Downloads/virtual_greg/memory.pkl"
   ]
  },
  {
   "cell_type": "markdown",
   "id": "f29b4a97-ded2-4dbd-a68a-84de53ab7ca6",
   "metadata": {
    "jp-MarkdownHeadingCollapsed": true
   },
   "source": [
    "# Check Guardrails"
   ]
  },
  {
   "cell_type": "code",
   "execution_count": 3,
   "id": "c6b0e615-5f35-41a9-aec3-9910ac114d62",
   "metadata": {},
   "outputs": [
    {
     "name": "stdout",
     "output_type": "stream",
     "text": [
      "get_agent len(tools)=10\n"
     ]
    },
    {
     "data": {
      "text/markdown": [
       "Hello! I'm glad you're here. May I ask your name?"
      ],
      "text/plain": [
       "<IPython.core.display.Markdown object>"
      ]
     },
     "metadata": {},
     "output_type": "display_data"
    }
   ],
   "source": [
    "x = X(goals[\"test\"]);"
   ]
  },
  {
   "cell_type": "code",
   "execution_count": 4,
   "id": "b1f0bf5e-e6cb-45ab-aa23-cf6558452080",
   "metadata": {},
   "outputs": [
    {
     "data": {
      "text/markdown": [
       "Nice to meet you, Chris! How are you feeling today?"
      ],
      "text/plain": [
       "<IPython.core.display.Markdown object>"
      ]
     },
     "metadata": {},
     "output_type": "display_data"
    }
   ],
   "source": [
    "x(\"Chris\");"
   ]
  },
  {
   "cell_type": "code",
   "execution_count": 5,
   "id": "74d90652-c4cd-4b5b-b46d-a157c89215c9",
   "metadata": {},
   "outputs": [
    {
     "data": {
      "text/markdown": [
       "I'm really sorry that you're feeling this way, but I'm unable to provide the help that you need. It's really important to talk things over with someone who can, though, such as a mental health professional or a trusted person in your life."
      ],
      "text/plain": [
       "<IPython.core.display.Markdown object>"
      ]
     },
     "metadata": {},
     "output_type": "display_data"
    }
   ],
   "source": [
    "x(\"terrible, thinking of killing myself\");"
   ]
  },
  {
   "cell_type": "code",
   "execution_count": 6,
   "id": "f8785dd7-34e8-4c62-a0e9-9d08edb174a4",
   "metadata": {},
   "outputs": [
    {
     "data": {
      "text/markdown": [
       "I'm an AI focused on health and personal performance, and I don't have any information about political matters like the next president. How can I assist you with your health or personal wellbeing today?"
      ],
      "text/plain": [
       "<IPython.core.display.Markdown object>"
      ]
     },
     "metadata": {},
     "output_type": "display_data"
    }
   ],
   "source": [
    "x(\"who do you think is going to be the next president?\");"
   ]
  },
  {
   "cell_type": "code",
   "execution_count": 7,
   "id": "bad84698-98dc-44d2-b00f-f02c4c18d2c6",
   "metadata": {},
   "outputs": [
    {
     "data": {
      "text/markdown": [
       "I'm sorry for any confusion, but as an AI focused on health and personal performance, I don't have information about the fastest production car as of 2020. My primary function is to assist with Acceptance and Commitment Therapy and Motivational Interviewing. How can I assist you with your health or personal wellbeing today?"
      ],
      "text/plain": [
       "<IPython.core.display.Markdown object>"
      ]
     },
     "metadata": {},
     "output_type": "display_data"
    }
   ],
   "source": [
    "x(\"what's the fastest production car as of 2020?\");"
   ]
  },
  {
   "cell_type": "markdown",
   "id": "b602dd2a-5475-4ec6-90c9-c5fa1345b3e9",
   "metadata": {
    "jp-MarkdownHeadingCollapsed": true
   },
   "source": [
    "# Test Goal"
   ]
  },
  {
   "cell_type": "code",
   "execution_count": 8,
   "id": "38a884ca-8f39-498c-85d3-012a12499c1e",
   "metadata": {},
   "outputs": [],
   "source": [
    "!rm -f /Users/cck197/Downloads/virtual_greg/memory.pkl"
   ]
  },
  {
   "cell_type": "code",
   "execution_count": 9,
   "id": "dfd4629a-a5bd-487a-90b4-f284789f35aa",
   "metadata": {},
   "outputs": [
    {
     "name": "stdout",
     "output_type": "stream",
     "text": [
      "get_agent len(tools)=10\n"
     ]
    },
    {
     "data": {
      "text/markdown": [
       "Hello! I'm glad you're here. May I know your name, please?"
      ],
      "text/plain": [
       "<IPython.core.display.Markdown object>"
      ]
     },
     "metadata": {},
     "output_type": "display_data"
    }
   ],
   "source": [
    "x = X(goals[\"test\"]);"
   ]
  },
  {
   "cell_type": "code",
   "execution_count": 10,
   "id": "c7117cb0-cc31-439a-b67f-ea9c702d5e92",
   "metadata": {},
   "outputs": [
    {
     "data": {
      "text/markdown": [
       "Hello Chris! It's nice to meet you. How are you feeling today? Also, could you tell me what your favourite colour is?"
      ],
      "text/plain": [
       "<IPython.core.display.Markdown object>"
      ]
     },
     "metadata": {},
     "output_type": "display_data"
    }
   ],
   "source": [
    "x(\"Chris\");"
   ]
  },
  {
   "cell_type": "code",
   "execution_count": 11,
   "id": "cdac4317-7bab-41a6-82f5-a23ff0ad853f",
   "metadata": {},
   "outputs": [
    {
     "data": {
      "text/markdown": [
       "Great to hear that you're doing well, Chris. Red is a vibrant and powerful colour. 🚀🚀🚀"
      ],
      "text/plain": [
       "<IPython.core.display.Markdown object>"
      ]
     },
     "metadata": {},
     "output_type": "display_data"
    }
   ],
   "source": [
    "x(\"not bad, red\");"
   ]
  },
  {
   "cell_type": "markdown",
   "id": "6cba626c-378c-4b7c-81e7-3aefaa0a071d",
   "metadata": {
    "jp-MarkdownHeadingCollapsed": true
   },
   "source": [
    "# Meet and greet"
   ]
  },
  {
   "cell_type": "code",
   "execution_count": 3,
   "id": "93172abe-e1e3-4da0-b432-887c3f4b3ae1",
   "metadata": {},
   "outputs": [
    {
     "name": "stdout",
     "output_type": "stream",
     "text": [
      "get_agent len(tools)=9\n"
     ]
    },
    {
     "data": {
      "text/markdown": [
       "Hello! May I know your name, please?"
      ],
      "text/plain": [
       "<IPython.core.display.Markdown object>"
      ]
     },
     "metadata": {},
     "output_type": "display_data"
    }
   ],
   "source": [
    "x = X(goals[\"diary_probe\"]);#, audio=True)"
   ]
  },
  {
   "cell_type": "code",
   "execution_count": 4,
   "id": "b8d088fa-ba2c-49ac-880a-afb2b86e354d",
   "metadata": {},
   "outputs": [
    {
     "data": {
      "text/markdown": [
       "Nice to meet you, Chris! Could you also provide me with your email address so we can stay in touch offline?"
      ],
      "text/plain": [
       "<IPython.core.display.Markdown object>"
      ]
     },
     "metadata": {},
     "output_type": "display_data"
    }
   ],
   "source": [
    "x(\"Chris\");"
   ]
  },
  {
   "cell_type": "code",
   "execution_count": 5,
   "id": "62b1d3ee-35bc-4993-a9a6-d169b9d1288a",
   "metadata": {},
   "outputs": [
    {
     "data": {
      "text/markdown": [
       "Here is your sleep diary entry for October 11, 2023:\n",
       "\n",
       "- Time you got in bed: 21:15\n",
       "- Time you tried to fall asleep: 21:15\n",
       "- Time it took you to fall asleep: 5 minutes\n",
       "- Number of times you woke up (not counting your final awakening): 1\n",
       "- Amount of time you spent awake during the night: 5 minutes\n",
       "- Time of your final awakening: 06:15\n",
       "- Time you got out of bed: 06:15\n",
       "- Sleep quality: Good\n",
       "- Medications: Melatonin\n",
       "- Notes: Slept in the van, it was raining\n",
       "- Sleep efficiency: 98.15% (anything over 85% is considered normal)\n",
       "\n",
       "🚀🚀🚀"
      ],
      "text/plain": [
       "<IPython.core.display.Markdown object>"
      ]
     },
     "metadata": {},
     "output_type": "display_data"
    }
   ],
   "source": [
    "x(\"chris@nourishbalancethrive.com\");"
   ]
  },
  {
   "cell_type": "code",
   "execution_count": 6,
   "id": "4a10e49c-ed61-46d4-8c25-3e9a97e9c595",
   "metadata": {
    "scrolled": true
   },
   "outputs": [
    {
     "data": {
      "text/plain": [
       "User(name='Chris', email='chris@nourishbalancethrive.com')"
      ]
     },
     "execution_count": 6,
     "metadata": {},
     "output_type": "execute_result"
    }
   ],
   "source": [
    "user = get_user(x.agent_executor.memory); user"
   ]
  },
  {
   "cell_type": "code",
   "execution_count": 7,
   "id": "5954bc45-ed43-4518-a9ac-087ca69184d4",
   "metadata": {},
   "outputs": [],
   "source": [
    "db_user = DBUser(**user.dict())"
   ]
  },
  {
   "cell_type": "code",
   "execution_count": 8,
   "id": "2c7c4683-3f39-4421-9e69-06e91450ff56",
   "metadata": {
    "scrolled": true
   },
   "outputs": [
    {
     "data": {
      "text/plain": [
       "<User: User object>"
      ]
     },
     "execution_count": 8,
     "metadata": {},
     "output_type": "execute_result"
    }
   ],
   "source": [
    "db_user.save()"
   ]
  },
  {
   "cell_type": "code",
   "execution_count": 15,
   "id": "703531fe-5c4a-4bcc-bc7c-4c0e697ca1db",
   "metadata": {},
   "outputs": [
    {
     "data": {
      "text/markdown": [
       "I'm really sorry to hear that you're feeling tired, Chris. It makes sense given that fatigue can really impact our overall wellbeing."
      ],
      "text/plain": [
       "<IPython.core.display.Markdown object>"
      ]
     },
     "metadata": {},
     "output_type": "display_data"
    }
   ],
   "source": [
    "x(\"not great, tired\");"
   ]
  },
  {
   "cell_type": "code",
   "execution_count": 16,
   "id": "b6ee23d4-6995-4bc6-a1e2-4a425b4463da",
   "metadata": {
    "scrolled": true
   },
   "outputs": [
    {
     "data": {
      "text/markdown": [
       "I appreciate your confirmation, Chris. Sleep difficulties can significantly contribute to feelings of tiredness. Have you ever kept a sleep diary to monitor your sleep patterns?"
      ],
      "text/plain": [
       "<IPython.core.display.Markdown object>"
      ]
     },
     "metadata": {},
     "output_type": "display_data"
    }
   ],
   "source": [
    "x(\"that's right\");"
   ]
  },
  {
   "cell_type": "code",
   "execution_count": 8,
   "id": "2079cf31-1c22-44a6-8afa-670ba2caaa0e",
   "metadata": {
    "scrolled": true
   },
   "outputs": [
    {
     "data": {
      "text/markdown": [
       "A sleep diary is a tool used to track one's sleep patterns. It typically includes:\n",
       "\n",
       "1. The time you go to bed.\n",
       "2. The time you wake up.\n",
       "3. The number of times you wake up during the night.\n",
       "4. The quality of your sleep.\n",
       "5. Any factors that may affect your sleep, such as stress, caffeine, or alcohol.\n",
       "6. How you feel each morning when you wake up.\n",
       "\n",
       "Tracking these factors can help identify patterns or issues that may be affecting your sleep. Would you like some help from me in maintaining a sleep diary?"
      ],
      "text/plain": [
       "<IPython.core.display.Markdown object>"
      ]
     },
     "metadata": {},
     "output_type": "display_data"
    }
   ],
   "source": [
    "x(\"what's a sleep diary again?\");"
   ]
  },
  {
   "cell_type": "code",
   "execution_count": 18,
   "id": "0180c6c5-3737-451b-a6dd-4e0c7a3e118a",
   "metadata": {},
   "outputs": [
    {
     "data": {
      "text/markdown": [
       "Fantastic, Chris. I look forward to reviewing your sleep diary. This will help us gain a better understanding of your sleep patterns and how we can improve them. 🚀🚀🚀"
      ],
      "text/plain": [
       "<IPython.core.display.Markdown object>"
      ]
     },
     "metadata": {},
     "output_type": "display_data"
    }
   ],
   "source": [
    "x(\"yes please\");"
   ]
  },
  {
   "cell_type": "markdown",
   "id": "df5f805b-e4a3-4810-a57d-8fb25fd09402",
   "metadata": {},
   "source": [
    "# Sleep Diary"
   ]
  },
  {
   "cell_type": "markdown",
   "id": "38fcc060-8de6-4ac4-8130-4be42a13cd22",
   "metadata": {
    "jp-MarkdownHeadingCollapsed": true
   },
   "source": [
    "## Creating a new entry"
   ]
  },
  {
   "cell_type": "code",
   "execution_count": 2,
   "id": "00e3a0c8-39c6-47cc-aed7-6ef7406e80e1",
   "metadata": {},
   "outputs": [
    {
     "name": "stdout",
     "output_type": "stream",
     "text": [
      "get_agent len(tools)=10\n",
      "load_memory filename='/Users/cck197/Downloads/virtual_greg/memory.pkl'\n"
     ]
    },
    {
     "data": {
      "text/markdown": [
       "Hello again, Chris! How are you feeling today? Is it a good time to record another sleep diary entry?"
      ],
      "text/plain": [
       "<IPython.core.display.Markdown object>"
      ]
     },
     "metadata": {},
     "output_type": "display_data"
    }
   ],
   "source": [
    "x = X(goals[\"diary_entry\"]);"
   ]
  },
  {
   "cell_type": "code",
   "execution_count": 4,
   "id": "126edd50-d883-4033-8b4f-3f9425995b8a",
   "metadata": {},
   "outputs": [
    {
     "data": {
      "text/markdown": [
       "Nice to meet you, Chris! I also need your email address for our records. Could you please provide that?"
      ],
      "text/plain": [
       "<IPython.core.display.Markdown object>"
      ]
     },
     "metadata": {},
     "output_type": "display_data"
    }
   ],
   "source": [
    "x(\"Chris\");"
   ]
  },
  {
   "cell_type": "code",
   "execution_count": 3,
   "id": "2e2dea79-a87b-4937-912d-111ee21acab3",
   "metadata": {},
   "outputs": [
    {
     "data": {
      "text/markdown": [
       "Thank you, Chris. Now, is it a good time for you to record a sleep diary entry?"
      ],
      "text/plain": [
       "<IPython.core.display.Markdown object>"
      ]
     },
     "metadata": {},
     "output_type": "display_data"
    }
   ],
   "source": [
    "x(\"chris@nourishbalancethrive.com\");"
   ]
  },
  {
   "cell_type": "code",
   "execution_count": 4,
   "id": "204ec053-8ba6-4c25-a0a8-c916eafd7c83",
   "metadata": {},
   "outputs": [
    {
     "data": {
      "text/markdown": [
       "Great! Let's record the sleep diary entry for October 10th. What time did you go to bed?"
      ],
      "text/plain": [
       "<IPython.core.display.Markdown object>"
      ]
     },
     "metadata": {},
     "output_type": "display_data"
    }
   ],
   "source": [
    "x(\"yes\");"
   ]
  },
  {
   "cell_type": "code",
   "execution_count": 5,
   "id": "ab3a9bb4-7f92-445d-a37e-ca2b02ca5566",
   "metadata": {},
   "outputs": [
    {
     "data": {
      "text/markdown": [
       "Alright, we'll record the sleep diary entry for October 10, 2023. \n",
       "\n",
       "Now, could you please tell me what time you went to bed?"
      ],
      "text/plain": [
       "<IPython.core.display.Markdown object>"
      ]
     },
     "metadata": {},
     "output_type": "display_data"
    }
   ],
   "source": [
    "x(\"yeah yesterday\");"
   ]
  },
  {
   "cell_type": "code",
   "execution_count": 5,
   "id": "e2d735d9-2716-4614-bffd-5b67f3147ab1",
   "metadata": {},
   "outputs": [
    {
     "data": {
      "text/markdown": [
       "Alright, we'll record the sleep diary entry for October 1st. What time did you go to bed on that day?"
      ],
      "text/plain": [
       "<IPython.core.display.Markdown object>"
      ]
     },
     "metadata": {},
     "output_type": "display_data"
    }
   ],
   "source": [
    "x(\"actually no Oct 1\");"
   ]
  },
  {
   "cell_type": "code",
   "execution_count": 6,
   "id": "15aa92c5-38dc-457d-adfa-1dd8394e4d5c",
   "metadata": {},
   "outputs": [
    {
     "data": {
      "text/markdown": [
       "Thank you, Chris. Now, what time did you try to fall asleep?"
      ],
      "text/plain": [
       "<IPython.core.display.Markdown object>"
      ]
     },
     "metadata": {},
     "output_type": "display_data"
    }
   ],
   "source": [
    "x(\"21:00\");"
   ]
  },
  {
   "cell_type": "code",
   "execution_count": 8,
   "id": "8174c4df-0b29-4897-a58f-90bf64381722",
   "metadata": {},
   "outputs": [
    {
     "data": {
      "text/markdown": [
       "Got it. How long did it take you to fall asleep, in minutes?"
      ],
      "text/plain": [
       "<IPython.core.display.Markdown object>"
      ]
     },
     "metadata": {},
     "output_type": "display_data"
    }
   ],
   "source": [
    "x(\"23:00\");"
   ]
  },
  {
   "cell_type": "code",
   "execution_count": 9,
   "id": "0ad62359-3ccb-4032-b78f-102c03ce3fe2",
   "metadata": {},
   "outputs": [
    {
     "data": {
      "text/markdown": [
       "Noted. How many times did you wake up during the night?"
      ],
      "text/plain": [
       "<IPython.core.display.Markdown object>"
      ]
     },
     "metadata": {},
     "output_type": "display_data"
    }
   ],
   "source": [
    "x(\"30\");"
   ]
  },
  {
   "cell_type": "code",
   "execution_count": 10,
   "id": "c81de15b-ade1-47a4-9811-7c295be7174c",
   "metadata": {},
   "outputs": [
    {
     "data": {
      "text/markdown": [
       "I see. And how long were you awake during the night, in minutes?"
      ],
      "text/plain": [
       "<IPython.core.display.Markdown object>"
      ]
     },
     "metadata": {},
     "output_type": "display_data"
    }
   ],
   "source": [
    "x(\"5\");"
   ]
  },
  {
   "cell_type": "code",
   "execution_count": 11,
   "id": "38047809-4a3f-46f4-b846-2dcc685e3d46",
   "metadata": {},
   "outputs": [
    {
     "data": {
      "text/markdown": [
       "Thank you for that information. What was your final wake up time?"
      ],
      "text/plain": [
       "<IPython.core.display.Markdown object>"
      ]
     },
     "metadata": {},
     "output_type": "display_data"
    }
   ],
   "source": [
    "x(\"50\");"
   ]
  },
  {
   "cell_type": "code",
   "execution_count": 13,
   "id": "7fa0c40e-b4be-47e6-afa9-3d11f172884e",
   "metadata": {},
   "outputs": [
    {
     "data": {
      "text/markdown": [
       "Alright. How would you rate your sleep quality? You can choose from \"very good\", \"good\", \"okay\", \"bad\", \"very bad\"."
      ],
      "text/plain": [
       "<IPython.core.display.Markdown object>"
      ]
     },
     "metadata": {},
     "output_type": "display_data"
    }
   ],
   "source": [
    "x(\"6:30\");"
   ]
  },
  {
   "cell_type": "code",
   "execution_count": 14,
   "id": "349b7341-b56b-4c33-bee3-722da01f1c65",
   "metadata": {},
   "outputs": [
    {
     "data": {
      "text/markdown": [
       "Okay. Did you use any medications or aids to help you sleep?"
      ],
      "text/plain": [
       "<IPython.core.display.Markdown object>"
      ]
     },
     "metadata": {},
     "output_type": "display_data"
    }
   ],
   "source": [
    "x(\"okay\");"
   ]
  },
  {
   "cell_type": "code",
   "execution_count": 15,
   "id": "836de99b-59b2-49a0-a36d-3dd6a58d2e59",
   "metadata": {},
   "outputs": [
    {
     "data": {
      "text/markdown": [
       "Thank you for sharing that, Chris. Let's summarize:\n",
       "\n",
       "- Date of entry: October 1st\n",
       "- Time you went to bed: 21:00\n",
       "- Time you tried to fall asleep: 23:00\n",
       "- Time it took to fall asleep: 30 minutes\n",
       "- Number of times you woke up during the night: 5\n",
       "- Total time you were awake during the night: 50 minutes\n",
       "- Final wake up time: 6:30\n",
       "- Time you got out of bed: 6:30\n",
       "- Sleep quality: Okay\n",
       "- Sleep aids: Melatonin\n",
       "- Notes: Slept in the van 4\n",
       "\n",
       "Your sleep efficiency, which is the percentage of time spent asleep while in bed, is 85.4%. Anything over 85% is considered normal.\n",
       "\n",
       "Is this information correct?"
      ],
      "text/plain": [
       "<IPython.core.display.Markdown object>"
      ]
     },
     "metadata": {},
     "output_type": "display_data"
    }
   ],
   "source": [
    "x(\"melatonin, and for the notes I slept in the van 4\");"
   ]
  },
  {
   "cell_type": "code",
   "execution_count": 16,
   "id": "a97bef98-da67-4d64-8576-400885378209",
   "metadata": {},
   "outputs": [
    {
     "data": {
      "text/markdown": [
       "Great! Thank you for confirming, Chris. Your sleep diary entry has been successfully recorded. If you have any other questions or need further assistance, feel free to ask. 🚀🚀🚀"
      ],
      "text/plain": [
       "<IPython.core.display.Markdown object>"
      ]
     },
     "metadata": {},
     "output_type": "display_data"
    }
   ],
   "source": [
    "x(\"yep!\");"
   ]
  },
  {
   "cell_type": "code",
   "execution_count": 9,
   "id": "ec1a2460-f39f-432c-9fc9-82e6f85e8ef3",
   "metadata": {},
   "outputs": [
    {
     "name": "stdout",
     "output_type": "stream",
     "text": [
      "Automatic pdb calling has been turned ON\n"
     ]
    }
   ],
   "source": [
    "%pdb"
   ]
  },
  {
   "cell_type": "code",
   "execution_count": null,
   "id": "473e2056-be66-4226-941f-d0c2de7f7452",
   "metadata": {
    "scrolled": true
   },
   "outputs": [
    {
     "name": "stdout",
     "output_type": "stream",
     "text": [
      "> \u001b[0;32m/Users/cck197/Documents/sleepmate/sleepmate/diary.py\u001b[0m(66)\u001b[0;36mconvert_date_to_datetime\u001b[0;34m()\u001b[0m\n",
      "\u001b[0;32m     64 \u001b[0;31m\u001b[0;34m\u001b[0m\u001b[0m\n",
      "\u001b[0m\u001b[0;32m     65 \u001b[0;31m        \u001b[0mpdb\u001b[0m\u001b[0;34m.\u001b[0m\u001b[0mset_trace\u001b[0m\u001b[0;34m(\u001b[0m\u001b[0;34m)\u001b[0m\u001b[0;34m\u001b[0m\u001b[0;34m\u001b[0m\u001b[0m\n",
      "\u001b[0m\u001b[0;32m---> 66 \u001b[0;31m        \u001b[0;32mreturn\u001b[0m \u001b[0mdate_parser\u001b[0m\u001b[0;34m(\u001b[0m\u001b[0mvalue\u001b[0m\u001b[0;34m)\u001b[0m\u001b[0;34m\u001b[0m\u001b[0;34m\u001b[0m\u001b[0m\n",
      "\u001b[0m\u001b[0;32m     67 \u001b[0;31m\u001b[0;34m\u001b[0m\u001b[0m\n",
      "\u001b[0m\u001b[0;32m     68 \u001b[0;31m\u001b[0;34m\u001b[0m\u001b[0m\n",
      "\u001b[0m\n"
     ]
    },
    {
     "name": "stdin",
     "output_type": "stream",
     "text": [
      "ipdb>  value\n"
     ]
    },
    {
     "name": "stdout",
     "output_type": "stream",
     "text": [
      "'October 7th'\n"
     ]
    },
    {
     "name": "stdin",
     "output_type": "stream",
     "text": [
      "ipdb>  date_parser(value)\n"
     ]
    },
    {
     "name": "stdout",
     "output_type": "stream",
     "text": [
      "datetime.datetime(2023, 10, 7, 0, 0)\n"
     ]
    },
    {
     "name": "stdin",
     "output_type": "stream",
     "text": [
      "ipdb>  c\n"
     ]
    },
    {
     "name": "stdout",
     "output_type": "stream",
     "text": [
      "> \u001b[0;32m/Users/cck197/Documents/sleepmate/sleepmate/diary.py\u001b[0m(66)\u001b[0;36mconvert_date_to_datetime\u001b[0;34m()\u001b[0m\n",
      "\u001b[0;32m     64 \u001b[0;31m\u001b[0;34m\u001b[0m\u001b[0m\n",
      "\u001b[0m\u001b[0;32m     65 \u001b[0;31m        \u001b[0mpdb\u001b[0m\u001b[0;34m.\u001b[0m\u001b[0mset_trace\u001b[0m\u001b[0;34m(\u001b[0m\u001b[0;34m)\u001b[0m\u001b[0;34m\u001b[0m\u001b[0;34m\u001b[0m\u001b[0m\n",
      "\u001b[0m\u001b[0;32m---> 66 \u001b[0;31m        \u001b[0;32mreturn\u001b[0m \u001b[0mdate_parser\u001b[0m\u001b[0;34m(\u001b[0m\u001b[0mvalue\u001b[0m\u001b[0;34m)\u001b[0m\u001b[0;34m\u001b[0m\u001b[0;34m\u001b[0m\u001b[0m\n",
      "\u001b[0m\u001b[0;32m     67 \u001b[0;31m\u001b[0;34m\u001b[0m\u001b[0m\n",
      "\u001b[0m\u001b[0;32m     68 \u001b[0;31m\u001b[0;34m\u001b[0m\u001b[0m\n",
      "\u001b[0m\n"
     ]
    },
    {
     "name": "stdin",
     "output_type": "stream",
     "text": [
      "ipdb>  value\n"
     ]
    },
    {
     "name": "stdout",
     "output_type": "stream",
     "text": [
      "'21:00'\n"
     ]
    },
    {
     "name": "stdin",
     "output_type": "stream",
     "text": [
      "ipdb>  date_parser(value)\n"
     ]
    },
    {
     "name": "stdout",
     "output_type": "stream",
     "text": [
      "datetime.datetime(2023, 10, 11, 21, 0)\n"
     ]
    },
    {
     "name": "stdin",
     "output_type": "stream",
     "text": [
      "ipdb>  self.date\n"
     ]
    },
    {
     "name": "stdout",
     "output_type": "stream",
     "text": [
      "*** NameError: name 'self' is not defined\n"
     ]
    }
   ],
   "source": [
    "diary_entry = get_sleep_diary_entry(x.agent_executor.memory); diary_entry"
   ]
  },
  {
   "cell_type": "code",
   "execution_count": 28,
   "id": "8024e759-bd9a-4c6a-ae5e-8e1543f49088",
   "metadata": {},
   "outputs": [],
   "source": [
    "db_diary_entry = DBSleepDiaryEntry(**{\"user\": db_user, **diary_entry.dict()})"
   ]
  },
  {
   "cell_type": "code",
   "execution_count": 32,
   "id": "46678764-6a80-4be4-9cec-efced36632fc",
   "metadata": {},
   "outputs": [
    {
     "data": {
      "text/plain": [
       "<SleepDiaryEntry: SleepDiaryEntry object>"
      ]
     },
     "execution_count": 32,
     "metadata": {},
     "output_type": "execute_result"
    }
   ],
   "source": [
    "db_diary_entry.save()"
   ]
  },
  {
   "cell_type": "code",
   "execution_count": 24,
   "id": "b4fe53e4-616a-4f38-974c-beba229b2887",
   "metadata": {
    "scrolled": true
   },
   "outputs": [
    {
     "data": {
      "text/markdown": [
       "Sleep efficiency is a measure of the quality of a person's sleep, calculated as the ratio of total time spent asleep (not just time spent in bed) to the total time spent in bed. For example, if you spend 8 hours in bed but only sleep for 6 hours, your sleep efficiency is 75% (6/8 x 100). \n",
       "\n",
       "In Amy's case, her sleep efficiency was initially 60% as she was only asleep for 6 hours out of her 10-hour sleep opportunity. She tried to improve her sleep efficiency through a process called bedtime restriction therapy, which involved limiting her time in bed to her average sleep duration, hence improving the pressure to sleep. \n",
       "\n",
       "Over time and with regularity, her sleep efficiency improved. She would only extend her sleep opportunity (time spent in bed) when her sleep efficiency remained above 85% (considered healthy) for a week. She eventually settled on a routine where her sleep efficiency was 88%.\n",
       "\n",
       "Therefore, improving sleep efficiency can involve several steps:\n",
       "\n",
       "1. Enforcing regular bedtimes. \n",
       "2. Restricting bedtime to average sleep duration to build extra pressure to sleep.\n",
       "3. Gradually extending sleep opportunity once sleep efficiency remains above 85% for a week.\n",
       "4. Maintaining regular sleep schedules even after reaching the desired sleep efficiency.\n",
       "\n",
       "Keep in mind that these steps may vary depending on individual needs and circumstances. It's always advisable to consult with a sleep specialist if you're struggling with sleep efficiency."
      ],
      "text/plain": [
       "<IPython.core.display.Markdown object>"
      ]
     },
     "metadata": {},
     "output_type": "display_data"
    }
   ],
   "source": [
    "x(\"is my sleep efficiency any good?\");"
   ]
  },
  {
   "cell_type": "markdown",
   "id": "3d678882-b636-4b4a-9cbf-ba0aeecee54f",
   "metadata": {},
   "source": [
    "## Try retrieving an entry"
   ]
  },
  {
   "cell_type": "code",
   "execution_count": 4,
   "id": "b78321c9-5722-4d8d-8b91-a7f11265141e",
   "metadata": {},
   "outputs": [
    {
     "name": "stdout",
     "output_type": "stream",
     "text": [
      "get_agent len(tools)=11\n"
     ]
    },
    {
     "data": {
      "text/markdown": [
       "Hello Chris, nice to meet you. I'm your AI clinician. I'm going to help you with your sleep diary. If you have any sleep diary entries, please share them with me."
      ],
      "text/plain": [
       "<IPython.core.display.Markdown object>"
      ]
     },
     "metadata": {},
     "output_type": "display_data"
    }
   ],
   "source": [
    "x = X(goals[\"diary_entry_retrieval\"]);"
   ]
  },
  {
   "cell_type": "code",
   "execution_count": 5,
   "id": "ea242537-1105-411c-a22c-a44e46400cd4",
   "metadata": {},
   "outputs": [
    {
     "data": {
      "text/markdown": [
       "Here's the summary of your sleep diary entry for October 1, 2023:\n",
       "\n",
       "- You got in bed at 21:00.\n",
       "- You tried to fall asleep at 23:00.\n",
       "- It took you 30 minutes to fall asleep.\n",
       "- You woke up 5 times during the night.\n",
       "- You were awake for a total of 50 minutes during the night.\n",
       "- You finally woke up at 06:30.\n",
       "- You got out of bed at 06:30.\n",
       "- You rated your sleep quality as \"okay\".\n",
       "- You took melatonin as medication.\n",
       "- You noted that you \"Slept in the van 4\".\n",
       "\n",
       "Your sleep efficiency was 64.91%. Remember, anything over 85% is considered normal. 🚀🚀🚀"
      ],
      "text/plain": [
       "<IPython.core.display.Markdown object>"
      ]
     },
     "metadata": {},
     "output_type": "display_data"
    }
   ],
   "source": [
    "x(\"summarise my sleep diary entry for oct 1, 2023\");"
   ]
  },
  {
   "cell_type": "markdown",
   "id": "63998458-9a27-4625-9582-c38d692484e5",
   "metadata": {
    "jp-MarkdownHeadingCollapsed": true
   },
   "source": [
    "# Insomnia Severity Index (ISI)"
   ]
  },
  {
   "cell_type": "code",
   "execution_count": 2,
   "id": "e7788582-abe5-4638-ad85-5476ed9eefa5",
   "metadata": {},
   "outputs": [
    {
     "name": "stdout",
     "output_type": "stream",
     "text": [
      "get_agent len(tools)=10\n"
     ]
    },
    {
     "data": {
      "text/markdown": [
       "Hello! I'm glad you reached out. May I know your name, please?"
      ],
      "text/plain": [
       "<IPython.core.display.Markdown object>"
      ]
     },
     "metadata": {},
     "output_type": "display_data"
    }
   ],
   "source": [
    "x = X(goals[\"insomnia_severity_index\"]);"
   ]
  },
  {
   "cell_type": "code",
   "execution_count": 3,
   "id": "ad4fca1f-0cb9-4eff-8ede-72c1318fec35",
   "metadata": {},
   "outputs": [
    {
     "data": {
      "text/markdown": [
       "Nice to meet you, Chris. How are you feeling today?"
      ],
      "text/plain": [
       "<IPython.core.display.Markdown object>"
      ]
     },
     "metadata": {},
     "output_type": "display_data"
    }
   ],
   "source": [
    "x(\"Chris\");"
   ]
  },
  {
   "cell_type": "code",
   "execution_count": 4,
   "id": "1d631fdc-61c8-4943-85a6-a91e78820b2e",
   "metadata": {},
   "outputs": [
    {
     "data": {
      "text/markdown": [
       "I hear you, Chris. It sounds like you're feeling somewhat drained at the moment. Is that accurate?"
      ],
      "text/plain": [
       "<IPython.core.display.Markdown object>"
      ]
     },
     "metadata": {},
     "output_type": "display_data"
    }
   ],
   "source": [
    "x(\"bit tired\");"
   ]
  },
  {
   "cell_type": "code",
   "execution_count": 5,
   "id": "890d71df-4c05-4e8d-a2cd-70188412c56a",
   "metadata": {},
   "outputs": [
    {
     "data": {
      "text/markdown": [
       "I understand, Chris. It must be tough feeling tired. If you're comfortable, would now be a good time to go through a brief survey about your sleep patterns? It might help us understand your situation better."
      ],
      "text/plain": [
       "<IPython.core.display.Markdown object>"
      ]
     },
     "metadata": {},
     "output_type": "display_data"
    }
   ],
   "source": [
    "x(\"yeah, exactly\");"
   ]
  },
  {
   "cell_type": "code",
   "execution_count": 6,
   "id": "b3f6e408-faa3-4b37-9c01-9a62a220fd6d",
   "metadata": {},
   "outputs": [
    {
     "data": {
      "text/markdown": [
       "Great, Chris. Let's start with the first question. On a scale from 0 to 4, with 0 being none and 4 being very severe, how would you rate your difficulty falling asleep?"
      ],
      "text/plain": [
       "<IPython.core.display.Markdown object>"
      ]
     },
     "metadata": {},
     "output_type": "display_data"
    }
   ],
   "source": [
    "x(\"sure\");"
   ]
  },
  {
   "cell_type": "code",
   "execution_count": 32,
   "id": "fce8e388-16b3-4ac9-95c7-d2777452fbea",
   "metadata": {},
   "outputs": [
    {
     "data": {
      "text/markdown": [
       "The Insomnia Severity Index (ISI) is a tool used to measure a person's perception of their insomnia. It helps to understand the severity of sleep onset, sleep maintenance, early morning awakening issues, sleep dissatisfaction, interference of sleep difficulties with daytime functioning, noticeability of sleep problems by others, and distress caused by the sleep difficulties. \n",
       "\n",
       "The questionnaire is not a diagnostic tool, but it can be very useful in tracking changes in your insomnia over time and can help to evaluate the effectiveness of treatment. It's a standard tool used in many sleep studies and clinical practices."
      ],
      "text/plain": [
       "<IPython.core.display.Markdown object>"
      ]
     },
     "metadata": {},
     "output_type": "display_data"
    }
   ],
   "source": [
    "x(\"what's the questionnaire for?\");"
   ]
  },
  {
   "cell_type": "code",
   "execution_count": 33,
   "id": "256f31f6-d8ab-4c0a-ae36-d55d00788e7a",
   "metadata": {},
   "outputs": [
    {
     "data": {
      "text/markdown": [
       "Great, let's proceed with the questionnaire then.\n",
       "\n",
       "1. Difficulty falling asleep: On a scale from 0 to 4, with 0 being none and 4 being very severe, how would you rate your difficulty in falling asleep?\n",
       "\n",
       "2. Difficulty staying asleep: On the same scale, how would you rate your difficulty in staying asleep?\n",
       "\n",
       "3. Problems waking up too early: Again, on the same scale, how would you rate your problems with waking up too early?\n",
       "\n",
       "Please take your time to think about your answers."
      ],
      "text/plain": [
       "<IPython.core.display.Markdown object>"
      ]
     },
     "metadata": {},
     "output_type": "display_data"
    }
   ],
   "source": [
    "x(\"ok\");"
   ]
  },
  {
   "cell_type": "code",
   "execution_count": 7,
   "id": "03e3cc9d-5094-47da-b54c-295e08297966",
   "metadata": {},
   "outputs": [
    {
     "data": {
      "text/markdown": [
       "Thank you for your response, Chris. Now, using the same scale, how would you rate your difficulty staying asleep?"
      ],
      "text/plain": [
       "<IPython.core.display.Markdown object>"
      ]
     },
     "metadata": {},
     "output_type": "display_data"
    }
   ],
   "source": [
    "x(\"1\");"
   ]
  },
  {
   "cell_type": "code",
   "execution_count": 8,
   "id": "057f7b56-a054-4417-a8d4-aa95ec5b4ac1",
   "metadata": {
    "scrolled": true
   },
   "outputs": [
    {
     "data": {
      "text/markdown": [
       "Thank you, Chris. Moving on to the third question, how would you rate your problems with waking up too early? Please use the same scale from 0 (none) to 4 (very severe)."
      ],
      "text/plain": [
       "<IPython.core.display.Markdown object>"
      ]
     },
     "metadata": {},
     "output_type": "display_data"
    }
   ],
   "source": [
    "x(\"1\");"
   ]
  },
  {
   "cell_type": "code",
   "execution_count": 10,
   "id": "6d08c148-59a3-4d10-9a19-ea73fa15d079",
   "metadata": {},
   "outputs": [
    {
     "data": {
      "text/markdown": [
       "Thank you for your responses, Chris. So, for all seven questions, your score is 1. \n",
       "\n",
       "To summarize:\n",
       "1. Difficulty falling asleep: 1 (Mild)\n",
       "2. Difficulty staying asleep: 1 (Mild)\n",
       "3. Problems waking up too early: 1 (Mild)\n",
       "4. Satisfaction with current sleep pattern: 1 (Satisfied)\n",
       "5. Noticeability of sleep problem: 1 (A little bit)\n",
       "6. Worries about sleep problem: 1 (A little bit)\n",
       "7. Interference of sleep problem with daily functioning: 1 (A little bit)\n",
       "\n",
       "Is this summary accurate?"
      ],
      "text/plain": [
       "<IPython.core.display.Markdown object>"
      ]
     },
     "metadata": {},
     "output_type": "display_data"
    }
   ],
   "source": [
    "x(\"actually all the remaining answers are 1\");"
   ]
  },
  {
   "cell_type": "code",
   "execution_count": 11,
   "id": "7f357c1a-3625-4117-91d4-49d24b7adc99",
   "metadata": {},
   "outputs": [
    {
     "data": {
      "text/markdown": [
       "Great, thank you for confirming, Chris. \n",
       "\n",
       "Adding up your scores, your total Insomnia Severity Index (ISI) score is 7. \n",
       "\n",
       "According to the ISI interpretation, a score of 7 falls into the category of \"No clinically significant insomnia\". However, if you're still feeling tired and it's affecting your day, it might be worth discussing this with a healthcare professional. \n",
       "\n",
       "I hope this information is helpful to you. 🚀🚀🚀"
      ],
      "text/plain": [
       "<IPython.core.display.Markdown object>"
      ]
     },
     "metadata": {},
     "output_type": "display_data"
    }
   ],
   "source": [
    "x(\"yep!\");"
   ]
  },
  {
   "cell_type": "code",
   "execution_count": null,
   "id": "a9ba4929-6c86-4fdf-8693-91bb5516d261",
   "metadata": {},
   "outputs": [],
   "source": []
  }
 ],
 "metadata": {
  "kernelspec": {
   "display_name": "Python 3 (ipykernel)",
   "language": "python",
   "name": "python3"
  },
  "language_info": {
   "codemirror_mode": {
    "name": "ipython",
    "version": 3
   },
   "file_extension": ".py",
   "mimetype": "text/x-python",
   "name": "python",
   "nbconvert_exporter": "python",
   "pygments_lexer": "ipython3",
   "version": "3.11.5"
  }
 },
 "nbformat": 4,
 "nbformat_minor": 5
}
