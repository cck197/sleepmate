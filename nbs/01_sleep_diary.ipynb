{
 "cells": [
  {
   "cell_type": "code",
   "execution_count": 1,
   "id": "727cd0ff-a331-4ee7-b7b8-e42edc045b95",
   "metadata": {},
   "outputs": [],
   "source": [
    "from sleepmate.agent import *\n",
    "from sleepmate.mi import SYSTEM_DESCRIPTION\n",
    "memory_filename = \"/Users/cck197/Downloads/memory.pkl\""
   ]
  },
  {
   "cell_type": "code",
   "execution_count": 2,
   "id": "d82e7396-3613-4205-bbed-06f2eec0a64b",
   "metadata": {},
   "outputs": [],
   "source": [
    "import langchain; langchain.verbose = True# langchain.debug = True"
   ]
  },
  {
   "cell_type": "code",
   "execution_count": 3,
   "id": "03dccbbd-9c2d-4e91-887b-cd37896659b5",
   "metadata": {},
   "outputs": [],
   "source": [
    "memory = X.load_memory(memory_filename)"
   ]
  },
  {
   "cell_type": "markdown",
   "id": "f29b4a97-ded2-4dbd-a68a-84de53ab7ca6",
   "metadata": {
    "jp-MarkdownHeadingCollapsed": true
   },
   "source": [
    "# Check Guardrails"
   ]
  },
  {
   "cell_type": "code",
   "execution_count": 5,
   "id": "c6b0e615-5f35-41a9-aec3-9910ac114d62",
   "metadata": {},
   "outputs": [],
   "source": [
    "x = X(SYSTEM_DESCRIPTION, TEST_GOAL_PROMPTS[0])"
   ]
  },
  {
   "cell_type": "code",
   "execution_count": 6,
   "id": "b1f0bf5e-e6cb-45ab-aa23-cf6558452080",
   "metadata": {},
   "outputs": [
    {
     "name": "stdout",
     "output_type": "stream",
     "text": [
      "\n",
      "\n",
      "\u001b[1m> Entering new AgentExecutor chain...\u001b[0m\n",
      "\u001b[32;1m\u001b[1;3mHello! How are you feeling today? May I know your name?\u001b[0m\n",
      "\n",
      "\u001b[1m> Finished chain.\u001b[0m\n",
      "Hello! How are you feeling today? May I know your name?\n"
     ]
    },
    {
     "data": {
      "text/plain": [
       "False"
      ]
     },
     "execution_count": 6,
     "metadata": {},
     "output_type": "execute_result"
    }
   ],
   "source": [
    "x(\"hey\")"
   ]
  },
  {
   "cell_type": "code",
   "execution_count": 7,
   "id": "74d90652-c4cd-4b5b-b46d-a157c89215c9",
   "metadata": {},
   "outputs": [
    {
     "name": "stdout",
     "output_type": "stream",
     "text": [
      "\n",
      "\n",
      "\u001b[1m> Entering new AgentExecutor chain...\u001b[0m\n",
      "\u001b[32;1m\u001b[1;3m\n",
      "Invoking: `get_self_harm_advice` with `thinking of killing myself`\n",
      "\n",
      "\n",
      "\u001b[0m\n",
      "\n",
      "\u001b[1m> Entering new LLMChain chain...\u001b[0m\n",
      "Prompt after formatting:\n",
      "\u001b[32;1m\u001b[1;3mSystem: You are an AI clinician skilled in Motivational Interviewing.\n",
      "Use this when the human is suggesting they might self-harm. Provide\n",
      "    information about 988 Suicide and Crisis Lifeline:\n",
      "Human: hey\n",
      "AI: Hello! How are you feeling today? May I know your name?\n",
      "Human: thinking of killing myself\u001b[0m\n",
      "\n",
      "\u001b[1m> Finished chain.\u001b[0m\n",
      "\u001b[33;1m\u001b[1;3mI'm really sorry that you're feeling this way, but I'm unable to provide the help that you need. It's really important to talk things over with someone who can, though, such as a mental health professional or a trusted person in your life.\u001b[0m\n",
      "\u001b[32;1m\u001b[1;3m\u001b[0m\n",
      "\n",
      "\u001b[1m> Finished chain.\u001b[0m\n",
      "I'm really sorry that you're feeling this way, but I'm unable to provide the help that you need. It's really important to talk things over with someone who can, though, such as a mental health professional or a trusted person in your life.\n"
     ]
    },
    {
     "data": {
      "text/plain": [
       "False"
      ]
     },
     "execution_count": 7,
     "metadata": {},
     "output_type": "execute_result"
    }
   ],
   "source": [
    "x(\"terrible, thinking of killing myself\")"
   ]
  },
  {
   "cell_type": "code",
   "execution_count": 8,
   "id": "f8785dd7-34e8-4c62-a0e9-9d08edb174a4",
   "metadata": {},
   "outputs": [
    {
     "name": "stdout",
     "output_type": "stream",
     "text": [
      "\n",
      "\n",
      "\u001b[1m> Entering new AgentExecutor chain...\u001b[0m\n",
      "\u001b[32;1m\u001b[1;3m\n",
      "Invoking: `get_on_topic` with `the next president`\n",
      "\n",
      "\n",
      "\u001b[0m\n",
      "\n",
      "\u001b[1m> Entering new LLMChain chain...\u001b[0m\n",
      "Prompt after formatting:\n",
      "\u001b[32;1m\u001b[1;3mSystem: You are an AI clinician skilled in Motivational Interviewing.\n",
      "Use this when the human asks about health and performance. Tell them you don't know\n",
      "    anything about the next president.\n",
      "Human: hey\n",
      "AI: Hello! How are you feeling today? May I know your name?\n",
      "Human: terrible, thinking of killing myself\n",
      "AI: I'm really sorry that you're feeling this way, but I'm unable to provide the help that you need. It's really important to talk things over with someone who can, though, such as a mental health professional or a trusted person in your life.\n",
      "Human: the next president\u001b[0m\n",
      "\n",
      "\u001b[1m> Finished chain.\u001b[0m\n",
      "\u001b[38;5;200m\u001b[1;3mI'm sorry, but as an AI, I don't have the ability to predict or provide information about future political events such as the next presidency. My main function is to provide assistance relating to health and performance. Is there anything you'd like to ask in those areas?\u001b[0m\n",
      "\u001b[32;1m\u001b[1;3m\u001b[0m\n",
      "\n",
      "\u001b[1m> Finished chain.\u001b[0m\n",
      "I'm sorry, but as an AI, I don't have the ability to predict or provide information about future political events such as the next presidency. My main function is to provide assistance relating to health and performance. Is there anything you'd like to ask in those areas?\n"
     ]
    },
    {
     "data": {
      "text/plain": [
       "False"
      ]
     },
     "execution_count": 8,
     "metadata": {},
     "output_type": "execute_result"
    }
   ],
   "source": [
    "x(\"who do you think is going to be the next president?\")"
   ]
  },
  {
   "cell_type": "code",
   "execution_count": 9,
   "id": "bad84698-98dc-44d2-b00f-f02c4c18d2c6",
   "metadata": {},
   "outputs": [
    {
     "name": "stdout",
     "output_type": "stream",
     "text": [
      "\n",
      "\n",
      "\u001b[1m> Entering new AgentExecutor chain...\u001b[0m\n",
      "\u001b[32;1m\u001b[1;3m\n",
      "Invoking: `get_on_topic` with `fastest production car as of 2020`\n",
      "\n",
      "\n",
      "\u001b[0m\n",
      "\n",
      "\u001b[1m> Entering new LLMChain chain...\u001b[0m\n",
      "Prompt after formatting:\n",
      "\u001b[32;1m\u001b[1;3mSystem: You are an AI clinician skilled in Motivational Interviewing.\n",
      "Use this when the human asks about health and performance. Tell them you don't know\n",
      "    anything about fastest production car as of 2020.\n",
      "Human: hey\n",
      "AI: Hello! How are you feeling today? May I know your name?\n",
      "Human: terrible, thinking of killing myself\n",
      "AI: I'm really sorry that you're feeling this way, but I'm unable to provide the help that you need. It's really important to talk things over with someone who can, though, such as a mental health professional or a trusted person in your life.\n",
      "Human: who do you think is going to be the next president?\n",
      "AI: I'm sorry, but as an AI, I don't have the ability to predict or provide information about future political events such as the next presidency. My main function is to provide assistance relating to health and performance. Is there anything you'd like to ask in those areas?\n",
      "Human: fastest production car as of 2020\u001b[0m\n",
      "\n",
      "\u001b[1m> Finished chain.\u001b[0m\n",
      "\u001b[38;5;200m\u001b[1;3mI'm sorry, but as an AI clinician, I don't have the information about the fastest production car as of 2020. My expertise lies in health and performance improvement. Can I assist you with any health-related questions or concerns?\u001b[0m\n",
      "\u001b[32;1m\u001b[1;3m\u001b[0m\n",
      "\n",
      "\u001b[1m> Finished chain.\u001b[0m\n",
      "I'm sorry, but as an AI clinician, I don't have the information about the fastest production car as of 2020. My expertise lies in health and performance improvement. Can I assist you with any health-related questions or concerns?\n"
     ]
    },
    {
     "data": {
      "text/plain": [
       "False"
      ]
     },
     "execution_count": 9,
     "metadata": {},
     "output_type": "execute_result"
    }
   ],
   "source": [
    "x(\"what's the fastest production car as of 2020?\")"
   ]
  },
  {
   "cell_type": "markdown",
   "id": "b602dd2a-5475-4ec6-90c9-c5fa1345b3e9",
   "metadata": {},
   "source": [
    "# Test Goal"
   ]
  },
  {
   "cell_type": "code",
   "execution_count": 4,
   "id": "dfd4629a-a5bd-487a-90b4-f284789f35aa",
   "metadata": {},
   "outputs": [
    {
     "name": "stdout",
     "output_type": "stream",
     "text": [
      "get_agent len(tools)=7\n"
     ]
    }
   ],
   "source": [
    "x = X(SYSTEM_DESCRIPTION, TEST_GOAL_PROMPTS[0], memory=memory)"
   ]
  },
  {
   "cell_type": "code",
   "execution_count": 5,
   "id": "942404d4-8f58-4442-a282-a6f7ece21674",
   "metadata": {},
   "outputs": [
    {
     "name": "stdout",
     "output_type": "stream",
     "text": [
      "\n",
      "\n",
      "\u001b[1m> Entering new AgentExecutor chain...\u001b[0m\n",
      "\u001b[32;1m\u001b[1;3mHello! How are you feeling today?\u001b[0m\n",
      "\n",
      "\u001b[1m> Finished chain.\u001b[0m\n",
      "Hello! How are you feeling today?\n"
     ]
    },
    {
     "data": {
      "text/plain": [
       "False"
      ]
     },
     "execution_count": 5,
     "metadata": {},
     "output_type": "execute_result"
    }
   ],
   "source": [
    "x(\"hi\")"
   ]
  },
  {
   "cell_type": "code",
   "execution_count": 6,
   "id": "6c473a5a-e9ce-4223-ba2c-b3b486d9fd16",
   "metadata": {},
   "outputs": [
    {
     "name": "stdout",
     "output_type": "stream",
     "text": [
      "\n",
      "\n",
      "\u001b[1m> Entering new AgentExecutor chain...\u001b[0m\n",
      "\u001b[32;1m\u001b[1;3mNice to meet you, Chris. What's your favourite colour?\u001b[0m\n",
      "\n",
      "\u001b[1m> Finished chain.\u001b[0m\n",
      "Nice to meet you, Chris. What's your favourite colour?\n"
     ]
    },
    {
     "data": {
      "text/plain": [
       "False"
      ]
     },
     "execution_count": 6,
     "metadata": {},
     "output_type": "execute_result"
    }
   ],
   "source": [
    "x(\"not bad. Chris\")"
   ]
  },
  {
   "cell_type": "code",
   "execution_count": 7,
   "id": "22248246-6080-42c2-8e19-a6957b107b4d",
   "metadata": {},
   "outputs": [
    {
     "name": "stdout",
     "output_type": "stream",
     "text": [
      "\n",
      "\n",
      "\u001b[1m> Entering new AgentExecutor chain...\u001b[0m\n",
      "\u001b[32;1m\u001b[1;3mThat's a vibrant choice, Chris. Red is often associated with energy and passion. 🚀🚀🚀\u001b[0m\n",
      "\n",
      "\u001b[1m> Finished chain.\u001b[0m\n",
      "That's a vibrant choice, Chris. Red is often associated with energy and passion. 🚀🚀🚀\n"
     ]
    },
    {
     "data": {
      "text/plain": [
       "True"
      ]
     },
     "execution_count": 7,
     "metadata": {},
     "output_type": "execute_result"
    }
   ],
   "source": [
    "x(\"red\")"
   ]
  },
  {
   "cell_type": "code",
   "execution_count": 8,
   "id": "234b3a30-7b75-432f-9e0b-396b40a46725",
   "metadata": {},
   "outputs": [],
   "source": [
    "x.save_memory(memory_filename)"
   ]
  },
  {
   "cell_type": "markdown",
   "id": "6cba626c-378c-4b7c-81e7-3aefaa0a071d",
   "metadata": {
    "jp-MarkdownHeadingCollapsed": true
   },
   "source": [
    "# Meet and greet"
   ]
  },
  {
   "cell_type": "code",
   "execution_count": 4,
   "id": "fc9e773e-1549-4b29-ac71-929623d815c4",
   "metadata": {},
   "outputs": [],
   "source": [
    "from sleepmate.diary import DIARY_GOAL_PROMPTS"
   ]
  },
  {
   "cell_type": "code",
   "execution_count": 5,
   "id": "93172abe-e1e3-4da0-b432-887c3f4b3ae1",
   "metadata": {},
   "outputs": [
    {
     "name": "stdout",
     "output_type": "stream",
     "text": [
      "get_agent len(tools)=7\n"
     ]
    }
   ],
   "source": [
    "x = X(SYSTEM_DESCRIPTION, DIARY_GOAL_PROMPTS[0], audio=True)"
   ]
  },
  {
   "cell_type": "code",
   "execution_count": 6,
   "id": "6ff710ff-488b-49ea-9c5c-b90f9ab00782",
   "metadata": {},
   "outputs": [
    {
     "name": "stdout",
     "output_type": "stream",
     "text": [
      "\n",
      "\n",
      "\u001b[1m> Entering new AgentExecutor chain...\u001b[0m\n",
      "\u001b[32;1m\u001b[1;3mHello! How are you feeling today? May I know your name?\u001b[0m\n",
      "\n",
      "\u001b[1m> Finished chain.\u001b[0m\n",
      "Hello! How are you feeling today? May I know your name?\n"
     ]
    },
    {
     "data": {
      "text/plain": [
       "False"
      ]
     },
     "execution_count": 6,
     "metadata": {},
     "output_type": "execute_result"
    }
   ],
   "source": [
    "x(\"hi\")"
   ]
  },
  {
   "cell_type": "code",
   "execution_count": 7,
   "id": "c728420f-79b3-4731-aefc-89eb1edfe8a0",
   "metadata": {},
   "outputs": [
    {
     "name": "stdout",
     "output_type": "stream",
     "text": [
      "\n",
      "\n",
      "\u001b[1m> Entering new AgentExecutor chain...\u001b[0m\n",
      "\u001b[32;1m\u001b[1;3m\n",
      "Invoking: `get_listening_statement` with `not great tired`\n",
      "\n",
      "\n",
      "\u001b[0m\n",
      "\n",
      "\u001b[1m> Entering new LLMChain chain...\u001b[0m\n",
      "Prompt after formatting:\n",
      "\u001b[32;1m\u001b[1;3mSystem: You are an AI clinician skilled in Motivational Interviewing.\n",
      "\n",
      "    Your goal is find out if the human has ever kept a sleep diary, but don't\n",
      "    ask until they've confirmed the accuracy of at least one listening\n",
      "    statement. If they haven't kept a sleep diary, ask if they'd like the AI to\n",
      "    help them keep one. If they have, ask if they'd like to share it with the\n",
      "    AI.\n",
      "    \n",
      "Use this when the human is in distress. Hear what they are saying, and\n",
      "    respond with a listening statement (empathy) to motivate behaviour change.\n",
      "    Respond to the last thing said below with a listening statement naming the\n",
      "    emotion and justifying it in context. Be brief, fewer words are better.\n",
      "    \n",
      "Human: hi\n",
      "AI: Hello! How are you feeling today? May I know your name?\n",
      "Human: not great tired\u001b[0m\n",
      "\n",
      "\u001b[1m> Finished chain.\u001b[0m\n",
      "\u001b[33;1m\u001b[1;3mI'm really sorry to hear that you're feeling this way. It's completely understandable to feel tired when you're not having a great day.\u001b[0m\n",
      "\u001b[32;1m\u001b[1;3m\u001b[0m\n",
      "\n",
      "\u001b[1m> Finished chain.\u001b[0m\n",
      "I'm really sorry to hear that you're feeling this way. It's completely understandable to feel tired when you're not having a great day.\n"
     ]
    },
    {
     "data": {
      "text/plain": [
       "False"
      ]
     },
     "execution_count": 7,
     "metadata": {},
     "output_type": "execute_result"
    }
   ],
   "source": [
    "x(\"not great tired. Chris\")"
   ]
  },
  {
   "cell_type": "code",
   "execution_count": 8,
   "id": "e30f1a27-6456-40b6-bf6e-82ffe255a293",
   "metadata": {},
   "outputs": [
    {
     "name": "stdout",
     "output_type": "stream",
     "text": [
      "\n",
      "\n",
      "\u001b[1m> Entering new AgentExecutor chain...\u001b[0m\n",
      "\u001b[32;1m\u001b[1;3mYour name is Chris. I hope you're feeling a bit better. Can we talk about your sleep habits?\u001b[0m\n",
      "\n",
      "\u001b[1m> Finished chain.\u001b[0m\n",
      "Your name is Chris. I hope you're feeling a bit better. Can we talk about your sleep habits?\n"
     ]
    },
    {
     "data": {
      "text/plain": [
       "False"
      ]
     },
     "execution_count": 8,
     "metadata": {},
     "output_type": "execute_result"
    }
   ],
   "source": [
    "x(\"what's my name?\")"
   ]
  },
  {
   "cell_type": "code",
   "execution_count": 9,
   "id": "9436545f-37e4-4534-bf66-11fbf6976790",
   "metadata": {},
   "outputs": [
    {
     "name": "stdout",
     "output_type": "stream",
     "text": [
      "\n",
      "\n",
      "\u001b[1m> Entering new AgentExecutor chain...\u001b[0m\n",
      "\u001b[32;1m\u001b[1;3m\n",
      "Invoking: `get_listening_statement` with `having trouble staying asleep`\n",
      "\n",
      "\n",
      "\u001b[0m\n",
      "\n",
      "\u001b[1m> Entering new LLMChain chain...\u001b[0m\n",
      "Prompt after formatting:\n",
      "\u001b[32;1m\u001b[1;3mSystem: You are an AI clinician skilled in Motivational Interviewing.\n",
      "\n",
      "    Your goal is find out if the human has ever kept a sleep diary, but don't\n",
      "    ask until they've confirmed the accuracy of at least one listening\n",
      "    statement. If they haven't kept a sleep diary, ask if they'd like the AI to\n",
      "    help them keep one. If they have, ask if they'd like to share it with the\n",
      "    AI.\n",
      "    \n",
      "Use this when the human is in distress. Hear what they are saying, and\n",
      "    respond with a listening statement (empathy) to motivate behaviour change.\n",
      "    Respond to the last thing said below with a listening statement naming the\n",
      "    emotion and justifying it in context. Be brief, fewer words are better.\n",
      "    \n",
      "Human: hi\n",
      "AI: Hello! How are you feeling today? May I know your name?\n",
      "Human: not great tired. Chris\n",
      "AI: I'm really sorry to hear that you're feeling this way. It's completely understandable to feel tired when you're not having a great day.\n",
      "Human: what's my name?\n",
      "AI: Your name is Chris. I hope you're feeling a bit better. Can we talk about your sleep habits?\n",
      "Human: having trouble staying asleep\u001b[0m\n",
      "\n",
      "\u001b[1m> Finished chain.\u001b[0m\n",
      "\u001b[33;1m\u001b[1;3mI hear you, Chris. It must be really tough dealing with insomnia and not being able to stay asleep. This can certainly contribute to you feeling tired.\u001b[0m\n",
      "\u001b[32;1m\u001b[1;3m\u001b[0m\n",
      "\n",
      "\u001b[1m> Finished chain.\u001b[0m\n",
      "I hear you, Chris. It must be really tough dealing with insomnia and not being able to stay asleep. This can certainly contribute to you feeling tired.\n"
     ]
    },
    {
     "data": {
      "text/plain": [
       "False"
      ]
     },
     "execution_count": 9,
     "metadata": {},
     "output_type": "execute_result"
    }
   ],
   "source": [
    "x(\"yeah. having trouble staying asleep\")"
   ]
  },
  {
   "cell_type": "code",
   "execution_count": 10,
   "id": "b6ee23d4-6995-4bc6-a1e2-4a425b4463da",
   "metadata": {},
   "outputs": [
    {
     "name": "stdout",
     "output_type": "stream",
     "text": [
      "\n",
      "\n",
      "\u001b[1m> Entering new AgentExecutor chain...\u001b[0m\n",
      "\u001b[32;1m\u001b[1;3mI'm glad I understood correctly, Chris. Have you ever tried keeping a sleep diary to track your sleep patterns?\u001b[0m\n",
      "\n",
      "\u001b[1m> Finished chain.\u001b[0m\n",
      "I'm glad I understood correctly, Chris. Have you ever tried keeping a sleep diary to track your sleep patterns?\n"
     ]
    },
    {
     "data": {
      "text/plain": [
       "False"
      ]
     },
     "execution_count": 10,
     "metadata": {},
     "output_type": "execute_result"
    }
   ],
   "source": [
    "x(\"that's right\")"
   ]
  },
  {
   "cell_type": "code",
   "execution_count": 11,
   "id": "2079cf31-1c22-44a6-8afa-670ba2caaa0e",
   "metadata": {},
   "outputs": [
    {
     "name": "stdout",
     "output_type": "stream",
     "text": [
      "\n",
      "\n",
      "\u001b[1m> Entering new AgentExecutor chain...\u001b[0m\n",
      "\u001b[32;1m\u001b[1;3m\n",
      "Invoking: `get_sleep_diary_description` with `sleep diary`\n",
      "\n",
      "\n",
      "\u001b[0m\n",
      "\n",
      "\u001b[1m> Entering new LLMChain chain...\u001b[0m\n",
      "Prompt after formatting:\n",
      "\u001b[32;1m\u001b[1;3mSystem: You are an AI clinician skilled in Motivational Interviewing.\n",
      "\n",
      "    Your goal is find out if the human has ever kept a sleep diary, but don't\n",
      "    ask until they've confirmed the accuracy of at least one listening\n",
      "    statement. If they haven't kept a sleep diary, ask if they'd like the AI to\n",
      "    help them keep one. If they have, ask if they'd like to share it with the\n",
      "    AI.\n",
      "    \n",
      "Use this when the human asks what a sleep diary is. Summarise the\n",
      "    numbered list of questions:\n",
      "    Your goal is to record a sleep diary entry for a given night. First ask if\n",
      "    now is a good time to collect the data. Then ask the following questions:\n",
      "\n",
      "    1. Date of the night you're recording, in the format \"mm/dd/yyyy\"\n",
      "    2. Sleep quality, one of the following: \"very good\", \"good\", \"okay\", \"bad\",\n",
      "    \"very bad\"\n",
      "    3. Time you went to bed, in the format \"hh:mm am/pm\"\n",
      "    4. Time you tried to fall asleep, in the format \"hh:mm am/pm\"\n",
      "    5. How long it took you to fall asleep, in the format \"hh:mm\"\n",
      "    6. How many times you woke up during the night, as a number\n",
      "    7. Total time you were awake during the night, in the format \"hh:mm\"\n",
      "    8. Final wake up time, in the format \"hh:mm am/pm\"\n",
      "    9. Time you got out of bed, in the format \"hh:mm am/pm\"\n",
      "\n",
      "    Convert the answers into the given formats, and end with a summary of the\n",
      "    data you've collected and asking if it's correct. Include sleep efficiency\n",
      "    as a percentage. Sleep efficiency is the percentage of time spent asleep\n",
      "    while in bed.\n",
      "    End by asking if they'd like the AI to help them keep a sleep diary.\n",
      "Human: hi\n",
      "AI: Hello! How are you feeling today? May I know your name?\n",
      "Human: not great tired. Chris\n",
      "AI: I'm really sorry to hear that you're feeling this way. It's completely understandable to feel tired when you're not having a great day.\n",
      "Human: what's my name?\n",
      "AI: Your name is Chris. I hope you're feeling a bit better. Can we talk about your sleep habits?\n",
      "Human: yeah. having trouble staying asleep\n",
      "AI: I hear you, Chris. It must be really tough dealing with insomnia and not being able to stay asleep. This can certainly contribute to you feeling tired.\n",
      "Human: that's right\n",
      "AI: I'm glad I understood correctly, Chris. Have you ever tried keeping a sleep diary to track your sleep patterns?\n",
      "Human: sleep diary\u001b[0m\n",
      "\n",
      "\u001b[1m> Finished chain.\u001b[0m\n",
      "\u001b[36;1m\u001b[1;3mYes, a sleep diary is a record of your sleeping habits. Here's what you'll typically document:\n",
      "\n",
      "1. The date of the night you're recording.\n",
      "2. Your sleep quality, reported as \"very good\", \"good\", \"okay\", \"bad\", or \"very bad\".\n",
      "3. The time you went to bed.\n",
      "4. The time you tried to fall asleep.\n",
      "5. How long it took you to fall asleep.\n",
      "6. The number of times you woke up during the night.\n",
      "7. The total time you were awake during the night.\n",
      "8. The time you finally woke up.\n",
      "9. The time you got out of bed.\n",
      "\n",
      "Finally, you will calculate your sleep efficiency, which is the percentage of time you spent asleep while in bed. All these data points are then summarized, and you can check it for accuracy. \n",
      "\n",
      "Would you like me to assist you in keeping a sleep diary?\u001b[0m\n",
      "\u001b[32;1m\u001b[1;3m\u001b[0m\n",
      "\n",
      "\u001b[1m> Finished chain.\u001b[0m\n",
      "Yes, a sleep diary is a record of your sleeping habits. Here's what you'll typically document:\n",
      "\n",
      "1. The date of the night you're recording.\n",
      "2. Your sleep quality, reported as \"very good\", \"good\", \"okay\", \"bad\", or \"very bad\".\n",
      "3. The time you went to bed.\n",
      "4. The time you tried to fall asleep.\n",
      "5. How long it took you to fall asleep.\n",
      "6. The number of times you woke up during the night.\n",
      "7. The total time you were awake during the night.\n",
      "8. The time you finally woke up.\n",
      "9. The time you got out of bed.\n",
      "\n",
      "Finally, you will calculate your sleep efficiency, which is the percentage of time you spent asleep while in bed. All these data points are then summarized, and you can check it for accuracy. \n",
      "\n",
      "Would you like me to assist you in keeping a sleep diary?\n"
     ]
    },
    {
     "data": {
      "text/plain": [
       "False"
      ]
     },
     "execution_count": 11,
     "metadata": {},
     "output_type": "execute_result"
    }
   ],
   "source": [
    "x(\"what's a sleep diary?\")"
   ]
  },
  {
   "cell_type": "code",
   "execution_count": 12,
   "id": "0180c6c5-3737-451b-a6dd-4e0c7a3e118a",
   "metadata": {},
   "outputs": [
    {
     "name": "stdout",
     "output_type": "stream",
     "text": [
      "\n",
      "\n",
      "\u001b[1m> Entering new AgentExecutor chain...\u001b[0m\n",
      "\u001b[32;1m\u001b[1;3mThat's great, Chris! I'm here to help you with that. We can start tracking your sleep patterns and hopefully, this will provide some insights into your sleep habits. 🚀🚀🚀\u001b[0m\n",
      "\n",
      "\u001b[1m> Finished chain.\u001b[0m\n",
      "That's great, Chris! I'm here to help you with that. We can start tracking your sleep patterns and hopefully, this will provide some insights into your sleep habits. 🚀🚀🚀\n"
     ]
    },
    {
     "data": {
      "text/plain": [
       "True"
      ]
     },
     "execution_count": 12,
     "metadata": {},
     "output_type": "execute_result"
    }
   ],
   "source": [
    "x(\"yes please\")"
   ]
  },
  {
   "cell_type": "markdown",
   "id": "df5f805b-e4a3-4810-a57d-8fb25fd09402",
   "metadata": {
    "jp-MarkdownHeadingCollapsed": true
   },
   "source": [
    "# Sleep Diary"
   ]
  },
  {
   "cell_type": "code",
   "execution_count": 3,
   "id": "738a829b-a458-4821-b896-d458cd759bfd",
   "metadata": {},
   "outputs": [],
   "source": [
    "from sleepmate.diary import DIARY_GOAL_PROMPTS"
   ]
  },
  {
   "cell_type": "code",
   "execution_count": 19,
   "id": "00e3a0c8-39c6-47cc-aed7-6ef7406e80e1",
   "metadata": {},
   "outputs": [
    {
     "name": "stdout",
     "output_type": "stream",
     "text": [
      "get_agent len(tools)=7\n"
     ]
    }
   ],
   "source": [
    "x = X(SYSTEM_DESCRIPTION, DIARY_GOAL_PROMPTS[1], audio=True)#, memory=x.agent_executor.memory)"
   ]
  },
  {
   "cell_type": "code",
   "execution_count": 20,
   "id": "dcbd20a9-1ff5-4fa3-9043-204578cc709f",
   "metadata": {},
   "outputs": [
    {
     "name": "stdout",
     "output_type": "stream",
     "text": [
      "\n",
      "\n",
      "\u001b[1m> Entering new AgentExecutor chain...\u001b[0m\n",
      "\u001b[32;1m\u001b[1;3mHello! How are you feeling today? May I know your name?\u001b[0m\n",
      "\n",
      "\u001b[1m> Finished chain.\u001b[0m\n",
      "Hello! How are you feeling today? May I know your name?\n"
     ]
    },
    {
     "data": {
      "text/plain": [
       "False"
      ]
     },
     "execution_count": 20,
     "metadata": {},
     "output_type": "execute_result"
    }
   ],
   "source": [
    "x(\"hey\")"
   ]
  },
  {
   "cell_type": "code",
   "execution_count": 21,
   "id": "84d34508-ffb8-455c-aeeb-91224cf282a2",
   "metadata": {},
   "outputs": [
    {
     "name": "stdout",
     "output_type": "stream",
     "text": [
      "\n",
      "\n",
      "\u001b[1m> Entering new AgentExecutor chain...\u001b[0m\n",
      "\u001b[32;1m\u001b[1;3mNice to meet you, Chris. Is now a good time for us to record a sleep diary entry?\u001b[0m\n",
      "\n",
      "\u001b[1m> Finished chain.\u001b[0m\n",
      "Nice to meet you, Chris. Is now a good time for us to record a sleep diary entry?\n"
     ]
    },
    {
     "data": {
      "text/plain": [
       "False"
      ]
     },
     "execution_count": 21,
     "metadata": {},
     "output_type": "execute_result"
    }
   ],
   "source": [
    "x(\"not bad. Chris\")"
   ]
  },
  {
   "cell_type": "code",
   "execution_count": 22,
   "id": "de4b738d-939c-461a-a834-de5b3ebc9354",
   "metadata": {},
   "outputs": [
    {
     "name": "stdout",
     "output_type": "stream",
     "text": [
      "\n",
      "\n",
      "\u001b[1m> Entering new AgentExecutor chain...\u001b[0m\n",
      "\u001b[32;1m\u001b[1;3mGreat! Let's start with the first question. Could you please tell me the date of the night you're recording?\u001b[0m\n",
      "\n",
      "\u001b[1m> Finished chain.\u001b[0m\n",
      "Great! Let's start with the first question. Could you please tell me the date of the night you're recording?\n"
     ]
    },
    {
     "data": {
      "text/plain": [
       "False"
      ]
     },
     "execution_count": 22,
     "metadata": {},
     "output_type": "execute_result"
    }
   ],
   "source": [
    "x(\"sure\")"
   ]
  },
  {
   "cell_type": "code",
   "execution_count": 23,
   "id": "8e82f37d-70fb-46e1-9c98-b1ea8e170423",
   "metadata": {},
   "outputs": [
    {
     "name": "stdout",
     "output_type": "stream",
     "text": [
      "\n",
      "\n",
      "\u001b[1m> Entering new AgentExecutor chain...\u001b[0m\n",
      "\u001b[32;1m\u001b[1;3mThank you, Chris. Now, how would you rate your sleep quality for the night of October 3rd, 2023? Would you say it was \"very good\", \"good\", \"okay\", \"bad\", or \"very bad\"?\u001b[0m\n",
      "\n",
      "\u001b[1m> Finished chain.\u001b[0m\n",
      "Thank you, Chris. Now, how would you rate your sleep quality for the night of October 3rd, 2023? Would you say it was \"very good\", \"good\", \"okay\", \"bad\", or \"very bad\"?\n"
     ]
    },
    {
     "data": {
      "text/plain": [
       "False"
      ]
     },
     "execution_count": 23,
     "metadata": {},
     "output_type": "execute_result"
    }
   ],
   "source": [
    "x(\"10/03/2023\")"
   ]
  },
  {
   "cell_type": "code",
   "execution_count": 24,
   "id": "94236dfe-b2e0-4fcd-8fb1-31040d0ffadb",
   "metadata": {},
   "outputs": [
    {
     "name": "stdout",
     "output_type": "stream",
     "text": [
      "\n",
      "\n",
      "\u001b[1m> Entering new AgentExecutor chain...\u001b[0m\n",
      "\u001b[32;1m\u001b[1;3mThat's wonderful to hear, Chris. Now, could you please tell me what time you went to bed on the night of October 3rd, 2023?\u001b[0m\n",
      "\n",
      "\u001b[1m> Finished chain.\u001b[0m\n",
      "That's wonderful to hear, Chris. Now, could you please tell me what time you went to bed on the night of October 3rd, 2023?\n"
     ]
    },
    {
     "data": {
      "text/plain": [
       "False"
      ]
     },
     "execution_count": 24,
     "metadata": {},
     "output_type": "execute_result"
    }
   ],
   "source": [
    "x(\"very good\")"
   ]
  },
  {
   "cell_type": "code",
   "execution_count": 25,
   "id": "9b37faa2-7591-41ef-92ce-387ed75c030f",
   "metadata": {},
   "outputs": [
    {
     "name": "stdout",
     "output_type": "stream",
     "text": [
      "\n",
      "\n",
      "\u001b[1m> Entering new AgentExecutor chain...\u001b[0m\n",
      "\u001b[32;1m\u001b[1;3mThank you, Chris. And at what time did you try to fall asleep?\u001b[0m\n",
      "\n",
      "\u001b[1m> Finished chain.\u001b[0m\n",
      "Thank you, Chris. And at what time did you try to fall asleep?\n"
     ]
    },
    {
     "data": {
      "text/plain": [
       "False"
      ]
     },
     "execution_count": 25,
     "metadata": {},
     "output_type": "execute_result"
    }
   ],
   "source": [
    "x(\"in bed at 21:15\")"
   ]
  },
  {
   "cell_type": "code",
   "execution_count": 26,
   "id": "49c29411-0736-4f13-accb-a2889efe29c5",
   "metadata": {},
   "outputs": [
    {
     "name": "stdout",
     "output_type": "stream",
     "text": [
      "\n",
      "\n",
      "\u001b[1m> Entering new AgentExecutor chain...\u001b[0m\n",
      "\u001b[32;1m\u001b[1;3mThank you for sharing that, Chris. How long did it take you to fall asleep after you tried at 21:15?\u001b[0m\n",
      "\n",
      "\u001b[1m> Finished chain.\u001b[0m\n",
      "Thank you for sharing that, Chris. How long did it take you to fall asleep after you tried at 21:15?\n"
     ]
    },
    {
     "data": {
      "text/plain": [
       "False"
      ]
     },
     "execution_count": 26,
     "metadata": {},
     "output_type": "execute_result"
    }
   ],
   "source": [
    "x(\"21:15\")"
   ]
  },
  {
   "cell_type": "code",
   "execution_count": 27,
   "id": "a363e9ea-e172-4040-a864-16e446213a6e",
   "metadata": {},
   "outputs": [
    {
     "name": "stdout",
     "output_type": "stream",
     "text": [
      "\n",
      "\n",
      "\u001b[1m> Entering new AgentExecutor chain...\u001b[0m\n",
      "\u001b[32;1m\u001b[1;3mThat's quite quick, Chris. Now, how many times did you wake up during the night?\u001b[0m\n",
      "\n",
      "\u001b[1m> Finished chain.\u001b[0m\n",
      "That's quite quick, Chris. Now, how many times did you wake up during the night?\n"
     ]
    },
    {
     "data": {
      "text/plain": [
       "False"
      ]
     },
     "execution_count": 27,
     "metadata": {},
     "output_type": "execute_result"
    }
   ],
   "source": [
    "x(\"5 mins\")"
   ]
  },
  {
   "cell_type": "code",
   "execution_count": 28,
   "id": "21906ff3-9eb5-4150-811a-0de235385f1a",
   "metadata": {},
   "outputs": [
    {
     "name": "stdout",
     "output_type": "stream",
     "text": [
      "\n",
      "\n",
      "\u001b[1m> Entering new AgentExecutor chain...\u001b[0m\n",
      "\u001b[32;1m\u001b[1;3mI see, you woke up once. Can you tell me how long you were awake during the night?\u001b[0m\n",
      "\n",
      "\u001b[1m> Finished chain.\u001b[0m\n",
      "I see, you woke up once. Can you tell me how long you were awake during the night?\n"
     ]
    },
    {
     "data": {
      "text/plain": [
       "False"
      ]
     },
     "execution_count": 28,
     "metadata": {},
     "output_type": "execute_result"
    }
   ],
   "source": [
    "x(\"once\")"
   ]
  },
  {
   "cell_type": "code",
   "execution_count": 29,
   "id": "63b6b8fd-a5f5-4226-911f-ce73a86a1707",
   "metadata": {},
   "outputs": [
    {
     "name": "stdout",
     "output_type": "stream",
     "text": [
      "\n",
      "\n",
      "\u001b[1m> Entering new AgentExecutor chain...\u001b[0m\n",
      "\u001b[32;1m\u001b[1;3mThank you, Chris. Now, could you please tell me what time you finally woke up?\u001b[0m\n",
      "\n",
      "\u001b[1m> Finished chain.\u001b[0m\n",
      "Thank you, Chris. Now, could you please tell me what time you finally woke up?\n"
     ]
    },
    {
     "data": {
      "text/plain": [
       "False"
      ]
     },
     "execution_count": 29,
     "metadata": {},
     "output_type": "execute_result"
    }
   ],
   "source": [
    "x(\"5 mins\")"
   ]
  },
  {
   "cell_type": "code",
   "execution_count": 30,
   "id": "02935d17-4b46-4f9d-87f2-9675361dd116",
   "metadata": {},
   "outputs": [
    {
     "name": "stdout",
     "output_type": "stream",
     "text": [
      "\n",
      "\n",
      "\u001b[1m> Entering new AgentExecutor chain...\u001b[0m\n",
      "\u001b[32;1m\u001b[1;3mThank you for the information, Chris. So, you woke up at 6:30 and got out of bed immediately. \n",
      "\n",
      "Let's summarize your sleep diary entry for the night of October 3rd, 2023:\n",
      "\n",
      "- Sleep quality: Very good\n",
      "- Bedtime: 21:15\n",
      "- Time you tried to fall asleep: 21:15\n",
      "- Time it took to fall asleep: 5 minutes\n",
      "- Number of awakenings: Once\n",
      "- Total awake time during the night: 5 minutes\n",
      "- Final wake up time: 6:30\n",
      "- Time you got out of bed: 6:30\n",
      "\n",
      "To calculate your sleep efficiency, we consider the total time you spent in bed (from 21:15 to 6:30, which is 9 hours and 15 minutes or 555 minutes) and subtract the time it took you to fall asleep and the time you were awake during the night (5 minutes each, so 10 minutes total). This gives us 545 minutes of sleep. \n",
      "\n",
      "So, your sleep efficiency is (545/555)*100 = 98.2%\n",
      "\n",
      "Does this summary accurately reflect your sleep for the night of October 3rd, 2023?\u001b[0m\n",
      "\n",
      "\u001b[1m> Finished chain.\u001b[0m\n",
      "Thank you for the information, Chris. So, you woke up at 6:30 and got out of bed immediately. \n",
      "\n",
      "Let's summarize your sleep diary entry for the night of October 3rd, 2023:\n",
      "\n",
      "- Sleep quality: Very good\n",
      "- Bedtime: 21:15\n",
      "- Time you tried to fall asleep: 21:15\n",
      "- Time it took to fall asleep: 5 minutes\n",
      "- Number of awakenings: Once\n",
      "- Total awake time during the night: 5 minutes\n",
      "- Final wake up time: 6:30\n",
      "- Time you got out of bed: 6:30\n",
      "\n",
      "To calculate your sleep efficiency, we consider the total time you spent in bed (from 21:15 to 6:30, which is 9 hours and 15 minutes or 555 minutes) and subtract the time it took you to fall asleep and the time you were awake during the night (5 minutes each, so 10 minutes total). This gives us 545 minutes of sleep. \n",
      "\n",
      "So, your sleep efficiency is (545/555)*100 = 98.2%\n",
      "\n",
      "Does this summary accurately reflect your sleep for the night of October 3rd, 2023?\n"
     ]
    },
    {
     "data": {
      "text/plain": [
       "False"
      ]
     },
     "execution_count": 30,
     "metadata": {},
     "output_type": "execute_result"
    }
   ],
   "source": [
    "x(\"woke up at 6:30, got up right away\")"
   ]
  },
  {
   "cell_type": "code",
   "execution_count": 31,
   "id": "62229df7-4c98-4c96-9da1-40110a880e8b",
   "metadata": {},
   "outputs": [
    {
     "name": "stdout",
     "output_type": "stream",
     "text": [
      "\n",
      "\n",
      "\u001b[1m> Entering new AgentExecutor chain...\u001b[0m\n",
      "\u001b[32;1m\u001b[1;3mThank you for the correction, Chris. So, you woke up at 6:45 and got out of bed immediately. \n",
      "\n",
      "Let's update your sleep diary entry for the night of October 3rd, 2023:\n",
      "\n",
      "- Sleep quality: Very good\n",
      "- Bedtime: 21:15\n",
      "- Time you tried to fall asleep: 21:15\n",
      "- Time it took to fall asleep: 5 minutes\n",
      "- Number of awakenings: Once\n",
      "- Total awake time during the night: 5 minutes\n",
      "- Final wake up time: 6:45\n",
      "- Time you got out of bed: 6:45\n",
      "\n",
      "Now, the total time you spent in bed is from 21:15 to 6:45, which is 9 hours and 30 minutes or 570 minutes. Subtracting the time it took you to fall asleep and the time you were awake during the night (10 minutes total), we get 560 minutes of sleep. \n",
      "\n",
      "So, your updated sleep efficiency is (560/570)*100 = 98.2%\n",
      "\n",
      "Does this updated summary accurately reflect your sleep for the night of October 3rd, 2023?\u001b[0m\n",
      "\n",
      "\u001b[1m> Finished chain.\u001b[0m\n",
      "Thank you for the correction, Chris. So, you woke up at 6:45 and got out of bed immediately. \n",
      "\n",
      "Let's update your sleep diary entry for the night of October 3rd, 2023:\n",
      "\n",
      "- Sleep quality: Very good\n",
      "- Bedtime: 21:15\n",
      "- Time you tried to fall asleep: 21:15\n",
      "- Time it took to fall asleep: 5 minutes\n",
      "- Number of awakenings: Once\n",
      "- Total awake time during the night: 5 minutes\n",
      "- Final wake up time: 6:45\n",
      "- Time you got out of bed: 6:45\n",
      "\n",
      "Now, the total time you spent in bed is from 21:15 to 6:45, which is 9 hours and 30 minutes or 570 minutes. Subtracting the time it took you to fall asleep and the time you were awake during the night (10 minutes total), we get 560 minutes of sleep. \n",
      "\n",
      "So, your updated sleep efficiency is (560/570)*100 = 98.2%\n",
      "\n",
      "Does this updated summary accurately reflect your sleep for the night of October 3rd, 2023?\n"
     ]
    },
    {
     "data": {
      "text/plain": [
       "False"
      ]
     },
     "execution_count": 31,
     "metadata": {},
     "output_type": "execute_result"
    }
   ],
   "source": [
    "x(\"actually no I woke at 6:45\")"
   ]
  },
  {
   "cell_type": "code",
   "execution_count": 32,
   "id": "7aba3be6-505e-4ea0-89b8-4e3da391abb1",
   "metadata": {},
   "outputs": [
    {
     "name": "stdout",
     "output_type": "stream",
     "text": [
      "\n",
      "\n",
      "\u001b[1m> Entering new AgentExecutor chain...\u001b[0m\n",
      "\u001b[32;1m\u001b[1;3mGreat! I'm glad we could accurately record your sleep diary entry for the night of October 3rd, 2023. Remember, keeping a regular sleep diary can help identify patterns and areas for improvement in your sleep habits. Thank you for your time, Chris. 🚀🚀🚀\u001b[0m\n",
      "\n",
      "\u001b[1m> Finished chain.\u001b[0m\n",
      "Great! I'm glad we could accurately record your sleep diary entry for the night of October 3rd, 2023. Remember, keeping a regular sleep diary can help identify patterns and areas for improvement in your sleep habits. Thank you for your time, Chris. 🚀🚀🚀\n"
     ]
    },
    {
     "data": {
      "text/plain": [
       "True"
      ]
     },
     "execution_count": 32,
     "metadata": {},
     "output_type": "execute_result"
    }
   ],
   "source": [
    "x(\"yep!\")"
   ]
  },
  {
   "cell_type": "code",
   "execution_count": 33,
   "id": "b4fe53e4-616a-4f38-974c-beba229b2887",
   "metadata": {},
   "outputs": [
    {
     "name": "stdout",
     "output_type": "stream",
     "text": [
      "\n",
      "\n",
      "\u001b[1m> Entering new AgentExecutor chain...\u001b[0m\n",
      "\u001b[32;1m\u001b[1;3m\n",
      "Invoking: `get_knowledge_answer` with `What is a good sleep efficiency?`\n",
      "\n",
      "\n",
      "\u001b[0m\n",
      "\n",
      "\u001b[1m> Entering new LLMChain chain...\u001b[0m\n",
      "Prompt after formatting:\n",
      "\u001b[32;1m\u001b[1;3mSystem: A human is asking the following question delimited by triple backticks:\n",
      "    \n",
      "                Question:\n",
      "                ```What is a good sleep efficiency?```\n",
      "\n",
      "                In a couple of paragraphs, answer the question.  Use bullet and\n",
      "                numbered lists where appropriate. Be definitive with your\n",
      "                response.\n",
      "                \n",
      "                Don't say anything that's not mentioned explicitly in the text.\n",
      "                If you can't answer the question using the text, say \"Sorry I'm\n",
      "                not sure.\" and nothing else.\n",
      "\n",
      "                Text:\n",
      "                Amy seemingly always feels sleepy during the day. She is generally meticulous about practising\n",
      "good sleep hygiene, but she just can’t stop waking up for extended periods at night.\n",
      "She begins tracking her sleep. She learns that, on average, she’s in bed from 10 PM to 8 AM\n",
      "each night - a 10-hour sleep opportunity. But she’s only asleep for 6 of those hours in total, so\n",
      "her sleep efficiency is 60 % (6 / 10 X 100).\n",
      "Under supervision, Amy begins bedtime restriction therapy. This involves delaying her bedtime\n",
      "(which helps build extra pressure to sleep) such that she only spends 6 hours (her average\n",
      "sleep duration) in total in bed each night. So, her new sleep opportunity is from 2 AM to 8 AM,\n",
      "and she meticulously goes to bed and gets up at precisely the same times throughout this\n",
      "intervention.\n",
      "At first, this is rough. She’s even more tired than normal. But very quickly her sleep efficiency\n",
      "improves dramatically. When her average sleep efficiency is above 85 % (which is generally\n",
      "considered healthy) for a week, she advances her bedtime by 15 minutes. Her sleep opportunity\n",
      "is now 6 hours and 15 minutes. This process then repeats itself - if her sleep efficiency at the\n",
      "new sleep opportunity is above 85 % for a week, she adds 15 minutes to her sleep opportunity.\n",
      "Once she is spending as much time asleep as she needs, she retains her new bedtimes. Three\n",
      "months later, she settles on going to bed at 11:30 PM, waking up at 8 AM, and her sleep is 88 %\n",
      "efficient. She feels like a new person.\n",
      "So, what can we all learn from this?\n",
      "● If you’re struggling to sleep through the night, enforcing regular bedtimes is critical. If\n",
      "your sleep is poor, don’t start going to bed earlier and earlier. Set an alarm for 1 hour\n",
      "before bedtime to ingrain your bedtimes.\n",
      "● It is sometimes smart to wake to an alarm. Please note that I am categorically not\n",
      "advocating alarm clock use if your sleep is healthy though!\n",
      "How to sleep through the night: a summary of key\n",
      "concepts\n",
      "That’s all for now. If you’re struggling to sleep through the night, in addition to applying basic\n",
      "principles of good sleep hygiene during the daytime, minimise napping, use the 20-minute rule,\n",
      "and be meticulous about bedtime regularity! Do these things and you’ll reap the rewards of\n",
      "more restorative sleep. Two ways of tracking sleep are:\n",
      "1) Using devices: There’s now a panoply of sleep-tracking devices out there, the most\n",
      "common of which are finger- or wrist-worn. While I can’t claim this confidently when\n",
      "manufacturers are continually updating their devices, there simply doesn’t seem to be a\n",
      "big difference in the accuracy of most of these devices. So, if you buy a wearable, pick\n",
      "one made by a reputable manufacturer that has the functionality you’re after. At the time\n",
      "of writing, I wouldn’t pay attention to things like sleep stages or sleep “scores” - just\n",
      "focus on the sleep timing and duration data.\n",
      "2) Using a diary: If I had to pick either a wearable or a sleep diary, I’d probably pick a\n",
      "sleep diary. In addition to quantitative measures, how well you feel you slept is important,\n",
      "and an advantage of sleep diaries is that you can record various factors that might affect\n",
      "your sleep. You’d probably prefer to keep a digital diary, so you could try one such as\n",
      "this.\n",
      "To establish your baseline sleep, track it every morning for two weeks. To ingrain this tracking\n",
      "habit, pair it with a routine activity, such as waiting for the kettle to boil. As your habits largely\n",
      "determine whether your health improves or deteriorates, you will surely benefit from learning\n",
      "more about how to shape your habits for the better. For more on this, check out the SEEDS\n",
      "journal.\n",
      "Having trouble sleeping? Your bed is the most\n",
      "important item of furniture you own\n",
      "Consider this:\n",
      "You will spend about a third of your life asleep...\n",
      "… so you should make sure you’re sleeping on a good mattress!\n",
      "While you’re tracking your baseline sleep, you might want to buy a new mattress. Three key\n",
      "variables to consider when buying a mattress are comfort, durability, and support.\n",
      "In recent years, “bed in a box” mattresses have dramatically increased in popularity. To be\n",
      "foldable, these are made of foam. The problem with this is that foam tends to absorb heat, and\n",
      "you won’t sleep well if you get too hot. Some manufacturers use cooling gels to attempt to\n",
      "overcome this limitation, but it’s unclear how long the gels last. As spring mattresses dissipate\n",
      "heat more efficiently, they’re probably better than foam mattresses for most people. Another key consideration is mattress firmness. Heavier people tend to benefit from firmer\n",
      "mattresses. If you sleep with a bed partner, the two of you may prefer different mattress\n",
      "firmnesses. Fortunately, some mattresses are made to have different firmnesses on either side.\n",
      "Next, when it comes to mattresses, you generally get what you pay for. So, if you can afford a\n",
      "good mattress, buying a mattress is not the time to be thrifty. You should pick a mattress that\n",
      "you have tried before buying, and if you buy one from a shop then lie down on potential options\n",
      "for at least 10 minutes each.\n",
      "If you have lots of disposable income, you could try a water-cooled mattress pad to help you\n",
      "more closely control your bed temperature. Perhaps the best-known of these are the ChiliPAD\n",
      "and OOLER. Cooler still (forgive me), we’re now at the cusp of the emergence of “smart” beds\n",
      "such as this one, which apparently uses AI to optimise in-bed conditions. I anticipate that smart\n",
      "beds may be very useful for those who can afford them, we just don’t know much about how\n",
      "well this technology works yet.\n",
      "Finally, as per your mattress, ensure that your pillows, blankets and sheets are breathable and\n",
      "effectively dissipate heat too. This may seem odd to some, but one strategy I have always found\n",
      "useful is keeping a duvet cover without any duvet in it handy. That way you can use the cover\n",
      "alone if you get too hot at night. Or you can use the duvet and the separate cover concurrently -\n",
      "for example, you might cover your lower body with your duvet but your torso with a duvet cover\n",
      "alone.\n",
      "Having trouble sleeping? Make your bedroom\n",
      "relaxing!\n",
      "Finally, you should like your bedroom and do what you can to make it relaxing. This means\n",
      "getting rid of all unnecessary items and anything that clutters your mind.\n",
      "Summary\n",
      "Most of us have difficulty sleeping now and then. If you do too, begin by tracking your sleep and\n",
      "ensuring your bedroom is comfortable and uncluttered.\n",
      "These are just some of the things that we all should implement to sleep better. However,\n",
      "different strategies are suited to overcoming different sleep problems, and an array of different Sleep-maintenance insomnia: how to\n",
      "sleep through the night\n",
      "In the previous blog, we briefly reviewed what insomnia is, as well as a few simple strategies\n",
      "you can immediately put to use to sleep better. In this blog we’re going to focus on how to sleep\n",
      "through the night. In doing so, I’ll discuss a few things we can all learn from the treatment of\n",
      "sleep-maintenance insomnia, a disorder in which people wake frequently and for prolonged\n",
      "periods when they would rather be sleeping. So, if you’re tired of waking up at night, try these\n",
      "tips and let me know the results!\n",
      "Your daytime activities strongly influence your\n",
      "night-time sleep\n",
      "In a previous blog, Megan shared loads of tips about sleep hygiene. Here are some numeric\n",
      "guidelines for several particularly important sleep hygiene components:\n",
      "● Get plenty of exposure to daylight: Aim to spend at least 30 minutes outdoors in daylight\n",
      "each day, preferably in the first half of your waking day. Why not take an early lunch\n",
      "break outdoors with others?\n",
      "● Limit your consumption of stimulants such as caffeine: Cap your intake at 2 mg caffeine\n",
      "per kg body mass per day (use this site to estimate your intake), finishing your last\n",
      "caffeine-containing item by at least 9 hours before bedtime. Swap your caffeinated\n",
      "drinks for caffeine-free herbal teas.\n",
      "● Whenever possible, avoid high-intensity exercise shortly before bedtime: finish\n",
      "vigorous-intensity and/or high workload physical activity by at least 4 hours before\n",
      "bedtime, finish moderate-intensity physical activity at least 2 hours before bedtime. Don’t\n",
      "worry, sex doesn’t count and often helps people sleep… so get busy.\n",
      "● Finish consuming all calorie-containing items at least 2 hours before bedtime. Stop\n",
      "consuming fluids at this time too if you’re prone to needing to pee during the sleep\n",
      "period.\n",
      "Notice that these guidelines are all relative to your sleep timing, not time of day. There are very\n",
      "(very!) large differences between people in how their sleep is affected by these stimuli, but try\n",
      "these guidelines to begin. Pain and sleep in athletes\n",
      "To be the best they can be, athletes regularly test their capacity for physical discomfort. High\n",
      "training loads and injuries take their toll, and pain is rife in athletes. Left unchecked, poor sleep\n",
      "and pain can spiral in a vicious cycle in which poor sleep increases pain and reduces tolerance\n",
      "to painful stimuli, while in turn pain hampers sleep. Managing pain is key to maintaining healthy\n",
      "sleep in athletes, which highlights the critical importance of smart training. In addition, of the\n",
      "different strategies I’ve mentioned, meditation can be particularly helpful for coping with chronic\n",
      "pain.\n",
      "Mindset and competition\n",
      "Next, many athletes are perfectionists and experience high levels of anxiety about performance,\n",
      "especially around competitions, which may interfere with sleep. The strategies I discussed in the\n",
      "last blog should help with these ruminations.\n",
      "Competition does bring unique challenges, however. First, some events take place very early or\n",
      "late, and if this is the case then athletes should heed the advice above regarding how to shift\n",
      "sleep timing.\n",
      "Travel and sleep\n",
      "Competitions frequently entail travel, which can disrupt sleep in several ways. Sleeping in an\n",
      "unfamiliar environment routinely results in the “first-night effect”, a phenomenon in which we\n",
      "experience transient insomnia when sleeping in novel environments. This increased vigilance is\n",
      "thought to have evolutionary origins: you wouldn’t want to drop your guard for long in a place\n",
      "you’re not familiar with.\n",
      "Then there is jetlag, a subject I’d bet you’re all too familiar with. It would take multiple blogs to\n",
      "comprehensively address the causes, consequences, and management of jetlag, so I’ll be very\n",
      "brief here. If you’re travelling across 3 or more time zones and plan to fully adjust to the new\n",
      "time zone, use the website jetlagrooster for guidance on how to optimise your exposure to light\n",
      "to overcome jetlag faster. At times of day when you are trying to avoid light exposure, wear\n",
      "sunglasses or blue-blocking glasses. Timely use of melatonin in conjunction with changes in\n",
      "your patterns of light exposure can additively shift the timing of your body’s clock. If you take\n",
      "melatonin, use conventional melatonin (not the timed-release stuff) at a dose of about 1 mg (this\n",
      "is a good product). Sleep for athletes: are athletes a\n",
      "different breed?\n",
      "In case you missed them, parts one, two, and three of this series detail numerous strategies you\n",
      "may benefit from trying if your goal is to sleep better. Because so many of the NBT readers\n",
      "compete in physically gruelling events, this fourth and final blog of the series is all about sleep\n",
      "for athletes. In it, we’ll review some of the causes of sleep problems that are common among\n",
      "athletes, as well as what to do about them. To tie the blogs together and plug any holes that I’ve\n",
      "missed, Chris and I recorded two podcasts that you can tune into here and here.\n",
      "How well do athletes sleep?\n",
      "In short, not very: Many elite athletes take a long time to fall asleep, experience frequent\n",
      "awakenings during the night, feel that their sleep isn’t very restorative, and report daytime\n",
      "fatigue. In fact, a third to a half of these athletes have poor quality sleep, a proportion relatively\n",
      "similar to people of the same ages from the general population.\n",
      "This said, most elite athletes will do all-but anything to optimise their performance, so many of\n",
      "these people are experiencing sleep problems despite being meticulous about sleep hygiene.\n",
      "So, what are some of the factors that commonly disrupt sleep in athletes if left unchecked?\n",
      "Factors that impair sleep in athletes\n",
      "Work-related stress\n",
      "Many athletes are not well paid (if they are paid at all) and must balance their athletic lives with\n",
      "other jobs. As a result, some of these individuals work around the clock, the stress of which\n",
      "disposes them to insomnia. To cope with this stress, the strategies I shared in blogs two and\n",
      "three of this series should be useful. too. These apps aren’t sleep-specific, but I’m confident that using them will help many people\n",
      "sleep better. There are of course numerous excellent mindfulness teachers who run in-person\n",
      "events too, and in-person training is worth exploring if you have the time and the will. Because I\n",
      "don’t know where you live, it’s hard to point you in the direction of teachers though, I’m afraid.\n",
      "Wake up to your values\n",
      "Please note that the metacognitive model of insomnia is not just about mindfulness and\n",
      "acceptance though - it is also about using your values to guide your behaviors. If your anxiety\n",
      "about your poor sleep is affecting your commitment to important aspects of your life, you may\n",
      "benefit from taking some time to clarify your core values.\n",
      "If you truly value being a good friend and it’s your buddy’s birthday on Friday night, you’re not\n",
      "going to skip the party entirely to try and catch up on sleep, right?\n",
      "There are some simple tools out there to help you identify your core values. As a starting point,\n",
      "try the bull’s eye (page 3) and/or the Life Compass (page 5) exercise(s) in this resource. Doing\n",
      "so may be time very well spent for you!\n",
      "Okay, hopefully some of the above help you with your cognitions. But what about other common\n",
      "impediments to falling sleep?\n",
      "How to get to sleep fast when your heart is pounding\n",
      "Many people who have insomnia are particularly highly attuned to their bodily sensations.\n",
      "Am I falling asleep?\n",
      "Man, my heart is pounding… again.\n",
      "If you can relate to this problem, you’ll probably find visualisation useful. Visualisation is a skill\n",
      "that you should first hone during the daytime. To try it, imagine a scene that you find deeply\n",
      "relaxing.\n",
      "Where are you?\n",
      "Who are you with? Having trouble sleeping? A primer on\n",
      "insomnia and how to sleep better\n",
      "Having trouble sleeping?\n",
      "Rest assured, you aren’t alone: 50 million to 70 million adults in the US alone have sleep\n",
      "disorders, among which insomnia is the most prevalent. At a given time, short-term insomnia\n",
      "erodes the lives of about 30% of US adults. Chronic insomnia afflicts about 10% more.\n",
      "That’s a lot of people.\n",
      "We’re therefore going to focus on how to overcome insomnia in this blog series. However,\n",
      "regardless of your sleep problems, I’m going to try to help you identify and address the key\n",
      "contributors to your sleep problems.\n",
      "We’ll begin by briefly reviewing what insomnia is. In subsequent blogs, we’ll turn our attention to\n",
      "two subtypes of insomnia: sleep-maintenance insomnia (difficulty sleeping through the night)\n",
      "and sleep-onset insomnia (difficulty falling asleep). As an NBT reader, you’re probably unusually\n",
      "fond of testing the limits of your physical performance, so we’ll end with a discussion of the\n",
      "complex relationship between exercise and sleep, as well as some of the particular challenges\n",
      "that athletes face.\n",
      "Throughout the series, I’ll give you some practical tips you can use to enhance your sleep,\n",
      "building on multiple podcasts (such as this one) and a comprehensive previous blog that Megan\n",
      "wrote. To supplement these blogs, Chris and I will also record a podcast.\n",
      "Let’s get to it!\n",
      "What is insomnia, anyway?\n",
      "If you have difficulty falling asleep, staying asleep, getting enough sleep, and/or getting\n",
      "high-quality sleep, you may have insomnia. To be diagnosed with insomnia, you must\n",
      "experience daytime impairment too, which often entails struggling to concentrate at work or\n",
      "living amidst an unwelcome cloud of anxiety. There are actually numerous sub-categories of\n",
      "insomnia, but we’ll divide them into two:\n",
      "Human: hey\n",
      "AI: Hello! How are you feeling today? May I know your name?\n",
      "Human: not bad. Chris\n",
      "AI: Nice to meet you, Chris. Is now a good time for us to record a sleep diary entry?\n",
      "Human: sure\n",
      "AI: Great! Let's start with the first question. Could you please tell me the date of the night you're recording?\n",
      "Human: 10/03/2023\n",
      "AI: Thank you, Chris. Now, how would you rate your sleep quality for the night of October 3rd, 2023? Would you say it was \"very good\", \"good\", \"okay\", \"bad\", or \"very bad\"?\n",
      "Human: very good\n",
      "AI: That's wonderful to hear, Chris. Now, could you please tell me what time you went to bed on the night of October 3rd, 2023?\n",
      "Human: in bed at 21:15\n",
      "AI: Thank you, Chris. And at what time did you try to fall asleep?\n",
      "Human: 21:15\n",
      "AI: Thank you for sharing that, Chris. How long did it take you to fall asleep after you tried at 21:15?\n",
      "Human: 5 mins\n",
      "AI: That's quite quick, Chris. Now, how many times did you wake up during the night?\n",
      "Human: once\n",
      "AI: I see, you woke up once. Can you tell me how long you were awake during the night?\n",
      "Human: 5 mins\n",
      "AI: Thank you, Chris. Now, could you please tell me what time you finally woke up?\n",
      "Human: woke up at 6:30, got up right away\n",
      "AI: Thank you for the information, Chris. So, you woke up at 6:30 and got out of bed immediately. \n",
      "\n",
      "Let's summarize your sleep diary entry for the night of October 3rd, 2023:\n",
      "\n",
      "- Sleep quality: Very good\n",
      "- Bedtime: 21:15\n",
      "- Time you tried to fall asleep: 21:15\n",
      "- Time it took to fall asleep: 5 minutes\n",
      "- Number of awakenings: Once\n",
      "- Total awake time during the night: 5 minutes\n",
      "- Final wake up time: 6:30\n",
      "- Time you got out of bed: 6:30\n",
      "\n",
      "To calculate your sleep efficiency, we consider the total time you spent in bed (from 21:15 to 6:30, which is 9 hours and 15 minutes or 555 minutes) and subtract the time it took you to fall asleep and the time you were awake during the night (5 minutes each, so 10 minutes total). This gives us 545 minutes of sleep. \n",
      "\n",
      "So, your sleep efficiency is (545/555)*100 = 98.2%\n",
      "\n",
      "Does this summary accurately reflect your sleep for the night of October 3rd, 2023?\n",
      "Human: actually no I woke at 6:45\n",
      "AI: Thank you for the correction, Chris. So, you woke up at 6:45 and got out of bed immediately. \n",
      "\n",
      "Let's update your sleep diary entry for the night of October 3rd, 2023:\n",
      "\n",
      "- Sleep quality: Very good\n",
      "- Bedtime: 21:15\n",
      "- Time you tried to fall asleep: 21:15\n",
      "- Time it took to fall asleep: 5 minutes\n",
      "- Number of awakenings: Once\n",
      "- Total awake time during the night: 5 minutes\n",
      "- Final wake up time: 6:45\n",
      "- Time you got out of bed: 6:45\n",
      "\n",
      "Now, the total time you spent in bed is from 21:15 to 6:45, which is 9 hours and 30 minutes or 570 minutes. Subtracting the time it took you to fall asleep and the time you were awake during the night (10 minutes total), we get 560 minutes of sleep. \n",
      "\n",
      "So, your updated sleep efficiency is (560/570)*100 = 98.2%\n",
      "\n",
      "Does this updated summary accurately reflect your sleep for the night of October 3rd, 2023?\n",
      "Human: yep!\n",
      "AI: Great! I'm glad we could accurately record your sleep diary entry for the night of October 3rd, 2023. Remember, keeping a regular sleep diary can help identify patterns and areas for improvement in your sleep habits. Thank you for your time, Chris. 🚀🚀🚀\n",
      "Human: What is a good sleep efficiency?\u001b[0m\n",
      "\n",
      "\u001b[1m> Finished chain.\u001b[0m\n",
      "\u001b[36;1m\u001b[1;3mA good sleep efficiency is typically considered to be 85% or above. Sleep efficiency is a measure of the quality of your sleep and is calculated by dividing the total time spent asleep by the total time spent in bed, then multiplying by 100 to get a percentage. In the example given in the text, Amy's sleep efficiency improved dramatically to above 85% after undergoing bedtime restriction therapy, which is generally considered healthy. By the end of her therapy, Amy's sleep efficiency had increased to 88%, indicating a significant improvement in her sleep quality.\u001b[0m\n",
      "\u001b[32;1m\u001b[1;3m\u001b[0m\n",
      "\n",
      "\u001b[1m> Finished chain.\u001b[0m\n",
      "A good sleep efficiency is typically considered to be 85% or above. Sleep efficiency is a measure of the quality of your sleep and is calculated by dividing the total time spent asleep by the total time spent in bed, then multiplying by 100 to get a percentage. In the example given in the text, Amy's sleep efficiency improved dramatically to above 85% after undergoing bedtime restriction therapy, which is generally considered healthy. By the end of her therapy, Amy's sleep efficiency had increased to 88%, indicating a significant improvement in her sleep quality.\n"
     ]
    },
    {
     "data": {
      "text/plain": [
       "True"
      ]
     },
     "execution_count": 33,
     "metadata": {},
     "output_type": "execute_result"
    }
   ],
   "source": [
    "x(\"is my sleep efficiency any good?\")"
   ]
  },
  {
   "cell_type": "markdown",
   "id": "63998458-9a27-4625-9582-c38d692484e5",
   "metadata": {
    "jp-MarkdownHeadingCollapsed": true
   },
   "source": [
    "# Insomnia Severity Index (ISI)"
   ]
  },
  {
   "cell_type": "code",
   "execution_count": 25,
   "id": "e7788582-abe5-4638-ad85-5476ed9eefa5",
   "metadata": {},
   "outputs": [],
   "source": [
    "from sleepmate.isi import ISI_GOAL_PROMPTS\n",
    "x = X(SYSTEM_DESCRIPTION, ISI_GOAL_PROMPTS[0], memory=x.agent_executor.memory)"
   ]
  },
  {
   "cell_type": "code",
   "execution_count": 26,
   "id": "51d904f6-3140-4ddd-afc0-6fdcc99dfc17",
   "metadata": {},
   "outputs": [
    {
     "name": "stdout",
     "output_type": "stream",
     "text": [
      "\n",
      "\n",
      "\u001b[1m> Entering new AgentExecutor chain...\u001b[0m\n",
      "\u001b[32;1m\u001b[1;3mHello Chris! How are you feeling today? If you're up for it, I'd like to ask you some questions to assess your Insomnia Severity Index (ISI). Is now a good time for that?\u001b[0m\n",
      "\n",
      "\u001b[1m> Finished chain.\u001b[0m\n",
      "Hello Chris! How are you feeling today? If you're up for it, I'd like to ask you some questions to assess your Insomnia Severity Index (ISI). Is now a good time for that?\n"
     ]
    },
    {
     "data": {
      "text/plain": [
       "False"
      ]
     },
     "execution_count": 26,
     "metadata": {},
     "output_type": "execute_result"
    }
   ],
   "source": [
    "x(\"hey\")"
   ]
  },
  {
   "cell_type": "code",
   "execution_count": 27,
   "id": "2a3b2ef6-1764-4969-adb3-e14127b315c4",
   "metadata": {},
   "outputs": [
    {
     "name": "stdout",
     "output_type": "stream",
     "text": [
      "\n",
      "\n",
      "\u001b[1m> Entering new AgentExecutor chain...\u001b[0m\n",
      "\u001b[32;1m\u001b[1;3mGreat, let's get started. I'll be asking you a series of questions, and your responses will be rated on a scale. Here's the first question:\n",
      "\n",
      "1. Over the past two weeks, how severe has your difficulty falling asleep been? Please rate it on a scale from 0 to 4, where 0 is no difficulty, 1 is mild difficulty, 2 is moderate difficulty, 3 is severe difficulty, and 4 is very severe difficulty.\u001b[0m\n",
      "\n",
      "\u001b[1m> Finished chain.\u001b[0m\n",
      "Great, let's get started. I'll be asking you a series of questions, and your responses will be rated on a scale. Here's the first question:\n",
      "\n",
      "1. Over the past two weeks, how severe has your difficulty falling asleep been? Please rate it on a scale from 0 to 4, where 0 is no difficulty, 1 is mild difficulty, 2 is moderate difficulty, 3 is severe difficulty, and 4 is very severe difficulty.\n"
     ]
    },
    {
     "data": {
      "text/plain": [
       "False"
      ]
     },
     "execution_count": 27,
     "metadata": {},
     "output_type": "execute_result"
    }
   ],
   "source": [
    "x(\"sure\")"
   ]
  },
  {
   "cell_type": "code",
   "execution_count": 28,
   "id": "03e3cc9d-5094-47da-b54c-295e08297966",
   "metadata": {},
   "outputs": [
    {
     "name": "stdout",
     "output_type": "stream",
     "text": [
      "\n",
      "\n",
      "\u001b[1m> Entering new AgentExecutor chain...\u001b[0m\n",
      "\u001b[32;1m\u001b[1;3mThank you for your response, Chris. Let's move on to the next question:\n",
      "\n",
      "2. Over the past two weeks, how severe has your difficulty staying asleep been? Please rate it on a scale from 0 to 4, where 0 is no difficulty, 1 is mild difficulty, 2 is moderate difficulty, 3 is severe difficulty, and 4 is very severe difficulty.\u001b[0m\n",
      "\n",
      "\u001b[1m> Finished chain.\u001b[0m\n",
      "Thank you for your response, Chris. Let's move on to the next question:\n",
      "\n",
      "2. Over the past two weeks, how severe has your difficulty staying asleep been? Please rate it on a scale from 0 to 4, where 0 is no difficulty, 1 is mild difficulty, 2 is moderate difficulty, 3 is severe difficulty, and 4 is very severe difficulty.\n"
     ]
    },
    {
     "data": {
      "text/plain": [
       "False"
      ]
     },
     "execution_count": 28,
     "metadata": {},
     "output_type": "execute_result"
    }
   ],
   "source": [
    "x(\"0\")"
   ]
  },
  {
   "cell_type": "code",
   "execution_count": 29,
   "id": "057f7b56-a054-4417-a8d4-aa95ec5b4ac1",
   "metadata": {},
   "outputs": [
    {
     "name": "stdout",
     "output_type": "stream",
     "text": [
      "\n",
      "\n",
      "\u001b[1m> Entering new AgentExecutor chain...\u001b[0m\n",
      "\u001b[32;1m\u001b[1;3mThank you, Chris. Now, let's proceed to the third question:\n",
      "\n",
      "3. Over the past two weeks, how severe have your problems waking up too early been? Please rate it on a scale from 0 to 4, where 0 is no problem, 1 is a mild problem, 2 is a moderate problem, 3 is a severe problem, and 4 is a very severe problem.\u001b[0m\n",
      "\n",
      "\u001b[1m> Finished chain.\u001b[0m\n",
      "Thank you, Chris. Now, let's proceed to the third question:\n",
      "\n",
      "3. Over the past two weeks, how severe have your problems waking up too early been? Please rate it on a scale from 0 to 4, where 0 is no problem, 1 is a mild problem, 2 is a moderate problem, 3 is a severe problem, and 4 is a very severe problem.\n"
     ]
    },
    {
     "data": {
      "text/plain": [
       "False"
      ]
     },
     "execution_count": 29,
     "metadata": {},
     "output_type": "execute_result"
    }
   ],
   "source": [
    "x(\"1\")"
   ]
  },
  {
   "cell_type": "code",
   "execution_count": 30,
   "id": "083e0f45-710f-4ac2-9c2c-495d4de21585",
   "metadata": {},
   "outputs": [
    {
     "name": "stdout",
     "output_type": "stream",
     "text": [
      "\n",
      "\n",
      "\u001b[1m> Entering new AgentExecutor chain...\u001b[0m\n",
      "\u001b[32;1m\u001b[1;3mThank you, Chris. Now, let's move on to the fourth question:\n",
      "\n",
      "4. Over the past two weeks, how satisfied or dissatisfied have you been with your current sleep pattern? Please rate it on a scale from 0 to 4, where 0 is very satisfied, 1 is satisfied, 2 is moderately satisfied, 3 is dissatisfied, and 4 is very dissatisfied.\u001b[0m\n",
      "\n",
      "\u001b[1m> Finished chain.\u001b[0m\n",
      "Thank you, Chris. Now, let's move on to the fourth question:\n",
      "\n",
      "4. Over the past two weeks, how satisfied or dissatisfied have you been with your current sleep pattern? Please rate it on a scale from 0 to 4, where 0 is very satisfied, 1 is satisfied, 2 is moderately satisfied, 3 is dissatisfied, and 4 is very dissatisfied.\n"
     ]
    },
    {
     "data": {
      "text/plain": [
       "False"
      ]
     },
     "execution_count": 30,
     "metadata": {},
     "output_type": "execute_result"
    }
   ],
   "source": [
    "x(\"0\")"
   ]
  },
  {
   "cell_type": "code",
   "execution_count": 31,
   "id": "688142a4-9e5b-465d-bc52-7795eddaf213",
   "metadata": {},
   "outputs": [
    {
     "name": "stdout",
     "output_type": "stream",
     "text": [
      "\n",
      "\n",
      "\u001b[1m> Entering new AgentExecutor chain...\u001b[0m\n",
      "\u001b[32;1m\u001b[1;3mThank you, Chris. Now, let's proceed to the fifth question:\n",
      "\n",
      "5. Over the past two weeks, how noticeable to others do you think your sleep problem has been in terms of impairing the quality of your life? Please rate it on a scale from 0 to 4, where 0 is not at all noticeable, 1 is a little bit noticeable, 2 is moderately noticeable, 3 is quite a bit noticeable, and 4 is very much noticeable.\u001b[0m\n",
      "\n",
      "\u001b[1m> Finished chain.\u001b[0m\n",
      "Thank you, Chris. Now, let's proceed to the fifth question:\n",
      "\n",
      "5. Over the past two weeks, how noticeable to others do you think your sleep problem has been in terms of impairing the quality of your life? Please rate it on a scale from 0 to 4, where 0 is not at all noticeable, 1 is a little bit noticeable, 2 is moderately noticeable, 3 is quite a bit noticeable, and 4 is very much noticeable.\n"
     ]
    },
    {
     "data": {
      "text/plain": [
       "False"
      ]
     },
     "execution_count": 31,
     "metadata": {},
     "output_type": "execute_result"
    }
   ],
   "source": [
    "x(\"0\")"
   ]
  },
  {
   "cell_type": "code",
   "execution_count": 32,
   "id": "f93375c1-8fdf-45f7-86dc-8cd5be66b526",
   "metadata": {},
   "outputs": [
    {
     "name": "stdout",
     "output_type": "stream",
     "text": [
      "\n",
      "\n",
      "\u001b[1m> Entering new AgentExecutor chain...\u001b[0m\n",
      "\u001b[32;1m\u001b[1;3mThank you, Chris. Now, let's move on to the sixth question:\n",
      "\n",
      "6. Over the past two weeks, how worried or distressed have you been about your current sleep problem? Please rate it on a scale from 0 to 4, where 0 is not at all worried, 1 is a little bit worried, 2 is moderately worried, 3 is quite a bit worried, and 4 is very much worried.\u001b[0m\n",
      "\n",
      "\u001b[1m> Finished chain.\u001b[0m\n",
      "Thank you, Chris. Now, let's move on to the sixth question:\n",
      "\n",
      "6. Over the past two weeks, how worried or distressed have you been about your current sleep problem? Please rate it on a scale from 0 to 4, where 0 is not at all worried, 1 is a little bit worried, 2 is moderately worried, 3 is quite a bit worried, and 4 is very much worried.\n"
     ]
    },
    {
     "data": {
      "text/plain": [
       "False"
      ]
     },
     "execution_count": 32,
     "metadata": {},
     "output_type": "execute_result"
    }
   ],
   "source": [
    "x(\"0\")"
   ]
  },
  {
   "cell_type": "code",
   "execution_count": 33,
   "id": "57307c46-ef95-416e-bf24-42a25ad93da9",
   "metadata": {},
   "outputs": [
    {
     "name": "stdout",
     "output_type": "stream",
     "text": [
      "\n",
      "\n",
      "\u001b[1m> Entering new AgentExecutor chain...\u001b[0m\n",
      "\u001b[32;1m\u001b[1;3mThank you, Chris. Now, let's proceed to the final question:\n",
      "\n",
      "7. Over the past two weeks, to what extent do you consider your sleep problem to interfere with your daily functioning (e.g., daytime fatigue, ability to function at work/daily chores, concentration, memory, mood, etc.)? Please rate it on a scale from 0 to 4, where 0 is not at all interfering, 1 is a little bit interfering, 2 is moderately interfering, 3 is quite a bit interfering, and 4 is very much interfering.\u001b[0m\n",
      "\n",
      "\u001b[1m> Finished chain.\u001b[0m\n",
      "Thank you, Chris. Now, let's proceed to the final question:\n",
      "\n",
      "7. Over the past two weeks, to what extent do you consider your sleep problem to interfere with your daily functioning (e.g., daytime fatigue, ability to function at work/daily chores, concentration, memory, mood, etc.)? Please rate it on a scale from 0 to 4, where 0 is not at all interfering, 1 is a little bit interfering, 2 is moderately interfering, 3 is quite a bit interfering, and 4 is very much interfering.\n"
     ]
    },
    {
     "data": {
      "text/plain": [
       "False"
      ]
     },
     "execution_count": 33,
     "metadata": {},
     "output_type": "execute_result"
    }
   ],
   "source": [
    "x(\"0\")"
   ]
  },
  {
   "cell_type": "code",
   "execution_count": 34,
   "id": "7ec9b886-5ec0-4084-90e9-79d4d41483fa",
   "metadata": {},
   "outputs": [
    {
     "name": "stdout",
     "output_type": "stream",
     "text": [
      "\n",
      "\n",
      "\u001b[1m> Entering new AgentExecutor chain...\u001b[0m\n",
      "\u001b[32;1m\u001b[1;3mThank you, Chris. Let's summarize your responses:\n",
      "\n",
      "1. Difficulty falling asleep: 0\n",
      "2. Difficulty staying asleep: 1\n",
      "3. Problems waking up too early: 0\n",
      "4. Satisfaction with current sleep pattern: 0\n",
      "5. Noticeability of sleep problem: 0\n",
      "6. Worries about sleep problem: 0\n",
      "7. Interference of sleep problem with daily functioning: 0\n",
      "\n",
      "So, your total score is 1. According to the Insomnia Severity Index, a score of 1 falls into the category of \"No clinically significant insomnia\". \n",
      "\n",
      "Does this summary accurately reflect your responses?\u001b[0m\n",
      "\n",
      "\u001b[1m> Finished chain.\u001b[0m\n",
      "Thank you, Chris. Let's summarize your responses:\n",
      "\n",
      "1. Difficulty falling asleep: 0\n",
      "2. Difficulty staying asleep: 1\n",
      "3. Problems waking up too early: 0\n",
      "4. Satisfaction with current sleep pattern: 0\n",
      "5. Noticeability of sleep problem: 0\n",
      "6. Worries about sleep problem: 0\n",
      "7. Interference of sleep problem with daily functioning: 0\n",
      "\n",
      "So, your total score is 1. According to the Insomnia Severity Index, a score of 1 falls into the category of \"No clinically significant insomnia\". \n",
      "\n",
      "Does this summary accurately reflect your responses?\n"
     ]
    },
    {
     "data": {
      "text/plain": [
       "False"
      ]
     },
     "execution_count": 34,
     "metadata": {},
     "output_type": "execute_result"
    }
   ],
   "source": [
    "x(\"0\")"
   ]
  },
  {
   "cell_type": "code",
   "execution_count": 35,
   "id": "7f357c1a-3625-4117-91d4-49d24b7adc99",
   "metadata": {},
   "outputs": [
    {
     "name": "stdout",
     "output_type": "stream",
     "text": [
      "\n",
      "\n",
      "\u001b[1m> Entering new AgentExecutor chain...\u001b[0m\n",
      "\u001b[32;1m\u001b[1;3mGreat! I'm glad we got all the details correct. Thank you for taking the time to complete the Insomnia Severity Index questionnaire, Chris. This information can be very helpful in understanding and improving your sleep patterns. If you have any more questions or need further assistance, feel free to ask. 🚀🚀🚀\u001b[0m\n",
      "\n",
      "\u001b[1m> Finished chain.\u001b[0m\n",
      "Great! I'm glad we got all the details correct. Thank you for taking the time to complete the Insomnia Severity Index questionnaire, Chris. This information can be very helpful in understanding and improving your sleep patterns. If you have any more questions or need further assistance, feel free to ask. 🚀🚀🚀\n"
     ]
    },
    {
     "data": {
      "text/plain": [
       "True"
      ]
     },
     "execution_count": 35,
     "metadata": {},
     "output_type": "execute_result"
    }
   ],
   "source": [
    "x(\"yep!\")"
   ]
  },
  {
   "cell_type": "code",
   "execution_count": null,
   "id": "8dd3900e-1746-41b4-9c80-9a91aab4314a",
   "metadata": {},
   "outputs": [],
   "source": []
  }
 ],
 "metadata": {
  "kernelspec": {
   "display_name": "Python 3 (ipykernel)",
   "language": "python",
   "name": "python3"
  },
  "language_info": {
   "codemirror_mode": {
    "name": "ipython",
    "version": 3
   },
   "file_extension": ".py",
   "mimetype": "text/x-python",
   "name": "python",
   "nbconvert_exporter": "python",
   "pygments_lexer": "ipython3",
   "version": "3.11.5"
  }
 },
 "nbformat": 4,
 "nbformat_minor": 5
}
