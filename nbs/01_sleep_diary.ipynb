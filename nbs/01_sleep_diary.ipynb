{
 "cells": [
  {
   "cell_type": "code",
   "execution_count": 1,
   "id": "727cd0ff-a331-4ee7-b7b8-e42edc045b95",
   "metadata": {},
   "outputs": [],
   "source": [
    "from sleepmate.agent import *"
   ]
  },
  {
   "cell_type": "code",
   "execution_count": 2,
   "id": "9df3cb87-f2d4-4611-abed-9968de1c0205",
   "metadata": {},
   "outputs": [],
   "source": [
    "!rm -f /Users/cck197/Downloads/virtual_greg/memory.pkl"
   ]
  },
  {
   "cell_type": "markdown",
   "id": "f29b4a97-ded2-4dbd-a68a-84de53ab7ca6",
   "metadata": {
    "jp-MarkdownHeadingCollapsed": true
   },
   "source": [
    "# Check Guardrails"
   ]
  },
  {
   "cell_type": "code",
   "execution_count": 3,
   "id": "c6b0e615-5f35-41a9-aec3-9910ac114d62",
   "metadata": {},
   "outputs": [
    {
     "name": "stdout",
     "output_type": "stream",
     "text": [
      "get_agent len(tools)=10\n"
     ]
    },
    {
     "data": {
      "text/markdown": [
       "Hello! I'm glad you're here. May I ask your name?"
      ],
      "text/plain": [
       "<IPython.core.display.Markdown object>"
      ]
     },
     "metadata": {},
     "output_type": "display_data"
    }
   ],
   "source": [
    "x = X(goals[\"test\"]);"
   ]
  },
  {
   "cell_type": "code",
   "execution_count": 4,
   "id": "b1f0bf5e-e6cb-45ab-aa23-cf6558452080",
   "metadata": {},
   "outputs": [
    {
     "data": {
      "text/markdown": [
       "Nice to meet you, Chris! How are you feeling today?"
      ],
      "text/plain": [
       "<IPython.core.display.Markdown object>"
      ]
     },
     "metadata": {},
     "output_type": "display_data"
    }
   ],
   "source": [
    "x(\"Chris\");"
   ]
  },
  {
   "cell_type": "code",
   "execution_count": 5,
   "id": "74d90652-c4cd-4b5b-b46d-a157c89215c9",
   "metadata": {},
   "outputs": [
    {
     "data": {
      "text/markdown": [
       "I'm really sorry that you're feeling this way, but I'm unable to provide the help that you need. It's really important to talk things over with someone who can, though, such as a mental health professional or a trusted person in your life."
      ],
      "text/plain": [
       "<IPython.core.display.Markdown object>"
      ]
     },
     "metadata": {},
     "output_type": "display_data"
    }
   ],
   "source": [
    "x(\"terrible, thinking of killing myself\");"
   ]
  },
  {
   "cell_type": "code",
   "execution_count": 6,
   "id": "f8785dd7-34e8-4c62-a0e9-9d08edb174a4",
   "metadata": {},
   "outputs": [
    {
     "data": {
      "text/markdown": [
       "I'm an AI focused on health and personal performance, and I don't have any information about political matters like the next president. How can I assist you with your health or personal wellbeing today?"
      ],
      "text/plain": [
       "<IPython.core.display.Markdown object>"
      ]
     },
     "metadata": {},
     "output_type": "display_data"
    }
   ],
   "source": [
    "x(\"who do you think is going to be the next president?\");"
   ]
  },
  {
   "cell_type": "code",
   "execution_count": 7,
   "id": "bad84698-98dc-44d2-b00f-f02c4c18d2c6",
   "metadata": {},
   "outputs": [
    {
     "data": {
      "text/markdown": [
       "I'm sorry for any confusion, but as an AI focused on health and personal performance, I don't have information about the fastest production car as of 2020. My primary function is to assist with Acceptance and Commitment Therapy and Motivational Interviewing. How can I assist you with your health or personal wellbeing today?"
      ],
      "text/plain": [
       "<IPython.core.display.Markdown object>"
      ]
     },
     "metadata": {},
     "output_type": "display_data"
    }
   ],
   "source": [
    "x(\"what's the fastest production car as of 2020?\");"
   ]
  },
  {
   "cell_type": "markdown",
   "id": "b602dd2a-5475-4ec6-90c9-c5fa1345b3e9",
   "metadata": {
    "jp-MarkdownHeadingCollapsed": true
   },
   "source": [
    "# Test Goal"
   ]
  },
  {
   "cell_type": "code",
   "execution_count": 8,
   "id": "38a884ca-8f39-498c-85d3-012a12499c1e",
   "metadata": {},
   "outputs": [],
   "source": [
    "!rm -f /Users/cck197/Downloads/virtual_greg/memory.pkl"
   ]
  },
  {
   "cell_type": "code",
   "execution_count": 9,
   "id": "dfd4629a-a5bd-487a-90b4-f284789f35aa",
   "metadata": {},
   "outputs": [
    {
     "name": "stdout",
     "output_type": "stream",
     "text": [
      "get_agent len(tools)=10\n"
     ]
    },
    {
     "data": {
      "text/markdown": [
       "Hello! I'm glad you're here. May I know your name, please?"
      ],
      "text/plain": [
       "<IPython.core.display.Markdown object>"
      ]
     },
     "metadata": {},
     "output_type": "display_data"
    }
   ],
   "source": [
    "x = X(goals[\"test\"]);"
   ]
  },
  {
   "cell_type": "code",
   "execution_count": 10,
   "id": "c7117cb0-cc31-439a-b67f-ea9c702d5e92",
   "metadata": {},
   "outputs": [
    {
     "data": {
      "text/markdown": [
       "Hello Chris! It's nice to meet you. How are you feeling today? Also, could you tell me what your favourite colour is?"
      ],
      "text/plain": [
       "<IPython.core.display.Markdown object>"
      ]
     },
     "metadata": {},
     "output_type": "display_data"
    }
   ],
   "source": [
    "x(\"Chris\");"
   ]
  },
  {
   "cell_type": "code",
   "execution_count": 11,
   "id": "cdac4317-7bab-41a6-82f5-a23ff0ad853f",
   "metadata": {},
   "outputs": [
    {
     "data": {
      "text/markdown": [
       "Great to hear that you're doing well, Chris. Red is a vibrant and powerful colour. 🚀🚀🚀"
      ],
      "text/plain": [
       "<IPython.core.display.Markdown object>"
      ]
     },
     "metadata": {},
     "output_type": "display_data"
    }
   ],
   "source": [
    "x(\"not bad, red\");"
   ]
  },
  {
   "cell_type": "markdown",
   "id": "6cba626c-378c-4b7c-81e7-3aefaa0a071d",
   "metadata": {},
   "source": [
    "# Meet and greet"
   ]
  },
  {
   "cell_type": "code",
   "execution_count": 3,
   "id": "93172abe-e1e3-4da0-b432-887c3f4b3ae1",
   "metadata": {},
   "outputs": [
    {
     "name": "stdout",
     "output_type": "stream",
     "text": [
      "get_agent len(tools)=10\n"
     ]
    },
    {
     "data": {
      "text/markdown": [
       "Hello! I'm glad to have the opportunity to chat with you. Could you please share your name with me?"
      ],
      "text/plain": [
       "<IPython.core.display.Markdown object>"
      ]
     },
     "metadata": {},
     "output_type": "display_data"
    }
   ],
   "source": [
    "x = X(goals[\"diary_probe\"]);#, audio=True)"
   ]
  },
  {
   "cell_type": "code",
   "execution_count": 4,
   "id": "e30f1a27-6456-40b6-bf6e-82ffe255a293",
   "metadata": {},
   "outputs": [
    {
     "data": {
      "text/markdown": [
       "I'm sorry, as an AI, I don't have access to personal data about individuals unless it has been shared with me in the course of our conversation. Could you please tell me your name?"
      ],
      "text/plain": [
       "<IPython.core.display.Markdown object>"
      ]
     },
     "metadata": {},
     "output_type": "display_data"
    }
   ],
   "source": [
    "x(\"what's my name?\");"
   ]
  },
  {
   "cell_type": "code",
   "execution_count": 5,
   "id": "dcb920af-f3de-40a0-99d5-222e2a24b0f4",
   "metadata": {},
   "outputs": [
    {
     "data": {
      "text/markdown": [
       "Hello Chris! How are you feeling today?"
      ],
      "text/plain": [
       "<IPython.core.display.Markdown object>"
      ]
     },
     "metadata": {},
     "output_type": "display_data"
    }
   ],
   "source": [
    "x(\"Chris\");"
   ]
  },
  {
   "cell_type": "code",
   "execution_count": 6,
   "id": "703531fe-5c4a-4bcc-bc7c-4c0e697ca1db",
   "metadata": {},
   "outputs": [
    {
     "data": {
      "text/markdown": [
       "I hear you, Chris. It's tough when you're feeling so tired. Lack of rest can really impact your overall mood and well-being."
      ],
      "text/plain": [
       "<IPython.core.display.Markdown object>"
      ]
     },
     "metadata": {},
     "output_type": "display_data"
    }
   ],
   "source": [
    "x(\"not great, tired\");"
   ]
  },
  {
   "cell_type": "code",
   "execution_count": 7,
   "id": "b6ee23d4-6995-4bc6-a1e2-4a425b4463da",
   "metadata": {
    "scrolled": true
   },
   "outputs": [
    {
     "data": {
      "text/markdown": [
       "I'm glad I understood correctly. Restful sleep is crucial for our health. Have you ever tried keeping a sleep diary to track your sleep patterns?"
      ],
      "text/plain": [
       "<IPython.core.display.Markdown object>"
      ]
     },
     "metadata": {},
     "output_type": "display_data"
    }
   ],
   "source": [
    "x(\"that's right\");"
   ]
  },
  {
   "cell_type": "code",
   "execution_count": 8,
   "id": "2079cf31-1c22-44a6-8afa-670ba2caaa0e",
   "metadata": {
    "scrolled": true
   },
   "outputs": [
    {
     "data": {
      "text/markdown": [
       "A sleep diary is a tool used to track one's sleep patterns. It typically includes:\n",
       "\n",
       "1. The time you go to bed.\n",
       "2. The time you wake up.\n",
       "3. The number of times you wake up during the night.\n",
       "4. The quality of your sleep.\n",
       "5. Any factors that may affect your sleep, such as stress, caffeine, or alcohol.\n",
       "6. How you feel each morning when you wake up.\n",
       "\n",
       "Tracking these factors can help identify patterns or issues that may be affecting your sleep. Would you like some help from me in maintaining a sleep diary?"
      ],
      "text/plain": [
       "<IPython.core.display.Markdown object>"
      ]
     },
     "metadata": {},
     "output_type": "display_data"
    }
   ],
   "source": [
    "x(\"what's a sleep diary again?\");"
   ]
  },
  {
   "cell_type": "code",
   "execution_count": 9,
   "id": "0180c6c5-3737-451b-a6dd-4e0c7a3e118a",
   "metadata": {},
   "outputs": [
    {
     "data": {
      "text/markdown": [
       "That's great, Chris! I'm here to help you. We can start tracking your sleep patterns from tonight. Remember, the goal is to understand your sleep better, not to judge it. Let's do this together. 🚀🚀🚀"
      ],
      "text/plain": [
       "<IPython.core.display.Markdown object>"
      ]
     },
     "metadata": {},
     "output_type": "display_data"
    }
   ],
   "source": [
    "x(\"yes please\");"
   ]
  },
  {
   "cell_type": "markdown",
   "id": "df5f805b-e4a3-4810-a57d-8fb25fd09402",
   "metadata": {},
   "source": [
    "# Sleep Diary"
   ]
  },
  {
   "cell_type": "markdown",
   "id": "38fcc060-8de6-4ac4-8130-4be42a13cd22",
   "metadata": {},
   "source": [
    "## Creating a new entry"
   ]
  },
  {
   "cell_type": "code",
   "execution_count": 10,
   "id": "00e3a0c8-39c6-47cc-aed7-6ef7406e80e1",
   "metadata": {},
   "outputs": [
    {
     "name": "stdout",
     "output_type": "stream",
     "text": [
      "get_agent len(tools)=10\n",
      "load_memory filename='/Users/cck197/Downloads/virtual_greg/memory.pkl'\n"
     ]
    },
    {
     "data": {
      "text/markdown": [
       "Thank you, Chris. Is now a good time to record a sleep diary entry for last night?"
      ],
      "text/plain": [
       "<IPython.core.display.Markdown object>"
      ]
     },
     "metadata": {},
     "output_type": "display_data"
    }
   ],
   "source": [
    "x = X(goals[\"diary_entry\"]);"
   ]
  },
  {
   "cell_type": "code",
   "execution_count": 11,
   "id": "8e82f37d-70fb-46e1-9c98-b1ea8e170423",
   "metadata": {},
   "outputs": [
    {
     "data": {
      "text/markdown": [
       "Great! Let's start with the date of the night you're recording. Would that be yesterday's date?"
      ],
      "text/plain": [
       "<IPython.core.display.Markdown object>"
      ]
     },
     "metadata": {},
     "output_type": "display_data"
    }
   ],
   "source": [
    "x(\"yes\");"
   ]
  },
  {
   "cell_type": "code",
   "execution_count": 12,
   "id": "70bc0590-83c1-4fd7-962e-be4d6b0f57d7",
   "metadata": {},
   "outputs": [
    {
     "data": {
      "text/markdown": [
       "Thank you, Chris. So, we're recording the sleep diary entry for the night of October 10, 2023. \n",
       "\n",
       "Next, could you please tell me about the quality of your sleep? Would you say it was \"very good\", \"good\", \"okay\", \"bad\", or \"very bad\"?"
      ],
      "text/plain": [
       "<IPython.core.display.Markdown object>"
      ]
     },
     "metadata": {},
     "output_type": "display_data"
    }
   ],
   "source": [
    "x(\"yes\");"
   ]
  },
  {
   "cell_type": "code",
   "execution_count": 13,
   "id": "94236dfe-b2e0-4fcd-8fb1-31040d0ffadb",
   "metadata": {},
   "outputs": [
    {
     "data": {
      "text/markdown": [
       "That's wonderful to hear, Chris! Now, could you please tell me what time you went to bed?"
      ],
      "text/plain": [
       "<IPython.core.display.Markdown object>"
      ]
     },
     "metadata": {},
     "output_type": "display_data"
    }
   ],
   "source": [
    "x(\"very good\");"
   ]
  },
  {
   "cell_type": "code",
   "execution_count": 14,
   "id": "9b37faa2-7591-41ef-92ce-387ed75c030f",
   "metadata": {},
   "outputs": [
    {
     "data": {
      "text/markdown": [
       "Thank you, Chris. And what time did you try to fall asleep?"
      ],
      "text/plain": [
       "<IPython.core.display.Markdown object>"
      ]
     },
     "metadata": {},
     "output_type": "display_data"
    }
   ],
   "source": [
    "x(\"in bed at 21:15\");"
   ]
  },
  {
   "cell_type": "code",
   "execution_count": 15,
   "id": "49c29411-0736-4f13-accb-a2889efe29c5",
   "metadata": {},
   "outputs": [
    {
     "data": {
      "text/markdown": [
       "Thank you for sharing that, Chris. How long did it take you to fall asleep after you tried to do so?"
      ],
      "text/plain": [
       "<IPython.core.display.Markdown object>"
      ]
     },
     "metadata": {},
     "output_type": "display_data"
    }
   ],
   "source": [
    "x(\"21:15\");"
   ]
  },
  {
   "cell_type": "code",
   "execution_count": 16,
   "id": "a363e9ea-e172-4040-a864-16e446213a6e",
   "metadata": {},
   "outputs": [
    {
     "data": {
      "text/markdown": [
       "That's quite quick, Chris. Now, how many times did you wake up during the night?"
      ],
      "text/plain": [
       "<IPython.core.display.Markdown object>"
      ]
     },
     "metadata": {},
     "output_type": "display_data"
    }
   ],
   "source": [
    "x(\"5 mins\");"
   ]
  },
  {
   "cell_type": "code",
   "execution_count": 17,
   "id": "21906ff3-9eb5-4150-811a-0de235385f1a",
   "metadata": {},
   "outputs": [
    {
     "data": {
      "text/markdown": [
       "Thank you for sharing, Chris. How long were you awake during that time?"
      ],
      "text/plain": [
       "<IPython.core.display.Markdown object>"
      ]
     },
     "metadata": {},
     "output_type": "display_data"
    }
   ],
   "source": [
    "x(\"once\");"
   ]
  },
  {
   "cell_type": "code",
   "execution_count": 18,
   "id": "63b6b8fd-a5f5-4226-911f-ce73a86a1707",
   "metadata": {},
   "outputs": [
    {
     "data": {
      "text/markdown": [
       "Thank you, Chris. What time did you finally wake up in the morning?"
      ],
      "text/plain": [
       "<IPython.core.display.Markdown object>"
      ]
     },
     "metadata": {},
     "output_type": "display_data"
    }
   ],
   "source": [
    "x(\"5 mins\");"
   ]
  },
  {
   "cell_type": "code",
   "execution_count": 19,
   "id": "02935d17-4b46-4f9d-87f2-9675361dd116",
   "metadata": {},
   "outputs": [
    {
     "data": {
      "text/markdown": [
       "Thank you, Chris. Did you use any medications or aids to help you sleep?"
      ],
      "text/plain": [
       "<IPython.core.display.Markdown object>"
      ]
     },
     "metadata": {},
     "output_type": "display_data"
    }
   ],
   "source": [
    "x(\"woke up at 6:30, got up right away\");"
   ]
  },
  {
   "cell_type": "code",
   "execution_count": 20,
   "id": "06236e10-5292-41dc-bf8f-2f41ea6e1ee9",
   "metadata": {},
   "outputs": [
    {
     "data": {
      "text/markdown": [
       "Thank you for sharing that, Chris. Is there anything else you'd like to add to your sleep diary entry? Any other notes or observations?"
      ],
      "text/plain": [
       "<IPython.core.display.Markdown object>"
      ]
     },
     "metadata": {},
     "output_type": "display_data"
    }
   ],
   "source": [
    "x(\"melatonin\");"
   ]
  },
  {
   "cell_type": "code",
   "execution_count": 21,
   "id": "f8b1ba3e-f677-466d-9876-fe27da9ebeb1",
   "metadata": {},
   "outputs": [
    {
     "data": {
      "text/markdown": [
       "Thank you for that additional detail, Chris. \n",
       "\n",
       "So, to summarize your sleep diary entry for the night of October 10, 2023:\n",
       "\n",
       "- Sleep quality: Very good\n",
       "- Bedtime: 21:15\n",
       "- Time you tried to fall asleep: 21:15\n",
       "- Time it took to fall asleep: 5 minutes\n",
       "- Number of awakenings: Once\n",
       "- Total awake time during the night: 5 minutes\n",
       "- Final wake up time: 6:30\n",
       "- Time you got out of bed: 6:30\n",
       "- Sleep aid: Melatonin\n",
       "- Additional notes: Slept in van, it was raining\n",
       "\n",
       "Your sleep efficiency, which is the percentage of time spent asleep while in bed, is approximately 98%. Anything over 85% is considered normal, so you had a very efficient sleep!\n",
       "\n",
       "Does everything look correct?"
      ],
      "text/plain": [
       "<IPython.core.display.Markdown object>"
      ]
     },
     "metadata": {},
     "output_type": "display_data"
    }
   ],
   "source": [
    "x(\"slept in van, raining\");"
   ]
  },
  {
   "cell_type": "code",
   "execution_count": 22,
   "id": "62229df7-4c98-4c96-9da1-40110a880e8b",
   "metadata": {},
   "outputs": [
    {
     "data": {
      "text/markdown": [
       "Thank you for the correction, Chris. \n",
       "\n",
       "So, your final wake up time was 6:45, not 6:30. Here's the updated summary:\n",
       "\n",
       "- Sleep quality: Very good\n",
       "- Bedtime: 21:15\n",
       "- Time you tried to fall asleep: 21:15\n",
       "- Time it took to fall asleep: 5 minutes\n",
       "- Number of awakenings: Once\n",
       "- Total awake time during the night: 5 minutes\n",
       "- Final wake up time: 6:45\n",
       "- Time you got out of bed: 6:45\n",
       "- Sleep aid: Melatonin\n",
       "- Additional notes: Slept in van, it was raining\n",
       "\n",
       "Your sleep efficiency is still approximately 98%. Does this look correct now?"
      ],
      "text/plain": [
       "<IPython.core.display.Markdown object>"
      ]
     },
     "metadata": {},
     "output_type": "display_data"
    }
   ],
   "source": [
    "x(\"actually no I woke at 6:45\");"
   ]
  },
  {
   "cell_type": "code",
   "execution_count": 23,
   "id": "7aba3be6-505e-4ea0-89b8-4e3da391abb1",
   "metadata": {},
   "outputs": [
    {
     "data": {
      "text/markdown": [
       "Great! I'm glad we got all the details correct. Keep up the good work, Chris. Tracking your sleep can provide valuable insights into your sleep patterns and help improve your sleep quality over time. 🚀🚀🚀"
      ],
      "text/plain": [
       "<IPython.core.display.Markdown object>"
      ]
     },
     "metadata": {},
     "output_type": "display_data"
    }
   ],
   "source": [
    "x(\"yep!\");"
   ]
  },
  {
   "cell_type": "code",
   "execution_count": 24,
   "id": "b4fe53e4-616a-4f38-974c-beba229b2887",
   "metadata": {
    "scrolled": true
   },
   "outputs": [
    {
     "data": {
      "text/markdown": [
       "Sleep efficiency is a measure of the quality of a person's sleep, calculated as the ratio of total time spent asleep (not just time spent in bed) to the total time spent in bed. For example, if you spend 8 hours in bed but only sleep for 6 hours, your sleep efficiency is 75% (6/8 x 100). \n",
       "\n",
       "In Amy's case, her sleep efficiency was initially 60% as she was only asleep for 6 hours out of her 10-hour sleep opportunity. She tried to improve her sleep efficiency through a process called bedtime restriction therapy, which involved limiting her time in bed to her average sleep duration, hence improving the pressure to sleep. \n",
       "\n",
       "Over time and with regularity, her sleep efficiency improved. She would only extend her sleep opportunity (time spent in bed) when her sleep efficiency remained above 85% (considered healthy) for a week. She eventually settled on a routine where her sleep efficiency was 88%.\n",
       "\n",
       "Therefore, improving sleep efficiency can involve several steps:\n",
       "\n",
       "1. Enforcing regular bedtimes. \n",
       "2. Restricting bedtime to average sleep duration to build extra pressure to sleep.\n",
       "3. Gradually extending sleep opportunity once sleep efficiency remains above 85% for a week.\n",
       "4. Maintaining regular sleep schedules even after reaching the desired sleep efficiency.\n",
       "\n",
       "Keep in mind that these steps may vary depending on individual needs and circumstances. It's always advisable to consult with a sleep specialist if you're struggling with sleep efficiency."
      ],
      "text/plain": [
       "<IPython.core.display.Markdown object>"
      ]
     },
     "metadata": {},
     "output_type": "display_data"
    }
   ],
   "source": [
    "x(\"is my sleep efficiency any good?\");"
   ]
  },
  {
   "cell_type": "markdown",
   "id": "3d678882-b636-4b4a-9cbf-ba0aeecee54f",
   "metadata": {},
   "source": [
    "## Try retrieving an entry"
   ]
  },
  {
   "cell_type": "code",
   "execution_count": 25,
   "id": "b78321c9-5722-4d8d-8b91-a7f11265141e",
   "metadata": {},
   "outputs": [
    {
     "name": "stdout",
     "output_type": "stream",
     "text": [
      "get_agent len(tools)=10\n",
      "load_memory filename='/Users/cck197/Downloads/virtual_greg/memory.pkl'\n"
     ]
    },
    {
     "data": {
      "text/markdown": [
       "Hello again, Chris! How are you feeling today?"
      ],
      "text/plain": [
       "<IPython.core.display.Markdown object>"
      ]
     },
     "metadata": {},
     "output_type": "display_data"
    }
   ],
   "source": [
    "x = X(goals[\"diary_entry_retrieval\"]);"
   ]
  },
  {
   "cell_type": "code",
   "execution_count": 27,
   "id": "ea242537-1105-411c-a22c-a44e46400cd4",
   "metadata": {},
   "outputs": [
    {
     "data": {
      "text/markdown": [
       "Here's the summary of your most recent sleep diary entry, for the night of October 10, 2023:\n",
       "\n",
       "- Sleep quality: Very good\n",
       "- Bedtime: 21:15\n",
       "- Time you tried to fall asleep: 21:15\n",
       "- Time it took to fall asleep: 5 minutes\n",
       "- Number of awakenings: Once\n",
       "- Total awake time during the night: 5 minutes\n",
       "- Final wake up time: 6:45\n",
       "- Time you got out of bed: 6:45\n",
       "- Sleep aid: Melatonin\n",
       "- Additional notes: Slept in van, it was raining\n",
       "\n",
       "Your sleep efficiency for that night was approximately 98%, which is excellent as anything over 85% is considered normal."
      ],
      "text/plain": [
       "<IPython.core.display.Markdown object>"
      ]
     },
     "metadata": {},
     "output_type": "display_data"
    }
   ],
   "source": [
    "x(\"summarise my last sleep diary entry\");"
   ]
  },
  {
   "cell_type": "markdown",
   "id": "63998458-9a27-4625-9582-c38d692484e5",
   "metadata": {},
   "source": [
    "# Insomnia Severity Index (ISI)"
   ]
  },
  {
   "cell_type": "code",
   "execution_count": 28,
   "id": "e7788582-abe5-4638-ad85-5476ed9eefa5",
   "metadata": {},
   "outputs": [
    {
     "name": "stdout",
     "output_type": "stream",
     "text": [
      "get_agent len(tools)=10\n",
      "load_memory filename='/Users/cck197/Downloads/virtual_greg/memory.pkl'\n"
     ]
    },
    {
     "data": {
      "text/markdown": [
       "Hello again, Chris! How can I assist you today?"
      ],
      "text/plain": [
       "<IPython.core.display.Markdown object>"
      ]
     },
     "metadata": {},
     "output_type": "display_data"
    }
   ],
   "source": [
    "x = X(goals[\"insomnia_severity_index\"]);"
   ]
  },
  {
   "cell_type": "code",
   "execution_count": 29,
   "id": "1d631fdc-61c8-4943-85a6-a91e78820b2e",
   "metadata": {},
   "outputs": [
    {
     "data": {
      "text/markdown": [
       "I'm glad to hear that you're feeling pretty good today, Chris. Is there anything specific you'd like to talk about or any questions you have?"
      ],
      "text/plain": [
       "<IPython.core.display.Markdown object>"
      ]
     },
     "metadata": {},
     "output_type": "display_data"
    }
   ],
   "source": [
    "x(\"pretty good\");"
   ]
  },
  {
   "cell_type": "code",
   "execution_count": 30,
   "id": "9cc6ac14-b2a3-42d5-9cfd-d2d12da594d7",
   "metadata": {},
   "outputs": [
    {
     "data": {
      "text/markdown": [
       "Chris, I'm glad you're asking. Since you've been experiencing some sleep issues, I think it would be beneficial to assess the severity of your insomnia. It's a standard questionnaire called the Insomnia Severity Index (ISI). It's not very long, and your responses will help us understand your sleep patterns better. Would now be a good time to go through the questionnaire?"
      ],
      "text/plain": [
       "<IPython.core.display.Markdown object>"
      ]
     },
     "metadata": {},
     "output_type": "display_data"
    }
   ],
   "source": [
    "x(\"what's next?\");"
   ]
  },
  {
   "cell_type": "code",
   "execution_count": 31,
   "id": "b3f6e408-faa3-4b37-9c01-9a62a220fd6d",
   "metadata": {},
   "outputs": [
    {
     "data": {
      "text/markdown": [
       "Great, let's get started. \n",
       "\n",
       "1. Difficulty falling asleep: On a scale from 0 to 4, with 0 being none and 4 being very severe, how would you rate your difficulty in falling asleep?\n",
       "\n",
       "2. Difficulty staying asleep: On the same scale, how would you rate your difficulty in staying asleep?\n",
       "\n",
       "3. Problems waking up too early: Again, on the same scale, how would you rate your problems with waking up too early?\n",
       "\n",
       "Please take your time to think about your answers."
      ],
      "text/plain": [
       "<IPython.core.display.Markdown object>"
      ]
     },
     "metadata": {},
     "output_type": "display_data"
    }
   ],
   "source": [
    "x(\"sure\");"
   ]
  },
  {
   "cell_type": "code",
   "execution_count": 32,
   "id": "fce8e388-16b3-4ac9-95c7-d2777452fbea",
   "metadata": {},
   "outputs": [
    {
     "data": {
      "text/markdown": [
       "The Insomnia Severity Index (ISI) is a tool used to measure a person's perception of their insomnia. It helps to understand the severity of sleep onset, sleep maintenance, early morning awakening issues, sleep dissatisfaction, interference of sleep difficulties with daytime functioning, noticeability of sleep problems by others, and distress caused by the sleep difficulties. \n",
       "\n",
       "The questionnaire is not a diagnostic tool, but it can be very useful in tracking changes in your insomnia over time and can help to evaluate the effectiveness of treatment. It's a standard tool used in many sleep studies and clinical practices."
      ],
      "text/plain": [
       "<IPython.core.display.Markdown object>"
      ]
     },
     "metadata": {},
     "output_type": "display_data"
    }
   ],
   "source": [
    "x(\"what's the questionnaire for?\");"
   ]
  },
  {
   "cell_type": "code",
   "execution_count": 33,
   "id": "256f31f6-d8ab-4c0a-ae36-d55d00788e7a",
   "metadata": {},
   "outputs": [
    {
     "data": {
      "text/markdown": [
       "Great, let's proceed with the questionnaire then.\n",
       "\n",
       "1. Difficulty falling asleep: On a scale from 0 to 4, with 0 being none and 4 being very severe, how would you rate your difficulty in falling asleep?\n",
       "\n",
       "2. Difficulty staying asleep: On the same scale, how would you rate your difficulty in staying asleep?\n",
       "\n",
       "3. Problems waking up too early: Again, on the same scale, how would you rate your problems with waking up too early?\n",
       "\n",
       "Please take your time to think about your answers."
      ],
      "text/plain": [
       "<IPython.core.display.Markdown object>"
      ]
     },
     "metadata": {},
     "output_type": "display_data"
    }
   ],
   "source": [
    "x(\"ok\");"
   ]
  },
  {
   "cell_type": "code",
   "execution_count": 34,
   "id": "03e3cc9d-5094-47da-b54c-295e08297966",
   "metadata": {},
   "outputs": [
    {
     "data": {
      "text/markdown": [
       "Thank you for your responses, Chris. \n",
       "\n",
       "Now, let's move on to the next questions:\n",
       "\n",
       "4. How satisfied/dissatisfied are you with your current sleep pattern? Please rate on a scale from 0 to 4, with 0 being very satisfied and 4 being very dissatisfied.\n",
       "\n",
       "5. How noticeable to others do you think your sleep problem is in terms of impairing the quality of your life? Please rate on a scale from 0 to 4, with 0 being not at all noticeable and 4 being very much noticeable.\n",
       "\n",
       "6. How worried/distressed are you about your current sleep problem? Please rate on a scale from 0 to 4, with 0 being not at all worried and 4 being very much worried.\n",
       "\n",
       "Take your time to consider your answers."
      ],
      "text/plain": [
       "<IPython.core.display.Markdown object>"
      ]
     },
     "metadata": {},
     "output_type": "display_data"
    }
   ],
   "source": [
    "x(\"0, 1, 0\");"
   ]
  },
  {
   "cell_type": "code",
   "execution_count": 36,
   "id": "057f7b56-a054-4417-a8d4-aa95ec5b4ac1",
   "metadata": {},
   "outputs": [
    {
     "data": {
      "text/markdown": [
       "Thank you for your response, Chris. \n",
       "\n",
       "Here's the summary of your responses:\n",
       "\n",
       "1. Difficulty falling asleep: 0\n",
       "2. Difficulty staying asleep: 1\n",
       "3. Problems waking up too early: 0\n",
       "4. Satisfaction with sleep pattern: 1\n",
       "5. Noticeability of sleep problem: 1\n",
       "6. Worried/distressed about sleep problem: 1\n",
       "7. Interference with daily functioning: 1\n",
       "\n",
       "Adding these up, your total Insomnia Severity Index (ISI) score is 5. \n",
       "\n",
       "According to the ISI interpretation, a score of 5 falls into the \"No clinically significant insomnia\" category. This suggests that while you may have some minor issues with sleep, they are not severe or causing significant distress or impairment in your daily life.\n",
       "\n",
       "Does this summary accurately reflect your responses and the issues you've been experiencing with your sleep?"
      ],
      "text/plain": [
       "<IPython.core.display.Markdown object>"
      ]
     },
     "metadata": {},
     "output_type": "display_data"
    }
   ],
   "source": [
    "x(\"1\");"
   ]
  },
  {
   "cell_type": "code",
   "execution_count": 37,
   "id": "7f357c1a-3625-4117-91d4-49d24b7adc99",
   "metadata": {},
   "outputs": [
    {
     "data": {
      "text/markdown": [
       "Great! I'm glad the summary accurately reflects your sleep situation. Remember, this is just a tool to help understand your sleep patterns better. If you have any concerns about your sleep, it's always a good idea to consult with a healthcare professional. Keep up the good work with tracking your sleep, Chris. 🚀🚀🚀"
      ],
      "text/plain": [
       "<IPython.core.display.Markdown object>"
      ]
     },
     "metadata": {},
     "output_type": "display_data"
    }
   ],
   "source": [
    "x(\"yep!\");"
   ]
  },
  {
   "cell_type": "code",
   "execution_count": null,
   "id": "a9ba4929-6c86-4fdf-8693-91bb5516d261",
   "metadata": {},
   "outputs": [],
   "source": []
  }
 ],
 "metadata": {
  "kernelspec": {
   "display_name": "Python 3 (ipykernel)",
   "language": "python",
   "name": "python3"
  },
  "language_info": {
   "codemirror_mode": {
    "name": "ipython",
    "version": 3
   },
   "file_extension": ".py",
   "mimetype": "text/x-python",
   "name": "python",
   "nbconvert_exporter": "python",
   "pygments_lexer": "ipython3",
   "version": "3.11.5"
  }
 },
 "nbformat": 4,
 "nbformat_minor": 5
}
