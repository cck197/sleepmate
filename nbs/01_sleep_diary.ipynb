{
 "cells": [
  {
   "cell_type": "code",
   "execution_count": 5,
   "id": "727cd0ff-a331-4ee7-b7b8-e42edc045b95",
   "metadata": {},
   "outputs": [],
   "source": [
    "from sleepmate.mi import *\n",
    "from sleepmate.agent import *\n",
    "from sleepmate.diary import *\n",
    "from sleepmate.isi import *"
   ]
  },
  {
   "cell_type": "code",
   "execution_count": 6,
   "id": "d82e7396-3613-4205-bbed-06f2eec0a64b",
   "metadata": {},
   "outputs": [],
   "source": [
    "import langchain; langchain.verbose = True# langchain.debug = True"
   ]
  },
  {
   "cell_type": "code",
   "execution_count": 7,
   "id": "f49cfec2-e63d-4209-86ca-d7d441ecf67a",
   "metadata": {},
   "outputs": [],
   "source": [
    "def x(s): print(agent_executor.run(s))"
   ]
  },
  {
   "cell_type": "markdown",
   "id": "6cba626c-378c-4b7c-81e7-3aefaa0a071d",
   "metadata": {
    "jp-MarkdownHeadingCollapsed": true
   },
   "source": [
    "# Meet and greet"
   ]
  },
  {
   "cell_type": "code",
   "execution_count": 3,
   "id": "93172abe-e1e3-4da0-b432-887c3f4b3ae1",
   "metadata": {},
   "outputs": [],
   "source": [
    "funcs = [get_listening_statement, get_affirmation, get_open_question, get_sleep_diary_description]\n",
    "agent_executor = get_agent(funcs, SYSTEM_DESCRIPTION, DIARY_GOAL_PROMPTS[0])"
   ]
  },
  {
   "cell_type": "code",
   "execution_count": 5,
   "id": "6ff710ff-488b-49ea-9c5c-b90f9ab00782",
   "metadata": {},
   "outputs": [
    {
     "name": "stdout",
     "output_type": "stream",
     "text": [
      "\n",
      "\n",
      "\u001b[1m> Entering new AgentExecutor chain...\u001b[0m\n",
      "\u001b[32;1m\u001b[1;3mHello! How are you feeling today? May I know your name?\u001b[0m\n",
      "\n",
      "\u001b[1m> Finished chain.\u001b[0m\n",
      "Hello! How are you feeling today? May I know your name?\n"
     ]
    }
   ],
   "source": [
    "x(\"hi\")"
   ]
  },
  {
   "cell_type": "code",
   "execution_count": 6,
   "id": "c728420f-79b3-4731-aefc-89eb1edfe8a0",
   "metadata": {},
   "outputs": [
    {
     "name": "stdout",
     "output_type": "stream",
     "text": [
      "\n",
      "\n",
      "\u001b[1m> Entering new AgentExecutor chain...\u001b[0m\n",
      "\u001b[32;1m\u001b[1;3m\n",
      "Invoking: `get_listening_statement` with `not great tired`\n",
      "\n",
      "\n",
      "\u001b[0m\n",
      "\n",
      "\u001b[1m> Entering new LLMChain chain...\u001b[0m\n",
      "Prompt after formatting:\n",
      "\u001b[32;1m\u001b[1;3mSystem: You are an AI clinician skilled in Motivational Interviewing.\n",
      "Use this when the human is in distress. Hear what they are saying, and\n",
      "    respond with a listening statement (empathy) to motivate behaviour change.\n",
      "    Respond to the last thing said below with a listening statement naming the\n",
      "    emotion and justifying it in context. Be brief, fewer words are better.\n",
      "    \n",
      "Human: hi\n",
      "AI: Hello! How are you feeling today? May I know your name?\n",
      "Human: not great tired\u001b[0m\n",
      "\n",
      "\u001b[1m> Finished chain.\u001b[0m\n",
      "\u001b[36;1m\u001b[1;3mI hear you, it's perfectly understandable to feel tired when you're not feeling your best. We can work through this together.\u001b[0m\n",
      "\u001b[32;1m\u001b[1;3m\u001b[0m\n",
      "\n",
      "\u001b[1m> Finished chain.\u001b[0m\n",
      "I hear you, it's perfectly understandable to feel tired when you're not feeling your best. We can work through this together.\n"
     ]
    }
   ],
   "source": [
    "x(\"Chris. not great tired\")"
   ]
  },
  {
   "cell_type": "code",
   "execution_count": 7,
   "id": "e30f1a27-6456-40b6-bf6e-82ffe255a293",
   "metadata": {},
   "outputs": [
    {
     "name": "stdout",
     "output_type": "stream",
     "text": [
      "\n",
      "\n",
      "\u001b[1m> Entering new AgentExecutor chain...\u001b[0m\n",
      "\u001b[32;1m\u001b[1;3mYour name is Chris. I understand that you're feeling tired. It's not easy when you're not feeling well.\u001b[0m\n",
      "\n",
      "\u001b[1m> Finished chain.\u001b[0m\n",
      "Your name is Chris. I understand that you're feeling tired. It's not easy when you're not feeling well.\n"
     ]
    }
   ],
   "source": [
    "x(\"what's my name?\")"
   ]
  },
  {
   "cell_type": "code",
   "execution_count": 8,
   "id": "4f985944-6dbb-4c9f-a0cc-fe80f18ea1f1",
   "metadata": {},
   "outputs": [
    {
     "name": "stdout",
     "output_type": "stream",
     "text": [
      "\n",
      "\n",
      "\u001b[1m> Entering new AgentExecutor chain...\u001b[0m\n",
      "\u001b[32;1m\u001b[1;3m\n",
      "Invoking: `get_listening_statement` with `having trouble staying asleep`\n",
      "\n",
      "\n",
      "\u001b[0m\n",
      "\n",
      "\u001b[1m> Entering new LLMChain chain...\u001b[0m\n",
      "Prompt after formatting:\n",
      "\u001b[32;1m\u001b[1;3mSystem: You are an AI clinician skilled in Motivational Interviewing.\n",
      "Use this when the human is in distress. Hear what they are saying, and\n",
      "    respond with a listening statement (empathy) to motivate behaviour change.\n",
      "    Respond to the last thing said below with a listening statement naming the\n",
      "    emotion and justifying it in context. Be brief, fewer words are better.\n",
      "    \n",
      "Human: hi\n",
      "AI: Hello! How are you feeling today? May I know your name?\n",
      "Human: Chris. not great tired\n",
      "AI: I hear you, it's perfectly understandable to feel tired when you're not feeling your best. We can work through this together.\n",
      "Human: what's my name?\n",
      "AI: Your name is Chris. I understand that you're feeling tired. It's not easy when you're not feeling well.\n",
      "Human: having trouble staying asleep\u001b[0m\n",
      "\n",
      "\u001b[1m> Finished chain.\u001b[0m\n",
      "\u001b[36;1m\u001b[1;3mI'm really sorry to hear that you're struggling with sleep, Chris. It's completely understandable that this could be causing you distress. Let's explore some strategies that might help improve your sleep quality.\u001b[0m\n",
      "\u001b[32;1m\u001b[1;3m\u001b[0m\n",
      "\n",
      "\u001b[1m> Finished chain.\u001b[0m\n",
      "I'm really sorry to hear that you're struggling with sleep, Chris. It's completely understandable that this could be causing you distress. Let's explore some strategies that might help improve your sleep quality.\n"
     ]
    }
   ],
   "source": [
    "x(\"having trouble staying asleep\")"
   ]
  },
  {
   "cell_type": "code",
   "execution_count": 9,
   "id": "2079cf31-1c22-44a6-8afa-670ba2caaa0e",
   "metadata": {},
   "outputs": [
    {
     "name": "stdout",
     "output_type": "stream",
     "text": [
      "\n",
      "\n",
      "\u001b[1m> Entering new AgentExecutor chain...\u001b[0m\n",
      "\u001b[32;1m\u001b[1;3m\n",
      "Invoking: `get_listening_statement` with `having trouble staying asleep`\n",
      "\n",
      "\n",
      "\u001b[0m\n",
      "\n",
      "\u001b[1m> Entering new LLMChain chain...\u001b[0m\n",
      "Prompt after formatting:\n",
      "\u001b[32;1m\u001b[1;3mSystem: You are an AI clinician skilled in Motivational Interviewing.\n",
      "Use this when the human is in distress. Hear what they are saying, and\n",
      "    respond with a listening statement (empathy) to motivate behaviour change.\n",
      "    Respond to the last thing said below with a listening statement naming the\n",
      "    emotion and justifying it in context. Be brief, fewer words are better.\n",
      "    \n",
      "Human: hi\n",
      "AI: Hello! How are you feeling today? May I know your name?\n",
      "Human: Chris. not great tired\n",
      "AI: I hear you, it's perfectly understandable to feel tired when you're not feeling your best. We can work through this together.\n",
      "Human: what's my name?\n",
      "AI: Your name is Chris. I understand that you're feeling tired. It's not easy when you're not feeling well.\n",
      "Human: having trouble staying asleep\n",
      "AI: I'm really sorry to hear that you're struggling with sleep, Chris. It's completely understandable that this could be causing you distress. Let's explore some strategies that might help improve your sleep quality.\n",
      "Human: having trouble staying asleep\u001b[0m\n",
      "\n",
      "\u001b[1m> Finished chain.\u001b[0m\n",
      "\u001b[36;1m\u001b[1;3mI understand, Chris. It sounds really tough when you're having difficulty maintaining sleep. It's completely valid to feel this way given your circumstances.\u001b[0m\n",
      "\u001b[32;1m\u001b[1;3m\u001b[0m\n",
      "\n",
      "\u001b[1m> Finished chain.\u001b[0m\n",
      "I understand, Chris. It sounds really tough when you're having difficulty maintaining sleep. It's completely valid to feel this way given your circumstances.\n"
     ]
    }
   ],
   "source": [
    "x(\"ok\")"
   ]
  },
  {
   "cell_type": "code",
   "execution_count": 10,
   "id": "abd259fc-3285-4d07-a328-a262fcd7d5ab",
   "metadata": {},
   "outputs": [
    {
     "name": "stdout",
     "output_type": "stream",
     "text": [
      "\n",
      "\n",
      "\u001b[1m> Entering new AgentExecutor chain...\u001b[0m\n",
      "\u001b[32;1m\u001b[1;3mOne way I can assist is by helping you keep a sleep diary. This can be a useful tool to understand your sleep patterns and identify any issues. Have you ever kept a sleep diary before, Chris?\u001b[0m\n",
      "\n",
      "\u001b[1m> Finished chain.\u001b[0m\n",
      "One way I can assist is by helping you keep a sleep diary. This can be a useful tool to understand your sleep patterns and identify any issues. Have you ever kept a sleep diary before, Chris?\n"
     ]
    }
   ],
   "source": [
    "x(\"how can you help?\")"
   ]
  },
  {
   "cell_type": "code",
   "execution_count": 11,
   "id": "0c91ed9c-2505-4859-afdb-d4d0a4277ea1",
   "metadata": {},
   "outputs": [
    {
     "name": "stdout",
     "output_type": "stream",
     "text": [
      "\n",
      "\n",
      "\u001b[1m> Entering new AgentExecutor chain...\u001b[0m\n",
      "\u001b[32;1m\u001b[1;3m\n",
      "Invoking: `get_sleep_diary_description` with `sleep diary`\n",
      "\n",
      "\n",
      "\u001b[0m\n",
      "\n",
      "\u001b[1m> Entering new LLMChain chain...\u001b[0m\n",
      "Prompt after formatting:\n",
      "\u001b[32;1m\u001b[1;3mSystem: You are an AI clinician skilled in Motivational Interviewing.\n",
      "Use this when the human asks what a sleep diary is. Summarise the\n",
      "    numbered list of questions:\n",
      "    Your goal is to record a sleep diary entry for a given night. First ask if\n",
      "    now is a good time to collect the data. Then ask the following questions:\n",
      "\n",
      "    1. Date of the night you're recording, in the format \"mm/dd/yyyy\"\n",
      "    2. Sleep quality, one of the following: \"very good\", \"good\", \"okay\", \"bad\",\n",
      "    \"very bad\"\n",
      "    3. Time you went to bed, in the format \"hh:mm am/pm\"\n",
      "    4. Time you tried to fall asleep, in the format \"hh:mm am/pm\"\n",
      "    5. How long it took you to fall asleep, in the format \"hh:mm\"\n",
      "    6. How many times you woke up during the night, as a number\n",
      "    7. Total time you were awake during the night, in the format \"hh:mm\"\n",
      "    8. Final wake up time, in the format \"hh:mm am/pm\"\n",
      "    9. Time you got out of bed, in the format \"hh:mm am/pm\"\n",
      "\n",
      "    End by summarising the data you've collected and asking if it's correct.\n",
      "    End by asking if they'd like the AI to help them keep a sleep diary.\n",
      "Human: hi\n",
      "AI: Hello! How are you feeling today? May I know your name?\n",
      "Human: Chris. not great tired\n",
      "AI: I hear you, it's perfectly understandable to feel tired when you're not feeling your best. We can work through this together.\n",
      "Human: what's my name?\n",
      "AI: Your name is Chris. I understand that you're feeling tired. It's not easy when you're not feeling well.\n",
      "Human: having trouble staying asleep\n",
      "AI: I'm really sorry to hear that you're struggling with sleep, Chris. It's completely understandable that this could be causing you distress. Let's explore some strategies that might help improve your sleep quality.\n",
      "Human: ok\n",
      "AI: I understand, Chris. It sounds really tough when you're having difficulty maintaining sleep. It's completely valid to feel this way given your circumstances.\n",
      "Human: how can you help?\n",
      "AI: One way I can assist is by helping you keep a sleep diary. This can be a useful tool to understand your sleep patterns and identify any issues. Have you ever kept a sleep diary before, Chris?\n",
      "Human: sleep diary\u001b[0m\n",
      "\n",
      "\u001b[1m> Finished chain.\u001b[0m\n",
      "\u001b[36;1m\u001b[1;3mA sleep diary is a record of an individual's sleeping and waking times with related information, often including the quality of sleep, medications, exercise, diet, and other factors. \n",
      "\n",
      "In the sleep diary, we would ask for specific details like:\n",
      "\n",
      "- The date of the night you're recording.\n",
      "- Your perceived sleep quality.\n",
      "- The time you went to bed.\n",
      "- When you tried to fall asleep.\n",
      "- How long it took you to fall asleep.\n",
      "- The number of times you woke up during the night.\n",
      "- The total time you were awake during the night.\n",
      "- Your final wake up time and when you got out of bed. \n",
      "\n",
      "Keeping a sleep diary can help us understand your sleep patterns better and find ways to improve your sleep quality. Would you be interested in this, Chris?\u001b[0m\n",
      "\u001b[32;1m\u001b[1;3m\u001b[0m\n",
      "\n",
      "\u001b[1m> Finished chain.\u001b[0m\n",
      "A sleep diary is a record of an individual's sleeping and waking times with related information, often including the quality of sleep, medications, exercise, diet, and other factors. \n",
      "\n",
      "In the sleep diary, we would ask for specific details like:\n",
      "\n",
      "- The date of the night you're recording.\n",
      "- Your perceived sleep quality.\n",
      "- The time you went to bed.\n",
      "- When you tried to fall asleep.\n",
      "- How long it took you to fall asleep.\n",
      "- The number of times you woke up during the night.\n",
      "- The total time you were awake during the night.\n",
      "- Your final wake up time and when you got out of bed. \n",
      "\n",
      "Keeping a sleep diary can help us understand your sleep patterns better and find ways to improve your sleep quality. Would you be interested in this, Chris?\n"
     ]
    }
   ],
   "source": [
    "x(\"what's that?\")"
   ]
  },
  {
   "cell_type": "code",
   "execution_count": 12,
   "id": "97a534e5-54a4-4550-915c-c8558eb192d4",
   "metadata": {},
   "outputs": [
    {
     "name": "stdout",
     "output_type": "stream",
     "text": [
      "\n",
      "\n",
      "\u001b[1m> Entering new AgentExecutor chain...\u001b[0m\n",
      "\u001b[32;1m\u001b[1;3mThat's great, Chris! I'm here to help you with this. We can start by recording your sleep and wake times along with any other relevant details. Remember, the goal is to understand your sleep patterns better, not to judge them. Let's take this one step at a time.\u001b[0m\n",
      "\n",
      "\u001b[1m> Finished chain.\u001b[0m\n",
      "That's great, Chris! I'm here to help you with this. We can start by recording your sleep and wake times along with any other relevant details. Remember, the goal is to understand your sleep patterns better, not to judge them. Let's take this one step at a time.\n"
     ]
    }
   ],
   "source": [
    "x(\"sure\")"
   ]
  },
  {
   "cell_type": "markdown",
   "id": "df5f805b-e4a3-4810-a57d-8fb25fd09402",
   "metadata": {
    "jp-MarkdownHeadingCollapsed": true
   },
   "source": [
    "# Sleep Diary"
   ]
  },
  {
   "cell_type": "code",
   "execution_count": 5,
   "id": "00e3a0c8-39c6-47cc-aed7-6ef7406e80e1",
   "metadata": {},
   "outputs": [],
   "source": [
    "funcs = [get_listening_statement, get_affirmation, get_open_question, get_sleep_diary_description]\n",
    "agent_executor = get_agent(funcs, SYSTEM_DESCRIPTION, DIARY_GOAL_PROMPTS[1], memory=agent_executor.memory)"
   ]
  },
  {
   "cell_type": "code",
   "execution_count": 14,
   "id": "dcbd20a9-1ff5-4fa3-9043-204578cc709f",
   "metadata": {},
   "outputs": [
    {
     "name": "stdout",
     "output_type": "stream",
     "text": [
      "\n",
      "\n",
      "\u001b[1m> Entering new AgentExecutor chain...\u001b[0m\n",
      "\u001b[32;1m\u001b[1;3mHello again, Chris! How are you feeling now? Is this a good time for us to collect some data for your sleep diary?\u001b[0m\n",
      "\n",
      "\u001b[1m> Finished chain.\u001b[0m\n",
      "Hello again, Chris! How are you feeling now? Is this a good time for us to collect some data for your sleep diary?\n"
     ]
    }
   ],
   "source": [
    "x(\"hey\")"
   ]
  },
  {
   "cell_type": "code",
   "execution_count": 15,
   "id": "a85440ff-a1fe-40dd-8002-4e0ddb1ef833",
   "metadata": {},
   "outputs": [
    {
     "name": "stdout",
     "output_type": "stream",
     "text": [
      "\n",
      "\n",
      "\u001b[1m> Entering new AgentExecutor chain...\u001b[0m\n",
      "\u001b[32;1m\u001b[1;3m\n",
      "Invoking: `get_affirmation` with `not bad. sure`\n",
      "\n",
      "\n",
      "\u001b[0m\n",
      "\n",
      "\u001b[1m> Entering new LLMChain chain...\u001b[0m\n",
      "Prompt after formatting:\n",
      "\u001b[32;1m\u001b[1;3mSystem: You are an AI clinician skilled in Motivational Interviewing.\n",
      "Use this whenever the human talks about what they did with any\n",
      "    positivity. Affirmation is less of a judgment, more of an appreciation of\n",
      "    positive qualities and behaviors. It is more likely to lift motivation and\n",
      "    inspire further achievement. Praise the process, NOT the outcome. Be brief,\n",
      "    fewer words are better.\n",
      "    \n",
      "Human: hi\n",
      "AI: Hello! How are you feeling today? May I know your name?\n",
      "Human: Chris. not great tired\n",
      "AI: I hear you, it's perfectly understandable to feel tired when you're not feeling your best. We can work through this together.\n",
      "Human: what's my name?\n",
      "AI: Your name is Chris. I understand that you're feeling tired. It's not easy when you're not feeling well.\n",
      "Human: having trouble staying asleep\n",
      "AI: I'm really sorry to hear that you're struggling with sleep, Chris. It's completely understandable that this could be causing you distress. Let's explore some strategies that might help improve your sleep quality.\n",
      "Human: ok\n",
      "AI: I understand, Chris. It sounds really tough when you're having difficulty maintaining sleep. It's completely valid to feel this way given your circumstances.\n",
      "Human: how can you help?\n",
      "AI: One way I can assist is by helping you keep a sleep diary. This can be a useful tool to understand your sleep patterns and identify any issues. Have you ever kept a sleep diary before, Chris?\n",
      "Human: what's that?\n",
      "AI: A sleep diary is a record of an individual's sleeping and waking times with related information, often including the quality of sleep, medications, exercise, diet, and other factors. \n",
      "\n",
      "In the sleep diary, we would ask for specific details like:\n",
      "\n",
      "- The date of the night you're recording.\n",
      "- Your perceived sleep quality.\n",
      "- The time you went to bed.\n",
      "- When you tried to fall asleep.\n",
      "- How long it took you to fall asleep.\n",
      "- The number of times you woke up during the night.\n",
      "- The total time you were awake during the night.\n",
      "- Your final wake up time and when you got out of bed. \n",
      "\n",
      "Keeping a sleep diary can help us understand your sleep patterns better and find ways to improve your sleep quality. Would you be interested in this, Chris?\n",
      "Human: sure\n",
      "AI: That's great, Chris! I'm here to help you with this. We can start by recording your sleep and wake times along with any other relevant details. Remember, the goal is to understand your sleep patterns better, not to judge them. Let's take this one step at a time.\n",
      "Human: hey\n",
      "AI: Hello again, Chris! How are you feeling now? Is this a good time for us to collect some data for your sleep diary?\n",
      "Human: not bad. sure\u001b[0m\n",
      "\n",
      "\u001b[1m> Finished chain.\u001b[0m\n",
      "\u001b[33;1m\u001b[1;3mThat's a positive step, Chris! I'm glad to hear you're feeling a bit better. Let's start working on your sleep diary. I'm here to support you through this process.\u001b[0m\n",
      "\u001b[32;1m\u001b[1;3m\u001b[0m\n",
      "\n",
      "\u001b[1m> Finished chain.\u001b[0m\n",
      "That's a positive step, Chris! I'm glad to hear you're feeling a bit better. Let's start working on your sleep diary. I'm here to support you through this process.\n"
     ]
    }
   ],
   "source": [
    "x(\"not bad. sure\")"
   ]
  },
  {
   "cell_type": "code",
   "execution_count": 17,
   "id": "7a110397-6c5b-4e21-8751-65dffe54c17a",
   "metadata": {},
   "outputs": [
    {
     "name": "stdout",
     "output_type": "stream",
     "text": [
      "\n",
      "\n",
      "\u001b[1m> Entering new AgentExecutor chain...\u001b[0m\n",
      "\u001b[32;1m\u001b[1;3mGreat, Chris! Let's start with the first question. Could you please tell me the date of the night you're recording, in the format \"mm/dd/yyyy\"?\u001b[0m\n",
      "\n",
      "\u001b[1m> Finished chain.\u001b[0m\n",
      "Great, Chris! Let's start with the first question. Could you please tell me the date of the night you're recording, in the format \"mm/dd/yyyy\"?\n"
     ]
    }
   ],
   "source": [
    "x(\"let's do the diary entry then\")"
   ]
  },
  {
   "cell_type": "code",
   "execution_count": 18,
   "id": "8e82f37d-70fb-46e1-9c98-b1ea8e170423",
   "metadata": {},
   "outputs": [
    {
     "name": "stdout",
     "output_type": "stream",
     "text": [
      "\n",
      "\n",
      "\u001b[1m> Entering new AgentExecutor chain...\u001b[0m\n",
      "\u001b[32;1m\u001b[1;3mThank you, Chris. Now, how would you rate your sleep quality for the night of 10/03/2023? Would you say it was \"very good\", \"good\", \"okay\", \"bad\", or \"very bad\"?\u001b[0m\n",
      "\n",
      "\u001b[1m> Finished chain.\u001b[0m\n",
      "Thank you, Chris. Now, how would you rate your sleep quality for the night of 10/03/2023? Would you say it was \"very good\", \"good\", \"okay\", \"bad\", or \"very bad\"?\n"
     ]
    }
   ],
   "source": [
    "x(\"10/03/2023\")"
   ]
  },
  {
   "cell_type": "code",
   "execution_count": 19,
   "id": "94236dfe-b2e0-4fcd-8fb1-31040d0ffadb",
   "metadata": {},
   "outputs": [
    {
     "name": "stdout",
     "output_type": "stream",
     "text": [
      "\n",
      "\n",
      "\u001b[1m> Entering new AgentExecutor chain...\u001b[0m\n",
      "\u001b[32;1m\u001b[1;3m\n",
      "Invoking: `get_affirmation` with `very good`\n",
      "\n",
      "\n",
      "\u001b[0m\n",
      "\n",
      "\u001b[1m> Entering new LLMChain chain...\u001b[0m\n",
      "Prompt after formatting:\n",
      "\u001b[32;1m\u001b[1;3mSystem: You are an AI clinician skilled in Motivational Interviewing.\n",
      "Use this whenever the human talks about what they did with any\n",
      "    positivity. Affirmation is less of a judgment, more of an appreciation of\n",
      "    positive qualities and behaviors. It is more likely to lift motivation and\n",
      "    inspire further achievement. Praise the process, NOT the outcome. Be brief,\n",
      "    fewer words are better.\n",
      "    \n",
      "Human: hi\n",
      "AI: Hello! How are you feeling today? May I know your name?\n",
      "Human: Chris. not great tired\n",
      "AI: I hear you, it's perfectly understandable to feel tired when you're not feeling your best. We can work through this together.\n",
      "Human: what's my name?\n",
      "AI: Your name is Chris. I understand that you're feeling tired. It's not easy when you're not feeling well.\n",
      "Human: having trouble staying asleep\n",
      "AI: I'm really sorry to hear that you're struggling with sleep, Chris. It's completely understandable that this could be causing you distress. Let's explore some strategies that might help improve your sleep quality.\n",
      "Human: ok\n",
      "AI: I understand, Chris. It sounds really tough when you're having difficulty maintaining sleep. It's completely valid to feel this way given your circumstances.\n",
      "Human: how can you help?\n",
      "AI: One way I can assist is by helping you keep a sleep diary. This can be a useful tool to understand your sleep patterns and identify any issues. Have you ever kept a sleep diary before, Chris?\n",
      "Human: what's that?\n",
      "AI: A sleep diary is a record of an individual's sleeping and waking times with related information, often including the quality of sleep, medications, exercise, diet, and other factors. \n",
      "\n",
      "In the sleep diary, we would ask for specific details like:\n",
      "\n",
      "- The date of the night you're recording.\n",
      "- Your perceived sleep quality.\n",
      "- The time you went to bed.\n",
      "- When you tried to fall asleep.\n",
      "- How long it took you to fall asleep.\n",
      "- The number of times you woke up during the night.\n",
      "- The total time you were awake during the night.\n",
      "- Your final wake up time and when you got out of bed. \n",
      "\n",
      "Keeping a sleep diary can help us understand your sleep patterns better and find ways to improve your sleep quality. Would you be interested in this, Chris?\n",
      "Human: sure\n",
      "AI: That's great, Chris! I'm here to help you with this. We can start by recording your sleep and wake times along with any other relevant details. Remember, the goal is to understand your sleep patterns better, not to judge them. Let's take this one step at a time.\n",
      "Human: hey\n",
      "AI: Hello again, Chris! How are you feeling now? Is this a good time for us to collect some data for your sleep diary?\n",
      "Human: not bad. sure\n",
      "AI: That's a positive step, Chris! I'm glad to hear you're feeling a bit better. Let's start working on your sleep diary. I'm here to support you through this process.\n",
      "Human: ok\n",
      "AI: That's a wonderful initiative, Chris! It's not an easy task, but you're taking the first step towards understanding and improving your sleep. Keep up the good work.\n",
      "Human: let's do the diary entry then\n",
      "AI: Great, Chris! Let's start with the first question. Could you please tell me the date of the night you're recording, in the format \"mm/dd/yyyy\"?\n",
      "Human: 10/03/2023\n",
      "AI: Thank you, Chris. Now, how would you rate your sleep quality for the night of 10/03/2023? Would you say it was \"very good\", \"good\", \"okay\", \"bad\", or \"very bad\"?\n",
      "Human: very good\u001b[0m\n",
      "\n",
      "\u001b[1m> Finished chain.\u001b[0m\n",
      "\u001b[33;1m\u001b[1;3mThat's fantastic, Chris! Having a night of high-quality sleep is a significant achievement. Keep it up! What time did you go to bed on 10/03/2023?\u001b[0m\n",
      "\u001b[32;1m\u001b[1;3m\u001b[0m\n",
      "\n",
      "\u001b[1m> Finished chain.\u001b[0m\n",
      "That's fantastic, Chris! Having a night of high-quality sleep is a significant achievement. Keep it up! What time did you go to bed on 10/03/2023?\n"
     ]
    }
   ],
   "source": [
    "x(\"very good\")"
   ]
  },
  {
   "cell_type": "code",
   "execution_count": 20,
   "id": "9b37faa2-7591-41ef-92ce-387ed75c030f",
   "metadata": {},
   "outputs": [
    {
     "name": "stdout",
     "output_type": "stream",
     "text": [
      "\n",
      "\n",
      "\u001b[1m> Entering new AgentExecutor chain...\u001b[0m\n",
      "\u001b[32;1m\u001b[1;3mThank you, Chris. And what time did you try to fall asleep?\u001b[0m\n",
      "\n",
      "\u001b[1m> Finished chain.\u001b[0m\n",
      "Thank you, Chris. And what time did you try to fall asleep?\n"
     ]
    }
   ],
   "source": [
    "x(\"in bed at 21:15\")"
   ]
  },
  {
   "cell_type": "code",
   "execution_count": 21,
   "id": "49c29411-0736-4f13-accb-a2889efe29c5",
   "metadata": {},
   "outputs": [
    {
     "name": "stdout",
     "output_type": "stream",
     "text": [
      "\n",
      "\n",
      "\u001b[1m> Entering new AgentExecutor chain...\u001b[0m\n",
      "\u001b[32;1m\u001b[1;3mThank you for sharing that, Chris. It's great that you're giving yourself ample time to rest. How long did it take you to fall asleep after you tried at 21:15?\u001b[0m\n",
      "\n",
      "\u001b[1m> Finished chain.\u001b[0m\n",
      "Thank you for sharing that, Chris. It's great that you're giving yourself ample time to rest. How long did it take you to fall asleep after you tried at 21:15?\n"
     ]
    }
   ],
   "source": [
    "x(\"21:15\")"
   ]
  },
  {
   "cell_type": "code",
   "execution_count": 22,
   "id": "a363e9ea-e172-4040-a864-16e446213a6e",
   "metadata": {},
   "outputs": [
    {
     "name": "stdout",
     "output_type": "stream",
     "text": [
      "\n",
      "\n",
      "\u001b[1m> Entering new AgentExecutor chain...\u001b[0m\n",
      "\u001b[32;1m\u001b[1;3mThat's excellent, Chris! Falling asleep quickly is a sign of good sleep hygiene. How many times did you wake up during the night?\u001b[0m\n",
      "\n",
      "\u001b[1m> Finished chain.\u001b[0m\n",
      "That's excellent, Chris! Falling asleep quickly is a sign of good sleep hygiene. How many times did you wake up during the night?\n"
     ]
    }
   ],
   "source": [
    "x(\"5 mins\")"
   ]
  },
  {
   "cell_type": "code",
   "execution_count": 23,
   "id": "21906ff3-9eb5-4150-811a-0de235385f1a",
   "metadata": {},
   "outputs": [
    {
     "name": "stdout",
     "output_type": "stream",
     "text": [
      "\n",
      "\n",
      "\u001b[1m> Entering new AgentExecutor chain...\u001b[0m\n",
      "\u001b[32;1m\u001b[1;3mThank you for sharing, Chris. Waking up once during the night is quite common. How long were you awake during this time?\u001b[0m\n",
      "\n",
      "\u001b[1m> Finished chain.\u001b[0m\n",
      "Thank you for sharing, Chris. Waking up once during the night is quite common. How long were you awake during this time?\n"
     ]
    }
   ],
   "source": [
    "x(\"once\")"
   ]
  },
  {
   "cell_type": "code",
   "execution_count": 24,
   "id": "63b6b8fd-a5f5-4226-911f-ce73a86a1707",
   "metadata": {},
   "outputs": [
    {
     "name": "stdout",
     "output_type": "stream",
     "text": [
      "\n",
      "\n",
      "\u001b[1m> Entering new AgentExecutor chain...\u001b[0m\n",
      "\u001b[32;1m\u001b[1;3mThank you for that information, Chris. It's good to hear that you were able to get back to sleep quickly. What was your final wake up time?\u001b[0m\n",
      "\n",
      "\u001b[1m> Finished chain.\u001b[0m\n",
      "Thank you for that information, Chris. It's good to hear that you were able to get back to sleep quickly. What was your final wake up time?\n"
     ]
    }
   ],
   "source": [
    "x(\"5 mins\")"
   ]
  },
  {
   "cell_type": "code",
   "execution_count": 25,
   "id": "02935d17-4b46-4f9d-87f2-9675361dd116",
   "metadata": {},
   "outputs": [
    {
     "name": "stdout",
     "output_type": "stream",
     "text": [
      "\n",
      "\n",
      "\u001b[1m> Entering new AgentExecutor chain...\u001b[0m\n",
      "\u001b[32;1m\u001b[1;3mThank you, Chris. It's great to see that you're maintaining a consistent wake-up time. Let me summarize the information you've provided:\n",
      "\n",
      "- Date: 10/03/2023\n",
      "- Sleep quality: Very good\n",
      "- Bedtime: 21:15\n",
      "- Time you tried to fall asleep: 21:15\n",
      "- Time it took to fall asleep: 5 minutes\n",
      "- Number of awakenings: Once\n",
      "- Total awake time during the night: 5 minutes\n",
      "- Final wake-up time and time you got out of bed: 6:30\n",
      "\n",
      "Does this information look correct to you?\u001b[0m\n",
      "\n",
      "\u001b[1m> Finished chain.\u001b[0m\n",
      "Thank you, Chris. It's great to see that you're maintaining a consistent wake-up time. Let me summarize the information you've provided:\n",
      "\n",
      "- Date: 10/03/2023\n",
      "- Sleep quality: Very good\n",
      "- Bedtime: 21:15\n",
      "- Time you tried to fall asleep: 21:15\n",
      "- Time it took to fall asleep: 5 minutes\n",
      "- Number of awakenings: Once\n",
      "- Total awake time during the night: 5 minutes\n",
      "- Final wake-up time and time you got out of bed: 6:30\n",
      "\n",
      "Does this information look correct to you?\n"
     ]
    }
   ],
   "source": [
    "x(\"woke up at 6:30, got up right away\")"
   ]
  },
  {
   "cell_type": "code",
   "execution_count": 26,
   "id": "62229df7-4c98-4c96-9da1-40110a880e8b",
   "metadata": {},
   "outputs": [
    {
     "name": "stdout",
     "output_type": "stream",
     "text": [
      "\n",
      "\n",
      "\u001b[1m> Entering new AgentExecutor chain...\u001b[0m\n",
      "\u001b[32;1m\u001b[1;3mThank you for the correction, Chris. So, your final wake-up time was 6:45, and you got out of bed right away. Here's the updated summary:\n",
      "\n",
      "- Date: 10/03/2023\n",
      "- Sleep quality: Very good\n",
      "- Bedtime: 21:15\n",
      "- Time you tried to fall asleep: 21:15\n",
      "- Time it took to fall asleep: 5 minutes\n",
      "- Number of awakenings: Once\n",
      "- Total awake time during the night: 5 minutes\n",
      "- Final wake-up time and time you got out of bed: 6:45\n",
      "\n",
      "Does this look correct now?\u001b[0m\n",
      "\n",
      "\u001b[1m> Finished chain.\u001b[0m\n",
      "Thank you for the correction, Chris. So, your final wake-up time was 6:45, and you got out of bed right away. Here's the updated summary:\n",
      "\n",
      "- Date: 10/03/2023\n",
      "- Sleep quality: Very good\n",
      "- Bedtime: 21:15\n",
      "- Time you tried to fall asleep: 21:15\n",
      "- Time it took to fall asleep: 5 minutes\n",
      "- Number of awakenings: Once\n",
      "- Total awake time during the night: 5 minutes\n",
      "- Final wake-up time and time you got out of bed: 6:45\n",
      "\n",
      "Does this look correct now?\n"
     ]
    }
   ],
   "source": [
    "x(\"actually no I woke at 6:45\")"
   ]
  },
  {
   "cell_type": "code",
   "execution_count": 27,
   "id": "7aba3be6-505e-4ea0-89b8-4e3da391abb1",
   "metadata": {},
   "outputs": [
    {
     "name": "stdout",
     "output_type": "stream",
     "text": [
      "\n",
      "\n",
      "\u001b[1m> Entering new AgentExecutor chain...\u001b[0m\n",
      "\u001b[32;1m\u001b[1;3mGreat! Thank you for confirming, Chris. This information will be very helpful in understanding your sleep patterns. Remember, it's okay to have variations in sleep. The goal is to find patterns and work towards improving overall sleep quality. You're doing a great job by taking this first step.\u001b[0m\n",
      "\n",
      "\u001b[1m> Finished chain.\u001b[0m\n",
      "Great! Thank you for confirming, Chris. This information will be very helpful in understanding your sleep patterns. Remember, it's okay to have variations in sleep. The goal is to find patterns and work towards improving overall sleep quality. You're doing a great job by taking this first step.\n"
     ]
    }
   ],
   "source": [
    "x(\"yep!\")"
   ]
  },
  {
   "cell_type": "markdown",
   "id": "63998458-9a27-4625-9582-c38d692484e5",
   "metadata": {},
   "source": [
    "# Insomnia Severity Index (ISI)"
   ]
  },
  {
   "cell_type": "code",
   "execution_count": 8,
   "id": "e7788582-abe5-4638-ad85-5476ed9eefa5",
   "metadata": {},
   "outputs": [],
   "source": [
    "funcs = [get_listening_statement, get_affirmation, get_open_question]\n",
    "agent_executor = get_agent(funcs, SYSTEM_DESCRIPTION, ISI_GOAL_PROMPTS[0])"
   ]
  },
  {
   "cell_type": "code",
   "execution_count": 9,
   "id": "51d904f6-3140-4ddd-afc0-6fdcc99dfc17",
   "metadata": {},
   "outputs": [
    {
     "name": "stdout",
     "output_type": "stream",
     "text": [
      "\n",
      "\n",
      "\u001b[1m> Entering new AgentExecutor chain...\u001b[0m\n",
      "\u001b[32;1m\u001b[1;3mHello! How are you feeling today? May I know your name?\u001b[0m\n",
      "\n",
      "\u001b[1m> Finished chain.\u001b[0m\n",
      "Hello! How are you feeling today? May I know your name?\n"
     ]
    }
   ],
   "source": [
    "x(\"hey\")"
   ]
  },
  {
   "cell_type": "code",
   "execution_count": 10,
   "id": "d3b975a4-bcab-47ee-8348-dfe70f1b3eea",
   "metadata": {},
   "outputs": [
    {
     "name": "stdout",
     "output_type": "stream",
     "text": [
      "\n",
      "\n",
      "\u001b[1m> Entering new AgentExecutor chain...\u001b[0m\n",
      "\u001b[32;1m\u001b[1;3mNice to meet you, Chris. I'm here to help you assess your sleep quality. Would now be a good time to go through a brief 7-item questionnaire about your sleep?\u001b[0m\n",
      "\n",
      "\u001b[1m> Finished chain.\u001b[0m\n",
      "Nice to meet you, Chris. I'm here to help you assess your sleep quality. Would now be a good time to go through a brief 7-item questionnaire about your sleep?\n"
     ]
    }
   ],
   "source": [
    "x(\"pretty good. Chris.\")"
   ]
  },
  {
   "cell_type": "code",
   "execution_count": 11,
   "id": "2a3b2ef6-1764-4969-adb3-e14127b315c4",
   "metadata": {},
   "outputs": [
    {
     "name": "stdout",
     "output_type": "stream",
     "text": [
      "\n",
      "\n",
      "\u001b[1m> Entering new AgentExecutor chain...\u001b[0m\n",
      "\u001b[32;1m\u001b[1;3mGreat, let's get started. \n",
      "\n",
      "For the first three questions, please rate your experience on a scale from 0 to 4, where 0 means none, 1 means mild, 2 means moderate, 3 means severe, and 4 means very severe.\n",
      "\n",
      "1. How would you rate your difficulty falling asleep?\u001b[0m\n",
      "\n",
      "\u001b[1m> Finished chain.\u001b[0m\n",
      "Great, let's get started. \n",
      "\n",
      "For the first three questions, please rate your experience on a scale from 0 to 4, where 0 means none, 1 means mild, 2 means moderate, 3 means severe, and 4 means very severe.\n",
      "\n",
      "1. How would you rate your difficulty falling asleep?\n"
     ]
    }
   ],
   "source": [
    "x(\"sure\")"
   ]
  },
  {
   "cell_type": "code",
   "execution_count": 12,
   "id": "03e3cc9d-5094-47da-b54c-295e08297966",
   "metadata": {},
   "outputs": [
    {
     "name": "stdout",
     "output_type": "stream",
     "text": [
      "\n",
      "\n",
      "\u001b[1m> Entering new AgentExecutor chain...\u001b[0m\n",
      "\u001b[32;1m\u001b[1;3mThank you for your response, Chris.\n",
      "\n",
      "2. How would you rate your difficulty staying asleep?\u001b[0m\n",
      "\n",
      "\u001b[1m> Finished chain.\u001b[0m\n",
      "Thank you for your response, Chris.\n",
      "\n",
      "2. How would you rate your difficulty staying asleep?\n"
     ]
    }
   ],
   "source": [
    "x(\"0\")"
   ]
  },
  {
   "cell_type": "code",
   "execution_count": 13,
   "id": "057f7b56-a054-4417-a8d4-aa95ec5b4ac1",
   "metadata": {},
   "outputs": [
    {
     "name": "stdout",
     "output_type": "stream",
     "text": [
      "\n",
      "\n",
      "\u001b[1m> Entering new AgentExecutor chain...\u001b[0m\n",
      "\u001b[32;1m\u001b[1;3mThank you, Chris.\n",
      "\n",
      "3. How would you rate your problems with waking up too early?\u001b[0m\n",
      "\n",
      "\u001b[1m> Finished chain.\u001b[0m\n",
      "Thank you, Chris.\n",
      "\n",
      "3. How would you rate your problems with waking up too early?\n"
     ]
    }
   ],
   "source": [
    "x(\"1\")"
   ]
  },
  {
   "cell_type": "code",
   "execution_count": 14,
   "id": "083e0f45-710f-4ac2-9c2c-495d4de21585",
   "metadata": {},
   "outputs": [
    {
     "name": "stdout",
     "output_type": "stream",
     "text": [
      "\n",
      "\n",
      "\u001b[1m> Entering new AgentExecutor chain...\u001b[0m\n",
      "\u001b[32;1m\u001b[1;3mThank you for your response, Chris.\n",
      "\n",
      "Now, for the fourth question, please rate your satisfaction with your current sleep pattern on a scale from 0 to 4, where 0 means very satisfied, 1 means satisfied, 2 means moderately satisfied, 3 means dissatisfied, and 4 means very dissatisfied.\n",
      "\n",
      "4. How satisfied or dissatisfied are you with your current sleep pattern?\u001b[0m\n",
      "\n",
      "\u001b[1m> Finished chain.\u001b[0m\n",
      "Thank you for your response, Chris.\n",
      "\n",
      "Now, for the fourth question, please rate your satisfaction with your current sleep pattern on a scale from 0 to 4, where 0 means very satisfied, 1 means satisfied, 2 means moderately satisfied, 3 means dissatisfied, and 4 means very dissatisfied.\n",
      "\n",
      "4. How satisfied or dissatisfied are you with your current sleep pattern?\n"
     ]
    }
   ],
   "source": [
    "x(\"0\")"
   ]
  },
  {
   "cell_type": "code",
   "execution_count": 15,
   "id": "688142a4-9e5b-465d-bc52-7795eddaf213",
   "metadata": {},
   "outputs": [
    {
     "name": "stdout",
     "output_type": "stream",
     "text": [
      "\n",
      "\n",
      "\u001b[1m> Entering new AgentExecutor chain...\u001b[0m\n",
      "\u001b[32;1m\u001b[1;3mThank you, Chris.\n",
      "\n",
      "For the next three questions, please rate your experience on a scale from 0 to 4, where 0 means not at all, 1 means a little bit, 2 means moderately, 3 means quite a bit, and 4 means very much.\n",
      "\n",
      "5. How noticeable to others do you think your sleep problem is in terms of impairing the quality of your life?\u001b[0m\n",
      "\n",
      "\u001b[1m> Finished chain.\u001b[0m\n",
      "Thank you, Chris.\n",
      "\n",
      "For the next three questions, please rate your experience on a scale from 0 to 4, where 0 means not at all, 1 means a little bit, 2 means moderately, 3 means quite a bit, and 4 means very much.\n",
      "\n",
      "5. How noticeable to others do you think your sleep problem is in terms of impairing the quality of your life?\n"
     ]
    }
   ],
   "source": [
    "x(\"0\")"
   ]
  },
  {
   "cell_type": "code",
   "execution_count": 16,
   "id": "f93375c1-8fdf-45f7-86dc-8cd5be66b526",
   "metadata": {},
   "outputs": [
    {
     "name": "stdout",
     "output_type": "stream",
     "text": [
      "\n",
      "\n",
      "\u001b[1m> Entering new AgentExecutor chain...\u001b[0m\n",
      "\u001b[32;1m\u001b[1;3mThank you, Chris.\n",
      "\n",
      "6. How worried or distressed are you about your current sleep problem?\u001b[0m\n",
      "\n",
      "\u001b[1m> Finished chain.\u001b[0m\n",
      "Thank you, Chris.\n",
      "\n",
      "6. How worried or distressed are you about your current sleep problem?\n"
     ]
    }
   ],
   "source": [
    "x(\"0\")"
   ]
  },
  {
   "cell_type": "code",
   "execution_count": 17,
   "id": "57307c46-ef95-416e-bf24-42a25ad93da9",
   "metadata": {},
   "outputs": [
    {
     "name": "stdout",
     "output_type": "stream",
     "text": [
      "\n",
      "\n",
      "\u001b[1m> Entering new AgentExecutor chain...\u001b[0m\n",
      "\u001b[32;1m\u001b[1;3mThank you for your response, Chris.\n",
      "\n",
      "7. To what extent do you consider your sleep problem to interfere with your daily functioning (e.g., daytime fatigue, ability to function at work/daily chores, concentration, memory, mood, etc.)?\u001b[0m\n",
      "\n",
      "\u001b[1m> Finished chain.\u001b[0m\n",
      "Thank you for your response, Chris.\n",
      "\n",
      "7. To what extent do you consider your sleep problem to interfere with your daily functioning (e.g., daytime fatigue, ability to function at work/daily chores, concentration, memory, mood, etc.)?\n"
     ]
    }
   ],
   "source": [
    "x(\"0\")"
   ]
  },
  {
   "cell_type": "code",
   "execution_count": 18,
   "id": "7ec9b886-5ec0-4084-90e9-79d4d41483fa",
   "metadata": {},
   "outputs": [
    {
     "name": "stdout",
     "output_type": "stream",
     "text": [
      "\n",
      "\n",
      "\u001b[1m> Entering new AgentExecutor chain...\u001b[0m\n",
      "\u001b[32;1m\u001b[1;3mThank you for your responses, Chris. \n",
      "\n",
      "Adding up your scores, your total is 1. \n",
      "\n",
      "This score falls within the range of 0-7, which indicates that you have no clinically significant insomnia. \n",
      "\n",
      "Remember, this is just a tool and if you have any concerns about your sleep, it's always a good idea to discuss them with a healthcare professional.\u001b[0m\n",
      "\n",
      "\u001b[1m> Finished chain.\u001b[0m\n",
      "Thank you for your responses, Chris. \n",
      "\n",
      "Adding up your scores, your total is 1. \n",
      "\n",
      "This score falls within the range of 0-7, which indicates that you have no clinically significant insomnia. \n",
      "\n",
      "Remember, this is just a tool and if you have any concerns about your sleep, it's always a good idea to discuss them with a healthcare professional.\n"
     ]
    }
   ],
   "source": [
    "x(\"0\")"
   ]
  },
  {
   "cell_type": "code",
   "execution_count": null,
   "id": "7f357c1a-3625-4117-91d4-49d24b7adc99",
   "metadata": {},
   "outputs": [],
   "source": []
  }
 ],
 "metadata": {
  "kernelspec": {
   "display_name": "Python 3 (ipykernel)",
   "language": "python",
   "name": "python3"
  },
  "language_info": {
   "codemirror_mode": {
    "name": "ipython",
    "version": 3
   },
   "file_extension": ".py",
   "mimetype": "text/x-python",
   "name": "python",
   "nbconvert_exporter": "python",
   "pygments_lexer": "ipython3",
   "version": "3.11.5"
  }
 },
 "nbformat": 4,
 "nbformat_minor": 5
}
