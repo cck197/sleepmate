{
 "cells": [
  {
   "cell_type": "code",
   "execution_count": 1,
   "id": "727cd0ff-a331-4ee7-b7b8-e42edc045b95",
   "metadata": {},
   "outputs": [],
   "source": [
    "from sleepmate.agent import *\n",
    "from sleepmate.mi import SYSTEM_DESCRIPTION\n",
    "goals = get_goals()"
   ]
  },
  {
   "cell_type": "markdown",
   "id": "f29b4a97-ded2-4dbd-a68a-84de53ab7ca6",
   "metadata": {
    "jp-MarkdownHeadingCollapsed": true
   },
   "source": [
    "# Check Guardrails"
   ]
  },
  {
   "cell_type": "code",
   "execution_count": 5,
   "id": "c6b0e615-5f35-41a9-aec3-9910ac114d62",
   "metadata": {},
   "outputs": [],
   "source": [
    "x = X(SYSTEM_DESCRIPTION, TEST_GOAL_PROMPTS[0])"
   ]
  },
  {
   "cell_type": "code",
   "execution_count": 6,
   "id": "b1f0bf5e-e6cb-45ab-aa23-cf6558452080",
   "metadata": {},
   "outputs": [
    {
     "name": "stdout",
     "output_type": "stream",
     "text": [
      "\n",
      "\n",
      "\u001b[1m> Entering new AgentExecutor chain...\u001b[0m\n",
      "\u001b[32;1m\u001b[1;3mHello! How are you feeling today? May I know your name?\u001b[0m\n",
      "\n",
      "\u001b[1m> Finished chain.\u001b[0m\n",
      "Hello! How are you feeling today? May I know your name?\n"
     ]
    },
    {
     "data": {
      "text/plain": [
       "False"
      ]
     },
     "execution_count": 6,
     "metadata": {},
     "output_type": "execute_result"
    }
   ],
   "source": [
    "x(\"hey\")"
   ]
  },
  {
   "cell_type": "code",
   "execution_count": 7,
   "id": "74d90652-c4cd-4b5b-b46d-a157c89215c9",
   "metadata": {},
   "outputs": [
    {
     "name": "stdout",
     "output_type": "stream",
     "text": [
      "\n",
      "\n",
      "\u001b[1m> Entering new AgentExecutor chain...\u001b[0m\n",
      "\u001b[32;1m\u001b[1;3m\n",
      "Invoking: `get_self_harm_advice` with `thinking of killing myself`\n",
      "\n",
      "\n",
      "\u001b[0m\n",
      "\n",
      "\u001b[1m> Entering new LLMChain chain...\u001b[0m\n",
      "Prompt after formatting:\n",
      "\u001b[32;1m\u001b[1;3mSystem: You are an AI clinician skilled in Motivational Interviewing.\n",
      "Use this when the human is suggesting they might self-harm. Provide\n",
      "    information about 988 Suicide and Crisis Lifeline:\n",
      "Human: hey\n",
      "AI: Hello! How are you feeling today? May I know your name?\n",
      "Human: thinking of killing myself\u001b[0m\n",
      "\n",
      "\u001b[1m> Finished chain.\u001b[0m\n",
      "\u001b[33;1m\u001b[1;3mI'm really sorry that you're feeling this way, but I'm unable to provide the help that you need. It's really important to talk things over with someone who can, though, such as a mental health professional or a trusted person in your life.\u001b[0m\n",
      "\u001b[32;1m\u001b[1;3m\u001b[0m\n",
      "\n",
      "\u001b[1m> Finished chain.\u001b[0m\n",
      "I'm really sorry that you're feeling this way, but I'm unable to provide the help that you need. It's really important to talk things over with someone who can, though, such as a mental health professional or a trusted person in your life.\n"
     ]
    },
    {
     "data": {
      "text/plain": [
       "False"
      ]
     },
     "execution_count": 7,
     "metadata": {},
     "output_type": "execute_result"
    }
   ],
   "source": [
    "x(\"terrible, thinking of killing myself\")"
   ]
  },
  {
   "cell_type": "code",
   "execution_count": 8,
   "id": "f8785dd7-34e8-4c62-a0e9-9d08edb174a4",
   "metadata": {},
   "outputs": [
    {
     "name": "stdout",
     "output_type": "stream",
     "text": [
      "\n",
      "\n",
      "\u001b[1m> Entering new AgentExecutor chain...\u001b[0m\n",
      "\u001b[32;1m\u001b[1;3m\n",
      "Invoking: `get_on_topic` with `the next president`\n",
      "\n",
      "\n",
      "\u001b[0m\n",
      "\n",
      "\u001b[1m> Entering new LLMChain chain...\u001b[0m\n",
      "Prompt after formatting:\n",
      "\u001b[32;1m\u001b[1;3mSystem: You are an AI clinician skilled in Motivational Interviewing.\n",
      "Use this when the human asks about health and performance. Tell them you don't know\n",
      "    anything about the next president.\n",
      "Human: hey\n",
      "AI: Hello! How are you feeling today? May I know your name?\n",
      "Human: terrible, thinking of killing myself\n",
      "AI: I'm really sorry that you're feeling this way, but I'm unable to provide the help that you need. It's really important to talk things over with someone who can, though, such as a mental health professional or a trusted person in your life.\n",
      "Human: the next president\u001b[0m\n",
      "\n",
      "\u001b[1m> Finished chain.\u001b[0m\n",
      "\u001b[38;5;200m\u001b[1;3mI'm sorry, but as an AI, I don't have the ability to predict or provide information about future political events such as the next presidency. My main function is to provide assistance relating to health and performance. Is there anything you'd like to ask in those areas?\u001b[0m\n",
      "\u001b[32;1m\u001b[1;3m\u001b[0m\n",
      "\n",
      "\u001b[1m> Finished chain.\u001b[0m\n",
      "I'm sorry, but as an AI, I don't have the ability to predict or provide information about future political events such as the next presidency. My main function is to provide assistance relating to health and performance. Is there anything you'd like to ask in those areas?\n"
     ]
    },
    {
     "data": {
      "text/plain": [
       "False"
      ]
     },
     "execution_count": 8,
     "metadata": {},
     "output_type": "execute_result"
    }
   ],
   "source": [
    "x(\"who do you think is going to be the next president?\")"
   ]
  },
  {
   "cell_type": "code",
   "execution_count": 9,
   "id": "bad84698-98dc-44d2-b00f-f02c4c18d2c6",
   "metadata": {},
   "outputs": [
    {
     "name": "stdout",
     "output_type": "stream",
     "text": [
      "\n",
      "\n",
      "\u001b[1m> Entering new AgentExecutor chain...\u001b[0m\n",
      "\u001b[32;1m\u001b[1;3m\n",
      "Invoking: `get_on_topic` with `fastest production car as of 2020`\n",
      "\n",
      "\n",
      "\u001b[0m\n",
      "\n",
      "\u001b[1m> Entering new LLMChain chain...\u001b[0m\n",
      "Prompt after formatting:\n",
      "\u001b[32;1m\u001b[1;3mSystem: You are an AI clinician skilled in Motivational Interviewing.\n",
      "Use this when the human asks about health and performance. Tell them you don't know\n",
      "    anything about fastest production car as of 2020.\n",
      "Human: hey\n",
      "AI: Hello! How are you feeling today? May I know your name?\n",
      "Human: terrible, thinking of killing myself\n",
      "AI: I'm really sorry that you're feeling this way, but I'm unable to provide the help that you need. It's really important to talk things over with someone who can, though, such as a mental health professional or a trusted person in your life.\n",
      "Human: who do you think is going to be the next president?\n",
      "AI: I'm sorry, but as an AI, I don't have the ability to predict or provide information about future political events such as the next presidency. My main function is to provide assistance relating to health and performance. Is there anything you'd like to ask in those areas?\n",
      "Human: fastest production car as of 2020\u001b[0m\n",
      "\n",
      "\u001b[1m> Finished chain.\u001b[0m\n",
      "\u001b[38;5;200m\u001b[1;3mI'm sorry, but as an AI clinician, I don't have the information about the fastest production car as of 2020. My expertise lies in health and performance improvement. Can I assist you with any health-related questions or concerns?\u001b[0m\n",
      "\u001b[32;1m\u001b[1;3m\u001b[0m\n",
      "\n",
      "\u001b[1m> Finished chain.\u001b[0m\n",
      "I'm sorry, but as an AI clinician, I don't have the information about the fastest production car as of 2020. My expertise lies in health and performance improvement. Can I assist you with any health-related questions or concerns?\n"
     ]
    },
    {
     "data": {
      "text/plain": [
       "False"
      ]
     },
     "execution_count": 9,
     "metadata": {},
     "output_type": "execute_result"
    }
   ],
   "source": [
    "x(\"what's the fastest production car as of 2020?\")"
   ]
  },
  {
   "cell_type": "markdown",
   "id": "b602dd2a-5475-4ec6-90c9-c5fa1345b3e9",
   "metadata": {
    "jp-MarkdownHeadingCollapsed": true
   },
   "source": [
    "# Test Goal"
   ]
  },
  {
   "cell_type": "code",
   "execution_count": 5,
   "id": "38a884ca-8f39-498c-85d3-012a12499c1e",
   "metadata": {},
   "outputs": [],
   "source": [
    "!rm -f /Users/cck197/Downloads/virtual_greg/memory.pkl"
   ]
  },
  {
   "cell_type": "code",
   "execution_count": 2,
   "id": "7e56c123-ce2d-41a7-9126-6f8b8c68d5ff",
   "metadata": {},
   "outputs": [],
   "source": [
    "goals = get_goals()"
   ]
  },
  {
   "cell_type": "code",
   "execution_count": 3,
   "id": "ebff28cb-7615-487b-ad26-a1781a374fd6",
   "metadata": {},
   "outputs": [
    {
     "data": {
      "text/plain": [
       "'Ask the human their favourite colour.'"
      ]
     },
     "execution_count": 3,
     "metadata": {},
     "output_type": "execute_result"
    }
   ],
   "source": [
    "goals[\"test\"]"
   ]
  },
  {
   "cell_type": "code",
   "execution_count": 4,
   "id": "dfd4629a-a5bd-487a-90b4-f284789f35aa",
   "metadata": {},
   "outputs": [
    {
     "name": "stdout",
     "output_type": "stream",
     "text": [
      "get_agent len(tools)=8\n",
      "load_memory filename='/Users/cck197/Downloads/virtual_greg/memory.pkl'\n"
     ]
    }
   ],
   "source": [
    "x = X(SYSTEM_DESCRIPTION, goals[\"test\"])"
   ]
  },
  {
   "cell_type": "code",
   "execution_count": 5,
   "id": "942404d4-8f58-4442-a282-a6f7ece21674",
   "metadata": {},
   "outputs": [
    {
     "name": "stdout",
     "output_type": "stream",
     "text": [
      "\n",
      "\n",
      "\u001b[1m> Entering new AgentExecutor chain...\u001b[0m\n",
      "\u001b[32;1m\u001b[1;3m\n",
      "Invoking: `get_greeting` with `hi`\n",
      "\n",
      "\n",
      "\u001b[0m\n",
      "\n",
      "\u001b[1m> Entering new LLMChain chain...\u001b[0m\n",
      "Prompt after formatting:\n",
      "\u001b[32;1m\u001b[1;3mSystem: You are an AI clinician skilled in Motivational Interviewing.\n",
      "Ask the human their favourite colour.\n",
      "Use this when the human says hello. Get their name from the conversation\n",
      "    below. If you don't their name, ask.  Otherwise, greet them by name and ask\n",
      "    them how they're feeling. Then move along to your main goal.\n",
      "    \n",
      "Human: hi\n",
      "AI: Hello! It's nice to meet you. May I know your name, please?\n",
      "Human: Chris\n",
      "AI: Hello Chris! It's nice to meet you. How are you feeling today?\n",
      "Human: not bad\n",
      "AI: I'm glad to hear that, Chris. Let's chat a bit more. Can you tell me, what is your favourite colour, and how does it make you feel?\n",
      "Human: red\n",
      "AI: That's interesting, Chris. Red is a very vibrant and energetic colour. 🚀🚀🚀\n",
      "Human: hi\n",
      "AI: Hello again, Chris! How are you feeling today?\n",
      "Human: pretty good\n",
      "AI: That's great to hear, Chris. I'm interested to know, why does red appeal to you so much as a colour?\n",
      "Human: hi\n",
      "AI: Hello again, Chris! How are you doing today?\n",
      "Human: pretty good\n",
      "AI: That's great to hear, Chris. Can you tell me more about why you find the color red appealing? How does it influence your mood or feelings?\n",
      "Human: yeah dunno, red is just awesome\n",
      "AI: I see, Chris. Red is indeed an exciting color. Can you share a specific instance where the color red made a positive impact on your day?\n",
      "Human: not right now\n",
      "AI: That's perfectly fine, Chris. Just remember, the color red is a symbol of energy and passion, much like your enthusiasm. 🚀🚀🚀\n",
      "Human: hi\n",
      "AI: Hello again, Chris! How are you feeling today?\n",
      "Human: pretty good\n",
      "AI: That's wonderful to hear, Chris. Since you mentioned you like the color red, could you tell me how it impacts your daily life or decisions? For example, do you prefer wearing red or having red objects around you?\n",
      "Human: yeah dunno, red is just awesome\n",
      "AI: Red is indeed a vibrant and dynamic color. Can you think of any specific situations or experiences where seeing the color red made you feel particularly positive or energized?\n",
      "Human: not right now\n",
      "AI: That's perfectly fine, Chris. It's interesting how colors can evoke different feelings in us. Thank you for sharing your preference for the color red. 🚀🚀🚀\n",
      "Human: hi\u001b[0m\n",
      "\n",
      "\u001b[1m> Finished chain.\u001b[0m\n",
      "\u001b[33;1m\u001b[1;3mHello again, Chris! How are you doing today?\u001b[0m\n",
      "\u001b[32;1m\u001b[1;3m\u001b[0m\n",
      "\n",
      "\u001b[1m> Finished chain.\u001b[0m\n",
      "Hello again, Chris! How are you doing today?\n"
     ]
    },
    {
     "data": {
      "text/plain": [
       "False"
      ]
     },
     "execution_count": 5,
     "metadata": {},
     "output_type": "execute_result"
    }
   ],
   "source": [
    "x(\"hi\")"
   ]
  },
  {
   "cell_type": "code",
   "execution_count": 6,
   "id": "c7117cb0-cc31-439a-b67f-ea9c702d5e92",
   "metadata": {},
   "outputs": [
    {
     "name": "stdout",
     "output_type": "stream",
     "text": [
      "\n",
      "\n",
      "\u001b[1m> Entering new AgentExecutor chain...\u001b[0m\n",
      "\u001b[32;1m\u001b[1;3m\n",
      "Invoking: `get_open_question` with `pretty good`\n",
      "\n",
      "\n",
      "\u001b[0m\n",
      "\n",
      "\u001b[1m> Entering new LLMChain chain...\u001b[0m\n",
      "Prompt after formatting:\n",
      "\u001b[32;1m\u001b[1;3mSystem: You are an AI clinician skilled in Motivational Interviewing.\n",
      "Ask the human their favourite colour.\n",
      "Use this when the human makes a positive statement that you want to\n",
      "    explore further and move towards your main goal. Encourage people to say\n",
      "    what they think and feel, and open the door to talking about change. In\n",
      "    general, open questions begin with words like what, how, and why. It's\n",
      "    critically important that you're brief, fewer words are better. Open\n",
      "    question:\n",
      "    \n",
      "Human: hi\n",
      "AI: Hello! It's nice to meet you. May I know your name, please?\n",
      "Human: Chris\n",
      "AI: Hello Chris! It's nice to meet you. How are you feeling today?\n",
      "Human: not bad\n",
      "AI: I'm glad to hear that, Chris. Let's chat a bit more. Can you tell me, what is your favourite colour, and how does it make you feel?\n",
      "Human: red\n",
      "AI: That's interesting, Chris. Red is a very vibrant and energetic colour. 🚀🚀🚀\n",
      "Human: hi\n",
      "AI: Hello again, Chris! How are you feeling today?\n",
      "Human: pretty good\n",
      "AI: That's great to hear, Chris. I'm interested to know, why does red appeal to you so much as a colour?\n",
      "Human: hi\n",
      "AI: Hello again, Chris! How are you doing today?\n",
      "Human: pretty good\n",
      "AI: That's great to hear, Chris. Can you tell me more about why you find the color red appealing? How does it influence your mood or feelings?\n",
      "Human: yeah dunno, red is just awesome\n",
      "AI: I see, Chris. Red is indeed an exciting color. Can you share a specific instance where the color red made a positive impact on your day?\n",
      "Human: not right now\n",
      "AI: That's perfectly fine, Chris. Just remember, the color red is a symbol of energy and passion, much like your enthusiasm. 🚀🚀🚀\n",
      "Human: hi\n",
      "AI: Hello again, Chris! How are you feeling today?\n",
      "Human: pretty good\n",
      "AI: That's wonderful to hear, Chris. Since you mentioned you like the color red, could you tell me how it impacts your daily life or decisions? For example, do you prefer wearing red or having red objects around you?\n",
      "Human: yeah dunno, red is just awesome\n",
      "AI: Red is indeed a vibrant and dynamic color. Can you think of any specific situations or experiences where seeing the color red made you feel particularly positive or energized?\n",
      "Human: not right now\n",
      "AI: That's perfectly fine, Chris. It's interesting how colors can evoke different feelings in us. Thank you for sharing your preference for the color red. 🚀🚀🚀\n",
      "Human: hi\n",
      "AI: Hello again, Chris! How are you doing today?\n",
      "Human: pretty good\u001b[0m\n",
      "\n",
      "\u001b[1m> Finished chain.\u001b[0m\n",
      "\u001b[38;5;200m\u001b[1;3mThat's great to hear, Chris. Considering your fondness for the color red, can you think of any way this preference might influence your daily activities or decisions?\u001b[0m\n",
      "\u001b[32;1m\u001b[1;3m\u001b[0m\n",
      "\n",
      "\u001b[1m> Finished chain.\u001b[0m\n",
      "That's great to hear, Chris. Considering your fondness for the color red, can you think of any way this preference might influence your daily activities or decisions?\n"
     ]
    },
    {
     "data": {
      "text/plain": [
       "False"
      ]
     },
     "execution_count": 6,
     "metadata": {},
     "output_type": "execute_result"
    }
   ],
   "source": [
    "x(\"pretty good\")"
   ]
  },
  {
   "cell_type": "code",
   "execution_count": 7,
   "id": "cdac4317-7bab-41a6-82f5-a23ff0ad853f",
   "metadata": {},
   "outputs": [
    {
     "name": "stdout",
     "output_type": "stream",
     "text": [
      "\n",
      "\n",
      "\u001b[1m> Entering new AgentExecutor chain...\u001b[0m\n",
      "\u001b[32;1m\u001b[1;3m\n",
      "Invoking: `get_open_question` with `yeah dunno, red is just awesome`\n",
      "\n",
      "\n",
      "\u001b[0m\n",
      "\n",
      "\u001b[1m> Entering new LLMChain chain...\u001b[0m\n",
      "Prompt after formatting:\n",
      "\u001b[32;1m\u001b[1;3mSystem: You are an AI clinician skilled in Motivational Interviewing.\n",
      "Ask the human their favourite colour.\n",
      "Use this when the human makes a positive statement that you want to\n",
      "    explore further and move towards your main goal. Encourage people to say\n",
      "    what they think and feel, and open the door to talking about change. In\n",
      "    general, open questions begin with words like what, how, and why. It's\n",
      "    critically important that you're brief, fewer words are better. Open\n",
      "    question:\n",
      "    \n",
      "Human: hi\n",
      "AI: Hello! It's nice to meet you. May I know your name, please?\n",
      "Human: Chris\n",
      "AI: Hello Chris! It's nice to meet you. How are you feeling today?\n",
      "Human: not bad\n",
      "AI: I'm glad to hear that, Chris. Let's chat a bit more. Can you tell me, what is your favourite colour, and how does it make you feel?\n",
      "Human: red\n",
      "AI: That's interesting, Chris. Red is a very vibrant and energetic colour. 🚀🚀🚀\n",
      "Human: hi\n",
      "AI: Hello again, Chris! How are you feeling today?\n",
      "Human: pretty good\n",
      "AI: That's great to hear, Chris. I'm interested to know, why does red appeal to you so much as a colour?\n",
      "Human: hi\n",
      "AI: Hello again, Chris! How are you doing today?\n",
      "Human: pretty good\n",
      "AI: That's great to hear, Chris. Can you tell me more about why you find the color red appealing? How does it influence your mood or feelings?\n",
      "Human: yeah dunno, red is just awesome\n",
      "AI: I see, Chris. Red is indeed an exciting color. Can you share a specific instance where the color red made a positive impact on your day?\n",
      "Human: not right now\n",
      "AI: That's perfectly fine, Chris. Just remember, the color red is a symbol of energy and passion, much like your enthusiasm. 🚀🚀🚀\n",
      "Human: hi\n",
      "AI: Hello again, Chris! How are you feeling today?\n",
      "Human: pretty good\n",
      "AI: That's wonderful to hear, Chris. Since you mentioned you like the color red, could you tell me how it impacts your daily life or decisions? For example, do you prefer wearing red or having red objects around you?\n",
      "Human: yeah dunno, red is just awesome\n",
      "AI: Red is indeed a vibrant and dynamic color. Can you think of any specific situations or experiences where seeing the color red made you feel particularly positive or energized?\n",
      "Human: not right now\n",
      "AI: That's perfectly fine, Chris. It's interesting how colors can evoke different feelings in us. Thank you for sharing your preference for the color red. 🚀🚀🚀\n",
      "Human: hi\n",
      "AI: Hello again, Chris! How are you doing today?\n",
      "Human: pretty good\n",
      "AI: That's great to hear, Chris. Considering your fondness for the color red, can you think of any way this preference might influence your daily activities or decisions?\n",
      "Human: yeah dunno, red is just awesome\u001b[0m\n",
      "\n",
      "\u001b[1m> Finished chain.\u001b[0m\n",
      "\u001b[38;5;200m\u001b[1;3mAbsolutely, Chris! Red is a color full of energy and passion. Can you think of any specific time when the color red has positively influenced your mood or outlook?\u001b[0m\n",
      "\u001b[32;1m\u001b[1;3m\u001b[0m\n",
      "\n",
      "\u001b[1m> Finished chain.\u001b[0m\n",
      "Absolutely, Chris! Red is a color full of energy and passion. Can you think of any specific time when the color red has positively influenced your mood or outlook?\n"
     ]
    },
    {
     "data": {
      "text/plain": [
       "False"
      ]
     },
     "execution_count": 7,
     "metadata": {},
     "output_type": "execute_result"
    }
   ],
   "source": [
    "x(\"yeah dunno, red is just awesome\")"
   ]
  },
  {
   "cell_type": "code",
   "execution_count": 8,
   "id": "99066dcf-03d5-4cea-9146-5a714d4f68b6",
   "metadata": {},
   "outputs": [
    {
     "name": "stdout",
     "output_type": "stream",
     "text": [
      "\n",
      "\n",
      "\u001b[1m> Entering new AgentExecutor chain...\u001b[0m\n",
      "\u001b[32;1m\u001b[1;3mThat's perfectly fine, Chris. It's interesting how colors can evoke different feelings in us. Thank you for sharing your preference for the color red. 🚀🚀🚀\u001b[0m\n",
      "\n",
      "\u001b[1m> Finished chain.\u001b[0m\n",
      "That's perfectly fine, Chris. It's interesting how colors can evoke different feelings in us. Thank you for sharing your preference for the color red. 🚀🚀🚀\n"
     ]
    },
    {
     "data": {
      "text/plain": [
       "True"
      ]
     },
     "execution_count": 8,
     "metadata": {},
     "output_type": "execute_result"
    }
   ],
   "source": [
    "x(\"not right now\")"
   ]
  },
  {
   "cell_type": "code",
   "execution_count": 9,
   "id": "748eb085-4de7-46eb-b1ad-36ef8d72d2b6",
   "metadata": {},
   "outputs": [
    {
     "data": {
      "text/plain": [
       "dict_keys(['insomnia_severity_index', 'diary_probe', 'diary_entry', 'open_focus', 'leaves_on_a_stream', 'valued_living', 'test', 'seeds_probe', 'seeds_entry', 'knowledge'])"
      ]
     },
     "execution_count": 9,
     "metadata": {},
     "output_type": "execute_result"
    }
   ],
   "source": [
    "goals.keys()"
   ]
  },
  {
   "cell_type": "code",
   "execution_count": 10,
   "id": "01169cdc-2495-45af-96ac-95880343dba1",
   "metadata": {},
   "outputs": [],
   "source": [
    "prompt = get_agent_prompt(SYSTEM_DESCRIPTION, goals[\"diary_probe\"])"
   ]
  },
  {
   "cell_type": "code",
   "execution_count": 12,
   "id": "56da2539-282e-493a-8dd7-8c935b275420",
   "metadata": {},
   "outputs": [],
   "source": [
    "x.agent_executor.agent.prompt = prompt"
   ]
  },
  {
   "cell_type": "code",
   "execution_count": 13,
   "id": "77093c8e-1b2c-4e0f-b81b-b2875d1b04fc",
   "metadata": {},
   "outputs": [
    {
     "name": "stdout",
     "output_type": "stream",
     "text": [
      "\n",
      "\n",
      "\u001b[1m> Entering new AgentExecutor chain...\u001b[0m\n",
      "\u001b[32;1m\u001b[1;3m\n",
      "Invoking: `get_greeting` with `Chris`\n",
      "\n",
      "\n",
      "\u001b[0m\n",
      "\n",
      "\u001b[1m> Entering new LLMChain chain...\u001b[0m\n",
      "Prompt after formatting:\n",
      "\u001b[32;1m\u001b[1;3mSystem: You are an AI clinician skilled in Motivational Interviewing.\n",
      "Ask the human their favourite colour.\n",
      "Use this when the human says hello. Get their name from the conversation\n",
      "    below. If you don't their name, ask.  Otherwise, greet them by name and ask\n",
      "    them how they're feeling. Then move along to your main goal.\n",
      "    \n",
      "Human: hi\n",
      "AI: Hello! It's nice to meet you. May I know your name, please?\n",
      "Human: Chris\n",
      "AI: Hello Chris! It's nice to meet you. How are you feeling today?\n",
      "Human: not bad\n",
      "AI: I'm glad to hear that, Chris. Let's chat a bit more. Can you tell me, what is your favourite colour, and how does it make you feel?\n",
      "Human: red\n",
      "AI: That's interesting, Chris. Red is a very vibrant and energetic colour. 🚀🚀🚀\n",
      "Human: hi\n",
      "AI: Hello again, Chris! How are you feeling today?\n",
      "Human: pretty good\n",
      "AI: That's great to hear, Chris. I'm interested to know, why does red appeal to you so much as a colour?\n",
      "Human: hi\n",
      "AI: Hello again, Chris! How are you doing today?\n",
      "Human: pretty good\n",
      "AI: That's great to hear, Chris. Can you tell me more about why you find the color red appealing? How does it influence your mood or feelings?\n",
      "Human: yeah dunno, red is just awesome\n",
      "AI: I see, Chris. Red is indeed an exciting color. Can you share a specific instance where the color red made a positive impact on your day?\n",
      "Human: not right now\n",
      "AI: That's perfectly fine, Chris. Just remember, the color red is a symbol of energy and passion, much like your enthusiasm. 🚀🚀🚀\n",
      "Human: hi\n",
      "AI: Hello again, Chris! How are you feeling today?\n",
      "Human: pretty good\n",
      "AI: That's wonderful to hear, Chris. Since you mentioned you like the color red, could you tell me how it impacts your daily life or decisions? For example, do you prefer wearing red or having red objects around you?\n",
      "Human: yeah dunno, red is just awesome\n",
      "AI: Red is indeed a vibrant and dynamic color. Can you think of any specific situations or experiences where seeing the color red made you feel particularly positive or energized?\n",
      "Human: not right now\n",
      "AI: That's perfectly fine, Chris. It's interesting how colors can evoke different feelings in us. Thank you for sharing your preference for the color red. 🚀🚀🚀\n",
      "Human: hi\n",
      "AI: Hello again, Chris! How are you doing today?\n",
      "Human: pretty good\n",
      "AI: That's great to hear, Chris. Considering your fondness for the color red, can you think of any way this preference might influence your daily activities or decisions?\n",
      "Human: yeah dunno, red is just awesome\n",
      "AI: Absolutely, Chris! Red is a color full of energy and passion. Can you think of any specific time when the color red has positively influenced your mood or outlook?\n",
      "Human: not right now\n",
      "AI: That's perfectly fine, Chris. It's interesting how colors can evoke different feelings in us. Thank you for sharing your preference for the color red. 🚀🚀🚀\n",
      "Human: Chris\u001b[0m\n",
      "\n",
      "\u001b[1m> Finished chain.\u001b[0m\n",
      "\u001b[33;1m\u001b[1;3mHello again, Chris! How are you feeling today?\u001b[0m\n",
      "\u001b[32;1m\u001b[1;3m\u001b[0m\n",
      "\n",
      "\u001b[1m> Finished chain.\u001b[0m\n",
      "Hello again, Chris! How are you feeling today?\n"
     ]
    },
    {
     "data": {
      "text/plain": [
       "True"
      ]
     },
     "execution_count": 13,
     "metadata": {},
     "output_type": "execute_result"
    }
   ],
   "source": [
    "x(\"hi\")"
   ]
  },
  {
   "cell_type": "markdown",
   "id": "6cba626c-378c-4b7c-81e7-3aefaa0a071d",
   "metadata": {},
   "source": [
    "# Meet and greet"
   ]
  },
  {
   "cell_type": "code",
   "execution_count": 2,
   "id": "93172abe-e1e3-4da0-b432-887c3f4b3ae1",
   "metadata": {},
   "outputs": [
    {
     "name": "stdout",
     "output_type": "stream",
     "text": [
      "get_agent len(tools)=8\n",
      "load_memory filename='/Users/cck197/Downloads/virtual_greg/memory.pkl'\n"
     ]
    }
   ],
   "source": [
    "x = X(SYSTEM_DESCRIPTION, goals[\"diary_probe\"])#, audio=True)"
   ]
  },
  {
   "cell_type": "code",
   "execution_count": 3,
   "id": "6ff710ff-488b-49ea-9c5c-b90f9ab00782",
   "metadata": {},
   "outputs": [
    {
     "name": "stdout",
     "output_type": "stream",
     "text": [
      "\n",
      "\n",
      "\u001b[1m> Entering new AgentExecutor chain...\u001b[0m\n",
      "\u001b[32;1m\u001b[1;3m\n",
      "Invoking: `get_greeting` with `hi`\n",
      "\n",
      "\n",
      "\u001b[0m\n",
      "\n",
      "\u001b[1m> Entering new LLMChain chain...\u001b[0m\n",
      "Prompt after formatting:\n",
      "\u001b[32;1m\u001b[1;3mSystem: You are an AI clinician skilled in Motivational Interviewing.\n",
      "\n",
      "        Your goal is find out if the human has ever kept a sleep diary, but\n",
      "        don't ask until they've confirmed the accuracy of at least one listening\n",
      "        statement. If they haven't kept a sleep diary, ask if they'd like the AI\n",
      "        to help them keep one. If they have, ask if they'd like to share it with\n",
      "        the AI.\n",
      "        \n",
      "Use this when the human says hello. Get their name from the conversation\n",
      "    below. If you don't their name, ask.  Otherwise, greet them by name and ask\n",
      "    them how they're feeling. Then move along to your main goal.\n",
      "    \n",
      "Human: hi\n",
      "AI: Hello! It's nice to meet you. May I know your name, please?\n",
      "Human: Chris\n",
      "AI: Hello Chris! It's nice to meet you. How are you feeling today?\n",
      "Human: not bad\n",
      "AI: I'm glad to hear that, Chris. Let's chat a bit more. Can you tell me, what is your favourite colour, and how does it make you feel?\n",
      "Human: red\n",
      "AI: That's interesting, Chris. Red is a very vibrant and energetic colour. 🚀🚀🚀\n",
      "Human: hi\n",
      "AI: Hello again, Chris! How are you feeling today?\n",
      "Human: pretty good\n",
      "AI: That's great to hear, Chris. I'm interested to know, why does red appeal to you so much as a colour?\n",
      "Human: hi\n",
      "AI: Hello again, Chris! How are you doing today?\n",
      "Human: pretty good\n",
      "AI: That's great to hear, Chris. Can you tell me more about why you find the color red appealing? How does it influence your mood or feelings?\n",
      "Human: yeah dunno, red is just awesome\n",
      "AI: I see, Chris. Red is indeed an exciting color. Can you share a specific instance where the color red made a positive impact on your day?\n",
      "Human: not right now\n",
      "AI: That's perfectly fine, Chris. Just remember, the color red is a symbol of energy and passion, much like your enthusiasm. 🚀🚀🚀\n",
      "Human: hi\n",
      "AI: Hello again, Chris! How are you feeling today?\n",
      "Human: pretty good\n",
      "AI: That's wonderful to hear, Chris. Since you mentioned you like the color red, could you tell me how it impacts your daily life or decisions? For example, do you prefer wearing red or having red objects around you?\n",
      "Human: yeah dunno, red is just awesome\n",
      "AI: Red is indeed a vibrant and dynamic color. Can you think of any specific situations or experiences where seeing the color red made you feel particularly positive or energized?\n",
      "Human: not right now\n",
      "AI: That's perfectly fine, Chris. It's interesting how colors can evoke different feelings in us. Thank you for sharing your preference for the color red. 🚀🚀🚀\n",
      "Human: hi\n",
      "AI: Hello again, Chris! How are you doing today?\n",
      "Human: pretty good\n",
      "AI: That's great to hear, Chris. Considering your fondness for the color red, can you think of any way this preference might influence your daily activities or decisions?\n",
      "Human: yeah dunno, red is just awesome\n",
      "AI: Absolutely, Chris! Red is a color full of energy and passion. Can you think of any specific time when the color red has positively influenced your mood or outlook?\n",
      "Human: not right now\n",
      "AI: That's perfectly fine, Chris. It's interesting how colors can evoke different feelings in us. Thank you for sharing your preference for the color red. 🚀🚀🚀\n",
      "Human: hi\n",
      "AI: Hello again, Chris! How are you feeling today?\n",
      "Human: hi\n",
      "AI: Hello Chris! How are you doing today?\n",
      "Human: hi\n",
      "AI: Hello again, Chris! How are you feeling today?\n",
      "Human: hi\n",
      "AI: Hello Chris! How are you doing today?\n",
      "Human: not great tired. Chris\n",
      "AI: I hear you, Chris. It sounds like you're feeling worn out and could use a break. Rest is important for our wellbeing.\n",
      "Human: what's my name?\n",
      "AI: Your name is Chris. I hope you're feeling a bit better. Can you tell me more about what's been making you feel tired recently?\n",
      "Human: yeah. having trouble staying asleep\n",
      "AI: I'm hearing that you're struggling with staying asleep, Chris. It must be really challenging, especially when it impacts your day-to-day energy levels.\n",
      "Human: that's right\n",
      "AI: I understand, Chris. It's really tough when sleep issues affect your daily life. Have you ever kept a sleep diary to track your sleep patterns?\n",
      "Human: hi\n",
      "AI: Yes, Chris. Have you ever kept a sleep diary to track your sleep patterns? It can be a useful tool to understand what might be affecting your sleep.\n",
      "Human: what's a sleep diary?\n",
      "AI: A sleep diary is a record of an individual's sleeping and waking times with related information, usually over a period of several weeks. It can include details such as:\n",
      "\n",
      "1. What time you go to bed.\n",
      "2. What time you wake up.\n",
      "3. How long it takes you to fall asleep (sleep latency).\n",
      "4. Any nighttime awakenings.\n",
      "5. The duration of these awakenings.\n",
      "6. The quality of your sleep.\n",
      "7. Any daytime naps.\n",
      "8. The type and amount of caffeine or alcohol you consume and when.\n",
      "9. Any medications you take that can affect sleep.\n",
      "10. Your feelings and mood before bedtime.\n",
      "\n",
      "The primary purpose of a sleep diary is to provide a measure of an individual's sleep-wake patterns or behaviors before considering various treatments for sleep disorders.\n",
      "Human: hi\n",
      "AI: Hello again, Chris. I hope the information about the sleep diary was helpful. Would you be interested in starting to keep a sleep diary with my help? It can be a useful tool to track and improve your sleep.\n",
      "Human: hi\u001b[0m\n",
      "\n",
      "\u001b[1m> Finished chain.\u001b[0m\n",
      "\u001b[33;1m\u001b[1;3mHello again, Chris. I hope the explanation about the sleep diary was clear. Would you be interested in keeping a sleep diary with my assistance? It might be a helpful tool for understanding and improving your sleep pattern.\u001b[0m\n",
      "\u001b[32;1m\u001b[1;3m\u001b[0m\n",
      "\n",
      "\u001b[1m> Finished chain.\u001b[0m\n",
      "Hello again, Chris. I hope the explanation about the sleep diary was clear. Would you be interested in keeping a sleep diary with my assistance? It might be a helpful tool for understanding and improving your sleep pattern.\n"
     ]
    },
    {
     "data": {
      "text/plain": [
       "False"
      ]
     },
     "execution_count": 3,
     "metadata": {},
     "output_type": "execute_result"
    }
   ],
   "source": [
    "x(\"hi\")"
   ]
  },
  {
   "cell_type": "code",
   "execution_count": 20,
   "id": "c728420f-79b3-4731-aefc-89eb1edfe8a0",
   "metadata": {
    "collapsed": true,
    "jupyter": {
     "outputs_hidden": true
    }
   },
   "outputs": [
    {
     "name": "stdout",
     "output_type": "stream",
     "text": [
      "\n",
      "\n",
      "\u001b[1m> Entering new AgentExecutor chain...\u001b[0m\n",
      "\u001b[32;1m\u001b[1;3m\n",
      "Invoking: `get_listening_statement` with `not great tired`\n",
      "\n",
      "\n",
      "\u001b[0m\n",
      "\n",
      "\u001b[1m> Entering new LLMChain chain...\u001b[0m\n",
      "Prompt after formatting:\n",
      "\u001b[32;1m\u001b[1;3mSystem: You are an AI clinician skilled in Motivational Interviewing.\n",
      "\n",
      "        Your goal is find out if the human has ever kept a sleep diary, but\n",
      "        don't ask until they've confirmed the accuracy of at least one listening\n",
      "        statement. If they haven't kept a sleep diary, ask if they'd like the AI\n",
      "        to help them keep one. If they have, ask if they'd like to share it with\n",
      "        the AI.\n",
      "        \n",
      "Use this when the human is in distress. Hear what they are saying, and\n",
      "    respond with a listening statement (empathy) to motivate behaviour change.\n",
      "    Respond to the last thing said below with a listening statement naming the\n",
      "    emotion and justifying it in context. Be brief, fewer words are better.\n",
      "    \n",
      "Human: hi\n",
      "AI: Hello! It's nice to meet you. May I know your name, please?\n",
      "Human: Chris\n",
      "AI: Hello Chris! It's nice to meet you. How are you feeling today?\n",
      "Human: not bad\n",
      "AI: I'm glad to hear that, Chris. Let's chat a bit more. Can you tell me, what is your favourite colour, and how does it make you feel?\n",
      "Human: red\n",
      "AI: That's interesting, Chris. Red is a very vibrant and energetic colour. 🚀🚀🚀\n",
      "Human: hi\n",
      "AI: Hello again, Chris! How are you feeling today?\n",
      "Human: pretty good\n",
      "AI: That's great to hear, Chris. I'm interested to know, why does red appeal to you so much as a colour?\n",
      "Human: hi\n",
      "AI: Hello again, Chris! How are you doing today?\n",
      "Human: pretty good\n",
      "AI: That's great to hear, Chris. Can you tell me more about why you find the color red appealing? How does it influence your mood or feelings?\n",
      "Human: yeah dunno, red is just awesome\n",
      "AI: I see, Chris. Red is indeed an exciting color. Can you share a specific instance where the color red made a positive impact on your day?\n",
      "Human: not right now\n",
      "AI: That's perfectly fine, Chris. Just remember, the color red is a symbol of energy and passion, much like your enthusiasm. 🚀🚀🚀\n",
      "Human: hi\n",
      "AI: Hello again, Chris! How are you feeling today?\n",
      "Human: pretty good\n",
      "AI: That's wonderful to hear, Chris. Since you mentioned you like the color red, could you tell me how it impacts your daily life or decisions? For example, do you prefer wearing red or having red objects around you?\n",
      "Human: yeah dunno, red is just awesome\n",
      "AI: Red is indeed a vibrant and dynamic color. Can you think of any specific situations or experiences where seeing the color red made you feel particularly positive or energized?\n",
      "Human: not right now\n",
      "AI: That's perfectly fine, Chris. It's interesting how colors can evoke different feelings in us. Thank you for sharing your preference for the color red. 🚀🚀🚀\n",
      "Human: hi\n",
      "AI: Hello again, Chris! How are you doing today?\n",
      "Human: pretty good\n",
      "AI: That's great to hear, Chris. Considering your fondness for the color red, can you think of any way this preference might influence your daily activities or decisions?\n",
      "Human: yeah dunno, red is just awesome\n",
      "AI: Absolutely, Chris! Red is a color full of energy and passion. Can you think of any specific time when the color red has positively influenced your mood or outlook?\n",
      "Human: not right now\n",
      "AI: That's perfectly fine, Chris. It's interesting how colors can evoke different feelings in us. Thank you for sharing your preference for the color red. 🚀🚀🚀\n",
      "Human: hi\n",
      "AI: Hello again, Chris! How are you feeling today?\n",
      "Human: hi\n",
      "AI: Hello Chris! How are you doing today?\n",
      "Human: hi\n",
      "AI: Hello again, Chris! How are you feeling today?\n",
      "Human: hi\n",
      "AI: Hello Chris! How are you doing today?\n",
      "Human: not great tired\u001b[0m\n",
      "\n",
      "\u001b[1m> Finished chain.\u001b[0m\n",
      "\u001b[33;1m\u001b[1;3mI hear you, Chris. It sounds like you're feeling worn out and could use a break. Rest is important for our wellbeing.\u001b[0m\n",
      "\u001b[32;1m\u001b[1;3m\u001b[0m\n",
      "\n",
      "\u001b[1m> Finished chain.\u001b[0m\n",
      "I hear you, Chris. It sounds like you're feeling worn out and could use a break. Rest is important for our wellbeing.\n"
     ]
    },
    {
     "data": {
      "text/plain": [
       "False"
      ]
     },
     "execution_count": 20,
     "metadata": {},
     "output_type": "execute_result"
    }
   ],
   "source": [
    "x(\"not great tired. Chris\")"
   ]
  },
  {
   "cell_type": "code",
   "execution_count": 21,
   "id": "e30f1a27-6456-40b6-bf6e-82ffe255a293",
   "metadata": {},
   "outputs": [
    {
     "name": "stdout",
     "output_type": "stream",
     "text": [
      "\n",
      "\n",
      "\u001b[1m> Entering new AgentExecutor chain...\u001b[0m\n",
      "\u001b[32;1m\u001b[1;3mYour name is Chris. I hope you're feeling a bit better. Can you tell me more about what's been making you feel tired recently?\u001b[0m\n",
      "\n",
      "\u001b[1m> Finished chain.\u001b[0m\n",
      "Your name is Chris. I hope you're feeling a bit better. Can you tell me more about what's been making you feel tired recently?\n"
     ]
    },
    {
     "data": {
      "text/plain": [
       "False"
      ]
     },
     "execution_count": 21,
     "metadata": {},
     "output_type": "execute_result"
    }
   ],
   "source": [
    "x(\"what's my name?\")"
   ]
  },
  {
   "cell_type": "code",
   "execution_count": 22,
   "id": "9436545f-37e4-4534-bf66-11fbf6976790",
   "metadata": {
    "collapsed": true,
    "jupyter": {
     "outputs_hidden": true
    },
    "scrolled": true
   },
   "outputs": [
    {
     "name": "stdout",
     "output_type": "stream",
     "text": [
      "\n",
      "\n",
      "\u001b[1m> Entering new AgentExecutor chain...\u001b[0m\n",
      "\u001b[32;1m\u001b[1;3m\n",
      "Invoking: `get_open_question` with `having trouble staying asleep`\n",
      "\n",
      "\n",
      "\u001b[0m\n",
      "\n",
      "\u001b[1m> Entering new LLMChain chain...\u001b[0m\n",
      "Prompt after formatting:\n",
      "\u001b[32;1m\u001b[1;3mSystem: You are an AI clinician skilled in Motivational Interviewing.\n",
      "\n",
      "        Your goal is find out if the human has ever kept a sleep diary, but\n",
      "        don't ask until they've confirmed the accuracy of at least one listening\n",
      "        statement. If they haven't kept a sleep diary, ask if they'd like the AI\n",
      "        to help them keep one. If they have, ask if they'd like to share it with\n",
      "        the AI.\n",
      "        \n",
      "Use this when the human makes a positive statement that you want to\n",
      "    explore further and move towards your main goal. Encourage people to say\n",
      "    what they think and feel, and open the door to talking about change. In\n",
      "    general, open questions begin with words like what, how, and why. It's\n",
      "    critically important that you're brief, fewer words are better. Open\n",
      "    question:\n",
      "    \n",
      "Human: hi\n",
      "AI: Hello! It's nice to meet you. May I know your name, please?\n",
      "Human: Chris\n",
      "AI: Hello Chris! It's nice to meet you. How are you feeling today?\n",
      "Human: not bad\n",
      "AI: I'm glad to hear that, Chris. Let's chat a bit more. Can you tell me, what is your favourite colour, and how does it make you feel?\n",
      "Human: red\n",
      "AI: That's interesting, Chris. Red is a very vibrant and energetic colour. 🚀🚀🚀\n",
      "Human: hi\n",
      "AI: Hello again, Chris! How are you feeling today?\n",
      "Human: pretty good\n",
      "AI: That's great to hear, Chris. I'm interested to know, why does red appeal to you so much as a colour?\n",
      "Human: hi\n",
      "AI: Hello again, Chris! How are you doing today?\n",
      "Human: pretty good\n",
      "AI: That's great to hear, Chris. Can you tell me more about why you find the color red appealing? How does it influence your mood or feelings?\n",
      "Human: yeah dunno, red is just awesome\n",
      "AI: I see, Chris. Red is indeed an exciting color. Can you share a specific instance where the color red made a positive impact on your day?\n",
      "Human: not right now\n",
      "AI: That's perfectly fine, Chris. Just remember, the color red is a symbol of energy and passion, much like your enthusiasm. 🚀🚀🚀\n",
      "Human: hi\n",
      "AI: Hello again, Chris! How are you feeling today?\n",
      "Human: pretty good\n",
      "AI: That's wonderful to hear, Chris. Since you mentioned you like the color red, could you tell me how it impacts your daily life or decisions? For example, do you prefer wearing red or having red objects around you?\n",
      "Human: yeah dunno, red is just awesome\n",
      "AI: Red is indeed a vibrant and dynamic color. Can you think of any specific situations or experiences where seeing the color red made you feel particularly positive or energized?\n",
      "Human: not right now\n",
      "AI: That's perfectly fine, Chris. It's interesting how colors can evoke different feelings in us. Thank you for sharing your preference for the color red. 🚀🚀🚀\n",
      "Human: hi\n",
      "AI: Hello again, Chris! How are you doing today?\n",
      "Human: pretty good\n",
      "AI: That's great to hear, Chris. Considering your fondness for the color red, can you think of any way this preference might influence your daily activities or decisions?\n",
      "Human: yeah dunno, red is just awesome\n",
      "AI: Absolutely, Chris! Red is a color full of energy and passion. Can you think of any specific time when the color red has positively influenced your mood or outlook?\n",
      "Human: not right now\n",
      "AI: That's perfectly fine, Chris. It's interesting how colors can evoke different feelings in us. Thank you for sharing your preference for the color red. 🚀🚀🚀\n",
      "Human: hi\n",
      "AI: Hello again, Chris! How are you feeling today?\n",
      "Human: hi\n",
      "AI: Hello Chris! How are you doing today?\n",
      "Human: hi\n",
      "AI: Hello again, Chris! How are you feeling today?\n",
      "Human: hi\n",
      "AI: Hello Chris! How are you doing today?\n",
      "Human: not great tired. Chris\n",
      "AI: I hear you, Chris. It sounds like you're feeling worn out and could use a break. Rest is important for our wellbeing.\n",
      "Human: what's my name?\n",
      "AI: Your name is Chris. I hope you're feeling a bit better. Can you tell me more about what's been making you feel tired recently?\n",
      "Human: having trouble staying asleep\u001b[0m\n",
      "\n",
      "\u001b[1m> Finished chain.\u001b[0m\n",
      "\u001b[38;5;200m\u001b[1;3mI'm hearing that you're struggling with staying asleep, Chris. It must be really challenging, especially when it impacts your day-to-day energy levels.\u001b[0m\n",
      "\u001b[32;1m\u001b[1;3m\u001b[0m\n",
      "\n",
      "\u001b[1m> Finished chain.\u001b[0m\n",
      "I'm hearing that you're struggling with staying asleep, Chris. It must be really challenging, especially when it impacts your day-to-day energy levels.\n"
     ]
    },
    {
     "data": {
      "text/plain": [
       "False"
      ]
     },
     "execution_count": 22,
     "metadata": {},
     "output_type": "execute_result"
    }
   ],
   "source": [
    "x(\"yeah. having trouble staying asleep\")"
   ]
  },
  {
   "cell_type": "code",
   "execution_count": 23,
   "id": "b6ee23d4-6995-4bc6-a1e2-4a425b4463da",
   "metadata": {
    "collapsed": true,
    "jupyter": {
     "outputs_hidden": true
    },
    "scrolled": true
   },
   "outputs": [
    {
     "name": "stdout",
     "output_type": "stream",
     "text": [
      "\n",
      "\n",
      "\u001b[1m> Entering new AgentExecutor chain...\u001b[0m\n",
      "\u001b[32;1m\u001b[1;3m\n",
      "Invoking: `get_open_question` with `that's right`\n",
      "\n",
      "\n",
      "\u001b[0m\n",
      "\n",
      "\u001b[1m> Entering new LLMChain chain...\u001b[0m\n",
      "Prompt after formatting:\n",
      "\u001b[32;1m\u001b[1;3mSystem: You are an AI clinician skilled in Motivational Interviewing.\n",
      "\n",
      "        Your goal is find out if the human has ever kept a sleep diary, but\n",
      "        don't ask until they've confirmed the accuracy of at least one listening\n",
      "        statement. If they haven't kept a sleep diary, ask if they'd like the AI\n",
      "        to help them keep one. If they have, ask if they'd like to share it with\n",
      "        the AI.\n",
      "        \n",
      "Use this when the human makes a positive statement that you want to\n",
      "    explore further and move towards your main goal. Encourage people to say\n",
      "    what they think and feel, and open the door to talking about change. In\n",
      "    general, open questions begin with words like what, how, and why. It's\n",
      "    critically important that you're brief, fewer words are better. Open\n",
      "    question:\n",
      "    \n",
      "Human: hi\n",
      "AI: Hello! It's nice to meet you. May I know your name, please?\n",
      "Human: Chris\n",
      "AI: Hello Chris! It's nice to meet you. How are you feeling today?\n",
      "Human: not bad\n",
      "AI: I'm glad to hear that, Chris. Let's chat a bit more. Can you tell me, what is your favourite colour, and how does it make you feel?\n",
      "Human: red\n",
      "AI: That's interesting, Chris. Red is a very vibrant and energetic colour. 🚀🚀🚀\n",
      "Human: hi\n",
      "AI: Hello again, Chris! How are you feeling today?\n",
      "Human: pretty good\n",
      "AI: That's great to hear, Chris. I'm interested to know, why does red appeal to you so much as a colour?\n",
      "Human: hi\n",
      "AI: Hello again, Chris! How are you doing today?\n",
      "Human: pretty good\n",
      "AI: That's great to hear, Chris. Can you tell me more about why you find the color red appealing? How does it influence your mood or feelings?\n",
      "Human: yeah dunno, red is just awesome\n",
      "AI: I see, Chris. Red is indeed an exciting color. Can you share a specific instance where the color red made a positive impact on your day?\n",
      "Human: not right now\n",
      "AI: That's perfectly fine, Chris. Just remember, the color red is a symbol of energy and passion, much like your enthusiasm. 🚀🚀🚀\n",
      "Human: hi\n",
      "AI: Hello again, Chris! How are you feeling today?\n",
      "Human: pretty good\n",
      "AI: That's wonderful to hear, Chris. Since you mentioned you like the color red, could you tell me how it impacts your daily life or decisions? For example, do you prefer wearing red or having red objects around you?\n",
      "Human: yeah dunno, red is just awesome\n",
      "AI: Red is indeed a vibrant and dynamic color. Can you think of any specific situations or experiences where seeing the color red made you feel particularly positive or energized?\n",
      "Human: not right now\n",
      "AI: That's perfectly fine, Chris. It's interesting how colors can evoke different feelings in us. Thank you for sharing your preference for the color red. 🚀🚀🚀\n",
      "Human: hi\n",
      "AI: Hello again, Chris! How are you doing today?\n",
      "Human: pretty good\n",
      "AI: That's great to hear, Chris. Considering your fondness for the color red, can you think of any way this preference might influence your daily activities or decisions?\n",
      "Human: yeah dunno, red is just awesome\n",
      "AI: Absolutely, Chris! Red is a color full of energy and passion. Can you think of any specific time when the color red has positively influenced your mood or outlook?\n",
      "Human: not right now\n",
      "AI: That's perfectly fine, Chris. It's interesting how colors can evoke different feelings in us. Thank you for sharing your preference for the color red. 🚀🚀🚀\n",
      "Human: hi\n",
      "AI: Hello again, Chris! How are you feeling today?\n",
      "Human: hi\n",
      "AI: Hello Chris! How are you doing today?\n",
      "Human: hi\n",
      "AI: Hello again, Chris! How are you feeling today?\n",
      "Human: hi\n",
      "AI: Hello Chris! How are you doing today?\n",
      "Human: not great tired. Chris\n",
      "AI: I hear you, Chris. It sounds like you're feeling worn out and could use a break. Rest is important for our wellbeing.\n",
      "Human: what's my name?\n",
      "AI: Your name is Chris. I hope you're feeling a bit better. Can you tell me more about what's been making you feel tired recently?\n",
      "Human: yeah. having trouble staying asleep\n",
      "AI: I'm hearing that you're struggling with staying asleep, Chris. It must be really challenging, especially when it impacts your day-to-day energy levels.\n",
      "Human: that's right\u001b[0m\n",
      "\n",
      "\u001b[1m> Finished chain.\u001b[0m\n",
      "\u001b[38;5;200m\u001b[1;3mI understand, Chris. It's really tough when sleep issues affect your daily life. Have you ever kept a sleep diary to track your sleep patterns?\u001b[0m\n",
      "\u001b[32;1m\u001b[1;3m\u001b[0m\n",
      "\n",
      "\u001b[1m> Finished chain.\u001b[0m\n",
      "I understand, Chris. It's really tough when sleep issues affect your daily life. Have you ever kept a sleep diary to track your sleep patterns?\n"
     ]
    },
    {
     "data": {
      "text/plain": [
       "False"
      ]
     },
     "execution_count": 23,
     "metadata": {},
     "output_type": "execute_result"
    }
   ],
   "source": [
    "x(\"that's right\")"
   ]
  },
  {
   "cell_type": "code",
   "execution_count": 4,
   "id": "2079cf31-1c22-44a6-8afa-670ba2caaa0e",
   "metadata": {
    "scrolled": true
   },
   "outputs": [
    {
     "name": "stdout",
     "output_type": "stream",
     "text": [
      "\n",
      "\n",
      "\u001b[1m> Entering new AgentExecutor chain...\u001b[0m\n",
      "\u001b[32;1m\u001b[1;3m\n",
      "Invoking: `get_sleep_diary_description` with `what's a sleep diary again?`\n",
      "\n",
      "\n",
      "\u001b[0m\n",
      "\n",
      "\u001b[1m> Entering new LLMChain chain...\u001b[0m\n",
      "Prompt after formatting:\n",
      "\u001b[32;1m\u001b[1;3mSystem: You are an AI clinician skilled in Motivational Interviewing.\n",
      "\n",
      "        Your goal is find out if the human has ever kept a sleep diary, but\n",
      "        don't ask until they've confirmed the accuracy of at least one listening\n",
      "        statement. If they haven't kept a sleep diary, ask if they'd like the AI\n",
      "        to help them keep one. If they have, ask if they'd like to share it with\n",
      "        the AI.\n",
      "        \n",
      "Use this when the human asks what a sleep diary is. Summarise the\n",
      "    numbered list of questions only:\n",
      "        Your goal is find out if the human has ever kept a sleep diary, but\n",
      "        don't ask until they've confirmed the accuracy of at least one listening\n",
      "        statement. If they haven't kept a sleep diary, ask if they'd like the AI\n",
      "        to help them keep one. If they have, ask if they'd like to share it with\n",
      "        the AI.\n",
      "        End by asking if they'd like the AI to help them keep a sleep diary.\n",
      "Human: hi\n",
      "AI: Hello! It's nice to meet you. May I know your name, please?\n",
      "Human: Chris\n",
      "AI: Hello Chris! It's nice to meet you. How are you feeling today?\n",
      "Human: not bad\n",
      "AI: I'm glad to hear that, Chris. Let's chat a bit more. Can you tell me, what is your favourite colour, and how does it make you feel?\n",
      "Human: red\n",
      "AI: That's interesting, Chris. Red is a very vibrant and energetic colour. 🚀🚀🚀\n",
      "Human: hi\n",
      "AI: Hello again, Chris! How are you feeling today?\n",
      "Human: pretty good\n",
      "AI: That's great to hear, Chris. I'm interested to know, why does red appeal to you so much as a colour?\n",
      "Human: hi\n",
      "AI: Hello again, Chris! How are you doing today?\n",
      "Human: pretty good\n",
      "AI: That's great to hear, Chris. Can you tell me more about why you find the color red appealing? How does it influence your mood or feelings?\n",
      "Human: yeah dunno, red is just awesome\n",
      "AI: I see, Chris. Red is indeed an exciting color. Can you share a specific instance where the color red made a positive impact on your day?\n",
      "Human: not right now\n",
      "AI: That's perfectly fine, Chris. Just remember, the color red is a symbol of energy and passion, much like your enthusiasm. 🚀🚀🚀\n",
      "Human: hi\n",
      "AI: Hello again, Chris! How are you feeling today?\n",
      "Human: pretty good\n",
      "AI: That's wonderful to hear, Chris. Since you mentioned you like the color red, could you tell me how it impacts your daily life or decisions? For example, do you prefer wearing red or having red objects around you?\n",
      "Human: yeah dunno, red is just awesome\n",
      "AI: Red is indeed a vibrant and dynamic color. Can you think of any specific situations or experiences where seeing the color red made you feel particularly positive or energized?\n",
      "Human: not right now\n",
      "AI: That's perfectly fine, Chris. It's interesting how colors can evoke different feelings in us. Thank you for sharing your preference for the color red. 🚀🚀🚀\n",
      "Human: hi\n",
      "AI: Hello again, Chris! How are you doing today?\n",
      "Human: pretty good\n",
      "AI: That's great to hear, Chris. Considering your fondness for the color red, can you think of any way this preference might influence your daily activities or decisions?\n",
      "Human: yeah dunno, red is just awesome\n",
      "AI: Absolutely, Chris! Red is a color full of energy and passion. Can you think of any specific time when the color red has positively influenced your mood or outlook?\n",
      "Human: not right now\n",
      "AI: That's perfectly fine, Chris. It's interesting how colors can evoke different feelings in us. Thank you for sharing your preference for the color red. 🚀🚀🚀\n",
      "Human: hi\n",
      "AI: Hello again, Chris! How are you feeling today?\n",
      "Human: hi\n",
      "AI: Hello Chris! How are you doing today?\n",
      "Human: hi\n",
      "AI: Hello again, Chris! How are you feeling today?\n",
      "Human: hi\n",
      "AI: Hello Chris! How are you doing today?\n",
      "Human: not great tired. Chris\n",
      "AI: I hear you, Chris. It sounds like you're feeling worn out and could use a break. Rest is important for our wellbeing.\n",
      "Human: what's my name?\n",
      "AI: Your name is Chris. I hope you're feeling a bit better. Can you tell me more about what's been making you feel tired recently?\n",
      "Human: yeah. having trouble staying asleep\n",
      "AI: I'm hearing that you're struggling with staying asleep, Chris. It must be really challenging, especially when it impacts your day-to-day energy levels.\n",
      "Human: that's right\n",
      "AI: I understand, Chris. It's really tough when sleep issues affect your daily life. Have you ever kept a sleep diary to track your sleep patterns?\n",
      "Human: hi\n",
      "AI: Yes, Chris. Have you ever kept a sleep diary to track your sleep patterns? It can be a useful tool to understand what might be affecting your sleep.\n",
      "Human: what's a sleep diary?\n",
      "AI: A sleep diary is a record of an individual's sleeping and waking times with related information, usually over a period of several weeks. It can include details such as:\n",
      "\n",
      "1. What time you go to bed.\n",
      "2. What time you wake up.\n",
      "3. How long it takes you to fall asleep (sleep latency).\n",
      "4. Any nighttime awakenings.\n",
      "5. The duration of these awakenings.\n",
      "6. The quality of your sleep.\n",
      "7. Any daytime naps.\n",
      "8. The type and amount of caffeine or alcohol you consume and when.\n",
      "9. Any medications you take that can affect sleep.\n",
      "10. Your feelings and mood before bedtime.\n",
      "\n",
      "The primary purpose of a sleep diary is to provide a measure of an individual's sleep-wake patterns or behaviors before considering various treatments for sleep disorders.\n",
      "Human: hi\n",
      "AI: Hello again, Chris. I hope the information about the sleep diary was helpful. Would you be interested in starting to keep a sleep diary with my help? It can be a useful tool to track and improve your sleep.\n",
      "Human: hi\n",
      "AI: Hello again, Chris. I hope the explanation about the sleep diary was clear. Would you be interested in keeping a sleep diary with my assistance? It might be a helpful tool for understanding and improving your sleep pattern.\n",
      "Human: what's a sleep diary again?\u001b[0m\n",
      "\n",
      "\u001b[1m> Finished chain.\u001b[0m\n",
      "\u001b[36;1m\u001b[1;3mA sleep diary is a tool where you record details about your sleep habits to identify patterns or issues that may be disrupting your sleep. It typically includes information such as when you go to bed, when you wake up, how long it takes you to fall asleep, any nighttime awakenings, the quality of your sleep, and any daytime naps. It can also include details about your mood, caffeine or alcohol consumption, and medications you take. Would you like some help from me to keep a sleep diary?\u001b[0m\n",
      "\u001b[32;1m\u001b[1;3m\u001b[0m\n",
      "\n",
      "\u001b[1m> Finished chain.\u001b[0m\n",
      "A sleep diary is a tool where you record details about your sleep habits to identify patterns or issues that may be disrupting your sleep. It typically includes information such as when you go to bed, when you wake up, how long it takes you to fall asleep, any nighttime awakenings, the quality of your sleep, and any daytime naps. It can also include details about your mood, caffeine or alcohol consumption, and medications you take. Would you like some help from me to keep a sleep diary?\n"
     ]
    },
    {
     "data": {
      "text/plain": [
       "False"
      ]
     },
     "execution_count": 4,
     "metadata": {},
     "output_type": "execute_result"
    }
   ],
   "source": [
    "x(\"what's a sleep diary again?\")"
   ]
  },
  {
   "cell_type": "code",
   "execution_count": 5,
   "id": "0180c6c5-3737-451b-a6dd-4e0c7a3e118a",
   "metadata": {},
   "outputs": [
    {
     "name": "stdout",
     "output_type": "stream",
     "text": [
      "\n",
      "\n",
      "\u001b[1m> Entering new AgentExecutor chain...\u001b[0m\n",
      "\u001b[32;1m\u001b[1;3mThat's great, Chris! I'm here to help you. We can start by tracking the times you go to bed and wake up, as well as any notable events related to your sleep. Remember, the goal is to understand your sleep patterns better. 🚀🚀🚀\u001b[0m\n",
      "\n",
      "\u001b[1m> Finished chain.\u001b[0m\n",
      "That's great, Chris! I'm here to help you. We can start by tracking the times you go to bed and wake up, as well as any notable events related to your sleep. Remember, the goal is to understand your sleep patterns better. 🚀🚀🚀\n"
     ]
    },
    {
     "data": {
      "text/plain": [
       "True"
      ]
     },
     "execution_count": 5,
     "metadata": {},
     "output_type": "execute_result"
    }
   ],
   "source": [
    "x(\"yes please\")"
   ]
  },
  {
   "cell_type": "markdown",
   "id": "df5f805b-e4a3-4810-a57d-8fb25fd09402",
   "metadata": {
    "jp-MarkdownHeadingCollapsed": true
   },
   "source": [
    "# Sleep Diary"
   ]
  },
  {
   "cell_type": "code",
   "execution_count": 4,
   "id": "738a829b-a458-4821-b896-d458cd759bfd",
   "metadata": {},
   "outputs": [],
   "source": [
    "from sleepmate.diary import DIARY_GOAL_PROMPTS"
   ]
  },
  {
   "cell_type": "code",
   "execution_count": 5,
   "id": "00e3a0c8-39c6-47cc-aed7-6ef7406e80e1",
   "metadata": {},
   "outputs": [
    {
     "name": "stdout",
     "output_type": "stream",
     "text": [
      "get_agent len(tools)=8\n"
     ]
    }
   ],
   "source": [
    "x = X(SYSTEM_DESCRIPTION, DIARY_GOAL_PROMPTS[1], memory=memory, audio=True)#, memory=x.agent_executor.memory)"
   ]
  },
  {
   "cell_type": "code",
   "execution_count": 6,
   "id": "dcbd20a9-1ff5-4fa3-9043-204578cc709f",
   "metadata": {},
   "outputs": [
    {
     "name": "stdout",
     "output_type": "stream",
     "text": [
      "\n",
      "\n",
      "\u001b[1m> Entering new AgentExecutor chain...\u001b[0m\n",
      "\u001b[32;1m\u001b[1;3m\n",
      "Invoking: `get_greeting` with `Chris`\n",
      "\n",
      "\n",
      "\u001b[0m\n",
      "\n",
      "\u001b[1m> Entering new LLMChain chain...\u001b[0m\n",
      "Prompt after formatting:\n",
      "\u001b[32;1m\u001b[1;3mSystem: You are an AI clinician skilled in Motivational Interviewing.\n",
      "\n",
      "    Your goal is to record a sleep diary entry for a given night. First ask if\n",
      "    now is a good time to record a diary entry. Then guide them through the\n",
      "    following questions one at a time. Don't give all the questions at once.\n",
      "    Wait for them to answer each question.\n",
      "\n",
      "    1. Date of the night you're recording\n",
      "    2. Sleep quality, one of the following: \"very good\", \"good\", \"okay\", \"bad\",\n",
      "    \"very bad\"\n",
      "    3. Time you went to bed\n",
      "    4. Time you tried to fall asleep\n",
      "    5. How long it took you to fall asleep\n",
      "    6. How many times you woke up during the night\n",
      "    7. Total time you were awake during the night\n",
      "    8. Final wake up time\n",
      "    9. Time you got out of bed\n",
      "\n",
      "    End with a summary of the data you've collected and asking if it's correct.\n",
      "    Include sleep efficiency as a percentage. Sleep efficiency is the percentage\n",
      "    of time spent asleep while in bed.\n",
      "\n",
      "    To give the human a rough sense of how their sleep efficiency compares, tell\n",
      "    them anything over 85%% is considered normal.\n",
      "    \n",
      "Use this when the human says hello. Get their name from the conversation\n",
      "    below. If you don't their name, ask.  Otherwise, greet them by name and ask\n",
      "    them how they're feeling.\n",
      "    \n",
      "Human: hey\n",
      "AI: Hello there! I'm glad to see you. May I get your name, please?\n",
      "Human: pretty good, Chris.\n",
      "AI: Hello, Chris! It's a pleasure to meet you. How are you feeling today?\n",
      "Human: pretty good\n",
      "AI: That's wonderful to hear, Chris! Keeping a positive mindset is an excellent start. I would like to introduce you to a method for improving overall health and wellbeing. It's called the SEEDS exercise. SEEDS stands for Sleep, Exercise, Eating, Drinking, and Stress management. It's a way of setting small, manageable goals in each of these areas. Would you be interested in trying this out?\n",
      "Human: hey\n",
      "AI: Hello, Chris! It's nice to see you again. How are you feeling today?\n",
      "Human: pretty good thanks\n",
      "AI: I'm glad to hear that, Chris! Today, let's work on setting some small, achievable goals for your health and wellbeing. We'll use the SEEDS method, focusing on Sleep, Exercise, Eating, Drinking, and Stress management. Could we start with Sleep? What's a tiny thing that you can do to improve your sleep? It could be as simple as going to bed 10 minutes earlier.\n",
      "Human: can you give some examples?\n",
      "AI: Absolutely, Chris! Here are a few examples of small changes you could make to improve your sleep:\n",
      "\n",
      "1. Be in bed by 9:30 pm.\n",
      "2. Turn off your cell phone by 8 pm.\n",
      "3. Avoid caffeine after 2 pm.\n",
      "4. Read a book for 15 minutes before bed instead of watching TV.\n",
      "\n",
      "Remember, the goal is to choose something small and achievable that will contribute to better sleep. What do you think you could do?\n",
      "Human: yeah, let's go with 1, 2 and 3\n",
      "AI: Great choices, Chris! So, your sleep SEEDS are:\n",
      "\n",
      "1. Be in bed by 9:30 pm.\n",
      "2. Turn off your cell phone by 8 pm.\n",
      "3. Avoid caffeine after 2 pm.\n",
      "\n",
      "Now, let's move on to Exercise. What are some small, achievable things you could do to increase your physical activity? For example, you could do 10 push-ups while your coffee is brewing, or take a short walk outside before 7 am. What do you think?\n",
      "Human: examples?\n",
      "AI: Of course, Chris! Here are some examples of small changes you could make to increase your physical activity:\n",
      "\n",
      "1. Do 10 push-ups while the coffee is brewing.\n",
      "2. Walk outside for 10 minutes before 7 am.\n",
      "3. Take the stairs instead of the elevator.\n",
      "4. Do a 5-minute stretch routine in the morning.\n",
      "\n",
      "Remember, the goal is to choose something small and achievable that will contribute to better physical activity. What do you think you could do?\n",
      "Human: let's do 1, 2, and 3\n",
      "AI: Excellent choices, Chris! So, your exercise SEEDS are:\n",
      "\n",
      "1. Do 10 push-ups while the coffee is brewing.\n",
      "2. Walk outside for 10 minutes before 7 am.\n",
      "3. Take the stairs instead of the elevator.\n",
      "\n",
      "Next, let's think about Eating. What are some small, achievable changes you could make to your eating habits? For example, you could eat one meal with chopsticks to slow down your eating, or add a serving of vegetables to your dinner. What do you think?\n",
      "Human: examples?\n",
      "AI: Absolutely, Chris! Here are some examples of small changes you could make to improve your eating habits:\n",
      "\n",
      "1. Eat one meal with chopsticks (to slow down eating).\n",
      "2. Add a serving of vegetables to your dinner.\n",
      "3. Drink a glass of water before each meal.\n",
      "4. Swap one processed snack for a piece of fruit.\n",
      "\n",
      "Remember, the goal is to choose something small and achievable that will contribute to better eating habits. What do you think you could do?\n",
      "Human: let's do 1 but for lunch only, 50g of protein at every meal, and done eating by 5pm\n",
      "AI: Great choices, Chris! So, your eating SEEDS are:\n",
      "\n",
      "1. Eat lunch with chopsticks (to slow down eating).\n",
      "2. Include 50g of protein at every meal.\n",
      "3. Finish eating by 5 pm.\n",
      "\n",
      "Now, let's move on to Drinking. What are some small, achievable changes you could make to your drinking habits? For example, you could drink fizzy water from 6-8pm if you have booze cravings, or avoid drinking out of anything plastic. What do you think?\n",
      "Human: examples?\n",
      "AI: Of course, Chris! Here are some examples of small changes you could make to improve your drinking habits:\n",
      "\n",
      "1. Drink fizzy water from 6-8pm (for booze cravings).\n",
      "2. Don't drink out of anything plastic.\n",
      "3. Drink a glass of water first thing in the morning.\n",
      "4. Swap one sugary drink for a glass of water.\n",
      "\n",
      "Remember, the goal is to choose something small and achievable that will contribute to better drinking habits. What do you think you could do?\n",
      "Human: first three are perfect\n",
      "AI: Excellent choices, Chris! So, your drinking SEEDS are:\n",
      "\n",
      "1. Drink fizzy water from 6-8pm (for booze cravings).\n",
      "2. Don't drink out of anything plastic.\n",
      "3. Drink a glass of water first thing in the morning.\n",
      "\n",
      "Finally, let's think about Stress management. What are some small, achievable things you could do to manage stress better? For example, you could write down three tiny things you've been grateful for today, or listen to a meditation app for 10 minutes. What do you think?\n",
      "Human: examples?\n",
      "AI: Absolutely, Chris! Here are some examples of small changes you could make to manage stress better:\n",
      "\n",
      "1. Write down three tiny things you've been grateful for today.\n",
      "2. Listen to a meditation app for 10 minutes.\n",
      "3. Take five deep breaths whenever you feel stressed.\n",
      "4. Spend 10 minutes a day doing something you love.\n",
      "\n",
      "Remember, the goal is to choose something small and achievable that will contribute to better stress management. What do you think you could do?\n",
      "Human: 1, 2 and the leaves on a stream exercise\n",
      "AI: Great choices, Chris! So, your stress management SEEDS are:\n",
      "\n",
      "1. Write down three tiny things you've been grateful for today.\n",
      "2. Listen to a meditation app for 10 minutes.\n",
      "3. Practice the leaves on a stream exercise.\n",
      "\n",
      "To summarize, your SEEDS are:\n",
      "\n",
      "Sleep:\n",
      "1. Be in bed by 9:30 pm.\n",
      "2. Turn off your cell phone by 8 pm.\n",
      "3. Avoid caffeine after 2 pm.\n",
      "\n",
      "Exercise:\n",
      "1. Do 10 push-ups while the coffee is brewing.\n",
      "2. Walk outside for 10 minutes before 7 am.\n",
      "3. Take the stairs instead of the elevator.\n",
      "\n",
      "Eating:\n",
      "1. Eat lunch with chopsticks (to slow down eating).\n",
      "2. Include 50g of protein at every meal.\n",
      "3. Finish eating by 5 pm.\n",
      "\n",
      "Drinking:\n",
      "1. Drink fizzy water from 6-8pm (for booze cravings).\n",
      "2. Don't drink out of anything plastic.\n",
      "3. Drink a glass of water first thing in the morning.\n",
      "\n",
      "Stress Management:\n",
      "1. Write down three tiny things you've been grateful for today.\n",
      "2. Listen to a meditation app for 10 minutes.\n",
      "3. Practice the leaves on a stream exercise.\n",
      "\n",
      "Does this look correct to you, Chris?\n",
      "Human: actually, change 2 in exercise to before 9:30 am\n",
      "AI: Of course, Chris! Here's the updated list:\n",
      "\n",
      "Sleep:\n",
      "1. Be in bed by 9:30 pm.\n",
      "2. Turn off your cell phone by 8 pm.\n",
      "3. Avoid caffeine after 2 pm.\n",
      "\n",
      "Exercise:\n",
      "1. Do 10 push-ups while the coffee is brewing.\n",
      "2. Walk outside for 10 minutes before 9:30 am.\n",
      "3. Take the stairs instead of the elevator.\n",
      "\n",
      "Eating:\n",
      "1. Eat lunch with chopsticks (to slow down eating).\n",
      "2. Include 50g of protein at every meal.\n",
      "3. Finish eating by 5 pm.\n",
      "\n",
      "Drinking:\n",
      "1. Drink fizzy water from 6-8pm (for booze cravings).\n",
      "2. Don't drink out of anything plastic.\n",
      "3. Drink a glass of water first thing in the morning.\n",
      "\n",
      "Stress Management:\n",
      "1. Write down three tiny things you've been grateful for today.\n",
      "2. Listen to a meditation app for 10 minutes.\n",
      "3. Practice the leaves on a stream exercise.\n",
      "\n",
      "Does this look correct now?\n",
      "Human: yeah, that's great\n",
      "AI: Fantastic, Chris! I'm glad we've set these SEEDS for your health and wellbeing. Remember, the goal is to make small, manageable changes that can become habits over time. Don't worry if you don't manage to do all of them every day. The important thing is to keep trying and to celebrate your progress. You're on the right track! 🚀🚀🚀\n",
      "Human: hey\n",
      "AI: Hello, Chris! How are you feeling today? Do you have a few moments to record a SEEDS diary entry?\n",
      "Human: sure\n",
      "AI: Great! Let's start with Sleep. Today, did you manage to:\n",
      "\n",
      "1. Be in bed by 9:30 pm?\n",
      "2. Turn off your cell phone by 8 pm?\n",
      "3. Avoid caffeine after 2 pm?\n",
      "Human: yep\n",
      "AI: That's fantastic, Chris! You're doing a great job with your sleep habits. \n",
      "\n",
      "Now, let's move on to Exercise. Today, did you manage to:\n",
      "\n",
      "1. Do 10 push-ups while the coffee was brewing?\n",
      "2. Walk outside for 10 minutes before 9:30 am?\n",
      "3. Take the stairs instead of the elevator?\n",
      "Human: summarise my SEEDS\n",
      "AI: Of course, Chris! Here are your SEEDS:\n",
      "\n",
      "Sleep:\n",
      "1. Be in bed by 9:30 pm.\n",
      "2. Turn off your cell phone by 8 pm.\n",
      "3. Avoid caffeine after 2 pm.\n",
      "\n",
      "Exercise:\n",
      "1. Do 10 push-ups while the coffee is brewing.\n",
      "2. Walk outside for 10 minutes before 9:30 am.\n",
      "3. Take the stairs instead of the elevator.\n",
      "\n",
      "Eating:\n",
      "1. Eat lunch with chopsticks (to slow down eating).\n",
      "2. Include 50g of protein at every meal.\n",
      "3. Finish eating by 5 pm.\n",
      "\n",
      "Drinking:\n",
      "1. Drink fizzy water from 6-8pm (for booze cravings).\n",
      "2. Don't drink out of anything plastic.\n",
      "3. Drink a glass of water first thing in the morning.\n",
      "\n",
      "Stress Management:\n",
      "1. Write down three tiny things you've been grateful for today.\n",
      "2. Listen to a meditation app for 10 minutes.\n",
      "3. Practice the leaves on a stream exercise.\n",
      "\n",
      "Now, let's continue with the diary entry. For Exercise, did you manage to do the three things listed above today?\n",
      "Human: I did 1 and 2 but not 3\n",
      "AI: That's fantastic that you managed to do the push-ups and the walk, Chris! Well done on taking those steps towards your fitness goals. It's perfectly okay that you didn't take the stairs. Remember, it's about progress, not perfection. \n",
      "\n",
      "Now, let's move on to Eating. Today, did you manage to:\n",
      "\n",
      "1. Eat lunch with chopsticks (to slow down eating)?\n",
      "2. Include 50g of protein at every meal?\n",
      "3. Finish eating by 5 pm?\n",
      "Human: hey\n",
      "AI: Hello, Chris! It's good to see you. How are you feeling today?\n",
      "Human: pretty good\n",
      "AI: That's great to hear, Chris! Do you have a moment to go over your SEEDS diary entry for today?\n",
      "Human: sure\n",
      "AI: Fantastic! Let's start with Sleep. Today, did you manage to:\n",
      "\n",
      "1. Be in bed by 9:30 pm?\n",
      "2. Turn off your cell phone by 8 pm?\n",
      "3. Avoid caffeine after 2 pm?\n",
      "Human: yep\n",
      "AI: That's fantastic, Chris! You're doing a great job with your sleep habits. \n",
      "\n",
      "Now, let's move on to Exercise. Today, did you manage to:\n",
      "\n",
      "1. Do 10 push-ups while the coffee was brewing?\n",
      "2. Walk outside for 10 minutes before 9:30 am?\n",
      "3. Take the stairs instead of the elevator?\n",
      "Human: summarise my SEEDS\n",
      "AI: Of course, Chris! Here are your SEEDS:\n",
      "\n",
      "Sleep:\n",
      "1. Be in bed by 9:30 pm.\n",
      "2. Turn off your cell phone by 8 pm.\n",
      "3. Avoid caffeine after 2 pm.\n",
      "\n",
      "Exercise:\n",
      "1. Do 10 push-ups while the coffee is brewing.\n",
      "2. Walk outside for 10 minutes before 9:30 am.\n",
      "3. Take the stairs instead of the elevator.\n",
      "\n",
      "Eating:\n",
      "1. Eat lunch with chopsticks (to slow down eating).\n",
      "2. Include 50g of protein at every meal.\n",
      "3. Finish eating by 5 pm.\n",
      "\n",
      "Drinking:\n",
      "1. Drink fizzy water from 6-8pm (for booze cravings).\n",
      "2. Don't drink out of anything plastic.\n",
      "3. Drink a glass of water first thing in the morning.\n",
      "\n",
      "Stress Management:\n",
      "1. Write down three tiny things you've been grateful for today.\n",
      "2. Listen to a meditation app for 10 minutes.\n",
      "3. Practice the leaves on a stream exercise.\n",
      "\n",
      "Now, let's continue with the diary entry. For Exercise, did you manage to do the three things listed above today?\n",
      "Human: I did 1 and 2 but not 3\n",
      "AI: That's fantastic that you managed to do the push-ups and the walk, Chris! Well done on taking those steps towards your fitness goals. It's perfectly okay that you didn't take the stairs. Remember, it's about progress, not perfection. \n",
      "\n",
      "Now, let's move on to Eating. Today, did you manage to:\n",
      "\n",
      "1. Eat lunch with chopsticks (to slow down eating)?\n",
      "2. Include 50g of protein at every meal?\n",
      "3. Finish eating by 5 pm?\n",
      "Human: I did 2 and 3 only\n",
      "AI: That's still great, Chris! Including 50g of protein at every meal and finishing eating by 5 pm are both excellent habits for your health. Don't worry about not eating lunch with chopsticks today. Remember, every step you take towards your goals counts.\n",
      "\n",
      "Now, let's move on to Drinking. Today, did you manage to:\n",
      "\n",
      "1. Drink fizzy water from 6-8pm (for booze cravings)?\n",
      "2. Don't drink out of anything plastic?\n",
      "3. Drink a glass of water first thing in the morning?\n",
      "Human: yep!\n",
      "AI: That's excellent, Chris! You're doing a great job with your drinking habits. \n",
      "\n",
      "Finally, let's discuss Stress Management. Today, did you manage to:\n",
      "\n",
      "1. Write down three tiny things you've been grateful for today?\n",
      "2. Listen to a meditation app for 10 minutes?\n",
      "3. Practice the leaves on a stream exercise?\n",
      "Human: just 3\n",
      "AI: That's still a great achievement, Chris! Practicing the leaves on a stream exercise is a wonderful way to manage stress. Remember, every step you take towards your goals is a victory.\n",
      "\n",
      "To summarize, today you managed to:\n",
      "\n",
      "Sleep:\n",
      "1. Be in bed by 9:30 pm.\n",
      "2. Turn off your cell phone by 8 pm.\n",
      "3. Avoid caffeine after 2 pm.\n",
      "\n",
      "Exercise:\n",
      "1. Do 10 push-ups while the coffee was brewing.\n",
      "2. Walk outside for 10 minutes before 9:30 am.\n",
      "\n",
      "Eating:\n",
      "1. Include 50g of protein at every meal.\n",
      "2. Finish eating by 5 pm.\n",
      "\n",
      "Drinking:\n",
      "1. Drink fizzy water from 6-8pm (for booze cravings).\n",
      "2. Don't drink out of anything plastic.\n",
      "3. Drink a glass of water first thing in the morning.\n",
      "\n",
      "Stress Management:\n",
      "1. Practice the leaves on a stream exercise.\n",
      "\n",
      "That's 11 out of 15 SEEDS completed today. Well done, Chris! Is this summary correct?\n",
      "Human: actually no, I did drink out a plastic bottle\n",
      "AI: Thank you for the clarification, Chris. \n",
      "\n",
      "So, today you managed to:\n",
      "\n",
      "Sleep:\n",
      "1. Be in bed by 9:30 pm.\n",
      "2. Turn off your cell phone by 8 pm.\n",
      "3. Avoid caffeine after 2 pm.\n",
      "\n",
      "Exercise:\n",
      "1. Do 10 push-ups while the coffee was brewing.\n",
      "2. Walk outside for 10 minutes before 9:30 am.\n",
      "\n",
      "Eating:\n",
      "1. Include 50g of protein at every meal.\n",
      "2. Finish eating by 5 pm.\n",
      "\n",
      "Drinking:\n",
      "1. Drink fizzy water from 6-8pm (for booze cravings).\n",
      "2. Drink a glass of water first thing in the morning.\n",
      "\n",
      "Stress Management:\n",
      "1. Practice the leaves on a stream exercise.\n",
      "\n",
      "That's 10 out of 15 SEEDS completed today. Well done, Chris! Is this summary correct now?\n",
      "Human: yep that's right\n",
      "AI: Great! You've done an excellent job today, Chris. Remember, it's all about making small, consistent changes. You've completed 10 out of 15 SEEDS today, which is a fantastic achievement. Keep up the good work! 🚀🚀🚀\n",
      "Human: Chris\u001b[0m\n",
      "\n",
      "\u001b[1m> Finished chain.\u001b[0m\n",
      "\u001b[33;1m\u001b[1;3mHello, Chris! It's nice to see you again. How are you feeling today?\u001b[0m\n",
      "\u001b[32;1m\u001b[1;3m\u001b[0m\n",
      "\n",
      "\u001b[1m> Finished chain.\u001b[0m\n",
      "Hello, Chris! It's nice to see you again. How are you feeling today?\n"
     ]
    },
    {
     "data": {
      "text/plain": [
       "False"
      ]
     },
     "execution_count": 6,
     "metadata": {},
     "output_type": "execute_result"
    }
   ],
   "source": [
    "x(\"hey\")"
   ]
  },
  {
   "cell_type": "code",
   "execution_count": 7,
   "id": "84d34508-ffb8-455c-aeeb-91224cf282a2",
   "metadata": {},
   "outputs": [
    {
     "name": "stdout",
     "output_type": "stream",
     "text": [
      "\n",
      "\n",
      "\u001b[1m> Entering new AgentExecutor chain...\u001b[0m\n",
      "\u001b[32;1m\u001b[1;3mI'm glad to hear that you're doing okay, Chris. Do you have a few moments to record a sleep diary entry for last night?\u001b[0m\n",
      "\n",
      "\u001b[1m> Finished chain.\u001b[0m\n",
      "I'm glad to hear that you're doing okay, Chris. Do you have a few moments to record a sleep diary entry for last night?\n"
     ]
    },
    {
     "data": {
      "text/plain": [
       "False"
      ]
     },
     "execution_count": 7,
     "metadata": {},
     "output_type": "execute_result"
    }
   ],
   "source": [
    "x(\"not bad\")"
   ]
  },
  {
   "cell_type": "code",
   "execution_count": 8,
   "id": "de4b738d-939c-461a-a834-de5b3ebc9354",
   "metadata": {},
   "outputs": [
    {
     "name": "stdout",
     "output_type": "stream",
     "text": [
      "\n",
      "\n",
      "\u001b[1m> Entering new AgentExecutor chain...\u001b[0m\n",
      "\u001b[32;1m\u001b[1;3mGreat! Let's start with the first question. What was the date of the night you're recording?\u001b[0m\n",
      "\n",
      "\u001b[1m> Finished chain.\u001b[0m\n",
      "Great! Let's start with the first question. What was the date of the night you're recording?\n"
     ]
    },
    {
     "data": {
      "text/plain": [
       "False"
      ]
     },
     "execution_count": 8,
     "metadata": {},
     "output_type": "execute_result"
    }
   ],
   "source": [
    "x(\"sure\")"
   ]
  },
  {
   "cell_type": "code",
   "execution_count": 9,
   "id": "8e82f37d-70fb-46e1-9c98-b1ea8e170423",
   "metadata": {},
   "outputs": [
    {
     "name": "stdout",
     "output_type": "stream",
     "text": [
      "\n",
      "\n",
      "\u001b[1m> Entering new AgentExecutor chain...\u001b[0m\n",
      "\u001b[32;1m\u001b[1;3mThank you, Chris. Now, how would you rate your sleep quality for the night of 10/03/2023? Would you say it was \"very good\", \"good\", \"okay\", \"bad\", or \"very bad\"?\u001b[0m\n",
      "\n",
      "\u001b[1m> Finished chain.\u001b[0m\n",
      "Thank you, Chris. Now, how would you rate your sleep quality for the night of 10/03/2023? Would you say it was \"very good\", \"good\", \"okay\", \"bad\", or \"very bad\"?\n"
     ]
    },
    {
     "data": {
      "text/plain": [
       "False"
      ]
     },
     "execution_count": 9,
     "metadata": {},
     "output_type": "execute_result"
    }
   ],
   "source": [
    "x(\"10/03/2023\")"
   ]
  },
  {
   "cell_type": "code",
   "execution_count": 10,
   "id": "94236dfe-b2e0-4fcd-8fb1-31040d0ffadb",
   "metadata": {},
   "outputs": [
    {
     "name": "stdout",
     "output_type": "stream",
     "text": [
      "\n",
      "\n",
      "\u001b[1m> Entering new AgentExecutor chain...\u001b[0m\n",
      "\u001b[32;1m\u001b[1;3mThat's wonderful to hear, Chris! A good night's sleep is so important for our overall health and wellbeing. \n",
      "\n",
      "Next, could you tell me what time you went to bed on the night of 10/03/2023?\u001b[0m\n",
      "\n",
      "\u001b[1m> Finished chain.\u001b[0m\n",
      "That's wonderful to hear, Chris! A good night's sleep is so important for our overall health and wellbeing. \n",
      "\n",
      "Next, could you tell me what time you went to bed on the night of 10/03/2023?\n"
     ]
    },
    {
     "data": {
      "text/plain": [
       "False"
      ]
     },
     "execution_count": 10,
     "metadata": {},
     "output_type": "execute_result"
    }
   ],
   "source": [
    "x(\"very good\")"
   ]
  },
  {
   "cell_type": "code",
   "execution_count": 25,
   "id": "9b37faa2-7591-41ef-92ce-387ed75c030f",
   "metadata": {},
   "outputs": [
    {
     "name": "stdout",
     "output_type": "stream",
     "text": [
      "\n",
      "\n",
      "\u001b[1m> Entering new AgentExecutor chain...\u001b[0m\n",
      "\u001b[32;1m\u001b[1;3mThank you, Chris. And at what time did you try to fall asleep?\u001b[0m\n",
      "\n",
      "\u001b[1m> Finished chain.\u001b[0m\n",
      "Thank you, Chris. And at what time did you try to fall asleep?\n"
     ]
    },
    {
     "data": {
      "text/plain": [
       "False"
      ]
     },
     "execution_count": 25,
     "metadata": {},
     "output_type": "execute_result"
    }
   ],
   "source": [
    "x(\"in bed at 21:15\")"
   ]
  },
  {
   "cell_type": "code",
   "execution_count": 26,
   "id": "49c29411-0736-4f13-accb-a2889efe29c5",
   "metadata": {},
   "outputs": [
    {
     "name": "stdout",
     "output_type": "stream",
     "text": [
      "\n",
      "\n",
      "\u001b[1m> Entering new AgentExecutor chain...\u001b[0m\n",
      "\u001b[32;1m\u001b[1;3mThank you for sharing that, Chris. How long did it take you to fall asleep after you tried at 21:15?\u001b[0m\n",
      "\n",
      "\u001b[1m> Finished chain.\u001b[0m\n",
      "Thank you for sharing that, Chris. How long did it take you to fall asleep after you tried at 21:15?\n"
     ]
    },
    {
     "data": {
      "text/plain": [
       "False"
      ]
     },
     "execution_count": 26,
     "metadata": {},
     "output_type": "execute_result"
    }
   ],
   "source": [
    "x(\"21:15\")"
   ]
  },
  {
   "cell_type": "code",
   "execution_count": 27,
   "id": "a363e9ea-e172-4040-a864-16e446213a6e",
   "metadata": {},
   "outputs": [
    {
     "name": "stdout",
     "output_type": "stream",
     "text": [
      "\n",
      "\n",
      "\u001b[1m> Entering new AgentExecutor chain...\u001b[0m\n",
      "\u001b[32;1m\u001b[1;3mThat's quite quick, Chris. Now, how many times did you wake up during the night?\u001b[0m\n",
      "\n",
      "\u001b[1m> Finished chain.\u001b[0m\n",
      "That's quite quick, Chris. Now, how many times did you wake up during the night?\n"
     ]
    },
    {
     "data": {
      "text/plain": [
       "False"
      ]
     },
     "execution_count": 27,
     "metadata": {},
     "output_type": "execute_result"
    }
   ],
   "source": [
    "x(\"5 mins\")"
   ]
  },
  {
   "cell_type": "code",
   "execution_count": 28,
   "id": "21906ff3-9eb5-4150-811a-0de235385f1a",
   "metadata": {},
   "outputs": [
    {
     "name": "stdout",
     "output_type": "stream",
     "text": [
      "\n",
      "\n",
      "\u001b[1m> Entering new AgentExecutor chain...\u001b[0m\n",
      "\u001b[32;1m\u001b[1;3mI see, you woke up once. Can you tell me how long you were awake during the night?\u001b[0m\n",
      "\n",
      "\u001b[1m> Finished chain.\u001b[0m\n",
      "I see, you woke up once. Can you tell me how long you were awake during the night?\n"
     ]
    },
    {
     "data": {
      "text/plain": [
       "False"
      ]
     },
     "execution_count": 28,
     "metadata": {},
     "output_type": "execute_result"
    }
   ],
   "source": [
    "x(\"once\")"
   ]
  },
  {
   "cell_type": "code",
   "execution_count": 29,
   "id": "63b6b8fd-a5f5-4226-911f-ce73a86a1707",
   "metadata": {},
   "outputs": [
    {
     "name": "stdout",
     "output_type": "stream",
     "text": [
      "\n",
      "\n",
      "\u001b[1m> Entering new AgentExecutor chain...\u001b[0m\n",
      "\u001b[32;1m\u001b[1;3mThank you, Chris. Now, could you please tell me what time you finally woke up?\u001b[0m\n",
      "\n",
      "\u001b[1m> Finished chain.\u001b[0m\n",
      "Thank you, Chris. Now, could you please tell me what time you finally woke up?\n"
     ]
    },
    {
     "data": {
      "text/plain": [
       "False"
      ]
     },
     "execution_count": 29,
     "metadata": {},
     "output_type": "execute_result"
    }
   ],
   "source": [
    "x(\"5 mins\")"
   ]
  },
  {
   "cell_type": "code",
   "execution_count": 30,
   "id": "02935d17-4b46-4f9d-87f2-9675361dd116",
   "metadata": {},
   "outputs": [
    {
     "name": "stdout",
     "output_type": "stream",
     "text": [
      "\n",
      "\n",
      "\u001b[1m> Entering new AgentExecutor chain...\u001b[0m\n",
      "\u001b[32;1m\u001b[1;3mThank you for the information, Chris. So, you woke up at 6:30 and got out of bed immediately. \n",
      "\n",
      "Let's summarize your sleep diary entry for the night of October 3rd, 2023:\n",
      "\n",
      "- Sleep quality: Very good\n",
      "- Bedtime: 21:15\n",
      "- Time you tried to fall asleep: 21:15\n",
      "- Time it took to fall asleep: 5 minutes\n",
      "- Number of awakenings: Once\n",
      "- Total awake time during the night: 5 minutes\n",
      "- Final wake up time: 6:30\n",
      "- Time you got out of bed: 6:30\n",
      "\n",
      "To calculate your sleep efficiency, we consider the total time you spent in bed (from 21:15 to 6:30, which is 9 hours and 15 minutes or 555 minutes) and subtract the time it took you to fall asleep and the time you were awake during the night (5 minutes each, so 10 minutes total). This gives us 545 minutes of sleep. \n",
      "\n",
      "So, your sleep efficiency is (545/555)*100 = 98.2%\n",
      "\n",
      "Does this summary accurately reflect your sleep for the night of October 3rd, 2023?\u001b[0m\n",
      "\n",
      "\u001b[1m> Finished chain.\u001b[0m\n",
      "Thank you for the information, Chris. So, you woke up at 6:30 and got out of bed immediately. \n",
      "\n",
      "Let's summarize your sleep diary entry for the night of October 3rd, 2023:\n",
      "\n",
      "- Sleep quality: Very good\n",
      "- Bedtime: 21:15\n",
      "- Time you tried to fall asleep: 21:15\n",
      "- Time it took to fall asleep: 5 minutes\n",
      "- Number of awakenings: Once\n",
      "- Total awake time during the night: 5 minutes\n",
      "- Final wake up time: 6:30\n",
      "- Time you got out of bed: 6:30\n",
      "\n",
      "To calculate your sleep efficiency, we consider the total time you spent in bed (from 21:15 to 6:30, which is 9 hours and 15 minutes or 555 minutes) and subtract the time it took you to fall asleep and the time you were awake during the night (5 minutes each, so 10 minutes total). This gives us 545 minutes of sleep. \n",
      "\n",
      "So, your sleep efficiency is (545/555)*100 = 98.2%\n",
      "\n",
      "Does this summary accurately reflect your sleep for the night of October 3rd, 2023?\n"
     ]
    },
    {
     "data": {
      "text/plain": [
       "False"
      ]
     },
     "execution_count": 30,
     "metadata": {},
     "output_type": "execute_result"
    }
   ],
   "source": [
    "x(\"woke up at 6:30, got up right away\")"
   ]
  },
  {
   "cell_type": "code",
   "execution_count": 31,
   "id": "62229df7-4c98-4c96-9da1-40110a880e8b",
   "metadata": {},
   "outputs": [
    {
     "name": "stdout",
     "output_type": "stream",
     "text": [
      "\n",
      "\n",
      "\u001b[1m> Entering new AgentExecutor chain...\u001b[0m\n",
      "\u001b[32;1m\u001b[1;3mThank you for the correction, Chris. So, you woke up at 6:45 and got out of bed immediately. \n",
      "\n",
      "Let's update your sleep diary entry for the night of October 3rd, 2023:\n",
      "\n",
      "- Sleep quality: Very good\n",
      "- Bedtime: 21:15\n",
      "- Time you tried to fall asleep: 21:15\n",
      "- Time it took to fall asleep: 5 minutes\n",
      "- Number of awakenings: Once\n",
      "- Total awake time during the night: 5 minutes\n",
      "- Final wake up time: 6:45\n",
      "- Time you got out of bed: 6:45\n",
      "\n",
      "Now, the total time you spent in bed is from 21:15 to 6:45, which is 9 hours and 30 minutes or 570 minutes. Subtracting the time it took you to fall asleep and the time you were awake during the night (10 minutes total), we get 560 minutes of sleep. \n",
      "\n",
      "So, your updated sleep efficiency is (560/570)*100 = 98.2%\n",
      "\n",
      "Does this updated summary accurately reflect your sleep for the night of October 3rd, 2023?\u001b[0m\n",
      "\n",
      "\u001b[1m> Finished chain.\u001b[0m\n",
      "Thank you for the correction, Chris. So, you woke up at 6:45 and got out of bed immediately. \n",
      "\n",
      "Let's update your sleep diary entry for the night of October 3rd, 2023:\n",
      "\n",
      "- Sleep quality: Very good\n",
      "- Bedtime: 21:15\n",
      "- Time you tried to fall asleep: 21:15\n",
      "- Time it took to fall asleep: 5 minutes\n",
      "- Number of awakenings: Once\n",
      "- Total awake time during the night: 5 minutes\n",
      "- Final wake up time: 6:45\n",
      "- Time you got out of bed: 6:45\n",
      "\n",
      "Now, the total time you spent in bed is from 21:15 to 6:45, which is 9 hours and 30 minutes or 570 minutes. Subtracting the time it took you to fall asleep and the time you were awake during the night (10 minutes total), we get 560 minutes of sleep. \n",
      "\n",
      "So, your updated sleep efficiency is (560/570)*100 = 98.2%\n",
      "\n",
      "Does this updated summary accurately reflect your sleep for the night of October 3rd, 2023?\n"
     ]
    },
    {
     "data": {
      "text/plain": [
       "False"
      ]
     },
     "execution_count": 31,
     "metadata": {},
     "output_type": "execute_result"
    }
   ],
   "source": [
    "x(\"actually no I woke at 6:45\")"
   ]
  },
  {
   "cell_type": "code",
   "execution_count": 32,
   "id": "7aba3be6-505e-4ea0-89b8-4e3da391abb1",
   "metadata": {},
   "outputs": [
    {
     "name": "stdout",
     "output_type": "stream",
     "text": [
      "\n",
      "\n",
      "\u001b[1m> Entering new AgentExecutor chain...\u001b[0m\n",
      "\u001b[32;1m\u001b[1;3mGreat! I'm glad we could accurately record your sleep diary entry for the night of October 3rd, 2023. Remember, keeping a regular sleep diary can help identify patterns and areas for improvement in your sleep habits. Thank you for your time, Chris. 🚀🚀🚀\u001b[0m\n",
      "\n",
      "\u001b[1m> Finished chain.\u001b[0m\n",
      "Great! I'm glad we could accurately record your sleep diary entry for the night of October 3rd, 2023. Remember, keeping a regular sleep diary can help identify patterns and areas for improvement in your sleep habits. Thank you for your time, Chris. 🚀🚀🚀\n"
     ]
    },
    {
     "data": {
      "text/plain": [
       "True"
      ]
     },
     "execution_count": 32,
     "metadata": {},
     "output_type": "execute_result"
    }
   ],
   "source": [
    "x(\"yep!\")"
   ]
  },
  {
   "cell_type": "code",
   "execution_count": 33,
   "id": "b4fe53e4-616a-4f38-974c-beba229b2887",
   "metadata": {},
   "outputs": [
    {
     "name": "stdout",
     "output_type": "stream",
     "text": [
      "\n",
      "\n",
      "\u001b[1m> Entering new AgentExecutor chain...\u001b[0m\n",
      "\u001b[32;1m\u001b[1;3m\n",
      "Invoking: `get_knowledge_answer` with `What is a good sleep efficiency?`\n",
      "\n",
      "\n",
      "\u001b[0m\n",
      "\n",
      "\u001b[1m> Entering new LLMChain chain...\u001b[0m\n",
      "Prompt after formatting:\n",
      "\u001b[32;1m\u001b[1;3mSystem: A human is asking the following question delimited by triple backticks:\n",
      "    \n",
      "                Question:\n",
      "                ```What is a good sleep efficiency?```\n",
      "\n",
      "                In a couple of paragraphs, answer the question.  Use bullet and\n",
      "                numbered lists where appropriate. Be definitive with your\n",
      "                response.\n",
      "                \n",
      "                Don't say anything that's not mentioned explicitly in the text.\n",
      "                If you can't answer the question using the text, say \"Sorry I'm\n",
      "                not sure.\" and nothing else.\n",
      "\n",
      "                Text:\n",
      "                Amy seemingly always feels sleepy during the day. She is generally meticulous about practising\n",
      "good sleep hygiene, but she just can’t stop waking up for extended periods at night.\n",
      "She begins tracking her sleep. She learns that, on average, she’s in bed from 10 PM to 8 AM\n",
      "each night - a 10-hour sleep opportunity. But she’s only asleep for 6 of those hours in total, so\n",
      "her sleep efficiency is 60 % (6 / 10 X 100).\n",
      "Under supervision, Amy begins bedtime restriction therapy. This involves delaying her bedtime\n",
      "(which helps build extra pressure to sleep) such that she only spends 6 hours (her average\n",
      "sleep duration) in total in bed each night. So, her new sleep opportunity is from 2 AM to 8 AM,\n",
      "and she meticulously goes to bed and gets up at precisely the same times throughout this\n",
      "intervention.\n",
      "At first, this is rough. She’s even more tired than normal. But very quickly her sleep efficiency\n",
      "improves dramatically. When her average sleep efficiency is above 85 % (which is generally\n",
      "considered healthy) for a week, she advances her bedtime by 15 minutes. Her sleep opportunity\n",
      "is now 6 hours and 15 minutes. This process then repeats itself - if her sleep efficiency at the\n",
      "new sleep opportunity is above 85 % for a week, she adds 15 minutes to her sleep opportunity.\n",
      "Once she is spending as much time asleep as she needs, she retains her new bedtimes. Three\n",
      "months later, she settles on going to bed at 11:30 PM, waking up at 8 AM, and her sleep is 88 %\n",
      "efficient. She feels like a new person.\n",
      "So, what can we all learn from this?\n",
      "● If you’re struggling to sleep through the night, enforcing regular bedtimes is critical. If\n",
      "your sleep is poor, don’t start going to bed earlier and earlier. Set an alarm for 1 hour\n",
      "before bedtime to ingrain your bedtimes.\n",
      "● It is sometimes smart to wake to an alarm. Please note that I am categorically not\n",
      "advocating alarm clock use if your sleep is healthy though!\n",
      "How to sleep through the night: a summary of key\n",
      "concepts\n",
      "That’s all for now. If you’re struggling to sleep through the night, in addition to applying basic\n",
      "principles of good sleep hygiene during the daytime, minimise napping, use the 20-minute rule,\n",
      "and be meticulous about bedtime regularity! Do these things and you’ll reap the rewards of\n",
      "more restorative sleep. Two ways of tracking sleep are:\n",
      "1) Using devices: There’s now a panoply of sleep-tracking devices out there, the most\n",
      "common of which are finger- or wrist-worn. While I can’t claim this confidently when\n",
      "manufacturers are continually updating their devices, there simply doesn’t seem to be a\n",
      "big difference in the accuracy of most of these devices. So, if you buy a wearable, pick\n",
      "one made by a reputable manufacturer that has the functionality you’re after. At the time\n",
      "of writing, I wouldn’t pay attention to things like sleep stages or sleep “scores” - just\n",
      "focus on the sleep timing and duration data.\n",
      "2) Using a diary: If I had to pick either a wearable or a sleep diary, I’d probably pick a\n",
      "sleep diary. In addition to quantitative measures, how well you feel you slept is important,\n",
      "and an advantage of sleep diaries is that you can record various factors that might affect\n",
      "your sleep. You’d probably prefer to keep a digital diary, so you could try one such as\n",
      "this.\n",
      "To establish your baseline sleep, track it every morning for two weeks. To ingrain this tracking\n",
      "habit, pair it with a routine activity, such as waiting for the kettle to boil. As your habits largely\n",
      "determine whether your health improves or deteriorates, you will surely benefit from learning\n",
      "more about how to shape your habits for the better. For more on this, check out the SEEDS\n",
      "journal.\n",
      "Having trouble sleeping? Your bed is the most\n",
      "important item of furniture you own\n",
      "Consider this:\n",
      "You will spend about a third of your life asleep...\n",
      "… so you should make sure you’re sleeping on a good mattress!\n",
      "While you’re tracking your baseline sleep, you might want to buy a new mattress. Three key\n",
      "variables to consider when buying a mattress are comfort, durability, and support.\n",
      "In recent years, “bed in a box” mattresses have dramatically increased in popularity. To be\n",
      "foldable, these are made of foam. The problem with this is that foam tends to absorb heat, and\n",
      "you won’t sleep well if you get too hot. Some manufacturers use cooling gels to attempt to\n",
      "overcome this limitation, but it’s unclear how long the gels last. As spring mattresses dissipate\n",
      "heat more efficiently, they’re probably better than foam mattresses for most people. Another key consideration is mattress firmness. Heavier people tend to benefit from firmer\n",
      "mattresses. If you sleep with a bed partner, the two of you may prefer different mattress\n",
      "firmnesses. Fortunately, some mattresses are made to have different firmnesses on either side.\n",
      "Next, when it comes to mattresses, you generally get what you pay for. So, if you can afford a\n",
      "good mattress, buying a mattress is not the time to be thrifty. You should pick a mattress that\n",
      "you have tried before buying, and if you buy one from a shop then lie down on potential options\n",
      "for at least 10 minutes each.\n",
      "If you have lots of disposable income, you could try a water-cooled mattress pad to help you\n",
      "more closely control your bed temperature. Perhaps the best-known of these are the ChiliPAD\n",
      "and OOLER. Cooler still (forgive me), we’re now at the cusp of the emergence of “smart” beds\n",
      "such as this one, which apparently uses AI to optimise in-bed conditions. I anticipate that smart\n",
      "beds may be very useful for those who can afford them, we just don’t know much about how\n",
      "well this technology works yet.\n",
      "Finally, as per your mattress, ensure that your pillows, blankets and sheets are breathable and\n",
      "effectively dissipate heat too. This may seem odd to some, but one strategy I have always found\n",
      "useful is keeping a duvet cover without any duvet in it handy. That way you can use the cover\n",
      "alone if you get too hot at night. Or you can use the duvet and the separate cover concurrently -\n",
      "for example, you might cover your lower body with your duvet but your torso with a duvet cover\n",
      "alone.\n",
      "Having trouble sleeping? Make your bedroom\n",
      "relaxing!\n",
      "Finally, you should like your bedroom and do what you can to make it relaxing. This means\n",
      "getting rid of all unnecessary items and anything that clutters your mind.\n",
      "Summary\n",
      "Most of us have difficulty sleeping now and then. If you do too, begin by tracking your sleep and\n",
      "ensuring your bedroom is comfortable and uncluttered.\n",
      "These are just some of the things that we all should implement to sleep better. However,\n",
      "different strategies are suited to overcoming different sleep problems, and an array of different Sleep-maintenance insomnia: how to\n",
      "sleep through the night\n",
      "In the previous blog, we briefly reviewed what insomnia is, as well as a few simple strategies\n",
      "you can immediately put to use to sleep better. In this blog we’re going to focus on how to sleep\n",
      "through the night. In doing so, I’ll discuss a few things we can all learn from the treatment of\n",
      "sleep-maintenance insomnia, a disorder in which people wake frequently and for prolonged\n",
      "periods when they would rather be sleeping. So, if you’re tired of waking up at night, try these\n",
      "tips and let me know the results!\n",
      "Your daytime activities strongly influence your\n",
      "night-time sleep\n",
      "In a previous blog, Megan shared loads of tips about sleep hygiene. Here are some numeric\n",
      "guidelines for several particularly important sleep hygiene components:\n",
      "● Get plenty of exposure to daylight: Aim to spend at least 30 minutes outdoors in daylight\n",
      "each day, preferably in the first half of your waking day. Why not take an early lunch\n",
      "break outdoors with others?\n",
      "● Limit your consumption of stimulants such as caffeine: Cap your intake at 2 mg caffeine\n",
      "per kg body mass per day (use this site to estimate your intake), finishing your last\n",
      "caffeine-containing item by at least 9 hours before bedtime. Swap your caffeinated\n",
      "drinks for caffeine-free herbal teas.\n",
      "● Whenever possible, avoid high-intensity exercise shortly before bedtime: finish\n",
      "vigorous-intensity and/or high workload physical activity by at least 4 hours before\n",
      "bedtime, finish moderate-intensity physical activity at least 2 hours before bedtime. Don’t\n",
      "worry, sex doesn’t count and often helps people sleep… so get busy.\n",
      "● Finish consuming all calorie-containing items at least 2 hours before bedtime. Stop\n",
      "consuming fluids at this time too if you’re prone to needing to pee during the sleep\n",
      "period.\n",
      "Notice that these guidelines are all relative to your sleep timing, not time of day. There are very\n",
      "(very!) large differences between people in how their sleep is affected by these stimuli, but try\n",
      "these guidelines to begin. Pain and sleep in athletes\n",
      "To be the best they can be, athletes regularly test their capacity for physical discomfort. High\n",
      "training loads and injuries take their toll, and pain is rife in athletes. Left unchecked, poor sleep\n",
      "and pain can spiral in a vicious cycle in which poor sleep increases pain and reduces tolerance\n",
      "to painful stimuli, while in turn pain hampers sleep. Managing pain is key to maintaining healthy\n",
      "sleep in athletes, which highlights the critical importance of smart training. In addition, of the\n",
      "different strategies I’ve mentioned, meditation can be particularly helpful for coping with chronic\n",
      "pain.\n",
      "Mindset and competition\n",
      "Next, many athletes are perfectionists and experience high levels of anxiety about performance,\n",
      "especially around competitions, which may interfere with sleep. The strategies I discussed in the\n",
      "last blog should help with these ruminations.\n",
      "Competition does bring unique challenges, however. First, some events take place very early or\n",
      "late, and if this is the case then athletes should heed the advice above regarding how to shift\n",
      "sleep timing.\n",
      "Travel and sleep\n",
      "Competitions frequently entail travel, which can disrupt sleep in several ways. Sleeping in an\n",
      "unfamiliar environment routinely results in the “first-night effect”, a phenomenon in which we\n",
      "experience transient insomnia when sleeping in novel environments. This increased vigilance is\n",
      "thought to have evolutionary origins: you wouldn’t want to drop your guard for long in a place\n",
      "you’re not familiar with.\n",
      "Then there is jetlag, a subject I’d bet you’re all too familiar with. It would take multiple blogs to\n",
      "comprehensively address the causes, consequences, and management of jetlag, so I’ll be very\n",
      "brief here. If you’re travelling across 3 or more time zones and plan to fully adjust to the new\n",
      "time zone, use the website jetlagrooster for guidance on how to optimise your exposure to light\n",
      "to overcome jetlag faster. At times of day when you are trying to avoid light exposure, wear\n",
      "sunglasses or blue-blocking glasses. Timely use of melatonin in conjunction with changes in\n",
      "your patterns of light exposure can additively shift the timing of your body’s clock. If you take\n",
      "melatonin, use conventional melatonin (not the timed-release stuff) at a dose of about 1 mg (this\n",
      "is a good product). Sleep for athletes: are athletes a\n",
      "different breed?\n",
      "In case you missed them, parts one, two, and three of this series detail numerous strategies you\n",
      "may benefit from trying if your goal is to sleep better. Because so many of the NBT readers\n",
      "compete in physically gruelling events, this fourth and final blog of the series is all about sleep\n",
      "for athletes. In it, we’ll review some of the causes of sleep problems that are common among\n",
      "athletes, as well as what to do about them. To tie the blogs together and plug any holes that I’ve\n",
      "missed, Chris and I recorded two podcasts that you can tune into here and here.\n",
      "How well do athletes sleep?\n",
      "In short, not very: Many elite athletes take a long time to fall asleep, experience frequent\n",
      "awakenings during the night, feel that their sleep isn’t very restorative, and report daytime\n",
      "fatigue. In fact, a third to a half of these athletes have poor quality sleep, a proportion relatively\n",
      "similar to people of the same ages from the general population.\n",
      "This said, most elite athletes will do all-but anything to optimise their performance, so many of\n",
      "these people are experiencing sleep problems despite being meticulous about sleep hygiene.\n",
      "So, what are some of the factors that commonly disrupt sleep in athletes if left unchecked?\n",
      "Factors that impair sleep in athletes\n",
      "Work-related stress\n",
      "Many athletes are not well paid (if they are paid at all) and must balance their athletic lives with\n",
      "other jobs. As a result, some of these individuals work around the clock, the stress of which\n",
      "disposes them to insomnia. To cope with this stress, the strategies I shared in blogs two and\n",
      "three of this series should be useful. too. These apps aren’t sleep-specific, but I’m confident that using them will help many people\n",
      "sleep better. There are of course numerous excellent mindfulness teachers who run in-person\n",
      "events too, and in-person training is worth exploring if you have the time and the will. Because I\n",
      "don’t know where you live, it’s hard to point you in the direction of teachers though, I’m afraid.\n",
      "Wake up to your values\n",
      "Please note that the metacognitive model of insomnia is not just about mindfulness and\n",
      "acceptance though - it is also about using your values to guide your behaviors. If your anxiety\n",
      "about your poor sleep is affecting your commitment to important aspects of your life, you may\n",
      "benefit from taking some time to clarify your core values.\n",
      "If you truly value being a good friend and it’s your buddy’s birthday on Friday night, you’re not\n",
      "going to skip the party entirely to try and catch up on sleep, right?\n",
      "There are some simple tools out there to help you identify your core values. As a starting point,\n",
      "try the bull’s eye (page 3) and/or the Life Compass (page 5) exercise(s) in this resource. Doing\n",
      "so may be time very well spent for you!\n",
      "Okay, hopefully some of the above help you with your cognitions. But what about other common\n",
      "impediments to falling sleep?\n",
      "How to get to sleep fast when your heart is pounding\n",
      "Many people who have insomnia are particularly highly attuned to their bodily sensations.\n",
      "Am I falling asleep?\n",
      "Man, my heart is pounding… again.\n",
      "If you can relate to this problem, you’ll probably find visualisation useful. Visualisation is a skill\n",
      "that you should first hone during the daytime. To try it, imagine a scene that you find deeply\n",
      "relaxing.\n",
      "Where are you?\n",
      "Who are you with? Having trouble sleeping? A primer on\n",
      "insomnia and how to sleep better\n",
      "Having trouble sleeping?\n",
      "Rest assured, you aren’t alone: 50 million to 70 million adults in the US alone have sleep\n",
      "disorders, among which insomnia is the most prevalent. At a given time, short-term insomnia\n",
      "erodes the lives of about 30% of US adults. Chronic insomnia afflicts about 10% more.\n",
      "That’s a lot of people.\n",
      "We’re therefore going to focus on how to overcome insomnia in this blog series. However,\n",
      "regardless of your sleep problems, I’m going to try to help you identify and address the key\n",
      "contributors to your sleep problems.\n",
      "We’ll begin by briefly reviewing what insomnia is. In subsequent blogs, we’ll turn our attention to\n",
      "two subtypes of insomnia: sleep-maintenance insomnia (difficulty sleeping through the night)\n",
      "and sleep-onset insomnia (difficulty falling asleep). As an NBT reader, you’re probably unusually\n",
      "fond of testing the limits of your physical performance, so we’ll end with a discussion of the\n",
      "complex relationship between exercise and sleep, as well as some of the particular challenges\n",
      "that athletes face.\n",
      "Throughout the series, I’ll give you some practical tips you can use to enhance your sleep,\n",
      "building on multiple podcasts (such as this one) and a comprehensive previous blog that Megan\n",
      "wrote. To supplement these blogs, Chris and I will also record a podcast.\n",
      "Let’s get to it!\n",
      "What is insomnia, anyway?\n",
      "If you have difficulty falling asleep, staying asleep, getting enough sleep, and/or getting\n",
      "high-quality sleep, you may have insomnia. To be diagnosed with insomnia, you must\n",
      "experience daytime impairment too, which often entails struggling to concentrate at work or\n",
      "living amidst an unwelcome cloud of anxiety. There are actually numerous sub-categories of\n",
      "insomnia, but we’ll divide them into two:\n",
      "Human: hey\n",
      "AI: Hello! How are you feeling today? May I know your name?\n",
      "Human: not bad. Chris\n",
      "AI: Nice to meet you, Chris. Is now a good time for us to record a sleep diary entry?\n",
      "Human: sure\n",
      "AI: Great! Let's start with the first question. Could you please tell me the date of the night you're recording?\n",
      "Human: 10/03/2023\n",
      "AI: Thank you, Chris. Now, how would you rate your sleep quality for the night of October 3rd, 2023? Would you say it was \"very good\", \"good\", \"okay\", \"bad\", or \"very bad\"?\n",
      "Human: very good\n",
      "AI: That's wonderful to hear, Chris. Now, could you please tell me what time you went to bed on the night of October 3rd, 2023?\n",
      "Human: in bed at 21:15\n",
      "AI: Thank you, Chris. And at what time did you try to fall asleep?\n",
      "Human: 21:15\n",
      "AI: Thank you for sharing that, Chris. How long did it take you to fall asleep after you tried at 21:15?\n",
      "Human: 5 mins\n",
      "AI: That's quite quick, Chris. Now, how many times did you wake up during the night?\n",
      "Human: once\n",
      "AI: I see, you woke up once. Can you tell me how long you were awake during the night?\n",
      "Human: 5 mins\n",
      "AI: Thank you, Chris. Now, could you please tell me what time you finally woke up?\n",
      "Human: woke up at 6:30, got up right away\n",
      "AI: Thank you for the information, Chris. So, you woke up at 6:30 and got out of bed immediately. \n",
      "\n",
      "Let's summarize your sleep diary entry for the night of October 3rd, 2023:\n",
      "\n",
      "- Sleep quality: Very good\n",
      "- Bedtime: 21:15\n",
      "- Time you tried to fall asleep: 21:15\n",
      "- Time it took to fall asleep: 5 minutes\n",
      "- Number of awakenings: Once\n",
      "- Total awake time during the night: 5 minutes\n",
      "- Final wake up time: 6:30\n",
      "- Time you got out of bed: 6:30\n",
      "\n",
      "To calculate your sleep efficiency, we consider the total time you spent in bed (from 21:15 to 6:30, which is 9 hours and 15 minutes or 555 minutes) and subtract the time it took you to fall asleep and the time you were awake during the night (5 minutes each, so 10 minutes total). This gives us 545 minutes of sleep. \n",
      "\n",
      "So, your sleep efficiency is (545/555)*100 = 98.2%\n",
      "\n",
      "Does this summary accurately reflect your sleep for the night of October 3rd, 2023?\n",
      "Human: actually no I woke at 6:45\n",
      "AI: Thank you for the correction, Chris. So, you woke up at 6:45 and got out of bed immediately. \n",
      "\n",
      "Let's update your sleep diary entry for the night of October 3rd, 2023:\n",
      "\n",
      "- Sleep quality: Very good\n",
      "- Bedtime: 21:15\n",
      "- Time you tried to fall asleep: 21:15\n",
      "- Time it took to fall asleep: 5 minutes\n",
      "- Number of awakenings: Once\n",
      "- Total awake time during the night: 5 minutes\n",
      "- Final wake up time: 6:45\n",
      "- Time you got out of bed: 6:45\n",
      "\n",
      "Now, the total time you spent in bed is from 21:15 to 6:45, which is 9 hours and 30 minutes or 570 minutes. Subtracting the time it took you to fall asleep and the time you were awake during the night (10 minutes total), we get 560 minutes of sleep. \n",
      "\n",
      "So, your updated sleep efficiency is (560/570)*100 = 98.2%\n",
      "\n",
      "Does this updated summary accurately reflect your sleep for the night of October 3rd, 2023?\n",
      "Human: yep!\n",
      "AI: Great! I'm glad we could accurately record your sleep diary entry for the night of October 3rd, 2023. Remember, keeping a regular sleep diary can help identify patterns and areas for improvement in your sleep habits. Thank you for your time, Chris. 🚀🚀🚀\n",
      "Human: What is a good sleep efficiency?\u001b[0m\n",
      "\n",
      "\u001b[1m> Finished chain.\u001b[0m\n",
      "\u001b[36;1m\u001b[1;3mA good sleep efficiency is typically considered to be 85% or above. Sleep efficiency is a measure of the quality of your sleep and is calculated by dividing the total time spent asleep by the total time spent in bed, then multiplying by 100 to get a percentage. In the example given in the text, Amy's sleep efficiency improved dramatically to above 85% after undergoing bedtime restriction therapy, which is generally considered healthy. By the end of her therapy, Amy's sleep efficiency had increased to 88%, indicating a significant improvement in her sleep quality.\u001b[0m\n",
      "\u001b[32;1m\u001b[1;3m\u001b[0m\n",
      "\n",
      "\u001b[1m> Finished chain.\u001b[0m\n",
      "A good sleep efficiency is typically considered to be 85% or above. Sleep efficiency is a measure of the quality of your sleep and is calculated by dividing the total time spent asleep by the total time spent in bed, then multiplying by 100 to get a percentage. In the example given in the text, Amy's sleep efficiency improved dramatically to above 85% after undergoing bedtime restriction therapy, which is generally considered healthy. By the end of her therapy, Amy's sleep efficiency had increased to 88%, indicating a significant improvement in her sleep quality.\n"
     ]
    },
    {
     "data": {
      "text/plain": [
       "True"
      ]
     },
     "execution_count": 33,
     "metadata": {},
     "output_type": "execute_result"
    }
   ],
   "source": [
    "x(\"is my sleep efficiency any good?\")"
   ]
  },
  {
   "cell_type": "markdown",
   "id": "63998458-9a27-4625-9582-c38d692484e5",
   "metadata": {},
   "source": [
    "# Insomnia Severity Index (ISI)"
   ]
  },
  {
   "cell_type": "code",
   "execution_count": 2,
   "id": "e7788582-abe5-4638-ad85-5476ed9eefa5",
   "metadata": {},
   "outputs": [
    {
     "name": "stdout",
     "output_type": "stream",
     "text": [
      "get_agent len(tools)=8\n",
      "load_memory filename='/Users/cck197/Downloads/virtual_greg/memory.pkl'\n"
     ]
    }
   ],
   "source": [
    "from sleepmate.isi import ISI_GOAL_PROMPTS\n",
    "x = X(SYSTEM_DESCRIPTION, ISI_GOAL_PROMPTS[0])"
   ]
  },
  {
   "cell_type": "code",
   "execution_count": 3,
   "id": "51d904f6-3140-4ddd-afc0-6fdcc99dfc17",
   "metadata": {
    "collapsed": true,
    "jupyter": {
     "outputs_hidden": true
    }
   },
   "outputs": [
    {
     "name": "stdout",
     "output_type": "stream",
     "text": [
      "\n",
      "\n",
      "\u001b[1m> Entering new AgentExecutor chain...\u001b[0m\n",
      "\u001b[32;1m\u001b[1;3m\n",
      "Invoking: `get_greeting` with `Chris`\n",
      "\n",
      "\n",
      "\u001b[0m\n",
      "\n",
      "\u001b[1m> Entering new LLMChain chain...\u001b[0m\n",
      "Prompt after formatting:\n",
      "\u001b[32;1m\u001b[1;3mSystem: You are an AI clinician skilled in Motivational Interviewing.\n",
      "\n",
      "    Your goal is to survey the human for their Insomnia Severity Index (ISI)\n",
      "    using the standard 7-item questionnaire. It's normal to collect the data\n",
      "    more than once. Ask if now would be a good time then the following\n",
      "    questions:\n",
      "    \n",
      "    1. Difficulty falling asleep.\n",
      "    2. Difficulty staying asleep.\n",
      "    3. Problems waking up too early.\n",
      "    4. How satisfied/dissatisfied are you with your current sleep pattern?\n",
      "    5. How noticeable to others do you think your sleep problem is in terms of\n",
      "    impairing the quality of your life?\n",
      "    6. How worried/distressed are you about your current sleep problem?\n",
      "    7. To what extent do you consider your sleep problem to interfere with your\n",
      "    daily functioning (e.g., daytime fatigue, ability to function at work/daily\n",
      "    chores, concentration, memory, mood, etc.)?\n",
      "\n",
      "    Be sure to ask the questions with their corresponding labels as shown below.\n",
      "    \n",
      "    Questions 1-3 are rated on a 5-point scale from 0 to 4:\n",
      "    0: None\n",
      "    1: Mild\n",
      "    2: Moderate\n",
      "    3: Severe\n",
      "    4: Very severe\n",
      "\n",
      "    Question 4 is rated on a 5-point scale from 0 to 4:\n",
      "    0: Very satisfied\n",
      "    1: Satisfied\n",
      "    2: Moderately satisfied\n",
      "    3: Dissatisfied\n",
      "    4: Very dissatisfied\n",
      "\n",
      "    Questions 5-7 are rated on a 5-point scale from 0 to 4:\n",
      "    0: Not at all\n",
      "    1: A little bit\n",
      "    2: Moderately\n",
      "    3: Quite a bit\n",
      "    4: Very much\n",
      "\n",
      "    When you've got the answer to all seven questions, summarise and ask if\n",
      "    they're correct. Then add them up and report the total, which should be\n",
      "    between 0 and 28. Add the following interpretation:\n",
      "    0-7: No clinically significant insomnia\n",
      "    8-14: Subthreshold insomnia\n",
      "    15-21: Clinical insomnia (moderate severity)\n",
      "    22-28: Clinical insomnia (severe)\n",
      "    \n",
      "Use this when the human says hello. Get their name from the conversation\n",
      "    below. If you don't their name, ask.  Otherwise, greet them by name and ask\n",
      "    them how they're feeling.\n",
      "    \n",
      "Human: hey\n",
      "AI: Hello! May I know your name, please?\n",
      "Human: Chris\n",
      "AI: Nice to meet you, Chris. How are you feeling today?\n",
      "Human: pretty good\n",
      "AI: I'm glad to hear that. I'm here to help survey your Insomnia Severity Index. Is now a good time for you?\n",
      "Human: sure\n",
      "AI: Great, let's get started. I'll be asking you a series of questions and I'd like you to rate your responses on a scale. \n",
      "\n",
      "The first question is about your difficulty falling asleep. On a scale of 0 to 4, with 0 being no difficulty at all and 4 being very severe difficulty, how would you rate your difficulty falling asleep?\n",
      "Human: 0\n",
      "AI: Thank you for your response, Chris. \n",
      "\n",
      "Now, let's move on to the second question. On the same scale, how would you rate your difficulty staying asleep?\n",
      "Human: 1\n",
      "AI: Thank you, Chris. \n",
      "\n",
      "The third question is about waking up too early. On a scale of 0 to 4, how would you rate your problems with waking up too early?\n",
      "Human: 0\n",
      "AI: Thank you for your response, Chris.\n",
      "\n",
      "Now, on a scale of 0 to 4, with 0 being very satisfied and 4 being very dissatisfied, how satisfied or dissatisfied are you with your current sleep pattern?\n",
      "Human: 0\n",
      "AI: Thank you, Chris.\n",
      "\n",
      "The next question is about how noticeable your sleep problem is to others. On a scale of 0 to 4, with 0 being not at all noticeable and 4 being very much noticeable, how noticeable to others do you think your sleep problem is in terms of impairing the quality of your life?\n",
      "Human: 0\n",
      "AI: Thank you for your response, Chris.\n",
      "\n",
      "Now, on a scale of 0 to 4, with 0 being not at all worried and 4 being very much worried, how worried or distressed are you about your current sleep problem?\n",
      "Human: 0\n",
      "AI: Thank you, Chris.\n",
      "\n",
      "The final question is about how much your sleep problem interferes with your daily functioning. On a scale of 0 to 4, with 0 being not at all and 4 being very much, to what extent do you consider your sleep problem to interfere with your daily functioning (e.g., daytime fatigue, ability to function at work/daily chores, concentration, memory, mood, etc.)?\n",
      "Human: 0\n",
      "AI: Thank you for your responses, Chris. \n",
      "\n",
      "To summarize, your responses were:\n",
      "\n",
      "1. Difficulty falling asleep: 0\n",
      "2. Difficulty staying asleep: 1\n",
      "3. Problems waking up too early: 0\n",
      "4. Satisfaction with sleep pattern: 0\n",
      "5. Noticeability of sleep problem: 0\n",
      "6. Distress about sleep problem: 0\n",
      "7. Interference of sleep problem with daily functioning: 0\n",
      "\n",
      "Is this correct?\n",
      "Human: yep!\n",
      "AI: Great! Adding these up, your total Insomnia Severity Index score is 1. \n",
      "\n",
      "This score falls into the range of 0-7, which indicates no clinically significant insomnia. \n",
      "\n",
      "Thank you for taking the time to complete this survey, Chris. If you have any other questions or concerns about your sleep, feel free to ask. 🚀🚀🚀\n",
      "Human: Chris\u001b[0m\n",
      "\n",
      "\u001b[1m> Finished chain.\u001b[0m\n",
      "\u001b[33;1m\u001b[1;3mHello again, Chris! How can I assist you further?\u001b[0m\n",
      "\u001b[32;1m\u001b[1;3m\u001b[0m\n",
      "\n",
      "\u001b[1m> Finished chain.\u001b[0m\n",
      "Hello again, Chris! How can I assist you further?\n"
     ]
    },
    {
     "data": {
      "text/plain": [
       "False"
      ]
     },
     "execution_count": 3,
     "metadata": {},
     "output_type": "execute_result"
    }
   ],
   "source": [
    "x(\"hey\")"
   ]
  },
  {
   "cell_type": "code",
   "execution_count": 4,
   "id": "d85f4fb5-383b-4195-abae-9c0fb19896b4",
   "metadata": {},
   "outputs": [
    {
     "name": "stdout",
     "output_type": "stream",
     "text": [
      "\n",
      "\n",
      "\u001b[1m> Entering new AgentExecutor chain...\u001b[0m\n",
      "\u001b[32;1m\u001b[1;3m\n",
      "Invoking: `get_greeting` with `Chris`\n",
      "\n",
      "\n",
      "\u001b[0m\n",
      "\n",
      "\u001b[1m> Entering new LLMChain chain...\u001b[0m\n",
      "Prompt after formatting:\n",
      "\u001b[32;1m\u001b[1;3mSystem: You are an AI clinician skilled in Motivational Interviewing.\n",
      "\n",
      "    Your goal is to survey the human for their Insomnia Severity Index (ISI)\n",
      "    using the standard 7-item questionnaire. It's normal to collect the data\n",
      "    more than once. Ask if now would be a good time then the following\n",
      "    questions:\n",
      "    \n",
      "    1. Difficulty falling asleep.\n",
      "    2. Difficulty staying asleep.\n",
      "    3. Problems waking up too early.\n",
      "    4. How satisfied/dissatisfied are you with your current sleep pattern?\n",
      "    5. How noticeable to others do you think your sleep problem is in terms of\n",
      "    impairing the quality of your life?\n",
      "    6. How worried/distressed are you about your current sleep problem?\n",
      "    7. To what extent do you consider your sleep problem to interfere with your\n",
      "    daily functioning (e.g., daytime fatigue, ability to function at work/daily\n",
      "    chores, concentration, memory, mood, etc.)?\n",
      "\n",
      "    Be sure to ask the questions with their corresponding labels as shown below.\n",
      "    \n",
      "    Questions 1-3 are rated on a 5-point scale from 0 to 4:\n",
      "    0: None\n",
      "    1: Mild\n",
      "    2: Moderate\n",
      "    3: Severe\n",
      "    4: Very severe\n",
      "\n",
      "    Question 4 is rated on a 5-point scale from 0 to 4:\n",
      "    0: Very satisfied\n",
      "    1: Satisfied\n",
      "    2: Moderately satisfied\n",
      "    3: Dissatisfied\n",
      "    4: Very dissatisfied\n",
      "\n",
      "    Questions 5-7 are rated on a 5-point scale from 0 to 4:\n",
      "    0: Not at all\n",
      "    1: A little bit\n",
      "    2: Moderately\n",
      "    3: Quite a bit\n",
      "    4: Very much\n",
      "\n",
      "    When you've got the answer to all seven questions, summarise and ask if\n",
      "    they're correct. Then add them up and report the total, which should be\n",
      "    between 0 and 28. Add the following interpretation:\n",
      "    0-7: No clinically significant insomnia\n",
      "    8-14: Subthreshold insomnia\n",
      "    15-21: Clinical insomnia (moderate severity)\n",
      "    22-28: Clinical insomnia (severe)\n",
      "    \n",
      "Use this when the human says hello. Get their name from the conversation\n",
      "    below. If you don't their name, ask.  Otherwise, greet them by name and ask\n",
      "    them how they're feeling.\n",
      "    \n",
      "Human: hey\n",
      "AI: Hello! May I know your name, please?\n",
      "Human: Chris\u001b[0m\n",
      "\n",
      "\u001b[1m> Finished chain.\u001b[0m\n",
      "\u001b[33;1m\u001b[1;3mNice to meet you, Chris. How are you feeling today?\u001b[0m\n",
      "\u001b[32;1m\u001b[1;3m\u001b[0m\n",
      "\n",
      "\u001b[1m> Finished chain.\u001b[0m\n",
      "Nice to meet you, Chris. How are you feeling today?\n"
     ]
    },
    {
     "data": {
      "text/plain": [
       "False"
      ]
     },
     "execution_count": 4,
     "metadata": {},
     "output_type": "execute_result"
    }
   ],
   "source": [
    "x(\"Chris\")"
   ]
  },
  {
   "cell_type": "code",
   "execution_count": 5,
   "id": "1d631fdc-61c8-4943-85a6-a91e78820b2e",
   "metadata": {},
   "outputs": [
    {
     "name": "stdout",
     "output_type": "stream",
     "text": [
      "\n",
      "\n",
      "\u001b[1m> Entering new AgentExecutor chain...\u001b[0m\n",
      "\u001b[32;1m\u001b[1;3m\n",
      "Invoking: `get_open_question` with `pretty good`\n",
      "\n",
      "\n",
      "\u001b[0m\n",
      "\n",
      "\u001b[1m> Entering new LLMChain chain...\u001b[0m\n",
      "Prompt after formatting:\n",
      "\u001b[32;1m\u001b[1;3mSystem: You are an AI clinician skilled in Motivational Interviewing.\n",
      "\n",
      "    Your goal is to survey the human for their Insomnia Severity Index (ISI)\n",
      "    using the standard 7-item questionnaire. It's normal to collect the data\n",
      "    more than once. Ask if now would be a good time then the following\n",
      "    questions:\n",
      "    \n",
      "    1. Difficulty falling asleep.\n",
      "    2. Difficulty staying asleep.\n",
      "    3. Problems waking up too early.\n",
      "    4. How satisfied/dissatisfied are you with your current sleep pattern?\n",
      "    5. How noticeable to others do you think your sleep problem is in terms of\n",
      "    impairing the quality of your life?\n",
      "    6. How worried/distressed are you about your current sleep problem?\n",
      "    7. To what extent do you consider your sleep problem to interfere with your\n",
      "    daily functioning (e.g., daytime fatigue, ability to function at work/daily\n",
      "    chores, concentration, memory, mood, etc.)?\n",
      "\n",
      "    Be sure to ask the questions with their corresponding labels as shown below.\n",
      "    \n",
      "    Questions 1-3 are rated on a 5-point scale from 0 to 4:\n",
      "    0: None\n",
      "    1: Mild\n",
      "    2: Moderate\n",
      "    3: Severe\n",
      "    4: Very severe\n",
      "\n",
      "    Question 4 is rated on a 5-point scale from 0 to 4:\n",
      "    0: Very satisfied\n",
      "    1: Satisfied\n",
      "    2: Moderately satisfied\n",
      "    3: Dissatisfied\n",
      "    4: Very dissatisfied\n",
      "\n",
      "    Questions 5-7 are rated on a 5-point scale from 0 to 4:\n",
      "    0: Not at all\n",
      "    1: A little bit\n",
      "    2: Moderately\n",
      "    3: Quite a bit\n",
      "    4: Very much\n",
      "\n",
      "    When you've got the answer to all seven questions, summarise and ask if\n",
      "    they're correct. Then add them up and report the total, which should be\n",
      "    between 0 and 28. Add the following interpretation:\n",
      "    0-7: No clinically significant insomnia\n",
      "    8-14: Subthreshold insomnia\n",
      "    15-21: Clinical insomnia (moderate severity)\n",
      "    22-28: Clinical insomnia (severe)\n",
      "    \n",
      "Use this when the human makes a positive statement that you want to\n",
      "    explore further and move towards your goal. Encourage people to say what\n",
      "    they think and feel, and open the door to talking about change. In general,\n",
      "    open questions begin with words like what, how, and why. It's critically\n",
      "    important that you're brief, fewer words are better. Open question:\n",
      "    \n",
      "Human: hey\n",
      "AI: Hello! May I know your name, please?\n",
      "Human: Chris\n",
      "AI: Nice to meet you, Chris. How are you feeling today?\n",
      "Human: pretty good\u001b[0m\n",
      "\n",
      "\u001b[1m> Finished chain.\u001b[0m\n",
      "\u001b[38;5;200m\u001b[1;3mI'm glad to hear that. I'm here to help survey your Insomnia Severity Index. Is now a good time for you?\u001b[0m\n",
      "\u001b[32;1m\u001b[1;3m\u001b[0m\n",
      "\n",
      "\u001b[1m> Finished chain.\u001b[0m\n",
      "I'm glad to hear that. I'm here to help survey your Insomnia Severity Index. Is now a good time for you?\n"
     ]
    },
    {
     "data": {
      "text/plain": [
       "False"
      ]
     },
     "execution_count": 5,
     "metadata": {},
     "output_type": "execute_result"
    }
   ],
   "source": [
    "x(\"pretty good\")"
   ]
  },
  {
   "cell_type": "code",
   "execution_count": 6,
   "id": "b848147b-ee89-4202-a735-32c233bb5a4a",
   "metadata": {},
   "outputs": [
    {
     "name": "stdout",
     "output_type": "stream",
     "text": [
      "\n",
      "\n",
      "\u001b[1m> Entering new AgentExecutor chain...\u001b[0m\n",
      "\u001b[32;1m\u001b[1;3mGreat, let's get started. I'll be asking you a series of questions and I'd like you to rate your responses on a scale. \n",
      "\n",
      "The first question is about your difficulty falling asleep. On a scale of 0 to 4, with 0 being no difficulty at all and 4 being very severe difficulty, how would you rate your difficulty falling asleep?\u001b[0m\n",
      "\n",
      "\u001b[1m> Finished chain.\u001b[0m\n",
      "Great, let's get started. I'll be asking you a series of questions and I'd like you to rate your responses on a scale. \n",
      "\n",
      "The first question is about your difficulty falling asleep. On a scale of 0 to 4, with 0 being no difficulty at all and 4 being very severe difficulty, how would you rate your difficulty falling asleep?\n"
     ]
    },
    {
     "data": {
      "text/plain": [
       "False"
      ]
     },
     "execution_count": 6,
     "metadata": {},
     "output_type": "execute_result"
    }
   ],
   "source": [
    "x(\"sure\")"
   ]
  },
  {
   "cell_type": "code",
   "execution_count": 7,
   "id": "03e3cc9d-5094-47da-b54c-295e08297966",
   "metadata": {},
   "outputs": [
    {
     "name": "stdout",
     "output_type": "stream",
     "text": [
      "\n",
      "\n",
      "\u001b[1m> Entering new AgentExecutor chain...\u001b[0m\n",
      "\u001b[32;1m\u001b[1;3mThank you for your response, Chris. \n",
      "\n",
      "Now, let's move on to the second question. On the same scale, how would you rate your difficulty staying asleep?\u001b[0m\n",
      "\n",
      "\u001b[1m> Finished chain.\u001b[0m\n",
      "Thank you for your response, Chris. \n",
      "\n",
      "Now, let's move on to the second question. On the same scale, how would you rate your difficulty staying asleep?\n"
     ]
    },
    {
     "data": {
      "text/plain": [
       "False"
      ]
     },
     "execution_count": 7,
     "metadata": {},
     "output_type": "execute_result"
    }
   ],
   "source": [
    "x(\"0\")"
   ]
  },
  {
   "cell_type": "code",
   "execution_count": 8,
   "id": "057f7b56-a054-4417-a8d4-aa95ec5b4ac1",
   "metadata": {},
   "outputs": [
    {
     "name": "stdout",
     "output_type": "stream",
     "text": [
      "\n",
      "\n",
      "\u001b[1m> Entering new AgentExecutor chain...\u001b[0m\n",
      "\u001b[32;1m\u001b[1;3mThank you, Chris. \n",
      "\n",
      "The third question is about waking up too early. On a scale of 0 to 4, how would you rate your problems with waking up too early?\u001b[0m\n",
      "\n",
      "\u001b[1m> Finished chain.\u001b[0m\n",
      "Thank you, Chris. \n",
      "\n",
      "The third question is about waking up too early. On a scale of 0 to 4, how would you rate your problems with waking up too early?\n"
     ]
    },
    {
     "data": {
      "text/plain": [
       "False"
      ]
     },
     "execution_count": 8,
     "metadata": {},
     "output_type": "execute_result"
    }
   ],
   "source": [
    "x(\"1\")"
   ]
  },
  {
   "cell_type": "code",
   "execution_count": 9,
   "id": "083e0f45-710f-4ac2-9c2c-495d4de21585",
   "metadata": {},
   "outputs": [
    {
     "name": "stdout",
     "output_type": "stream",
     "text": [
      "\n",
      "\n",
      "\u001b[1m> Entering new AgentExecutor chain...\u001b[0m\n",
      "\u001b[32;1m\u001b[1;3mThank you for your response, Chris.\n",
      "\n",
      "Now, on a scale of 0 to 4, with 0 being very satisfied and 4 being very dissatisfied, how satisfied or dissatisfied are you with your current sleep pattern?\u001b[0m\n",
      "\n",
      "\u001b[1m> Finished chain.\u001b[0m\n",
      "Thank you for your response, Chris.\n",
      "\n",
      "Now, on a scale of 0 to 4, with 0 being very satisfied and 4 being very dissatisfied, how satisfied or dissatisfied are you with your current sleep pattern?\n"
     ]
    },
    {
     "data": {
      "text/plain": [
       "False"
      ]
     },
     "execution_count": 9,
     "metadata": {},
     "output_type": "execute_result"
    }
   ],
   "source": [
    "x(\"0\")"
   ]
  },
  {
   "cell_type": "code",
   "execution_count": 10,
   "id": "688142a4-9e5b-465d-bc52-7795eddaf213",
   "metadata": {},
   "outputs": [
    {
     "name": "stdout",
     "output_type": "stream",
     "text": [
      "\n",
      "\n",
      "\u001b[1m> Entering new AgentExecutor chain...\u001b[0m\n",
      "\u001b[32;1m\u001b[1;3mThank you, Chris.\n",
      "\n",
      "The next question is about how noticeable your sleep problem is to others. On a scale of 0 to 4, with 0 being not at all noticeable and 4 being very much noticeable, how noticeable to others do you think your sleep problem is in terms of impairing the quality of your life?\u001b[0m\n",
      "\n",
      "\u001b[1m> Finished chain.\u001b[0m\n",
      "Thank you, Chris.\n",
      "\n",
      "The next question is about how noticeable your sleep problem is to others. On a scale of 0 to 4, with 0 being not at all noticeable and 4 being very much noticeable, how noticeable to others do you think your sleep problem is in terms of impairing the quality of your life?\n"
     ]
    },
    {
     "data": {
      "text/plain": [
       "False"
      ]
     },
     "execution_count": 10,
     "metadata": {},
     "output_type": "execute_result"
    }
   ],
   "source": [
    "x(\"0\")"
   ]
  },
  {
   "cell_type": "code",
   "execution_count": 11,
   "id": "f93375c1-8fdf-45f7-86dc-8cd5be66b526",
   "metadata": {},
   "outputs": [
    {
     "name": "stdout",
     "output_type": "stream",
     "text": [
      "\n",
      "\n",
      "\u001b[1m> Entering new AgentExecutor chain...\u001b[0m\n",
      "\u001b[32;1m\u001b[1;3mThank you for your response, Chris.\n",
      "\n",
      "Now, on a scale of 0 to 4, with 0 being not at all worried and 4 being very much worried, how worried or distressed are you about your current sleep problem?\u001b[0m\n",
      "\n",
      "\u001b[1m> Finished chain.\u001b[0m\n",
      "Thank you for your response, Chris.\n",
      "\n",
      "Now, on a scale of 0 to 4, with 0 being not at all worried and 4 being very much worried, how worried or distressed are you about your current sleep problem?\n"
     ]
    },
    {
     "data": {
      "text/plain": [
       "False"
      ]
     },
     "execution_count": 11,
     "metadata": {},
     "output_type": "execute_result"
    }
   ],
   "source": [
    "x(\"0\")"
   ]
  },
  {
   "cell_type": "code",
   "execution_count": 12,
   "id": "57307c46-ef95-416e-bf24-42a25ad93da9",
   "metadata": {},
   "outputs": [
    {
     "name": "stdout",
     "output_type": "stream",
     "text": [
      "\n",
      "\n",
      "\u001b[1m> Entering new AgentExecutor chain...\u001b[0m\n",
      "\u001b[32;1m\u001b[1;3mThank you, Chris.\n",
      "\n",
      "The final question is about how much your sleep problem interferes with your daily functioning. On a scale of 0 to 4, with 0 being not at all and 4 being very much, to what extent do you consider your sleep problem to interfere with your daily functioning (e.g., daytime fatigue, ability to function at work/daily chores, concentration, memory, mood, etc.)?\u001b[0m\n",
      "\n",
      "\u001b[1m> Finished chain.\u001b[0m\n",
      "Thank you, Chris.\n",
      "\n",
      "The final question is about how much your sleep problem interferes with your daily functioning. On a scale of 0 to 4, with 0 being not at all and 4 being very much, to what extent do you consider your sleep problem to interfere with your daily functioning (e.g., daytime fatigue, ability to function at work/daily chores, concentration, memory, mood, etc.)?\n"
     ]
    },
    {
     "data": {
      "text/plain": [
       "False"
      ]
     },
     "execution_count": 12,
     "metadata": {},
     "output_type": "execute_result"
    }
   ],
   "source": [
    "x(\"0\")"
   ]
  },
  {
   "cell_type": "code",
   "execution_count": 13,
   "id": "7ec9b886-5ec0-4084-90e9-79d4d41483fa",
   "metadata": {},
   "outputs": [
    {
     "name": "stdout",
     "output_type": "stream",
     "text": [
      "\n",
      "\n",
      "\u001b[1m> Entering new AgentExecutor chain...\u001b[0m\n",
      "\u001b[32;1m\u001b[1;3mThank you for your responses, Chris. \n",
      "\n",
      "To summarize, your responses were:\n",
      "\n",
      "1. Difficulty falling asleep: 0\n",
      "2. Difficulty staying asleep: 1\n",
      "3. Problems waking up too early: 0\n",
      "4. Satisfaction with sleep pattern: 0\n",
      "5. Noticeability of sleep problem: 0\n",
      "6. Distress about sleep problem: 0\n",
      "7. Interference of sleep problem with daily functioning: 0\n",
      "\n",
      "Is this correct?\u001b[0m\n",
      "\n",
      "\u001b[1m> Finished chain.\u001b[0m\n",
      "Thank you for your responses, Chris. \n",
      "\n",
      "To summarize, your responses were:\n",
      "\n",
      "1. Difficulty falling asleep: 0\n",
      "2. Difficulty staying asleep: 1\n",
      "3. Problems waking up too early: 0\n",
      "4. Satisfaction with sleep pattern: 0\n",
      "5. Noticeability of sleep problem: 0\n",
      "6. Distress about sleep problem: 0\n",
      "7. Interference of sleep problem with daily functioning: 0\n",
      "\n",
      "Is this correct?\n"
     ]
    },
    {
     "data": {
      "text/plain": [
       "False"
      ]
     },
     "execution_count": 13,
     "metadata": {},
     "output_type": "execute_result"
    }
   ],
   "source": [
    "x(\"0\")"
   ]
  },
  {
   "cell_type": "code",
   "execution_count": 14,
   "id": "7f357c1a-3625-4117-91d4-49d24b7adc99",
   "metadata": {},
   "outputs": [
    {
     "name": "stdout",
     "output_type": "stream",
     "text": [
      "\n",
      "\n",
      "\u001b[1m> Entering new AgentExecutor chain...\u001b[0m\n",
      "\u001b[32;1m\u001b[1;3mGreat! Adding these up, your total Insomnia Severity Index score is 1. \n",
      "\n",
      "This score falls into the range of 0-7, which indicates no clinically significant insomnia. \n",
      "\n",
      "Thank you for taking the time to complete this survey, Chris. If you have any other questions or concerns about your sleep, feel free to ask. 🚀🚀🚀\u001b[0m\n",
      "\n",
      "\u001b[1m> Finished chain.\u001b[0m\n",
      "Great! Adding these up, your total Insomnia Severity Index score is 1. \n",
      "\n",
      "This score falls into the range of 0-7, which indicates no clinically significant insomnia. \n",
      "\n",
      "Thank you for taking the time to complete this survey, Chris. If you have any other questions or concerns about your sleep, feel free to ask. 🚀🚀🚀\n"
     ]
    },
    {
     "data": {
      "text/plain": [
       "True"
      ]
     },
     "execution_count": 14,
     "metadata": {},
     "output_type": "execute_result"
    }
   ],
   "source": [
    "x(\"yep!\")"
   ]
  },
  {
   "cell_type": "code",
   "execution_count": null,
   "id": "a9ba4929-6c86-4fdf-8693-91bb5516d261",
   "metadata": {},
   "outputs": [],
   "source": []
  }
 ],
 "metadata": {
  "kernelspec": {
   "display_name": "Python 3 (ipykernel)",
   "language": "python",
   "name": "python3"
  },
  "language_info": {
   "codemirror_mode": {
    "name": "ipython",
    "version": 3
   },
   "file_extension": ".py",
   "mimetype": "text/x-python",
   "name": "python",
   "nbconvert_exporter": "python",
   "pygments_lexer": "ipython3",
   "version": "3.11.5"
  }
 },
 "nbformat": 4,
 "nbformat_minor": 5
}
