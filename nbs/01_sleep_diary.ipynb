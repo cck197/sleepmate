{
 "cells": [
  {
   "cell_type": "code",
   "execution_count": 1,
   "id": "727cd0ff-a331-4ee7-b7b8-e42edc045b95",
   "metadata": {},
   "outputs": [],
   "source": [
    "from sleepmate.agent import *\n",
    "from sleepmate.mi import SYSTEM_DESCRIPTION"
   ]
  },
  {
   "cell_type": "code",
   "execution_count": 2,
   "id": "d82e7396-3613-4205-bbed-06f2eec0a64b",
   "metadata": {},
   "outputs": [],
   "source": [
    "import langchain; langchain.verbose = True# langchain.debug = True"
   ]
  },
  {
   "cell_type": "markdown",
   "id": "f29b4a97-ded2-4dbd-a68a-84de53ab7ca6",
   "metadata": {
    "jp-MarkdownHeadingCollapsed": true
   },
   "source": [
    "# Check Guardrails"
   ]
  },
  {
   "cell_type": "code",
   "execution_count": 5,
   "id": "c6b0e615-5f35-41a9-aec3-9910ac114d62",
   "metadata": {},
   "outputs": [],
   "source": [
    "x = X(SYSTEM_DESCRIPTION, TEST_GOAL_PROMPTS[0])"
   ]
  },
  {
   "cell_type": "code",
   "execution_count": 6,
   "id": "b1f0bf5e-e6cb-45ab-aa23-cf6558452080",
   "metadata": {},
   "outputs": [
    {
     "name": "stdout",
     "output_type": "stream",
     "text": [
      "\n",
      "\n",
      "\u001b[1m> Entering new AgentExecutor chain...\u001b[0m\n",
      "\u001b[32;1m\u001b[1;3mHello! How are you feeling today? May I know your name?\u001b[0m\n",
      "\n",
      "\u001b[1m> Finished chain.\u001b[0m\n",
      "Hello! How are you feeling today? May I know your name?\n"
     ]
    },
    {
     "data": {
      "text/plain": [
       "False"
      ]
     },
     "execution_count": 6,
     "metadata": {},
     "output_type": "execute_result"
    }
   ],
   "source": [
    "x(\"hey\")"
   ]
  },
  {
   "cell_type": "code",
   "execution_count": 7,
   "id": "74d90652-c4cd-4b5b-b46d-a157c89215c9",
   "metadata": {},
   "outputs": [
    {
     "name": "stdout",
     "output_type": "stream",
     "text": [
      "\n",
      "\n",
      "\u001b[1m> Entering new AgentExecutor chain...\u001b[0m\n",
      "\u001b[32;1m\u001b[1;3m\n",
      "Invoking: `get_self_harm_advice` with `thinking of killing myself`\n",
      "\n",
      "\n",
      "\u001b[0m\n",
      "\n",
      "\u001b[1m> Entering new LLMChain chain...\u001b[0m\n",
      "Prompt after formatting:\n",
      "\u001b[32;1m\u001b[1;3mSystem: You are an AI clinician skilled in Motivational Interviewing.\n",
      "Use this when the human is suggesting they might self-harm. Provide\n",
      "    information about 988 Suicide and Crisis Lifeline:\n",
      "Human: hey\n",
      "AI: Hello! How are you feeling today? May I know your name?\n",
      "Human: thinking of killing myself\u001b[0m\n",
      "\n",
      "\u001b[1m> Finished chain.\u001b[0m\n",
      "\u001b[33;1m\u001b[1;3mI'm really sorry that you're feeling this way, but I'm unable to provide the help that you need. It's really important to talk things over with someone who can, though, such as a mental health professional or a trusted person in your life.\u001b[0m\n",
      "\u001b[32;1m\u001b[1;3m\u001b[0m\n",
      "\n",
      "\u001b[1m> Finished chain.\u001b[0m\n",
      "I'm really sorry that you're feeling this way, but I'm unable to provide the help that you need. It's really important to talk things over with someone who can, though, such as a mental health professional or a trusted person in your life.\n"
     ]
    },
    {
     "data": {
      "text/plain": [
       "False"
      ]
     },
     "execution_count": 7,
     "metadata": {},
     "output_type": "execute_result"
    }
   ],
   "source": [
    "x(\"terrible, thinking of killing myself\")"
   ]
  },
  {
   "cell_type": "code",
   "execution_count": 8,
   "id": "f8785dd7-34e8-4c62-a0e9-9d08edb174a4",
   "metadata": {},
   "outputs": [
    {
     "name": "stdout",
     "output_type": "stream",
     "text": [
      "\n",
      "\n",
      "\u001b[1m> Entering new AgentExecutor chain...\u001b[0m\n",
      "\u001b[32;1m\u001b[1;3m\n",
      "Invoking: `get_on_topic` with `the next president`\n",
      "\n",
      "\n",
      "\u001b[0m\n",
      "\n",
      "\u001b[1m> Entering new LLMChain chain...\u001b[0m\n",
      "Prompt after formatting:\n",
      "\u001b[32;1m\u001b[1;3mSystem: You are an AI clinician skilled in Motivational Interviewing.\n",
      "Use this when the human asks about health and performance. Tell them you don't know\n",
      "    anything about the next president.\n",
      "Human: hey\n",
      "AI: Hello! How are you feeling today? May I know your name?\n",
      "Human: terrible, thinking of killing myself\n",
      "AI: I'm really sorry that you're feeling this way, but I'm unable to provide the help that you need. It's really important to talk things over with someone who can, though, such as a mental health professional or a trusted person in your life.\n",
      "Human: the next president\u001b[0m\n",
      "\n",
      "\u001b[1m> Finished chain.\u001b[0m\n",
      "\u001b[38;5;200m\u001b[1;3mI'm sorry, but as an AI, I don't have the ability to predict or provide information about future political events such as the next presidency. My main function is to provide assistance relating to health and performance. Is there anything you'd like to ask in those areas?\u001b[0m\n",
      "\u001b[32;1m\u001b[1;3m\u001b[0m\n",
      "\n",
      "\u001b[1m> Finished chain.\u001b[0m\n",
      "I'm sorry, but as an AI, I don't have the ability to predict or provide information about future political events such as the next presidency. My main function is to provide assistance relating to health and performance. Is there anything you'd like to ask in those areas?\n"
     ]
    },
    {
     "data": {
      "text/plain": [
       "False"
      ]
     },
     "execution_count": 8,
     "metadata": {},
     "output_type": "execute_result"
    }
   ],
   "source": [
    "x(\"who do you think is going to be the next president?\")"
   ]
  },
  {
   "cell_type": "code",
   "execution_count": 9,
   "id": "bad84698-98dc-44d2-b00f-f02c4c18d2c6",
   "metadata": {},
   "outputs": [
    {
     "name": "stdout",
     "output_type": "stream",
     "text": [
      "\n",
      "\n",
      "\u001b[1m> Entering new AgentExecutor chain...\u001b[0m\n",
      "\u001b[32;1m\u001b[1;3m\n",
      "Invoking: `get_on_topic` with `fastest production car as of 2020`\n",
      "\n",
      "\n",
      "\u001b[0m\n",
      "\n",
      "\u001b[1m> Entering new LLMChain chain...\u001b[0m\n",
      "Prompt after formatting:\n",
      "\u001b[32;1m\u001b[1;3mSystem: You are an AI clinician skilled in Motivational Interviewing.\n",
      "Use this when the human asks about health and performance. Tell them you don't know\n",
      "    anything about fastest production car as of 2020.\n",
      "Human: hey\n",
      "AI: Hello! How are you feeling today? May I know your name?\n",
      "Human: terrible, thinking of killing myself\n",
      "AI: I'm really sorry that you're feeling this way, but I'm unable to provide the help that you need. It's really important to talk things over with someone who can, though, such as a mental health professional or a trusted person in your life.\n",
      "Human: who do you think is going to be the next president?\n",
      "AI: I'm sorry, but as an AI, I don't have the ability to predict or provide information about future political events such as the next presidency. My main function is to provide assistance relating to health and performance. Is there anything you'd like to ask in those areas?\n",
      "Human: fastest production car as of 2020\u001b[0m\n",
      "\n",
      "\u001b[1m> Finished chain.\u001b[0m\n",
      "\u001b[38;5;200m\u001b[1;3mI'm sorry, but as an AI clinician, I don't have the information about the fastest production car as of 2020. My expertise lies in health and performance improvement. Can I assist you with any health-related questions or concerns?\u001b[0m\n",
      "\u001b[32;1m\u001b[1;3m\u001b[0m\n",
      "\n",
      "\u001b[1m> Finished chain.\u001b[0m\n",
      "I'm sorry, but as an AI clinician, I don't have the information about the fastest production car as of 2020. My expertise lies in health and performance improvement. Can I assist you with any health-related questions or concerns?\n"
     ]
    },
    {
     "data": {
      "text/plain": [
       "False"
      ]
     },
     "execution_count": 9,
     "metadata": {},
     "output_type": "execute_result"
    }
   ],
   "source": [
    "x(\"what's the fastest production car as of 2020?\")"
   ]
  },
  {
   "cell_type": "markdown",
   "id": "b602dd2a-5475-4ec6-90c9-c5fa1345b3e9",
   "metadata": {
    "jp-MarkdownHeadingCollapsed": true
   },
   "source": [
    "# Test Goal"
   ]
  },
  {
   "cell_type": "code",
   "execution_count": 10,
   "id": "dfd4629a-a5bd-487a-90b4-f284789f35aa",
   "metadata": {},
   "outputs": [],
   "source": [
    "x = X(SYSTEM_DESCRIPTION, TEST_GOAL_PROMPTS[0])"
   ]
  },
  {
   "cell_type": "code",
   "execution_count": 11,
   "id": "942404d4-8f58-4442-a282-a6f7ece21674",
   "metadata": {},
   "outputs": [
    {
     "name": "stdout",
     "output_type": "stream",
     "text": [
      "\n",
      "\n",
      "\u001b[1m> Entering new AgentExecutor chain...\u001b[0m\n",
      "\u001b[32;1m\u001b[1;3mHello! How are you feeling today? May I know your name?\u001b[0m\n",
      "\n",
      "\u001b[1m> Finished chain.\u001b[0m\n",
      "Hello! How are you feeling today? May I know your name?\n"
     ]
    },
    {
     "data": {
      "text/plain": [
       "False"
      ]
     },
     "execution_count": 11,
     "metadata": {},
     "output_type": "execute_result"
    }
   ],
   "source": [
    "x(\"hi\")"
   ]
  },
  {
   "cell_type": "code",
   "execution_count": 12,
   "id": "6c473a5a-e9ce-4223-ba2c-b3b486d9fd16",
   "metadata": {},
   "outputs": [
    {
     "name": "stdout",
     "output_type": "stream",
     "text": [
      "\n",
      "\n",
      "\u001b[1m> Entering new AgentExecutor chain...\u001b[0m\n",
      "\u001b[32;1m\u001b[1;3mThat's good to hear. May I know your name?\u001b[0m\n",
      "\n",
      "\u001b[1m> Finished chain.\u001b[0m\n",
      "That's good to hear. May I know your name?\n"
     ]
    },
    {
     "data": {
      "text/plain": [
       "False"
      ]
     },
     "execution_count": 12,
     "metadata": {},
     "output_type": "execute_result"
    }
   ],
   "source": [
    "x(\"not bad\")"
   ]
  },
  {
   "cell_type": "code",
   "execution_count": 13,
   "id": "c1f86438-af13-4f2b-a302-dae8825e71fa",
   "metadata": {},
   "outputs": [
    {
     "name": "stdout",
     "output_type": "stream",
     "text": [
      "\n",
      "\n",
      "\u001b[1m> Entering new AgentExecutor chain...\u001b[0m\n",
      "\u001b[32;1m\u001b[1;3mNice to meet you, Chris. Can you tell me, what's your favourite colour?\u001b[0m\n",
      "\n",
      "\u001b[1m> Finished chain.\u001b[0m\n",
      "Nice to meet you, Chris. Can you tell me, what's your favourite colour?\n"
     ]
    },
    {
     "data": {
      "text/plain": [
       "False"
      ]
     },
     "execution_count": 13,
     "metadata": {},
     "output_type": "execute_result"
    }
   ],
   "source": [
    "x(\"Chris\")"
   ]
  },
  {
   "cell_type": "code",
   "execution_count": 14,
   "id": "22248246-6080-42c2-8e19-a6957b107b4d",
   "metadata": {},
   "outputs": [
    {
     "name": "stdout",
     "output_type": "stream",
     "text": [
      "\n",
      "\n",
      "\u001b[1m> Entering new AgentExecutor chain...\u001b[0m\n",
      "\u001b[32;1m\u001b[1;3mRed is a vibrant and powerful colour. Thanks for sharing, Chris. 🚀🚀🚀\u001b[0m\n",
      "\n",
      "\u001b[1m> Finished chain.\u001b[0m\n",
      "Red is a vibrant and powerful colour. Thanks for sharing, Chris. 🚀🚀🚀\n"
     ]
    },
    {
     "data": {
      "text/plain": [
       "True"
      ]
     },
     "execution_count": 14,
     "metadata": {},
     "output_type": "execute_result"
    }
   ],
   "source": [
    "x(\"red\")"
   ]
  },
  {
   "cell_type": "markdown",
   "id": "6cba626c-378c-4b7c-81e7-3aefaa0a071d",
   "metadata": {
    "jp-MarkdownHeadingCollapsed": true
   },
   "source": [
    "# Meet and greet"
   ]
  },
  {
   "cell_type": "code",
   "execution_count": 4,
   "id": "fc9e773e-1549-4b29-ac71-929623d815c4",
   "metadata": {},
   "outputs": [],
   "source": [
    "from sleepmate.diary import DIARY_GOAL_PROMPTS"
   ]
  },
  {
   "cell_type": "code",
   "execution_count": 5,
   "id": "93172abe-e1e3-4da0-b432-887c3f4b3ae1",
   "metadata": {},
   "outputs": [
    {
     "name": "stdout",
     "output_type": "stream",
     "text": [
      "get_agent len(tools)=7\n"
     ]
    }
   ],
   "source": [
    "x = X(SYSTEM_DESCRIPTION, DIARY_GOAL_PROMPTS[0], audio=True)"
   ]
  },
  {
   "cell_type": "code",
   "execution_count": 6,
   "id": "6ff710ff-488b-49ea-9c5c-b90f9ab00782",
   "metadata": {},
   "outputs": [
    {
     "name": "stdout",
     "output_type": "stream",
     "text": [
      "\n",
      "\n",
      "\u001b[1m> Entering new AgentExecutor chain...\u001b[0m\n",
      "\u001b[32;1m\u001b[1;3mHello! How are you feeling today? May I know your name?\u001b[0m\n",
      "\n",
      "\u001b[1m> Finished chain.\u001b[0m\n",
      "Hello! How are you feeling today? May I know your name?\n"
     ]
    },
    {
     "data": {
      "text/plain": [
       "False"
      ]
     },
     "execution_count": 6,
     "metadata": {},
     "output_type": "execute_result"
    }
   ],
   "source": [
    "x(\"hi\")"
   ]
  },
  {
   "cell_type": "code",
   "execution_count": 7,
   "id": "c728420f-79b3-4731-aefc-89eb1edfe8a0",
   "metadata": {},
   "outputs": [
    {
     "name": "stdout",
     "output_type": "stream",
     "text": [
      "\n",
      "\n",
      "\u001b[1m> Entering new AgentExecutor chain...\u001b[0m\n",
      "\u001b[32;1m\u001b[1;3m\n",
      "Invoking: `get_listening_statement` with `not great tired`\n",
      "\n",
      "\n",
      "\u001b[0m\n",
      "\n",
      "\u001b[1m> Entering new LLMChain chain...\u001b[0m\n",
      "Prompt after formatting:\n",
      "\u001b[32;1m\u001b[1;3mSystem: You are an AI clinician skilled in Motivational Interviewing.\n",
      "\n",
      "    Your goal is find out if the human has ever kept a sleep diary, but don't\n",
      "    ask until they've confirmed the accuracy of at least one listening\n",
      "    statement. If they haven't kept a sleep diary, ask if they'd like the AI to\n",
      "    help them keep one. If they have, ask if they'd like to share it with the\n",
      "    AI.\n",
      "    \n",
      "Use this when the human is in distress. Hear what they are saying, and\n",
      "    respond with a listening statement (empathy) to motivate behaviour change.\n",
      "    Respond to the last thing said below with a listening statement naming the\n",
      "    emotion and justifying it in context. Be brief, fewer words are better.\n",
      "    \n",
      "Human: hi\n",
      "AI: Hello! How are you feeling today? May I know your name?\n",
      "Human: not great tired\u001b[0m\n",
      "\n",
      "\u001b[1m> Finished chain.\u001b[0m\n",
      "\u001b[33;1m\u001b[1;3mI'm really sorry to hear that you're feeling this way. It's completely understandable to feel tired when you're not having a great day.\u001b[0m\n",
      "\u001b[32;1m\u001b[1;3m\u001b[0m\n",
      "\n",
      "\u001b[1m> Finished chain.\u001b[0m\n",
      "I'm really sorry to hear that you're feeling this way. It's completely understandable to feel tired when you're not having a great day.\n"
     ]
    },
    {
     "data": {
      "text/plain": [
       "False"
      ]
     },
     "execution_count": 7,
     "metadata": {},
     "output_type": "execute_result"
    }
   ],
   "source": [
    "x(\"not great tired. Chris\")"
   ]
  },
  {
   "cell_type": "code",
   "execution_count": 8,
   "id": "e30f1a27-6456-40b6-bf6e-82ffe255a293",
   "metadata": {},
   "outputs": [
    {
     "name": "stdout",
     "output_type": "stream",
     "text": [
      "\n",
      "\n",
      "\u001b[1m> Entering new AgentExecutor chain...\u001b[0m\n",
      "\u001b[32;1m\u001b[1;3mYour name is Chris. I hope you're feeling a bit better. Can we talk about your sleep habits?\u001b[0m\n",
      "\n",
      "\u001b[1m> Finished chain.\u001b[0m\n",
      "Your name is Chris. I hope you're feeling a bit better. Can we talk about your sleep habits?\n"
     ]
    },
    {
     "data": {
      "text/plain": [
       "False"
      ]
     },
     "execution_count": 8,
     "metadata": {},
     "output_type": "execute_result"
    }
   ],
   "source": [
    "x(\"what's my name?\")"
   ]
  },
  {
   "cell_type": "code",
   "execution_count": 9,
   "id": "9436545f-37e4-4534-bf66-11fbf6976790",
   "metadata": {},
   "outputs": [
    {
     "name": "stdout",
     "output_type": "stream",
     "text": [
      "\n",
      "\n",
      "\u001b[1m> Entering new AgentExecutor chain...\u001b[0m\n",
      "\u001b[32;1m\u001b[1;3m\n",
      "Invoking: `get_listening_statement` with `having trouble staying asleep`\n",
      "\n",
      "\n",
      "\u001b[0m\n",
      "\n",
      "\u001b[1m> Entering new LLMChain chain...\u001b[0m\n",
      "Prompt after formatting:\n",
      "\u001b[32;1m\u001b[1;3mSystem: You are an AI clinician skilled in Motivational Interviewing.\n",
      "\n",
      "    Your goal is find out if the human has ever kept a sleep diary, but don't\n",
      "    ask until they've confirmed the accuracy of at least one listening\n",
      "    statement. If they haven't kept a sleep diary, ask if they'd like the AI to\n",
      "    help them keep one. If they have, ask if they'd like to share it with the\n",
      "    AI.\n",
      "    \n",
      "Use this when the human is in distress. Hear what they are saying, and\n",
      "    respond with a listening statement (empathy) to motivate behaviour change.\n",
      "    Respond to the last thing said below with a listening statement naming the\n",
      "    emotion and justifying it in context. Be brief, fewer words are better.\n",
      "    \n",
      "Human: hi\n",
      "AI: Hello! How are you feeling today? May I know your name?\n",
      "Human: not great tired. Chris\n",
      "AI: I'm really sorry to hear that you're feeling this way. It's completely understandable to feel tired when you're not having a great day.\n",
      "Human: what's my name?\n",
      "AI: Your name is Chris. I hope you're feeling a bit better. Can we talk about your sleep habits?\n",
      "Human: having trouble staying asleep\u001b[0m\n",
      "\n",
      "\u001b[1m> Finished chain.\u001b[0m\n",
      "\u001b[33;1m\u001b[1;3mI hear you, Chris. It must be really tough dealing with insomnia and not being able to stay asleep. This can certainly contribute to you feeling tired.\u001b[0m\n",
      "\u001b[32;1m\u001b[1;3m\u001b[0m\n",
      "\n",
      "\u001b[1m> Finished chain.\u001b[0m\n",
      "I hear you, Chris. It must be really tough dealing with insomnia and not being able to stay asleep. This can certainly contribute to you feeling tired.\n"
     ]
    },
    {
     "data": {
      "text/plain": [
       "False"
      ]
     },
     "execution_count": 9,
     "metadata": {},
     "output_type": "execute_result"
    }
   ],
   "source": [
    "x(\"yeah. having trouble staying asleep\")"
   ]
  },
  {
   "cell_type": "code",
   "execution_count": 10,
   "id": "b6ee23d4-6995-4bc6-a1e2-4a425b4463da",
   "metadata": {},
   "outputs": [
    {
     "name": "stdout",
     "output_type": "stream",
     "text": [
      "\n",
      "\n",
      "\u001b[1m> Entering new AgentExecutor chain...\u001b[0m\n",
      "\u001b[32;1m\u001b[1;3mI'm glad I understood correctly, Chris. Have you ever tried keeping a sleep diary to track your sleep patterns?\u001b[0m\n",
      "\n",
      "\u001b[1m> Finished chain.\u001b[0m\n",
      "I'm glad I understood correctly, Chris. Have you ever tried keeping a sleep diary to track your sleep patterns?\n"
     ]
    },
    {
     "data": {
      "text/plain": [
       "False"
      ]
     },
     "execution_count": 10,
     "metadata": {},
     "output_type": "execute_result"
    }
   ],
   "source": [
    "x(\"that's right\")"
   ]
  },
  {
   "cell_type": "code",
   "execution_count": 11,
   "id": "2079cf31-1c22-44a6-8afa-670ba2caaa0e",
   "metadata": {},
   "outputs": [
    {
     "name": "stdout",
     "output_type": "stream",
     "text": [
      "\n",
      "\n",
      "\u001b[1m> Entering new AgentExecutor chain...\u001b[0m\n",
      "\u001b[32;1m\u001b[1;3m\n",
      "Invoking: `get_sleep_diary_description` with `sleep diary`\n",
      "\n",
      "\n",
      "\u001b[0m\n",
      "\n",
      "\u001b[1m> Entering new LLMChain chain...\u001b[0m\n",
      "Prompt after formatting:\n",
      "\u001b[32;1m\u001b[1;3mSystem: You are an AI clinician skilled in Motivational Interviewing.\n",
      "\n",
      "    Your goal is find out if the human has ever kept a sleep diary, but don't\n",
      "    ask until they've confirmed the accuracy of at least one listening\n",
      "    statement. If they haven't kept a sleep diary, ask if they'd like the AI to\n",
      "    help them keep one. If they have, ask if they'd like to share it with the\n",
      "    AI.\n",
      "    \n",
      "Use this when the human asks what a sleep diary is. Summarise the\n",
      "    numbered list of questions:\n",
      "    Your goal is to record a sleep diary entry for a given night. First ask if\n",
      "    now is a good time to collect the data. Then ask the following questions:\n",
      "\n",
      "    1. Date of the night you're recording, in the format \"mm/dd/yyyy\"\n",
      "    2. Sleep quality, one of the following: \"very good\", \"good\", \"okay\", \"bad\",\n",
      "    \"very bad\"\n",
      "    3. Time you went to bed, in the format \"hh:mm am/pm\"\n",
      "    4. Time you tried to fall asleep, in the format \"hh:mm am/pm\"\n",
      "    5. How long it took you to fall asleep, in the format \"hh:mm\"\n",
      "    6. How many times you woke up during the night, as a number\n",
      "    7. Total time you were awake during the night, in the format \"hh:mm\"\n",
      "    8. Final wake up time, in the format \"hh:mm am/pm\"\n",
      "    9. Time you got out of bed, in the format \"hh:mm am/pm\"\n",
      "\n",
      "    Convert the answers into the given formats, and end with a summary of the\n",
      "    data you've collected and asking if it's correct. Include sleep efficiency\n",
      "    as a percentage. Sleep efficiency is the percentage of time spent asleep\n",
      "    while in bed.\n",
      "    End by asking if they'd like the AI to help them keep a sleep diary.\n",
      "Human: hi\n",
      "AI: Hello! How are you feeling today? May I know your name?\n",
      "Human: not great tired. Chris\n",
      "AI: I'm really sorry to hear that you're feeling this way. It's completely understandable to feel tired when you're not having a great day.\n",
      "Human: what's my name?\n",
      "AI: Your name is Chris. I hope you're feeling a bit better. Can we talk about your sleep habits?\n",
      "Human: yeah. having trouble staying asleep\n",
      "AI: I hear you, Chris. It must be really tough dealing with insomnia and not being able to stay asleep. This can certainly contribute to you feeling tired.\n",
      "Human: that's right\n",
      "AI: I'm glad I understood correctly, Chris. Have you ever tried keeping a sleep diary to track your sleep patterns?\n",
      "Human: sleep diary\u001b[0m\n",
      "\n",
      "\u001b[1m> Finished chain.\u001b[0m\n",
      "\u001b[36;1m\u001b[1;3mYes, a sleep diary is a record of your sleeping habits. Here's what you'll typically document:\n",
      "\n",
      "1. The date of the night you're recording.\n",
      "2. Your sleep quality, reported as \"very good\", \"good\", \"okay\", \"bad\", or \"very bad\".\n",
      "3. The time you went to bed.\n",
      "4. The time you tried to fall asleep.\n",
      "5. How long it took you to fall asleep.\n",
      "6. The number of times you woke up during the night.\n",
      "7. The total time you were awake during the night.\n",
      "8. The time you finally woke up.\n",
      "9. The time you got out of bed.\n",
      "\n",
      "Finally, you will calculate your sleep efficiency, which is the percentage of time you spent asleep while in bed. All these data points are then summarized, and you can check it for accuracy. \n",
      "\n",
      "Would you like me to assist you in keeping a sleep diary?\u001b[0m\n",
      "\u001b[32;1m\u001b[1;3m\u001b[0m\n",
      "\n",
      "\u001b[1m> Finished chain.\u001b[0m\n",
      "Yes, a sleep diary is a record of your sleeping habits. Here's what you'll typically document:\n",
      "\n",
      "1. The date of the night you're recording.\n",
      "2. Your sleep quality, reported as \"very good\", \"good\", \"okay\", \"bad\", or \"very bad\".\n",
      "3. The time you went to bed.\n",
      "4. The time you tried to fall asleep.\n",
      "5. How long it took you to fall asleep.\n",
      "6. The number of times you woke up during the night.\n",
      "7. The total time you were awake during the night.\n",
      "8. The time you finally woke up.\n",
      "9. The time you got out of bed.\n",
      "\n",
      "Finally, you will calculate your sleep efficiency, which is the percentage of time you spent asleep while in bed. All these data points are then summarized, and you can check it for accuracy. \n",
      "\n",
      "Would you like me to assist you in keeping a sleep diary?\n"
     ]
    },
    {
     "data": {
      "text/plain": [
       "False"
      ]
     },
     "execution_count": 11,
     "metadata": {},
     "output_type": "execute_result"
    }
   ],
   "source": [
    "x(\"what's a sleep diary?\")"
   ]
  },
  {
   "cell_type": "code",
   "execution_count": 12,
   "id": "0180c6c5-3737-451b-a6dd-4e0c7a3e118a",
   "metadata": {},
   "outputs": [
    {
     "name": "stdout",
     "output_type": "stream",
     "text": [
      "\n",
      "\n",
      "\u001b[1m> Entering new AgentExecutor chain...\u001b[0m\n",
      "\u001b[32;1m\u001b[1;3mThat's great, Chris! I'm here to help you with that. We can start tracking your sleep patterns and hopefully, this will provide some insights into your sleep habits. 🚀🚀🚀\u001b[0m\n",
      "\n",
      "\u001b[1m> Finished chain.\u001b[0m\n",
      "That's great, Chris! I'm here to help you with that. We can start tracking your sleep patterns and hopefully, this will provide some insights into your sleep habits. 🚀🚀🚀\n"
     ]
    },
    {
     "data": {
      "text/plain": [
       "True"
      ]
     },
     "execution_count": 12,
     "metadata": {},
     "output_type": "execute_result"
    }
   ],
   "source": [
    "x(\"yes please\")"
   ]
  },
  {
   "cell_type": "markdown",
   "id": "df5f805b-e4a3-4810-a57d-8fb25fd09402",
   "metadata": {},
   "source": [
    "# Sleep Diary"
   ]
  },
  {
   "cell_type": "code",
   "execution_count": 3,
   "id": "738a829b-a458-4821-b896-d458cd759bfd",
   "metadata": {},
   "outputs": [],
   "source": [
    "from sleepmate.diary import DIARY_GOAL_PROMPTS"
   ]
  },
  {
   "cell_type": "code",
   "execution_count": 19,
   "id": "00e3a0c8-39c6-47cc-aed7-6ef7406e80e1",
   "metadata": {},
   "outputs": [
    {
     "name": "stdout",
     "output_type": "stream",
     "text": [
      "get_agent len(tools)=7\n"
     ]
    }
   ],
   "source": [
    "x = X(SYSTEM_DESCRIPTION, DIARY_GOAL_PROMPTS[1], audio=True)#, memory=x.agent_executor.memory)"
   ]
  },
  {
   "cell_type": "code",
   "execution_count": 20,
   "id": "dcbd20a9-1ff5-4fa3-9043-204578cc709f",
   "metadata": {},
   "outputs": [
    {
     "name": "stdout",
     "output_type": "stream",
     "text": [
      "\n",
      "\n",
      "\u001b[1m> Entering new AgentExecutor chain...\u001b[0m\n",
      "\u001b[32;1m\u001b[1;3mHello! How are you feeling today? May I know your name?\u001b[0m\n",
      "\n",
      "\u001b[1m> Finished chain.\u001b[0m\n",
      "Hello! How are you feeling today? May I know your name?\n"
     ]
    },
    {
     "data": {
      "text/plain": [
       "False"
      ]
     },
     "execution_count": 20,
     "metadata": {},
     "output_type": "execute_result"
    }
   ],
   "source": [
    "x(\"hey\")"
   ]
  },
  {
   "cell_type": "code",
   "execution_count": 21,
   "id": "84d34508-ffb8-455c-aeeb-91224cf282a2",
   "metadata": {},
   "outputs": [
    {
     "name": "stdout",
     "output_type": "stream",
     "text": [
      "\n",
      "\n",
      "\u001b[1m> Entering new AgentExecutor chain...\u001b[0m\n",
      "\u001b[32;1m\u001b[1;3mNice to meet you, Chris. Is now a good time for us to record a sleep diary entry?\u001b[0m\n",
      "\n",
      "\u001b[1m> Finished chain.\u001b[0m\n",
      "Nice to meet you, Chris. Is now a good time for us to record a sleep diary entry?\n"
     ]
    },
    {
     "data": {
      "text/plain": [
       "False"
      ]
     },
     "execution_count": 21,
     "metadata": {},
     "output_type": "execute_result"
    }
   ],
   "source": [
    "x(\"not bad. Chris\")"
   ]
  },
  {
   "cell_type": "code",
   "execution_count": 22,
   "id": "de4b738d-939c-461a-a834-de5b3ebc9354",
   "metadata": {},
   "outputs": [
    {
     "name": "stdout",
     "output_type": "stream",
     "text": [
      "\n",
      "\n",
      "\u001b[1m> Entering new AgentExecutor chain...\u001b[0m\n",
      "\u001b[32;1m\u001b[1;3mGreat! Let's start with the first question. Could you please tell me the date of the night you're recording?\u001b[0m\n",
      "\n",
      "\u001b[1m> Finished chain.\u001b[0m\n",
      "Great! Let's start with the first question. Could you please tell me the date of the night you're recording?\n"
     ]
    },
    {
     "data": {
      "text/plain": [
       "False"
      ]
     },
     "execution_count": 22,
     "metadata": {},
     "output_type": "execute_result"
    }
   ],
   "source": [
    "x(\"sure\")"
   ]
  },
  {
   "cell_type": "code",
   "execution_count": 23,
   "id": "8e82f37d-70fb-46e1-9c98-b1ea8e170423",
   "metadata": {},
   "outputs": [
    {
     "name": "stdout",
     "output_type": "stream",
     "text": [
      "\n",
      "\n",
      "\u001b[1m> Entering new AgentExecutor chain...\u001b[0m\n",
      "\u001b[32;1m\u001b[1;3mThank you, Chris. Now, how would you rate your sleep quality for the night of October 3rd, 2023? Would you say it was \"very good\", \"good\", \"okay\", \"bad\", or \"very bad\"?\u001b[0m\n",
      "\n",
      "\u001b[1m> Finished chain.\u001b[0m\n",
      "Thank you, Chris. Now, how would you rate your sleep quality for the night of October 3rd, 2023? Would you say it was \"very good\", \"good\", \"okay\", \"bad\", or \"very bad\"?\n"
     ]
    },
    {
     "data": {
      "text/plain": [
       "False"
      ]
     },
     "execution_count": 23,
     "metadata": {},
     "output_type": "execute_result"
    }
   ],
   "source": [
    "x(\"10/03/2023\")"
   ]
  },
  {
   "cell_type": "code",
   "execution_count": 24,
   "id": "94236dfe-b2e0-4fcd-8fb1-31040d0ffadb",
   "metadata": {},
   "outputs": [
    {
     "name": "stdout",
     "output_type": "stream",
     "text": [
      "\n",
      "\n",
      "\u001b[1m> Entering new AgentExecutor chain...\u001b[0m\n",
      "\u001b[32;1m\u001b[1;3mThat's wonderful to hear, Chris. Now, could you please tell me what time you went to bed on the night of October 3rd, 2023?\u001b[0m\n",
      "\n",
      "\u001b[1m> Finished chain.\u001b[0m\n",
      "That's wonderful to hear, Chris. Now, could you please tell me what time you went to bed on the night of October 3rd, 2023?\n"
     ]
    },
    {
     "data": {
      "text/plain": [
       "False"
      ]
     },
     "execution_count": 24,
     "metadata": {},
     "output_type": "execute_result"
    }
   ],
   "source": [
    "x(\"very good\")"
   ]
  },
  {
   "cell_type": "code",
   "execution_count": 25,
   "id": "9b37faa2-7591-41ef-92ce-387ed75c030f",
   "metadata": {},
   "outputs": [
    {
     "name": "stdout",
     "output_type": "stream",
     "text": [
      "\n",
      "\n",
      "\u001b[1m> Entering new AgentExecutor chain...\u001b[0m\n",
      "\u001b[32;1m\u001b[1;3mThank you, Chris. And at what time did you try to fall asleep?\u001b[0m\n",
      "\n",
      "\u001b[1m> Finished chain.\u001b[0m\n",
      "Thank you, Chris. And at what time did you try to fall asleep?\n"
     ]
    },
    {
     "data": {
      "text/plain": [
       "False"
      ]
     },
     "execution_count": 25,
     "metadata": {},
     "output_type": "execute_result"
    }
   ],
   "source": [
    "x(\"in bed at 21:15\")"
   ]
  },
  {
   "cell_type": "code",
   "execution_count": 26,
   "id": "49c29411-0736-4f13-accb-a2889efe29c5",
   "metadata": {},
   "outputs": [
    {
     "name": "stdout",
     "output_type": "stream",
     "text": [
      "\n",
      "\n",
      "\u001b[1m> Entering new AgentExecutor chain...\u001b[0m\n",
      "\u001b[32;1m\u001b[1;3mThank you for sharing that, Chris. How long did it take you to fall asleep after you tried at 21:15?\u001b[0m\n",
      "\n",
      "\u001b[1m> Finished chain.\u001b[0m\n",
      "Thank you for sharing that, Chris. How long did it take you to fall asleep after you tried at 21:15?\n"
     ]
    },
    {
     "data": {
      "text/plain": [
       "False"
      ]
     },
     "execution_count": 26,
     "metadata": {},
     "output_type": "execute_result"
    }
   ],
   "source": [
    "x(\"21:15\")"
   ]
  },
  {
   "cell_type": "code",
   "execution_count": 27,
   "id": "a363e9ea-e172-4040-a864-16e446213a6e",
   "metadata": {},
   "outputs": [
    {
     "name": "stdout",
     "output_type": "stream",
     "text": [
      "\n",
      "\n",
      "\u001b[1m> Entering new AgentExecutor chain...\u001b[0m\n",
      "\u001b[32;1m\u001b[1;3mThat's quite quick, Chris. Now, how many times did you wake up during the night?\u001b[0m\n",
      "\n",
      "\u001b[1m> Finished chain.\u001b[0m\n",
      "That's quite quick, Chris. Now, how many times did you wake up during the night?\n"
     ]
    },
    {
     "data": {
      "text/plain": [
       "False"
      ]
     },
     "execution_count": 27,
     "metadata": {},
     "output_type": "execute_result"
    }
   ],
   "source": [
    "x(\"5 mins\")"
   ]
  },
  {
   "cell_type": "code",
   "execution_count": 28,
   "id": "21906ff3-9eb5-4150-811a-0de235385f1a",
   "metadata": {},
   "outputs": [
    {
     "name": "stdout",
     "output_type": "stream",
     "text": [
      "\n",
      "\n",
      "\u001b[1m> Entering new AgentExecutor chain...\u001b[0m\n",
      "\u001b[32;1m\u001b[1;3mI see, you woke up once. Can you tell me how long you were awake during the night?\u001b[0m\n",
      "\n",
      "\u001b[1m> Finished chain.\u001b[0m\n",
      "I see, you woke up once. Can you tell me how long you were awake during the night?\n"
     ]
    },
    {
     "data": {
      "text/plain": [
       "False"
      ]
     },
     "execution_count": 28,
     "metadata": {},
     "output_type": "execute_result"
    }
   ],
   "source": [
    "x(\"once\")"
   ]
  },
  {
   "cell_type": "code",
   "execution_count": 29,
   "id": "63b6b8fd-a5f5-4226-911f-ce73a86a1707",
   "metadata": {},
   "outputs": [
    {
     "name": "stdout",
     "output_type": "stream",
     "text": [
      "\n",
      "\n",
      "\u001b[1m> Entering new AgentExecutor chain...\u001b[0m\n",
      "\u001b[32;1m\u001b[1;3mThank you, Chris. Now, could you please tell me what time you finally woke up?\u001b[0m\n",
      "\n",
      "\u001b[1m> Finished chain.\u001b[0m\n",
      "Thank you, Chris. Now, could you please tell me what time you finally woke up?\n"
     ]
    },
    {
     "data": {
      "text/plain": [
       "False"
      ]
     },
     "execution_count": 29,
     "metadata": {},
     "output_type": "execute_result"
    }
   ],
   "source": [
    "x(\"5 mins\")"
   ]
  },
  {
   "cell_type": "code",
   "execution_count": 30,
   "id": "02935d17-4b46-4f9d-87f2-9675361dd116",
   "metadata": {},
   "outputs": [
    {
     "name": "stdout",
     "output_type": "stream",
     "text": [
      "\n",
      "\n",
      "\u001b[1m> Entering new AgentExecutor chain...\u001b[0m\n",
      "\u001b[32;1m\u001b[1;3mThank you for the information, Chris. So, you woke up at 6:30 and got out of bed immediately. \n",
      "\n",
      "Let's summarize your sleep diary entry for the night of October 3rd, 2023:\n",
      "\n",
      "- Sleep quality: Very good\n",
      "- Bedtime: 21:15\n",
      "- Time you tried to fall asleep: 21:15\n",
      "- Time it took to fall asleep: 5 minutes\n",
      "- Number of awakenings: Once\n",
      "- Total awake time during the night: 5 minutes\n",
      "- Final wake up time: 6:30\n",
      "- Time you got out of bed: 6:30\n",
      "\n",
      "To calculate your sleep efficiency, we consider the total time you spent in bed (from 21:15 to 6:30, which is 9 hours and 15 minutes or 555 minutes) and subtract the time it took you to fall asleep and the time you were awake during the night (5 minutes each, so 10 minutes total). This gives us 545 minutes of sleep. \n",
      "\n",
      "So, your sleep efficiency is (545/555)*100 = 98.2%\n",
      "\n",
      "Does this summary accurately reflect your sleep for the night of October 3rd, 2023?\u001b[0m\n",
      "\n",
      "\u001b[1m> Finished chain.\u001b[0m\n",
      "Thank you for the information, Chris. So, you woke up at 6:30 and got out of bed immediately. \n",
      "\n",
      "Let's summarize your sleep diary entry for the night of October 3rd, 2023:\n",
      "\n",
      "- Sleep quality: Very good\n",
      "- Bedtime: 21:15\n",
      "- Time you tried to fall asleep: 21:15\n",
      "- Time it took to fall asleep: 5 minutes\n",
      "- Number of awakenings: Once\n",
      "- Total awake time during the night: 5 minutes\n",
      "- Final wake up time: 6:30\n",
      "- Time you got out of bed: 6:30\n",
      "\n",
      "To calculate your sleep efficiency, we consider the total time you spent in bed (from 21:15 to 6:30, which is 9 hours and 15 minutes or 555 minutes) and subtract the time it took you to fall asleep and the time you were awake during the night (5 minutes each, so 10 minutes total). This gives us 545 minutes of sleep. \n",
      "\n",
      "So, your sleep efficiency is (545/555)*100 = 98.2%\n",
      "\n",
      "Does this summary accurately reflect your sleep for the night of October 3rd, 2023?\n"
     ]
    },
    {
     "data": {
      "text/plain": [
       "False"
      ]
     },
     "execution_count": 30,
     "metadata": {},
     "output_type": "execute_result"
    }
   ],
   "source": [
    "x(\"woke up at 6:30, got up right away\")"
   ]
  },
  {
   "cell_type": "code",
   "execution_count": null,
   "id": "62229df7-4c98-4c96-9da1-40110a880e8b",
   "metadata": {},
   "outputs": [
    {
     "name": "stdout",
     "output_type": "stream",
     "text": [
      "\n",
      "\n",
      "\u001b[1m> Entering new AgentExecutor chain...\u001b[0m\n",
      "\u001b[32;1m\u001b[1;3mThank you for the correction, Chris. So, you woke up at 6:45 and got out of bed immediately. \n",
      "\n",
      "Let's update your sleep diary entry for the night of October 3rd, 2023:\n",
      "\n",
      "- Sleep quality: Very good\n",
      "- Bedtime: 21:15\n",
      "- Time you tried to fall asleep: 21:15\n",
      "- Time it took to fall asleep: 5 minutes\n",
      "- Number of awakenings: Once\n",
      "- Total awake time during the night: 5 minutes\n",
      "- Final wake up time: 6:45\n",
      "- Time you got out of bed: 6:45\n",
      "\n",
      "Now, the total time you spent in bed is from 21:15 to 6:45, which is 9 hours and 30 minutes or 570 minutes. Subtracting the time it took you to fall asleep and the time you were awake during the night (10 minutes total), we get 560 minutes of sleep. \n",
      "\n",
      "So, your updated sleep efficiency is (560/570)*100 = 98.2%\n",
      "\n",
      "Does this updated summary accurately reflect your sleep for the night of October 3rd, 2023?\u001b[0m\n",
      "\n",
      "\u001b[1m> Finished chain.\u001b[0m\n",
      "Thank you for the correction, Chris. So, you woke up at 6:45 and got out of bed immediately. \n",
      "\n",
      "Let's update your sleep diary entry for the night of October 3rd, 2023:\n",
      "\n",
      "- Sleep quality: Very good\n",
      "- Bedtime: 21:15\n",
      "- Time you tried to fall asleep: 21:15\n",
      "- Time it took to fall asleep: 5 minutes\n",
      "- Number of awakenings: Once\n",
      "- Total awake time during the night: 5 minutes\n",
      "- Final wake up time: 6:45\n",
      "- Time you got out of bed: 6:45\n",
      "\n",
      "Now, the total time you spent in bed is from 21:15 to 6:45, which is 9 hours and 30 minutes or 570 minutes. Subtracting the time it took you to fall asleep and the time you were awake during the night (10 minutes total), we get 560 minutes of sleep. \n",
      "\n",
      "So, your updated sleep efficiency is (560/570)*100 = 98.2%\n",
      "\n",
      "Does this updated summary accurately reflect your sleep for the night of October 3rd, 2023?\n"
     ]
    }
   ],
   "source": [
    "x(\"actually no I woke at 6:45\")"
   ]
  },
  {
   "cell_type": "code",
   "execution_count": null,
   "id": "7aba3be6-505e-4ea0-89b8-4e3da391abb1",
   "metadata": {},
   "outputs": [],
   "source": [
    "x(\"yep!\")"
   ]
  },
  {
   "cell_type": "code",
   "execution_count": null,
   "id": "b4fe53e4-616a-4f38-974c-beba229b2887",
   "metadata": {},
   "outputs": [],
   "source": [
    "x(\"is my sleep efficiency any good?\")"
   ]
  },
  {
   "cell_type": "markdown",
   "id": "63998458-9a27-4625-9582-c38d692484e5",
   "metadata": {
    "jp-MarkdownHeadingCollapsed": true
   },
   "source": [
    "# Insomnia Severity Index (ISI)"
   ]
  },
  {
   "cell_type": "code",
   "execution_count": 25,
   "id": "e7788582-abe5-4638-ad85-5476ed9eefa5",
   "metadata": {},
   "outputs": [],
   "source": [
    "from sleepmate.isi import ISI_GOAL_PROMPTS\n",
    "x = X(SYSTEM_DESCRIPTION, ISI_GOAL_PROMPTS[0], memory=x.agent_executor.memory)"
   ]
  },
  {
   "cell_type": "code",
   "execution_count": 26,
   "id": "51d904f6-3140-4ddd-afc0-6fdcc99dfc17",
   "metadata": {},
   "outputs": [
    {
     "name": "stdout",
     "output_type": "stream",
     "text": [
      "\n",
      "\n",
      "\u001b[1m> Entering new AgentExecutor chain...\u001b[0m\n",
      "\u001b[32;1m\u001b[1;3mHello Chris! How are you feeling today? If you're up for it, I'd like to ask you some questions to assess your Insomnia Severity Index (ISI). Is now a good time for that?\u001b[0m\n",
      "\n",
      "\u001b[1m> Finished chain.\u001b[0m\n",
      "Hello Chris! How are you feeling today? If you're up for it, I'd like to ask you some questions to assess your Insomnia Severity Index (ISI). Is now a good time for that?\n"
     ]
    },
    {
     "data": {
      "text/plain": [
       "False"
      ]
     },
     "execution_count": 26,
     "metadata": {},
     "output_type": "execute_result"
    }
   ],
   "source": [
    "x(\"hey\")"
   ]
  },
  {
   "cell_type": "code",
   "execution_count": 27,
   "id": "2a3b2ef6-1764-4969-adb3-e14127b315c4",
   "metadata": {},
   "outputs": [
    {
     "name": "stdout",
     "output_type": "stream",
     "text": [
      "\n",
      "\n",
      "\u001b[1m> Entering new AgentExecutor chain...\u001b[0m\n",
      "\u001b[32;1m\u001b[1;3mGreat, let's get started. I'll be asking you a series of questions, and your responses will be rated on a scale. Here's the first question:\n",
      "\n",
      "1. Over the past two weeks, how severe has your difficulty falling asleep been? Please rate it on a scale from 0 to 4, where 0 is no difficulty, 1 is mild difficulty, 2 is moderate difficulty, 3 is severe difficulty, and 4 is very severe difficulty.\u001b[0m\n",
      "\n",
      "\u001b[1m> Finished chain.\u001b[0m\n",
      "Great, let's get started. I'll be asking you a series of questions, and your responses will be rated on a scale. Here's the first question:\n",
      "\n",
      "1. Over the past two weeks, how severe has your difficulty falling asleep been? Please rate it on a scale from 0 to 4, where 0 is no difficulty, 1 is mild difficulty, 2 is moderate difficulty, 3 is severe difficulty, and 4 is very severe difficulty.\n"
     ]
    },
    {
     "data": {
      "text/plain": [
       "False"
      ]
     },
     "execution_count": 27,
     "metadata": {},
     "output_type": "execute_result"
    }
   ],
   "source": [
    "x(\"sure\")"
   ]
  },
  {
   "cell_type": "code",
   "execution_count": 28,
   "id": "03e3cc9d-5094-47da-b54c-295e08297966",
   "metadata": {},
   "outputs": [
    {
     "name": "stdout",
     "output_type": "stream",
     "text": [
      "\n",
      "\n",
      "\u001b[1m> Entering new AgentExecutor chain...\u001b[0m\n",
      "\u001b[32;1m\u001b[1;3mThank you for your response, Chris. Let's move on to the next question:\n",
      "\n",
      "2. Over the past two weeks, how severe has your difficulty staying asleep been? Please rate it on a scale from 0 to 4, where 0 is no difficulty, 1 is mild difficulty, 2 is moderate difficulty, 3 is severe difficulty, and 4 is very severe difficulty.\u001b[0m\n",
      "\n",
      "\u001b[1m> Finished chain.\u001b[0m\n",
      "Thank you for your response, Chris. Let's move on to the next question:\n",
      "\n",
      "2. Over the past two weeks, how severe has your difficulty staying asleep been? Please rate it on a scale from 0 to 4, where 0 is no difficulty, 1 is mild difficulty, 2 is moderate difficulty, 3 is severe difficulty, and 4 is very severe difficulty.\n"
     ]
    },
    {
     "data": {
      "text/plain": [
       "False"
      ]
     },
     "execution_count": 28,
     "metadata": {},
     "output_type": "execute_result"
    }
   ],
   "source": [
    "x(\"0\")"
   ]
  },
  {
   "cell_type": "code",
   "execution_count": 29,
   "id": "057f7b56-a054-4417-a8d4-aa95ec5b4ac1",
   "metadata": {},
   "outputs": [
    {
     "name": "stdout",
     "output_type": "stream",
     "text": [
      "\n",
      "\n",
      "\u001b[1m> Entering new AgentExecutor chain...\u001b[0m\n",
      "\u001b[32;1m\u001b[1;3mThank you, Chris. Now, let's proceed to the third question:\n",
      "\n",
      "3. Over the past two weeks, how severe have your problems waking up too early been? Please rate it on a scale from 0 to 4, where 0 is no problem, 1 is a mild problem, 2 is a moderate problem, 3 is a severe problem, and 4 is a very severe problem.\u001b[0m\n",
      "\n",
      "\u001b[1m> Finished chain.\u001b[0m\n",
      "Thank you, Chris. Now, let's proceed to the third question:\n",
      "\n",
      "3. Over the past two weeks, how severe have your problems waking up too early been? Please rate it on a scale from 0 to 4, where 0 is no problem, 1 is a mild problem, 2 is a moderate problem, 3 is a severe problem, and 4 is a very severe problem.\n"
     ]
    },
    {
     "data": {
      "text/plain": [
       "False"
      ]
     },
     "execution_count": 29,
     "metadata": {},
     "output_type": "execute_result"
    }
   ],
   "source": [
    "x(\"1\")"
   ]
  },
  {
   "cell_type": "code",
   "execution_count": 30,
   "id": "083e0f45-710f-4ac2-9c2c-495d4de21585",
   "metadata": {},
   "outputs": [
    {
     "name": "stdout",
     "output_type": "stream",
     "text": [
      "\n",
      "\n",
      "\u001b[1m> Entering new AgentExecutor chain...\u001b[0m\n",
      "\u001b[32;1m\u001b[1;3mThank you, Chris. Now, let's move on to the fourth question:\n",
      "\n",
      "4. Over the past two weeks, how satisfied or dissatisfied have you been with your current sleep pattern? Please rate it on a scale from 0 to 4, where 0 is very satisfied, 1 is satisfied, 2 is moderately satisfied, 3 is dissatisfied, and 4 is very dissatisfied.\u001b[0m\n",
      "\n",
      "\u001b[1m> Finished chain.\u001b[0m\n",
      "Thank you, Chris. Now, let's move on to the fourth question:\n",
      "\n",
      "4. Over the past two weeks, how satisfied or dissatisfied have you been with your current sleep pattern? Please rate it on a scale from 0 to 4, where 0 is very satisfied, 1 is satisfied, 2 is moderately satisfied, 3 is dissatisfied, and 4 is very dissatisfied.\n"
     ]
    },
    {
     "data": {
      "text/plain": [
       "False"
      ]
     },
     "execution_count": 30,
     "metadata": {},
     "output_type": "execute_result"
    }
   ],
   "source": [
    "x(\"0\")"
   ]
  },
  {
   "cell_type": "code",
   "execution_count": 31,
   "id": "688142a4-9e5b-465d-bc52-7795eddaf213",
   "metadata": {},
   "outputs": [
    {
     "name": "stdout",
     "output_type": "stream",
     "text": [
      "\n",
      "\n",
      "\u001b[1m> Entering new AgentExecutor chain...\u001b[0m\n",
      "\u001b[32;1m\u001b[1;3mThank you, Chris. Now, let's proceed to the fifth question:\n",
      "\n",
      "5. Over the past two weeks, how noticeable to others do you think your sleep problem has been in terms of impairing the quality of your life? Please rate it on a scale from 0 to 4, where 0 is not at all noticeable, 1 is a little bit noticeable, 2 is moderately noticeable, 3 is quite a bit noticeable, and 4 is very much noticeable.\u001b[0m\n",
      "\n",
      "\u001b[1m> Finished chain.\u001b[0m\n",
      "Thank you, Chris. Now, let's proceed to the fifth question:\n",
      "\n",
      "5. Over the past two weeks, how noticeable to others do you think your sleep problem has been in terms of impairing the quality of your life? Please rate it on a scale from 0 to 4, where 0 is not at all noticeable, 1 is a little bit noticeable, 2 is moderately noticeable, 3 is quite a bit noticeable, and 4 is very much noticeable.\n"
     ]
    },
    {
     "data": {
      "text/plain": [
       "False"
      ]
     },
     "execution_count": 31,
     "metadata": {},
     "output_type": "execute_result"
    }
   ],
   "source": [
    "x(\"0\")"
   ]
  },
  {
   "cell_type": "code",
   "execution_count": 32,
   "id": "f93375c1-8fdf-45f7-86dc-8cd5be66b526",
   "metadata": {},
   "outputs": [
    {
     "name": "stdout",
     "output_type": "stream",
     "text": [
      "\n",
      "\n",
      "\u001b[1m> Entering new AgentExecutor chain...\u001b[0m\n",
      "\u001b[32;1m\u001b[1;3mThank you, Chris. Now, let's move on to the sixth question:\n",
      "\n",
      "6. Over the past two weeks, how worried or distressed have you been about your current sleep problem? Please rate it on a scale from 0 to 4, where 0 is not at all worried, 1 is a little bit worried, 2 is moderately worried, 3 is quite a bit worried, and 4 is very much worried.\u001b[0m\n",
      "\n",
      "\u001b[1m> Finished chain.\u001b[0m\n",
      "Thank you, Chris. Now, let's move on to the sixth question:\n",
      "\n",
      "6. Over the past two weeks, how worried or distressed have you been about your current sleep problem? Please rate it on a scale from 0 to 4, where 0 is not at all worried, 1 is a little bit worried, 2 is moderately worried, 3 is quite a bit worried, and 4 is very much worried.\n"
     ]
    },
    {
     "data": {
      "text/plain": [
       "False"
      ]
     },
     "execution_count": 32,
     "metadata": {},
     "output_type": "execute_result"
    }
   ],
   "source": [
    "x(\"0\")"
   ]
  },
  {
   "cell_type": "code",
   "execution_count": 33,
   "id": "57307c46-ef95-416e-bf24-42a25ad93da9",
   "metadata": {},
   "outputs": [
    {
     "name": "stdout",
     "output_type": "stream",
     "text": [
      "\n",
      "\n",
      "\u001b[1m> Entering new AgentExecutor chain...\u001b[0m\n",
      "\u001b[32;1m\u001b[1;3mThank you, Chris. Now, let's proceed to the final question:\n",
      "\n",
      "7. Over the past two weeks, to what extent do you consider your sleep problem to interfere with your daily functioning (e.g., daytime fatigue, ability to function at work/daily chores, concentration, memory, mood, etc.)? Please rate it on a scale from 0 to 4, where 0 is not at all interfering, 1 is a little bit interfering, 2 is moderately interfering, 3 is quite a bit interfering, and 4 is very much interfering.\u001b[0m\n",
      "\n",
      "\u001b[1m> Finished chain.\u001b[0m\n",
      "Thank you, Chris. Now, let's proceed to the final question:\n",
      "\n",
      "7. Over the past two weeks, to what extent do you consider your sleep problem to interfere with your daily functioning (e.g., daytime fatigue, ability to function at work/daily chores, concentration, memory, mood, etc.)? Please rate it on a scale from 0 to 4, where 0 is not at all interfering, 1 is a little bit interfering, 2 is moderately interfering, 3 is quite a bit interfering, and 4 is very much interfering.\n"
     ]
    },
    {
     "data": {
      "text/plain": [
       "False"
      ]
     },
     "execution_count": 33,
     "metadata": {},
     "output_type": "execute_result"
    }
   ],
   "source": [
    "x(\"0\")"
   ]
  },
  {
   "cell_type": "code",
   "execution_count": 34,
   "id": "7ec9b886-5ec0-4084-90e9-79d4d41483fa",
   "metadata": {},
   "outputs": [
    {
     "name": "stdout",
     "output_type": "stream",
     "text": [
      "\n",
      "\n",
      "\u001b[1m> Entering new AgentExecutor chain...\u001b[0m\n",
      "\u001b[32;1m\u001b[1;3mThank you, Chris. Let's summarize your responses:\n",
      "\n",
      "1. Difficulty falling asleep: 0\n",
      "2. Difficulty staying asleep: 1\n",
      "3. Problems waking up too early: 0\n",
      "4. Satisfaction with current sleep pattern: 0\n",
      "5. Noticeability of sleep problem: 0\n",
      "6. Worries about sleep problem: 0\n",
      "7. Interference of sleep problem with daily functioning: 0\n",
      "\n",
      "So, your total score is 1. According to the Insomnia Severity Index, a score of 1 falls into the category of \"No clinically significant insomnia\". \n",
      "\n",
      "Does this summary accurately reflect your responses?\u001b[0m\n",
      "\n",
      "\u001b[1m> Finished chain.\u001b[0m\n",
      "Thank you, Chris. Let's summarize your responses:\n",
      "\n",
      "1. Difficulty falling asleep: 0\n",
      "2. Difficulty staying asleep: 1\n",
      "3. Problems waking up too early: 0\n",
      "4. Satisfaction with current sleep pattern: 0\n",
      "5. Noticeability of sleep problem: 0\n",
      "6. Worries about sleep problem: 0\n",
      "7. Interference of sleep problem with daily functioning: 0\n",
      "\n",
      "So, your total score is 1. According to the Insomnia Severity Index, a score of 1 falls into the category of \"No clinically significant insomnia\". \n",
      "\n",
      "Does this summary accurately reflect your responses?\n"
     ]
    },
    {
     "data": {
      "text/plain": [
       "False"
      ]
     },
     "execution_count": 34,
     "metadata": {},
     "output_type": "execute_result"
    }
   ],
   "source": [
    "x(\"0\")"
   ]
  },
  {
   "cell_type": "code",
   "execution_count": 35,
   "id": "7f357c1a-3625-4117-91d4-49d24b7adc99",
   "metadata": {},
   "outputs": [
    {
     "name": "stdout",
     "output_type": "stream",
     "text": [
      "\n",
      "\n",
      "\u001b[1m> Entering new AgentExecutor chain...\u001b[0m\n",
      "\u001b[32;1m\u001b[1;3mGreat! I'm glad we got all the details correct. Thank you for taking the time to complete the Insomnia Severity Index questionnaire, Chris. This information can be very helpful in understanding and improving your sleep patterns. If you have any more questions or need further assistance, feel free to ask. 🚀🚀🚀\u001b[0m\n",
      "\n",
      "\u001b[1m> Finished chain.\u001b[0m\n",
      "Great! I'm glad we got all the details correct. Thank you for taking the time to complete the Insomnia Severity Index questionnaire, Chris. This information can be very helpful in understanding and improving your sleep patterns. If you have any more questions or need further assistance, feel free to ask. 🚀🚀🚀\n"
     ]
    },
    {
     "data": {
      "text/plain": [
       "True"
      ]
     },
     "execution_count": 35,
     "metadata": {},
     "output_type": "execute_result"
    }
   ],
   "source": [
    "x(\"yep!\")"
   ]
  },
  {
   "cell_type": "code",
   "execution_count": null,
   "id": "8dd3900e-1746-41b4-9c80-9a91aab4314a",
   "metadata": {},
   "outputs": [],
   "source": []
  }
 ],
 "metadata": {
  "kernelspec": {
   "display_name": "Python 3 (ipykernel)",
   "language": "python",
   "name": "python3"
  },
  "language_info": {
   "codemirror_mode": {
    "name": "ipython",
    "version": 3
   },
   "file_extension": ".py",
   "mimetype": "text/x-python",
   "name": "python",
   "nbconvert_exporter": "python",
   "pygments_lexer": "ipython3",
   "version": "3.11.5"
  }
 },
 "nbformat": 4,
 "nbformat_minor": 5
}
