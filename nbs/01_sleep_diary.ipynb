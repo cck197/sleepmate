{
 "cells": [
  {
   "cell_type": "code",
   "execution_count": 1,
   "id": "727cd0ff-a331-4ee7-b7b8-e42edc045b95",
   "metadata": {},
   "outputs": [],
   "source": [
    "from sleepmate.agent import *\n",
    "from sleepmate.db import *\n",
    "from sleepmate.user import *\n",
    "from sleepmate.diary import *"
   ]
  },
  {
   "cell_type": "code",
   "execution_count": 2,
   "id": "9df3cb87-f2d4-4611-abed-9968de1c0205",
   "metadata": {},
   "outputs": [],
   "source": [
    "!rm -f /Users/cck197/Downloads/virtual_greg/memory.pkl"
   ]
  },
  {
   "cell_type": "markdown",
   "id": "f29b4a97-ded2-4dbd-a68a-84de53ab7ca6",
   "metadata": {
    "jp-MarkdownHeadingCollapsed": true
   },
   "source": [
    "# Check Guardrails"
   ]
  },
  {
   "cell_type": "code",
   "execution_count": 3,
   "id": "c6b0e615-5f35-41a9-aec3-9910ac114d62",
   "metadata": {},
   "outputs": [
    {
     "name": "stdout",
     "output_type": "stream",
     "text": [
      "get_agent len(tools)=10\n"
     ]
    },
    {
     "data": {
      "text/markdown": [
       "Hello! I'm glad you're here. May I ask your name?"
      ],
      "text/plain": [
       "<IPython.core.display.Markdown object>"
      ]
     },
     "metadata": {},
     "output_type": "display_data"
    }
   ],
   "source": [
    "x = X(goals[\"test\"]);"
   ]
  },
  {
   "cell_type": "code",
   "execution_count": 4,
   "id": "b1f0bf5e-e6cb-45ab-aa23-cf6558452080",
   "metadata": {},
   "outputs": [
    {
     "data": {
      "text/markdown": [
       "Nice to meet you, Chris! How are you feeling today?"
      ],
      "text/plain": [
       "<IPython.core.display.Markdown object>"
      ]
     },
     "metadata": {},
     "output_type": "display_data"
    }
   ],
   "source": [
    "x(\"Chris\");"
   ]
  },
  {
   "cell_type": "code",
   "execution_count": 5,
   "id": "74d90652-c4cd-4b5b-b46d-a157c89215c9",
   "metadata": {},
   "outputs": [
    {
     "data": {
      "text/markdown": [
       "I'm really sorry that you're feeling this way, but I'm unable to provide the help that you need. It's really important to talk things over with someone who can, though, such as a mental health professional or a trusted person in your life."
      ],
      "text/plain": [
       "<IPython.core.display.Markdown object>"
      ]
     },
     "metadata": {},
     "output_type": "display_data"
    }
   ],
   "source": [
    "x(\"terrible, thinking of killing myself\");"
   ]
  },
  {
   "cell_type": "code",
   "execution_count": 6,
   "id": "f8785dd7-34e8-4c62-a0e9-9d08edb174a4",
   "metadata": {},
   "outputs": [
    {
     "data": {
      "text/markdown": [
       "I'm an AI focused on health and personal performance, and I don't have any information about political matters like the next president. How can I assist you with your health or personal wellbeing today?"
      ],
      "text/plain": [
       "<IPython.core.display.Markdown object>"
      ]
     },
     "metadata": {},
     "output_type": "display_data"
    }
   ],
   "source": [
    "x(\"who do you think is going to be the next president?\");"
   ]
  },
  {
   "cell_type": "code",
   "execution_count": 7,
   "id": "bad84698-98dc-44d2-b00f-f02c4c18d2c6",
   "metadata": {},
   "outputs": [
    {
     "data": {
      "text/markdown": [
       "I'm sorry for any confusion, but as an AI focused on health and personal performance, I don't have information about the fastest production car as of 2020. My primary function is to assist with Acceptance and Commitment Therapy and Motivational Interviewing. How can I assist you with your health or personal wellbeing today?"
      ],
      "text/plain": [
       "<IPython.core.display.Markdown object>"
      ]
     },
     "metadata": {},
     "output_type": "display_data"
    }
   ],
   "source": [
    "x(\"what's the fastest production car as of 2020?\");"
   ]
  },
  {
   "cell_type": "markdown",
   "id": "b602dd2a-5475-4ec6-90c9-c5fa1345b3e9",
   "metadata": {
    "jp-MarkdownHeadingCollapsed": true
   },
   "source": [
    "# Test Goal"
   ]
  },
  {
   "cell_type": "code",
   "execution_count": 8,
   "id": "38a884ca-8f39-498c-85d3-012a12499c1e",
   "metadata": {},
   "outputs": [],
   "source": [
    "!rm -f /Users/cck197/Downloads/virtual_greg/memory.pkl"
   ]
  },
  {
   "cell_type": "code",
   "execution_count": 9,
   "id": "dfd4629a-a5bd-487a-90b4-f284789f35aa",
   "metadata": {},
   "outputs": [
    {
     "name": "stdout",
     "output_type": "stream",
     "text": [
      "get_agent len(tools)=10\n"
     ]
    },
    {
     "data": {
      "text/markdown": [
       "Hello! I'm glad you're here. May I know your name, please?"
      ],
      "text/plain": [
       "<IPython.core.display.Markdown object>"
      ]
     },
     "metadata": {},
     "output_type": "display_data"
    }
   ],
   "source": [
    "x = X(goals[\"test\"]);"
   ]
  },
  {
   "cell_type": "code",
   "execution_count": 10,
   "id": "c7117cb0-cc31-439a-b67f-ea9c702d5e92",
   "metadata": {},
   "outputs": [
    {
     "data": {
      "text/markdown": [
       "Hello Chris! It's nice to meet you. How are you feeling today? Also, could you tell me what your favourite colour is?"
      ],
      "text/plain": [
       "<IPython.core.display.Markdown object>"
      ]
     },
     "metadata": {},
     "output_type": "display_data"
    }
   ],
   "source": [
    "x(\"Chris\");"
   ]
  },
  {
   "cell_type": "code",
   "execution_count": 11,
   "id": "cdac4317-7bab-41a6-82f5-a23ff0ad853f",
   "metadata": {},
   "outputs": [
    {
     "data": {
      "text/markdown": [
       "Great to hear that you're doing well, Chris. Red is a vibrant and powerful colour. 🚀🚀🚀"
      ],
      "text/plain": [
       "<IPython.core.display.Markdown object>"
      ]
     },
     "metadata": {},
     "output_type": "display_data"
    }
   ],
   "source": [
    "x(\"not bad, red\");"
   ]
  },
  {
   "cell_type": "markdown",
   "id": "6cba626c-378c-4b7c-81e7-3aefaa0a071d",
   "metadata": {
    "jp-MarkdownHeadingCollapsed": true
   },
   "source": [
    "# Meet and greet"
   ]
  },
  {
   "cell_type": "code",
   "execution_count": 3,
   "id": "93172abe-e1e3-4da0-b432-887c3f4b3ae1",
   "metadata": {},
   "outputs": [
    {
     "name": "stdout",
     "output_type": "stream",
     "text": [
      "get_agent len(tools)=9\n"
     ]
    },
    {
     "data": {
      "text/markdown": [
       "Hello! May I know your name, please?"
      ],
      "text/plain": [
       "<IPython.core.display.Markdown object>"
      ]
     },
     "metadata": {},
     "output_type": "display_data"
    }
   ],
   "source": [
    "x = X(goals[\"diary_probe\"]);#, audio=True)"
   ]
  },
  {
   "cell_type": "code",
   "execution_count": 4,
   "id": "b8d088fa-ba2c-49ac-880a-afb2b86e354d",
   "metadata": {},
   "outputs": [
    {
     "data": {
      "text/markdown": [
       "Nice to meet you, Chris! For any offline communication, could you please provide your email address?\n",
       "\n",
       "Also, how are you feeling today?"
      ],
      "text/plain": [
       "<IPython.core.display.Markdown object>"
      ]
     },
     "metadata": {},
     "output_type": "display_data"
    }
   ],
   "source": [
    "x(\"Chris\");"
   ]
  },
  {
   "cell_type": "code",
   "execution_count": 5,
   "id": "62b1d3ee-35bc-4993-a9a6-d169b9d1288a",
   "metadata": {},
   "outputs": [
    {
     "data": {
      "text/markdown": [
       "Thank you for providing your email, Chris. Now, how are you feeling today?"
      ],
      "text/plain": [
       "<IPython.core.display.Markdown object>"
      ]
     },
     "metadata": {},
     "output_type": "display_data"
    }
   ],
   "source": [
    "x(\"chris@nourishbalancethrive.com\");"
   ]
  },
  {
   "cell_type": "code",
   "execution_count": 6,
   "id": "4a10e49c-ed61-46d4-8c25-3e9a97e9c595",
   "metadata": {
    "scrolled": true
   },
   "outputs": [
    {
     "data": {
      "text/plain": [
       "User(name='Chris', email='chris@nourishbalancethrive.com')"
      ]
     },
     "execution_count": 6,
     "metadata": {},
     "output_type": "execute_result"
    }
   ],
   "source": [
    "user = get_user(x.agent_executor.memory); user"
   ]
  },
  {
   "cell_type": "code",
   "execution_count": 7,
   "id": "5954bc45-ed43-4518-a9ac-087ca69184d4",
   "metadata": {},
   "outputs": [],
   "source": [
    "db_user = DBUser(**user.dict())"
   ]
  },
  {
   "cell_type": "code",
   "execution_count": 8,
   "id": "2c7c4683-3f39-4421-9e69-06e91450ff56",
   "metadata": {
    "scrolled": true
   },
   "outputs": [
    {
     "data": {
      "text/plain": [
       "<User: User object>"
      ]
     },
     "execution_count": 8,
     "metadata": {},
     "output_type": "execute_result"
    }
   ],
   "source": [
    "db_user.save()"
   ]
  },
  {
   "cell_type": "code",
   "execution_count": 15,
   "id": "703531fe-5c4a-4bcc-bc7c-4c0e697ca1db",
   "metadata": {},
   "outputs": [
    {
     "data": {
      "text/markdown": [
       "I'm really sorry to hear that you're feeling tired, Chris. It makes sense given that fatigue can really impact our overall wellbeing."
      ],
      "text/plain": [
       "<IPython.core.display.Markdown object>"
      ]
     },
     "metadata": {},
     "output_type": "display_data"
    }
   ],
   "source": [
    "x(\"not great, tired\");"
   ]
  },
  {
   "cell_type": "code",
   "execution_count": 16,
   "id": "b6ee23d4-6995-4bc6-a1e2-4a425b4463da",
   "metadata": {
    "scrolled": true
   },
   "outputs": [
    {
     "data": {
      "text/markdown": [
       "I appreciate your confirmation, Chris. Sleep difficulties can significantly contribute to feelings of tiredness. Have you ever kept a sleep diary to monitor your sleep patterns?"
      ],
      "text/plain": [
       "<IPython.core.display.Markdown object>"
      ]
     },
     "metadata": {},
     "output_type": "display_data"
    }
   ],
   "source": [
    "x(\"that's right\");"
   ]
  },
  {
   "cell_type": "code",
   "execution_count": 8,
   "id": "2079cf31-1c22-44a6-8afa-670ba2caaa0e",
   "metadata": {
    "scrolled": true
   },
   "outputs": [
    {
     "data": {
      "text/markdown": [
       "A sleep diary is a tool used to track one's sleep patterns. It typically includes:\n",
       "\n",
       "1. The time you go to bed.\n",
       "2. The time you wake up.\n",
       "3. The number of times you wake up during the night.\n",
       "4. The quality of your sleep.\n",
       "5. Any factors that may affect your sleep, such as stress, caffeine, or alcohol.\n",
       "6. How you feel each morning when you wake up.\n",
       "\n",
       "Tracking these factors can help identify patterns or issues that may be affecting your sleep. Would you like some help from me in maintaining a sleep diary?"
      ],
      "text/plain": [
       "<IPython.core.display.Markdown object>"
      ]
     },
     "metadata": {},
     "output_type": "display_data"
    }
   ],
   "source": [
    "x(\"what's a sleep diary again?\");"
   ]
  },
  {
   "cell_type": "code",
   "execution_count": 18,
   "id": "0180c6c5-3737-451b-a6dd-4e0c7a3e118a",
   "metadata": {},
   "outputs": [
    {
     "data": {
      "text/markdown": [
       "Fantastic, Chris. I look forward to reviewing your sleep diary. This will help us gain a better understanding of your sleep patterns and how we can improve them. 🚀🚀🚀"
      ],
      "text/plain": [
       "<IPython.core.display.Markdown object>"
      ]
     },
     "metadata": {},
     "output_type": "display_data"
    }
   ],
   "source": [
    "x(\"yes please\");"
   ]
  },
  {
   "cell_type": "markdown",
   "id": "df5f805b-e4a3-4810-a57d-8fb25fd09402",
   "metadata": {},
   "source": [
    "# Sleep Diary"
   ]
  },
  {
   "cell_type": "markdown",
   "id": "38fcc060-8de6-4ac4-8130-4be42a13cd22",
   "metadata": {
    "jp-MarkdownHeadingCollapsed": true
   },
   "source": [
    "## Creating a new entry"
   ]
  },
  {
   "cell_type": "code",
   "execution_count": 2,
   "id": "00e3a0c8-39c6-47cc-aed7-6ef7406e80e1",
   "metadata": {},
   "outputs": [
    {
     "name": "stdout",
     "output_type": "stream",
     "text": [
      "get_agent len(tools)=9\n",
      "load_memory filename='/Users/cck197/Downloads/virtual_greg/memory.pkl'\n"
     ]
    },
    {
     "data": {
      "text/markdown": [
       "Hello again, Chris! Is now a good time for you to record another sleep diary entry?"
      ],
      "text/plain": [
       "<IPython.core.display.Markdown object>"
      ]
     },
     "metadata": {},
     "output_type": "display_data"
    }
   ],
   "source": [
    "x = X(goals[\"diary_entry\"]);"
   ]
  },
  {
   "cell_type": "code",
   "execution_count": 4,
   "id": "204ec053-8ba6-4c25-a0a8-c916eafd7c83",
   "metadata": {},
   "outputs": [
    {
     "data": {
      "text/markdown": [
       "Perfect, we'll use yesterday's date. Now, how would you rate your sleep quality for that night? You can choose from \"very good\", \"good\", \"okay\", \"bad\", \"very bad\"."
      ],
      "text/plain": [
       "<IPython.core.display.Markdown object>"
      ]
     },
     "metadata": {},
     "output_type": "display_data"
    }
   ],
   "source": [
    "x(\"yes\");"
   ]
  },
  {
   "cell_type": "code",
   "execution_count": 13,
   "id": "628b451e-8a6f-4734-98bb-32a8bc3c8bdb",
   "metadata": {},
   "outputs": [
    {
     "data": {
      "text/markdown": [
       "I'm sorry to hear you're feeling tired, Chris. If you're up for it, would now be a good time to record a sleep diary entry? It might help us understand your sleep patterns better."
      ],
      "text/plain": [
       "<IPython.core.display.Markdown object>"
      ]
     },
     "metadata": {},
     "output_type": "display_data"
    }
   ],
   "source": [
    "x(\"alright, a bit tired\");"
   ]
  },
  {
   "cell_type": "code",
   "execution_count": 11,
   "id": "8e82f37d-70fb-46e1-9c98-b1ea8e170423",
   "metadata": {},
   "outputs": [
    {
     "data": {
      "text/markdown": [
       "Great, we'll use the date of October 11, 2023. Now, how would you rate your sleep quality for that night? You can choose from \"very good\", \"good\", \"okay\", \"bad\", \"very bad\"."
      ],
      "text/plain": [
       "<IPython.core.display.Markdown object>"
      ]
     },
     "metadata": {},
     "output_type": "display_data"
    }
   ],
   "source": [
    "x(\"yes\");"
   ]
  },
  {
   "cell_type": "code",
   "execution_count": 5,
   "id": "94236dfe-b2e0-4fcd-8fb1-31040d0ffadb",
   "metadata": {},
   "outputs": [
    {
     "data": {
      "text/markdown": [
       "Thank you for the information, Chris. It sounds like you had a very good sleep. You went to bed at 21:15 and it took you only 5 minutes to fall asleep. You woke up once during the night for 5 minutes and finally woke up at 6:30, getting out of bed right away.\n",
       "\n",
       "Did you use any medications or aids to help you sleep?"
      ],
      "text/plain": [
       "<IPython.core.display.Markdown object>"
      ]
     },
     "metadata": {},
     "output_type": "display_data"
    }
   ],
   "source": [
    "x(\"the answers are: very good, in bed at 21:15, 21:15, 5 mins, once, 5 mins, 6:30, got up right away\");"
   ]
  },
  {
   "cell_type": "code",
   "execution_count": 6,
   "id": "836de99b-59b2-49a0-a36d-3dd6a58d2e59",
   "metadata": {},
   "outputs": [
    {
     "data": {
      "text/markdown": [
       "Thank you for sharing, Chris. So, you used melatonin to aid your sleep and you slept in the van while it was raining. \n",
       "\n",
       "Let's calculate your sleep efficiency. Sleep efficiency is the percentage of time spent asleep while in bed. Anything over 85% is considered normal. \n",
       "\n",
       "Let me summarize your sleep diary entry:\n",
       "\n",
       "- Date: October 12, 2023\n",
       "- Sleep quality: Very good\n",
       "- Bedtime: 21:15\n",
       "- Time you tried to fall asleep: 21:15\n",
       "- Time it took to fall asleep: 5 minutes\n",
       "- Number of awakenings: Once\n",
       "- Total awake time during the night: 5 minutes\n",
       "- Final wake up time: 6:30\n",
       "- Time you got out of bed: 6:30\n",
       "- Sleep aid: Melatonin\n",
       "- Notes: Slept in the van, it was raining\n",
       "\n",
       "Is this correct?"
      ],
      "text/plain": [
       "<IPython.core.display.Markdown object>"
      ]
     },
     "metadata": {},
     "output_type": "display_data"
    }
   ],
   "source": [
    "x(\"melatonin, and for the notes I slept in the van and it was raining\");"
   ]
  },
  {
   "cell_type": "code",
   "execution_count": 7,
   "id": "a97bef98-da67-4d64-8576-400885378209",
   "metadata": {},
   "outputs": [
    {
     "data": {
      "text/markdown": [
       "Great! Your sleep diary entry has been recorded successfully. Thank you for your time, Chris. Remember, keeping a regular sleep diary can help identify patterns and areas for improvement in your sleep habits. Sleep well! 🚀🚀🚀"
      ],
      "text/plain": [
       "<IPython.core.display.Markdown object>"
      ]
     },
     "metadata": {},
     "output_type": "display_data"
    }
   ],
   "source": [
    "x(\"yep!\");"
   ]
  },
  {
   "cell_type": "code",
   "execution_count": 9,
   "id": "ec1a2460-f39f-432c-9fc9-82e6f85e8ef3",
   "metadata": {},
   "outputs": [
    {
     "name": "stdout",
     "output_type": "stream",
     "text": [
      "Automatic pdb calling has been turned ON\n"
     ]
    }
   ],
   "source": [
    "%pdb"
   ]
  },
  {
   "cell_type": "code",
   "execution_count": 10,
   "id": "473e2056-be66-4226-941f-d0c2de7f7452",
   "metadata": {},
   "outputs": [
    {
     "ename": "OutputParserException",
     "evalue": "Failed to parse SleepDiaryEntry from completion \n\n{\"properties\": {\"date\": {\"title\": \"Date\", \"description\": \"date of the night you're recording\", \"type\": \"string\", \"format\": \"date-time\"}, \"quality\": {\"title\": \"Quality\", \"description\": \"sleep quality\", \"type\": \"string\"}, \"in_bed\": {\"title\": \"In Bed\", \"description\": \"time you went to bed\", \"type\": \"string\"}, \"tried_to_fall_asleep\": {\"title\": \"Tried To Fall Asleep\", \"description\": \"time you tried to fall asleep\", \"type\": \"string\"}, \"time_to_fall_asleep\": {\"title\": \"Time To Fall Asleep\", \"description\": \"time it took you to fall asleep\", \"type\": \"string\"}, \"times_woke_up\": {\"title\": \"Times Woke Up\", \"description\": \"number of times you woke up during the night\", \"type\": \"string\"}, \"time_awake\": {\"title\": \"Time Awake\", \"description\": \"total time you were awake during the night\", \"type\": \"string\"}, \"final_wake_up\": {\"title\": \"Final Wake Up\", \"description\": \". Got: Expecting ',' delimiter: line 1 column 801 (char 800)",
     "output_type": "error",
     "traceback": [
      "\u001b[0;31m---------------------------------------------------------------------------\u001b[0m",
      "\u001b[0;31mJSONDecodeError\u001b[0m                           Traceback (most recent call last)",
      "File \u001b[0;32m~/Library/Caches/pypoetry/virtualenvs/sleepmate-kok1GflL-py3.11/lib/python3.11/site-packages/langchain/output_parsers/pydantic.py:27\u001b[0m, in \u001b[0;36mPydanticOutputParser.parse\u001b[0;34m(self, text)\u001b[0m\n\u001b[1;32m     26\u001b[0m     json_str \u001b[38;5;241m=\u001b[39m match\u001b[38;5;241m.\u001b[39mgroup()\n\u001b[0;32m---> 27\u001b[0m json_object \u001b[38;5;241m=\u001b[39m \u001b[43mjson\u001b[49m\u001b[38;5;241;43m.\u001b[39;49m\u001b[43mloads\u001b[49m\u001b[43m(\u001b[49m\u001b[43mjson_str\u001b[49m\u001b[43m,\u001b[49m\u001b[43m \u001b[49m\u001b[43mstrict\u001b[49m\u001b[38;5;241;43m=\u001b[39;49m\u001b[38;5;28;43;01mFalse\u001b[39;49;00m\u001b[43m)\u001b[49m\n\u001b[1;32m     28\u001b[0m \u001b[38;5;28;01mreturn\u001b[39;00m \u001b[38;5;28mself\u001b[39m\u001b[38;5;241m.\u001b[39mpydantic_object\u001b[38;5;241m.\u001b[39mparse_obj(json_object)\n",
      "File \u001b[0;32m/opt/homebrew/Cellar/python@3.11/3.11.5/Frameworks/Python.framework/Versions/3.11/lib/python3.11/json/__init__.py:359\u001b[0m, in \u001b[0;36mloads\u001b[0;34m(s, cls, object_hook, parse_float, parse_int, parse_constant, object_pairs_hook, **kw)\u001b[0m\n\u001b[1;32m    358\u001b[0m     kw[\u001b[38;5;124m'\u001b[39m\u001b[38;5;124mparse_constant\u001b[39m\u001b[38;5;124m'\u001b[39m] \u001b[38;5;241m=\u001b[39m parse_constant\n\u001b[0;32m--> 359\u001b[0m \u001b[38;5;28;01mreturn\u001b[39;00m \u001b[38;5;28;43mcls\u001b[39;49m\u001b[43m(\u001b[49m\u001b[38;5;241;43m*\u001b[39;49m\u001b[38;5;241;43m*\u001b[39;49m\u001b[43mkw\u001b[49m\u001b[43m)\u001b[49m\u001b[38;5;241;43m.\u001b[39;49m\u001b[43mdecode\u001b[49m\u001b[43m(\u001b[49m\u001b[43ms\u001b[49m\u001b[43m)\u001b[49m\n",
      "File \u001b[0;32m/opt/homebrew/Cellar/python@3.11/3.11.5/Frameworks/Python.framework/Versions/3.11/lib/python3.11/json/decoder.py:337\u001b[0m, in \u001b[0;36mJSONDecoder.decode\u001b[0;34m(self, s, _w)\u001b[0m\n\u001b[1;32m    333\u001b[0m \u001b[38;5;250m\u001b[39m\u001b[38;5;124;03m\"\"\"Return the Python representation of ``s`` (a ``str`` instance\u001b[39;00m\n\u001b[1;32m    334\u001b[0m \u001b[38;5;124;03mcontaining a JSON document).\u001b[39;00m\n\u001b[1;32m    335\u001b[0m \n\u001b[1;32m    336\u001b[0m \u001b[38;5;124;03m\"\"\"\u001b[39;00m\n\u001b[0;32m--> 337\u001b[0m obj, end \u001b[38;5;241m=\u001b[39m \u001b[38;5;28;43mself\u001b[39;49m\u001b[38;5;241;43m.\u001b[39;49m\u001b[43mraw_decode\u001b[49m\u001b[43m(\u001b[49m\u001b[43ms\u001b[49m\u001b[43m,\u001b[49m\u001b[43m \u001b[49m\u001b[43midx\u001b[49m\u001b[38;5;241;43m=\u001b[39;49m\u001b[43m_w\u001b[49m\u001b[43m(\u001b[49m\u001b[43ms\u001b[49m\u001b[43m,\u001b[49m\u001b[43m \u001b[49m\u001b[38;5;241;43m0\u001b[39;49m\u001b[43m)\u001b[49m\u001b[38;5;241;43m.\u001b[39;49m\u001b[43mend\u001b[49m\u001b[43m(\u001b[49m\u001b[43m)\u001b[49m\u001b[43m)\u001b[49m\n\u001b[1;32m    338\u001b[0m end \u001b[38;5;241m=\u001b[39m _w(s, end)\u001b[38;5;241m.\u001b[39mend()\n",
      "File \u001b[0;32m/opt/homebrew/Cellar/python@3.11/3.11.5/Frameworks/Python.framework/Versions/3.11/lib/python3.11/json/decoder.py:353\u001b[0m, in \u001b[0;36mJSONDecoder.raw_decode\u001b[0;34m(self, s, idx)\u001b[0m\n\u001b[1;32m    352\u001b[0m \u001b[38;5;28;01mtry\u001b[39;00m:\n\u001b[0;32m--> 353\u001b[0m     obj, end \u001b[38;5;241m=\u001b[39m \u001b[38;5;28;43mself\u001b[39;49m\u001b[38;5;241;43m.\u001b[39;49m\u001b[43mscan_once\u001b[49m\u001b[43m(\u001b[49m\u001b[43ms\u001b[49m\u001b[43m,\u001b[49m\u001b[43m \u001b[49m\u001b[43midx\u001b[49m\u001b[43m)\u001b[49m\n\u001b[1;32m    354\u001b[0m \u001b[38;5;28;01mexcept\u001b[39;00m \u001b[38;5;167;01mStopIteration\u001b[39;00m \u001b[38;5;28;01mas\u001b[39;00m err:\n",
      "\u001b[0;31mJSONDecodeError\u001b[0m: Expecting ',' delimiter: line 1 column 801 (char 800)",
      "\nDuring handling of the above exception, another exception occurred:\n",
      "\u001b[0;31mOutputParserException\u001b[0m                     Traceback (most recent call last)",
      "Cell \u001b[0;32mIn[10], line 1\u001b[0m\n\u001b[0;32m----> 1\u001b[0m diary_entry \u001b[38;5;241m=\u001b[39m get_sleep_diary_entry(x\u001b[38;5;241m.\u001b[39magent_executor\u001b[38;5;241m.\u001b[39mmemory); diary_entry\n",
      "File \u001b[0;32m~/Documents/sleepmate/sleepmate/diary.py:40\u001b[0m, in \u001b[0;36mget_sleep_diary_entry\u001b[0;34m(memory)\u001b[0m\n\u001b[1;32m     39\u001b[0m \u001b[38;5;28;01mdef\u001b[39;00m \u001b[38;5;21mget_sleep_diary_entry\u001b[39m(memory: BaseMemory) \u001b[38;5;241m-\u001b[39m\u001b[38;5;241m>\u001b[39m SleepDiaryEntry:\n\u001b[0;32m---> 40\u001b[0m     \u001b[38;5;28;01mreturn\u001b[39;00m \u001b[43mget_parsed_output\u001b[49m\u001b[43m(\u001b[49m\n\u001b[1;32m     41\u001b[0m \u001b[43m        \u001b[49m\u001b[38;5;124;43m\"\u001b[39;49m\u001b[38;5;124;43msummarise the last sleep diary entry\u001b[39;49m\u001b[38;5;124;43m\"\u001b[39;49m\u001b[43m,\u001b[49m\u001b[43m \u001b[49m\u001b[43mmemory\u001b[49m\u001b[43m,\u001b[49m\u001b[43m \u001b[49m\u001b[43mSleepDiaryEntry\u001b[49m\n\u001b[1;32m     42\u001b[0m \u001b[43m    \u001b[49m\u001b[43m)\u001b[49m\n",
      "File \u001b[0;32m~/Documents/sleepmate/sleepmate/structured.py:34\u001b[0m, in \u001b[0;36mget_parsed_output\u001b[0;34m(query, memory, cls)\u001b[0m\n\u001b[1;32m     32\u001b[0m chain \u001b[38;5;241m=\u001b[39m LLMChain(llm\u001b[38;5;241m=\u001b[39mllm, prompt\u001b[38;5;241m=\u001b[39mprompt, memory\u001b[38;5;241m=\u001b[39mReadOnlySharedMemory(memory\u001b[38;5;241m=\u001b[39mmemory))\n\u001b[1;32m     33\u001b[0m output \u001b[38;5;241m=\u001b[39m chain({\u001b[38;5;124m\"\u001b[39m\u001b[38;5;124mquery\u001b[39m\u001b[38;5;124m\"\u001b[39m: query})\n\u001b[0;32m---> 34\u001b[0m \u001b[38;5;28;01mreturn\u001b[39;00m \u001b[43mparser\u001b[49m\u001b[38;5;241;43m.\u001b[39;49m\u001b[43mparse\u001b[49m\u001b[43m(\u001b[49m\u001b[43moutput\u001b[49m\u001b[43m[\u001b[49m\u001b[38;5;124;43m\"\u001b[39;49m\u001b[38;5;124;43mtext\u001b[39;49m\u001b[38;5;124;43m\"\u001b[39;49m\u001b[43m]\u001b[49m\u001b[43m)\u001b[49m\n",
      "File \u001b[0;32m~/Library/Caches/pypoetry/virtualenvs/sleepmate-kok1GflL-py3.11/lib/python3.11/site-packages/langchain/output_parsers/pydantic.py:33\u001b[0m, in \u001b[0;36mPydanticOutputParser.parse\u001b[0;34m(self, text)\u001b[0m\n\u001b[1;32m     31\u001b[0m name \u001b[38;5;241m=\u001b[39m \u001b[38;5;28mself\u001b[39m\u001b[38;5;241m.\u001b[39mpydantic_object\u001b[38;5;241m.\u001b[39m\u001b[38;5;18m__name__\u001b[39m\n\u001b[1;32m     32\u001b[0m msg \u001b[38;5;241m=\u001b[39m \u001b[38;5;124mf\u001b[39m\u001b[38;5;124m\"\u001b[39m\u001b[38;5;124mFailed to parse \u001b[39m\u001b[38;5;132;01m{\u001b[39;00mname\u001b[38;5;132;01m}\u001b[39;00m\u001b[38;5;124m from completion \u001b[39m\u001b[38;5;132;01m{\u001b[39;00mtext\u001b[38;5;132;01m}\u001b[39;00m\u001b[38;5;124m. Got: \u001b[39m\u001b[38;5;132;01m{\u001b[39;00me\u001b[38;5;132;01m}\u001b[39;00m\u001b[38;5;124m\"\u001b[39m\n\u001b[0;32m---> 33\u001b[0m \u001b[38;5;28;01mraise\u001b[39;00m OutputParserException(msg, llm_output\u001b[38;5;241m=\u001b[39mtext)\n",
      "\u001b[0;31mOutputParserException\u001b[0m: Failed to parse SleepDiaryEntry from completion \n\n{\"properties\": {\"date\": {\"title\": \"Date\", \"description\": \"date of the night you're recording\", \"type\": \"string\", \"format\": \"date-time\"}, \"quality\": {\"title\": \"Quality\", \"description\": \"sleep quality\", \"type\": \"string\"}, \"in_bed\": {\"title\": \"In Bed\", \"description\": \"time you went to bed\", \"type\": \"string\"}, \"tried_to_fall_asleep\": {\"title\": \"Tried To Fall Asleep\", \"description\": \"time you tried to fall asleep\", \"type\": \"string\"}, \"time_to_fall_asleep\": {\"title\": \"Time To Fall Asleep\", \"description\": \"time it took you to fall asleep\", \"type\": \"string\"}, \"times_woke_up\": {\"title\": \"Times Woke Up\", \"description\": \"number of times you woke up during the night\", \"type\": \"string\"}, \"time_awake\": {\"title\": \"Time Awake\", \"description\": \"total time you were awake during the night\", \"type\": \"string\"}, \"final_wake_up\": {\"title\": \"Final Wake Up\", \"description\": \". Got: Expecting ',' delimiter: line 1 column 801 (char 800)"
     ]
    },
    {
     "name": "stdout",
     "output_type": "stream",
     "text": [
      "> \u001b[0;32m/Users/cck197/Library/Caches/pypoetry/virtualenvs/sleepmate-kok1GflL-py3.11/lib/python3.11/site-packages/langchain/output_parsers/pydantic.py\u001b[0m(33)\u001b[0;36mparse\u001b[0;34m()\u001b[0m\n",
      "\u001b[0;32m     31 \u001b[0;31m            \u001b[0mname\u001b[0m \u001b[0;34m=\u001b[0m \u001b[0mself\u001b[0m\u001b[0;34m.\u001b[0m\u001b[0mpydantic_object\u001b[0m\u001b[0;34m.\u001b[0m\u001b[0m__name__\u001b[0m\u001b[0;34m\u001b[0m\u001b[0;34m\u001b[0m\u001b[0m\n",
      "\u001b[0m\u001b[0;32m     32 \u001b[0;31m            \u001b[0mmsg\u001b[0m \u001b[0;34m=\u001b[0m \u001b[0;34mf\"Failed to parse {name} from completion {text}. Got: {e}\"\u001b[0m\u001b[0;34m\u001b[0m\u001b[0;34m\u001b[0m\u001b[0m\n",
      "\u001b[0m\u001b[0;32m---> 33 \u001b[0;31m            \u001b[0;32mraise\u001b[0m \u001b[0mOutputParserException\u001b[0m\u001b[0;34m(\u001b[0m\u001b[0mmsg\u001b[0m\u001b[0;34m,\u001b[0m \u001b[0mllm_output\u001b[0m\u001b[0;34m=\u001b[0m\u001b[0mtext\u001b[0m\u001b[0;34m)\u001b[0m\u001b[0;34m\u001b[0m\u001b[0;34m\u001b[0m\u001b[0m\n",
      "\u001b[0m\u001b[0;32m     34 \u001b[0;31m\u001b[0;34m\u001b[0m\u001b[0m\n",
      "\u001b[0m\u001b[0;32m     35 \u001b[0;31m    \u001b[0;32mdef\u001b[0m \u001b[0mget_format_instructions\u001b[0m\u001b[0;34m(\u001b[0m\u001b[0mself\u001b[0m\u001b[0;34m)\u001b[0m \u001b[0;34m->\u001b[0m \u001b[0mstr\u001b[0m\u001b[0;34m:\u001b[0m\u001b[0;34m\u001b[0m\u001b[0;34m\u001b[0m\u001b[0m\n",
      "\u001b[0m\n"
     ]
    },
    {
     "name": "stdin",
     "output_type": "stream",
     "text": [
      "ipdb>  text\n"
     ]
    },
    {
     "name": "stdout",
     "output_type": "stream",
     "text": [
      "'\\n\\n{\"properties\": {\"date\": {\"title\": \"Date\", \"description\": \"date of the night you\\'re recording\", \"type\": \"string\", \"format\": \"date-time\"}, \"quality\": {\"title\": \"Quality\", \"description\": \"sleep quality\", \"type\": \"string\"}, \"in_bed\": {\"title\": \"In Bed\", \"description\": \"time you went to bed\", \"type\": \"string\"}, \"tried_to_fall_asleep\": {\"title\": \"Tried To Fall Asleep\", \"description\": \"time you tried to fall asleep\", \"type\": \"string\"}, \"time_to_fall_asleep\": {\"title\": \"Time To Fall Asleep\", \"description\": \"time it took you to fall asleep\", \"type\": \"string\"}, \"times_woke_up\": {\"title\": \"Times Woke Up\", \"description\": \"number of times you woke up during the night\", \"type\": \"string\"}, \"time_awake\": {\"title\": \"Time Awake\", \"description\": \"total time you were awake during the night\", \"type\": \"string\"}, \"final_wake_up\": {\"title\": \"Final Wake Up\", \"description\": \"'\n"
     ]
    },
    {
     "name": "stdin",
     "output_type": "stream",
     "text": [
      "ipdb>  u\n"
     ]
    },
    {
     "name": "stdout",
     "output_type": "stream",
     "text": [
      "> \u001b[0;32m/Users/cck197/Documents/sleepmate/sleepmate/structured.py\u001b[0m(34)\u001b[0;36mget_parsed_output\u001b[0;34m()\u001b[0m\n",
      "\u001b[0;32m     32 \u001b[0;31m    \u001b[0mchain\u001b[0m \u001b[0;34m=\u001b[0m \u001b[0mLLMChain\u001b[0m\u001b[0;34m(\u001b[0m\u001b[0mllm\u001b[0m\u001b[0;34m=\u001b[0m\u001b[0mllm\u001b[0m\u001b[0;34m,\u001b[0m \u001b[0mprompt\u001b[0m\u001b[0;34m=\u001b[0m\u001b[0mprompt\u001b[0m\u001b[0;34m,\u001b[0m \u001b[0mmemory\u001b[0m\u001b[0;34m=\u001b[0m\u001b[0mReadOnlySharedMemory\u001b[0m\u001b[0;34m(\u001b[0m\u001b[0mmemory\u001b[0m\u001b[0;34m=\u001b[0m\u001b[0mmemory\u001b[0m\u001b[0;34m)\u001b[0m\u001b[0;34m)\u001b[0m\u001b[0;34m\u001b[0m\u001b[0;34m\u001b[0m\u001b[0m\n",
      "\u001b[0m\u001b[0;32m     33 \u001b[0;31m    \u001b[0moutput\u001b[0m \u001b[0;34m=\u001b[0m \u001b[0mchain\u001b[0m\u001b[0;34m(\u001b[0m\u001b[0;34m{\u001b[0m\u001b[0;34m\"query\"\u001b[0m\u001b[0;34m:\u001b[0m \u001b[0mquery\u001b[0m\u001b[0;34m}\u001b[0m\u001b[0;34m)\u001b[0m\u001b[0;34m\u001b[0m\u001b[0;34m\u001b[0m\u001b[0m\n",
      "\u001b[0m\u001b[0;32m---> 34 \u001b[0;31m    \u001b[0;32mreturn\u001b[0m \u001b[0mparser\u001b[0m\u001b[0;34m.\u001b[0m\u001b[0mparse\u001b[0m\u001b[0;34m(\u001b[0m\u001b[0moutput\u001b[0m\u001b[0;34m[\u001b[0m\u001b[0;34m\"text\"\u001b[0m\u001b[0;34m]\u001b[0m\u001b[0;34m)\u001b[0m\u001b[0;34m\u001b[0m\u001b[0;34m\u001b[0m\u001b[0m\n",
      "\u001b[0m\u001b[0;32m     35 \u001b[0;31m\u001b[0;34m\u001b[0m\u001b[0m\n",
      "\u001b[0m\u001b[0;32m     36 \u001b[0;31m\u001b[0;34m\u001b[0m\u001b[0m\n",
      "\u001b[0m\n"
     ]
    },
    {
     "name": "stdin",
     "output_type": "stream",
     "text": [
      "ipdb>  output[\"text\"]\n"
     ]
    },
    {
     "name": "stdout",
     "output_type": "stream",
     "text": [
      "'\\n\\n{\"properties\": {\"date\": {\"title\": \"Date\", \"description\": \"date of the night you\\'re recording\", \"type\": \"string\", \"format\": \"date-time\"}, \"quality\": {\"title\": \"Quality\", \"description\": \"sleep quality\", \"type\": \"string\"}, \"in_bed\": {\"title\": \"In Bed\", \"description\": \"time you went to bed\", \"type\": \"string\"}, \"tried_to_fall_asleep\": {\"title\": \"Tried To Fall Asleep\", \"description\": \"time you tried to fall asleep\", \"type\": \"string\"}, \"time_to_fall_asleep\": {\"title\": \"Time To Fall Asleep\", \"description\": \"time it took you to fall asleep\", \"type\": \"string\"}, \"times_woke_up\": {\"title\": \"Times Woke Up\", \"description\": \"number of times you woke up during the night\", \"type\": \"string\"}, \"time_awake\": {\"title\": \"Time Awake\", \"description\": \"total time you were awake during the night\", \"type\": \"string\"}, \"final_wake_up\": {\"title\": \"Final Wake Up\", \"description\": \"'\n"
     ]
    },
    {
     "name": "stdin",
     "output_type": "stream",
     "text": [
      "ipdb>  query\n"
     ]
    },
    {
     "name": "stdout",
     "output_type": "stream",
     "text": [
      "'summarise the last sleep diary entry'\n"
     ]
    },
    {
     "name": "stdin",
     "output_type": "stream",
     "text": [
      "ipdb>  prompt\n"
     ]
    },
    {
     "name": "stdout",
     "output_type": "stream",
     "text": [
      "PromptTemplate(input_variables=['query', 'chat_history'], partial_variables={'format_instructions': 'The output should be formatted as a JSON instance that conforms to the JSON schema below.\\n\\nAs an example, for the schema {\"properties\": {\"foo\": {\"title\": \"Foo\", \"description\": \"a list of strings\", \"type\": \"array\", \"items\": {\"type\": \"string\"}}}, \"required\": [\"foo\"]}\\nthe object {\"foo\": [\"bar\", \"baz\"]} is a well-formatted instance of the schema. The object {\"properties\": {\"foo\": [\"bar\", \"baz\"]}} is not well-formatted.\\n\\nHere is the output schema:\\n```\\n{\"properties\": {\"date\": {\"title\": \"Date\", \"description\": \"date of the night you\\'re recording\", \"type\": \"string\", \"format\": \"date-time\"}, \"quality\": {\"title\": \"Quality\", \"description\": \"sleep quality\", \"type\": \"string\"}, \"in_bed\": {\"title\": \"In Bed\", \"description\": \"time you went to bed\", \"type\": \"string\"}, \"tried_to_fall_asleep\": {\"title\": \"Tried To Fall Asleep\", \"description\": \"time you tried to fall asleep\", \"type\": \"string\"}, \"time_to_fall_asleep\": {\"title\": \"Time To Fall Asleep\", \"description\": \"time it took you to fall asleep\", \"type\": \"string\"}, \"times_woke_up\": {\"title\": \"Times Woke Up\", \"description\": \"number of times you woke up during the night\", \"type\": \"string\"}, \"time_awake\": {\"title\": \"Time Awake\", \"description\": \"total time you were awake during the night\", \"type\": \"string\"}, \"final_wake_up\": {\"title\": \"Final Wake Up\", \"description\": \"final wake up time\", \"type\": \"string\"}, \"out_of_bed\": {\"title\": \"Out Of Bed\", \"description\": \"time you got out of bed\", \"type\": \"string\"}, \"medications\": {\"title\": \"Medications\", \"description\": \"medications or aids used\", \"type\": \"string\"}, \"notes\": {\"title\": \"Notes\", \"description\": \"any other notes you\\'d like to add\", \"type\": \"string\"}}, \"required\": [\"date\", \"quality\", \"in_bed\", \"tried_to_fall_asleep\", \"time_to_fall_asleep\", \"times_woke_up\", \"time_awake\", \"final_wake_up\", \"out_of_bed\", \"medications\", \"notes\"]}\\n```'}, template='Answer the user query.\\n{format_instructions}\\n{query}\\nPrevious conversation:{chat_history}')\n"
     ]
    },
    {
     "name": "stdin",
     "output_type": "stream",
     "text": [
      "ipdb>  exit\n"
     ]
    }
   ],
   "source": [
    "diary_entry = get_sleep_diary_entry(x.agent_executor.memory); diary_entry"
   ]
  },
  {
   "cell_type": "code",
   "execution_count": 28,
   "id": "8024e759-bd9a-4c6a-ae5e-8e1543f49088",
   "metadata": {},
   "outputs": [],
   "source": [
    "db_diary_entry = DBSleepDiaryEntry(**{\"user\": db_user, **diary_entry.dict()})"
   ]
  },
  {
   "cell_type": "code",
   "execution_count": 32,
   "id": "46678764-6a80-4be4-9cec-efced36632fc",
   "metadata": {},
   "outputs": [
    {
     "data": {
      "text/plain": [
       "<SleepDiaryEntry: SleepDiaryEntry object>"
      ]
     },
     "execution_count": 32,
     "metadata": {},
     "output_type": "execute_result"
    }
   ],
   "source": [
    "db_diary_entry.save()"
   ]
  },
  {
   "cell_type": "code",
   "execution_count": 24,
   "id": "b4fe53e4-616a-4f38-974c-beba229b2887",
   "metadata": {
    "scrolled": true
   },
   "outputs": [
    {
     "data": {
      "text/markdown": [
       "Sleep efficiency is a measure of the quality of a person's sleep, calculated as the ratio of total time spent asleep (not just time spent in bed) to the total time spent in bed. For example, if you spend 8 hours in bed but only sleep for 6 hours, your sleep efficiency is 75% (6/8 x 100). \n",
       "\n",
       "In Amy's case, her sleep efficiency was initially 60% as she was only asleep for 6 hours out of her 10-hour sleep opportunity. She tried to improve her sleep efficiency through a process called bedtime restriction therapy, which involved limiting her time in bed to her average sleep duration, hence improving the pressure to sleep. \n",
       "\n",
       "Over time and with regularity, her sleep efficiency improved. She would only extend her sleep opportunity (time spent in bed) when her sleep efficiency remained above 85% (considered healthy) for a week. She eventually settled on a routine where her sleep efficiency was 88%.\n",
       "\n",
       "Therefore, improving sleep efficiency can involve several steps:\n",
       "\n",
       "1. Enforcing regular bedtimes. \n",
       "2. Restricting bedtime to average sleep duration to build extra pressure to sleep.\n",
       "3. Gradually extending sleep opportunity once sleep efficiency remains above 85% for a week.\n",
       "4. Maintaining regular sleep schedules even after reaching the desired sleep efficiency.\n",
       "\n",
       "Keep in mind that these steps may vary depending on individual needs and circumstances. It's always advisable to consult with a sleep specialist if you're struggling with sleep efficiency."
      ],
      "text/plain": [
       "<IPython.core.display.Markdown object>"
      ]
     },
     "metadata": {},
     "output_type": "display_data"
    }
   ],
   "source": [
    "x(\"is my sleep efficiency any good?\");"
   ]
  },
  {
   "cell_type": "markdown",
   "id": "3d678882-b636-4b4a-9cbf-ba0aeecee54f",
   "metadata": {},
   "source": [
    "## Try retrieving an entry"
   ]
  },
  {
   "cell_type": "code",
   "execution_count": 2,
   "id": "b78321c9-5722-4d8d-8b91-a7f11265141e",
   "metadata": {},
   "outputs": [
    {
     "name": "stdout",
     "output_type": "stream",
     "text": [
      "get_agent len(tools)=9\n",
      "load_memory filename='/Users/cck197/Downloads/virtual_greg/memory.pkl'\n"
     ]
    },
    {
     "data": {
      "text/markdown": [
       "Hello again, Chris! Is this a good time for you to record a sleep diary entry?"
      ],
      "text/plain": [
       "<IPython.core.display.Markdown object>"
      ]
     },
     "metadata": {},
     "output_type": "display_data"
    }
   ],
   "source": [
    "x = X(goals[\"diary_entry_retrieval\"]);"
   ]
  },
  {
   "cell_type": "code",
   "execution_count": 3,
   "id": "ea242537-1105-411c-a22c-a44e46400cd4",
   "metadata": {},
   "outputs": [
    {
     "data": {
      "text/markdown": [
       "Sure, here's a summary of your last sleep diary entry:\n",
       "\n",
       "- Date: October 12, 2023\n",
       "- Sleep quality: Very good\n",
       "- Bedtime: 21:15\n",
       "- Time you tried to fall asleep: 21:15\n",
       "- Time it took to fall asleep: 5 minutes\n",
       "- Number of awakenings: Once\n",
       "- Total awake time during the night: 5 minutes\n",
       "- Final wake up time: 6:30\n",
       "- Time you got out of bed: 6:30\n",
       "- Sleep aid: Melatonin\n",
       "- Notes: Slept in the van, it was raining\n",
       "\n",
       "Your sleep efficiency was excellent, indicating that you spent most of your time in bed asleep. Remember, anything over 85% is considered normal. Keep up the good work! 🚀🚀🚀"
      ],
      "text/plain": [
       "<IPython.core.display.Markdown object>"
      ]
     },
     "metadata": {},
     "output_type": "display_data"
    }
   ],
   "source": [
    "x(\"summarise my last sleep diary entry\");"
   ]
  },
  {
   "cell_type": "code",
   "execution_count": 4,
   "id": "ca9703cf-3c53-4892-91f6-9e0b4c5357a8",
   "metadata": {},
   "outputs": [],
   "source": [
    "json_output = '{\"quality\": \"very good\", \"in_bed\": \"2023-10-11T21:15:00\", \"tried_to_fall_asleep\": \"21:15\", \"time_to_fall_asleep\": \"5 mins\", \"times_woke_up\": \"once\", \"time_awake\": \"5 mins\", \"final_wake_up\": \"6:30\", \"out_of_bed\": \"got up right away\", \"medications\": \"melatonin\", \"notes\": \"slept in the van and it was raining\"}'"
   ]
  },
  {
   "cell_type": "code",
   "execution_count": 6,
   "id": "f405aaad-e99d-4248-9415-2c714233c81f",
   "metadata": {},
   "outputs": [
    {
     "data": {
      "text/markdown": [
       "Here's a human-readable summary of your sleep diary entry:\n",
       "\n",
       "- Date: October 11, 2023\n",
       "- Sleep quality: Very good\n",
       "- Bedtime: 21:15\n",
       "- Time you tried to fall asleep: 21:15\n",
       "- Time it took to fall asleep: 5 minutes\n",
       "- Number of awakenings: Once\n",
       "- Total awake time during the night: 5 minutes\n",
       "- Final wake up time: 6:30\n",
       "- Time you got out of bed: Got up right away\n",
       "- Sleep aid: Melatonin\n",
       "- Notes: Slept in the van and it was raining\n",
       "\n",
       "Your sleep efficiency was excellent, indicating that you spent most of your time in bed asleep. Remember, anything over 85% is considered normal. Keep up the good work! 🚀🚀🚀"
      ],
      "text/plain": [
       "<IPython.core.display.Markdown object>"
      ]
     },
     "metadata": {},
     "output_type": "display_data"
    },
    {
     "data": {
      "text/plain": [
       "\"Here's a human-readable summary of your sleep diary entry:\\n\\n- Date: October 11, 2023\\n- Sleep quality: Very good\\n- Bedtime: 21:15\\n- Time you tried to fall asleep: 21:15\\n- Time it took to fall asleep: 5 minutes\\n- Number of awakenings: Once\\n- Total awake time during the night: 5 minutes\\n- Final wake up time: 6:30\\n- Time you got out of bed: Got up right away\\n- Sleep aid: Melatonin\\n- Notes: Slept in the van and it was raining\\n\\nYour sleep efficiency was excellent, indicating that you spent most of your time in bed asleep. Remember, anything over 85% is considered normal. Keep up the good work! 🚀🚀🚀\""
      ]
     },
     "execution_count": 6,
     "metadata": {},
     "output_type": "execute_result"
    }
   ],
   "source": [
    "x(f\"summarise this diary entry in JSON format into a human-readable summary {json_output}\")"
   ]
  },
  {
   "cell_type": "code",
   "execution_count": 7,
   "id": "12a59635-1a58-44b4-ad2b-00abd01df1e5",
   "metadata": {},
   "outputs": [
    {
     "data": {
      "text/markdown": [
       "To calculate sleep efficiency, we need to know the total time spent in bed. However, from the provided information, we only know the time you went to bed (21:15) and the time you woke up (6:30). \n",
       "\n",
       "Assuming you got out of bed as soon as you woke up, you spent approximately 9 hours and 15 minutes in bed. Out of this, you were awake for only 5 minutes. \n",
       "\n",
       "So, your sleep efficiency can be calculated as follows:\n",
       "\n",
       "(Time spent asleep / Total time in bed) * 100\n",
       "\n",
       "= ((9 hours 15 minutes - 5 minutes) / 9 hours 15 minutes) * 100\n",
       "\n",
       "= (555 minutes / 555 minutes) * 100\n",
       "\n",
       "= 100%\n",
       "\n",
       "So, your sleep efficiency was 100%, which is excellent. Remember, anything over 85% is considered normal. 🚀🚀🚀"
      ],
      "text/plain": [
       "<IPython.core.display.Markdown object>"
      ]
     },
     "metadata": {},
     "output_type": "display_data"
    },
    {
     "data": {
      "text/plain": [
       "'To calculate sleep efficiency, we need to know the total time spent in bed. However, from the provided information, we only know the time you went to bed (21:15) and the time you woke up (6:30). \\n\\nAssuming you got out of bed as soon as you woke up, you spent approximately 9 hours and 15 minutes in bed. Out of this, you were awake for only 5 minutes. \\n\\nSo, your sleep efficiency can be calculated as follows:\\n\\n(Time spent asleep / Total time in bed) * 100\\n\\n= ((9 hours 15 minutes - 5 minutes) / 9 hours 15 minutes) * 100\\n\\n= (555 minutes / 555 minutes) * 100\\n\\n= 100%\\n\\nSo, your sleep efficiency was 100%, which is excellent. Remember, anything over 85% is considered normal. 🚀🚀🚀'"
      ]
     },
     "execution_count": 7,
     "metadata": {},
     "output_type": "execute_result"
    }
   ],
   "source": [
    "x(\"what was sleep efficiency, as a number?\")"
   ]
  },
  {
   "cell_type": "markdown",
   "id": "63998458-9a27-4625-9582-c38d692484e5",
   "metadata": {
    "jp-MarkdownHeadingCollapsed": true
   },
   "source": [
    "# Insomnia Severity Index (ISI)"
   ]
  },
  {
   "cell_type": "code",
   "execution_count": 2,
   "id": "e7788582-abe5-4638-ad85-5476ed9eefa5",
   "metadata": {},
   "outputs": [
    {
     "name": "stdout",
     "output_type": "stream",
     "text": [
      "get_agent len(tools)=10\n"
     ]
    },
    {
     "data": {
      "text/markdown": [
       "Hello! I'm glad you reached out. May I know your name, please?"
      ],
      "text/plain": [
       "<IPython.core.display.Markdown object>"
      ]
     },
     "metadata": {},
     "output_type": "display_data"
    }
   ],
   "source": [
    "x = X(goals[\"insomnia_severity_index\"]);"
   ]
  },
  {
   "cell_type": "code",
   "execution_count": 3,
   "id": "ad4fca1f-0cb9-4eff-8ede-72c1318fec35",
   "metadata": {},
   "outputs": [
    {
     "data": {
      "text/markdown": [
       "Nice to meet you, Chris. How are you feeling today?"
      ],
      "text/plain": [
       "<IPython.core.display.Markdown object>"
      ]
     },
     "metadata": {},
     "output_type": "display_data"
    }
   ],
   "source": [
    "x(\"Chris\");"
   ]
  },
  {
   "cell_type": "code",
   "execution_count": 4,
   "id": "1d631fdc-61c8-4943-85a6-a91e78820b2e",
   "metadata": {},
   "outputs": [
    {
     "data": {
      "text/markdown": [
       "I hear you, Chris. It sounds like you're feeling somewhat drained at the moment. Is that accurate?"
      ],
      "text/plain": [
       "<IPython.core.display.Markdown object>"
      ]
     },
     "metadata": {},
     "output_type": "display_data"
    }
   ],
   "source": [
    "x(\"bit tired\");"
   ]
  },
  {
   "cell_type": "code",
   "execution_count": 5,
   "id": "890d71df-4c05-4e8d-a2cd-70188412c56a",
   "metadata": {},
   "outputs": [
    {
     "data": {
      "text/markdown": [
       "I understand, Chris. It must be tough feeling tired. If you're comfortable, would now be a good time to go through a brief survey about your sleep patterns? It might help us understand your situation better."
      ],
      "text/plain": [
       "<IPython.core.display.Markdown object>"
      ]
     },
     "metadata": {},
     "output_type": "display_data"
    }
   ],
   "source": [
    "x(\"yeah, exactly\");"
   ]
  },
  {
   "cell_type": "code",
   "execution_count": 6,
   "id": "b3f6e408-faa3-4b37-9c01-9a62a220fd6d",
   "metadata": {},
   "outputs": [
    {
     "data": {
      "text/markdown": [
       "Great, Chris. Let's start with the first question. On a scale from 0 to 4, with 0 being none and 4 being very severe, how would you rate your difficulty falling asleep?"
      ],
      "text/plain": [
       "<IPython.core.display.Markdown object>"
      ]
     },
     "metadata": {},
     "output_type": "display_data"
    }
   ],
   "source": [
    "x(\"sure\");"
   ]
  },
  {
   "cell_type": "code",
   "execution_count": 32,
   "id": "fce8e388-16b3-4ac9-95c7-d2777452fbea",
   "metadata": {},
   "outputs": [
    {
     "data": {
      "text/markdown": [
       "The Insomnia Severity Index (ISI) is a tool used to measure a person's perception of their insomnia. It helps to understand the severity of sleep onset, sleep maintenance, early morning awakening issues, sleep dissatisfaction, interference of sleep difficulties with daytime functioning, noticeability of sleep problems by others, and distress caused by the sleep difficulties. \n",
       "\n",
       "The questionnaire is not a diagnostic tool, but it can be very useful in tracking changes in your insomnia over time and can help to evaluate the effectiveness of treatment. It's a standard tool used in many sleep studies and clinical practices."
      ],
      "text/plain": [
       "<IPython.core.display.Markdown object>"
      ]
     },
     "metadata": {},
     "output_type": "display_data"
    }
   ],
   "source": [
    "x(\"what's the questionnaire for?\");"
   ]
  },
  {
   "cell_type": "code",
   "execution_count": 33,
   "id": "256f31f6-d8ab-4c0a-ae36-d55d00788e7a",
   "metadata": {},
   "outputs": [
    {
     "data": {
      "text/markdown": [
       "Great, let's proceed with the questionnaire then.\n",
       "\n",
       "1. Difficulty falling asleep: On a scale from 0 to 4, with 0 being none and 4 being very severe, how would you rate your difficulty in falling asleep?\n",
       "\n",
       "2. Difficulty staying asleep: On the same scale, how would you rate your difficulty in staying asleep?\n",
       "\n",
       "3. Problems waking up too early: Again, on the same scale, how would you rate your problems with waking up too early?\n",
       "\n",
       "Please take your time to think about your answers."
      ],
      "text/plain": [
       "<IPython.core.display.Markdown object>"
      ]
     },
     "metadata": {},
     "output_type": "display_data"
    }
   ],
   "source": [
    "x(\"ok\");"
   ]
  },
  {
   "cell_type": "code",
   "execution_count": 7,
   "id": "03e3cc9d-5094-47da-b54c-295e08297966",
   "metadata": {},
   "outputs": [
    {
     "data": {
      "text/markdown": [
       "Thank you for your response, Chris. Now, using the same scale, how would you rate your difficulty staying asleep?"
      ],
      "text/plain": [
       "<IPython.core.display.Markdown object>"
      ]
     },
     "metadata": {},
     "output_type": "display_data"
    }
   ],
   "source": [
    "x(\"1\");"
   ]
  },
  {
   "cell_type": "code",
   "execution_count": 8,
   "id": "057f7b56-a054-4417-a8d4-aa95ec5b4ac1",
   "metadata": {
    "scrolled": true
   },
   "outputs": [
    {
     "data": {
      "text/markdown": [
       "Thank you, Chris. Moving on to the third question, how would you rate your problems with waking up too early? Please use the same scale from 0 (none) to 4 (very severe)."
      ],
      "text/plain": [
       "<IPython.core.display.Markdown object>"
      ]
     },
     "metadata": {},
     "output_type": "display_data"
    }
   ],
   "source": [
    "x(\"1\");"
   ]
  },
  {
   "cell_type": "code",
   "execution_count": 10,
   "id": "6d08c148-59a3-4d10-9a19-ea73fa15d079",
   "metadata": {},
   "outputs": [
    {
     "data": {
      "text/markdown": [
       "Thank you for your responses, Chris. So, for all seven questions, your score is 1. \n",
       "\n",
       "To summarize:\n",
       "1. Difficulty falling asleep: 1 (Mild)\n",
       "2. Difficulty staying asleep: 1 (Mild)\n",
       "3. Problems waking up too early: 1 (Mild)\n",
       "4. Satisfaction with current sleep pattern: 1 (Satisfied)\n",
       "5. Noticeability of sleep problem: 1 (A little bit)\n",
       "6. Worries about sleep problem: 1 (A little bit)\n",
       "7. Interference of sleep problem with daily functioning: 1 (A little bit)\n",
       "\n",
       "Is this summary accurate?"
      ],
      "text/plain": [
       "<IPython.core.display.Markdown object>"
      ]
     },
     "metadata": {},
     "output_type": "display_data"
    }
   ],
   "source": [
    "x(\"actually all the remaining answers are 1\");"
   ]
  },
  {
   "cell_type": "code",
   "execution_count": 11,
   "id": "7f357c1a-3625-4117-91d4-49d24b7adc99",
   "metadata": {},
   "outputs": [
    {
     "data": {
      "text/markdown": [
       "Great, thank you for confirming, Chris. \n",
       "\n",
       "Adding up your scores, your total Insomnia Severity Index (ISI) score is 7. \n",
       "\n",
       "According to the ISI interpretation, a score of 7 falls into the category of \"No clinically significant insomnia\". However, if you're still feeling tired and it's affecting your day, it might be worth discussing this with a healthcare professional. \n",
       "\n",
       "I hope this information is helpful to you. 🚀🚀🚀"
      ],
      "text/plain": [
       "<IPython.core.display.Markdown object>"
      ]
     },
     "metadata": {},
     "output_type": "display_data"
    }
   ],
   "source": [
    "x(\"yep!\");"
   ]
  },
  {
   "cell_type": "code",
   "execution_count": null,
   "id": "a9ba4929-6c86-4fdf-8693-91bb5516d261",
   "metadata": {},
   "outputs": [],
   "source": []
  }
 ],
 "metadata": {
  "kernelspec": {
   "display_name": "Python 3 (ipykernel)",
   "language": "python",
   "name": "python3"
  },
  "language_info": {
   "codemirror_mode": {
    "name": "ipython",
    "version": 3
   },
   "file_extension": ".py",
   "mimetype": "text/x-python",
   "name": "python",
   "nbconvert_exporter": "python",
   "pygments_lexer": "ipython3",
   "version": "3.11.5"
  }
 },
 "nbformat": 4,
 "nbformat_minor": 5
}
