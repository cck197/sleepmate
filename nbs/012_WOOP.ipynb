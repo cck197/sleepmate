{
 "cells": [
  {
   "cell_type": "code",
   "execution_count": 1,
   "id": "86f68598-48b7-4adf-a6ec-d3aeb8c8bec8",
   "metadata": {},
   "outputs": [],
   "source": [
    "from sleepmate.agent import *"
   ]
  },
  {
   "cell_type": "code",
   "execution_count": 2,
   "id": "3faa38f8-7e83-4a84-9afc-cc4128252634",
   "metadata": {},
   "outputs": [],
   "source": [
    "!rm -f /Users/cck197/Downloads/virtual_greg/memory.pkl"
   ]
  },
  {
   "cell_type": "markdown",
   "id": "6fe0b283-1c68-4a20-8cae-849df4eb119e",
   "metadata": {},
   "source": [
    "# WOOP"
   ]
  },
  {
   "cell_type": "code",
   "execution_count": 3,
   "id": "9c6b5d50-eacc-44d8-bbf7-7e24587f3196",
   "metadata": {},
   "outputs": [
    {
     "name": "stdout",
     "output_type": "stream",
     "text": [
      "get_agent len(tools)=30\n",
      "_to_args_and_kwargs self.name='get_greeting' all_args=['Chris']\n"
     ]
    },
    {
     "data": {
      "text/markdown": [
       "Hello, Chris! Lovely to have you here. I'm a very humble AI, at your service. Before we start, I'd like to know how you're feeling today."
      ],
      "text/plain": [
       "<IPython.core.display.Markdown object>"
      ]
     },
     "metadata": {},
     "output_type": "display_data"
    }
   ],
   "source": [
    "x = X(goals[\"woop\"]);"
   ]
  },
  {
   "cell_type": "code",
   "execution_count": 4,
   "id": "41accd64-5ba6-4c62-a5ab-5cf7e3263116",
   "metadata": {},
   "outputs": [
    {
     "data": {
      "text/markdown": [
       "I'm sorry to hear that you're feeling a bit tired, Chris. It's completely normal to have days like these. Now, let's start with the WOOP exercise. This exercise will take only five to ten minutes of uninterrupted time. \n",
       "\n",
       "First, I'd like you to think about the time frame for fulfilling your wish. Could you please share that with me?"
      ],
      "text/plain": [
       "<IPython.core.display.Markdown object>"
      ]
     },
     "metadata": {},
     "output_type": "display_data"
    }
   ],
   "source": [
    "x(\"not too bad, a bit tired\");"
   ]
  },
  {
   "cell_type": "code",
   "execution_count": 6,
   "id": "d246e87f-29ab-4025-ab28-35f370ebc7da",
   "metadata": {},
   "outputs": [
    {
     "data": {
      "text/markdown": [
       "No problem, Chris. So, your goal for the next six months is to get stronger. Now, let's move to the next step. What would be the best thing, the best outcome about fulfilling your wish? How would fulfilling your wish make you feel? Please note your best outcome in 3-6 words."
      ],
      "text/plain": [
       "<IPython.core.display.Markdown object>"
      ]
     },
     "metadata": {},
     "output_type": "display_data"
    }
   ],
   "source": [
    "x(\"oh wait, I misunderstood. the time frame is the next six months\");"
   ]
  },
  {
   "cell_type": "code",
   "execution_count": 7,
   "id": "8587690b-3e93-469d-879a-e4897c299d15",
   "metadata": {},
   "outputs": [
    {
     "data": {
      "text/markdown": [
       "That's a great outcome, Chris. Now, I want you to take a moment and imagine this outcome. Imagine yourself being more resilient. \n",
       "\n",
       "Next, let's identify your obstacle. What is it within you that holds you back from fulfilling your wish? What is it in you that stands in the way of you fulfilling your wish? What is your main inner obstacle?"
      ],
      "text/plain": [
       "<IPython.core.display.Markdown object>"
      ]
     },
     "metadata": {},
     "output_type": "display_data"
    }
   ],
   "source": [
    "x(\"more resilient\");"
   ]
  },
  {
   "cell_type": "code",
   "execution_count": 8,
   "id": "050c21d6-4137-44b2-ae7c-bb15b2df73f9",
   "metadata": {},
   "outputs": [
    {
     "data": {
      "text/markdown": [
       "I see, fatigue is your main obstacle. Now, take a moment and imagine this obstacle. \n",
       "\n",
       "Moving on, let's make an if-then plan. What can you do to overcome your fatigue? Name one action you can take or one thought you can think to overcome your obstacle."
      ],
      "text/plain": [
       "<IPython.core.display.Markdown object>"
      ]
     },
     "metadata": {},
     "output_type": "display_data"
    }
   ],
   "source": [
    "x(\"fatigue\");"
   ]
  },
  {
   "cell_type": "code",
   "execution_count": 9,
   "id": "c6ea1861-dc4d-4f6c-b3fa-877854d211b3",
   "metadata": {},
   "outputs": [
    {
     "data": {
      "text/markdown": [
       "That sounds like a good plan. Now, let's put it all together. Your if-then plan would be: \"When I feel fatigue, then I will spend more time in bed.\" \n",
       "\n",
       "Please, slowly repeat this if-then plan to yourself. \n",
       "\n",
       "Let's summarize:\n",
       "\n",
       "- Your Wish: Get stronger\n",
       "- Your best Outcome: More resilient\n",
       "- Your inner Obstacle: Fatigue\n",
       "- Your Plan: When I feel fatigue, then I will spend more time in bed.\n",
       "\n",
       "Does this sound correct to you, Chris?"
      ],
      "text/plain": [
       "<IPython.core.display.Markdown object>"
      ]
     },
     "metadata": {},
     "output_type": "display_data"
    }
   ],
   "source": [
    "x(\"spend more time in bed\");"
   ]
  },
  {
   "cell_type": "code",
   "execution_count": 10,
   "id": "6c4b374d-82d8-4b31-ba21-873e1644725a",
   "metadata": {},
   "outputs": [
    {
     "data": {
      "text/markdown": [
       "Great! Keep this plan in mind as you work towards your goal in the next six months. Remember, when you feel fatigue, then you will spend more time in bed. This will help you overcome your obstacle and move closer to becoming stronger and more resilient. 🚀🚀🚀"
      ],
      "text/plain": [
       "<IPython.core.display.Markdown object>"
      ]
     },
     "metadata": {},
     "output_type": "display_data"
    }
   ],
   "source": [
    "x(\"yes, that's right\");"
   ]
  },
  {
   "cell_type": "code",
   "execution_count": null,
   "id": "6b211c94-6b77-4fb7-b0e4-59600c5752ee",
   "metadata": {},
   "outputs": [],
   "source": []
  }
 ],
 "metadata": {
  "kernelspec": {
   "display_name": "Python 3 (ipykernel)",
   "language": "python",
   "name": "python3"
  },
  "language_info": {
   "codemirror_mode": {
    "name": "ipython",
    "version": 3
   },
   "file_extension": ".py",
   "mimetype": "text/x-python",
   "name": "python",
   "nbconvert_exporter": "python",
   "pygments_lexer": "ipython3",
   "version": "3.11.5"
  }
 },
 "nbformat": 4,
 "nbformat_minor": 5
}
