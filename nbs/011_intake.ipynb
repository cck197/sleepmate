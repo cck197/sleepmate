{
 "cells": [
  {
   "cell_type": "code",
   "execution_count": 1,
   "id": "730462af-c5ba-4d21-a184-e20d55afca38",
   "metadata": {},
   "outputs": [],
   "source": [
    "from sleepmate.agent import *"
   ]
  },
  {
   "cell_type": "code",
   "execution_count": 2,
   "id": "0040419d-b9bc-42d4-b593-b8b47d188abb",
   "metadata": {},
   "outputs": [],
   "source": [
    "!rm -f /Users/cck197/Downloads/virtual_greg/memory.pkl"
   ]
  },
  {
   "cell_type": "markdown",
   "id": "74e738dc-176b-42ca-9b36-1d46413b1554",
   "metadata": {},
   "source": [
    "# Intake"
   ]
  },
  {
   "cell_type": "code",
   "execution_count": 3,
   "id": "cde0b286-bb04-49e1-bdc3-24526911452f",
   "metadata": {},
   "outputs": [
    {
     "name": "stdout",
     "output_type": "stream",
     "text": [
      "get_agent len(tools)=30\n",
      "_to_args_and_kwargs self.name='get_greeting' all_args=['Chris']\n"
     ]
    },
    {
     "data": {
      "text/markdown": [
       "Hello, Chris! It's good to have you here. Now, let's dive into the details, shall we? Could you please tell me your sex?"
      ],
      "text/plain": [
       "<IPython.core.display.Markdown object>"
      ]
     },
     "metadata": {},
     "output_type": "display_data"
    }
   ],
   "source": [
    "x = X(goals[\"intake\"]);"
   ]
  },
  {
   "cell_type": "code",
   "execution_count": 4,
   "id": "961e0fe4-4a1e-400f-ae37-eedf0f13e21a",
   "metadata": {},
   "outputs": [
    {
     "data": {
      "text/markdown": [
       "Thank you, Chris. Could you please share your date of birth?"
      ],
      "text/plain": [
       "<IPython.core.display.Markdown object>"
      ]
     },
     "metadata": {},
     "output_type": "display_data"
    }
   ],
   "source": [
    "x(\"man\");"
   ]
  },
  {
   "cell_type": "code",
   "execution_count": 5,
   "id": "fb010a7e-173a-47ec-bd27-93174174d555",
   "metadata": {},
   "outputs": [
    {
     "data": {
      "text/markdown": [
       "Thank you for sharing that, Chris. Now, could you please tell me about your current occupation?"
      ],
      "text/plain": [
       "<IPython.core.display.Markdown object>"
      ]
     },
     "metadata": {},
     "output_type": "display_data"
    }
   ],
   "source": [
    "x(\"Feb 13 1976\");"
   ]
  },
  {
   "cell_type": "code",
   "execution_count": 6,
   "id": "0fa3b0a7-aab8-4b32-8337-f99b69ebd353",
   "metadata": {},
   "outputs": [
    {
     "data": {
      "text/markdown": [
       "Great, Chris. As a coder, what are your typical work hours?"
      ],
      "text/plain": [
       "<IPython.core.display.Markdown object>"
      ]
     },
     "metadata": {},
     "output_type": "display_data"
    }
   ],
   "source": [
    "x(\"coder\");"
   ]
  },
  {
   "cell_type": "code",
   "execution_count": 7,
   "id": "6c078a34-fc53-4144-8b47-592ee099dfb0",
   "metadata": {},
   "outputs": [
    {
     "data": {
      "text/markdown": [
       "Thank you for that information, Chris. Now, let's move on to some lifestyle factors. Do you smoke?"
      ],
      "text/plain": [
       "<IPython.core.display.Markdown object>"
      ]
     },
     "metadata": {},
     "output_type": "display_data"
    }
   ],
   "source": [
    "x(\"7 - 6 with breaks\");"
   ]
  },
  {
   "cell_type": "code",
   "execution_count": 8,
   "id": "c523f319-044b-4a50-a4d3-5f0d7f667af2",
   "metadata": {},
   "outputs": [
    {
     "data": {
      "text/markdown": [
       "That's good to hear, Chris. How about alcohol? Do you consume alcohol?"
      ],
      "text/plain": [
       "<IPython.core.display.Markdown object>"
      ]
     },
     "metadata": {},
     "output_type": "display_data"
    }
   ],
   "source": [
    "x(\"nope\");"
   ]
  },
  {
   "cell_type": "code",
   "execution_count": 9,
   "id": "345919bf-aeb5-477d-9e5b-577b3c2fd20f",
   "metadata": {},
   "outputs": [
    {
     "data": {
      "text/markdown": [
       "Thank you for sharing, Chris. Could you please describe your level of physical activity?"
      ],
      "text/plain": [
       "<IPython.core.display.Markdown object>"
      ]
     },
     "metadata": {},
     "output_type": "display_data"
    }
   ],
   "source": [
    "x(\"some alchohol, mostly at the weekends\");"
   ]
  },
  {
   "cell_type": "code",
   "execution_count": 10,
   "id": "23fa6c80-86c1-4f37-83c4-a3905684c1cd",
   "metadata": {},
   "outputs": [
    {
     "data": {
      "text/markdown": [
       "That's quite an active lifestyle, Chris! Now, could you please describe what a typical day of eating looks like for you?"
      ],
      "text/plain": [
       "<IPython.core.display.Markdown object>"
      ]
     },
     "metadata": {},
     "output_type": "display_data"
    }
   ],
   "source": [
    "x(\"I'm a cyclist, surfer, lift weights\");"
   ]
  },
  {
   "cell_type": "code",
   "execution_count": 11,
   "id": "dfd939e0-9312-4be6-b34c-bf4074fdc9e5",
   "metadata": {},
   "outputs": [
    {
     "data": {
      "text/markdown": [
       "Thank you for sharing your dietary habits, Chris. Now, let's move on to your medical history. Do you have any existing medical conditions such as diabetes, hypertension, etc.?"
      ],
      "text/plain": [
       "<IPython.core.display.Markdown object>"
      ]
     },
     "metadata": {},
     "output_type": "display_data"
    }
   ],
   "source": [
    "x(\"three eggs and sausages for breakfast, salad and protein for lunch, meat and veg for dinner. 1g protein per lb of bodyweight\");"
   ]
  },
  {
   "cell_type": "code",
   "execution_count": 12,
   "id": "94a9ddc2-761f-4173-ab4a-1c54b5ccfd6d",
   "metadata": {},
   "outputs": [
    {
     "data": {
      "text/markdown": [
       "That's good to hear, Chris. Are you currently taking any medications?"
      ],
      "text/plain": [
       "<IPython.core.display.Markdown object>"
      ]
     },
     "metadata": {},
     "output_type": "display_data"
    }
   ],
   "source": [
    "x(\"none\");"
   ]
  },
  {
   "cell_type": "code",
   "execution_count": 13,
   "id": "eb40f8a2-bfb1-4e6d-a3be-3bc973adeb5c",
   "metadata": {},
   "outputs": [
    {
     "data": {
      "text/markdown": [
       "Great, Chris. Is there a family history of insomnia or other sleep disorders?"
      ],
      "text/plain": [
       "<IPython.core.display.Markdown object>"
      ]
     },
     "metadata": {},
     "output_type": "display_data"
    }
   ],
   "source": [
    "x(\"no\");"
   ]
  },
  {
   "cell_type": "code",
   "execution_count": 14,
   "id": "8b0f04f2-c91d-4ab7-a273-0d9435363811",
   "metadata": {},
   "outputs": [
    {
     "data": {
      "text/markdown": [
       "Thank you for that information, Chris. Now, let's discuss some psychological factors. Do you have a history of mental health conditions such as depression, anxiety, etc.?"
      ],
      "text/plain": [
       "<IPython.core.display.Markdown object>"
      ]
     },
     "metadata": {},
     "output_type": "display_data"
    }
   ],
   "source": [
    "x(\"no\");"
   ]
  },
  {
   "cell_type": "code",
   "execution_count": 15,
   "id": "9038ff6f-140d-43b0-bf9d-55ef34b69b42",
   "metadata": {},
   "outputs": [
    {
     "data": {
      "text/markdown": [
       "That's good to hear, Chris. Are you currently undergoing any psychological treatment?"
      ],
      "text/plain": [
       "<IPython.core.display.Markdown object>"
      ]
     },
     "metadata": {},
     "output_type": "display_data"
    }
   ],
   "source": [
    "x(\"no\");"
   ]
  },
  {
   "cell_type": "code",
   "execution_count": 16,
   "id": "e04ed01d-f8d3-46b2-90c0-f49d422ca70c",
   "metadata": {},
   "outputs": [
    {
     "data": {
      "text/markdown": [
       "Thank you for sharing, Chris. Now, let's talk about your living conditions. Who do you live with? Alone, family, friends?"
      ],
      "text/plain": [
       "<IPython.core.display.Markdown object>"
      ]
     },
     "metadata": {},
     "output_type": "display_data"
    }
   ],
   "source": [
    "x(\"no\");"
   ]
  },
  {
   "cell_type": "code",
   "execution_count": 17,
   "id": "90c61a0e-691c-4465-ab62-a77ae250b673",
   "metadata": {},
   "outputs": [
    {
     "data": {
      "text/markdown": [
       "That sounds like a lively household, Chris! How would you describe the noise level in your living area?"
      ],
      "text/plain": [
       "<IPython.core.display.Markdown object>"
      ]
     },
     "metadata": {},
     "output_type": "display_data"
    }
   ],
   "source": [
    "x(\"live with family, three kids, in a house but sleep in a VW Eurovan\");"
   ]
  },
  {
   "cell_type": "code",
   "execution_count": 18,
   "id": "9b11c271-f93c-4ec8-ae51-ef7c7ae07429",
   "metadata": {},
   "outputs": [
    {
     "data": {
      "text/markdown": [
       "That sounds peaceful, Chris. Now, let's discuss your goals. What does success look like to you?"
      ],
      "text/plain": [
       "<IPython.core.display.Markdown object>"
      ]
     },
     "metadata": {},
     "output_type": "display_data"
    }
   ],
   "source": [
    "x(\"it's very rural and quiet\");"
   ]
  },
  {
   "cell_type": "code",
   "execution_count": 19,
   "id": "0db94ee6-837e-4a2e-99a9-85eed68eb36d",
   "metadata": {},
   "outputs": [
    {
     "data": {
      "text/markdown": [
       "That's a great goal, Chris. Can you tell me what you have tried previously that helped you towards this goal?"
      ],
      "text/plain": [
       "<IPython.core.display.Markdown object>"
      ]
     },
     "metadata": {},
     "output_type": "display_data"
    }
   ],
   "source": [
    "x(\"sleep through the night, wake up feeling refreshed\");"
   ]
  },
  {
   "cell_type": "code",
   "execution_count": 20,
   "id": "77b2d114-00e3-434a-a819-71acc230b760",
   "metadata": {},
   "outputs": [
    {
     "data": {
      "text/markdown": [
       "Thank you for sharing that, Chris. Now, could you please tell me what you have tried previously that didn't help?"
      ],
      "text/plain": [
       "<IPython.core.display.Markdown object>"
      ]
     },
     "metadata": {},
     "output_type": "display_data"
    }
   ],
   "source": [
    "x(\"melatonin\");"
   ]
  },
  {
   "cell_type": "code",
   "execution_count": 21,
   "id": "9de53311-69f1-41f9-8e60-658d8b04137e",
   "metadata": {},
   "outputs": [
    {
     "data": {
      "text/markdown": [
       "I see, thank you for sharing that, Chris. Is there anything else you'd like to add? Any other notes or details you think might be important?"
      ],
      "text/plain": [
       "<IPython.core.display.Markdown object>"
      ]
     },
     "metadata": {},
     "output_type": "display_data"
    }
   ],
   "source": [
    "x(\"apigenin\");"
   ]
  },
  {
   "cell_type": "code",
   "execution_count": 22,
   "id": "6445f911-b3ce-48f8-bf47-34b17449ff6f",
   "metadata": {},
   "outputs": [
    {
     "name": "stdout",
     "output_type": "stream",
     "text": [
      "_to_args_and_kwargs self.name='save_intake' all_args=['Chris']\n",
      "save_intake entry=Intake(date=datetime.datetime(2023, 10, 17, 13, 46, 17, 364629), sex='N/A', date_of_birth=datetime.datetime(2023, 10, 17, 13, 46, 17, 364743), occupation='N/A', work_hours='N/A', smoking='N/A', alcohol='N/A', physical_activity='N/A', diet='N/A', medical_conditions='N/A', medications='no', family_history='no', mental_health='no', psychological_treatment='no', living_with='family, three kids', residence_type='house, sleep in a VW Eurovan', noise_level='very rural and quiet', goal='sleep through the night, wake up feeling refreshed', helpful='melatonin', unhelpful='apigenin', notes='N/A')\n"
     ]
    },
    {
     "data": {
      "text/markdown": [
       "Here's a summary of the information you've provided:\n",
       "\n",
       "- Sex: Male\n",
       "- Date of Birth: February 13, 1976\n",
       "- Occupation: Coder\n",
       "- Work Hours: 7 AM - 6 PM with breaks\n",
       "- Smoking: No\n",
       "- Alcohol: Some, mostly on weekends\n",
       "- Physical Activity: Cyclist, surfer, weightlifter\n",
       "- Typical Diet: Three eggs and sausages for breakfast, salad and protein for lunch, meat and vegetables for dinner. 1g protein per lb of bodyweight.\n",
       "- Medical History: No existing conditions, no current medications, no family history of sleep disorders\n",
       "- Psychological Factors: No history of mental health conditions, no current psychological treatment\n",
       "- Living Conditions: Lives with family in a house, sleeps in a VW Eurovan, rural and quiet area\n",
       "- Goals: Sleep through the night, wake up feeling refreshed\n",
       "- Previous Attempts: Melatonin helped, Apigenin did not\n",
       "\n",
       "Can you please confirm if all the details are correct?"
      ],
      "text/plain": [
       "<IPython.core.display.Markdown object>"
      ]
     },
     "metadata": {},
     "output_type": "display_data"
    }
   ],
   "source": [
    "x(\"no that's it\");"
   ]
  },
  {
   "cell_type": "code",
   "execution_count": 23,
   "id": "22aeaa28-e797-4f0d-9016-7e09432f6b52",
   "metadata": {},
   "outputs": [
    {
     "name": "stdout",
     "output_type": "stream",
     "text": [
      "_to_args_and_kwargs self.name='save_intake' all_args=['string']\n",
      "save_intake entry=Intake(date=datetime.datetime(2023, 10, 17, 13, 46, 58, 638581), sex='Male', date_of_birth=datetime.datetime(1976, 2, 13, 0, 0), occupation='Coder', work_hours='7 AM - 6 PM with breaks', smoking='No', alcohol='Some, mostly on weekends', physical_activity='Cyclist, surfer, weightlifter', diet='Three eggs and sausages for breakfast, salad and protein for lunch, meat and vegetables for dinner. 1g protein per lb of bodyweight.', medical_conditions='No existing conditions', medications='No current medications', family_history='No family history of sleep disorders', mental_health='No history of mental health conditions', psychological_treatment='No current psychological treatment', living_with='Family', residence_type='House', noise_level='Rural and quiet', goal='Sleep through the night, wake up feeling refreshed', helpful='Melatonin', unhelpful='Apigenin', notes='N/A')\n"
     ]
    },
    {
     "data": {
      "text/markdown": [
       "Great! Your information has been saved. Thank you for providing all the details, Chris. 🚀🚀🚀"
      ],
      "text/plain": [
       "<IPython.core.display.Markdown object>"
      ]
     },
     "metadata": {},
     "output_type": "display_data"
    },
    {
     "data": {
      "text/plain": [
       "'Great! Your information has been saved. Thank you for providing all the details, Chris. 🚀🚀🚀'"
      ]
     },
     "execution_count": 23,
     "metadata": {},
     "output_type": "execute_result"
    }
   ],
   "source": [
    "x(\"yep!\")"
   ]
  },
  {
   "cell_type": "code",
   "execution_count": 25,
   "id": "635b6568-3ea7-4a25-9a6d-02e57fe5274b",
   "metadata": {},
   "outputs": [
    {
     "name": "stdout",
     "output_type": "stream",
     "text": [
      "_to_args_and_kwargs self.name='get_last_intake' all_args=['Chris']\n",
      "get_last_intake entry={'_id': ObjectId('652ef2c2d79c8794b32f2498'), 'user': ObjectId('6526d86e6015be5b3434ac13'), 'date': datetime.datetime(2023, 10, 17, 13, 46, 58, 638000), 'sex': 'Male', 'date_of_birth': datetime.datetime(1976, 2, 13, 0, 0), 'occupation': 'Coder', 'work_hours': '7 AM - 6 PM with breaks', 'smoking': 'No', 'alcohol': 'Some, mostly on weekends', 'physical_activity': 'Cyclist, surfer, weightlifter', 'diet': 'Three eggs and sausages for breakfast, salad and protein for lunch, meat and vegetables for dinner. 1g protein per lb of bodyweight.', 'medical_conditions': 'No existing conditions', 'medications': 'No current medications', 'family_history': 'No family history of sleep disorders', 'mental_health': 'No history of mental health conditions', 'psychological_treatment': 'No current psychological treatment', 'living_with': 'Family', 'residence_type': 'House', 'noise_level': 'Rural and quiet', 'goal': 'Sleep through the night, wake up feeling refreshed', 'helpful': 'Melatonin', 'unhelpful': 'Apigenin', 'notes': 'N/A'}\n"
     ]
    },
    {
     "data": {
      "text/markdown": [
       "Here's a summary of your most recent intake:\n",
       "\n",
       "- Date: October 17, 2023\n",
       "- Sex: Male\n",
       "- Date of Birth: February 13, 1976\n",
       "- Occupation: Coder\n",
       "- Work Hours: 7 AM - 6 PM with breaks\n",
       "- Smoking: No\n",
       "- Alcohol: Some, mostly on weekends\n",
       "- Physical Activity: Cyclist, surfer, weightlifter\n",
       "- Diet: Three eggs and sausages for breakfast, salad and protein for lunch, meat and vegetables for dinner. 1g protein per lb of bodyweight.\n",
       "- Medical Conditions: No existing conditions\n",
       "- Medications: No current medications\n",
       "- Family History: No family history of sleep disorders\n",
       "- Mental Health: No history of mental health conditions\n",
       "- Psychological Treatment: No current psychological treatment\n",
       "- Living Conditions: Lives with family in a house, sleeps in a VW Eurovan, rural and quiet area\n",
       "- Goals: Sleep through the night, wake up feeling refreshed\n",
       "- Previous Attempts: Melatonin helped, Apigenin did not\n",
       "- Notes: N/A\n",
       "\n",
       "Please note that some fields are marked as N/A, which means the information was not available at the time of the intake."
      ],
      "text/plain": [
       "<IPython.core.display.Markdown object>"
      ]
     },
     "metadata": {},
     "output_type": "display_data"
    }
   ],
   "source": [
    "x(\"summarise my intake\");"
   ]
  },
  {
   "cell_type": "code",
   "execution_count": null,
   "id": "4c73c6b7-3dd3-4bd0-9ca3-177c76ebc698",
   "metadata": {},
   "outputs": [],
   "source": []
  }
 ],
 "metadata": {
  "kernelspec": {
   "display_name": "Python 3 (ipykernel)",
   "language": "python",
   "name": "python3"
  },
  "language_info": {
   "codemirror_mode": {
    "name": "ipython",
    "version": 3
   },
   "file_extension": ".py",
   "mimetype": "text/x-python",
   "name": "python",
   "nbconvert_exporter": "python",
   "pygments_lexer": "ipython3",
   "version": "3.11.5"
  }
 },
 "nbformat": 4,
 "nbformat_minor": 5
}
