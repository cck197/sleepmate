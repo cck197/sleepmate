{
 "cells": [
  {
   "cell_type": "code",
   "execution_count": 1,
   "id": "730462af-c5ba-4d21-a184-e20d55afca38",
   "metadata": {},
   "outputs": [],
   "source": [
    "from sleepmate.agent import *"
   ]
  },
  {
   "cell_type": "code",
   "execution_count": 2,
   "id": "0040419d-b9bc-42d4-b593-b8b47d188abb",
   "metadata": {},
   "outputs": [],
   "source": [
    "!rm -f /Users/cck197/Downloads/virtual_greg/memory.pkl"
   ]
  },
  {
   "cell_type": "markdown",
   "id": "74e738dc-176b-42ca-9b36-1d46413b1554",
   "metadata": {},
   "source": [
    "# Intake"
   ]
  },
  {
   "cell_type": "code",
   "execution_count": 3,
   "id": "cde0b286-bb04-49e1-bdc3-24526911452f",
   "metadata": {},
   "outputs": [
    {
     "name": "stdout",
     "output_type": "stream",
     "text": [
      "get_agent len(tools)=30\n",
      "_to_args_and_kwargs self.name='get_greeting' all_args=['Chris']\n"
     ]
    },
    {
     "data": {
      "text/markdown": [
       "Hello, Chris! Lovely to meet you. I hope you're doing well. If you don't mind, I'd like to gather some information to get a better understanding of you and your lifestyle. Let's start with some basics. May I know your sex and date of birth, please?"
      ],
      "text/plain": [
       "<IPython.core.display.Markdown object>"
      ]
     },
     "metadata": {},
     "output_type": "display_data"
    }
   ],
   "source": [
    "x = X(goals[\"intake\"]);"
   ]
  },
  {
   "cell_type": "code",
   "execution_count": 4,
   "id": "961e0fe4-4a1e-400f-ae37-eedf0f13e21a",
   "metadata": {},
   "outputs": [
    {
     "data": {
      "text/markdown": [
       "Thank you, Chris. Now, could you please tell me about your current occupation and your typical work hours?"
      ],
      "text/plain": [
       "<IPython.core.display.Markdown object>"
      ]
     },
     "metadata": {},
     "output_type": "display_data"
    }
   ],
   "source": [
    "x(\"man, Feb 13 1976\");"
   ]
  },
  {
   "cell_type": "code",
   "execution_count": 5,
   "id": "6c078a34-fc53-4144-8b47-592ee099dfb0",
   "metadata": {},
   "outputs": [
    {
     "data": {
      "text/markdown": [
       "Thank you for sharing that, Chris. Now, let's move on to some lifestyle factors. Do you smoke or consume alcohol? Could you also describe your level of physical activity and what a typical day of eating looks like for you?"
      ],
      "text/plain": [
       "<IPython.core.display.Markdown object>"
      ]
     },
     "metadata": {},
     "output_type": "display_data"
    }
   ],
   "source": [
    "x(\"coder, working 7 - 6 with breaks\");"
   ]
  },
  {
   "cell_type": "code",
   "execution_count": 6,
   "id": "345919bf-aeb5-477d-9e5b-577b3c2fd20f",
   "metadata": {},
   "outputs": [
    {
     "data": {
      "text/markdown": [
       "Great, Chris. It sounds like you lead an active lifestyle. Could you also tell me what a typical day of eating looks like for you?"
      ],
      "text/plain": [
       "<IPython.core.display.Markdown object>"
      ]
     },
     "metadata": {},
     "output_type": "display_data"
    }
   ],
   "source": [
    "x(\"non smoker. some alchohol, mostly at the weekends. I'm a cyclist, surfer, lift weights\");"
   ]
  },
  {
   "cell_type": "code",
   "execution_count": 7,
   "id": "dfd939e0-9312-4be6-b34c-bf4074fdc9e5",
   "metadata": {},
   "outputs": [
    {
     "data": {
      "text/markdown": [
       "Thank you for sharing your diet details, Chris. Now, let's discuss your medical history. Do you have any existing medical conditions such as diabetes, hypertension, etc.? Could you also provide a list of any current medications you're taking? And is there a family history of insomnia or other sleep disorders?"
      ],
      "text/plain": [
       "<IPython.core.display.Markdown object>"
      ]
     },
     "metadata": {},
     "output_type": "display_data"
    }
   ],
   "source": [
    "x(\"three eggs and sausages for breakfast, salad and protein for lunch, meat and veg for dinner. 1g protein per lb of bodyweight\");"
   ]
  },
  {
   "cell_type": "code",
   "execution_count": 8,
   "id": "94a9ddc2-761f-4173-ab4a-1c54b5ccfd6d",
   "metadata": {},
   "outputs": [
    {
     "data": {
      "text/markdown": [
       "That's good to hear, Chris. Now, let's talk about psychological factors. Do you have a history of mental health conditions like depression or anxiety? Are you currently undergoing any psychological treatment?"
      ],
      "text/plain": [
       "<IPython.core.display.Markdown object>"
      ]
     },
     "metadata": {},
     "output_type": "display_data"
    }
   ],
   "source": [
    "x(\"no medical conditions or meds. no history of insomnia\");"
   ]
  },
  {
   "cell_type": "code",
   "execution_count": 9,
   "id": "eb40f8a2-bfb1-4e6d-a3be-3bc973adeb5c",
   "metadata": {},
   "outputs": [
    {
     "data": {
      "text/markdown": [
       "Thank you for sharing, Chris. Now, let's discuss your living conditions. Who do you live with? What type of residence do you live in (House, Apartment, etc.)? And how would you describe the noise level in your living area?"
      ],
      "text/plain": [
       "<IPython.core.display.Markdown object>"
      ]
     },
     "metadata": {},
     "output_type": "display_data"
    }
   ],
   "source": [
    "x(\"no\");"
   ]
  },
  {
   "cell_type": "code",
   "execution_count": 10,
   "id": "90c61a0e-691c-4465-ab62-a77ae250b673",
   "metadata": {},
   "outputs": [
    {
     "data": {
      "text/markdown": [
       "Thank you for all the information, Chris. Is there anything else you'd like to add that you think might be relevant or important for me to know?"
      ],
      "text/plain": [
       "<IPython.core.display.Markdown object>"
      ]
     },
     "metadata": {},
     "output_type": "display_data"
    }
   ],
   "source": [
    "x(\"live in a house but sleep in a VW Eurovan. it's a rural area, very quiet.\");"
   ]
  },
  {
   "cell_type": "code",
   "execution_count": 11,
   "id": "6445f911-b3ce-48f8-bf47-34b17449ff6f",
   "metadata": {},
   "outputs": [
    {
     "name": "stdout",
     "output_type": "stream",
     "text": [
      "_to_args_and_kwargs self.name='save_intake' all_args=['Chris']\n",
      "save_intake entry=Intake(date=datetime.datetime(2023, 10, 17, 10, 56, 10, 641796), sex='man', date_of_birth=datetime.datetime(1976, 2, 13, 0, 0), occupation='coder', work_hours='7 - 6 with breaks', smoking='non smoker', alcohol='some alcohol, mostly at the weekends', physical_activity='cyclist, surfer, lift weights', diet='three eggs and sausages for breakfast, salad and protein for lunch, meat and veg for dinner. 1g protein per lb of bodyweight', medical_conditions='no medical conditions', medications='no medications', family_history='no history of insomnia', mental_health='no mental health conditions', psychological_treatment='no psychological treatment', living_with='N/A', residence_type='house, sleep in a VW Eurovan', noise_level='rural area, very quiet', notes='N/A')\n"
     ]
    },
    {
     "data": {
      "text/markdown": [
       "Great, Chris. Here's a summary of the information you've provided:\n",
       "\n",
       "- Sex: Male\n",
       "- Date of Birth: February 13, 1976\n",
       "- Occupation: Coder\n",
       "- Work Hours: 7 AM - 6 PM with breaks\n",
       "- Smoking: No\n",
       "- Alcohol: Yes, mostly on weekends\n",
       "- Physical Activity: Cyclist, surfer, weight lifting\n",
       "- Diet: Three eggs and sausages for breakfast, salad and protein for lunch, meat and vegetables for dinner. Consumes 1g protein per lb of bodyweight.\n",
       "- Medical History: No existing medical conditions or medications. No family history of insomnia.\n",
       "- Psychological Factors: No history of mental health conditions or current psychological treatment.\n",
       "- Living Conditions: Lives in a house but sleeps in a VW Eurovan in a quiet, rural area.\n",
       "\n",
       "Can you please confirm if all the details are correct?"
      ],
      "text/plain": [
       "<IPython.core.display.Markdown object>"
      ]
     },
     "metadata": {},
     "output_type": "display_data"
    }
   ],
   "source": [
    "x(\"no that's it\");"
   ]
  },
  {
   "cell_type": "code",
   "execution_count": 12,
   "id": "22aeaa28-e797-4f0d-9016-7e09432f6b52",
   "metadata": {},
   "outputs": [
    {
     "name": "stdout",
     "output_type": "stream",
     "text": [
      "_to_args_and_kwargs self.name='save_intake' all_args=['Sex: Male\\nDate of Birth: February 13, 1976\\nOccupation: Coder\\nWork Hours: 7 AM - 6 PM with breaks\\nSmoking: No\\nAlcohol: Yes, mostly on weekends\\nPhysical Activity: Cyclist, surfer, weight lifting\\nDiet: Three eggs and sausages for breakfast, salad and protein for lunch, meat and vegetables for dinner. Consumes 1g protein per lb of bodyweight.\\nMedical History: No existing medical conditions or medications. No family history of insomnia.\\nPsychological Factors: No history of mental health conditions or current psychological treatment.\\nLiving Conditions: Lives in a house but sleeps in a VW Eurovan in a quiet, rural area.']\n",
      "save_intake entry=Intake(date=datetime.datetime(2023, 10, 17, 10, 58, 41, 59312), sex='Male', date_of_birth=datetime.datetime(1976, 2, 13, 0, 0), occupation='Coder', work_hours='7 AM - 6 PM with breaks', smoking='No', alcohol='Yes, mostly on weekends', physical_activity='Cyclist, surfer, weight lifting', diet='Three eggs and sausages for breakfast, salad and protein for lunch, meat and vegetables for dinner. Consumes 1g protein per lb of bodyweight.', medical_conditions='No existing medical conditions', medications='No current medications', family_history='No family history of insomnia', mental_health='No history of mental health conditions', psychological_treatment='No current psychological treatment', living_with='Lives alone', residence_type='House but sleeps in a VW Eurovan', noise_level='Quiet, rural area', notes='N/A')\n"
     ]
    },
    {
     "data": {
      "text/markdown": [
       "🚀🚀🚀"
      ],
      "text/plain": [
       "<IPython.core.display.Markdown object>"
      ]
     },
     "metadata": {},
     "output_type": "display_data"
    },
    {
     "data": {
      "text/plain": [
       "'🚀🚀🚀'"
      ]
     },
     "execution_count": 12,
     "metadata": {},
     "output_type": "execute_result"
    }
   ],
   "source": [
    "x(\"yep!\")"
   ]
  },
  {
   "cell_type": "code",
   "execution_count": 13,
   "id": "635b6568-3ea7-4a25-9a6d-02e57fe5274b",
   "metadata": {},
   "outputs": [
    {
     "name": "stdout",
     "output_type": "stream",
     "text": [
      "_to_args_and_kwargs self.name='get_last_intake' all_args=['Chris']\n",
      "get_last_intake entry={'_id': ObjectId('652ecabad1a7bb2112a5c7ae'), 'user': ObjectId('6526d86e6015be5b3434ac13'), 'date': datetime.datetime(2023, 10, 17, 10, 56, 10, 641000), 'sex': 'man', 'date_of_birth': datetime.datetime(1976, 2, 13, 0, 0), 'occupation': 'coder', 'work_hours': '7 - 6 with breaks', 'smoking': 'non smoker', 'alcohol': 'some alcohol, mostly at the weekends', 'physical_activity': 'cyclist, surfer, lift weights', 'diet': 'three eggs and sausages for breakfast, salad and protein for lunch, meat and veg for dinner. 1g protein per lb of bodyweight', 'medical_conditions': 'no medical conditions', 'medications': 'no medications', 'family_history': 'no history of insomnia', 'mental_health': 'no mental health conditions', 'psychological_treatment': 'no psychological treatment', 'living_with': 'N/A', 'residence_type': 'house, sleep in a VW Eurovan', 'noise_level': 'rural area, very quiet', 'notes': 'N/A'}\n"
     ]
    },
    {
     "data": {
      "text/markdown": [
       "Here's a summary of your intake:\n",
       "\n",
       "- Date: October 17, 2023\n",
       "- Sex: Male\n",
       "- Date of Birth: February 13, 1976\n",
       "- Occupation: Coder\n",
       "- Work Hours: 7 AM - 6 PM with breaks\n",
       "- Smoking: Non-smoker\n",
       "- Alcohol: Some, mostly on weekends\n",
       "- Physical Activity: Cyclist, surfer, lifts weights\n",
       "- Diet: Three eggs and sausages for breakfast, salad and protein for lunch, meat and vegetables for dinner. Consumes 1g protein per lb of bodyweight.\n",
       "- Medical Conditions: None\n",
       "- Medications: None\n",
       "- Family History: No history of insomnia\n",
       "- Mental Health: No mental health conditions\n",
       "- Psychological Treatment: None\n",
       "- Living Conditions: Lives in a house but sleeps in a VW Eurovan in a quiet, rural area.\n",
       "\n",
       "Please let me know if there's anything else you need."
      ],
      "text/plain": [
       "<IPython.core.display.Markdown object>"
      ]
     },
     "metadata": {},
     "output_type": "display_data"
    }
   ],
   "source": [
    "x(\"summarise my intake\");"
   ]
  },
  {
   "cell_type": "code",
   "execution_count": null,
   "id": "4c73c6b7-3dd3-4bd0-9ca3-177c76ebc698",
   "metadata": {},
   "outputs": [],
   "source": []
  }
 ],
 "metadata": {
  "kernelspec": {
   "display_name": "Python 3 (ipykernel)",
   "language": "python",
   "name": "python3"
  },
  "language_info": {
   "codemirror_mode": {
    "name": "ipython",
    "version": 3
   },
   "file_extension": ".py",
   "mimetype": "text/x-python",
   "name": "python",
   "nbconvert_exporter": "python",
   "pygments_lexer": "ipython3",
   "version": "3.11.5"
  }
 },
 "nbformat": 4,
 "nbformat_minor": 5
}
