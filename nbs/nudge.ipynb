{
 "cells": [
  {
   "cell_type": "code",
   "execution_count": 1,
   "id": "1958f58c-7d1a-465d-9d3e-e40df150ae75",
   "metadata": {},
   "outputs": [],
   "source": [
    "from sleepmate.executor import *\n",
    "from sleepmate.nudge import *\n",
    "from sleepmate.db import *\n",
    "from sleepmate.config import *\n",
    "from sleepmate.helpful_scripts import *"
   ]
  },
  {
   "cell_type": "code",
   "execution_count": 2,
   "id": "9768f6bb-4fec-4aea-a62f-611cba75fc0b",
   "metadata": {},
   "outputs": [],
   "source": [
    "username = \"cck197\""
   ]
  },
  {
   "cell_type": "code",
   "execution_count": 3,
   "id": "15630df8-e212-4f57-833f-a1835edc8ca7",
   "metadata": {},
   "outputs": [],
   "source": [
    "x = X(username=username, hello=None)"
   ]
  },
  {
   "cell_type": "code",
   "execution_count": 9,
   "id": "d1027bd6-0903-4556-ae1d-4e825c65f804",
   "metadata": {},
   "outputs": [],
   "source": [
    "db_nudge = get_nudge(x.db_user_id)"
   ]
  },
  {
   "cell_type": "code",
   "execution_count": 10,
   "id": "1b97aa69-72fb-4c1c-bff8-1d6224b0db4c",
   "metadata": {},
   "outputs": [
    {
     "data": {
      "text/plain": [
       "SON([('_id', ObjectId('6543975bb9a23c03dcbadebf')), ('user', ObjectId('653857366f561d27ec50ea2a')), ('text', None), ('last_seen', datetime.datetime(2023, 11, 2, 5, 35, 0, 861000)), ('nudged', False)])"
      ]
     },
     "execution_count": 10,
     "metadata": {},
     "output_type": "execute_result"
    }
   ],
   "source": [
    "db_nudge.to_mongo()"
   ]
  },
  {
   "cell_type": "code",
   "execution_count": 8,
   "id": "476e11f3-705e-41b1-95fd-7e942207eefd",
   "metadata": {},
   "outputs": [
    {
     "data": {
      "text/plain": [
       "False"
      ]
     },
     "execution_count": 8,
     "metadata": {},
     "output_type": "execute_result"
    }
   ],
   "source": [
    "should_send_nudge(db_nudge)"
   ]
  },
  {
   "cell_type": "code",
   "execution_count": 7,
   "id": "01e00341-cfab-466d-a91b-b5c6b7e5d428",
   "metadata": {},
   "outputs": [],
   "source": [
    "set_nudge(db_nudge, nudged=False)"
   ]
  },
  {
   "cell_type": "code",
   "execution_count": 12,
   "id": "94ede1ef-ad03-4790-8934-8ded60094d7e",
   "metadata": {},
   "outputs": [],
   "source": [
    "db_nudge.delete()"
   ]
  },
  {
   "cell_type": "code",
   "execution_count": 6,
   "id": "dc240f90-cc5d-4243-a2d3-1dc59cfa6745",
   "metadata": {},
   "outputs": [
    {
     "data": {
      "text/plain": [
       "1660.5716956880742"
      ]
     },
     "execution_count": 6,
     "metadata": {},
     "output_type": "execute_result"
    }
   ],
   "source": [
    "SLEEPMATE_NUDGE_TIME ** 1.3"
   ]
  },
  {
   "cell_type": "code",
   "execution_count": 24,
   "id": "aa55d3d7-e1c0-4e91-a196-3b4e64377e1b",
   "metadata": {},
   "outputs": [],
   "source": [
    "n = 2"
   ]
  },
  {
   "cell_type": "code",
   "execution_count": 25,
   "id": "5f4a1d93-5388-4a5d-935b-8e72d09b97b1",
   "metadata": {},
   "outputs": [
    {
     "data": {
      "text/plain": [
       "938.7403933595692"
      ]
     },
     "execution_count": 25,
     "metadata": {},
     "output_type": "execute_result"
    }
   ],
   "source": [
    "300 ** (1 + n/10.)"
   ]
  },
  {
   "cell_type": "code",
   "execution_count": 5,
   "id": "8b25c744-de1b-408f-b5e0-cad3e5d18e50",
   "metadata": {},
   "outputs": [
    {
     "data": {
      "text/plain": [
       "5196.152422706632"
      ]
     },
     "execution_count": 5,
     "metadata": {},
     "output_type": "execute_result"
    }
   ],
   "source": [
    "get_delay(SLEEPMATE_NUDGE_TIME, 5)"
   ]
  },
  {
   "cell_type": "code",
   "execution_count": 3,
   "id": "d6d75c8a-eb18-48fe-b0b4-6e40f892be8b",
   "metadata": {},
   "outputs": [
    {
     "data": {
      "text/plain": [
       "300"
      ]
     },
     "execution_count": 3,
     "metadata": {},
     "output_type": "execute_result"
    }
   ],
   "source": [
    "SLEEPMATE_NUDGE_TIME"
   ]
  },
  {
   "cell_type": "code",
   "execution_count": null,
   "id": "e7cbaa57-9b14-420b-97e9-c4d2c53471ce",
   "metadata": {},
   "outputs": [],
   "source": []
  }
 ],
 "metadata": {
  "kernelspec": {
   "display_name": "Python 3 (ipykernel)",
   "language": "python",
   "name": "python3"
  },
  "language_info": {
   "codemirror_mode": {
    "name": "ipython",
    "version": 3
   },
   "file_extension": ".py",
   "mimetype": "text/x-python",
   "name": "python",
   "nbconvert_exporter": "python",
   "pygments_lexer": "ipython3",
   "version": "3.11.5"
  }
 },
 "nbformat": 4,
 "nbformat_minor": 5
}
