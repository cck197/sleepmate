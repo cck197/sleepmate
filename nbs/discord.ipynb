{
 "cells": [
  {
   "cell_type": "code",
   "execution_count": 1,
   "id": "3195c107-f432-457c-9038-69aba1746e91",
   "metadata": {},
   "outputs": [],
   "source": [
    "import discord"
   ]
  },
  {
   "cell_type": "code",
   "execution_count": 2,
   "id": "01966281-59e8-49a5-bba7-c00d77395781",
   "metadata": {},
   "outputs": [],
   "source": [
    "intents = discord.Intents.default()"
   ]
  },
  {
   "cell_type": "code",
   "execution_count": 3,
   "id": "4461c385-1a83-4de2-bc88-d4701818f4bf",
   "metadata": {},
   "outputs": [
    {
     "data": {
      "text/plain": [
       "<Intents value=3243773>"
      ]
     },
     "execution_count": 3,
     "metadata": {},
     "output_type": "execute_result"
    }
   ],
   "source": [
    "intents"
   ]
  },
  {
   "cell_type": "code",
   "execution_count": null,
   "id": "4ff6d16d-a9e9-47da-8783-6c3942b5f4c7",
   "metadata": {},
   "outputs": [],
   "source": []
  }
 ],
 "metadata": {
  "kernelspec": {
   "display_name": "Python 3 (ipykernel)",
   "language": "python",
   "name": "python3"
  },
  "language_info": {
   "codemirror_mode": {
    "name": "ipython",
    "version": 3
   },
   "file_extension": ".py",
   "mimetype": "text/x-python",
   "name": "python",
   "nbconvert_exporter": "python",
   "pygments_lexer": "ipython3",
   "version": "3.11.5"
  }
 },
 "nbformat": 4,
 "nbformat_minor": 5
}
