{
 "cells": [
  {
   "cell_type": "code",
   "execution_count": 1,
   "id": "0a590dc8-f379-4382-b6e5-b0e3b5c57680",
   "metadata": {},
   "outputs": [],
   "source": [
    "from sleepmate.agent import *"
   ]
  },
  {
   "cell_type": "markdown",
   "id": "59f7f5f2-6c18-496a-aef4-1d4877f29401",
   "metadata": {},
   "source": [
    "# Retrieval Assisted Generation (RAG)"
   ]
  },
  {
   "cell_type": "code",
   "execution_count": 2,
   "id": "87ae3ab7-710c-4e66-8548-eca9526e3aee",
   "metadata": {},
   "outputs": [
    {
     "name": "stdout",
     "output_type": "stream",
     "text": [
      "get_agent len(tools)=28\n",
      "load_memory filename='/Users/cck197/Downloads/virtual_greg/memory.pkl'\n"
     ]
    },
    {
     "data": {
      "text/markdown": [
       "Hello Chris, I hope you're doing well. Is now a good time to record a sleep diary entry?"
      ],
      "text/plain": [
       "<IPython.core.display.Markdown object>"
      ]
     },
     "metadata": {},
     "output_type": "display_data"
    }
   ],
   "source": [
    "x = X(goals[\"daily_routine\"]);#, memory=memory)#, audio=True)#, KNOWLEDGE_GOAL_PROMPTS[0])"
   ]
  },
  {
   "cell_type": "code",
   "execution_count": 3,
   "id": "fd8a6fe5-3dce-44de-95c4-779ce937602c",
   "metadata": {},
   "outputs": [
    {
     "name": "stdout",
     "output_type": "stream",
     "text": [
      "_to_args_and_kwargs self.name='get_knowledge_answer' all_args=['daily routine']\n"
     ]
    },
    {
     "data": {
      "text/markdown": [
       "A healthy daily routine can help maintain physical and mental health, and efficiently manage time. Here's an example of a daily routine that incorporates aspects of the knowledge provided:\n",
       "\n",
       "1. **Wake Up**: Wake up at a consistent time each day. This helps to synchronize the body's internal clock and can lead to better sleep and more alertness during the day.\n",
       "\n",
       "2. **Morning Light Exposure**: Spend at least an hour outdoors in daylight each day. This acts as a strong time cue for your body's clock, helping to optimize various bodily functions.\n",
       "\n",
       "3. **Physical Activity**: Aim to move frequently throughout the day to support health and function, including blood sugar control and brain function. If possible, plan more strenuous exercise for the late biological afternoon (around 5 or 6 PM).\n",
       "\n",
       "4. **Eating and Fasting Cycles**: Stick to a time-restricted eating schedule, consuming calories within a period of 12 hours or less each day. Ideally, the eating window should end at least two hours before bed.\n",
       "\n",
       "5. **Nutrition**: Focus on foods that have a high satiety per calorie, such as fruits, vegetables, lean meats, and fish. These should constitute the bulk of your nutrition each day.\n",
       "\n",
       "6. **Avoid Snacking**: Try to exclude snacks from your diet. Most snacking is mindless and tends to involve low-quality foods. \n",
       "\n",
       "7. **Sleep**: Aim to match your time in bed to your actual sleep capacity. This might mean spending slightly more time in bed if you have a history of insufficient sleep, or less time in bed if you have insomnia-type symptoms. \n",
       "\n",
       "Remember, this is just an example and everyone's routine may vary. Adjustments may be needed based on individual health conditions, work schedules, and personal preferences."
      ],
      "text/plain": [
       "<IPython.core.display.Markdown object>"
      ]
     },
     "metadata": {},
     "output_type": "display_data"
    }
   ],
   "source": [
    "x(\"yeah not bad, no daily routine\");"
   ]
  },
  {
   "cell_type": "code",
   "execution_count": 4,
   "id": "4b9048fe-0465-4d25-ac98-4b0315eb1f0e",
   "metadata": {
    "collapsed": true,
    "jupyter": {
     "outputs_hidden": true
    }
   },
   "outputs": [
    {
     "data": {
      "text/markdown": [
       "A typical daily routine might include the following activities:\n",
       "\n",
       "1. **Morning (6:00-9:00 AM)**: Wake up, do some light stretching or a short workout, drink a glass of water, shower, and get dressed. Have a healthy breakfast, which could include foods like fruits, lean meats, and whole grains. Spend at least an hour outdoors in daylight for a refreshing start to the day. \n",
       "\n",
       "2. **Mid-Morning (9:00-12:00 PM)**: This is often a productive time for work or school-related tasks. Take short breaks for light movement or stretching to maintain energy and focus.\n",
       "\n",
       "3. **Afternoon (12:00-5:00 PM)**: Have a balanced lunch, ideally consisting of vegetables, lean protein, and complex carbohydrates. Continue with work or school tasks. The body is primed for strenuous exercise in the late afternoon, around 5 or 6 PM, so this could be a good time for a workout at the gym.\n",
       "\n",
       "4. **Evening (5:00-8:00 PM)**: Wind down work activities and prepare dinner. Try to include a variety of nutrient-dense foods such as fruits, vegetables, lean meats, and fish. After dinner, engage in relaxing activities like reading, listening to music, or spending time with family. \n",
       "\n",
       "5. **Night (8:00-10:00 PM)**: Begin preparing for bed about three hours before sleep. This includes minimizing exposure to bright overhead lights and digital screens. Aim to sleep in a near or total dark environment for optimal rest.\n",
       "\n",
       "6. **Sleep (10:00 PM - 6:00 AM)**: Aim for seven to nine hours of quality sleep. Regular sleep and wake times are important for maintaining a healthy sleep-wake cycle.\n",
       "\n",
       "Remember, this is just a general routine and individual needs and preferences can vary. It's important to listen to your body and adjust your routine as needed to support your health and well-being."
      ],
      "text/plain": [
       "<IPython.core.display.Markdown object>"
      ]
     },
     "metadata": {},
     "output_type": "display_data"
    }
   ],
   "source": [
    "x(\"sure\");"
   ]
  },
  {
   "cell_type": "code",
   "execution_count": 4,
   "id": "6e8fa3da-37c3-4baf-a370-277459d6daa7",
   "metadata": {
    "scrolled": true
   },
   "outputs": [
    {
     "name": "stdout",
     "output_type": "stream",
     "text": [
      "_to_args_and_kwargs self.name='get_knowledge_answer' all_args=['alcohol and sleep']\n"
     ]
    },
    {
     "data": {
      "text/markdown": [
       "Alcohol can significantly impact sleep patterns and the quality of sleep. Research indicates that it disrupts the biological clock at various levels, including the central clock and the muscle clock. The timing and dose of alcohol consumption also matter. \n",
       "\n",
       "Here are some key points to remember:\n",
       "- Earlier consumption of alcohol is generally better. The old saying \"it's always five o'clock somewhere\" applies here. Consuming your alcoholic drink earlier in the day is better for your sleep patterns.\n",
       "- The quantity of alcohol consumed is also important. Less is better. To understand the unit quantities of common drinks, there are resources such as the unit calculator at drinkaware.co.uk and alcoholchange.org.uk.\n",
       "- It is recommended to allow at least one hour before bed per unit of alcohol consumed, plus one additional hour. For example, if you consume a pint of beer (typically about two units), you should finish drinking at least three hours before bed. This is due to the rate at which your body can detoxify alcohol.\n",
       "- Do note that continuously waking up during the night due to needing to urinate can disrupt your sleep. Hence, it might be beneficial to limit your fluid intake in general before bed.\n",
       "  \n",
       "Remember, while alcohol can make you feel sleepy and may help you fall asleep faster, it can disrupt your sleep later in the night and lead to a less restful sleep overall. It's best to consume alcohol in moderation and well before bedtime to promote better sleep."
      ],
      "text/plain": [
       "<IPython.core.display.Markdown object>"
      ]
     },
     "metadata": {},
     "output_type": "display_data"
    }
   ],
   "source": [
    "x(\"does alchohol affect sleep? when should I stop drinking?\");"
   ]
  },
  {
   "cell_type": "code",
   "execution_count": 5,
   "id": "5960f090-7691-4562-bf1f-c9d9e486b613",
   "metadata": {
    "scrolled": true
   },
   "outputs": [
    {
     "name": "stdout",
     "output_type": "stream",
     "text": [
      "_to_args_and_kwargs self.name='get_knowledge_answer' all_args=['types of insomnia']\n"
     ]
    },
    {
     "data": {
      "text/markdown": [
       "Insomnia, a sleep disorder that affects millions of people globally, can be categorized primarily into two types: Acute Insomnia and Chronic Insomnia.\n",
       "\n",
       "1. Acute Insomnia: Also known as adjustment insomnia, this type of insomnia is short-term and can be triggered by various factors. These factors can include external stimuli such as jet lag and certain medications, or internal stimuli like psychological distress, anticipation of important events, or spikes in pain. Acute insomnia generally resolves once the disruptive stimuli subside.\n",
       "\n",
       "2. Chronic Insomnia: Chronic insomnia is a long-term sleep disorder and can be caused by various factors. These include:\n",
       "   - Other sleep disorders such as sleep apnea\n",
       "   - Psychiatric disorders including depression\n",
       "   - Consumption of certain medications including some antidepressants\n",
       "   - Drug and alcohol abuse\n",
       "   - Medical disorders such as arthritis, asthma, heart failure, hyperthyroidism, kidney disorders, neurodegenerative diseases, prostate hypertrophy, and rhinitis\n",
       "   - Poor sleep hygiene\n",
       "\n",
       "Chronic insomnia can have significant implications for a person's quality of life, and managing it often requires addressing the underlying causes. Diagnosing insomnia typically involves carrying out a detailed medical, sleep, and sleepiness history by a qualified sleep medicine specialist. If you suspect you have a sleep disorder, it's advisable to consult with a sleep specialist.\n",
       "   \n",
       "In addition to these major types, insomnia can also be classified based on its characteristics into sleep-onset insomnia (difficulty falling asleep) and sleep-maintenance insomnia (difficulty staying asleep)."
      ],
      "text/plain": [
       "<IPython.core.display.Markdown object>"
      ]
     },
     "metadata": {},
     "output_type": "display_data"
    }
   ],
   "source": [
    "x(\"what are the different types of insomnia?\");"
   ]
  },
  {
   "cell_type": "code",
   "execution_count": 6,
   "id": "7b943140-34e1-4946-a175-432b10deb126",
   "metadata": {},
   "outputs": [
    {
     "name": "stdout",
     "output_type": "stream",
     "text": [
      "_to_args_and_kwargs self.name='get_knowledge_answer' all_args=['athletes sleep']\n"
     ]
    },
    {
     "data": {
      "text/markdown": [
       "Athletes, similar to the general population, often struggle with sleep quality. Many elite athletes take a long time to fall asleep, experience frequent awakenings during the night, and report daytime fatigue. A third to a half of these athletes have poor quality sleep despite being meticulous about sleep hygiene.\n",
       "\n",
       "Several factors contribute to sleep problems in athletes:\n",
       "\n",
       "1. Work-related stress: Many athletes have to balance their athletic lives with other jobs, leading to stress that can cause insomnia.\n",
       "\n",
       "2. Nutrition: Athletes in aesthetic sports and events often prioritize being lean, which can lead to undereating and related sleep problems.\n",
       "\n",
       "3. Body mass: Very large athletes are more likely to experience obstructive sleep apnea, which disrupts sleep.\n",
       "\n",
       "4. Injuries: Athletes in contact sports are prone to concussions, which can ruin sleep. \n",
       "\n",
       "5. Pain: High training loads and injuries can cause pain, which in turn can hamper sleep.\n",
       "\n",
       "6. Mindset and competition: Many athletes are perfectionists and experience high levels of performance anxiety, which may interfere with sleep.\n",
       "\n",
       "7. Travel and competition schedules: Competitions often entail travel, which can disrupt sleep due to the \"first-night effect\" or jetlag. Competitions can also be scheduled very early or late, which can disrupt athletes' sleep schedules.\n",
       "\n",
       "To manage these issues, athletes can try various strategies such as managing work-related stress, ensuring adequate dietary energy availability, seeking help for sleep apnea, managing pain, coping with performance anxiety, and adjusting sleep schedules to match competition times."
      ],
      "text/plain": [
       "<IPython.core.display.Markdown object>"
      ]
     },
     "metadata": {},
     "output_type": "display_data"
    }
   ],
   "source": [
    "x(\"how well do athletes sleep?\");"
   ]
  },
  {
   "cell_type": "code",
   "execution_count": 7,
   "id": "a1e5cce4-bd40-4017-af3c-9706e1b6eca8",
   "metadata": {},
   "outputs": [
    {
     "name": "stdout",
     "output_type": "stream",
     "text": [
      "_to_args_and_kwargs self.name='get_knowledge_answer' all_args=['daily routine']\n"
     ]
    },
    {
     "data": {
      "text/markdown": [
       "Based on the knowledge provided, a daily routine can be established that takes into account various aspects of health and wellbeing. Here's a possible routine:\n",
       "\n",
       "1. **Morning**: Start the day with a consistent wake-up time, allowing the body's biological clock to reset. Spend at least an hour outdoors in daylight each day to give your body's central clock a strong time cue. This could be combined with some form of light physical activity to kickstart the day, as even low-intensity activity can support many aspects of health and function.\n",
       "\n",
       "2. **Afternoon**: Schedule strenuous exercise in the late biological afternoon, which for many people is around five or six PM. This coincides with the end of the typical working day and aligns with when the body is primed for such activity.\n",
       "\n",
       "3. **Evening**: Minimize exposure to bright overhead lights in the three hours before bed, aiding the body's transition into its sleep cycle. Implement an eating window of eight to ten hours, ending at least two hours before bed. This contributes to time-restricted eating and can improve many aspects of health.\n",
       "\n",
       "4. **Throughout the day**: Focus on maintaining a nutritious diet, emphasizing foods high in satiety per calorie, such as fruits, vegetables, lean meats, and fish. Avoid unnecessary snacking, particularly of low-quality foods. \n",
       "\n",
       "5. **Once or Twice a Week**: Monitor body weight to maintain a healthy range. This should be done at a consistent time, either before eating or drinking anything, and preferably wearing the same item of clothing or none at all.\n",
       "\n",
       "6. **Rest Day**: Incorporate a rest day into the week's routine, following the concept of the biblical training week. This day of rest can provide a necessary pause from strenuous activity.\n",
       "\n",
       "Remember, everyone's body is different, and this routine may need to be adjusted based on individual needs and lifestyle."
      ],
      "text/plain": [
       "<IPython.core.display.Markdown object>"
      ]
     },
     "metadata": {},
     "output_type": "display_data"
    }
   ],
   "source": [
    "x(\"what should my morning routine look like for better sleep?\");"
   ]
  },
  {
   "cell_type": "code",
   "execution_count": 8,
   "id": "0d89f66b-64d6-46a2-9411-c9eeda011e30",
   "metadata": {},
   "outputs": [
    {
     "data": {
      "text/markdown": [
       "Exposure to daylight, particularly in the morning, plays a crucial role in regulating our body's internal \"circadian\" clock. This clock controls various physiological processes, including sleep-wake cycles, hormone release, eating habits and digestion, body temperature, and other body functions.\n",
       "\n",
       "Daylight is a powerful signal for this clock. It helps to reset it each day and keep it aligned with the 24-hour day. This is important because our internal clock tends to run a little longer than 24 hours, and without this light signal, our sleep-wake cycle would gradually shift later and later.\n",
       "\n",
       "Exposure to daylight in the morning helps to advance our circadian rhythms, making it easier to wake up in the morning and fall asleep at night. It also helps to improve mood, alertness, and cognitive performance during the day.\n",
       "\n",
       "On the other hand, exposure to artificial light in the evening, particularly blue light from electronic devices, can delay our circadian rhythms and make it harder to fall asleep at night. Therefore, it's recommended to limit exposure to screens in the evening and use dim, warm lighting in the home.\n",
       "\n",
       "In summary, getting plenty of daylight exposure, particularly in the morning, and limiting artificial light exposure in the evening, can help to regulate sleep-wake cycles and improve sleep quality."
      ],
      "text/plain": [
       "<IPython.core.display.Markdown object>"
      ]
     },
     "metadata": {},
     "output_type": "display_data"
    }
   ],
   "source": [
    "x(\"why does exposure to daylight matter?\");"
   ]
  },
  {
   "cell_type": "code",
   "execution_count": 9,
   "id": "9e520ade-ddd3-415c-82a4-7d9594937b54",
   "metadata": {
    "scrolled": true
   },
   "outputs": [
    {
     "data": {
      "text/markdown": [
       "Artificial light at night, particularly blue light emitted by electronic devices like smartphones, tablets, computers, and TVs, can indeed have a negative impact on sleep. Here's why:\n",
       "\n",
       "1. **Circadian Rhythm Disruption**: Our bodies have an internal clock, known as the circadian rhythm, that regulates our sleep-wake cycle. Exposure to light, especially blue light, can interfere with this rhythm by suppressing the production of melatonin, a hormone that signals to our body that it's time to sleep. This can make it harder to fall asleep and lead to disrupted sleep patterns.\n",
       "\n",
       "2. **Sleep Quality**: Even if you manage to fall asleep after exposure to artificial light, it can still affect the quality of your sleep. Studies have shown that people who use electronic devices before bed spend less time in deep, restorative stages of sleep.\n",
       "\n",
       "3. **Health Implications**: Chronic disruption of the circadian rhythm and poor sleep quality have been linked to a variety of health problems, including obesity, diabetes, depression, and even certain types of cancer.\n",
       "\n",
       "To mitigate these effects, it's recommended to limit exposure to screens for at least an hour before bed. If this isn't possible, consider using a blue light filter on your devices or wearing blue light blocking glasses. Also, try to make your sleeping environment as dark as possible, using blackout curtains or an eye mask if necessary."
      ],
      "text/plain": [
       "<IPython.core.display.Markdown object>"
      ]
     },
     "metadata": {},
     "output_type": "display_data"
    }
   ],
   "source": [
    "x(\"is artificial light at night really all that bad?\");"
   ]
  },
  {
   "cell_type": "code",
   "execution_count": 10,
   "id": "4636a7cb-2e71-417b-b1d2-5187cff6e76c",
   "metadata": {},
   "outputs": [
    {
     "data": {
      "text/markdown": [
       "Avoiding exposure to artificial light at night can be challenging, especially given our reliance on electronic devices. However, there are several strategies you can adopt:\n",
       "\n",
       "1. **Limit Screen Time Before Bed**: Try to turn off all electronic devices at least an hour before bedtime. This includes TVs, computers, tablets, and smartphones.\n",
       "\n",
       "2. **Use Blue Light Filters**: Many electronic devices have settings or apps that reduce the amount of blue light they emit. These can be set to activate in the evening hours.\n",
       "\n",
       "3. **Adjust Lighting**: Use dim, warm lights in your home during the evening. Avoid bright overhead lights.\n",
       "\n",
       "4. **Use Blackout Curtains**: These can block outdoor light from street lamps or car headlights that might enter your bedroom.\n",
       "\n",
       "5. **Wear Blue Light Blocking Glasses**: These glasses can block blue light from reaching your eyes. They can be particularly useful if you need to use electronic devices in the evening.\n",
       "\n",
       "6. **Mindful Use of Devices**: If you need to check a device during the night, try to keep the screen dim and avoid looking directly at the screen for a long time.\n",
       "\n",
       "Remember, the goal is not to completely eliminate exposure to artificial light at night, but to reduce it as much as possible, especially in the hours leading up to bedtime."
      ],
      "text/plain": [
       "<IPython.core.display.Markdown object>"
      ]
     },
     "metadata": {},
     "output_type": "display_data"
    }
   ],
   "source": [
    "x(\"how do I avoid it?\");"
   ]
  },
  {
   "cell_type": "code",
   "execution_count": 11,
   "id": "8db3b5a2-7d98-46c7-9f02-ae0e7adda1fe",
   "metadata": {},
   "outputs": [
    {
     "name": "stdout",
     "output_type": "stream",
     "text": [
      "_to_args_and_kwargs self.name='get_knowledge_answer' all_args=['bedtime restriction therapy']\n"
     ]
    },
    {
     "data": {
      "text/markdown": [
       "Bedtime restriction therapy, often referred to as sleep restriction therapy, is a behavioral intervention used to treat insomnia, particularly sleep-maintenance insomnia where people wake frequently or for prolonged periods during the night. The therapy aims to break the association between bed and wakefulness, which is often reinforced in individuals with insomnia.\n",
       "\n",
       "The process works by restricting the time spent in bed to the actual sleep duration. For example, if an individual spends ten hours in bed but only sleeps for six hours, they would restrict their time in bed to around six and a half hours (adding thirty minutes as no one falls asleep the moment they lie down). This is achieved by delaying bedtime but waking at the usual morning time, thereby reducing the amount of time spent awake in bed. \n",
       "\n",
       "During the initial stages, bedtime restriction therapy can be challenging as it may lead to fatigue during the day due to reduced sleep. However, in the long run, it improves sleep quality by consolidating sleep into a shorter, more efficient period.\n",
       "\n",
       "In a case study, an individual named Amy, who suffered from insomnia, started tracking her sleep. She found out that she was in bed for 10 hours but only slept for 6 hours. Under supervision, she began bedtime restriction therapy, setting her new sleep opportunity from 2 AM to 8 AM. At first, she felt more tired than usual, but quickly her sleep efficiency improved dramatically. As her sleep efficiency stayed above 85% for a week, she advanced her bedtime by 15 minutes. This process was repeated until she achieved her required sleep duration."
      ],
      "text/plain": [
       "<IPython.core.display.Markdown object>"
      ]
     },
     "metadata": {},
     "output_type": "display_data"
    }
   ],
   "source": [
    "x(\"what is bedtime restriction therapy?\");"
   ]
  },
  {
   "cell_type": "code",
   "execution_count": null,
   "id": "2bbed906-851f-4c51-add3-f347102cea1f",
   "metadata": {},
   "outputs": [],
   "source": []
  }
 ],
 "metadata": {
  "kernelspec": {
   "display_name": "Python 3 (ipykernel)",
   "language": "python",
   "name": "python3"
  },
  "language_info": {
   "codemirror_mode": {
    "name": "ipython",
    "version": 3
   },
   "file_extension": ".py",
   "mimetype": "text/x-python",
   "name": "python",
   "nbconvert_exporter": "python",
   "pygments_lexer": "ipython3",
   "version": "3.11.5"
  }
 },
 "nbformat": 4,
 "nbformat_minor": 5
}
