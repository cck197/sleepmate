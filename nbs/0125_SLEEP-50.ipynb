{
 "cells": [
  {
   "cell_type": "code",
   "execution_count": 1,
   "id": "a60861b2-440f-4077-9e41-4bf6d3eacd4f",
   "metadata": {},
   "outputs": [],
   "source": [
    "from sleepmate.executor import *\n",
    "from sleepmate.sleep50 import *"
   ]
  },
  {
   "cell_type": "code",
   "execution_count": 2,
   "id": "39a1f07e-9128-46f4-bc06-4fb64e6d87b7",
   "metadata": {},
   "outputs": [],
   "source": [
    "username = \"test\""
   ]
  },
  {
   "cell_type": "code",
   "execution_count": 3,
   "id": "b15155a6-9b97-489f-aae1-5419e33f8a36",
   "metadata": {},
   "outputs": [],
   "source": [
    "clear_db_for_user(get_user_from_username(username).id)"
   ]
  },
  {
   "cell_type": "markdown",
   "id": "783a8a1d-83a7-4e6e-8658-3a45e120fba3",
   "metadata": {
    "jp-MarkdownHeadingCollapsed": true
   },
   "source": [
    "# Mock the entry for testing"
   ]
  },
  {
   "cell_type": "code",
   "execution_count": 3,
   "id": "af3ea54a-2f4d-4535-b64c-58c63217e113",
   "metadata": {},
   "outputs": [],
   "source": [
    "db_user = get_user_from_username(username).id"
   ]
  },
  {
   "cell_type": "code",
   "execution_count": 5,
   "id": "d171bbda-22ee-4285-af05-d2465c64114c",
   "metadata": {},
   "outputs": [],
   "source": [
    "db_entry = DBSleep50Entry(\n",
    "    user=db_user,\n",
    "    date=datetime(2023, 7, 9, 0, 0),\n",
    "    sleep_apnea_1=1,\n",
    "    sleep_apnea_2=1,\n",
    "    sleep_apnea_3=1,\n",
    "    sleep_apnea_4=1,\n",
    "    sleep_apnea_5=1,\n",
    "    sleep_apnea_6=1,\n",
    "    sleep_apnea_7=1,\n",
    "    sleep_apnea_8=1,\n",
    "    insomnia_9=1,\n",
    "    insomnia_10=2,\n",
    "    insomnia_11=1,\n",
    "    insomnia_12=2,\n",
    "    insomnia_13=2,\n",
    "    insomnia_14=2,\n",
    "    insomnia_15=2,\n",
    "    insomnia_16=1,\n",
    "    narcolepsy_17=1,\n",
    "    narcolepsy_18=1,\n",
    "    narcolepsy_19=1,\n",
    "    narcolepsy_20=1,\n",
    "    narcolepsy_21=1,\n",
    "    restless_legs_22=1,\n",
    "    restless_legs_23=1,\n",
    "    restless_legs_24=1,\n",
    "    restless_legs_25=1,\n",
    "    circadian_rhythm_26=1,\n",
    "    circadian_rhythm_27=1,\n",
    "    circadian_rhythm_28=1,\n",
    "    sleepwalking_29=1,\n",
    "    sleepwalking_30=1,\n",
    "    sleepwalking_31=1,\n",
    "    nightmares_32=1,\n",
    "    nightmares_33=1,\n",
    "    nightmares_34=1,\n",
    "    nightmares_35=1,\n",
    "    nightmares_36=1,\n",
    "    factors_37=1,\n",
    "    factors_38=1,\n",
    "    factors_39=1,\n",
    "    factors_40=1,\n",
    "    factors_41=1,\n",
    "    factors_42=1,\n",
    "    factors_43=1,\n",
    "    impact_44=2,\n",
    "    impact_45=2,\n",
    "    impact_46=2,\n",
    "    impact_47=1,\n",
    "    impact_48=2,\n",
    "    impact_49=2,\n",
    "    impact_50=2,\n",
    "    additional_a=5,\n",
    "    additional_b=8,\n",
    ")"
   ]
  },
  {
   "cell_type": "code",
   "execution_count": 6,
   "id": "9eaac7b4-da75-458f-95d1-a928b377c66e",
   "metadata": {},
   "outputs": [
    {
     "data": {
      "text/plain": [
       "<Sleep50Entry: Sleep50Entry object>"
      ]
     },
     "execution_count": 6,
     "metadata": {},
     "output_type": "execute_result"
    }
   ],
   "source": [
    "db_entry.save()"
   ]
  },
  {
   "cell_type": "code",
   "execution_count": 5,
   "id": "5eed8f73-8e23-4923-8e9c-d37604f995f5",
   "metadata": {},
   "outputs": [],
   "source": [
    "db_entry = DBSleep50Entry.objects(user=db_user).order_by(\"-id\").first()"
   ]
  },
  {
   "cell_type": "code",
   "execution_count": 6,
   "id": "f36df33b-855a-402e-8d81-27ca2e4878d6",
   "metadata": {},
   "outputs": [
    {
     "data": {
      "text/plain": [
       "(8, 13)"
      ]
     },
     "execution_count": 6,
     "metadata": {},
     "output_type": "execute_result"
    }
   ],
   "source": [
    "sum_category(db_entry, \"insomnia\")"
   ]
  },
  {
   "cell_type": "code",
   "execution_count": 7,
   "id": "03d4e3ea-25f3-43e7-8a20-f31d6b6b3ec6",
   "metadata": {},
   "outputs": [
    {
     "data": {
      "text/plain": [
       "(8, 8)"
      ]
     },
     "execution_count": 7,
     "metadata": {},
     "output_type": "execute_result"
    }
   ],
   "source": [
    "sum_category(db_entry, \"sleep_apnea\")"
   ]
  },
  {
   "cell_type": "markdown",
   "id": "b810971f-61c6-4813-8e8d-3b2f2781d2bd",
   "metadata": {},
   "source": [
    "# Do the survey"
   ]
  },
  {
   "cell_type": "code",
   "execution_count": 4,
   "id": "d0240c5e-00b2-41d7-8340-8fb1257c0e42",
   "metadata": {
    "scrolled": true
   },
   "outputs": [
    {
     "data": {
      "text/markdown": [
       "Hello Christopher, I hope you're feeling alright today. Would now be a good time to go through a sleep questionnaire with you? It should help us understand your sleep patterns and any issues you might be experiencing."
      ],
      "text/plain": [
       "<IPython.core.display.Markdown object>"
      ]
     },
     "metadata": {},
     "output_type": "display_data"
    }
   ],
   "source": [
    "x = X(username=username, goal=\"sleep50\", fixed_goal=True, hello=\"hey\")"
   ]
  },
  {
   "cell_type": "code",
   "execution_count": 5,
   "id": "a4195ae7-e63e-4858-865c-1f4241f10d67",
   "metadata": {},
   "outputs": [
    {
     "data": {
      "text/markdown": [
       "Great! Today's date is November 8th, 2023. Let's dive into the SLEEP-50 questionnaire. We'll start with the Sleep Apnea section. Just to remind you, please respond to what extent each statement has been applicable to you during the past 4 weeks using a 4-point scale: 1 (not at all), 2 (somewhat), 3 (rather much), and 4 (very much).\n",
       "\n",
       "### Sleep Apnea - Step 1 of 10\n",
       "\n",
       "1. I am told that I snore.\n",
       "2. I sweat during the night.\n",
       "3. I am told that I hold my breath when sleeping.\n",
       "4. I am told that I wake up gasping for air.\n",
       "5. I wake up with a dry mouth.\n",
       "6. I wake up during the night while coughing or being short of breath.\n",
       "7. I wake up with a sour taste in my mouth.\n",
       "8. I wake up with a headache.\n",
       "\n",
       "Please take your time and answer each one by one."
      ],
      "text/plain": [
       "<IPython.core.display.Markdown object>"
      ]
     },
     "metadata": {},
     "output_type": "display_data"
    }
   ],
   "source": [
    "x(\"sure\");"
   ]
  },
  {
   "cell_type": "code",
   "execution_count": 6,
   "id": "b31449c4-74f3-49da-96e0-51a6a4796337",
   "metadata": {},
   "outputs": [
    {
     "data": {
      "text/markdown": [
       "Righto, Sleepy! You've given a consistent score of 2 (somewhat) for all items across the board. Let's list them out to ensure everything is tickety-boo before we save your responses.\n",
       "\n",
       "### SLEEP-50 Questionnaire - November 8th, 2023\n",
       "\n",
       "#### Sleep Apnea\n",
       "1. I am told that I snore. - 2\n",
       "2. I sweat during the night. - 2\n",
       "3. I am told that I hold my breath when sleeping. - 2\n",
       "4. I am told that I wake up gasping for air. - 2\n",
       "5. I wake up with a dry mouth. - 2\n",
       "6. I wake up during the night while coughing or being short of breath. - 2\n",
       "7. I wake up with a sour taste in my mouth. - 2\n",
       "8. I wake up with a headache. - 2\n",
       "\n",
       "#### Insomnia\n",
       "1. I have difficulty in falling asleep. - 2\n",
       "2. Thoughts go through my head and keep me awake. - 2\n",
       "3. I worry and find it hard to relax. - 2\n",
       "4. I wake up during the night. - 2\n",
       "5. After waking up during the night, I fall asleep slowly. - 2\n",
       "6. I wake up early and cannot get back to sleep. - 2\n",
       "7. I sleep lightly. - 2\n",
       "8. I sleep too little. - 2\n",
       "\n",
       "#### Narcolepsy\n",
       "1. I see dreamlike images when falling asleep or waking up. - 2\n",
       "2. I sometimes fall asleep on a social occasion. - 2\n",
       "3. I have sleep attacks during the day. - 2\n",
       "4. With intense emotions, my muscles sometimes collapse during the day. - 2\n",
       "5. I sometimes cannot move when falling asleep or waking up. - 2\n",
       "\n",
       "#### Restless Legs/Periodic Limb Movement Disorder (PLMD)\n",
       "1. I am told that I kick my legs when I sleep. - 2\n",
       "2. I have cramps or pain in my legs during the night. - 2\n",
       "3. I feel little shocks in my legs during the night. - 2\n",
       "4. I cannot keep my legs at rest when falling asleep. - 2\n",
       "\n",
       "#### Circadian Rhythm Sleep Disorder\n",
       "1. I would rather go to bed at a different time. - 2\n",
       "2. I go to bed at very different times (more than 2 hr difference). - 2\n",
       "3. I do shift work. - 2\n",
       "\n",
       "#### Sleepwalking\n",
       "1. I sometimes walk when I am sleeping. - 2\n",
       "2. I sometimes wake up in a different place than where I fell asleep. - 2\n",
       "3. I sometimes find evidence of having performed an action during the night I do not remember. - 2\n",
       "\n",
       "#### Nightmares\n",
       "1. I have frightening dreams. - 2\n",
       "2. I wake up from these dreams. - 2\n",
       "3. I remember the content of these dreams. - 2\n",
       "4. I can orientate quickly after these dreams. - 2\n",
       "5. I have physical symptoms during or after these dreams (e.g., movements, sweating, heart palpitations, shortness of breath). - 2\n",
       "\n",
       "#### Factors Influencing Sleep\n",
       "1. It is too light in my bedroom during the night. - 2\n",
       "2. It is too noisy in my bedroom during the night. - 2\n",
       "3. I drink alcoholic beverages during the evening. - 2\n",
       "4. I smoke during the evening. - 2\n",
       "5. I use other substances during the evening (e.g., sleep or other medication). - 2\n",
       "6. I feel sad. - 2\n",
       "7. I have no pleasure or interest in daily occupations. - 2\n",
       "\n",
       "#### Impact of Sleep Complaints on Daily Functioning\n",
       "1. I feel tired at getting up. - 2\n",
       "2. I feel sleepy during the day and struggle to remain alert. - 2\n",
       "3. I would like to have more energy during the day. - 2\n",
       "4. I am told that I am easily irritated. - 2\n",
       "5. I have difficulty in concentrating at work or school. - 2\n",
       "6. I worry whether I sleep enough. - 2\n",
       "7. Generally, I sleep badly - 2\n",
       "\n",
       "#### Additional Questions\n",
       "1. I rate my sleep as _____ (1 = very bad, 10 = very good) - 2\n",
       "2. I sleep _____ hours, mostly from _____ to _____. - 2\n",
       "\n",
       "Are all these responses correct?"
      ],
      "text/plain": [
       "<IPython.core.display.Markdown object>"
      ]
     },
     "metadata": {},
     "output_type": "display_data"
    },
    {
     "name": "stderr",
     "output_type": "stream",
     "text": [
      "2023-11-08 09:19:27 WARNING  urllib3.connectionpool Retrying (Retry(total=2, connect=None, read=None, redirect=None, status=None)) after connection broken by 'ReadTimeoutError(\"HTTPSConnectionPool(host='api.smith.langchain.com', port=443): Read timed out. (read timeout=7.0)\")': /runs/a387dad9-71b4-4ea7-ad0c-c1c01cf4ee7b\n",
      "2023-11-08 09:19:27 WARNING  urllib3.connectionpool Retrying (Retry(total=2, connect=None, read=None, redirect=None, status=None)) after connection broken by 'ReadTimeoutError(\"HTTPSConnectionPool(host='api.smith.langchain.com', port=443): Read timed out. (read timeout=7.0)\")': /runs/df56cc22-a94f-40cd-b160-5189928bbfda\n"
     ]
    }
   ],
   "source": [
    "x(\"the answer to all 52 questions is 2\");"
   ]
  },
  {
   "cell_type": "code",
   "execution_count": 7,
   "id": "d86ef4a7-0acf-4a7d-9ed7-8e0b296328a4",
   "metadata": {},
   "outputs": [
    {
     "name": "stderr",
     "output_type": "stream",
     "text": [
      "2023-11-08 09:20:46 WARNING  langchain.llms.base Retrying langchain.chat_models.openai.ChatOpenAI.completion_with_retry.<locals>._completion_with_retry in 4.0 seconds as it raised APIConnectionError: Error communicating with OpenAI: ('Connection aborted.', RemoteDisconnected('Remote end closed connection without response')).\n"
     ]
    },
    {
     "data": {
      "text/markdown": [
       "Thank you for the clarification, Sleepy. Let's correct the last two responses and then I'll provide you with the updated summary.\n",
       "\n",
       "### SLEEP-50 Questionnaire - November 8th, 2023\n",
       "\n",
       "#### Additional Questions\n",
       "1. I rate my sleep as _____ (1 = very bad, 10 = very good) - 5\n",
       "2. I sleep 8 hours, mostly from 9 PM to 5 AM.\n",
       "\n",
       "All other responses from sections Sleep Apnea to Impact of Sleep Complaints on Daily Functioning remain scored at 2 (somewhat).\n",
       "\n",
       "Can you confirm if this is now correct?"
      ],
      "text/plain": [
       "<IPython.core.display.Markdown object>"
      ]
     },
     "metadata": {},
     "output_type": "display_data"
    }
   ],
   "source": [
    "x(\"the answer to the last two questions 5, 8, 9, 5\");"
   ]
  },
  {
   "cell_type": "code",
   "execution_count": 8,
   "id": "a44c23f4-abe8-456c-add8-4373584e1392",
   "metadata": {},
   "outputs": [
    {
     "name": "stderr",
     "output_type": "stream",
     "text": [
      "2023-11-08 09:23:50 WARNING  urllib3.connectionpool Retrying (Retry(total=2, connect=None, read=None, redirect=None, status=None)) after connection broken by 'ReadTimeoutError(\"HTTPSConnectionPool(host='api.smith.langchain.com', port=443): Read timed out. (read timeout=7.0)\")': /runs\n",
      "2023-11-08 09:23:50 WARNING  urllib3.connectionpool Retrying (Retry(total=2, connect=None, read=None, redirect=None, status=None)) after connection broken by 'ReadTimeoutError(\"HTTPSConnectionPool(host='api.smith.langchain.com', port=443): Read timed out. (read timeout=7.0)\")': /runs\n",
      "2023-11-08 09:23:54 INFO     sleepmate.sleep50 save_sleep50_entry entry=Sleep50Entry(date=datetime.datetime(2023, 11, 8, 0, 0), sleep_apnea_1=2, sleep_apnea_2=2, sleep_apnea_3=2, sleep_apnea_4=2, sleep_apnea_5=2, sleep_apnea_6=2, sleep_apnea_7=2, sleep_apnea_8=2, insomnia_9=2, insomnia_10=2, insomnia_11=2, insomnia_12=2, insomnia_13=2, insomnia_14=2, insomnia_15=2, insomnia_16=2, narcolepsy_17=2, narcolepsy_18=2, narcolepsy_19=2, narcolepsy_20=2, narcolepsy_21=2, restless_legs_22=2, restless_legs_23=2, restless_legs_24=2, restless_legs_25=2, circadian_rhythm_26=2, circadian_rhythm_27=2, circadian_rhythm_28=2, sleepwalking_29=2, sleepwalking_30=2, sleepwalking_31=2, nightmares_32=2, nightmares_33=2, nightmares_34=2, nightmares_35=2, nightmares_36=2, factors_37=2, factors_38=2, factors_39=2, factors_40=2, factors_41=2, factors_42=2, factors_43=2, impact_44=2, impact_45=2, impact_46=2, impact_47=2, impact_48=2, impact_49=2, impact_50=2, additional_a=5, additional_b=8)\n"
     ]
    },
    {
     "data": {
      "text/markdown": [
       "Your SLEEP-50 entry has been saved successfully. Whenever you're ready to continue on your health journey, just say \"hey\" and we'll proceed. Have a restful day!"
      ],
      "text/plain": [
       "<IPython.core.display.Markdown object>"
      ]
     },
     "metadata": {},
     "output_type": "display_data"
    }
   ],
   "source": [
    "x(\"correct\");"
   ]
  },
  {
   "cell_type": "code",
   "execution_count": 6,
   "id": "89542902-3b0c-4aea-8538-d119d6cc6e7e",
   "metadata": {},
   "outputs": [
    {
     "data": {
      "text/markdown": [
       "It sounds like you're looking for reassurance about the tool's reliability. The SLEEP-50 is indeed a well-validated questionnaire designed to detect a variety of sleep disorders. It's been through rigorous testing to ensure it can provide reliable and meaningful results about sleep patterns and potential sleep-related issues. Shall we proceed with the first question about snoring?"
      ],
      "text/plain": [
       "<IPython.core.display.Markdown object>"
      ]
     },
     "metadata": {},
     "output_type": "display_data"
    }
   ],
   "source": [
    "x(\"wait, is this thing validated? does it predict anything?\");"
   ]
  },
  {
   "cell_type": "code",
   "execution_count": 6,
   "id": "92f37d2f-a867-483b-afe3-f3af1ed812e9",
   "metadata": {},
   "outputs": [
    {
     "data": {
      "text/markdown": [
       "Righto, it sounds like Sleep Apnea isn't troubling you at all. Let's move on to the next section.\n",
       "\n",
       "Step 2 of 10: Insomnia\n",
       "\n",
       "1. I have difficulty in falling asleep.\n",
       "2. Thoughts go through my head and keep me awake.\n",
       "3. I worry and find it hard to relax.\n",
       "4. I wake up during the night.\n",
       "5. After waking up during the night, I fall asleep slowly.\n",
       "6. I wake up early and cannot get back to sleep.\n",
       "7. I sleep lightly.\n",
       "8. I sleep too little.\n",
       "\n",
       "Again, please respond with 1 (not at all), 2 (somewhat), 3 (rather much), or 4 (very much) for each statement."
      ],
      "text/plain": [
       "<IPython.core.display.Markdown object>"
      ]
     },
     "metadata": {},
     "output_type": "display_data"
    }
   ],
   "source": [
    "x(\"yeah none of those\");"
   ]
  },
  {
   "cell_type": "code",
   "execution_count": 7,
   "id": "68ad296e-1bda-4b66-a321-df6b74a1ff7a",
   "metadata": {},
   "outputs": [
    {
     "data": {
      "text/markdown": [
       "Got it, a bit of a mixed bag there. Now, let's gently tiptoe into the next section.\n",
       "\n",
       "Step 3 of 10: Narcolepsy\n",
       "\n",
       "1. I see dreamlike images when falling asleep or waking up.\n",
       "2. I sometimes fall asleep on a social occasion.\n",
       "3. I have sleep attacks during the day.\n",
       "4. With intense emotions, my muscles sometimes collapse during the day.\n",
       "5. I sometimes cannot move when falling asleep or waking up.\n",
       "\n",
       "Please rate each item from 1 (not at all) to 4 (very much)."
      ],
      "text/plain": [
       "<IPython.core.display.Markdown object>"
      ]
     },
     "metadata": {},
     "output_type": "display_data"
    }
   ],
   "source": [
    "x(\"1, 2, 1, 2, 2, 2, 2, 1\");"
   ]
  },
  {
   "cell_type": "code",
   "execution_count": 8,
   "id": "71863853-f302-48df-9e4d-ebc75f8e44f1",
   "metadata": {},
   "outputs": [
    {
     "data": {
      "text/markdown": [
       "Alright, no signs of narcolepsy then. Let's keep the ball rolling.\n",
       "\n",
       "Step 4 of 10: Restless Legs/Periodic Limb Movement Disorder (PLMD)\n",
       "\n",
       "1. I am told that I kick my legs when I sleep.\n",
       "2. I have cramps or pain in my legs during the night.\n",
       "3. I feel little shocks in my legs during the night.\n",
       "4. I cannot keep my legs at rest when falling asleep.\n",
       "\n",
       "Please rate each statement from 1 (not at all) to 4 (very much)."
      ],
      "text/plain": [
       "<IPython.core.display.Markdown object>"
      ]
     },
     "metadata": {},
     "output_type": "display_data"
    }
   ],
   "source": [
    "x(\"yeah none of those\");"
   ]
  },
  {
   "cell_type": "code",
   "execution_count": 9,
   "id": "0b86363a-4375-407b-acf8-f5f4434d7ecc",
   "metadata": {},
   "outputs": [
    {
     "data": {
      "text/markdown": [
       "Jolly good, it seems your legs are giving you a peaceful night. On to the next one.\n",
       "\n",
       "Step 5 of 10: Circadian Rhythm Sleep Disorder\n",
       "\n",
       "1. I would rather go to bed at a different time.\n",
       "2. I go to bed at very different times (more than 2 hr difference).\n",
       "3. I do shift work.\n",
       "\n",
       "Please rate each statement from 1 (not at all) to 4 (very much)."
      ],
      "text/plain": [
       "<IPython.core.display.Markdown object>"
      ]
     },
     "metadata": {},
     "output_type": "display_data"
    }
   ],
   "source": [
    "x(\"yeah none of those\");"
   ]
  },
  {
   "cell_type": "code",
   "execution_count": 10,
   "id": "14a3c1f1-8b32-4348-8550-917e9f10655d",
   "metadata": {},
   "outputs": [
    {
     "data": {
      "text/markdown": [
       "Excellent, your circadian rhythm seems to be like clockwork. Now, let's tiptoe into the realm of nocturnal wanderings.\n",
       "\n",
       "Step 6 of 10: Sleepwalking\n",
       "\n",
       "1. I sometimes walk when I am sleeping.\n",
       "2. I sometimes wake up in a different place than where I fell asleep.\n",
       "3. I sometimes find evidence of having performed an action during the night I do not remember.\n",
       "\n",
       "Please rate each statement from 1 (not at all) to 4 (very much)."
      ],
      "text/plain": [
       "<IPython.core.display.Markdown object>"
      ]
     },
     "metadata": {},
     "output_type": "display_data"
    }
   ],
   "source": [
    "x(\"none of those\");"
   ]
  },
  {
   "cell_type": "code",
   "execution_count": 11,
   "id": "e6b329fe-d79b-4355-b41b-1457457e5c26",
   "metadata": {},
   "outputs": [
    {
     "data": {
      "text/markdown": [
       "Splendid, no sleepwalking adventures for you. Let's venture into the world of dreams.\n",
       "\n",
       "Step 7 of 10: Nightmares\n",
       "\n",
       "1. I have frightening dreams (if not, go to Item 37).\n",
       "2. I wake up from these dreams.\n",
       "3. I remember the content of these dreams.\n",
       "4. I can orientate quickly after these dreams.\n",
       "5. I have physical symptoms during or after these dreams (e.g., movements, sweating, heart palpitations, shortness of breath).\n",
       "\n",
       "If you don't have frightening dreams, we can skip to the next section. If you do, please rate each applicable statement from 1 (not at all) to 4 (very much)."
      ],
      "text/plain": [
       "<IPython.core.display.Markdown object>"
      ]
     },
     "metadata": {},
     "output_type": "display_data"
    }
   ],
   "source": [
    "x(\"none of those\");"
   ]
  },
  {
   "cell_type": "code",
   "execution_count": 12,
   "id": "86868737-3d43-461a-a792-f07e4a266856",
   "metadata": {},
   "outputs": [
    {
     "data": {
      "text/markdown": [
       "Right, no nightmares to report. Let's move on to the environmental factors that might affect your sleep.\n",
       "\n",
       "Step 8 of 10: Factors Influencing Sleep\n",
       "\n",
       "1. It is too light in my bedroom during the night.\n",
       "2. It is too noisy in my bedroom during the night.\n",
       "3. I drink alcoholic beverages during the evening.\n",
       "4. I smoke during the evening.\n",
       "5. I use other substances during the evening (e.g., sleep or other medication).\n",
       "6. I feel sad.\n",
       "7. I have no pleasure or interest in daily occupations.\n",
       "\n",
       "Please rate each statement from 1 (not at all) to 4 (very much)."
      ],
      "text/plain": [
       "<IPython.core.display.Markdown object>"
      ]
     },
     "metadata": {},
     "output_type": "display_data"
    }
   ],
   "source": [
    "x(\"none of those\");"
   ]
  },
  {
   "cell_type": "code",
   "execution_count": 13,
   "id": "6e8d31e4-c51c-4552-9950-704e876eaaad",
   "metadata": {},
   "outputs": [
    {
     "data": {
      "text/markdown": [
       "You're doing splendidly. Now, let's assess how sleep is affecting your daytime mojo.\n",
       "\n",
       "Step 9 of 10: Impact of Sleep Complaints on Daily Functioning\n",
       "\n",
       "1. I feel tired at getting up.\n",
       "2. I feel sleepy during the day and struggle to remain alert.\n",
       "3. I would like to have more energy during the day.\n",
       "4. I am told that I am easily irritated.\n",
       "5. I have difficulty in concentrating at work or school.\n",
       "6. I worry whether I sleep enough.\n",
       "7. Generally, I sleep badly.\n",
       "\n",
       "Please rate each statement from 1 (not at all) to 4 (very much)."
      ],
      "text/plain": [
       "<IPython.core.display.Markdown object>"
      ]
     },
     "metadata": {},
     "output_type": "display_data"
    }
   ],
   "source": [
    "x(\"none of those\");"
   ]
  },
  {
   "cell_type": "code",
   "execution_count": 14,
   "id": "321819fd-d913-4801-a5fe-d2d5a03fd622",
   "metadata": {},
   "outputs": [
    {
     "data": {
      "text/markdown": [
       "Noted, a touch of daytime sleepiness but nothing too alarming. Now, for the final step.\n",
       "\n",
       "Step 10 of 10: Additional Questions\n",
       "\n",
       "1. I rate my sleep as _____ (1 = very bad, 10 = very good)\n",
       "2. I sleep _____ hours, mostly from _____ to _____.\n",
       "\n",
       "Please fill in the blanks for these last two questions."
      ],
      "text/plain": [
       "<IPython.core.display.Markdown object>"
      ]
     },
     "metadata": {},
     "output_type": "display_data"
    }
   ],
   "source": [
    "x(\"2, 2, 2, 1, 2, 2, 2\");"
   ]
  },
  {
   "cell_type": "code",
   "execution_count": 15,
   "id": "d5774b51-0e92-4458-8782-746640c00a4d",
   "metadata": {},
   "outputs": [
    {
     "data": {
      "text/markdown": [
       "Thank you for that. You rate your sleep as a 5 out of 10, and you sleep 8 hours, mostly from 9 PM to 5 AM. Let's summarize your responses:\n",
       "\n",
       "Date: [Today's Date]\n",
       "\n",
       "1. I am told that I snore. - 1\n",
       "2. I sweat during the night. - 1\n",
       "3. I am told that I hold my breath when sleeping. - 1\n",
       "4. I am told that I wake up gasping for air. - 1\n",
       "5. I wake up with a dry mouth. - 1\n",
       "6. I wake up during the night while coughing or being short of breath. - 1\n",
       "7. I wake up with a sour taste in my mouth. - 1\n",
       "8. I wake up with a headache. - 1\n",
       "9. I have difficulty in falling asleep. - 1\n",
       "10. Thoughts go through my head and keep me awake. - 2\n",
       "11. I worry and find it hard to relax. - 1\n",
       "12. I wake up during the night. - 2\n",
       "13. After waking up during the night, I fall asleep slowly. - 2\n",
       "14. I wake up early and cannot get back to sleep. - 2\n",
       "15. I sleep lightly. - 2\n",
       "16. I sleep too little. - 1\n",
       "17. I see dreamlike images when falling asleep or waking up. - 1\n",
       "18. I sometimes fall asleep on a social occasion. - 1\n",
       "19. I have sleep attacks during the day. - 1\n",
       "20. With intense emotions, my muscles sometimes collapse during the day. - 1\n",
       "21. I sometimes cannot move when falling asleep or waking up. - 1\n",
       "22. I am told that I kick my legs when I sleep. - 1\n",
       "23. I have cramps or pain in my legs during the night. - 1\n",
       "24. I feel little shocks in my legs during the night. - 1\n",
       "25. I cannot keep my legs at rest when falling asleep. - 1\n",
       "26. I would rather go to bed at a different time. - 1\n",
       "27. I go to bed at very different times (more than 2 hr difference). - 1\n",
       "28. I do shift work. - 1\n",
       "29. I sometimes walk when I am sleeping. - 1\n",
       "30. I sometimes wake up in a different place than where I fell asleep. - 1\n",
       "31. I sometimes find evidence of having performed an action during the night I do not remember. - 1\n",
       "32. I have frightening dreams. - 1\n",
       "33. I wake up from these dreams. - 1\n",
       "34. I remember the content of these dreams. - 1\n",
       "35. I can orientate quickly after these dreams. - 1\n",
       "36. I have physical symptoms during or after these dreams (e.g., movements, sweating, heart palpitations, shortness of breath). - 1\n",
       "37. It is too light in my bedroom during the night. - 1\n",
       "38. It is too noisy in my bedroom during the night. - 1\n",
       "39. I drink alcoholic beverages during the evening. - 1\n",
       "40. I smoke during the evening. - 1\n",
       "41. I use other substances during the evening (e.g., sleep or other medication). - 1\n",
       "42. I feel sad. - 1\n",
       "43. I have no pleasure or interest in daily occupations. - 1\n",
       "44. I feel tired at getting up. - 2\n",
       "45. I feel sleepy during the day and struggle to remain alert. - 2\n",
       "46. I would like to have more energy during the day. - 2\n",
       "47. I am told that I am easily irritated. - 1\n",
       "48. I have difficulty in concentrating at work or school. - 2\n",
       "49. I worry whether I sleep enough. - 2\n",
       "50. Generally, I sleep badly. - 2\n",
       "51. I rate my sleep as 5 out of 10.\n",
       "52. I sleep 8 hours, mostly from 9 PM to 5 AM.\n",
       "\n",
       "Could you please confirm if these are correct?"
      ],
      "text/plain": [
       "<IPython.core.display.Markdown object>"
      ]
     },
     "metadata": {},
     "output_type": "display_data"
    }
   ],
   "source": [
    "x(\"5, 8, 9, 5\");"
   ]
  },
  {
   "cell_type": "code",
   "execution_count": 16,
   "id": "2734ce93-3ee2-464f-b8f2-11697c9c4c57",
   "metadata": {},
   "outputs": [
    {
     "name": "stderr",
     "output_type": "stream",
     "text": [
      "2023-11-08 08:03:04 INFO     sleepmate.sleep50 save_sleep50_entry entry=Sleep50Entry(date=datetime.datetime(2023, 3, 30, 0, 0), sleep_apnea_1=1, sleep_apnea_2=1, sleep_apnea_3=1, sleep_apnea_4=1, sleep_apnea_5=1, sleep_apnea_6=1, sleep_apnea_7=1, sleep_apnea_8=1, insomnia_9=1, insomnia_10=2, insomnia_11=1, insomnia_12=2, insomnia_13=2, insomnia_14=2, insomnia_15=2, insomnia_16=1, narcolepsy_17=1, narcolepsy_18=1, narcolepsy_19=1, narcolepsy_20=1, narcolepsy_21=1, restless_legs_22=1, restless_legs_23=1, restless_legs_24=1, restless_legs_25=1, circadian_rhythm_26=1, circadian_rhythm_27=1, circadian_rhythm_28=1, sleepwalking_29=1, sleepwalking_30=1, sleepwalking_31=1, nightmares_32=1, nightmares_33=1, nightmares_34=1, nightmares_35=1, nightmares_36=1, factors_37=1, factors_38=1, factors_39=1, factors_40=1, factors_41=1, factors_42=1, factors_43=1, impact_44=2, impact_45=2, impact_46=2, impact_47=1, impact_48=2, impact_49=2, impact_50=2, additional_a=5, additional_b=8)\n"
     ]
    },
    {
     "data": {
      "text/markdown": [
       "Your SLEEP-50 entry has been saved to the database. Whenever you're ready to continue on your health journey, just say \"hey\" and we'll proceed. Have a restful day!"
      ],
      "text/plain": [
       "<IPython.core.display.Markdown object>"
      ]
     },
     "metadata": {},
     "output_type": "display_data"
    }
   ],
   "source": [
    "x(\"yep\");"
   ]
  },
  {
   "cell_type": "code",
   "execution_count": null,
   "id": "63dc8900-1090-4c6f-805a-82648268fbca",
   "metadata": {},
   "outputs": [],
   "source": []
  }
 ],
 "metadata": {
  "kernelspec": {
   "display_name": "Python 3 (ipykernel)",
   "language": "python",
   "name": "python3"
  },
  "language_info": {
   "codemirror_mode": {
    "name": "ipython",
    "version": 3
   },
   "file_extension": ".py",
   "mimetype": "text/x-python",
   "name": "python",
   "nbconvert_exporter": "python",
   "pygments_lexer": "ipython3",
   "version": "3.11.5"
  }
 },
 "nbformat": 4,
 "nbformat_minor": 5
}
