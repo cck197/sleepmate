{
 "cells": [
  {
   "cell_type": "code",
   "execution_count": 1,
   "id": "52f7209f-07de-4487-ab42-f4e27928793b",
   "metadata": {},
   "outputs": [],
   "source": [
    "from sleepmate.agent import *\n",
    "from sleepmate.user import *\n",
    "from sleepmate.diary import *\n",
    "from sleepmate.isi import *"
   ]
  },
  {
   "cell_type": "code",
   "execution_count": 35,
   "id": "e592e6b6-a6a1-447e-8c18-318037668c1e",
   "metadata": {},
   "outputs": [],
   "source": [
    "!rm -f /Users/cck197/Downloads/virtual_greg/memory.pkl"
   ]
  },
  {
   "cell_type": "markdown",
   "id": "6a7c3ce5-e909-402e-b9e5-1b7fc7b7e9eb",
   "metadata": {},
   "source": [
    "# Database"
   ]
  },
  {
   "cell_type": "code",
   "execution_count": 4,
   "id": "eefa18dc-c29a-45fd-8d80-7eee5ff24557",
   "metadata": {},
   "outputs": [],
   "source": [
    "db_user = User(name=\"Chris\", email=\"chris@nourishbalancethrive.com\")"
   ]
  },
  {
   "cell_type": "code",
   "execution_count": 5,
   "id": "0f924c59-e0f7-41c5-8cae-a7fc09bb7d83",
   "metadata": {},
   "outputs": [
    {
     "data": {
      "text/plain": [
       "<User: User object>"
      ]
     },
     "execution_count": 5,
     "metadata": {},
     "output_type": "execute_result"
    }
   ],
   "source": [
    "db_user.save()"
   ]
  },
  {
   "cell_type": "code",
   "execution_count": 2,
   "id": "79ce1f46-21cb-4e3b-bc20-de6d99c299f6",
   "metadata": {},
   "outputs": [],
   "source": [
    "# Querying the User Document\n",
    "db_user = DBUser.objects(email=\"chris@nourishbalancethrive.com\").first()"
   ]
  },
  {
   "cell_type": "code",
   "execution_count": 18,
   "id": "522d3fd1-e64d-4730-b2d1-542396fcdb39",
   "metadata": {},
   "outputs": [],
   "source": [
    "db_user = get_current_user()"
   ]
  },
  {
   "cell_type": "code",
   "execution_count": 19,
   "id": "af4eaffa-997c-44e9-939c-f29477f6fc93",
   "metadata": {},
   "outputs": [
    {
     "data": {
      "text/plain": [
       "'{\"_id\": {\"$oid\": \"6526d86e6015be5b3434ac13\"}, \"name\": \"Chris\", \"email\": \"chris@nourishbalancethrive.com\"}'"
      ]
     },
     "execution_count": 19,
     "metadata": {},
     "output_type": "execute_result"
    }
   ],
   "source": [
    "db_user.to_json()"
   ]
  },
  {
   "cell_type": "markdown",
   "id": "9fec286b-e7b7-47e6-b714-3594e39da71b",
   "metadata": {
    "jp-MarkdownHeadingCollapsed": true
   },
   "source": [
    "# Meet and Greet"
   ]
  },
  {
   "cell_type": "code",
   "execution_count": 3,
   "id": "4349b0f8-2108-4266-b1c6-2da1fcd9ee34",
   "metadata": {},
   "outputs": [
    {
     "name": "stdout",
     "output_type": "stream",
     "text": [
      "load_memory filename='/Users/cck197/Downloads/virtual_greg/memory.pkl'\n"
     ]
    }
   ],
   "source": [
    "memory = X.load_memory()"
   ]
  },
  {
   "cell_type": "code",
   "execution_count": 9,
   "id": "d8884e82-c3e7-41db-a481-76c57d3b6493",
   "metadata": {},
   "outputs": [],
   "source": [
    "memory.save_context({\"input\": f\"my name is {user.name}\"}, {\"output\": f\"hi {user.name}\"})"
   ]
  },
  {
   "cell_type": "code",
   "execution_count": 5,
   "id": "8781cdb4-2995-4e6d-955e-aa78176c51eb",
   "metadata": {},
   "outputs": [],
   "source": [
    "memory.save_context({\"input\": f\"my email is {user.email}\"}, {\"output\": f\"got it\"})"
   ]
  },
  {
   "cell_type": "code",
   "execution_count": 37,
   "id": "d28b79b7-99aa-4bd2-93f2-619bf6f53779",
   "metadata": {},
   "outputs": [
    {
     "data": {
      "text/plain": [
       "{'chat_history': [HumanMessage(content='my name is Chris'),\n",
       "  AIMessage(content='hi Chris'),\n",
       "  HumanMessage(content='hey'),\n",
       "  AIMessage(content='Hi Chris! How can I assist you today?'),\n",
       "  HumanMessage(content='Tell me a joke.'),\n",
       "  AIMessage(content='\\n{\"setup\": \"Why did the chicken cross the road?\", \"punchline\": \"To get to the other side!\"}'),\n",
       "  HumanMessage(content=\"what's my name?\"),\n",
       "  AIMessage(content='\\n{\"setup\": \"What\\'s my name?\", \"punchline\": \"\"}'),\n",
       "  HumanMessage(content=\"what's my name?\"),\n",
       "  AIMessage(content='\\n{\"setup\": \"What\\'s my name?\", \"punchline\": \"\"}'),\n",
       "  HumanMessage(content=\"what's my name?\"),\n",
       "  AIMessage(content='\\n{\"name\": \"Your Name\"}'),\n",
       "  HumanMessage(content=\"what's the human's name?\"),\n",
       "  AIMessage(content='\\n{\"name\": \"John\"}'),\n",
       "  HumanMessage(content=\"what's the human's name?\"),\n",
       "  AIMessage(content='\\n\\n{\"name\": \"Chris\"}'),\n",
       "  HumanMessage(content='my email is chris@nourishbalancethrive.com'),\n",
       "  AIMessage(content='got it')]}"
      ]
     },
     "execution_count": 37,
     "metadata": {},
     "output_type": "execute_result"
    }
   ],
   "source": [
    "memory.load_memory_variables({})"
   ]
  },
  {
   "cell_type": "code",
   "execution_count": 59,
   "id": "9f15c6f2-b425-4ba5-a043-f6dcc2f284ba",
   "metadata": {},
   "outputs": [
    {
     "name": "stdout",
     "output_type": "stream",
     "text": [
      "get_agent len(tools)=10\n"
     ]
    },
    {
     "data": {
      "text/markdown": [
       "Hello, Chris! How are you feeling today?"
      ],
      "text/plain": [
       "<IPython.core.display.Markdown object>"
      ]
     },
     "metadata": {},
     "output_type": "display_data"
    }
   ],
   "source": [
    "x = X(goals[\"diary_probe\"], memory=memory);"
   ]
  },
  {
   "cell_type": "markdown",
   "id": "3e3e5381-600d-4a59-8f65-7997ed097ce8",
   "metadata": {
    "jp-MarkdownHeadingCollapsed": true
   },
   "source": [
    "# Parsing"
   ]
  },
  {
   "cell_type": "code",
   "execution_count": 5,
   "id": "700ac42e-c522-4a0a-8420-3fb513adc9a7",
   "metadata": {},
   "outputs": [],
   "source": [
    "from typing import List\n",
    "\n",
    "from langchain.llms import OpenAI\n",
    "from langchain.output_parsers import PydanticOutputParser\n",
    "from langchain.prompts import PromptTemplate\n",
    "from langchain.pydantic_v1 import BaseModel, Field, validator"
   ]
  },
  {
   "cell_type": "code",
   "execution_count": 6,
   "id": "895bbb4e-0bc6-480b-ac3b-5b713145c1fc",
   "metadata": {},
   "outputs": [],
   "source": [
    "model_name = \"text-davinci-003\"\n",
    "temperature = 0.0\n",
    "model = OpenAI(model_name=model_name, temperature=temperature)"
   ]
  },
  {
   "cell_type": "code",
   "execution_count": 7,
   "id": "b4b8bdbf-7a95-46f9-a834-93feb494b3cb",
   "metadata": {},
   "outputs": [
    {
     "data": {
      "text/plain": [
       "Joke(setup='Why did the chicken cross the road?', punchline='To get to the other side!')"
      ]
     },
     "execution_count": 7,
     "metadata": {},
     "output_type": "execute_result"
    }
   ],
   "source": [
    "# Define your desired data structure.\n",
    "class Joke(BaseModel):\n",
    "    setup: str = Field(description=\"question to set up a joke\")\n",
    "    punchline: str = Field(description=\"answer to resolve the joke\")\n",
    "\n",
    "    # You can add custom validation logic easily with Pydantic.\n",
    "    @validator(\"setup\")\n",
    "    def question_ends_with_question_mark(cls, field):\n",
    "        if field[-1] != \"?\":\n",
    "            raise ValueError(\"Badly formed question!\")\n",
    "        return field\n",
    "\n",
    "\n",
    "# And a query intented to prompt a language model to populate the data structure.\n",
    "joke_query = \"Tell me a joke.\"\n",
    "\n",
    "# Set up a parser + inject instructions into the prompt template.\n",
    "parser = PydanticOutputParser(pydantic_object=Joke)\n",
    "\n",
    "prompt = PromptTemplate(\n",
    "    template=\"Answer the user query.\\n{format_instructions}\\n{query}\\n\",\n",
    "    input_variables=[\"query\"],\n",
    "    partial_variables={\"format_instructions\": parser.get_format_instructions()},\n",
    ")\n",
    "\n",
    "_input = prompt.format_prompt(query=joke_query)\n",
    "\n",
    "output = model(_input.to_string())\n",
    "\n",
    "parser.parse(output)"
   ]
  },
  {
   "cell_type": "code",
   "execution_count": 18,
   "id": "c8f754da-dbce-4660-80cd-722f0b127161",
   "metadata": {},
   "outputs": [
    {
     "data": {
      "text/plain": [
       "'Answer the user query.\\nThe output should be formatted as a JSON instance that conforms to the JSON schema below.\\n\\nAs an example, for the schema {\"properties\": {\"foo\": {\"title\": \"Foo\", \"description\": \"a list of strings\", \"type\": \"array\", \"items\": {\"type\": \"string\"}}}, \"required\": [\"foo\"]}\\nthe object {\"foo\": [\"bar\", \"baz\"]} is a well-formatted instance of the schema. The object {\"properties\": {\"foo\": [\"bar\", \"baz\"]}} is not well-formatted.\\n\\nHere is the output schema:\\n```\\n{\"properties\": {\"setup\": {\"title\": \"Setup\", \"description\": \"question to set up a joke\", \"type\": \"string\"}, \"punchline\": {\"title\": \"Punchline\", \"description\": \"answer to resolve the joke\", \"type\": \"string\"}}, \"required\": [\"setup\", \"punchline\"]}\\n```\\nTell me a joke.\\n'"
      ]
     },
     "execution_count": 18,
     "metadata": {},
     "output_type": "execute_result"
    }
   ],
   "source": [
    "_input.to_string()"
   ]
  },
  {
   "cell_type": "markdown",
   "id": "d2a8df0b-3539-45d0-93ee-80336c9a5a36",
   "metadata": {
    "jp-MarkdownHeadingCollapsed": true
   },
   "source": [
    "# Using"
   ]
  },
  {
   "cell_type": "code",
   "execution_count": 38,
   "id": "8c54ad54-4914-4ed4-9be2-fcaa8664426b",
   "metadata": {},
   "outputs": [],
   "source": [
    "# Define your desired data structure.\n",
    "class UserParser(BaseModel):\n",
    "    name: str = Field(description=\"name\")\n",
    "    email: str = Field(description=\"email address\")"
   ]
  },
  {
   "cell_type": "code",
   "execution_count": 39,
   "id": "0ecd7ba7-ecf1-4415-87d9-90a7999257a1",
   "metadata": {},
   "outputs": [],
   "source": [
    "# Set up a parser + inject instructions into the prompt template.\n",
    "parser = PydanticOutputParser(pydantic_object=UserParser)\n",
    "\n",
    "prompt = PromptTemplate(\n",
    "    template=\"Answer the user query.\\n{format_instructions}\\n{query}\\nPrevious conversation:{chat_history}\",\n",
    "    input_variables=[\"query\", \"chat_history\"],\n",
    "    partial_variables={\"format_instructions\": parser.get_format_instructions()},\n",
    ")"
   ]
  },
  {
   "cell_type": "code",
   "execution_count": 40,
   "id": "b8332376-f142-4450-b864-59432f15e054",
   "metadata": {},
   "outputs": [],
   "source": [
    "from langchain.llms import OpenAI\n",
    "from langchain.prompts import PromptTemplate\n",
    "from langchain.chains import LLMChain\n",
    "from langchain.memory import ConversationBufferMemory"
   ]
  },
  {
   "cell_type": "code",
   "execution_count": 41,
   "id": "9eda10ed-936c-44be-aacb-5e462ce02041",
   "metadata": {},
   "outputs": [],
   "source": [
    "chain = LLMChain(\n",
    "    llm=model,\n",
    "    prompt=prompt,\n",
    "    verbose=True,\n",
    "    memory=memory\n",
    ")"
   ]
  },
  {
   "cell_type": "code",
   "execution_count": 55,
   "id": "8427aff3-82c9-4687-b7f7-e8d9a57c78a6",
   "metadata": {},
   "outputs": [],
   "source": [
    "user_query = \"what are the human's details\""
   ]
  },
  {
   "cell_type": "code",
   "execution_count": 56,
   "id": "34e5a109-0278-43c6-aee4-4b2ced573ef5",
   "metadata": {
    "scrolled": true
   },
   "outputs": [
    {
     "name": "stdout",
     "output_type": "stream",
     "text": [
      "\n",
      "\n",
      "\u001b[1m> Entering new LLMChain chain...\u001b[0m\n",
      "Prompt after formatting:\n",
      "\u001b[32;1m\u001b[1;3mAnswer the user query.\n",
      "The output should be formatted as a JSON instance that conforms to the JSON schema below.\n",
      "\n",
      "As an example, for the schema {\"properties\": {\"foo\": {\"title\": \"Foo\", \"description\": \"a list of strings\", \"type\": \"array\", \"items\": {\"type\": \"string\"}}}, \"required\": [\"foo\"]}\n",
      "the object {\"foo\": [\"bar\", \"baz\"]} is a well-formatted instance of the schema. The object {\"properties\": {\"foo\": [\"bar\", \"baz\"]}} is not well-formatted.\n",
      "\n",
      "Here is the output schema:\n",
      "```\n",
      "{\"properties\": {\"name\": {\"title\": \"Name\", \"description\": \"name\", \"type\": \"string\"}, \"email\": {\"title\": \"Email\", \"description\": \"email address\", \"type\": \"string\"}}, \"required\": [\"name\", \"email\"]}\n",
      "```\n",
      "what are the human's details\n",
      "Previous conversation:[HumanMessage(content='my name is Chris'), AIMessage(content='hi Chris'), HumanMessage(content='hey'), AIMessage(content='Hi Chris! How can I assist you today?'), HumanMessage(content='Tell me a joke.'), AIMessage(content='\\n{\"setup\": \"Why did the chicken cross the road?\", \"punchline\": \"To get to the other side!\"}'), HumanMessage(content=\"what's my name?\"), AIMessage(content='\\n{\"setup\": \"What\\'s my name?\", \"punchline\": \"\"}'), HumanMessage(content=\"what's my name?\"), AIMessage(content='\\n{\"setup\": \"What\\'s my name?\", \"punchline\": \"\"}'), HumanMessage(content=\"what's my name?\"), AIMessage(content='\\n{\"name\": \"Your Name\"}'), HumanMessage(content=\"what's the human's name?\"), AIMessage(content='\\n{\"name\": \"John\"}'), HumanMessage(content=\"what's the human's name?\"), AIMessage(content='\\n\\n{\"name\": \"Chris\"}'), HumanMessage(content='my email is chris@nourishbalancethrive.com'), AIMessage(content='got it'), HumanMessage(content=\"what are the human's name and email?\"), AIMessage(content='\\n\\n{\"name\": \"Chris\", \"email\": \"chris@nourishbalancethrive.com\"}')]\u001b[0m\n",
      "\n",
      "\u001b[1m> Finished chain.\u001b[0m\n"
     ]
    },
    {
     "data": {
      "text/plain": [
       "{'query': \"what are the human's details\",\n",
       " 'chat_history': [HumanMessage(content='my name is Chris'),\n",
       "  AIMessage(content='hi Chris'),\n",
       "  HumanMessage(content='hey'),\n",
       "  AIMessage(content='Hi Chris! How can I assist you today?'),\n",
       "  HumanMessage(content='Tell me a joke.'),\n",
       "  AIMessage(content='\\n{\"setup\": \"Why did the chicken cross the road?\", \"punchline\": \"To get to the other side!\"}'),\n",
       "  HumanMessage(content=\"what's my name?\"),\n",
       "  AIMessage(content='\\n{\"setup\": \"What\\'s my name?\", \"punchline\": \"\"}'),\n",
       "  HumanMessage(content=\"what's my name?\"),\n",
       "  AIMessage(content='\\n{\"setup\": \"What\\'s my name?\", \"punchline\": \"\"}'),\n",
       "  HumanMessage(content=\"what's my name?\"),\n",
       "  AIMessage(content='\\n{\"name\": \"Your Name\"}'),\n",
       "  HumanMessage(content=\"what's the human's name?\"),\n",
       "  AIMessage(content='\\n{\"name\": \"John\"}'),\n",
       "  HumanMessage(content=\"what's the human's name?\"),\n",
       "  AIMessage(content='\\n\\n{\"name\": \"Chris\"}'),\n",
       "  HumanMessage(content='my email is chris@nourishbalancethrive.com'),\n",
       "  AIMessage(content='got it'),\n",
       "  HumanMessage(content=\"what are the human's name and email?\"),\n",
       "  AIMessage(content='\\n\\n{\"name\": \"Chris\", \"email\": \"chris@nourishbalancethrive.com\"}')],\n",
       " 'text': '\\n\\nOutput: {\"name\": \"Chris\", \"email\": \"chris@nourishbalancethrive.com\"}'}"
      ]
     },
     "execution_count": 56,
     "metadata": {},
     "output_type": "execute_result"
    }
   ],
   "source": [
    "output = chain({\"query\": user_query}); output"
   ]
  },
  {
   "cell_type": "code",
   "execution_count": 57,
   "id": "0bdb20d4-6aed-4094-9cf8-d2bc8cbfe522",
   "metadata": {},
   "outputs": [
    {
     "data": {
      "text/plain": [
       "UserParser(name='Chris', email='chris@nourishbalancethrive.com')"
      ]
     },
     "execution_count": 57,
     "metadata": {},
     "output_type": "execute_result"
    }
   ],
   "source": [
    "parser.parse(output[\"text\"])"
   ]
  },
  {
   "cell_type": "code",
   "execution_count": 46,
   "id": "de067672-23fc-40ce-9763-92abfaadcfaf",
   "metadata": {},
   "outputs": [
    {
     "name": "stdout",
     "output_type": "stream",
     "text": [
      "\n",
      "\n",
      "\u001b[1m> Entering new LLMChain chain...\u001b[0m\n",
      "Prompt after formatting:\n",
      "\u001b[32;1m\u001b[1;3mAnswer the user query.\n",
      "The output should be formatted as a JSON instance that conforms to the JSON schema below.\n",
      "\n",
      "As an example, for the schema {\"properties\": {\"foo\": {\"title\": \"Foo\", \"description\": \"a list of strings\", \"type\": \"array\", \"items\": {\"type\": \"string\"}}}, \"required\": [\"foo\"]}\n",
      "the object {\"foo\": [\"bar\", \"baz\"]} is a well-formatted instance of the schema. The object {\"properties\": {\"foo\": [\"bar\", \"baz\"]}} is not well-formatted.\n",
      "\n",
      "Here is the output schema:\n",
      "```\n",
      "{\"properties\": {\"name\": {\"title\": \"Name\", \"description\": \"name\", \"type\": \"string\"}, \"email\": {\"title\": \"Email\", \"description\": \"email address\", \"type\": \"string\"}}, \"required\": [\"name\", \"email\"]}\n",
      "```\n",
      "what are the human's name and email?\n",
      "Previous conversation:[HumanMessage(content='my name is Chris'), AIMessage(content='hi Chris'), HumanMessage(content='hey'), AIMessage(content='Hi Chris! How can I assist you today?'), HumanMessage(content='Tell me a joke.'), AIMessage(content='\\n{\"setup\": \"Why did the chicken cross the road?\", \"punchline\": \"To get to the other side!\"}'), HumanMessage(content=\"what's my name?\"), AIMessage(content='\\n{\"setup\": \"What\\'s my name?\", \"punchline\": \"\"}'), HumanMessage(content=\"what's my name?\"), AIMessage(content='\\n{\"setup\": \"What\\'s my name?\", \"punchline\": \"\"}'), HumanMessage(content=\"what's my name?\"), AIMessage(content='\\n{\"name\": \"Your Name\"}'), HumanMessage(content=\"what's the human's name?\"), AIMessage(content='\\n{\"name\": \"John\"}'), HumanMessage(content=\"what's the human's name?\"), AIMessage(content='\\n\\n{\"name\": \"Chris\"}'), HumanMessage(content='my email is chris@nourishbalancethrive.com'), AIMessage(content='got it'), HumanMessage(content=\"what are the human's name and email?\"), AIMessage(content='\\n\\n{\"name\": \"Chris\", \"email\": \"chris@nourishbalancethrive.com\"}')]\u001b[0m\n",
      "\n",
      "\u001b[1m> Finished chain.\u001b[0m\n"
     ]
    },
    {
     "data": {
      "text/plain": [
       "UserParser(name='Chris', email='chris@nourishbalancethrive.com')"
      ]
     },
     "execution_count": 46,
     "metadata": {},
     "output_type": "execute_result"
    }
   ],
   "source": [
    "get_parsed_output(user_query, memory, UserParser)"
   ]
  },
  {
   "cell_type": "code",
   "execution_count": 47,
   "id": "3e1428ee-3405-44c6-aaae-fd68ffe96220",
   "metadata": {},
   "outputs": [],
   "source": [
    "up = _"
   ]
  },
  {
   "cell_type": "code",
   "execution_count": 49,
   "id": "235a698b-f542-4681-bbe2-424d5b00f89a",
   "metadata": {},
   "outputs": [
    {
     "data": {
      "text/plain": [
       "{'name': 'Chris', 'email': 'chris@nourishbalancethrive.com'}"
      ]
     },
     "execution_count": 49,
     "metadata": {},
     "output_type": "execute_result"
    }
   ],
   "source": [
    "up.dict()"
   ]
  },
  {
   "cell_type": "code",
   "execution_count": 50,
   "id": "9181157f-7e9a-4347-8868-bf32ad6eca51",
   "metadata": {},
   "outputs": [],
   "source": [
    "def pydantic_to_mongoengine(pydantic_model):\n",
    "    fields = {}\n",
    "    for name, field in pydantic_model.__fields__.items():\n",
    "        # This is a basic example and only handles str type; you would expand this for other types.\n",
    "        if field.outer_type_ == str:\n",
    "            fields[name] = StringField(required=field.required)\n",
    "        # Add other field type conversions as needed\n",
    "    return type(pydantic_model.__name__, (Document,), fields)\n"
   ]
  },
  {
   "cell_type": "code",
   "execution_count": 52,
   "id": "e63f6577-ce5d-4e2e-a9ec-030d8b28536c",
   "metadata": {},
   "outputs": [],
   "source": [
    "User = pydantic_to_mongoengine(UserParser)"
   ]
  },
  {
   "cell_type": "code",
   "execution_count": 54,
   "id": "71c4234b-338a-49e2-b77f-816f09d8e77d",
   "metadata": {},
   "outputs": [
    {
     "data": {
      "text/plain": [
       "mappingproxy({'name': <mongoengine.fields.StringField at 0x146da2190>,\n",
       "              'email': <mongoengine.fields.StringField at 0x1477e3650>,\n",
       "              '_meta': {'abstract': False,\n",
       "               'max_documents': None,\n",
       "               'max_size': None,\n",
       "               'ordering': [],\n",
       "               'indexes': [],\n",
       "               'id_field': 'id',\n",
       "               'index_background': False,\n",
       "               'index_opts': None,\n",
       "               'delete_rules': None,\n",
       "               'allow_inheritance': None,\n",
       "               'collection': 'user_parser',\n",
       "               'index_specs': []},\n",
       "              '_is_base_cls': False,\n",
       "              '_is_document': True,\n",
       "              '_cached_reference_fields': [],\n",
       "              '_fields': {'name': <mongoengine.fields.StringField at 0x146da2190>,\n",
       "               'email': <mongoengine.fields.StringField at 0x1477e3650>,\n",
       "               'id': <mongoengine.base.fields.ObjectIdField at 0x147674a10>},\n",
       "              '_db_field_map': {'name': 'name', 'email': 'email', 'id': '_id'},\n",
       "              '_reverse_db_field_map': {'name': 'name',\n",
       "               'email': 'email',\n",
       "               '_id': 'id'},\n",
       "              '_fields_ordered': ('id', 'name', 'email'),\n",
       "              '_class_name': 'UserParser',\n",
       "              '_superclasses': (),\n",
       "              '_subclasses': ('UserParser',),\n",
       "              '_types': ('UserParser',),\n",
       "              '__module__': 'mongoengine.base.metaclasses',\n",
       "              '__dict__': <attribute '__dict__' of 'UserParser' objects>,\n",
       "              '__doc__': None,\n",
       "              '_collection': None,\n",
       "              'objects': <mongoengine.queryset.manager.QuerySetManager at 0x1477e10d0>,\n",
       "              'id': <mongoengine.base.fields.ObjectIdField at 0x147674a10>,\n",
       "              'DoesNotExist': DoesNotExist,\n",
       "              'MultipleObjectsReturned': MultipleObjectsReturned})"
      ]
     },
     "execution_count": 54,
     "metadata": {},
     "output_type": "execute_result"
    }
   ],
   "source": [
    "User.__dict__"
   ]
  },
  {
   "cell_type": "markdown",
   "id": "41602b2e-fa1c-44f7-89cb-79906eeac679",
   "metadata": {},
   "source": [
    "# New"
   ]
  },
  {
   "cell_type": "code",
   "execution_count": 5,
   "id": "afe7b892-92a8-4059-8808-ac5b1ddc3820",
   "metadata": {},
   "outputs": [
    {
     "name": "stdout",
     "output_type": "stream",
     "text": [
      "load_memory filename='/Users/cck197/Downloads/virtual_greg/memory.pkl'\n"
     ]
    }
   ],
   "source": [
    "memory = X.load_memory()"
   ]
  },
  {
   "cell_type": "code",
   "execution_count": 30,
   "id": "ef68c630-164a-45eb-b386-2a5136307954",
   "metadata": {},
   "outputs": [
    {
     "data": {
      "text/plain": [
       "SleepDiaryEntry(date=datetime.datetime(2023, 10, 5, 0, 0), in_bed=datetime.datetime(2023, 10, 12, 21, 0), tried_to_fall_asleep=datetime.datetime(2023, 10, 12, 23, 0), time_to_fall_asleep=30, times_awake=5, time_awake=50, final_wake_up=datetime.datetime(2023, 10, 12, 6, 30), out_of_bed=datetime.datetime(2023, 10, 12, 6, 30), sleep_quality='okay', medications='melatonin', notes='Slept in the van')"
      ]
     },
     "execution_count": 30,
     "metadata": {},
     "output_type": "execute_result"
    }
   ],
   "source": [
    "get_parsed_output(\"summarise the last sleep diary entry\", memory_, SleepDiaryEntry)"
   ]
  },
  {
   "cell_type": "markdown",
   "id": "ecce1758-ccf6-4366-b757-9a01352f3717",
   "metadata": {},
   "source": [
    "## Working"
   ]
  },
  {
   "cell_type": "markdown",
   "id": "9f524df7-c26f-43f5-8e04-34905d6bd4da",
   "metadata": {
    "jupyter": {
     "source_hidden": true
    }
   },
   "source": [
    "Answer the user query.\n",
    "The output should be formatted as a JSON instance that conforms to the JSON schema below.\n",
    "\n",
    "As an example, for the schema {\"properties\": {\"foo\": {\"title\": \"Foo\", \"description\": \"a list of strings\", \"type\": \"array\", \"items\": {\"type\": \"string\"}}}, \"required\": [\"foo\"]}\n",
    "the object {\"foo\": [\"bar\", \"baz\"]} is a well-formatted instance of the schema. The object {\"properties\": {\"foo\": [\"bar\", \"baz\"]}} is not well-formatted.\n",
    "\n",
    "Here is the output schema:\n",
    "```\n",
    "{\"properties\": {\"date\": {\"title\": \"Date\", \"description\": \"date of entry\", \"type\": \"string\"}, \"in_bed\": {\"title\": \"In Bed\", \"description\": \"time you went to bed\", \"type\": \"string\"}, \"tried_to_fall_asleep\": {\"title\": \"Tried To Fall Asleep\", \"description\": \"time you tried to fall asleep\", \"type\": \"string\"}, \"time_to_fall_asleep\": {\"title\": \"Time To Fall Asleep\", \"description\": \"how long it took you to fall asleep\", \"type\": \"integer\"}, \"times_awake\": {\"title\": \"Times Awake\", \"description\": \"how many times you woke up during the night\", \"type\": \"integer\"}, \"time_awake\": {\"title\": \"Time Awake\", \"description\": \"total time you were awake during the night\", \"type\": \"integer\"}, \"final_wake_up\": {\"title\": \"Final Wake Up\", \"description\": \"final wake up time\", \"type\": \"string\"}, \"out_of_bed\": {\"title\": \"Out Of Bed\", \"description\": \"time you got out of bed\", \"type\": \"string\"}, \"sleep_quality\": {\"title\": \"Sleep Quality\", \"description\": \"sleep quality\", \"type\": \"string\"}, \"medications\": {\"title\": \"Medications\", \"description\": \"medications or aids you used to help you sleep\", \"type\": \"string\"}, \"notes\": {\"title\": \"Notes\", \"description\": \"any other notes you'd like to add\", \"type\": \"string\"}}, \"required\": [\"date\", \"in_bed\", \"tried_to_fall_asleep\", \"time_to_fall_asleep\", \"times_awake\", \"time_awake\", \"final_wake_up\", \"out_of_bed\", \"sleep_quality\", \"medications\", \"notes\"]}\n",
    "```\n",
    "summarise the last sleep diary entry\n",
    "Previous conversation:[HumanMessage(content='hey'), AIMessage(content=\"Hello! I'm here to help you record your sleep diary. Before we begin, may I know your name, please?\"), HumanMessage(content='Chris'), AIMessage(content='Nice to meet you, Chris! I also need your email address for our records. Could you please provide that?'), HumanMessage(content='chris@nourishbalancethrive.com'), AIMessage(content='Thank you, Chris. Now, is it a good time for you to record a sleep diary entry?'), HumanMessage(content='Oct 7'), AIMessage(content=\"Great, we'll record the sleep diary entry for October 7th. Let's start with the first question. What time did you go to bed on October 7th?\"), HumanMessage(content='21:00'), AIMessage(content='Thank you, Chris. Now, what time did you try to fall asleep?'), HumanMessage(content='21:00'), AIMessage(content='Alright. How long did it take you to fall asleep, in minutes?'), HumanMessage(content='5'), AIMessage(content='Got it. How many times did you wake up during the night?'), HumanMessage(content='1'), AIMessage(content='I see. And how long were you awake during the night, in minutes?'), HumanMessage(content='5'), AIMessage(content='Noted. What was your final wake up time?'), HumanMessage(content='6:30'), AIMessage(content='Thank you. And what time did you get out of bed?'), HumanMessage(content='6:30'), AIMessage(content='Alright. How would you rate your sleep quality? You can choose from \"very good\", \"good\", \"okay\", \"bad\", \"very bad\".'), HumanMessage(content='okay'), AIMessage(content='Okay. Did you use any medications or aids to help you sleep?'), HumanMessage(content='melatonin, and for the notes I slept in the van 3'), AIMessage(content=\"Thank you for sharing that, Chris. Let's summarize:\\n\\n- Date of entry: October 7th\\n- Time you went to bed: 21:00\\n- Time you tried to fall asleep: 21:00\\n- Time it took to fall asleep: 5 minutes\\n- Number of times you woke up during the night: 1\\n- Total time you were awake during the night: 5 minutes\\n- Final wake up time: 6:30\\n- Time you got out of bed: 6:30\\n- Sleep quality: Okay\\n- Sleep aids: Melatonin\\n- Notes: Slept in the van 3\\n\\nYour sleep efficiency, which is the percentage of time spent asleep while in bed, is 96.7%. Anything over 85% is considered normal.\\n\\nIs this information correct?\"), HumanMessage(content='yep!'), AIMessage(content='Great! Thank you for confirming, Chris. Your sleep diary entry has been successfully recorded. If you have any other questions or need further assistance, feel free to ask. 🚀🚀🚀'), HumanMessage(content='hey'), AIMessage(content='Hello again, Chris! How are you feeling today? Is it a good time to record another sleep diary entry?'), HumanMessage(content='chris@nourishbalancethrive.com'), AIMessage(content='Thank you, Chris. Now, is it a good time for you to record a sleep diary entry?'), HumanMessage(content='yes'), AIMessage(content=\"Great! Let's record the sleep diary entry for October 10th. What time did you go to bed?\"), HumanMessage(content='actually no Oct 1'), AIMessage(content=\"Alright, we'll record the sleep diary entry for October 1st. What time did you go to bed on that day?\"), HumanMessage(content='21:00'), AIMessage(content='Thank you, Chris. Now, what time did you try to fall asleep?'), HumanMessage(content='120'), AIMessage(content=\"I'm sorry, but the time you provided seems to be incorrect. Could you please provide the time in a 24-hour format? For example, if it's 1:20 AM, you should enter it as 01:20.\"), HumanMessage(content='23:00'), AIMessage(content='Got it. How long did it take you to fall asleep, in minutes?'), HumanMessage(content='30'), AIMessage(content='Noted. How many times did you wake up during the night?'), HumanMessage(content='5'), AIMessage(content='I see. And how long were you awake during the night, in minutes?'), HumanMessage(content='50'), AIMessage(content='Thank you for that information. What was your final wake up time?'), HumanMessage(content='6:30'), AIMessage(content='Thank you. And what time did you get out of bed?'), HumanMessage(content='6:30'), AIMessage(content='Alright. How would you rate your sleep quality? You can choose from \"very good\", \"good\", \"okay\", \"bad\", \"very bad\".'), HumanMessage(content='okay'), AIMessage(content='Okay. Did you use any medications or aids to help you sleep?'), HumanMessage(content='melatonin, and for the notes I slept in the van 4'), AIMessage(content=\"Thank you for sharing that, Chris. Let's summarize:\\n\\n- Date of entry: October 1st\\n- Time you went to bed: 21:00\\n- Time you tried to fall asleep: 23:00\\n- Time it took to fall asleep: 30 minutes\\n- Number of times you woke up during the night: 5\\n- Total time you were awake during the night: 50 minutes\\n- Final wake up time: 6:30\\n- Time you got out of bed: 6:30\\n- Sleep quality: Okay\\n- Sleep aids: Melatonin\\n- Notes: Slept in the van 4\\n\\nYour sleep efficiency, which is the percentage of time spent asleep while in bed, is 85.4%. Anything over 85% is considered normal.\\n\\nIs this information correct?\"), HumanMessage(content='yep!'), AIMessage(content='Great! Thank you for confirming, Chris. Your sleep diary entry has been successfully recorded. If you have any other questions or need further assistance, feel free to ask. 🚀🚀🚀')]\n",
    "\n",
    "{\"date\": \"October 1st\", \"in_bed\": \"21:00\", \"tried_to_fall_asleep\": \"23:00\", \"time_to_fall_asleep\": 30, \"times_awake\": 5, \"time_awake\": 50, \"final_wake_up\": \"6:30\", \"out_of_bed\": \"6:30\", \"sleep_quality\": \"okay\", \"medications\": \"melatonin\", \"notes\": \"Slept in the van 4\"}"
   ]
  },
  {
   "cell_type": "markdown",
   "id": "41b2e047-4e27-419c-8949-5d1b412f556e",
   "metadata": {},
   "source": [
    "Not working"
   ]
  },
  {
   "cell_type": "markdown",
   "id": "8148c188-4256-4cca-ae09-5434e8bc35f2",
   "metadata": {
    "jupyter": {
     "source_hidden": true
    }
   },
   "source": [
    "Answer the user query.\n",
    "The output should be formatted as a JSON instance that conforms to the JSON schema below.\n",
    "\n",
    "As an example, for the schema {\"properties\": {\"foo\": {\"title\": \"Foo\", \"description\": \"a list of strings\", \"type\": \"array\", \"items\": {\"type\": \"string\"}}}, \"required\": [\"foo\"]}\n",
    "the object {\"foo\": [\"bar\", \"baz\"]} is a well-formatted instance of the schema. The object {\"properties\": {\"foo\": [\"bar\", \"baz\"]}} is not well-formatted.\n",
    "\n",
    "Here is the output schema:\n",
    "```\n",
    "{\"properties\": {\"date\": {\"title\": \"Date\", \"description\": \"date of entry\", \"type\": \"string\"}, \"in_bed\": {\"title\": \"In Bed\", \"description\": \"time you went to bed\", \"type\": \"string\"}, \"tried_to_fall_asleep\": {\"title\": \"Tried To Fall Asleep\", \"description\": \"time you tried to fall asleep\", \"type\": \"string\"}, \"time_to_fall_asleep\": {\"title\": \"Time To Fall Asleep\", \"description\": \"how long it took you to fall asleep\", \"type\": \"integer\"}, \"times_awake\": {\"title\": \"Times Awake\", \"description\": \"how many times you woke up during the night\", \"type\": \"integer\"}, \"time_awake\": {\"title\": \"Time Awake\", \"description\": \"total time you were awake during the night\", \"type\": \"integer\"}, \"final_wake_up\": {\"title\": \"Final Wake Up\", \"description\": \"final wake up time\", \"type\": \"string\"}, \"out_of_bed\": {\"title\": \"Out Of Bed\", \"description\": \"time you got out of bed\", \"type\": \"string\"}, \"sleep_quality\": {\"title\": \"Sleep Quality\", \"description\": \"sleep quality\", \"type\": \"string\"}, \"medications\": {\"title\": \"Medications\", \"description\": \"medications or aids you used to help you sleep\", \"type\": \"string\"}, \"notes\": {\"title\": \"Notes\", \"description\": \"any other notes you'd like to add\", \"type\": \"string\"}}, \"required\": [\"date\", \"in_bed\", \"tried_to_fall_asleep\", \"time_to_fall_asleep\", \"times_awake\", \"time_awake\", \"final_wake_up\", \"out_of_bed\", \"sleep_quality\", \"medications\", \"notes\"]}\n",
    "```\n",
    "summarise the last sleep diary entry\n",
    "Previous conversation:[AIMessage(content=\"what's your email?\"), HumanMessage(content='chris@nourishbalancethrive.com'), HumanMessage(content='okay'), AIMessage(content='I see. How would you rate your sleep quality on a scale of \"very good\", \"good\", \"okay\", \"bad\", \"very bad\"?'), AIMessage(content=\"what's your name?\"), HumanMessage(content='Chris'), AIMessage(content=\"what's your email?\"), HumanMessage(content='chris@nourishbalancethrive.com'), HumanMessage(content='melatonin, and for the notes I slept in the van 5'), AIMessage(content='Thanks for sharing that, Chris. Here\\'s the summary of your sleep diary entry for October 4, 2023:\\n\\n- You got in bed at 21:00.\\n- You tried to fall asleep at 23:00.\\n- It took you 30 minutes to fall asleep.\\n- You woke up 5 times during the night.\\n- You were awake for a total of 50 minutes during the night.\\n- You finally woke up at 06:30.\\n- You got out of bed at 06:30.\\n- You rated your sleep quality as \"okay\".\\n- You took melatonin as medication.\\n- You noted that you \"Slept in the van 5\".\\n\\nYour sleep efficiency was 64.91%. Remember, anything over 85% is considered normal. Is this information correct? 🚀🚀🚀'), AIMessage(content=\"what's your name?\"), HumanMessage(content='Chris'), AIMessage(content=\"what's your email?\"), HumanMessage(content='chris@nourishbalancethrive.com'), HumanMessage(content='yep!'), AIMessage(content=\"Great! I'm glad we could record your sleep diary entry for October 4, 2023. Remember, keeping a regular sleep diary can help identify patterns and areas for improvement in your sleep habits. Keep up the good work! 🚀🚀🚀\"), AIMessage(content=\"what's your name?\"), HumanMessage(content='Chris'), AIMessage(content=\"what's your email?\"), HumanMessage(content='chris@nourishbalancethrive.com'), HumanMessage(content='save that entry to the database'), AIMessage(content=\"I'm sorry, but as an AI, I don't have the ability to directly interact with databases. However, I can help you format your data in a way that's ready to be input into a database. Here's your sleep diary entry in a database-friendly format:\\n\\n- Date: October 4, 2023\\n- Bedtime: 21:00\\n- Sleep Attempt Time: 23:00\\n- Time to Fall Asleep: 30 minutes\\n- Number of Awakenings: 5\\n- Total Awake Time: 50 minutes\\n- Final Wake Time: 06:30\\n- Out of Bed Time: 06:30\\n- Sleep Quality: Okay\\n- Medications: Melatonin\\n- Notes: Slept in the van 5\\n\\nPlease let me know if you need help with anything else. 🚀🚀🚀\"), AIMessage(content=\"what's your name?\"), HumanMessage(content='Chris'), AIMessage(content=\"what's your email?\"), HumanMessage(content='chris@nourishbalancethrive.com'), HumanMessage(content='hey'), AIMessage(content=\"Hello Chris, nice to meet you. I'm your AI clinician. I'm going to help you with your sleep diary. If you have any sleep diary entries, please share them with me.\"), AIMessage(content=\"what's your name?\"), HumanMessage(content='Chris'), AIMessage(content=\"what's your email?\"), HumanMessage(content='chris@nourishbalancethrive.com'), HumanMessage(content=\"what's my email?\"), AIMessage(content=\"Your email is chris@nourishbalancethrive.com. Now, let's move on to the sleep diary. Is now a good time to record a diary entry?\"), AIMessage(content=\"what's your name?\"), HumanMessage(content='Chris'), AIMessage(content=\"what's your email?\"), HumanMessage(content='chris@nourishbalancethrive.com'), HumanMessage(content='Oct 5'), AIMessage(content=\"I'm sorry, but I couldn't find a sleep diary entry for October 5, 2023. Would you like to create a new entry for this date?\"), AIMessage(content=\"what's your name?\"), HumanMessage(content='Chris'), AIMessage(content=\"what's your email?\"), HumanMessage(content='chris@nourishbalancethrive.com'), HumanMessage(content='yep'), AIMessage(content=\"Great! Let's start with the time you went to bed on October 5, 2023.\"), AIMessage(content=\"what's your name?\"), HumanMessage(content='Chris'), AIMessage(content=\"what's your email?\"), HumanMessage(content='chris@nourishbalancethrive.com'), HumanMessage(content='21:00'), AIMessage(content='Thanks, Chris. Now, what time did you try to fall asleep?'), AIMessage(content=\"what's your name?\"), HumanMessage(content='Chris'), AIMessage(content=\"what's your email?\"), HumanMessage(content='chris@nourishbalancethrive.com'), HumanMessage(content='23:00'), AIMessage(content='Got it. How long did it take you to fall asleep?'), AIMessage(content=\"what's your name?\"), HumanMessage(content='Chris'), AIMessage(content=\"what's your email?\"), HumanMessage(content='chris@nourishbalancethrive.com'), HumanMessage(content='30'), AIMessage(content='Thanks for sharing that. How many times did you wake up during the night?'), AIMessage(content=\"what's your name?\"), HumanMessage(content='Chris'), AIMessage(content=\"what's your email?\"), HumanMessage(content='chris@nourishbalancethrive.com'), HumanMessage(content='5'), AIMessage(content='I see. And how long were you awake during these times? Please provide the total time in minutes.'), AIMessage(content=\"what's your name?\"), HumanMessage(content='Chris'), AIMessage(content=\"what's your email?\"), HumanMessage(content='chris@nourishbalancethrive.com'), HumanMessage(content='50'), AIMessage(content='Thanks for that information. What time did you finally wake up?'), AIMessage(content=\"what's your name?\"), HumanMessage(content='Chris'), AIMessage(content=\"what's your email?\"), HumanMessage(content='chris@nourishbalancethrive.com'), HumanMessage(content='6:30'), AIMessage(content='Thanks for sharing that. And what time did you get out of bed?'), AIMessage(content=\"what's your name?\"), HumanMessage(content='Chris'), AIMessage(content=\"what's your email?\"), HumanMessage(content='chris@nourishbalancethrive.com'), HumanMessage(content='okay'), AIMessage(content='I see. How would you rate your sleep quality on a scale of \"very good\", \"good\", \"okay\", \"bad\", \"very bad\"?'), AIMessage(content=\"what's your name?\"), HumanMessage(content='Chris'), AIMessage(content=\"what's your email?\"), HumanMessage(content='chris@nourishbalancethrive.com'), HumanMessage(content='melatonin, and for the notes I slept in the van'), AIMessage(content='Thanks for sharing that, Chris. Here\\'s the summary of your sleep diary entry for October 5, 2023:\\n\\n- You got in bed at 21:00.\\n- You tried to fall asleep at 23:00.\\n- It took you 30 minutes to fall asleep.\\n- You woke up 5 times during the night.\\n- You were awake for a total of 50 minutes during the night.\\n- You finally woke up at 06:30.\\n- You got out of bed at 06:30.\\n- You rated your sleep quality as \"okay\".\\n- You took melatonin as medication.\\n- You noted that you \"Slept in the van\".\\n\\nYour sleep efficiency was 64.91%. Remember, anything over 85% is considered normal. Is this information correct?'), AIMessage(content=\"what's your name?\"), HumanMessage(content='Chris'), AIMessage(content=\"what's your email?\"), HumanMessage(content='chris@nourishbalancethrive.com'), HumanMessage(content='yep!'), AIMessage(content=\"Great! I've saved your sleep diary entry for October 5, 2023. Remember, keeping a regular sleep diary can help identify patterns and areas for improvement in your sleep habits. Keep up the good work! 🚀🚀🚀\")]\n",
    "\n",
    "{\"properties\": {\"date\": {\"title\": \"Date\", \"description\": \"date of entry\", \"type\": \"string\"}, \"in_bed\": {\"title\": \"In Bed\", \"description\": \"time you went to bed\", \"type\": \"string\"}, \"tried_to_fall_asleep\": {\"title\": \"Tried To Fall Asleep\", \"description\": \"time you tried to fall asleep\", \"type\": \"string\"}, \"time_to_fall_asleep\": {\"title\": \"Time To Fall Asleep\", \"description\": \"how long it took you to fall asleep\", \"type\": \"integer\"}, \"times_awake\": {\"title\": \"Times Awake\", \"description\": \"how many times you woke up during the night\", \"type\": \"integer\"}, \"time_awake\": {\"title\": \"Time Awake\", \"description\": \"total time you were awake during the night\", \"type\": \"integer\"}, \"final_wake_up\": {\"title\": \"Final Wake Up\", \"description\": \"final wake up time\", \"type\": \"string\"}, \"out_of_bed\": {\"title\": \"Out Of Bed\", \"description\": \"time you got out of bed"
   ]
  },
  {
   "cell_type": "code",
   "execution_count": 5,
   "id": "40e58eca-5b92-4c72-8d22-ec5b8c937025",
   "metadata": {
    "scrolled": true
   },
   "outputs": [
    {
     "data": {
      "text/plain": [
       "User(name='Chris', email='chris@nourishbalancethrive.com')"
      ]
     },
     "execution_count": 5,
     "metadata": {},
     "output_type": "execute_result"
    }
   ],
   "source": [
    "user = get_user(memory); user"
   ]
  },
  {
   "cell_type": "code",
   "execution_count": 3,
   "id": "3d27e3ae-766f-47f2-bdb8-ef7717eedd1a",
   "metadata": {
    "scrolled": true
   },
   "outputs": [
    {
     "ename": "OutputParserException",
     "evalue": "Failed to parse SleepDiaryEntry from completion \n\nThe output should be formatted as a JSON instance that conforms to the following schema:\n\n{\"properties\": {\"date\": {\"title\": \"Date\", \"description\": \"date of entry\", \"type\": \"string\"}, \"in_bed\": {\"title\": \"In Bed\", \"description\": \"time you went to bed\", \"type\": \"string\"}, \"tried_to_fall_asleep\": {\"title\": \"Tried To Fall Asleep\", \"description\": \"time you tried to fall asleep\", \"type\": \"string\"}, \"time_to_fall_asleep\": {\"title\": \"Time To Fall Asleep\", \"description\": \"how long it took you to fall asleep\", \"type\": \"integer\"}, \"times_awake\": {\"title\": \"Times Awake\", \"description\": \"how many times you woke up during the night\", \"type\": \"integer\"}, \"time_awake\": {\"title\": \"Time Awake\", \"description\": \"total time you were awake during the night\", \"type\": \"integer\"}, \"final_wake_up\": {\"title\": \"Final Wake Up\", \"description\": \"final wake up time\", \"type\": \"string\"}, \"out_of_bed. Got: Expecting ',' delimiter: line 1 column 776 (char 775)",
     "output_type": "error",
     "traceback": [
      "\u001b[0;31m---------------------------------------------------------------------------\u001b[0m",
      "\u001b[0;31mJSONDecodeError\u001b[0m                           Traceback (most recent call last)",
      "File \u001b[0;32m~/Library/Caches/pypoetry/virtualenvs/sleepmate-kok1GflL-py3.11/lib/python3.11/site-packages/langchain/output_parsers/pydantic.py:28\u001b[0m, in \u001b[0;36mPydanticOutputParser.parse\u001b[0;34m(self, text)\u001b[0m\n\u001b[1;32m     27\u001b[0m     json_str \u001b[38;5;241m=\u001b[39m match\u001b[38;5;241m.\u001b[39mgroup()\n\u001b[0;32m---> 28\u001b[0m json_object \u001b[38;5;241m=\u001b[39m \u001b[43mjson\u001b[49m\u001b[38;5;241;43m.\u001b[39;49m\u001b[43mloads\u001b[49m\u001b[43m(\u001b[49m\u001b[43mjson_str\u001b[49m\u001b[43m,\u001b[49m\u001b[43m \u001b[49m\u001b[43mstrict\u001b[49m\u001b[38;5;241;43m=\u001b[39;49m\u001b[38;5;28;43;01mFalse\u001b[39;49;00m\u001b[43m)\u001b[49m\n\u001b[1;32m     29\u001b[0m \u001b[38;5;28;01mreturn\u001b[39;00m \u001b[38;5;28mself\u001b[39m\u001b[38;5;241m.\u001b[39mpydantic_object\u001b[38;5;241m.\u001b[39mparse_obj(json_object)\n",
      "File \u001b[0;32m/opt/homebrew/Cellar/python@3.11/3.11.5/Frameworks/Python.framework/Versions/3.11/lib/python3.11/json/__init__.py:359\u001b[0m, in \u001b[0;36mloads\u001b[0;34m(s, cls, object_hook, parse_float, parse_int, parse_constant, object_pairs_hook, **kw)\u001b[0m\n\u001b[1;32m    358\u001b[0m     kw[\u001b[38;5;124m'\u001b[39m\u001b[38;5;124mparse_constant\u001b[39m\u001b[38;5;124m'\u001b[39m] \u001b[38;5;241m=\u001b[39m parse_constant\n\u001b[0;32m--> 359\u001b[0m \u001b[38;5;28;01mreturn\u001b[39;00m \u001b[38;5;28;43mcls\u001b[39;49m\u001b[43m(\u001b[49m\u001b[38;5;241;43m*\u001b[39;49m\u001b[38;5;241;43m*\u001b[39;49m\u001b[43mkw\u001b[49m\u001b[43m)\u001b[49m\u001b[38;5;241;43m.\u001b[39;49m\u001b[43mdecode\u001b[49m\u001b[43m(\u001b[49m\u001b[43ms\u001b[49m\u001b[43m)\u001b[49m\n",
      "File \u001b[0;32m/opt/homebrew/Cellar/python@3.11/3.11.5/Frameworks/Python.framework/Versions/3.11/lib/python3.11/json/decoder.py:337\u001b[0m, in \u001b[0;36mJSONDecoder.decode\u001b[0;34m(self, s, _w)\u001b[0m\n\u001b[1;32m    333\u001b[0m \u001b[38;5;250m\u001b[39m\u001b[38;5;124;03m\"\"\"Return the Python representation of ``s`` (a ``str`` instance\u001b[39;00m\n\u001b[1;32m    334\u001b[0m \u001b[38;5;124;03mcontaining a JSON document).\u001b[39;00m\n\u001b[1;32m    335\u001b[0m \n\u001b[1;32m    336\u001b[0m \u001b[38;5;124;03m\"\"\"\u001b[39;00m\n\u001b[0;32m--> 337\u001b[0m obj, end \u001b[38;5;241m=\u001b[39m \u001b[38;5;28;43mself\u001b[39;49m\u001b[38;5;241;43m.\u001b[39;49m\u001b[43mraw_decode\u001b[49m\u001b[43m(\u001b[49m\u001b[43ms\u001b[49m\u001b[43m,\u001b[49m\u001b[43m \u001b[49m\u001b[43midx\u001b[49m\u001b[38;5;241;43m=\u001b[39;49m\u001b[43m_w\u001b[49m\u001b[43m(\u001b[49m\u001b[43ms\u001b[49m\u001b[43m,\u001b[49m\u001b[43m \u001b[49m\u001b[38;5;241;43m0\u001b[39;49m\u001b[43m)\u001b[49m\u001b[38;5;241;43m.\u001b[39;49m\u001b[43mend\u001b[49m\u001b[43m(\u001b[49m\u001b[43m)\u001b[49m\u001b[43m)\u001b[49m\n\u001b[1;32m    338\u001b[0m end \u001b[38;5;241m=\u001b[39m _w(s, end)\u001b[38;5;241m.\u001b[39mend()\n",
      "File \u001b[0;32m/opt/homebrew/Cellar/python@3.11/3.11.5/Frameworks/Python.framework/Versions/3.11/lib/python3.11/json/decoder.py:353\u001b[0m, in \u001b[0;36mJSONDecoder.raw_decode\u001b[0;34m(self, s, idx)\u001b[0m\n\u001b[1;32m    352\u001b[0m \u001b[38;5;28;01mtry\u001b[39;00m:\n\u001b[0;32m--> 353\u001b[0m     obj, end \u001b[38;5;241m=\u001b[39m \u001b[38;5;28;43mself\u001b[39;49m\u001b[38;5;241;43m.\u001b[39;49m\u001b[43mscan_once\u001b[49m\u001b[43m(\u001b[49m\u001b[43ms\u001b[49m\u001b[43m,\u001b[49m\u001b[43m \u001b[49m\u001b[43midx\u001b[49m\u001b[43m)\u001b[49m\n\u001b[1;32m    354\u001b[0m \u001b[38;5;28;01mexcept\u001b[39;00m \u001b[38;5;167;01mStopIteration\u001b[39;00m \u001b[38;5;28;01mas\u001b[39;00m err:\n",
      "\u001b[0;31mJSONDecodeError\u001b[0m: Expecting ',' delimiter: line 1 column 776 (char 775)",
      "\nDuring handling of the above exception, another exception occurred:\n",
      "\u001b[0;31mOutputParserException\u001b[0m                     Traceback (most recent call last)",
      "Cell \u001b[0;32mIn[3], line 1\u001b[0m\n\u001b[0;32m----> 1\u001b[0m entry \u001b[38;5;241m=\u001b[39m get_sleep_diary_entry(memory); entry\n",
      "File \u001b[0;32m~/Documents/sleepmate/sleepmate/diary.py:55\u001b[0m, in \u001b[0;36mget_sleep_diary_entry\u001b[0;34m(memory)\u001b[0m\n\u001b[1;32m     54\u001b[0m \u001b[38;5;28;01mdef\u001b[39;00m \u001b[38;5;21mget_sleep_diary_entry\u001b[39m(memory: BaseMemory) \u001b[38;5;241m-\u001b[39m\u001b[38;5;241m>\u001b[39m SleepDiaryEntry:\n\u001b[0;32m---> 55\u001b[0m     \u001b[38;5;28;01mreturn\u001b[39;00m \u001b[43mget_parsed_output\u001b[49m\u001b[43m(\u001b[49m\n\u001b[1;32m     56\u001b[0m \u001b[43m        \u001b[49m\u001b[38;5;124;43m\"\u001b[39;49m\u001b[38;5;124;43msummarise the last sleep diary entry\u001b[39;49m\u001b[38;5;124;43m\"\u001b[39;49m\u001b[43m,\u001b[49m\u001b[43m \u001b[49m\u001b[43mmemory\u001b[49m\u001b[43m,\u001b[49m\u001b[43m \u001b[49m\u001b[43mSleepDiaryEntry\u001b[49m\n\u001b[1;32m     57\u001b[0m \u001b[43m    \u001b[49m\u001b[43m)\u001b[49m\n",
      "File \u001b[0;32m~/Documents/sleepmate/sleepmate/structured.py:44\u001b[0m, in \u001b[0;36mget_parsed_output\u001b[0;34m(query, memory, cls)\u001b[0m\n\u001b[1;32m     42\u001b[0m chain \u001b[38;5;241m=\u001b[39m LLMChain(llm\u001b[38;5;241m=\u001b[39mllm, prompt\u001b[38;5;241m=\u001b[39mprompt, memory\u001b[38;5;241m=\u001b[39mtail_memory(memory))\n\u001b[1;32m     43\u001b[0m output \u001b[38;5;241m=\u001b[39m chain({\u001b[38;5;124m\"\u001b[39m\u001b[38;5;124mquery\u001b[39m\u001b[38;5;124m\"\u001b[39m: query})\n\u001b[0;32m---> 44\u001b[0m \u001b[38;5;28;01mreturn\u001b[39;00m \u001b[43mparser\u001b[49m\u001b[38;5;241;43m.\u001b[39;49m\u001b[43mparse\u001b[49m\u001b[43m(\u001b[49m\u001b[43moutput\u001b[49m\u001b[43m[\u001b[49m\u001b[38;5;124;43m\"\u001b[39;49m\u001b[38;5;124;43mtext\u001b[39;49m\u001b[38;5;124;43m\"\u001b[39;49m\u001b[43m]\u001b[49m\u001b[43m)\u001b[49m\n",
      "File \u001b[0;32m~/Library/Caches/pypoetry/virtualenvs/sleepmate-kok1GflL-py3.11/lib/python3.11/site-packages/langchain/output_parsers/pydantic.py:34\u001b[0m, in \u001b[0;36mPydanticOutputParser.parse\u001b[0;34m(self, text)\u001b[0m\n\u001b[1;32m     32\u001b[0m name \u001b[38;5;241m=\u001b[39m \u001b[38;5;28mself\u001b[39m\u001b[38;5;241m.\u001b[39mpydantic_object\u001b[38;5;241m.\u001b[39m\u001b[38;5;18m__name__\u001b[39m\n\u001b[1;32m     33\u001b[0m msg \u001b[38;5;241m=\u001b[39m \u001b[38;5;124mf\u001b[39m\u001b[38;5;124m\"\u001b[39m\u001b[38;5;124mFailed to parse \u001b[39m\u001b[38;5;132;01m{\u001b[39;00mname\u001b[38;5;132;01m}\u001b[39;00m\u001b[38;5;124m from completion \u001b[39m\u001b[38;5;132;01m{\u001b[39;00mtext\u001b[38;5;132;01m}\u001b[39;00m\u001b[38;5;124m. Got: \u001b[39m\u001b[38;5;132;01m{\u001b[39;00me\u001b[38;5;132;01m}\u001b[39;00m\u001b[38;5;124m\"\u001b[39m\n\u001b[0;32m---> 34\u001b[0m \u001b[38;5;28;01mraise\u001b[39;00m OutputParserException(msg, llm_output\u001b[38;5;241m=\u001b[39mtext)\n",
      "\u001b[0;31mOutputParserException\u001b[0m: Failed to parse SleepDiaryEntry from completion \n\nThe output should be formatted as a JSON instance that conforms to the following schema:\n\n{\"properties\": {\"date\": {\"title\": \"Date\", \"description\": \"date of entry\", \"type\": \"string\"}, \"in_bed\": {\"title\": \"In Bed\", \"description\": \"time you went to bed\", \"type\": \"string\"}, \"tried_to_fall_asleep\": {\"title\": \"Tried To Fall Asleep\", \"description\": \"time you tried to fall asleep\", \"type\": \"string\"}, \"time_to_fall_asleep\": {\"title\": \"Time To Fall Asleep\", \"description\": \"how long it took you to fall asleep\", \"type\": \"integer\"}, \"times_awake\": {\"title\": \"Times Awake\", \"description\": \"how many times you woke up during the night\", \"type\": \"integer\"}, \"time_awake\": {\"title\": \"Time Awake\", \"description\": \"total time you were awake during the night\", \"type\": \"integer\"}, \"final_wake_up\": {\"title\": \"Final Wake Up\", \"description\": \"final wake up time\", \"type\": \"string\"}, \"out_of_bed. Got: Expecting ',' delimiter: line 1 column 776 (char 775)"
     ]
    }
   ],
   "source": [
    "entry = get_sleep_diary_entry(memory); entry"
   ]
  },
  {
   "cell_type": "code",
   "execution_count": 5,
   "id": "66007d9b-778b-47c3-8ebb-a3b5d26f3e31",
   "metadata": {},
   "outputs": [],
   "source": [
    "db_entry = save_sleep_diary_entry(db_user, entry)"
   ]
  },
  {
   "cell_type": "code",
   "execution_count": null,
   "id": "31d02fd6-3171-4398-bc27-a0098a0bdeca",
   "metadata": {},
   "outputs": [],
   "source": []
  },
  {
   "cell_type": "code",
   "execution_count": 6,
   "id": "aaed1e80-da10-4227-a1fe-93df80872c82",
   "metadata": {},
   "outputs": [
    {
     "data": {
      "text/plain": [
       "{'_id': ObjectId('652738d055cc9d6f13c11cf5'),\n",
       " 'user': ObjectId('6526d86e6015be5b3434ac13'),\n",
       " 'date': datetime.datetime(2023, 10, 1, 0, 0),\n",
       " 'in_bed': datetime.datetime(2023, 10, 1, 21, 0),\n",
       " 'tried_to_fall_asleep': datetime.datetime(2023, 10, 1, 23, 0),\n",
       " 'time_to_fall_asleep': 30,\n",
       " 'times_awake': 5,\n",
       " 'time_awake': 50,\n",
       " 'final_wake_up': datetime.datetime(2023, 10, 2, 6, 30),\n",
       " 'out_of_bed': datetime.datetime(2023, 10, 2, 6, 30),\n",
       " 'sleep_quality': 'okay',\n",
       " 'medications': 'melatonin',\n",
       " 'notes': 'Slept in the van 4'}"
      ]
     },
     "execution_count": 6,
     "metadata": {},
     "output_type": "execute_result"
    }
   ],
   "source": [
    "db_entry.to_mongo().to_dict()"
   ]
  },
  {
   "cell_type": "code",
   "execution_count": 21,
   "id": "cfea8f66-fa8d-46aa-812a-cb60757e8872",
   "metadata": {},
   "outputs": [
    {
     "data": {
      "text/plain": [
       "7"
      ]
     },
     "execution_count": 21,
     "metadata": {},
     "output_type": "execute_result"
    }
   ],
   "source": [
    "DBSleepDiaryEntry.objects.delete()"
   ]
  },
  {
   "cell_type": "code",
   "execution_count": 44,
   "id": "3cd29a1e-a7fa-4214-96dc-6ffe6e286e03",
   "metadata": {},
   "outputs": [
    {
     "data": {
      "text/plain": [
       "{'_id': ObjectId('65270f56f2031c8434501e59'),\n",
       " 'user': ObjectId('6526d86e6015be5b3434ac13'),\n",
       " 'date': datetime.datetime(2023, 10, 11, 0, 0),\n",
       " 'in_bed': datetime.datetime(2023, 10, 11, 21, 15),\n",
       " 'tried_to_fall_asleep': datetime.datetime(2023, 10, 11, 21, 15),\n",
       " 'time_to_fall_asleep': 5,\n",
       " 'times_awake': 1,\n",
       " 'time_awake': 5,\n",
       " 'final_wake_up': datetime.datetime(2023, 10, 12, 6, 15),\n",
       " 'out_of_bed': datetime.datetime(2023, 10, 12, 6, 15),\n",
       " 'sleep_quality': 'Good',\n",
       " 'medications': 'Melatonin',\n",
       " 'notes': 'Slept in the van, it was raining'}"
      ]
     },
     "execution_count": 44,
     "metadata": {},
     "output_type": "execute_result"
    }
   ],
   "source": [
    "DBSleepDiaryEntry.objects().order_by('-id').first().to_mongo().to_dict()"
   ]
  },
  {
   "cell_type": "code",
   "execution_count": 18,
   "id": "febf68e7-2c93-4e04-964a-b7482b478585",
   "metadata": {},
   "outputs": [
    {
     "data": {
      "text/plain": [
       "1"
      ]
     },
     "execution_count": 18,
     "metadata": {},
     "output_type": "execute_result"
    }
   ],
   "source": [
    "DBUser.objects.delete()"
   ]
  },
  {
   "cell_type": "code",
   "execution_count": 13,
   "id": "6bd819f6-d6c6-4e69-b0f7-c2ce6cc3b2bb",
   "metadata": {},
   "outputs": [
    {
     "data": {
      "text/plain": [
       "['date', 'in_bed', 'tried_to_fall_asleep', 'final_wake_up', 'out_of_bed']"
      ]
     },
     "execution_count": 13,
     "metadata": {},
     "output_type": "execute_result"
    }
   ],
   "source": [
    "date_fields"
   ]
  },
  {
   "cell_type": "code",
   "execution_count": 8,
   "id": "5b314d0f-cbab-4d76-a894-146c5b5f913c",
   "metadata": {
    "scrolled": true
   },
   "outputs": [],
   "source": [
    "sleep_data = entry.dict()"
   ]
  },
  {
   "cell_type": "code",
   "execution_count": 9,
   "id": "92c9c616-ac12-4d5f-a7de-13f05001a076",
   "metadata": {},
   "outputs": [
    {
     "data": {
      "text/plain": [
       "{'date': datetime.datetime(2023, 10, 1, 0, 0),\n",
       " 'in_bed': datetime.datetime(2023, 10, 1, 21, 0),\n",
       " 'tried_to_fall_asleep': datetime.datetime(2023, 10, 1, 23, 0),\n",
       " 'time_to_fall_asleep': 30,\n",
       " 'times_awake': 5,\n",
       " 'time_awake': 50,\n",
       " 'final_wake_up': datetime.datetime(2023, 10, 1, 6, 30),\n",
       " 'out_of_bed': datetime.datetime(2023, 10, 1, 6, 30),\n",
       " 'sleep_quality': 'okay',\n",
       " 'medications': 'melatonin',\n",
       " 'notes': 'Slept in the van 4'}"
      ]
     },
     "execution_count": 9,
     "metadata": {},
     "output_type": "execute_result"
    }
   ],
   "source": [
    "adjust_to_baseline_date(sleep_data)"
   ]
  },
  {
   "cell_type": "code",
   "execution_count": 14,
   "id": "f58f279e-d8d4-46e6-ada3-603e10156966",
   "metadata": {},
   "outputs": [
    {
     "name": "stdout",
     "output_type": "stream",
     "text": [
      "in_bed\n",
      "tried_to_fall_asleep\n",
      "final_wake_up\n",
      "out_of_bed\n"
     ]
    },
    {
     "data": {
      "text/plain": [
       "{'date': datetime.datetime(2023, 10, 7, 0, 0),\n",
       " 'in_bed': datetime.datetime(2023, 10, 11, 21, 15),\n",
       " 'tried_to_fall_asleep': datetime.datetime(2023, 10, 12, 21, 10),\n",
       " 'final_wake_up': datetime.datetime(2023, 10, 12, 23, 15),\n",
       " 'out_of_bed': datetime.datetime(2023, 10, 13, 6, 15),\n",
       " 'sleep_quality': 'Good',\n",
       " 'medications': 'Melatonin',\n",
       " 'notes': 'Slept in the van, it was raining'}"
      ]
     },
     "execution_count": 14,
     "metadata": {},
     "output_type": "execute_result"
    }
   ],
   "source": [
    "normalized_data = make_monotonic(sleep_data); normalized_data"
   ]
  },
  {
   "cell_type": "code",
   "execution_count": 16,
   "id": "b68bfca6-996a-4d25-b7c9-892d53e01d40",
   "metadata": {},
   "outputs": [],
   "source": [
    "date = date_parser(\"2023-09-01\")"
   ]
  },
  {
   "cell_type": "code",
   "execution_count": 22,
   "id": "b42071aa-c9f2-46d8-ae3c-c87df7325821",
   "metadata": {},
   "outputs": [
    {
     "data": {
      "text/plain": [
       "[<SleepDiaryEntry: SleepDiaryEntry object>]"
      ]
     },
     "execution_count": 22,
     "metadata": {},
     "output_type": "execute_result"
    }
   ],
   "source": [
    "DBSleepDiaryEntry.objects(user=db_user, date=date)"
   ]
  },
  {
   "cell_type": "code",
   "execution_count": 5,
   "id": "e35d19ff-f59f-491f-aa56-3cc19d76e68f",
   "metadata": {},
   "outputs": [
    {
     "data": {
      "text/plain": [
       "[datetime.datetime(2023, 9, 1, 0, 0),\n",
       " datetime.datetime(2023, 9, 2, 0, 0),\n",
       " datetime.datetime(2023, 9, 3, 0, 0),\n",
       " datetime.datetime(2023, 9, 4, 0, 0),\n",
       " datetime.datetime(2023, 9, 5, 0, 0)]"
      ]
     },
     "execution_count": 5,
     "metadata": {},
     "output_type": "execute_result"
    }
   ],
   "source": [
    "[e.date for e in DBSleepDiaryEntry.objects()]"
   ]
  },
  {
   "cell_type": "code",
   "execution_count": 6,
   "id": "1f3a8b33-3d4a-4ec1-b2e6-cd9d81fb9669",
   "metadata": {},
   "outputs": [
    {
     "data": {
      "text/plain": [
       "SON([('_id', ObjectId('652738d055cc9d6f13c11cf5')), ('user', ObjectId('6526d86e6015be5b3434ac13')), ('date', datetime.datetime(2023, 10, 1, 0, 0)), ('in_bed', datetime.datetime(2023, 10, 1, 21, 0)), ('tried_to_fall_asleep', datetime.datetime(2023, 10, 1, 23, 0)), ('time_to_fall_asleep', 30), ('times_awake', 5), ('time_awake', 50), ('final_wake_up', datetime.datetime(2023, 10, 2, 6, 30)), ('out_of_bed', datetime.datetime(2023, 10, 2, 6, 30)), ('sleep_quality', 'okay'), ('medications', 'melatonin'), ('notes', 'Slept in the van 4')])"
      ]
     },
     "execution_count": 6,
     "metadata": {},
     "output_type": "execute_result"
    }
   ],
   "source": [
    "DBSleepDiaryEntry.objects(user=db_user, date=date_parser(\"2023-10-01\")).first().to_mongo()"
   ]
  },
  {
   "cell_type": "code",
   "execution_count": 2,
   "id": "26f15c5e-8168-4468-af82-4b3b77976f87",
   "metadata": {},
   "outputs": [
    {
     "data": {
      "text/plain": [
       "[<ISIEntry: ISIEntry object>]"
      ]
     },
     "execution_count": 2,
     "metadata": {},
     "output_type": "execute_result"
    }
   ],
   "source": [
    "DBISIEntry.objects()"
   ]
  },
  {
   "cell_type": "code",
   "execution_count": null,
   "id": "24dca60c-bc4a-43fc-8799-b5524774823b",
   "metadata": {},
   "outputs": [],
   "source": []
  }
 ],
 "metadata": {
  "kernelspec": {
   "display_name": "Python 3 (ipykernel)",
   "language": "python",
   "name": "python3"
  },
  "language_info": {
   "codemirror_mode": {
    "name": "ipython",
    "version": 3
   },
   "file_extension": ".py",
   "mimetype": "text/x-python",
   "name": "python",
   "nbconvert_exporter": "python",
   "pygments_lexer": "ipython3",
   "version": "3.11.5"
  }
 },
 "nbformat": 4,
 "nbformat_minor": 5
}
