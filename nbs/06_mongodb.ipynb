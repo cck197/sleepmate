{
 "cells": [
  {
   "cell_type": "code",
   "execution_count": 1,
   "id": "52f7209f-07de-4487-ab42-f4e27928793b",
   "metadata": {},
   "outputs": [],
   "source": [
    "from sleepmate.agent import *\n",
    "from sleepmate.user import *\n",
    "from sleepmate.diary import *"
   ]
  },
  {
   "cell_type": "code",
   "execution_count": 3,
   "id": "e592e6b6-a6a1-447e-8c18-318037668c1e",
   "metadata": {},
   "outputs": [],
   "source": [
    "!rm -f /Users/cck197/Downloads/virtual_greg/memory.pkl"
   ]
  },
  {
   "cell_type": "markdown",
   "id": "6a7c3ce5-e909-402e-b9e5-1b7fc7b7e9eb",
   "metadata": {},
   "source": [
    "# Database"
   ]
  },
  {
   "cell_type": "code",
   "execution_count": 2,
   "id": "3e19e007-5b64-4676-bc70-59ef428e55b3",
   "metadata": {},
   "outputs": [],
   "source": [
    "from mongoengine import connect, Document, StringField"
   ]
  },
  {
   "cell_type": "code",
   "execution_count": 3,
   "id": "c8808fb8-732e-43d9-b30d-01e5243d9df0",
   "metadata": {},
   "outputs": [
    {
     "data": {
      "text/plain": [
       "MongoClient(host=['localhost:27017'], document_class=dict, tz_aware=False, connect=True, read_preference=Primary(), uuidrepresentation=3)"
      ]
     },
     "execution_count": 3,
     "metadata": {},
     "output_type": "execute_result"
    }
   ],
   "source": [
    "# Setup and Connection\n",
    "connect(db=\"sleepmate\", host=\"localhost\", port=27017)"
   ]
  },
  {
   "cell_type": "code",
   "execution_count": 4,
   "id": "eefa18dc-c29a-45fd-8d80-7eee5ff24557",
   "metadata": {},
   "outputs": [],
   "source": [
    "db_user = User(name=\"Chris\", email=\"chris@nourishbalancethrive.com\")"
   ]
  },
  {
   "cell_type": "code",
   "execution_count": 5,
   "id": "0f924c59-e0f7-41c5-8cae-a7fc09bb7d83",
   "metadata": {},
   "outputs": [
    {
     "data": {
      "text/plain": [
       "<User: User object>"
      ]
     },
     "execution_count": 5,
     "metadata": {},
     "output_type": "execute_result"
    }
   ],
   "source": [
    "db_user.save()"
   ]
  },
  {
   "cell_type": "code",
   "execution_count": 4,
   "id": "79ce1f46-21cb-4e3b-bc20-de6d99c299f6",
   "metadata": {},
   "outputs": [],
   "source": [
    "# Querying the User Document\n",
    "db_user = DBUser.objects(email=\"chris@nourishbalancethrive.com\").first()"
   ]
  },
  {
   "cell_type": "code",
   "execution_count": 5,
   "id": "af4eaffa-997c-44e9-939c-f29477f6fc93",
   "metadata": {},
   "outputs": [
    {
     "data": {
      "text/plain": [
       "'{\"_id\": {\"$oid\": \"6526d86e6015be5b3434ac13\"}, \"name\": \"Chris\", \"email\": \"chris@nourishbalancethrive.com\"}'"
      ]
     },
     "execution_count": 5,
     "metadata": {},
     "output_type": "execute_result"
    }
   ],
   "source": [
    "db_user.to_json()"
   ]
  },
  {
   "cell_type": "markdown",
   "id": "9fec286b-e7b7-47e6-b714-3594e39da71b",
   "metadata": {
    "jp-MarkdownHeadingCollapsed": true
   },
   "source": [
    "# Meet and Greet"
   ]
  },
  {
   "cell_type": "code",
   "execution_count": 3,
   "id": "4349b0f8-2108-4266-b1c6-2da1fcd9ee34",
   "metadata": {},
   "outputs": [
    {
     "name": "stdout",
     "output_type": "stream",
     "text": [
      "load_memory filename='/Users/cck197/Downloads/virtual_greg/memory.pkl'\n"
     ]
    }
   ],
   "source": [
    "memory = X.load_memory()"
   ]
  },
  {
   "cell_type": "code",
   "execution_count": 9,
   "id": "d8884e82-c3e7-41db-a481-76c57d3b6493",
   "metadata": {},
   "outputs": [],
   "source": [
    "memory.save_context({\"input\": f\"my name is {user.name}\"}, {\"output\": f\"hi {user.name}\"})"
   ]
  },
  {
   "cell_type": "code",
   "execution_count": 5,
   "id": "8781cdb4-2995-4e6d-955e-aa78176c51eb",
   "metadata": {},
   "outputs": [],
   "source": [
    "memory.save_context({\"input\": f\"my email is {user.email}\"}, {\"output\": f\"got it\"})"
   ]
  },
  {
   "cell_type": "code",
   "execution_count": 37,
   "id": "d28b79b7-99aa-4bd2-93f2-619bf6f53779",
   "metadata": {},
   "outputs": [
    {
     "data": {
      "text/plain": [
       "{'chat_history': [HumanMessage(content='my name is Chris'),\n",
       "  AIMessage(content='hi Chris'),\n",
       "  HumanMessage(content='hey'),\n",
       "  AIMessage(content='Hi Chris! How can I assist you today?'),\n",
       "  HumanMessage(content='Tell me a joke.'),\n",
       "  AIMessage(content='\\n{\"setup\": \"Why did the chicken cross the road?\", \"punchline\": \"To get to the other side!\"}'),\n",
       "  HumanMessage(content=\"what's my name?\"),\n",
       "  AIMessage(content='\\n{\"setup\": \"What\\'s my name?\", \"punchline\": \"\"}'),\n",
       "  HumanMessage(content=\"what's my name?\"),\n",
       "  AIMessage(content='\\n{\"setup\": \"What\\'s my name?\", \"punchline\": \"\"}'),\n",
       "  HumanMessage(content=\"what's my name?\"),\n",
       "  AIMessage(content='\\n{\"name\": \"Your Name\"}'),\n",
       "  HumanMessage(content=\"what's the human's name?\"),\n",
       "  AIMessage(content='\\n{\"name\": \"John\"}'),\n",
       "  HumanMessage(content=\"what's the human's name?\"),\n",
       "  AIMessage(content='\\n\\n{\"name\": \"Chris\"}'),\n",
       "  HumanMessage(content='my email is chris@nourishbalancethrive.com'),\n",
       "  AIMessage(content='got it')]}"
      ]
     },
     "execution_count": 37,
     "metadata": {},
     "output_type": "execute_result"
    }
   ],
   "source": [
    "memory.load_memory_variables({})"
   ]
  },
  {
   "cell_type": "code",
   "execution_count": 59,
   "id": "9f15c6f2-b425-4ba5-a043-f6dcc2f284ba",
   "metadata": {},
   "outputs": [
    {
     "name": "stdout",
     "output_type": "stream",
     "text": [
      "get_agent len(tools)=10\n"
     ]
    },
    {
     "data": {
      "text/markdown": [
       "Hello, Chris! How are you feeling today?"
      ],
      "text/plain": [
       "<IPython.core.display.Markdown object>"
      ]
     },
     "metadata": {},
     "output_type": "display_data"
    }
   ],
   "source": [
    "x = X(goals[\"diary_probe\"], memory=memory);"
   ]
  },
  {
   "cell_type": "markdown",
   "id": "3e3e5381-600d-4a59-8f65-7997ed097ce8",
   "metadata": {
    "jp-MarkdownHeadingCollapsed": true
   },
   "source": [
    "# Parsing"
   ]
  },
  {
   "cell_type": "code",
   "execution_count": 5,
   "id": "700ac42e-c522-4a0a-8420-3fb513adc9a7",
   "metadata": {},
   "outputs": [],
   "source": [
    "from typing import List\n",
    "\n",
    "from langchain.llms import OpenAI\n",
    "from langchain.output_parsers import PydanticOutputParser\n",
    "from langchain.prompts import PromptTemplate\n",
    "from langchain.pydantic_v1 import BaseModel, Field, validator"
   ]
  },
  {
   "cell_type": "code",
   "execution_count": 6,
   "id": "895bbb4e-0bc6-480b-ac3b-5b713145c1fc",
   "metadata": {},
   "outputs": [],
   "source": [
    "model_name = \"text-davinci-003\"\n",
    "temperature = 0.0\n",
    "model = OpenAI(model_name=model_name, temperature=temperature)"
   ]
  },
  {
   "cell_type": "code",
   "execution_count": 7,
   "id": "b4b8bdbf-7a95-46f9-a834-93feb494b3cb",
   "metadata": {},
   "outputs": [
    {
     "data": {
      "text/plain": [
       "Joke(setup='Why did the chicken cross the road?', punchline='To get to the other side!')"
      ]
     },
     "execution_count": 7,
     "metadata": {},
     "output_type": "execute_result"
    }
   ],
   "source": [
    "# Define your desired data structure.\n",
    "class Joke(BaseModel):\n",
    "    setup: str = Field(description=\"question to set up a joke\")\n",
    "    punchline: str = Field(description=\"answer to resolve the joke\")\n",
    "\n",
    "    # You can add custom validation logic easily with Pydantic.\n",
    "    @validator(\"setup\")\n",
    "    def question_ends_with_question_mark(cls, field):\n",
    "        if field[-1] != \"?\":\n",
    "            raise ValueError(\"Badly formed question!\")\n",
    "        return field\n",
    "\n",
    "\n",
    "# And a query intented to prompt a language model to populate the data structure.\n",
    "joke_query = \"Tell me a joke.\"\n",
    "\n",
    "# Set up a parser + inject instructions into the prompt template.\n",
    "parser = PydanticOutputParser(pydantic_object=Joke)\n",
    "\n",
    "prompt = PromptTemplate(\n",
    "    template=\"Answer the user query.\\n{format_instructions}\\n{query}\\n\",\n",
    "    input_variables=[\"query\"],\n",
    "    partial_variables={\"format_instructions\": parser.get_format_instructions()},\n",
    ")\n",
    "\n",
    "_input = prompt.format_prompt(query=joke_query)\n",
    "\n",
    "output = model(_input.to_string())\n",
    "\n",
    "parser.parse(output)"
   ]
  },
  {
   "cell_type": "code",
   "execution_count": 18,
   "id": "c8f754da-dbce-4660-80cd-722f0b127161",
   "metadata": {},
   "outputs": [
    {
     "data": {
      "text/plain": [
       "'Answer the user query.\\nThe output should be formatted as a JSON instance that conforms to the JSON schema below.\\n\\nAs an example, for the schema {\"properties\": {\"foo\": {\"title\": \"Foo\", \"description\": \"a list of strings\", \"type\": \"array\", \"items\": {\"type\": \"string\"}}}, \"required\": [\"foo\"]}\\nthe object {\"foo\": [\"bar\", \"baz\"]} is a well-formatted instance of the schema. The object {\"properties\": {\"foo\": [\"bar\", \"baz\"]}} is not well-formatted.\\n\\nHere is the output schema:\\n```\\n{\"properties\": {\"setup\": {\"title\": \"Setup\", \"description\": \"question to set up a joke\", \"type\": \"string\"}, \"punchline\": {\"title\": \"Punchline\", \"description\": \"answer to resolve the joke\", \"type\": \"string\"}}, \"required\": [\"setup\", \"punchline\"]}\\n```\\nTell me a joke.\\n'"
      ]
     },
     "execution_count": 18,
     "metadata": {},
     "output_type": "execute_result"
    }
   ],
   "source": [
    "_input.to_string()"
   ]
  },
  {
   "cell_type": "markdown",
   "id": "d2a8df0b-3539-45d0-93ee-80336c9a5a36",
   "metadata": {
    "jp-MarkdownHeadingCollapsed": true
   },
   "source": [
    "# Using"
   ]
  },
  {
   "cell_type": "code",
   "execution_count": 38,
   "id": "8c54ad54-4914-4ed4-9be2-fcaa8664426b",
   "metadata": {},
   "outputs": [],
   "source": [
    "# Define your desired data structure.\n",
    "class UserParser(BaseModel):\n",
    "    name: str = Field(description=\"name\")\n",
    "    email: str = Field(description=\"email address\")"
   ]
  },
  {
   "cell_type": "code",
   "execution_count": 39,
   "id": "0ecd7ba7-ecf1-4415-87d9-90a7999257a1",
   "metadata": {},
   "outputs": [],
   "source": [
    "# Set up a parser + inject instructions into the prompt template.\n",
    "parser = PydanticOutputParser(pydantic_object=UserParser)\n",
    "\n",
    "prompt = PromptTemplate(\n",
    "    template=\"Answer the user query.\\n{format_instructions}\\n{query}\\nPrevious conversation:{chat_history}\",\n",
    "    input_variables=[\"query\", \"chat_history\"],\n",
    "    partial_variables={\"format_instructions\": parser.get_format_instructions()},\n",
    ")"
   ]
  },
  {
   "cell_type": "code",
   "execution_count": 40,
   "id": "b8332376-f142-4450-b864-59432f15e054",
   "metadata": {},
   "outputs": [],
   "source": [
    "from langchain.llms import OpenAI\n",
    "from langchain.prompts import PromptTemplate\n",
    "from langchain.chains import LLMChain\n",
    "from langchain.memory import ConversationBufferMemory"
   ]
  },
  {
   "cell_type": "code",
   "execution_count": 41,
   "id": "9eda10ed-936c-44be-aacb-5e462ce02041",
   "metadata": {},
   "outputs": [],
   "source": [
    "chain = LLMChain(\n",
    "    llm=model,\n",
    "    prompt=prompt,\n",
    "    verbose=True,\n",
    "    memory=memory\n",
    ")"
   ]
  },
  {
   "cell_type": "code",
   "execution_count": 55,
   "id": "8427aff3-82c9-4687-b7f7-e8d9a57c78a6",
   "metadata": {},
   "outputs": [],
   "source": [
    "user_query = \"what are the human's details\""
   ]
  },
  {
   "cell_type": "code",
   "execution_count": 56,
   "id": "34e5a109-0278-43c6-aee4-4b2ced573ef5",
   "metadata": {
    "scrolled": true
   },
   "outputs": [
    {
     "name": "stdout",
     "output_type": "stream",
     "text": [
      "\n",
      "\n",
      "\u001b[1m> Entering new LLMChain chain...\u001b[0m\n",
      "Prompt after formatting:\n",
      "\u001b[32;1m\u001b[1;3mAnswer the user query.\n",
      "The output should be formatted as a JSON instance that conforms to the JSON schema below.\n",
      "\n",
      "As an example, for the schema {\"properties\": {\"foo\": {\"title\": \"Foo\", \"description\": \"a list of strings\", \"type\": \"array\", \"items\": {\"type\": \"string\"}}}, \"required\": [\"foo\"]}\n",
      "the object {\"foo\": [\"bar\", \"baz\"]} is a well-formatted instance of the schema. The object {\"properties\": {\"foo\": [\"bar\", \"baz\"]}} is not well-formatted.\n",
      "\n",
      "Here is the output schema:\n",
      "```\n",
      "{\"properties\": {\"name\": {\"title\": \"Name\", \"description\": \"name\", \"type\": \"string\"}, \"email\": {\"title\": \"Email\", \"description\": \"email address\", \"type\": \"string\"}}, \"required\": [\"name\", \"email\"]}\n",
      "```\n",
      "what are the human's details\n",
      "Previous conversation:[HumanMessage(content='my name is Chris'), AIMessage(content='hi Chris'), HumanMessage(content='hey'), AIMessage(content='Hi Chris! How can I assist you today?'), HumanMessage(content='Tell me a joke.'), AIMessage(content='\\n{\"setup\": \"Why did the chicken cross the road?\", \"punchline\": \"To get to the other side!\"}'), HumanMessage(content=\"what's my name?\"), AIMessage(content='\\n{\"setup\": \"What\\'s my name?\", \"punchline\": \"\"}'), HumanMessage(content=\"what's my name?\"), AIMessage(content='\\n{\"setup\": \"What\\'s my name?\", \"punchline\": \"\"}'), HumanMessage(content=\"what's my name?\"), AIMessage(content='\\n{\"name\": \"Your Name\"}'), HumanMessage(content=\"what's the human's name?\"), AIMessage(content='\\n{\"name\": \"John\"}'), HumanMessage(content=\"what's the human's name?\"), AIMessage(content='\\n\\n{\"name\": \"Chris\"}'), HumanMessage(content='my email is chris@nourishbalancethrive.com'), AIMessage(content='got it'), HumanMessage(content=\"what are the human's name and email?\"), AIMessage(content='\\n\\n{\"name\": \"Chris\", \"email\": \"chris@nourishbalancethrive.com\"}')]\u001b[0m\n",
      "\n",
      "\u001b[1m> Finished chain.\u001b[0m\n"
     ]
    },
    {
     "data": {
      "text/plain": [
       "{'query': \"what are the human's details\",\n",
       " 'chat_history': [HumanMessage(content='my name is Chris'),\n",
       "  AIMessage(content='hi Chris'),\n",
       "  HumanMessage(content='hey'),\n",
       "  AIMessage(content='Hi Chris! How can I assist you today?'),\n",
       "  HumanMessage(content='Tell me a joke.'),\n",
       "  AIMessage(content='\\n{\"setup\": \"Why did the chicken cross the road?\", \"punchline\": \"To get to the other side!\"}'),\n",
       "  HumanMessage(content=\"what's my name?\"),\n",
       "  AIMessage(content='\\n{\"setup\": \"What\\'s my name?\", \"punchline\": \"\"}'),\n",
       "  HumanMessage(content=\"what's my name?\"),\n",
       "  AIMessage(content='\\n{\"setup\": \"What\\'s my name?\", \"punchline\": \"\"}'),\n",
       "  HumanMessage(content=\"what's my name?\"),\n",
       "  AIMessage(content='\\n{\"name\": \"Your Name\"}'),\n",
       "  HumanMessage(content=\"what's the human's name?\"),\n",
       "  AIMessage(content='\\n{\"name\": \"John\"}'),\n",
       "  HumanMessage(content=\"what's the human's name?\"),\n",
       "  AIMessage(content='\\n\\n{\"name\": \"Chris\"}'),\n",
       "  HumanMessage(content='my email is chris@nourishbalancethrive.com'),\n",
       "  AIMessage(content='got it'),\n",
       "  HumanMessage(content=\"what are the human's name and email?\"),\n",
       "  AIMessage(content='\\n\\n{\"name\": \"Chris\", \"email\": \"chris@nourishbalancethrive.com\"}')],\n",
       " 'text': '\\n\\nOutput: {\"name\": \"Chris\", \"email\": \"chris@nourishbalancethrive.com\"}'}"
      ]
     },
     "execution_count": 56,
     "metadata": {},
     "output_type": "execute_result"
    }
   ],
   "source": [
    "output = chain({\"query\": user_query}); output"
   ]
  },
  {
   "cell_type": "code",
   "execution_count": 57,
   "id": "0bdb20d4-6aed-4094-9cf8-d2bc8cbfe522",
   "metadata": {},
   "outputs": [
    {
     "data": {
      "text/plain": [
       "UserParser(name='Chris', email='chris@nourishbalancethrive.com')"
      ]
     },
     "execution_count": 57,
     "metadata": {},
     "output_type": "execute_result"
    }
   ],
   "source": [
    "parser.parse(output[\"text\"])"
   ]
  },
  {
   "cell_type": "code",
   "execution_count": 46,
   "id": "de067672-23fc-40ce-9763-92abfaadcfaf",
   "metadata": {},
   "outputs": [
    {
     "name": "stdout",
     "output_type": "stream",
     "text": [
      "\n",
      "\n",
      "\u001b[1m> Entering new LLMChain chain...\u001b[0m\n",
      "Prompt after formatting:\n",
      "\u001b[32;1m\u001b[1;3mAnswer the user query.\n",
      "The output should be formatted as a JSON instance that conforms to the JSON schema below.\n",
      "\n",
      "As an example, for the schema {\"properties\": {\"foo\": {\"title\": \"Foo\", \"description\": \"a list of strings\", \"type\": \"array\", \"items\": {\"type\": \"string\"}}}, \"required\": [\"foo\"]}\n",
      "the object {\"foo\": [\"bar\", \"baz\"]} is a well-formatted instance of the schema. The object {\"properties\": {\"foo\": [\"bar\", \"baz\"]}} is not well-formatted.\n",
      "\n",
      "Here is the output schema:\n",
      "```\n",
      "{\"properties\": {\"name\": {\"title\": \"Name\", \"description\": \"name\", \"type\": \"string\"}, \"email\": {\"title\": \"Email\", \"description\": \"email address\", \"type\": \"string\"}}, \"required\": [\"name\", \"email\"]}\n",
      "```\n",
      "what are the human's name and email?\n",
      "Previous conversation:[HumanMessage(content='my name is Chris'), AIMessage(content='hi Chris'), HumanMessage(content='hey'), AIMessage(content='Hi Chris! How can I assist you today?'), HumanMessage(content='Tell me a joke.'), AIMessage(content='\\n{\"setup\": \"Why did the chicken cross the road?\", \"punchline\": \"To get to the other side!\"}'), HumanMessage(content=\"what's my name?\"), AIMessage(content='\\n{\"setup\": \"What\\'s my name?\", \"punchline\": \"\"}'), HumanMessage(content=\"what's my name?\"), AIMessage(content='\\n{\"setup\": \"What\\'s my name?\", \"punchline\": \"\"}'), HumanMessage(content=\"what's my name?\"), AIMessage(content='\\n{\"name\": \"Your Name\"}'), HumanMessage(content=\"what's the human's name?\"), AIMessage(content='\\n{\"name\": \"John\"}'), HumanMessage(content=\"what's the human's name?\"), AIMessage(content='\\n\\n{\"name\": \"Chris\"}'), HumanMessage(content='my email is chris@nourishbalancethrive.com'), AIMessage(content='got it'), HumanMessage(content=\"what are the human's name and email?\"), AIMessage(content='\\n\\n{\"name\": \"Chris\", \"email\": \"chris@nourishbalancethrive.com\"}')]\u001b[0m\n",
      "\n",
      "\u001b[1m> Finished chain.\u001b[0m\n"
     ]
    },
    {
     "data": {
      "text/plain": [
       "UserParser(name='Chris', email='chris@nourishbalancethrive.com')"
      ]
     },
     "execution_count": 46,
     "metadata": {},
     "output_type": "execute_result"
    }
   ],
   "source": [
    "get_parsed_output(user_query, memory, UserParser)"
   ]
  },
  {
   "cell_type": "code",
   "execution_count": 47,
   "id": "3e1428ee-3405-44c6-aaae-fd68ffe96220",
   "metadata": {},
   "outputs": [],
   "source": [
    "up = _"
   ]
  },
  {
   "cell_type": "code",
   "execution_count": 49,
   "id": "235a698b-f542-4681-bbe2-424d5b00f89a",
   "metadata": {},
   "outputs": [
    {
     "data": {
      "text/plain": [
       "{'name': 'Chris', 'email': 'chris@nourishbalancethrive.com'}"
      ]
     },
     "execution_count": 49,
     "metadata": {},
     "output_type": "execute_result"
    }
   ],
   "source": [
    "up.dict()"
   ]
  },
  {
   "cell_type": "code",
   "execution_count": 50,
   "id": "9181157f-7e9a-4347-8868-bf32ad6eca51",
   "metadata": {},
   "outputs": [],
   "source": [
    "def pydantic_to_mongoengine(pydantic_model):\n",
    "    fields = {}\n",
    "    for name, field in pydantic_model.__fields__.items():\n",
    "        # This is a basic example and only handles str type; you would expand this for other types.\n",
    "        if field.outer_type_ == str:\n",
    "            fields[name] = StringField(required=field.required)\n",
    "        # Add other field type conversions as needed\n",
    "    return type(pydantic_model.__name__, (Document,), fields)\n"
   ]
  },
  {
   "cell_type": "code",
   "execution_count": 52,
   "id": "e63f6577-ce5d-4e2e-a9ec-030d8b28536c",
   "metadata": {},
   "outputs": [],
   "source": [
    "User = pydantic_to_mongoengine(UserParser)"
   ]
  },
  {
   "cell_type": "code",
   "execution_count": 54,
   "id": "71c4234b-338a-49e2-b77f-816f09d8e77d",
   "metadata": {},
   "outputs": [
    {
     "data": {
      "text/plain": [
       "mappingproxy({'name': <mongoengine.fields.StringField at 0x146da2190>,\n",
       "              'email': <mongoengine.fields.StringField at 0x1477e3650>,\n",
       "              '_meta': {'abstract': False,\n",
       "               'max_documents': None,\n",
       "               'max_size': None,\n",
       "               'ordering': [],\n",
       "               'indexes': [],\n",
       "               'id_field': 'id',\n",
       "               'index_background': False,\n",
       "               'index_opts': None,\n",
       "               'delete_rules': None,\n",
       "               'allow_inheritance': None,\n",
       "               'collection': 'user_parser',\n",
       "               'index_specs': []},\n",
       "              '_is_base_cls': False,\n",
       "              '_is_document': True,\n",
       "              '_cached_reference_fields': [],\n",
       "              '_fields': {'name': <mongoengine.fields.StringField at 0x146da2190>,\n",
       "               'email': <mongoengine.fields.StringField at 0x1477e3650>,\n",
       "               'id': <mongoengine.base.fields.ObjectIdField at 0x147674a10>},\n",
       "              '_db_field_map': {'name': 'name', 'email': 'email', 'id': '_id'},\n",
       "              '_reverse_db_field_map': {'name': 'name',\n",
       "               'email': 'email',\n",
       "               '_id': 'id'},\n",
       "              '_fields_ordered': ('id', 'name', 'email'),\n",
       "              '_class_name': 'UserParser',\n",
       "              '_superclasses': (),\n",
       "              '_subclasses': ('UserParser',),\n",
       "              '_types': ('UserParser',),\n",
       "              '__module__': 'mongoengine.base.metaclasses',\n",
       "              '__dict__': <attribute '__dict__' of 'UserParser' objects>,\n",
       "              '__doc__': None,\n",
       "              '_collection': None,\n",
       "              'objects': <mongoengine.queryset.manager.QuerySetManager at 0x1477e10d0>,\n",
       "              'id': <mongoengine.base.fields.ObjectIdField at 0x147674a10>,\n",
       "              'DoesNotExist': DoesNotExist,\n",
       "              'MultipleObjectsReturned': MultipleObjectsReturned})"
      ]
     },
     "execution_count": 54,
     "metadata": {},
     "output_type": "execute_result"
    }
   ],
   "source": [
    "User.__dict__"
   ]
  },
  {
   "cell_type": "markdown",
   "id": "41602b2e-fa1c-44f7-89cb-79906eeac679",
   "metadata": {},
   "source": [
    "# New"
   ]
  },
  {
   "cell_type": "code",
   "execution_count": 2,
   "id": "afe7b892-92a8-4059-8808-ac5b1ddc3820",
   "metadata": {},
   "outputs": [
    {
     "name": "stdout",
     "output_type": "stream",
     "text": [
      "load_memory filename='/Users/cck197/Downloads/virtual_greg/memory.pkl'\n"
     ]
    }
   ],
   "source": [
    "memory = X.load_memory()"
   ]
  },
  {
   "cell_type": "code",
   "execution_count": 3,
   "id": "40e58eca-5b92-4c72-8d22-ec5b8c937025",
   "metadata": {
    "scrolled": true
   },
   "outputs": [
    {
     "data": {
      "text/plain": [
       "User(name='Chris', email='chris@nourishbalancethrive.com')"
      ]
     },
     "execution_count": 3,
     "metadata": {},
     "output_type": "execute_result"
    }
   ],
   "source": [
    "user = get_user(memory); user"
   ]
  },
  {
   "cell_type": "code",
   "execution_count": 6,
   "id": "48da9329-e200-4fb5-8396-95538d8fbd54",
   "metadata": {},
   "outputs": [
    {
     "name": "stdout",
     "output_type": "stream",
     "text": [
      "Automatic pdb calling has been turned ON\n"
     ]
    }
   ],
   "source": [
    "%pdb"
   ]
  },
  {
   "cell_type": "code",
   "execution_count": 3,
   "id": "3d27e3ae-766f-47f2-bdb8-ef7717eedd1a",
   "metadata": {
    "scrolled": true
   },
   "outputs": [
    {
     "data": {
      "text/plain": [
       "SleepDiaryEntry(quality='very good', in_bed=datetime.datetime(2023, 10, 11, 21, 15), tried_to_fall_asleep='21:15', time_to_fall_asleep='5 mins', times_woke_up='once', time_awake='5 mins', final_wake_up='6:30', out_of_bed='got up right away', medications='melatonin', notes='slept in the van and it was raining')"
      ]
     },
     "execution_count": 3,
     "metadata": {},
     "output_type": "execute_result"
    }
   ],
   "source": [
    "entry = get_sleep_diary_entry(memory); entry"
   ]
  },
  {
   "cell_type": "code",
   "execution_count": 5,
   "id": "948582f3-6fe5-48eb-a678-2894244dd6c8",
   "metadata": {},
   "outputs": [],
   "source": [
    "db_entry = DBSleepDiaryEntry(**{\"user\": db_user, **entry.dict()})"
   ]
  },
  {
   "cell_type": "code",
   "execution_count": 6,
   "id": "531403f6-5311-40f6-b481-087ad13d03bd",
   "metadata": {},
   "outputs": [
    {
     "data": {
      "text/plain": [
       "'{\"user\": {\"$oid\": \"6526d86e6015be5b3434ac13\"}, \"quality\": \"very good\", \"in_bed\": {\"$date\": 1697058900000}, \"tried_to_fall_asleep\": \"21:15\", \"time_to_fall_asleep\": \"5 mins\", \"times_woke_up\": \"once\", \"time_awake\": \"5 mins\", \"final_wake_up\": \"6:30\", \"out_of_bed\": \"got up right away\", \"medications\": \"melatonin\", \"notes\": \"slept in the van and it was raining\"}'"
      ]
     },
     "execution_count": 6,
     "metadata": {},
     "output_type": "execute_result"
    }
   ],
   "source": [
    "db_entry.to_json()"
   ]
  },
  {
   "cell_type": "code",
   "execution_count": 8,
   "id": "97c80eed-ab6f-4390-b471-9cb53e2c3ea2",
   "metadata": {},
   "outputs": [
    {
     "data": {
      "text/plain": [
       "<SleepDiaryEntry: SleepDiaryEntry object>"
      ]
     },
     "execution_count": 8,
     "metadata": {},
     "output_type": "execute_result"
    }
   ],
   "source": [
    "db_entry.save()"
   ]
  },
  {
   "cell_type": "code",
   "execution_count": 12,
   "id": "19744437-f0cc-43c5-9b45-f9f3ebf33bab",
   "metadata": {},
   "outputs": [
    {
     "data": {
      "text/plain": [
       "{'_id': ObjectId('6526f58b148ed69172f6a51a'),\n",
       " 'user': ObjectId('6526d86e6015be5b3434ac13'),\n",
       " 'quality': 'very good',\n",
       " 'in_bed': datetime.datetime(2023, 10, 11, 21, 15),\n",
       " 'tried_to_fall_asleep': '21:15',\n",
       " 'time_to_fall_asleep': '5 mins',\n",
       " 'times_woke_up': 'once',\n",
       " 'time_awake': '5 mins',\n",
       " 'final_wake_up': '6:30',\n",
       " 'out_of_bed': 'got up right away',\n",
       " 'medications': 'melatonin',\n",
       " 'notes': 'slept in the van and it was raining'}"
      ]
     },
     "execution_count": 12,
     "metadata": {},
     "output_type": "execute_result"
    }
   ],
   "source": [
    "d = db_entry.to_mongo().to_dict(); d"
   ]
  },
  {
   "cell_type": "code",
   "execution_count": 13,
   "id": "d47991cb-7dd6-4e5a-8dca-5712ee9bee53",
   "metadata": {},
   "outputs": [],
   "source": [
    "for k in (\"_id\", \"user\"):\n",
    "    d.pop(k, None)"
   ]
  },
  {
   "cell_type": "code",
   "execution_count": 15,
   "id": "5ae5412f-0f07-405b-8cdf-7acf384b9e51",
   "metadata": {},
   "outputs": [],
   "source": [
    "import json"
   ]
  },
  {
   "cell_type": "code",
   "execution_count": 37,
   "id": "8ec75504-7437-4705-8192-a9e8e35725a3",
   "metadata": {},
   "outputs": [
    {
     "data": {
      "text/plain": [
       "'{\"quality\": \"very good\", \"in_bed\": \"2023-10-11T21:15:00\", \"tried_to_fall_asleep\": \"21:15\", \"time_to_fall_asleep\": \"5 mins\", \"times_woke_up\": \"once\", \"time_awake\": \"5 mins\", \"final_wake_up\": \"6:30\", \"out_of_bed\": \"got up right away\", \"medications\": \"melatonin\", \"notes\": \"slept in the van and it was raining\"}'"
      ]
     },
     "execution_count": 37,
     "metadata": {},
     "output_type": "execute_result"
    }
   ],
   "source": [
    "json_output = json.dumps(d, default=lambda o: o.isoformat() if isinstance(o, datetime) else o); json_output"
   ]
  },
  {
   "cell_type": "code",
   "execution_count": 9,
   "id": "ea819606-4d89-46e1-a711-be4e2d23ab30",
   "metadata": {},
   "outputs": [],
   "source": [
    "json_output = '{\"quality\": \"very good\", \"in_bed\": \"2023-10-11T21:15:00\", \"tried_to_fall_asleep\": \"21:15\", \"time_to_fall_asleep\": \"5 mins\", \"times_woke_up\": \"once\", \"time_awake\": \"5 mins\", \"final_wake_up\": \"6:30\", \"out_of_bed\": \"got up right away\", \"medications\": \"melatonin\", \"notes\": \"slept in the van and it was raining\"}'"
   ]
  },
  {
   "cell_type": "code",
   "execution_count": 2,
   "id": "f4d0f765-a53d-40ab-8efa-d8fc11e3b3c6",
   "metadata": {},
   "outputs": [],
   "source": [
    "from langchain.chat_models import ChatOpenAI\n",
    "from langchain.chains import LLMChain\n",
    "from langchain.prompts.chat import SystemMessage, HumanMessagePromptTemplate"
   ]
  },
  {
   "cell_type": "code",
   "execution_count": 6,
   "id": "84fe99ad-cd85-4e7a-a103-636795215f4b",
   "metadata": {},
   "outputs": [
    {
     "data": {
      "text/plain": [
       "'\\n        Your goal is to summarise the JSON object to display a sleep diary entry\\n        for a given date. Convert ISO 8601 strings to a human readable format.\\n        \\nInclude sleep efficiency as a percentage. Sleep efficiency is the percentage of\\ntime spent asleep while in bed.\\n\\nTo give the human a rough sense of how their sleep efficiency compares, tell\\nthem anything over 85%% is considered normal.\\n\\n        '"
      ]
     },
     "execution_count": 6,
     "metadata": {},
     "output_type": "execute_result"
    }
   ],
   "source": [
    "goals[\"diary_entry_retrieval\"]"
   ]
  },
  {
   "cell_type": "code",
   "execution_count": 7,
   "id": "539eca19-f04a-40a4-84c1-4953a61f3bbe",
   "metadata": {},
   "outputs": [],
   "source": [
    "prompt = ChatPromptTemplate.from_messages(\n",
    "    [\n",
    "        SystemMessage(\n",
    "            content=goals[\"diary_entry_retrieval\"]\n",
    "        ),\n",
    "        HumanMessagePromptTemplate.from_template(\"{json}\"),\n",
    "    ]\n",
    ")"
   ]
  },
  {
   "cell_type": "code",
   "execution_count": 10,
   "id": "419a12f7-6fcf-4374-a357-564d289a2ba7",
   "metadata": {},
   "outputs": [],
   "source": [
    "llm = ChatOpenAI(model_name=model_name)\n",
    "chain = LLMChain(llm=llm, prompt=prompt)\n",
    "#output = chain({\"query\": query})\n",
    "output = llm(prompt.format_messages(json=json_output))"
   ]
  },
  {
   "cell_type": "code",
   "execution_count": 11,
   "id": "6c7b56ba-ae9b-4162-b280-296c542ae1e3",
   "metadata": {},
   "outputs": [
    {
     "data": {
      "text/markdown": [
       "Sleep Diary Entry for 11th October 2023:\n",
       "\n",
       "Quality of Sleep: Very Good\n",
       "\n",
       "You were in bed by 21:15 and tried to fall asleep immediately. It took you 5 minutes to fall asleep. You woke up once during the night and were awake for 5 minutes. You woke up for the final time at 6:30 and got up right away.\n",
       "\n",
       "You took melatonin as your medication for the night. \n",
       "\n",
       "Notes: You slept in the van and it was raining.\n",
       "\n",
       "Your sleep efficiency for the night was not provided, but remember, anything over 85% is considered normal."
      ],
      "text/plain": [
       "<IPython.core.display.Markdown object>"
      ]
     },
     "metadata": {},
     "output_type": "display_data"
    }
   ],
   "source": [
    "display_markdown(output.content)"
   ]
  },
  {
   "cell_type": "code",
   "execution_count": 7,
   "id": "cfea8f66-fa8d-46aa-812a-cb60757e8872",
   "metadata": {},
   "outputs": [
    {
     "data": {
      "text/plain": [
       "0"
      ]
     },
     "execution_count": 7,
     "metadata": {},
     "output_type": "execute_result"
    }
   ],
   "source": [
    "DBSleepDiaryEntry.objects.delete()"
   ]
  },
  {
   "cell_type": "code",
   "execution_count": 18,
   "id": "febf68e7-2c93-4e04-964a-b7482b478585",
   "metadata": {},
   "outputs": [
    {
     "data": {
      "text/plain": [
       "1"
      ]
     },
     "execution_count": 18,
     "metadata": {},
     "output_type": "execute_result"
    }
   ],
   "source": [
    "DBUser.objects.delete()"
   ]
  },
  {
   "cell_type": "code",
   "execution_count": null,
   "id": "e5669289-a22b-4e70-946d-fe0c74127362",
   "metadata": {},
   "outputs": [],
   "source": []
  }
 ],
 "metadata": {
  "kernelspec": {
   "display_name": "Python 3 (ipykernel)",
   "language": "python",
   "name": "python3"
  },
  "language_info": {
   "codemirror_mode": {
    "name": "ipython",
    "version": 3
   },
   "file_extension": ".py",
   "mimetype": "text/x-python",
   "name": "python",
   "nbconvert_exporter": "python",
   "pygments_lexer": "ipython3",
   "version": "3.11.5"
  }
 },
 "nbformat": 4,
 "nbformat_minor": 5
}
