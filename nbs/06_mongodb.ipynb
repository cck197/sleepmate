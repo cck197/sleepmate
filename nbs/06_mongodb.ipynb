{
 "cells": [
  {
   "cell_type": "code",
   "execution_count": 1,
   "id": "52f7209f-07de-4487-ab42-f4e27928793b",
   "metadata": {},
   "outputs": [],
   "source": [
    "from sleepmate.agent import *\n",
    "from sleepmate.user import *\n",
    "from sleepmate.diary import *"
   ]
  },
  {
   "cell_type": "code",
   "execution_count": 35,
   "id": "e592e6b6-a6a1-447e-8c18-318037668c1e",
   "metadata": {},
   "outputs": [],
   "source": [
    "!rm -f /Users/cck197/Downloads/virtual_greg/memory.pkl"
   ]
  },
  {
   "cell_type": "markdown",
   "id": "6a7c3ce5-e909-402e-b9e5-1b7fc7b7e9eb",
   "metadata": {},
   "source": [
    "# Database"
   ]
  },
  {
   "cell_type": "code",
   "execution_count": 4,
   "id": "eefa18dc-c29a-45fd-8d80-7eee5ff24557",
   "metadata": {},
   "outputs": [],
   "source": [
    "db_user = User(name=\"Chris\", email=\"chris@nourishbalancethrive.com\")"
   ]
  },
  {
   "cell_type": "code",
   "execution_count": 5,
   "id": "0f924c59-e0f7-41c5-8cae-a7fc09bb7d83",
   "metadata": {},
   "outputs": [
    {
     "data": {
      "text/plain": [
       "<User: User object>"
      ]
     },
     "execution_count": 5,
     "metadata": {},
     "output_type": "execute_result"
    }
   ],
   "source": [
    "db_user.save()"
   ]
  },
  {
   "cell_type": "code",
   "execution_count": 2,
   "id": "79ce1f46-21cb-4e3b-bc20-de6d99c299f6",
   "metadata": {},
   "outputs": [],
   "source": [
    "# Querying the User Document\n",
    "db_user = DBUser.objects(email=\"chris@nourishbalancethrive.com\").first()"
   ]
  },
  {
   "cell_type": "code",
   "execution_count": 2,
   "id": "522d3fd1-e64d-4730-b2d1-542396fcdb39",
   "metadata": {},
   "outputs": [],
   "source": [
    "db_user = get_current_user()"
   ]
  },
  {
   "cell_type": "code",
   "execution_count": 3,
   "id": "af4eaffa-997c-44e9-939c-f29477f6fc93",
   "metadata": {},
   "outputs": [
    {
     "data": {
      "text/plain": [
       "'{\"_id\": {\"$oid\": \"6526d86e6015be5b3434ac13\"}, \"name\": \"Chris\", \"email\": \"chris@nourishbalancethrive.com\"}'"
      ]
     },
     "execution_count": 3,
     "metadata": {},
     "output_type": "execute_result"
    }
   ],
   "source": [
    "db_user.to_json()"
   ]
  },
  {
   "cell_type": "markdown",
   "id": "9fec286b-e7b7-47e6-b714-3594e39da71b",
   "metadata": {
    "jp-MarkdownHeadingCollapsed": true
   },
   "source": [
    "# Meet and Greet"
   ]
  },
  {
   "cell_type": "code",
   "execution_count": 3,
   "id": "4349b0f8-2108-4266-b1c6-2da1fcd9ee34",
   "metadata": {},
   "outputs": [
    {
     "name": "stdout",
     "output_type": "stream",
     "text": [
      "load_memory filename='/Users/cck197/Downloads/virtual_greg/memory.pkl'\n"
     ]
    }
   ],
   "source": [
    "memory = X.load_memory()"
   ]
  },
  {
   "cell_type": "code",
   "execution_count": 9,
   "id": "d8884e82-c3e7-41db-a481-76c57d3b6493",
   "metadata": {},
   "outputs": [],
   "source": [
    "memory.save_context({\"input\": f\"my name is {user.name}\"}, {\"output\": f\"hi {user.name}\"})"
   ]
  },
  {
   "cell_type": "code",
   "execution_count": 5,
   "id": "8781cdb4-2995-4e6d-955e-aa78176c51eb",
   "metadata": {},
   "outputs": [],
   "source": [
    "memory.save_context({\"input\": f\"my email is {user.email}\"}, {\"output\": f\"got it\"})"
   ]
  },
  {
   "cell_type": "code",
   "execution_count": 37,
   "id": "d28b79b7-99aa-4bd2-93f2-619bf6f53779",
   "metadata": {},
   "outputs": [
    {
     "data": {
      "text/plain": [
       "{'chat_history': [HumanMessage(content='my name is Chris'),\n",
       "  AIMessage(content='hi Chris'),\n",
       "  HumanMessage(content='hey'),\n",
       "  AIMessage(content='Hi Chris! How can I assist you today?'),\n",
       "  HumanMessage(content='Tell me a joke.'),\n",
       "  AIMessage(content='\\n{\"setup\": \"Why did the chicken cross the road?\", \"punchline\": \"To get to the other side!\"}'),\n",
       "  HumanMessage(content=\"what's my name?\"),\n",
       "  AIMessage(content='\\n{\"setup\": \"What\\'s my name?\", \"punchline\": \"\"}'),\n",
       "  HumanMessage(content=\"what's my name?\"),\n",
       "  AIMessage(content='\\n{\"setup\": \"What\\'s my name?\", \"punchline\": \"\"}'),\n",
       "  HumanMessage(content=\"what's my name?\"),\n",
       "  AIMessage(content='\\n{\"name\": \"Your Name\"}'),\n",
       "  HumanMessage(content=\"what's the human's name?\"),\n",
       "  AIMessage(content='\\n{\"name\": \"John\"}'),\n",
       "  HumanMessage(content=\"what's the human's name?\"),\n",
       "  AIMessage(content='\\n\\n{\"name\": \"Chris\"}'),\n",
       "  HumanMessage(content='my email is chris@nourishbalancethrive.com'),\n",
       "  AIMessage(content='got it')]}"
      ]
     },
     "execution_count": 37,
     "metadata": {},
     "output_type": "execute_result"
    }
   ],
   "source": [
    "memory.load_memory_variables({})"
   ]
  },
  {
   "cell_type": "code",
   "execution_count": 59,
   "id": "9f15c6f2-b425-4ba5-a043-f6dcc2f284ba",
   "metadata": {},
   "outputs": [
    {
     "name": "stdout",
     "output_type": "stream",
     "text": [
      "get_agent len(tools)=10\n"
     ]
    },
    {
     "data": {
      "text/markdown": [
       "Hello, Chris! How are you feeling today?"
      ],
      "text/plain": [
       "<IPython.core.display.Markdown object>"
      ]
     },
     "metadata": {},
     "output_type": "display_data"
    }
   ],
   "source": [
    "x = X(goals[\"diary_probe\"], memory=memory);"
   ]
  },
  {
   "cell_type": "markdown",
   "id": "3e3e5381-600d-4a59-8f65-7997ed097ce8",
   "metadata": {
    "jp-MarkdownHeadingCollapsed": true
   },
   "source": [
    "# Parsing"
   ]
  },
  {
   "cell_type": "code",
   "execution_count": 5,
   "id": "700ac42e-c522-4a0a-8420-3fb513adc9a7",
   "metadata": {},
   "outputs": [],
   "source": [
    "from typing import List\n",
    "\n",
    "from langchain.llms import OpenAI\n",
    "from langchain.output_parsers import PydanticOutputParser\n",
    "from langchain.prompts import PromptTemplate\n",
    "from langchain.pydantic_v1 import BaseModel, Field, validator"
   ]
  },
  {
   "cell_type": "code",
   "execution_count": 6,
   "id": "895bbb4e-0bc6-480b-ac3b-5b713145c1fc",
   "metadata": {},
   "outputs": [],
   "source": [
    "model_name = \"text-davinci-003\"\n",
    "temperature = 0.0\n",
    "model = OpenAI(model_name=model_name, temperature=temperature)"
   ]
  },
  {
   "cell_type": "code",
   "execution_count": 7,
   "id": "b4b8bdbf-7a95-46f9-a834-93feb494b3cb",
   "metadata": {},
   "outputs": [
    {
     "data": {
      "text/plain": [
       "Joke(setup='Why did the chicken cross the road?', punchline='To get to the other side!')"
      ]
     },
     "execution_count": 7,
     "metadata": {},
     "output_type": "execute_result"
    }
   ],
   "source": [
    "# Define your desired data structure.\n",
    "class Joke(BaseModel):\n",
    "    setup: str = Field(description=\"question to set up a joke\")\n",
    "    punchline: str = Field(description=\"answer to resolve the joke\")\n",
    "\n",
    "    # You can add custom validation logic easily with Pydantic.\n",
    "    @validator(\"setup\")\n",
    "    def question_ends_with_question_mark(cls, field):\n",
    "        if field[-1] != \"?\":\n",
    "            raise ValueError(\"Badly formed question!\")\n",
    "        return field\n",
    "\n",
    "\n",
    "# And a query intented to prompt a language model to populate the data structure.\n",
    "joke_query = \"Tell me a joke.\"\n",
    "\n",
    "# Set up a parser + inject instructions into the prompt template.\n",
    "parser = PydanticOutputParser(pydantic_object=Joke)\n",
    "\n",
    "prompt = PromptTemplate(\n",
    "    template=\"Answer the user query.\\n{format_instructions}\\n{query}\\n\",\n",
    "    input_variables=[\"query\"],\n",
    "    partial_variables={\"format_instructions\": parser.get_format_instructions()},\n",
    ")\n",
    "\n",
    "_input = prompt.format_prompt(query=joke_query)\n",
    "\n",
    "output = model(_input.to_string())\n",
    "\n",
    "parser.parse(output)"
   ]
  },
  {
   "cell_type": "code",
   "execution_count": 18,
   "id": "c8f754da-dbce-4660-80cd-722f0b127161",
   "metadata": {},
   "outputs": [
    {
     "data": {
      "text/plain": [
       "'Answer the user query.\\nThe output should be formatted as a JSON instance that conforms to the JSON schema below.\\n\\nAs an example, for the schema {\"properties\": {\"foo\": {\"title\": \"Foo\", \"description\": \"a list of strings\", \"type\": \"array\", \"items\": {\"type\": \"string\"}}}, \"required\": [\"foo\"]}\\nthe object {\"foo\": [\"bar\", \"baz\"]} is a well-formatted instance of the schema. The object {\"properties\": {\"foo\": [\"bar\", \"baz\"]}} is not well-formatted.\\n\\nHere is the output schema:\\n```\\n{\"properties\": {\"setup\": {\"title\": \"Setup\", \"description\": \"question to set up a joke\", \"type\": \"string\"}, \"punchline\": {\"title\": \"Punchline\", \"description\": \"answer to resolve the joke\", \"type\": \"string\"}}, \"required\": [\"setup\", \"punchline\"]}\\n```\\nTell me a joke.\\n'"
      ]
     },
     "execution_count": 18,
     "metadata": {},
     "output_type": "execute_result"
    }
   ],
   "source": [
    "_input.to_string()"
   ]
  },
  {
   "cell_type": "markdown",
   "id": "d2a8df0b-3539-45d0-93ee-80336c9a5a36",
   "metadata": {
    "jp-MarkdownHeadingCollapsed": true
   },
   "source": [
    "# Using"
   ]
  },
  {
   "cell_type": "code",
   "execution_count": 38,
   "id": "8c54ad54-4914-4ed4-9be2-fcaa8664426b",
   "metadata": {},
   "outputs": [],
   "source": [
    "# Define your desired data structure.\n",
    "class UserParser(BaseModel):\n",
    "    name: str = Field(description=\"name\")\n",
    "    email: str = Field(description=\"email address\")"
   ]
  },
  {
   "cell_type": "code",
   "execution_count": 39,
   "id": "0ecd7ba7-ecf1-4415-87d9-90a7999257a1",
   "metadata": {},
   "outputs": [],
   "source": [
    "# Set up a parser + inject instructions into the prompt template.\n",
    "parser = PydanticOutputParser(pydantic_object=UserParser)\n",
    "\n",
    "prompt = PromptTemplate(\n",
    "    template=\"Answer the user query.\\n{format_instructions}\\n{query}\\nPrevious conversation:{chat_history}\",\n",
    "    input_variables=[\"query\", \"chat_history\"],\n",
    "    partial_variables={\"format_instructions\": parser.get_format_instructions()},\n",
    ")"
   ]
  },
  {
   "cell_type": "code",
   "execution_count": 40,
   "id": "b8332376-f142-4450-b864-59432f15e054",
   "metadata": {},
   "outputs": [],
   "source": [
    "from langchain.llms import OpenAI\n",
    "from langchain.prompts import PromptTemplate\n",
    "from langchain.chains import LLMChain\n",
    "from langchain.memory import ConversationBufferMemory"
   ]
  },
  {
   "cell_type": "code",
   "execution_count": 41,
   "id": "9eda10ed-936c-44be-aacb-5e462ce02041",
   "metadata": {},
   "outputs": [],
   "source": [
    "chain = LLMChain(\n",
    "    llm=model,\n",
    "    prompt=prompt,\n",
    "    verbose=True,\n",
    "    memory=memory\n",
    ")"
   ]
  },
  {
   "cell_type": "code",
   "execution_count": 55,
   "id": "8427aff3-82c9-4687-b7f7-e8d9a57c78a6",
   "metadata": {},
   "outputs": [],
   "source": [
    "user_query = \"what are the human's details\""
   ]
  },
  {
   "cell_type": "code",
   "execution_count": 56,
   "id": "34e5a109-0278-43c6-aee4-4b2ced573ef5",
   "metadata": {
    "scrolled": true
   },
   "outputs": [
    {
     "name": "stdout",
     "output_type": "stream",
     "text": [
      "\n",
      "\n",
      "\u001b[1m> Entering new LLMChain chain...\u001b[0m\n",
      "Prompt after formatting:\n",
      "\u001b[32;1m\u001b[1;3mAnswer the user query.\n",
      "The output should be formatted as a JSON instance that conforms to the JSON schema below.\n",
      "\n",
      "As an example, for the schema {\"properties\": {\"foo\": {\"title\": \"Foo\", \"description\": \"a list of strings\", \"type\": \"array\", \"items\": {\"type\": \"string\"}}}, \"required\": [\"foo\"]}\n",
      "the object {\"foo\": [\"bar\", \"baz\"]} is a well-formatted instance of the schema. The object {\"properties\": {\"foo\": [\"bar\", \"baz\"]}} is not well-formatted.\n",
      "\n",
      "Here is the output schema:\n",
      "```\n",
      "{\"properties\": {\"name\": {\"title\": \"Name\", \"description\": \"name\", \"type\": \"string\"}, \"email\": {\"title\": \"Email\", \"description\": \"email address\", \"type\": \"string\"}}, \"required\": [\"name\", \"email\"]}\n",
      "```\n",
      "what are the human's details\n",
      "Previous conversation:[HumanMessage(content='my name is Chris'), AIMessage(content='hi Chris'), HumanMessage(content='hey'), AIMessage(content='Hi Chris! How can I assist you today?'), HumanMessage(content='Tell me a joke.'), AIMessage(content='\\n{\"setup\": \"Why did the chicken cross the road?\", \"punchline\": \"To get to the other side!\"}'), HumanMessage(content=\"what's my name?\"), AIMessage(content='\\n{\"setup\": \"What\\'s my name?\", \"punchline\": \"\"}'), HumanMessage(content=\"what's my name?\"), AIMessage(content='\\n{\"setup\": \"What\\'s my name?\", \"punchline\": \"\"}'), HumanMessage(content=\"what's my name?\"), AIMessage(content='\\n{\"name\": \"Your Name\"}'), HumanMessage(content=\"what's the human's name?\"), AIMessage(content='\\n{\"name\": \"John\"}'), HumanMessage(content=\"what's the human's name?\"), AIMessage(content='\\n\\n{\"name\": \"Chris\"}'), HumanMessage(content='my email is chris@nourishbalancethrive.com'), AIMessage(content='got it'), HumanMessage(content=\"what are the human's name and email?\"), AIMessage(content='\\n\\n{\"name\": \"Chris\", \"email\": \"chris@nourishbalancethrive.com\"}')]\u001b[0m\n",
      "\n",
      "\u001b[1m> Finished chain.\u001b[0m\n"
     ]
    },
    {
     "data": {
      "text/plain": [
       "{'query': \"what are the human's details\",\n",
       " 'chat_history': [HumanMessage(content='my name is Chris'),\n",
       "  AIMessage(content='hi Chris'),\n",
       "  HumanMessage(content='hey'),\n",
       "  AIMessage(content='Hi Chris! How can I assist you today?'),\n",
       "  HumanMessage(content='Tell me a joke.'),\n",
       "  AIMessage(content='\\n{\"setup\": \"Why did the chicken cross the road?\", \"punchline\": \"To get to the other side!\"}'),\n",
       "  HumanMessage(content=\"what's my name?\"),\n",
       "  AIMessage(content='\\n{\"setup\": \"What\\'s my name?\", \"punchline\": \"\"}'),\n",
       "  HumanMessage(content=\"what's my name?\"),\n",
       "  AIMessage(content='\\n{\"setup\": \"What\\'s my name?\", \"punchline\": \"\"}'),\n",
       "  HumanMessage(content=\"what's my name?\"),\n",
       "  AIMessage(content='\\n{\"name\": \"Your Name\"}'),\n",
       "  HumanMessage(content=\"what's the human's name?\"),\n",
       "  AIMessage(content='\\n{\"name\": \"John\"}'),\n",
       "  HumanMessage(content=\"what's the human's name?\"),\n",
       "  AIMessage(content='\\n\\n{\"name\": \"Chris\"}'),\n",
       "  HumanMessage(content='my email is chris@nourishbalancethrive.com'),\n",
       "  AIMessage(content='got it'),\n",
       "  HumanMessage(content=\"what are the human's name and email?\"),\n",
       "  AIMessage(content='\\n\\n{\"name\": \"Chris\", \"email\": \"chris@nourishbalancethrive.com\"}')],\n",
       " 'text': '\\n\\nOutput: {\"name\": \"Chris\", \"email\": \"chris@nourishbalancethrive.com\"}'}"
      ]
     },
     "execution_count": 56,
     "metadata": {},
     "output_type": "execute_result"
    }
   ],
   "source": [
    "output = chain({\"query\": user_query}); output"
   ]
  },
  {
   "cell_type": "code",
   "execution_count": 57,
   "id": "0bdb20d4-6aed-4094-9cf8-d2bc8cbfe522",
   "metadata": {},
   "outputs": [
    {
     "data": {
      "text/plain": [
       "UserParser(name='Chris', email='chris@nourishbalancethrive.com')"
      ]
     },
     "execution_count": 57,
     "metadata": {},
     "output_type": "execute_result"
    }
   ],
   "source": [
    "parser.parse(output[\"text\"])"
   ]
  },
  {
   "cell_type": "code",
   "execution_count": 46,
   "id": "de067672-23fc-40ce-9763-92abfaadcfaf",
   "metadata": {},
   "outputs": [
    {
     "name": "stdout",
     "output_type": "stream",
     "text": [
      "\n",
      "\n",
      "\u001b[1m> Entering new LLMChain chain...\u001b[0m\n",
      "Prompt after formatting:\n",
      "\u001b[32;1m\u001b[1;3mAnswer the user query.\n",
      "The output should be formatted as a JSON instance that conforms to the JSON schema below.\n",
      "\n",
      "As an example, for the schema {\"properties\": {\"foo\": {\"title\": \"Foo\", \"description\": \"a list of strings\", \"type\": \"array\", \"items\": {\"type\": \"string\"}}}, \"required\": [\"foo\"]}\n",
      "the object {\"foo\": [\"bar\", \"baz\"]} is a well-formatted instance of the schema. The object {\"properties\": {\"foo\": [\"bar\", \"baz\"]}} is not well-formatted.\n",
      "\n",
      "Here is the output schema:\n",
      "```\n",
      "{\"properties\": {\"name\": {\"title\": \"Name\", \"description\": \"name\", \"type\": \"string\"}, \"email\": {\"title\": \"Email\", \"description\": \"email address\", \"type\": \"string\"}}, \"required\": [\"name\", \"email\"]}\n",
      "```\n",
      "what are the human's name and email?\n",
      "Previous conversation:[HumanMessage(content='my name is Chris'), AIMessage(content='hi Chris'), HumanMessage(content='hey'), AIMessage(content='Hi Chris! How can I assist you today?'), HumanMessage(content='Tell me a joke.'), AIMessage(content='\\n{\"setup\": \"Why did the chicken cross the road?\", \"punchline\": \"To get to the other side!\"}'), HumanMessage(content=\"what's my name?\"), AIMessage(content='\\n{\"setup\": \"What\\'s my name?\", \"punchline\": \"\"}'), HumanMessage(content=\"what's my name?\"), AIMessage(content='\\n{\"setup\": \"What\\'s my name?\", \"punchline\": \"\"}'), HumanMessage(content=\"what's my name?\"), AIMessage(content='\\n{\"name\": \"Your Name\"}'), HumanMessage(content=\"what's the human's name?\"), AIMessage(content='\\n{\"name\": \"John\"}'), HumanMessage(content=\"what's the human's name?\"), AIMessage(content='\\n\\n{\"name\": \"Chris\"}'), HumanMessage(content='my email is chris@nourishbalancethrive.com'), AIMessage(content='got it'), HumanMessage(content=\"what are the human's name and email?\"), AIMessage(content='\\n\\n{\"name\": \"Chris\", \"email\": \"chris@nourishbalancethrive.com\"}')]\u001b[0m\n",
      "\n",
      "\u001b[1m> Finished chain.\u001b[0m\n"
     ]
    },
    {
     "data": {
      "text/plain": [
       "UserParser(name='Chris', email='chris@nourishbalancethrive.com')"
      ]
     },
     "execution_count": 46,
     "metadata": {},
     "output_type": "execute_result"
    }
   ],
   "source": [
    "get_parsed_output(user_query, memory, UserParser)"
   ]
  },
  {
   "cell_type": "code",
   "execution_count": 47,
   "id": "3e1428ee-3405-44c6-aaae-fd68ffe96220",
   "metadata": {},
   "outputs": [],
   "source": [
    "up = _"
   ]
  },
  {
   "cell_type": "code",
   "execution_count": 49,
   "id": "235a698b-f542-4681-bbe2-424d5b00f89a",
   "metadata": {},
   "outputs": [
    {
     "data": {
      "text/plain": [
       "{'name': 'Chris', 'email': 'chris@nourishbalancethrive.com'}"
      ]
     },
     "execution_count": 49,
     "metadata": {},
     "output_type": "execute_result"
    }
   ],
   "source": [
    "up.dict()"
   ]
  },
  {
   "cell_type": "code",
   "execution_count": 50,
   "id": "9181157f-7e9a-4347-8868-bf32ad6eca51",
   "metadata": {},
   "outputs": [],
   "source": [
    "def pydantic_to_mongoengine(pydantic_model):\n",
    "    fields = {}\n",
    "    for name, field in pydantic_model.__fields__.items():\n",
    "        # This is a basic example and only handles str type; you would expand this for other types.\n",
    "        if field.outer_type_ == str:\n",
    "            fields[name] = StringField(required=field.required)\n",
    "        # Add other field type conversions as needed\n",
    "    return type(pydantic_model.__name__, (Document,), fields)\n"
   ]
  },
  {
   "cell_type": "code",
   "execution_count": 52,
   "id": "e63f6577-ce5d-4e2e-a9ec-030d8b28536c",
   "metadata": {},
   "outputs": [],
   "source": [
    "User = pydantic_to_mongoengine(UserParser)"
   ]
  },
  {
   "cell_type": "code",
   "execution_count": 54,
   "id": "71c4234b-338a-49e2-b77f-816f09d8e77d",
   "metadata": {},
   "outputs": [
    {
     "data": {
      "text/plain": [
       "mappingproxy({'name': <mongoengine.fields.StringField at 0x146da2190>,\n",
       "              'email': <mongoengine.fields.StringField at 0x1477e3650>,\n",
       "              '_meta': {'abstract': False,\n",
       "               'max_documents': None,\n",
       "               'max_size': None,\n",
       "               'ordering': [],\n",
       "               'indexes': [],\n",
       "               'id_field': 'id',\n",
       "               'index_background': False,\n",
       "               'index_opts': None,\n",
       "               'delete_rules': None,\n",
       "               'allow_inheritance': None,\n",
       "               'collection': 'user_parser',\n",
       "               'index_specs': []},\n",
       "              '_is_base_cls': False,\n",
       "              '_is_document': True,\n",
       "              '_cached_reference_fields': [],\n",
       "              '_fields': {'name': <mongoengine.fields.StringField at 0x146da2190>,\n",
       "               'email': <mongoengine.fields.StringField at 0x1477e3650>,\n",
       "               'id': <mongoengine.base.fields.ObjectIdField at 0x147674a10>},\n",
       "              '_db_field_map': {'name': 'name', 'email': 'email', 'id': '_id'},\n",
       "              '_reverse_db_field_map': {'name': 'name',\n",
       "               'email': 'email',\n",
       "               '_id': 'id'},\n",
       "              '_fields_ordered': ('id', 'name', 'email'),\n",
       "              '_class_name': 'UserParser',\n",
       "              '_superclasses': (),\n",
       "              '_subclasses': ('UserParser',),\n",
       "              '_types': ('UserParser',),\n",
       "              '__module__': 'mongoengine.base.metaclasses',\n",
       "              '__dict__': <attribute '__dict__' of 'UserParser' objects>,\n",
       "              '__doc__': None,\n",
       "              '_collection': None,\n",
       "              'objects': <mongoengine.queryset.manager.QuerySetManager at 0x1477e10d0>,\n",
       "              'id': <mongoengine.base.fields.ObjectIdField at 0x147674a10>,\n",
       "              'DoesNotExist': DoesNotExist,\n",
       "              'MultipleObjectsReturned': MultipleObjectsReturned})"
      ]
     },
     "execution_count": 54,
     "metadata": {},
     "output_type": "execute_result"
    }
   ],
   "source": [
    "User.__dict__"
   ]
  },
  {
   "cell_type": "markdown",
   "id": "41602b2e-fa1c-44f7-89cb-79906eeac679",
   "metadata": {},
   "source": [
    "# New"
   ]
  },
  {
   "cell_type": "code",
   "execution_count": 3,
   "id": "afe7b892-92a8-4059-8808-ac5b1ddc3820",
   "metadata": {},
   "outputs": [
    {
     "name": "stdout",
     "output_type": "stream",
     "text": [
      "load_memory filename='/Users/cck197/Downloads/virtual_greg/memory.pkl'\n"
     ]
    }
   ],
   "source": [
    "memory = X.load_memory()"
   ]
  },
  {
   "cell_type": "code",
   "execution_count": 5,
   "id": "40e58eca-5b92-4c72-8d22-ec5b8c937025",
   "metadata": {
    "scrolled": true
   },
   "outputs": [
    {
     "data": {
      "text/plain": [
       "User(name='Chris', email='chris@nourishbalancethrive.com')"
      ]
     },
     "execution_count": 5,
     "metadata": {},
     "output_type": "execute_result"
    }
   ],
   "source": [
    "user = get_user(memory); user"
   ]
  },
  {
   "cell_type": "code",
   "execution_count": 4,
   "id": "3d27e3ae-766f-47f2-bdb8-ef7717eedd1a",
   "metadata": {
    "scrolled": true
   },
   "outputs": [
    {
     "data": {
      "text/plain": [
       "SleepDiaryEntry(date=datetime.datetime(2023, 10, 1, 0, 0), in_bed=datetime.datetime(2023, 10, 11, 21, 0), tried_to_fall_asleep=datetime.datetime(2023, 10, 11, 23, 0), time_to_fall_asleep=30, times_awake=5, time_awake=50, final_wake_up=datetime.datetime(2023, 10, 11, 6, 30), out_of_bed=datetime.datetime(2023, 10, 11, 6, 30), sleep_quality='okay', medications='melatonin', notes='Slept in the van 4')"
      ]
     },
     "execution_count": 4,
     "metadata": {},
     "output_type": "execute_result"
    }
   ],
   "source": [
    "entry = get_sleep_diary_entry(memory); entry"
   ]
  },
  {
   "cell_type": "code",
   "execution_count": 5,
   "id": "66007d9b-778b-47c3-8ebb-a3b5d26f3e31",
   "metadata": {},
   "outputs": [],
   "source": [
    "db_entry = save_sleep_diary_entry(db_user, entry)"
   ]
  },
  {
   "cell_type": "code",
   "execution_count": 6,
   "id": "aaed1e80-da10-4227-a1fe-93df80872c82",
   "metadata": {},
   "outputs": [
    {
     "data": {
      "text/plain": [
       "{'_id': ObjectId('652738d055cc9d6f13c11cf5'),\n",
       " 'user': ObjectId('6526d86e6015be5b3434ac13'),\n",
       " 'date': datetime.datetime(2023, 10, 1, 0, 0),\n",
       " 'in_bed': datetime.datetime(2023, 10, 1, 21, 0),\n",
       " 'tried_to_fall_asleep': datetime.datetime(2023, 10, 1, 23, 0),\n",
       " 'time_to_fall_asleep': 30,\n",
       " 'times_awake': 5,\n",
       " 'time_awake': 50,\n",
       " 'final_wake_up': datetime.datetime(2023, 10, 2, 6, 30),\n",
       " 'out_of_bed': datetime.datetime(2023, 10, 2, 6, 30),\n",
       " 'sleep_quality': 'okay',\n",
       " 'medications': 'melatonin',\n",
       " 'notes': 'Slept in the van 4'}"
      ]
     },
     "execution_count": 6,
     "metadata": {},
     "output_type": "execute_result"
    }
   ],
   "source": [
    "db_entry.to_mongo().to_dict()"
   ]
  },
  {
   "cell_type": "code",
   "execution_count": 36,
   "id": "cfea8f66-fa8d-46aa-812a-cb60757e8872",
   "metadata": {},
   "outputs": [
    {
     "data": {
      "text/plain": [
       "1"
      ]
     },
     "execution_count": 36,
     "metadata": {},
     "output_type": "execute_result"
    }
   ],
   "source": [
    "DBSleepDiaryEntry.objects.delete()"
   ]
  },
  {
   "cell_type": "code",
   "execution_count": 44,
   "id": "3cd29a1e-a7fa-4214-96dc-6ffe6e286e03",
   "metadata": {},
   "outputs": [
    {
     "data": {
      "text/plain": [
       "{'_id': ObjectId('65270f56f2031c8434501e59'),\n",
       " 'user': ObjectId('6526d86e6015be5b3434ac13'),\n",
       " 'date': datetime.datetime(2023, 10, 11, 0, 0),\n",
       " 'in_bed': datetime.datetime(2023, 10, 11, 21, 15),\n",
       " 'tried_to_fall_asleep': datetime.datetime(2023, 10, 11, 21, 15),\n",
       " 'time_to_fall_asleep': 5,\n",
       " 'times_awake': 1,\n",
       " 'time_awake': 5,\n",
       " 'final_wake_up': datetime.datetime(2023, 10, 12, 6, 15),\n",
       " 'out_of_bed': datetime.datetime(2023, 10, 12, 6, 15),\n",
       " 'sleep_quality': 'Good',\n",
       " 'medications': 'Melatonin',\n",
       " 'notes': 'Slept in the van, it was raining'}"
      ]
     },
     "execution_count": 44,
     "metadata": {},
     "output_type": "execute_result"
    }
   ],
   "source": [
    "DBSleepDiaryEntry.objects().order_by('-id').first().to_mongo().to_dict()"
   ]
  },
  {
   "cell_type": "code",
   "execution_count": 18,
   "id": "febf68e7-2c93-4e04-964a-b7482b478585",
   "metadata": {},
   "outputs": [
    {
     "data": {
      "text/plain": [
       "1"
      ]
     },
     "execution_count": 18,
     "metadata": {},
     "output_type": "execute_result"
    }
   ],
   "source": [
    "DBUser.objects.delete()"
   ]
  },
  {
   "cell_type": "code",
   "execution_count": 13,
   "id": "6bd819f6-d6c6-4e69-b0f7-c2ce6cc3b2bb",
   "metadata": {},
   "outputs": [
    {
     "data": {
      "text/plain": [
       "['date', 'in_bed', 'tried_to_fall_asleep', 'final_wake_up', 'out_of_bed']"
      ]
     },
     "execution_count": 13,
     "metadata": {},
     "output_type": "execute_result"
    }
   ],
   "source": [
    "date_fields"
   ]
  },
  {
   "cell_type": "code",
   "execution_count": 8,
   "id": "5b314d0f-cbab-4d76-a894-146c5b5f913c",
   "metadata": {
    "scrolled": true
   },
   "outputs": [],
   "source": [
    "sleep_data = entry.dict()"
   ]
  },
  {
   "cell_type": "code",
   "execution_count": 9,
   "id": "92c9c616-ac12-4d5f-a7de-13f05001a076",
   "metadata": {},
   "outputs": [
    {
     "data": {
      "text/plain": [
       "{'date': datetime.datetime(2023, 10, 1, 0, 0),\n",
       " 'in_bed': datetime.datetime(2023, 10, 1, 21, 0),\n",
       " 'tried_to_fall_asleep': datetime.datetime(2023, 10, 1, 23, 0),\n",
       " 'time_to_fall_asleep': 30,\n",
       " 'times_awake': 5,\n",
       " 'time_awake': 50,\n",
       " 'final_wake_up': datetime.datetime(2023, 10, 1, 6, 30),\n",
       " 'out_of_bed': datetime.datetime(2023, 10, 1, 6, 30),\n",
       " 'sleep_quality': 'okay',\n",
       " 'medications': 'melatonin',\n",
       " 'notes': 'Slept in the van 4'}"
      ]
     },
     "execution_count": 9,
     "metadata": {},
     "output_type": "execute_result"
    }
   ],
   "source": [
    "adjust_to_baseline_date(sleep_data)"
   ]
  },
  {
   "cell_type": "code",
   "execution_count": 14,
   "id": "f58f279e-d8d4-46e6-ada3-603e10156966",
   "metadata": {},
   "outputs": [
    {
     "name": "stdout",
     "output_type": "stream",
     "text": [
      "in_bed\n",
      "tried_to_fall_asleep\n",
      "final_wake_up\n",
      "out_of_bed\n"
     ]
    },
    {
     "data": {
      "text/plain": [
       "{'date': datetime.datetime(2023, 10, 7, 0, 0),\n",
       " 'in_bed': datetime.datetime(2023, 10, 11, 21, 15),\n",
       " 'tried_to_fall_asleep': datetime.datetime(2023, 10, 12, 21, 10),\n",
       " 'final_wake_up': datetime.datetime(2023, 10, 12, 23, 15),\n",
       " 'out_of_bed': datetime.datetime(2023, 10, 13, 6, 15),\n",
       " 'sleep_quality': 'Good',\n",
       " 'medications': 'Melatonin',\n",
       " 'notes': 'Slept in the van, it was raining'}"
      ]
     },
     "execution_count": 14,
     "metadata": {},
     "output_type": "execute_result"
    }
   ],
   "source": [
    "normalized_data = make_monotonic(sleep_data); normalized_data"
   ]
  },
  {
   "cell_type": "code",
   "execution_count": 12,
   "id": "b68bfca6-996a-4d25-b7c9-892d53e01d40",
   "metadata": {},
   "outputs": [
    {
     "data": {
      "text/plain": [
       "datetime.datetime(2023, 10, 1, 0, 0)"
      ]
     },
     "execution_count": 12,
     "metadata": {},
     "output_type": "execute_result"
    }
   ],
   "source": [
    "date_parser(\"2023-10-01\")"
   ]
  },
  {
   "cell_type": "code",
   "execution_count": 10,
   "id": "b42071aa-c9f2-46d8-ae3c-c87df7325821",
   "metadata": {},
   "outputs": [
    {
     "data": {
      "text/plain": [
       "<SleepDiaryEntry: SleepDiaryEntry object>"
      ]
     },
     "execution_count": 10,
     "metadata": {},
     "output_type": "execute_result"
    }
   ],
   "source": [
    "DBSleepDiaryEntry.objects(date=_8).first()"
   ]
  },
  {
   "cell_type": "code",
   "execution_count": 6,
   "id": "1f3a8b33-3d4a-4ec1-b2e6-cd9d81fb9669",
   "metadata": {},
   "outputs": [
    {
     "data": {
      "text/plain": [
       "SON([('_id', ObjectId('652738d055cc9d6f13c11cf5')), ('user', ObjectId('6526d86e6015be5b3434ac13')), ('date', datetime.datetime(2023, 10, 1, 0, 0)), ('in_bed', datetime.datetime(2023, 10, 1, 21, 0)), ('tried_to_fall_asleep', datetime.datetime(2023, 10, 1, 23, 0)), ('time_to_fall_asleep', 30), ('times_awake', 5), ('time_awake', 50), ('final_wake_up', datetime.datetime(2023, 10, 2, 6, 30)), ('out_of_bed', datetime.datetime(2023, 10, 2, 6, 30)), ('sleep_quality', 'okay'), ('medications', 'melatonin'), ('notes', 'Slept in the van 4')])"
      ]
     },
     "execution_count": 6,
     "metadata": {},
     "output_type": "execute_result"
    }
   ],
   "source": [
    "DBSleepDiaryEntry.objects(user=db_user, date=date_parser(\"2023-10-01\")).first().to_mongo()"
   ]
  },
  {
   "cell_type": "code",
   "execution_count": null,
   "id": "26f15c5e-8168-4468-af82-4b3b77976f87",
   "metadata": {},
   "outputs": [],
   "source": []
  }
 ],
 "metadata": {
  "kernelspec": {
   "display_name": "Python 3 (ipykernel)",
   "language": "python",
   "name": "python3"
  },
  "language_info": {
   "codemirror_mode": {
    "name": "ipython",
    "version": 3
   },
   "file_extension": ".py",
   "mimetype": "text/x-python",
   "name": "python",
   "nbconvert_exporter": "python",
   "pygments_lexer": "ipython3",
   "version": "3.11.5"
  }
 },
 "nbformat": 4,
 "nbformat_minor": 5
}
