{
 "cells": [
  {
   "cell_type": "code",
   "execution_count": 1,
   "id": "52f7209f-07de-4487-ab42-f4e27928793b",
   "metadata": {},
   "outputs": [],
   "source": [
    "from sleepmate.agent import *\n",
    "from sleepmate.user import *\n",
    "from sleepmate.diary import *\n",
    "from sleepmate.isi import *\n",
    "from sleepmate.act import *\n",
    "from sleepmate.seeds import *\n",
    "from sleepmate.stress import *\n",
    "from sleepmate.history import *\n",
    "from sleepmate.goal import *\n",
    "from sleepmate.act import *\n",
    "from sleepmate.knowledge import *\n",
    "from sleepmate.stimulus import *"
   ]
  },
  {
   "cell_type": "code",
   "execution_count": 35,
   "id": "e592e6b6-a6a1-447e-8c18-318037668c1e",
   "metadata": {},
   "outputs": [],
   "source": [
    "!rm -f /Users/cck197/Downloads/virtual_greg/memory.pkl"
   ]
  },
  {
   "cell_type": "markdown",
   "id": "6a7c3ce5-e909-402e-b9e5-1b7fc7b7e9eb",
   "metadata": {},
   "source": [
    "# Database"
   ]
  },
  {
   "cell_type": "code",
   "execution_count": null,
   "id": "e3828c03-f8af-454e-aa13-931b9dda4d83",
   "metadata": {},
   "outputs": [],
   "source": [
    "DBSeedsDiaryEntry.objects()"
   ]
  },
  {
   "cell_type": "code",
   "execution_count": 7,
   "id": "c19a00c9-376e-4b3a-97c2-545b054c0a0d",
   "metadata": {},
   "outputs": [
    {
     "data": {
      "text/plain": [
       "1"
      ]
     },
     "execution_count": 7,
     "metadata": {},
     "output_type": "execute_result"
    }
   ],
   "source": [
    "DBSeedsDiaryEntry.objects.delete()"
   ]
  },
  {
   "cell_type": "code",
   "execution_count": 9,
   "id": "63d127a6-bac4-411e-8e78-cbed826d58b6",
   "metadata": {},
   "outputs": [
    {
     "data": {
      "text/plain": [
       "2"
      ]
     },
     "execution_count": 9,
     "metadata": {},
     "output_type": "execute_result"
    }
   ],
   "source": [
    "DBSeedsDiaryEntry.objects.delete()"
   ]
  },
  {
   "cell_type": "code",
   "execution_count": 8,
   "id": "94587bbe-a5da-4d11-adf6-7810501bc2bf",
   "metadata": {},
   "outputs": [
    {
     "data": {
      "text/plain": [
       "[SON([('_id', ObjectId('6532c988f1baf405e85f2793')), ('pod', ObjectId('6532c914f1baf405e85f2792')), ('date', datetime.datetime(2023, 10, 20, 0, 0)), ('sleep_1', 0), ('sleep_2', 0), ('sleep_3', 0), ('exercise_1', 0), ('exercise_2', 0), ('exercise_3', 0), ('eating_1', 0), ('eating_2', 0), ('eating_3', 0), ('drinking_1', 0), ('drinking_2', 0), ('drinking_3', 0), ('stress_1', 0), ('stress_2', 0), ('stress_3', 0)]),\n",
       " SON([('_id', ObjectId('6532c9c5f1baf405e85f2794')), ('pod', ObjectId('6532c914f1baf405e85f2792')), ('date', datetime.datetime(2023, 10, 20, 0, 0)), ('sleep_1', 1), ('sleep_2', 1), ('sleep_3', 1), ('exercise_1', 1), ('exercise_2', 1), ('exercise_3', 1), ('eating_1', 1), ('eating_2', 1), ('eating_3', 1), ('drinking_1', 1), ('drinking_2', 1), ('drinking_3', 1), ('stress_1', 1), ('stress_2', 1), ('stress_3', 1)])]"
      ]
     },
     "execution_count": 8,
     "metadata": {},
     "output_type": "execute_result"
    }
   ],
   "source": [
    "[o.to_mongo() for o in DBSeedsDiaryEntry.objects()]"
   ]
  },
  {
   "cell_type": "code",
   "execution_count": 8,
   "id": "43c5a4ae-ff96-474c-832a-13497c99e294",
   "metadata": {},
   "outputs": [
    {
     "data": {
      "text/plain": [
       "[<SleepDiaryEntry: SleepDiaryEntry object>]"
      ]
     },
     "execution_count": 8,
     "metadata": {},
     "output_type": "execute_result"
    }
   ],
   "source": [
    "DBSleepDiaryEntry.objects.order_by(\"-id\")"
   ]
  },
  {
   "cell_type": "code",
   "execution_count": 2,
   "id": "d995a84e-be4f-4e8d-82a9-096910c9aac4",
   "metadata": {},
   "outputs": [
    {
     "data": {
      "text/plain": [
       "0"
      ]
     },
     "execution_count": 2,
     "metadata": {},
     "output_type": "execute_result"
    }
   ],
   "source": [
    "DBDailyRoutineSeen.objects.count()"
   ]
  },
  {
   "cell_type": "code",
   "execution_count": 4,
   "id": "a775cbbe-5d40-4b45-a406-1406a5f72aa0",
   "metadata": {},
   "outputs": [
    {
     "name": "stdout",
     "output_type": "stream",
     "text": [
      "save entry={'date': datetime.datetime(2023, 10, 20, 10, 17, 35, 897506)}\n"
     ]
    }
   ],
   "source": [
    "save_daily_routine_seen(None, None, None)"
   ]
  },
  {
   "cell_type": "code",
   "execution_count": 3,
   "id": "67574ee0-a092-4f3f-a723-1f6dc2016bff",
   "metadata": {},
   "outputs": [
    {
     "data": {
      "text/plain": [
       "DailyRoutineSeen(date=datetime.datetime(2023, 10, 20, 10, 17, 5, 170687))"
      ]
     },
     "execution_count": 3,
     "metadata": {},
     "output_type": "execute_result"
    }
   ],
   "source": [
    "DailyRoutineSeen()"
   ]
  },
  {
   "cell_type": "code",
   "execution_count": 5,
   "id": "6d87307f-d966-4ed5-85e6-159139f6c807",
   "metadata": {},
   "outputs": [
    {
     "data": {
      "text/plain": [
       "1"
      ]
     },
     "execution_count": 5,
     "metadata": {},
     "output_type": "execute_result"
    }
   ],
   "source": [
    "DBDailyRoutineSeen.objects.delete()"
   ]
  },
  {
   "cell_type": "code",
   "execution_count": 9,
   "id": "0eafdbd4-a2df-4a36-b70d-26984f305e67",
   "metadata": {},
   "outputs": [
    {
     "data": {
      "text/plain": [
       "1"
      ]
     },
     "execution_count": 9,
     "metadata": {},
     "output_type": "execute_result"
    }
   ],
   "source": [
    "DBSleepDiaryEntry.objects.delete()"
   ]
  },
  {
   "cell_type": "code",
   "execution_count": 2,
   "id": "6325148e-a757-44e4-a330-73c63e070577",
   "metadata": {},
   "outputs": [],
   "source": [
    "def clear_db():\n",
    "    return [\n",
    "        (cls.__name__, cls.objects.delete())\n",
    "        for cls in [\n",
    "            DBHealthHistory,\n",
    "            DBExerciseEntry,\n",
    "            DBVLQEntry,\n",
    "            DBSleepDiaryEntry,\n",
    "            DBISIEntry,\n",
    "            DBSeedPod,\n",
    "            DBSeedsDiaryEntry,\n",
    "            DBStressAudit,\n",
    "            DBGoalRefusal,\n",
    "            DBStimulusControlSeen,\n",
    "            DBDailyRoutineSeen\n",
    "        ]\n",
    "    ]"
   ]
  },
  {
   "cell_type": "code",
   "execution_count": 3,
   "id": "cdd693da-921b-4d8f-a49c-de52aefb078c",
   "metadata": {},
   "outputs": [
    {
     "data": {
      "text/plain": [
       "[('HealthHistory', 1),\n",
       " ('ExerciseEntry', 0),\n",
       " ('VLQEntry', 0),\n",
       " ('SleepDiaryEntry', 1),\n",
       " ('ISIEntry', 1),\n",
       " ('SeedPod', 6),\n",
       " ('SeedsDiaryEntry', 1),\n",
       " ('StressAudit', 1),\n",
       " ('GoalRefusal', 1),\n",
       " ('StimulusControlSeen', 1),\n",
       " ('DailyRoutineSeen', 1)]"
      ]
     },
     "execution_count": 3,
     "metadata": {},
     "output_type": "execute_result"
    }
   ],
   "source": [
    "clear_db()"
   ]
  },
  {
   "cell_type": "code",
   "execution_count": 4,
   "id": "eefa18dc-c29a-45fd-8d80-7eee5ff24557",
   "metadata": {},
   "outputs": [],
   "source": [
    "db_user = User(name=\"Chris\", email=\"chris@nourishbalancethrive.com\")"
   ]
  },
  {
   "cell_type": "code",
   "execution_count": 5,
   "id": "0f924c59-e0f7-41c5-8cae-a7fc09bb7d83",
   "metadata": {},
   "outputs": [
    {
     "data": {
      "text/plain": [
       "<User: User object>"
      ]
     },
     "execution_count": 5,
     "metadata": {},
     "output_type": "execute_result"
    }
   ],
   "source": [
    "db_user.save()"
   ]
  },
  {
   "cell_type": "code",
   "execution_count": 2,
   "id": "79ce1f46-21cb-4e3b-bc20-de6d99c299f6",
   "metadata": {},
   "outputs": [],
   "source": [
    "# Querying the User Document\n",
    "db_user = DBUser.objects(email=\"chris@nourishbalancethrive.com\").first()"
   ]
  },
  {
   "cell_type": "code",
   "execution_count": 10,
   "id": "522d3fd1-e64d-4730-b2d1-542396fcdb39",
   "metadata": {},
   "outputs": [],
   "source": [
    "db_user = get_current_user()"
   ]
  },
  {
   "cell_type": "code",
   "execution_count": 5,
   "id": "af4eaffa-997c-44e9-939c-f29477f6fc93",
   "metadata": {},
   "outputs": [
    {
     "data": {
      "text/plain": [
       "'{\"_id\": {\"$oid\": \"6526d86e6015be5b3434ac13\"}, \"name\": \"Chris\", \"email\": \"chris@nourishbalancethrive.com\"}'"
      ]
     },
     "execution_count": 5,
     "metadata": {},
     "output_type": "execute_result"
    }
   ],
   "source": [
    "db_user.to_json()"
   ]
  },
  {
   "cell_type": "markdown",
   "id": "a163bfda-ab82-4829-ab8b-c772df4a66ad",
   "metadata": {
    "jp-MarkdownHeadingCollapsed": true
   },
   "source": [
    "# VLQ"
   ]
  },
  {
   "cell_type": "code",
   "execution_count": 12,
   "id": "797f546b-925f-4c57-a662-da941fa0b809",
   "metadata": {},
   "outputs": [],
   "source": [
    "db_entry = DBVLQEntry(user=db_user, date=datetime.now(), marriage=[5, 5])#.to_mongo()"
   ]
  },
  {
   "cell_type": "code",
   "execution_count": 13,
   "id": "00b408dd-1b19-4f3c-b2c4-6259fcbadc13",
   "metadata": {},
   "outputs": [
    {
     "ename": "ValidationError",
     "evalue": "ValidationError (VLQEntry:None) (Field is required: ['family_relations', 'parenting', 'friendships', 'work', 'education', 'recreation', 'spirituality', 'citizenship', 'physical_self_care', 'environmental_issues', 'art'])",
     "output_type": "error",
     "traceback": [
      "\u001b[0;31m---------------------------------------------------------------------------\u001b[0m",
      "\u001b[0;31mValidationError\u001b[0m                           Traceback (most recent call last)",
      "Cell \u001b[0;32mIn[13], line 1\u001b[0m\n\u001b[0;32m----> 1\u001b[0m \u001b[43mdb_entry\u001b[49m\u001b[38;5;241;43m.\u001b[39;49m\u001b[43msave\u001b[49m\u001b[43m(\u001b[49m\u001b[43m)\u001b[49m\n",
      "File \u001b[0;32m~/Library/Caches/pypoetry/virtualenvs/sleepmate-kok1GflL-py3.11/lib/python3.11/site-packages/mongoengine/document.py:399\u001b[0m, in \u001b[0;36mDocument.save\u001b[0;34m(self, force_insert, validate, clean, write_concern, cascade, cascade_kwargs, _refs, save_condition, signal_kwargs, **kwargs)\u001b[0m\n\u001b[1;32m    396\u001b[0m signals\u001b[38;5;241m.\u001b[39mpre_save\u001b[38;5;241m.\u001b[39msend(\u001b[38;5;28mself\u001b[39m\u001b[38;5;241m.\u001b[39m\u001b[38;5;18m__class__\u001b[39m, document\u001b[38;5;241m=\u001b[39m\u001b[38;5;28mself\u001b[39m, \u001b[38;5;241m*\u001b[39m\u001b[38;5;241m*\u001b[39msignal_kwargs)\n\u001b[1;32m    398\u001b[0m \u001b[38;5;28;01mif\u001b[39;00m validate:\n\u001b[0;32m--> 399\u001b[0m     \u001b[38;5;28;43mself\u001b[39;49m\u001b[38;5;241;43m.\u001b[39;49m\u001b[43mvalidate\u001b[49m\u001b[43m(\u001b[49m\u001b[43mclean\u001b[49m\u001b[38;5;241;43m=\u001b[39;49m\u001b[43mclean\u001b[49m\u001b[43m)\u001b[49m\n\u001b[1;32m    401\u001b[0m \u001b[38;5;28;01mif\u001b[39;00m write_concern \u001b[38;5;129;01mis\u001b[39;00m \u001b[38;5;28;01mNone\u001b[39;00m:\n\u001b[1;32m    402\u001b[0m     write_concern \u001b[38;5;241m=\u001b[39m {}\n",
      "File \u001b[0;32m~/Library/Caches/pypoetry/virtualenvs/sleepmate-kok1GflL-py3.11/lib/python3.11/site-packages/mongoengine/base/document.py:438\u001b[0m, in \u001b[0;36mBaseDocument.validate\u001b[0;34m(self, clean)\u001b[0m\n\u001b[1;32m    436\u001b[0m     pk \u001b[38;5;241m=\u001b[39m \u001b[38;5;28mself\u001b[39m\u001b[38;5;241m.\u001b[39m_instance\u001b[38;5;241m.\u001b[39mpk\n\u001b[1;32m    437\u001b[0m message \u001b[38;5;241m=\u001b[39m \u001b[38;5;124mf\u001b[39m\u001b[38;5;124m\"\u001b[39m\u001b[38;5;124mValidationError (\u001b[39m\u001b[38;5;132;01m{\u001b[39;00m\u001b[38;5;28mself\u001b[39m\u001b[38;5;241m.\u001b[39m_class_name\u001b[38;5;132;01m}\u001b[39;00m\u001b[38;5;124m:\u001b[39m\u001b[38;5;132;01m{\u001b[39;00mpk\u001b[38;5;132;01m}\u001b[39;00m\u001b[38;5;124m) \u001b[39m\u001b[38;5;124m\"\u001b[39m\n\u001b[0;32m--> 438\u001b[0m \u001b[38;5;28;01mraise\u001b[39;00m ValidationError(message, errors\u001b[38;5;241m=\u001b[39merrors)\n",
      "\u001b[0;31mValidationError\u001b[0m: ValidationError (VLQEntry:None) (Field is required: ['family_relations', 'parenting', 'friendships', 'work', 'education', 'recreation', 'spirituality', 'citizenship', 'physical_self_care', 'environmental_issues', 'art'])"
     ]
    }
   ],
   "source": [
    "db_entry.save()"
   ]
  },
  {
   "cell_type": "code",
   "execution_count": 15,
   "id": "e9ae86bf-5f33-4177-895f-5d942ade46df",
   "metadata": {},
   "outputs": [],
   "source": [
    "from langchain.output_parsers import PydanticOutputParser"
   ]
  },
  {
   "cell_type": "code",
   "execution_count": 16,
   "id": "4eab7bbd-68ac-48a1-b93e-3ecf874d0095",
   "metadata": {},
   "outputs": [],
   "source": [
    "parser = PydanticOutputParser(pydantic_object=VLQEntry)"
   ]
  },
  {
   "cell_type": "code",
   "execution_count": 18,
   "id": "c65743c7-d187-45c8-be5e-d41f92fcd055",
   "metadata": {},
   "outputs": [
    {
     "name": "stdout",
     "output_type": "stream",
     "text": [
      "The output should be formatted as a JSON instance that conforms to the JSON schema below.\n",
      "\n",
      "As an example, for the schema {\"properties\": {\"foo\": {\"title\": \"Foo\", \"description\": \"a list of strings\", \"type\": \"array\", \"items\": {\"type\": \"string\"}}}, \"required\": [\"foo\"]}\n",
      "the object {\"foo\": [\"bar\", \"baz\"]} is a well-formatted instance of the schema. The object {\"properties\": {\"foo\": [\"bar\", \"baz\"]}} is not well-formatted.\n",
      "\n",
      "Here is the output schema:\n",
      "```\n",
      "{\"properties\": {\"date\": {\"title\": \"Date\", \"description\": \"date of entry\", \"type\": \"string\"}, \"family_relations\": {\"title\": \"Family Relations\", \"description\": \"family relations\", \"type\": \"array\", \"minItems\": 2, \"maxItems\": 2, \"items\": [{\"type\": \"integer\"}, {\"type\": \"integer\"}]}, \"marriage\": {\"title\": \"Marriage\", \"description\": \"marriage/couples/intimate relations\", \"type\": \"array\", \"minItems\": 2, \"maxItems\": 2, \"items\": [{\"type\": \"integer\"}, {\"type\": \"integer\"}]}, \"parenting\": {\"title\": \"Parenting\", \"description\": \"being a parent\", \"type\": \"array\", \"minItems\": 2, \"maxItems\": 2, \"items\": [{\"type\": \"integer\"}, {\"type\": \"integer\"}]}, \"friendships\": {\"title\": \"Friendships\", \"description\": \"friendships/social relations\", \"type\": \"array\", \"minItems\": 2, \"maxItems\": 2, \"items\": [{\"type\": \"integer\"}, {\"type\": \"integer\"}]}, \"work\": {\"title\": \"Work\", \"description\": \"work\", \"type\": \"array\", \"minItems\": 2, \"maxItems\": 2, \"items\": [{\"type\": \"integer\"}, {\"type\": \"integer\"}]}, \"education\": {\"title\": \"Education\", \"description\": \"education/personal growth and development\", \"type\": \"array\", \"minItems\": 2, \"maxItems\": 2, \"items\": [{\"type\": \"integer\"}, {\"type\": \"integer\"}]}, \"recreation\": {\"title\": \"Recreation\", \"description\": \"recreation/leisure\", \"type\": \"array\", \"minItems\": 2, \"maxItems\": 2, \"items\": [{\"type\": \"integer\"}, {\"type\": \"integer\"}]}, \"spirituality\": {\"title\": \"Spirituality\", \"description\": \"spirituality/religion\", \"type\": \"array\", \"minItems\": 2, \"maxItems\": 2, \"items\": [{\"type\": \"integer\"}, {\"type\": \"integer\"}]}, \"citizenship\": {\"title\": \"Citizenship\", \"description\": \"citizenship/community life\", \"type\": \"array\", \"minItems\": 2, \"maxItems\": 2, \"items\": [{\"type\": \"integer\"}, {\"type\": \"integer\"}]}, \"physical_self_care\": {\"title\": \"Physical Self Care\", \"description\": \"physical self-care (e.g., exercise, diet, sleep)\", \"type\": \"array\", \"minItems\": 2, \"maxItems\": 2, \"items\": [{\"type\": \"integer\"}, {\"type\": \"integer\"}]}, \"environmental_issues\": {\"title\": \"Environmental Issues\", \"description\": \"environmental issues (e.g., pollution, conservation)\", \"type\": \"array\", \"minItems\": 2, \"maxItems\": 2, \"items\": [{\"type\": \"integer\"}, {\"type\": \"integer\"}]}, \"art\": {\"title\": \"Art\", \"description\": \"art, creative expression, aesthetics\", \"type\": \"array\", \"minItems\": 2, \"maxItems\": 2, \"items\": [{\"type\": \"integer\"}, {\"type\": \"integer\"}]}}, \"required\": [\"date\", \"family_relations\", \"marriage\", \"parenting\", \"friendships\", \"work\", \"education\", \"recreation\", \"spirituality\", \"citizenship\", \"physical_self_care\", \"environmental_issues\", \"art\"]}\n",
      "```\n"
     ]
    }
   ],
   "source": [
    "print(parser.get_format_instructions())"
   ]
  },
  {
   "cell_type": "markdown",
   "id": "f1120cea-c2ae-4248-a4ab-9371cadf003b",
   "metadata": {
    "jp-MarkdownHeadingCollapsed": true
   },
   "source": [
    "# SEEDS"
   ]
  },
  {
   "cell_type": "code",
   "execution_count": 2,
   "id": "9c388943-8856-4de7-acf2-dcca3e25e3eb",
   "metadata": {},
   "outputs": [
    {
     "name": "stdout",
     "output_type": "stream",
     "text": [
      "load_memory filename='/Users/cck197/Downloads/virtual_greg/memory.pkl'\n"
     ]
    }
   ],
   "source": [
    "memory = X.load_memory()"
   ]
  },
  {
   "cell_type": "code",
   "execution_count": 3,
   "id": "a68c045c-aa91-45d3-be6e-2ee658a06c62",
   "metadata": {},
   "outputs": [],
   "source": [
    "db_seed_pod = get_current_seed_pod()"
   ]
  },
  {
   "cell_type": "code",
   "execution_count": 4,
   "id": "1aee9fbd-7afd-41c4-9d86-29c086261310",
   "metadata": {},
   "outputs": [],
   "source": [
    "entry = get_seeds_from_memory(ReadOnlySharedMemory(memory=memory))"
   ]
  },
  {
   "cell_type": "code",
   "execution_count": 3,
   "id": "62e8bfd7-6ca9-4289-adbd-1c2525b5108a",
   "metadata": {},
   "outputs": [],
   "source": [
    "db_entry = get_current_seeds()"
   ]
  },
  {
   "cell_type": "code",
   "execution_count": 4,
   "id": "c0e0d079-592b-4f7d-bd12-14eb4b27cd32",
   "metadata": {},
   "outputs": [],
   "source": [
    "entry = get_seed_pod_from_memory(ReadOnlySharedMemory(memory=memory))"
   ]
  },
  {
   "cell_type": "code",
   "execution_count": 4,
   "id": "a8b4abbf-98b1-4f28-bc9d-fa75a07043d5",
   "metadata": {},
   "outputs": [
    {
     "data": {
      "text/plain": [
       "{'_id': ObjectId('652c7fcb567f0d4dc33e1676'),\n",
       " 'pod': ObjectId('652ad74ddf36ed139525fbe3'),\n",
       " 'date': datetime.datetime(2023, 10, 15, 0, 0),\n",
       " 'sleep_1': 1,\n",
       " 'sleep_2': 1,\n",
       " 'sleep_3': 1,\n",
       " 'exercise_1': 1,\n",
       " 'exercise_2': 1,\n",
       " 'exercise_3': 1,\n",
       " 'eating_1': 1,\n",
       " 'eating_2': 1,\n",
       " 'eating_3': 1,\n",
       " 'drinking_1': 1,\n",
       " 'drinking_2': 1,\n",
       " 'drinking_3': 1,\n",
       " 'stress_1': 1,\n",
       " 'stress_2': 1,\n",
       " 'stress_3': 1}"
      ]
     },
     "execution_count": 4,
     "metadata": {},
     "output_type": "execute_result"
    }
   ],
   "source": [
    "db_entry.to_mongo().to_dict()"
   ]
  },
  {
   "cell_type": "code",
   "execution_count": 2,
   "id": "32783616-c9f9-4cee-8739-21a93b4ba89d",
   "metadata": {},
   "outputs": [
    {
     "name": "stdout",
     "output_type": "stream",
     "text": [
      "get_seeds_diary_entry db_entry=<SeedsDiaryEntry: SeedsDiaryEntry object>\n"
     ]
    },
    {
     "data": {
      "text/plain": [
       "'{\"pod\": \"{\\\\\"sleep_1\\\\\": \\\\\"Be in bed by 9.30 pm\\\\\", \\\\\"sleep_2\\\\\": \\\\\"Turn off my cell phone by 8 pm\\\\\", \\\\\"sleep_3\\\\\": \\\\\"No caffeine after 12 pm\\\\\", \\\\\"exercise_1\\\\\": \\\\\"Walk outside for 10 minutes before 9:30 am\\\\\", \\\\\"exercise_2\\\\\": \\\\\"Do 10 push-ups while the coffee is brewing\\\\\", \\\\\"exercise_3\\\\\": \\\\\"Take the stairs instead of the elevator at work\\\\\", \\\\\"eating_1\\\\\": \\\\\"Eat 50g of protein with every meal\\\\\", \\\\\"eating_2\\\\\": \\\\\"Eat one meal with chopsticks (to slow down eating)\\\\\", \\\\\"eating_3\\\\\": \\\\\"Include a serving of vegetables in each meal\\\\\", \\\\\"drinking_1\\\\\": \\\\\"Drink at least 8 glasses of water a day\\\\\", \\\\\"drinking_2\\\\\": \\\\\"Don\\'t drink out of anything plastic\\\\\", \\\\\"drinking_3\\\\\": \\\\\"Drink fizzy water from 6-8 pm (for booze cravings)\\\\\", \\\\\"stress_1\\\\\": \\\\\"Write down three tiny things I\\'ve been grateful for today\\\\\", \\\\\"stress_2\\\\\": \\\\\"Do the \\'leaves on a stream\\' or \\'open focus\\' exercises\\\\\", \\\\\"stress_3\\\\\": \\\\\"Take 5 minutes each day to meditate or practice deep breathing\\\\\"}\", \"date\": \"2023-10-15T00:00:00\", \"sleep_1\": 1, \"sleep_2\": 1, \"sleep_3\": 1, \"exercise_1\": 1, \"exercise_2\": 1, \"exercise_3\": 1, \"eating_1\": 1, \"eating_2\": 1, \"eating_3\": 1, \"drinking_1\": 1, \"drinking_2\": 1, \"drinking_3\": 1, \"stress_1\": 1, \"stress_2\": 1, \"stress_3\": 1}'"
      ]
     },
     "execution_count": 2,
     "metadata": {},
     "output_type": "execute_result"
    }
   ],
   "source": [
    "get_seeds_diary_entry(None, None, None)"
   ]
  },
  {
   "cell_type": "code",
   "execution_count": 11,
   "id": "39636842-4a3a-447e-857d-f1b0569eda5f",
   "metadata": {},
   "outputs": [
    {
     "data": {
      "text/plain": [
       "<SeedPod: SeedPod object>"
      ]
     },
     "execution_count": 11,
     "metadata": {},
     "output_type": "execute_result"
    }
   ],
   "source": [
    "db_entry.pod"
   ]
  },
  {
   "cell_type": "code",
   "execution_count": 6,
   "id": "d43ee432-f37c-4bff-8918-16c3267d4fe4",
   "metadata": {},
   "outputs": [
    {
     "data": {
      "text/plain": [
       "\u001b[0;31mSignature:\u001b[0m\n",
       "\u001b[0msave_sleep_diary_entry_to_db\u001b[0m\u001b[0;34m(\u001b[0m\u001b[0;34m\u001b[0m\n",
       "\u001b[0;34m\u001b[0m    \u001b[0muser\u001b[0m\u001b[0;34m:\u001b[0m \u001b[0mmongoengine\u001b[0m\u001b[0;34m.\u001b[0m\u001b[0mbase\u001b[0m\u001b[0;34m.\u001b[0m\u001b[0mmetaclasses\u001b[0m\u001b[0;34m.\u001b[0m\u001b[0mUser\u001b[0m\u001b[0;34m,\u001b[0m\u001b[0;34m\u001b[0m\n",
       "\u001b[0;34m\u001b[0m    \u001b[0mentry\u001b[0m\u001b[0;34m:\u001b[0m \u001b[0msleepmate\u001b[0m\u001b[0;34m.\u001b[0m\u001b[0mdiary\u001b[0m\u001b[0;34m.\u001b[0m\u001b[0mSleepDiaryEntry\u001b[0m\u001b[0;34m,\u001b[0m\u001b[0;34m\u001b[0m\n",
       "\u001b[0;34m\u001b[0m\u001b[0;34m)\u001b[0m \u001b[0;34m->\u001b[0m \u001b[0mmongoengine\u001b[0m\u001b[0;34m.\u001b[0m\u001b[0mbase\u001b[0m\u001b[0;34m.\u001b[0m\u001b[0mmetaclasses\u001b[0m\u001b[0;34m.\u001b[0m\u001b[0mSleepDiaryEntry\u001b[0m\u001b[0;34m\u001b[0m\u001b[0;34m\u001b[0m\u001b[0m\n",
       "\u001b[0;31mDocstring:\u001b[0m <no docstring>\n",
       "\u001b[0;31mSource:\u001b[0m   \n",
       "\u001b[0;32mdef\u001b[0m \u001b[0msave_sleep_diary_entry_to_db\u001b[0m\u001b[0;34m(\u001b[0m\u001b[0;34m\u001b[0m\n",
       "\u001b[0;34m\u001b[0m    \u001b[0muser\u001b[0m\u001b[0;34m:\u001b[0m \u001b[0mDBUser\u001b[0m\u001b[0;34m,\u001b[0m \u001b[0mentry\u001b[0m\u001b[0;34m:\u001b[0m \u001b[0mSleepDiaryEntry\u001b[0m\u001b[0;34m\u001b[0m\n",
       "\u001b[0;34m\u001b[0m\u001b[0;34m)\u001b[0m \u001b[0;34m->\u001b[0m \u001b[0mDBSleepDiaryEntry\u001b[0m\u001b[0;34m:\u001b[0m\u001b[0;34m\u001b[0m\n",
       "\u001b[0;34m\u001b[0m    \u001b[0mentry\u001b[0m \u001b[0;34m=\u001b[0m \u001b[0madjust_to_baseline_date\u001b[0m\u001b[0;34m(\u001b[0m\u001b[0mentry\u001b[0m\u001b[0;34m.\u001b[0m\u001b[0mdict\u001b[0m\u001b[0;34m(\u001b[0m\u001b[0;34m)\u001b[0m\u001b[0;34m)\u001b[0m\u001b[0;34m\u001b[0m\n",
       "\u001b[0;34m\u001b[0m    \u001b[0;31m# delete any existing entries for this date\u001b[0m\u001b[0;34m\u001b[0m\n",
       "\u001b[0;34m\u001b[0m    \u001b[0mDBSleepDiaryEntry\u001b[0m\u001b[0;34m.\u001b[0m\u001b[0mobjects\u001b[0m\u001b[0;34m(\u001b[0m\u001b[0muser\u001b[0m\u001b[0;34m=\u001b[0m\u001b[0muser\u001b[0m\u001b[0;34m,\u001b[0m \u001b[0mdate\u001b[0m\u001b[0;34m=\u001b[0m\u001b[0mentry\u001b[0m\u001b[0;34m[\u001b[0m\u001b[0;34m\"date\"\u001b[0m\u001b[0;34m]\u001b[0m\u001b[0;34m)\u001b[0m\u001b[0;34m.\u001b[0m\u001b[0mdelete\u001b[0m\u001b[0;34m(\u001b[0m\u001b[0;34m)\u001b[0m\u001b[0;34m\u001b[0m\n",
       "\u001b[0;34m\u001b[0m    \u001b[0;31m# save the new entry\u001b[0m\u001b[0;34m\u001b[0m\n",
       "\u001b[0;34m\u001b[0m    \u001b[0;32mreturn\u001b[0m \u001b[0mDBSleepDiaryEntry\u001b[0m\u001b[0;34m(\u001b[0m\u001b[0;34m**\u001b[0m\u001b[0;34m{\u001b[0m\u001b[0;34m\"user\"\u001b[0m\u001b[0;34m:\u001b[0m \u001b[0muser\u001b[0m\u001b[0;34m,\u001b[0m \u001b[0;34m**\u001b[0m\u001b[0mentry\u001b[0m\u001b[0;34m}\u001b[0m\u001b[0;34m)\u001b[0m\u001b[0;34m.\u001b[0m\u001b[0msave\u001b[0m\u001b[0;34m(\u001b[0m\u001b[0;34m)\u001b[0m\u001b[0;34m\u001b[0m\u001b[0;34m\u001b[0m\u001b[0m\n",
       "\u001b[0;31mFile:\u001b[0m      ~/Documents/sleepmate/sleepmate/diary.py\n",
       "\u001b[0;31mType:\u001b[0m      function"
      ]
     },
     "metadata": {},
     "output_type": "display_data"
    }
   ],
   "source": [
    "save_sleep_diary_entry_to_db??"
   ]
  },
  {
   "cell_type": "code",
   "execution_count": 7,
   "id": "e29b3c91-fe93-4a2e-a472-92fd95e685d2",
   "metadata": {},
   "outputs": [
    {
     "data": {
      "text/plain": [
       "<SeedPod: SeedPod object>"
      ]
     },
     "execution_count": 7,
     "metadata": {},
     "output_type": "execute_result"
    }
   ],
   "source": [
    "save_seed_pod_to_db(get_current_user(), entry)"
   ]
  },
  {
   "cell_type": "code",
   "execution_count": 8,
   "id": "da8e7ed1-8a71-45f5-aa33-3f54b3fe7fba",
   "metadata": {},
   "outputs": [
    {
     "data": {
      "text/plain": [
       "SON([('_id', ObjectId('652ad1e25b1a9e51cb0d4463')), ('user', ObjectId('6526d86e6015be5b3434ac13')), ('sleep_1', 'Be in bed by 9.30 pm'), ('sleep_2', 'Turn off my cell phone by 8 pm'), ('sleep_3', 'No caffeine after 12 pm'), ('exercise_1', 'Walk outside for 10 ten minutes before 9:30 am'), ('exercise_2', 'Do 10 push-ups while the coffee is brewing'), ('exercise_3', 'Take the stairs instead of the elevator'), ('eating_1', 'Eat one meal with chopsticks (to slow down eating)'), ('eating_2', 'Eat 50g of protein with every meal'), ('eating_3', 'Include a serving of vegetables in each meal'), ('drinking_1', \"Don't drink out of anything plastic\"), ('drinking_2', 'Drink fizzy water from 6-8 pm (for booze cravings)'), ('drinking_3', 'Drink at least 2 liters of water daily'), ('stress_1', \"Write down three tiny things I've been grateful for today\"), ('stress_2', \"Do the 'leaves on a stream' or 'open focus' exercises\"), ('stress_3', 'Take 5 minutes each day to meditate or practice mindfulness')])"
      ]
     },
     "execution_count": 8,
     "metadata": {},
     "output_type": "execute_result"
    }
   ],
   "source": [
    "db_seed_pod = _; db_seed_pod.to_mongo()"
   ]
  },
  {
   "cell_type": "code",
   "execution_count": 7,
   "id": "d8dbc837-2c2a-4e83-9ac5-b5b29571b794",
   "metadata": {},
   "outputs": [],
   "source": [
    "db_seed_pod = DBSeedPod(sleep_1=\"dim the lights when it gets dark out\", user=db_user)"
   ]
  },
  {
   "cell_type": "code",
   "execution_count": 8,
   "id": "f6fea4a1-4038-4191-a5d9-b6d7bfb9baa7",
   "metadata": {},
   "outputs": [
    {
     "data": {
      "text/plain": [
       "<SeedPod: SeedPod object>"
      ]
     },
     "execution_count": 8,
     "metadata": {},
     "output_type": "execute_result"
    }
   ],
   "source": [
    "db_seed_pod.save()"
   ]
  },
  {
   "cell_type": "code",
   "execution_count": 11,
   "id": "3cc4a581-3ec3-4fc5-89dd-fe19656df419",
   "metadata": {},
   "outputs": [
    {
     "data": {
      "text/plain": [
       "SON([('_id', ObjectId('652ad74ddf36ed139525fbe3')), ('user', ObjectId('6526d86e6015be5b3434ac13')), ('sleep_1', 'Be in bed by 9.30 pm'), ('sleep_2', 'Turn off my cell phone by 8 pm'), ('sleep_3', 'No caffeine after 12 pm'), ('exercise_1', 'Walk outside for 10 minutes before 9:30 am'), ('exercise_2', 'Do 10 push-ups while the coffee is brewing'), ('exercise_3', 'Take the stairs instead of the elevator at work'), ('eating_1', 'Eat 50g of protein with every meal'), ('eating_2', 'Eat one meal with chopsticks (to slow down eating)'), ('eating_3', 'Include a serving of vegetables in each meal'), ('drinking_1', 'Drink at least 8 glasses of water a day'), ('drinking_2', \"Don't drink out of anything plastic\"), ('drinking_3', 'Drink fizzy water from 6-8 pm (for booze cravings)'), ('stress_1', \"Write down three tiny things I've been grateful for today\"), ('stress_2', \"Do the 'leaves on a stream' or 'open focus' exercises\"), ('stress_3', 'Take 5 minutes each day to meditate or practice deep breathing')])"
      ]
     },
     "execution_count": 11,
     "metadata": {},
     "output_type": "execute_result"
    }
   ],
   "source": [
    "DBSeedPod.objects().order_by('-id').first().to_mongo()"
   ]
  },
  {
   "cell_type": "code",
   "execution_count": 10,
   "id": "2c3dc0a1-54ca-4140-a41b-03d68d546f2b",
   "metadata": {},
   "outputs": [
    {
     "data": {
      "text/plain": [
       "SON([('_id', ObjectId('652ac048fb26c915b1cc9e8d')), ('user', ObjectId('6526d86e6015be5b3434ac13')), ('sleep_1', 'dim the lights when it gets dark out'), ('sleep_2', ''), ('sleep_3', ''), ('exercise_1', ''), ('exercise_2', ''), ('exercise_3', ''), ('eating_1', ''), ('eating_2', ''), ('eating_3', ''), ('drinking_1', ''), ('drinking_2', ''), ('drinking_3', ''), ('stress_1', ''), ('stress_2', ''), ('stress_3', '')])"
      ]
     },
     "execution_count": 10,
     "metadata": {},
     "output_type": "execute_result"
    }
   ],
   "source": [
    "db_seed_pod.to_mongo()"
   ]
  },
  {
   "cell_type": "code",
   "execution_count": 2,
   "id": "1957cabe-bdf1-424c-8771-b7c90c2c4315",
   "metadata": {},
   "outputs": [],
   "source": [
    "DBSeeds.objects(pod=get_current_seed_pod()).order_by(\"-id\").first()"
   ]
  },
  {
   "cell_type": "code",
   "execution_count": 15,
   "id": "7b4e548f-ef93-4c74-884a-1d71f0bb88bd",
   "metadata": {},
   "outputs": [],
   "source": [
    "db_seeds = DBSeeds(pod=db_seed_pod, date=\"Oct 14\", sleep_1=1)"
   ]
  },
  {
   "cell_type": "code",
   "execution_count": 16,
   "id": "45340cb9-6e31-4bab-9c5f-d0f0c3d61c68",
   "metadata": {},
   "outputs": [
    {
     "data": {
      "text/plain": [
       "<Seeds: Seeds object>"
      ]
     },
     "execution_count": 16,
     "metadata": {},
     "output_type": "execute_result"
    }
   ],
   "source": [
    "db_seeds.save()"
   ]
  },
  {
   "cell_type": "code",
   "execution_count": 17,
   "id": "17b7ae2d-2fdd-4cdd-ba8d-0f8a5b647d60",
   "metadata": {},
   "outputs": [
    {
     "data": {
      "text/plain": [
       "SON([('_id', ObjectId('652ac0cefb26c915b1cc9e8e')), ('pod', ObjectId('652ac048fb26c915b1cc9e8d')), ('date', datetime.datetime(2023, 10, 14, 0, 0)), ('sleep_1', 1), ('sleep_2', 0), ('sleep_3', 0), ('exercise_1', 0), ('exercise_2', 0), ('exercise_3', 0), ('eating_1', 0), ('eating_2', 0), ('eating_3', 0), ('drinking_1', 0), ('drinking_2', 0), ('drinking_3', 0), ('stress_1', 0), ('stress_2', 0), ('stress_3', 0)])"
      ]
     },
     "execution_count": 17,
     "metadata": {},
     "output_type": "execute_result"
    }
   ],
   "source": [
    "db_seeds.to_mongo()"
   ]
  },
  {
   "cell_type": "code",
   "execution_count": null,
   "id": "5fbb6e87-4bc2-443b-a712-7fd4987b56b0",
   "metadata": {},
   "outputs": [],
   "source": []
  },
  {
   "cell_type": "code",
   "execution_count": null,
   "id": "a0d9cda4-43c9-4315-a94b-4c042d35410d",
   "metadata": {},
   "outputs": [],
   "source": []
  },
  {
   "cell_type": "code",
   "execution_count": 44,
   "id": "aa26e33b-b796-42ef-8ad6-2e45c9362176",
   "metadata": {},
   "outputs": [],
   "source": [
    "DBSeed = pydantic_to_mongoengine(Seed)"
   ]
  },
  {
   "cell_type": "code",
   "execution_count": 51,
   "id": "96f941a2-8545-4363-8ab5-f8a7151269ca",
   "metadata": {},
   "outputs": [],
   "source": [
    "db_entry = DBSeed(category=\"Sausage\", seed=\"dim lights when it gets dark out\")"
   ]
  },
  {
   "cell_type": "code",
   "execution_count": 52,
   "id": "0cb5e23b-28db-43d1-ad1a-8819845ad8a5",
   "metadata": {},
   "outputs": [
    {
     "ename": "ValidationError",
     "evalue": "ValidationError (Seed:None) (Value must be one of ['Sleep', 'Exercise', 'Eating', 'Drinking', 'Stress']: ['category'])",
     "output_type": "error",
     "traceback": [
      "\u001b[0;31m---------------------------------------------------------------------------\u001b[0m",
      "\u001b[0;31mValidationError\u001b[0m                           Traceback (most recent call last)",
      "Cell \u001b[0;32mIn[52], line 1\u001b[0m\n\u001b[0;32m----> 1\u001b[0m \u001b[43mdb_entry\u001b[49m\u001b[38;5;241;43m.\u001b[39;49m\u001b[43msave\u001b[49m\u001b[43m(\u001b[49m\u001b[43m)\u001b[49m\n",
      "File \u001b[0;32m~/Library/Caches/pypoetry/virtualenvs/sleepmate-kok1GflL-py3.11/lib/python3.11/site-packages/mongoengine/document.py:399\u001b[0m, in \u001b[0;36mDocument.save\u001b[0;34m(self, force_insert, validate, clean, write_concern, cascade, cascade_kwargs, _refs, save_condition, signal_kwargs, **kwargs)\u001b[0m\n\u001b[1;32m    396\u001b[0m signals\u001b[38;5;241m.\u001b[39mpre_save\u001b[38;5;241m.\u001b[39msend(\u001b[38;5;28mself\u001b[39m\u001b[38;5;241m.\u001b[39m\u001b[38;5;18m__class__\u001b[39m, document\u001b[38;5;241m=\u001b[39m\u001b[38;5;28mself\u001b[39m, \u001b[38;5;241m*\u001b[39m\u001b[38;5;241m*\u001b[39msignal_kwargs)\n\u001b[1;32m    398\u001b[0m \u001b[38;5;28;01mif\u001b[39;00m validate:\n\u001b[0;32m--> 399\u001b[0m     \u001b[38;5;28;43mself\u001b[39;49m\u001b[38;5;241;43m.\u001b[39;49m\u001b[43mvalidate\u001b[49m\u001b[43m(\u001b[49m\u001b[43mclean\u001b[49m\u001b[38;5;241;43m=\u001b[39;49m\u001b[43mclean\u001b[49m\u001b[43m)\u001b[49m\n\u001b[1;32m    401\u001b[0m \u001b[38;5;28;01mif\u001b[39;00m write_concern \u001b[38;5;129;01mis\u001b[39;00m \u001b[38;5;28;01mNone\u001b[39;00m:\n\u001b[1;32m    402\u001b[0m     write_concern \u001b[38;5;241m=\u001b[39m {}\n",
      "File \u001b[0;32m~/Library/Caches/pypoetry/virtualenvs/sleepmate-kok1GflL-py3.11/lib/python3.11/site-packages/mongoengine/base/document.py:438\u001b[0m, in \u001b[0;36mBaseDocument.validate\u001b[0;34m(self, clean)\u001b[0m\n\u001b[1;32m    436\u001b[0m     pk \u001b[38;5;241m=\u001b[39m \u001b[38;5;28mself\u001b[39m\u001b[38;5;241m.\u001b[39m_instance\u001b[38;5;241m.\u001b[39mpk\n\u001b[1;32m    437\u001b[0m message \u001b[38;5;241m=\u001b[39m \u001b[38;5;124mf\u001b[39m\u001b[38;5;124m\"\u001b[39m\u001b[38;5;124mValidationError (\u001b[39m\u001b[38;5;132;01m{\u001b[39;00m\u001b[38;5;28mself\u001b[39m\u001b[38;5;241m.\u001b[39m_class_name\u001b[38;5;132;01m}\u001b[39;00m\u001b[38;5;124m:\u001b[39m\u001b[38;5;132;01m{\u001b[39;00mpk\u001b[38;5;132;01m}\u001b[39;00m\u001b[38;5;124m) \u001b[39m\u001b[38;5;124m\"\u001b[39m\n\u001b[0;32m--> 438\u001b[0m \u001b[38;5;28;01mraise\u001b[39;00m ValidationError(message, errors\u001b[38;5;241m=\u001b[39merrors)\n",
      "\u001b[0;31mValidationError\u001b[0m: ValidationError (Seed:None) (Value must be one of ['Sleep', 'Exercise', 'Eating', 'Drinking', 'Stress']: ['category'])"
     ]
    },
    {
     "name": "stdout",
     "output_type": "stream",
     "text": [
      "> \u001b[0;32m/Users/cck197/Library/Caches/pypoetry/virtualenvs/sleepmate-kok1GflL-py3.11/lib/python3.11/site-packages/mongoengine/base/document.py\u001b[0m(438)\u001b[0;36mvalidate\u001b[0;34m()\u001b[0m\n",
      "\u001b[0;32m    436 \u001b[0;31m                \u001b[0mpk\u001b[0m \u001b[0;34m=\u001b[0m \u001b[0mself\u001b[0m\u001b[0;34m.\u001b[0m\u001b[0m_instance\u001b[0m\u001b[0;34m.\u001b[0m\u001b[0mpk\u001b[0m\u001b[0;34m\u001b[0m\u001b[0;34m\u001b[0m\u001b[0m\n",
      "\u001b[0m\u001b[0;32m    437 \u001b[0;31m            \u001b[0mmessage\u001b[0m \u001b[0;34m=\u001b[0m \u001b[0;34mf\"ValidationError ({self._class_name}:{pk}) \"\u001b[0m\u001b[0;34m\u001b[0m\u001b[0;34m\u001b[0m\u001b[0m\n",
      "\u001b[0m\u001b[0;32m--> 438 \u001b[0;31m            \u001b[0;32mraise\u001b[0m \u001b[0mValidationError\u001b[0m\u001b[0;34m(\u001b[0m\u001b[0mmessage\u001b[0m\u001b[0;34m,\u001b[0m \u001b[0merrors\u001b[0m\u001b[0;34m=\u001b[0m\u001b[0merrors\u001b[0m\u001b[0;34m)\u001b[0m\u001b[0;34m\u001b[0m\u001b[0;34m\u001b[0m\u001b[0m\n",
      "\u001b[0m\u001b[0;32m    439 \u001b[0;31m\u001b[0;34m\u001b[0m\u001b[0m\n",
      "\u001b[0m\u001b[0;32m    440 \u001b[0;31m    \u001b[0;32mdef\u001b[0m \u001b[0mto_json\u001b[0m\u001b[0;34m(\u001b[0m\u001b[0mself\u001b[0m\u001b[0;34m,\u001b[0m \u001b[0;34m*\u001b[0m\u001b[0margs\u001b[0m\u001b[0;34m,\u001b[0m \u001b[0;34m**\u001b[0m\u001b[0mkwargs\u001b[0m\u001b[0;34m)\u001b[0m\u001b[0;34m:\u001b[0m\u001b[0;34m\u001b[0m\u001b[0;34m\u001b[0m\u001b[0m\n",
      "\u001b[0m\n"
     ]
    },
    {
     "name": "stdin",
     "output_type": "stream",
     "text": [
      "ipdb>  exit\n"
     ]
    }
   ],
   "source": [
    "db_entry.save()"
   ]
  },
  {
   "cell_type": "code",
   "execution_count": 50,
   "id": "4bf50154-0983-486a-ad51-43bb577f93ad",
   "metadata": {},
   "outputs": [
    {
     "data": {
      "text/plain": [
       "'{\"_id\": {\"$oid\": \"652ab89a5028dde8398b00fd\"}, \"category\": \"Sleep\", \"seed\": \"dim lights when it gets dark out\"}'"
      ]
     },
     "execution_count": 50,
     "metadata": {},
     "output_type": "execute_result"
    }
   ],
   "source": [
    "db_entry.to_json()"
   ]
  },
  {
   "cell_type": "code",
   "execution_count": 14,
   "id": "b32f2ada-08ec-43f6-b14d-fe769a72c097",
   "metadata": {},
   "outputs": [
    {
     "data": {
      "text/plain": [
       "['sleep', 'exercise', 'eating', 'drinking', 'stress']"
      ]
     },
     "execution_count": 14,
     "metadata": {},
     "output_type": "execute_result"
    }
   ],
   "source": [
    "list(Category.__members__.keys())"
   ]
  },
  {
   "cell_type": "code",
   "execution_count": 34,
   "id": "d653a282-6cfb-4e3e-882b-218e460acb42",
   "metadata": {},
   "outputs": [
    {
     "data": {
      "text/plain": [
       "type"
      ]
     },
     "execution_count": 34,
     "metadata": {},
     "output_type": "execute_result"
    }
   ],
   "source": [
    "type(datetime)"
   ]
  },
  {
   "cell_type": "markdown",
   "id": "9fec286b-e7b7-47e6-b714-3594e39da71b",
   "metadata": {
    "jp-MarkdownHeadingCollapsed": true
   },
   "source": [
    "# Meet and Greet"
   ]
  },
  {
   "cell_type": "code",
   "execution_count": 3,
   "id": "4349b0f8-2108-4266-b1c6-2da1fcd9ee34",
   "metadata": {},
   "outputs": [
    {
     "name": "stdout",
     "output_type": "stream",
     "text": [
      "load_memory filename='/Users/cck197/Downloads/virtual_greg/memory.pkl'\n"
     ]
    }
   ],
   "source": [
    "memory = X.load_memory()"
   ]
  },
  {
   "cell_type": "code",
   "execution_count": 9,
   "id": "d8884e82-c3e7-41db-a481-76c57d3b6493",
   "metadata": {},
   "outputs": [],
   "source": [
    "memory.save_context({\"input\": f\"my name is {user.name}\"}, {\"output\": f\"hi {user.name}\"})"
   ]
  },
  {
   "cell_type": "code",
   "execution_count": 5,
   "id": "8781cdb4-2995-4e6d-955e-aa78176c51eb",
   "metadata": {},
   "outputs": [],
   "source": [
    "memory.save_context({\"input\": f\"my email is {user.email}\"}, {\"output\": f\"got it\"})"
   ]
  },
  {
   "cell_type": "code",
   "execution_count": 37,
   "id": "d28b79b7-99aa-4bd2-93f2-619bf6f53779",
   "metadata": {},
   "outputs": [
    {
     "data": {
      "text/plain": [
       "{'chat_history': [HumanMessage(content='my name is Chris'),\n",
       "  AIMessage(content='hi Chris'),\n",
       "  HumanMessage(content='hey'),\n",
       "  AIMessage(content='Hi Chris! How can I assist you today?'),\n",
       "  HumanMessage(content='Tell me a joke.'),\n",
       "  AIMessage(content='\\n{\"setup\": \"Why did the chicken cross the road?\", \"punchline\": \"To get to the other side!\"}'),\n",
       "  HumanMessage(content=\"what's my name?\"),\n",
       "  AIMessage(content='\\n{\"setup\": \"What\\'s my name?\", \"punchline\": \"\"}'),\n",
       "  HumanMessage(content=\"what's my name?\"),\n",
       "  AIMessage(content='\\n{\"setup\": \"What\\'s my name?\", \"punchline\": \"\"}'),\n",
       "  HumanMessage(content=\"what's my name?\"),\n",
       "  AIMessage(content='\\n{\"name\": \"Your Name\"}'),\n",
       "  HumanMessage(content=\"what's the human's name?\"),\n",
       "  AIMessage(content='\\n{\"name\": \"John\"}'),\n",
       "  HumanMessage(content=\"what's the human's name?\"),\n",
       "  AIMessage(content='\\n\\n{\"name\": \"Chris\"}'),\n",
       "  HumanMessage(content='my email is chris@nourishbalancethrive.com'),\n",
       "  AIMessage(content='got it')]}"
      ]
     },
     "execution_count": 37,
     "metadata": {},
     "output_type": "execute_result"
    }
   ],
   "source": [
    "memory.load_memory_variables({})"
   ]
  },
  {
   "cell_type": "code",
   "execution_count": 59,
   "id": "9f15c6f2-b425-4ba5-a043-f6dcc2f284ba",
   "metadata": {},
   "outputs": [
    {
     "name": "stdout",
     "output_type": "stream",
     "text": [
      "get_agent len(tools)=10\n"
     ]
    },
    {
     "data": {
      "text/markdown": [
       "Hello, Chris! How are you feeling today?"
      ],
      "text/plain": [
       "<IPython.core.display.Markdown object>"
      ]
     },
     "metadata": {},
     "output_type": "display_data"
    }
   ],
   "source": [
    "x = X(goals[\"diary_probe\"], memory=memory);"
   ]
  },
  {
   "cell_type": "markdown",
   "id": "3e3e5381-600d-4a59-8f65-7997ed097ce8",
   "metadata": {
    "jp-MarkdownHeadingCollapsed": true
   },
   "source": [
    "# Parsing"
   ]
  },
  {
   "cell_type": "code",
   "execution_count": 5,
   "id": "700ac42e-c522-4a0a-8420-3fb513adc9a7",
   "metadata": {},
   "outputs": [],
   "source": [
    "from typing import List\n",
    "\n",
    "from langchain.llms import OpenAI\n",
    "from langchain.output_parsers import PydanticOutputParser\n",
    "from langchain.prompts import PromptTemplate\n",
    "from langchain.pydantic_v1 import BaseModel, Field, validator"
   ]
  },
  {
   "cell_type": "code",
   "execution_count": 6,
   "id": "895bbb4e-0bc6-480b-ac3b-5b713145c1fc",
   "metadata": {},
   "outputs": [],
   "source": [
    "model_name = \"text-davinci-003\"\n",
    "temperature = 0.0\n",
    "model = OpenAI(model_name=model_name, temperature=temperature)"
   ]
  },
  {
   "cell_type": "code",
   "execution_count": 7,
   "id": "b4b8bdbf-7a95-46f9-a834-93feb494b3cb",
   "metadata": {},
   "outputs": [
    {
     "data": {
      "text/plain": [
       "Joke(setup='Why did the chicken cross the road?', punchline='To get to the other side!')"
      ]
     },
     "execution_count": 7,
     "metadata": {},
     "output_type": "execute_result"
    }
   ],
   "source": [
    "# Define your desired data structure.\n",
    "class Joke(BaseModel):\n",
    "    setup: str = Field(description=\"question to set up a joke\")\n",
    "    punchline: str = Field(description=\"answer to resolve the joke\")\n",
    "\n",
    "    # You can add custom validation logic easily with Pydantic.\n",
    "    @validator(\"setup\")\n",
    "    def question_ends_with_question_mark(cls, field):\n",
    "        if field[-1] != \"?\":\n",
    "            raise ValueError(\"Badly formed question!\")\n",
    "        return field\n",
    "\n",
    "\n",
    "# And a query intented to prompt a language model to populate the data structure.\n",
    "joke_query = \"Tell me a joke.\"\n",
    "\n",
    "# Set up a parser + inject instructions into the prompt template.\n",
    "parser = PydanticOutputParser(pydantic_object=Joke)\n",
    "\n",
    "prompt = PromptTemplate(\n",
    "    template=\"Answer the user query.\\n{format_instructions}\\n{query}\\n\",\n",
    "    input_variables=[\"query\"],\n",
    "    partial_variables={\"format_instructions\": parser.get_format_instructions()},\n",
    ")\n",
    "\n",
    "_input = prompt.format_prompt(query=joke_query)\n",
    "\n",
    "output = model(_input.to_string())\n",
    "\n",
    "parser.parse(output)"
   ]
  },
  {
   "cell_type": "code",
   "execution_count": 18,
   "id": "c8f754da-dbce-4660-80cd-722f0b127161",
   "metadata": {},
   "outputs": [
    {
     "data": {
      "text/plain": [
       "'Answer the user query.\\nThe output should be formatted as a JSON instance that conforms to the JSON schema below.\\n\\nAs an example, for the schema {\"properties\": {\"foo\": {\"title\": \"Foo\", \"description\": \"a list of strings\", \"type\": \"array\", \"items\": {\"type\": \"string\"}}}, \"required\": [\"foo\"]}\\nthe object {\"foo\": [\"bar\", \"baz\"]} is a well-formatted instance of the schema. The object {\"properties\": {\"foo\": [\"bar\", \"baz\"]}} is not well-formatted.\\n\\nHere is the output schema:\\n```\\n{\"properties\": {\"setup\": {\"title\": \"Setup\", \"description\": \"question to set up a joke\", \"type\": \"string\"}, \"punchline\": {\"title\": \"Punchline\", \"description\": \"answer to resolve the joke\", \"type\": \"string\"}}, \"required\": [\"setup\", \"punchline\"]}\\n```\\nTell me a joke.\\n'"
      ]
     },
     "execution_count": 18,
     "metadata": {},
     "output_type": "execute_result"
    }
   ],
   "source": [
    "_input.to_string()"
   ]
  },
  {
   "cell_type": "markdown",
   "id": "d2a8df0b-3539-45d0-93ee-80336c9a5a36",
   "metadata": {
    "jp-MarkdownHeadingCollapsed": true
   },
   "source": [
    "# Using"
   ]
  },
  {
   "cell_type": "code",
   "execution_count": 38,
   "id": "8c54ad54-4914-4ed4-9be2-fcaa8664426b",
   "metadata": {},
   "outputs": [],
   "source": [
    "# Define your desired data structure.\n",
    "class UserParser(BaseModel):\n",
    "    name: str = Field(description=\"name\")\n",
    "    email: str = Field(description=\"email address\")"
   ]
  },
  {
   "cell_type": "code",
   "execution_count": 39,
   "id": "0ecd7ba7-ecf1-4415-87d9-90a7999257a1",
   "metadata": {},
   "outputs": [],
   "source": [
    "# Set up a parser + inject instructions into the prompt template.\n",
    "parser = PydanticOutputParser(pydantic_object=UserParser)\n",
    "\n",
    "prompt = PromptTemplate(\n",
    "    template=\"Answer the user query.\\n{format_instructions}\\n{query}\\nPrevious conversation:{chat_history}\",\n",
    "    input_variables=[\"query\", \"chat_history\"],\n",
    "    partial_variables={\"format_instructions\": parser.get_format_instructions()},\n",
    ")"
   ]
  },
  {
   "cell_type": "code",
   "execution_count": 40,
   "id": "b8332376-f142-4450-b864-59432f15e054",
   "metadata": {},
   "outputs": [],
   "source": [
    "from langchain.llms import OpenAI\n",
    "from langchain.prompts import PromptTemplate\n",
    "from langchain.chains import LLMChain\n",
    "from langchain.memory import ConversationBufferMemory"
   ]
  },
  {
   "cell_type": "code",
   "execution_count": 41,
   "id": "9eda10ed-936c-44be-aacb-5e462ce02041",
   "metadata": {},
   "outputs": [],
   "source": [
    "chain = LLMChain(\n",
    "    llm=model,\n",
    "    prompt=prompt,\n",
    "    verbose=True,\n",
    "    memory=memory\n",
    ")"
   ]
  },
  {
   "cell_type": "code",
   "execution_count": 55,
   "id": "8427aff3-82c9-4687-b7f7-e8d9a57c78a6",
   "metadata": {},
   "outputs": [],
   "source": [
    "user_query = \"what are the human's details\""
   ]
  },
  {
   "cell_type": "code",
   "execution_count": 56,
   "id": "34e5a109-0278-43c6-aee4-4b2ced573ef5",
   "metadata": {
    "scrolled": true
   },
   "outputs": [
    {
     "name": "stdout",
     "output_type": "stream",
     "text": [
      "\n",
      "\n",
      "\u001b[1m> Entering new LLMChain chain...\u001b[0m\n",
      "Prompt after formatting:\n",
      "\u001b[32;1m\u001b[1;3mAnswer the user query.\n",
      "The output should be formatted as a JSON instance that conforms to the JSON schema below.\n",
      "\n",
      "As an example, for the schema {\"properties\": {\"foo\": {\"title\": \"Foo\", \"description\": \"a list of strings\", \"type\": \"array\", \"items\": {\"type\": \"string\"}}}, \"required\": [\"foo\"]}\n",
      "the object {\"foo\": [\"bar\", \"baz\"]} is a well-formatted instance of the schema. The object {\"properties\": {\"foo\": [\"bar\", \"baz\"]}} is not well-formatted.\n",
      "\n",
      "Here is the output schema:\n",
      "```\n",
      "{\"properties\": {\"name\": {\"title\": \"Name\", \"description\": \"name\", \"type\": \"string\"}, \"email\": {\"title\": \"Email\", \"description\": \"email address\", \"type\": \"string\"}}, \"required\": [\"name\", \"email\"]}\n",
      "```\n",
      "what are the human's details\n",
      "Previous conversation:[HumanMessage(content='my name is Chris'), AIMessage(content='hi Chris'), HumanMessage(content='hey'), AIMessage(content='Hi Chris! How can I assist you today?'), HumanMessage(content='Tell me a joke.'), AIMessage(content='\\n{\"setup\": \"Why did the chicken cross the road?\", \"punchline\": \"To get to the other side!\"}'), HumanMessage(content=\"what's my name?\"), AIMessage(content='\\n{\"setup\": \"What\\'s my name?\", \"punchline\": \"\"}'), HumanMessage(content=\"what's my name?\"), AIMessage(content='\\n{\"setup\": \"What\\'s my name?\", \"punchline\": \"\"}'), HumanMessage(content=\"what's my name?\"), AIMessage(content='\\n{\"name\": \"Your Name\"}'), HumanMessage(content=\"what's the human's name?\"), AIMessage(content='\\n{\"name\": \"John\"}'), HumanMessage(content=\"what's the human's name?\"), AIMessage(content='\\n\\n{\"name\": \"Chris\"}'), HumanMessage(content='my email is chris@nourishbalancethrive.com'), AIMessage(content='got it'), HumanMessage(content=\"what are the human's name and email?\"), AIMessage(content='\\n\\n{\"name\": \"Chris\", \"email\": \"chris@nourishbalancethrive.com\"}')]\u001b[0m\n",
      "\n",
      "\u001b[1m> Finished chain.\u001b[0m\n"
     ]
    },
    {
     "data": {
      "text/plain": [
       "{'query': \"what are the human's details\",\n",
       " 'chat_history': [HumanMessage(content='my name is Chris'),\n",
       "  AIMessage(content='hi Chris'),\n",
       "  HumanMessage(content='hey'),\n",
       "  AIMessage(content='Hi Chris! How can I assist you today?'),\n",
       "  HumanMessage(content='Tell me a joke.'),\n",
       "  AIMessage(content='\\n{\"setup\": \"Why did the chicken cross the road?\", \"punchline\": \"To get to the other side!\"}'),\n",
       "  HumanMessage(content=\"what's my name?\"),\n",
       "  AIMessage(content='\\n{\"setup\": \"What\\'s my name?\", \"punchline\": \"\"}'),\n",
       "  HumanMessage(content=\"what's my name?\"),\n",
       "  AIMessage(content='\\n{\"setup\": \"What\\'s my name?\", \"punchline\": \"\"}'),\n",
       "  HumanMessage(content=\"what's my name?\"),\n",
       "  AIMessage(content='\\n{\"name\": \"Your Name\"}'),\n",
       "  HumanMessage(content=\"what's the human's name?\"),\n",
       "  AIMessage(content='\\n{\"name\": \"John\"}'),\n",
       "  HumanMessage(content=\"what's the human's name?\"),\n",
       "  AIMessage(content='\\n\\n{\"name\": \"Chris\"}'),\n",
       "  HumanMessage(content='my email is chris@nourishbalancethrive.com'),\n",
       "  AIMessage(content='got it'),\n",
       "  HumanMessage(content=\"what are the human's name and email?\"),\n",
       "  AIMessage(content='\\n\\n{\"name\": \"Chris\", \"email\": \"chris@nourishbalancethrive.com\"}')],\n",
       " 'text': '\\n\\nOutput: {\"name\": \"Chris\", \"email\": \"chris@nourishbalancethrive.com\"}'}"
      ]
     },
     "execution_count": 56,
     "metadata": {},
     "output_type": "execute_result"
    }
   ],
   "source": [
    "output = chain({\"query\": user_query}); output"
   ]
  },
  {
   "cell_type": "code",
   "execution_count": 57,
   "id": "0bdb20d4-6aed-4094-9cf8-d2bc8cbfe522",
   "metadata": {},
   "outputs": [
    {
     "data": {
      "text/plain": [
       "UserParser(name='Chris', email='chris@nourishbalancethrive.com')"
      ]
     },
     "execution_count": 57,
     "metadata": {},
     "output_type": "execute_result"
    }
   ],
   "source": [
    "parser.parse(output[\"text\"])"
   ]
  },
  {
   "cell_type": "code",
   "execution_count": 46,
   "id": "de067672-23fc-40ce-9763-92abfaadcfaf",
   "metadata": {},
   "outputs": [
    {
     "name": "stdout",
     "output_type": "stream",
     "text": [
      "\n",
      "\n",
      "\u001b[1m> Entering new LLMChain chain...\u001b[0m\n",
      "Prompt after formatting:\n",
      "\u001b[32;1m\u001b[1;3mAnswer the user query.\n",
      "The output should be formatted as a JSON instance that conforms to the JSON schema below.\n",
      "\n",
      "As an example, for the schema {\"properties\": {\"foo\": {\"title\": \"Foo\", \"description\": \"a list of strings\", \"type\": \"array\", \"items\": {\"type\": \"string\"}}}, \"required\": [\"foo\"]}\n",
      "the object {\"foo\": [\"bar\", \"baz\"]} is a well-formatted instance of the schema. The object {\"properties\": {\"foo\": [\"bar\", \"baz\"]}} is not well-formatted.\n",
      "\n",
      "Here is the output schema:\n",
      "```\n",
      "{\"properties\": {\"name\": {\"title\": \"Name\", \"description\": \"name\", \"type\": \"string\"}, \"email\": {\"title\": \"Email\", \"description\": \"email address\", \"type\": \"string\"}}, \"required\": [\"name\", \"email\"]}\n",
      "```\n",
      "what are the human's name and email?\n",
      "Previous conversation:[HumanMessage(content='my name is Chris'), AIMessage(content='hi Chris'), HumanMessage(content='hey'), AIMessage(content='Hi Chris! How can I assist you today?'), HumanMessage(content='Tell me a joke.'), AIMessage(content='\\n{\"setup\": \"Why did the chicken cross the road?\", \"punchline\": \"To get to the other side!\"}'), HumanMessage(content=\"what's my name?\"), AIMessage(content='\\n{\"setup\": \"What\\'s my name?\", \"punchline\": \"\"}'), HumanMessage(content=\"what's my name?\"), AIMessage(content='\\n{\"setup\": \"What\\'s my name?\", \"punchline\": \"\"}'), HumanMessage(content=\"what's my name?\"), AIMessage(content='\\n{\"name\": \"Your Name\"}'), HumanMessage(content=\"what's the human's name?\"), AIMessage(content='\\n{\"name\": \"John\"}'), HumanMessage(content=\"what's the human's name?\"), AIMessage(content='\\n\\n{\"name\": \"Chris\"}'), HumanMessage(content='my email is chris@nourishbalancethrive.com'), AIMessage(content='got it'), HumanMessage(content=\"what are the human's name and email?\"), AIMessage(content='\\n\\n{\"name\": \"Chris\", \"email\": \"chris@nourishbalancethrive.com\"}')]\u001b[0m\n",
      "\n",
      "\u001b[1m> Finished chain.\u001b[0m\n"
     ]
    },
    {
     "data": {
      "text/plain": [
       "UserParser(name='Chris', email='chris@nourishbalancethrive.com')"
      ]
     },
     "execution_count": 46,
     "metadata": {},
     "output_type": "execute_result"
    }
   ],
   "source": [
    "get_parsed_output(user_query, memory, UserParser)"
   ]
  },
  {
   "cell_type": "code",
   "execution_count": 47,
   "id": "3e1428ee-3405-44c6-aaae-fd68ffe96220",
   "metadata": {},
   "outputs": [],
   "source": [
    "up = _"
   ]
  },
  {
   "cell_type": "code",
   "execution_count": 49,
   "id": "235a698b-f542-4681-bbe2-424d5b00f89a",
   "metadata": {},
   "outputs": [
    {
     "data": {
      "text/plain": [
       "{'name': 'Chris', 'email': 'chris@nourishbalancethrive.com'}"
      ]
     },
     "execution_count": 49,
     "metadata": {},
     "output_type": "execute_result"
    }
   ],
   "source": [
    "up.dict()"
   ]
  },
  {
   "cell_type": "code",
   "execution_count": 50,
   "id": "9181157f-7e9a-4347-8868-bf32ad6eca51",
   "metadata": {},
   "outputs": [],
   "source": [
    "def pydantic_to_mongoengine(pydantic_model):\n",
    "    fields = {}\n",
    "    for name, field in pydantic_model.__fields__.items():\n",
    "        # This is a basic example and only handles str type; you would expand this for other types.\n",
    "        if field.outer_type_ == str:\n",
    "            fields[name] = StringField(required=field.required)\n",
    "        # Add other field type conversions as needed\n",
    "    return type(pydantic_model.__name__, (Document,), fields)\n"
   ]
  },
  {
   "cell_type": "code",
   "execution_count": 52,
   "id": "e63f6577-ce5d-4e2e-a9ec-030d8b28536c",
   "metadata": {},
   "outputs": [],
   "source": [
    "User = pydantic_to_mongoengine(UserParser)"
   ]
  },
  {
   "cell_type": "code",
   "execution_count": 54,
   "id": "71c4234b-338a-49e2-b77f-816f09d8e77d",
   "metadata": {},
   "outputs": [
    {
     "data": {
      "text/plain": [
       "mappingproxy({'name': <mongoengine.fields.StringField at 0x146da2190>,\n",
       "              'email': <mongoengine.fields.StringField at 0x1477e3650>,\n",
       "              '_meta': {'abstract': False,\n",
       "               'max_documents': None,\n",
       "               'max_size': None,\n",
       "               'ordering': [],\n",
       "               'indexes': [],\n",
       "               'id_field': 'id',\n",
       "               'index_background': False,\n",
       "               'index_opts': None,\n",
       "               'delete_rules': None,\n",
       "               'allow_inheritance': None,\n",
       "               'collection': 'user_parser',\n",
       "               'index_specs': []},\n",
       "              '_is_base_cls': False,\n",
       "              '_is_document': True,\n",
       "              '_cached_reference_fields': [],\n",
       "              '_fields': {'name': <mongoengine.fields.StringField at 0x146da2190>,\n",
       "               'email': <mongoengine.fields.StringField at 0x1477e3650>,\n",
       "               'id': <mongoengine.base.fields.ObjectIdField at 0x147674a10>},\n",
       "              '_db_field_map': {'name': 'name', 'email': 'email', 'id': '_id'},\n",
       "              '_reverse_db_field_map': {'name': 'name',\n",
       "               'email': 'email',\n",
       "               '_id': 'id'},\n",
       "              '_fields_ordered': ('id', 'name', 'email'),\n",
       "              '_class_name': 'UserParser',\n",
       "              '_superclasses': (),\n",
       "              '_subclasses': ('UserParser',),\n",
       "              '_types': ('UserParser',),\n",
       "              '__module__': 'mongoengine.base.metaclasses',\n",
       "              '__dict__': <attribute '__dict__' of 'UserParser' objects>,\n",
       "              '__doc__': None,\n",
       "              '_collection': None,\n",
       "              'objects': <mongoengine.queryset.manager.QuerySetManager at 0x1477e10d0>,\n",
       "              'id': <mongoengine.base.fields.ObjectIdField at 0x147674a10>,\n",
       "              'DoesNotExist': DoesNotExist,\n",
       "              'MultipleObjectsReturned': MultipleObjectsReturned})"
      ]
     },
     "execution_count": 54,
     "metadata": {},
     "output_type": "execute_result"
    }
   ],
   "source": [
    "User.__dict__"
   ]
  },
  {
   "cell_type": "markdown",
   "id": "41602b2e-fa1c-44f7-89cb-79906eeac679",
   "metadata": {},
   "source": [
    "# New"
   ]
  },
  {
   "cell_type": "code",
   "execution_count": 1,
   "id": "ec20e55f-a679-41af-9093-34515ecebd20",
   "metadata": {},
   "outputs": [],
   "source": [
    "from sleepmate.goal import *"
   ]
  },
  {
   "cell_type": "code",
   "execution_count": null,
   "id": "7a17986e-e933-4afb-a79c-6f493f8853b6",
   "metadata": {},
   "outputs": [],
   "source": []
  },
  {
   "cell_type": "code",
   "execution_count": 2,
   "id": "6c1a2568-3efa-46a8-af74-8f5f65271e2a",
   "metadata": {},
   "outputs": [],
   "source": [
    "goal = Goal(goal=\"Your goal is...\")"
   ]
  },
  {
   "cell_type": "code",
   "execution_count": 3,
   "id": "529c6877-c76e-4af2-b116-cf930b542393",
   "metadata": {},
   "outputs": [
    {
     "data": {
      "text/plain": [
       "'Your goal is...'"
      ]
     },
     "execution_count": 3,
     "metadata": {},
     "output_type": "execute_result"
    }
   ],
   "source": [
    "str(goal)"
   ]
  },
  {
   "cell_type": "code",
   "execution_count": 4,
   "id": "fbb017c4-79cd-40a2-9d10-498af02638e3",
   "metadata": {},
   "outputs": [
    {
     "data": {
      "text/plain": [
       "Your goal is..."
      ]
     },
     "execution_count": 4,
     "metadata": {},
     "output_type": "execute_result"
    }
   ],
   "source": [
    "goal"
   ]
  },
  {
   "cell_type": "code",
   "execution_count": 13,
   "id": "3263f0a3-a2b8-4284-bcde-dd0baaa122fd",
   "metadata": {},
   "outputs": [],
   "source": [
    "all_args=['[\"Male\", \"Feb 13 1976\", \"Coder\", \"7 - 6 with breaks\", \"No\", \"Some alcohol, mostly at the weekends\", \"Cyclist, surfer, lifts weights\", \"Three eggs and sausages for breakfast, salad and protein for lunch, meat and veg for dinner. 1g protein per lb of bodyweight\", \"None\", \"None\", \"No\", \"No\", \"No\", \"Family, three kids, in a house but sleep in a VW Eurovan\", \"House\", \"Very rural and quiet\", \"Sleep through the night, wake up feeling refreshed\", \"Getting enough daylight\", \"Apigenin\", \"No\"]']"
   ]
  },
  {
   "cell_type": "code",
   "execution_count": 7,
   "id": "b225ba2d-635d-4d85-a09b-87b5dcae4f07",
   "metadata": {},
   "outputs": [],
   "source": [
    "import json\n",
    "from sleepmate.history import *\n",
    "from sleepmate.db import *"
   ]
  },
  {
   "cell_type": "code",
   "execution_count": 13,
   "id": "feebc385-fed2-4706-8db8-5982c7d35723",
   "metadata": {},
   "outputs": [
    {
     "data": {
      "text/plain": [
       "1"
      ]
     },
     "execution_count": 13,
     "metadata": {},
     "output_type": "execute_result"
    }
   ],
   "source": [
    "DBHealthHistory.objects.delete()"
   ]
  },
  {
   "cell_type": "code",
   "execution_count": 31,
   "id": "fa06d06b-ac55-4f17-9a36-105497245c9b",
   "metadata": {},
   "outputs": [
    {
     "data": {
      "text/plain": [
       "[SON([('_id', ObjectId('652feafecaa2804944f10028')), ('user', ObjectId('6526d86e6015be5b3434ac13')), ('date', datetime.datetime(2023, 10, 18, 7, 26, 6, 538000)), ('sex', 'Male'), ('date_of_birth', datetime.datetime(1976, 2, 13, 0, 0)), ('occupation', 'Coder'), ('work_hours', '7 - 6 with breaks'), ('smoking', 'No'), ('alcohol', 'Some, mostly at the weekends'), ('physical_activity', 'Cyclist, surfer, lifts weights'), ('diet', 'Three eggs and sausages for breakfast, salad and protein for lunch, meat and veg for dinner. 1g protein per lb of bodyweight'), ('medical_conditions', 'None'), ('medications', 'None'), ('family_history', 'No'), ('mental_health', 'No'), ('psychological_treatment', 'No'), ('living_with', 'Family, three kids'), ('residence_type', 'House, sleeps in a VW Eurovan'), ('noise_level', 'Very rural and quiet'), ('goal', 'Sleep through the night, wake up feeling refreshed'), ('helpful', 'Getting enough daylight'), ('unhelpful', 'Apigenin'), ('notes', '')])]"
      ]
     },
     "execution_count": 31,
     "metadata": {},
     "output_type": "execute_result"
    }
   ],
   "source": [
    "[o.to_mongo() for o in DBHealthHistory.objects()]"
   ]
  },
  {
   "cell_type": "code",
   "execution_count": 23,
   "id": "94ab035f-b4f8-44b2-bfa7-112cf0435d79",
   "metadata": {},
   "outputs": [
    {
     "data": {
      "text/plain": [
       "['Male',\n",
       " 'Feb 13 1976',\n",
       " 'Coder',\n",
       " '7 - 6 with breaks',\n",
       " 'No',\n",
       " 'Some alcohol, mostly at the weekends',\n",
       " 'Cyclist, surfer, lifts weights',\n",
       " 'Three eggs and sausages for breakfast, salad and protein for lunch, meat and veg for dinner. 1g protein per lb of bodyweight',\n",
       " 'None',\n",
       " 'None',\n",
       " 'No',\n",
       " 'No',\n",
       " 'No',\n",
       " 'Family, three kids, in a house but sleep in a VW Eurovan',\n",
       " 'House',\n",
       " 'Very rural and quiet',\n",
       " 'Sleep through the night, wake up feeling refreshed',\n",
       " 'Getting enough daylight',\n",
       " 'Apigenin',\n",
       " 'No']"
      ]
     },
     "execution_count": 23,
     "metadata": {},
     "output_type": "execute_result"
    }
   ],
   "source": [
    "args = json.loads(all_args[0]); args"
   ]
  },
  {
   "cell_type": "code",
   "execution_count": 28,
   "id": "ec570b17-3b7a-4583-89ec-cf7df20bdc21",
   "metadata": {},
   "outputs": [
    {
     "data": {
      "text/plain": [
       "(21, 20)"
      ]
     },
     "execution_count": 28,
     "metadata": {},
     "output_type": "execute_result"
    }
   ],
   "source": [
    "len(field_names), len(args)"
   ]
  },
  {
   "cell_type": "code",
   "execution_count": 24,
   "id": "d9603b02-c041-4f85-ae41-55b175393375",
   "metadata": {},
   "outputs": [
    {
     "data": {
      "text/plain": [
       "['date',\n",
       " 'sex',\n",
       " 'date_of_birth',\n",
       " 'occupation',\n",
       " 'work_hours',\n",
       " 'smoking',\n",
       " 'alcohol',\n",
       " 'physical_activity',\n",
       " 'diet',\n",
       " 'medical_conditions',\n",
       " 'medications',\n",
       " 'family_history',\n",
       " 'mental_health',\n",
       " 'psychological_treatment',\n",
       " 'living_with',\n",
       " 'residence_type',\n",
       " 'noise_level',\n",
       " 'goal',\n",
       " 'helpful',\n",
       " 'unhelpful',\n",
       " 'notes']"
      ]
     },
     "execution_count": 24,
     "metadata": {},
     "output_type": "execute_result"
    }
   ],
   "source": [
    "field_names = list(HealthHistory.__fields__.keys()); field_names"
   ]
  },
  {
   "cell_type": "code",
   "execution_count": 26,
   "id": "b99b3e34-8856-4cda-bfae-8a91d8a6ea28",
   "metadata": {},
   "outputs": [
    {
     "data": {
      "text/plain": [
       "{'date': 'Male',\n",
       " 'sex': 'Feb 13 1976',\n",
       " 'date_of_birth': 'Coder',\n",
       " 'occupation': '7 - 6 with breaks',\n",
       " 'work_hours': 'No',\n",
       " 'smoking': 'Some alcohol, mostly at the weekends',\n",
       " 'alcohol': 'Cyclist, surfer, lifts weights',\n",
       " 'physical_activity': 'Three eggs and sausages for breakfast, salad and protein for lunch, meat and veg for dinner. 1g protein per lb of bodyweight',\n",
       " 'diet': 'None',\n",
       " 'medical_conditions': 'None',\n",
       " 'medications': 'No',\n",
       " 'family_history': 'No',\n",
       " 'mental_health': 'No',\n",
       " 'psychological_treatment': 'Family, three kids, in a house but sleep in a VW Eurovan',\n",
       " 'living_with': 'House',\n",
       " 'residence_type': 'Very rural and quiet',\n",
       " 'noise_level': 'Sleep through the night, wake up feeling refreshed',\n",
       " 'goal': 'Getting enough daylight',\n",
       " 'helpful': 'Apigenin',\n",
       " 'unhelpful': 'No'}"
      ]
     },
     "execution_count": 26,
     "metadata": {},
     "output_type": "execute_result"
    }
   ],
   "source": [
    "kwargs = {field: arg for field, arg in zip(field_names, args)}; kwargs"
   ]
  },
  {
   "cell_type": "code",
   "execution_count": null,
   "id": "26237f94-bcbe-4551-8dcc-5d8b7461a168",
   "metadata": {},
   "outputs": [],
   "source": []
  },
  {
   "cell_type": "code",
   "execution_count": 2,
   "id": "afe7b892-92a8-4059-8808-ac5b1ddc3820",
   "metadata": {},
   "outputs": [
    {
     "name": "stdout",
     "output_type": "stream",
     "text": [
      "load_memory filename='/Users/cck197/Downloads/virtual_greg/memory.pkl'\n"
     ]
    }
   ],
   "source": [
    "memory = X.load_memory()"
   ]
  },
  {
   "cell_type": "code",
   "execution_count": 3,
   "id": "3cd9527d-e7b3-4c58-8d64-b767f6a85f54",
   "metadata": {},
   "outputs": [
    {
     "data": {
      "text/plain": [
       "ExerciseEntry(date=datetime.datetime(2022, 3, 22, 0, 0), name='Open Focus', notes=\"The user reported feeling 'not bad' before the exercise. After the exercise, the user did not provide feedback on their feelings.\")"
      ]
     },
     "execution_count": 3,
     "metadata": {},
     "output_type": "execute_result"
    }
   ],
   "source": [
    "get_exercise_entry_from_memory(ReadOnlySharedMemory(memory=memory))"
   ]
  },
  {
   "cell_type": "code",
   "execution_count": 30,
   "id": "ef68c630-164a-45eb-b386-2a5136307954",
   "metadata": {},
   "outputs": [
    {
     "data": {
      "text/plain": [
       "SleepDiaryEntry(date=datetime.datetime(2023, 10, 5, 0, 0), in_bed=datetime.datetime(2023, 10, 12, 21, 0), tried_to_fall_asleep=datetime.datetime(2023, 10, 12, 23, 0), time_to_fall_asleep=30, times_awake=5, time_awake=50, final_wake_up=datetime.datetime(2023, 10, 12, 6, 30), out_of_bed=datetime.datetime(2023, 10, 12, 6, 30), sleep_quality='okay', medications='melatonin', notes='Slept in the van')"
      ]
     },
     "execution_count": 30,
     "metadata": {},
     "output_type": "execute_result"
    }
   ],
   "source": [
    "get_parsed_output(\"summarise the last sleep diary entry\", memory_, SleepDiaryEntry)"
   ]
  },
  {
   "cell_type": "code",
   "execution_count": 2,
   "id": "1ec7be43-f742-485b-b262-b8713c728b15",
   "metadata": {},
   "outputs": [
    {
     "data": {
      "text/plain": [
       "datetime.datetime(2023, 10, 15, 17, 1, 11, 900416)"
      ]
     },
     "execution_count": 2,
     "metadata": {},
     "output_type": "execute_result"
    }
   ],
   "source": [
    "date = parse_date(\"yesterday\", default_days=1); date"
   ]
  },
  {
   "cell_type": "code",
   "execution_count": 3,
   "id": "8c2027fe-d591-4cd4-b643-ecb374a12ab4",
   "metadata": {},
   "outputs": [],
   "source": [
    "(start, end) = get_start_end(date)"
   ]
  },
  {
   "cell_type": "code",
   "execution_count": 6,
   "id": "4d65697c-1c6f-4038-a6ad-5e103971edde",
   "metadata": {},
   "outputs": [
    {
     "data": {
      "text/plain": [
       "SON([('_id', ObjectId('652d7e2a2a9e7e291a9e7f96')), ('user', ObjectId('6526d86e6015be5b3434ac13')), ('date', datetime.datetime(2023, 10, 15, 11, 17, 14, 729000)), ('in_bed', datetime.datetime(2023, 10, 15, 11, 17, 14, 729000)), ('tried_to_fall_asleep', datetime.datetime(2023, 10, 15, 11, 17, 14, 729000)), ('time_to_fall_asleep', 0), ('times_awake', 0), ('time_awake', 0), ('final_wake_up', datetime.datetime(2023, 10, 16, 4, 15)), ('out_of_bed', datetime.datetime(2023, 10, 16, 4, 40)), ('sleep_quality', 'good'), ('medications', 'no'), ('notes', \"No, that's all.\")])"
      ]
     },
     "execution_count": 6,
     "metadata": {},
     "output_type": "execute_result"
    }
   ],
   "source": [
    "DBSleepDiaryEntry.objects(user=get_current_user(), date__gte=start, date__lte=end).first().to_mongo()"
   ]
  },
  {
   "cell_type": "code",
   "execution_count": 17,
   "id": "48dcaf7a-6d5b-4619-89be-17f69a0544d4",
   "metadata": {},
   "outputs": [
    {
     "data": {
      "text/plain": [
       "SON([('_id', ObjectId('652d7e2a2a9e7e291a9e7f96')), ('user', ObjectId('6526d86e6015be5b3434ac13')), ('date', datetime.datetime(2023, 10, 15, 11, 17, 14, 729000)), ('in_bed', datetime.datetime(2023, 10, 15, 11, 17, 14, 729000)), ('tried_to_fall_asleep', datetime.datetime(2023, 10, 15, 11, 17, 14, 729000)), ('time_to_fall_asleep', 0), ('times_awake', 0), ('time_awake', 0), ('final_wake_up', datetime.datetime(2023, 10, 16, 4, 15)), ('out_of_bed', datetime.datetime(2023, 10, 16, 4, 40)), ('sleep_quality', 'good'), ('medications', 'no'), ('notes', \"No, that's all.\")])"
      ]
     },
     "execution_count": 17,
     "metadata": {},
     "output_type": "execute_result"
    }
   ],
   "source": [
    "DBSleepDiaryEntry.objects.first().to_mongo()"
   ]
  },
  {
   "cell_type": "code",
   "execution_count": 7,
   "id": "1831aa54-9817-4225-a276-61dee223a5d4",
   "metadata": {},
   "outputs": [],
   "source": [
    "from sleepmate.isi import *"
   ]
  },
  {
   "cell_type": "code",
   "execution_count": 12,
   "id": "e9af79c2-b49b-412c-b372-a70c036f8a7e",
   "metadata": {},
   "outputs": [
    {
     "data": {
      "text/plain": [
       "ChatMessageHistory(messages=[AIMessage(content=\"what's your name?\"), HumanMessage(content='Chris'), AIMessage(content=\"what's your email?\"), HumanMessage(content='chris@nourishbalancethrive.com'), HumanMessage(content='hey'), AIMessage(content=\"Hello Chris, nice to meet you. I hope you're doing well today. Could you let me know how you've been feeling recently?\"), HumanMessage(content='list the dates for all my ISI entries'), AIMessage(content=\"It appears that you don't have any previous Insomnia Severity Index (ISI) entries. Would now be a good time to complete the ISI questionnaire?\"), HumanMessage(content='ok'), AIMessage(content=\"Great, let's start with the Insomnia Severity Index (ISI) questionnaire for today, October 16, 2023.\\n\\n1. On a scale from 0 to 4, how would you rate your difficulty falling asleep? Here's the scale for your reference:\\n0: None\\n1: Mild\\n2: Moderate\\n3: Severe\\n4: Very severe\")])"
      ]
     },
     "execution_count": 12,
     "metadata": {},
     "output_type": "execute_result"
    }
   ],
   "source": [
    "memory.chat_memory"
   ]
  },
  {
   "cell_type": "code",
   "execution_count": 13,
   "id": "03a69e58-bcd7-4b68-97aa-5a6906e224e7",
   "metadata": {},
   "outputs": [
    {
     "data": {
      "text/plain": [
       "True"
      ]
     },
     "execution_count": 13,
     "metadata": {},
     "output_type": "execute_result"
    }
   ],
   "source": [
    "memory.return_messages"
   ]
  },
  {
   "cell_type": "code",
   "execution_count": 4,
   "id": "de77560e-3059-4e29-b6d0-3d7d307e5972",
   "metadata": {},
   "outputs": [],
   "source": [
    "from copy import deepcopy"
   ]
  },
  {
   "cell_type": "code",
   "execution_count": 5,
   "id": "c64ee378-a448-46f7-870e-6671da105779",
   "metadata": {},
   "outputs": [],
   "source": [
    "memory = deepcopy(memory)"
   ]
  },
  {
   "cell_type": "code",
   "execution_count": 6,
   "id": "f1dbcff8-7bd9-4ba3-b6ef-b60a4a70006e",
   "metadata": {},
   "outputs": [],
   "source": [
    "memory.return_messages = False"
   ]
  },
  {
   "cell_type": "code",
   "execution_count": 23,
   "id": "a15fbd9d-6b82-4cc6-bf93-96528f7fef7a",
   "metadata": {},
   "outputs": [
    {
     "name": "stdout",
     "output_type": "stream",
     "text": [
      "load_memory filename='/Users/cck197/Downloads/virtual_greg/memory.pkl'\n"
     ]
    }
   ],
   "source": [
    "memory = X.load_memory()"
   ]
  },
  {
   "cell_type": "code",
   "execution_count": 26,
   "id": "155af492-505f-4fb8-8ca9-a44a337a1870",
   "metadata": {},
   "outputs": [
    {
     "data": {
      "text/plain": [
       "160"
      ]
     },
     "execution_count": 26,
     "metadata": {},
     "output_type": "execute_result"
    }
   ],
   "source": [
    "len(memory.chat_memory.messages)"
   ]
  },
  {
   "cell_type": "code",
   "execution_count": 3,
   "id": "30f38d42-c33f-4872-8c9b-ac31fe02fdbd",
   "metadata": {},
   "outputs": [
    {
     "name": "stdout",
     "output_type": "stream",
     "text": [
      "parse_date date='2023-10-16'\n"
     ]
    }
   ],
   "source": [
    "entry = get_isi_entry_from_memory(ReadOnlySharedMemory(memory=memory))"
   ]
  },
  {
   "cell_type": "code",
   "execution_count": 4,
   "id": "5edbcc58-595d-40a0-b746-875c90619050",
   "metadata": {},
   "outputs": [
    {
     "data": {
      "text/plain": [
       "ISIEntry(date=datetime.datetime(2023, 10, 16, 0, 0), difficulty_falling_asleep=1, difficulty_staying_asleep=1, problems_waking_up_too_early=2, sleep_pattern_satisfaction=3, sleep_problem_noticeability=2, sleep_problem_worry=2, sleep_problem_interference=3)"
      ]
     },
     "execution_count": 4,
     "metadata": {},
     "output_type": "execute_result"
    }
   ],
   "source": [
    "entry "
   ]
  },
  {
   "cell_type": "code",
   "execution_count": 6,
   "id": "e9e4bf5a-0323-49ac-a71e-a78fbf926895",
   "metadata": {},
   "outputs": [
    {
     "data": {
      "text/plain": [
       "{'chat_history': [AIMessage(content=\"what's your name?\"),\n",
       "  HumanMessage(content='Chris'),\n",
       "  AIMessage(content=\"what's your email?\"),\n",
       "  HumanMessage(content='chris@nourishbalancethrive.com'),\n",
       "  HumanMessage(content='hey'),\n",
       "  AIMessage(content=\"Hello Chris, it's nice to connect with you. I hope you are doing well today. Could you share with me how you've been feeling lately, particularly in regard to your sleep?\"),\n",
       "  HumanMessage(content='list the dates for all my ISI entries'),\n",
       "  AIMessage(content='It appears that there are no previous Insomnia Severity Index (ISI) entries for your account. Would now be a good time to complete an ISI survey?'),\n",
       "  HumanMessage(content='ok'),\n",
       "  AIMessage(content=\"Great, let's start the Insomnia Severity Index (ISI) survey for today, October 16, 2023. \\n\\n1. On a scale from 0 to 4, how would you rate your difficulty falling asleep? \\n(0: None, 1: Mild, 2: Moderate, 3: Severe, 4: Very severe)\"),\n",
       "  HumanMessage(content='1'),\n",
       "  AIMessage(content='Thank you for your response. \\n\\n2. On the same scale, how would you rate your difficulty staying asleep? \\n(0: None, 1: Mild, 2: Moderate, 3: Severe, 4: Very severe)'),\n",
       "  HumanMessage(content='1'),\n",
       "  AIMessage(content='Thank you for your response. \\n\\n3. How would you rate your problems with waking up too early? \\n(0: None, 1: Mild, 2: Moderate, 3: Severe, 4: Very severe)')]}"
      ]
     },
     "execution_count": 6,
     "metadata": {},
     "output_type": "execute_result"
    }
   ],
   "source": [
    "memory.load_memory_variables({})"
   ]
  },
  {
   "cell_type": "code",
   "execution_count": 11,
   "id": "d1ec5e8d-a9fd-4880-8f27-8e52f38fe61f",
   "metadata": {},
   "outputs": [
    {
     "data": {
      "text/plain": [
       "SON([('_id', ObjectId('652d9650fae93b4b1ee15ecd')), ('pod', ObjectId('652d94ea00f31cca36f2d53b')), ('date', datetime.datetime(2023, 10, 16, 0, 0)), ('sleep_1', 1), ('sleep_2', 1), ('sleep_3', 0), ('exercise_1', 1), ('exercise_2', 1), ('exercise_3', 0), ('eating_1', 1), ('eating_2', 1), ('eating_3', 0), ('drinking_1', 1), ('drinking_2', 1), ('drinking_3', 0), ('stress_1', 1), ('stress_2', 1), ('stress_3', 0)])"
      ]
     },
     "execution_count": 11,
     "metadata": {},
     "output_type": "execute_result"
    }
   ],
   "source": [
    "DBSeedsDiaryEntry.objects().first().to_mongo()"
   ]
  },
  {
   "cell_type": "code",
   "execution_count": 2,
   "id": "3e8d54cc-e487-4f75-83bf-eaab90885feb",
   "metadata": {},
   "outputs": [],
   "source": [
    "s = '[[\"Read a book for 15 minutes before bed.\", \"Keep the bedroom dark and quiet.\", \"Avoid screens for an hour before bedtime.\"], [\"Take a 15-minute walk after dinner.\", \"Do a short yoga routine in the morning.\", \"Try a new sport or physical activity once a week.\"], [\"Include a fruit or vegetable with every meal.\", \"Try a new healthy recipe once a week.\", \"Limit processed foods and opt for whole foods.\"], [\"Replace one soda with a glass of water each day.\", \"Try a new herbal tea instead of coffee.\", \"Limit alcohol to one drink per day.\"], [\"Practice mindfulness or meditation for 10 minutes each day.\", \"Write in a journal for 15 minutes each day.\", \"Take a few minutes each day to do something you enjoy.\"]]'"
   ]
  },
  {
   "cell_type": "code",
   "execution_count": 3,
   "id": "02efef80-aa39-4128-aa3c-53664b112c1b",
   "metadata": {},
   "outputs": [],
   "source": [
    "import json"
   ]
  },
  {
   "cell_type": "code",
   "execution_count": null,
   "id": "57dc1861-b088-4642-a930-7f4df2171df2",
   "metadata": {},
   "outputs": [],
   "source": []
  },
  {
   "cell_type": "code",
   "execution_count": 4,
   "id": "ff269fac-a6b5-4808-bcc8-7d2dd392523b",
   "metadata": {},
   "outputs": [
    {
     "data": {
      "text/plain": [
       "[['Read a book for 15 minutes before bed.',\n",
       "  'Keep the bedroom dark and quiet.',\n",
       "  'Avoid screens for an hour before bedtime.'],\n",
       " ['Take a 15-minute walk after dinner.',\n",
       "  'Do a short yoga routine in the morning.',\n",
       "  'Try a new sport or physical activity once a week.'],\n",
       " ['Include a fruit or vegetable with every meal.',\n",
       "  'Try a new healthy recipe once a week.',\n",
       "  'Limit processed foods and opt for whole foods.'],\n",
       " ['Replace one soda with a glass of water each day.',\n",
       "  'Try a new herbal tea instead of coffee.',\n",
       "  'Limit alcohol to one drink per day.'],\n",
       " ['Practice mindfulness or meditation for 10 minutes each day.',\n",
       "  'Write in a journal for 15 minutes each day.',\n",
       "  'Take a few minutes each day to do something you enjoy.']]"
      ]
     },
     "execution_count": 4,
     "metadata": {},
     "output_type": "execute_result"
    }
   ],
   "source": [
    "json_object = json.loads(s); json_object"
   ]
  },
  {
   "cell_type": "code",
   "execution_count": 5,
   "id": "1fa5885a-4f99-4d01-8c67-fcd466294010",
   "metadata": {},
   "outputs": [],
   "source": [
    "from sleepmate.seeds import *"
   ]
  },
  {
   "cell_type": "code",
   "execution_count": 7,
   "id": "8f5dc577-643b-4105-9507-87f9c72aab33",
   "metadata": {},
   "outputs": [],
   "source": [
    "entry = create_from_positional_args(SeedPod, *json_object)"
   ]
  },
  {
   "cell_type": "code",
   "execution_count": 8,
   "id": "7c5a5fcb-6697-42fd-8c20-e2594404c8be",
   "metadata": {},
   "outputs": [
    {
     "data": {
      "text/plain": [
       "SeedPod(sleep_1='Read a book for 15 minutes before bed.', sleep_2='Keep the bedroom dark and quiet.', sleep_3='Avoid screens for an hour before bedtime.', exercise_1='Take a 15-minute walk after dinner.', exercise_2='Do a short yoga routine in the morning.', exercise_3='Try a new sport or physical activity once a week.', eating_1='Include a fruit or vegetable with every meal.', eating_2='Try a new healthy recipe once a week.', eating_3='Limit processed foods and opt for whole foods.', drinking_1='Replace one soda with a glass of water each day.', drinking_2='Try a new herbal tea instead of coffee.', drinking_3='Limit alcohol to one drink per day.', stress_1='Practice mindfulness or meditation for 10 minutes each day.', stress_2='Write in a journal for 15 minutes each day.', stress_3='Take a few minutes each day to do something you enjoy.')"
      ]
     },
     "execution_count": 8,
     "metadata": {},
     "output_type": "execute_result"
    }
   ],
   "source": [
    "entry"
   ]
  },
  {
   "cell_type": "code",
   "execution_count": 18,
   "id": "1c4b710c-9dc2-4808-ab58-019dc0046f51",
   "metadata": {},
   "outputs": [
    {
     "name": "stdout",
     "output_type": "stream",
     "text": [
      "Automatic pdb calling has been turned ON\n"
     ]
    }
   ],
   "source": [
    "%pdb"
   ]
  },
  {
   "cell_type": "code",
   "execution_count": 21,
   "id": "304ffb54-403b-4672-9c32-5551b404b465",
   "metadata": {},
   "outputs": [
    {
     "name": "stdout",
     "output_type": "stream",
     "text": [
      "parse_date date='2021-10-01'\n",
      "parse_date date='21:15'\n",
      "parse_date date='21:15'\n",
      "parse_date date='4:15'\n",
      "parse_date date='4:40'\n"
     ]
    }
   ],
   "source": [
    "# Usage\n",
    "instance = create_from_positional_args(SleepDiaryEntry, *args)"
   ]
  },
  {
   "cell_type": "code",
   "execution_count": 22,
   "id": "7624dea9-79e5-493b-9f59-5828bad4ac53",
   "metadata": {},
   "outputs": [
    {
     "data": {
      "text/plain": [
       "SleepDiaryEntry(date=datetime.datetime(2021, 10, 1, 0, 0), in_bed=datetime.datetime(2023, 10, 16, 21, 15), tried_to_fall_asleep=datetime.datetime(2023, 10, 16, 21, 15), time_to_fall_asleep=5, times_awake=0, time_awake=0, final_wake_up=datetime.datetime(2023, 10, 16, 4, 15), out_of_bed=datetime.datetime(2023, 10, 16, 4, 40), sleep_quality='good', medications='no', notes='slept in the van')"
      ]
     },
     "execution_count": 22,
     "metadata": {},
     "output_type": "execute_result"
    }
   ],
   "source": [
    "instance"
   ]
  },
  {
   "cell_type": "code",
   "execution_count": 14,
   "id": "ca51a60f-459b-4769-b133-434dca7cbb52",
   "metadata": {},
   "outputs": [
    {
     "ename": "ValidationError",
     "evalue": "1 validation error for SleepDiaryEntry\n__root__\n  SleepDiaryEntry expected dict not list (type=type_error)",
     "output_type": "error",
     "traceback": [
      "\u001b[0;31m---------------------------------------------------------------------------\u001b[0m",
      "\u001b[0;31mValueError\u001b[0m                                Traceback (most recent call last)",
      "File \u001b[0;32m~/Library/Caches/pypoetry/virtualenvs/sleepmate-kok1GflL-py3.11/lib/python3.11/site-packages/pydantic/v1/main.py:522\u001b[0m, in \u001b[0;36mBaseModel.parse_obj\u001b[0;34m(cls, obj)\u001b[0m\n\u001b[1;32m    521\u001b[0m \u001b[38;5;28;01mtry\u001b[39;00m:\n\u001b[0;32m--> 522\u001b[0m     obj \u001b[38;5;241m=\u001b[39m \u001b[38;5;28;43mdict\u001b[39;49m\u001b[43m(\u001b[49m\u001b[43mobj\u001b[49m\u001b[43m)\u001b[49m\n\u001b[1;32m    523\u001b[0m \u001b[38;5;28;01mexcept\u001b[39;00m (\u001b[38;5;167;01mTypeError\u001b[39;00m, \u001b[38;5;167;01mValueError\u001b[39;00m) \u001b[38;5;28;01mas\u001b[39;00m e:\n",
      "\u001b[0;31mValueError\u001b[0m: dictionary update sequence element #0 has length 10; 2 is required",
      "\nThe above exception was the direct cause of the following exception:\n",
      "\u001b[0;31mValidationError\u001b[0m                           Traceback (most recent call last)",
      "Cell \u001b[0;32mIn[14], line 1\u001b[0m\n\u001b[0;32m----> 1\u001b[0m \u001b[43mSleepDiaryEntry\u001b[49m\u001b[38;5;241;43m.\u001b[39;49m\u001b[43mparse_obj\u001b[49m\u001b[43m(\u001b[49m\u001b[43margs\u001b[49m\u001b[43m)\u001b[49m\n",
      "File \u001b[0;32m~/Library/Caches/pypoetry/virtualenvs/sleepmate-kok1GflL-py3.11/lib/python3.11/site-packages/pydantic/v1/main.py:525\u001b[0m, in \u001b[0;36mBaseModel.parse_obj\u001b[0;34m(cls, obj)\u001b[0m\n\u001b[1;32m    523\u001b[0m     \u001b[38;5;28;01mexcept\u001b[39;00m (\u001b[38;5;167;01mTypeError\u001b[39;00m, \u001b[38;5;167;01mValueError\u001b[39;00m) \u001b[38;5;28;01mas\u001b[39;00m e:\n\u001b[1;32m    524\u001b[0m         exc \u001b[38;5;241m=\u001b[39m \u001b[38;5;167;01mTypeError\u001b[39;00m(\u001b[38;5;124mf\u001b[39m\u001b[38;5;124m'\u001b[39m\u001b[38;5;132;01m{\u001b[39;00m\u001b[38;5;28mcls\u001b[39m\u001b[38;5;241m.\u001b[39m\u001b[38;5;18m__name__\u001b[39m\u001b[38;5;132;01m}\u001b[39;00m\u001b[38;5;124m expected dict not \u001b[39m\u001b[38;5;132;01m{\u001b[39;00mobj\u001b[38;5;241m.\u001b[39m\u001b[38;5;18m__class__\u001b[39m\u001b[38;5;241m.\u001b[39m\u001b[38;5;18m__name__\u001b[39m\u001b[38;5;132;01m}\u001b[39;00m\u001b[38;5;124m'\u001b[39m)\n\u001b[0;32m--> 525\u001b[0m         \u001b[38;5;28;01mraise\u001b[39;00m ValidationError([ErrorWrapper(exc, loc\u001b[38;5;241m=\u001b[39mROOT_KEY)], \u001b[38;5;28mcls\u001b[39m) \u001b[38;5;28;01mfrom\u001b[39;00m \u001b[38;5;21;01me\u001b[39;00m\n\u001b[1;32m    526\u001b[0m \u001b[38;5;28;01mreturn\u001b[39;00m \u001b[38;5;28mcls\u001b[39m(\u001b[38;5;241m*\u001b[39m\u001b[38;5;241m*\u001b[39mobj)\n",
      "\u001b[0;31mValidationError\u001b[0m: 1 validation error for SleepDiaryEntry\n__root__\n  SleepDiaryEntry expected dict not list (type=type_error)"
     ]
    }
   ],
   "source": [
    "SleepDiaryEntry.parse_obj(args)"
   ]
  },
  {
   "cell_type": "code",
   "execution_count": 8,
   "id": "4e48ef57-f32c-4303-8e60-8b9c4a50188b",
   "metadata": {},
   "outputs": [
    {
     "ename": "ValidationError",
     "evalue": "1 validation error for ConversationBufferWindowMemory\nchat_memory\n  instance of BaseChatMessageHistory expected (type=type_error.arbitrary_type; expected_arbitrary_type=BaseChatMessageHistory)",
     "output_type": "error",
     "traceback": [
      "\u001b[0;31m---------------------------------------------------------------------------\u001b[0m",
      "\u001b[0;31mValidationError\u001b[0m                           Traceback (most recent call last)",
      "Cell \u001b[0;32mIn[8], line 1\u001b[0m\n\u001b[0;32m----> 1\u001b[0m \u001b[43mConversationBufferWindowMemory\u001b[49m\u001b[43m(\u001b[49m\u001b[43mchat_memory\u001b[49m\u001b[38;5;241;43m=\u001b[39;49m\u001b[43mmemory\u001b[49m\u001b[43m,\u001b[49m\u001b[43m \u001b[49m\u001b[43mmemory_key\u001b[49m\u001b[38;5;241;43m=\u001b[39;49m\u001b[38;5;124;43m\"\u001b[39;49m\u001b[38;5;124;43mchat_history\u001b[39;49m\u001b[38;5;124;43m\"\u001b[39;49m\u001b[43m)\u001b[49m\n",
      "File \u001b[0;32m~/Library/Caches/pypoetry/virtualenvs/sleepmate-kok1GflL-py3.11/lib/python3.11/site-packages/langchain/load/serializable.py:97\u001b[0m, in \u001b[0;36mSerializable.__init__\u001b[0;34m(self, **kwargs)\u001b[0m\n\u001b[1;32m     96\u001b[0m \u001b[38;5;28;01mdef\u001b[39;00m \u001b[38;5;21m__init__\u001b[39m(\u001b[38;5;28mself\u001b[39m, \u001b[38;5;241m*\u001b[39m\u001b[38;5;241m*\u001b[39mkwargs: Any) \u001b[38;5;241m-\u001b[39m\u001b[38;5;241m>\u001b[39m \u001b[38;5;28;01mNone\u001b[39;00m:\n\u001b[0;32m---> 97\u001b[0m     \u001b[38;5;28;43msuper\u001b[39;49m\u001b[43m(\u001b[49m\u001b[43m)\u001b[49m\u001b[38;5;241;43m.\u001b[39;49m\u001b[38;5;21;43m__init__\u001b[39;49m\u001b[43m(\u001b[49m\u001b[38;5;241;43m*\u001b[39;49m\u001b[38;5;241;43m*\u001b[39;49m\u001b[43mkwargs\u001b[49m\u001b[43m)\u001b[49m\n\u001b[1;32m     98\u001b[0m     \u001b[38;5;28mself\u001b[39m\u001b[38;5;241m.\u001b[39m_lc_kwargs \u001b[38;5;241m=\u001b[39m kwargs\n",
      "File \u001b[0;32m~/Library/Caches/pypoetry/virtualenvs/sleepmate-kok1GflL-py3.11/lib/python3.11/site-packages/pydantic/v1/main.py:341\u001b[0m, in \u001b[0;36mBaseModel.__init__\u001b[0;34m(__pydantic_self__, **data)\u001b[0m\n\u001b[1;32m    339\u001b[0m values, fields_set, validation_error \u001b[38;5;241m=\u001b[39m validate_model(__pydantic_self__\u001b[38;5;241m.\u001b[39m\u001b[38;5;18m__class__\u001b[39m, data)\n\u001b[1;32m    340\u001b[0m \u001b[38;5;28;01mif\u001b[39;00m validation_error:\n\u001b[0;32m--> 341\u001b[0m     \u001b[38;5;28;01mraise\u001b[39;00m validation_error\n\u001b[1;32m    342\u001b[0m \u001b[38;5;28;01mtry\u001b[39;00m:\n\u001b[1;32m    343\u001b[0m     object_setattr(__pydantic_self__, \u001b[38;5;124m'\u001b[39m\u001b[38;5;124m__dict__\u001b[39m\u001b[38;5;124m'\u001b[39m, values)\n",
      "\u001b[0;31mValidationError\u001b[0m: 1 validation error for ConversationBufferWindowMemory\nchat_memory\n  instance of BaseChatMessageHistory expected (type=type_error.arbitrary_type; expected_arbitrary_type=BaseChatMessageHistory)"
     ]
    }
   ],
   "source": [
    "ConversationBufferWindowMemory(chat_memory=memory, memory_key=\"chat_history\")"
   ]
  },
  {
   "cell_type": "code",
   "execution_count": 13,
   "id": "c2d55acb-e1ee-4099-a693-99438ad48aac",
   "metadata": {},
   "outputs": [],
   "source": [
    "new_memory = ConversationBufferWindowMemory(memory_key=\"chat_history\")"
   ]
  },
  {
   "cell_type": "code",
   "execution_count": 17,
   "id": "8b20ef9d-f0d3-4723-ac85-ed719fae97d8",
   "metadata": {},
   "outputs": [],
   "source": [
    "ro_memory = ReadOnlySharedMemory(memory=memory)"
   ]
  },
  {
   "cell_type": "code",
   "execution_count": 24,
   "id": "5f9d3f94-8db8-4114-8df9-2d82b986ba96",
   "metadata": {},
   "outputs": [
    {
     "data": {
      "text/plain": [
       "[AIMessage(content=\"what's your name?\"),\n",
       " HumanMessage(content='Chris'),\n",
       " AIMessage(content=\"what's your email?\"),\n",
       " HumanMessage(content='chris@nourishbalancethrive.com'),\n",
       " HumanMessage(content='hey'),\n",
       " AIMessage(content=\"Hello Chris, it's nice to connect with you. I hope you are doing well today. Could you share with me how you've been feeling lately, particularly in regard to your sleep?\"),\n",
       " HumanMessage(content='list the dates for all my ISI entries'),\n",
       " AIMessage(content='It appears that there are no previous Insomnia Severity Index (ISI) entries for your account. Would now be a good time to complete an ISI survey?'),\n",
       " HumanMessage(content='ok'),\n",
       " AIMessage(content=\"Great, let's start the Insomnia Severity Index (ISI) survey for today, October 16, 2023. \\n\\n1. On a scale from 0 to 4, how would you rate your difficulty falling asleep? \\n(0: None, 1: Mild, 2: Moderate, 3: Severe, 4: Very severe)\"),\n",
       " HumanMessage(content='1'),\n",
       " AIMessage(content='Thank you for your response. \\n\\n2. On the same scale, how would you rate your difficulty staying asleep? \\n(0: None, 1: Mild, 2: Moderate, 3: Severe, 4: Very severe)'),\n",
       " HumanMessage(content='1'),\n",
       " AIMessage(content='Thank you for your response. \\n\\n3. How would you rate your problems with waking up too early? \\n(0: None, 1: Mild, 2: Moderate, 3: Severe, 4: Very severe)')]"
      ]
     },
     "execution_count": 24,
     "metadata": {},
     "output_type": "execute_result"
    }
   ],
   "source": [
    "ro_memory.memory.chat_memory.messages"
   ]
  },
  {
   "cell_type": "code",
   "execution_count": 25,
   "id": "89d7bf06-8941-4d0c-af51-a0d5fec59c76",
   "metadata": {},
   "outputs": [
    {
     "data": {
      "text/plain": [
       "[]"
      ]
     },
     "execution_count": 25,
     "metadata": {},
     "output_type": "execute_result"
    }
   ],
   "source": [
    "new_memory.chat_memory.messages"
   ]
  },
  {
   "cell_type": "code",
   "execution_count": 26,
   "id": "90226366-3906-4699-ba5b-43e83ee54a3e",
   "metadata": {},
   "outputs": [],
   "source": [
    "new_memory.chat_memory.messages = ro_memory.memory.chat_memory.messages[-new_memory.k:]"
   ]
  },
  {
   "cell_type": "code",
   "execution_count": 27,
   "id": "3a9ae152-0152-47d2-8950-c0e975021b2b",
   "metadata": {},
   "outputs": [
    {
     "data": {
      "text/plain": [
       "ConversationBufferWindowMemory(chat_memory=ChatMessageHistory(messages=[AIMessage(content=\"Great, let's start the Insomnia Severity Index (ISI) survey for today, October 16, 2023. \\n\\n1. On a scale from 0 to 4, how would you rate your difficulty falling asleep? \\n(0: None, 1: Mild, 2: Moderate, 3: Severe, 4: Very severe)\"), HumanMessage(content='1'), AIMessage(content='Thank you for your response. \\n\\n2. On the same scale, how would you rate your difficulty staying asleep? \\n(0: None, 1: Mild, 2: Moderate, 3: Severe, 4: Very severe)'), HumanMessage(content='1'), AIMessage(content='Thank you for your response. \\n\\n3. How would you rate your problems with waking up too early? \\n(0: None, 1: Mild, 2: Moderate, 3: Severe, 4: Very severe)')]), memory_key='chat_history')"
      ]
     },
     "execution_count": 27,
     "metadata": {},
     "output_type": "execute_result"
    }
   ],
   "source": [
    "new_memory"
   ]
  },
  {
   "cell_type": "code",
   "execution_count": null,
   "id": "037a812f-8cc0-4cc7-a3ff-0e1d0cb6d405",
   "metadata": {},
   "outputs": [],
   "source": []
  },
  {
   "cell_type": "code",
   "execution_count": 4,
   "id": "150d2b02-f712-499c-8669-12ff115abb6b",
   "metadata": {},
   "outputs": [
    {
     "data": {
      "text/plain": [
       "ISIEntry(date=datetime.datetime(2023, 10, 16, 0, 0), difficulty_falling_asleep=1, difficulty_staying_asleep=1, problems_waking_up_too_early=2, sleep_pattern_satisfaction=2, sleep_problem_noticeability=1, sleep_problem_worry=1, sleep_problem_interference=1)"
      ]
     },
     "execution_count": 4,
     "metadata": {},
     "output_type": "execute_result"
    }
   ],
   "source": [
    "entry"
   ]
  },
  {
   "cell_type": "markdown",
   "id": "ecce1758-ccf6-4366-b757-9a01352f3717",
   "metadata": {},
   "source": [
    "## Working"
   ]
  },
  {
   "cell_type": "markdown",
   "id": "9f524df7-c26f-43f5-8e04-34905d6bd4da",
   "metadata": {
    "jupyter": {
     "source_hidden": true
    }
   },
   "source": [
    "Answer the user query.\n",
    "The output should be formatted as a JSON instance that conforms to the JSON schema below.\n",
    "\n",
    "As an example, for the schema {\"properties\": {\"foo\": {\"title\": \"Foo\", \"description\": \"a list of strings\", \"type\": \"array\", \"items\": {\"type\": \"string\"}}}, \"required\": [\"foo\"]}\n",
    "the object {\"foo\": [\"bar\", \"baz\"]} is a well-formatted instance of the schema. The object {\"properties\": {\"foo\": [\"bar\", \"baz\"]}} is not well-formatted.\n",
    "\n",
    "Here is the output schema:\n",
    "```\n",
    "{\"properties\": {\"date\": {\"title\": \"Date\", \"description\": \"date of entry\", \"type\": \"string\"}, \"in_bed\": {\"title\": \"In Bed\", \"description\": \"time you went to bed\", \"type\": \"string\"}, \"tried_to_fall_asleep\": {\"title\": \"Tried To Fall Asleep\", \"description\": \"time you tried to fall asleep\", \"type\": \"string\"}, \"time_to_fall_asleep\": {\"title\": \"Time To Fall Asleep\", \"description\": \"how long it took you to fall asleep\", \"type\": \"integer\"}, \"times_awake\": {\"title\": \"Times Awake\", \"description\": \"how many times you woke up during the night\", \"type\": \"integer\"}, \"time_awake\": {\"title\": \"Time Awake\", \"description\": \"total time you were awake during the night\", \"type\": \"integer\"}, \"final_wake_up\": {\"title\": \"Final Wake Up\", \"description\": \"final wake up time\", \"type\": \"string\"}, \"out_of_bed\": {\"title\": \"Out Of Bed\", \"description\": \"time you got out of bed\", \"type\": \"string\"}, \"sleep_quality\": {\"title\": \"Sleep Quality\", \"description\": \"sleep quality\", \"type\": \"string\"}, \"medications\": {\"title\": \"Medications\", \"description\": \"medications or aids you used to help you sleep\", \"type\": \"string\"}, \"notes\": {\"title\": \"Notes\", \"description\": \"any other notes you'd like to add\", \"type\": \"string\"}}, \"required\": [\"date\", \"in_bed\", \"tried_to_fall_asleep\", \"time_to_fall_asleep\", \"times_awake\", \"time_awake\", \"final_wake_up\", \"out_of_bed\", \"sleep_quality\", \"medications\", \"notes\"]}\n",
    "```\n",
    "summarise the last sleep diary entry\n",
    "Previous conversation:[HumanMessage(content='hey'), AIMessage(content=\"Hello! I'm here to help you record your sleep diary. Before we begin, may I know your name, please?\"), HumanMessage(content='Chris'), AIMessage(content='Nice to meet you, Chris! I also need your email address for our records. Could you please provide that?'), HumanMessage(content='chris@nourishbalancethrive.com'), AIMessage(content='Thank you, Chris. Now, is it a good time for you to record a sleep diary entry?'), HumanMessage(content='Oct 7'), AIMessage(content=\"Great, we'll record the sleep diary entry for October 7th. Let's start with the first question. What time did you go to bed on October 7th?\"), HumanMessage(content='21:00'), AIMessage(content='Thank you, Chris. Now, what time did you try to fall asleep?'), HumanMessage(content='21:00'), AIMessage(content='Alright. How long did it take you to fall asleep, in minutes?'), HumanMessage(content='5'), AIMessage(content='Got it. How many times did you wake up during the night?'), HumanMessage(content='1'), AIMessage(content='I see. And how long were you awake during the night, in minutes?'), HumanMessage(content='5'), AIMessage(content='Noted. What was your final wake up time?'), HumanMessage(content='6:30'), AIMessage(content='Thank you. And what time did you get out of bed?'), HumanMessage(content='6:30'), AIMessage(content='Alright. How would you rate your sleep quality? You can choose from \"very good\", \"good\", \"okay\", \"bad\", \"very bad\".'), HumanMessage(content='okay'), AIMessage(content='Okay. Did you use any medications or aids to help you sleep?'), HumanMessage(content='melatonin, and for the notes I slept in the van 3'), AIMessage(content=\"Thank you for sharing that, Chris. Let's summarize:\\n\\n- Date of entry: October 7th\\n- Time you went to bed: 21:00\\n- Time you tried to fall asleep: 21:00\\n- Time it took to fall asleep: 5 minutes\\n- Number of times you woke up during the night: 1\\n- Total time you were awake during the night: 5 minutes\\n- Final wake up time: 6:30\\n- Time you got out of bed: 6:30\\n- Sleep quality: Okay\\n- Sleep aids: Melatonin\\n- Notes: Slept in the van 3\\n\\nYour sleep efficiency, which is the percentage of time spent asleep while in bed, is 96.7%. Anything over 85% is considered normal.\\n\\nIs this information correct?\"), HumanMessage(content='yep!'), AIMessage(content='Great! Thank you for confirming, Chris. Your sleep diary entry has been successfully recorded. If you have any other questions or need further assistance, feel free to ask. 🚀🚀🚀'), HumanMessage(content='hey'), AIMessage(content='Hello again, Chris! How are you feeling today? Is it a good time to record another sleep diary entry?'), HumanMessage(content='chris@nourishbalancethrive.com'), AIMessage(content='Thank you, Chris. Now, is it a good time for you to record a sleep diary entry?'), HumanMessage(content='yes'), AIMessage(content=\"Great! Let's record the sleep diary entry for October 10th. What time did you go to bed?\"), HumanMessage(content='actually no Oct 1'), AIMessage(content=\"Alright, we'll record the sleep diary entry for October 1st. What time did you go to bed on that day?\"), HumanMessage(content='21:00'), AIMessage(content='Thank you, Chris. Now, what time did you try to fall asleep?'), HumanMessage(content='120'), AIMessage(content=\"I'm sorry, but the time you provided seems to be incorrect. Could you please provide the time in a 24-hour format? For example, if it's 1:20 AM, you should enter it as 01:20.\"), HumanMessage(content='23:00'), AIMessage(content='Got it. How long did it take you to fall asleep, in minutes?'), HumanMessage(content='30'), AIMessage(content='Noted. How many times did you wake up during the night?'), HumanMessage(content='5'), AIMessage(content='I see. And how long were you awake during the night, in minutes?'), HumanMessage(content='50'), AIMessage(content='Thank you for that information. What was your final wake up time?'), HumanMessage(content='6:30'), AIMessage(content='Thank you. And what time did you get out of bed?'), HumanMessage(content='6:30'), AIMessage(content='Alright. How would you rate your sleep quality? You can choose from \"very good\", \"good\", \"okay\", \"bad\", \"very bad\".'), HumanMessage(content='okay'), AIMessage(content='Okay. Did you use any medications or aids to help you sleep?'), HumanMessage(content='melatonin, and for the notes I slept in the van 4'), AIMessage(content=\"Thank you for sharing that, Chris. Let's summarize:\\n\\n- Date of entry: October 1st\\n- Time you went to bed: 21:00\\n- Time you tried to fall asleep: 23:00\\n- Time it took to fall asleep: 30 minutes\\n- Number of times you woke up during the night: 5\\n- Total time you were awake during the night: 50 minutes\\n- Final wake up time: 6:30\\n- Time you got out of bed: 6:30\\n- Sleep quality: Okay\\n- Sleep aids: Melatonin\\n- Notes: Slept in the van 4\\n\\nYour sleep efficiency, which is the percentage of time spent asleep while in bed, is 85.4%. Anything over 85% is considered normal.\\n\\nIs this information correct?\"), HumanMessage(content='yep!'), AIMessage(content='Great! Thank you for confirming, Chris. Your sleep diary entry has been successfully recorded. If you have any other questions or need further assistance, feel free to ask. 🚀🚀🚀')]\n",
    "\n",
    "{\"date\": \"October 1st\", \"in_bed\": \"21:00\", \"tried_to_fall_asleep\": \"23:00\", \"time_to_fall_asleep\": 30, \"times_awake\": 5, \"time_awake\": 50, \"final_wake_up\": \"6:30\", \"out_of_bed\": \"6:30\", \"sleep_quality\": \"okay\", \"medications\": \"melatonin\", \"notes\": \"Slept in the van 4\"}"
   ]
  },
  {
   "cell_type": "markdown",
   "id": "41b2e047-4e27-419c-8949-5d1b412f556e",
   "metadata": {},
   "source": [
    "Not working"
   ]
  },
  {
   "cell_type": "markdown",
   "id": "8148c188-4256-4cca-ae09-5434e8bc35f2",
   "metadata": {
    "jupyter": {
     "source_hidden": true
    }
   },
   "source": [
    "Answer the user query.\n",
    "The output should be formatted as a JSON instance that conforms to the JSON schema below.\n",
    "\n",
    "As an example, for the schema {\"properties\": {\"foo\": {\"title\": \"Foo\", \"description\": \"a list of strings\", \"type\": \"array\", \"items\": {\"type\": \"string\"}}}, \"required\": [\"foo\"]}\n",
    "the object {\"foo\": [\"bar\", \"baz\"]} is a well-formatted instance of the schema. The object {\"properties\": {\"foo\": [\"bar\", \"baz\"]}} is not well-formatted.\n",
    "\n",
    "Here is the output schema:\n",
    "```\n",
    "{\"properties\": {\"date\": {\"title\": \"Date\", \"description\": \"date of entry\", \"type\": \"string\"}, \"in_bed\": {\"title\": \"In Bed\", \"description\": \"time you went to bed\", \"type\": \"string\"}, \"tried_to_fall_asleep\": {\"title\": \"Tried To Fall Asleep\", \"description\": \"time you tried to fall asleep\", \"type\": \"string\"}, \"time_to_fall_asleep\": {\"title\": \"Time To Fall Asleep\", \"description\": \"how long it took you to fall asleep\", \"type\": \"integer\"}, \"times_awake\": {\"title\": \"Times Awake\", \"description\": \"how many times you woke up during the night\", \"type\": \"integer\"}, \"time_awake\": {\"title\": \"Time Awake\", \"description\": \"total time you were awake during the night\", \"type\": \"integer\"}, \"final_wake_up\": {\"title\": \"Final Wake Up\", \"description\": \"final wake up time\", \"type\": \"string\"}, \"out_of_bed\": {\"title\": \"Out Of Bed\", \"description\": \"time you got out of bed\", \"type\": \"string\"}, \"sleep_quality\": {\"title\": \"Sleep Quality\", \"description\": \"sleep quality\", \"type\": \"string\"}, \"medications\": {\"title\": \"Medications\", \"description\": \"medications or aids you used to help you sleep\", \"type\": \"string\"}, \"notes\": {\"title\": \"Notes\", \"description\": \"any other notes you'd like to add\", \"type\": \"string\"}}, \"required\": [\"date\", \"in_bed\", \"tried_to_fall_asleep\", \"time_to_fall_asleep\", \"times_awake\", \"time_awake\", \"final_wake_up\", \"out_of_bed\", \"sleep_quality\", \"medications\", \"notes\"]}\n",
    "```\n",
    "summarise the last sleep diary entry\n",
    "Previous conversation:[AIMessage(content=\"what's your email?\"), HumanMessage(content='chris@nourishbalancethrive.com'), HumanMessage(content='okay'), AIMessage(content='I see. How would you rate your sleep quality on a scale of \"very good\", \"good\", \"okay\", \"bad\", \"very bad\"?'), AIMessage(content=\"what's your name?\"), HumanMessage(content='Chris'), AIMessage(content=\"what's your email?\"), HumanMessage(content='chris@nourishbalancethrive.com'), HumanMessage(content='melatonin, and for the notes I slept in the van 5'), AIMessage(content='Thanks for sharing that, Chris. Here\\'s the summary of your sleep diary entry for October 4, 2023:\\n\\n- You got in bed at 21:00.\\n- You tried to fall asleep at 23:00.\\n- It took you 30 minutes to fall asleep.\\n- You woke up 5 times during the night.\\n- You were awake for a total of 50 minutes during the night.\\n- You finally woke up at 06:30.\\n- You got out of bed at 06:30.\\n- You rated your sleep quality as \"okay\".\\n- You took melatonin as medication.\\n- You noted that you \"Slept in the van 5\".\\n\\nYour sleep efficiency was 64.91%. Remember, anything over 85% is considered normal. Is this information correct? 🚀🚀🚀'), AIMessage(content=\"what's your name?\"), HumanMessage(content='Chris'), AIMessage(content=\"what's your email?\"), HumanMessage(content='chris@nourishbalancethrive.com'), HumanMessage(content='yep!'), AIMessage(content=\"Great! I'm glad we could record your sleep diary entry for October 4, 2023. Remember, keeping a regular sleep diary can help identify patterns and areas for improvement in your sleep habits. Keep up the good work! 🚀🚀🚀\"), AIMessage(content=\"what's your name?\"), HumanMessage(content='Chris'), AIMessage(content=\"what's your email?\"), HumanMessage(content='chris@nourishbalancethrive.com'), HumanMessage(content='save that entry to the database'), AIMessage(content=\"I'm sorry, but as an AI, I don't have the ability to directly interact with databases. However, I can help you format your data in a way that's ready to be input into a database. Here's your sleep diary entry in a database-friendly format:\\n\\n- Date: October 4, 2023\\n- Bedtime: 21:00\\n- Sleep Attempt Time: 23:00\\n- Time to Fall Asleep: 30 minutes\\n- Number of Awakenings: 5\\n- Total Awake Time: 50 minutes\\n- Final Wake Time: 06:30\\n- Out of Bed Time: 06:30\\n- Sleep Quality: Okay\\n- Medications: Melatonin\\n- Notes: Slept in the van 5\\n\\nPlease let me know if you need help with anything else. 🚀🚀🚀\"), AIMessage(content=\"what's your name?\"), HumanMessage(content='Chris'), AIMessage(content=\"what's your email?\"), HumanMessage(content='chris@nourishbalancethrive.com'), HumanMessage(content='hey'), AIMessage(content=\"Hello Chris, nice to meet you. I'm your AI clinician. I'm going to help you with your sleep diary. If you have any sleep diary entries, please share them with me.\"), AIMessage(content=\"what's your name?\"), HumanMessage(content='Chris'), AIMessage(content=\"what's your email?\"), HumanMessage(content='chris@nourishbalancethrive.com'), HumanMessage(content=\"what's my email?\"), AIMessage(content=\"Your email is chris@nourishbalancethrive.com. Now, let's move on to the sleep diary. Is now a good time to record a diary entry?\"), AIMessage(content=\"what's your name?\"), HumanMessage(content='Chris'), AIMessage(content=\"what's your email?\"), HumanMessage(content='chris@nourishbalancethrive.com'), HumanMessage(content='Oct 5'), AIMessage(content=\"I'm sorry, but I couldn't find a sleep diary entry for October 5, 2023. Would you like to create a new entry for this date?\"), AIMessage(content=\"what's your name?\"), HumanMessage(content='Chris'), AIMessage(content=\"what's your email?\"), HumanMessage(content='chris@nourishbalancethrive.com'), HumanMessage(content='yep'), AIMessage(content=\"Great! Let's start with the time you went to bed on October 5, 2023.\"), AIMessage(content=\"what's your name?\"), HumanMessage(content='Chris'), AIMessage(content=\"what's your email?\"), HumanMessage(content='chris@nourishbalancethrive.com'), HumanMessage(content='21:00'), AIMessage(content='Thanks, Chris. Now, what time did you try to fall asleep?'), AIMessage(content=\"what's your name?\"), HumanMessage(content='Chris'), AIMessage(content=\"what's your email?\"), HumanMessage(content='chris@nourishbalancethrive.com'), HumanMessage(content='23:00'), AIMessage(content='Got it. How long did it take you to fall asleep?'), AIMessage(content=\"what's your name?\"), HumanMessage(content='Chris'), AIMessage(content=\"what's your email?\"), HumanMessage(content='chris@nourishbalancethrive.com'), HumanMessage(content='30'), AIMessage(content='Thanks for sharing that. How many times did you wake up during the night?'), AIMessage(content=\"what's your name?\"), HumanMessage(content='Chris'), AIMessage(content=\"what's your email?\"), HumanMessage(content='chris@nourishbalancethrive.com'), HumanMessage(content='5'), AIMessage(content='I see. And how long were you awake during these times? Please provide the total time in minutes.'), AIMessage(content=\"what's your name?\"), HumanMessage(content='Chris'), AIMessage(content=\"what's your email?\"), HumanMessage(content='chris@nourishbalancethrive.com'), HumanMessage(content='50'), AIMessage(content='Thanks for that information. What time did you finally wake up?'), AIMessage(content=\"what's your name?\"), HumanMessage(content='Chris'), AIMessage(content=\"what's your email?\"), HumanMessage(content='chris@nourishbalancethrive.com'), HumanMessage(content='6:30'), AIMessage(content='Thanks for sharing that. And what time did you get out of bed?'), AIMessage(content=\"what's your name?\"), HumanMessage(content='Chris'), AIMessage(content=\"what's your email?\"), HumanMessage(content='chris@nourishbalancethrive.com'), HumanMessage(content='okay'), AIMessage(content='I see. How would you rate your sleep quality on a scale of \"very good\", \"good\", \"okay\", \"bad\", \"very bad\"?'), AIMessage(content=\"what's your name?\"), HumanMessage(content='Chris'), AIMessage(content=\"what's your email?\"), HumanMessage(content='chris@nourishbalancethrive.com'), HumanMessage(content='melatonin, and for the notes I slept in the van'), AIMessage(content='Thanks for sharing that, Chris. Here\\'s the summary of your sleep diary entry for October 5, 2023:\\n\\n- You got in bed at 21:00.\\n- You tried to fall asleep at 23:00.\\n- It took you 30 minutes to fall asleep.\\n- You woke up 5 times during the night.\\n- You were awake for a total of 50 minutes during the night.\\n- You finally woke up at 06:30.\\n- You got out of bed at 06:30.\\n- You rated your sleep quality as \"okay\".\\n- You took melatonin as medication.\\n- You noted that you \"Slept in the van\".\\n\\nYour sleep efficiency was 64.91%. Remember, anything over 85% is considered normal. Is this information correct?'), AIMessage(content=\"what's your name?\"), HumanMessage(content='Chris'), AIMessage(content=\"what's your email?\"), HumanMessage(content='chris@nourishbalancethrive.com'), HumanMessage(content='yep!'), AIMessage(content=\"Great! I've saved your sleep diary entry for October 5, 2023. Remember, keeping a regular sleep diary can help identify patterns and areas for improvement in your sleep habits. Keep up the good work! 🚀🚀🚀\")]\n",
    "\n",
    "{\"properties\": {\"date\": {\"title\": \"Date\", \"description\": \"date of entry\", \"type\": \"string\"}, \"in_bed\": {\"title\": \"In Bed\", \"description\": \"time you went to bed\", \"type\": \"string\"}, \"tried_to_fall_asleep\": {\"title\": \"Tried To Fall Asleep\", \"description\": \"time you tried to fall asleep\", \"type\": \"string\"}, \"time_to_fall_asleep\": {\"title\": \"Time To Fall Asleep\", \"description\": \"how long it took you to fall asleep\", \"type\": \"integer\"}, \"times_awake\": {\"title\": \"Times Awake\", \"description\": \"how many times you woke up during the night\", \"type\": \"integer\"}, \"time_awake\": {\"title\": \"Time Awake\", \"description\": \"total time you were awake during the night\", \"type\": \"integer\"}, \"final_wake_up\": {\"title\": \"Final Wake Up\", \"description\": \"final wake up time\", \"type\": \"string\"}, \"out_of_bed\": {\"title\": \"Out Of Bed\", \"description\": \"time you got out of bed"
   ]
  },
  {
   "cell_type": "code",
   "execution_count": 5,
   "id": "40e58eca-5b92-4c72-8d22-ec5b8c937025",
   "metadata": {
    "scrolled": true
   },
   "outputs": [
    {
     "data": {
      "text/plain": [
       "User(name='Chris', email='chris@nourishbalancethrive.com')"
      ]
     },
     "execution_count": 5,
     "metadata": {},
     "output_type": "execute_result"
    }
   ],
   "source": [
    "user = get_user(memory); user"
   ]
  },
  {
   "cell_type": "code",
   "execution_count": 3,
   "id": "3d27e3ae-766f-47f2-bdb8-ef7717eedd1a",
   "metadata": {
    "scrolled": true
   },
   "outputs": [
    {
     "ename": "OutputParserException",
     "evalue": "Failed to parse SleepDiaryEntry from completion \n\nThe output should be formatted as a JSON instance that conforms to the following schema:\n\n{\"properties\": {\"date\": {\"title\": \"Date\", \"description\": \"date of entry\", \"type\": \"string\"}, \"in_bed\": {\"title\": \"In Bed\", \"description\": \"time you went to bed\", \"type\": \"string\"}, \"tried_to_fall_asleep\": {\"title\": \"Tried To Fall Asleep\", \"description\": \"time you tried to fall asleep\", \"type\": \"string\"}, \"time_to_fall_asleep\": {\"title\": \"Time To Fall Asleep\", \"description\": \"how long it took you to fall asleep\", \"type\": \"integer\"}, \"times_awake\": {\"title\": \"Times Awake\", \"description\": \"how many times you woke up during the night\", \"type\": \"integer\"}, \"time_awake\": {\"title\": \"Time Awake\", \"description\": \"total time you were awake during the night\", \"type\": \"integer\"}, \"final_wake_up\": {\"title\": \"Final Wake Up\", \"description\": \"final wake up time\", \"type\": \"string\"}, \"out_of_bed. Got: Expecting ',' delimiter: line 1 column 776 (char 775)",
     "output_type": "error",
     "traceback": [
      "\u001b[0;31m---------------------------------------------------------------------------\u001b[0m",
      "\u001b[0;31mJSONDecodeError\u001b[0m                           Traceback (most recent call last)",
      "File \u001b[0;32m~/Library/Caches/pypoetry/virtualenvs/sleepmate-kok1GflL-py3.11/lib/python3.11/site-packages/langchain/output_parsers/pydantic.py:28\u001b[0m, in \u001b[0;36mPydanticOutputParser.parse\u001b[0;34m(self, text)\u001b[0m\n\u001b[1;32m     27\u001b[0m     json_str \u001b[38;5;241m=\u001b[39m match\u001b[38;5;241m.\u001b[39mgroup()\n\u001b[0;32m---> 28\u001b[0m json_object \u001b[38;5;241m=\u001b[39m \u001b[43mjson\u001b[49m\u001b[38;5;241;43m.\u001b[39;49m\u001b[43mloads\u001b[49m\u001b[43m(\u001b[49m\u001b[43mjson_str\u001b[49m\u001b[43m,\u001b[49m\u001b[43m \u001b[49m\u001b[43mstrict\u001b[49m\u001b[38;5;241;43m=\u001b[39;49m\u001b[38;5;28;43;01mFalse\u001b[39;49;00m\u001b[43m)\u001b[49m\n\u001b[1;32m     29\u001b[0m \u001b[38;5;28;01mreturn\u001b[39;00m \u001b[38;5;28mself\u001b[39m\u001b[38;5;241m.\u001b[39mpydantic_object\u001b[38;5;241m.\u001b[39mparse_obj(json_object)\n",
      "File \u001b[0;32m/opt/homebrew/Cellar/python@3.11/3.11.5/Frameworks/Python.framework/Versions/3.11/lib/python3.11/json/__init__.py:359\u001b[0m, in \u001b[0;36mloads\u001b[0;34m(s, cls, object_hook, parse_float, parse_int, parse_constant, object_pairs_hook, **kw)\u001b[0m\n\u001b[1;32m    358\u001b[0m     kw[\u001b[38;5;124m'\u001b[39m\u001b[38;5;124mparse_constant\u001b[39m\u001b[38;5;124m'\u001b[39m] \u001b[38;5;241m=\u001b[39m parse_constant\n\u001b[0;32m--> 359\u001b[0m \u001b[38;5;28;01mreturn\u001b[39;00m \u001b[38;5;28;43mcls\u001b[39;49m\u001b[43m(\u001b[49m\u001b[38;5;241;43m*\u001b[39;49m\u001b[38;5;241;43m*\u001b[39;49m\u001b[43mkw\u001b[49m\u001b[43m)\u001b[49m\u001b[38;5;241;43m.\u001b[39;49m\u001b[43mdecode\u001b[49m\u001b[43m(\u001b[49m\u001b[43ms\u001b[49m\u001b[43m)\u001b[49m\n",
      "File \u001b[0;32m/opt/homebrew/Cellar/python@3.11/3.11.5/Frameworks/Python.framework/Versions/3.11/lib/python3.11/json/decoder.py:337\u001b[0m, in \u001b[0;36mJSONDecoder.decode\u001b[0;34m(self, s, _w)\u001b[0m\n\u001b[1;32m    333\u001b[0m \u001b[38;5;250m\u001b[39m\u001b[38;5;124;03m\"\"\"Return the Python representation of ``s`` (a ``str`` instance\u001b[39;00m\n\u001b[1;32m    334\u001b[0m \u001b[38;5;124;03mcontaining a JSON document).\u001b[39;00m\n\u001b[1;32m    335\u001b[0m \n\u001b[1;32m    336\u001b[0m \u001b[38;5;124;03m\"\"\"\u001b[39;00m\n\u001b[0;32m--> 337\u001b[0m obj, end \u001b[38;5;241m=\u001b[39m \u001b[38;5;28;43mself\u001b[39;49m\u001b[38;5;241;43m.\u001b[39;49m\u001b[43mraw_decode\u001b[49m\u001b[43m(\u001b[49m\u001b[43ms\u001b[49m\u001b[43m,\u001b[49m\u001b[43m \u001b[49m\u001b[43midx\u001b[49m\u001b[38;5;241;43m=\u001b[39;49m\u001b[43m_w\u001b[49m\u001b[43m(\u001b[49m\u001b[43ms\u001b[49m\u001b[43m,\u001b[49m\u001b[43m \u001b[49m\u001b[38;5;241;43m0\u001b[39;49m\u001b[43m)\u001b[49m\u001b[38;5;241;43m.\u001b[39;49m\u001b[43mend\u001b[49m\u001b[43m(\u001b[49m\u001b[43m)\u001b[49m\u001b[43m)\u001b[49m\n\u001b[1;32m    338\u001b[0m end \u001b[38;5;241m=\u001b[39m _w(s, end)\u001b[38;5;241m.\u001b[39mend()\n",
      "File \u001b[0;32m/opt/homebrew/Cellar/python@3.11/3.11.5/Frameworks/Python.framework/Versions/3.11/lib/python3.11/json/decoder.py:353\u001b[0m, in \u001b[0;36mJSONDecoder.raw_decode\u001b[0;34m(self, s, idx)\u001b[0m\n\u001b[1;32m    352\u001b[0m \u001b[38;5;28;01mtry\u001b[39;00m:\n\u001b[0;32m--> 353\u001b[0m     obj, end \u001b[38;5;241m=\u001b[39m \u001b[38;5;28;43mself\u001b[39;49m\u001b[38;5;241;43m.\u001b[39;49m\u001b[43mscan_once\u001b[49m\u001b[43m(\u001b[49m\u001b[43ms\u001b[49m\u001b[43m,\u001b[49m\u001b[43m \u001b[49m\u001b[43midx\u001b[49m\u001b[43m)\u001b[49m\n\u001b[1;32m    354\u001b[0m \u001b[38;5;28;01mexcept\u001b[39;00m \u001b[38;5;167;01mStopIteration\u001b[39;00m \u001b[38;5;28;01mas\u001b[39;00m err:\n",
      "\u001b[0;31mJSONDecodeError\u001b[0m: Expecting ',' delimiter: line 1 column 776 (char 775)",
      "\nDuring handling of the above exception, another exception occurred:\n",
      "\u001b[0;31mOutputParserException\u001b[0m                     Traceback (most recent call last)",
      "Cell \u001b[0;32mIn[3], line 1\u001b[0m\n\u001b[0;32m----> 1\u001b[0m entry \u001b[38;5;241m=\u001b[39m get_sleep_diary_entry(memory); entry\n",
      "File \u001b[0;32m~/Documents/sleepmate/sleepmate/diary.py:55\u001b[0m, in \u001b[0;36mget_sleep_diary_entry\u001b[0;34m(memory)\u001b[0m\n\u001b[1;32m     54\u001b[0m \u001b[38;5;28;01mdef\u001b[39;00m \u001b[38;5;21mget_sleep_diary_entry\u001b[39m(memory: BaseMemory) \u001b[38;5;241m-\u001b[39m\u001b[38;5;241m>\u001b[39m SleepDiaryEntry:\n\u001b[0;32m---> 55\u001b[0m     \u001b[38;5;28;01mreturn\u001b[39;00m \u001b[43mget_parsed_output\u001b[49m\u001b[43m(\u001b[49m\n\u001b[1;32m     56\u001b[0m \u001b[43m        \u001b[49m\u001b[38;5;124;43m\"\u001b[39;49m\u001b[38;5;124;43msummarise the last sleep diary entry\u001b[39;49m\u001b[38;5;124;43m\"\u001b[39;49m\u001b[43m,\u001b[49m\u001b[43m \u001b[49m\u001b[43mmemory\u001b[49m\u001b[43m,\u001b[49m\u001b[43m \u001b[49m\u001b[43mSleepDiaryEntry\u001b[49m\n\u001b[1;32m     57\u001b[0m \u001b[43m    \u001b[49m\u001b[43m)\u001b[49m\n",
      "File \u001b[0;32m~/Documents/sleepmate/sleepmate/structured.py:44\u001b[0m, in \u001b[0;36mget_parsed_output\u001b[0;34m(query, memory, cls)\u001b[0m\n\u001b[1;32m     42\u001b[0m chain \u001b[38;5;241m=\u001b[39m LLMChain(llm\u001b[38;5;241m=\u001b[39mllm, prompt\u001b[38;5;241m=\u001b[39mprompt, memory\u001b[38;5;241m=\u001b[39mtail_memory(memory))\n\u001b[1;32m     43\u001b[0m output \u001b[38;5;241m=\u001b[39m chain({\u001b[38;5;124m\"\u001b[39m\u001b[38;5;124mquery\u001b[39m\u001b[38;5;124m\"\u001b[39m: query})\n\u001b[0;32m---> 44\u001b[0m \u001b[38;5;28;01mreturn\u001b[39;00m \u001b[43mparser\u001b[49m\u001b[38;5;241;43m.\u001b[39;49m\u001b[43mparse\u001b[49m\u001b[43m(\u001b[49m\u001b[43moutput\u001b[49m\u001b[43m[\u001b[49m\u001b[38;5;124;43m\"\u001b[39;49m\u001b[38;5;124;43mtext\u001b[39;49m\u001b[38;5;124;43m\"\u001b[39;49m\u001b[43m]\u001b[49m\u001b[43m)\u001b[49m\n",
      "File \u001b[0;32m~/Library/Caches/pypoetry/virtualenvs/sleepmate-kok1GflL-py3.11/lib/python3.11/site-packages/langchain/output_parsers/pydantic.py:34\u001b[0m, in \u001b[0;36mPydanticOutputParser.parse\u001b[0;34m(self, text)\u001b[0m\n\u001b[1;32m     32\u001b[0m name \u001b[38;5;241m=\u001b[39m \u001b[38;5;28mself\u001b[39m\u001b[38;5;241m.\u001b[39mpydantic_object\u001b[38;5;241m.\u001b[39m\u001b[38;5;18m__name__\u001b[39m\n\u001b[1;32m     33\u001b[0m msg \u001b[38;5;241m=\u001b[39m \u001b[38;5;124mf\u001b[39m\u001b[38;5;124m\"\u001b[39m\u001b[38;5;124mFailed to parse \u001b[39m\u001b[38;5;132;01m{\u001b[39;00mname\u001b[38;5;132;01m}\u001b[39;00m\u001b[38;5;124m from completion \u001b[39m\u001b[38;5;132;01m{\u001b[39;00mtext\u001b[38;5;132;01m}\u001b[39;00m\u001b[38;5;124m. Got: \u001b[39m\u001b[38;5;132;01m{\u001b[39;00me\u001b[38;5;132;01m}\u001b[39;00m\u001b[38;5;124m\"\u001b[39m\n\u001b[0;32m---> 34\u001b[0m \u001b[38;5;28;01mraise\u001b[39;00m OutputParserException(msg, llm_output\u001b[38;5;241m=\u001b[39mtext)\n",
      "\u001b[0;31mOutputParserException\u001b[0m: Failed to parse SleepDiaryEntry from completion \n\nThe output should be formatted as a JSON instance that conforms to the following schema:\n\n{\"properties\": {\"date\": {\"title\": \"Date\", \"description\": \"date of entry\", \"type\": \"string\"}, \"in_bed\": {\"title\": \"In Bed\", \"description\": \"time you went to bed\", \"type\": \"string\"}, \"tried_to_fall_asleep\": {\"title\": \"Tried To Fall Asleep\", \"description\": \"time you tried to fall asleep\", \"type\": \"string\"}, \"time_to_fall_asleep\": {\"title\": \"Time To Fall Asleep\", \"description\": \"how long it took you to fall asleep\", \"type\": \"integer\"}, \"times_awake\": {\"title\": \"Times Awake\", \"description\": \"how many times you woke up during the night\", \"type\": \"integer\"}, \"time_awake\": {\"title\": \"Time Awake\", \"description\": \"total time you were awake during the night\", \"type\": \"integer\"}, \"final_wake_up\": {\"title\": \"Final Wake Up\", \"description\": \"final wake up time\", \"type\": \"string\"}, \"out_of_bed. Got: Expecting ',' delimiter: line 1 column 776 (char 775)"
     ]
    }
   ],
   "source": [
    "entry = get_sleep_diary_entry(memory); entry"
   ]
  },
  {
   "cell_type": "code",
   "execution_count": 5,
   "id": "66007d9b-778b-47c3-8ebb-a3b5d26f3e31",
   "metadata": {},
   "outputs": [],
   "source": [
    "db_entry = save_sleep_diary_entry(db_user, entry)"
   ]
  },
  {
   "cell_type": "code",
   "execution_count": null,
   "id": "31d02fd6-3171-4398-bc27-a0098a0bdeca",
   "metadata": {},
   "outputs": [],
   "source": []
  },
  {
   "cell_type": "code",
   "execution_count": 6,
   "id": "aaed1e80-da10-4227-a1fe-93df80872c82",
   "metadata": {},
   "outputs": [
    {
     "data": {
      "text/plain": [
       "{'_id': ObjectId('652738d055cc9d6f13c11cf5'),\n",
       " 'user': ObjectId('6526d86e6015be5b3434ac13'),\n",
       " 'date': datetime.datetime(2023, 10, 1, 0, 0),\n",
       " 'in_bed': datetime.datetime(2023, 10, 1, 21, 0),\n",
       " 'tried_to_fall_asleep': datetime.datetime(2023, 10, 1, 23, 0),\n",
       " 'time_to_fall_asleep': 30,\n",
       " 'times_awake': 5,\n",
       " 'time_awake': 50,\n",
       " 'final_wake_up': datetime.datetime(2023, 10, 2, 6, 30),\n",
       " 'out_of_bed': datetime.datetime(2023, 10, 2, 6, 30),\n",
       " 'sleep_quality': 'okay',\n",
       " 'medications': 'melatonin',\n",
       " 'notes': 'Slept in the van 4'}"
      ]
     },
     "execution_count": 6,
     "metadata": {},
     "output_type": "execute_result"
    }
   ],
   "source": [
    "db_entry.to_mongo().to_dict()"
   ]
  },
  {
   "cell_type": "code",
   "execution_count": 21,
   "id": "cfea8f66-fa8d-46aa-812a-cb60757e8872",
   "metadata": {},
   "outputs": [
    {
     "data": {
      "text/plain": [
       "7"
      ]
     },
     "execution_count": 21,
     "metadata": {},
     "output_type": "execute_result"
    }
   ],
   "source": [
    "DBSleepDiaryEntry.objects.delete()"
   ]
  },
  {
   "cell_type": "code",
   "execution_count": 44,
   "id": "3cd29a1e-a7fa-4214-96dc-6ffe6e286e03",
   "metadata": {},
   "outputs": [
    {
     "data": {
      "text/plain": [
       "{'_id': ObjectId('65270f56f2031c8434501e59'),\n",
       " 'user': ObjectId('6526d86e6015be5b3434ac13'),\n",
       " 'date': datetime.datetime(2023, 10, 11, 0, 0),\n",
       " 'in_bed': datetime.datetime(2023, 10, 11, 21, 15),\n",
       " 'tried_to_fall_asleep': datetime.datetime(2023, 10, 11, 21, 15),\n",
       " 'time_to_fall_asleep': 5,\n",
       " 'times_awake': 1,\n",
       " 'time_awake': 5,\n",
       " 'final_wake_up': datetime.datetime(2023, 10, 12, 6, 15),\n",
       " 'out_of_bed': datetime.datetime(2023, 10, 12, 6, 15),\n",
       " 'sleep_quality': 'Good',\n",
       " 'medications': 'Melatonin',\n",
       " 'notes': 'Slept in the van, it was raining'}"
      ]
     },
     "execution_count": 44,
     "metadata": {},
     "output_type": "execute_result"
    }
   ],
   "source": [
    "DBSleepDiaryEntry.objects().order_by('-id').first().to_mongo().to_dict()"
   ]
  },
  {
   "cell_type": "code",
   "execution_count": 18,
   "id": "febf68e7-2c93-4e04-964a-b7482b478585",
   "metadata": {},
   "outputs": [
    {
     "data": {
      "text/plain": [
       "1"
      ]
     },
     "execution_count": 18,
     "metadata": {},
     "output_type": "execute_result"
    }
   ],
   "source": [
    "DBUser.objects.delete()"
   ]
  },
  {
   "cell_type": "code",
   "execution_count": 5,
   "id": "72fe9492-a478-46f3-98f8-b01b9f80aa16",
   "metadata": {},
   "outputs": [
    {
     "data": {
      "text/plain": [
       "2"
      ]
     },
     "execution_count": 5,
     "metadata": {},
     "output_type": "execute_result"
    }
   ],
   "source": [
    "DBExerciseEntry.objects.delete()"
   ]
  },
  {
   "cell_type": "code",
   "execution_count": 13,
   "id": "6bd819f6-d6c6-4e69-b0f7-c2ce6cc3b2bb",
   "metadata": {},
   "outputs": [
    {
     "data": {
      "text/plain": [
       "['date', 'in_bed', 'tried_to_fall_asleep', 'final_wake_up', 'out_of_bed']"
      ]
     },
     "execution_count": 13,
     "metadata": {},
     "output_type": "execute_result"
    }
   ],
   "source": [
    "date_fields"
   ]
  },
  {
   "cell_type": "code",
   "execution_count": 8,
   "id": "5b314d0f-cbab-4d76-a894-146c5b5f913c",
   "metadata": {
    "scrolled": true
   },
   "outputs": [],
   "source": [
    "sleep_data = entry.dict()"
   ]
  },
  {
   "cell_type": "code",
   "execution_count": 9,
   "id": "92c9c616-ac12-4d5f-a7de-13f05001a076",
   "metadata": {},
   "outputs": [
    {
     "data": {
      "text/plain": [
       "{'date': datetime.datetime(2023, 10, 1, 0, 0),\n",
       " 'in_bed': datetime.datetime(2023, 10, 1, 21, 0),\n",
       " 'tried_to_fall_asleep': datetime.datetime(2023, 10, 1, 23, 0),\n",
       " 'time_to_fall_asleep': 30,\n",
       " 'times_awake': 5,\n",
       " 'time_awake': 50,\n",
       " 'final_wake_up': datetime.datetime(2023, 10, 1, 6, 30),\n",
       " 'out_of_bed': datetime.datetime(2023, 10, 1, 6, 30),\n",
       " 'sleep_quality': 'okay',\n",
       " 'medications': 'melatonin',\n",
       " 'notes': 'Slept in the van 4'}"
      ]
     },
     "execution_count": 9,
     "metadata": {},
     "output_type": "execute_result"
    }
   ],
   "source": [
    "adjust_to_baseline_date(sleep_data)"
   ]
  },
  {
   "cell_type": "code",
   "execution_count": 14,
   "id": "f58f279e-d8d4-46e6-ada3-603e10156966",
   "metadata": {},
   "outputs": [
    {
     "name": "stdout",
     "output_type": "stream",
     "text": [
      "in_bed\n",
      "tried_to_fall_asleep\n",
      "final_wake_up\n",
      "out_of_bed\n"
     ]
    },
    {
     "data": {
      "text/plain": [
       "{'date': datetime.datetime(2023, 10, 7, 0, 0),\n",
       " 'in_bed': datetime.datetime(2023, 10, 11, 21, 15),\n",
       " 'tried_to_fall_asleep': datetime.datetime(2023, 10, 12, 21, 10),\n",
       " 'final_wake_up': datetime.datetime(2023, 10, 12, 23, 15),\n",
       " 'out_of_bed': datetime.datetime(2023, 10, 13, 6, 15),\n",
       " 'sleep_quality': 'Good',\n",
       " 'medications': 'Melatonin',\n",
       " 'notes': 'Slept in the van, it was raining'}"
      ]
     },
     "execution_count": 14,
     "metadata": {},
     "output_type": "execute_result"
    }
   ],
   "source": [
    "normalized_data = make_monotonic(sleep_data); normalized_data"
   ]
  },
  {
   "cell_type": "code",
   "execution_count": 16,
   "id": "b68bfca6-996a-4d25-b7c9-892d53e01d40",
   "metadata": {},
   "outputs": [],
   "source": [
    "date = date_parser(\"2023-09-01\")"
   ]
  },
  {
   "cell_type": "code",
   "execution_count": 22,
   "id": "b42071aa-c9f2-46d8-ae3c-c87df7325821",
   "metadata": {},
   "outputs": [
    {
     "data": {
      "text/plain": [
       "[<SleepDiaryEntry: SleepDiaryEntry object>]"
      ]
     },
     "execution_count": 22,
     "metadata": {},
     "output_type": "execute_result"
    }
   ],
   "source": [
    "DBSleepDiaryEntry.objects(user=db_user, date=date)"
   ]
  },
  {
   "cell_type": "code",
   "execution_count": 5,
   "id": "e35d19ff-f59f-491f-aa56-3cc19d76e68f",
   "metadata": {},
   "outputs": [
    {
     "data": {
      "text/plain": [
       "[datetime.datetime(2023, 9, 1, 0, 0),\n",
       " datetime.datetime(2023, 9, 2, 0, 0),\n",
       " datetime.datetime(2023, 9, 3, 0, 0),\n",
       " datetime.datetime(2023, 9, 4, 0, 0),\n",
       " datetime.datetime(2023, 9, 5, 0, 0)]"
      ]
     },
     "execution_count": 5,
     "metadata": {},
     "output_type": "execute_result"
    }
   ],
   "source": [
    "[e.date for e in DBSleepDiaryEntry.objects()]"
   ]
  },
  {
   "cell_type": "code",
   "execution_count": 6,
   "id": "1f3a8b33-3d4a-4ec1-b2e6-cd9d81fb9669",
   "metadata": {},
   "outputs": [
    {
     "data": {
      "text/plain": [
       "SON([('_id', ObjectId('652738d055cc9d6f13c11cf5')), ('user', ObjectId('6526d86e6015be5b3434ac13')), ('date', datetime.datetime(2023, 10, 1, 0, 0)), ('in_bed', datetime.datetime(2023, 10, 1, 21, 0)), ('tried_to_fall_asleep', datetime.datetime(2023, 10, 1, 23, 0)), ('time_to_fall_asleep', 30), ('times_awake', 5), ('time_awake', 50), ('final_wake_up', datetime.datetime(2023, 10, 2, 6, 30)), ('out_of_bed', datetime.datetime(2023, 10, 2, 6, 30)), ('sleep_quality', 'okay'), ('medications', 'melatonin'), ('notes', 'Slept in the van 4')])"
      ]
     },
     "execution_count": 6,
     "metadata": {},
     "output_type": "execute_result"
    }
   ],
   "source": [
    "DBSleepDiaryEntry.objects(user=db_user, date=date_parser(\"2023-10-01\")).first().to_mongo()"
   ]
  },
  {
   "cell_type": "code",
   "execution_count": 2,
   "id": "26f15c5e-8168-4468-af82-4b3b77976f87",
   "metadata": {},
   "outputs": [
    {
     "data": {
      "text/plain": [
       "[<ISIEntry: ISIEntry object>]"
      ]
     },
     "execution_count": 2,
     "metadata": {},
     "output_type": "execute_result"
    }
   ],
   "source": [
    "DBISIEntry.objects()"
   ]
  },
  {
   "cell_type": "code",
   "execution_count": null,
   "id": "24dca60c-bc4a-43fc-8799-b5524774823b",
   "metadata": {},
   "outputs": [],
   "source": []
  }
 ],
 "metadata": {
  "kernelspec": {
   "display_name": "Python 3 (ipykernel)",
   "language": "python",
   "name": "python3"
  },
  "language_info": {
   "codemirror_mode": {
    "name": "ipython",
    "version": 3
   },
   "file_extension": ".py",
   "mimetype": "text/x-python",
   "name": "python",
   "nbconvert_exporter": "python",
   "pygments_lexer": "ipython3",
   "version": "3.11.5"
  }
 },
 "nbformat": 4,
 "nbformat_minor": 5
}
