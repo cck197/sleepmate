{
 "cells": [
  {
   "cell_type": "code",
   "execution_count": 1,
   "id": "b035da0e-a6fa-412e-9f14-b1d8524deae1",
   "metadata": {
    "scrolled": true
   },
   "outputs": [],
   "source": [
    "from sleepmate.agent import *"
   ]
  },
  {
   "cell_type": "code",
   "execution_count": 5,
   "id": "b6d07629-d75c-43d9-9717-b298931adb64",
   "metadata": {},
   "outputs": [],
   "source": [
    "!rm -f /Users/cck197/Downloads/virtual_greg/memory.pkl"
   ]
  },
  {
   "cell_type": "code",
   "execution_count": 3,
   "id": "63c2a191-d60a-44b4-8ab6-8646bf8261fc",
   "metadata": {},
   "outputs": [
    {
     "name": "stdout",
     "output_type": "stream",
     "text": [
      "Automatic pdb calling has been turned ON\n"
     ]
    }
   ],
   "source": [
    "%pdb"
   ]
  },
  {
   "cell_type": "markdown",
   "id": "ea6532d5-4def-45bb-8497-d3e84e695cea",
   "metadata": {
    "jp-MarkdownHeadingCollapsed": true
   },
   "source": [
    "# Sleep Diary"
   ]
  },
  {
   "cell_type": "code",
   "execution_count": 2,
   "id": "437dce8a-b275-4373-b40f-d0b06ac20ab3",
   "metadata": {},
   "outputs": [
    {
     "name": "stdout",
     "output_type": "stream",
     "text": [
      "X() len(self.tools)=28\n",
      "X.get_next_goal goal='diary_entry'\n",
      "_to_args_and_kwargs self.name='get_greeting' all_args=['Chris']\n"
     ]
    },
    {
     "data": {
      "text/markdown": [
       "Hello, Chris! I hope you're doing well. Is now a good time to record a sleep diary entry?"
      ],
      "text/plain": [
       "<IPython.core.display.Markdown object>"
      ]
     },
     "metadata": {},
     "output_type": "display_data"
    }
   ],
   "source": [
    "x = X()#hello=False)"
   ]
  },
  {
   "cell_type": "code",
   "execution_count": 6,
   "id": "e00a919f-b2af-4b9b-baa3-1eab9f3f9100",
   "metadata": {},
   "outputs": [
    {
     "name": "stdout",
     "output_type": "stream",
     "text": [
      "X.get_next_goal goal='daily_routine'\n",
      "_to_args_and_kwargs self.name='get_knowledge_answer' all_args=['daily routine']\n"
     ]
    },
    {
     "data": {
      "text/markdown": [
       "A daily routine can vary greatly depending on individual lifestyle, work schedule, and personal preferences. However, based on the knowledge provided, a daily routine could look something like this:\n",
       "\n",
       "1. Wake up at a consistent time each day to help regulate your body's internal clock. Spend the first hour of your day outdoors in daylight to give your body's clock a strong time cue. \n",
       "\n",
       "2. Engage in regular physical activity throughout the day. Aim for strenuous exercise in the late afternoon, around 5 or 6 PM, when your body is primed for it. \n",
       "\n",
       "3. Follow a time-restricted eating schedule, confining your intake of anything that contains calories to a period of 12 hours or less each 24-hour day. An eating window of 8 to 10 hours works well for most people, and should ideally end at least two hours before bed.\n",
       "\n",
       "4. Focus your nutrition on foods that have a high satiety per calorie, such as fruits, vegetables, lean meats, and fish. Try to avoid snacking, especially on low-quality foods.\n",
       "\n",
       "5. Minimize your exposure to bright overhead lights in the three hours before bed, and sleep in near or total darkness. \n",
       "\n",
       "6. If you're struggling with sleep, consider implementing bedtime restriction therapy, which involves only allowing yourself the amount of time in bed that you're actually asleep on a regular basis.\n",
       "\n",
       "7. Finally, try to spend sufficient time in bed each night. If you have a history of insufficient sleep, consider extending your time in bed by setting your alarm clock as late as possible and increasing your exposure to daylight in the morning.\n",
       "\n",
       "Remember, this is just a general guideline and individual needs may vary. It's always best to listen to your body and adjust your routine as necessary."
      ],
      "text/plain": [
       "<IPython.core.display.Markdown object>"
      ]
     },
     "metadata": {},
     "output_type": "display_data"
    }
   ],
   "source": [
    "x(\"what's that?\");"
   ]
  },
  {
   "cell_type": "code",
   "execution_count": 7,
   "id": "b03dd1fe-096d-4c59-bd76-af1804e0bf61",
   "metadata": {},
   "outputs": [
    {
     "name": "stdout",
     "output_type": "stream",
     "text": [
      "X.get_next_goal goal='daily_routine'\n"
     ]
    },
    {
     "data": {
      "text/markdown": [
       "I understand, Chris. It sounds like this might not be the right time for you to explore a new routine. That's perfectly okay. ###"
      ],
      "text/plain": [
       "<IPython.core.display.Markdown object>"
      ]
     },
     "metadata": {},
     "output_type": "display_data"
    }
   ],
   "source": [
    "x(\"nah, not into that thanks\");"
   ]
  },
  {
   "cell_type": "code",
   "execution_count": 3,
   "id": "31d143b4-d37b-4324-a106-6447ed99d94b",
   "metadata": {},
   "outputs": [
    {
     "name": "stdout",
     "output_type": "stream",
     "text": [
      "X.get_next_goal goal='diary_entry'\n"
     ]
    },
    {
     "data": {
      "text/markdown": [
       "Fantastic! Let's start with the date of the entry. By default, we'll use yesterday's date. Is that okay, or would you like to specify a different date?"
      ],
      "text/plain": [
       "<IPython.core.display.Markdown object>"
      ]
     },
     "metadata": {},
     "output_type": "display_data"
    }
   ],
   "source": [
    "x(\"sure\");"
   ]
  },
  {
   "cell_type": "code",
   "execution_count": 4,
   "id": "d7b64e41-efaa-4496-a075-a12d906d980f",
   "metadata": {},
   "outputs": [
    {
     "name": "stdout",
     "output_type": "stream",
     "text": [
      "X.get_next_goal goal='diary_entry'\n"
     ]
    },
    {
     "data": {
      "text/markdown": [
       "Great, we'll use yesterday's date. Now, could you please tell me what time you went to bed?"
      ],
      "text/plain": [
       "<IPython.core.display.Markdown object>"
      ]
     },
     "metadata": {},
     "output_type": "display_data"
    }
   ],
   "source": [
    "x(\"yesterday is fine\");"
   ]
  },
  {
   "cell_type": "code",
   "execution_count": 5,
   "id": "a357f124-7986-4a42-8de9-4be5d422f05e",
   "metadata": {},
   "outputs": [
    {
     "name": "stdout",
     "output_type": "stream",
     "text": [
      "X.get_next_goal goal='diary_entry'\n"
     ]
    },
    {
     "data": {
      "text/markdown": [
       "Thank you, Chris. And at what time did you try to fall asleep?"
      ],
      "text/plain": [
       "<IPython.core.display.Markdown object>"
      ]
     },
     "metadata": {},
     "output_type": "display_data"
    }
   ],
   "source": [
    "x(\"21:15\");"
   ]
  },
  {
   "cell_type": "code",
   "execution_count": 6,
   "id": "3d818c3d-ea8a-4e16-bca5-9c5c75e31ed4",
   "metadata": {},
   "outputs": [
    {
     "name": "stdout",
     "output_type": "stream",
     "text": [
      "X.get_next_goal goal='diary_entry'\n"
     ]
    },
    {
     "data": {
      "text/markdown": [
       "Alright, you tried to fall asleep at the same time you went to bed. That's quite efficient! Now, how long did it take you to fall asleep, in minutes?"
      ],
      "text/plain": [
       "<IPython.core.display.Markdown object>"
      ]
     },
     "metadata": {},
     "output_type": "display_data"
    }
   ],
   "source": [
    "x(\"21:15\");"
   ]
  },
  {
   "cell_type": "code",
   "execution_count": 7,
   "id": "e68cadc9-f742-42d6-ab56-22b72cb072d6",
   "metadata": {},
   "outputs": [
    {
     "name": "stdout",
     "output_type": "stream",
     "text": [
      "X.get_next_goal goal='diary_entry'\n"
     ]
    },
    {
     "data": {
      "text/markdown": [
       "That's quite quick! Now, how many times did you wake up during the night?"
      ],
      "text/plain": [
       "<IPython.core.display.Markdown object>"
      ]
     },
     "metadata": {},
     "output_type": "display_data"
    }
   ],
   "source": [
    "x(\"5\");"
   ]
  },
  {
   "cell_type": "code",
   "execution_count": 8,
   "id": "5010086c-fb14-4a65-8beb-2bd9e34920a2",
   "metadata": {},
   "outputs": [
    {
     "name": "stdout",
     "output_type": "stream",
     "text": [
      "X.get_next_goal goal='diary_entry'\n"
     ]
    },
    {
     "data": {
      "text/markdown": [
       "I see, you woke up once during the night. Could you tell me how long you were awake for during that time, in minutes?"
      ],
      "text/plain": [
       "<IPython.core.display.Markdown object>"
      ]
     },
     "metadata": {},
     "output_type": "display_data"
    }
   ],
   "source": [
    "x(\"1\");"
   ]
  },
  {
   "cell_type": "code",
   "execution_count": 9,
   "id": "da963f79-f630-47a9-abf1-9f4162ba9484",
   "metadata": {},
   "outputs": [
    {
     "name": "stdout",
     "output_type": "stream",
     "text": [
      "X.get_next_goal goal='diary_entry'\n"
     ]
    },
    {
     "data": {
      "text/markdown": [
       "Thank you for that information. Now, could you tell me what time you finally woke up?"
      ],
      "text/plain": [
       "<IPython.core.display.Markdown object>"
      ]
     },
     "metadata": {},
     "output_type": "display_data"
    }
   ],
   "source": [
    "x(\"30\");"
   ]
  },
  {
   "cell_type": "code",
   "execution_count": 10,
   "id": "739fd26c-4124-4e21-af74-f9183555cf11",
   "metadata": {},
   "outputs": [
    {
     "name": "stdout",
     "output_type": "stream",
     "text": [
      "X.get_next_goal goal='diary_entry'\n"
     ]
    },
    {
     "data": {
      "text/markdown": [
       "Thank you, Chris. And at what time did you get out of bed?"
      ],
      "text/plain": [
       "<IPython.core.display.Markdown object>"
      ]
     },
     "metadata": {},
     "output_type": "display_data"
    }
   ],
   "source": [
    "x(\"6:30\");"
   ]
  },
  {
   "cell_type": "code",
   "execution_count": 11,
   "id": "226dda7f-1dd0-4a8e-b84b-d2173aa5feea",
   "metadata": {},
   "outputs": [
    {
     "name": "stdout",
     "output_type": "stream",
     "text": [
      "X.get_next_goal goal='diary_entry'\n"
     ]
    },
    {
     "data": {
      "text/markdown": [
       "Thank you for sharing that. Now, how would you rate your sleep quality? The options are \"very good\", \"good\", \"okay\", \"bad\", \"very bad\"."
      ],
      "text/plain": [
       "<IPython.core.display.Markdown object>"
      ]
     },
     "metadata": {},
     "output_type": "display_data"
    }
   ],
   "source": [
    "x(\"6:45\");"
   ]
  },
  {
   "cell_type": "code",
   "execution_count": 12,
   "id": "c72bd5ac-77a5-4744-aaed-9becb92f25d4",
   "metadata": {},
   "outputs": [
    {
     "name": "stdout",
     "output_type": "stream",
     "text": [
      "X.get_next_goal goal='diary_entry'\n"
     ]
    },
    {
     "data": {
      "text/markdown": [
       "I'm glad to hear that you had a good sleep. Did you use any medications or aids to help you sleep?"
      ],
      "text/plain": [
       "<IPython.core.display.Markdown object>"
      ]
     },
     "metadata": {},
     "output_type": "display_data"
    }
   ],
   "source": [
    "x(\"good\");"
   ]
  },
  {
   "cell_type": "code",
   "execution_count": 13,
   "id": "30672d25-97c8-4532-a6b0-ed9d39b29a95",
   "metadata": {},
   "outputs": [
    {
     "name": "stdout",
     "output_type": "stream",
     "text": [
      "X.get_next_goal goal='diary_entry'\n"
     ]
    },
    {
     "data": {
      "text/markdown": [
       "Alright, no sleep aids or medications. Lastly, are there any other notes or observations you'd like to add about your sleep?"
      ],
      "text/plain": [
       "<IPython.core.display.Markdown object>"
      ]
     },
     "metadata": {},
     "output_type": "display_data"
    }
   ],
   "source": [
    "x(\"no\");"
   ]
  },
  {
   "cell_type": "code",
   "execution_count": 14,
   "id": "ad210138-c674-4a8c-801d-0af64753bcbd",
   "metadata": {},
   "outputs": [
    {
     "name": "stdout",
     "output_type": "stream",
     "text": [
      "X.get_next_goal goal='diary_entry'\n",
      "_to_args_and_kwargs self.name='save_sleep_diary_entry' all_args=['[\"yesterday\", \"21:15\", \"21:15\", 5, 1, 30, \"6:30\", \"6:45\", \"good\", \"no\", \"slept in the van\"]']\n",
      "save_sleep_diary_entry entry=SleepDiaryEntry(date=datetime.datetime(2023, 10, 19, 7, 1, 21, 847247), in_bed=datetime.datetime(2023, 10, 20, 21, 15), tried_to_fall_asleep=datetime.datetime(2023, 10, 20, 21, 15), time_to_fall_asleep=5, times_awake=1, time_awake=30, final_wake_up=datetime.datetime(2023, 10, 20, 6, 30), out_of_bed=datetime.datetime(2023, 10, 20, 6, 45), sleep_quality='good', medications='no', notes='slept in the van')\n"
     ]
    },
    {
     "data": {
      "text/markdown": [
       "Great, I've recorded your sleep diary entry. Here's a summary:\n",
       "\n",
       "- Date: Yesterday\n",
       "- Time you went to bed: 21:15\n",
       "- Time you tried to fall asleep: 21:15\n",
       "- Time it took you to fall asleep: 5 minutes\n",
       "- Number of times you woke up during the night: 1\n",
       "- Total time you were awake during the night: 30 minutes\n",
       "- Final wake up time: 6:30\n",
       "- Time you got out of bed: 6:45\n",
       "- Sleep quality: Good\n",
       "- Sleep aids: None\n",
       "- Notes: Slept in the van\n",
       "\n",
       "Does everything look correct?"
      ],
      "text/plain": [
       "<IPython.core.display.Markdown object>"
      ]
     },
     "metadata": {},
     "output_type": "display_data"
    }
   ],
   "source": [
    "x(\"slept in the van\");"
   ]
  },
  {
   "cell_type": "code",
   "execution_count": 15,
   "id": "f7c99a61-6cf2-4846-a15f-5b86e095f78a",
   "metadata": {},
   "outputs": [
    {
     "name": "stdout",
     "output_type": "stream",
     "text": [
      "X.get_next_goal goal='diary_entry'\n",
      "_to_args_and_kwargs self.name='save_sleep_diary_entry' all_args=['[\"yesterday\", \"21:15\", \"21:15\", 5, 1, 30, \"6:30\", \"6:45\", \"good\", \"none\", \"slept in the van\"]']\n",
      "save_sleep_diary_entry entry=SleepDiaryEntry(date=datetime.datetime(2023, 10, 19, 7, 1, 52, 692166), in_bed=datetime.datetime(2023, 10, 20, 21, 15), tried_to_fall_asleep=datetime.datetime(2023, 10, 20, 21, 15), time_to_fall_asleep=5, times_awake=1, time_awake=30, final_wake_up=datetime.datetime(2023, 10, 20, 6, 30), out_of_bed=datetime.datetime(2023, 10, 20, 6, 45), sleep_quality='good', medications='none', notes='slept in the van')\n",
      "_to_args_and_kwargs self.name='get_date_sleep_diary_entry' all_args=['yesterday']\n"
     ]
    },
    {
     "data": {
      "text/markdown": [
       "Thank you, Chris. Your sleep diary entry for yesterday has been saved. Here's a summary:\n",
       "\n",
       "- Date: 19th October 2023\n",
       "- Time you went to bed: 21:15\n",
       "- Time you tried to fall asleep: 21:15\n",
       "- Time it took you to fall asleep: 5 minutes\n",
       "- Number of times you woke up during the night: 1\n",
       "- Total time you were awake during the night: 30 minutes\n",
       "- Final wake up time: 6:30\n",
       "- Time you got out of bed: 6:45\n",
       "- Sleep quality: Good\n",
       "- Sleep aids: None\n",
       "- Notes: Slept in the van\n",
       "- Sleep duration: 8 hours and 40 minutes\n",
       "- Sleep efficiency: 91.23% (anything over 85% is considered normal)\n",
       "\n",
       "I must say, despite sleeping in the van, you've managed quite a good night's sleep!"
      ],
      "text/plain": [
       "<IPython.core.display.Markdown object>"
      ]
     },
     "metadata": {},
     "output_type": "display_data"
    }
   ],
   "source": [
    "x(\"yep!\");"
   ]
  },
  {
   "cell_type": "markdown",
   "id": "555048a9-9ed8-4868-8763-eff300aa821c",
   "metadata": {
    "jp-MarkdownHeadingCollapsed": true
   },
   "source": [
    "# Daily Routine"
   ]
  },
  {
   "cell_type": "code",
   "execution_count": 2,
   "id": "cfab3dd3-8171-4e06-87d9-403e7f06c0e8",
   "metadata": {},
   "outputs": [
    {
     "name": "stdout",
     "output_type": "stream",
     "text": [
      "X() len(self.tools)=30\n",
      "X.get_next_goal goal='daily_routine'\n",
      "X.load_memory filename='/Users/cck197/Downloads/virtual_greg/memory.pkl'\n"
     ]
    },
    {
     "data": {
      "text/markdown": [
       "Hello again, Chris! I hope you're feeling refreshed. Would you be open to hearing about a daily routine that could potentially help improve your sleep even further?"
      ],
      "text/plain": [
       "<IPython.core.display.Markdown object>"
      ]
     },
     "metadata": {},
     "output_type": "display_data"
    }
   ],
   "source": [
    "x = X()"
   ]
  },
  {
   "cell_type": "code",
   "execution_count": 3,
   "id": "9def3312-4f73-443c-8aeb-8e8c53f73099",
   "metadata": {},
   "outputs": [
    {
     "name": "stdout",
     "output_type": "stream",
     "text": [
      "X.get_next_goal goal='daily_routine'\n",
      "_to_args_and_kwargs self.name='save_daily_routine_seen' all_args=['chris@nourishbalancethrive.com']\n",
      "save entry={'date': datetime.datetime(2023, 10, 20, 10, 18, 18, 436765)}\n",
      "_to_args_and_kwargs self.name='get_knowledge_answer' all_args=['daily routine']\n"
     ]
    },
    {
     "data": {
      "text/markdown": [
       "A daily routine can vary greatly depending on individual lifestyle, work schedule, and personal preferences. However, based on the knowledge provided, a daily routine could look something like this:\n",
       "\n",
       "1. Wake up at a consistent time each day to help regulate your body's internal clock. Spend the first hour of your day outdoors in daylight to give your body's clock a strong time cue. \n",
       "\n",
       "2. Engage in regular physical activity throughout the day. Aim for brief bouts of low-intensity activity to support blood sugar control and brain function. \n",
       "\n",
       "3. Schedule your most strenuous exercise for the late biological afternoon, around 5 or 6 PM. This is when your body is primed for high-intensity activity.\n",
       "\n",
       "4. Follow a time-restricted eating schedule, confining your intake of calories to a period of 12 hours or less each day. Ideally, your eating window should end at least two hours before bed.\n",
       "\n",
       "5. Minimize your exposure to bright overhead lights in the three hours before bed to help prepare your body for sleep. \n",
       "\n",
       "6. Aim to spend slightly more time in bed if you have a history of insufficient sleep. This could involve setting your alarm clock as late as possible and increasing your exposure to daylight in the morning to help shift your clocks earlier.\n",
       "\n",
       "7. If you have insomnia-type symptoms, consider spending less time in bed to improve your sleep quality. This could involve delaying your bedtime but waking up at the same time you normally do.\n",
       "\n",
       "8. Finally, go to bed when you're actually sleepy. Your bedtime should be quite regular if you're following the other tips.\n",
       "\n",
       "Remember, this is a general guideline and individual needs may vary. Always consult with a healthcare professional before making significant changes to your daily routine."
      ],
      "text/plain": [
       "<IPython.core.display.Markdown object>"
      ]
     },
     "metadata": {},
     "output_type": "display_data"
    }
   ],
   "source": [
    "x(\"sure\");"
   ]
  },
  {
   "cell_type": "markdown",
   "id": "aa55bf85-3d12-4d00-acb4-c9187ba370b7",
   "metadata": {
    "jp-MarkdownHeadingCollapsed": true
   },
   "source": [
    "# Stress Audit"
   ]
  },
  {
   "cell_type": "code",
   "execution_count": 2,
   "id": "729bb0ef-d7a8-4615-8d68-3a4a76d0ae90",
   "metadata": {},
   "outputs": [
    {
     "name": "stdout",
     "output_type": "stream",
     "text": [
      "X() len(self.tools)=30\n",
      "X.get_next_goal goal='stress_audit'\n",
      "X.load_memory filename='/Users/cck197/Downloads/virtual_greg/memory.pkl'\n"
     ]
    },
    {
     "data": {
      "text/markdown": [
       "Alright, Chris! Now that we've planted your SEEDS and recorded your progress in the SEEDS diary, let's move on to the next exercise: the Stress Audit. \n",
       "\n",
       "The Stress Audit is a tool to help you identify what you're currently doing when you're feeling stressed. The goal is to list as many behaviours as you can that you engage in when you're under stress. \n",
       "\n",
       "Once you've listed these behaviours, we'll categorise them into two types: problem-focused coping (behaviours that reduce the stressor itself) and emotion-focused coping (behaviours that reduce the emotional impact of the stressor). \n",
       "\n",
       "We'll also label these behaviours as either adaptive (helpful) or maladaptive (unhelpful). \n",
       "\n",
       "Are you ready to start your Stress Audit?"
      ],
      "text/plain": [
       "<IPython.core.display.Markdown object>"
      ]
     },
     "metadata": {},
     "output_type": "display_data"
    }
   ],
   "source": [
    "x = X()"
   ]
  },
  {
   "cell_type": "code",
   "execution_count": 3,
   "id": "4d750c80-d026-4a6b-90c4-4569370ef74c",
   "metadata": {},
   "outputs": [
    {
     "name": "stdout",
     "output_type": "stream",
     "text": [
      "X.get_next_goal goal='stress_audit'\n"
     ]
    },
    {
     "data": {
      "text/markdown": [
       "Fantastic, Chris! Let's get started. \n",
       "\n",
       "First, I'd like you to think about what you typically do when you're feeling stressed. Try to list as many behaviours as you can. These can be anything from going for a run, to eating comfort food, to talking things over with a friend. \n",
       "\n",
       "Once you've got your list, we'll work together to categorise each behaviour. \n",
       "\n",
       "So, what are some things you tend to do when you're feeling stressed?"
      ],
      "text/plain": [
       "<IPython.core.display.Markdown object>"
      ]
     },
     "metadata": {},
     "output_type": "display_data"
    }
   ],
   "source": [
    "x(\"sure\");"
   ]
  },
  {
   "cell_type": "code",
   "execution_count": 4,
   "id": "74cdf774-f4ba-4ede-9e5e-b1f0358f4f68",
   "metadata": {},
   "outputs": [
    {
     "name": "stdout",
     "output_type": "stream",
     "text": [
      "X.get_next_goal goal='stress_audit'\n"
     ]
    },
    {
     "data": {
      "text/markdown": [
       "Of course, Chris! Here are some examples of behaviours people might engage in when they're feeling stressed:\n",
       "\n",
       "1. Going for a run or doing some other form of exercise.\n",
       "2. Talking things over with a friend or loved one.\n",
       "3. Eating comfort food or indulging in a favourite treat.\n",
       "4. Taking a few moments to practice deep breathing or meditation.\n",
       "5. Distracting oneself with a book, movie, or video game.\n",
       "6. Writing in a journal or doing some other form of creative expression.\n",
       "7. Seeking professional help, such as speaking to a therapist or counsellor.\n",
       "8. Using substances like alcohol or drugs to numb the feelings.\n",
       "9. Ignoring the problem or pretending it doesn't exist.\n",
       "10. Overworking or throwing oneself into tasks to avoid thinking about the stressor.\n",
       "\n",
       "Remember, there's no right or wrong answer here. The goal is to identify what you're currently doing, not what you think you should be doing. \n",
       "\n",
       "So, what are some things you tend to do when you're feeling stressed?"
      ],
      "text/plain": [
       "<IPython.core.display.Markdown object>"
      ]
     },
     "metadata": {},
     "output_type": "display_data"
    }
   ],
   "source": [
    "x(\"can you give me some examples?\");"
   ]
  },
  {
   "cell_type": "code",
   "execution_count": 5,
   "id": "9d06062a-5c67-49c1-a23a-4b3ea19cf79a",
   "metadata": {},
   "outputs": [
    {
     "name": "stdout",
     "output_type": "stream",
     "text": [
      "X.get_next_goal goal='stress_audit'\n",
      "_to_args_and_kwargs self.name='save_stress_audit' all_args=['chris@nourishbalancethrive.com']\n",
      "save_stress_audit entry=StressAudit(date=datetime.datetime(2023, 10, 20, 14, 11, 47, 343780), behaviours=['Going for a run or doing some other form of exercise.', 'Talking things over with a friend or loved one.', 'Eating comfort food or indulging in a favourite treat.', 'Taking a few moments to practice deep breathing or meditation.', 'Distracting oneself with a book, movie, or video game.', 'Writing in a journal or doing some other form of creative expression.', 'Seeking professional help, such as speaking to a therapist or counsellor.', 'Using substances like alcohol or drugs to numb the feelings.', \"Ignoring the problem or pretending it doesn't exist.\", 'Overworking or throwing oneself into tasks to avoid thinking about the stressor.'])\n"
     ]
    },
    {
     "data": {
      "text/markdown": [
       "Great, Chris! Your stress-coping behaviours have been noted. Here's a quick summary:\n",
       "\n",
       "1. Going for a run or doing some other form of exercise.\n",
       "2. Talking things over with a friend or loved one.\n",
       "3. Eating comfort food or indulging in a favourite treat.\n",
       "4. Taking a few moments to practice deep breathing or meditation.\n",
       "5. Distracting oneself with a book, movie, or video game.\n",
       "6. Writing in a journal or doing some other form of creative expression.\n",
       "7. Seeking professional help, such as speaking to a therapist or counsellor.\n",
       "8. Using substances like alcohol or drugs to numb the feelings.\n",
       "9. Ignoring the problem or pretending it doesn't exist.\n",
       "10. Overworking or throwing oneself into tasks to avoid thinking about the stressor.\n",
       "\n",
       "Now, let's categorise these behaviours. We'll start with the first one: going for a run or doing some other form of exercise. Would you say this is more of a problem-focused coping strategy (it reduces the stressor itself) or an emotion-focused coping strategy (it reduces the emotional impact of the stressor)? And would you consider it adaptive (helpful) or maladaptive (unhelpful)?"
      ],
      "text/plain": [
       "<IPython.core.display.Markdown object>"
      ]
     },
     "metadata": {},
     "output_type": "display_data"
    }
   ],
   "source": [
    "x(\"yes, those are exactly what I do\");"
   ]
  },
  {
   "cell_type": "code",
   "execution_count": 6,
   "id": "155ab16b-1da3-4a65-9f05-88a53efd3b73",
   "metadata": {},
   "outputs": [
    {
     "name": "stdout",
     "output_type": "stream",
     "text": [
      "X.get_next_goal goal='seeds_entry'\n"
     ]
    },
    {
     "data": {
      "text/markdown": [
       "Great! So, going for a run or doing some other form of exercise is typically considered an emotion-focused coping strategy, as it helps to reduce the emotional impact of the stressor. It's also generally seen as an adaptive (helpful) behaviour, as it contributes to physical health and can help to clear the mind.\n",
       "\n",
       "Let's move on to the next behaviour: talking things over with a friend or loved one. Would you say this is more of a problem-focused coping strategy or an emotion-focused coping strategy? And would you consider it adaptive or maladaptive?"
      ],
      "text/plain": [
       "<IPython.core.display.Markdown object>"
      ]
     },
     "metadata": {},
     "output_type": "display_data"
    }
   ],
   "source": [
    "x(\"ok\");"
   ]
  },
  {
   "cell_type": "code",
   "execution_count": 7,
   "id": "354ce13e-1341-4338-8035-e10f8cc5376d",
   "metadata": {},
   "outputs": [
    {
     "name": "stdout",
     "output_type": "stream",
     "text": [
      "X.get_next_goal goal='seeds_entry'\n"
     ]
    },
    {
     "data": {
      "text/markdown": [
       "Absolutely, Chris! Here's how we might categorise these behaviours:\n",
       "\n",
       "1. **Going for a run or doing some other form of exercise**: Emotion-focused, Adaptive\n",
       "2. **Talking things over with a friend or loved one**: Emotion-focused, Adaptive\n",
       "3. **Eating comfort food or indulging in a favourite treat**: Emotion-focused, Maladaptive (if done excessively)\n",
       "4. **Taking a few moments to practice deep breathing or meditation**: Emotion-focused, Adaptive\n",
       "5. **Distracting oneself with a book, movie, or video game**: Emotion-focused, Adaptive (if not used excessively)\n",
       "6. **Writing in a journal or doing some other form of creative expression**: Emotion-focused, Adaptive\n",
       "7. **Seeking professional help, such as speaking to a therapist or counsellor**: Problem-focused, Adaptive\n",
       "8. **Using substances like alcohol or drugs to numb the feelings**: Emotion-focused, Maladaptive\n",
       "9. **Ignoring the problem or pretending it doesn't exist**: Problem-focused, Maladaptive\n",
       "10. **Overworking or throwing oneself into tasks to avoid thinking about the stressor**: Problem-focused, Maladaptive\n",
       "\n",
       "Remember, these categories aren't set in stone. They can change depending on the context and the individual. The important thing is to recognise which behaviours are helping you and which ones might be hindering your ability to cope with stress effectively. \n",
       "\n",
       "Does this make sense?"
      ],
      "text/plain": [
       "<IPython.core.display.Markdown object>"
      ]
     },
     "metadata": {},
     "output_type": "display_data"
    }
   ],
   "source": [
    "x(\"categorise them all for me\");"
   ]
  },
  {
   "cell_type": "code",
   "execution_count": 8,
   "id": "1c83389b-a6c4-4467-8c78-c6b761503487",
   "metadata": {},
   "outputs": [
    {
     "name": "stdout",
     "output_type": "stream",
     "text": [
      "X.get_next_goal goal='seeds_entry'\n"
     ]
    },
    {
     "data": {
      "text/markdown": [
       "Fantastic, Chris! Your Stress Audit has been saved. This is a great first step towards understanding how you cope with stress and identifying areas where you might want to make changes. \n",
       "\n",
       "Remember, the goal isn't to eliminate all stress from your life (that would be impossible!), but rather to develop effective strategies for managing it. \n",
       "\n",
       "Keep up the good work, and let's continue this momentum tomorrow. Until then, take care!"
      ],
      "text/plain": [
       "<IPython.core.display.Markdown object>"
      ]
     },
     "metadata": {},
     "output_type": "display_data"
    }
   ],
   "source": [
    "x(\"yes!\");"
   ]
  },
  {
   "cell_type": "markdown",
   "id": "2e19a5f1-7e70-4138-810a-72c7025f44b5",
   "metadata": {},
   "source": [
    "# SEEDS"
   ]
  },
  {
   "cell_type": "markdown",
   "id": "8e9853d3-8391-4f5b-b430-0a8c801e125b",
   "metadata": {
    "jp-MarkdownHeadingCollapsed": true
   },
   "source": [
    "## Definition"
   ]
  },
  {
   "cell_type": "code",
   "execution_count": 6,
   "id": "61058d5e-bba8-4b21-a9ad-71c33ef7e43f",
   "metadata": {},
   "outputs": [
    {
     "name": "stdout",
     "output_type": "stream",
     "text": [
      "X() len(self.tools)=30\n",
      "X.get_next_goal goal='seeds_probe'\n"
     ]
    },
    {
     "data": {
      "text/markdown": [
       "Hello Chris! I hope you're doing well. Today, I'd like to introduce you to the SEEDS exercise, a simple yet effective method to improve your overall health. It's a bit like planting a garden, but instead of flowers or vegetables, we're cultivating good habits. \n",
       "\n",
       "SEEDS stands for Sleep, Exercise, Eating, Drinking, and Stress management. The idea is to identify small, manageable actions that contribute to each of these areas. We're not aiming for grand gestures here, but rather tiny behaviours that can become habits over time. \n",
       "\n",
       "Would you like to know more about this exercise?"
      ],
      "text/plain": [
       "<IPython.core.display.Markdown object>"
      ]
     },
     "metadata": {},
     "output_type": "display_data"
    }
   ],
   "source": [
    "x = X(hello=\"next\")"
   ]
  },
  {
   "cell_type": "code",
   "execution_count": 7,
   "id": "750ca612-98aa-42c6-98ab-8ff3c9cee842",
   "metadata": {},
   "outputs": [
    {
     "name": "stdout",
     "output_type": "stream",
     "text": [
      "X.get_next_goal goal='seeds_probe'\n"
     ]
    },
    {
     "data": {
      "text/markdown": [
       "Fantastic! Let's dive in. \n",
       "\n",
       "The SEEDS exercise is all about focusing on small, achievable behaviours that contribute to good health. The idea is to plant these \"SEEDS\" and water them every day so they can take root and become habits. \n",
       "\n",
       "Here's a brief rundown:\n",
       "\n",
       "1. **Sleep**: Think of small actions that can improve your sleep. For example, being in bed by 9.30 pm or turning off your cell phone by 8 pm.\n",
       "\n",
       "2. **Exercise**: Identify tiny steps that can increase your physical activity. This could be something like walking outside for 10 minutes before 9:30 am or doing 10 push-ups while the coffee is brewing.\n",
       "\n",
       "3. **Eating**: Consider small changes to your diet that can make a big difference. This might be eating one meal with chopsticks to slow down your eating or ensuring you eat 50g of protein with every meal.\n",
       "\n",
       "4. **Drinking**: Look for little ways to improve your hydration or reduce unhealthy drinking habits. For instance, you could decide not to drink out of anything plastic or to drink fizzy water from 6-8 pm if you have booze cravings.\n",
       "\n",
       "5. **Stress management**: Identify simple strategies to manage stress. This could be writing down three tiny things you're grateful for each day or doing stress-reducing exercises like \"leaves on a stream\" or \"open focus\".\n",
       "\n",
       "The goal is to come up with three SEEDS per pillar, for a total of 15 daily habits. If that sounds like a lot, don't worry! You can start with the top line and add more as you become comfortable with them.\n",
       "\n",
       "Does this make sense so far?"
      ],
      "text/plain": [
       "<IPython.core.display.Markdown object>"
      ]
     },
     "metadata": {},
     "output_type": "display_data"
    }
   ],
   "source": [
    "x(\"sure\");"
   ]
  },
  {
   "cell_type": "code",
   "execution_count": 8,
   "id": "ce77fe01-6361-45d3-8eb0-b00bce0005ef",
   "metadata": {},
   "outputs": [
    {
     "name": "stdout",
     "output_type": "stream",
     "text": [
      "X.get_next_goal goal='seeds_probe'\n"
     ]
    },
    {
     "data": {
      "text/markdown": [
       "Brilliant! Let's start planting these SEEDS, shall we? We'll go pillar by pillar. \n",
       "\n",
       "First up, **Sleep**. Can you think of three small, achievable actions that could improve your sleep? Remember, these should be things that make you think \"I can definitely do that!\" rather than \"Well, I'll give it a shot...\"."
      ],
      "text/plain": [
       "<IPython.core.display.Markdown object>"
      ]
     },
     "metadata": {},
     "output_type": "display_data"
    }
   ],
   "source": [
    "x(\"yeah!\");"
   ]
  },
  {
   "cell_type": "code",
   "execution_count": 9,
   "id": "0ead271d-dfb4-4fe6-af72-7a05a8f16063",
   "metadata": {},
   "outputs": [
    {
     "name": "stdout",
     "output_type": "stream",
     "text": [
      "X.get_next_goal goal='seeds_probe'\n"
     ]
    },
    {
     "data": {
      "text/markdown": [
       "Absolutely, Chris! Here are some fresh examples for each category:\n",
       "\n",
       "**Sleep**\n",
       "1. Read a book for 15 minutes before bed.\n",
       "2. Keep the bedroom temperature cool.\n",
       "3. Use a sleep mask to block out light.\n",
       "\n",
       "**Exercise**\n",
       "1. Take the stairs instead of the elevator.\n",
       "2. Stretch for 5 minutes in the morning.\n",
       "3. Park further away from the entrance when going to stores.\n",
       "\n",
       "**Eating**\n",
       "1. Add a serving of vegetables to each meal.\n",
       "2. Swap one processed snack for a piece of fruit.\n",
       "3. Try a new healthy recipe each week.\n",
       "\n",
       "**Drinking**\n",
       "1. Start the day with a glass of water.\n",
       "2. Swap one soda for a herbal tea.\n",
       "3. Drink a glass of water before each meal.\n",
       "\n",
       "**Stress Management**\n",
       "1. Meditate for 5 minutes in the morning.\n",
       "2. Write in a journal for 10 minutes before bed.\n",
       "3. Take a 5-minute break every hour during work to do deep breathing exercises.\n",
       "\n",
       "Now, let's start with the Sleep category. Can you think of three small, achievable actions that could improve your sleep?"
      ],
      "text/plain": [
       "<IPython.core.display.Markdown object>"
      ]
     },
     "metadata": {},
     "output_type": "display_data"
    }
   ],
   "source": [
    "x(\"can you give some new examples, three for each category?\");"
   ]
  },
  {
   "cell_type": "code",
   "execution_count": 10,
   "id": "4a735fa7-d8ab-40ab-9823-c039b903523b",
   "metadata": {},
   "outputs": [
    {
     "name": "stdout",
     "output_type": "stream",
     "text": [
      "X.get_next_goal goal='seeds_probe'\n",
      "_to_args_and_kwargs self.name='save_seed_pod' all_args=['[[\"Read a book for 15 minutes before bed\", \"Keep the bedroom temperature cool\", \"Use a sleep mask to block out light\"], [\"Take the stairs instead of the elevator\", \"Stretch for 5 minutes in the morning\", \"Park further away from the entrance when going to stores\"], [\"Add a serving of vegetables to each meal\", \"Swap one processed snack for a piece of fruit\", \"Try a new healthy recipe each week\"], [\"Start the day with a glass of water\", \"Swap one soda for a herbal tea\", \"Drink a glass of water before each meal\"], [\"Meditate for 5 minutes in the morning\", \"Write in a journal for 10 minutes before bed\", \"Take a 5-minute break every hour during work to do deep breathing exercises\"]]']\n",
      "save_seed_pod entry=SeedPod(sleep_1='Read a book for 15 minutes before bed', sleep_2='Keep the bedroom temperature cool', sleep_3='Use a sleep mask to block out light', exercise_1='Take the stairs instead of the elevator', exercise_2='Stretch for 5 minutes in the morning', exercise_3='Park further away from the entrance when going to stores', eating_1='Add a serving of vegetables to each meal', eating_2='Swap one processed snack for a piece of fruit', eating_3='Try a new healthy recipe each week', drinking_1='Start the day with a glass of water', drinking_2='Swap one soda for a herbal tea', drinking_3='Drink a glass of water before each meal', stress_1='Meditate for 5 minutes in the morning', stress_2='Write in a journal for 10 minutes before bed', stress_3='Take a 5-minute break every hour during work to do deep breathing exercises')\n"
     ]
    },
    {
     "data": {
      "text/markdown": [
       "Fantastic, Chris! Your SEEDS are now planted. Here's a quick summary:\n",
       "\n",
       "**Sleep**\n",
       "1. Read a book for 15 minutes before bed.\n",
       "2. Keep the bedroom temperature cool.\n",
       "3. Use a sleep mask to block out light.\n",
       "\n",
       "**Exercise**\n",
       "1. Take the stairs instead of the elevator.\n",
       "2. Stretch for 5 minutes in the morning.\n",
       "3. Park further away from the entrance when going to stores.\n",
       "\n",
       "**Eating**\n",
       "1. Add a serving of vegetables to each meal.\n",
       "2. Swap one processed snack for a piece of fruit.\n",
       "3. Try a new healthy recipe each week.\n",
       "\n",
       "**Drinking**\n",
       "1. Start the day with a glass of water.\n",
       "2. Swap one soda for a herbal tea.\n",
       "3. Drink a glass of water before each meal.\n",
       "\n",
       "**Stress Management**\n",
       "1. Meditate for 5 minutes in the morning.\n",
       "2. Write in a journal for 10 minutes before bed.\n",
       "3. Take a 5-minute break every hour during work to do deep breathing exercises.\n",
       "\n",
       "Can you confirm if these are correct?"
      ],
      "text/plain": [
       "<IPython.core.display.Markdown object>"
      ]
     },
     "metadata": {},
     "output_type": "display_data"
    }
   ],
   "source": [
    "x(\"that's great, let's go with all those exactly as you gave them\");"
   ]
  },
  {
   "cell_type": "code",
   "execution_count": 11,
   "id": "ba539f4e-819b-4dc6-af92-1ec0c5322917",
   "metadata": {},
   "outputs": [
    {
     "name": "stdout",
     "output_type": "stream",
     "text": [
      "X.get_next_goal goal=''\n",
      "_to_args_and_kwargs self.name='save_seed_pod' all_args=['Chris']\n",
      "save_seed_pod entry=SeedPod(sleep_1='Read a book for 15 minutes before bed.', sleep_2='Keep the bedroom temperature cool.', sleep_3='Use a sleep mask to block out light.', exercise_1='Take the stairs instead of the elevator.', exercise_2='Stretch for 5 minutes in the morning.', exercise_3='Park further away from the entrance when going to stores.', eating_1='Add a serving of vegetables to each meal.', eating_2='Swap one processed snack for a piece of fruit.', eating_3='Try a new healthy recipe each week.', drinking_1='Start the day with a glass of water.', drinking_2='Swap one soda for a herbal tea.', drinking_3='Drink a glass of water before each meal.', stress_1='Meditate for 5 minutes in the morning.', stress_2='Write in a journal for 10 minutes before bed.', stress_3='Take a 5-minute break every hour during work to do deep breathing exercises.')\n"
     ]
    },
    {
     "data": {
      "text/markdown": [
       "Excellent, Chris! Your SEEDS are now saved. Remember, the key to success is consistency. Try to water these SEEDS every day, and over time, you'll see them grow into healthy habits. \n",
       "\n",
       "Now, would you like to explore any other aspect of your health, or is there anything else you'd like to discuss?"
      ],
      "text/plain": [
       "<IPython.core.display.Markdown object>"
      ]
     },
     "metadata": {},
     "output_type": "display_data"
    }
   ],
   "source": [
    "x(\"yep!\");"
   ]
  },
  {
   "cell_type": "markdown",
   "id": "06dddd47-c284-46f0-8634-3ab2f1d2ea3f",
   "metadata": {},
   "source": [
    "## Diary entry"
   ]
  },
  {
   "cell_type": "code",
   "execution_count": 2,
   "id": "ba681e7d-95c9-4e0b-9f82-5c73a1b0096d",
   "metadata": {},
   "outputs": [
    {
     "name": "stdout",
     "output_type": "stream",
     "text": [
      "X() len(self.tools)=30\n",
      "X.get_next_goal goal='seeds_entry'\n",
      "X.load_memory filename='/Users/cck197/Downloads/virtual_greg/memory.pkl'\n",
      "_to_args_and_kwargs self.name='get_seeds_diary_entry' all_args=['chris@nourishbalancethrive.com']\n",
      "get_seeds_diary_entry db_entry=None\n"
     ]
    },
    {
     "data": {
      "text/markdown": [
       "It seems like we don't have a SEEDS diary entry for you yet. Would you like to create one now?"
      ],
      "text/plain": [
       "<IPython.core.display.Markdown object>"
      ]
     },
     "metadata": {},
     "output_type": "display_data"
    }
   ],
   "source": [
    "x = X()"
   ]
  },
  {
   "cell_type": "code",
   "execution_count": 3,
   "id": "d4fa99de-dd65-4c13-8bdd-3ad0f79c8773",
   "metadata": {},
   "outputs": [
    {
     "name": "stdout",
     "output_type": "stream",
     "text": [
      "X.get_next_goal goal='seeds_entry'\n",
      "_to_args_and_kwargs self.name='get_date' all_args=[]\n"
     ]
    },
    {
     "data": {
      "text/markdown": [
       "Fantastic! Let's record your SEEDS diary entry for today, the 20th of October, 2023. \n",
       "\n",
       "Let's start with the **Sleep** pillar. \n",
       "\n",
       "1. Did you read a book for 15 minutes before bed?\n",
       "2. Did you keep the bedroom temperature cool?\n",
       "3. Did you use a sleep mask to block out light?"
      ],
      "text/plain": [
       "<IPython.core.display.Markdown object>"
      ]
     },
     "metadata": {},
     "output_type": "display_data"
    }
   ],
   "source": [
    "x(\"sure\");"
   ]
  },
  {
   "cell_type": "code",
   "execution_count": 4,
   "id": "04b5a2a6-2483-4ee4-98e3-47df898cba5e",
   "metadata": {
    "scrolled": true
   },
   "outputs": [
    {
     "name": "stdout",
     "output_type": "stream",
     "text": [
      "X.get_next_goal goal='seeds_entry'\n"
     ]
    },
    {
     "data": {
      "text/markdown": [
       "Brilliant, Chris! You've managed to complete all 15 tasks for today. That's a perfect score! \n",
       "\n",
       "Here's a quick recap of your SEEDS diary entry for today:\n",
       "\n",
       "**Sleep**\n",
       "1. Read a book for 15 minutes before bed - Done\n",
       "2. Keep the bedroom temperature cool - Done\n",
       "3. Use a sleep mask to block out light - Done\n",
       "\n",
       "**Exercise**\n",
       "1. Take the stairs instead of the elevator - Done\n",
       "2. Stretch for 5 minutes in the morning - Done\n",
       "3. Park further away from the entrance when going to stores - Done\n",
       "\n",
       "**Eating**\n",
       "1. Add a serving of vegetables to each meal - Done\n",
       "2. Swap one processed snack for a piece of fruit - Done\n",
       "3. Try a new healthy recipe each week - Done\n",
       "\n",
       "**Drinking**\n",
       "1. Start the day with a glass of water - Done\n",
       "2. Swap one soda for a herbal tea - Done\n",
       "3. Drink a glass of water before each meal - Done\n",
       "\n",
       "**Stress Management**\n",
       "1. Meditate for 5 minutes in the morning - Done\n",
       "2. Write in a journal for 10 minutes before bed - Done\n",
       "3. Take a 5-minute break every hour during work to do deep breathing exercises - Done\n",
       "\n",
       "Can you confirm if this is correct?"
      ],
      "text/plain": [
       "<IPython.core.display.Markdown object>"
      ]
     },
     "metadata": {},
     "output_type": "display_data"
    }
   ],
   "source": [
    "x(\"yes, that's right. I got all 15 tasks done\");"
   ]
  },
  {
   "cell_type": "code",
   "execution_count": 5,
   "id": "43be91ba-b783-45c7-b0fe-343072ce6ffc",
   "metadata": {},
   "outputs": [
    {
     "name": "stdout",
     "output_type": "stream",
     "text": [
      "X.get_next_goal goal='seeds_entry'\n",
      "_to_args_and_kwargs self.name='save_seeds_diary_entry' all_args=['string']\n",
      "save_seeds entry=SeedsDiaryEntry(date=datetime.datetime(2023, 10, 20, 0, 0), sleep_1=1, sleep_2=1, sleep_3=1, exercise_1=1, exercise_2=1, exercise_3=1, eating_1=1, eating_2=1, eating_3=1, drinking_1=1, drinking_2=1, drinking_3=1, stress_1=1, stress_2=1, stress_3=1)\n"
     ]
    },
    {
     "data": {
      "text/markdown": [
       "Excellent, Chris! Your SEEDS diary entry for today has been saved. You've done a fantastic job completing all 15 tasks. Keep up the good work! Remember, every small step contributes to your overall health and wellbeing. \n",
       "\n",
       "Let's continue this momentum tomorrow. Until then, take care!"
      ],
      "text/plain": [
       "<IPython.core.display.Markdown object>"
      ]
     },
     "metadata": {},
     "output_type": "display_data"
    }
   ],
   "source": [
    "x(\"that's right\");"
   ]
  }
 ],
 "metadata": {
  "kernelspec": {
   "display_name": "Python 3 (ipykernel)",
   "language": "python",
   "name": "python3"
  },
  "language_info": {
   "codemirror_mode": {
    "name": "ipython",
    "version": 3
   },
   "file_extension": ".py",
   "mimetype": "text/x-python",
   "name": "python",
   "nbconvert_exporter": "python",
   "pygments_lexer": "ipython3",
   "version": "3.11.5"
  }
 },
 "nbformat": 4,
 "nbformat_minor": 5
}
