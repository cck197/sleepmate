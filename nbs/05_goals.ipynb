{
 "cells": [
  {
   "cell_type": "code",
   "execution_count": 1,
   "id": "b035da0e-a6fa-412e-9f14-b1d8524deae1",
   "metadata": {},
   "outputs": [],
   "source": [
    "from sleepmate.agent import *\n",
    "from sleepmate.mi import *\n",
    "from sleepmate.meta import *"
   ]
  },
  {
   "cell_type": "code",
   "execution_count": 2,
   "id": "49b2518a-e38c-4c87-90f4-bb76580e1c03",
   "metadata": {},
   "outputs": [
    {
     "name": "stdout",
     "output_type": "stream",
     "text": [
      "load_memory filename='/Users/cck197/Downloads/virtual_greg/memory.pkl'\n"
     ]
    }
   ],
   "source": [
    "x_ = MetaX(X.load_memory())"
   ]
  },
  {
   "cell_type": "code",
   "execution_count": 3,
   "id": "3c8721fa-2b0a-4b8f-8243-dbb8e87fa2e2",
   "metadata": {},
   "outputs": [
    {
     "name": "stdout",
     "output_type": "stream",
     "text": [
      "\n",
      "\n",
      "\u001b[1m> Entering new AgentExecutor chain...\u001b[0m\n",
      "\u001b[32;1m\u001b[1;3mThought: The user has completed the Insomnia Severity Index and has been keeping a sleep diary. The user has mentioned having mild difficulty staying asleep. The next step could be to introduce the user to the SEEDS (Sleep, Exercise, Eating, Drinking, and Stress) diary to track lifestyle factors that could be affecting their sleep.\n",
      "Action: seeds_probe\n",
      "Action Input: {}\u001b[0m\n",
      "\n",
      "Observation:\u001b[33;1m\u001b[1;3mseeds_probe\u001b[0m\n",
      "\u001b[32;1m\u001b[1;3m\u001b[0m\n",
      "\n",
      "\u001b[1m> Finished chain.\u001b[0m\n"
     ]
    },
    {
     "data": {
      "text/plain": [
       "'seeds_probe'"
      ]
     },
     "execution_count": 3,
     "metadata": {},
     "output_type": "execute_result"
    }
   ],
   "source": [
    "x_()"
   ]
  },
  {
   "cell_type": "code",
   "execution_count": null,
   "id": "e2ddd1d0-7416-4af1-9e9f-ba78aa9b3f56",
   "metadata": {},
   "outputs": [],
   "source": []
  }
 ],
 "metadata": {
  "kernelspec": {
   "display_name": "Python 3 (ipykernel)",
   "language": "python",
   "name": "python3"
  },
  "language_info": {
   "codemirror_mode": {
    "name": "ipython",
    "version": 3
   },
   "file_extension": ".py",
   "mimetype": "text/x-python",
   "name": "python",
   "nbconvert_exporter": "python",
   "pygments_lexer": "ipython3",
   "version": "3.11.5"
  }
 },
 "nbformat": 4,
 "nbformat_minor": 5
}
