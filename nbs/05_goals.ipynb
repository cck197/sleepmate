{
 "cells": [
  {
   "cell_type": "code",
   "execution_count": 1,
   "id": "b035da0e-a6fa-412e-9f14-b1d8524deae1",
   "metadata": {},
   "outputs": [],
   "source": [
    "from sleepmate.agent import *"
   ]
  },
  {
   "cell_type": "markdown",
   "id": "f7d2f76f-1781-476d-ad8c-0b250e880971",
   "metadata": {},
   "source": [
    "# Meta"
   ]
  },
  {
   "cell_type": "code",
   "execution_count": 2,
   "id": "49b2518a-e38c-4c87-90f4-bb76580e1c03",
   "metadata": {},
   "outputs": [
    {
     "name": "stdout",
     "output_type": "stream",
     "text": [
      "load_memory filename='/Users/cck197/Downloads/virtual_greg/memory.pkl'\n",
      "\n",
      "\n",
      "\u001b[1m> Entering new AgentExecutor chain...\u001b[0m\n",
      "\u001b[32;1m\u001b[1;3mThought: The human has just completed a SEEDS diary entry. The next action should be based on the human's needs and the conversation history. Since the human has already completed the Insomnia Severity Index, a sleep diary entry, the Valued Living Questionnaire, the Open Focus exercise, the Leaves on a Stream exercise, and a SEEDS diary entry, the next logical step could be to ask the human if they would like to retrieve or summarise their sleep diary data.\n",
      "Action: diary_entry_retrieval\n",
      "Action Input: {}\u001b[0m\n",
      "\n",
      "Observation:\u001b[33;1m\u001b[1;3mdiary_entry_retrieval\u001b[0m\n",
      "\u001b[32;1m\u001b[1;3m\u001b[0m\n",
      "\n",
      "\u001b[1m> Finished chain.\u001b[0m\n"
     ]
    }
   ],
   "source": [
    "x_ = MetaX(X.load_memory()); x_();"
   ]
  },
  {
   "cell_type": "code",
   "execution_count": 3,
   "id": "69062e33-6d25-4f90-8cfb-b8468d96a283",
   "metadata": {},
   "outputs": [
    {
     "name": "stdout",
     "output_type": "stream",
     "text": [
      "\n",
      "\n",
      "\u001b[1m> Entering new AgentExecutor chain...\u001b[0m\n",
      "\u001b[32;1m\u001b[1;3mThought: The human is asking about the Valued Living Questionnaire (VLQ). Since the conversation history does not show that the VLQ has been completed, I should use the valued_living function to start the questionnaire.\n",
      "Action: valued_living\n",
      "Action Input: {}\u001b[0m\n",
      "\n",
      "Observation:\u001b[33;1m\u001b[1;3mvalued_living\u001b[0m\n",
      "\u001b[32;1m\u001b[1;3m\u001b[0m\n",
      "\n",
      "\u001b[1m> Finished chain.\u001b[0m\n"
     ]
    },
    {
     "data": {
      "text/plain": [
       "'valued_living'"
      ]
     },
     "execution_count": 3,
     "metadata": {},
     "output_type": "execute_result"
    }
   ],
   "source": [
    "x_.agent_executor.run(\"what about the VLQ?\")"
   ]
  },
  {
   "cell_type": "markdown",
   "id": "e0347799-83f0-4c64-b574-79997181c957",
   "metadata": {
    "jp-MarkdownHeadingCollapsed": true
   },
   "source": [
    "# Runner"
   ]
  },
  {
   "cell_type": "code",
   "execution_count": 2,
   "id": "f9e4730e-d115-4069-b86e-fe1031b10b22",
   "metadata": {},
   "outputs": [
    {
     "name": "stdout",
     "output_type": "stream",
     "text": [
      "load_memory filename='/Users/cck197/Downloads/virtual_greg/memory.pkl'\n"
     ]
    }
   ],
   "source": [
    "runner = Runner(SYSTEM_DESCRIPTION)"
   ]
  },
  {
   "cell_type": "code",
   "execution_count": null,
   "id": "27d4cc73-11b7-49c7-a45a-a346ae3f11ed",
   "metadata": {},
   "outputs": [
    {
     "name": "stdout",
     "output_type": "stream",
     "text": [
      "\n",
      "\n",
      "\u001b[1m> Entering new AgentExecutor chain...\u001b[0m\n",
      "\u001b[32;1m\u001b[1;3mThought: The user has not provided a clear question or request in their last message. However, considering the previous conversation history, the user has completed a sleep diary entry and the Insomnia Severity Index survey. They have also agreed to the SEEDS exercise and recorded a SEEDS diary entry. The user has not yet completed the Valued Living Questionnaire, Open Focus exercise, or Leaves on a Stream exercise. Given this, the next logical step could be to introduce the Valued Living Questionnaire.\n",
      "Action: valued_living\n",
      "Action Input: {}\u001b[0m\n",
      "\n",
      "Observation:\u001b[33;1m\u001b[1;3mvalued_living\u001b[0m\n",
      "\u001b[32;1m\u001b[1;3m\u001b[0m\n",
      "\n",
      "\u001b[1m> Finished chain.\u001b[0m\n",
      "X.run goal='valued_living'\n",
      "get_agent len(tools)=10\n"
     ]
    },
    {
     "data": {
      "text/markdown": [
       "Hello again, Chris! How can I assist you today?"
      ],
      "text/plain": [
       "<IPython.core.display.Markdown object>"
      ]
     },
     "metadata": {},
     "output_type": "display_data"
    },
    {
     "name": "stdin",
     "output_type": "stream",
     "text": [
      ">  not sleeping well\n"
     ]
    },
    {
     "data": {
      "text/markdown": [
       "I'm really sorry to hear that you're not sleeping well, Chris. It's understandable how that can make things tough for you. Would you like to go through a sleep assessment now to better understand your sleep patterns and identify areas for improvement?"
      ],
      "text/plain": [
       "<IPython.core.display.Markdown object>"
      ]
     },
     "metadata": {},
     "output_type": "display_data"
    },
    {
     "name": "stdout",
     "output_type": "stream",
     "text": [
      "> I'm really sorry to hear that you're not sleeping well, Chris. It's understandable how that can make things tough for you. Would you like to go through a sleep assessment now to better understand your sleep patterns and identify areas for improvement?\n"
     ]
    },
    {
     "name": "stdin",
     "output_type": "stream",
     "text": [
      ">  hmm not really\n"
     ]
    },
    {
     "data": {
      "text/markdown": [
       "That's perfectly okay, Chris. It's important to approach this at your own pace. If you ever feel ready to explore your sleep patterns or discuss other aspects of your health and wellness, I'm here to help. In the meantime, is there anything else you'd like to talk about or any other way I can assist you?"
      ],
      "text/plain": [
       "<IPython.core.display.Markdown object>"
      ]
     },
     "metadata": {},
     "output_type": "display_data"
    },
    {
     "name": "stdout",
     "output_type": "stream",
     "text": [
      "> That's perfectly okay, Chris. It's important to approach this at your own pace. If you ever feel ready to explore your sleep patterns or discuss other aspects of your health and wellness, I'm here to help. In the meantime, is there anything else you'd like to talk about or any other way I can assist you?\n"
     ]
    },
    {
     "name": "stdin",
     "output_type": "stream",
     "text": [
      ">  VLQ\n"
     ]
    },
    {
     "data": {
      "text/markdown": [
       "Sure, Chris. The Valued Living Questionnaire (VLQ) is a tool that can help us understand what's important to you and how consistently you're living in line with those values. It's best to answer as honestly as possible, setting aside social pressures and expectations. This is between you and you. \n",
       "\n",
       "Let's start with the first domain. \n",
       "\n",
       "1. **Family relations (other than marriage or parent)**: \n",
       "   a) How important is this domain to you? (Rate from 1-10)\n",
       "   b) How consistently have you lived in accordance with your values in this domain over the past week? (Rate from 1-10)"
      ],
      "text/plain": [
       "<IPython.core.display.Markdown object>"
      ]
     },
     "metadata": {},
     "output_type": "display_data"
    },
    {
     "name": "stdout",
     "output_type": "stream",
     "text": [
      "> Sure, Chris. The Valued Living Questionnaire (VLQ) is a tool that can help us understand what's important to you and how consistently you're living in line with those values. It's best to answer as honestly as possible, setting aside social pressures and expectations. This is between you and you. \n",
      "\n",
      "Let's start with the first domain. \n",
      "\n",
      "1. **Family relations (other than marriage or parent)**: \n",
      "   a) How important is this domain to you? (Rate from 1-10)\n",
      "   b) How consistently have you lived in accordance with your values in this domain over the past week? (Rate from 1-10)\n"
     ]
    }
   ],
   "source": [
    "runner.run()"
   ]
  },
  {
   "cell_type": "code",
   "execution_count": null,
   "id": "67b5a1dd-1533-44d2-b29b-0ae7d60d5ddb",
   "metadata": {},
   "outputs": [],
   "source": []
  }
 ],
 "metadata": {
  "kernelspec": {
   "display_name": "Python 3 (ipykernel)",
   "language": "python",
   "name": "python3"
  },
  "language_info": {
   "codemirror_mode": {
    "name": "ipython",
    "version": 3
   },
   "file_extension": ".py",
   "mimetype": "text/x-python",
   "name": "python",
   "nbconvert_exporter": "python",
   "pygments_lexer": "ipython3",
   "version": "3.11.5"
  }
 },
 "nbformat": 4,
 "nbformat_minor": 5
}
