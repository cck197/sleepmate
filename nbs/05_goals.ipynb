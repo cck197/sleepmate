{
 "cells": [
  {
   "cell_type": "code",
   "execution_count": 1,
   "id": "b035da0e-a6fa-412e-9f14-b1d8524deae1",
   "metadata": {
    "scrolled": true
   },
   "outputs": [],
   "source": [
    "from sleepmate.agent import *"
   ]
  },
  {
   "cell_type": "code",
   "execution_count": 2,
   "id": "b6d07629-d75c-43d9-9717-b298931adb64",
   "metadata": {},
   "outputs": [],
   "source": [
    "!rm -f /Users/cck197/Downloads/virtual_greg/memory.pkl"
   ]
  },
  {
   "cell_type": "code",
   "execution_count": 3,
   "id": "63c2a191-d60a-44b4-8ab6-8646bf8261fc",
   "metadata": {},
   "outputs": [
    {
     "name": "stdout",
     "output_type": "stream",
     "text": [
      "Automatic pdb calling has been turned ON\n"
     ]
    }
   ],
   "source": [
    "%pdb"
   ]
  },
  {
   "cell_type": "code",
   "execution_count": 4,
   "id": "437dce8a-b275-4373-b40f-d0b06ac20ab3",
   "metadata": {},
   "outputs": [
    {
     "name": "stdout",
     "output_type": "stream",
     "text": [
      "X() len(self.tools)=28\n",
      "X.get_next_goal goal='daily_routine'\n",
      "_to_args_and_kwargs self.name='get_greeting' all_args=['Chris']\n"
     ]
    },
    {
     "data": {
      "text/markdown": [
       "Hello, Chris! It's a pleasure to meet you. I hope you're doing well. I'm curious, would you be open to discussing a daily routine that might help improve your sleep?"
      ],
      "text/plain": [
       "<IPython.core.display.Markdown object>"
      ]
     },
     "metadata": {},
     "output_type": "display_data"
    }
   ],
   "source": [
    "x = X()#hello=False)"
   ]
  },
  {
   "cell_type": "code",
   "execution_count": 5,
   "id": "d45e2dab-5150-4c46-a2c0-a6400a807f88",
   "metadata": {},
   "outputs": [
    {
     "name": "stdout",
     "output_type": "stream",
     "text": [
      "X.get_next_goal goal='daily_routine'\n"
     ]
    },
    {
     "data": {
      "text/markdown": [
       "I see, Chris. It sounds like you could use a bit more rest. Would you be interested in exploring a daily routine that could potentially improve your sleep quality?"
      ],
      "text/plain": [
       "<IPython.core.display.Markdown object>"
      ]
     },
     "metadata": {},
     "output_type": "display_data"
    }
   ],
   "source": [
    "x(\"not bad, a bit tired\");"
   ]
  },
  {
   "cell_type": "code",
   "execution_count": 6,
   "id": "e00a919f-b2af-4b9b-baa3-1eab9f3f9100",
   "metadata": {},
   "outputs": [
    {
     "name": "stdout",
     "output_type": "stream",
     "text": [
      "X.get_next_goal goal='daily_routine'\n",
      "_to_args_and_kwargs self.name='get_knowledge_answer' all_args=['daily routine']\n"
     ]
    },
    {
     "data": {
      "text/markdown": [
       "A daily routine can vary greatly depending on individual lifestyle, work schedule, and personal preferences. However, based on the knowledge provided, a daily routine could look something like this:\n",
       "\n",
       "1. Wake up at a consistent time each day to help regulate your body's internal clock. Spend the first hour of your day outdoors in daylight to give your body's clock a strong time cue. \n",
       "\n",
       "2. Engage in regular physical activity throughout the day. Aim for strenuous exercise in the late afternoon, around 5 or 6 PM, when your body is primed for it. \n",
       "\n",
       "3. Follow a time-restricted eating schedule, confining your intake of anything that contains calories to a period of 12 hours or less each 24-hour day. An eating window of 8 to 10 hours works well for most people, and should ideally end at least two hours before bed.\n",
       "\n",
       "4. Focus your nutrition on foods that have a high satiety per calorie, such as fruits, vegetables, lean meats, and fish. Try to avoid snacking, especially on low-quality foods.\n",
       "\n",
       "5. Minimize your exposure to bright overhead lights in the three hours before bed, and sleep in near or total darkness. \n",
       "\n",
       "6. If you're struggling with sleep, consider implementing bedtime restriction therapy, which involves only allowing yourself the amount of time in bed that you're actually asleep on a regular basis.\n",
       "\n",
       "7. Finally, try to spend sufficient time in bed each night. If you have a history of insufficient sleep, consider extending your time in bed by setting your alarm clock as late as possible and increasing your exposure to daylight in the morning.\n",
       "\n",
       "Remember, this is just a general guideline and individual needs may vary. It's always best to listen to your body and adjust your routine as necessary."
      ],
      "text/plain": [
       "<IPython.core.display.Markdown object>"
      ]
     },
     "metadata": {},
     "output_type": "display_data"
    }
   ],
   "source": [
    "x(\"what's that?\");"
   ]
  },
  {
   "cell_type": "code",
   "execution_count": 7,
   "id": "b03dd1fe-096d-4c59-bd76-af1804e0bf61",
   "metadata": {},
   "outputs": [
    {
     "name": "stdout",
     "output_type": "stream",
     "text": [
      "X.get_next_goal goal='daily_routine'\n"
     ]
    },
    {
     "data": {
      "text/markdown": [
       "I understand, Chris. It sounds like this might not be the right time for you to explore a new routine. That's perfectly okay. ###"
      ],
      "text/plain": [
       "<IPython.core.display.Markdown object>"
      ]
     },
     "metadata": {},
     "output_type": "display_data"
    }
   ],
   "source": [
    "x(\"nah, not into that thanks\");"
   ]
  },
  {
   "cell_type": "code",
   "execution_count": 8,
   "id": "e3195413-81c0-4707-bdb1-24824f93261f",
   "metadata": {},
   "outputs": [
    {
     "data": {
      "text/plain": [
       "True"
      ]
     },
     "execution_count": 8,
     "metadata": {},
     "output_type": "execute_result"
    }
   ],
   "source": [
    "x.goal_refused"
   ]
  },
  {
   "cell_type": "code",
   "execution_count": 9,
   "id": "7a8eb1da-e56b-41e3-bcec-fd82db1c4b8f",
   "metadata": {},
   "outputs": [
    {
     "name": "stdout",
     "output_type": "stream",
     "text": [
      "X.get_next_goal goal=''\n",
      "_to_args_and_kwargs self.name='get_greeting' all_args=['hey']\n"
     ]
    },
    {
     "data": {
      "text/markdown": [
       "Hello again, Chris! How are you feeling today?"
      ],
      "text/plain": [
       "<IPython.core.display.Markdown object>"
      ]
     },
     "metadata": {},
     "output_type": "display_data"
    }
   ],
   "source": [
    "x(\"hey\");"
   ]
  },
  {
   "cell_type": "code",
   "execution_count": null,
   "id": "31d143b4-d37b-4324-a106-6447ed99d94b",
   "metadata": {},
   "outputs": [],
   "source": []
  }
 ],
 "metadata": {
  "kernelspec": {
   "display_name": "Python 3 (ipykernel)",
   "language": "python",
   "name": "python3"
  },
  "language_info": {
   "codemirror_mode": {
    "name": "ipython",
    "version": 3
   },
   "file_extension": ".py",
   "mimetype": "text/x-python",
   "name": "python",
   "nbconvert_exporter": "python",
   "pygments_lexer": "ipython3",
   "version": "3.11.5"
  }
 },
 "nbformat": 4,
 "nbformat_minor": 5
}
