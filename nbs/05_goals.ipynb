{
 "cells": [
  {
   "cell_type": "code",
   "execution_count": 1,
   "id": "b035da0e-a6fa-412e-9f14-b1d8524deae1",
   "metadata": {
    "scrolled": true
   },
   "outputs": [],
   "source": [
    "from sleepmate.agent import *"
   ]
  },
  {
   "cell_type": "code",
   "execution_count": 2,
   "id": "b6d07629-d75c-43d9-9717-b298931adb64",
   "metadata": {},
   "outputs": [],
   "source": [
    "!rm -f /Users/cck197/Downloads/virtual_greg/memory.pkl"
   ]
  },
  {
   "cell_type": "code",
   "execution_count": 3,
   "id": "63c2a191-d60a-44b4-8ab6-8646bf8261fc",
   "metadata": {},
   "outputs": [
    {
     "name": "stdout",
     "output_type": "stream",
     "text": [
      "Automatic pdb calling has been turned ON\n"
     ]
    }
   ],
   "source": [
    "%pdb"
   ]
  },
  {
   "cell_type": "markdown",
   "id": "ea6532d5-4def-45bb-8497-d3e84e695cea",
   "metadata": {
    "jp-MarkdownHeadingCollapsed": true
   },
   "source": [
    "# Sleep Diary"
   ]
  },
  {
   "cell_type": "code",
   "execution_count": 2,
   "id": "437dce8a-b275-4373-b40f-d0b06ac20ab3",
   "metadata": {},
   "outputs": [
    {
     "name": "stdout",
     "output_type": "stream",
     "text": [
      "X() len(self.tools)=28\n",
      "X.get_next_goal goal='diary_entry'\n",
      "_to_args_and_kwargs self.name='get_greeting' all_args=['Chris']\n"
     ]
    },
    {
     "data": {
      "text/markdown": [
       "Hello, Chris! I hope you're doing well. Is now a good time to record a sleep diary entry?"
      ],
      "text/plain": [
       "<IPython.core.display.Markdown object>"
      ]
     },
     "metadata": {},
     "output_type": "display_data"
    }
   ],
   "source": [
    "x = X()#hello=False)"
   ]
  },
  {
   "cell_type": "code",
   "execution_count": 6,
   "id": "e00a919f-b2af-4b9b-baa3-1eab9f3f9100",
   "metadata": {},
   "outputs": [
    {
     "name": "stdout",
     "output_type": "stream",
     "text": [
      "X.get_next_goal goal='daily_routine'\n",
      "_to_args_and_kwargs self.name='get_knowledge_answer' all_args=['daily routine']\n"
     ]
    },
    {
     "data": {
      "text/markdown": [
       "A daily routine can vary greatly depending on individual lifestyle, work schedule, and personal preferences. However, based on the knowledge provided, a daily routine could look something like this:\n",
       "\n",
       "1. Wake up at a consistent time each day to help regulate your body's internal clock. Spend the first hour of your day outdoors in daylight to give your body's clock a strong time cue. \n",
       "\n",
       "2. Engage in regular physical activity throughout the day. Aim for strenuous exercise in the late afternoon, around 5 or 6 PM, when your body is primed for it. \n",
       "\n",
       "3. Follow a time-restricted eating schedule, confining your intake of anything that contains calories to a period of 12 hours or less each 24-hour day. An eating window of 8 to 10 hours works well for most people, and should ideally end at least two hours before bed.\n",
       "\n",
       "4. Focus your nutrition on foods that have a high satiety per calorie, such as fruits, vegetables, lean meats, and fish. Try to avoid snacking, especially on low-quality foods.\n",
       "\n",
       "5. Minimize your exposure to bright overhead lights in the three hours before bed, and sleep in near or total darkness. \n",
       "\n",
       "6. If you're struggling with sleep, consider implementing bedtime restriction therapy, which involves only allowing yourself the amount of time in bed that you're actually asleep on a regular basis.\n",
       "\n",
       "7. Finally, try to spend sufficient time in bed each night. If you have a history of insufficient sleep, consider extending your time in bed by setting your alarm clock as late as possible and increasing your exposure to daylight in the morning.\n",
       "\n",
       "Remember, this is just a general guideline and individual needs may vary. It's always best to listen to your body and adjust your routine as necessary."
      ],
      "text/plain": [
       "<IPython.core.display.Markdown object>"
      ]
     },
     "metadata": {},
     "output_type": "display_data"
    }
   ],
   "source": [
    "x(\"what's that?\");"
   ]
  },
  {
   "cell_type": "code",
   "execution_count": 7,
   "id": "b03dd1fe-096d-4c59-bd76-af1804e0bf61",
   "metadata": {},
   "outputs": [
    {
     "name": "stdout",
     "output_type": "stream",
     "text": [
      "X.get_next_goal goal='daily_routine'\n"
     ]
    },
    {
     "data": {
      "text/markdown": [
       "I understand, Chris. It sounds like this might not be the right time for you to explore a new routine. That's perfectly okay. ###"
      ],
      "text/plain": [
       "<IPython.core.display.Markdown object>"
      ]
     },
     "metadata": {},
     "output_type": "display_data"
    }
   ],
   "source": [
    "x(\"nah, not into that thanks\");"
   ]
  },
  {
   "cell_type": "code",
   "execution_count": 3,
   "id": "31d143b4-d37b-4324-a106-6447ed99d94b",
   "metadata": {},
   "outputs": [
    {
     "name": "stdout",
     "output_type": "stream",
     "text": [
      "X.get_next_goal goal='diary_entry'\n"
     ]
    },
    {
     "data": {
      "text/markdown": [
       "Fantastic! Let's start with the date of the entry. By default, we'll use yesterday's date. Is that okay, or would you like to specify a different date?"
      ],
      "text/plain": [
       "<IPython.core.display.Markdown object>"
      ]
     },
     "metadata": {},
     "output_type": "display_data"
    }
   ],
   "source": [
    "x(\"sure\");"
   ]
  },
  {
   "cell_type": "code",
   "execution_count": 4,
   "id": "d7b64e41-efaa-4496-a075-a12d906d980f",
   "metadata": {},
   "outputs": [
    {
     "name": "stdout",
     "output_type": "stream",
     "text": [
      "X.get_next_goal goal='diary_entry'\n"
     ]
    },
    {
     "data": {
      "text/markdown": [
       "Great, we'll use yesterday's date. Now, could you please tell me what time you went to bed?"
      ],
      "text/plain": [
       "<IPython.core.display.Markdown object>"
      ]
     },
     "metadata": {},
     "output_type": "display_data"
    }
   ],
   "source": [
    "x(\"yesterday is fine\");"
   ]
  },
  {
   "cell_type": "code",
   "execution_count": 5,
   "id": "a357f124-7986-4a42-8de9-4be5d422f05e",
   "metadata": {},
   "outputs": [
    {
     "name": "stdout",
     "output_type": "stream",
     "text": [
      "X.get_next_goal goal='diary_entry'\n"
     ]
    },
    {
     "data": {
      "text/markdown": [
       "Thank you, Chris. And at what time did you try to fall asleep?"
      ],
      "text/plain": [
       "<IPython.core.display.Markdown object>"
      ]
     },
     "metadata": {},
     "output_type": "display_data"
    }
   ],
   "source": [
    "x(\"21:15\");"
   ]
  },
  {
   "cell_type": "code",
   "execution_count": 6,
   "id": "3d818c3d-ea8a-4e16-bca5-9c5c75e31ed4",
   "metadata": {},
   "outputs": [
    {
     "name": "stdout",
     "output_type": "stream",
     "text": [
      "X.get_next_goal goal='diary_entry'\n"
     ]
    },
    {
     "data": {
      "text/markdown": [
       "Alright, you tried to fall asleep at the same time you went to bed. That's quite efficient! Now, how long did it take you to fall asleep, in minutes?"
      ],
      "text/plain": [
       "<IPython.core.display.Markdown object>"
      ]
     },
     "metadata": {},
     "output_type": "display_data"
    }
   ],
   "source": [
    "x(\"21:15\");"
   ]
  },
  {
   "cell_type": "code",
   "execution_count": 7,
   "id": "e68cadc9-f742-42d6-ab56-22b72cb072d6",
   "metadata": {},
   "outputs": [
    {
     "name": "stdout",
     "output_type": "stream",
     "text": [
      "X.get_next_goal goal='diary_entry'\n"
     ]
    },
    {
     "data": {
      "text/markdown": [
       "That's quite quick! Now, how many times did you wake up during the night?"
      ],
      "text/plain": [
       "<IPython.core.display.Markdown object>"
      ]
     },
     "metadata": {},
     "output_type": "display_data"
    }
   ],
   "source": [
    "x(\"5\");"
   ]
  },
  {
   "cell_type": "code",
   "execution_count": 8,
   "id": "5010086c-fb14-4a65-8beb-2bd9e34920a2",
   "metadata": {},
   "outputs": [
    {
     "name": "stdout",
     "output_type": "stream",
     "text": [
      "X.get_next_goal goal='diary_entry'\n"
     ]
    },
    {
     "data": {
      "text/markdown": [
       "I see, you woke up once during the night. Could you tell me how long you were awake for during that time, in minutes?"
      ],
      "text/plain": [
       "<IPython.core.display.Markdown object>"
      ]
     },
     "metadata": {},
     "output_type": "display_data"
    }
   ],
   "source": [
    "x(\"1\");"
   ]
  },
  {
   "cell_type": "code",
   "execution_count": 9,
   "id": "da963f79-f630-47a9-abf1-9f4162ba9484",
   "metadata": {},
   "outputs": [
    {
     "name": "stdout",
     "output_type": "stream",
     "text": [
      "X.get_next_goal goal='diary_entry'\n"
     ]
    },
    {
     "data": {
      "text/markdown": [
       "Thank you for that information. Now, could you tell me what time you finally woke up?"
      ],
      "text/plain": [
       "<IPython.core.display.Markdown object>"
      ]
     },
     "metadata": {},
     "output_type": "display_data"
    }
   ],
   "source": [
    "x(\"30\");"
   ]
  },
  {
   "cell_type": "code",
   "execution_count": 10,
   "id": "739fd26c-4124-4e21-af74-f9183555cf11",
   "metadata": {},
   "outputs": [
    {
     "name": "stdout",
     "output_type": "stream",
     "text": [
      "X.get_next_goal goal='diary_entry'\n"
     ]
    },
    {
     "data": {
      "text/markdown": [
       "Thank you, Chris. And at what time did you get out of bed?"
      ],
      "text/plain": [
       "<IPython.core.display.Markdown object>"
      ]
     },
     "metadata": {},
     "output_type": "display_data"
    }
   ],
   "source": [
    "x(\"6:30\");"
   ]
  },
  {
   "cell_type": "code",
   "execution_count": 11,
   "id": "226dda7f-1dd0-4a8e-b84b-d2173aa5feea",
   "metadata": {},
   "outputs": [
    {
     "name": "stdout",
     "output_type": "stream",
     "text": [
      "X.get_next_goal goal='diary_entry'\n"
     ]
    },
    {
     "data": {
      "text/markdown": [
       "Thank you for sharing that. Now, how would you rate your sleep quality? The options are \"very good\", \"good\", \"okay\", \"bad\", \"very bad\"."
      ],
      "text/plain": [
       "<IPython.core.display.Markdown object>"
      ]
     },
     "metadata": {},
     "output_type": "display_data"
    }
   ],
   "source": [
    "x(\"6:45\");"
   ]
  },
  {
   "cell_type": "code",
   "execution_count": 12,
   "id": "c72bd5ac-77a5-4744-aaed-9becb92f25d4",
   "metadata": {},
   "outputs": [
    {
     "name": "stdout",
     "output_type": "stream",
     "text": [
      "X.get_next_goal goal='diary_entry'\n"
     ]
    },
    {
     "data": {
      "text/markdown": [
       "I'm glad to hear that you had a good sleep. Did you use any medications or aids to help you sleep?"
      ],
      "text/plain": [
       "<IPython.core.display.Markdown object>"
      ]
     },
     "metadata": {},
     "output_type": "display_data"
    }
   ],
   "source": [
    "x(\"good\");"
   ]
  },
  {
   "cell_type": "code",
   "execution_count": 13,
   "id": "30672d25-97c8-4532-a6b0-ed9d39b29a95",
   "metadata": {},
   "outputs": [
    {
     "name": "stdout",
     "output_type": "stream",
     "text": [
      "X.get_next_goal goal='diary_entry'\n"
     ]
    },
    {
     "data": {
      "text/markdown": [
       "Alright, no sleep aids or medications. Lastly, are there any other notes or observations you'd like to add about your sleep?"
      ],
      "text/plain": [
       "<IPython.core.display.Markdown object>"
      ]
     },
     "metadata": {},
     "output_type": "display_data"
    }
   ],
   "source": [
    "x(\"no\");"
   ]
  },
  {
   "cell_type": "code",
   "execution_count": 14,
   "id": "ad210138-c674-4a8c-801d-0af64753bcbd",
   "metadata": {},
   "outputs": [
    {
     "name": "stdout",
     "output_type": "stream",
     "text": [
      "X.get_next_goal goal='diary_entry'\n",
      "_to_args_and_kwargs self.name='save_sleep_diary_entry' all_args=['[\"yesterday\", \"21:15\", \"21:15\", 5, 1, 30, \"6:30\", \"6:45\", \"good\", \"no\", \"slept in the van\"]']\n",
      "save_sleep_diary_entry entry=SleepDiaryEntry(date=datetime.datetime(2023, 10, 19, 7, 1, 21, 847247), in_bed=datetime.datetime(2023, 10, 20, 21, 15), tried_to_fall_asleep=datetime.datetime(2023, 10, 20, 21, 15), time_to_fall_asleep=5, times_awake=1, time_awake=30, final_wake_up=datetime.datetime(2023, 10, 20, 6, 30), out_of_bed=datetime.datetime(2023, 10, 20, 6, 45), sleep_quality='good', medications='no', notes='slept in the van')\n"
     ]
    },
    {
     "data": {
      "text/markdown": [
       "Great, I've recorded your sleep diary entry. Here's a summary:\n",
       "\n",
       "- Date: Yesterday\n",
       "- Time you went to bed: 21:15\n",
       "- Time you tried to fall asleep: 21:15\n",
       "- Time it took you to fall asleep: 5 minutes\n",
       "- Number of times you woke up during the night: 1\n",
       "- Total time you were awake during the night: 30 minutes\n",
       "- Final wake up time: 6:30\n",
       "- Time you got out of bed: 6:45\n",
       "- Sleep quality: Good\n",
       "- Sleep aids: None\n",
       "- Notes: Slept in the van\n",
       "\n",
       "Does everything look correct?"
      ],
      "text/plain": [
       "<IPython.core.display.Markdown object>"
      ]
     },
     "metadata": {},
     "output_type": "display_data"
    }
   ],
   "source": [
    "x(\"slept in the van\");"
   ]
  },
  {
   "cell_type": "code",
   "execution_count": 15,
   "id": "f7c99a61-6cf2-4846-a15f-5b86e095f78a",
   "metadata": {},
   "outputs": [
    {
     "name": "stdout",
     "output_type": "stream",
     "text": [
      "X.get_next_goal goal='diary_entry'\n",
      "_to_args_and_kwargs self.name='save_sleep_diary_entry' all_args=['[\"yesterday\", \"21:15\", \"21:15\", 5, 1, 30, \"6:30\", \"6:45\", \"good\", \"none\", \"slept in the van\"]']\n",
      "save_sleep_diary_entry entry=SleepDiaryEntry(date=datetime.datetime(2023, 10, 19, 7, 1, 52, 692166), in_bed=datetime.datetime(2023, 10, 20, 21, 15), tried_to_fall_asleep=datetime.datetime(2023, 10, 20, 21, 15), time_to_fall_asleep=5, times_awake=1, time_awake=30, final_wake_up=datetime.datetime(2023, 10, 20, 6, 30), out_of_bed=datetime.datetime(2023, 10, 20, 6, 45), sleep_quality='good', medications='none', notes='slept in the van')\n",
      "_to_args_and_kwargs self.name='get_date_sleep_diary_entry' all_args=['yesterday']\n"
     ]
    },
    {
     "data": {
      "text/markdown": [
       "Thank you, Chris. Your sleep diary entry for yesterday has been saved. Here's a summary:\n",
       "\n",
       "- Date: 19th October 2023\n",
       "- Time you went to bed: 21:15\n",
       "- Time you tried to fall asleep: 21:15\n",
       "- Time it took you to fall asleep: 5 minutes\n",
       "- Number of times you woke up during the night: 1\n",
       "- Total time you were awake during the night: 30 minutes\n",
       "- Final wake up time: 6:30\n",
       "- Time you got out of bed: 6:45\n",
       "- Sleep quality: Good\n",
       "- Sleep aids: None\n",
       "- Notes: Slept in the van\n",
       "- Sleep duration: 8 hours and 40 minutes\n",
       "- Sleep efficiency: 91.23% (anything over 85% is considered normal)\n",
       "\n",
       "I must say, despite sleeping in the van, you've managed quite a good night's sleep!"
      ],
      "text/plain": [
       "<IPython.core.display.Markdown object>"
      ]
     },
     "metadata": {},
     "output_type": "display_data"
    }
   ],
   "source": [
    "x(\"yep!\");"
   ]
  },
  {
   "cell_type": "markdown",
   "id": "555048a9-9ed8-4868-8763-eff300aa821c",
   "metadata": {},
   "source": [
    "# Daily Routine"
   ]
  },
  {
   "cell_type": "code",
   "execution_count": 2,
   "id": "cfab3dd3-8171-4e06-87d9-403e7f06c0e8",
   "metadata": {},
   "outputs": [
    {
     "name": "stdout",
     "output_type": "stream",
     "text": [
      "X() len(self.tools)=30\n",
      "X.get_next_goal goal='daily_routine'\n",
      "X.load_memory filename='/Users/cck197/Downloads/virtual_greg/memory.pkl'\n"
     ]
    },
    {
     "data": {
      "text/markdown": [
       "Hello again, Chris! I hope you're feeling refreshed. Would you be open to hearing about a daily routine that could potentially help improve your sleep even further?"
      ],
      "text/plain": [
       "<IPython.core.display.Markdown object>"
      ]
     },
     "metadata": {},
     "output_type": "display_data"
    }
   ],
   "source": [
    "x = X()"
   ]
  },
  {
   "cell_type": "code",
   "execution_count": 3,
   "id": "9def3312-4f73-443c-8aeb-8e8c53f73099",
   "metadata": {},
   "outputs": [
    {
     "name": "stdout",
     "output_type": "stream",
     "text": [
      "X.get_next_goal goal='daily_routine'\n",
      "_to_args_and_kwargs self.name='save_daily_routine_seen' all_args=['chris@nourishbalancethrive.com']\n",
      "save entry={'date': datetime.datetime(2023, 10, 20, 10, 18, 18, 436765)}\n",
      "_to_args_and_kwargs self.name='get_knowledge_answer' all_args=['daily routine']\n"
     ]
    },
    {
     "data": {
      "text/markdown": [
       "A daily routine can vary greatly depending on individual lifestyle, work schedule, and personal preferences. However, based on the knowledge provided, a daily routine could look something like this:\n",
       "\n",
       "1. Wake up at a consistent time each day to help regulate your body's internal clock. Spend the first hour of your day outdoors in daylight to give your body's clock a strong time cue. \n",
       "\n",
       "2. Engage in regular physical activity throughout the day. Aim for brief bouts of low-intensity activity to support blood sugar control and brain function. \n",
       "\n",
       "3. Schedule your most strenuous exercise for the late biological afternoon, around 5 or 6 PM. This is when your body is primed for high-intensity activity.\n",
       "\n",
       "4. Follow a time-restricted eating schedule, confining your intake of calories to a period of 12 hours or less each day. Ideally, your eating window should end at least two hours before bed.\n",
       "\n",
       "5. Minimize your exposure to bright overhead lights in the three hours before bed to help prepare your body for sleep. \n",
       "\n",
       "6. Aim to spend slightly more time in bed if you have a history of insufficient sleep. This could involve setting your alarm clock as late as possible and increasing your exposure to daylight in the morning to help shift your clocks earlier.\n",
       "\n",
       "7. If you have insomnia-type symptoms, consider spending less time in bed to improve your sleep quality. This could involve delaying your bedtime but waking up at the same time you normally do.\n",
       "\n",
       "8. Finally, go to bed when you're actually sleepy. Your bedtime should be quite regular if you're following the other tips.\n",
       "\n",
       "Remember, this is a general guideline and individual needs may vary. Always consult with a healthcare professional before making significant changes to your daily routine."
      ],
      "text/plain": [
       "<IPython.core.display.Markdown object>"
      ]
     },
     "metadata": {},
     "output_type": "display_data"
    }
   ],
   "source": [
    "x(\"sure\");"
   ]
  },
  {
   "cell_type": "code",
   "execution_count": null,
   "id": "1ddc1426-22e7-4e39-91ed-3eda6e049eeb",
   "metadata": {},
   "outputs": [],
   "source": []
  }
 ],
 "metadata": {
  "kernelspec": {
   "display_name": "Python 3 (ipykernel)",
   "language": "python",
   "name": "python3"
  },
  "language_info": {
   "codemirror_mode": {
    "name": "ipython",
    "version": 3
   },
   "file_extension": ".py",
   "mimetype": "text/x-python",
   "name": "python",
   "nbconvert_exporter": "python",
   "pygments_lexer": "ipython3",
   "version": "3.11.5"
  }
 },
 "nbformat": 4,
 "nbformat_minor": 5
}
