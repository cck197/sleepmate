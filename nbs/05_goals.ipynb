{
 "cells": [
  {
   "cell_type": "code",
   "execution_count": 1,
   "id": "b035da0e-a6fa-412e-9f14-b1d8524deae1",
   "metadata": {
    "scrolled": true
   },
   "outputs": [],
   "source": [
    "from sleepmate.agent import *"
   ]
  },
  {
   "cell_type": "code",
   "execution_count": 2,
   "id": "b6d07629-d75c-43d9-9717-b298931adb64",
   "metadata": {},
   "outputs": [],
   "source": [
    "!rm -f /Users/cck197/Downloads/virtual_greg/memory.pkl"
   ]
  },
  {
   "cell_type": "code",
   "execution_count": 3,
   "id": "63c2a191-d60a-44b4-8ab6-8646bf8261fc",
   "metadata": {},
   "outputs": [
    {
     "name": "stdout",
     "output_type": "stream",
     "text": [
      "Automatic pdb calling has been turned ON\n"
     ]
    }
   ],
   "source": [
    "%pdb"
   ]
  },
  {
   "cell_type": "code",
   "execution_count": 4,
   "id": "437dce8a-b275-4373-b40f-d0b06ac20ab3",
   "metadata": {},
   "outputs": [
    {
     "name": "stdout",
     "output_type": "stream",
     "text": [
      "X() len(self.tools)=28\n",
      "X.get_next_goal goal='diary_probe'\n",
      "_to_args_and_kwargs self.name='get_greeting' all_args=['Chris']\n"
     ]
    },
    {
     "data": {
      "text/markdown": [
       "Hello, Chris! It's a pleasure to reconnect with you. I hope you're doing well. How are you feeling today?"
      ],
      "text/plain": [
       "<IPython.core.display.Markdown object>"
      ]
     },
     "metadata": {},
     "output_type": "display_data"
    }
   ],
   "source": [
    "x = X()#hello=False)"
   ]
  },
  {
   "cell_type": "code",
   "execution_count": 5,
   "id": "d45e2dab-5150-4c46-a2c0-a6400a807f88",
   "metadata": {},
   "outputs": [
    {
     "name": "stdout",
     "output_type": "stream",
     "text": [
      "X.get_next_goal goal='diary_probe'\n",
      "_to_args_and_kwargs self.name='get_listening_statement' all_args=['not bad, a bit tired']\n"
     ]
    },
    {
     "data": {
      "text/markdown": [
       "Ah, it sounds like you're feeling a bit worn out. It's completely understandable, especially considering the demanding nature of your work."
      ],
      "text/plain": [
       "<IPython.core.display.Markdown object>"
      ]
     },
     "metadata": {},
     "output_type": "display_data"
    }
   ],
   "source": [
    "x(\"not bad, a bit tired\");"
   ]
  },
  {
   "cell_type": "code",
   "execution_count": 6,
   "id": "c5154b5d-7cbc-4a60-9742-452ce536c3a6",
   "metadata": {},
   "outputs": [
    {
     "name": "stdout",
     "output_type": "stream",
     "text": [
      "X.get_next_goal goal='diary_probe'\n",
      "_to_args_and_kwargs self.name='get_last_sleep_diary_entry' all_args=['chris@nourishbalancethrive.com']\n"
     ]
    },
    {
     "data": {
      "text/markdown": [
       "I see that you haven't kept a sleep diary before. Would you like me to assist you in maintaining one? It can be quite helpful in understanding and improving your sleep patterns."
      ],
      "text/plain": [
       "<IPython.core.display.Markdown object>"
      ]
     },
     "metadata": {},
     "output_type": "display_data"
    }
   ],
   "source": [
    "x(\"yeah\");"
   ]
  },
  {
   "cell_type": "code",
   "execution_count": 7,
   "id": "e00a919f-b2af-4b9b-baa3-1eab9f3f9100",
   "metadata": {},
   "outputs": [
    {
     "name": "stdout",
     "output_type": "stream",
     "text": [
      "X.get_next_goal goal='diary_probe'\n",
      "_to_args_and_kwargs self.name='get_sleep_diary_description' all_args=['sleep diary']\n"
     ]
    },
    {
     "data": {
      "text/markdown": [
       "Ah, a sleep diary! It's a handy little tool where you record various aspects of your sleep habits to help identify patterns or issues that may be affecting your sleep quality. It typically includes information like:\n",
       "\n",
       "1. What time you went to bed.\n",
       "2. How long it took you to fall asleep.\n",
       "3. How many times you woke up during the night.\n",
       "4. What time you woke up in the morning.\n",
       "5. How you felt upon waking (refreshed, tired, etc.).\n",
       "\n",
       "Have you ever kept a sleep diary, Chris? If not, would you like some assistance in starting one? If you have, would you be comfortable sharing it with me?"
      ],
      "text/plain": [
       "<IPython.core.display.Markdown object>"
      ]
     },
     "metadata": {},
     "output_type": "display_data"
    }
   ],
   "source": [
    "x(\"what's that?\");"
   ]
  },
  {
   "cell_type": "code",
   "execution_count": 8,
   "id": "b03dd1fe-096d-4c59-bd76-af1804e0bf61",
   "metadata": {},
   "outputs": [
    {
     "name": "stdout",
     "output_type": "stream",
     "text": [
      "X.get_next_goal goal='diary_probe'\n"
     ]
    },
    {
     "name": "stderr",
     "output_type": "stream",
     "text": [
      "Error in GoalRefusedHandler.on_agent_finish callback: ValidationError (GoalRefusal:None) (Field is required: ['date'])\n"
     ]
    },
    {
     "data": {
      "text/markdown": [
       "🛑🛑🛑"
      ],
      "text/plain": [
       "<IPython.core.display.Markdown object>"
      ]
     },
     "metadata": {},
     "output_type": "display_data"
    }
   ],
   "source": [
    "x(\"nah, not into that thanks\");"
   ]
  },
  {
   "cell_type": "code",
   "execution_count": null,
   "id": "e3195413-81c0-4707-bdb1-24824f93261f",
   "metadata": {},
   "outputs": [],
   "source": []
  }
 ],
 "metadata": {
  "kernelspec": {
   "display_name": "Python 3 (ipykernel)",
   "language": "python",
   "name": "python3"
  },
  "language_info": {
   "codemirror_mode": {
    "name": "ipython",
    "version": 3
   },
   "file_extension": ".py",
   "mimetype": "text/x-python",
   "name": "python",
   "nbconvert_exporter": "python",
   "pygments_lexer": "ipython3",
   "version": "3.11.5"
  }
 },
 "nbformat": 4,
 "nbformat_minor": 5
}
