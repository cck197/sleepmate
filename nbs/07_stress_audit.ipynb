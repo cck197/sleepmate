{
 "cells": [
  {
   "cell_type": "code",
   "execution_count": 3,
   "id": "d3e72a04-77e7-4442-bf00-94337b2ae22b",
   "metadata": {},
   "outputs": [],
   "source": [
    "from sleepmate.executor import *"
   ]
  },
  {
   "cell_type": "code",
   "execution_count": 4,
   "id": "bc13914e-5193-494e-a41a-e266caa34606",
   "metadata": {},
   "outputs": [],
   "source": [
    "username = \"test\""
   ]
  },
  {
   "cell_type": "code",
   "execution_count": 5,
   "id": "87e0212c-b4da-471c-bd82-5258d1c7dc63",
   "metadata": {},
   "outputs": [],
   "source": [
    "clear_db_for_user(get_user_from_username(username).id)"
   ]
  },
  {
   "cell_type": "code",
   "execution_count": 6,
   "id": "a6d3b553-d5a2-41ef-862a-e0803bb169ba",
   "metadata": {
    "scrolled": true
   },
   "outputs": [
    {
     "data": {
      "text/markdown": [
       "Hello Sleepy! I hope you're feeling chipper—or at least not too groggy—at this moment. Today, we're going to embark on a stress audit adventure. It's like a treasure hunt, but instead of gold, we're after insights into your coping strategies. Are you ready to dive in and list your stress-coping behaviours? Once you've got a list, we'll sort them into categories and see if we can't balance your stress ledger. How are you feeling right now, in this moment?"
      ],
      "text/plain": [
       "<IPython.core.display.Markdown object>"
      ]
     },
     "metadata": {},
     "output_type": "display_data"
    }
   ],
   "source": [
    "x = X(username=username, goal=\"stress_audit\", fixed_goal=True, hello=\"hey\")"
   ]
  },
  {
   "cell_type": "code",
   "execution_count": 7,
   "id": "1643de57-0b65-4527-8d1f-f5abd7537836",
   "metadata": {},
   "outputs": [
    {
     "data": {
      "text/markdown": [
       "Righto, let's sort these behaviours into our categories. Remember, we're looking at whether they're problem or emotion-focused, and whether they're adaptive or maladaptive. Here's what I've come up with:\n",
       "\n",
       "- Eat crunchy salty snacks (E, M)\n",
       "- Eat sweet snacks (E, M)\n",
       "- Drink fizzy water (E, A)\n",
       "- Drink hoptea (E, A)\n",
       "- Drink beer (E, M)\n",
       "- Go for a walk (E, A) (P, A)\n",
       "- Go for a run (E, A) (P, A)\n",
       "- Lay on the couch and watch TV (E, M)\n",
       "- Lay on the couch and scroll Instagram (E, M)\n",
       "- Lay on the couch and scroll Ravelry (E, M)\n",
       "- Knit / crochet (E, A)\n",
       "- Journal (E, A) (P, A)\n",
       "- Meditate (E, A) (P, A)\n",
       "- Shop for yarn, furniture, fabric, or groceries (E, M) (P, A)\n",
       "- Scroll Zillow (E, M)\n",
       "- \"Work\" on tasks I’ve already completed (e.g., re-making slides) (P, M)\n",
       "- Making new slides (P, A)\n",
       "- Giving up (E, M) (P, M)\n",
       "- Cleaning the house (E, A) (P, A)\n",
       "- Walking or coffee with friends (E, A)\n",
       "- Get a massage (E, A)\n",
       "- Get my nails done (E, A)\n",
       "\n",
       "It seems like you've got a mix of emotion-focused and problem-focused coping strategies, with a variety of adaptive and maladaptive behaviours. Adaptive behaviours like going for a walk or run, journaling, and meditating are excellent for managing stress. However, there are a few maladaptive behaviours like eating snacks or drinking beer that might provide temporary relief but could have negative long-term effects.\n",
       "\n",
       "Does this categorisation look correct to you? If there's an imbalance, can you think of any additional behaviours that might help balance the list? For example, if you're leaning heavily on emotion-focused coping, you might consider adding more problem-solving activities. Or if you're engaging in maladaptive behaviours, perhaps you could replace some of them with healthier alternatives."
      ],
      "text/plain": [
       "<IPython.core.display.Markdown object>"
      ]
     },
     "metadata": {},
     "output_type": "display_data"
    }
   ],
   "source": [
    "x(\"\"\"categorise these behaviours\n",
    "Eat crunchy salty snacks\n",
    "eat sweet snacks\n",
    "drink Fizzy water\n",
    "Drink hoptea\n",
    "drink beer\n",
    "go for a walk\n",
    "go for a run\n",
    "lay on the couch and watch tv\n",
    "lay on the couch and scroll instagram\n",
    "lay on the couch and scroll Ravelry (knitting website I sometimes use to replace instagram - gives a similar, inconsistent dopamine hit)\n",
    "knit / crochet\n",
    "journal\n",
    "meditate\n",
    "shop for yarn, furniture, fabric, or groceries\n",
    "scroll zillow\n",
    "”work” on tasks I’ve already completed (e.g., re-making slides)\n",
    "making new slides\n",
    "giving up\n",
    "cleaning the house\n",
    "walking or coffee with friends\n",
    "get a massage\n",
    "get my nails done\n",
    "\"\"\");"
   ]
  },
  {
   "cell_type": "code",
   "execution_count": 9,
   "id": "6e050fad-793d-4fb4-939b-d312d48f5e8d",
   "metadata": {},
   "outputs": [
    {
     "data": {
      "text/markdown": [
       "Of course, here's a simplified markdown table with the behaviours categorized by type and whether they are adaptive or maladaptive, along with totals for each category:\n",
       "\n",
       "| Behaviour | Type | Adaptive/Maladaptive |\n",
       "|-----------|------|----------------------|\n",
       "| Eat crunchy salty snacks | Emotion | Maladaptive |\n",
       "| Eat sweet snacks | Emotion | Maladaptive |\n",
       "| Drink fizzy water | Emotion | Adaptive |\n",
       "| Drink hoptea | Emotion | Adaptive |\n",
       "| Drink beer | Emotion | Maladaptive |\n",
       "| Go for a walk | Both | Adaptive |\n",
       "| Go for a run | Both | Adaptive |\n",
       "| Lay on the couch and watch TV | Emotion | Maladaptive |\n",
       "| Lay on the couch and scroll Instagram | Emotion | Maladaptive |\n",
       "| Lay on the couch and scroll Ravelry | Emotion | Maladaptive |\n",
       "| Knit / crochet | Emotion | Adaptive |\n",
       "| Journal | Both | Adaptive |\n",
       "| Meditate | Both | Adaptive |\n",
       "| Shop for yarn, furniture, fabric, or groceries | Both | Mixed |\n",
       "| Scroll Zillow | Emotion | Maladaptive |\n",
       "| \"Work\" on tasks I’ve already completed | Problem | Maladaptive |\n",
       "| Making new slides | Problem | Adaptive |\n",
       "| Giving up | Both | Maladaptive |\n",
       "| Cleaning the house | Both | Adaptive |\n",
       "| Walking or coffee with friends | Emotion | Adaptive |\n",
       "| Get a massage | Emotion | Adaptive |\n",
       "| Get my nails done | Emotion | Adaptive |\n",
       "\n",
       "**Totals:**\n",
       "\n",
       "| Type | Adaptive | Maladaptive |\n",
       "|------|----------|-------------|\n",
       "| Emotion | 7 | 7 |\n",
       "| Problem | 1 | 1 |\n",
       "| Both | 4 | 1 |\n",
       "| Mixed | 1 | 0 |\n",
       "\n",
       "Please review the table and let me know if this aligns with your understanding. If all is in order, I'll save the Stress Audit to the database. Ready to move forward?"
      ],
      "text/plain": [
       "<IPython.core.display.Markdown object>"
      ]
     },
     "metadata": {},
     "output_type": "display_data"
    }
   ],
   "source": [
    "x(\"list all the behaviours in a markdown table with totals columns: behaviour, type, adaptive\");"
   ]
  },
  {
   "cell_type": "code",
   "execution_count": 12,
   "id": "163bb8c9-2f96-4666-afd2-4718d3b51dfa",
   "metadata": {},
   "outputs": [
    {
     "data": {
      "text/markdown": [
       "Absolutely, I'd be delighted to suggest some problem-based adaptive coping strategies. These are like the Swiss Army knife of stress management—versatile and practical. Here are a few you might consider adding to your repertoire:\n",
       "\n",
       "1. **Time Management**: Plan your day or week in advance to manage your time more effectively. This can help reduce the feeling of being overwhelmed.\n",
       "\n",
       "2. **Delegation**: If you have too much on your plate, see if there are tasks you can delegate to others.\n",
       "\n",
       "3. **Setting Boundaries**: Learn to say no to requests that will overload you or are not aligned with your priorities.\n",
       "\n",
       "4. **Seeking Solutions**: When faced with a problem, brainstorm possible solutions, evaluate them, and then implement the most feasible one.\n",
       "\n",
       "5. **Skill Development**: If stress comes from feeling inadequate in certain areas, consider taking courses or seeking training to improve those skills.\n",
       "\n",
       "6. **Task Prioritization**: Identify the most important tasks and tackle those first. This can help reduce stress by ensuring that critical items are addressed.\n",
       "\n",
       "7. **Break Tasks into Smaller Steps**: If a task seems too big, break it down into smaller, more manageable steps.\n",
       "\n",
       "8. **Seeking Feedback**: Ask for feedback on your work or approach to problems to gain new perspectives and ideas.\n",
       "\n",
       "9. **Assertive Communication**: Communicate your needs and concerns clearly and respectfully to avoid misunderstandings and conflicts.\n",
       "\n",
       "10. **Problem-Solving Techniques**: Use structured problem-solving techniques, such as the '5 Whys' or 'SWOT Analysis', to get to the root of a problem and find effective solutions.\n",
       "\n",
       "11. **Change of Environment**: Sometimes a change of scenery can help clear your mind and give you a new perspective on a problem.\n",
       "\n",
       "12. **Professional Assistance**: If a problem is too big to handle on your own, don't hesitate to seek help from a professional, such as a counselor or financial advisor.\n",
       "\n",
       "13. **Technology Tools**: Use apps and tools for organization, budgeting, or other specific areas where you need support in managing stressors.\n",
       "\n",
       "14. **Negotiation Skills**: Learn to negotiate deadlines or expectations with others to make them more realistic and achievable.\n",
       "\n",
       "15. **Preventative Maintenance**: Take steps to prevent problems before they start, such as regular car maintenance to avoid breakdowns.\n",
       "\n",
       "Would you like to try incorporating any of these strategies into your stress management plan? If so, we can explore how to apply them to your current situation. Shall we give it a go?"
      ],
      "text/plain": [
       "<IPython.core.display.Markdown object>"
      ]
     },
     "metadata": {},
     "output_type": "display_data"
    }
   ],
   "source": [
    "x(\"can you suggest some problem-based adaptive coping strategies?\");"
   ]
  },
  {
   "cell_type": "code",
   "execution_count": 5,
   "id": "b68f0b09-6718-424f-87c8-ab1d624d6ebb",
   "metadata": {},
   "outputs": [
    {
     "data": {
      "text/markdown": [
       "Great! Please go ahead and list as many stress-coping behaviours as you can think of."
      ],
      "text/plain": [
       "<IPython.core.display.Markdown object>"
      ]
     },
     "metadata": {},
     "output_type": "display_data"
    }
   ],
   "source": [
    "x(\"sure\");"
   ]
  },
  {
   "cell_type": "code",
   "execution_count": 6,
   "id": "38889e6b-b55f-45d9-990f-73e56ab50efb",
   "metadata": {},
   "outputs": [
    {
     "data": {
      "text/markdown": [
       "Absolutely, here are some examples:\n",
       "\n",
       "1. Working longer, working harder (esp. doing more research to feel prepared) - Problem-focused, Adaptive\n",
       "2. Diarizing (also for time management) - Problem-focused, Adaptive\n",
       "3. Drink more coffee - Emotion-focused, Maladaptive\n",
       "4. Tinkering - getting very detail oriented - Emotion-focused, Maladaptive\n",
       "5. Exercising (e.g. Swimming, Biking, Running) - Emotion-focused, Adaptive\n",
       "6. Asking for help/seeking assistance - Problem-focused, Adaptive\n",
       "7. Seeking out information, education - Problem-focused, Adaptive\n",
       "8. Using logic to avoid over exaggerating stressor - Problem-focused, Adaptive\n",
       "9. Problem solving and selecting solutions - Problem-focused, Adaptive\n",
       "10. Prioritizing and Segmenting - Problem-focused, Adaptive\n",
       "11. Identifying controllable actions - Problem-focused, Adaptive\n",
       "12. Assertiveness and communication skills - Problem-focused, Adaptive\n",
       "13. Moaning, complaining, talking out loud (esp. Brooding - taking on more but then complaining how unfair it is) - Emotion-focused, Maladaptive\n",
       "14. Cleaning, Tidying - Emotion-focused, Adaptive\n",
       "15. Buying things on Amazon, mostly functional/easily justifiable - Emotion-focused, Maladaptive\n",
       "16. Procrastinating (e.g., false prioritizing) - Emotion-focused, Maladaptive\n",
       "17. Listening to rain on Spotify or YouTube - Emotion-focused, Adaptive\n",
       "18. Chimp purging - Emotion-focused, Adaptive\n",
       "19. Watching TV, especially the Olympic Channel - Emotion-focused, Maladaptive\n",
       "20. Watching YouTube videos/TikTok - Emotion-focused, Maladaptive\n",
       "21. Reading the news (BBC app, NYT) - Emotion-focused, Maladaptive\n",
       "22. Drinking alcohol - Emotion-focused, Maladaptive\n",
       "23. Eating simple carbohydrates - Emotion-focused, Maladaptive\n",
       "24. Socializing with friends - Emotion-focused, Adaptive\n",
       "25. Having sex or masturbating - Emotion-focused, Adaptive\n",
       "26. Taking THC - Emotion-focused, Adaptive\n",
       "27. Playing the piano - Emotion-focused, Adaptive\n",
       "28. Going down Facebook/Twitter/YouTube rabbit holes - Emotion-focused, Maladaptive\n",
       "29. Using humor and jokes - Emotion-focused, Adaptive\n",
       "30. Physiologic Sigh Breathing - Emotion-focused, Adaptive\n",
       "31. Progress Muscle Relaxation - Emotion-focused, Adaptive\n",
       "\n",
       "Now, can you list your stress-coping behaviours?"
      ],
      "text/plain": [
       "<IPython.core.display.Markdown object>"
      ]
     },
     "metadata": {},
     "output_type": "display_data"
    }
   ],
   "source": [
    "x(\"can you give me some examples?\");"
   ]
  },
  {
   "cell_type": "code",
   "execution_count": 7,
   "id": "a61470d1-6b83-4201-9d4c-ce3afe5c75b3",
   "metadata": {},
   "outputs": [
    {
     "data": {
      "text/markdown": [
       "Great, Chris! Let's categorise these behaviours. \n",
       "\n",
       "1. Working longer, working harder (esp. doing more research to feel prepared) - Problem-focused, Adaptive\n",
       "2. Diarizing (also for time management) - Problem-focused, Adaptive\n",
       "3. Drink more coffee - Emotion-focused, Maladaptive\n",
       "4. Tinkering - getting very detail oriented - Emotion-focused, Maladaptive\n",
       "5. Exercising (e.g. Swimming, Biking, Running) - Emotion-focused, Adaptive\n",
       "6. Asking for help/seeking assistance - Problem-focused, Adaptive\n",
       "7. Seeking out information, education - Problem-focused, Adaptive\n",
       "8. Using logic to avoid over exaggerating stressor - Problem-focused, Adaptive\n",
       "9. Problem solving and selecting solutions - Problem-focused, Adaptive\n",
       "10. Prioritizing and Segmenting - Problem-focused, Adaptive\n",
       "\n",
       "From this list, it seems like you have a good balance of problem-focused and emotion-focused coping behaviours. However, there are a couple of maladaptive behaviours. \n",
       "\n",
       "Do you think this categorisation is accurate? And can you think of any other behaviours that might help balance the list further? For example, you could consider adding more adaptive emotion-focused behaviours like listening to calming music or practicing mindfulness."
      ],
      "text/plain": [
       "<IPython.core.display.Markdown object>"
      ]
     },
     "metadata": {},
     "output_type": "display_data"
    }
   ],
   "source": [
    "x(\"I do the 10 listed above\");"
   ]
  },
  {
   "cell_type": "code",
   "execution_count": 8,
   "id": "aff1cdb9-2c4a-44db-9166-8990ffe736d3",
   "metadata": {},
   "outputs": [
    {
     "name": "stdout",
     "output_type": "stream",
     "text": [
      "save_stress_audit entry=StressAudit(date=datetime.datetime(2023, 10, 16, 6, 35, 7, 386526), behaviours=['Working longer, working harder', 'Diarizing', 'Drink more coffee', 'Tinkering', 'Exercising', 'Asking for help/seeking assistance', 'Seeking out information, education', 'Using logic to avoid over exaggerating stressor', 'Problem solving and selecting solutions', 'Prioritizing and Segmenting'])\n"
     ]
    },
    {
     "data": {
      "text/markdown": [
       "Great! I've saved your Stress Audit. Remember, the goal is to have a balance of problem-focused and emotion-focused coping behaviours, and more adaptive behaviours than maladaptive. Keep this in mind as you continue to manage stress in your life. 🚀🚀🚀"
      ],
      "text/plain": [
       "<IPython.core.display.Markdown object>"
      ]
     },
     "metadata": {},
     "output_type": "display_data"
    }
   ],
   "source": [
    "x(\"yep!\");"
   ]
  },
  {
   "cell_type": "code",
   "execution_count": 9,
   "id": "e7a970c6-66eb-4298-b83a-7c2791a6462f",
   "metadata": {},
   "outputs": [
    {
     "name": "stdout",
     "output_type": "stream",
     "text": [
      "get_stress_audit entry=<StressAudit: StressAudit object>\n"
     ]
    },
    {
     "data": {
      "text/markdown": [
       "Sure, here's a summary of your last Stress Audit conducted on October 16, 2023:\n",
       "\n",
       "1. Working longer, working harder - Problem-focused, Adaptive\n",
       "2. Diarizing (also for time management) - Problem-focused, Adaptive\n",
       "3. Drink more coffee - Emotion-focused, Maladaptive\n",
       "4. Tinkering - getting very detail oriented - Emotion-focused, Maladaptive\n",
       "5. Exercising (e.g. Swimming, Biking, Running) - Emotion-focused, Adaptive\n",
       "6. Asking for help/seeking assistance - Problem-focused, Adaptive\n",
       "7. Seeking out information, education - Problem-focused, Adaptive\n",
       "8. Using logic to avoid over exaggerating stressor - Problem-focused, Adaptive\n",
       "9. Problem solving and selecting solutions - Problem-focused, Adaptive\n",
       "10. Prioritizing and Segmenting - Problem-focused, Adaptive\n",
       "\n",
       "Remember, the goal is to have a balance of problem-focused and emotion-focused coping behaviours, and more adaptive behaviours than maladaptive. 🚀🚀🚀"
      ],
      "text/plain": [
       "<IPython.core.display.Markdown object>"
      ]
     },
     "metadata": {},
     "output_type": "display_data"
    }
   ],
   "source": [
    "x(\"can you summarise my last stress audit?\");"
   ]
  },
  {
   "cell_type": "code",
   "execution_count": null,
   "id": "889cc7f0-86fe-4da9-b6d2-2d9b360d4097",
   "metadata": {},
   "outputs": [],
   "source": []
  }
 ],
 "metadata": {
  "kernelspec": {
   "display_name": "Python 3 (ipykernel)",
   "language": "python",
   "name": "python3"
  },
  "language_info": {
   "codemirror_mode": {
    "name": "ipython",
    "version": 3
   },
   "file_extension": ".py",
   "mimetype": "text/x-python",
   "name": "python",
   "nbconvert_exporter": "python",
   "pygments_lexer": "ipython3",
   "version": "3.11.5"
  }
 },
 "nbformat": 4,
 "nbformat_minor": 5
}
