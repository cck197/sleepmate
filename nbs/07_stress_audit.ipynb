{
 "cells": [
  {
   "cell_type": "code",
   "execution_count": 1,
   "id": "a7bfcd9a-bef0-464e-9a15-0eb818aa44a6",
   "metadata": {},
   "outputs": [],
   "source": [
    "from sleepmate.agent import *"
   ]
  },
  {
   "cell_type": "code",
   "execution_count": 2,
   "id": "4c751c32-1265-4b4f-b05e-36ef297aeae4",
   "metadata": {},
   "outputs": [],
   "source": [
    "!rm -f /Users/cck197/Downloads/virtual_greg/memory.pkl"
   ]
  },
  {
   "cell_type": "code",
   "execution_count": 3,
   "id": "70ba226d-56b6-403d-936b-5fcaa45dfba4",
   "metadata": {},
   "outputs": [
    {
     "name": "stdout",
     "output_type": "stream",
     "text": [
      "get_agent len(tools)=20\n"
     ]
    },
    {
     "data": {
      "text/markdown": [
       "Hello, Chris! I hope you're doing well. To begin, I'd like to introduce you to an exercise called the Stress Audit. This exercise is designed to help you understand how you're currently managing stress in your life. The goal is to identify your coping behaviours and evaluate whether they are balanced and beneficial. \n",
       "\n",
       "This exercise involves several steps. Here's a step-by-step guide:\n",
       "\n",
       "1. First, you need to identify and list down your behaviours when you're feeling stressed. These can be as many as you can think of - everything you do to manage your sensations, perceptions, emotions, thoughts, and actions in response to stress.\n",
       "\n",
       "2. Once you have your list, you'll then categorise each behaviour into two main categories:\n",
       "\n",
       "   - Problem or solution-focused coping - behaviours aimed at reducing the stressor itself.\n",
       "  \n",
       "   - Emotion-focused coping - behaviours aimed at reducing the emotional impact of the stressor.\n",
       "\n",
       "3. Next, categorise these behaviours as either adaptive (helpful) or maladaptive (unhelpful).\n",
       "\n",
       "For example, working longer might be considered problem-focused and adaptive, while procrastinating might be considered emotion-focused and maladaptive.\n",
       "\n",
       "Once you have your behaviours listed and categorised, we'll discuss the balance of your coping strategies. If there's an imbalance, we can brainstorm ways to balance your list. For instance, if your list leans heavily towards problem-focused coping, we might explore more emotion-focused strategies that could be helpful, like listening to calming music or practicing mindfulness.\n",
       "\n",
       "So let's start. Could you please list down as many behaviours as you can that you exhibit when you're feeling stressed?"
      ],
      "text/plain": [
       "<IPython.core.display.Markdown object>"
      ]
     },
     "metadata": {},
     "output_type": "display_data"
    }
   ],
   "source": [
    "x = X(goals[\"stress_audit\"]);"
   ]
  },
  {
   "cell_type": "code",
   "execution_count": 4,
   "id": "38889e6b-b55f-45d9-990f-73e56ab50efb",
   "metadata": {},
   "outputs": [
    {
     "data": {
      "text/markdown": [
       "Absolutely, here are some examples of behaviours people might exhibit when they're feeling stressed:\n",
       "\n",
       "1. Working longer, working harder (especially doing more research to feel prepared) - Problem-focused, Adaptive\n",
       "2. Drinking more coffee - Emotion-focused, Maladaptive\n",
       "3. Exercising (e.g. Swimming, Biking, Running) - Both Problem and Emotion-focused, Adaptive\n",
       "4. Asking for help/seeking assistance - Problem-focused, Adaptive\n",
       "5. Moaning, complaining, talking out loud (especially brooding - taking on more but then complaining how unfair it is) - Emotion-focused, Maladaptive\n",
       "6. Cleaning, Tidying - Emotion-focused, Adaptive\n",
       "7. Procrastinating (e.g., false prioritizing) - Emotion-focused, Maladaptive\n",
       "8. Socializing with friends - Emotion-focused, Adaptive\n",
       "9. Drinking alcohol - Emotion-focused, Maladaptive\n",
       "10. Using humor and jokes - Emotion-focused, Adaptive\n",
       "\n",
       "Remember, these are just examples. Your list will be unique to you and your experiences with stress. Now, could you please list down as many behaviours as you can that you exhibit when you're feeling stressed?"
      ],
      "text/plain": [
       "<IPython.core.display.Markdown object>"
      ]
     },
     "metadata": {},
     "output_type": "display_data"
    }
   ],
   "source": [
    "x(\"can you give me some examples?\");"
   ]
  },
  {
   "cell_type": "code",
   "execution_count": 5,
   "id": "d0a53b67-2105-45a5-aeb1-0e6eed987746",
   "metadata": {},
   "outputs": [
    {
     "data": {
      "text/markdown": [
       "Great, let's categorize these behaviors:\n",
       "\n",
       "1. Working longer, working harder - Problem-focused, Adaptive\n",
       "2. Drinking more coffee - Emotion-focused, Maladaptive\n",
       "3. Exercising - Both Problem and Emotion-focused, Adaptive\n",
       "4. Asking for help/seeking assistance - Problem-focused, Adaptive\n",
       "5. Moaning, complaining, talking out loud - Emotion-focused, Maladaptive\n",
       "6. Cleaning, Tidying - Emotion-focused, Adaptive\n",
       "7. Procrastinating - Emotion-focused, Maladaptive\n",
       "8. Socializing with friends - Emotion-focused, Adaptive\n",
       "9. Drinking alcohol - Emotion-focused, Maladaptive\n",
       "10. Using humor and jokes - Emotion-focused, Adaptive\n",
       "\n",
       "Looking at your list, it seems like there's a mix of both problem-focused and emotion-focused coping strategies, as well as a mix of adaptive and maladaptive behaviors. This is quite normal. \n",
       "\n",
       "However, the goal is to have a balanced list and to lean more towards adaptive behaviors. If you feel like you're relying too much on one type of coping strategy or too many maladaptive behaviors, it might be beneficial to explore other ways to manage stress. \n",
       "\n",
       "For example, if you find yourself drinking more coffee or alcohol when stressed, you might want to explore other emotion-focused, adaptive strategies like listening to calming music, practicing mindfulness, or using relaxation techniques. \n",
       "\n",
       "Does this categorization seem accurate to you? And can you think of any other behaviors or strategies you might want to try to balance your list?"
      ],
      "text/plain": [
       "<IPython.core.display.Markdown object>"
      ]
     },
     "metadata": {},
     "output_type": "display_data"
    }
   ],
   "source": [
    "x(\"all of those\");"
   ]
  },
  {
   "cell_type": "code",
   "execution_count": 6,
   "id": "a61470d1-6b83-4201-9d4c-ce3afe5c75b3",
   "metadata": {},
   "outputs": [
    {
     "data": {
      "text/markdown": [
       "Of course, I can help suggest some strategies to balance your list. \n",
       "\n",
       "Looking at your current behaviors, you have a good mix of problem-focused and emotion-focused strategies. However, there are a few maladaptive behaviors that we could work on replacing with more adaptive ones. \n",
       "\n",
       "For example, instead of drinking more coffee when you're stressed, which is a maladaptive behavior, you could try taking a short walk or practicing deep breathing exercises. These are both emotion-focused, adaptive strategies that can help reduce the emotional impact of stress.\n",
       "\n",
       "Similarly, instead of drinking alcohol, another maladaptive behavior, you could try engaging in a hobby you enjoy or spending time with loved ones. These are also emotion-focused, adaptive strategies that can help manage the emotional impact of stress.\n",
       "\n",
       "Lastly, instead of procrastinating, which is a maladaptive behavior, you could try breaking down your tasks into smaller, manageable parts or setting specific, achievable goals for yourself. These are problem-focused, adaptive strategies that can help reduce the stressor itself.\n",
       "\n",
       "Remember, the goal is not to eliminate stress but to manage it effectively with a balanced mix of problem-focused and emotion-focused, adaptive strategies. \n",
       "\n",
       "Does this sound like a plan you could try? 🚀🚀🚀"
      ],
      "text/plain": [
       "<IPython.core.display.Markdown object>"
      ]
     },
     "metadata": {},
     "output_type": "display_data"
    }
   ],
   "source": [
    "x(\"could you do it for me?\");"
   ]
  },
  {
   "cell_type": "code",
   "execution_count": 8,
   "id": "aff1cdb9-2c4a-44db-9166-8990ffe736d3",
   "metadata": {},
   "outputs": [
    {
     "data": {
      "text/markdown": [
       "Great! Now that we've categorized your stress-coping behaviors, let's take a look at the balance between them. It's common for people to over-rely on one category. For example, some people might use more problem-focused strategies, while others might use more emotion-focused strategies. \n",
       "\n",
       "Looking at your list, it seems like you tend to use more problem-focused and adaptive strategies. This is generally a good thing, as these strategies often lead to effective stress management. However, it's also important to have a balance and to be able to use emotion-focused strategies when appropriate.\n",
       "\n",
       "Can you think of any emotion-focused strategies that you might be able to use to balance out your list? For example, this could be something like taking time to relax and do something you enjoy, or talking about your feelings with a friend or family member."
      ],
      "text/plain": [
       "<IPython.core.display.Markdown object>"
      ]
     },
     "metadata": {},
     "output_type": "display_data"
    }
   ],
   "source": [
    "x(\"sounds good\");"
   ]
  },
  {
   "cell_type": "code",
   "execution_count": null,
   "id": "e7a970c6-66eb-4298-b83a-7c2791a6462f",
   "metadata": {},
   "outputs": [],
   "source": []
  }
 ],
 "metadata": {
  "kernelspec": {
   "display_name": "Python 3 (ipykernel)",
   "language": "python",
   "name": "python3"
  },
  "language_info": {
   "codemirror_mode": {
    "name": "ipython",
    "version": 3
   },
   "file_extension": ".py",
   "mimetype": "text/x-python",
   "name": "python",
   "nbconvert_exporter": "python",
   "pygments_lexer": "ipython3",
   "version": "3.11.5"
  }
 },
 "nbformat": 4,
 "nbformat_minor": 5
}
