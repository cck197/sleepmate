{
 "cells": [
  {
   "cell_type": "code",
   "execution_count": 1,
   "id": "60a9db71-8b09-476f-83ae-01176f95d883",
   "metadata": {},
   "outputs": [
    {
     "name": "stdout",
     "output_type": "stream",
     "text": [
      "Automatic pdb calling has been turned ON\n"
     ]
    }
   ],
   "source": [
    "%pdb"
   ]
  },
  {
   "cell_type": "code",
   "execution_count": 2,
   "id": "39091509-8fab-40ff-9143-73d24ba3201f",
   "metadata": {},
   "outputs": [],
   "source": [
    "from sleepmate.agent import *"
   ]
  },
  {
   "cell_type": "code",
   "execution_count": 3,
   "id": "4c751c32-1265-4b4f-b05e-36ef297aeae4",
   "metadata": {},
   "outputs": [],
   "source": [
    "!rm -f /Users/cck197/Downloads/virtual_greg/memory.pkl"
   ]
  },
  {
   "cell_type": "code",
   "execution_count": 4,
   "id": "70ba226d-56b6-403d-936b-5fcaa45dfba4",
   "metadata": {},
   "outputs": [
    {
     "name": "stdout",
     "output_type": "stream",
     "text": [
      "get_agent len(tools)=28\n"
     ]
    },
    {
     "data": {
      "text/markdown": [
       "Hello, Chris. I hope you're doing well. Today, we are going to conduct a Stress Audit. The purpose of this exercise is to help you identify and understand how you are currently managing stress. This includes your physical sensations, perceptions, emotions, thoughts, and actions in response to stressors.\n",
       "\n",
       "The process is straightforward:\n",
       "\n",
       "1. We'll start by listing as many stress-coping behaviours as you can think of. These are the actions you take when you're feeling stressed. \n",
       "\n",
       "2. Once we have the list, we categorise these behaviours into two primary categories:\n",
       "   - Problem or solution-focused coping: These are behaviours that reduce the stressor itself.\n",
       "   - Emotion-focused coping: Behaviours that reduce the emotional impact of the stressor.\n",
       "\n",
       "3. After that, we further categorise these into:\n",
       "   - Adaptive behaviours: These are helpful behaviours. \n",
       "   - Maladaptive behaviours: These are unhelpful behaviours.\n",
       "\n",
       "To give you an example, working longer hours, especially doing more research to feel prepared, is a problem-focused and adaptive behaviour. On the other hand, drinking more coffee can be both problem and emotion-focused, but it's maladaptive.\n",
       "\n",
       "So, let's start. Can you please list as many stress-coping behaviours as you can think of?"
      ],
      "text/plain": [
       "<IPython.core.display.Markdown object>"
      ]
     },
     "metadata": {},
     "output_type": "display_data"
    }
   ],
   "source": [
    "x = X(goals[\"stress_audit\"]);"
   ]
  },
  {
   "cell_type": "code",
   "execution_count": 5,
   "id": "b68f0b09-6718-424f-87c8-ab1d624d6ebb",
   "metadata": {},
   "outputs": [
    {
     "data": {
      "text/markdown": [
       "Great! Please go ahead and list as many stress-coping behaviours as you can think of."
      ],
      "text/plain": [
       "<IPython.core.display.Markdown object>"
      ]
     },
     "metadata": {},
     "output_type": "display_data"
    }
   ],
   "source": [
    "x(\"sure\");"
   ]
  },
  {
   "cell_type": "code",
   "execution_count": 6,
   "id": "38889e6b-b55f-45d9-990f-73e56ab50efb",
   "metadata": {},
   "outputs": [
    {
     "data": {
      "text/markdown": [
       "Absolutely, here are some examples:\n",
       "\n",
       "1. Working longer, working harder (esp. doing more research to feel prepared) - Problem-focused, Adaptive\n",
       "2. Diarizing (also for time management) - Problem-focused, Adaptive\n",
       "3. Drink more coffee - Emotion-focused, Maladaptive\n",
       "4. Tinkering - getting very detail oriented - Emotion-focused, Maladaptive\n",
       "5. Exercising (e.g. Swimming, Biking, Running) - Emotion-focused, Adaptive\n",
       "6. Asking for help/seeking assistance - Problem-focused, Adaptive\n",
       "7. Seeking out information, education - Problem-focused, Adaptive\n",
       "8. Using logic to avoid over exaggerating stressor - Problem-focused, Adaptive\n",
       "9. Problem solving and selecting solutions - Problem-focused, Adaptive\n",
       "10. Prioritizing and Segmenting - Problem-focused, Adaptive\n",
       "11. Identifying controllable actions - Problem-focused, Adaptive\n",
       "12. Assertiveness and communication skills - Problem-focused, Adaptive\n",
       "13. Moaning, complaining, talking out loud (esp. Brooding - taking on more but then complaining how unfair it is) - Emotion-focused, Maladaptive\n",
       "14. Cleaning, Tidying - Emotion-focused, Adaptive\n",
       "15. Buying things on Amazon, mostly functional/easily justifiable - Emotion-focused, Maladaptive\n",
       "16. Procrastinating (e.g., false prioritizing) - Emotion-focused, Maladaptive\n",
       "17. Listening to rain on Spotify or YouTube - Emotion-focused, Adaptive\n",
       "18. Chimp purging - Emotion-focused, Adaptive\n",
       "19. Watching TV, especially the Olympic Channel - Emotion-focused, Maladaptive\n",
       "20. Watching YouTube videos/TikTok - Emotion-focused, Maladaptive\n",
       "21. Reading the news (BBC app, NYT) - Emotion-focused, Maladaptive\n",
       "22. Drinking alcohol - Emotion-focused, Maladaptive\n",
       "23. Eating simple carbohydrates - Emotion-focused, Maladaptive\n",
       "24. Socializing with friends - Emotion-focused, Adaptive\n",
       "25. Having sex or masturbating - Emotion-focused, Adaptive\n",
       "26. Taking THC - Emotion-focused, Adaptive\n",
       "27. Playing the piano - Emotion-focused, Adaptive\n",
       "28. Going down Facebook/Twitter/YouTube rabbit holes - Emotion-focused, Maladaptive\n",
       "29. Using humor and jokes - Emotion-focused, Adaptive\n",
       "30. Physiologic Sigh Breathing - Emotion-focused, Adaptive\n",
       "31. Progress Muscle Relaxation - Emotion-focused, Adaptive\n",
       "\n",
       "Now, can you list your stress-coping behaviours?"
      ],
      "text/plain": [
       "<IPython.core.display.Markdown object>"
      ]
     },
     "metadata": {},
     "output_type": "display_data"
    }
   ],
   "source": [
    "x(\"can you give me some examples?\");"
   ]
  },
  {
   "cell_type": "code",
   "execution_count": 7,
   "id": "a61470d1-6b83-4201-9d4c-ce3afe5c75b3",
   "metadata": {},
   "outputs": [
    {
     "data": {
      "text/markdown": [
       "Great, Chris! Let's categorise these behaviours. \n",
       "\n",
       "1. Working longer, working harder (esp. doing more research to feel prepared) - Problem-focused, Adaptive\n",
       "2. Diarizing (also for time management) - Problem-focused, Adaptive\n",
       "3. Drink more coffee - Emotion-focused, Maladaptive\n",
       "4. Tinkering - getting very detail oriented - Emotion-focused, Maladaptive\n",
       "5. Exercising (e.g. Swimming, Biking, Running) - Emotion-focused, Adaptive\n",
       "6. Asking for help/seeking assistance - Problem-focused, Adaptive\n",
       "7. Seeking out information, education - Problem-focused, Adaptive\n",
       "8. Using logic to avoid over exaggerating stressor - Problem-focused, Adaptive\n",
       "9. Problem solving and selecting solutions - Problem-focused, Adaptive\n",
       "10. Prioritizing and Segmenting - Problem-focused, Adaptive\n",
       "\n",
       "From this list, it seems like you have a good balance of problem-focused and emotion-focused coping behaviours. However, there are a couple of maladaptive behaviours. \n",
       "\n",
       "Do you think this categorisation is accurate? And can you think of any other behaviours that might help balance the list further? For example, you could consider adding more adaptive emotion-focused behaviours like listening to calming music or practicing mindfulness."
      ],
      "text/plain": [
       "<IPython.core.display.Markdown object>"
      ]
     },
     "metadata": {},
     "output_type": "display_data"
    }
   ],
   "source": [
    "x(\"I do the 10 listed above\");"
   ]
  },
  {
   "cell_type": "code",
   "execution_count": 8,
   "id": "aff1cdb9-2c4a-44db-9166-8990ffe736d3",
   "metadata": {},
   "outputs": [
    {
     "name": "stdout",
     "output_type": "stream",
     "text": [
      "save_stress_audit entry=StressAudit(date=datetime.datetime(2023, 10, 16, 6, 35, 7, 386526), behaviours=['Working longer, working harder', 'Diarizing', 'Drink more coffee', 'Tinkering', 'Exercising', 'Asking for help/seeking assistance', 'Seeking out information, education', 'Using logic to avoid over exaggerating stressor', 'Problem solving and selecting solutions', 'Prioritizing and Segmenting'])\n"
     ]
    },
    {
     "data": {
      "text/markdown": [
       "Great! I've saved your Stress Audit. Remember, the goal is to have a balance of problem-focused and emotion-focused coping behaviours, and more adaptive behaviours than maladaptive. Keep this in mind as you continue to manage stress in your life. 🚀🚀🚀"
      ],
      "text/plain": [
       "<IPython.core.display.Markdown object>"
      ]
     },
     "metadata": {},
     "output_type": "display_data"
    }
   ],
   "source": [
    "x(\"yep!\");"
   ]
  },
  {
   "cell_type": "code",
   "execution_count": 9,
   "id": "e7a970c6-66eb-4298-b83a-7c2791a6462f",
   "metadata": {},
   "outputs": [
    {
     "name": "stdout",
     "output_type": "stream",
     "text": [
      "get_stress_audit entry=<StressAudit: StressAudit object>\n"
     ]
    },
    {
     "data": {
      "text/markdown": [
       "Sure, here's a summary of your last Stress Audit conducted on October 16, 2023:\n",
       "\n",
       "1. Working longer, working harder - Problem-focused, Adaptive\n",
       "2. Diarizing (also for time management) - Problem-focused, Adaptive\n",
       "3. Drink more coffee - Emotion-focused, Maladaptive\n",
       "4. Tinkering - getting very detail oriented - Emotion-focused, Maladaptive\n",
       "5. Exercising (e.g. Swimming, Biking, Running) - Emotion-focused, Adaptive\n",
       "6. Asking for help/seeking assistance - Problem-focused, Adaptive\n",
       "7. Seeking out information, education - Problem-focused, Adaptive\n",
       "8. Using logic to avoid over exaggerating stressor - Problem-focused, Adaptive\n",
       "9. Problem solving and selecting solutions - Problem-focused, Adaptive\n",
       "10. Prioritizing and Segmenting - Problem-focused, Adaptive\n",
       "\n",
       "Remember, the goal is to have a balance of problem-focused and emotion-focused coping behaviours, and more adaptive behaviours than maladaptive. 🚀🚀🚀"
      ],
      "text/plain": [
       "<IPython.core.display.Markdown object>"
      ]
     },
     "metadata": {},
     "output_type": "display_data"
    }
   ],
   "source": [
    "x(\"can you summarise my last stress audit?\");"
   ]
  },
  {
   "cell_type": "code",
   "execution_count": null,
   "id": "889cc7f0-86fe-4da9-b6d2-2d9b360d4097",
   "metadata": {},
   "outputs": [],
   "source": []
  }
 ],
 "metadata": {
  "kernelspec": {
   "display_name": "Python 3 (ipykernel)",
   "language": "python",
   "name": "python3"
  },
  "language_info": {
   "codemirror_mode": {
    "name": "ipython",
    "version": 3
   },
   "file_extension": ".py",
   "mimetype": "text/x-python",
   "name": "python",
   "nbconvert_exporter": "python",
   "pygments_lexer": "ipython3",
   "version": "3.11.5"
  }
 },
 "nbformat": 4,
 "nbformat_minor": 5
}
