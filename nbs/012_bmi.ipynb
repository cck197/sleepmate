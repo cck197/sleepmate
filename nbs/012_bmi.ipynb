{
 "cells": [
  {
   "cell_type": "code",
   "execution_count": 1,
   "id": "fb51b4c0-cfef-4e8a-9baa-903dfccfe71e",
   "metadata": {},
   "outputs": [],
   "source": [
    "from sleepmate.executor import *"
   ]
  },
  {
   "cell_type": "code",
   "execution_count": 2,
   "id": "d27e9d4d-c166-4752-aa45-c5d9276a300e",
   "metadata": {},
   "outputs": [],
   "source": [
    "username = \"test\""
   ]
  },
  {
   "cell_type": "code",
   "execution_count": 3,
   "id": "1c9c6ae4-f16f-4d32-a859-6393b4f1bec3",
   "metadata": {},
   "outputs": [],
   "source": [
    "clear_db_for_user(get_user_from_username(username).id)"
   ]
  },
  {
   "cell_type": "code",
   "execution_count": 4,
   "id": "eec97476-93ab-4d4c-8244-ed5b3fffb83b",
   "metadata": {},
   "outputs": [
    {
     "data": {
      "text/markdown": [
       "Hello Sleepy! It's a pleasure to meet you. How are you feeling right now, in this very moment?"
      ],
      "text/plain": [
       "<IPython.core.display.Markdown object>"
      ]
     },
     "metadata": {},
     "output_type": "display_data"
    }
   ],
   "source": [
    "x = X(goal=\"bmi\", username=username, fixed_goal=True, hello=\"hey\")"
   ]
  },
  {
   "cell_type": "code",
   "execution_count": 5,
   "id": "f0391a80-3d12-4064-9941-723fe7c87624",
   "metadata": {},
   "outputs": [
    {
     "data": {
      "text/markdown": [
       "Ah, it sounds like you're feeling a bit worn out. That's perfectly understandable, especially given your name. Now, let's get down to business. Could you please tell me your height?"
      ],
      "text/plain": [
       "<IPython.core.display.Markdown object>"
      ]
     },
     "metadata": {},
     "output_type": "display_data"
    }
   ],
   "source": [
    "x(\"a little tired\");"
   ]
  },
  {
   "cell_type": "code",
   "execution_count": 6,
   "id": "bfab6391-e18b-4082-847c-9908522c50f4",
   "metadata": {},
   "outputs": [
    {
     "data": {
      "text/markdown": [
       "Thank you, Sleepy. Now, if you don't mind, could you please share your weight with me?"
      ],
      "text/plain": [
       "<IPython.core.display.Markdown object>"
      ]
     },
     "metadata": {},
     "output_type": "display_data"
    }
   ],
   "source": [
    "x(\"175cm\");"
   ]
  },
  {
   "cell_type": "code",
   "execution_count": 7,
   "id": "1e438bf9-a3dd-4cbb-8a22-8569eef8dfc9",
   "metadata": {},
   "outputs": [
    {
     "name": "stderr",
     "output_type": "stream",
     "text": [
      "2023-10-30 14:32:24 INFO     sleepmate.bmi save_bmi entry=BMI(date=datetime.datetime(2023, 10, 30, 14, 32, 24, 555789), height=1.75, weight=68.04)\n"
     ]
    },
    {
     "name": "stdout",
     "output_type": "stream",
     "text": [
      "entry=BMI(date=datetime.datetime(2023, 10, 30, 14, 32, 24, 555789), height=1.75, weight=68.04)\n"
     ]
    },
    {
     "data": {
      "text/markdown": [
       "Thank you for sharing, Sleepy. I've calculated your BMI to be 22.2, which falls within the normal range of 20 to 25. That's a good sign! Remember, maintaining a healthy weight can contribute to better sleep and overall health. Say 'hey' when you're ready to continue on your health journey."
      ],
      "text/plain": [
       "<IPython.core.display.Markdown object>"
      ]
     },
     "metadata": {},
     "output_type": "display_data"
    }
   ],
   "source": [
    "x(\"150lb\");"
   ]
  },
  {
   "cell_type": "code",
   "execution_count": null,
   "id": "8726e92a-1087-42ef-a7be-fbe37f40e2aa",
   "metadata": {},
   "outputs": [],
   "source": []
  }
 ],
 "metadata": {
  "kernelspec": {
   "display_name": "Python 3 (ipykernel)",
   "language": "python",
   "name": "python3"
  },
  "language_info": {
   "codemirror_mode": {
    "name": "ipython",
    "version": 3
   },
   "file_extension": ".py",
   "mimetype": "text/x-python",
   "name": "python",
   "nbconvert_exporter": "python",
   "pygments_lexer": "ipython3",
   "version": "3.11.5"
  }
 },
 "nbformat": 4,
 "nbformat_minor": 5
}
