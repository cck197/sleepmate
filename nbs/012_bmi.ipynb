{
 "cells": [
  {
   "cell_type": "code",
   "execution_count": 1,
   "id": "fb51b4c0-cfef-4e8a-9baa-903dfccfe71e",
   "metadata": {},
   "outputs": [],
   "source": [
    "from sleepmate.executor import *"
   ]
  },
  {
   "cell_type": "code",
   "execution_count": 2,
   "id": "d27e9d4d-c166-4752-aa45-c5d9276a300e",
   "metadata": {},
   "outputs": [],
   "source": [
    "username = \"test\""
   ]
  },
  {
   "cell_type": "code",
   "execution_count": 3,
   "id": "1c9c6ae4-f16f-4d32-a859-6393b4f1bec3",
   "metadata": {},
   "outputs": [],
   "source": [
    "clear_db_for_user(get_user_from_username(username).id)"
   ]
  },
  {
   "cell_type": "code",
   "execution_count": 4,
   "id": "eec97476-93ab-4d4c-8244-ed5b3fffb83b",
   "metadata": {},
   "outputs": [
    {
     "data": {
      "text/markdown": [
       "Hello Sleepy! How are you feeling in this moment?"
      ],
      "text/plain": [
       "<IPython.core.display.Markdown object>"
      ]
     },
     "metadata": {},
     "output_type": "display_data"
    }
   ],
   "source": [
    "x = X(goal=\"bmi\", username=username, fixed_goal=True, hello=\"hey\")"
   ]
  },
  {
   "cell_type": "code",
   "execution_count": 5,
   "id": "f0391a80-3d12-4064-9941-723fe7c87624",
   "metadata": {},
   "outputs": [
    {
     "data": {
      "text/markdown": [
       "Ah, the irony of life, Sleepy feeling sleepy. Let's get to work then, shall we? Could you please tell me your height?"
      ],
      "text/plain": [
       "<IPython.core.display.Markdown object>"
      ]
     },
     "metadata": {},
     "output_type": "display_data"
    }
   ],
   "source": [
    "x(\"a little tired\");"
   ]
  },
  {
   "cell_type": "code",
   "execution_count": 6,
   "id": "bfab6391-e18b-4082-847c-9908522c50f4",
   "metadata": {},
   "outputs": [
    {
     "data": {
      "text/markdown": [
       "Thank you, Sleepy. Now, could you please share your weight with me?"
      ],
      "text/plain": [
       "<IPython.core.display.Markdown object>"
      ]
     },
     "metadata": {},
     "output_type": "display_data"
    }
   ],
   "source": [
    "x(\"175cm\");"
   ]
  },
  {
   "cell_type": "code",
   "execution_count": 7,
   "id": "1e438bf9-a3dd-4cbb-8a22-8569eef8dfc9",
   "metadata": {},
   "outputs": [
    {
     "name": "stderr",
     "output_type": "stream",
     "text": [
      "2023-10-30 08:34:04 INFO     sleepmate.bmi save_bmi entry=BMI(date=datetime.datetime(2022, 3, 22, 0, 0), height=1.75, weight=68.04)\n"
     ]
    },
    {
     "name": "stdout",
     "output_type": "stream",
     "text": [
      "entry=BMI(date=datetime.datetime(2022, 3, 22, 0, 0), height=1.75, weight=68.04)\n"
     ]
    },
    {
     "data": {
      "text/markdown": [
       "Your BMI is approximately 22.2, which falls within the normal range of 20 to 25. Well done, Sleepy! \n",
       "\n",
       "Remember, maintaining a healthy BMI is a great way to keep your body in good shape. Now, say 'hey' when you're ready to continue on your health journey."
      ],
      "text/plain": [
       "<IPython.core.display.Markdown object>"
      ]
     },
     "metadata": {},
     "output_type": "display_data"
    }
   ],
   "source": [
    "x(\"150lb\");"
   ]
  },
  {
   "cell_type": "code",
   "execution_count": null,
   "id": "44a81558-937f-4270-aec7-0d11bb93f2fa",
   "metadata": {},
   "outputs": [],
   "source": []
  }
 ],
 "metadata": {
  "kernelspec": {
   "display_name": "Python 3 (ipykernel)",
   "language": "python",
   "name": "python3"
  },
  "language_info": {
   "codemirror_mode": {
    "name": "ipython",
    "version": 3
   },
   "file_extension": ".py",
   "mimetype": "text/x-python",
   "name": "python",
   "nbconvert_exporter": "python",
   "pygments_lexer": "ipython3",
   "version": "3.11.5"
  }
 },
 "nbformat": 4,
 "nbformat_minor": 5
}
