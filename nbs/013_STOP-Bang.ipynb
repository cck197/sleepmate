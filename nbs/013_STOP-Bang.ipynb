{
 "cells": [
  {
   "cell_type": "code",
   "execution_count": 1,
   "id": "c66ce65b-5a07-4711-bc4e-7219a9334a97",
   "metadata": {},
   "outputs": [],
   "source": [
    "from sleepmate.executor import *"
   ]
  },
  {
   "cell_type": "code",
   "execution_count": 2,
   "id": "d8bd1964-70cf-4e32-ac1f-108cec5894e3",
   "metadata": {},
   "outputs": [],
   "source": [
    "username = \"test\""
   ]
  },
  {
   "cell_type": "code",
   "execution_count": 3,
   "id": "08c022d4-eeed-41e5-96f5-8004b43999cc",
   "metadata": {},
   "outputs": [],
   "source": [
    "db_user = get_user_from_username(username)"
   ]
  },
  {
   "cell_type": "code",
   "execution_count": 4,
   "id": "9ac7a255-08c7-4a93-9e45-e6f1f72911d9",
   "metadata": {},
   "outputs": [],
   "source": [
    "clear_db_for_user(db_user.id)"
   ]
  },
  {
   "cell_type": "code",
   "execution_count": 5,
   "id": "e3f9ce96-d31c-447a-ab69-bae20c1f87cb",
   "metadata": {},
   "outputs": [],
   "source": [
    "from sleepmate.history import DBHealthHistory\n",
    "from sleepmate.bmi import DBBodyMeasures\n",
    "from sleepmate.stopbang import DBStopBang\n",
    "from datetime import datetime"
   ]
  },
  {
   "cell_type": "code",
   "execution_count": 6,
   "id": "c7415ec5-4757-4453-8fe9-f4e984c24e68",
   "metadata": {},
   "outputs": [
    {
     "data": {
      "text/plain": [
       "<HealthHistory: HealthHistory object>"
      ]
     },
     "execution_count": 6,
     "metadata": {},
     "output_type": "execute_result"
    }
   ],
   "source": [
    "DBHealthHistory(\n",
    "    user=db_user,\n",
    "    date=datetime.now(),\n",
    "    sex=\"male\",\n",
    "    date_of_birth=datetime(1976, 2, 13),\n",
    "    occupation=\"\",\n",
    "    work_hours=\"\",\n",
    "    smoking=\"\",\n",
    "    alcohol=\"\",\n",
    "    physical_activity=\"\",\n",
    "    diet=\"\",\n",
    "    medical_conditions=\"hypertension\",\n",
    "    medications=\"\",\n",
    "    family_history=\"\",\n",
    "    mental_health=\"\",\n",
    "    psychological_treatment=\"\",\n",
    "    living_with=\"\",\n",
    "    residence_type=\"\",\n",
    "    noise_level=\"\",\n",
    "    goal=\"\",\n",
    "    helpful=\"\",\n",
    "    unhelpful=\"\",\n",
    "    notes=\"\",\n",
    ").save()"
   ]
  },
  {
   "cell_type": "code",
   "execution_count": 7,
   "id": "8a41b9f5-7017-4f0e-bc66-3900bd03c9de",
   "metadata": {},
   "outputs": [
    {
     "data": {
      "text/plain": [
       "<BodyMeasures: BodyMeasures object>"
      ]
     },
     "execution_count": 7,
     "metadata": {},
     "output_type": "execute_result"
    }
   ],
   "source": [
    "DBBodyMeasures(\n",
    "    user=db_user,\n",
    "    date=datetime.now(),\n",
    "    height=1.75,\n",
    "    weight=68.04\n",
    ").save()"
   ]
  },
  {
   "cell_type": "code",
   "execution_count": 8,
   "id": "efe150cb-28a2-43f5-8f6f-66e4437606a4",
   "metadata": {},
   "outputs": [
    {
     "data": {
      "text/markdown": [
       "Hello Sleepy! I hope you're feeling well in this moment. Would now be a good time to complete the STOP-Bang Questionnaire? It's a quick and easy way to assess your risk of Obstructive Sleep Apnoea."
      ],
      "text/plain": [
       "<IPython.core.display.Markdown object>"
      ]
     },
     "metadata": {},
     "output_type": "display_data"
    }
   ],
   "source": [
    "x = X(goal=\"stop_bang\", username=username, fixed_goal=True, hello=\"hey\")"
   ]
  },
  {
   "cell_type": "code",
   "execution_count": 9,
   "id": "3cce32c1-48be-4c74-bfbe-d0d71407b3f4",
   "metadata": {},
   "outputs": [
    {
     "name": "stderr",
     "output_type": "stream",
     "text": [
      "2023-11-03 10:25:46 INFO     sleepmate.history get_last_health_history entry={'_id': ObjectId('65452d07b465cbe5d43c27de'), 'user': ObjectId('653838c321f81e21a72df700'), 'date': datetime.datetime(2023, 11, 3, 10, 25, 27, 794000), 'sex': 'male', 'date_of_birth': datetime.datetime(1976, 2, 13, 0, 0), 'occupation': '', 'work_hours': '', 'smoking': '', 'alcohol': '', 'physical_activity': '', 'diet': '', 'medical_conditions': 'hypertension', 'medications': '', 'family_history': '', 'mental_health': '', 'psychological_treatment': '', 'living_with': '', 'residence_type': '', 'noise_level': '', 'goal': '', 'helpful': '', 'unhelpful': '', 'notes': ''}\n",
      "2023-11-03 10:25:50 INFO     sleepmate.bmi get_last_body_measures entry={'_id': ObjectId('65452d07b465cbe5d43c27df'), 'user': ObjectId('653838c321f81e21a72df700'), 'date': datetime.datetime(2023, 11, 3, 10, 25, 27, 800000), 'height': 1.75, 'weight': 68.04}\n"
     ]
    },
    {
     "data": {
      "text/markdown": [
       "Great, thank you for your patience, Sleepy. Here's a summary of your health history and body measures:\n",
       "\n",
       "- Sex: Male\n",
       "- Age: 47 years\n",
       "- Height: 1.75 meters\n",
       "- Weight: 68.04 kg\n",
       "- Medical Conditions: Hypertension\n",
       "- BMI: 22.2 (which is within the normal range)\n",
       "\n",
       "Now, let's move on to the STOP-Bang questions. \n",
       "\n",
       "Firstly, (S) do you snore loudly (louder than talking or loud enough to be heard through closed doors)?"
      ],
      "text/plain": [
       "<IPython.core.display.Markdown object>"
      ]
     },
     "metadata": {},
     "output_type": "display_data"
    }
   ],
   "source": [
    "x(\"ok\");"
   ]
  },
  {
   "cell_type": "code",
   "execution_count": 10,
   "id": "49e601df-f84e-4a1f-a5ce-e39dd5b508e7",
   "metadata": {},
   "outputs": [
    {
     "data": {
      "text/markdown": [
       "Thank you for your responses, Sleepy. Let's summarise:\n",
       "\n",
       "- (S) You snore loudly.\n",
       "- (T) You often feel tired during the day.\n",
       "- (O) No one has observed you stop breathing during your sleep.\n",
       "- (P) You have high blood pressure.\n",
       "- (B) Your BMI is not over 35 kg/m2.\n",
       "- (A) Your age is under 50 years.\n",
       "- (N) Your neck circumference is 38.1 cm (15 inches).\n",
       "- (G) You are male.\n",
       "\n",
       "This gives you a STOP-Bang score of 4, which indicates an intermediate risk of Obstructive Sleep Apnoea. \n",
       "\n",
       "Could you please confirm that this information is correct?"
      ],
      "text/plain": [
       "<IPython.core.display.Markdown object>"
      ]
     },
     "metadata": {},
     "output_type": "display_data"
    }
   ],
   "source": [
    "x(\"I snore loudly, am tired during the day, I haven't been observed not breathing, my neck is 15 inches\");"
   ]
  },
  {
   "cell_type": "code",
   "execution_count": 11,
   "id": "63f86e35-5b95-4fb1-9e6a-a10c198bad1b",
   "metadata": {},
   "outputs": [
    {
     "name": "stderr",
     "output_type": "stream",
     "text": [
      "2023-11-03 10:28:02 INFO     sleepmate.stopbang entry=StopBang(date=datetime.datetime(2023, 11, 3, 10, 28, 2, 416389), snoring=True, tired=True, observed=False, pressure=True, neck=38.1, score=4)\n",
      "2023-11-03 10:28:02 INFO     sleepmate.stopbang save_stop_bang entry=StopBang(date=datetime.datetime(2023, 11, 3, 10, 28, 2, 416389), snoring=True, tired=True, observed=False, pressure=True, neck=38.1, score=4)\n"
     ]
    },
    {
     "data": {
      "text/markdown": [
       "Thank you for confirming, Sleepy. I've saved your STOP-Bang entry to your health record. \n",
       "\n",
       "Remember, this is just a screening tool and it's always a good idea to discuss these results with a healthcare professional. \n",
       "\n",
       "When you're ready to continue on your health journey, just say \"hey\"."
      ],
      "text/plain": [
       "<IPython.core.display.Markdown object>"
      ]
     },
     "metadata": {},
     "output_type": "display_data"
    }
   ],
   "source": [
    "x(\"yeah\");"
   ]
  },
  {
   "cell_type": "code",
   "execution_count": 12,
   "id": "c4f9e2fd-4d81-4f25-9540-4287c6cdf434",
   "metadata": {},
   "outputs": [
    {
     "data": {
      "text/plain": [
       "1"
      ]
     },
     "execution_count": 12,
     "metadata": {},
     "output_type": "execute_result"
    }
   ],
   "source": [
    "DBStopBang.objects(user=db_user).count()"
   ]
  },
  {
   "cell_type": "code",
   "execution_count": null,
   "id": "b551c392-6dc2-4d42-9893-e3b275ad10a6",
   "metadata": {},
   "outputs": [],
   "source": []
  }
 ],
 "metadata": {
  "kernelspec": {
   "display_name": "Python 3 (ipykernel)",
   "language": "python",
   "name": "python3"
  },
  "language_info": {
   "codemirror_mode": {
    "name": "ipython",
    "version": 3
   },
   "file_extension": ".py",
   "mimetype": "text/x-python",
   "name": "python",
   "nbconvert_exporter": "python",
   "pygments_lexer": "ipython3",
   "version": "3.11.5"
  }
 },
 "nbformat": 4,
 "nbformat_minor": 5
}
