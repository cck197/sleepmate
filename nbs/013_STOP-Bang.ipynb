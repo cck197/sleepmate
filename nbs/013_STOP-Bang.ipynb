{
 "cells": [
  {
   "cell_type": "code",
   "execution_count": 1,
   "id": "c66ce65b-5a07-4711-bc4e-7219a9334a97",
   "metadata": {},
   "outputs": [],
   "source": [
    "from sleepmate.executor import *"
   ]
  },
  {
   "cell_type": "code",
   "execution_count": 2,
   "id": "d8bd1964-70cf-4e32-ac1f-108cec5894e3",
   "metadata": {},
   "outputs": [],
   "source": [
    "username = \"test\""
   ]
  },
  {
   "cell_type": "code",
   "execution_count": 3,
   "id": "08c022d4-eeed-41e5-96f5-8004b43999cc",
   "metadata": {},
   "outputs": [],
   "source": [
    "db_user = get_user_from_username(username)"
   ]
  },
  {
   "cell_type": "code",
   "execution_count": 4,
   "id": "9ac7a255-08c7-4a93-9e45-e6f1f72911d9",
   "metadata": {},
   "outputs": [],
   "source": [
    "clear_db_for_user(db_user.id)"
   ]
  },
  {
   "cell_type": "code",
   "execution_count": 5,
   "id": "e3f9ce96-d31c-447a-ab69-bae20c1f87cb",
   "metadata": {},
   "outputs": [],
   "source": [
    "from sleepmate.history import DBHealthHistory\n",
    "from sleepmate.bmi import DBBMI\n",
    "from sleepmate.stopbang import DBStopBang\n",
    "from datetime import datetime"
   ]
  },
  {
   "cell_type": "code",
   "execution_count": 6,
   "id": "c7415ec5-4757-4453-8fe9-f4e984c24e68",
   "metadata": {},
   "outputs": [
    {
     "data": {
      "text/plain": [
       "<HealthHistory: HealthHistory object>"
      ]
     },
     "execution_count": 6,
     "metadata": {},
     "output_type": "execute_result"
    }
   ],
   "source": [
    "DBHealthHistory(\n",
    "    user=db_user,\n",
    "    date=datetime.now(),\n",
    "    sex=\"male\",\n",
    "    date_of_birth=datetime(1976, 2, 13),\n",
    "    occupation=\"\",\n",
    "    work_hours=\"\",\n",
    "    smoking=\"\",\n",
    "    alcohol=\"\",\n",
    "    physical_activity=\"\",\n",
    "    diet=\"\",\n",
    "    medical_conditions=\"\",\n",
    "    medications=\"\",\n",
    "    family_history=\"\",\n",
    "    mental_health=\"\",\n",
    "    psychological_treatment=\"\",\n",
    "    living_with=\"\",\n",
    "    residence_type=\"\",\n",
    "    noise_level=\"\",\n",
    "    goal=\"\",\n",
    "    helpful=\"\",\n",
    "    unhelpful=\"\",\n",
    "    notes=\"\",\n",
    ").save()"
   ]
  },
  {
   "cell_type": "code",
   "execution_count": 7,
   "id": "8a41b9f5-7017-4f0e-bc66-3900bd03c9de",
   "metadata": {},
   "outputs": [
    {
     "data": {
      "text/plain": [
       "<BMI: BMI object>"
      ]
     },
     "execution_count": 7,
     "metadata": {},
     "output_type": "execute_result"
    }
   ],
   "source": [
    "DBBMI(\n",
    "    user=db_user,\n",
    "    date=datetime.now(),\n",
    "    height=1.75,\n",
    "    weight=68.04\n",
    ").save()"
   ]
  },
  {
   "cell_type": "code",
   "execution_count": 8,
   "id": "efe150cb-28a2-43f5-8f6f-66e4437606a4",
   "metadata": {},
   "outputs": [
    {
     "data": {
      "text/markdown": [
       "Hello Sleepy! It's a pleasure to have you here. Before we dive in, how are you feeling in this very moment?"
      ],
      "text/plain": [
       "<IPython.core.display.Markdown object>"
      ]
     },
     "metadata": {},
     "output_type": "display_data"
    }
   ],
   "source": [
    "x = X(goal=\"stop_bang\", username=username, fixed_goal=True, hello=\"hey\")"
   ]
  },
  {
   "cell_type": "code",
   "execution_count": 9,
   "id": "3cce32c1-48be-4c74-bfbe-d0d71407b3f4",
   "metadata": {},
   "outputs": [
    {
     "data": {
      "text/markdown": [
       "That's good to hear, Sleepy. Let's get started with the STOP-Bang Questionnaire. This will help us assess your risk of Obstructive Sleep Apnoea. \n",
       "\n",
       "First off, do you snore loudly? I mean, louder than talking or loud enough to be heard through closed doors?"
      ],
      "text/plain": [
       "<IPython.core.display.Markdown object>"
      ]
     },
     "metadata": {},
     "output_type": "display_data"
    }
   ],
   "source": [
    "x(\"ok\");"
   ]
  },
  {
   "cell_type": "code",
   "execution_count": 10,
   "id": "92a40b80-0ef4-4c9d-8ae0-0d35c90cd635",
   "metadata": {},
   "outputs": [
    {
     "data": {
      "text/markdown": [
       "Brilliant! Let's start with the first question. Do you snore loudly? And by loudly, I mean louder than talking or loud enough to be heard through closed doors?"
      ],
      "text/plain": [
       "<IPython.core.display.Markdown object>"
      ]
     },
     "metadata": {},
     "output_type": "display_data"
    }
   ],
   "source": [
    "x(\"yep!\");"
   ]
  },
  {
   "cell_type": "code",
   "execution_count": 10,
   "id": "49e601df-f84e-4a1f-a5ce-e39dd5b508e7",
   "metadata": {},
   "outputs": [
    {
     "name": "stderr",
     "output_type": "stream",
     "text": [
      "2023-10-30 10:58:17 INFO     sleepmate.history get_last_health_history entry={'_id': ObjectId('653fee9b7af65a8ce99d726c'), 'user': ObjectId('653838c321f81e21a72df700'), 'date': datetime.datetime(2023, 10, 30, 10, 57, 47, 920000), 'sex': 'male', 'date_of_birth': datetime.datetime(1976, 2, 13, 0, 0), 'occupation': '', 'work_hours': '', 'smoking': '', 'alcohol': '', 'physical_activity': '', 'diet': '', 'medical_conditions': '', 'medications': '', 'family_history': '', 'mental_health': '', 'psychological_treatment': '', 'living_with': '', 'residence_type': '', 'noise_level': '', 'goal': '', 'helpful': '', 'unhelpful': '', 'notes': ''}\n",
      "2023-10-30 10:58:21 INFO     sleepmate.bmi get_last_bmi entry={'_id': ObjectId('653fee9b7af65a8ce99d726d'), 'user': ObjectId('653838c321f81e21a72df700'), 'date': datetime.datetime(2023, 10, 30, 10, 57, 47, 926000), 'height': 1.75, 'weight': 68.04}\n",
      "2023-10-30 10:58:47 INFO     sleepmate.stopbang save_stop_bang entry=StopBang(date=datetime.datetime(2023, 10, 30, 10, 58, 47, 346153), snoring=True, tired=True, observed=False, pressure=False, neck=False, bmi=False, age=False, sex=False)\n"
     ]
    },
    {
     "name": "stdout",
     "output_type": "stream",
     "text": [
      "entry=StopBang(date=datetime.datetime(2023, 10, 30, 10, 58, 47, 346153), snoring=True, tired=True, observed=False, pressure=False, neck=False, bmi=False, age=False, sex=False)\n"
     ]
    },
    {
     "data": {
      "text/markdown": [
       "Thank you for your responses, Sleepy. Based on your answers, your STOP-Bang score is 4, which places you at an intermediate risk of Obstructive Sleep Apnoea. \n",
       "\n",
       "This doesn't mean you have OSA, but it might be worth discussing these results with your healthcare provider for further evaluation. \n",
       "\n",
       "Remember, good sleep is crucial for our overall health and well-being. So, let's keep working on it, shall we? Say 'hey' when you're ready to continue on your health journey."
      ],
      "text/plain": [
       "<IPython.core.display.Markdown object>"
      ]
     },
     "metadata": {},
     "output_type": "display_data"
    }
   ],
   "source": [
    "x(\"I snore loudly, am tired during the day, I haven't been observed not breathing, no high blood pressure, my neck is 17inches\");"
   ]
  },
  {
   "cell_type": "code",
   "execution_count": 12,
   "id": "889dabc6-22d8-41fe-9f7b-9ca9359834ab",
   "metadata": {},
   "outputs": [
    {
     "data": {
      "text/markdown": [
       "Alright, Sleepy. Now, for the fourth question: Do you have or are being treated for high blood pressure?"
      ],
      "text/plain": [
       "<IPython.core.display.Markdown object>"
      ]
     },
     "metadata": {},
     "output_type": "display_data"
    }
   ],
   "source": [
    "x(\"no\");"
   ]
  },
  {
   "cell_type": "code",
   "execution_count": 13,
   "id": "12e14308-da74-4e0c-85f8-a0378e102153",
   "metadata": {},
   "outputs": [
    {
     "data": {
      "text/markdown": [
       "Thank you for your response, Sleepy. Lastly, could you please tell me your neck circumference? Don't worry about the units, I'll handle the conversion if necessary."
      ],
      "text/plain": [
       "<IPython.core.display.Markdown object>"
      ]
     },
     "metadata": {},
     "output_type": "display_data"
    }
   ],
   "source": [
    "x(\"no\");"
   ]
  },
  {
   "cell_type": "code",
   "execution_count": 14,
   "id": "faa5178b-09c2-4abf-8c0a-9778facad84c",
   "metadata": {},
   "outputs": [
    {
     "name": "stderr",
     "output_type": "stream",
     "text": [
      "2023-10-30 10:43:28 INFO     sleepmate.history get_last_health_history entry={'_id': ObjectId('653feb024781464537649713'), 'user': ObjectId('653838c321f81e21a72df700'), 'date': datetime.datetime(2023, 10, 30, 10, 42, 26, 6000), 'sex': 'male', 'date_of_birth': datetime.datetime(1976, 2, 13, 0, 0), 'occupation': '', 'work_hours': '', 'smoking': '', 'alcohol': '', 'physical_activity': '', 'diet': '', 'medical_conditions': '', 'medications': '', 'family_history': '', 'mental_health': '', 'psychological_treatment': '', 'living_with': '', 'residence_type': '', 'noise_level': '', 'goal': '', 'helpful': '', 'unhelpful': '', 'notes': ''}\n",
      "2023-10-30 10:43:32 INFO     sleepmate.bmi get_last_bmi entry={'_id': ObjectId('653feb024781464537649714'), 'user': ObjectId('653838c321f81e21a72df700'), 'date': datetime.datetime(2023, 10, 30, 10, 42, 26, 11000), 'height': 1.75, 'weight': 68.04}\n",
      "2023-10-30 10:43:58 INFO     sleepmate.stopbang save_stop_bang entry=StopBang(date=datetime.datetime(2022, 3, 22, 0, 0), snoring=True, tired=True, observed=False, pressure=False, neck=43.18)\n"
     ]
    },
    {
     "name": "stdout",
     "output_type": "stream",
     "text": [
      "entry=StopBang(date=datetime.datetime(2022, 3, 22, 0, 0), snoring=True, tired=True, observed=False, pressure=False, neck=43.18)\n"
     ]
    },
    {
     "data": {
      "text/markdown": [
       "Thank you, Sleepy. I've calculated your STOP-Bang score based on your responses and other health data. \n",
       "\n",
       "Here's the breakdown:\n",
       "- Snore loudly: 1 point\n",
       "- Tired: 1 point\n",
       "- Observed: 0 points\n",
       "- Pressure: 0 points\n",
       "- BMI greater than 35 kg/m2: 0 points\n",
       "- Age greater than 50: 0 points\n",
       "- Neck greater than 43cm (for males): 1 point\n",
       "- Sex male: 1 point\n",
       "\n",
       "This gives you a total STOP-Bang score of 4 points, which indicates an intermediate risk of Obstructive Sleep Apnoea (OSA). \n",
       "\n",
       "Remember, this is just a screening tool and doesn't provide a definitive diagnosis. If you have concerns about your sleep, it would be a good idea to discuss them with a healthcare professional. \n",
       "\n",
       "When you're ready to continue on your health journey, just say \"hey\"."
      ],
      "text/plain": [
       "<IPython.core.display.Markdown object>"
      ]
     },
     "metadata": {},
     "output_type": "display_data"
    }
   ],
   "source": [
    "x(\"17 inches\");"
   ]
  },
  {
   "cell_type": "code",
   "execution_count": 11,
   "id": "c4f9e2fd-4d81-4f25-9540-4287c6cdf434",
   "metadata": {},
   "outputs": [
    {
     "data": {
      "text/plain": [
       "1"
      ]
     },
     "execution_count": 11,
     "metadata": {},
     "output_type": "execute_result"
    }
   ],
   "source": [
    "DBStopBang.objects(user=db_user).count()"
   ]
  },
  {
   "cell_type": "code",
   "execution_count": 12,
   "id": "754d8053-7e5d-4c78-81ea-ecb1e110f6d8",
   "metadata": {},
   "outputs": [
    {
     "name": "stderr",
     "output_type": "stream",
     "text": [
      "2023-10-30 10:59:39 INFO     sleepmate.stopbang get_last_stop_bang entry={'_id': ObjectId('653feed77af65a8ce99d7273'), 'user': ObjectId('653838c321f81e21a72df700'), 'date': datetime.datetime(2023, 10, 30, 10, 58, 47, 346000), 'snoring': True, 'tired': True, 'observed': False, 'pressure': False, 'neck': False, 'bmi': False, 'age': False, 'sex': False}\n"
     ]
    },
    {
     "data": {
      "text/markdown": [
       "Here's a summary of your most recent STOP-Bang record:\n",
       "\n",
       "- Date: 30th October 2023\n",
       "- Snoring loudly: Yes\n",
       "- Feeling tired during the day: Yes\n",
       "- Observed stop in breathing: No\n",
       "- High blood pressure: No\n",
       "- Neck circumference: Within normal range\n",
       "- BMI: Within normal range\n",
       "- Age: Within normal range\n",
       "- Sex: Not a risk factor\n",
       "\n",
       "Your STOP-Bang score was 4, indicating an intermediate risk of Obstructive Sleep Apnoea. Remember, this doesn't mean you have OSA, but it's worth discussing these results with your healthcare provider for further evaluation. \n",
       "\n",
       "When you're ready to continue on your health journey, just say 'hey'."
      ],
      "text/plain": [
       "<IPython.core.display.Markdown object>"
      ]
     },
     "metadata": {},
     "output_type": "display_data"
    }
   ],
   "source": [
    "x(\"summarise my STOP-Bang record\");"
   ]
  },
  {
   "cell_type": "code",
   "execution_count": null,
   "id": "b551c392-6dc2-4d42-9893-e3b275ad10a6",
   "metadata": {},
   "outputs": [],
   "source": []
  }
 ],
 "metadata": {
  "kernelspec": {
   "display_name": "Python 3 (ipykernel)",
   "language": "python",
   "name": "python3"
  },
  "language_info": {
   "codemirror_mode": {
    "name": "ipython",
    "version": 3
   },
   "file_extension": ".py",
   "mimetype": "text/x-python",
   "name": "python",
   "nbconvert_exporter": "python",
   "pygments_lexer": "ipython3",
   "version": "3.11.5"
  }
 },
 "nbformat": 4,
 "nbformat_minor": 5
}
