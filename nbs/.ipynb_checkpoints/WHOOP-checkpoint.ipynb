{
 "cells": [
  {
   "cell_type": "code",
   "execution_count": 1,
   "id": "65963208-a4c6-44f4-ad33-45f6e03353c1",
   "metadata": {},
   "outputs": [],
   "source": [
    "from whoop_client import ApiClient, Configuration"
   ]
  },
  {
   "cell_type": "code",
   "execution_count": 1,
   "id": "8fb58113-03ab-4b27-a14a-361ec282ad72",
   "metadata": {},
   "outputs": [],
   "source": [
    "#from requests_oauthlib import OAuth2Session\n",
    "from authlib.integrations.requests_client import OAuth2Session\n",
    "import os"
   ]
  },
  {
   "cell_type": "code",
   "execution_count": 2,
   "id": "f908e645-0896-4c47-9eba-aec60d72700e",
   "metadata": {},
   "outputs": [],
   "source": [
    "# Your credentials\n",
    "client_id = \"49dfce1e-f2c5-4cb6-9c11-c15f6ea6ee58\"\n",
    "client_secret = \"0aec15a8c428d0be528de8db36d80a7f3ef0dbf89a21345c15ab515f104df6cb\"\n",
    "redirect_uri = \"https://00b4-185-187-168-37.ngrok-free.app/whoop_login\""
   ]
  },
  {
   "cell_type": "code",
   "execution_count": 15,
   "id": "3dac9c39-55f5-4320-b9c3-c738291011a9",
   "metadata": {},
   "outputs": [],
   "source": [
    "auth_url = \"https://api.prod.whoop.com/oauth/oauth2/auth\"\n",
    "token_url = \"https://api.prod.whoop.com/oauth/oauth2/token\"\n",
    "token_endpoint_auth_method = \"client_secret_post\""
   ]
  },
  {
   "cell_type": "code",
   "execution_count": 4,
   "id": "64775969-3249-47e7-877e-90b2900b1e62",
   "metadata": {},
   "outputs": [],
   "source": [
    "scope = [\n",
    "    \"offline\",\n",
    "    \"read:recovery\",\n",
    "    \"read:cycles\",\n",
    "    \"read:workout\",\n",
    "    \"read:sleep\",\n",
    "    \"read:profile\",\n",
    "    \"read:body_measurement\",\n",
    "]"
   ]
  },
  {
   "cell_type": "code",
   "execution_count": 16,
   "id": "26cf1ced-fae9-4c0c-b99d-9b63e1488546",
   "metadata": {},
   "outputs": [],
   "source": [
    "# Create an OAuth2 session\n",
    "#whoop = OAuth2Session(client_id, redirect_uri=redirect_uri, scope=scope)\n",
    "whoop = OAuth2Session(client_id, client_secret, scope=scope, token_endpoint_auth_method=token_endpoint_auth_method)"
   ]
  },
  {
   "cell_type": "code",
   "execution_count": 17,
   "id": "4647e178-7552-45a4-9ae4-eb5ae429d5db",
   "metadata": {},
   "outputs": [],
   "source": [
    "authorization_url, state = whoop.create_authorization_url(auth_url)"
   ]
  },
  {
   "cell_type": "code",
   "execution_count": 18,
   "id": "047f49d7-5703-4517-8968-b9b664acebc6",
   "metadata": {},
   "outputs": [
    {
     "name": "stdout",
     "output_type": "stream",
     "text": [
      "Please go to https://api.prod.whoop.com/oauth/oauth2/auth?response_type=code&client_id=49dfce1e-f2c5-4cb6-9c11-c15f6ea6ee58&scope=offline+read%3Arecovery+read%3Acycles+read%3Aworkout+read%3Asleep+read%3Aprofile+read%3Abody_measurement&state=hIvZO8biNOj18ibpRLvU97KE69wKe4 and authorize access.\n"
     ]
    }
   ],
   "source": [
    "# Redirect user to authorization URL\n",
    "# In a web application, you would redirect the user to this URL\n",
    "print(f\"Please go to {authorization_url} and authorize access.\")"
   ]
  },
  {
   "cell_type": "code",
   "execution_count": 19,
   "id": "89846c0d-f8fd-46b0-ab40-2c6da24fbca4",
   "metadata": {},
   "outputs": [
    {
     "name": "stdin",
     "output_type": "stream",
     "text": [
      "Enter the full callback URL:  https://00b4-185-187-168-37.ngrok-free.app/whoop_login?code=1T8I86sCpU-zf1RutLHSkdUN7JS0ZKsEUgnp7glKtJA.w33SCr51r0688LReWMNpejqks8tzDpKLwSrkicHrTnU&scope=offline%20read%3Arecovery%20read%3Acycles%20read%3Aworkout%20read%3Asleep%20read%3Aprofile%20read%3Abody_measurement&state=hIvZO8biNOj18ibpRLvU97KE69wKe4\n"
     ]
    }
   ],
   "source": [
    "# Get the authorization response URL (in a real application, this would be the redirect URL)\n",
    "# For example, after user authorization, you might get something like:\n",
    "# https://00b4-185-187-168-37.ngrok-free.app/whoop_login?code=AUTHORIZATION_CODE\n",
    "authorization_response = input('Enter the full callback URL: ')"
   ]
  },
  {
   "cell_type": "code",
   "execution_count": 20,
   "id": "1b0606a7-5aa4-4cbc-b320-687d691d021a",
   "metadata": {},
   "outputs": [],
   "source": [
    "token = whoop.fetch_token(token_url, authorization_response=authorization_response)"
   ]
  },
  {
   "cell_type": "code",
   "execution_count": 21,
   "id": "ee8f6a57-9fdb-492e-a7a2-0d48d546df2f",
   "metadata": {},
   "outputs": [
    {
     "data": {
      "text/plain": [
       "{'access_token': 'a4Umn_ar-8xIytoWl0q5brYjqqBzf2_gUa06AnuzTYE.QR-Z-eFV7atmmVPkbzJgJ8OLyv_EMN8k64sJq68WTKY',\n",
       " 'expires_in': 3600,\n",
       " 'refresh_token': 'ftb6sg-vUS592y-A4VYn5EvK5es0YMCya-qiyhcZJHA.FqFS1xvgN0edIoZWyca9efmv9M_sgCnki76bPVQ3UGs',\n",
       " 'scope': 'offline read:recovery read:cycles read:workout read:sleep read:profile read:body_measurement',\n",
       " 'token_type': 'bearer',\n",
       " 'expires_at': 1699817882}"
      ]
     },
     "execution_count": 21,
     "metadata": {},
     "output_type": "execute_result"
    }
   ],
   "source": [
    "token"
   ]
  },
  {
   "cell_type": "code",
   "execution_count": 24,
   "id": "3b4b867b-e365-4aa9-976e-b7a2ee203369",
   "metadata": {},
   "outputs": [],
   "source": [
    "import whoop_client\n",
    "from whoop_client.rest import ApiException"
   ]
  },
  {
   "cell_type": "code",
   "execution_count": 27,
   "id": "675b4051-6468-4c93-8334-c9c060b13397",
   "metadata": {},
   "outputs": [],
   "source": [
    "configuration = whoop_client.Configuration(access_token=token[\"access_token\"])"
   ]
  },
  {
   "cell_type": "code",
   "execution_count": 28,
   "id": "f1a40245-4887-43e5-845b-f2cc9f5036da",
   "metadata": {},
   "outputs": [
    {
     "data": {
      "text/plain": [
       "'https://api.prod.whoop.com/developer'"
      ]
     },
     "execution_count": 28,
     "metadata": {},
     "output_type": "execute_result"
    }
   ],
   "source": [
    "configuration.host"
   ]
  },
  {
   "cell_type": "code",
   "execution_count": 29,
   "id": "1cd0408c-13e7-47ce-9e04-3fd313bb56bc",
   "metadata": {},
   "outputs": [],
   "source": [
    "api_client = whoop_client.ApiClient(configuration)"
   ]
  },
  {
   "cell_type": "code",
   "execution_count": 33,
   "id": "c7ea91b1-7120-4c8b-8e78-30d85ecf78b2",
   "metadata": {},
   "outputs": [],
   "source": [
    "api_instance = whoop_client.UserApi(api_client)"
   ]
  },
  {
   "cell_type": "code",
   "execution_count": 34,
   "id": "672abd24-f0e2-4b3d-8ee0-389e835d022b",
   "metadata": {},
   "outputs": [],
   "source": [
    "api_response = api_instance.get_body_measurement()"
   ]
  },
  {
   "cell_type": "code",
   "execution_count": 35,
   "id": "9aff68cc-ab71-464f-9332-3707631615e7",
   "metadata": {},
   "outputs": [
    {
     "data": {
      "text/plain": [
       "UserBodyMeasurement(height_meter=1.7526, weight_kilogram=68.0388, max_heart_rate=176)"
      ]
     },
     "execution_count": 35,
     "metadata": {},
     "output_type": "execute_result"
    }
   ],
   "source": [
    "api_response"
   ]
  },
  {
   "cell_type": "code",
   "execution_count": null,
   "id": "13ae101f-8bdd-49dd-96a0-45f78ac159c5",
   "metadata": {},
   "outputs": [],
   "source": []
  }
 ],
 "metadata": {
  "kernelspec": {
   "display_name": "Python 3 (ipykernel)",
   "language": "python",
   "name": "python3"
  },
  "language_info": {
   "codemirror_mode": {
    "name": "ipython",
    "version": 3
   },
   "file_extension": ".py",
   "mimetype": "text/x-python",
   "name": "python",
   "nbconvert_exporter": "python",
   "pygments_lexer": "ipython3",
   "version": "3.11.5"
  }
 },
 "nbformat": 4,
 "nbformat_minor": 5
}
