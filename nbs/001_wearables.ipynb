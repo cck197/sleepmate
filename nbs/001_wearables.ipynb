{
 "cells": [
  {
   "cell_type": "code",
   "execution_count": 1,
   "id": "2801a14e-8c32-4838-86ad-90755fe88737",
   "metadata": {},
   "outputs": [],
   "source": [
    "from sleepmate.executor import *\n",
    "from sleepmate.wearable import *"
   ]
  },
  {
   "cell_type": "code",
   "execution_count": 2,
   "id": "dfaef087-c14d-4802-97ed-1f885f65f5d7",
   "metadata": {},
   "outputs": [],
   "source": [
    "username = \"test\""
   ]
  },
  {
   "cell_type": "code",
   "execution_count": 3,
   "id": "e9005e79-37bf-4b74-8731-844a8c0f484e",
   "metadata": {},
   "outputs": [],
   "source": [
    "clear_db_for_user(get_user_from_username(username).id)"
   ]
  },
  {
   "cell_type": "code",
   "execution_count": 4,
   "id": "2551d775-1f82-456c-916f-e0381645167a",
   "metadata": {
    "scrolled": true
   },
   "outputs": [
    {
     "data": {
      "text/markdown": [
       "Hello Sleepy! I hope you're feeling chipper at this moment. I'm curious, do you happen to have any of these wearable devices that you'd like to integrate for a more objective look at your health data?\n",
       "\n",
       "- WHOOP Strap\n",
       "- Fitbit Devices (e.g., Fitbit Charge, Fitbit Versa, Fitbit Sense)\n",
       "- Apple Watch\n",
       "- Garmin Wearables (e.g., Garmin Vivosmart, Garmin Fenix)\n",
       "- Samsung Galaxy Watch\n",
       "- Oura Ring\n",
       "- Xiaomi Mi Band\n",
       "- Polar Watches (e.g., Polar Vantage, Polar Ignite)\n",
       "- Withings Sleep Tracking Mat\n",
       "- Amazfit Smartwatches\n",
       "- Other (please specify)\n",
       "\n",
       "If you have any of these, just let me know which ones, and we'll get them connected. How are you feeling right now, in this moment?"
      ],
      "text/plain": [
       "<IPython.core.display.Markdown object>"
      ]
     },
     "metadata": {},
     "output_type": "display_data"
    }
   ],
   "source": [
    "x = X(username=username, goal=\"wearable_probe\", fixed_goal=True, hello=\"hey\")"
   ]
  },
  {
   "cell_type": "code",
   "execution_count": 5,
   "id": "83917992-510e-4fb7-a542-43555d833c5b",
   "metadata": {},
   "outputs": [
    {
     "name": "stderr",
     "output_type": "stream",
     "text": [
      "2023-11-13 08:16:44 INFO     sleepmate.wearable save_wearables entry=Wearables(whoop=True, fitbit=False, apple_watch=False, garmin=False, samsung=False, oura=False, xiaomi=False, polar=False, withings=False, amazfit=False, other='')\n"
     ]
    },
    {
     "data": {
      "text/markdown": [
       "Brilliant, your WHOOP Strap is now on the list to be integrated. When you're ready to continue on your health journey, just say \"hey\" and we'll crack on!"
      ],
      "text/plain": [
       "<IPython.core.display.Markdown object>"
      ]
     },
     "metadata": {},
     "output_type": "display_data"
    }
   ],
   "source": [
    "x(\"yeah I have a whoop\");"
   ]
  },
  {
   "cell_type": "code",
   "execution_count": 6,
   "id": "249fe910-f26e-4b75-94ad-18f042973d30",
   "metadata": {},
   "outputs": [
    {
     "data": {
      "text/plain": [
       "1"
      ]
     },
     "execution_count": 6,
     "metadata": {},
     "output_type": "execute_result"
    }
   ],
   "source": [
    "DBWearables.objects(user=x.db_user_id).count()"
   ]
  },
  {
   "cell_type": "code",
   "execution_count": null,
   "id": "3dbc3318-7fe8-46bb-8ced-f10e8718e2ec",
   "metadata": {},
   "outputs": [],
   "source": []
  }
 ],
 "metadata": {
  "kernelspec": {
   "display_name": "Python 3 (ipykernel)",
   "language": "python",
   "name": "python3"
  },
  "language_info": {
   "codemirror_mode": {
    "name": "ipython",
    "version": 3
   },
   "file_extension": ".py",
   "mimetype": "text/x-python",
   "name": "python",
   "nbconvert_exporter": "python",
   "pygments_lexer": "ipython3",
   "version": "3.11.5"
  }
 },
 "nbformat": 4,
 "nbformat_minor": 5
}
