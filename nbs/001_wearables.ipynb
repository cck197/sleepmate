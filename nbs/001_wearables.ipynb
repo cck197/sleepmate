{
 "cells": [
  {
   "cell_type": "code",
   "execution_count": 4,
   "id": "2801a14e-8c32-4838-86ad-90755fe88737",
   "metadata": {},
   "outputs": [],
   "source": [
    "from sleepmate.executor import *\n",
    "from sleepmate.wearable import *\n",
    "from sleepmate.user import *"
   ]
  },
  {
   "cell_type": "code",
   "execution_count": 5,
   "id": "dfaef087-c14d-4802-97ed-1f885f65f5d7",
   "metadata": {},
   "outputs": [],
   "source": [
    "username = \"test\"\n",
    "username = \"test2\""
   ]
  },
  {
   "cell_type": "code",
   "execution_count": 10,
   "id": "e9005e79-37bf-4b74-8731-844a8c0f484e",
   "metadata": {},
   "outputs": [
    {
     "name": "stderr",
     "output_type": "stream",
     "text": [
      "2023-12-08 06:20:22 INFO     sleepmate.user clear_db_for_user deleting db_user_id=ObjectId('656f8f7c989c9402d3608113')\n"
     ]
    }
   ],
   "source": [
    "clear_db_for_user(get_user_from_username(username).id)"
   ]
  },
  {
   "cell_type": "code",
   "execution_count": 7,
   "id": "40ae88d9-d13a-4081-afe9-edbe5c692490",
   "metadata": {},
   "outputs": [
    {
     "data": {
      "text/plain": [
       "False"
      ]
     },
     "execution_count": 7,
     "metadata": {},
     "output_type": "execute_result"
    }
   ],
   "source": [
    "user_integrated_supported_wearable(get_user_from_username(username).id)"
   ]
  },
  {
   "cell_type": "code",
   "execution_count": 7,
   "id": "2551d775-1f82-456c-916f-e0381645167a",
   "metadata": {
    "scrolled": true
   },
   "outputs": [
    {
     "name": "stdout",
     "output_type": "stream",
     "text": [
      "get_user_from_username creating username='test2'\n"
     ]
    },
    {
     "data": {
      "text/markdown": [
       "Hello None,\n",
       "\n",
       "I hope you're finding a moment to rest if you're feeling a bit weary today. When you're ready, I'd like to explore the possibility of integrating a wearable device to assist us. Do you happen to use any of the following?\n",
       "\n",
       "- WHOOP Strap\n",
       "- Fitbit Devices (e.g., Fitbit Charge, Fitbit Versa, Fitbit Sense)\n",
       "- Apple Watch\n",
       "- Garmin Wearables (e.g., Garmin Vivosmart, Garmin Fenix)\n",
       "- Samsung Galaxy Watch\n",
       "- Oura Ring\n",
       "- Xiaomi Mi Band\n",
       "- Polar Watches (e.g., Polar Vantage, Polar Ignite)\n",
       "- Withings Sleep Tracking Mat\n",
       "- Amazfit Smartwatches\n",
       "- Other (please specify)\n",
       "- None of the above (skip)\n",
       "\n",
       "If you have any of these devices, or another one not listed, could you let me know? It would be quite helpful for our journey ahead."
      ],
      "text/plain": [
       "<IPython.core.display.Markdown object>"
      ]
     },
     "metadata": {},
     "output_type": "display_data"
    }
   ],
   "source": [
    "x = X(username=username, goal=\"wearable_probe\", fixed_goal=True, hello=\"hey\")"
   ]
  },
  {
   "cell_type": "code",
   "execution_count": 11,
   "id": "502a73ac-b5c6-4771-bc96-25b236b01186",
   "metadata": {},
   "outputs": [
    {
     "data": {
      "text/markdown": [
       "Hello Dave! I hope you're finding a bit of energy in your day, even if it's just enough to chuckle at the idea of a digital doc like me wearing a stethoscope. Now, onto a bit of practical business:\n",
       "\n",
       "Could you let me know if you have any of these wearable devices that you'd like to integrate for a more objective look at your health data? Just a simple yes or no will do, and if it's a yes, which one(s):\n",
       "\n",
       "- WHOOP Strap\n",
       "- Fitbit Devices (e.g., Fitbit Charge, Fitbit Versa, Fitbit Sense)\n",
       "- Apple Watch\n",
       "- Garmin Wearables (e.g., Garmin Vivosmart, Garmin Fenix)\n",
       "- Samsung Galaxy Watch\n",
       "- Oura Ring\n",
       "- Xiaomi Mi Band\n",
       "- Polar Watches (e.g., Polar Vantage, Polar Ignite)\n",
       "- Withings Sleep Tracking Mat\n",
       "- Amazfit Smartwatches\n",
       "- Other (please specify)\n",
       "- None of the above (we can skip this)\n",
       "\n",
       "Whenever you're ready, just let me know."
      ],
      "text/plain": [
       "<IPython.core.display.Markdown object>"
      ]
     },
     "metadata": {},
     "output_type": "display_data"
    }
   ],
   "source": [
    "x = X(username=username, goal=\"wearable_probe\", hello=\"hey\")"
   ]
  },
  {
   "cell_type": "code",
   "execution_count": 12,
   "id": "e456fc1e-f015-4e66-a33a-c9fcf56eb1b7",
   "metadata": {},
   "outputs": [
    {
     "name": "stderr",
     "output_type": "stream",
     "text": [
      "2023-12-08 06:21:30 INFO     sleepmate.wearable save_wearables entry=Wearables(whoop=False, fitbit=False, apple_watch=False, garmin=False, samsung=False, oura=False, xiaomi=False, polar=False, withings=False, amazfit=False, other='')\n"
     ]
    },
    {
     "data": {
      "text/markdown": [
       "All right, no wearables to integrate then. When you're feeling up to it, just say \"hey\" to let me know you're ready to continue on your health journey. Take care until then!"
      ],
      "text/plain": [
       "<IPython.core.display.Markdown object>"
      ]
     },
     "metadata": {},
     "output_type": "display_data"
    },
    {
     "name": "stderr",
     "output_type": "stream",
     "text": [
      "2023-12-08 06:21:34 INFO     sleepmate.executor clear_chat_history: wearable_probe -> health_history (656f8f7c989c9402d3608113 cleared)\n"
     ]
    }
   ],
   "source": [
    "x(\"none of the above\");"
   ]
  },
  {
   "cell_type": "code",
   "execution_count": 15,
   "id": "84821dec-597d-4f5f-9449-6f24bd0081a2",
   "metadata": {},
   "outputs": [
    {
     "data": {
      "text/plain": [
       "health_history"
      ]
     },
     "execution_count": 15,
     "metadata": {},
     "output_type": "execute_result"
    }
   ],
   "source": [
    "x.get_next_goal()"
   ]
  },
  {
   "cell_type": "code",
   "execution_count": 14,
   "id": "ebad4697-cab9-43a1-8132-4d9d04366971",
   "metadata": {},
   "outputs": [
    {
     "data": {
      "text/plain": [
       "[]"
      ]
     },
     "execution_count": 14,
     "metadata": {},
     "output_type": "execute_result"
    }
   ],
   "source": [
    "x.memory.chat_memory.messages"
   ]
  },
  {
   "cell_type": "markdown",
   "id": "793b847c-77f8-460e-87da-0bb1afeca579",
   "metadata": {},
   "source": [
    "# Without a supported device"
   ]
  },
  {
   "cell_type": "code",
   "execution_count": 6,
   "id": "15a5ae1a-7fc1-4e76-801f-f7cc868edea4",
   "metadata": {},
   "outputs": [
    {
     "name": "stderr",
     "output_type": "stream",
     "text": [
      "2023-11-21 06:38:09 INFO     sleepmate.wearable save_wearables entry=Wearables(whoop=False, fitbit=False, apple_watch=False, garmin=False, samsung=False, oura=True, xiaomi=False, polar=False, withings=False, amazfit=False, other='')\n"
     ]
    },
    {
     "data": {
      "text/markdown": [
       "Brilliant, your Oura Ring is now on record. When you're ready to continue on your health journey, just say \"hey\" and we'll proceed. Cheers!"
      ],
      "text/plain": [
       "<IPython.core.display.Markdown object>"
      ]
     },
     "metadata": {},
     "output_type": "display_data"
    }
   ],
   "source": [
    "x(\"I have an Oura ring\");"
   ]
  },
  {
   "cell_type": "code",
   "execution_count": 4,
   "id": "3dbc3318-7fe8-46bb-8ced-f10e8718e2ec",
   "metadata": {},
   "outputs": [
    {
     "name": "stderr",
     "output_type": "stream",
     "text": [
      "2023-11-21 06:49:57 INFO     sleepmate.executor 653838c321f81e21a72df700 None -> health_history\n"
     ]
    },
    {
     "data": {
      "text/markdown": [
       "Right-o, let's carry on then! Before we dive into the nitty-gritty, I'd like to ask you a few questions about your health history. It's a bit like a nosy parker wanting to know all about your business, but I assure you, it's all in the name of good health. Shall we begin?"
      ],
      "text/plain": [
       "<IPython.core.display.Markdown object>"
      ]
     },
     "metadata": {},
     "output_type": "display_data"
    }
   ],
   "source": [
    "x = X(username=username, hello=\"hey\")"
   ]
  },
  {
   "cell_type": "markdown",
   "id": "8c01d765-eebd-4b83-af82-62256117d40a",
   "metadata": {},
   "source": [
    "# With a supported device"
   ]
  },
  {
   "cell_type": "code",
   "execution_count": 7,
   "id": "83917992-510e-4fb7-a542-43555d833c5b",
   "metadata": {},
   "outputs": [
    {
     "name": "stderr",
     "output_type": "stream",
     "text": [
      "2023-11-30 13:22:08 INFO     sleepmate.wearable save_wearables entry=Wearables(whoop=True, fitbit=False, apple_watch=False, garmin=False, samsung=False, oura=False, xiaomi=False, polar=False, withings=False, amazfit=False, other='')\n"
     ]
    },
    {
     "data": {
      "text/markdown": [
       "Brilliant, your WHOOP Strap is now on the list to be integrated. When you're ready to continue on your health journey, just say \"hey\" and we'll carry on. Take care until then!"
      ],
      "text/plain": [
       "<IPython.core.display.Markdown object>"
      ]
     },
     "metadata": {},
     "output_type": "display_data"
    }
   ],
   "source": [
    "x(\"yeah I have a whoop\");"
   ]
  },
  {
   "cell_type": "markdown",
   "id": "a27ea873-73b3-4376-9e2c-021ec0d2dee2",
   "metadata": {},
   "source": [
    "# Removing a wearable"
   ]
  },
  {
   "cell_type": "code",
   "execution_count": null,
   "id": "75df4b29-25ef-43cb-99f1-6e80e4030117",
   "metadata": {},
   "outputs": [],
   "source": []
  }
 ],
 "metadata": {
  "kernelspec": {
   "display_name": "Python 3 (ipykernel)",
   "language": "python",
   "name": "python3"
  },
  "language_info": {
   "codemirror_mode": {
    "name": "ipython",
    "version": 3
   },
   "file_extension": ".py",
   "mimetype": "text/x-python",
   "name": "python",
   "nbconvert_exporter": "python",
   "pygments_lexer": "ipython3",
   "version": "3.11.5"
  }
 },
 "nbformat": 4,
 "nbformat_minor": 5
}
