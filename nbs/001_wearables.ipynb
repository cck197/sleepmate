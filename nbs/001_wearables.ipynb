{
 "cells": [
  {
   "cell_type": "code",
   "execution_count": 1,
   "id": "2801a14e-8c32-4838-86ad-90755fe88737",
   "metadata": {},
   "outputs": [],
   "source": [
    "from sleepmate.executor import *\n",
    "from sleepmate.wearable import *"
   ]
  },
  {
   "cell_type": "code",
   "execution_count": 2,
   "id": "dfaef087-c14d-4802-97ed-1f885f65f5d7",
   "metadata": {},
   "outputs": [],
   "source": [
    "username = \"test\""
   ]
  },
  {
   "cell_type": "code",
   "execution_count": 3,
   "id": "e9005e79-37bf-4b74-8731-844a8c0f484e",
   "metadata": {},
   "outputs": [],
   "source": [
    "clear_db_for_user(get_user_from_username(username).id)"
   ]
  },
  {
   "cell_type": "code",
   "execution_count": 3,
   "id": "40ae88d9-d13a-4081-afe9-edbe5c692490",
   "metadata": {},
   "outputs": [
    {
     "data": {
      "text/plain": [
       "False"
      ]
     },
     "execution_count": 3,
     "metadata": {},
     "output_type": "execute_result"
    }
   ],
   "source": [
    "user_integrated_supported_wearable(get_user_from_username(username).id)"
   ]
  },
  {
   "cell_type": "code",
   "execution_count": 4,
   "id": "2551d775-1f82-456c-916f-e0381645167a",
   "metadata": {
    "scrolled": true
   },
   "outputs": [
    {
     "data": {
      "text/markdown": [
       "Hello Christopher, I hope you're finding a moment of calm in your day. If you're up for it, I'd like to chat about wearable tech. Do you have any of these devices that you'd like to integrate for a more objective look at your health data?\n",
       "\n",
       "- WHOOP Strap\n",
       "- Fitbit Devices (e.g., Fitbit Charge, Fitbit Versa, Fitbit Sense)\n",
       "- Apple Watch\n",
       "- Garmin Wearables (e.g., Garmin Vivosmart, Garmin Fenix)\n",
       "- Samsung Galaxy Watch\n",
       "- Oura Ring\n",
       "- Xiaomi Mi Band\n",
       "- Polar Watches (e.g., Polar Vantage, Polar Ignite)\n",
       "- Withings Sleep Tracking Mat\n",
       "- Amazfit Smartwatches\n",
       "- Other (specify)\n",
       "\n",
       "Just let me know which one(s) you have, and we'll take it from there. And by the way, how are you feeling right now, in this moment?"
      ],
      "text/plain": [
       "<IPython.core.display.Markdown object>"
      ]
     },
     "metadata": {},
     "output_type": "display_data"
    }
   ],
   "source": [
    "x = X(username=username, goal=\"wearable_probe\", fixed_goal=True, hello=\"hey\")"
   ]
  },
  {
   "cell_type": "markdown",
   "id": "793b847c-77f8-460e-87da-0bb1afeca579",
   "metadata": {},
   "source": [
    "# Without a supported device"
   ]
  },
  {
   "cell_type": "code",
   "execution_count": 6,
   "id": "15a5ae1a-7fc1-4e76-801f-f7cc868edea4",
   "metadata": {},
   "outputs": [
    {
     "name": "stderr",
     "output_type": "stream",
     "text": [
      "2023-11-21 06:38:09 INFO     sleepmate.wearable save_wearables entry=Wearables(whoop=False, fitbit=False, apple_watch=False, garmin=False, samsung=False, oura=True, xiaomi=False, polar=False, withings=False, amazfit=False, other='')\n"
     ]
    },
    {
     "data": {
      "text/markdown": [
       "Brilliant, your Oura Ring is now on record. When you're ready to continue on your health journey, just say \"hey\" and we'll proceed. Cheers!"
      ],
      "text/plain": [
       "<IPython.core.display.Markdown object>"
      ]
     },
     "metadata": {},
     "output_type": "display_data"
    }
   ],
   "source": [
    "x(\"I have an Oura ring\");"
   ]
  },
  {
   "cell_type": "code",
   "execution_count": 4,
   "id": "3dbc3318-7fe8-46bb-8ced-f10e8718e2ec",
   "metadata": {},
   "outputs": [
    {
     "name": "stderr",
     "output_type": "stream",
     "text": [
      "2023-11-21 06:49:57 INFO     sleepmate.executor 653838c321f81e21a72df700 None -> health_history\n"
     ]
    },
    {
     "data": {
      "text/markdown": [
       "Right-o, let's carry on then! Before we dive into the nitty-gritty, I'd like to ask you a few questions about your health history. It's a bit like a nosy parker wanting to know all about your business, but I assure you, it's all in the name of good health. Shall we begin?"
      ],
      "text/plain": [
       "<IPython.core.display.Markdown object>"
      ]
     },
     "metadata": {},
     "output_type": "display_data"
    }
   ],
   "source": [
    "x = X(username=username, hello=\"hey\")"
   ]
  },
  {
   "cell_type": "markdown",
   "id": "8c01d765-eebd-4b83-af82-62256117d40a",
   "metadata": {},
   "source": [
    "# With a supported device"
   ]
  },
  {
   "cell_type": "code",
   "execution_count": 5,
   "id": "83917992-510e-4fb7-a542-43555d833c5b",
   "metadata": {},
   "outputs": [
    {
     "name": "stderr",
     "output_type": "stream",
     "text": [
      "2023-11-21 06:59:25 INFO     sleepmate.wearable save_wearables entry=Wearables(whoop=True, fitbit=False, apple_watch=False, garmin=False, samsung=False, oura=False, xiaomi=False, polar=False, withings=False, amazfit=False, other='')\n"
     ]
    },
    {
     "data": {
      "text/markdown": [
       "Great, I've saved that you have a WHOOP Strap. When you're ready to continue on your health journey, just say hey."
      ],
      "text/plain": [
       "<IPython.core.display.Markdown object>"
      ]
     },
     "metadata": {},
     "output_type": "display_data"
    }
   ],
   "source": [
    "x(\"yeah I have a whoop\");"
   ]
  },
  {
   "cell_type": "code",
   "execution_count": 6,
   "id": "9bcb5800-ae83-4126-aa63-068c37a59d47",
   "metadata": {},
   "outputs": [
    {
     "name": "stderr",
     "output_type": "stream",
     "text": [
      "2023-11-21 06:59:32 INFO     sleepmate.executor 653838c321f81e21a72df700 None -> whoop_import\n"
     ]
    },
    {
     "data": {
      "text/markdown": [
       "Splendid! Now, if you could click on [this link](https://api.prod.whoop.com/oauth/oauth2/auth?response_type=code&client_id=49dfce1e-f2c5-4cb6-9c11-c15f6ea6ee58&redirect_uri=https%3A%2F%2F00b4-185-187-168-37.ngrok-free.app%2Fwhoop_login&scope=offline+read%3Arecovery+read%3Acycles+read%3Aworkout+read%3Asleep+read%3Aprofile+read%3Abody_measurement&state=821YSyQhyzCf1QEcFtIVNpi9OYMH63) and log in to your WHOOP account, that would be brilliant. Once you've logged in, you can close the browser tab and pop back here. I'll wait for you; no rush."
      ],
      "text/plain": [
       "<IPython.core.display.Markdown object>"
      ]
     },
     "metadata": {},
     "output_type": "display_data"
    }
   ],
   "source": [
    "x = X(username=username, hello=\"hey\")"
   ]
  },
  {
   "cell_type": "code",
   "execution_count": null,
   "id": "cc85a6b2-a9ea-413f-91df-3cfa00f4a0b0",
   "metadata": {},
   "outputs": [],
   "source": []
  }
 ],
 "metadata": {
  "kernelspec": {
   "display_name": "Python 3 (ipykernel)",
   "language": "python",
   "name": "python3"
  },
  "language_info": {
   "codemirror_mode": {
    "name": "ipython",
    "version": 3
   },
   "file_extension": ".py",
   "mimetype": "text/x-python",
   "name": "python",
   "nbconvert_exporter": "python",
   "pygments_lexer": "ipython3",
   "version": "3.11.5"
  }
 },
 "nbformat": 4,
 "nbformat_minor": 5
}
