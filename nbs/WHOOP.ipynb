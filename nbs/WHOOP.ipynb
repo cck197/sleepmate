{
 "cells": [
  {
   "cell_type": "code",
   "execution_count": 1,
   "id": "bf74ddff-f9a7-4cc8-8d64-d0730b779c49",
   "metadata": {},
   "outputs": [
    {
     "name": "stdout",
     "output_type": "stream",
     "text": [
      "Automatic pdb calling has been turned ON\n"
     ]
    }
   ],
   "source": [
    "%pdb"
   ]
  },
  {
   "cell_type": "code",
   "execution_count": 1,
   "id": "c313c350-5e71-4b30-be0b-ccef2c7b910a",
   "metadata": {},
   "outputs": [],
   "source": [
    "from sleepmate.executor import *\n",
    "from sleepmate.whoop import *\n",
    "from sleepmate.wearable import *\n",
    "from sleepmate.helpful_scripts import setup_logging\n",
    "setup_logging()\n",
    "username = \"test\"\n",
    "username = \"chris\""
   ]
  },
  {
   "cell_type": "code",
   "execution_count": 2,
   "id": "0848e2f7-2670-4f91-a868-be03529feaa0",
   "metadata": {},
   "outputs": [],
   "source": [
    "x = X(username=username, hello=None)"
   ]
  },
  {
   "cell_type": "code",
   "execution_count": 3,
   "id": "34e94a26-4589-4f3d-865b-264e2637abd3",
   "metadata": {},
   "outputs": [],
   "source": [
    "clear_whoop_data(x.db_user_id)"
   ]
  },
  {
   "cell_type": "code",
   "execution_count": 4,
   "id": "b62cdafc-650a-4993-bedf-4c0cc6c9ca10",
   "metadata": {},
   "outputs": [],
   "source": [
    "x.memory.clear()"
   ]
  },
  {
   "cell_type": "code",
   "execution_count": 5,
   "id": "71c2fa76-3662-4337-82e0-ed7567d1bc10",
   "metadata": {},
   "outputs": [],
   "source": [
    "#clear_db_for_user(db_user.id)"
   ]
  },
  {
   "cell_type": "code",
   "execution_count": 6,
   "id": "1346d1a2-69db-478d-bdfd-015177669d69",
   "metadata": {},
   "outputs": [
    {
     "name": "stderr",
     "output_type": "stream",
     "text": [
      "2023-11-14 13:39:22 INFO     sleepmate.executor 65441d87316d0ff8334f1893 None -> whoop_import\n"
     ]
    },
    {
     "data": {
      "text/markdown": [
       "Hello Christopher! I hope you're feeling chipper at this moment. Is now a good time for us to proceed with a bit of data import wizardry?"
      ],
      "text/plain": [
       "<IPython.core.display.Markdown object>"
      ]
     },
     "metadata": {},
     "output_type": "display_data"
    }
   ],
   "source": [
    "x(\"hey\");"
   ]
  },
  {
   "cell_type": "code",
   "execution_count": 7,
   "id": "7fde7538-7f0f-4363-b9c5-681355451208",
   "metadata": {},
   "outputs": [
    {
     "data": {
      "text/markdown": [
       "Splendid! Please click on [this link](https://api.prod.whoop.com/oauth/oauth2/auth?response_type=code&client_id=49dfce1e-f2c5-4cb6-9c11-c15f6ea6ee58&redirect_uri=https%3A%2F%2F00b4-185-187-168-37.ngrok-free.app%2Fwhoop_login&scope=offline+read%3Arecovery+read%3Acycles+read%3Aworkout+read%3Asleep+read%3Aprofile+read%3Abody_measurement&state=F5lLwkVdbaxLHUbUzGr4J2h8uT6Y9r) to log in to WHOOP. Once you've logged in, just close the browser tab and pop back here. We'll carry on from there!"
      ],
      "text/plain": [
       "<IPython.core.display.Markdown object>"
      ]
     },
     "metadata": {},
     "output_type": "display_data"
    }
   ],
   "source": [
    "x(\"sure\");"
   ]
  },
  {
   "cell_type": "code",
   "execution_count": 8,
   "id": "1a178bec-bee1-4f46-b9ae-7ca92a8e3adc",
   "metadata": {},
   "outputs": [
    {
     "name": "stderr",
     "output_type": "stream",
     "text": [
      "2023-11-14 13:40:14 INFO     sleepmate.whoop import_whoop_user_data: db_user.to_mongo()=SON([('_id', ObjectId('65441d87316d0ff8334f1893')), ('name', 'Christopher Kelly'), ('email', 'chris@nourishbalancethrive.com'), ('username', 'chris')])\n",
      "2023-11-14 13:40:14 INFO     sleepmate.whoop import_whoop_user_data: db_entry.to_mongo()=SON([('user', ObjectId('65441d87316d0ff8334f1893')), ('date', datetime.datetime(2023, 11, 14, 13, 40, 14, 810137)), ('height', 1.7526), ('weight', 68.0388)])\n"
     ]
    },
    {
     "data": {
      "text/markdown": [
       "The import was successful! When you're ready to continue on your health journey, just say \"hey\" and we'll crack on."
      ],
      "text/plain": [
       "<IPython.core.display.Markdown object>"
      ]
     },
     "metadata": {},
     "output_type": "display_data"
    },
    {
     "name": "stderr",
     "output_type": "stream",
     "text": [
      "2023-11-14 13:40:16 INFO     sleepmate.executor clear_chat_history: whoop_import -> whoop_sleep (65441d87316d0ff8334f1893 cleared)\n"
     ]
    }
   ],
   "source": [
    "x(\"done\");"
   ]
  },
  {
   "cell_type": "code",
   "execution_count": 2,
   "id": "a3b5c520-f989-45f7-8fac-11ebab61ba6d",
   "metadata": {},
   "outputs": [],
   "source": [
    "x = X(username=username, goal=\"whoop_sleep\", fixed_goal=True, hello=None)"
   ]
  },
  {
   "cell_type": "code",
   "execution_count": 3,
   "id": "dbfa22d4-0520-4159-ab43-b15b43fe8dc3",
   "metadata": {},
   "outputs": [],
   "source": [
    "x.memory.clear()"
   ]
  },
  {
   "cell_type": "code",
   "execution_count": 9,
   "id": "c30054f3-a25e-486f-8ed4-335045b56799",
   "metadata": {},
   "outputs": [
    {
     "name": "stderr",
     "output_type": "stream",
     "text": [
      "2023-11-14 13:40:19 INFO     sleepmate.executor 65441d87316d0ff8334f1893 whoop_import -> whoop_sleep\n"
     ]
    },
    {
     "data": {
      "text/markdown": [
       "Hello Christopher! I hope you're feeling chipper today. Is now a good time to review your WHOOP sleep data?"
      ],
      "text/plain": [
       "<IPython.core.display.Markdown object>"
      ]
     },
     "metadata": {},
     "output_type": "display_data"
    }
   ],
   "source": [
    "x(\"hey\");"
   ]
  },
  {
   "cell_type": "code",
   "execution_count": 10,
   "id": "14d71ef0-b26b-4206-895f-ab08fb380839",
   "metadata": {},
   "outputs": [
    {
     "name": "stderr",
     "output_type": "stream",
     "text": [
      "2023-11-14 13:40:27 INFO     sleepmate.whoop import_whoop_sleep_data: len(db_entries)=4\n",
      "2023-11-14 13:40:29 INFO     sleepmate.whoop get_whoop_sleep_data: db_entry.to_mongo()=SON([('_id', ObjectId('6553e94b680f190f259d795f')), ('whoop_id', 833380559), ('whoop_user_id', 13013465), ('json_dumps', '{\"id\": 833380559, \"user_id\": 13013465, \"created_at\": \"2023-11-14T13:21:31.536000+00:00\", \"updated_at\": \"2023-11-14T13:21:36.242000+00:00\", \"start\": \"2023-11-14T05:43:20.512000+00:00\", \"end\": \"2023-11-14T13:08:25.577000+00:00\", \"timezone_offset\": \"-08:00\", \"nap\": false, \"score_state\": \"SCORED\", \"score\": {\"stage_summary\": {\"total_in_bed_time_milli\": 26559908, \"total_awake_time_milli\": 2566663, \"total_no_data_time_milli\": 0, \"total_light_sleep_time_milli\": 12948754, \"total_slow_wave_sleep_time_milli\": 5883237, \"total_rem_sleep_time_milli\": 5161254, \"sleep_cycle_count\": 5, \"disturbance_count\": 6}, \"sleep_needed\": {\"baseline_milli\": 26863929, \"need_from_sleep_debt_milli\": 827615, \"need_from_recent_strain_milli\": 2513086, \"need_from_recent_nap_milli\": 0}, \"respiratory_rate\": 12.216797, \"sleep_performance_percentage\": 79.0, \"sleep_consistency_percentage\": 83.0, \"sleep_efficiency_percentage\": 91.428345}}')])\n"
     ]
    },
    {
     "data": {
      "text/markdown": [
       "Here's a summary of your latest WHOOP sleep data:\n",
       "\n",
       "- Date: November 14, 2023\n",
       "- Time in bed: 7 hours, 24 minutes, and 15 seconds\n",
       "- Time awake: 42 minutes and 46 seconds\n",
       "- Light sleep: 3 hours, 35 minutes, and 47 seconds\n",
       "- Slow-wave sleep: 1 hour, 38 minutes, and 3 seconds\n",
       "- REM sleep: 1 hour, 26 minutes, and 1 second\n",
       "- Sleep cycle count: 5\n",
       "- Disturbance count: 6\n",
       "- Respiratory rate: 12.2 breaths per minute\n",
       "- Sleep performance: 79%\n",
       "- Sleep consistency: 83%\n",
       "- Sleep efficiency: 91.43%\n",
       "\n",
       "Would you like to add any other notes to this entry before I save it to the database?"
      ],
      "text/plain": [
       "<IPython.core.display.Markdown object>"
      ]
     },
     "metadata": {},
     "output_type": "display_data"
    }
   ],
   "source": [
    "x(\"sure\");"
   ]
  },
  {
   "cell_type": "code",
   "execution_count": 11,
   "id": "b24a80d0-dcbe-463c-9b2d-eada61d6f1c5",
   "metadata": {},
   "outputs": [
    {
     "name": "stderr",
     "output_type": "stream",
     "text": [
      "2023-11-14 13:40:51 INFO     sleepmate.whoop save_whoop_sleep_diary_entry entry=WhoopSleepDiaryEntry(date=datetime.datetime(2023, 11, 14, 0, 0), notes='slept in van')\n"
     ]
    },
    {
     "data": {
      "text/markdown": [
       "Your WHOOP sleep data, along with the note about sleeping in the van, has been saved successfully. When you're ready to continue on your health journey, just say \"hey\"!"
      ],
      "text/plain": [
       "<IPython.core.display.Markdown object>"
      ]
     },
     "metadata": {},
     "output_type": "display_data"
    },
    {
     "name": "stderr",
     "output_type": "stream",
     "text": [
      "2023-11-14 13:40:53 INFO     sleepmate.executor clear_chat_history: whoop_sleep -> seeds_entry (65441d87316d0ff8334f1893 cleared)\n"
     ]
    }
   ],
   "source": [
    "x(\"slept in van\");"
   ]
  },
  {
   "cell_type": "code",
   "execution_count": 7,
   "id": "2550b695-e9aa-4bb4-ab1c-428205335db4",
   "metadata": {},
   "outputs": [
    {
     "data": {
      "text/markdown": [
       "Great, you're back! How may I assist you further on your health journey today, Christopher?"
      ],
      "text/plain": [
       "<IPython.core.display.Markdown object>"
      ]
     },
     "metadata": {},
     "output_type": "display_data"
    }
   ],
   "source": [
    "x(\"hey\");"
   ]
  },
  {
   "cell_type": "code",
   "execution_count": null,
   "id": "82cc2ea5-270f-43a7-aa69-5c180d0bdd72",
   "metadata": {},
   "outputs": [],
   "source": []
  },
  {
   "cell_type": "code",
   "execution_count": 14,
   "id": "d22b452c-9800-4c07-abda-944909f65d86",
   "metadata": {},
   "outputs": [
    {
     "data": {
      "text/plain": [
       "SON([('_id', ObjectId('6553c8cfc8255d22edd45c40')), ('user', ObjectId('65441d87316d0ff8334f1893')), ('state', '0AughdRbmWrHK8gyoFUfHpXQrySmfn'), ('access_token', '0csb6BV2oIGICtHFvfc4JRhsJZyXIhXG4Ey4myO3yLQ.ngUhpUsHAMkxvHwYrjqPpNbRUGDfLgQW-Ow_16h_jGU'), ('expires_in', 3600), ('refresh_token', 'ww9dd0d_Jg9riqnYNIT1XYhdwqUnHnpYrOFtml2cIKo.0i6BO8sQkzIIiBcnbLkitbAOnEbwJqvUTUZ9WGxkDvA'), ('scope', 'offline read:recovery read:cycles read:workout read:sleep read:profile read:body_measurement'), ('token_type', 'bearer'), ('expires_at', 1699993325)])"
      ]
     },
     "execution_count": 14,
     "metadata": {},
     "output_type": "execute_result"
    }
   ],
   "source": [
    "DBWhoopToken.objects().first().to_mongo()"
   ]
  },
  {
   "cell_type": "code",
   "execution_count": 7,
   "id": "f013dc74-a235-401a-922b-f1a5e5041868",
   "metadata": {},
   "outputs": [
    {
     "data": {
      "text/plain": [
       "False"
      ]
     },
     "execution_count": 7,
     "metadata": {},
     "output_type": "execute_result"
    }
   ],
   "source": [
    "whoop_sleep(x.db_user_id)"
   ]
  },
  {
   "cell_type": "code",
   "execution_count": 17,
   "id": "5bd3973a-f99e-4f08-aae8-64aadeb7f796",
   "metadata": {},
   "outputs": [
    {
     "data": {
      "text/plain": [
       "whoop_sleep"
      ]
     },
     "execution_count": 17,
     "metadata": {},
     "output_type": "execute_result"
    }
   ],
   "source": [
    "x.goal"
   ]
  },
  {
   "cell_type": "code",
   "execution_count": 12,
   "id": "ee793db8-4f0b-41d6-af9f-0ab9ee304a79",
   "metadata": {},
   "outputs": [
    {
     "data": {
      "text/plain": [
       "whoop_sleep"
      ]
     },
     "execution_count": 12,
     "metadata": {},
     "output_type": "execute_result"
    }
   ],
   "source": [
    "x.get_next_goal()"
   ]
  },
  {
   "cell_type": "code",
   "execution_count": 16,
   "id": "56333411-2d1f-4a84-95ef-0ca4001fa07d",
   "metadata": {},
   "outputs": [],
   "source": [
    "from sleepmate.goal import *"
   ]
  },
  {
   "cell_type": "code",
   "execution_count": 18,
   "id": "91bcd714-f374-4842-ba62-30cfd2a21dbe",
   "metadata": {},
   "outputs": [
    {
     "data": {
      "text/plain": [
       "3"
      ]
     },
     "execution_count": 18,
     "metadata": {},
     "output_type": "execute_result"
    }
   ],
   "source": [
    "DBGoalRefusal.objects()"
   ]
  },
  {
   "cell_type": "code",
   "execution_count": 13,
   "id": "1d2f9d2a-13c6-4794-ab66-e33a7bbdf3ec",
   "metadata": {},
   "outputs": [
    {
     "name": "stderr",
     "output_type": "stream",
     "text": [
      "2023-11-14 06:36:08 INFO     sleepmate.executor 65441d87316d0ff8334f1893 whoop -> seeds_entry\n",
      "2023-11-14 06:36:10 INFO     sleepmate.whoop import_whoop_data: db_user.to_mongo()=SON([('_id', ObjectId('65441d87316d0ff8334f1893')), ('name', 'Christopher Kelly'), ('email', 'chris@nourishbalancethrive.com'), ('username', 'chris')])\n",
      "2023-11-14 06:36:10 INFO     sleepmate.whoop import_whoop_data: db_entry.to_mongo()=SON([('user', ObjectId('65441d87316d0ff8334f1893')), ('date', datetime.datetime(2023, 11, 14, 6, 36, 10, 753657)), ('height', 1.7526), ('weight', 68.0388)])\n"
     ]
    },
    {
     "data": {
      "text/markdown": [
       "The WHOOP data has been successfully imported. Now, let's move on to recording your SEEDS diary entry. Is now a good time for that?"
      ],
      "text/plain": [
       "<IPython.core.display.Markdown object>"
      ]
     },
     "metadata": {},
     "output_type": "display_data"
    }
   ],
   "source": [
    "x(\"ok\");"
   ]
  },
  {
   "cell_type": "code",
   "execution_count": 9,
   "id": "fb582f57-0df9-47f9-acf3-14ec406ccaef",
   "metadata": {},
   "outputs": [],
   "source": [
    "x.memory.clear()"
   ]
  },
  {
   "cell_type": "code",
   "execution_count": null,
   "id": "87cb21e1-d58d-466d-8a5e-72086d3d5a54",
   "metadata": {},
   "outputs": [],
   "source": []
  },
  {
   "cell_type": "code",
   "execution_count": 19,
   "id": "cd66a24d-7db1-4b61-a158-eb2109adabcf",
   "metadata": {},
   "outputs": [
    {
     "data": {
      "text/markdown": [
       "That's splendid to hear, Christopher! A good night's sleep can be the cornerstone of a chipper disposition. If you're feeling up to it, we can delve into the next steps for your health and well-being. Shall we?"
      ],
      "text/plain": [
       "<IPython.core.display.Markdown object>"
      ]
     },
     "metadata": {},
     "output_type": "display_data"
    }
   ],
   "source": [
    "x(\"yeah not bad, slept pretty well\");"
   ]
  },
  {
   "cell_type": "code",
   "execution_count": 21,
   "id": "adc197cd-753f-452c-9108-f581be6d60c2",
   "metadata": {},
   "outputs": [
    {
     "data": {
      "text/markdown": [
       "Fantastic! Let's keep the momentum going. By the way, do you happen to use any wearable devices to track your health and activities? Integrating data from such devices can provide us with objective insights. Here's a list of popular ones:\n",
       "\n",
       "- WHOOP Strap\n",
       "- Fitbit Devices (e.g., Fitbit Charge, Fitbit Versa, Fitbit Sense)\n",
       "- Apple Watch\n",
       "- Garmin Wearables (e.g., Garmin Vivosmart, Garmin Fenix)\n",
       "- Samsung Galaxy Watch\n",
       "- Oura Ring\n",
       "- Xiaomi Mi Band\n",
       "- Polar Watches (e.g., Polar Vantage, Polar Ignite)\n",
       "- Withings Sleep Tracking Mat\n",
       "- Amazfit Smartwatches\n",
       "- Other (please specify)\n",
       "\n",
       "Do you have any of these, or perhaps a different one you'd like to integrate?"
      ],
      "text/plain": [
       "<IPython.core.display.Markdown object>"
      ]
     },
     "metadata": {},
     "output_type": "display_data"
    }
   ],
   "source": [
    "x(\"sure\");"
   ]
  },
  {
   "cell_type": "code",
   "execution_count": 23,
   "id": "9bcfd251-1d27-4725-8221-34b10626ad82",
   "metadata": {},
   "outputs": [
    {
     "name": "stderr",
     "output_type": "stream",
     "text": [
      "2023-11-14 05:39:27 INFO     sleepmate.wearable save_wearables entry=Wearables(whoop=True, fitbit=False, apple_watch=False, garmin=False, samsung=False, oura=False, xiaomi=False, polar=False, withings=False, amazfit=False, other='')\n"
     ]
    },
    {
     "data": {
      "text/markdown": [
       "Brilliant, I've saved your WHOOP Strap as your wearable device of choice. When you're ready to take the next step, just say \"hey\" and we'll proceed. Cheers!"
      ],
      "text/plain": [
       "<IPython.core.display.Markdown object>"
      ]
     },
     "metadata": {},
     "output_type": "display_data"
    },
    {
     "name": "stderr",
     "output_type": "stream",
     "text": [
      "2023-11-14 05:39:30 INFO     sleepmate.executor clear_chat_history: wearable_probe -> sleep50 (65441d87316d0ff8334f1893 cleared)\n"
     ]
    }
   ],
   "source": [
    "x(\"yeah whoop\");"
   ]
  },
  {
   "cell_type": "code",
   "execution_count": 24,
   "id": "4c59cbac-c8c9-48fc-9fa2-5bdc84dce14b",
   "metadata": {},
   "outputs": [
    {
     "name": "stderr",
     "output_type": "stream",
     "text": [
      "2023-11-14 05:40:17 INFO     sleepmate.executor 65441d87316d0ff8334f1893 wearable_probe -> sleep50\n"
     ]
    },
    {
     "data": {
      "text/markdown": [
       "Hello Christopher! I hope you're feeling chipper today. Would now be a good time to go through the SLEEP-50 questionnaire with you? It's a splendid way to understand your sleep patterns and any issues you might be experiencing. If you're ready, we'll start with the Sleep Apnea section. How are you feeling right now, in this moment?"
      ],
      "text/plain": [
       "<IPython.core.display.Markdown object>"
      ]
     },
     "metadata": {},
     "output_type": "display_data"
    }
   ],
   "source": [
    "x(\"hey\");"
   ]
  },
  {
   "cell_type": "code",
   "execution_count": 25,
   "id": "af54fe43-0b55-482b-8c16-1ce6fa8c759d",
   "metadata": {},
   "outputs": [
    {
     "data": {
      "text/markdown": [
       "It sounds like you might not be up for the questionnaire at this moment, and that's completely okay. Whenever you feel ready to explore this, just say \"hey\" and we can dive into it together. Take care, Christopher. ###"
      ],
      "text/plain": [
       "<IPython.core.display.Markdown object>"
      ]
     },
     "metadata": {},
     "output_type": "display_data"
    },
    {
     "name": "stderr",
     "output_type": "stream",
     "text": [
      "2023-11-14 05:40:38 INFO     sleepmate.executor clear_chat_history: sleep50 -> diary_entry (65441d87316d0ff8334f1893 cleared)\n"
     ]
    }
   ],
   "source": [
    "x(\"nah\");"
   ]
  },
  {
   "cell_type": "code",
   "execution_count": 5,
   "id": "a07661f6-3152-4b4d-a666-18809715116b",
   "metadata": {},
   "outputs": [
    {
     "ename": "NameError",
     "evalue": "name 'x' is not defined",
     "output_type": "error",
     "traceback": [
      "\u001b[0;31m---------------------------------------------------------------------------\u001b[0m",
      "\u001b[0;31mNameError\u001b[0m                                 Traceback (most recent call last)",
      "Cell \u001b[0;32mIn[5], line 1\u001b[0m\n\u001b[0;32m----> 1\u001b[0m \u001b[43mx\u001b[49m(\u001b[38;5;124m\"\u001b[39m\u001b[38;5;124mhey\u001b[39m\u001b[38;5;124m\"\u001b[39m);\n",
      "\u001b[0;31mNameError\u001b[0m: name 'x' is not defined"
     ]
    }
   ],
   "source": [
    "x(\"hey\");"
   ]
  },
  {
   "cell_type": "code",
   "execution_count": null,
   "id": "2dae0d5e-b411-4027-8beb-baa2113f1bda",
   "metadata": {},
   "outputs": [],
   "source": []
  },
  {
   "cell_type": "code",
   "execution_count": null,
   "id": "95e6083e-ce3d-48f7-b98c-a9d65f1ced28",
   "metadata": {},
   "outputs": [],
   "source": []
  },
  {
   "cell_type": "code",
   "execution_count": 11,
   "id": "2e92dce7-7c9b-42bd-a57f-ac4ea2adfc56",
   "metadata": {
    "scrolled": true
   },
   "outputs": [
    {
     "data": {
      "text/markdown": [
       "Hello Christopher! I hope you're doing splendidly today. Is this a good moment for us to proceed with importing your WHOOP data?"
      ],
      "text/plain": [
       "<IPython.core.display.Markdown object>"
      ]
     },
     "metadata": {},
     "output_type": "display_data"
    }
   ],
   "source": [
    "x = X(username=username, goal=\"whoop\", fixed_goal=True, hello=\"hey\")"
   ]
  },
  {
   "cell_type": "code",
   "execution_count": 12,
   "id": "f4a5e70f-330d-483a-9ebf-8d7bbe84aae5",
   "metadata": {},
   "outputs": [
    {
     "data": {
      "text/markdown": [
       "Brilliant! Please click [this link](https://api.prod.whoop.com/oauth/oauth2/auth?response_type=code&client_id=49dfce1e-f2c5-4cb6-9c11-c15f6ea6ee58&redirect_uri=https%3A%2F%2F00b4-185-187-168-37.ngrok-free.app%2Fwhoop_login&scope=offline+read%3Arecovery+read%3Acycles+read%3Aworkout+read%3Asleep+read%3Aprofile+read%3Abody_measurement&state=Zbsosa7oSh4FGf0KECrhdM54riMURh) to authorize access to your WHOOP data. Once you've logged in, you can close the browser tab and let me know here. We'll then proceed to import the data."
      ],
      "text/plain": [
       "<IPython.core.display.Markdown object>"
      ]
     },
     "metadata": {},
     "output_type": "display_data"
    }
   ],
   "source": [
    "x(\"sure\");"
   ]
  },
  {
   "cell_type": "code",
   "execution_count": 11,
   "id": "85848f29-4ca3-4af9-b4a0-17e89f52d8a8",
   "metadata": {},
   "outputs": [],
   "source": [
    "from sleepmate.bmi import *"
   ]
  },
  {
   "cell_type": "code",
   "execution_count": 12,
   "id": "16a522c3-a7aa-42d3-962d-fcd6f7ab6e6b",
   "metadata": {},
   "outputs": [
    {
     "data": {
      "text/plain": [
       "SON([('_id', ObjectId('6552686ebe1cf0964a48d65d')), ('user', ObjectId('653838c321f81e21a72df700')), ('date', datetime.datetime(2023, 11, 13, 10, 18, 22, 993000)), ('height', 1.7526), ('weight', 68.0388)])"
      ]
     },
     "execution_count": 12,
     "metadata": {},
     "output_type": "execute_result"
    }
   ],
   "source": [
    "DBBodyMeasures.objects(user=db_user).first().to_mongo()"
   ]
  },
  {
   "cell_type": "code",
   "execution_count": 14,
   "id": "a2377f8d-c09a-48ee-a50a-ac2ef0da3d5b",
   "metadata": {},
   "outputs": [],
   "source": [
    "import_whoop_sleep(db_user.id)"
   ]
  },
  {
   "cell_type": "code",
   "execution_count": 7,
   "id": "9e8cc046-1f2b-47ee-87a2-0be7e91b31b5",
   "metadata": {},
   "outputs": [],
   "source": [
    "api_instance = SleepApi(get_whoop_api_client(db_user.id))"
   ]
  },
  {
   "cell_type": "code",
   "execution_count": 8,
   "id": "5b0f5746-2fe0-466e-83c0-591a91fcb091",
   "metadata": {},
   "outputs": [],
   "source": [
    "api_response = api_instance.get_sleep_collection()"
   ]
  },
  {
   "cell_type": "code",
   "execution_count": 15,
   "id": "d7df212a-eac5-4096-9eb2-db29ae26b755",
   "metadata": {},
   "outputs": [
    {
     "data": {
      "text/plain": [
       "3"
      ]
     },
     "execution_count": 15,
     "metadata": {},
     "output_type": "execute_result"
    }
   ],
   "source": [
    "DBWhoopSleep.objects.count()"
   ]
  },
  {
   "cell_type": "code",
   "execution_count": 11,
   "id": "e763a830-6bf9-44cd-97ca-7c488376d7d8",
   "metadata": {},
   "outputs": [
    {
     "data": {
      "text/plain": [
       "3"
      ]
     },
     "execution_count": 11,
     "metadata": {},
     "output_type": "execute_result"
    }
   ],
   "source": [
    "len(api_response.records)"
   ]
  },
  {
   "cell_type": "code",
   "execution_count": 13,
   "id": "7e15fc2f-edab-46cf-bb4b-3d1e07d3f3b4",
   "metadata": {},
   "outputs": [],
   "source": [
    "x.memory.clear()"
   ]
  },
  {
   "cell_type": "code",
   "execution_count": 14,
   "id": "472abd2c-8aa4-48f5-8863-82a907d19f9c",
   "metadata": {
    "scrolled": true
   },
   "outputs": [
    {
     "name": "stderr",
     "output_type": "stream",
     "text": [
      "2023-11-13 13:18:12 INFO     sleepmate.whoop get_whoop_sleep_data: db_entry.to_mongo()=SON([('_id', ObjectId('65527893ce0fde75ec57003d')), ('whoop_id', 832441927), ('whoop_user_id', 13013465), ('json_dumps', '{\"id\": 832441927, \"user_id\": 13013465, \"created_at\": \"2023-11-13T14:32:44.234000+00:00\", \"updated_at\": \"2023-11-13T14:32:48.738000+00:00\", \"start\": \"2023-11-13T05:20:44.078000+00:00\", \"end\": \"2023-11-13T14:11:22.571000+00:00\", \"timezone_offset\": \"-08:00\", \"nap\": false, \"score_state\": \"SCORED\", \"score\": {\"stage_summary\": {\"total_in_bed_time_milli\": 31030025, \"total_awake_time_milli\": 2739703, \"total_no_data_time_milli\": 0, \"total_light_sleep_time_milli\": 17475564, \"total_slow_wave_sleep_time_milli\": 8392269, \"total_rem_sleep_time_milli\": 2422489, \"sleep_cycle_count\": 2, \"disturbance_count\": 12}, \"sleep_needed\": {\"baseline_milli\": 26863978, \"need_from_sleep_debt_milli\": 2224443, \"need_from_recent_strain_milli\": 489303, \"need_from_recent_nap_milli\": 0}, \"respiratory_rate\": 12.949219, \"sleep_performance_percentage\": 96.0, \"sleep_consistency_percentage\": 85.0, \"sleep_efficiency_percentage\": 92.809685}}')])\n"
     ]
    },
    {
     "data": {
      "text/markdown": [
       "Here's a summary of your WHOOP sleep data:\n",
       "\n",
       "- Date: 2023-11-13\n",
       "- Time in Bed: 8 hours, 37 minutes, and 30 seconds\n",
       "- Time Awake: 45 minutes and 39 seconds\n",
       "- Light Sleep: 4 hours, 51 minutes, and 15 seconds\n",
       "- Slow Wave Sleep: 2 hours, 19 minutes, and 42 seconds\n",
       "- REM Sleep: 40 minutes and 22 seconds\n",
       "- Sleep Cycles: 2\n",
       "- Disturbances: 12\n",
       "- Respiratory Rate: 12.95 breaths per minute\n",
       "- Sleep Performance: 96%\n",
       "- Sleep Consistency: 85%\n",
       "- Sleep Efficiency: 92.81%\n",
       "\n",
       "When you're ready to continue on your health journey, just say hey!"
      ],
      "text/plain": [
       "<IPython.core.display.Markdown object>"
      ]
     },
     "metadata": {},
     "output_type": "display_data"
    }
   ],
   "source": [
    "x = X(username=username, goal=\"whoop_sleep\", fixed_goal=True, hello=\"hey\")"
   ]
  },
  {
   "cell_type": "code",
   "execution_count": 12,
   "id": "ab6d88ab-19d6-4e66-8aa3-b418e8ee3700",
   "metadata": {},
   "outputs": [
    {
     "name": "stderr",
     "output_type": "stream",
     "text": [
      "2023-11-13 13:16:12 INFO     sleepmate.whoop get_whoop_sleep_data: db_entry.to_mongo()=SON([('_id', ObjectId('65527893ce0fde75ec57003d')), ('whoop_id', 832441927), ('whoop_user_id', 13013465), ('json_dumps', '{\"id\": 832441927, \"user_id\": 13013465, \"created_at\": \"2023-11-13T14:32:44.234000+00:00\", \"updated_at\": \"2023-11-13T14:32:48.738000+00:00\", \"start\": \"2023-11-13T05:20:44.078000+00:00\", \"end\": \"2023-11-13T14:11:22.571000+00:00\", \"timezone_offset\": \"-08:00\", \"nap\": false, \"score_state\": \"SCORED\", \"score\": {\"stage_summary\": {\"total_in_bed_time_milli\": 31030025, \"total_awake_time_milli\": 2739703, \"total_no_data_time_milli\": 0, \"total_light_sleep_time_milli\": 17475564, \"total_slow_wave_sleep_time_milli\": 8392269, \"total_rem_sleep_time_milli\": 2422489, \"sleep_cycle_count\": 2, \"disturbance_count\": 12}, \"sleep_needed\": {\"baseline_milli\": 26863978, \"need_from_sleep_debt_milli\": 2224443, \"need_from_recent_strain_milli\": 489303, \"need_from_recent_nap_milli\": 0}, \"respiratory_rate\": 12.949219, \"sleep_performance_percentage\": 96.0, \"sleep_consistency_percentage\": 85.0, \"sleep_efficiency_percentage\": 92.809685}}')])\n"
     ]
    },
    {
     "data": {
      "text/markdown": [
       "- Date: 2023-11-13\n",
       "- Time in Bed: 8 hours, 37 minutes\n",
       "- Awake Time: 45 minutes\n",
       "- Light Sleep: 4 hours, 51 minutes\n",
       "- Slow Wave Sleep: 2 hours, 19 minutes\n",
       "- REM Sleep: 40 minutes\n",
       "- Sleep Cycles: 2\n",
       "- Disturbances: 12\n",
       "- Respiratory Rate: 12.95 breaths per minute\n",
       "- Sleep Efficiency: 92.81%\n",
       "- Sleep Performance: 96%\n",
       "- Sleep Consistency: 85%\n",
       "\n",
       "Christopher, whenever you're ready to continue on your health journey, just say hey!"
      ],
      "text/plain": [
       "<IPython.core.display.Markdown object>"
      ]
     },
     "metadata": {},
     "output_type": "display_data"
    }
   ],
   "source": [
    "x(\"summarise my WHOOP sleep data\");"
   ]
  },
  {
   "cell_type": "markdown",
   "id": "d05411bd-5a03-4fbb-8bda-32fd71ad5376",
   "metadata": {
    "jp-MarkdownHeadingCollapsed": true
   },
   "source": [
    "# Early scratchpad"
   ]
  },
  {
   "cell_type": "code",
   "execution_count": 1,
   "id": "c67d12fa-3c19-426b-ac0e-028870549392",
   "metadata": {},
   "outputs": [
    {
     "data": {
      "text/plain": [
       "True"
      ]
     },
     "execution_count": 1,
     "metadata": {},
     "output_type": "execute_result"
    }
   ],
   "source": [
    "# Load staging environment\n",
    "from dotenv import load_dotenv\n",
    "load_dotenv(\"../.env\")"
   ]
  },
  {
   "cell_type": "code",
   "execution_count": 8,
   "id": "65963208-a4c6-44f4-ad33-45f6e03353c1",
   "metadata": {},
   "outputs": [],
   "source": [
    "from whoop_client import ApiClient, Configuration"
   ]
  },
  {
   "cell_type": "code",
   "execution_count": 6,
   "id": "8fb58113-03ab-4b27-a14a-361ec282ad72",
   "metadata": {},
   "outputs": [],
   "source": [
    "#from requests_oauthlib import OAuth2Session\n",
    "from authlib.integrations.requests_client import OAuth2Session\n",
    "import os\n",
    "from urllib.parse import urlparse"
   ]
  },
  {
   "cell_type": "code",
   "execution_count": 5,
   "id": "f908e645-0896-4c47-9eba-aec60d72700e",
   "metadata": {},
   "outputs": [],
   "source": [
    "# Your credentials\n",
    "client_id = os.environ[\"WHOOP_CLIENT_ID\"]\n",
    "client_secret = os.environ[\"WHOOP_CLIENT_SECRET\"]\n",
    "redirect_uri = \"https://00b4-185-187-168-37.ngrok-free.app/whoop_login\""
   ]
  },
  {
   "cell_type": "code",
   "execution_count": 9,
   "id": "77c6f259-d28d-4243-8fa4-7fa1a19e77dd",
   "metadata": {},
   "outputs": [],
   "source": [
    "parsed_url = urlparse(Configuration().host)\n",
    "base_url = f\"{parsed_url.scheme}://{parsed_url.netloc}\"\n",
    "auth_url = f\"{base_url}/oauth/oauth2/auth\"\n",
    "token_url = f\"{base_url}/oauth/oauth2/token\""
   ]
  },
  {
   "cell_type": "code",
   "execution_count": 11,
   "id": "64775969-3249-47e7-877e-90b2900b1e62",
   "metadata": {},
   "outputs": [],
   "source": [
    "scope = [\n",
    "    \"offline\",\n",
    "    \"read:recovery\",\n",
    "    \"read:cycles\",\n",
    "    \"read:workout\",\n",
    "    \"read:sleep\",\n",
    "    \"read:profile\",\n",
    "    \"read:body_measurement\",\n",
    "]"
   ]
  },
  {
   "cell_type": "code",
   "execution_count": 16,
   "id": "26cf1ced-fae9-4c0c-b99d-9b63e1488546",
   "metadata": {},
   "outputs": [],
   "source": [
    "# Create an OAuth2 session\n",
    "#whoop = OAuth2Session(client_id, redirect_uri=redirect_uri, scope=scope)\n",
    "whoop = OAuth2Session(client_id, client_secret, scope=scope, token_endpoint_auth_method=token_endpoint_auth_method)"
   ]
  },
  {
   "cell_type": "code",
   "execution_count": 24,
   "id": "4647e178-7552-45a4-9ae4-eb5ae429d5db",
   "metadata": {},
   "outputs": [],
   "source": [
    "authorization_url, state = whoop.create_authorization_url(auth_url)"
   ]
  },
  {
   "cell_type": "code",
   "execution_count": 25,
   "id": "047f49d7-5703-4517-8968-b9b664acebc6",
   "metadata": {},
   "outputs": [
    {
     "name": "stdout",
     "output_type": "stream",
     "text": [
      "Please go to https://api.prod.whoop.com/oauth/oauth2/auth?response_type=code&client_id=49dfce1e-f2c5-4cb6-9c11-c15f6ea6ee58&redirect_uri=https%3A%2F%2F00b4-185-187-168-37.ngrok-free.app%2Fwhoop_login&scope=offline+read%3Arecovery+read%3Acycles+read%3Aworkout+read%3Asleep+read%3Aprofile+read%3Abody_measurement&state=ewVhZuE3VRrFsdQ7XRcPWbj4jZ5MZp and authorize access.\n"
     ]
    }
   ],
   "source": [
    "# Redirect user to authorization URL\n",
    "# In a web application, you would redirect the user to this URL\n",
    "print(f\"Please go to {authorization_url} and authorize access.\")"
   ]
  },
  {
   "cell_type": "code",
   "execution_count": 21,
   "id": "89846c0d-f8fd-46b0-ab40-2c6da24fbca4",
   "metadata": {},
   "outputs": [
    {
     "name": "stdin",
     "output_type": "stream",
     "text": [
      "Enter the full callback URL:  https://00b4-185-187-168-37.ngrok-free.app/whoop_login?code=hs2J1Ip38gdUnmavsn3-5p0gx8vGAWMlYBJkkyX9seo.FXUwZWLSTn3drAoQDnNgwWL0g9WWCcR8vQX14UEMxVk&scope=offline%20read%3Arecovery%20read%3Acycles%20read%3Aworkout%20read%3Asleep%20read%3Aprofile%20read%3Abody_measurement&state=55QBK83OJVddlMlXA4xhMiisSpwcM7\n"
     ]
    }
   ],
   "source": [
    "# Get the authorization response URL (in a real application, this would be the redirect URL)\n",
    "# For example, after user authorization, you might get something like:\n",
    "# https://00b4-185-187-168-37.ngrok-free.app/whoop_login?code=AUTHORIZATION_CODE\n",
    "authorization_response = input('Enter the full callback URL: ')"
   ]
  },
  {
   "cell_type": "code",
   "execution_count": 19,
   "id": "d4cdd4e4-2168-45fd-84b5-415d407e0722",
   "metadata": {},
   "outputs": [],
   "source": [
    "authorization_response = \"whoop_login?code=1T8I86sCpU-zf1RutLHSkdUN7JS0ZKsEUgnp7glKtJA.w33SCr51r0688LReWMNpejqks8tzDpKLwSrkicHrTnU&scope=offline%20read%3Arecovery%20read%3Acycles%20read%3Aworkout%20read%3Asleep%20read%3Aprofile%20read%3Abody_measurement&state=hIvZO8biNOj18ibpRLvU97KE69wKe4\""
   ]
  },
  {
   "cell_type": "code",
   "execution_count": 22,
   "id": "1b0606a7-5aa4-4cbc-b320-687d691d021a",
   "metadata": {},
   "outputs": [],
   "source": [
    "token = whoop.fetch_token(token_url, authorization_response=authorization_response)"
   ]
  },
  {
   "cell_type": "code",
   "execution_count": null,
   "id": "953671be-f308-4515-a5e1-7e604b5ee4e8",
   "metadata": {},
   "outputs": [],
   "source": []
  },
  {
   "cell_type": "code",
   "execution_count": 23,
   "id": "ee8f6a57-9fdb-492e-a7a2-0d48d546df2f",
   "metadata": {},
   "outputs": [
    {
     "data": {
      "text/plain": [
       "{'access_token': '0X06qOXprN1iraO6GVl35oEUVM36eeHh624u7NXPYGU.Md4qDOVAU_L6-lhtcByWVMXGyoKtpNvR5S3ZXLuwcRU',\n",
       " 'expires_in': 3600,\n",
       " 'refresh_token': '9fDc4nf8KtoYqM5udacHnKmQiZAB3Ol5ZlP4OgPgMP4.6jMjXuX6XFpbpgGNtFjE-q8pRJpSNq0ZPFrgJ86LNpQ',\n",
       " 'scope': 'offline read:recovery read:cycles read:workout read:sleep read:profile read:body_measurement',\n",
       " 'token_type': 'bearer',\n",
       " 'expires_at': 1699821631}"
      ]
     },
     "execution_count": 23,
     "metadata": {},
     "output_type": "execute_result"
    }
   ],
   "source": [
    "token"
   ]
  },
  {
   "cell_type": "code",
   "execution_count": 24,
   "id": "3b4b867b-e365-4aa9-976e-b7a2ee203369",
   "metadata": {},
   "outputs": [],
   "source": [
    "import whoop_client\n",
    "from whoop_client.rest import ApiException"
   ]
  },
  {
   "cell_type": "code",
   "execution_count": 27,
   "id": "675b4051-6468-4c93-8334-c9c060b13397",
   "metadata": {},
   "outputs": [],
   "source": [
    "configuration = whoop_client.Configuration(access_token=token[\"access_token\"])"
   ]
  },
  {
   "cell_type": "code",
   "execution_count": 28,
   "id": "f1a40245-4887-43e5-845b-f2cc9f5036da",
   "metadata": {},
   "outputs": [
    {
     "data": {
      "text/plain": [
       "'https://api.prod.whoop.com/developer'"
      ]
     },
     "execution_count": 28,
     "metadata": {},
     "output_type": "execute_result"
    }
   ],
   "source": [
    "configuration.host"
   ]
  },
  {
   "cell_type": "code",
   "execution_count": 29,
   "id": "1cd0408c-13e7-47ce-9e04-3fd313bb56bc",
   "metadata": {},
   "outputs": [],
   "source": [
    "api_client = whoop_client.ApiClient(configuration)"
   ]
  },
  {
   "cell_type": "code",
   "execution_count": 33,
   "id": "c7ea91b1-7120-4c8b-8e78-30d85ecf78b2",
   "metadata": {},
   "outputs": [],
   "source": [
    "api_instance = whoop_client.UserApi(api_client)"
   ]
  },
  {
   "cell_type": "code",
   "execution_count": 34,
   "id": "672abd24-f0e2-4b3d-8ee0-389e835d022b",
   "metadata": {},
   "outputs": [],
   "source": [
    "api_response = api_instance.get_body_measurement()"
   ]
  },
  {
   "cell_type": "code",
   "execution_count": 35,
   "id": "9aff68cc-ab71-464f-9332-3707631615e7",
   "metadata": {},
   "outputs": [
    {
     "data": {
      "text/plain": [
       "UserBodyMeasurement(height_meter=1.7526, weight_kilogram=68.0388, max_heart_rate=176)"
      ]
     },
     "execution_count": 35,
     "metadata": {},
     "output_type": "execute_result"
    }
   ],
   "source": [
    "api_response"
   ]
  },
  {
   "cell_type": "code",
   "execution_count": 36,
   "id": "13ae101f-8bdd-49dd-96a0-45f78ac159c5",
   "metadata": {},
   "outputs": [],
   "source": [
    "configuration = whoop_client.Configuration()"
   ]
  },
  {
   "cell_type": "code",
   "execution_count": 38,
   "id": "b848ae83-66b3-416b-a488-201ddbf9cfad",
   "metadata": {},
   "outputs": [],
   "source": [
    "from urllib.parse import urlparse"
   ]
  },
  {
   "cell_type": "code",
   "execution_count": 39,
   "id": "cf47abb8-143a-4560-88a7-7d8d497a43d1",
   "metadata": {},
   "outputs": [
    {
     "data": {
      "text/plain": [
       "'https://api.prod.whoop.com/developer'"
      ]
     },
     "execution_count": 39,
     "metadata": {},
     "output_type": "execute_result"
    }
   ],
   "source": [
    "configuration.host"
   ]
  },
  {
   "cell_type": "code",
   "execution_count": 41,
   "id": "d96f9bbd-bc55-4453-9e23-b7ee99fa4f1a",
   "metadata": {},
   "outputs": [],
   "source": [
    "parsed_url = urlparse(configuration.host)"
   ]
  },
  {
   "cell_type": "code",
   "execution_count": 42,
   "id": "5f54ac03-d30d-49ec-a9ae-b87f422a9bf7",
   "metadata": {},
   "outputs": [
    {
     "data": {
      "text/plain": [
       "'https://api.prod.whoop.com'"
      ]
     },
     "execution_count": 42,
     "metadata": {},
     "output_type": "execute_result"
    }
   ],
   "source": [
    "f\"{parsed_url.scheme}://{parsed_url.netloc}\""
   ]
  },
  {
   "cell_type": "markdown",
   "id": "378f6dab-a2ff-428f-9930-44b57d7ce352",
   "metadata": {},
   "source": [
    "# Using lib"
   ]
  },
  {
   "cell_type": "code",
   "execution_count": 1,
   "id": "32ff4d54-9039-4055-a09f-ea2b34abcde1",
   "metadata": {},
   "outputs": [],
   "source": [
    "from sleepmate.executor import *\n",
    "from sleepmate.whoop import *"
   ]
  },
  {
   "cell_type": "code",
   "execution_count": 2,
   "id": "c38ddfce-8650-4fb6-a6d5-252733ba3f50",
   "metadata": {},
   "outputs": [],
   "source": [
    "username=\"test\""
   ]
  },
  {
   "cell_type": "code",
   "execution_count": 3,
   "id": "1419a03d-cdfe-4604-82ce-89058026d785",
   "metadata": {},
   "outputs": [],
   "source": [
    "x = X(username=username, hello=None)"
   ]
  },
  {
   "cell_type": "code",
   "execution_count": 34,
   "id": "b7d87114-bd2e-49f5-b6dd-d282ff6506fe",
   "metadata": {},
   "outputs": [
    {
     "data": {
      "text/plain": [
       "'https://api.prod.whoop.com/oauth/oauth2/auth?response_type=code&client_id=49dfce1e-f2c5-4cb6-9c11-c15f6ea6ee58&redirect_uri=https%3A%2F%2F00b4-185-187-168-37.ngrok-free.app%2Fwhoop_login&scope=offline+read%3Arecovery+read%3Acycles+read%3Aworkout+read%3Asleep+read%3Aprofile+read%3Abody_measurement&state=EcPjtyOGIDXT62kNVO86ag4wK5bsWg'"
      ]
     },
     "execution_count": 34,
     "metadata": {},
     "output_type": "execute_result"
    }
   ],
   "source": [
    "authorization_url = get_whoop_auth_url(x.db_user_id); authorization_url"
   ]
  },
  {
   "cell_type": "code",
   "execution_count": 31,
   "id": "dfedd200-cd07-4a2d-8fcb-4adc52fc052f",
   "metadata": {},
   "outputs": [
    {
     "data": {
      "text/plain": [
       "SON([('_id', ObjectId('655140c95586995c8a15ab58')), ('user', ObjectId('653838c321f81e21a72df700')), ('state', 'DzGGInB8qguPNnA6vlXM8f2njvGUZs'), ('access_token', 'M6d9dPlFXh5OjbzBqg_CS2nf8HUZZ2hdSOn6jm51uN0.gUFfccOTTkWJ2LZ2cMWeUe5EZOtpQ7ymB9X74L7fd4E'), ('expires_in', 3599), ('refresh_token', 'S10mOMUY8gwuAZICaGu2WnUMJYHifi7yA-euGU4EQeE.RQda_9r3-lk6EMuDgr8bugD4G7Txi5kUGttLzJO0E1k'), ('scope', 'offline read:recovery read:cycles read:workout read:sleep read:profile read:body_measurement'), ('token_type', 'bearer'), ('expires_at', 1699890415)])"
      ]
     },
     "execution_count": 31,
     "metadata": {},
     "output_type": "execute_result"
    }
   ],
   "source": [
    "db_token = get_whoop_token(user=x.db_user_id); db_token.to_mongo()"
   ]
  },
  {
   "cell_type": "code",
   "execution_count": 8,
   "id": "cdbae89a-befe-44bb-b3d3-835c042eaf46",
   "metadata": {},
   "outputs": [
    {
     "data": {
      "text/plain": [
       "SON([('user', ObjectId('653838c321f81e21a72df700')), ('date', datetime.datetime(2023, 11, 13, 9, 55, 57, 881689)), ('height', 1.7526), ('weight', 68.0388)])"
      ]
     },
     "execution_count": 8,
     "metadata": {},
     "output_type": "execute_result"
    }
   ],
   "source": [
    "bmi = get_whoop_body_measures(x.db_user_id); bmi.to_mongo()"
   ]
  },
  {
   "cell_type": "code",
   "execution_count": 3,
   "id": "18069461-4641-4b25-bbf0-d42c496c781f",
   "metadata": {},
   "outputs": [],
   "source": [
    "import whoop_client"
   ]
  },
  {
   "cell_type": "code",
   "execution_count": 5,
   "id": "7978746a-6f5d-430f-8bbd-c63bfca02883",
   "metadata": {
    "scrolled": true
   },
   "outputs": [],
   "source": [
    "x = X(username=username, goal=\"whoop\", fixed_goal=True, hello=None)"
   ]
  },
  {
   "cell_type": "code",
   "execution_count": 4,
   "id": "7fe764b8-5b4a-45ce-a0a6-cc468d942b42",
   "metadata": {},
   "outputs": [],
   "source": [
    "api_client = get_whoop_api_client(x.db_user_id)"
   ]
  },
  {
   "cell_type": "code",
   "execution_count": 5,
   "id": "66e01668-531b-4f66-9cda-cc77888a6c4d",
   "metadata": {},
   "outputs": [],
   "source": [
    "api_instance = whoop_client.UserApi(api_client)"
   ]
  },
  {
   "cell_type": "code",
   "execution_count": 6,
   "id": "bf0b9be0-2b94-463a-948a-c6c36373c453",
   "metadata": {},
   "outputs": [
    {
     "ename": "UnauthorizedException",
     "evalue": "(401)\nReason: Unauthorized\nHTTP response headers: HTTPHeaderDict({'Date': 'Tue, 14 Nov 2023 21:36:32 GMT', 'Content-Type': 'application/json', 'Content-Length': '27', 'Connection': 'keep-alive', 'CF-Cache-Status': 'DYNAMIC', 'Server': 'cloudflare', 'CF-RAY': '826263fb7dc6aab1-SJC'})\nHTTP response body: Authorization was not valid\n",
     "output_type": "error",
     "traceback": [
      "\u001b[0;31m---------------------------------------------------------------------------\u001b[0m",
      "\u001b[0;31mUnauthorizedException\u001b[0m                     Traceback (most recent call last)",
      "Cell \u001b[0;32mIn[6], line 1\u001b[0m\n\u001b[0;32m----> 1\u001b[0m api_response \u001b[38;5;241m=\u001b[39m api_instance\u001b[38;5;241m.\u001b[39mget_profile_basic(); api_response\n",
      "File \u001b[0;32m~/Library/Caches/pypoetry/virtualenvs/sleepmate-kok1GflL-py3.11/lib/python3.11/site-packages/pydantic/_internal/_validate_call.py:100\u001b[0m, in \u001b[0;36mValidateCallWrapper.__call__\u001b[0;34m(self, *args, **kwargs)\u001b[0m\n\u001b[1;32m     99\u001b[0m \u001b[38;5;28;01mdef\u001b[39;00m \u001b[38;5;21m__call__\u001b[39m(\u001b[38;5;28mself\u001b[39m, \u001b[38;5;241m*\u001b[39margs: Any, \u001b[38;5;241m*\u001b[39m\u001b[38;5;241m*\u001b[39mkwargs: Any) \u001b[38;5;241m-\u001b[39m\u001b[38;5;241m>\u001b[39m Any:\n\u001b[0;32m--> 100\u001b[0m     res \u001b[38;5;241m=\u001b[39m \u001b[38;5;28;43mself\u001b[39;49m\u001b[38;5;241;43m.\u001b[39;49m\u001b[43m__pydantic_validator__\u001b[49m\u001b[38;5;241;43m.\u001b[39;49m\u001b[43mvalidate_python\u001b[49m\u001b[43m(\u001b[49m\u001b[43mpydantic_core\u001b[49m\u001b[38;5;241;43m.\u001b[39;49m\u001b[43mArgsKwargs\u001b[49m\u001b[43m(\u001b[49m\u001b[43margs\u001b[49m\u001b[43m,\u001b[49m\u001b[43m \u001b[49m\u001b[43mkwargs\u001b[49m\u001b[43m)\u001b[49m\u001b[43m)\u001b[49m\n\u001b[1;32m    101\u001b[0m     \u001b[38;5;28;01mif\u001b[39;00m \u001b[38;5;28mself\u001b[39m\u001b[38;5;241m.\u001b[39m__return_pydantic_validator__:\n\u001b[1;32m    102\u001b[0m         \u001b[38;5;28;01mreturn\u001b[39;00m \u001b[38;5;28mself\u001b[39m\u001b[38;5;241m.\u001b[39m__return_pydantic_validator__(res)\n",
      "File \u001b[0;32m~/Library/Caches/pypoetry/virtualenvs/sleepmate-kok1GflL-py3.11/lib/python3.11/site-packages/whoop_client/api/user_api.py:368\u001b[0m, in \u001b[0;36mUserApi.get_profile_basic\u001b[0;34m(self, _request_timeout, _request_auth, _content_type, _headers, _host_index)\u001b[0m\n\u001b[1;32m    363\u001b[0m response_data \u001b[38;5;241m=\u001b[39m \u001b[38;5;28mself\u001b[39m\u001b[38;5;241m.\u001b[39mapi_client\u001b[38;5;241m.\u001b[39mcall_api(\n\u001b[1;32m    364\u001b[0m     \u001b[38;5;241m*\u001b[39m_param,\n\u001b[1;32m    365\u001b[0m     _request_timeout\u001b[38;5;241m=\u001b[39m_request_timeout\n\u001b[1;32m    366\u001b[0m )\n\u001b[1;32m    367\u001b[0m response_data\u001b[38;5;241m.\u001b[39mread()\n\u001b[0;32m--> 368\u001b[0m \u001b[38;5;28;01mreturn\u001b[39;00m \u001b[38;5;28;43mself\u001b[39;49m\u001b[38;5;241;43m.\u001b[39;49m\u001b[43mapi_client\u001b[49m\u001b[38;5;241;43m.\u001b[39;49m\u001b[43mresponse_deserialize\u001b[49m\u001b[43m(\u001b[49m\n\u001b[1;32m    369\u001b[0m \u001b[43m    \u001b[49m\u001b[43mresponse_data\u001b[49m\u001b[38;5;241;43m=\u001b[39;49m\u001b[43mresponse_data\u001b[49m\u001b[43m,\u001b[49m\n\u001b[1;32m    370\u001b[0m \u001b[43m    \u001b[49m\u001b[43mresponse_types_map\u001b[49m\u001b[38;5;241;43m=\u001b[39;49m\u001b[43m_response_types_map\u001b[49m\u001b[43m,\u001b[49m\n\u001b[1;32m    371\u001b[0m \u001b[43m\u001b[49m\u001b[43m)\u001b[49m\u001b[38;5;241m.\u001b[39mdata\n",
      "File \u001b[0;32m~/Library/Caches/pypoetry/virtualenvs/sleepmate-kok1GflL-py3.11/lib/python3.11/site-packages/whoop_client/api_client.py:304\u001b[0m, in \u001b[0;36mApiClient.response_deserialize\u001b[0;34m(self, response_data, response_types_map)\u001b[0m\n\u001b[1;32m    301\u001b[0m     \u001b[38;5;28;01mraise\u001b[39;00m BadRequestException(http_resp\u001b[38;5;241m=\u001b[39mresponse_data)\n\u001b[1;32m    303\u001b[0m \u001b[38;5;28;01mif\u001b[39;00m response_data\u001b[38;5;241m.\u001b[39mstatus \u001b[38;5;241m==\u001b[39m \u001b[38;5;241m401\u001b[39m:\n\u001b[0;32m--> 304\u001b[0m     \u001b[38;5;28;01mraise\u001b[39;00m UnauthorizedException(http_resp\u001b[38;5;241m=\u001b[39mresponse_data)\n\u001b[1;32m    306\u001b[0m \u001b[38;5;28;01mif\u001b[39;00m response_data\u001b[38;5;241m.\u001b[39mstatus \u001b[38;5;241m==\u001b[39m \u001b[38;5;241m403\u001b[39m:\n\u001b[1;32m    307\u001b[0m     \u001b[38;5;28;01mraise\u001b[39;00m ForbiddenException(http_resp\u001b[38;5;241m=\u001b[39mresponse_data)\n",
      "\u001b[0;31mUnauthorizedException\u001b[0m: (401)\nReason: Unauthorized\nHTTP response headers: HTTPHeaderDict({'Date': 'Tue, 14 Nov 2023 21:36:32 GMT', 'Content-Type': 'application/json', 'Content-Length': '27', 'Connection': 'keep-alive', 'CF-Cache-Status': 'DYNAMIC', 'Server': 'cloudflare', 'CF-RAY': '826263fb7dc6aab1-SJC'})\nHTTP response body: Authorization was not valid\n"
     ]
    }
   ],
   "source": [
    "api_response = api_instance.get_profile_basic(); api_response"
   ]
  },
  {
   "cell_type": "code",
   "execution_count": 10,
   "id": "2ec92c92-d594-4877-b0ec-6ed12ba0a96e",
   "metadata": {},
   "outputs": [],
   "source": [
    "api_instance = whoop_client.SleepApi(api_client)"
   ]
  },
  {
   "cell_type": "code",
   "execution_count": 11,
   "id": "9c84afa4-c3ef-45bd-9502-6fb7f6565b92",
   "metadata": {},
   "outputs": [
    {
     "data": {
      "text/plain": [
       "PaginatedSleepResponse(records=[Sleep(id=832441927, user_id=13013465, created_at=datetime.datetime(2023, 11, 13, 14, 32, 44, 234000, tzinfo=TzInfo(UTC)), updated_at=datetime.datetime(2023, 11, 13, 14, 32, 48, 738000, tzinfo=TzInfo(UTC)), start=datetime.datetime(2023, 11, 13, 5, 20, 44, 78000, tzinfo=TzInfo(UTC)), end=datetime.datetime(2023, 11, 13, 14, 11, 22, 571000, tzinfo=TzInfo(UTC)), timezone_offset='-08:00', nap=False, score_state='SCORED', score=SleepScore(stage_summary=SleepStageSummary(total_in_bed_time_milli=31030025, total_awake_time_milli=2739703, total_no_data_time_milli=0, total_light_sleep_time_milli=17475564, total_slow_wave_sleep_time_milli=8392269, total_rem_sleep_time_milli=2422489, sleep_cycle_count=2, disturbance_count=12), sleep_needed=SleepNeeded(baseline_milli=26863978, need_from_sleep_debt_milli=2224443, need_from_recent_strain_milli=489303, need_from_recent_nap_milli=0), respiratory_rate=12.949219, sleep_performance_percentage=96.0, sleep_consistency_percentage=85.0, sleep_efficiency_percentage=92.809685)), Sleep(id=831343160, user_id=13013465, created_at=datetime.datetime(2023, 11, 12, 12, 53, 26, 987000, tzinfo=TzInfo(UTC)), updated_at=datetime.datetime(2023, 11, 12, 12, 53, 31, 281000, tzinfo=TzInfo(UTC)), start=datetime.datetime(2023, 11, 12, 5, 6, 45, 774000, tzinfo=TzInfo(UTC)), end=datetime.datetime(2023, 11, 12, 12, 44, 20, 810000, tzinfo=TzInfo(UTC)), timezone_offset='-08:00', nap=False, score_state='SCORED', score=SleepScore(stage_summary=SleepStageSummary(total_in_bed_time_milli=27367558, total_awake_time_milli=2451324, total_no_data_time_milli=0, total_light_sleep_time_milli=14217793, total_slow_wave_sleep_time_milli=7498221, total_rem_sleep_time_milli=3200220, sleep_cycle_count=3, disturbance_count=12), sleep_needed=SleepNeeded(baseline_milli=26864026, need_from_sleep_debt_milli=1397906, need_from_recent_strain_milli=1103187, need_from_recent_nap_milli=0), respiratory_rate=13.0078125, sleep_performance_percentage=85.0, sleep_consistency_percentage=None, sleep_efficiency_percentage=92.11066)), Sleep(id=830293207, user_id=13013465, created_at=datetime.datetime(2023, 11, 11, 10, 59, 53, 829000, tzinfo=TzInfo(UTC)), updated_at=datetime.datetime(2023, 11, 11, 14, 42, 37, 490000, tzinfo=TzInfo(UTC)), start=datetime.datetime(2023, 11, 11, 5, 11, 32, 230000, tzinfo=TzInfo(UTC)), end=datetime.datetime(2023, 11, 11, 14, 30, 32, 268000, tzinfo=TzInfo(UTC)), timezone_offset='-08:00', nap=False, score_state='SCORED', score=SleepScore(stage_summary=SleepStageSummary(total_in_bed_time_milli=33308351, total_awake_time_milli=4066298, total_no_data_time_milli=0, total_light_sleep_time_milli=11420379, total_slow_wave_sleep_time_milli=8161496, total_rem_sleep_time_milli=9660178, sleep_cycle_count=8, disturbance_count=11), sleep_needed=SleepNeeded(baseline_milli=28974823, need_from_sleep_debt_milli=0, need_from_recent_strain_milli=3063042, need_from_recent_nap_milli=0), respiratory_rate=12.0703125, sleep_performance_percentage=91.0, sleep_consistency_percentage=None, sleep_efficiency_percentage=88.713684))], next_token=None)"
      ]
     },
     "execution_count": 11,
     "metadata": {},
     "output_type": "execute_result"
    }
   ],
   "source": [
    "api_response = api_instance.get_sleep_collection(); api_response"
   ]
  },
  {
   "cell_type": "code",
   "execution_count": 12,
   "id": "81ac87ba-43dc-46f3-a51d-608d875ea736",
   "metadata": {},
   "outputs": [
    {
     "data": {
      "text/plain": [
       "Sleep(id=832441927, user_id=13013465, created_at=datetime.datetime(2023, 11, 13, 14, 32, 44, 234000, tzinfo=TzInfo(UTC)), updated_at=datetime.datetime(2023, 11, 13, 14, 32, 48, 738000, tzinfo=TzInfo(UTC)), start=datetime.datetime(2023, 11, 13, 5, 20, 44, 78000, tzinfo=TzInfo(UTC)), end=datetime.datetime(2023, 11, 13, 14, 11, 22, 571000, tzinfo=TzInfo(UTC)), timezone_offset='-08:00', nap=False, score_state='SCORED', score=SleepScore(stage_summary=SleepStageSummary(total_in_bed_time_milli=31030025, total_awake_time_milli=2739703, total_no_data_time_milli=0, total_light_sleep_time_milli=17475564, total_slow_wave_sleep_time_milli=8392269, total_rem_sleep_time_milli=2422489, sleep_cycle_count=2, disturbance_count=12), sleep_needed=SleepNeeded(baseline_milli=26863978, need_from_sleep_debt_milli=2224443, need_from_recent_strain_milli=489303, need_from_recent_nap_milli=0), respiratory_rate=12.949219, sleep_performance_percentage=96.0, sleep_consistency_percentage=85.0, sleep_efficiency_percentage=92.809685))"
      ]
     },
     "execution_count": 12,
     "metadata": {},
     "output_type": "execute_result"
    }
   ],
   "source": [
    "sleep = api_response.records[0]; sleep"
   ]
  },
  {
   "cell_type": "code",
   "execution_count": 13,
   "id": "60b8eba2-01e7-4242-90b5-9e89ac96d079",
   "metadata": {},
   "outputs": [
    {
     "data": {
      "text/plain": [
       "whoop_client.models.sleep.Sleep"
      ]
     },
     "execution_count": 13,
     "metadata": {},
     "output_type": "execute_result"
    }
   ],
   "source": [
    "type(sleep)"
   ]
  },
  {
   "cell_type": "code",
   "execution_count": 26,
   "id": "f43ff80d-71cb-400b-a78e-40a7d31655d0",
   "metadata": {},
   "outputs": [
    {
     "data": {
      "text/plain": [
       "SleepStageSummary(total_in_bed_time_milli=31030025, total_awake_time_milli=2739703, total_no_data_time_milli=0, total_light_sleep_time_milli=17475564, total_slow_wave_sleep_time_milli=8392269, total_rem_sleep_time_milli=2422489, sleep_cycle_count=2, disturbance_count=12)"
      ]
     },
     "execution_count": 26,
     "metadata": {},
     "output_type": "execute_result"
    }
   ],
   "source": [
    "sleep.score.stage_summary"
   ]
  },
  {
   "cell_type": "code",
   "execution_count": 17,
   "id": "efc6f2b6-a56f-4244-8e7c-37e076016600",
   "metadata": {},
   "outputs": [],
   "source": [
    "from sleepmate.helpful_scripts import json_dumps"
   ]
  },
  {
   "cell_type": "code",
   "execution_count": 22,
   "id": "1c62d4ad-6b54-466d-bf2e-50f1baac8af7",
   "metadata": {},
   "outputs": [
    {
     "data": {
      "text/plain": [
       "{'id': 832441927,\n",
       " 'user_id': 13013465,\n",
       " 'created_at': datetime.datetime(2023, 11, 13, 14, 32, 44, 234000, tzinfo=TzInfo(UTC)),\n",
       " 'updated_at': datetime.datetime(2023, 11, 13, 14, 32, 48, 738000, tzinfo=TzInfo(UTC)),\n",
       " 'start': datetime.datetime(2023, 11, 13, 5, 20, 44, 78000, tzinfo=TzInfo(UTC)),\n",
       " 'end': datetime.datetime(2023, 11, 13, 14, 11, 22, 571000, tzinfo=TzInfo(UTC)),\n",
       " 'timezone_offset': '-08:00',\n",
       " 'nap': False,\n",
       " 'score_state': 'SCORED',\n",
       " 'score': {'stage_summary': {'total_in_bed_time_milli': 31030025,\n",
       "   'total_awake_time_milli': 2739703,\n",
       "   'total_no_data_time_milli': 0,\n",
       "   'total_light_sleep_time_milli': 17475564,\n",
       "   'total_slow_wave_sleep_time_milli': 8392269,\n",
       "   'total_rem_sleep_time_milli': 2422489,\n",
       "   'sleep_cycle_count': 2,\n",
       "   'disturbance_count': 12},\n",
       "  'sleep_needed': {'baseline_milli': 26863978,\n",
       "   'need_from_sleep_debt_milli': 2224443,\n",
       "   'need_from_recent_strain_milli': 489303,\n",
       "   'need_from_recent_nap_milli': 0},\n",
       "  'respiratory_rate': 12.949219,\n",
       "  'sleep_performance_percentage': 96.0,\n",
       "  'sleep_consistency_percentage': 85.0,\n",
       "  'sleep_efficiency_percentage': 92.809685}}"
      ]
     },
     "execution_count": 22,
     "metadata": {},
     "output_type": "execute_result"
    }
   ],
   "source": [
    "d = sleep.model_dump(); d"
   ]
  },
  {
   "cell_type": "code",
   "execution_count": 23,
   "id": "cceb58eb-85b2-4f55-a174-9fc7434d0e1b",
   "metadata": {},
   "outputs": [
    {
     "data": {
      "text/plain": [
       "'{\"id\": 832441927, \"user_id\": 13013465, \"created_at\": \"2023-11-13T14:32:44.234000+00:00\", \"updated_at\": \"2023-11-13T14:32:48.738000+00:00\", \"start\": \"2023-11-13T05:20:44.078000+00:00\", \"end\": \"2023-11-13T14:11:22.571000+00:00\", \"timezone_offset\": \"-08:00\", \"nap\": false, \"score_state\": \"SCORED\", \"score\": {\"stage_summary\": {\"total_in_bed_time_milli\": 31030025, \"total_awake_time_milli\": 2739703, \"total_no_data_time_milli\": 0, \"total_light_sleep_time_milli\": 17475564, \"total_slow_wave_sleep_time_milli\": 8392269, \"total_rem_sleep_time_milli\": 2422489, \"sleep_cycle_count\": 2, \"disturbance_count\": 12}, \"sleep_needed\": {\"baseline_milli\": 26863978, \"need_from_sleep_debt_milli\": 2224443, \"need_from_recent_strain_milli\": 489303, \"need_from_recent_nap_milli\": 0}, \"respiratory_rate\": 12.949219, \"sleep_performance_percentage\": 96.0, \"sleep_consistency_percentage\": 85.0, \"sleep_efficiency_percentage\": 92.809685}}'"
      ]
     },
     "execution_count": 23,
     "metadata": {},
     "output_type": "execute_result"
    }
   ],
   "source": [
    "json_dumps(d)"
   ]
  },
  {
   "cell_type": "code",
   "execution_count": null,
   "id": "bfe7a1c8-bb7b-4d3b-8947-907c5d081f6b",
   "metadata": {},
   "outputs": [],
   "source": []
  },
  {
   "cell_type": "code",
   "execution_count": 16,
   "id": "2475e68b-9492-4cdd-85e7-4fbf553ecb17",
   "metadata": {},
   "outputs": [],
   "source": [
    "from sleepmate.diary import DBSleepDiaryEntry"
   ]
  },
  {
   "cell_type": "code",
   "execution_count": 20,
   "id": "a2108af3-9bf6-4776-9d56-c0c935ca6eca",
   "metadata": {},
   "outputs": [
    {
     "data": {
      "text/plain": [
       "int"
      ]
     },
     "execution_count": 20,
     "metadata": {},
     "output_type": "execute_result"
    }
   ],
   "source": [
    "type(sleep.id)"
   ]
  },
  {
   "cell_type": "code",
   "execution_count": 27,
   "id": "db52445b-4fae-4aed-930c-291f6f3c0465",
   "metadata": {},
   "outputs": [
    {
     "data": {
      "text/plain": [
       "SON([('user', ObjectId('653838c321f81e21a72df700')), ('date', datetime.datetime(2023, 11, 12, 5, 6, 45, 774000, tzinfo=TzInfo(UTC))), ('in_bed', datetime.datetime(2023, 11, 12, 5, 6, 45, 774000, tzinfo=TzInfo(UTC))), ('tried_to_fall_asleep', None), ('time_to_fall_asleep', datetime.datetime(2023, 11, 12, 5, 6, 45, 774000, tzinfo=TzInfo(UTC))), ('times_awake', 12), ('time_awake', 2451), ('final_wake_up', datetime.datetime(2023, 11, 12, 12, 44, 20, 810000, tzinfo=TzInfo(UTC))), ('out_of_bed', datetime.datetime(2023, 11, 12, 12, 44, 20, 810000, tzinfo=TzInfo(UTC))), ('sleep_quality', None), ('medications', None), ('notes', None)])"
      ]
     },
     "execution_count": 27,
     "metadata": {},
     "output_type": "execute_result"
    }
   ],
   "source": [
    "db_entry = DBSleepDiaryEntry(\n",
    "    user=x.db_user_id,\n",
    "    date=sleep.start,\n",
    "    in_bed=sleep.start,\n",
    "    #tried_to_fall_asleep=sleep.start,\n",
    "    time_to_fall_asleep=sleep.start,\n",
    "    times_awake=sleep.score.stage_summary.disturbance_count,\n",
    "    time_awake=sleep.score.stage_summary.total_awake_time_milli / 1000,\n",
    "    final_wake_up=sleep.end,\n",
    "    out_of_bed=sleep.end); db_entry.to_mongo()"
   ]
  },
  {
   "cell_type": "code",
   "execution_count": 28,
   "id": "d908d56c-398b-4317-8d12-9b7d0713668e",
   "metadata": {},
   "outputs": [
    {
     "ename": "ValidationError",
     "evalue": "ValidationError (SleepDiaryEntry:None) (Field is required: ['tried_to_fall_asleep', 'sleep_quality', 'medications', 'notes'] 2023-11-12 05:06:45.774000+00:00 could not be converted to int: ['time_to_fall_asleep'])",
     "output_type": "error",
     "traceback": [
      "\u001b[0;31m---------------------------------------------------------------------------\u001b[0m",
      "\u001b[0;31mValidationError\u001b[0m                           Traceback (most recent call last)",
      "Cell \u001b[0;32mIn[28], line 1\u001b[0m\n\u001b[0;32m----> 1\u001b[0m \u001b[43mdb_entry\u001b[49m\u001b[38;5;241;43m.\u001b[39;49m\u001b[43msave\u001b[49m\u001b[43m(\u001b[49m\u001b[43m)\u001b[49m\n",
      "File \u001b[0;32m~/Library/Caches/pypoetry/virtualenvs/sleepmate-kok1GflL-py3.11/lib/python3.11/site-packages/mongoengine/document.py:399\u001b[0m, in \u001b[0;36mDocument.save\u001b[0;34m(self, force_insert, validate, clean, write_concern, cascade, cascade_kwargs, _refs, save_condition, signal_kwargs, **kwargs)\u001b[0m\n\u001b[1;32m    396\u001b[0m signals\u001b[38;5;241m.\u001b[39mpre_save\u001b[38;5;241m.\u001b[39msend(\u001b[38;5;28mself\u001b[39m\u001b[38;5;241m.\u001b[39m\u001b[38;5;18m__class__\u001b[39m, document\u001b[38;5;241m=\u001b[39m\u001b[38;5;28mself\u001b[39m, \u001b[38;5;241m*\u001b[39m\u001b[38;5;241m*\u001b[39msignal_kwargs)\n\u001b[1;32m    398\u001b[0m \u001b[38;5;28;01mif\u001b[39;00m validate:\n\u001b[0;32m--> 399\u001b[0m     \u001b[38;5;28;43mself\u001b[39;49m\u001b[38;5;241;43m.\u001b[39;49m\u001b[43mvalidate\u001b[49m\u001b[43m(\u001b[49m\u001b[43mclean\u001b[49m\u001b[38;5;241;43m=\u001b[39;49m\u001b[43mclean\u001b[49m\u001b[43m)\u001b[49m\n\u001b[1;32m    401\u001b[0m \u001b[38;5;28;01mif\u001b[39;00m write_concern \u001b[38;5;129;01mis\u001b[39;00m \u001b[38;5;28;01mNone\u001b[39;00m:\n\u001b[1;32m    402\u001b[0m     write_concern \u001b[38;5;241m=\u001b[39m {}\n",
      "File \u001b[0;32m~/Library/Caches/pypoetry/virtualenvs/sleepmate-kok1GflL-py3.11/lib/python3.11/site-packages/mongoengine/base/document.py:438\u001b[0m, in \u001b[0;36mBaseDocument.validate\u001b[0;34m(self, clean)\u001b[0m\n\u001b[1;32m    436\u001b[0m     pk \u001b[38;5;241m=\u001b[39m \u001b[38;5;28mself\u001b[39m\u001b[38;5;241m.\u001b[39m_instance\u001b[38;5;241m.\u001b[39mpk\n\u001b[1;32m    437\u001b[0m message \u001b[38;5;241m=\u001b[39m \u001b[38;5;124mf\u001b[39m\u001b[38;5;124m\"\u001b[39m\u001b[38;5;124mValidationError (\u001b[39m\u001b[38;5;132;01m{\u001b[39;00m\u001b[38;5;28mself\u001b[39m\u001b[38;5;241m.\u001b[39m_class_name\u001b[38;5;132;01m}\u001b[39;00m\u001b[38;5;124m:\u001b[39m\u001b[38;5;132;01m{\u001b[39;00mpk\u001b[38;5;132;01m}\u001b[39;00m\u001b[38;5;124m) \u001b[39m\u001b[38;5;124m\"\u001b[39m\n\u001b[0;32m--> 438\u001b[0m \u001b[38;5;28;01mraise\u001b[39;00m ValidationError(message, errors\u001b[38;5;241m=\u001b[39merrors)\n",
      "\u001b[0;31mValidationError\u001b[0m: ValidationError (SleepDiaryEntry:None) (Field is required: ['tried_to_fall_asleep', 'sleep_quality', 'medications', 'notes'] 2023-11-12 05:06:45.774000+00:00 could not be converted to int: ['time_to_fall_asleep'])"
     ]
    }
   ],
   "source": [
    "db_entry.save()"
   ]
  },
  {
   "cell_type": "code",
   "execution_count": null,
   "id": "08efa00a-d250-4d22-9156-58439c1842e0",
   "metadata": {},
   "outputs": [],
   "source": []
  }
 ],
 "metadata": {
  "kernelspec": {
   "display_name": "Python 3 (ipykernel)",
   "language": "python",
   "name": "python3"
  },
  "language_info": {
   "codemirror_mode": {
    "name": "ipython",
    "version": 3
   },
   "file_extension": ".py",
   "mimetype": "text/x-python",
   "name": "python",
   "nbconvert_exporter": "python",
   "pygments_lexer": "ipython3",
   "version": "3.11.5"
  }
 },
 "nbformat": 4,
 "nbformat_minor": 5
}
