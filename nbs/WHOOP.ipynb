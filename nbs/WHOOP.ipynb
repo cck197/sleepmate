{
 "cells": [
  {
   "cell_type": "markdown",
   "id": "d05411bd-5a03-4fbb-8bda-32fd71ad5376",
   "metadata": {
    "jp-MarkdownHeadingCollapsed": true
   },
   "source": [
    "# Early scratchpad"
   ]
  },
  {
   "cell_type": "code",
   "execution_count": 1,
   "id": "c67d12fa-3c19-426b-ac0e-028870549392",
   "metadata": {},
   "outputs": [
    {
     "data": {
      "text/plain": [
       "True"
      ]
     },
     "execution_count": 1,
     "metadata": {},
     "output_type": "execute_result"
    }
   ],
   "source": [
    "# Load staging environment\n",
    "from dotenv import load_dotenv\n",
    "load_dotenv(\"../.env\")"
   ]
  },
  {
   "cell_type": "code",
   "execution_count": 8,
   "id": "65963208-a4c6-44f4-ad33-45f6e03353c1",
   "metadata": {},
   "outputs": [],
   "source": [
    "from whoop_client import ApiClient, Configuration"
   ]
  },
  {
   "cell_type": "code",
   "execution_count": 6,
   "id": "8fb58113-03ab-4b27-a14a-361ec282ad72",
   "metadata": {},
   "outputs": [],
   "source": [
    "#from requests_oauthlib import OAuth2Session\n",
    "from authlib.integrations.requests_client import OAuth2Session\n",
    "import os\n",
    "from urllib.parse import urlparse"
   ]
  },
  {
   "cell_type": "code",
   "execution_count": 5,
   "id": "f908e645-0896-4c47-9eba-aec60d72700e",
   "metadata": {},
   "outputs": [],
   "source": [
    "# Your credentials\n",
    "client_id = os.environ[\"WHOOP_CLIENT_ID\"]\n",
    "client_secret = os.environ[\"WHOOP_CLIENT_SECRET\"]\n",
    "redirect_uri = \"https://00b4-185-187-168-37.ngrok-free.app/whoop_login\""
   ]
  },
  {
   "cell_type": "code",
   "execution_count": 9,
   "id": "77c6f259-d28d-4243-8fa4-7fa1a19e77dd",
   "metadata": {},
   "outputs": [],
   "source": [
    "parsed_url = urlparse(Configuration().host)\n",
    "base_url = f\"{parsed_url.scheme}://{parsed_url.netloc}\"\n",
    "auth_url = f\"{base_url}/oauth/oauth2/auth\"\n",
    "token_url = f\"{base_url}/oauth/oauth2/token\""
   ]
  },
  {
   "cell_type": "code",
   "execution_count": 11,
   "id": "64775969-3249-47e7-877e-90b2900b1e62",
   "metadata": {},
   "outputs": [],
   "source": [
    "scope = [\n",
    "    \"offline\",\n",
    "    \"read:recovery\",\n",
    "    \"read:cycles\",\n",
    "    \"read:workout\",\n",
    "    \"read:sleep\",\n",
    "    \"read:profile\",\n",
    "    \"read:body_measurement\",\n",
    "]"
   ]
  },
  {
   "cell_type": "code",
   "execution_count": 16,
   "id": "26cf1ced-fae9-4c0c-b99d-9b63e1488546",
   "metadata": {},
   "outputs": [],
   "source": [
    "# Create an OAuth2 session\n",
    "#whoop = OAuth2Session(client_id, redirect_uri=redirect_uri, scope=scope)\n",
    "whoop = OAuth2Session(client_id, client_secret, scope=scope, token_endpoint_auth_method=token_endpoint_auth_method)"
   ]
  },
  {
   "cell_type": "code",
   "execution_count": 24,
   "id": "4647e178-7552-45a4-9ae4-eb5ae429d5db",
   "metadata": {},
   "outputs": [],
   "source": [
    "authorization_url, state = whoop.create_authorization_url(auth_url)"
   ]
  },
  {
   "cell_type": "code",
   "execution_count": 25,
   "id": "047f49d7-5703-4517-8968-b9b664acebc6",
   "metadata": {},
   "outputs": [
    {
     "name": "stdout",
     "output_type": "stream",
     "text": [
      "Please go to https://api.prod.whoop.com/oauth/oauth2/auth?response_type=code&client_id=49dfce1e-f2c5-4cb6-9c11-c15f6ea6ee58&redirect_uri=https%3A%2F%2F00b4-185-187-168-37.ngrok-free.app%2Fwhoop_login&scope=offline+read%3Arecovery+read%3Acycles+read%3Aworkout+read%3Asleep+read%3Aprofile+read%3Abody_measurement&state=ewVhZuE3VRrFsdQ7XRcPWbj4jZ5MZp and authorize access.\n"
     ]
    }
   ],
   "source": [
    "# Redirect user to authorization URL\n",
    "# In a web application, you would redirect the user to this URL\n",
    "print(f\"Please go to {authorization_url} and authorize access.\")"
   ]
  },
  {
   "cell_type": "code",
   "execution_count": 21,
   "id": "89846c0d-f8fd-46b0-ab40-2c6da24fbca4",
   "metadata": {},
   "outputs": [
    {
     "name": "stdin",
     "output_type": "stream",
     "text": [
      "Enter the full callback URL:  https://00b4-185-187-168-37.ngrok-free.app/whoop_login?code=hs2J1Ip38gdUnmavsn3-5p0gx8vGAWMlYBJkkyX9seo.FXUwZWLSTn3drAoQDnNgwWL0g9WWCcR8vQX14UEMxVk&scope=offline%20read%3Arecovery%20read%3Acycles%20read%3Aworkout%20read%3Asleep%20read%3Aprofile%20read%3Abody_measurement&state=55QBK83OJVddlMlXA4xhMiisSpwcM7\n"
     ]
    }
   ],
   "source": [
    "# Get the authorization response URL (in a real application, this would be the redirect URL)\n",
    "# For example, after user authorization, you might get something like:\n",
    "# https://00b4-185-187-168-37.ngrok-free.app/whoop_login?code=AUTHORIZATION_CODE\n",
    "authorization_response = input('Enter the full callback URL: ')"
   ]
  },
  {
   "cell_type": "code",
   "execution_count": 19,
   "id": "d4cdd4e4-2168-45fd-84b5-415d407e0722",
   "metadata": {},
   "outputs": [],
   "source": [
    "authorization_response = \"whoop_login?code=1T8I86sCpU-zf1RutLHSkdUN7JS0ZKsEUgnp7glKtJA.w33SCr51r0688LReWMNpejqks8tzDpKLwSrkicHrTnU&scope=offline%20read%3Arecovery%20read%3Acycles%20read%3Aworkout%20read%3Asleep%20read%3Aprofile%20read%3Abody_measurement&state=hIvZO8biNOj18ibpRLvU97KE69wKe4\""
   ]
  },
  {
   "cell_type": "code",
   "execution_count": 22,
   "id": "1b0606a7-5aa4-4cbc-b320-687d691d021a",
   "metadata": {},
   "outputs": [],
   "source": [
    "token = whoop.fetch_token(token_url, authorization_response=authorization_response)"
   ]
  },
  {
   "cell_type": "code",
   "execution_count": null,
   "id": "953671be-f308-4515-a5e1-7e604b5ee4e8",
   "metadata": {},
   "outputs": [],
   "source": []
  },
  {
   "cell_type": "code",
   "execution_count": 23,
   "id": "ee8f6a57-9fdb-492e-a7a2-0d48d546df2f",
   "metadata": {},
   "outputs": [
    {
     "data": {
      "text/plain": [
       "{'access_token': '0X06qOXprN1iraO6GVl35oEUVM36eeHh624u7NXPYGU.Md4qDOVAU_L6-lhtcByWVMXGyoKtpNvR5S3ZXLuwcRU',\n",
       " 'expires_in': 3600,\n",
       " 'refresh_token': '9fDc4nf8KtoYqM5udacHnKmQiZAB3Ol5ZlP4OgPgMP4.6jMjXuX6XFpbpgGNtFjE-q8pRJpSNq0ZPFrgJ86LNpQ',\n",
       " 'scope': 'offline read:recovery read:cycles read:workout read:sleep read:profile read:body_measurement',\n",
       " 'token_type': 'bearer',\n",
       " 'expires_at': 1699821631}"
      ]
     },
     "execution_count": 23,
     "metadata": {},
     "output_type": "execute_result"
    }
   ],
   "source": [
    "token"
   ]
  },
  {
   "cell_type": "code",
   "execution_count": 24,
   "id": "3b4b867b-e365-4aa9-976e-b7a2ee203369",
   "metadata": {},
   "outputs": [],
   "source": [
    "import whoop_client\n",
    "from whoop_client.rest import ApiException"
   ]
  },
  {
   "cell_type": "code",
   "execution_count": 27,
   "id": "675b4051-6468-4c93-8334-c9c060b13397",
   "metadata": {},
   "outputs": [],
   "source": [
    "configuration = whoop_client.Configuration(access_token=token[\"access_token\"])"
   ]
  },
  {
   "cell_type": "code",
   "execution_count": 28,
   "id": "f1a40245-4887-43e5-845b-f2cc9f5036da",
   "metadata": {},
   "outputs": [
    {
     "data": {
      "text/plain": [
       "'https://api.prod.whoop.com/developer'"
      ]
     },
     "execution_count": 28,
     "metadata": {},
     "output_type": "execute_result"
    }
   ],
   "source": [
    "configuration.host"
   ]
  },
  {
   "cell_type": "code",
   "execution_count": 29,
   "id": "1cd0408c-13e7-47ce-9e04-3fd313bb56bc",
   "metadata": {},
   "outputs": [],
   "source": [
    "api_client = whoop_client.ApiClient(configuration)"
   ]
  },
  {
   "cell_type": "code",
   "execution_count": 33,
   "id": "c7ea91b1-7120-4c8b-8e78-30d85ecf78b2",
   "metadata": {},
   "outputs": [],
   "source": [
    "api_instance = whoop_client.UserApi(api_client)"
   ]
  },
  {
   "cell_type": "code",
   "execution_count": 34,
   "id": "672abd24-f0e2-4b3d-8ee0-389e835d022b",
   "metadata": {},
   "outputs": [],
   "source": [
    "api_response = api_instance.get_body_measurement()"
   ]
  },
  {
   "cell_type": "code",
   "execution_count": 35,
   "id": "9aff68cc-ab71-464f-9332-3707631615e7",
   "metadata": {},
   "outputs": [
    {
     "data": {
      "text/plain": [
       "UserBodyMeasurement(height_meter=1.7526, weight_kilogram=68.0388, max_heart_rate=176)"
      ]
     },
     "execution_count": 35,
     "metadata": {},
     "output_type": "execute_result"
    }
   ],
   "source": [
    "api_response"
   ]
  },
  {
   "cell_type": "code",
   "execution_count": 36,
   "id": "13ae101f-8bdd-49dd-96a0-45f78ac159c5",
   "metadata": {},
   "outputs": [],
   "source": [
    "configuration = whoop_client.Configuration()"
   ]
  },
  {
   "cell_type": "code",
   "execution_count": 38,
   "id": "b848ae83-66b3-416b-a488-201ddbf9cfad",
   "metadata": {},
   "outputs": [],
   "source": [
    "from urllib.parse import urlparse"
   ]
  },
  {
   "cell_type": "code",
   "execution_count": 39,
   "id": "cf47abb8-143a-4560-88a7-7d8d497a43d1",
   "metadata": {},
   "outputs": [
    {
     "data": {
      "text/plain": [
       "'https://api.prod.whoop.com/developer'"
      ]
     },
     "execution_count": 39,
     "metadata": {},
     "output_type": "execute_result"
    }
   ],
   "source": [
    "configuration.host"
   ]
  },
  {
   "cell_type": "code",
   "execution_count": 41,
   "id": "d96f9bbd-bc55-4453-9e23-b7ee99fa4f1a",
   "metadata": {},
   "outputs": [],
   "source": [
    "parsed_url = urlparse(configuration.host)"
   ]
  },
  {
   "cell_type": "code",
   "execution_count": 42,
   "id": "5f54ac03-d30d-49ec-a9ae-b87f422a9bf7",
   "metadata": {},
   "outputs": [
    {
     "data": {
      "text/plain": [
       "'https://api.prod.whoop.com'"
      ]
     },
     "execution_count": 42,
     "metadata": {},
     "output_type": "execute_result"
    }
   ],
   "source": [
    "f\"{parsed_url.scheme}://{parsed_url.netloc}\""
   ]
  },
  {
   "cell_type": "markdown",
   "id": "378f6dab-a2ff-428f-9930-44b57d7ce352",
   "metadata": {},
   "source": [
    "# Using lib"
   ]
  },
  {
   "cell_type": "code",
   "execution_count": 1,
   "id": "32ff4d54-9039-4055-a09f-ea2b34abcde1",
   "metadata": {},
   "outputs": [],
   "source": [
    "from sleepmate.executor import *\n",
    "from sleepmate.whoop import *"
   ]
  },
  {
   "cell_type": "code",
   "execution_count": 2,
   "id": "c38ddfce-8650-4fb6-a6d5-252733ba3f50",
   "metadata": {},
   "outputs": [],
   "source": [
    "username=\"test\""
   ]
  },
  {
   "cell_type": "code",
   "execution_count": 3,
   "id": "1419a03d-cdfe-4604-82ce-89058026d785",
   "metadata": {},
   "outputs": [],
   "source": [
    "x = X(username=username, hello=None)"
   ]
  },
  {
   "cell_type": "code",
   "execution_count": 9,
   "id": "b7d87114-bd2e-49f5-b6dd-d282ff6506fe",
   "metadata": {},
   "outputs": [
    {
     "data": {
      "text/plain": [
       "'https://api.prod.whoop.com/oauth/oauth2/auth?response_type=code&client_id=49dfce1e-f2c5-4cb6-9c11-c15f6ea6ee58&redirect_uri=https%3A%2F%2F00b4-185-187-168-37.ngrok-free.app%2Fwhoop_login&scope=offline+read%3Arecovery+read%3Acycles+read%3Aworkout+read%3Asleep+read%3Aprofile+read%3Abody_measurement&state=SzKJX1B8Fe4LtYqodrTVETnx9Z8yEQ'"
      ]
     },
     "execution_count": 9,
     "metadata": {},
     "output_type": "execute_result"
    }
   ],
   "source": [
    "authorization_url = get_whoop_auth_url(x.db_user_id); authorization_url"
   ]
  },
  {
   "cell_type": "code",
   "execution_count": 5,
   "id": "dfedd200-cd07-4a2d-8fcb-4adc52fc052f",
   "metadata": {},
   "outputs": [
    {
     "data": {
      "text/plain": [
       "SON([('_id', ObjectId('655140c95586995c8a15ab58')), ('user', ObjectId('653838c321f81e21a72df700')), ('state', 'SzKJX1B8Fe4LtYqodrTVETnx9Z8yEQ'), ('access_token', 'KeG5Y3Xh5xTKCoO0cmc3bkcdUPKgnfEUmZsRqXS27EM._dfxNYlMxJFYz71SOFA4k53J9NiCSe8VWdpWicOK5ks'), ('expires_in', 3600), ('refresh_token', 'NcN2CgaM7ktZfG8UA-FD58gKsT7ovdsUjFYyLSJmppM.c5CRpFYx-b6UJ8m_ReaHvRZ9hP0231YzvbNYojCMdNE'), ('scope', 'offline read:recovery read:cycles read:workout read:sleep read:profile read:body_measurement'), ('token_type', 'bearer'), ('expires_at', 1699827681)])"
      ]
     },
     "execution_count": 5,
     "metadata": {},
     "output_type": "execute_result"
    }
   ],
   "source": [
    "db_token = get_whoop_token(user=x.db_user_id); db_token.to_mongo()"
   ]
  },
  {
   "cell_type": "code",
   "execution_count": 4,
   "id": "cdbae89a-befe-44bb-b3d3-835c042eaf46",
   "metadata": {},
   "outputs": [
    {
     "data": {
      "text/plain": [
       "SON([('user', ObjectId('653838c321f81e21a72df700')), ('date', datetime.datetime(2023, 11, 12, 13, 36, 29, 87808)), ('height', 1.7526), ('weight', 68.0388)])"
      ]
     },
     "execution_count": 4,
     "metadata": {},
     "output_type": "execute_result"
    }
   ],
   "source": [
    "bmi = get_whoop_body_measures(x.db_user_id); bmi.to_mongo()"
   ]
  },
  {
   "cell_type": "code",
   "execution_count": null,
   "id": "7fe764b8-5b4a-45ce-a0a6-cc468d942b42",
   "metadata": {},
   "outputs": [],
   "source": []
  }
 ],
 "metadata": {
  "kernelspec": {
   "display_name": "Python 3 (ipykernel)",
   "language": "python",
   "name": "python3"
  },
  "language_info": {
   "codemirror_mode": {
    "name": "ipython",
    "version": 3
   },
   "file_extension": ".py",
   "mimetype": "text/x-python",
   "name": "python",
   "nbconvert_exporter": "python",
   "pygments_lexer": "ipython3",
   "version": "3.11.5"
  }
 },
 "nbformat": 4,
 "nbformat_minor": 5
}
